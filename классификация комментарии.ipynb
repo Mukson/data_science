{
 "cells": [
  {
   "cell_type": "markdown",
   "metadata": {
    "toc": true
   },
   "source": [
    "<h1>Содержание<span class=\"tocSkip\"></span></h1>\n",
    "<div class=\"toc\"><ul class=\"toc-item\"><li><span><a href=\"#Подготовка\" data-toc-modified-id=\"Подготовка-1\"><span class=\"toc-item-num\">1&nbsp;&nbsp;</span>Подготовка</a></span><ul class=\"toc-item\"><li><span><a href=\"#Лемматизация\" data-toc-modified-id=\"Лемматизация-1.1\"><span class=\"toc-item-num\">1.1&nbsp;&nbsp;</span>Лемматизация</a></span></li><li><span><a href=\"#Баланс-классов\" data-toc-modified-id=\"Баланс-классов-1.2\"><span class=\"toc-item-num\">1.2&nbsp;&nbsp;</span>Баланс классов</a></span></li><li><span><a href=\"#Векторизация-тескта\" data-toc-modified-id=\"Векторизация-тескта-1.3\"><span class=\"toc-item-num\">1.3&nbsp;&nbsp;</span>Векторизация тескта</a></span></li><li><span><a href=\"#Вывод\" data-toc-modified-id=\"Вывод-1.4\"><span class=\"toc-item-num\">1.4&nbsp;&nbsp;</span>Вывод</a></span></li></ul></li><li><span><a href=\"#Обучение\" data-toc-modified-id=\"Обучение-2\"><span class=\"toc-item-num\">2&nbsp;&nbsp;</span>Обучение</a></span><ul class=\"toc-item\"><li><span><a href=\"#Подбор-гиперпараметров\" data-toc-modified-id=\"Подбор-гиперпараметров-2.1\"><span class=\"toc-item-num\">2.1&nbsp;&nbsp;</span>Подбор гиперпараметров</a></span></li><li><span><a href=\"#Проверка-модели-на-тестовой-выборке\" data-toc-modified-id=\"Проверка-модели-на-тестовой-выборке-2.2\"><span class=\"toc-item-num\">2.2&nbsp;&nbsp;</span>Проверка модели на тестовой выборке</a></span></li></ul></li><li><span><a href=\"#Выводы\" data-toc-modified-id=\"Выводы-3\"><span class=\"toc-item-num\">3&nbsp;&nbsp;</span>Выводы</a></span></li></ul></div>"
   ]
  },
  {
   "cell_type": "markdown",
   "metadata": {},
   "source": [
    "# Проект для «Викишоп»"
   ]
  },
  {
   "cell_type": "markdown",
   "metadata": {},
   "source": [
    "Интернет-магазин «Викишоп» запускает новый сервис. Теперь пользователи могут редактировать и дополнять описания товаров, как в вики-сообществах. То есть клиенты предлагают свои правки и комментируют изменения других. Магазину нужен инструмент, который будет искать токсичные комментарии и отправлять их на модерацию. \n",
    "\n",
    "Обучите модель классифицировать комментарии на позитивные и негативные. В вашем распоряжении набор данных с разметкой о токсичности правок.\n",
    "\n",
    "Постройте модель со значением метрики качества *F1* не меньше 0.75. \n",
    "\n",
    "**Инструкция по выполнению проекта**\n",
    "\n",
    "1. Загрузите и подготовьте данные.\n",
    "2. Обучите разные модели. \n",
    "3. Сделайте выводы.\n",
    "\n",
    "Для выполнения проекта применять *BERT* необязательно, но вы можете попробовать.\n",
    "\n",
    "**Описание данных**\n",
    "\n",
    "Данные находятся в файле `toxic_comments.csv`. Столбец *text* в нём содержит текст комментария, а *toxic* — целевой признак."
   ]
  },
  {
   "cell_type": "markdown",
   "metadata": {},
   "source": [
    "## Подготовка"
   ]
  },
  {
   "cell_type": "code",
   "execution_count": 54,
   "metadata": {},
   "outputs": [
    {
     "data": {
      "application/javascript": [
       "IPython.notebook.set_autosave_interval(60000)"
      ]
     },
     "metadata": {},
     "output_type": "display_data"
    },
    {
     "name": "stdout",
     "output_type": "stream",
     "text": [
      "Autosaving every 60 seconds\n"
     ]
    }
   ],
   "source": [
    "%autosave 60"
   ]
  },
  {
   "cell_type": "code",
   "execution_count": 55,
   "metadata": {},
   "outputs": [],
   "source": [
    "import pandas as pd\n",
    "import seaborn as sns\n",
    "import numpy as np\n",
    "import matplotlib.pyplot as plt\n",
    "import time\n",
    "from sklearn.utils import shuffle\n",
    "import numpy as np\n",
    "\n",
    "from tqdm import tqdm\n",
    "\n",
    "import re \n",
    "\n",
    "from sklearn.preprocessing import OrdinalEncoder, StandardScaler\n",
    "from sklearn.metrics import r2_score, mean_absolute_error, make_scorer, classification_report, accuracy_score, confusion_matrix, roc_auc_score, roc_curve, recall_score, precision_score,f1_score, mean_squared_error\n",
    "from sklearn.model_selection import train_test_split,  TimeSeriesSplit, cross_val_predict,cross_val_score, GridSearchCV\n",
    "from sklearn.linear_model import LinearRegression\n",
    "from sklearn.ensemble import RandomForestClassifier, GradientBoostingClassifier\n",
    "from sklearn.tree import DecisionTreeClassifier\n",
    "from catboost import CatBoostClassifier\n",
    "from lightgbm import LGBMClassifier\n",
    "from sklearn.linear_model import LogisticRegression\n",
    "\n",
    "import nltk\n",
    "from nltk.stem import WordNetLemmatizer \n",
    "from nltk.corpus import stopwords as nltk_stopwords\n",
    "from sklearn.feature_extraction.text import TfidfVectorizer\n",
    "\n",
    "import warnings\n",
    "warnings.filterwarnings('ignore')"
   ]
  },
  {
   "cell_type": "code",
   "execution_count": 56,
   "metadata": {},
   "outputs": [],
   "source": [
    "def explore_data(df):\n",
    "    display(\n",
    "        \"Сводная информация:\", df.info(),\n",
    "        \"10 строк:\", df.head(10),\n",
    "        \"Столбцы:\", df.columns,\n",
    "       # \"Числовое описание:\", df.describe(),\n",
    "        \"Сумма пропусков:\", df.isna().sum(),\n",
    "        \"Доля пропусков:\", df.isna().mean(),\n",
    "        \"Явные дубликаты:\", df.duplicated().sum(),\n",
    "        #\"Корреляция:\", df.corr(),\n",
    "       # sns.heatmap(df.corr())\n",
    "    )"
   ]
  },
  {
   "cell_type": "code",
   "execution_count": 57,
   "metadata": {},
   "outputs": [],
   "source": [
    "toxic_comments_df= pd.read_csv('/datasets/toxic_comments.csv')"
   ]
  },
  {
   "cell_type": "code",
   "execution_count": 58,
   "metadata": {
    "scrolled": false
   },
   "outputs": [
    {
     "name": "stdout",
     "output_type": "stream",
     "text": [
      "<class 'pandas.core.frame.DataFrame'>\n",
      "RangeIndex: 159571 entries, 0 to 159570\n",
      "Data columns (total 2 columns):\n",
      " #   Column  Non-Null Count   Dtype \n",
      "---  ------  --------------   ----- \n",
      " 0   text    159571 non-null  object\n",
      " 1   toxic   159571 non-null  int64 \n",
      "dtypes: int64(1), object(1)\n",
      "memory usage: 2.4+ MB\n"
     ]
    },
    {
     "data": {
      "text/plain": [
       "'Сводная информация:'"
      ]
     },
     "metadata": {},
     "output_type": "display_data"
    },
    {
     "data": {
      "text/plain": [
       "None"
      ]
     },
     "metadata": {},
     "output_type": "display_data"
    },
    {
     "data": {
      "text/plain": [
       "'10 строк:'"
      ]
     },
     "metadata": {},
     "output_type": "display_data"
    },
    {
     "data": {
      "text/html": [
       "<div>\n",
       "<style scoped>\n",
       "    .dataframe tbody tr th:only-of-type {\n",
       "        vertical-align: middle;\n",
       "    }\n",
       "\n",
       "    .dataframe tbody tr th {\n",
       "        vertical-align: top;\n",
       "    }\n",
       "\n",
       "    .dataframe thead th {\n",
       "        text-align: right;\n",
       "    }\n",
       "</style>\n",
       "<table border=\"1\" class=\"dataframe\">\n",
       "  <thead>\n",
       "    <tr style=\"text-align: right;\">\n",
       "      <th></th>\n",
       "      <th>text</th>\n",
       "      <th>toxic</th>\n",
       "    </tr>\n",
       "  </thead>\n",
       "  <tbody>\n",
       "    <tr>\n",
       "      <th>0</th>\n",
       "      <td>Explanation\\nWhy the edits made under my usern...</td>\n",
       "      <td>0</td>\n",
       "    </tr>\n",
       "    <tr>\n",
       "      <th>1</th>\n",
       "      <td>D'aww! He matches this background colour I'm s...</td>\n",
       "      <td>0</td>\n",
       "    </tr>\n",
       "    <tr>\n",
       "      <th>2</th>\n",
       "      <td>Hey man, I'm really not trying to edit war. It...</td>\n",
       "      <td>0</td>\n",
       "    </tr>\n",
       "    <tr>\n",
       "      <th>3</th>\n",
       "      <td>\"\\nMore\\nI can't make any real suggestions on ...</td>\n",
       "      <td>0</td>\n",
       "    </tr>\n",
       "    <tr>\n",
       "      <th>4</th>\n",
       "      <td>You, sir, are my hero. Any chance you remember...</td>\n",
       "      <td>0</td>\n",
       "    </tr>\n",
       "    <tr>\n",
       "      <th>5</th>\n",
       "      <td>\"\\n\\nCongratulations from me as well, use the ...</td>\n",
       "      <td>0</td>\n",
       "    </tr>\n",
       "    <tr>\n",
       "      <th>6</th>\n",
       "      <td>COCKSUCKER BEFORE YOU PISS AROUND ON MY WORK</td>\n",
       "      <td>1</td>\n",
       "    </tr>\n",
       "    <tr>\n",
       "      <th>7</th>\n",
       "      <td>Your vandalism to the Matt Shirvington article...</td>\n",
       "      <td>0</td>\n",
       "    </tr>\n",
       "    <tr>\n",
       "      <th>8</th>\n",
       "      <td>Sorry if the word 'nonsense' was offensive to ...</td>\n",
       "      <td>0</td>\n",
       "    </tr>\n",
       "    <tr>\n",
       "      <th>9</th>\n",
       "      <td>alignment on this subject and which are contra...</td>\n",
       "      <td>0</td>\n",
       "    </tr>\n",
       "  </tbody>\n",
       "</table>\n",
       "</div>"
      ],
      "text/plain": [
       "                                                text  toxic\n",
       "0  Explanation\\nWhy the edits made under my usern...      0\n",
       "1  D'aww! He matches this background colour I'm s...      0\n",
       "2  Hey man, I'm really not trying to edit war. It...      0\n",
       "3  \"\\nMore\\nI can't make any real suggestions on ...      0\n",
       "4  You, sir, are my hero. Any chance you remember...      0\n",
       "5  \"\\n\\nCongratulations from me as well, use the ...      0\n",
       "6       COCKSUCKER BEFORE YOU PISS AROUND ON MY WORK      1\n",
       "7  Your vandalism to the Matt Shirvington article...      0\n",
       "8  Sorry if the word 'nonsense' was offensive to ...      0\n",
       "9  alignment on this subject and which are contra...      0"
      ]
     },
     "metadata": {},
     "output_type": "display_data"
    },
    {
     "data": {
      "text/plain": [
       "'Столбцы:'"
      ]
     },
     "metadata": {},
     "output_type": "display_data"
    },
    {
     "data": {
      "text/plain": [
       "Index(['text', 'toxic'], dtype='object')"
      ]
     },
     "metadata": {},
     "output_type": "display_data"
    },
    {
     "data": {
      "text/plain": [
       "'Сумма пропусков:'"
      ]
     },
     "metadata": {},
     "output_type": "display_data"
    },
    {
     "data": {
      "text/plain": [
       "text     0\n",
       "toxic    0\n",
       "dtype: int64"
      ]
     },
     "metadata": {},
     "output_type": "display_data"
    },
    {
     "data": {
      "text/plain": [
       "'Доля пропусков:'"
      ]
     },
     "metadata": {},
     "output_type": "display_data"
    },
    {
     "data": {
      "text/plain": [
       "text     0.0\n",
       "toxic    0.0\n",
       "dtype: float64"
      ]
     },
     "metadata": {},
     "output_type": "display_data"
    },
    {
     "data": {
      "text/plain": [
       "'Явные дубликаты:'"
      ]
     },
     "metadata": {},
     "output_type": "display_data"
    },
    {
     "data": {
      "text/plain": [
       "0"
      ]
     },
     "metadata": {},
     "output_type": "display_data"
    }
   ],
   "source": [
    "explore_data(toxic_comments_df)"
   ]
  },
  {
   "cell_type": "markdown",
   "metadata": {},
   "source": [
    "### Лемматизация"
   ]
  },
  {
   "cell_type": "code",
   "execution_count": 59,
   "metadata": {},
   "outputs": [],
   "source": [
    "wnl = WordNetLemmatizer()\n",
    "def clear_text(text):\n",
    "    #m = Mystem()\n",
    "    lemm_list = wnl.lemmatize(text)\n",
    "    lemm_text = \"\".join(lemm_list)\n",
    "    clear_lemm_text = re.sub(r'[^a-zA-Z]', ' ', lemm_text)    \n",
    "    return \" \".join(clear_lemm_text.split())\n"
   ]
  },
  {
   "cell_type": "code",
   "execution_count": 60,
   "metadata": {},
   "outputs": [
    {
     "name": "stderr",
     "output_type": "stream",
     "text": [
      "[nltk_data] Downloading package averaged_perceptron_tagger to\n",
      "[nltk_data]     /home/jovyan/nltk_data...\n",
      "[nltk_data]   Package averaged_perceptron_tagger is already up-to-\n",
      "[nltk_data]       date!\n"
     ]
    }
   ],
   "source": [
    "\n",
    "nltk.download('averaged_perceptron_tagger')\n",
    "from nltk.corpus import wordnet\n",
    "\n",
    "def pos_tagger(nltk_tag):\n",
    "    if nltk_tag.startswith('J'):\n",
    "        return wordnet.ADJ\n",
    "    elif nltk_tag.startswith('V'):\n",
    "        return wordnet.VERB\n",
    "    elif nltk_tag.startswith('N'):\n",
    "        return wordnet.NOUN\n",
    "    elif nltk_tag.startswith('R'):\n",
    "        return wordnet.ADV\n",
    "    else:         \n",
    "        return None\n",
    "\n",
    "def lemmatize_text(text):\n",
    "    clear_text = \" \".join(re.sub(r'[^a-zA-Z]', ' ', text).split())\n",
    "    pos_tagged = nltk.pos_tag(nltk.word_tokenize(clear_text))\n",
    "    wordnet_tagged = list(map(lambda x: (x[0], pos_tagger(x[1])), pos_tagged))\n",
    "\n",
    "    lemmatized_sentence = []\n",
    "    for word, tag in wordnet_tagged:\n",
    "        if tag is None:\n",
    "            lemmatized_sentence.append(word)\n",
    "        else:       \n",
    "            lemmatized_sentence.append(wnl.lemmatize(word, tag))\n",
    "    return \" \".join(lemmatized_sentence)"
   ]
  },
  {
   "cell_type": "markdown",
   "metadata": {},
   "source": [
    "Проверка лемматизации"
   ]
  },
  {
   "cell_type": "code",
   "execution_count": 61,
   "metadata": {
    "scrolled": true
   },
   "outputs": [
    {
     "data": {
      "text/plain": [
       "'the cat be sit with the bat on the striped mat under many badly fly geese'"
      ]
     },
     "execution_count": 61,
     "metadata": {},
     "output_type": "execute_result"
    }
   ],
   "source": [
    "sentence = 'the cat is sitting with the bats on the striped mat under many badly flying geese' \n",
    "lemmatize_text(sentence)"
   ]
  },
  {
   "cell_type": "code",
   "execution_count": 64,
   "metadata": {},
   "outputs": [
    {
     "name": "stdout",
     "output_type": "stream",
     "text": [
      "CPU times: user 9min 2s, sys: 6.47 s, total: 9min 9s\n",
      "Wall time: 9min 9s\n"
     ]
    }
   ],
   "source": [
    "%%time\n",
    "toxic_comments_df['clear_text'] = toxic_comments_df['text'].apply(lemmatize_text)\n",
    "#toxic_comments_df['text'].head().apply(lemmatize_text)"
   ]
  },
  {
   "cell_type": "code",
   "execution_count": 65,
   "metadata": {
    "scrolled": false
   },
   "outputs": [
    {
     "data": {
      "text/html": [
       "<div>\n",
       "<style scoped>\n",
       "    .dataframe tbody tr th:only-of-type {\n",
       "        vertical-align: middle;\n",
       "    }\n",
       "\n",
       "    .dataframe tbody tr th {\n",
       "        vertical-align: top;\n",
       "    }\n",
       "\n",
       "    .dataframe thead th {\n",
       "        text-align: right;\n",
       "    }\n",
       "</style>\n",
       "<table border=\"1\" class=\"dataframe\">\n",
       "  <thead>\n",
       "    <tr style=\"text-align: right;\">\n",
       "      <th></th>\n",
       "      <th>text</th>\n",
       "      <th>toxic</th>\n",
       "      <th>clear_text</th>\n",
       "    </tr>\n",
       "  </thead>\n",
       "  <tbody>\n",
       "    <tr>\n",
       "      <th>0</th>\n",
       "      <td>Explanation\\nWhy the edits made under my usern...</td>\n",
       "      <td>0</td>\n",
       "      <td>Explanation Why the edits make under my userna...</td>\n",
       "    </tr>\n",
       "    <tr>\n",
       "      <th>1</th>\n",
       "      <td>D'aww! He matches this background colour I'm s...</td>\n",
       "      <td>0</td>\n",
       "      <td>D aww He match this background colour I m seem...</td>\n",
       "    </tr>\n",
       "    <tr>\n",
       "      <th>2</th>\n",
       "      <td>Hey man, I'm really not trying to edit war. It...</td>\n",
       "      <td>0</td>\n",
       "      <td>Hey man I m really not try to edit war It s ju...</td>\n",
       "    </tr>\n",
       "    <tr>\n",
       "      <th>3</th>\n",
       "      <td>\"\\nMore\\nI can't make any real suggestions on ...</td>\n",
       "      <td>0</td>\n",
       "      <td>More I can t make any real suggestion on impro...</td>\n",
       "    </tr>\n",
       "    <tr>\n",
       "      <th>4</th>\n",
       "      <td>You, sir, are my hero. Any chance you remember...</td>\n",
       "      <td>0</td>\n",
       "      <td>You sir be my hero Any chance you remember wha...</td>\n",
       "    </tr>\n",
       "  </tbody>\n",
       "</table>\n",
       "</div>"
      ],
      "text/plain": [
       "                                                text  toxic  \\\n",
       "0  Explanation\\nWhy the edits made under my usern...      0   \n",
       "1  D'aww! He matches this background colour I'm s...      0   \n",
       "2  Hey man, I'm really not trying to edit war. It...      0   \n",
       "3  \"\\nMore\\nI can't make any real suggestions on ...      0   \n",
       "4  You, sir, are my hero. Any chance you remember...      0   \n",
       "\n",
       "                                          clear_text  \n",
       "0  Explanation Why the edits make under my userna...  \n",
       "1  D aww He match this background colour I m seem...  \n",
       "2  Hey man I m really not try to edit war It s ju...  \n",
       "3  More I can t make any real suggestion on impro...  \n",
       "4  You sir be my hero Any chance you remember wha...  "
      ]
     },
     "execution_count": 65,
     "metadata": {},
     "output_type": "execute_result"
    }
   ],
   "source": [
    "toxic_comments_df.head()"
   ]
  },
  {
   "cell_type": "markdown",
   "metadata": {},
   "source": [
    "### Баланс классов"
   ]
  },
  {
   "cell_type": "code",
   "execution_count": 70,
   "metadata": {},
   "outputs": [],
   "source": [
    "features = toxic_comments_df['clear_text']\n",
    "target = toxic_comments_df['toxic']"
   ]
  },
  {
   "cell_type": "code",
   "execution_count": 71,
   "metadata": {},
   "outputs": [],
   "source": [
    "features_train, features_test, target_train, target_test = train_test_split(\n",
    "    features, target, test_size=0.25, random_state=12345, stratify = target)"
   ]
  },
  {
   "cell_type": "code",
   "execution_count": 72,
   "metadata": {},
   "outputs": [
    {
     "data": {
      "text/plain": [
       "<AxesSubplot:title={'center':'Распределение классов до разделения набора'}>"
      ]
     },
     "execution_count": 72,
     "metadata": {},
     "output_type": "execute_result"
    },
    {
     "data": {
      "image/png": "[encoded data removed]",
      "text/plain": [
       "<Figure size 432x288 with 1 Axes>"
      ]
     },
     "metadata": {
      "needs_background": "light"
     },
     "output_type": "display_data"
    }
   ],
   "source": [
    "target.value_counts(normalize=True).plot(kind='bar', title='Распределение классов до разделения набора')"
   ]
  },
  {
   "cell_type": "code",
   "execution_count": 73,
   "metadata": {
    "scrolled": false
   },
   "outputs": [
    {
     "data": {
      "text/plain": [
       "<AxesSubplot:title={'center':'Распределение классов после разделения набора'}>"
      ]
     },
     "execution_count": 73,
     "metadata": {},
     "output_type": "execute_result"
    },
    {
     "data": {
      "image/png": "[encoded data removed]",
      "text/plain": [
       "<Figure size 432x288 with 1 Axes>"
      ]
     },
     "metadata": {
      "needs_background": "light"
     },
     "output_type": "display_data"
    }
   ],
   "source": [
    "target_train.value_counts(normalize=True).plot(kind='bar', title='Распределение классов после разделения набора')"
   ]
  },
  {
   "cell_type": "markdown",
   "metadata": {},
   "source": [
    "Соотношение классов до и после разделения на тестовую и тренировочную выборку сохранилось. Очевидно Превосходство 0 класса "
   ]
  },
  {
   "cell_type": "markdown",
   "metadata": {},
   "source": [
    "\n",
    "def downsample(features, target, fraction):\n",
    "    features_zeros = features[target == 0]\n",
    "    features_ones = features[target == 1]\n",
    "    target_zeros = target[target == 0]\n",
    "    target_ones = target[target == 1]\n",
    "\n",
    "    features_downsampled = pd.concat(\n",
    "        [features_zeros.sample(frac=fraction, random_state=12345)] + [features_ones])\n",
    "    target_downsampled = pd.concat(\n",
    "        [target_zeros.sample(frac=fraction, random_state=12345)] + [target_ones])\n",
    "    \n",
    "    features_downsampled, target_downsampled = shuffle(\n",
    "        features_downsampled, target_downsampled, random_state=12345)\n",
    "    \n",
    "    return features_downsampled, target_downsampled\n",
    "\n"
   ]
  },
  {
   "cell_type": "markdown",
   "metadata": {},
   "source": [
    "features_downsampled, target_downsampled = downsample(features_train, target_train, 0.1)"
   ]
  },
  {
   "cell_type": "markdown",
   "metadata": {
    "scrolled": true
   },
   "source": [
    "target_downsampled.value_counts(normalize=True).plot(kind='bar', title='Распределение классов после балансировки')"
   ]
  },
  {
   "cell_type": "markdown",
   "metadata": {},
   "source": [
    "### Векторизация тескта"
   ]
  },
  {
   "cell_type": "code",
   "execution_count": 74,
   "metadata": {
    "scrolled": true
   },
   "outputs": [
    {
     "name": "stdout",
     "output_type": "stream",
     "text": [
      "Belarus a developed country Hahaha nothing more to say\n"
     ]
    }
   ],
   "source": [
    "corpus = features_train.values\n",
    "print(corpus[0])"
   ]
  },
  {
   "cell_type": "code",
   "execution_count": 75,
   "metadata": {},
   "outputs": [
    {
     "name": "stderr",
     "output_type": "stream",
     "text": [
      "[nltk_data] Downloading package stopwords to /home/jovyan/nltk_data...\n",
      "[nltk_data]   Package stopwords is already up-to-date!\n"
     ]
    }
   ],
   "source": [
    "nltk.download('stopwords')\n",
    "stopwords = set(nltk_stopwords.words('english'))\n",
    "count_tf_idf = TfidfVectorizer(stop_words=stopwords)\n",
    "features_train = count_tf_idf.fit_transform(corpus)\n",
    "features_test = count_tf_idf.transform(features_test)"
   ]
  },
  {
   "cell_type": "code",
   "execution_count": 76,
   "metadata": {
    "scrolled": false
   },
   "outputs": [
    {
     "name": "stdout",
     "output_type": "stream",
     "text": [
      "(119678, 142100)\n",
      "(39893, 142100)\n"
     ]
    }
   ],
   "source": [
    "print(features_train.shape)\n",
    "print(features_test.shape)"
   ]
  },
  {
   "cell_type": "markdown",
   "metadata": {},
   "source": [
    "### Вывод\n",
    " * Произведена подготовка для обучения моделей. \n",
    " * После ознакомления с набором объявлен корпус текстов. Затем тексты были очищены и лемматизированы. \n",
    " * Проверка соотношения классов показала, что в датасете имеет место явный дисбаланс. \n",
    " * Для векторизации текстов был использован TfidfVectorizer(). После векторизации датасет образовал матрицу размером \n",
    " * датасет разделен на обучающую и тестовые выборки \n"
   ]
  },
  {
   "cell_type": "markdown",
   "metadata": {},
   "source": [
    "## Обучение"
   ]
  },
  {
   "cell_type": "code",
   "execution_count": 39,
   "metadata": {},
   "outputs": [],
   "source": [
    "def best_hypers_for_model(model, hyperparams, scorer):\n",
    "    \n",
    "    #ts_cv = TimeSeriesSplit(n_splits=8).split(features_train)\n",
    "    clf = GridSearchCV(model, hyperparams, scoring=scorer, cv=3)\n",
    "    clf.fit(features_train, target_train)\n",
    "    print(str(model)[:-2],\"Best parameters set found on development set:\\n\")\n",
    "    print(clf.best_params_)\n",
    "    print(\"\\nGrid scores on development set:\\n\")\n",
    "    for mean, std, params in zip(clf.cv_results_['mean_test_score'], clf.cv_results_['std_test_score'], clf.cv_results_['params']):\n",
    "        print(\"%0.6f for %r\"% (abs(mean), params))"
   ]
  },
  {
   "cell_type": "markdown",
   "metadata": {},
   "source": [
    "<div class=\"alert alert-success\">\n",
    "<h2> Полезно запомнить <a class=\"tocSkip\"></h2>\n",
    "\n",
    "Кросс-валидацию вместе с undersampling / oversampling использовать нельзя - они меняют распределение набора и у тебя получаются искаженные метрики, следовательно, и параметры, которые будут подобраны не совсем оптимальны."
   ]
  },
  {
   "cell_type": "code",
   "execution_count": 40,
   "metadata": {},
   "outputs": [],
   "source": [
    "def best_model_result(model_dict):\n",
    "    \n",
    "    predictions_dict = {}\n",
    "    for model_name in tqdm(model_dict):\n",
    "        l_start = time.time()\n",
    "        model = model_dict[model_name]\n",
    "        model.fit(features_train, target_train)\n",
    "        l_end = time.time()\n",
    "        result.loc[model_name, \"learning_time\"] = l_end - l_start\n",
    "        p_start = time.time()\n",
    "        predictions = model.predict(features_test)\n",
    "        predictions_dict[model_name] = predictions\n",
    "        p_end = time.time()\n",
    "        result.loc[model_name, \"predict_time\"] = p_end - p_start\n",
    "        result.loc[model_name, \"f1\"] = f1_score(predictions, target_test)\n",
    "    return predictions_dict"
   ]
  },
  {
   "cell_type": "markdown",
   "metadata": {},
   "source": [
    "### Подбор гиперпараметров"
   ]
  },
  {
   "cell_type": "code",
   "execution_count": 77,
   "metadata": {},
   "outputs": [
    {
     "name": "stdout",
     "output_type": "stream",
     "text": [
      "LogisticRegression Best parameters set found on development set:\n",
      "\n",
      "{'C': 10, 'class_weight': 'balanced', 'fit_intercept': True, 'random_state': 12345, 'solver': 'liblinear'}\n",
      "\n",
      "Grid scores on development set:\n",
      "\n",
      "0.703971 for {'C': 0.1, 'class_weight': 'balanced', 'fit_intercept': True, 'random_state': 12345, 'solver': 'liblinear'}\n",
      "0.747678 for {'C': 1, 'class_weight': 'balanced', 'fit_intercept': True, 'random_state': 12345, 'solver': 'liblinear'}\n",
      "0.767195 for {'C': 10, 'class_weight': 'balanced', 'fit_intercept': True, 'random_state': 12345, 'solver': 'liblinear'}\n",
      "CPU times: user 59.9 s, sys: 1min 6s, total: 2min 6s\n",
      "Wall time: 2min 6s\n"
     ]
    }
   ],
   "source": [
    "%%time\n",
    "MODEL_SETTINGS = {'class_weight': ['balanced'],\n",
    "                  'fit_intercept': [True], \n",
    "                 'solver':['liblinear'],\n",
    "                  'C': [0.1, 1, 10],\n",
    "                  'random_state':[12345]}\n",
    "best_hypers_for_model(LogisticRegression(),MODEL_SETTINGS,'f1')"
   ]
  },
  {
   "cell_type": "code",
   "execution_count": 78,
   "metadata": {
    "scrolled": true
   },
   "outputs": [
    {
     "name": "stdout",
     "output_type": "stream",
     "text": [
      "DecisionTreeClassifier Best parameters set found on development set:\n",
      "\n",
      "{'class_weight': 'balanced', 'max_depth': 142, 'random_state': 12345}\n",
      "\n",
      "Grid scores on development set:\n",
      "\n",
      "0.371563 for {'class_weight': 'balanced', 'max_depth': 2, 'random_state': 12345}\n",
      "0.566155 for {'class_weight': 'balanced', 'max_depth': 12, 'random_state': 12345}\n",
      "0.599717 for {'class_weight': 'balanced', 'max_depth': 22, 'random_state': 12345}\n",
      "0.617555 for {'class_weight': 'balanced', 'max_depth': 32, 'random_state': 12345}\n",
      "0.625423 for {'class_weight': 'balanced', 'max_depth': 42, 'random_state': 12345}\n",
      "0.616946 for {'class_weight': 'balanced', 'max_depth': 52, 'random_state': 12345}\n",
      "0.626737 for {'class_weight': 'balanced', 'max_depth': 62, 'random_state': 12345}\n",
      "0.632329 for {'class_weight': 'balanced', 'max_depth': 72, 'random_state': 12345}\n",
      "0.636391 for {'class_weight': 'balanced', 'max_depth': 82, 'random_state': 12345}\n",
      "0.641015 for {'class_weight': 'balanced', 'max_depth': 92, 'random_state': 12345}\n",
      "0.640792 for {'class_weight': 'balanced', 'max_depth': 102, 'random_state': 12345}\n",
      "0.642273 for {'class_weight': 'balanced', 'max_depth': 112, 'random_state': 12345}\n",
      "0.645645 for {'class_weight': 'balanced', 'max_depth': 122, 'random_state': 12345}\n",
      "0.645638 for {'class_weight': 'balanced', 'max_depth': 132, 'random_state': 12345}\n",
      "0.646111 for {'class_weight': 'balanced', 'max_depth': 142, 'random_state': 12345}\n",
      "CPU times: user 31min 6s, sys: 5.53 s, total: 31min 12s\n",
      "Wall time: 31min 14s\n"
     ]
    }
   ],
   "source": [
    "%%time\n",
    "MODEL_SETTINGS = {'class_weight': ['balanced'],\n",
    "            'max_depth':[x for x in range(2, 152,10)],\n",
    "                  'random_state':[12345]}\n",
    "best_hypers_for_model(DecisionTreeClassifier(),MODEL_SETTINGS,'f1')"
   ]
  },
  {
   "cell_type": "code",
   "execution_count": 37,
   "metadata": {},
   "outputs": [
    {
     "name": "stdout",
     "output_type": "stream",
     "text": [
      "RandomForestClassifier Best parameters set found on development set:\n",
      "\n",
      "{'class_weight': 'balanced', 'n_estimators': 50, 'random_state': 12345}\n",
      "\n",
      "Grid scores on development set:\n",
      "\n",
      "0.640756 for {'class_weight': 'balanced', 'n_estimators': 10, 'random_state': 12345}\n",
      "0.652071 for {'class_weight': 'balanced', 'n_estimators': 20, 'random_state': 12345}\n",
      "0.657040 for {'class_weight': 'balanced', 'n_estimators': 30, 'random_state': 12345}\n",
      "0.662989 for {'class_weight': 'balanced', 'n_estimators': 40, 'random_state': 12345}\n",
      "0.665719 for {'class_weight': 'balanced', 'n_estimators': 50, 'random_state': 12345}\n",
      "CPU times: user 15min 22s, sys: 2.86 s, total: 15min 25s\n",
      "Wall time: 15min 26s\n"
     ]
    }
   ],
   "source": [
    "%%time\n",
    "#'max_depth':[x for x in range(2, 152,10)], 'n_estimators': [x for x in range (10, 51, 10)],\n",
    "MODEL_SETTINGS = {'class_weight': ['balanced'],\n",
    "                  'n_estimators': [x for x in range (10, 51, 10)],\n",
    "                  'random_state':[12345]}\n",
    "best_hypers_for_model(RandomForestClassifier(),MODEL_SETTINGS,'f1')\n"
   ]
  },
  {
   "cell_type": "code",
   "execution_count": null,
   "metadata": {},
   "outputs": [],
   "source": [
    "MODEL_SETTINGS = {\n",
    "    'max_depth': [x for x in range (2, 21,2)],\n",
    "  'learning_rate': [0.1, 0.5, 0.8],\n",
    "  'n_estimators': [x for x in range (10, 51, 10)]\n",
    "  }\n",
    "#'max_depth': [x for x in range (2, 152,10)]                \n",
    "best_hypers_for_model(GradientBoostingClassifier(),MODEL_SETTINGS,'f1')"
   ]
  },
  {
   "cell_type": "code",
   "execution_count": null,
   "metadata": {},
   "outputs": [],
   "source": [
    "MODEL_SETTINGS = {\n",
    "  'verbose':[False],\n",
    "  'learning_rate': [0.1, 0.5, 0.8],\n",
    "  'iterations': [2,3,5],\n",
    "  'max_depth': [x for x in range (2, 21,2)]}\n",
    "#'max_depth': [x for x in range (2, 152,10)]\n",
    "best_hypers_for_model(CatBoostClassifier(),MODEL_SETTINGS,'f1')"
   ]
  },
  {
   "cell_type": "markdown",
   "metadata": {},
   "source": [
    "Из всех выбранных моделей наилучший результат показала LogisticRegression"
   ]
  },
  {
   "cell_type": "markdown",
   "metadata": {},
   "source": [
    "<div class=\"alert alert-success\">\n",
    "    <h2> Полезно запомнить <a class=\"tocSkip\"> </h2>\n",
    "\n",
    "<b>Некоторые замечания и рекомендации💡:</b>\n",
    "\n",
    "   \n",
    "    \n",
    "CatBoost поддерживает работу с текстом \"из коробки\" , но он работает только с GPU. пример и сравнение с BERT для похожей задачи.\n",
    "        \n",
    "https://towardsdatascience.com/unconventional-sentiment-analysis-bert-vs-catboost-90645f2437a9\n",
    "\n",
    "Тут очень классный ноутбук\n",
    "\n",
    "https://github.com/catboost/tutorials/blob/master/text_features/text_features_in_catboost.ipynb"
   ]
  },
  {
   "cell_type": "markdown",
   "metadata": {},
   "source": [
    "### Проверка модели на тестовой выборке"
   ]
  },
  {
   "cell_type": "code",
   "execution_count": 83,
   "metadata": {},
   "outputs": [],
   "source": [
    "result = pd.DataFrame(columns=[\"f1\", \"learning_time\", \"predict_time\"])"
   ]
  },
  {
   "cell_type": "code",
   "execution_count": 84,
   "metadata": {
    "scrolled": true
   },
   "outputs": [
    {
     "name": "stderr",
     "output_type": "stream",
     "text": [
      "100%|██████████| 1/1 [00:25<00:00, 25.36s/it]\n"
     ]
    }
   ],
   "source": [
    "predictions = best_model_result({'LogisticRegression': LogisticRegression(C=10, class_weight='balanced',\n",
    "                                fit_intercept=True, random_state=12345, solver='liblinear')})\n"
   ]
  },
  {
   "cell_type": "code",
   "execution_count": 85,
   "metadata": {},
   "outputs": [
    {
     "data": {
      "text/html": [
       "<div>\n",
       "<style scoped>\n",
       "    .dataframe tbody tr th:only-of-type {\n",
       "        vertical-align: middle;\n",
       "    }\n",
       "\n",
       "    .dataframe tbody tr th {\n",
       "        vertical-align: top;\n",
       "    }\n",
       "\n",
       "    .dataframe thead th {\n",
       "        text-align: right;\n",
       "    }\n",
       "</style>\n",
       "<table border=\"1\" class=\"dataframe\">\n",
       "  <thead>\n",
       "    <tr style=\"text-align: right;\">\n",
       "      <th></th>\n",
       "      <th>f1</th>\n",
       "      <th>learning_time</th>\n",
       "      <th>predict_time</th>\n",
       "    </tr>\n",
       "  </thead>\n",
       "  <tbody>\n",
       "    <tr>\n",
       "      <th>LogisticRegression</th>\n",
       "      <td>0.776968</td>\n",
       "      <td>25.271108</td>\n",
       "      <td>0.065887</td>\n",
       "    </tr>\n",
       "  </tbody>\n",
       "</table>\n",
       "</div>"
      ],
      "text/plain": [
       "                          f1 learning_time predict_time\n",
       "LogisticRegression  0.776968     25.271108     0.065887"
      ]
     },
     "execution_count": 85,
     "metadata": {},
     "output_type": "execute_result"
    }
   ],
   "source": [
    "result"
   ]
  },
  {
   "cell_type": "markdown",
   "metadata": {},
   "source": [
    "## Выводы"
   ]
  },
  {
   "cell_type": "markdown",
   "metadata": {},
   "source": [
    "Таким образом, наиболее оптимальной моделью оказалась LogisticRegression(C=10, class_weight='balanced',fit_intercept=True, random_state=12345, solver='liblinear') с результатом на тестовой выборке f1=0.777.\n",
    "\n",
    "Для достижения целевого показателя метрики при векторизации текста пришлось отказаться от параметра min_df, что значительно увеличило размер выборки и время обучения моделей. Для Catboost и gradientboosting подобрать оптимальные гиперпараметры  не удалось- занимает слишком много времени(как вариант решения проблемы можно попробовать отказаться от кроссвалидации при подборе гиперпараметров). \n",
    "\n",
    "\n"
   ]
  }
 ],
 "metadata": {
  "ExecuteTimeLog": [
   {
    "duration": 38,
    "start_time": "2022-06-20T19:37:56.118Z"
   },
   {
    "duration": 1843,
    "start_time": "2022-06-25T18:28:59.452Z"
   },
   {
    "duration": 4,
    "start_time": "2022-06-25T18:29:01.297Z"
   },
   {
    "duration": 2386,
    "start_time": "2022-06-25T18:29:02.173Z"
   },
   {
    "duration": 127,
    "start_time": "2022-06-25T18:29:04.560Z"
   },
   {
    "duration": 362,
    "start_time": "2022-06-25T18:29:17.065Z"
   },
   {
    "duration": 4,
    "start_time": "2022-06-25T18:30:46.274Z"
   },
   {
    "duration": 804,
    "start_time": "2022-06-25T18:30:52.006Z"
   },
   {
    "duration": 309,
    "start_time": "2022-06-25T18:30:52.812Z"
   },
   {
    "duration": 282,
    "start_time": "2022-06-25T19:18:38.288Z"
   },
   {
    "duration": 10,
    "start_time": "2022-06-25T19:18:40.089Z"
   },
   {
    "duration": 2065,
    "start_time": "2022-06-25T19:19:11.978Z"
   },
   {
    "duration": 36,
    "start_time": "2022-06-25T19:26:22.670Z"
   },
   {
    "duration": 1621,
    "start_time": "2022-06-25T19:26:22.708Z"
   },
   {
    "duration": 3,
    "start_time": "2022-06-25T19:26:24.331Z"
   },
   {
    "duration": 2203,
    "start_time": "2022-06-25T19:26:24.335Z"
   },
   {
    "duration": 321,
    "start_time": "2022-06-25T19:26:26.540Z"
   },
   {
    "duration": 1940,
    "start_time": "2022-06-25T19:26:46.220Z"
   },
   {
    "duration": 47,
    "start_time": "2022-06-25T19:34:51.528Z"
   },
   {
    "duration": 1706,
    "start_time": "2022-06-25T19:34:51.577Z"
   },
   {
    "duration": 4,
    "start_time": "2022-06-25T19:34:53.284Z"
   },
   {
    "duration": 2271,
    "start_time": "2022-06-25T19:34:53.289Z"
   },
   {
    "duration": 323,
    "start_time": "2022-06-25T19:34:55.562Z"
   },
   {
    "duration": 2053,
    "start_time": "2022-06-25T19:34:55.887Z"
   },
   {
    "duration": 25,
    "start_time": "2022-06-25T19:43:46.013Z"
   },
   {
    "duration": 5,
    "start_time": "2022-06-25T19:43:46.040Z"
   },
   {
    "duration": 6,
    "start_time": "2022-06-25T19:43:46.047Z"
   },
   {
    "duration": 857,
    "start_time": "2022-06-25T19:43:46.054Z"
   },
   {
    "duration": 318,
    "start_time": "2022-06-25T19:43:46.913Z"
   },
   {
    "duration": 60,
    "start_time": "2022-06-25T19:44:45.430Z"
   },
   {
    "duration": 1622,
    "start_time": "2022-06-25T19:44:45.492Z"
   },
   {
    "duration": 4,
    "start_time": "2022-06-25T19:44:47.115Z"
   },
   {
    "duration": 2264,
    "start_time": "2022-06-25T19:44:47.120Z"
   },
   {
    "duration": 310,
    "start_time": "2022-06-25T19:44:49.386Z"
   },
   {
    "duration": 2833,
    "start_time": "2022-06-25T19:44:52.523Z"
   },
   {
    "duration": 75,
    "start_time": "2022-06-25T19:46:25.521Z"
   },
   {
    "duration": 1577,
    "start_time": "2022-06-25T19:46:25.599Z"
   },
   {
    "duration": 6,
    "start_time": "2022-06-25T19:46:27.178Z"
   },
   {
    "duration": 829,
    "start_time": "2022-06-25T19:46:27.185Z"
   },
   {
    "duration": 308,
    "start_time": "2022-06-25T19:46:28.015Z"
   },
   {
    "duration": 2006,
    "start_time": "2022-06-25T19:46:28.325Z"
   },
   {
    "duration": 79,
    "start_time": "2022-06-26T13:31:14.455Z"
   },
   {
    "duration": 1926,
    "start_time": "2022-06-26T13:31:14.538Z"
   },
   {
    "duration": 4,
    "start_time": "2022-06-26T13:31:16.465Z"
   },
   {
    "duration": 3599,
    "start_time": "2022-06-26T13:31:16.472Z"
   },
   {
    "duration": 301,
    "start_time": "2022-06-26T13:31:20.073Z"
   },
   {
    "duration": 48,
    "start_time": "2022-06-26T13:32:31.427Z"
   },
   {
    "duration": 1846,
    "start_time": "2022-06-26T13:32:31.477Z"
   },
   {
    "duration": 5,
    "start_time": "2022-06-26T13:32:33.325Z"
   },
   {
    "duration": 3754,
    "start_time": "2022-06-26T13:32:33.331Z"
   },
   {
    "duration": 330,
    "start_time": "2022-06-26T13:32:37.088Z"
   },
   {
    "duration": 1788,
    "start_time": "2022-06-26T13:32:37.423Z"
   },
   {
    "duration": 15,
    "start_time": "2022-06-26T13:32:39.217Z"
   },
   {
    "duration": 4,
    "start_time": "2022-06-26T13:32:43.954Z"
   },
   {
    "duration": 143,
    "start_time": "2022-06-26T13:32:45.634Z"
   },
   {
    "duration": 12,
    "start_time": "2022-06-26T13:33:04.961Z"
   },
   {
    "duration": 415,
    "start_time": "2022-06-26T13:33:12.059Z"
   },
   {
    "duration": 7,
    "start_time": "2022-06-26T13:34:00.313Z"
   },
   {
    "duration": 69,
    "start_time": "2022-06-26T13:39:43.077Z"
   },
   {
    "duration": 1616,
    "start_time": "2022-06-26T13:39:43.148Z"
   },
   {
    "duration": 4,
    "start_time": "2022-06-26T13:39:44.765Z"
   },
   {
    "duration": 665,
    "start_time": "2022-06-26T13:39:44.771Z"
   },
   {
    "duration": 278,
    "start_time": "2022-06-26T13:39:45.438Z"
   },
   {
    "duration": 1705,
    "start_time": "2022-06-26T13:39:45.717Z"
   },
   {
    "duration": 724,
    "start_time": "2022-06-26T13:39:47.424Z"
   },
   {
    "duration": 9,
    "start_time": "2022-06-26T13:40:04.951Z"
   },
   {
    "duration": 3,
    "start_time": "2022-06-26T13:40:18.330Z"
   },
   {
    "duration": 8586,
    "start_time": "2022-06-26T13:40:18.713Z"
   },
   {
    "duration": 50,
    "start_time": "2022-06-26T13:43:56.443Z"
   },
   {
    "duration": 1668,
    "start_time": "2022-06-26T13:43:56.494Z"
   },
   {
    "duration": 3,
    "start_time": "2022-06-26T13:43:58.164Z"
   },
   {
    "duration": 638,
    "start_time": "2022-06-26T13:43:58.169Z"
   },
   {
    "duration": 259,
    "start_time": "2022-06-26T13:43:58.809Z"
   },
   {
    "duration": 3,
    "start_time": "2022-06-26T13:43:59.070Z"
   },
   {
    "duration": 81,
    "start_time": "2022-06-26T13:43:59.093Z"
   },
   {
    "duration": 3107,
    "start_time": "2022-06-26T13:44:16.511Z"
   },
   {
    "duration": 93,
    "start_time": "2022-06-26T14:01:39.280Z"
   },
   {
    "duration": 1797,
    "start_time": "2022-06-26T14:01:39.375Z"
   },
   {
    "duration": 4,
    "start_time": "2022-06-26T14:01:41.173Z"
   },
   {
    "duration": 734,
    "start_time": "2022-06-26T14:01:41.179Z"
   },
   {
    "duration": 314,
    "start_time": "2022-06-26T14:01:41.922Z"
   },
   {
    "duration": 4,
    "start_time": "2022-06-26T14:01:42.238Z"
   },
   {
    "duration": 64,
    "start_time": "2022-06-26T14:03:09.395Z"
   },
   {
    "duration": 1664,
    "start_time": "2022-06-26T14:03:09.461Z"
   },
   {
    "duration": 4,
    "start_time": "2022-06-26T14:03:11.126Z"
   },
   {
    "duration": 692,
    "start_time": "2022-06-26T14:03:11.132Z"
   },
   {
    "duration": 305,
    "start_time": "2022-06-26T14:03:11.825Z"
   },
   {
    "duration": 95082,
    "start_time": "2022-06-26T14:03:12.131Z"
   },
   {
    "duration": 21,
    "start_time": "2022-06-26T14:05:36.192Z"
   },
   {
    "duration": 3,
    "start_time": "2022-06-26T14:05:53.149Z"
   },
   {
    "duration": 73,
    "start_time": "2022-06-26T14:10:14.729Z"
   },
   {
    "duration": 1846,
    "start_time": "2022-06-26T14:10:14.804Z"
   },
   {
    "duration": 4,
    "start_time": "2022-06-26T14:10:16.651Z"
   },
   {
    "duration": 726,
    "start_time": "2022-06-26T14:10:16.656Z"
   },
   {
    "duration": 341,
    "start_time": "2022-06-26T14:10:17.384Z"
   },
   {
    "duration": 93630,
    "start_time": "2022-06-26T14:10:17.732Z"
   },
   {
    "duration": 3,
    "start_time": "2022-06-26T14:11:51.364Z"
   },
   {
    "duration": 93063,
    "start_time": "2022-06-26T14:11:51.368Z"
   },
   {
    "duration": 9,
    "start_time": "2022-06-26T14:13:24.432Z"
   },
   {
    "duration": 44,
    "start_time": "2022-06-26T14:15:48.939Z"
   },
   {
    "duration": 5,
    "start_time": "2022-06-26T14:15:48.985Z"
   },
   {
    "duration": 39,
    "start_time": "2022-06-26T14:15:48.992Z"
   },
   {
    "duration": 698,
    "start_time": "2022-06-26T14:15:49.033Z"
   },
   {
    "duration": 292,
    "start_time": "2022-06-26T14:15:49.733Z"
   },
   {
    "duration": 24,
    "start_time": "2022-06-26T14:15:50.029Z"
   },
   {
    "duration": 617,
    "start_time": "2022-06-26T14:15:50.054Z"
   },
   {
    "duration": 7,
    "start_time": "2022-06-26T14:15:50.672Z"
   },
   {
    "duration": 4,
    "start_time": "2022-06-26T14:18:19.172Z"
   },
   {
    "duration": 622,
    "start_time": "2022-06-26T14:18:19.673Z"
   },
   {
    "duration": 5,
    "start_time": "2022-06-26T14:18:38.413Z"
   },
   {
    "duration": 98307,
    "start_time": "2022-06-26T14:18:38.681Z"
   },
   {
    "duration": 7,
    "start_time": "2022-06-26T14:29:34.057Z"
   },
   {
    "duration": 13,
    "start_time": "2022-06-26T14:34:58.374Z"
   },
   {
    "duration": 4,
    "start_time": "2022-06-26T14:35:24.210Z"
   },
   {
    "duration": 128,
    "start_time": "2022-06-26T14:35:27.828Z"
   },
   {
    "duration": 127,
    "start_time": "2022-06-26T14:36:48.152Z"
   },
   {
    "duration": 88,
    "start_time": "2022-06-26T14:36:57.460Z"
   },
   {
    "duration": 99,
    "start_time": "2022-06-26T14:36:58.209Z"
   },
   {
    "duration": 187,
    "start_time": "2022-06-26T14:37:09.854Z"
   },
   {
    "duration": 92,
    "start_time": "2022-06-26T14:37:24.299Z"
   },
   {
    "duration": 84,
    "start_time": "2022-06-26T14:37:34.353Z"
   },
   {
    "duration": 92,
    "start_time": "2022-06-26T14:37:39.365Z"
   },
   {
    "duration": 1569,
    "start_time": "2022-06-26T14:45:50.248Z"
   },
   {
    "duration": 1884,
    "start_time": "2022-06-26T14:46:17.253Z"
   },
   {
    "duration": 8191,
    "start_time": "2022-06-26T14:48:39.781Z"
   },
   {
    "duration": 4,
    "start_time": "2022-06-26T15:09:30.302Z"
   },
   {
    "duration": 5,
    "start_time": "2022-06-26T15:29:14.540Z"
   },
   {
    "duration": 5,
    "start_time": "2022-06-26T15:29:41.301Z"
   },
   {
    "duration": 5,
    "start_time": "2022-06-26T15:29:42.013Z"
   },
   {
    "duration": 64,
    "start_time": "2022-06-26T15:41:25.320Z"
   },
   {
    "duration": 1896,
    "start_time": "2022-06-26T15:41:25.387Z"
   },
   {
    "duration": 3,
    "start_time": "2022-06-26T15:41:27.285Z"
   },
   {
    "duration": 2171,
    "start_time": "2022-06-26T15:41:27.290Z"
   },
   {
    "duration": 301,
    "start_time": "2022-06-26T15:41:29.463Z"
   },
   {
    "duration": 4,
    "start_time": "2022-06-26T15:41:29.765Z"
   },
   {
    "duration": 108853,
    "start_time": "2022-06-26T15:41:29.794Z"
   },
   {
    "duration": 8,
    "start_time": "2022-06-26T15:43:18.649Z"
   },
   {
    "duration": 7,
    "start_time": "2022-06-26T15:43:18.659Z"
   },
   {
    "duration": 91,
    "start_time": "2022-06-26T15:43:18.667Z"
   },
   {
    "duration": 212,
    "start_time": "2022-06-26T15:43:18.760Z"
   },
   {
    "duration": 99,
    "start_time": "2022-06-26T15:43:18.974Z"
   },
   {
    "duration": 1371,
    "start_time": "2022-06-26T15:43:19.074Z"
   },
   {
    "duration": 8428,
    "start_time": "2022-06-26T15:43:20.448Z"
   },
   {
    "duration": 4,
    "start_time": "2022-06-26T15:43:28.877Z"
   },
   {
    "duration": 13,
    "start_time": "2022-06-26T15:43:28.883Z"
   },
   {
    "duration": 8,
    "start_time": "2022-06-26T15:43:28.898Z"
   },
   {
    "duration": 33829,
    "start_time": "2022-06-26T15:43:42.701Z"
   },
   {
    "duration": 5,
    "start_time": "2022-06-26T15:47:51.864Z"
   },
   {
    "duration": 128,
    "start_time": "2022-06-26T15:47:53.010Z"
   },
   {
    "duration": 1947,
    "start_time": "2022-06-26T15:48:14.555Z"
   },
   {
    "duration": 9,
    "start_time": "2022-06-26T15:48:58.224Z"
   },
   {
    "duration": 1869,
    "start_time": "2022-06-26T15:49:02.255Z"
   },
   {
    "duration": 17,
    "start_time": "2022-06-26T15:49:25.366Z"
   },
   {
    "duration": 7,
    "start_time": "2022-06-26T15:50:07.793Z"
   },
   {
    "duration": 1846,
    "start_time": "2022-06-26T15:50:13.311Z"
   },
   {
    "duration": 8,
    "start_time": "2022-06-26T15:50:19.243Z"
   },
   {
    "duration": 4,
    "start_time": "2022-06-26T15:50:52.626Z"
   },
   {
    "duration": 434162,
    "start_time": "2022-06-26T15:51:06.638Z"
   },
   {
    "duration": 5,
    "start_time": "2022-06-26T15:58:20.802Z"
   },
   {
    "duration": 50,
    "start_time": "2022-06-26T16:01:27.037Z"
   },
   {
    "duration": 1876,
    "start_time": "2022-06-26T16:01:27.088Z"
   },
   {
    "duration": 4,
    "start_time": "2022-06-26T16:01:28.967Z"
   },
   {
    "duration": 1579,
    "start_time": "2022-06-26T16:01:28.972Z"
   },
   {
    "duration": 299,
    "start_time": "2022-06-26T16:01:30.554Z"
   },
   {
    "duration": 3,
    "start_time": "2022-06-26T16:01:30.854Z"
   },
   {
    "duration": 96575,
    "start_time": "2022-06-26T16:01:30.859Z"
   },
   {
    "duration": 9,
    "start_time": "2022-06-26T16:03:07.436Z"
   },
   {
    "duration": 11,
    "start_time": "2022-06-26T16:03:07.447Z"
   },
   {
    "duration": 88,
    "start_time": "2022-06-26T16:03:07.460Z"
   },
   {
    "duration": 165,
    "start_time": "2022-06-26T16:03:07.550Z"
   },
   {
    "duration": 183,
    "start_time": "2022-06-26T16:03:07.717Z"
   },
   {
    "duration": 1378,
    "start_time": "2022-06-26T16:03:07.902Z"
   },
   {
    "duration": 7864,
    "start_time": "2022-06-26T16:03:09.283Z"
   },
   {
    "duration": 3,
    "start_time": "2022-06-26T16:03:17.149Z"
   },
   {
    "duration": 10,
    "start_time": "2022-06-26T16:03:17.153Z"
   },
   {
    "duration": 7,
    "start_time": "2022-06-26T16:03:17.165Z"
   },
   {
    "duration": 247373,
    "start_time": "2022-06-26T16:03:17.174Z"
   },
   {
    "duration": 253829,
    "start_time": "2022-06-26T16:15:35.160Z"
   },
   {
    "duration": 461248,
    "start_time": "2022-06-26T16:26:16.391Z"
   },
   {
    "duration": 64,
    "start_time": "2022-06-26T17:56:24.964Z"
   },
   {
    "duration": 1794,
    "start_time": "2022-06-26T17:56:25.030Z"
   },
   {
    "duration": 3,
    "start_time": "2022-06-26T17:56:26.826Z"
   },
   {
    "duration": 2895,
    "start_time": "2022-06-26T17:56:26.831Z"
   },
   {
    "duration": 292,
    "start_time": "2022-06-26T17:56:29.728Z"
   },
   {
    "duration": 4,
    "start_time": "2022-06-26T17:56:30.021Z"
   },
   {
    "duration": 80694,
    "start_time": "2022-06-26T17:56:30.026Z"
   },
   {
    "duration": 7,
    "start_time": "2022-06-26T17:57:50.722Z"
   },
   {
    "duration": 8,
    "start_time": "2022-06-26T17:57:50.730Z"
   },
   {
    "duration": 65,
    "start_time": "2022-06-26T17:57:50.740Z"
   },
   {
    "duration": 105,
    "start_time": "2022-06-26T17:57:50.807Z"
   },
   {
    "duration": 97,
    "start_time": "2022-06-26T17:57:50.913Z"
   },
   {
    "duration": 1397,
    "start_time": "2022-06-26T17:57:51.012Z"
   },
   {
    "duration": 7602,
    "start_time": "2022-06-26T17:57:52.411Z"
   },
   {
    "duration": 4,
    "start_time": "2022-06-26T17:58:00.015Z"
   },
   {
    "duration": 10,
    "start_time": "2022-06-26T17:58:00.020Z"
   },
   {
    "duration": 13,
    "start_time": "2022-06-26T17:58:00.031Z"
   },
   {
    "duration": 48,
    "start_time": "2022-06-26T18:18:08.940Z"
   },
   {
    "duration": 1576,
    "start_time": "2022-06-26T18:18:08.990Z"
   },
   {
    "duration": 4,
    "start_time": "2022-06-26T18:18:10.567Z"
   },
   {
    "duration": 684,
    "start_time": "2022-06-26T18:18:10.573Z"
   },
   {
    "duration": 294,
    "start_time": "2022-06-26T18:18:11.259Z"
   },
   {
    "duration": 3,
    "start_time": "2022-06-26T18:18:11.554Z"
   },
   {
    "duration": 79985,
    "start_time": "2022-06-26T18:18:11.559Z"
   },
   {
    "duration": 8,
    "start_time": "2022-06-26T18:19:31.545Z"
   },
   {
    "duration": 8,
    "start_time": "2022-06-26T18:19:31.554Z"
   },
   {
    "duration": 69,
    "start_time": "2022-06-26T18:19:31.565Z"
   },
   {
    "duration": 113,
    "start_time": "2022-06-26T18:19:31.636Z"
   },
   {
    "duration": 96,
    "start_time": "2022-06-26T18:19:31.751Z"
   },
   {
    "duration": 1385,
    "start_time": "2022-06-26T18:19:31.849Z"
   },
   {
    "duration": 7588,
    "start_time": "2022-06-26T18:19:33.235Z"
   },
   {
    "duration": 3,
    "start_time": "2022-06-26T18:19:40.824Z"
   },
   {
    "duration": 6,
    "start_time": "2022-06-26T18:19:40.829Z"
   },
   {
    "duration": 8,
    "start_time": "2022-06-26T18:19:40.836Z"
   },
   {
    "duration": 1131515,
    "start_time": "2022-06-26T18:19:40.846Z"
   },
   {
    "duration": 47,
    "start_time": "2022-06-26T19:57:19.136Z"
   },
   {
    "duration": 2160,
    "start_time": "2022-06-26T19:57:19.186Z"
   },
   {
    "duration": 4,
    "start_time": "2022-06-26T19:57:21.350Z"
   },
   {
    "duration": 2462,
    "start_time": "2022-06-26T19:57:21.356Z"
   },
   {
    "duration": 314,
    "start_time": "2022-06-26T19:57:23.819Z"
   },
   {
    "duration": 3,
    "start_time": "2022-06-26T19:57:24.135Z"
   },
   {
    "duration": 107773,
    "start_time": "2022-06-26T19:57:24.140Z"
   },
   {
    "duration": 19,
    "start_time": "2022-06-26T19:59:11.915Z"
   },
   {
    "duration": 8,
    "start_time": "2022-06-26T19:59:11.936Z"
   },
   {
    "duration": 79,
    "start_time": "2022-06-26T19:59:11.947Z"
   },
   {
    "duration": 125,
    "start_time": "2022-06-26T19:59:12.030Z"
   },
   {
    "duration": 119,
    "start_time": "2022-06-26T19:59:12.157Z"
   },
   {
    "duration": 1513,
    "start_time": "2022-06-26T19:59:12.278Z"
   },
   {
    "duration": 8537,
    "start_time": "2022-06-26T19:59:13.793Z"
   },
   {
    "duration": 4,
    "start_time": "2022-06-26T19:59:22.331Z"
   },
   {
    "duration": 7,
    "start_time": "2022-06-26T19:59:22.336Z"
   },
   {
    "duration": 7,
    "start_time": "2022-06-26T19:59:22.345Z"
   },
   {
    "duration": 44,
    "start_time": "2022-06-26T20:39:36.400Z"
   },
   {
    "duration": 1813,
    "start_time": "2022-06-26T20:39:36.446Z"
   },
   {
    "duration": 4,
    "start_time": "2022-06-26T20:39:38.261Z"
   },
   {
    "duration": 1952,
    "start_time": "2022-06-26T20:39:38.267Z"
   },
   {
    "duration": 275,
    "start_time": "2022-06-26T20:39:40.221Z"
   },
   {
    "duration": 3,
    "start_time": "2022-06-26T20:39:40.498Z"
   },
   {
    "duration": 100162,
    "start_time": "2022-06-26T20:39:40.503Z"
   },
   {
    "duration": 13,
    "start_time": "2022-06-26T20:41:20.667Z"
   },
   {
    "duration": 16,
    "start_time": "2022-06-26T20:41:20.682Z"
   },
   {
    "duration": 85,
    "start_time": "2022-06-26T20:41:20.701Z"
   },
   {
    "duration": 158,
    "start_time": "2022-06-26T20:41:20.788Z"
   },
   {
    "duration": 167,
    "start_time": "2022-06-26T20:41:20.948Z"
   },
   {
    "duration": 1630,
    "start_time": "2022-06-26T20:41:21.117Z"
   },
   {
    "duration": 8696,
    "start_time": "2022-06-26T20:41:22.749Z"
   },
   {
    "duration": 3,
    "start_time": "2022-06-26T20:41:31.446Z"
   },
   {
    "duration": 30,
    "start_time": "2022-06-26T20:41:31.452Z"
   },
   {
    "duration": 12,
    "start_time": "2022-06-26T20:41:31.485Z"
   },
   {
    "duration": 42,
    "start_time": "2022-06-26T21:00:03.512Z"
   },
   {
    "duration": 1853,
    "start_time": "2022-06-26T21:00:03.556Z"
   },
   {
    "duration": 3,
    "start_time": "2022-06-26T21:00:05.411Z"
   },
   {
    "duration": 2179,
    "start_time": "2022-06-26T21:00:05.415Z"
   },
   {
    "duration": 276,
    "start_time": "2022-06-26T21:00:07.596Z"
   },
   {
    "duration": 3,
    "start_time": "2022-06-26T21:00:07.873Z"
   },
   {
    "duration": 99372,
    "start_time": "2022-06-26T21:00:07.878Z"
   },
   {
    "duration": 7,
    "start_time": "2022-06-26T21:01:47.252Z"
   },
   {
    "duration": 5,
    "start_time": "2022-06-26T21:01:47.260Z"
   },
   {
    "duration": 61,
    "start_time": "2022-06-26T21:01:47.266Z"
   },
   {
    "duration": 140,
    "start_time": "2022-06-26T21:01:47.328Z"
   },
   {
    "duration": 101,
    "start_time": "2022-06-26T21:01:47.470Z"
   },
   {
    "duration": 1272,
    "start_time": "2022-06-26T21:01:47.572Z"
   },
   {
    "duration": 7301,
    "start_time": "2022-06-26T21:01:48.851Z"
   },
   {
    "duration": 2,
    "start_time": "2022-06-26T21:01:56.154Z"
   },
   {
    "duration": 9,
    "start_time": "2022-06-26T21:01:56.158Z"
   },
   {
    "duration": 9,
    "start_time": "2022-06-26T21:01:56.169Z"
   },
   {
    "duration": 32,
    "start_time": "2022-06-26T21:15:19.309Z"
   },
   {
    "duration": 1534,
    "start_time": "2022-06-26T21:15:19.344Z"
   },
   {
    "duration": 6,
    "start_time": "2022-06-26T21:15:20.879Z"
   },
   {
    "duration": 628,
    "start_time": "2022-06-26T21:15:20.887Z"
   },
   {
    "duration": 272,
    "start_time": "2022-06-26T21:15:21.517Z"
   },
   {
    "duration": 4,
    "start_time": "2022-06-26T21:15:21.791Z"
   },
   {
    "duration": 105174,
    "start_time": "2022-06-26T21:15:21.797Z"
   },
   {
    "duration": 10,
    "start_time": "2022-06-26T21:17:06.973Z"
   },
   {
    "duration": 5,
    "start_time": "2022-06-26T21:17:06.985Z"
   },
   {
    "duration": 102,
    "start_time": "2022-06-26T21:17:06.993Z"
   },
   {
    "duration": 121,
    "start_time": "2022-06-26T21:17:07.099Z"
   },
   {
    "duration": 132,
    "start_time": "2022-06-26T21:17:07.221Z"
   },
   {
    "duration": 1345,
    "start_time": "2022-06-26T21:17:07.355Z"
   },
   {
    "duration": 7663,
    "start_time": "2022-06-26T21:17:08.702Z"
   },
   {
    "duration": 3,
    "start_time": "2022-06-26T21:17:16.367Z"
   },
   {
    "duration": 7,
    "start_time": "2022-06-26T21:17:16.372Z"
   },
   {
    "duration": 8,
    "start_time": "2022-06-26T21:17:16.380Z"
   },
   {
    "duration": 6,
    "start_time": "2022-06-26T21:17:40.986Z"
   },
   {
    "duration": 33,
    "start_time": "2022-06-26T21:19:53.711Z"
   },
   {
    "duration": 1733,
    "start_time": "2022-06-26T21:19:53.746Z"
   },
   {
    "duration": 4,
    "start_time": "2022-06-26T21:19:55.481Z"
   },
   {
    "duration": 2223,
    "start_time": "2022-06-26T21:19:55.487Z"
   },
   {
    "duration": 300,
    "start_time": "2022-06-26T21:19:57.713Z"
   },
   {
    "duration": 2,
    "start_time": "2022-06-26T21:19:58.015Z"
   },
   {
    "duration": 87388,
    "start_time": "2022-06-26T21:19:58.019Z"
   },
   {
    "duration": 8,
    "start_time": "2022-06-26T21:21:25.409Z"
   },
   {
    "duration": 5,
    "start_time": "2022-06-26T21:21:25.418Z"
   },
   {
    "duration": 78,
    "start_time": "2022-06-26T21:21:25.424Z"
   },
   {
    "duration": 104,
    "start_time": "2022-06-26T21:21:25.503Z"
   },
   {
    "duration": 98,
    "start_time": "2022-06-26T21:21:25.608Z"
   },
   {
    "duration": 1317,
    "start_time": "2022-06-26T21:21:25.707Z"
   },
   {
    "duration": 7659,
    "start_time": "2022-06-26T21:21:27.028Z"
   },
   {
    "duration": 3,
    "start_time": "2022-06-26T21:21:34.689Z"
   },
   {
    "duration": 5,
    "start_time": "2022-06-26T21:21:34.693Z"
   },
   {
    "duration": 5600,
    "start_time": "2022-06-26T21:27:33.986Z"
   },
   {
    "duration": 0,
    "start_time": "2022-06-26T21:27:39.588Z"
   },
   {
    "duration": 5500,
    "start_time": "2022-06-26T21:28:56.791Z"
   },
   {
    "duration": 5878,
    "start_time": "2022-06-26T21:30:06.168Z"
   },
   {
    "duration": 24,
    "start_time": "2022-06-26T21:30:53.905Z"
   },
   {
    "duration": 4,
    "start_time": "2022-06-26T21:30:53.931Z"
   },
   {
    "duration": 5,
    "start_time": "2022-06-26T21:30:53.937Z"
   },
   {
    "duration": 690,
    "start_time": "2022-06-26T21:30:53.945Z"
   },
   {
    "duration": 246,
    "start_time": "2022-06-26T21:30:54.637Z"
   },
   {
    "duration": 18,
    "start_time": "2022-06-26T21:30:54.884Z"
   },
   {
    "duration": 87822,
    "start_time": "2022-06-26T21:30:54.904Z"
   },
   {
    "duration": 10,
    "start_time": "2022-06-26T21:32:22.728Z"
   },
   {
    "duration": 15,
    "start_time": "2022-06-26T21:32:22.740Z"
   },
   {
    "duration": 76,
    "start_time": "2022-06-26T21:32:22.757Z"
   },
   {
    "duration": 85,
    "start_time": "2022-06-26T21:32:22.837Z"
   },
   {
    "duration": 125,
    "start_time": "2022-06-26T21:32:22.926Z"
   },
   {
    "duration": 36,
    "start_time": "2022-06-26T21:34:07.196Z"
   },
   {
    "duration": 1535,
    "start_time": "2022-06-26T21:34:07.234Z"
   },
   {
    "duration": 4,
    "start_time": "2022-06-26T21:34:08.770Z"
   },
   {
    "duration": 2083,
    "start_time": "2022-06-26T21:34:08.775Z"
   },
   {
    "duration": 255,
    "start_time": "2022-06-26T21:34:10.859Z"
   },
   {
    "duration": 34,
    "start_time": "2022-06-26T21:34:11.116Z"
   },
   {
    "duration": 81429,
    "start_time": "2022-06-26T21:34:11.151Z"
   },
   {
    "duration": 10,
    "start_time": "2022-06-26T21:35:32.582Z"
   },
   {
    "duration": 6,
    "start_time": "2022-06-26T21:35:32.593Z"
   },
   {
    "duration": 68,
    "start_time": "2022-06-26T21:35:32.601Z"
   },
   {
    "duration": 167,
    "start_time": "2022-06-26T21:35:32.671Z"
   },
   {
    "duration": 114,
    "start_time": "2022-06-26T21:35:32.839Z"
   },
   {
    "duration": 1260,
    "start_time": "2022-06-26T21:35:32.955Z"
   },
   {
    "duration": 6749,
    "start_time": "2022-06-26T21:35:34.217Z"
   },
   {
    "duration": 3,
    "start_time": "2022-06-26T21:35:40.967Z"
   },
   {
    "duration": 26,
    "start_time": "2022-06-26T21:36:19.544Z"
   },
   {
    "duration": 4,
    "start_time": "2022-06-26T21:36:19.572Z"
   },
   {
    "duration": 7,
    "start_time": "2022-06-26T21:36:19.578Z"
   },
   {
    "duration": 599,
    "start_time": "2022-06-26T21:36:19.586Z"
   },
   {
    "duration": 276,
    "start_time": "2022-06-26T21:36:20.187Z"
   },
   {
    "duration": 17,
    "start_time": "2022-06-26T21:36:20.464Z"
   },
   {
    "duration": 77836,
    "start_time": "2022-06-26T21:36:20.483Z"
   },
   {
    "duration": 8,
    "start_time": "2022-06-26T21:37:38.321Z"
   },
   {
    "duration": 19,
    "start_time": "2022-06-26T21:37:38.331Z"
   },
   {
    "duration": 50,
    "start_time": "2022-06-26T21:37:38.352Z"
   },
   {
    "duration": 94,
    "start_time": "2022-06-26T21:37:38.404Z"
   },
   {
    "duration": 94,
    "start_time": "2022-06-26T21:37:38.499Z"
   },
   {
    "duration": 41,
    "start_time": "2022-06-26T21:39:14.306Z"
   },
   {
    "duration": 6,
    "start_time": "2022-06-26T21:39:23.220Z"
   },
   {
    "duration": 28,
    "start_time": "2022-06-26T21:39:31.289Z"
   },
   {
    "duration": 1440,
    "start_time": "2022-06-26T21:39:31.318Z"
   },
   {
    "duration": 3,
    "start_time": "2022-06-26T21:39:32.760Z"
   },
   {
    "duration": 2035,
    "start_time": "2022-06-26T21:39:32.765Z"
   },
   {
    "duration": 257,
    "start_time": "2022-06-26T21:39:34.801Z"
   },
   {
    "duration": 3,
    "start_time": "2022-06-26T21:39:35.059Z"
   },
   {
    "duration": 77745,
    "start_time": "2022-06-26T21:39:35.063Z"
   },
   {
    "duration": 7,
    "start_time": "2022-06-26T21:40:52.809Z"
   },
   {
    "duration": 5,
    "start_time": "2022-06-26T21:40:52.817Z"
   },
   {
    "duration": 72,
    "start_time": "2022-06-26T21:40:52.824Z"
   },
   {
    "duration": 101,
    "start_time": "2022-06-26T21:40:52.897Z"
   },
   {
    "duration": 94,
    "start_time": "2022-06-26T21:40:53.000Z"
   },
   {
    "duration": 1242,
    "start_time": "2022-06-26T21:40:53.095Z"
   },
   {
    "duration": 6741,
    "start_time": "2022-06-26T21:40:54.339Z"
   },
   {
    "duration": 3,
    "start_time": "2022-06-26T21:41:01.081Z"
   },
   {
    "duration": 4,
    "start_time": "2022-06-26T21:44:00.820Z"
   },
   {
    "duration": 4,
    "start_time": "2022-06-26T21:44:01.396Z"
   },
   {
    "duration": 4,
    "start_time": "2022-06-26T21:44:09.871Z"
   },
   {
    "duration": 40,
    "start_time": "2022-06-26T21:47:10.536Z"
   },
   {
    "duration": 1495,
    "start_time": "2022-06-26T21:47:10.578Z"
   },
   {
    "duration": 3,
    "start_time": "2022-06-26T21:47:12.075Z"
   },
   {
    "duration": 2076,
    "start_time": "2022-06-26T21:47:12.080Z"
   },
   {
    "duration": 248,
    "start_time": "2022-06-26T21:47:14.158Z"
   },
   {
    "duration": 3,
    "start_time": "2022-06-26T21:47:14.408Z"
   },
   {
    "duration": 77167,
    "start_time": "2022-06-26T21:47:14.413Z"
   },
   {
    "duration": 7,
    "start_time": "2022-06-26T21:48:31.582Z"
   },
   {
    "duration": 6,
    "start_time": "2022-06-26T21:48:31.590Z"
   },
   {
    "duration": 67,
    "start_time": "2022-06-26T21:48:31.598Z"
   },
   {
    "duration": 103,
    "start_time": "2022-06-26T21:48:31.667Z"
   },
   {
    "duration": 159,
    "start_time": "2022-06-26T21:48:31.771Z"
   },
   {
    "duration": 1257,
    "start_time": "2022-06-26T21:48:31.932Z"
   },
   {
    "duration": 6691,
    "start_time": "2022-06-26T21:48:33.190Z"
   },
   {
    "duration": 3,
    "start_time": "2022-06-26T21:48:39.883Z"
   },
   {
    "duration": 5,
    "start_time": "2022-06-26T21:48:39.887Z"
   },
   {
    "duration": 6,
    "start_time": "2022-06-26T21:48:39.893Z"
   },
   {
    "duration": 4,
    "start_time": "2022-06-26T21:49:05.510Z"
   },
   {
    "duration": 107679,
    "start_time": "2022-06-26T21:49:06.058Z"
   },
   {
    "duration": 8,
    "start_time": "2022-06-26T21:51:04.455Z"
   },
   {
    "duration": 665654,
    "start_time": "2022-06-26T21:51:31.773Z"
   },
   {
    "duration": 144,
    "start_time": "2022-06-26T22:06:11.681Z"
   },
   {
    "duration": 10,
    "start_time": "2022-06-26T22:06:12.006Z"
   },
   {
    "duration": 33,
    "start_time": "2022-06-26T22:08:12.400Z"
   },
   {
    "duration": 33,
    "start_time": "2022-06-26T22:12:41.303Z"
   },
   {
    "duration": 4,
    "start_time": "2022-06-26T22:14:45.925Z"
   },
   {
    "duration": 33,
    "start_time": "2022-06-26T22:14:51.969Z"
   },
   {
    "duration": 36,
    "start_time": "2022-06-26T22:15:10.562Z"
   },
   {
    "duration": 2,
    "start_time": "2022-06-26T22:16:41.960Z"
   },
   {
    "duration": 35,
    "start_time": "2022-06-26T22:16:42.505Z"
   },
   {
    "duration": 26,
    "start_time": "2022-06-26T22:18:06.326Z"
   },
   {
    "duration": 5,
    "start_time": "2022-06-26T22:18:06.354Z"
   },
   {
    "duration": 6,
    "start_time": "2022-06-26T22:18:06.361Z"
   },
   {
    "duration": 670,
    "start_time": "2022-06-26T22:18:06.369Z"
   },
   {
    "duration": 285,
    "start_time": "2022-06-26T22:18:07.041Z"
   },
   {
    "duration": 43,
    "start_time": "2022-06-26T22:18:07.327Z"
   },
   {
    "duration": 95606,
    "start_time": "2022-06-26T22:18:07.372Z"
   },
   {
    "duration": 7,
    "start_time": "2022-06-26T22:19:42.980Z"
   },
   {
    "duration": 5,
    "start_time": "2022-06-26T22:19:42.988Z"
   },
   {
    "duration": 78,
    "start_time": "2022-06-26T22:19:42.995Z"
   },
   {
    "duration": 94,
    "start_time": "2022-06-26T22:19:43.074Z"
   },
   {
    "duration": 109,
    "start_time": "2022-06-26T22:19:43.170Z"
   },
   {
    "duration": 2,
    "start_time": "2022-06-26T22:19:43.281Z"
   },
   {
    "duration": 32,
    "start_time": "2022-06-26T22:19:43.284Z"
   },
   {
    "duration": 112,
    "start_time": "2022-06-26T22:19:43.318Z"
   },
   {
    "duration": 49,
    "start_time": "2022-06-26T22:21:15.073Z"
   },
   {
    "duration": 1601,
    "start_time": "2022-06-26T22:21:15.125Z"
   },
   {
    "duration": 4,
    "start_time": "2022-06-26T22:21:16.727Z"
   },
   {
    "duration": 2143,
    "start_time": "2022-06-26T22:21:16.733Z"
   },
   {
    "duration": 279,
    "start_time": "2022-06-26T22:21:18.878Z"
   },
   {
    "duration": 3,
    "start_time": "2022-06-26T22:21:19.158Z"
   },
   {
    "duration": 94894,
    "start_time": "2022-06-26T22:21:19.163Z"
   },
   {
    "duration": 7,
    "start_time": "2022-06-26T22:22:54.059Z"
   },
   {
    "duration": 5,
    "start_time": "2022-06-26T22:22:54.068Z"
   },
   {
    "duration": 88,
    "start_time": "2022-06-26T22:22:54.075Z"
   },
   {
    "duration": 186,
    "start_time": "2022-06-26T22:22:54.164Z"
   },
   {
    "duration": 112,
    "start_time": "2022-06-26T22:22:54.352Z"
   },
   {
    "duration": 3,
    "start_time": "2022-06-26T22:22:54.466Z"
   },
   {
    "duration": 48,
    "start_time": "2022-06-26T22:22:54.470Z"
   },
   {
    "duration": 133,
    "start_time": "2022-06-26T22:22:54.521Z"
   },
   {
    "duration": 1268,
    "start_time": "2022-06-26T22:22:54.656Z"
   },
   {
    "duration": 7108,
    "start_time": "2022-06-26T22:22:55.926Z"
   },
   {
    "duration": 3,
    "start_time": "2022-06-26T22:23:03.035Z"
   },
   {
    "duration": 3,
    "start_time": "2022-06-26T22:24:21.071Z"
   },
   {
    "duration": 145,
    "start_time": "2022-06-26T22:24:21.542Z"
   },
   {
    "duration": 28,
    "start_time": "2022-06-26T22:24:51.884Z"
   },
   {
    "duration": 21,
    "start_time": "2022-06-26T22:25:06.044Z"
   },
   {
    "duration": 5,
    "start_time": "2022-06-26T22:25:24.387Z"
   },
   {
    "duration": 36,
    "start_time": "2022-06-26T22:25:33.033Z"
   },
   {
    "duration": 5,
    "start_time": "2022-06-26T22:26:13.749Z"
   },
   {
    "duration": 38,
    "start_time": "2022-06-26T22:26:14.498Z"
   },
   {
    "duration": 10,
    "start_time": "2022-06-26T22:34:42.066Z"
   },
   {
    "duration": 14,
    "start_time": "2022-06-26T22:35:14.354Z"
   },
   {
    "duration": 5,
    "start_time": "2022-06-26T22:35:26.769Z"
   },
   {
    "duration": 50,
    "start_time": "2022-06-26T22:36:49.499Z"
   },
   {
    "duration": 1509,
    "start_time": "2022-06-26T22:36:49.552Z"
   },
   {
    "duration": 3,
    "start_time": "2022-06-26T22:36:51.068Z"
   },
   {
    "duration": 657,
    "start_time": "2022-06-26T22:36:51.072Z"
   },
   {
    "duration": 282,
    "start_time": "2022-06-26T22:36:51.731Z"
   },
   {
    "duration": 4,
    "start_time": "2022-06-26T22:36:52.015Z"
   },
   {
    "duration": 93168,
    "start_time": "2022-06-26T22:36:52.054Z"
   },
   {
    "duration": 6,
    "start_time": "2022-06-26T22:38:25.224Z"
   },
   {
    "duration": 8,
    "start_time": "2022-06-26T22:38:25.232Z"
   },
   {
    "duration": 60,
    "start_time": "2022-06-26T22:38:25.258Z"
   },
   {
    "duration": 115,
    "start_time": "2022-06-26T22:38:25.320Z"
   },
   {
    "duration": 115,
    "start_time": "2022-06-26T22:38:25.437Z"
   },
   {
    "duration": 3,
    "start_time": "2022-06-26T22:38:25.554Z"
   },
   {
    "duration": 20,
    "start_time": "2022-06-26T22:38:25.560Z"
   },
   {
    "duration": 10,
    "start_time": "2022-06-26T22:44:38.011Z"
   },
   {
    "duration": 3,
    "start_time": "2022-06-26T22:44:48.387Z"
   },
   {
    "duration": 28,
    "start_time": "2022-06-26T22:44:51.105Z"
   },
   {
    "duration": 89,
    "start_time": "2022-06-26T22:44:54.707Z"
   },
   {
    "duration": 1281,
    "start_time": "2022-06-26T22:45:08.231Z"
   },
   {
    "duration": 7374,
    "start_time": "2022-06-26T22:45:09.514Z"
   },
   {
    "duration": 4,
    "start_time": "2022-06-26T22:45:26.541Z"
   },
   {
    "duration": 5,
    "start_time": "2022-06-26T22:45:37.075Z"
   },
   {
    "duration": 4,
    "start_time": "2022-06-26T22:45:42.921Z"
   },
   {
    "duration": 4,
    "start_time": "2022-06-26T22:46:15.958Z"
   },
   {
    "duration": 112196,
    "start_time": "2022-06-26T22:46:16.926Z"
   },
   {
    "duration": 7,
    "start_time": "2022-06-26T22:48:21.569Z"
   },
   {
    "duration": 6,
    "start_time": "2022-06-26T22:49:19.260Z"
   },
   {
    "duration": 365051,
    "start_time": "2022-06-26T22:49:19.970Z"
   },
   {
    "duration": 8,
    "start_time": "2022-06-26T22:59:51.585Z"
   },
   {
    "duration": 77,
    "start_time": "2022-06-27T18:13:49.837Z"
   },
   {
    "duration": 42,
    "start_time": "2022-06-27T18:24:29.196Z"
   },
   {
    "duration": 4120,
    "start_time": "2022-06-27T18:24:29.240Z"
   },
   {
    "duration": 6,
    "start_time": "2022-06-27T18:24:33.367Z"
   },
   {
    "duration": 2778,
    "start_time": "2022-06-27T18:24:33.376Z"
   },
   {
    "duration": 356,
    "start_time": "2022-06-27T18:24:36.156Z"
   },
   {
    "duration": 3,
    "start_time": "2022-06-27T18:24:36.513Z"
   },
   {
    "duration": 7684,
    "start_time": "2022-06-27T18:24:36.517Z"
   },
   {
    "duration": 8,
    "start_time": "2022-06-27T18:24:44.202Z"
   },
   {
    "duration": 6,
    "start_time": "2022-06-27T18:24:44.212Z"
   },
   {
    "duration": 91,
    "start_time": "2022-06-27T18:24:44.220Z"
   },
   {
    "duration": 121,
    "start_time": "2022-06-27T18:24:44.313Z"
   },
   {
    "duration": 117,
    "start_time": "2022-06-27T18:24:44.435Z"
   },
   {
    "duration": 6,
    "start_time": "2022-06-27T18:24:44.554Z"
   },
   {
    "duration": 50,
    "start_time": "2022-06-27T18:24:44.569Z"
   },
   {
    "duration": 102,
    "start_time": "2022-06-27T18:24:44.620Z"
   },
   {
    "duration": 3,
    "start_time": "2022-06-27T18:24:44.724Z"
   },
   {
    "duration": 25,
    "start_time": "2022-06-27T18:47:55.292Z"
   },
   {
    "duration": 6,
    "start_time": "2022-06-27T18:47:55.319Z"
   },
   {
    "duration": 27,
    "start_time": "2022-06-27T18:47:55.326Z"
   },
   {
    "duration": 917,
    "start_time": "2022-06-27T18:47:55.355Z"
   },
   {
    "duration": 383,
    "start_time": "2022-06-27T18:47:56.282Z"
   },
   {
    "duration": 5,
    "start_time": "2022-06-27T18:47:56.667Z"
   },
   {
    "duration": 6392,
    "start_time": "2022-06-27T18:47:56.673Z"
   },
   {
    "duration": 9,
    "start_time": "2022-06-27T18:48:03.067Z"
   },
   {
    "duration": 31,
    "start_time": "2022-06-27T18:48:03.078Z"
   },
   {
    "duration": 86,
    "start_time": "2022-06-27T18:48:03.112Z"
   },
   {
    "duration": 115,
    "start_time": "2022-06-27T18:48:03.200Z"
   },
   {
    "duration": 113,
    "start_time": "2022-06-27T18:48:03.317Z"
   },
   {
    "duration": 6,
    "start_time": "2022-06-27T18:48:03.432Z"
   },
   {
    "duration": 7348,
    "start_time": "2022-06-27T18:48:03.440Z"
   },
   {
    "duration": 13,
    "start_time": "2022-06-27T18:48:10.790Z"
   },
   {
    "duration": 6,
    "start_time": "2022-06-27T18:48:20.391Z"
   },
   {
    "duration": 4,
    "start_time": "2022-06-27T18:48:24.047Z"
   },
   {
    "duration": 214,
    "start_time": "2022-06-27T18:48:35.606Z"
   },
   {
    "duration": 74,
    "start_time": "2022-06-27T18:49:22.585Z"
   },
   {
    "duration": 933948,
    "start_time": "2022-06-27T18:53:22.288Z"
   },
   {
    "duration": 926253,
    "start_time": "2022-06-27T19:25:25.838Z"
   },
   {
    "duration": 77,
    "start_time": "2022-06-27T19:44:05.283Z"
   },
   {
    "duration": 6,
    "start_time": "2022-06-27T19:46:24.563Z"
   },
   {
    "duration": 63863,
    "start_time": "2022-06-27T19:46:59.835Z"
   },
   {
    "duration": 38,
    "start_time": "2022-06-27T19:49:20.389Z"
   },
   {
    "duration": 45,
    "start_time": "2022-06-27T21:37:59.217Z"
   },
   {
    "duration": 1800,
    "start_time": "2022-06-27T21:37:59.267Z"
   },
   {
    "duration": 16,
    "start_time": "2022-06-27T21:38:01.072Z"
   },
   {
    "duration": 926,
    "start_time": "2022-06-27T21:38:01.095Z"
   },
   {
    "duration": 383,
    "start_time": "2022-06-27T21:38:02.023Z"
   },
   {
    "duration": 3,
    "start_time": "2022-06-27T21:38:02.408Z"
   },
   {
    "duration": 1494,
    "start_time": "2022-06-27T21:38:02.413Z"
   },
   {
    "duration": 6643,
    "start_time": "2022-06-27T21:38:03.909Z"
   },
   {
    "duration": 16,
    "start_time": "2022-06-27T21:38:10.554Z"
   },
   {
    "duration": 23,
    "start_time": "2022-06-27T21:38:10.580Z"
   },
   {
    "duration": 93,
    "start_time": "2022-06-27T21:38:10.605Z"
   },
   {
    "duration": 132,
    "start_time": "2022-06-27T21:38:10.699Z"
   },
   {
    "duration": 119,
    "start_time": "2022-06-27T21:38:10.833Z"
   },
   {
    "duration": 4,
    "start_time": "2022-06-27T21:38:10.958Z"
   },
   {
    "duration": 8283,
    "start_time": "2022-06-27T21:38:10.968Z"
   },
   {
    "duration": 16,
    "start_time": "2022-06-27T21:38:19.253Z"
   },
   {
    "duration": 6,
    "start_time": "2022-06-27T21:38:24.408Z"
   },
   {
    "duration": 6,
    "start_time": "2022-06-27T21:38:27.125Z"
   },
   {
    "duration": 7,
    "start_time": "2022-06-27T21:38:48.483Z"
   },
   {
    "duration": 4,
    "start_time": "2022-06-27T21:39:16.907Z"
   },
   {
    "duration": 4,
    "start_time": "2022-06-27T21:39:22.094Z"
   },
   {
    "duration": 220,
    "start_time": "2022-06-27T21:40:26.715Z"
   },
   {
    "duration": 9,
    "start_time": "2022-06-27T21:41:00.400Z"
   },
   {
    "duration": 3786,
    "start_time": "2022-06-27T21:41:16.333Z"
   },
   {
    "duration": 9,
    "start_time": "2022-06-27T21:41:30.678Z"
   },
   {
    "duration": 4,
    "start_time": "2022-06-27T21:41:36.845Z"
   },
   {
    "duration": 3400,
    "start_time": "2022-06-27T21:41:38.363Z"
   },
   {
    "duration": 58,
    "start_time": "2022-06-27T21:42:46.515Z"
   },
   {
    "duration": 42,
    "start_time": "2022-06-27T21:49:53.712Z"
   },
   {
    "duration": 1826,
    "start_time": "2022-06-27T21:49:53.756Z"
   },
   {
    "duration": 5,
    "start_time": "2022-06-27T21:49:55.584Z"
   },
   {
    "duration": 929,
    "start_time": "2022-06-27T21:49:55.594Z"
   },
   {
    "duration": 410,
    "start_time": "2022-06-27T21:49:56.524Z"
   },
   {
    "duration": 4,
    "start_time": "2022-06-27T21:49:56.936Z"
   },
   {
    "duration": 1548,
    "start_time": "2022-06-27T21:49:56.962Z"
   },
   {
    "duration": 6670,
    "start_time": "2022-06-27T21:49:58.512Z"
   },
   {
    "duration": 9,
    "start_time": "2022-06-27T21:50:05.183Z"
   },
   {
    "duration": 11,
    "start_time": "2022-06-27T21:50:05.195Z"
   },
   {
    "duration": 82,
    "start_time": "2022-06-27T21:50:05.209Z"
   },
   {
    "duration": 130,
    "start_time": "2022-06-27T21:50:05.294Z"
   },
   {
    "duration": 114,
    "start_time": "2022-06-27T21:50:05.426Z"
   },
   {
    "duration": 4,
    "start_time": "2022-06-27T21:50:05.542Z"
   },
   {
    "duration": 7877,
    "start_time": "2022-06-27T21:50:05.547Z"
   },
   {
    "duration": 4,
    "start_time": "2022-06-27T21:50:13.426Z"
   },
   {
    "duration": 6,
    "start_time": "2022-06-27T21:50:13.432Z"
   },
   {
    "duration": 24,
    "start_time": "2022-06-27T21:50:13.440Z"
   },
   {
    "duration": 7,
    "start_time": "2022-06-27T21:50:13.466Z"
   },
   {
    "duration": 29,
    "start_time": "2022-06-27T21:50:13.475Z"
   },
   {
    "duration": 932437,
    "start_time": "2022-06-27T21:50:13.506Z"
   },
   {
    "duration": 8776,
    "start_time": "2022-06-27T22:06:00.087Z"
   },
   {
    "duration": 26,
    "start_time": "2022-06-27T22:09:26.027Z"
   },
   {
    "duration": 10,
    "start_time": "2022-06-27T22:09:26.054Z"
   },
   {
    "duration": 47,
    "start_time": "2022-06-27T22:09:26.069Z"
   },
   {
    "duration": 893,
    "start_time": "2022-06-27T22:09:26.119Z"
   },
   {
    "duration": 379,
    "start_time": "2022-06-27T22:09:27.015Z"
   },
   {
    "duration": 5,
    "start_time": "2022-06-27T22:09:27.399Z"
   },
   {
    "duration": 34,
    "start_time": "2022-06-27T22:09:27.406Z"
   },
   {
    "duration": 6424,
    "start_time": "2022-06-27T22:09:27.442Z"
   },
   {
    "duration": 13,
    "start_time": "2022-06-27T22:09:33.872Z"
   },
   {
    "duration": 6,
    "start_time": "2022-06-27T22:09:33.890Z"
   },
   {
    "duration": 72,
    "start_time": "2022-06-27T22:09:33.897Z"
   },
   {
    "duration": 108,
    "start_time": "2022-06-27T22:09:33.971Z"
   },
   {
    "duration": 116,
    "start_time": "2022-06-27T22:09:34.080Z"
   },
   {
    "duration": 8,
    "start_time": "2022-06-27T22:09:34.197Z"
   },
   {
    "duration": 7035,
    "start_time": "2022-06-27T22:09:34.207Z"
   },
   {
    "duration": 4,
    "start_time": "2022-06-27T22:09:41.243Z"
   },
   {
    "duration": 13,
    "start_time": "2022-06-27T22:09:41.259Z"
   },
   {
    "duration": 25,
    "start_time": "2022-06-27T22:09:41.273Z"
   },
   {
    "duration": 6,
    "start_time": "2022-06-27T22:09:41.300Z"
   },
   {
    "duration": 6,
    "start_time": "2022-06-27T22:09:41.308Z"
   },
   {
    "duration": 6286,
    "start_time": "2022-06-27T22:09:41.317Z"
   },
   {
    "duration": 28,
    "start_time": "2022-06-27T22:12:18.592Z"
   },
   {
    "duration": 6,
    "start_time": "2022-06-27T22:12:18.621Z"
   },
   {
    "duration": 12,
    "start_time": "2022-06-27T22:12:18.629Z"
   },
   {
    "duration": 814,
    "start_time": "2022-06-27T22:12:18.643Z"
   },
   {
    "duration": 343,
    "start_time": "2022-06-27T22:12:19.458Z"
   },
   {
    "duration": 4,
    "start_time": "2022-06-27T22:12:19.802Z"
   },
   {
    "duration": 7,
    "start_time": "2022-06-27T22:12:19.807Z"
   },
   {
    "duration": 6276,
    "start_time": "2022-06-27T22:12:19.815Z"
   },
   {
    "duration": 7,
    "start_time": "2022-06-27T22:12:26.093Z"
   },
   {
    "duration": 7,
    "start_time": "2022-06-27T22:12:26.102Z"
   },
   {
    "duration": 95,
    "start_time": "2022-06-27T22:12:26.110Z"
   },
   {
    "duration": 107,
    "start_time": "2022-06-27T22:12:26.206Z"
   },
   {
    "duration": 109,
    "start_time": "2022-06-27T22:12:26.315Z"
   },
   {
    "duration": 7,
    "start_time": "2022-06-27T22:12:26.426Z"
   },
   {
    "duration": 6957,
    "start_time": "2022-06-27T22:12:26.434Z"
   },
   {
    "duration": 4,
    "start_time": "2022-06-27T22:12:33.394Z"
   },
   {
    "duration": 4521,
    "start_time": "2022-06-27T22:12:53.215Z"
   },
   {
    "duration": 31,
    "start_time": "2022-06-27T22:15:27.713Z"
   },
   {
    "duration": 4,
    "start_time": "2022-06-27T22:15:27.747Z"
   },
   {
    "duration": 41,
    "start_time": "2022-06-27T22:15:27.753Z"
   },
   {
    "duration": 883,
    "start_time": "2022-06-27T22:15:27.796Z"
   },
   {
    "duration": 335,
    "start_time": "2022-06-27T22:15:28.683Z"
   },
   {
    "duration": 4,
    "start_time": "2022-06-27T22:15:29.019Z"
   },
   {
    "duration": 40,
    "start_time": "2022-06-27T22:15:29.024Z"
   },
   {
    "duration": 6630,
    "start_time": "2022-06-27T22:15:29.079Z"
   },
   {
    "duration": 11,
    "start_time": "2022-06-27T22:15:35.711Z"
   },
   {
    "duration": 19,
    "start_time": "2022-06-27T22:15:35.724Z"
   },
   {
    "duration": 76,
    "start_time": "2022-06-27T22:15:35.745Z"
   },
   {
    "duration": 172,
    "start_time": "2022-06-27T22:15:35.824Z"
   },
   {
    "duration": 116,
    "start_time": "2022-06-27T22:15:35.999Z"
   },
   {
    "duration": 8,
    "start_time": "2022-06-27T22:15:36.118Z"
   },
   {
    "duration": 7835,
    "start_time": "2022-06-27T22:15:36.128Z"
   },
   {
    "duration": 13,
    "start_time": "2022-06-27T22:15:43.965Z"
   },
   {
    "duration": 127019,
    "start_time": "2022-06-27T22:15:43.979Z"
   },
   {
    "duration": 1874420,
    "start_time": "2022-06-27T22:19:09.647Z"
   },
   {
    "duration": 6002127,
    "start_time": "2022-06-27T22:50:24.076Z"
   },
   {
    "duration": 5,
    "start_time": "2022-06-28T00:30:36.333Z"
   },
   {
    "duration": 25195,
    "start_time": "2022-06-28T00:30:36.730Z"
   },
   {
    "duration": 8,
    "start_time": "2022-06-28T00:31:04.397Z"
   },
   {
    "duration": 7,
    "start_time": "2022-06-28T00:31:30.119Z"
   },
   {
    "duration": 25367,
    "start_time": "2022-06-28T00:31:30.519Z"
   },
   {
    "duration": 7,
    "start_time": "2022-06-28T00:32:00.041Z"
   },
   {
    "duration": 71,
    "start_time": "2022-06-28T00:36:39.248Z"
   },
   {
    "duration": 41,
    "start_time": "2022-06-29T11:50:13.169Z"
   },
   {
    "duration": 1736,
    "start_time": "2022-06-29T11:50:13.211Z"
   },
   {
    "duration": 5,
    "start_time": "2022-06-29T11:50:14.948Z"
   },
   {
    "duration": 2066,
    "start_time": "2022-06-29T11:50:14.955Z"
   },
   {
    "duration": 300,
    "start_time": "2022-06-29T11:50:17.023Z"
   },
   {
    "duration": 4,
    "start_time": "2022-06-29T11:50:17.325Z"
   },
   {
    "duration": 624,
    "start_time": "2022-06-29T11:50:17.330Z"
   },
   {
    "duration": 97,
    "start_time": "2022-06-29T11:50:25.715Z"
   },
   {
    "duration": 9,
    "start_time": "2022-06-29T11:51:53.430Z"
   },
   {
    "duration": 6,
    "start_time": "2022-06-29T11:51:55.495Z"
   },
   {
    "duration": 5,
    "start_time": "2022-06-29T11:52:33.963Z"
   },
   {
    "duration": 5,
    "start_time": "2022-06-29T11:52:34.941Z"
   },
   {
    "duration": 5,
    "start_time": "2022-06-29T11:58:00.703Z"
   },
   {
    "duration": 193,
    "start_time": "2022-06-29T11:58:04.344Z"
   },
   {
    "duration": 4,
    "start_time": "2022-06-29T11:59:17.147Z"
   },
   {
    "duration": 20,
    "start_time": "2022-06-29T11:59:18.923Z"
   },
   {
    "duration": 5,
    "start_time": "2022-06-29T12:00:01.414Z"
   },
   {
    "duration": 1241,
    "start_time": "2022-06-29T12:00:02.724Z"
   },
   {
    "duration": 5,
    "start_time": "2022-06-29T12:04:27.284Z"
   },
   {
    "duration": 15,
    "start_time": "2022-06-29T12:04:29.314Z"
   },
   {
    "duration": 5,
    "start_time": "2022-06-29T12:04:50.688Z"
   },
   {
    "duration": 22,
    "start_time": "2022-06-29T12:04:52.396Z"
   },
   {
    "duration": 80,
    "start_time": "2022-06-29T12:05:02.801Z"
   },
   {
    "duration": 7,
    "start_time": "2022-06-29T12:05:02.884Z"
   },
   {
    "duration": 7,
    "start_time": "2022-06-29T12:05:02.892Z"
   },
   {
    "duration": 712,
    "start_time": "2022-06-29T12:05:02.900Z"
   },
   {
    "duration": 299,
    "start_time": "2022-06-29T12:05:03.615Z"
   },
   {
    "duration": 4,
    "start_time": "2022-06-29T12:05:03.916Z"
   },
   {
    "duration": 13,
    "start_time": "2022-06-29T12:05:03.923Z"
   },
   {
    "duration": 18,
    "start_time": "2022-06-29T12:05:07.051Z"
   },
   {
    "duration": 5,
    "start_time": "2022-06-29T12:05:26.192Z"
   },
   {
    "duration": 16,
    "start_time": "2022-06-29T12:05:26.697Z"
   },
   {
    "duration": 5,
    "start_time": "2022-06-29T12:10:53.381Z"
   },
   {
    "duration": 5,
    "start_time": "2022-06-29T12:10:54.778Z"
   },
   {
    "duration": 4,
    "start_time": "2022-06-29T12:15:46.718Z"
   },
   {
    "duration": 6,
    "start_time": "2022-06-29T12:15:47.292Z"
   },
   {
    "duration": 10,
    "start_time": "2022-06-29T12:21:01.541Z"
   },
   {
    "duration": 24,
    "start_time": "2022-06-29T12:21:04.343Z"
   },
   {
    "duration": 7,
    "start_time": "2022-06-29T12:21:17.542Z"
   },
   {
    "duration": 21,
    "start_time": "2022-06-29T12:21:18.299Z"
   },
   {
    "duration": 4,
    "start_time": "2022-06-29T12:21:29.371Z"
   },
   {
    "duration": 10,
    "start_time": "2022-06-29T12:21:30.371Z"
   },
   {
    "duration": 21,
    "start_time": "2022-06-29T12:21:31.275Z"
   },
   {
    "duration": 36,
    "start_time": "2022-06-29T12:22:00.306Z"
   },
   {
    "duration": 6,
    "start_time": "2022-06-29T12:22:00.344Z"
   },
   {
    "duration": 41,
    "start_time": "2022-06-29T12:22:00.352Z"
   },
   {
    "duration": 928,
    "start_time": "2022-06-29T12:22:00.396Z"
   },
   {
    "duration": 352,
    "start_time": "2022-06-29T12:22:01.329Z"
   },
   {
    "duration": 5,
    "start_time": "2022-06-29T12:22:01.684Z"
   },
   {
    "duration": 26,
    "start_time": "2022-06-29T12:22:01.691Z"
   },
   {
    "duration": 20,
    "start_time": "2022-06-29T12:22:04.111Z"
   },
   {
    "duration": 7,
    "start_time": "2022-06-29T12:22:17.244Z"
   },
   {
    "duration": 7,
    "start_time": "2022-06-29T12:22:17.988Z"
   },
   {
    "duration": 47,
    "start_time": "2022-06-29T12:24:43.066Z"
   },
   {
    "duration": 6,
    "start_time": "2022-06-29T12:24:43.115Z"
   },
   {
    "duration": 9,
    "start_time": "2022-06-29T12:24:43.122Z"
   },
   {
    "duration": 837,
    "start_time": "2022-06-29T12:24:43.133Z"
   },
   {
    "duration": 360,
    "start_time": "2022-06-29T12:24:43.973Z"
   },
   {
    "duration": 4,
    "start_time": "2022-06-29T12:24:44.335Z"
   },
   {
    "duration": 31,
    "start_time": "2022-06-29T12:24:44.341Z"
   },
   {
    "duration": 20,
    "start_time": "2022-06-29T12:24:44.374Z"
   },
   {
    "duration": 133881,
    "start_time": "2022-06-29T12:25:32.941Z"
   },
   {
    "duration": 21,
    "start_time": "2022-06-29T12:28:06.775Z"
   },
   {
    "duration": 549490,
    "start_time": "2022-06-29T12:28:42.895Z"
   },
   {
    "duration": 8,
    "start_time": "2022-06-29T12:37:52.387Z"
   }
  ],
  "kernelspec": {
   "display_name": "Python 3 (ipykernel)",
   "language": "python",
   "name": "python3"
  },
  "language_info": {
   "codemirror_mode": {
    "name": "ipython",
    "version": 3
   },
   "file_extension": ".py",
   "mimetype": "text/x-python",
   "name": "python",
   "nbconvert_exporter": "python",
   "pygments_lexer": "ipython3",
   "version": "3.9.5"
  },
  "toc": {
   "base_numbering": 1,
   "nav_menu": {},
   "number_sections": true,
   "sideBar": true,
   "skip_h1_title": true,
   "title_cell": "Содержание",
   "title_sidebar": "Contents",
   "toc_cell": true,
   "toc_position": {
    "height": "calc(100% - 180px)",
    "left": "10px",
    "top": "150px",
    "width": "302.391px"
   },
   "toc_section_display": true,
   "toc_window_display": false
  }
 },
 "nbformat": 4,
 "nbformat_minor": 2
}
