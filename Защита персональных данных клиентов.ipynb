{
 "cells": [
  {
   "cell_type": "markdown",
   "metadata": {
    "toc": true
   },
   "source": [
    "<h1>Содержание<span class=\"tocSkip\"></span></h1>\n",
    "<div class=\"toc\"><ul class=\"toc-item\"><li><span><a href=\"#Загрузка-данных\" data-toc-modified-id=\"Загрузка-данных-1\"><span class=\"toc-item-num\">1&nbsp;&nbsp;</span>Загрузка данных</a></span><ul class=\"toc-item\"><li><span><a href=\"#Вывод\" data-toc-modified-id=\"Вывод-1.1\"><span class=\"toc-item-num\">1.1&nbsp;&nbsp;</span>Вывод</a></span></li></ul></li><li><span><a href=\"#Умножение-матриц\" data-toc-modified-id=\"Умножение-матриц-2\"><span class=\"toc-item-num\">2&nbsp;&nbsp;</span>Умножение матриц</a></span><ul class=\"toc-item\"><li><span><a href=\"#Вывод\" data-toc-modified-id=\"Вывод-2.1\"><span class=\"toc-item-num\">2.1&nbsp;&nbsp;</span>Вывод</a></span></li></ul></li><li><span><a href=\"#Алгоритм-преобразования\" data-toc-modified-id=\"Алгоритм-преобразования-3\"><span class=\"toc-item-num\">3&nbsp;&nbsp;</span>Алгоритм преобразования</a></span></li><li><span><a href=\"#Проверка-алгоритма\" data-toc-modified-id=\"Проверка-алгоритма-4\"><span class=\"toc-item-num\">4&nbsp;&nbsp;</span>Проверка алгоритма</a></span><ul class=\"toc-item\"><li><span><a href=\"#Качество-модели-без-преобразования.\" data-toc-modified-id=\"Качество-модели-без-преобразования.-4.1\"><span class=\"toc-item-num\">4.1&nbsp;&nbsp;</span>Качество модели без преобразования.</a></span></li><li><span><a href=\"#Качество-модели-с-преобразованием.\" data-toc-modified-id=\"Качество-модели-с-преобразованием.-4.2\"><span class=\"toc-item-num\">4.2&nbsp;&nbsp;</span>Качество модели с преобразованием.</a></span></li></ul></li><li><span><a href=\"#Вывод\" data-toc-modified-id=\"Вывод-5\"><span class=\"toc-item-num\">5&nbsp;&nbsp;</span>Вывод</a></span></li><li><span><a href=\"#Чек-лист-проверки\" data-toc-modified-id=\"Чек-лист-проверки-6\"><span class=\"toc-item-num\">6&nbsp;&nbsp;</span>Чек-лист проверки</a></span></li></ul></div>"
   ]
  },
  {
   "cell_type": "markdown",
   "metadata": {},
   "source": [
    "# Защита персональных данных клиентов"
   ]
  },
  {
   "cell_type": "markdown",
   "metadata": {},
   "source": [
    "Вам нужно защитить данные клиентов страховой компании «Хоть потоп». Разработайте такой метод преобразования данных, чтобы по ним было сложно восстановить персональную информацию. Обоснуйте корректность его работы.\n",
    "\n",
    "Нужно защитить данные, чтобы при преобразовании качество моделей машинного обучения не ухудшилось. Подбирать наилучшую модель не требуется."
   ]
  },
  {
   "cell_type": "markdown",
   "metadata": {},
   "source": [
    "Загрузите и изучите данные.\n",
    "    \n",
    "    Ответьте на вопрос и обоснуйте решение.\n",
    "    Признаки умножают на обратимую матрицу. Изменится ли качество линейной регрессии? (Её можно обучить заново.)\n",
    "    a. Изменится. Приведите примеры матриц.\n",
    "    b. Не изменится. Укажите, как связаны параметры линейной регрессии в исходной задаче и в преобразованной.\n",
    "    Предложите алгоритм преобразования данных для решения задачи. Обоснуйте, почему качество линейной регрессии не поменяется.\n",
    "    Запрограммируйте этот алгоритм, применив матричные операции. Проверьте, что качество линейной регрессии из sklearn не отличается до и после преобразования. Примените метрику R2.\n"
   ]
  },
  {
   "cell_type": "markdown",
   "metadata": {},
   "source": [
    "Описание данных\n",
    "\n",
    "Набор данных находится в файле /datasets/insurance.csv. Скачать датасет.\n",
    "\n",
    "Признаки: пол, возраст и зарплата застрахованного, количество членов его семьи.\n",
    "\n",
    "Целевой признак: количество страховых выплат клиенту за последние 5 лет."
   ]
  },
  {
   "cell_type": "markdown",
   "metadata": {},
   "source": [
    "## Загрузка данных"
   ]
  },
  {
   "cell_type": "code",
   "execution_count": 1,
   "metadata": {},
   "outputs": [],
   "source": [
    "import pandas as pd\n",
    "import seaborn as sns\n",
    "import numpy as np\n",
    "import matplotlib.pyplot as plt\n",
    "from scipy import stats as st\n",
    "from sklearn.model_selection import train_test_split\n",
    "from sklearn.preprocessing import StandardScaler\n",
    "from sklearn.metrics import r2_score, mean_absolute_error, classification_report, accuracy_score, confusion_matrix, roc_auc_score, roc_curve, recall_score, precision_score,f1_score, mean_squared_error\n",
    "from sklearn.linear_model import LinearRegression "
   ]
  },
  {
   "cell_type": "code",
   "execution_count": 2,
   "metadata": {},
   "outputs": [],
   "source": [
    "insurance_df = pd.read_csv('/datasets/insurance.csv')"
   ]
  },
  {
   "cell_type": "code",
   "execution_count": 3,
   "metadata": {},
   "outputs": [],
   "source": [
    "def explore_data(df):\n",
    "    display(\n",
    "        \"Сводная информация:\", df.info(),\n",
    "        \"10 строк:\", df.head(10),\n",
    "        \"Столбцы:\", df.columns,\n",
    "        \"Числовое описание:\", df.describe(),\n",
    "        \"Сумма пропусков:\", df.isna().sum(),\n",
    "        \"Доля пропусков:\", df.isna().mean(),\n",
    "        \"Явные дубликаты:\", df.duplicated().sum(),\n",
    "        \"Корреляция:\", df.corr(),\n",
    "        sns.heatmap(df.corr())\n",
    "    )"
   ]
  },
  {
   "cell_type": "code",
   "execution_count": 4,
   "metadata": {},
   "outputs": [
    {
     "name": "stdout",
     "output_type": "stream",
     "text": [
      "<class 'pandas.core.frame.DataFrame'>\n",
      "RangeIndex: 5000 entries, 0 to 4999\n",
      "Data columns (total 5 columns):\n",
      " #   Column             Non-Null Count  Dtype  \n",
      "---  ------             --------------  -----  \n",
      " 0   Пол                5000 non-null   int64  \n",
      " 1   Возраст            5000 non-null   float64\n",
      " 2   Зарплата           5000 non-null   float64\n",
      " 3   Члены семьи        5000 non-null   int64  \n",
      " 4   Страховые выплаты  5000 non-null   int64  \n",
      "dtypes: float64(2), int64(3)\n",
      "memory usage: 195.4 KB\n"
     ]
    },
    {
     "data": {
      "text/plain": [
       "'Сводная информация:'"
      ]
     },
     "metadata": {},
     "output_type": "display_data"
    },
    {
     "data": {
      "text/plain": [
       "None"
      ]
     },
     "metadata": {},
     "output_type": "display_data"
    },
    {
     "data": {
      "text/plain": [
       "'10 строк:'"
      ]
     },
     "metadata": {},
     "output_type": "display_data"
    },
    {
     "data": {
      "text/html": [
       "<div>\n",
       "<style scoped>\n",
       "    .dataframe tbody tr th:only-of-type {\n",
       "        vertical-align: middle;\n",
       "    }\n",
       "\n",
       "    .dataframe tbody tr th {\n",
       "        vertical-align: top;\n",
       "    }\n",
       "\n",
       "    .dataframe thead th {\n",
       "        text-align: right;\n",
       "    }\n",
       "</style>\n",
       "<table border=\"1\" class=\"dataframe\">\n",
       "  <thead>\n",
       "    <tr style=\"text-align: right;\">\n",
       "      <th></th>\n",
       "      <th>Пол</th>\n",
       "      <th>Возраст</th>\n",
       "      <th>Зарплата</th>\n",
       "      <th>Члены семьи</th>\n",
       "      <th>Страховые выплаты</th>\n",
       "    </tr>\n",
       "  </thead>\n",
       "  <tbody>\n",
       "    <tr>\n",
       "      <th>0</th>\n",
       "      <td>1</td>\n",
       "      <td>41.0</td>\n",
       "      <td>49600.0</td>\n",
       "      <td>1</td>\n",
       "      <td>0</td>\n",
       "    </tr>\n",
       "    <tr>\n",
       "      <th>1</th>\n",
       "      <td>0</td>\n",
       "      <td>46.0</td>\n",
       "      <td>38000.0</td>\n",
       "      <td>1</td>\n",
       "      <td>1</td>\n",
       "    </tr>\n",
       "    <tr>\n",
       "      <th>2</th>\n",
       "      <td>0</td>\n",
       "      <td>29.0</td>\n",
       "      <td>21000.0</td>\n",
       "      <td>0</td>\n",
       "      <td>0</td>\n",
       "    </tr>\n",
       "    <tr>\n",
       "      <th>3</th>\n",
       "      <td>0</td>\n",
       "      <td>21.0</td>\n",
       "      <td>41700.0</td>\n",
       "      <td>2</td>\n",
       "      <td>0</td>\n",
       "    </tr>\n",
       "    <tr>\n",
       "      <th>4</th>\n",
       "      <td>1</td>\n",
       "      <td>28.0</td>\n",
       "      <td>26100.0</td>\n",
       "      <td>0</td>\n",
       "      <td>0</td>\n",
       "    </tr>\n",
       "    <tr>\n",
       "      <th>5</th>\n",
       "      <td>1</td>\n",
       "      <td>43.0</td>\n",
       "      <td>41000.0</td>\n",
       "      <td>2</td>\n",
       "      <td>1</td>\n",
       "    </tr>\n",
       "    <tr>\n",
       "      <th>6</th>\n",
       "      <td>1</td>\n",
       "      <td>39.0</td>\n",
       "      <td>39700.0</td>\n",
       "      <td>2</td>\n",
       "      <td>0</td>\n",
       "    </tr>\n",
       "    <tr>\n",
       "      <th>7</th>\n",
       "      <td>1</td>\n",
       "      <td>25.0</td>\n",
       "      <td>38600.0</td>\n",
       "      <td>4</td>\n",
       "      <td>0</td>\n",
       "    </tr>\n",
       "    <tr>\n",
       "      <th>8</th>\n",
       "      <td>1</td>\n",
       "      <td>36.0</td>\n",
       "      <td>49700.0</td>\n",
       "      <td>1</td>\n",
       "      <td>0</td>\n",
       "    </tr>\n",
       "    <tr>\n",
       "      <th>9</th>\n",
       "      <td>1</td>\n",
       "      <td>32.0</td>\n",
       "      <td>51700.0</td>\n",
       "      <td>1</td>\n",
       "      <td>0</td>\n",
       "    </tr>\n",
       "  </tbody>\n",
       "</table>\n",
       "</div>"
      ],
      "text/plain": [
       "   Пол  Возраст  Зарплата  Члены семьи  Страховые выплаты\n",
       "0    1     41.0   49600.0            1                  0\n",
       "1    0     46.0   38000.0            1                  1\n",
       "2    0     29.0   21000.0            0                  0\n",
       "3    0     21.0   41700.0            2                  0\n",
       "4    1     28.0   26100.0            0                  0\n",
       "5    1     43.0   41000.0            2                  1\n",
       "6    1     39.0   39700.0            2                  0\n",
       "7    1     25.0   38600.0            4                  0\n",
       "8    1     36.0   49700.0            1                  0\n",
       "9    1     32.0   51700.0            1                  0"
      ]
     },
     "metadata": {},
     "output_type": "display_data"
    },
    {
     "data": {
      "text/plain": [
       "'Столбцы:'"
      ]
     },
     "metadata": {},
     "output_type": "display_data"
    },
    {
     "data": {
      "text/plain": [
       "Index(['Пол', 'Возраст', 'Зарплата', 'Члены семьи', 'Страховые выплаты'], dtype='object')"
      ]
     },
     "metadata": {},
     "output_type": "display_data"
    },
    {
     "data": {
      "text/plain": [
       "'Числовое описание:'"
      ]
     },
     "metadata": {},
     "output_type": "display_data"
    },
    {
     "data": {
      "text/html": [
       "<div>\n",
       "<style scoped>\n",
       "    .dataframe tbody tr th:only-of-type {\n",
       "        vertical-align: middle;\n",
       "    }\n",
       "\n",
       "    .dataframe tbody tr th {\n",
       "        vertical-align: top;\n",
       "    }\n",
       "\n",
       "    .dataframe thead th {\n",
       "        text-align: right;\n",
       "    }\n",
       "</style>\n",
       "<table border=\"1\" class=\"dataframe\">\n",
       "  <thead>\n",
       "    <tr style=\"text-align: right;\">\n",
       "      <th></th>\n",
       "      <th>Пол</th>\n",
       "      <th>Возраст</th>\n",
       "      <th>Зарплата</th>\n",
       "      <th>Члены семьи</th>\n",
       "      <th>Страховые выплаты</th>\n",
       "    </tr>\n",
       "  </thead>\n",
       "  <tbody>\n",
       "    <tr>\n",
       "      <th>count</th>\n",
       "      <td>5000.000000</td>\n",
       "      <td>5000.000000</td>\n",
       "      <td>5000.000000</td>\n",
       "      <td>5000.000000</td>\n",
       "      <td>5000.000000</td>\n",
       "    </tr>\n",
       "    <tr>\n",
       "      <th>mean</th>\n",
       "      <td>0.499000</td>\n",
       "      <td>30.952800</td>\n",
       "      <td>39916.360000</td>\n",
       "      <td>1.194200</td>\n",
       "      <td>0.148000</td>\n",
       "    </tr>\n",
       "    <tr>\n",
       "      <th>std</th>\n",
       "      <td>0.500049</td>\n",
       "      <td>8.440807</td>\n",
       "      <td>9900.083569</td>\n",
       "      <td>1.091387</td>\n",
       "      <td>0.463183</td>\n",
       "    </tr>\n",
       "    <tr>\n",
       "      <th>min</th>\n",
       "      <td>0.000000</td>\n",
       "      <td>18.000000</td>\n",
       "      <td>5300.000000</td>\n",
       "      <td>0.000000</td>\n",
       "      <td>0.000000</td>\n",
       "    </tr>\n",
       "    <tr>\n",
       "      <th>25%</th>\n",
       "      <td>0.000000</td>\n",
       "      <td>24.000000</td>\n",
       "      <td>33300.000000</td>\n",
       "      <td>0.000000</td>\n",
       "      <td>0.000000</td>\n",
       "    </tr>\n",
       "    <tr>\n",
       "      <th>50%</th>\n",
       "      <td>0.000000</td>\n",
       "      <td>30.000000</td>\n",
       "      <td>40200.000000</td>\n",
       "      <td>1.000000</td>\n",
       "      <td>0.000000</td>\n",
       "    </tr>\n",
       "    <tr>\n",
       "      <th>75%</th>\n",
       "      <td>1.000000</td>\n",
       "      <td>37.000000</td>\n",
       "      <td>46600.000000</td>\n",
       "      <td>2.000000</td>\n",
       "      <td>0.000000</td>\n",
       "    </tr>\n",
       "    <tr>\n",
       "      <th>max</th>\n",
       "      <td>1.000000</td>\n",
       "      <td>65.000000</td>\n",
       "      <td>79000.000000</td>\n",
       "      <td>6.000000</td>\n",
       "      <td>5.000000</td>\n",
       "    </tr>\n",
       "  </tbody>\n",
       "</table>\n",
       "</div>"
      ],
      "text/plain": [
       "               Пол      Возраст      Зарплата  Члены семьи  Страховые выплаты\n",
       "count  5000.000000  5000.000000   5000.000000  5000.000000        5000.000000\n",
       "mean      0.499000    30.952800  39916.360000     1.194200           0.148000\n",
       "std       0.500049     8.440807   9900.083569     1.091387           0.463183\n",
       "min       0.000000    18.000000   5300.000000     0.000000           0.000000\n",
       "25%       0.000000    24.000000  33300.000000     0.000000           0.000000\n",
       "50%       0.000000    30.000000  40200.000000     1.000000           0.000000\n",
       "75%       1.000000    37.000000  46600.000000     2.000000           0.000000\n",
       "max       1.000000    65.000000  79000.000000     6.000000           5.000000"
      ]
     },
     "metadata": {},
     "output_type": "display_data"
    },
    {
     "data": {
      "text/plain": [
       "'Сумма пропусков:'"
      ]
     },
     "metadata": {},
     "output_type": "display_data"
    },
    {
     "data": {
      "text/plain": [
       "Пол                  0\n",
       "Возраст              0\n",
       "Зарплата             0\n",
       "Члены семьи          0\n",
       "Страховые выплаты    0\n",
       "dtype: int64"
      ]
     },
     "metadata": {},
     "output_type": "display_data"
    },
    {
     "data": {
      "text/plain": [
       "'Доля пропусков:'"
      ]
     },
     "metadata": {},
     "output_type": "display_data"
    },
    {
     "data": {
      "text/plain": [
       "Пол                  0.0\n",
       "Возраст              0.0\n",
       "Зарплата             0.0\n",
       "Члены семьи          0.0\n",
       "Страховые выплаты    0.0\n",
       "dtype: float64"
      ]
     },
     "metadata": {},
     "output_type": "display_data"
    },
    {
     "data": {
      "text/plain": [
       "'Явные дубликаты:'"
      ]
     },
     "metadata": {},
     "output_type": "display_data"
    },
    {
     "data": {
      "text/plain": [
       "153"
      ]
     },
     "metadata": {},
     "output_type": "display_data"
    },
    {
     "data": {
      "text/plain": [
       "'Корреляция:'"
      ]
     },
     "metadata": {},
     "output_type": "display_data"
    },
    {
     "data": {
      "text/html": [
       "<div>\n",
       "<style scoped>\n",
       "    .dataframe tbody tr th:only-of-type {\n",
       "        vertical-align: middle;\n",
       "    }\n",
       "\n",
       "    .dataframe tbody tr th {\n",
       "        vertical-align: top;\n",
       "    }\n",
       "\n",
       "    .dataframe thead th {\n",
       "        text-align: right;\n",
       "    }\n",
       "</style>\n",
       "<table border=\"1\" class=\"dataframe\">\n",
       "  <thead>\n",
       "    <tr style=\"text-align: right;\">\n",
       "      <th></th>\n",
       "      <th>Пол</th>\n",
       "      <th>Возраст</th>\n",
       "      <th>Зарплата</th>\n",
       "      <th>Члены семьи</th>\n",
       "      <th>Страховые выплаты</th>\n",
       "    </tr>\n",
       "  </thead>\n",
       "  <tbody>\n",
       "    <tr>\n",
       "      <th>Пол</th>\n",
       "      <td>1.000000</td>\n",
       "      <td>0.002074</td>\n",
       "      <td>0.014910</td>\n",
       "      <td>-0.008991</td>\n",
       "      <td>0.010140</td>\n",
       "    </tr>\n",
       "    <tr>\n",
       "      <th>Возраст</th>\n",
       "      <td>0.002074</td>\n",
       "      <td>1.000000</td>\n",
       "      <td>-0.019093</td>\n",
       "      <td>-0.006692</td>\n",
       "      <td>0.651030</td>\n",
       "    </tr>\n",
       "    <tr>\n",
       "      <th>Зарплата</th>\n",
       "      <td>0.014910</td>\n",
       "      <td>-0.019093</td>\n",
       "      <td>1.000000</td>\n",
       "      <td>-0.030296</td>\n",
       "      <td>-0.014963</td>\n",
       "    </tr>\n",
       "    <tr>\n",
       "      <th>Члены семьи</th>\n",
       "      <td>-0.008991</td>\n",
       "      <td>-0.006692</td>\n",
       "      <td>-0.030296</td>\n",
       "      <td>1.000000</td>\n",
       "      <td>-0.036290</td>\n",
       "    </tr>\n",
       "    <tr>\n",
       "      <th>Страховые выплаты</th>\n",
       "      <td>0.010140</td>\n",
       "      <td>0.651030</td>\n",
       "      <td>-0.014963</td>\n",
       "      <td>-0.036290</td>\n",
       "      <td>1.000000</td>\n",
       "    </tr>\n",
       "  </tbody>\n",
       "</table>\n",
       "</div>"
      ],
      "text/plain": [
       "                        Пол   Возраст  Зарплата  Члены семьи  \\\n",
       "Пол                1.000000  0.002074  0.014910    -0.008991   \n",
       "Возраст            0.002074  1.000000 -0.019093    -0.006692   \n",
       "Зарплата           0.014910 -0.019093  1.000000    -0.030296   \n",
       "Члены семьи       -0.008991 -0.006692 -0.030296     1.000000   \n",
       "Страховые выплаты  0.010140  0.651030 -0.014963    -0.036290   \n",
       "\n",
       "                   Страховые выплаты  \n",
       "Пол                         0.010140  \n",
       "Возраст                     0.651030  \n",
       "Зарплата                   -0.014963  \n",
       "Члены семьи                -0.036290  \n",
       "Страховые выплаты           1.000000  "
      ]
     },
     "metadata": {},
     "output_type": "display_data"
    },
    {
     "data": {
      "text/plain": [
       "<AxesSubplot:>"
      ]
     },
     "metadata": {},
     "output_type": "display_data"
    },
    {
     "data": {
      "image/png": "[encoded data removed]",
      "text/plain": [
       "<Figure size 432x288 with 2 Axes>"
      ]
     },
     "metadata": {
      "needs_background": "light"
     },
     "output_type": "display_data"
    }
   ],
   "source": [
    "explore_data(insurance_df)"
   ]
  },
  {
   "cell_type": "markdown",
   "metadata": {},
   "source": [
    "Обнаружены явные дубликаты, корреляция между возрастом и выплатами 0.65, в остальных случаях близка к нулю. Данные имеют разный масштаб"
   ]
  },
  {
   "cell_type": "code",
   "execution_count": 5,
   "metadata": {},
   "outputs": [],
   "source": [
    "insurance_df = insurance_df.drop_duplicates().reset_index(drop=True)"
   ]
  },
  {
   "cell_type": "code",
   "execution_count": 6,
   "metadata": {},
   "outputs": [],
   "source": [
    "insurance_df.columns = ['sex', 'age', 'salary', 'family_member', 'payments']"
   ]
  },
  {
   "cell_type": "code",
   "execution_count": 7,
   "metadata": {},
   "outputs": [],
   "source": [
    "numeric = ['age', 'salary', 'family_member']"
   ]
  },
  {
   "cell_type": "code",
   "execution_count": 8,
   "metadata": {},
   "outputs": [],
   "source": [
    "features = insurance_df.drop('payments', axis=1)\n",
    "target = insurance_df['payments']"
   ]
  },
  {
   "cell_type": "code",
   "execution_count": 9,
   "metadata": {},
   "outputs": [],
   "source": [
    "scaler = StandardScaler()\n",
    "features[numeric] = scaler.fit_transform(features[numeric])"
   ]
  },
  {
   "cell_type": "code",
   "execution_count": 10,
   "metadata": {
    "scrolled": true
   },
   "outputs": [
    {
     "data": {
      "text/html": [
       "<div>\n",
       "<style scoped>\n",
       "    .dataframe tbody tr th:only-of-type {\n",
       "        vertical-align: middle;\n",
       "    }\n",
       "\n",
       "    .dataframe tbody tr th {\n",
       "        vertical-align: top;\n",
       "    }\n",
       "\n",
       "    .dataframe thead th {\n",
       "        text-align: right;\n",
       "    }\n",
       "</style>\n",
       "<table border=\"1\" class=\"dataframe\">\n",
       "  <thead>\n",
       "    <tr style=\"text-align: right;\">\n",
       "      <th></th>\n",
       "      <th>sex</th>\n",
       "      <th>age</th>\n",
       "      <th>salary</th>\n",
       "      <th>family_member</th>\n",
       "    </tr>\n",
       "  </thead>\n",
       "  <tbody>\n",
       "    <tr>\n",
       "      <th>0</th>\n",
       "      <td>1</td>\n",
       "      <td>1.175436</td>\n",
       "      <td>0.973151</td>\n",
       "      <td>-0.185176</td>\n",
       "    </tr>\n",
       "    <tr>\n",
       "      <th>1</th>\n",
       "      <td>0</td>\n",
       "      <td>1.764564</td>\n",
       "      <td>-0.190115</td>\n",
       "      <td>-0.185176</td>\n",
       "    </tr>\n",
       "    <tr>\n",
       "      <th>2</th>\n",
       "      <td>0</td>\n",
       "      <td>-0.238471</td>\n",
       "      <td>-1.894901</td>\n",
       "      <td>-1.095466</td>\n",
       "    </tr>\n",
       "    <tr>\n",
       "      <th>3</th>\n",
       "      <td>0</td>\n",
       "      <td>-1.181076</td>\n",
       "      <td>0.180927</td>\n",
       "      <td>0.725115</td>\n",
       "    </tr>\n",
       "    <tr>\n",
       "      <th>4</th>\n",
       "      <td>1</td>\n",
       "      <td>-0.356297</td>\n",
       "      <td>-1.383465</td>\n",
       "      <td>-1.095466</td>\n",
       "    </tr>\n",
       "  </tbody>\n",
       "</table>\n",
       "</div>"
      ],
      "text/plain": [
       "   sex       age    salary  family_member\n",
       "0    1  1.175436  0.973151      -0.185176\n",
       "1    0  1.764564 -0.190115      -0.185176\n",
       "2    0 -0.238471 -1.894901      -1.095466\n",
       "3    0 -1.181076  0.180927       0.725115\n",
       "4    1 -0.356297 -1.383465      -1.095466"
      ]
     },
     "execution_count": 10,
     "metadata": {},
     "output_type": "execute_result"
    }
   ],
   "source": [
    "features.head()"
   ]
  },
  {
   "cell_type": "code",
   "execution_count": 11,
   "metadata": {
    "scrolled": true
   },
   "outputs": [
    {
     "data": {
      "text/plain": [
       "<AxesSubplot:title={'center':'Распределение классов после разделения набора'}>"
      ]
     },
     "execution_count": 11,
     "metadata": {},
     "output_type": "execute_result"
    },
    {
     "data": {
      "image/png": "[encoded data removed]",
      "text/plain": [
       "<Figure size 432x288 with 1 Axes>"
      ]
     },
     "metadata": {
      "needs_background": "light"
     },
     "output_type": "display_data"
    }
   ],
   "source": [
    "target.value_counts(normalize=True).plot(kind='bar', title='Распределение классов после разделения набора')"
   ]
  },
  {
   "cell_type": "code",
   "execution_count": 12,
   "metadata": {
    "scrolled": true
   },
   "outputs": [
    {
     "data": {
      "text/plain": [
       "0    4284\n",
       "1     423\n",
       "2     114\n",
       "3      18\n",
       "4       7\n",
       "5       1\n",
       "Name: payments, dtype: int64"
      ]
     },
     "execution_count": 12,
     "metadata": {},
     "output_type": "execute_result"
    }
   ],
   "source": [
    "target.value_counts()"
   ]
  },
  {
   "cell_type": "markdown",
   "metadata": {},
   "source": [
    "### Вывод\n",
    "В результате исследования данных было установлено, что\n",
    "* присутствуют явные дубликаты\n",
    "* корреляция между возрастом и выплатами 0.65, в остальных случаях близка к нулю.\n",
    "* Данные имеют разный масштаб\n",
    "* Наблюдается дисбаланс классов\n",
    "\n",
    "В текущем разделе \n",
    "* Данные были очищены от дубликатов\n",
    "* произведено масштабирование данных\n"
   ]
  },
  {
   "cell_type": "markdown",
   "metadata": {},
   "source": [
    "## Умножение матриц"
   ]
  },
  {
   "cell_type": "markdown",
   "metadata": {},
   "source": [
    "Обозначения:\n",
    "\n",
    "- $X$ — матрица признаков (нулевой столбец состоит из единиц)\n",
    "\n",
    "- $y$ — вектор целевого признака\n",
    "\n",
    "- $P$ — матрица, на которую умножаются признаки\n",
    "\n",
    "- $w$ — вектор весов линейной регрессии (нулевой элемент равен сдвигу)"
   ]
  },
  {
   "cell_type": "markdown",
   "metadata": {},
   "source": [
    "Предсказания:\n",
    "\n",
    "$$\n",
    "a = Xw\n",
    "$$\n",
    "\n",
    "Задача обучения:\n",
    "\n",
    "$$\n",
    "w = \\arg\\min_w MSE(Xw, y)\n",
    "$$\n",
    "\n",
    "Формула обучения:\n",
    "\n",
    "$$\n",
    "w = (X^T X)^{-1} X^T y\n",
    "$$"
   ]
  },
  {
   "cell_type": "markdown",
   "metadata": {},
   "source": [
    "**Признаки умножают на обратимую матрицу. Изменится ли качество линейной регрессии?**"
   ]
  },
  {
   "cell_type": "markdown",
   "metadata": {},
   "source": [
    "свойство обратной матрицы:\n",
    "    \n",
    "$$\n",
    "    (AB)^{-1} = B^{-1} A^{-1}\n",
    "$$\n",
    "\n",
    "свойство транспорнированной матрицы:\n",
    "    \n",
    "$$\n",
    "    (AB)^T = B^T A^T\n",
    "$$\n",
    "    "
   ]
  },
  {
   "cell_type": "markdown",
   "metadata": {},
   "source": [
    "    \n",
    " **Ответ:** не изменится.\n",
    " \n",
    "**Обоснование:**\n",
    "    \n",
    "Заменим $X$ на $Z = XP\\qquad (2.1)$,  где $P$ - обратимая матрица, на которую может быть умножена матрица $X$.  \n",
    "\n",
    "Тогда предсказание и вектор весов:\n",
    "    \n",
    "$$\n",
    "    a_1 = Zw_1 \\qquad (2.2)\n",
    "$$\n",
    "\n",
    "$$\n",
    "w_1 = (Z^T Z)^{-1} Z^T y \\qquad (2.3)\n",
    "$$\n",
    "    \n",
    "Подставим уравнение 2.2 правую часть уравнения 2.3:\n",
    "    \n",
    "$$\n",
    "    a_1 = Z (Z^T Z)^{-1} Z^T y \\qquad (2.4)\n",
    "$$\n",
    "    \n",
    "Заменим все $Z$ правой частью уравнения 2.1:\n",
    "    \n",
    "$$\n",
    "    a_1 = XP ((XP)^T (XP))^{-1} (XP)^T y \\qquad (2.5)\n",
    "$$\n",
    "   \n",
    "    \n",
    "Раскроем $((XP)^T (XP))^{-1} = (P^TX^T XP)^{-1} = (P)^{-1} (X^T X)^{-1} (P^T)^{-1} $, тогда :\n",
    "    \n",
    "$$\n",
    "    a_1 = XP (P)^{-1} (X^T X)^{-1} (P^T)^{-1} (XP)^T y = XP (P)^{-1} (X^T X)^{-1} (P^T)^{-1} P^T X^T y  \\qquad (2.6)\n",
    "$$\n",
    "    \n",
    "Умножение приведет к $PP^{-1} = E, (P^T)^{-1} P^T = E$. Умножение на единичную матрицу не изменяет исходную матрицу,  тогда:\n",
    "    \n",
    "$$\n",
    "    a_1 = X E(X^T X)^{-1}E X^T y = X(X^T X)^{-1} X^T y = Xw = a  \\qquad (2.7)\n",
    "$$\n",
    "    \n",
    "\n",
    "\n",
    "  "
   ]
  },
  {
   "cell_type": "markdown",
   "metadata": {},
   "source": [
    "\n",
    "Кажется свершилось, осознал\n",
    "    <img src=https://shutnikov.club/wp-content/uploads/2020/03/memy_74.jpg>\n"
   ]
  },
  {
   "cell_type": "markdown",
   "metadata": {},
   "source": [
    "### Вывод\n",
    "Таким образом, значение предсказания $a$ не меняется, если умножать матрицу признаков на обратимую матрицу.\n",
    "$$\n",
    "    a_1 = X E(X^T X)^{-1}E X^T y = X(X^T X)^{-1} X^T y = Xw = a  \\qquad (2.7)\n",
    "$$"
   ]
  },
  {
   "cell_type": "markdown",
   "metadata": {},
   "source": [
    "## Алгоритм преобразования"
   ]
  },
  {
   "cell_type": "markdown",
   "metadata": {},
   "source": [
    "**Алгоритм**\n",
    "\n",
    "В предыдущем пункте мы доказали, что значение предсказания не меняется при умножении матрицы признаков на обратимую матрицу, поэтому используем это для защиты информации на этапе поиска коэффициентов регрессии и предсказаний регрессии \n",
    "\n",
    "**Обоснование**\n",
    "\n",
    "Матрица $Y$ должна иметь  размерность $(nxn)$, где n - количество признаков для регрессии.\n",
    "Таким образом матрица $Z$ будет иметь туже размерность, что и матрица $X$. \n",
    "Матрицу $Y$ называют обратимой, если для нее существует обратная, в противном случае — необратимой.\n",
    "Обратная матрица  существует только для невырожденных матриц (квадратная матрица с определителем отличным от нуля)\n",
    "\n",
    "Этапы алгоритма:\n",
    "\n",
    "* Составление случайной обратимой матрицы **Y**\n",
    "* Проверка обратимости кодирующей матрицы\n",
    "* Получение матрицы преобразованных признаков **Z = XY**\n",
    "* Применение алгоритма на преобразованных признаках **Z**\n",
    "* Сравнение метрик R2"
   ]
  },
  {
   "cell_type": "markdown",
   "metadata": {},
   "source": [
    "## Проверка алгоритма"
   ]
  },
  {
   "cell_type": "markdown",
   "metadata": {},
   "source": [
    "датафрейм для сбора конечных результатов и напишем функцию генерации случайной "
   ]
  },
  {
   "cell_type": "code",
   "execution_count": 13,
   "metadata": {},
   "outputs": [],
   "source": [
    "r2_result = pd.DataFrame(columns=[\"r2_score\"],\n",
    "                      index=[\"original\", \"encrypted\"])"
   ]
  },
  {
   "cell_type": "code",
   "execution_count": 14,
   "metadata": {
    "scrolled": true
   },
   "outputs": [
    {
     "data": {
      "text/html": [
       "<div>\n",
       "<style scoped>\n",
       "    .dataframe tbody tr th:only-of-type {\n",
       "        vertical-align: middle;\n",
       "    }\n",
       "\n",
       "    .dataframe tbody tr th {\n",
       "        vertical-align: top;\n",
       "    }\n",
       "\n",
       "    .dataframe thead th {\n",
       "        text-align: right;\n",
       "    }\n",
       "</style>\n",
       "<table border=\"1\" class=\"dataframe\">\n",
       "  <thead>\n",
       "    <tr style=\"text-align: right;\">\n",
       "      <th></th>\n",
       "      <th>r2_score</th>\n",
       "    </tr>\n",
       "  </thead>\n",
       "  <tbody>\n",
       "    <tr>\n",
       "      <th>original</th>\n",
       "      <td>NaN</td>\n",
       "    </tr>\n",
       "    <tr>\n",
       "      <th>encrypted</th>\n",
       "      <td>NaN</td>\n",
       "    </tr>\n",
       "  </tbody>\n",
       "</table>\n",
       "</div>"
      ],
      "text/plain": [
       "          r2_score\n",
       "original       NaN\n",
       "encrypted      NaN"
      ]
     },
     "execution_count": 14,
     "metadata": {},
     "output_type": "execute_result"
    }
   ],
   "source": [
    "r2_result"
   ]
  },
  {
   "cell_type": "code",
   "execution_count": 15,
   "metadata": {},
   "outputs": [],
   "source": [
    "def gen_inverse_matrix(size):\n",
    "    #np.random.seed(12345)\n",
    "    while True:\n",
    "        inverse_matrix = np.random.randint(1, 10, (size,size)) #np.random.random((size,size)) - слишком долго\n",
    "        det = np.linalg.det(inverse_matrix)\n",
    "        if(det !=0):\n",
    "            return inverse_matrix"
   ]
  },
  {
   "cell_type": "markdown",
   "metadata": {},
   "source": [
    "### Качество модели без преобразования."
   ]
  },
  {
   "cell_type": "code",
   "execution_count": 16,
   "metadata": {},
   "outputs": [],
   "source": [
    "features_train, features_test, target_train, target_test = train_test_split(\n",
    "    features, target, test_size=0.25, random_state=12345)"
   ]
  },
  {
   "cell_type": "code",
   "execution_count": 17,
   "metadata": {},
   "outputs": [
    {
     "name": "stdout",
     "output_type": "stream",
     "text": [
      "w-vector coef [ 0.0145766   0.30959563  0.00178974 -0.01355007]\n",
      "R2 = 0.4230772749214825\n"
     ]
    }
   ],
   "source": [
    "model = LinearRegression()\n",
    "model.fit(features_train, target_train)\n",
    "r2_result['r2_score']['original'] = r2_score(target_test, model.predict(features_test))\n",
    "print(\"w-vector coef\",model.coef_)\n",
    "print(\"R2 =\", r2_result['r2_score']['original'])"
   ]
  },
  {
   "cell_type": "markdown",
   "metadata": {},
   "source": [
    "### Качество модели с преобразованием."
   ]
  },
  {
   "cell_type": "code",
   "execution_count": 18,
   "metadata": {
    "scrolled": true
   },
   "outputs": [
    {
     "name": "stdout",
     "output_type": "stream",
     "text": [
      "[[1 7 6 6]\n",
      " [4 3 1 9]\n",
      " [4 4 4 4]\n",
      " [8 2 2 3]]\n"
     ]
    }
   ],
   "source": [
    "inv_matrix = gen_inverse_matrix(features.shape[1])\n",
    "print(inv_matrix)"
   ]
  },
  {
   "cell_type": "code",
   "execution_count": 19,
   "metadata": {},
   "outputs": [],
   "source": [
    "encrypted_features = features @ inv_matrix\n"
   ]
  },
  {
   "cell_type": "code",
   "execution_count": 20,
   "metadata": {},
   "outputs": [],
   "source": [
    "enc_features_train, enc_features_test, enc_target_train, enc_target_test = train_test_split(\n",
    "    encrypted_features, target, test_size=0.25, random_state=12345)"
   ]
  },
  {
   "cell_type": "code",
   "execution_count": 21,
   "metadata": {
    "scrolled": true
   },
   "outputs": [
    {
     "name": "stdout",
     "output_type": "stream",
     "text": [
      "w-vector coef [-0.01145496 -0.04538283  0.00300038  0.05428484]\n",
      "R2 = 0.4230772749214825\n"
     ]
    }
   ],
   "source": [
    "model = LinearRegression()\n",
    "model.fit(enc_features_train, enc_target_train)\n",
    "r2_result['r2_score']['encrypted'] = r2_score(enc_target_test, model.predict(enc_features_test))\n",
    "print(\"w-vector coef\",model.coef_)\n",
    "print(\"R2 =\", r2_result['r2_score']['encrypted'])"
   ]
  },
  {
   "cell_type": "code",
   "execution_count": 22,
   "metadata": {
    "scrolled": true
   },
   "outputs": [
    {
     "data": {
      "text/html": [
       "<div>\n",
       "<style scoped>\n",
       "    .dataframe tbody tr th:only-of-type {\n",
       "        vertical-align: middle;\n",
       "    }\n",
       "\n",
       "    .dataframe tbody tr th {\n",
       "        vertical-align: top;\n",
       "    }\n",
       "\n",
       "    .dataframe thead th {\n",
       "        text-align: right;\n",
       "    }\n",
       "</style>\n",
       "<table border=\"1\" class=\"dataframe\">\n",
       "  <thead>\n",
       "    <tr style=\"text-align: right;\">\n",
       "      <th></th>\n",
       "      <th>r2_score</th>\n",
       "    </tr>\n",
       "  </thead>\n",
       "  <tbody>\n",
       "    <tr>\n",
       "      <th>original</th>\n",
       "      <td>0.423077</td>\n",
       "    </tr>\n",
       "    <tr>\n",
       "      <th>encrypted</th>\n",
       "      <td>0.423077</td>\n",
       "    </tr>\n",
       "  </tbody>\n",
       "</table>\n",
       "</div>"
      ],
      "text/plain": [
       "           r2_score\n",
       "original   0.423077\n",
       "encrypted  0.423077"
      ]
     },
     "execution_count": 22,
     "metadata": {},
     "output_type": "execute_result"
    }
   ],
   "source": [
    "r2_result\n"
   ]
  },
  {
   "cell_type": "markdown",
   "metadata": {},
   "source": [
    "## Вывод"
   ]
  },
  {
   "cell_type": "markdown",
   "metadata": {},
   "source": [
    "В результате исследования было доказано, что при умножении признаков на обратимую матрицу качество линейной регрессии не изменяется\n",
    "\n",
    "Результаты модели на зашифрованных данных практически идентичны результатам на оригинальных данных"
   ]
  },
  {
   "cell_type": "code",
   "execution_count": 23,
   "metadata": {},
   "outputs": [
    {
     "data": {
      "text/plain": [
       "<AxesSubplot:title={'center':'Коэффициент детерминации'}>"
      ]
     },
     "execution_count": 23,
     "metadata": {},
     "output_type": "execute_result"
    },
    {
     "data": {
      "image/png": "[encoded data removed]",
      "text/plain": [
       "<Figure size 432x288 with 1 Axes>"
      ]
     },
     "metadata": {
      "needs_background": "light"
     },
     "output_type": "display_data"
    }
   ],
   "source": [
    "r2_result.plot(kind='bar',title='Коэффициент детерминации')"
   ]
  }
 ],
 "metadata": {
  "ExecuteTimeLog": [
   {
    "duration": 2147,
    "start_time": "2022-05-23T20:59:15.484Z"
   },
   {
    "duration": 145,
    "start_time": "2022-05-23T20:59:17.633Z"
   },
   {
    "duration": 4,
    "start_time": "2022-05-23T20:59:38.324Z"
   },
   {
    "duration": 4,
    "start_time": "2022-05-23T20:59:46.721Z"
   },
   {
    "duration": 187,
    "start_time": "2022-05-23T21:00:49.093Z"
   },
   {
    "duration": 29,
    "start_time": "2022-05-23T21:00:56.261Z"
   },
   {
    "duration": 4,
    "start_time": "2022-05-23T21:00:56.575Z"
   },
   {
    "duration": 545,
    "start_time": "2022-05-23T21:00:56.892Z"
   },
   {
    "duration": 3,
    "start_time": "2022-05-23T21:17:41.096Z"
   },
   {
    "duration": 3,
    "start_time": "2022-05-23T21:19:56.922Z"
   },
   {
    "duration": 3,
    "start_time": "2022-05-23T21:23:58.748Z"
   },
   {
    "duration": 3,
    "start_time": "2022-05-23T21:23:59.162Z"
   },
   {
    "duration": 5,
    "start_time": "2022-05-23T21:23:59.877Z"
   },
   {
    "duration": 21,
    "start_time": "2022-05-23T21:24:02.039Z"
   },
   {
    "duration": 13,
    "start_time": "2022-05-23T21:24:27.918Z"
   },
   {
    "duration": 13,
    "start_time": "2022-05-23T21:24:47.228Z"
   },
   {
    "duration": 3,
    "start_time": "2022-05-23T21:25:35.771Z"
   },
   {
    "duration": 5,
    "start_time": "2022-05-23T21:25:36.211Z"
   },
   {
    "duration": 10,
    "start_time": "2022-05-23T21:25:36.875Z"
   },
   {
    "duration": 14,
    "start_time": "2022-05-23T21:25:37.654Z"
   },
   {
    "duration": 15,
    "start_time": "2022-05-23T21:26:16.177Z"
   },
   {
    "duration": 4,
    "start_time": "2022-05-23T21:26:28.500Z"
   },
   {
    "duration": 4,
    "start_time": "2022-05-23T21:26:28.861Z"
   },
   {
    "duration": 4,
    "start_time": "2022-05-23T21:26:29.681Z"
   },
   {
    "duration": 14,
    "start_time": "2022-05-23T21:26:30.554Z"
   },
   {
    "duration": 9,
    "start_time": "2022-05-23T21:26:32.311Z"
   },
   {
    "duration": 3,
    "start_time": "2022-05-23T21:26:51.626Z"
   },
   {
    "duration": 5,
    "start_time": "2022-05-23T21:26:51.967Z"
   },
   {
    "duration": 5,
    "start_time": "2022-05-23T21:26:52.329Z"
   },
   {
    "duration": 11,
    "start_time": "2022-05-23T21:26:53.202Z"
   },
   {
    "duration": 10,
    "start_time": "2022-05-23T21:26:54.163Z"
   },
   {
    "duration": 5,
    "start_time": "2022-05-23T21:27:05.927Z"
   },
   {
    "duration": 11,
    "start_time": "2022-05-23T21:27:06.793Z"
   },
   {
    "duration": 8,
    "start_time": "2022-05-23T21:27:12.842Z"
   },
   {
    "duration": 13,
    "start_time": "2022-05-23T21:27:13.466Z"
   },
   {
    "duration": 12,
    "start_time": "2022-05-23T21:27:34.623Z"
   },
   {
    "duration": 4,
    "start_time": "2022-05-23T21:27:37.808Z"
   },
   {
    "duration": 4,
    "start_time": "2022-05-23T21:27:38.079Z"
   },
   {
    "duration": 4,
    "start_time": "2022-05-23T21:27:38.384Z"
   },
   {
    "duration": 14,
    "start_time": "2022-05-23T21:27:38.997Z"
   },
   {
    "duration": 11,
    "start_time": "2022-05-23T21:27:39.724Z"
   },
   {
    "duration": 369,
    "start_time": "2022-05-23T21:28:45.044Z"
   },
   {
    "duration": 6,
    "start_time": "2022-05-23T21:34:05.102Z"
   },
   {
    "duration": 1659,
    "start_time": "2022-05-26T20:46:29.927Z"
   },
   {
    "duration": 122,
    "start_time": "2022-05-26T20:46:31.588Z"
   },
   {
    "duration": 4,
    "start_time": "2022-05-26T20:46:31.711Z"
   },
   {
    "duration": 490,
    "start_time": "2022-05-26T20:46:31.717Z"
   },
   {
    "duration": 3,
    "start_time": "2022-05-26T20:46:32.209Z"
   },
   {
    "duration": 5,
    "start_time": "2022-05-26T20:46:32.214Z"
   },
   {
    "duration": 7,
    "start_time": "2022-05-26T20:46:32.221Z"
   },
   {
    "duration": 18,
    "start_time": "2022-05-26T20:46:32.230Z"
   },
   {
    "duration": 9,
    "start_time": "2022-05-26T20:46:32.249Z"
   },
   {
    "duration": 150,
    "start_time": "2022-05-26T20:46:32.261Z"
   },
   {
    "duration": 6,
    "start_time": "2022-05-26T20:46:32.413Z"
   },
   {
    "duration": 8,
    "start_time": "2022-05-26T20:50:24.317Z"
   },
   {
    "duration": 4,
    "start_time": "2022-05-26T20:54:45.756Z"
   },
   {
    "duration": 40,
    "start_time": "2022-05-26T20:54:45.762Z"
   },
   {
    "duration": 4,
    "start_time": "2022-05-26T20:54:45.803Z"
   },
   {
    "duration": 406,
    "start_time": "2022-05-26T20:54:45.809Z"
   },
   {
    "duration": 3,
    "start_time": "2022-05-26T20:54:46.217Z"
   },
   {
    "duration": 6,
    "start_time": "2022-05-26T20:54:46.221Z"
   },
   {
    "duration": 9,
    "start_time": "2022-05-26T20:54:46.228Z"
   },
   {
    "duration": 17,
    "start_time": "2022-05-26T20:54:46.239Z"
   },
   {
    "duration": 26,
    "start_time": "2022-05-26T20:54:46.259Z"
   },
   {
    "duration": 143,
    "start_time": "2022-05-26T20:54:46.287Z"
   },
   {
    "duration": 6,
    "start_time": "2022-05-26T20:54:46.431Z"
   },
   {
    "duration": 6,
    "start_time": "2022-05-26T21:04:08.579Z"
   },
   {
    "duration": 301,
    "start_time": "2022-05-26T21:04:10.793Z"
   },
   {
    "duration": 5,
    "start_time": "2022-05-26T21:09:57.418Z"
   },
   {
    "duration": 35,
    "start_time": "2022-05-26T21:09:57.426Z"
   },
   {
    "duration": 5,
    "start_time": "2022-05-26T21:09:57.463Z"
   },
   {
    "duration": 441,
    "start_time": "2022-05-26T21:09:57.471Z"
   },
   {
    "duration": 7,
    "start_time": "2022-05-26T21:09:57.915Z"
   },
   {
    "duration": 14,
    "start_time": "2022-05-26T21:09:57.924Z"
   },
   {
    "duration": 10,
    "start_time": "2022-05-26T21:09:57.941Z"
   },
   {
    "duration": 14,
    "start_time": "2022-05-26T21:09:57.953Z"
   },
   {
    "duration": 24,
    "start_time": "2022-05-26T21:09:57.970Z"
   },
   {
    "duration": 23,
    "start_time": "2022-05-26T21:09:57.996Z"
   },
   {
    "duration": 21,
    "start_time": "2022-05-26T21:09:58.021Z"
   },
   {
    "duration": 152,
    "start_time": "2022-05-26T21:09:58.045Z"
   },
   {
    "duration": 6,
    "start_time": "2022-05-26T21:09:58.198Z"
   },
   {
    "duration": 11,
    "start_time": "2022-05-26T21:10:22.001Z"
   },
   {
    "duration": 4,
    "start_time": "2022-05-26T21:28:38.970Z"
   },
   {
    "duration": 18,
    "start_time": "2022-05-26T21:28:39.983Z"
   },
   {
    "duration": 4,
    "start_time": "2022-05-26T21:28:54.967Z"
   },
   {
    "duration": 41,
    "start_time": "2022-05-26T21:28:55.865Z"
   },
   {
    "duration": 9,
    "start_time": "2022-05-26T21:30:53.454Z"
   },
   {
    "duration": 446,
    "start_time": "2022-05-26T21:31:30.762Z"
   },
   {
    "duration": 351,
    "start_time": "2022-05-26T21:34:19.855Z"
   },
   {
    "duration": 1073,
    "start_time": "2022-05-26T21:35:02.002Z"
   },
   {
    "duration": 5,
    "start_time": "2022-05-26T21:35:09.068Z"
   },
   {
    "duration": 5,
    "start_time": "2022-05-26T21:35:15.215Z"
   },
   {
    "duration": 4,
    "start_time": "2022-05-26T21:35:40.449Z"
   },
   {
    "duration": 1227,
    "start_time": "2022-05-26T21:37:54.939Z"
   },
   {
    "duration": 35,
    "start_time": "2022-05-26T21:37:56.168Z"
   },
   {
    "duration": 4,
    "start_time": "2022-05-26T21:37:56.205Z"
   },
   {
    "duration": 440,
    "start_time": "2022-05-26T21:37:56.210Z"
   },
   {
    "duration": 5,
    "start_time": "2022-05-26T21:37:56.652Z"
   },
   {
    "duration": 6,
    "start_time": "2022-05-26T21:37:56.658Z"
   },
   {
    "duration": 6,
    "start_time": "2022-05-26T21:37:56.665Z"
   },
   {
    "duration": 9,
    "start_time": "2022-05-26T21:37:56.689Z"
   },
   {
    "duration": 15,
    "start_time": "2022-05-26T21:37:56.699Z"
   },
   {
    "duration": 5,
    "start_time": "2022-05-26T21:37:56.716Z"
   },
   {
    "duration": 13,
    "start_time": "2022-05-26T21:37:56.723Z"
   },
   {
    "duration": 136,
    "start_time": "2022-05-26T21:37:56.738Z"
   },
   {
    "duration": 5,
    "start_time": "2022-05-26T21:37:56.876Z"
   },
   {
    "duration": 20,
    "start_time": "2022-05-26T21:37:56.883Z"
   },
   {
    "duration": 4,
    "start_time": "2022-05-26T21:38:03.780Z"
   },
   {
    "duration": 30,
    "start_time": "2022-05-26T21:38:06.996Z"
   },
   {
    "duration": 5,
    "start_time": "2022-05-26T21:38:40.957Z"
   },
   {
    "duration": 4,
    "start_time": "2022-05-26T21:44:10.269Z"
   },
   {
    "duration": 7,
    "start_time": "2022-05-26T21:44:18.183Z"
   },
   {
    "duration": 10,
    "start_time": "2022-05-26T21:46:48.729Z"
   },
   {
    "duration": 6,
    "start_time": "2022-05-26T21:46:59.077Z"
   },
   {
    "duration": 116,
    "start_time": "2022-05-26T21:49:13.015Z"
   },
   {
    "duration": 30,
    "start_time": "2022-05-26T21:49:18.741Z"
   },
   {
    "duration": 4,
    "start_time": "2022-05-26T21:51:30.347Z"
   },
   {
    "duration": 9,
    "start_time": "2022-05-26T21:51:44.255Z"
   },
   {
    "duration": 4,
    "start_time": "2022-05-26T21:52:26.259Z"
   },
   {
    "duration": 11,
    "start_time": "2022-05-26T21:52:26.598Z"
   },
   {
    "duration": 14,
    "start_time": "2022-05-26T21:54:06.627Z"
   },
   {
    "duration": 10,
    "start_time": "2022-05-26T21:54:35.580Z"
   },
   {
    "duration": 19,
    "start_time": "2022-05-26T21:58:17.779Z"
   },
   {
    "duration": 5,
    "start_time": "2022-05-26T21:58:25.159Z"
   },
   {
    "duration": 10,
    "start_time": "2022-05-26T21:58:26.152Z"
   },
   {
    "duration": 6,
    "start_time": "2022-05-26T21:58:35.595Z"
   },
   {
    "duration": 4,
    "start_time": "2022-05-26T21:58:52.417Z"
   },
   {
    "duration": 34,
    "start_time": "2022-05-26T21:58:52.423Z"
   },
   {
    "duration": 4,
    "start_time": "2022-05-26T21:58:52.459Z"
   },
   {
    "duration": 401,
    "start_time": "2022-05-26T21:58:52.465Z"
   },
   {
    "duration": 6,
    "start_time": "2022-05-26T21:58:52.868Z"
   },
   {
    "duration": 20,
    "start_time": "2022-05-26T21:58:52.875Z"
   },
   {
    "duration": 6,
    "start_time": "2022-05-26T21:58:52.896Z"
   },
   {
    "duration": 8,
    "start_time": "2022-05-26T21:58:52.904Z"
   },
   {
    "duration": 17,
    "start_time": "2022-05-26T21:58:52.914Z"
   },
   {
    "duration": 4,
    "start_time": "2022-05-26T21:58:52.933Z"
   },
   {
    "duration": 10,
    "start_time": "2022-05-26T21:58:52.939Z"
   },
   {
    "duration": 122,
    "start_time": "2022-05-26T21:58:52.951Z"
   },
   {
    "duration": 13,
    "start_time": "2022-05-26T21:58:53.075Z"
   },
   {
    "duration": 5,
    "start_time": "2022-05-26T21:58:53.101Z"
   },
   {
    "duration": 9,
    "start_time": "2022-05-26T21:58:53.107Z"
   },
   {
    "duration": 5,
    "start_time": "2022-05-26T21:58:53.118Z"
   },
   {
    "duration": 7,
    "start_time": "2022-05-26T21:58:53.124Z"
   },
   {
    "duration": 12,
    "start_time": "2022-05-26T21:58:53.133Z"
   },
   {
    "duration": 7,
    "start_time": "2022-05-26T21:58:56.594Z"
   },
   {
    "duration": 4,
    "start_time": "2022-05-26T22:03:48.529Z"
   },
   {
    "duration": 39,
    "start_time": "2022-05-26T22:03:48.534Z"
   },
   {
    "duration": 4,
    "start_time": "2022-05-26T22:03:48.575Z"
   },
   {
    "duration": 384,
    "start_time": "2022-05-26T22:03:48.581Z"
   },
   {
    "duration": 6,
    "start_time": "2022-05-26T22:03:48.967Z"
   },
   {
    "duration": 11,
    "start_time": "2022-05-26T22:03:48.975Z"
   },
   {
    "duration": 13,
    "start_time": "2022-05-26T22:03:48.988Z"
   },
   {
    "duration": 10,
    "start_time": "2022-05-26T22:03:49.003Z"
   },
   {
    "duration": 13,
    "start_time": "2022-05-26T22:03:49.016Z"
   },
   {
    "duration": 8,
    "start_time": "2022-05-26T22:03:49.031Z"
   },
   {
    "duration": 149,
    "start_time": "2022-05-26T22:03:49.041Z"
   },
   {
    "duration": 6,
    "start_time": "2022-05-26T22:03:49.198Z"
   },
   {
    "duration": 6,
    "start_time": "2022-05-26T22:03:49.206Z"
   },
   {
    "duration": 12,
    "start_time": "2022-05-26T22:03:49.213Z"
   },
   {
    "duration": 7,
    "start_time": "2022-05-26T22:03:49.227Z"
   },
   {
    "duration": 8,
    "start_time": "2022-05-26T22:03:49.235Z"
   },
   {
    "duration": 10,
    "start_time": "2022-05-26T22:03:49.245Z"
   },
   {
    "duration": 40,
    "start_time": "2022-05-26T22:03:49.257Z"
   },
   {
    "duration": 7,
    "start_time": "2022-05-26T22:03:49.299Z"
   },
   {
    "duration": 11,
    "start_time": "2022-05-26T22:03:49.307Z"
   },
   {
    "duration": 10,
    "start_time": "2022-05-26T22:03:49.320Z"
   },
   {
    "duration": 7,
    "start_time": "2022-05-26T22:04:04.346Z"
   },
   {
    "duration": 7,
    "start_time": "2022-05-26T22:07:59.098Z"
   },
   {
    "duration": 37,
    "start_time": "2022-05-26T22:07:59.107Z"
   },
   {
    "duration": 4,
    "start_time": "2022-05-26T22:07:59.146Z"
   },
   {
    "duration": 413,
    "start_time": "2022-05-26T22:07:59.152Z"
   },
   {
    "duration": 21,
    "start_time": "2022-05-26T22:07:59.567Z"
   },
   {
    "duration": 6,
    "start_time": "2022-05-26T22:07:59.590Z"
   },
   {
    "duration": 8,
    "start_time": "2022-05-26T22:07:59.597Z"
   },
   {
    "duration": 6,
    "start_time": "2022-05-26T22:07:59.607Z"
   },
   {
    "duration": 13,
    "start_time": "2022-05-26T22:07:59.615Z"
   },
   {
    "duration": 9,
    "start_time": "2022-05-26T22:07:59.630Z"
   },
   {
    "duration": 142,
    "start_time": "2022-05-26T22:07:59.641Z"
   },
   {
    "duration": 9,
    "start_time": "2022-05-26T22:07:59.785Z"
   },
   {
    "duration": 8,
    "start_time": "2022-05-26T22:07:59.797Z"
   },
   {
    "duration": 15,
    "start_time": "2022-05-26T22:07:59.807Z"
   },
   {
    "duration": 6,
    "start_time": "2022-05-26T22:07:59.824Z"
   },
   {
    "duration": 11,
    "start_time": "2022-05-26T22:07:59.831Z"
   },
   {
    "duration": 15,
    "start_time": "2022-05-26T22:07:59.844Z"
   },
   {
    "duration": 4,
    "start_time": "2022-05-26T22:07:59.861Z"
   },
   {
    "duration": 26,
    "start_time": "2022-05-26T22:07:59.867Z"
   },
   {
    "duration": 7,
    "start_time": "2022-05-26T22:07:59.895Z"
   },
   {
    "duration": 12,
    "start_time": "2022-05-26T22:07:59.904Z"
   },
   {
    "duration": 6,
    "start_time": "2022-05-26T22:08:03.613Z"
   },
   {
    "duration": 4,
    "start_time": "2022-05-26T22:08:12.114Z"
   },
   {
    "duration": 33,
    "start_time": "2022-05-26T22:08:12.120Z"
   },
   {
    "duration": 4,
    "start_time": "2022-05-26T22:08:12.154Z"
   },
   {
    "duration": 391,
    "start_time": "2022-05-26T22:08:12.161Z"
   },
   {
    "duration": 5,
    "start_time": "2022-05-26T22:08:12.554Z"
   },
   {
    "duration": 6,
    "start_time": "2022-05-26T22:08:12.561Z"
   },
   {
    "duration": 5,
    "start_time": "2022-05-26T22:08:12.569Z"
   },
   {
    "duration": 19,
    "start_time": "2022-05-26T22:08:12.584Z"
   },
   {
    "duration": 13,
    "start_time": "2022-05-26T22:08:12.605Z"
   },
   {
    "duration": 9,
    "start_time": "2022-05-26T22:08:12.620Z"
   },
   {
    "duration": 128,
    "start_time": "2022-05-26T22:08:12.630Z"
   },
   {
    "duration": 6,
    "start_time": "2022-05-26T22:08:12.759Z"
   },
   {
    "duration": 30,
    "start_time": "2022-05-26T22:08:12.767Z"
   },
   {
    "duration": 6,
    "start_time": "2022-05-26T22:08:12.799Z"
   },
   {
    "duration": 8,
    "start_time": "2022-05-26T22:08:12.807Z"
   },
   {
    "duration": 10,
    "start_time": "2022-05-26T22:08:12.816Z"
   },
   {
    "duration": 10,
    "start_time": "2022-05-26T22:08:12.828Z"
   },
   {
    "duration": 22,
    "start_time": "2022-05-26T22:08:12.840Z"
   },
   {
    "duration": 29,
    "start_time": "2022-05-26T22:08:12.863Z"
   },
   {
    "duration": 11,
    "start_time": "2022-05-26T22:08:12.894Z"
   },
   {
    "duration": 10,
    "start_time": "2022-05-26T22:08:12.907Z"
   },
   {
    "duration": 7,
    "start_time": "2022-05-26T22:08:12.919Z"
   },
   {
    "duration": 5,
    "start_time": "2022-05-26T22:11:10.936Z"
   },
   {
    "duration": 34,
    "start_time": "2022-05-26T22:11:10.943Z"
   },
   {
    "duration": 4,
    "start_time": "2022-05-26T22:11:10.978Z"
   },
   {
    "duration": 559,
    "start_time": "2022-05-26T22:11:10.987Z"
   },
   {
    "duration": 7,
    "start_time": "2022-05-26T22:11:11.548Z"
   },
   {
    "duration": 8,
    "start_time": "2022-05-26T22:11:11.557Z"
   },
   {
    "duration": 18,
    "start_time": "2022-05-26T22:11:11.567Z"
   },
   {
    "duration": 16,
    "start_time": "2022-05-26T22:11:11.592Z"
   },
   {
    "duration": 15,
    "start_time": "2022-05-26T22:11:11.611Z"
   },
   {
    "duration": 11,
    "start_time": "2022-05-26T22:11:11.627Z"
   },
   {
    "duration": 156,
    "start_time": "2022-05-26T22:11:11.639Z"
   },
   {
    "duration": 9,
    "start_time": "2022-05-26T22:11:11.797Z"
   },
   {
    "duration": 10,
    "start_time": "2022-05-26T22:11:11.808Z"
   },
   {
    "duration": 15,
    "start_time": "2022-05-26T22:11:11.819Z"
   },
   {
    "duration": 14,
    "start_time": "2022-05-26T22:11:11.836Z"
   },
   {
    "duration": 9,
    "start_time": "2022-05-26T22:11:11.853Z"
   },
   {
    "duration": 27,
    "start_time": "2022-05-26T22:11:11.863Z"
   },
   {
    "duration": 5,
    "start_time": "2022-05-26T22:11:11.897Z"
   },
   {
    "duration": 11,
    "start_time": "2022-05-26T22:11:11.904Z"
   },
   {
    "duration": 6,
    "start_time": "2022-05-26T22:11:11.917Z"
   },
   {
    "duration": 17,
    "start_time": "2022-05-26T22:11:11.926Z"
   },
   {
    "duration": 8,
    "start_time": "2022-05-26T22:11:14.236Z"
   },
   {
    "duration": 19,
    "start_time": "2022-05-26T22:11:52.383Z"
   },
   {
    "duration": 143,
    "start_time": "2022-05-26T22:12:04.720Z"
   },
   {
    "duration": 7,
    "start_time": "2022-05-26T22:12:34.873Z"
   },
   {
    "duration": 135,
    "start_time": "2022-05-26T22:13:02.912Z"
   },
   {
    "duration": 138,
    "start_time": "2022-05-26T22:13:30.109Z"
   },
   {
    "duration": 142,
    "start_time": "2022-05-26T22:14:36.867Z"
   },
   {
    "duration": 4,
    "start_time": "2022-05-26T22:34:54.109Z"
   },
   {
    "duration": 47,
    "start_time": "2022-05-26T22:34:54.115Z"
   },
   {
    "duration": 4,
    "start_time": "2022-05-26T22:34:54.164Z"
   },
   {
    "duration": 393,
    "start_time": "2022-05-26T22:34:54.169Z"
   },
   {
    "duration": 6,
    "start_time": "2022-05-26T22:34:54.564Z"
   },
   {
    "duration": 13,
    "start_time": "2022-05-26T22:34:54.584Z"
   },
   {
    "duration": 18,
    "start_time": "2022-05-26T22:34:54.599Z"
   },
   {
    "duration": 29,
    "start_time": "2022-05-26T22:34:54.619Z"
   },
   {
    "duration": 24,
    "start_time": "2022-05-26T22:34:54.649Z"
   },
   {
    "duration": 39,
    "start_time": "2022-05-26T22:34:54.674Z"
   },
   {
    "duration": 125,
    "start_time": "2022-05-26T22:34:54.715Z"
   },
   {
    "duration": 5,
    "start_time": "2022-05-26T22:34:54.841Z"
   },
   {
    "duration": 10,
    "start_time": "2022-05-26T22:34:54.848Z"
   },
   {
    "duration": 39,
    "start_time": "2022-05-26T22:34:54.860Z"
   },
   {
    "duration": 9,
    "start_time": "2022-05-26T22:34:54.901Z"
   },
   {
    "duration": 17,
    "start_time": "2022-05-26T22:34:54.911Z"
   },
   {
    "duration": 28,
    "start_time": "2022-05-26T22:34:54.929Z"
   },
   {
    "duration": 5,
    "start_time": "2022-05-26T22:34:54.959Z"
   },
   {
    "duration": 34,
    "start_time": "2022-05-26T22:34:54.965Z"
   },
   {
    "duration": 38,
    "start_time": "2022-05-26T22:34:55.001Z"
   },
   {
    "duration": 19,
    "start_time": "2022-05-26T22:34:55.041Z"
   },
   {
    "duration": 9,
    "start_time": "2022-05-26T22:34:57.494Z"
   },
   {
    "duration": 5,
    "start_time": "2022-05-26T22:35:13.599Z"
   },
   {
    "duration": 39,
    "start_time": "2022-05-26T22:35:13.607Z"
   },
   {
    "duration": 5,
    "start_time": "2022-05-26T22:35:13.647Z"
   },
   {
    "duration": 442,
    "start_time": "2022-05-26T22:35:13.655Z"
   },
   {
    "duration": 6,
    "start_time": "2022-05-26T22:35:14.098Z"
   },
   {
    "duration": 12,
    "start_time": "2022-05-26T22:35:14.105Z"
   },
   {
    "duration": 9,
    "start_time": "2022-05-26T22:35:14.119Z"
   },
   {
    "duration": 6,
    "start_time": "2022-05-26T22:35:14.129Z"
   },
   {
    "duration": 11,
    "start_time": "2022-05-26T22:35:14.138Z"
   },
   {
    "duration": 8,
    "start_time": "2022-05-26T22:35:14.151Z"
   },
   {
    "duration": 133,
    "start_time": "2022-05-26T22:35:14.161Z"
   },
   {
    "duration": 8,
    "start_time": "2022-05-26T22:35:14.295Z"
   },
   {
    "duration": 11,
    "start_time": "2022-05-26T22:35:14.306Z"
   },
   {
    "duration": 8,
    "start_time": "2022-05-26T22:35:14.319Z"
   },
   {
    "duration": 6,
    "start_time": "2022-05-26T22:35:14.329Z"
   },
   {
    "duration": 7,
    "start_time": "2022-05-26T22:35:14.336Z"
   },
   {
    "duration": 11,
    "start_time": "2022-05-26T22:35:14.345Z"
   },
   {
    "duration": 4,
    "start_time": "2022-05-26T22:35:14.358Z"
   },
   {
    "duration": 18,
    "start_time": "2022-05-26T22:35:14.364Z"
   },
   {
    "duration": 26,
    "start_time": "2022-05-26T22:35:14.383Z"
   },
   {
    "duration": 37,
    "start_time": "2022-05-26T22:35:14.411Z"
   },
   {
    "duration": 8,
    "start_time": "2022-05-26T22:35:18.313Z"
   },
   {
    "duration": 1193,
    "start_time": "2022-05-27T04:20:37.856Z"
   },
   {
    "duration": 28,
    "start_time": "2022-05-27T04:20:39.051Z"
   },
   {
    "duration": 3,
    "start_time": "2022-05-27T04:20:39.081Z"
   },
   {
    "duration": 409,
    "start_time": "2022-05-27T04:20:39.086Z"
   },
   {
    "duration": 5,
    "start_time": "2022-05-27T04:20:39.496Z"
   },
   {
    "duration": 15,
    "start_time": "2022-05-27T04:20:39.503Z"
   },
   {
    "duration": 37,
    "start_time": "2022-05-27T04:20:39.519Z"
   },
   {
    "duration": 12,
    "start_time": "2022-05-27T04:20:39.558Z"
   },
   {
    "duration": 15,
    "start_time": "2022-05-27T04:20:39.572Z"
   },
   {
    "duration": 113,
    "start_time": "2022-05-27T04:20:39.589Z"
   },
   {
    "duration": 0,
    "start_time": "2022-05-27T04:20:39.704Z"
   },
   {
    "duration": 0,
    "start_time": "2022-05-27T04:20:39.705Z"
   },
   {
    "duration": 0,
    "start_time": "2022-05-27T04:20:39.707Z"
   },
   {
    "duration": 0,
    "start_time": "2022-05-27T04:20:39.708Z"
   },
   {
    "duration": 0,
    "start_time": "2022-05-27T04:20:39.709Z"
   },
   {
    "duration": 0,
    "start_time": "2022-05-27T04:20:39.710Z"
   },
   {
    "duration": 0,
    "start_time": "2022-05-27T04:20:39.711Z"
   },
   {
    "duration": 0,
    "start_time": "2022-05-27T04:20:39.712Z"
   },
   {
    "duration": 0,
    "start_time": "2022-05-27T04:20:39.727Z"
   },
   {
    "duration": 0,
    "start_time": "2022-05-27T04:20:39.728Z"
   },
   {
    "duration": 0,
    "start_time": "2022-05-27T04:20:39.729Z"
   },
   {
    "duration": 0,
    "start_time": "2022-05-27T04:20:39.731Z"
   },
   {
    "duration": 0,
    "start_time": "2022-05-27T04:20:39.732Z"
   },
   {
    "duration": 1256,
    "start_time": "2022-05-27T04:22:13.408Z"
   },
   {
    "duration": 29,
    "start_time": "2022-05-27T04:22:14.666Z"
   },
   {
    "duration": 4,
    "start_time": "2022-05-27T04:22:14.697Z"
   },
   {
    "duration": 469,
    "start_time": "2022-05-27T04:22:14.702Z"
   },
   {
    "duration": 6,
    "start_time": "2022-05-27T04:22:15.173Z"
   },
   {
    "duration": 53,
    "start_time": "2022-05-27T04:22:15.181Z"
   },
   {
    "duration": 6,
    "start_time": "2022-05-27T04:22:15.236Z"
   },
   {
    "duration": 12,
    "start_time": "2022-05-27T04:22:15.244Z"
   },
   {
    "duration": 26,
    "start_time": "2022-05-27T04:22:15.258Z"
   },
   {
    "duration": 12,
    "start_time": "2022-05-27T04:22:15.286Z"
   },
   {
    "duration": 186,
    "start_time": "2022-05-27T04:22:15.299Z"
   },
   {
    "duration": 6,
    "start_time": "2022-05-27T04:22:15.486Z"
   },
   {
    "duration": 12,
    "start_time": "2022-05-27T04:22:15.493Z"
   },
   {
    "duration": 20,
    "start_time": "2022-05-27T04:22:15.508Z"
   },
   {
    "duration": 16,
    "start_time": "2022-05-27T04:22:15.530Z"
   },
   {
    "duration": 17,
    "start_time": "2022-05-27T04:22:15.548Z"
   },
   {
    "duration": 13,
    "start_time": "2022-05-27T04:22:15.567Z"
   },
   {
    "duration": 8,
    "start_time": "2022-05-27T04:22:15.582Z"
   },
   {
    "duration": 38,
    "start_time": "2022-05-27T04:22:15.591Z"
   },
   {
    "duration": 24,
    "start_time": "2022-05-27T04:22:15.631Z"
   },
   {
    "duration": 16,
    "start_time": "2022-05-27T04:22:15.657Z"
   },
   {
    "duration": 9,
    "start_time": "2022-05-27T04:22:15.674Z"
   },
   {
    "duration": 154,
    "start_time": "2022-05-27T04:22:15.685Z"
   },
   {
    "duration": 36,
    "start_time": "2022-05-27T04:31:42.155Z"
   },
   {
    "duration": 1665,
    "start_time": "2022-05-27T21:48:09.569Z"
   },
   {
    "duration": 84,
    "start_time": "2022-05-27T21:48:11.237Z"
   },
   {
    "duration": 4,
    "start_time": "2022-05-27T21:48:11.323Z"
   },
   {
    "duration": 471,
    "start_time": "2022-05-27T21:48:11.330Z"
   },
   {
    "duration": 6,
    "start_time": "2022-05-27T21:48:11.803Z"
   },
   {
    "duration": 7,
    "start_time": "2022-05-27T21:48:11.810Z"
   },
   {
    "duration": 7,
    "start_time": "2022-05-27T21:48:11.819Z"
   },
   {
    "duration": 7,
    "start_time": "2022-05-27T21:48:11.827Z"
   },
   {
    "duration": 18,
    "start_time": "2022-05-27T21:48:11.835Z"
   },
   {
    "duration": 7,
    "start_time": "2022-05-27T21:48:11.856Z"
   },
   {
    "duration": 133,
    "start_time": "2022-05-27T21:48:11.865Z"
   },
   {
    "duration": 5,
    "start_time": "2022-05-27T21:48:11.999Z"
   },
   {
    "duration": 11,
    "start_time": "2022-05-27T21:48:12.006Z"
   },
   {
    "duration": 11,
    "start_time": "2022-05-27T21:48:12.018Z"
   },
   {
    "duration": 4,
    "start_time": "2022-05-27T21:48:12.031Z"
   },
   {
    "duration": 17,
    "start_time": "2022-05-27T21:48:12.037Z"
   },
   {
    "duration": 44,
    "start_time": "2022-05-27T21:48:12.055Z"
   },
   {
    "duration": 99,
    "start_time": "2022-05-27T21:48:12.101Z"
   },
   {
    "duration": 18,
    "start_time": "2022-05-27T21:48:12.202Z"
   },
   {
    "duration": 6,
    "start_time": "2022-05-27T21:48:12.222Z"
   },
   {
    "duration": 10,
    "start_time": "2022-05-27T21:48:12.229Z"
   },
   {
    "duration": 11,
    "start_time": "2022-05-27T21:48:12.241Z"
   },
   {
    "duration": 141,
    "start_time": "2022-05-27T21:48:12.253Z"
   }
  ],
  "kernelspec": {
   "display_name": "Python 3 (ipykernel)",
   "language": "python",
   "name": "python3"
  },
  "language_info": {
   "codemirror_mode": {
    "name": "ipython",
    "version": 3
   },
   "file_extension": ".py",
   "mimetype": "text/x-python",
   "name": "python",
   "nbconvert_exporter": "python",
   "pygments_lexer": "ipython3",
   "version": "3.9.5"
  },
  "toc": {
   "base_numbering": 1,
   "nav_menu": {},
   "number_sections": true,
   "sideBar": true,
   "skip_h1_title": true,
   "title_cell": "Содержание",
   "title_sidebar": "Contents",
   "toc_cell": true,
   "toc_position": {},
   "toc_section_display": true,
   "toc_window_display": true
  }
 },
 "nbformat": 4,
 "nbformat_minor": 2
}
