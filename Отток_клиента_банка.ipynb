{
 "cells": [
  {
   "cell_type": "markdown",
   "metadata": {
    "toc": true
   },
   "source": [
    "<h1>Содержание<span class=\"tocSkip\"></span></h1>\n",
    "<div class=\"toc\"><ul class=\"toc-item\"><li><span><a href=\"#Подготовка-данных\" data-toc-modified-id=\"Подготовка-данных-1\"><span class=\"toc-item-num\">1&nbsp;&nbsp;</span>Подготовка данных</a></span><ul class=\"toc-item\"><li><span><a href=\"#Обзор-данных\" data-toc-modified-id=\"Обзор-данных-1.1\"><span class=\"toc-item-num\">1.1&nbsp;&nbsp;</span>Обзор данных</a></span></li><li><span><a href=\"#Обработка-данных\" data-toc-modified-id=\"Обработка-данных-1.2\"><span class=\"toc-item-num\">1.2&nbsp;&nbsp;</span>Обработка данных</a></span></li></ul></li><li><span><a href=\"#Исследование-задачи\" data-toc-modified-id=\"Исследование-задачи-2\"><span class=\"toc-item-num\">2&nbsp;&nbsp;</span>Исследование задачи</a></span><ul class=\"toc-item\"><li><span><a href=\"#LogisticRegression\" data-toc-modified-id=\"LogisticRegression-2.1\"><span class=\"toc-item-num\">2.1&nbsp;&nbsp;</span>LogisticRegression</a></span></li><li><span><a href=\"#RandomForestClassifier\" data-toc-modified-id=\"RandomForestClassifier-2.2\"><span class=\"toc-item-num\">2.2&nbsp;&nbsp;</span>RandomForestClassifier</a></span></li><li><span><a href=\"#DecisionTreeClassifier\" data-toc-modified-id=\"DecisionTreeClassifier-2.3\"><span class=\"toc-item-num\">2.3&nbsp;&nbsp;</span>DecisionTreeClassifier</a></span></li><li><span><a href=\"#Распределение-классов\" data-toc-modified-id=\"Распределение-классов-2.4\"><span class=\"toc-item-num\">2.4&nbsp;&nbsp;</span>Распределение классов</a></span></li></ul></li><li><span><a href=\"#Борьба-с-дисбалансом\" data-toc-modified-id=\"Борьба-с-дисбалансом-3\"><span class=\"toc-item-num\">3&nbsp;&nbsp;</span>Борьба с дисбалансом</a></span><ul class=\"toc-item\"><li><span><a href=\"#class_weight\" data-toc-modified-id=\"class_weight-3.1\"><span class=\"toc-item-num\">3.1&nbsp;&nbsp;</span>class_weight</a></span></li><li><span><a href=\"#upsampling\" data-toc-modified-id=\"upsampling-3.2\"><span class=\"toc-item-num\">3.2&nbsp;&nbsp;</span>upsampling</a></span></li><li><span><a href=\"#downsampling\" data-toc-modified-id=\"downsampling-3.3\"><span class=\"toc-item-num\">3.3&nbsp;&nbsp;</span>downsampling</a></span></li><li><span><a href=\"#Вывод\" data-toc-modified-id=\"Вывод-3.4\"><span class=\"toc-item-num\">3.4&nbsp;&nbsp;</span>Вывод</a></span></li></ul></li><li><span><a href=\"#Тестирование-модели\" data-toc-modified-id=\"Тестирование-модели-4\"><span class=\"toc-item-num\">4&nbsp;&nbsp;</span>Тестирование модели</a></span><ul class=\"toc-item\"><li><span><a href=\"#Вывод\" data-toc-modified-id=\"Вывод-4.1\"><span class=\"toc-item-num\">4.1&nbsp;&nbsp;</span>Вывод</a></span></li></ul></li></ul></div>"
   ]
  },
  {
   "cell_type": "markdown",
   "metadata": {},
   "source": [
    "# Отток клиентов"
   ]
  },
  {
   "cell_type": "markdown",
   "metadata": {},
   "source": [
    "Из «Бета-Банка» стали уходить клиенты. Каждый месяц. Немного, но заметно. Банковские маркетологи посчитали: сохранять текущих клиентов дешевле, чем привлекать новых.\n",
    "\n",
    "Нужно спрогнозировать, уйдёт клиент из банка в ближайшее время или нет. Вам предоставлены исторические данные о поведении клиентов и расторжении договоров с банком. \n",
    "\n",
    "Постройте модель с предельно большим значением *F1*-меры. Чтобы сдать проект успешно, нужно довести метрику до 0.59. Проверьте *F1*-меру на тестовой выборке самостоятельно.\n",
    "\n",
    "Дополнительно измеряйте *AUC-ROC*, сравнивайте её значение с *F1*-мерой.\n",
    "\n",
    "Источник данных: [https://www.kaggle.com/barelydedicated/bank-customer-churn-modeling](https://www.kaggle.com/barelydedicated/bank-customer-churn-modeling)"
   ]
  },
  {
   "cell_type": "markdown",
   "metadata": {},
   "source": [
    "Признаки\n",
    "* RowNumber — индекс строки в данных\n",
    "* CustomerId — уникальный идентификатор клиента\n",
    "* Surname — фамилия\n",
    "* CreditScore — кредитный рейтинг\n",
    "* Geography — страна проживания\n",
    "* Gender — пол\n",
    "* Age — возраст\n",
    "* Tenure — сколько лет человек является клиентом банка\n",
    "* Balance — баланс на счёте\n",
    "* NumOfProducts — количество продуктов банка, используемых клиентом\n",
    "* HasCrCard — наличие кредитной карты\n",
    "* IsActiveMember — активность клиента\n",
    "* EstimatedSalary — предполагаемая зарплата\n",
    "\n",
    "Целевой признак\n",
    "* Exited — факт ухода клиента"
   ]
  },
  {
   "cell_type": "markdown",
   "metadata": {},
   "source": [
    "## Подготовка данных"
   ]
  },
  {
   "cell_type": "code",
   "execution_count": 1,
   "metadata": {},
   "outputs": [],
   "source": [
    "import pandas as pd\n",
    "import seaborn as sns\n",
    "import numpy as np\n",
    "import matplotlib.pyplot as plt\n",
    "from scipy import stats as st\n",
    "from sklearn.model_selection import train_test_split\n",
    "from sklearn.preprocessing import StandardScaler\n",
    "from sklearn.tree import DecisionTreeClassifier\n",
    "from sklearn.metrics import classification_report, accuracy_score, confusion_matrix, roc_auc_score, roc_curve, recall_score, precision_score,f1_score, mean_squared_error\n",
    "from sklearn.ensemble import RandomForestClassifier, RandomForestRegressor\n",
    "from sklearn.linear_model import LogisticRegression \n",
    "from sklearn.utils import shuffle"
   ]
  },
  {
   "cell_type": "markdown",
   "metadata": {},
   "source": [
    "### Обзор данных"
   ]
  },
  {
   "cell_type": "code",
   "execution_count": 2,
   "metadata": {},
   "outputs": [],
   "source": [
    "data  = pd.read_csv('/datasets/Churn.csv')"
   ]
  },
  {
   "cell_type": "code",
   "execution_count": 3,
   "metadata": {},
   "outputs": [],
   "source": [
    "def explore_data(df):\n",
    "    display(\n",
    "        \"Сводная информация:\", df.info(),\n",
    "        \"10 строк:\", df.head(10),\n",
    "        \"Столбцы:\", df.columns,\n",
    "        \"Числовое описание:\", df.describe(),\n",
    "        \"Сумма пропусков:\", df.isna().sum(),\n",
    "        \"Доля пропусков:\", df.isna().mean(),\n",
    "        \"Явные дубликаты:\", df.duplicated().sum(),\n",
    "        \"Корреляция:\", df.corr(),\n",
    "        sns.heatmap(df.corr())\n",
    "    )"
   ]
  },
  {
   "cell_type": "code",
   "execution_count": 4,
   "metadata": {
    "scrolled": false
   },
   "outputs": [
    {
     "name": "stdout",
     "output_type": "stream",
     "text": [
      "<class 'pandas.core.frame.DataFrame'>\n",
      "RangeIndex: 10000 entries, 0 to 9999\n",
      "Data columns (total 14 columns):\n",
      " #   Column           Non-Null Count  Dtype  \n",
      "---  ------           --------------  -----  \n",
      " 0   RowNumber        10000 non-null  int64  \n",
      " 1   CustomerId       10000 non-null  int64  \n",
      " 2   Surname          10000 non-null  object \n",
      " 3   CreditScore      10000 non-null  int64  \n",
      " 4   Geography        10000 non-null  object \n",
      " 5   Gender           10000 non-null  object \n",
      " 6   Age              10000 non-null  int64  \n",
      " 7   Tenure           9091 non-null   float64\n",
      " 8   Balance          10000 non-null  float64\n",
      " 9   NumOfProducts    10000 non-null  int64  \n",
      " 10  HasCrCard        10000 non-null  int64  \n",
      " 11  IsActiveMember   10000 non-null  int64  \n",
      " 12  EstimatedSalary  10000 non-null  float64\n",
      " 13  Exited           10000 non-null  int64  \n",
      "dtypes: float64(3), int64(8), object(3)\n",
      "memory usage: 1.1+ MB\n"
     ]
    },
    {
     "data": {
      "text/plain": [
       "'Сводная информация:'"
      ]
     },
     "metadata": {},
     "output_type": "display_data"
    },
    {
     "data": {
      "text/plain": [
       "None"
      ]
     },
     "metadata": {},
     "output_type": "display_data"
    },
    {
     "data": {
      "text/plain": [
       "'10 строк:'"
      ]
     },
     "metadata": {},
     "output_type": "display_data"
    },
    {
     "data": {
      "text/html": [
       "<div>\n",
       "<style scoped>\n",
       "    .dataframe tbody tr th:only-of-type {\n",
       "        vertical-align: middle;\n",
       "    }\n",
       "\n",
       "    .dataframe tbody tr th {\n",
       "        vertical-align: top;\n",
       "    }\n",
       "\n",
       "    .dataframe thead th {\n",
       "        text-align: right;\n",
       "    }\n",
       "</style>\n",
       "<table border=\"1\" class=\"dataframe\">\n",
       "  <thead>\n",
       "    <tr style=\"text-align: right;\">\n",
       "      <th></th>\n",
       "      <th>RowNumber</th>\n",
       "      <th>CustomerId</th>\n",
       "      <th>Surname</th>\n",
       "      <th>CreditScore</th>\n",
       "      <th>Geography</th>\n",
       "      <th>Gender</th>\n",
       "      <th>Age</th>\n",
       "      <th>Tenure</th>\n",
       "      <th>Balance</th>\n",
       "      <th>NumOfProducts</th>\n",
       "      <th>HasCrCard</th>\n",
       "      <th>IsActiveMember</th>\n",
       "      <th>EstimatedSalary</th>\n",
       "      <th>Exited</th>\n",
       "    </tr>\n",
       "  </thead>\n",
       "  <tbody>\n",
       "    <tr>\n",
       "      <th>0</th>\n",
       "      <td>1</td>\n",
       "      <td>15634602</td>\n",
       "      <td>Hargrave</td>\n",
       "      <td>619</td>\n",
       "      <td>France</td>\n",
       "      <td>Female</td>\n",
       "      <td>42</td>\n",
       "      <td>2.0</td>\n",
       "      <td>0.00</td>\n",
       "      <td>1</td>\n",
       "      <td>1</td>\n",
       "      <td>1</td>\n",
       "      <td>101348.88</td>\n",
       "      <td>1</td>\n",
       "    </tr>\n",
       "    <tr>\n",
       "      <th>1</th>\n",
       "      <td>2</td>\n",
       "      <td>15647311</td>\n",
       "      <td>Hill</td>\n",
       "      <td>608</td>\n",
       "      <td>Spain</td>\n",
       "      <td>Female</td>\n",
       "      <td>41</td>\n",
       "      <td>1.0</td>\n",
       "      <td>83807.86</td>\n",
       "      <td>1</td>\n",
       "      <td>0</td>\n",
       "      <td>1</td>\n",
       "      <td>112542.58</td>\n",
       "      <td>0</td>\n",
       "    </tr>\n",
       "    <tr>\n",
       "      <th>2</th>\n",
       "      <td>3</td>\n",
       "      <td>15619304</td>\n",
       "      <td>Onio</td>\n",
       "      <td>502</td>\n",
       "      <td>France</td>\n",
       "      <td>Female</td>\n",
       "      <td>42</td>\n",
       "      <td>8.0</td>\n",
       "      <td>159660.80</td>\n",
       "      <td>3</td>\n",
       "      <td>1</td>\n",
       "      <td>0</td>\n",
       "      <td>113931.57</td>\n",
       "      <td>1</td>\n",
       "    </tr>\n",
       "    <tr>\n",
       "      <th>3</th>\n",
       "      <td>4</td>\n",
       "      <td>15701354</td>\n",
       "      <td>Boni</td>\n",
       "      <td>699</td>\n",
       "      <td>France</td>\n",
       "      <td>Female</td>\n",
       "      <td>39</td>\n",
       "      <td>1.0</td>\n",
       "      <td>0.00</td>\n",
       "      <td>2</td>\n",
       "      <td>0</td>\n",
       "      <td>0</td>\n",
       "      <td>93826.63</td>\n",
       "      <td>0</td>\n",
       "    </tr>\n",
       "    <tr>\n",
       "      <th>4</th>\n",
       "      <td>5</td>\n",
       "      <td>15737888</td>\n",
       "      <td>Mitchell</td>\n",
       "      <td>850</td>\n",
       "      <td>Spain</td>\n",
       "      <td>Female</td>\n",
       "      <td>43</td>\n",
       "      <td>2.0</td>\n",
       "      <td>125510.82</td>\n",
       "      <td>1</td>\n",
       "      <td>1</td>\n",
       "      <td>1</td>\n",
       "      <td>79084.10</td>\n",
       "      <td>0</td>\n",
       "    </tr>\n",
       "    <tr>\n",
       "      <th>5</th>\n",
       "      <td>6</td>\n",
       "      <td>15574012</td>\n",
       "      <td>Chu</td>\n",
       "      <td>645</td>\n",
       "      <td>Spain</td>\n",
       "      <td>Male</td>\n",
       "      <td>44</td>\n",
       "      <td>8.0</td>\n",
       "      <td>113755.78</td>\n",
       "      <td>2</td>\n",
       "      <td>1</td>\n",
       "      <td>0</td>\n",
       "      <td>149756.71</td>\n",
       "      <td>1</td>\n",
       "    </tr>\n",
       "    <tr>\n",
       "      <th>6</th>\n",
       "      <td>7</td>\n",
       "      <td>15592531</td>\n",
       "      <td>Bartlett</td>\n",
       "      <td>822</td>\n",
       "      <td>France</td>\n",
       "      <td>Male</td>\n",
       "      <td>50</td>\n",
       "      <td>7.0</td>\n",
       "      <td>0.00</td>\n",
       "      <td>2</td>\n",
       "      <td>1</td>\n",
       "      <td>1</td>\n",
       "      <td>10062.80</td>\n",
       "      <td>0</td>\n",
       "    </tr>\n",
       "    <tr>\n",
       "      <th>7</th>\n",
       "      <td>8</td>\n",
       "      <td>15656148</td>\n",
       "      <td>Obinna</td>\n",
       "      <td>376</td>\n",
       "      <td>Germany</td>\n",
       "      <td>Female</td>\n",
       "      <td>29</td>\n",
       "      <td>4.0</td>\n",
       "      <td>115046.74</td>\n",
       "      <td>4</td>\n",
       "      <td>1</td>\n",
       "      <td>0</td>\n",
       "      <td>119346.88</td>\n",
       "      <td>1</td>\n",
       "    </tr>\n",
       "    <tr>\n",
       "      <th>8</th>\n",
       "      <td>9</td>\n",
       "      <td>15792365</td>\n",
       "      <td>He</td>\n",
       "      <td>501</td>\n",
       "      <td>France</td>\n",
       "      <td>Male</td>\n",
       "      <td>44</td>\n",
       "      <td>4.0</td>\n",
       "      <td>142051.07</td>\n",
       "      <td>2</td>\n",
       "      <td>0</td>\n",
       "      <td>1</td>\n",
       "      <td>74940.50</td>\n",
       "      <td>0</td>\n",
       "    </tr>\n",
       "    <tr>\n",
       "      <th>9</th>\n",
       "      <td>10</td>\n",
       "      <td>15592389</td>\n",
       "      <td>H?</td>\n",
       "      <td>684</td>\n",
       "      <td>France</td>\n",
       "      <td>Male</td>\n",
       "      <td>27</td>\n",
       "      <td>2.0</td>\n",
       "      <td>134603.88</td>\n",
       "      <td>1</td>\n",
       "      <td>1</td>\n",
       "      <td>1</td>\n",
       "      <td>71725.73</td>\n",
       "      <td>0</td>\n",
       "    </tr>\n",
       "  </tbody>\n",
       "</table>\n",
       "</div>"
      ],
      "text/plain": [
       "   RowNumber  CustomerId   Surname  CreditScore Geography  Gender  Age  \\\n",
       "0          1    15634602  Hargrave          619    France  Female   42   \n",
       "1          2    15647311      Hill          608     Spain  Female   41   \n",
       "2          3    15619304      Onio          502    France  Female   42   \n",
       "3          4    15701354      Boni          699    France  Female   39   \n",
       "4          5    15737888  Mitchell          850     Spain  Female   43   \n",
       "5          6    15574012       Chu          645     Spain    Male   44   \n",
       "6          7    15592531  Bartlett          822    France    Male   50   \n",
       "7          8    15656148    Obinna          376   Germany  Female   29   \n",
       "8          9    15792365        He          501    France    Male   44   \n",
       "9         10    15592389        H?          684    France    Male   27   \n",
       "\n",
       "   Tenure    Balance  NumOfProducts  HasCrCard  IsActiveMember  \\\n",
       "0     2.0       0.00              1          1               1   \n",
       "1     1.0   83807.86              1          0               1   \n",
       "2     8.0  159660.80              3          1               0   \n",
       "3     1.0       0.00              2          0               0   \n",
       "4     2.0  125510.82              1          1               1   \n",
       "5     8.0  113755.78              2          1               0   \n",
       "6     7.0       0.00              2          1               1   \n",
       "7     4.0  115046.74              4          1               0   \n",
       "8     4.0  142051.07              2          0               1   \n",
       "9     2.0  134603.88              1          1               1   \n",
       "\n",
       "   EstimatedSalary  Exited  \n",
       "0        101348.88       1  \n",
       "1        112542.58       0  \n",
       "2        113931.57       1  \n",
       "3         93826.63       0  \n",
       "4         79084.10       0  \n",
       "5        149756.71       1  \n",
       "6         10062.80       0  \n",
       "7        119346.88       1  \n",
       "8         74940.50       0  \n",
       "9         71725.73       0  "
      ]
     },
     "metadata": {},
     "output_type": "display_data"
    },
    {
     "data": {
      "text/plain": [
       "'Столбцы:'"
      ]
     },
     "metadata": {},
     "output_type": "display_data"
    },
    {
     "data": {
      "text/plain": [
       "Index(['RowNumber', 'CustomerId', 'Surname', 'CreditScore', 'Geography',\n",
       "       'Gender', 'Age', 'Tenure', 'Balance', 'NumOfProducts', 'HasCrCard',\n",
       "       'IsActiveMember', 'EstimatedSalary', 'Exited'],\n",
       "      dtype='object')"
      ]
     },
     "metadata": {},
     "output_type": "display_data"
    },
    {
     "data": {
      "text/plain": [
       "'Числовое описание:'"
      ]
     },
     "metadata": {},
     "output_type": "display_data"
    },
    {
     "data": {
      "text/html": [
       "<div>\n",
       "<style scoped>\n",
       "    .dataframe tbody tr th:only-of-type {\n",
       "        vertical-align: middle;\n",
       "    }\n",
       "\n",
       "    .dataframe tbody tr th {\n",
       "        vertical-align: top;\n",
       "    }\n",
       "\n",
       "    .dataframe thead th {\n",
       "        text-align: right;\n",
       "    }\n",
       "</style>\n",
       "<table border=\"1\" class=\"dataframe\">\n",
       "  <thead>\n",
       "    <tr style=\"text-align: right;\">\n",
       "      <th></th>\n",
       "      <th>RowNumber</th>\n",
       "      <th>CustomerId</th>\n",
       "      <th>CreditScore</th>\n",
       "      <th>Age</th>\n",
       "      <th>Tenure</th>\n",
       "      <th>Balance</th>\n",
       "      <th>NumOfProducts</th>\n",
       "      <th>HasCrCard</th>\n",
       "      <th>IsActiveMember</th>\n",
       "      <th>EstimatedSalary</th>\n",
       "      <th>Exited</th>\n",
       "    </tr>\n",
       "  </thead>\n",
       "  <tbody>\n",
       "    <tr>\n",
       "      <th>count</th>\n",
       "      <td>10000.00000</td>\n",
       "      <td>1.000000e+04</td>\n",
       "      <td>10000.000000</td>\n",
       "      <td>10000.000000</td>\n",
       "      <td>9091.000000</td>\n",
       "      <td>10000.000000</td>\n",
       "      <td>10000.000000</td>\n",
       "      <td>10000.00000</td>\n",
       "      <td>10000.000000</td>\n",
       "      <td>10000.000000</td>\n",
       "      <td>10000.000000</td>\n",
       "    </tr>\n",
       "    <tr>\n",
       "      <th>mean</th>\n",
       "      <td>5000.50000</td>\n",
       "      <td>1.569094e+07</td>\n",
       "      <td>650.528800</td>\n",
       "      <td>38.921800</td>\n",
       "      <td>4.997690</td>\n",
       "      <td>76485.889288</td>\n",
       "      <td>1.530200</td>\n",
       "      <td>0.70550</td>\n",
       "      <td>0.515100</td>\n",
       "      <td>100090.239881</td>\n",
       "      <td>0.203700</td>\n",
       "    </tr>\n",
       "    <tr>\n",
       "      <th>std</th>\n",
       "      <td>2886.89568</td>\n",
       "      <td>7.193619e+04</td>\n",
       "      <td>96.653299</td>\n",
       "      <td>10.487806</td>\n",
       "      <td>2.894723</td>\n",
       "      <td>62397.405202</td>\n",
       "      <td>0.581654</td>\n",
       "      <td>0.45584</td>\n",
       "      <td>0.499797</td>\n",
       "      <td>57510.492818</td>\n",
       "      <td>0.402769</td>\n",
       "    </tr>\n",
       "    <tr>\n",
       "      <th>min</th>\n",
       "      <td>1.00000</td>\n",
       "      <td>1.556570e+07</td>\n",
       "      <td>350.000000</td>\n",
       "      <td>18.000000</td>\n",
       "      <td>0.000000</td>\n",
       "      <td>0.000000</td>\n",
       "      <td>1.000000</td>\n",
       "      <td>0.00000</td>\n",
       "      <td>0.000000</td>\n",
       "      <td>11.580000</td>\n",
       "      <td>0.000000</td>\n",
       "    </tr>\n",
       "    <tr>\n",
       "      <th>25%</th>\n",
       "      <td>2500.75000</td>\n",
       "      <td>1.562853e+07</td>\n",
       "      <td>584.000000</td>\n",
       "      <td>32.000000</td>\n",
       "      <td>2.000000</td>\n",
       "      <td>0.000000</td>\n",
       "      <td>1.000000</td>\n",
       "      <td>0.00000</td>\n",
       "      <td>0.000000</td>\n",
       "      <td>51002.110000</td>\n",
       "      <td>0.000000</td>\n",
       "    </tr>\n",
       "    <tr>\n",
       "      <th>50%</th>\n",
       "      <td>5000.50000</td>\n",
       "      <td>1.569074e+07</td>\n",
       "      <td>652.000000</td>\n",
       "      <td>37.000000</td>\n",
       "      <td>5.000000</td>\n",
       "      <td>97198.540000</td>\n",
       "      <td>1.000000</td>\n",
       "      <td>1.00000</td>\n",
       "      <td>1.000000</td>\n",
       "      <td>100193.915000</td>\n",
       "      <td>0.000000</td>\n",
       "    </tr>\n",
       "    <tr>\n",
       "      <th>75%</th>\n",
       "      <td>7500.25000</td>\n",
       "      <td>1.575323e+07</td>\n",
       "      <td>718.000000</td>\n",
       "      <td>44.000000</td>\n",
       "      <td>7.000000</td>\n",
       "      <td>127644.240000</td>\n",
       "      <td>2.000000</td>\n",
       "      <td>1.00000</td>\n",
       "      <td>1.000000</td>\n",
       "      <td>149388.247500</td>\n",
       "      <td>0.000000</td>\n",
       "    </tr>\n",
       "    <tr>\n",
       "      <th>max</th>\n",
       "      <td>10000.00000</td>\n",
       "      <td>1.581569e+07</td>\n",
       "      <td>850.000000</td>\n",
       "      <td>92.000000</td>\n",
       "      <td>10.000000</td>\n",
       "      <td>250898.090000</td>\n",
       "      <td>4.000000</td>\n",
       "      <td>1.00000</td>\n",
       "      <td>1.000000</td>\n",
       "      <td>199992.480000</td>\n",
       "      <td>1.000000</td>\n",
       "    </tr>\n",
       "  </tbody>\n",
       "</table>\n",
       "</div>"
      ],
      "text/plain": [
       "         RowNumber    CustomerId   CreditScore           Age       Tenure  \\\n",
       "count  10000.00000  1.000000e+04  10000.000000  10000.000000  9091.000000   \n",
       "mean    5000.50000  1.569094e+07    650.528800     38.921800     4.997690   \n",
       "std     2886.89568  7.193619e+04     96.653299     10.487806     2.894723   \n",
       "min        1.00000  1.556570e+07    350.000000     18.000000     0.000000   \n",
       "25%     2500.75000  1.562853e+07    584.000000     32.000000     2.000000   \n",
       "50%     5000.50000  1.569074e+07    652.000000     37.000000     5.000000   \n",
       "75%     7500.25000  1.575323e+07    718.000000     44.000000     7.000000   \n",
       "max    10000.00000  1.581569e+07    850.000000     92.000000    10.000000   \n",
       "\n",
       "             Balance  NumOfProducts    HasCrCard  IsActiveMember  \\\n",
       "count   10000.000000   10000.000000  10000.00000    10000.000000   \n",
       "mean    76485.889288       1.530200      0.70550        0.515100   \n",
       "std     62397.405202       0.581654      0.45584        0.499797   \n",
       "min         0.000000       1.000000      0.00000        0.000000   \n",
       "25%         0.000000       1.000000      0.00000        0.000000   \n",
       "50%     97198.540000       1.000000      1.00000        1.000000   \n",
       "75%    127644.240000       2.000000      1.00000        1.000000   \n",
       "max    250898.090000       4.000000      1.00000        1.000000   \n",
       "\n",
       "       EstimatedSalary        Exited  \n",
       "count     10000.000000  10000.000000  \n",
       "mean     100090.239881      0.203700  \n",
       "std       57510.492818      0.402769  \n",
       "min          11.580000      0.000000  \n",
       "25%       51002.110000      0.000000  \n",
       "50%      100193.915000      0.000000  \n",
       "75%      149388.247500      0.000000  \n",
       "max      199992.480000      1.000000  "
      ]
     },
     "metadata": {},
     "output_type": "display_data"
    },
    {
     "data": {
      "text/plain": [
       "'Сумма пропусков:'"
      ]
     },
     "metadata": {},
     "output_type": "display_data"
    },
    {
     "data": {
      "text/plain": [
       "RowNumber            0\n",
       "CustomerId           0\n",
       "Surname              0\n",
       "CreditScore          0\n",
       "Geography            0\n",
       "Gender               0\n",
       "Age                  0\n",
       "Tenure             909\n",
       "Balance              0\n",
       "NumOfProducts        0\n",
       "HasCrCard            0\n",
       "IsActiveMember       0\n",
       "EstimatedSalary      0\n",
       "Exited               0\n",
       "dtype: int64"
      ]
     },
     "metadata": {},
     "output_type": "display_data"
    },
    {
     "data": {
      "text/plain": [
       "'Доля пропусков:'"
      ]
     },
     "metadata": {},
     "output_type": "display_data"
    },
    {
     "data": {
      "text/plain": [
       "RowNumber          0.0000\n",
       "CustomerId         0.0000\n",
       "Surname            0.0000\n",
       "CreditScore        0.0000\n",
       "Geography          0.0000\n",
       "Gender             0.0000\n",
       "Age                0.0000\n",
       "Tenure             0.0909\n",
       "Balance            0.0000\n",
       "NumOfProducts      0.0000\n",
       "HasCrCard          0.0000\n",
       "IsActiveMember     0.0000\n",
       "EstimatedSalary    0.0000\n",
       "Exited             0.0000\n",
       "dtype: float64"
      ]
     },
     "metadata": {},
     "output_type": "display_data"
    },
    {
     "data": {
      "text/plain": [
       "'Явные дубликаты:'"
      ]
     },
     "metadata": {},
     "output_type": "display_data"
    },
    {
     "data": {
      "text/plain": [
       "0"
      ]
     },
     "metadata": {},
     "output_type": "display_data"
    },
    {
     "data": {
      "text/plain": [
       "'Корреляция:'"
      ]
     },
     "metadata": {},
     "output_type": "display_data"
    },
    {
     "data": {
      "text/html": [
       "<div>\n",
       "<style scoped>\n",
       "    .dataframe tbody tr th:only-of-type {\n",
       "        vertical-align: middle;\n",
       "    }\n",
       "\n",
       "    .dataframe tbody tr th {\n",
       "        vertical-align: top;\n",
       "    }\n",
       "\n",
       "    .dataframe thead th {\n",
       "        text-align: right;\n",
       "    }\n",
       "</style>\n",
       "<table border=\"1\" class=\"dataframe\">\n",
       "  <thead>\n",
       "    <tr style=\"text-align: right;\">\n",
       "      <th></th>\n",
       "      <th>RowNumber</th>\n",
       "      <th>CustomerId</th>\n",
       "      <th>CreditScore</th>\n",
       "      <th>Age</th>\n",
       "      <th>Tenure</th>\n",
       "      <th>Balance</th>\n",
       "      <th>NumOfProducts</th>\n",
       "      <th>HasCrCard</th>\n",
       "      <th>IsActiveMember</th>\n",
       "      <th>EstimatedSalary</th>\n",
       "      <th>Exited</th>\n",
       "    </tr>\n",
       "  </thead>\n",
       "  <tbody>\n",
       "    <tr>\n",
       "      <th>RowNumber</th>\n",
       "      <td>1.000000</td>\n",
       "      <td>0.004202</td>\n",
       "      <td>0.005840</td>\n",
       "      <td>0.000783</td>\n",
       "      <td>-0.007322</td>\n",
       "      <td>-0.009067</td>\n",
       "      <td>0.007246</td>\n",
       "      <td>0.000599</td>\n",
       "      <td>0.012044</td>\n",
       "      <td>-0.005988</td>\n",
       "      <td>-0.016571</td>\n",
       "    </tr>\n",
       "    <tr>\n",
       "      <th>CustomerId</th>\n",
       "      <td>0.004202</td>\n",
       "      <td>1.000000</td>\n",
       "      <td>0.005308</td>\n",
       "      <td>0.009497</td>\n",
       "      <td>-0.021418</td>\n",
       "      <td>-0.012419</td>\n",
       "      <td>0.016972</td>\n",
       "      <td>-0.014025</td>\n",
       "      <td>0.001665</td>\n",
       "      <td>0.015271</td>\n",
       "      <td>-0.006248</td>\n",
       "    </tr>\n",
       "    <tr>\n",
       "      <th>CreditScore</th>\n",
       "      <td>0.005840</td>\n",
       "      <td>0.005308</td>\n",
       "      <td>1.000000</td>\n",
       "      <td>-0.003965</td>\n",
       "      <td>-0.000062</td>\n",
       "      <td>0.006268</td>\n",
       "      <td>0.012238</td>\n",
       "      <td>-0.005458</td>\n",
       "      <td>0.025651</td>\n",
       "      <td>-0.001384</td>\n",
       "      <td>-0.027094</td>\n",
       "    </tr>\n",
       "    <tr>\n",
       "      <th>Age</th>\n",
       "      <td>0.000783</td>\n",
       "      <td>0.009497</td>\n",
       "      <td>-0.003965</td>\n",
       "      <td>1.000000</td>\n",
       "      <td>-0.013134</td>\n",
       "      <td>0.028308</td>\n",
       "      <td>-0.030680</td>\n",
       "      <td>-0.011721</td>\n",
       "      <td>0.085472</td>\n",
       "      <td>-0.007201</td>\n",
       "      <td>0.285323</td>\n",
       "    </tr>\n",
       "    <tr>\n",
       "      <th>Tenure</th>\n",
       "      <td>-0.007322</td>\n",
       "      <td>-0.021418</td>\n",
       "      <td>-0.000062</td>\n",
       "      <td>-0.013134</td>\n",
       "      <td>1.000000</td>\n",
       "      <td>-0.007911</td>\n",
       "      <td>0.011979</td>\n",
       "      <td>0.027232</td>\n",
       "      <td>-0.032178</td>\n",
       "      <td>0.010520</td>\n",
       "      <td>-0.016761</td>\n",
       "    </tr>\n",
       "    <tr>\n",
       "      <th>Balance</th>\n",
       "      <td>-0.009067</td>\n",
       "      <td>-0.012419</td>\n",
       "      <td>0.006268</td>\n",
       "      <td>0.028308</td>\n",
       "      <td>-0.007911</td>\n",
       "      <td>1.000000</td>\n",
       "      <td>-0.304180</td>\n",
       "      <td>-0.014858</td>\n",
       "      <td>-0.010084</td>\n",
       "      <td>0.012797</td>\n",
       "      <td>0.118533</td>\n",
       "    </tr>\n",
       "    <tr>\n",
       "      <th>NumOfProducts</th>\n",
       "      <td>0.007246</td>\n",
       "      <td>0.016972</td>\n",
       "      <td>0.012238</td>\n",
       "      <td>-0.030680</td>\n",
       "      <td>0.011979</td>\n",
       "      <td>-0.304180</td>\n",
       "      <td>1.000000</td>\n",
       "      <td>0.003183</td>\n",
       "      <td>0.009612</td>\n",
       "      <td>0.014204</td>\n",
       "      <td>-0.047820</td>\n",
       "    </tr>\n",
       "    <tr>\n",
       "      <th>HasCrCard</th>\n",
       "      <td>0.000599</td>\n",
       "      <td>-0.014025</td>\n",
       "      <td>-0.005458</td>\n",
       "      <td>-0.011721</td>\n",
       "      <td>0.027232</td>\n",
       "      <td>-0.014858</td>\n",
       "      <td>0.003183</td>\n",
       "      <td>1.000000</td>\n",
       "      <td>-0.011866</td>\n",
       "      <td>-0.009933</td>\n",
       "      <td>-0.007138</td>\n",
       "    </tr>\n",
       "    <tr>\n",
       "      <th>IsActiveMember</th>\n",
       "      <td>0.012044</td>\n",
       "      <td>0.001665</td>\n",
       "      <td>0.025651</td>\n",
       "      <td>0.085472</td>\n",
       "      <td>-0.032178</td>\n",
       "      <td>-0.010084</td>\n",
       "      <td>0.009612</td>\n",
       "      <td>-0.011866</td>\n",
       "      <td>1.000000</td>\n",
       "      <td>-0.011421</td>\n",
       "      <td>-0.156128</td>\n",
       "    </tr>\n",
       "    <tr>\n",
       "      <th>EstimatedSalary</th>\n",
       "      <td>-0.005988</td>\n",
       "      <td>0.015271</td>\n",
       "      <td>-0.001384</td>\n",
       "      <td>-0.007201</td>\n",
       "      <td>0.010520</td>\n",
       "      <td>0.012797</td>\n",
       "      <td>0.014204</td>\n",
       "      <td>-0.009933</td>\n",
       "      <td>-0.011421</td>\n",
       "      <td>1.000000</td>\n",
       "      <td>0.012097</td>\n",
       "    </tr>\n",
       "    <tr>\n",
       "      <th>Exited</th>\n",
       "      <td>-0.016571</td>\n",
       "      <td>-0.006248</td>\n",
       "      <td>-0.027094</td>\n",
       "      <td>0.285323</td>\n",
       "      <td>-0.016761</td>\n",
       "      <td>0.118533</td>\n",
       "      <td>-0.047820</td>\n",
       "      <td>-0.007138</td>\n",
       "      <td>-0.156128</td>\n",
       "      <td>0.012097</td>\n",
       "      <td>1.000000</td>\n",
       "    </tr>\n",
       "  </tbody>\n",
       "</table>\n",
       "</div>"
      ],
      "text/plain": [
       "                 RowNumber  CustomerId  CreditScore       Age    Tenure  \\\n",
       "RowNumber         1.000000    0.004202     0.005840  0.000783 -0.007322   \n",
       "CustomerId        0.004202    1.000000     0.005308  0.009497 -0.021418   \n",
       "CreditScore       0.005840    0.005308     1.000000 -0.003965 -0.000062   \n",
       "Age               0.000783    0.009497    -0.003965  1.000000 -0.013134   \n",
       "Tenure           -0.007322   -0.021418    -0.000062 -0.013134  1.000000   \n",
       "Balance          -0.009067   -0.012419     0.006268  0.028308 -0.007911   \n",
       "NumOfProducts     0.007246    0.016972     0.012238 -0.030680  0.011979   \n",
       "HasCrCard         0.000599   -0.014025    -0.005458 -0.011721  0.027232   \n",
       "IsActiveMember    0.012044    0.001665     0.025651  0.085472 -0.032178   \n",
       "EstimatedSalary  -0.005988    0.015271    -0.001384 -0.007201  0.010520   \n",
       "Exited           -0.016571   -0.006248    -0.027094  0.285323 -0.016761   \n",
       "\n",
       "                  Balance  NumOfProducts  HasCrCard  IsActiveMember  \\\n",
       "RowNumber       -0.009067       0.007246   0.000599        0.012044   \n",
       "CustomerId      -0.012419       0.016972  -0.014025        0.001665   \n",
       "CreditScore      0.006268       0.012238  -0.005458        0.025651   \n",
       "Age              0.028308      -0.030680  -0.011721        0.085472   \n",
       "Tenure          -0.007911       0.011979   0.027232       -0.032178   \n",
       "Balance          1.000000      -0.304180  -0.014858       -0.010084   \n",
       "NumOfProducts   -0.304180       1.000000   0.003183        0.009612   \n",
       "HasCrCard       -0.014858       0.003183   1.000000       -0.011866   \n",
       "IsActiveMember  -0.010084       0.009612  -0.011866        1.000000   \n",
       "EstimatedSalary  0.012797       0.014204  -0.009933       -0.011421   \n",
       "Exited           0.118533      -0.047820  -0.007138       -0.156128   \n",
       "\n",
       "                 EstimatedSalary    Exited  \n",
       "RowNumber              -0.005988 -0.016571  \n",
       "CustomerId              0.015271 -0.006248  \n",
       "CreditScore            -0.001384 -0.027094  \n",
       "Age                    -0.007201  0.285323  \n",
       "Tenure                  0.010520 -0.016761  \n",
       "Balance                 0.012797  0.118533  \n",
       "NumOfProducts           0.014204 -0.047820  \n",
       "HasCrCard              -0.009933 -0.007138  \n",
       "IsActiveMember         -0.011421 -0.156128  \n",
       "EstimatedSalary         1.000000  0.012097  \n",
       "Exited                  0.012097  1.000000  "
      ]
     },
     "metadata": {},
     "output_type": "display_data"
    },
    {
     "data": {
      "text/plain": [
       "<AxesSubplot:>"
      ]
     },
     "metadata": {},
     "output_type": "display_data"
    },
    {
     "data": {
      "image/png": "[encoded data removed]",
      "text/plain": [
       "<Figure size 432x288 with 2 Axes>"
      ]
     },
     "metadata": {
      "needs_background": "light"
     },
     "output_type": "display_data"
    }
   ],
   "source": [
    "explore_data(data)"
   ]
  },
  {
   "cell_type": "markdown",
   "metadata": {},
   "source": [
    "* Обнаружены пропуски в столбце **Tenure**\n",
    "* названия столбцов не в змеином стиле))\n",
    "* Типы данных корректны\n",
    "* Сильных взаимосвязей между данными не обнаружено"
   ]
  },
  {
   "cell_type": "markdown",
   "metadata": {},
   "source": [
    "### Обработка данных"
   ]
  },
  {
   "cell_type": "markdown",
   "metadata": {},
   "source": [
    "Заменим названия столбцов в стиле🐍"
   ]
  },
  {
   "cell_type": "code",
   "execution_count": 5,
   "metadata": {
    "scrolled": false
   },
   "outputs": [
    {
     "data": {
      "text/html": [
       "<div>\n",
       "<style scoped>\n",
       "    .dataframe tbody tr th:only-of-type {\n",
       "        vertical-align: middle;\n",
       "    }\n",
       "\n",
       "    .dataframe tbody tr th {\n",
       "        vertical-align: top;\n",
       "    }\n",
       "\n",
       "    .dataframe thead th {\n",
       "        text-align: right;\n",
       "    }\n",
       "</style>\n",
       "<table border=\"1\" class=\"dataframe\">\n",
       "  <thead>\n",
       "    <tr style=\"text-align: right;\">\n",
       "      <th></th>\n",
       "      <th>row_number</th>\n",
       "      <th>customer_id</th>\n",
       "      <th>surname</th>\n",
       "      <th>credit_score</th>\n",
       "      <th>geography</th>\n",
       "      <th>gender</th>\n",
       "      <th>age</th>\n",
       "      <th>tenure</th>\n",
       "      <th>balance</th>\n",
       "      <th>num_of_products</th>\n",
       "      <th>has_cr_card</th>\n",
       "      <th>is_active_member</th>\n",
       "      <th>estimated_salary</th>\n",
       "      <th>exited</th>\n",
       "    </tr>\n",
       "  </thead>\n",
       "  <tbody>\n",
       "    <tr>\n",
       "      <th>0</th>\n",
       "      <td>1</td>\n",
       "      <td>15634602</td>\n",
       "      <td>Hargrave</td>\n",
       "      <td>619</td>\n",
       "      <td>France</td>\n",
       "      <td>Female</td>\n",
       "      <td>42</td>\n",
       "      <td>2.0</td>\n",
       "      <td>0.00</td>\n",
       "      <td>1</td>\n",
       "      <td>1</td>\n",
       "      <td>1</td>\n",
       "      <td>101348.88</td>\n",
       "      <td>1</td>\n",
       "    </tr>\n",
       "    <tr>\n",
       "      <th>1</th>\n",
       "      <td>2</td>\n",
       "      <td>15647311</td>\n",
       "      <td>Hill</td>\n",
       "      <td>608</td>\n",
       "      <td>Spain</td>\n",
       "      <td>Female</td>\n",
       "      <td>41</td>\n",
       "      <td>1.0</td>\n",
       "      <td>83807.86</td>\n",
       "      <td>1</td>\n",
       "      <td>0</td>\n",
       "      <td>1</td>\n",
       "      <td>112542.58</td>\n",
       "      <td>0</td>\n",
       "    </tr>\n",
       "    <tr>\n",
       "      <th>2</th>\n",
       "      <td>3</td>\n",
       "      <td>15619304</td>\n",
       "      <td>Onio</td>\n",
       "      <td>502</td>\n",
       "      <td>France</td>\n",
       "      <td>Female</td>\n",
       "      <td>42</td>\n",
       "      <td>8.0</td>\n",
       "      <td>159660.80</td>\n",
       "      <td>3</td>\n",
       "      <td>1</td>\n",
       "      <td>0</td>\n",
       "      <td>113931.57</td>\n",
       "      <td>1</td>\n",
       "    </tr>\n",
       "    <tr>\n",
       "      <th>3</th>\n",
       "      <td>4</td>\n",
       "      <td>15701354</td>\n",
       "      <td>Boni</td>\n",
       "      <td>699</td>\n",
       "      <td>France</td>\n",
       "      <td>Female</td>\n",
       "      <td>39</td>\n",
       "      <td>1.0</td>\n",
       "      <td>0.00</td>\n",
       "      <td>2</td>\n",
       "      <td>0</td>\n",
       "      <td>0</td>\n",
       "      <td>93826.63</td>\n",
       "      <td>0</td>\n",
       "    </tr>\n",
       "    <tr>\n",
       "      <th>4</th>\n",
       "      <td>5</td>\n",
       "      <td>15737888</td>\n",
       "      <td>Mitchell</td>\n",
       "      <td>850</td>\n",
       "      <td>Spain</td>\n",
       "      <td>Female</td>\n",
       "      <td>43</td>\n",
       "      <td>2.0</td>\n",
       "      <td>125510.82</td>\n",
       "      <td>1</td>\n",
       "      <td>1</td>\n",
       "      <td>1</td>\n",
       "      <td>79084.10</td>\n",
       "      <td>0</td>\n",
       "    </tr>\n",
       "  </tbody>\n",
       "</table>\n",
       "</div>"
      ],
      "text/plain": [
       "   row_number  customer_id   surname  credit_score geography  gender  age  \\\n",
       "0           1     15634602  Hargrave           619    France  Female   42   \n",
       "1           2     15647311      Hill           608     Spain  Female   41   \n",
       "2           3     15619304      Onio           502    France  Female   42   \n",
       "3           4     15701354      Boni           699    France  Female   39   \n",
       "4           5     15737888  Mitchell           850     Spain  Female   43   \n",
       "\n",
       "   tenure    balance  num_of_products  has_cr_card  is_active_member  \\\n",
       "0     2.0       0.00                1            1                 1   \n",
       "1     1.0   83807.86                1            0                 1   \n",
       "2     8.0  159660.80                3            1                 0   \n",
       "3     1.0       0.00                2            0                 0   \n",
       "4     2.0  125510.82                1            1                 1   \n",
       "\n",
       "   estimated_salary  exited  \n",
       "0         101348.88       1  \n",
       "1         112542.58       0  \n",
       "2         113931.57       1  \n",
       "3          93826.63       0  \n",
       "4          79084.10       0  "
      ]
     },
     "execution_count": 5,
     "metadata": {},
     "output_type": "execute_result"
    }
   ],
   "source": [
    "data.columns = ['row_number', 'customer_id', 'surname', 'credit_score', 'geography',\n",
    "       'gender', 'age', 'tenure', 'balance', 'num_of_products', 'has_cr_card',\n",
    "       'is_active_member', 'estimated_salary', 'exited']\n",
    "data.head()"
   ]
  },
  {
   "cell_type": "markdown",
   "metadata": {},
   "source": [
    "Пропуски в **tenure** заменим на 0, что означает, что клиент использует услуги банка меньше года\n",
    "Столбцы **'row_number','surname', 'customer_id'** исключим из набора, т.к избыточная информация, которая не улучшит результаты моделей\n",
    "Закодируем категориальные переменные 'geography', 'gender' и исключим избыточную информацию"
   ]
  },
  {
   "cell_type": "code",
   "execution_count": 6,
   "metadata": {},
   "outputs": [],
   "source": [
    "data['tenure'] = data['tenure'].fillna(0)\n",
    "#data['tenure'] = data['tenure'].fillna(0)"
   ]
  },
  {
   "cell_type": "code",
   "execution_count": 7,
   "metadata": {},
   "outputs": [],
   "source": [
    "data = data.drop(['row_number','surname', 'customer_id'], axis=1)"
   ]
  },
  {
   "cell_type": "code",
   "execution_count": 8,
   "metadata": {
    "scrolled": true
   },
   "outputs": [],
   "source": [
    "data = pd.get_dummies(data, columns=['geography', 'gender'], drop_first=True)"
   ]
  },
  {
   "cell_type": "code",
   "execution_count": 9,
   "metadata": {
    "scrolled": false
   },
   "outputs": [
    {
     "data": {
      "text/html": [
       "<div>\n",
       "<style scoped>\n",
       "    .dataframe tbody tr th:only-of-type {\n",
       "        vertical-align: middle;\n",
       "    }\n",
       "\n",
       "    .dataframe tbody tr th {\n",
       "        vertical-align: top;\n",
       "    }\n",
       "\n",
       "    .dataframe thead th {\n",
       "        text-align: right;\n",
       "    }\n",
       "</style>\n",
       "<table border=\"1\" class=\"dataframe\">\n",
       "  <thead>\n",
       "    <tr style=\"text-align: right;\">\n",
       "      <th></th>\n",
       "      <th>credit_score</th>\n",
       "      <th>age</th>\n",
       "      <th>tenure</th>\n",
       "      <th>balance</th>\n",
       "      <th>num_of_products</th>\n",
       "      <th>has_cr_card</th>\n",
       "      <th>is_active_member</th>\n",
       "      <th>estimated_salary</th>\n",
       "      <th>exited</th>\n",
       "      <th>geography_Germany</th>\n",
       "      <th>geography_Spain</th>\n",
       "      <th>gender_Male</th>\n",
       "    </tr>\n",
       "  </thead>\n",
       "  <tbody>\n",
       "    <tr>\n",
       "      <th>0</th>\n",
       "      <td>619</td>\n",
       "      <td>42</td>\n",
       "      <td>2.0</td>\n",
       "      <td>0.00</td>\n",
       "      <td>1</td>\n",
       "      <td>1</td>\n",
       "      <td>1</td>\n",
       "      <td>101348.88</td>\n",
       "      <td>1</td>\n",
       "      <td>0</td>\n",
       "      <td>0</td>\n",
       "      <td>0</td>\n",
       "    </tr>\n",
       "    <tr>\n",
       "      <th>1</th>\n",
       "      <td>608</td>\n",
       "      <td>41</td>\n",
       "      <td>1.0</td>\n",
       "      <td>83807.86</td>\n",
       "      <td>1</td>\n",
       "      <td>0</td>\n",
       "      <td>1</td>\n",
       "      <td>112542.58</td>\n",
       "      <td>0</td>\n",
       "      <td>0</td>\n",
       "      <td>1</td>\n",
       "      <td>0</td>\n",
       "    </tr>\n",
       "    <tr>\n",
       "      <th>2</th>\n",
       "      <td>502</td>\n",
       "      <td>42</td>\n",
       "      <td>8.0</td>\n",
       "      <td>159660.80</td>\n",
       "      <td>3</td>\n",
       "      <td>1</td>\n",
       "      <td>0</td>\n",
       "      <td>113931.57</td>\n",
       "      <td>1</td>\n",
       "      <td>0</td>\n",
       "      <td>0</td>\n",
       "      <td>0</td>\n",
       "    </tr>\n",
       "    <tr>\n",
       "      <th>3</th>\n",
       "      <td>699</td>\n",
       "      <td>39</td>\n",
       "      <td>1.0</td>\n",
       "      <td>0.00</td>\n",
       "      <td>2</td>\n",
       "      <td>0</td>\n",
       "      <td>0</td>\n",
       "      <td>93826.63</td>\n",
       "      <td>0</td>\n",
       "      <td>0</td>\n",
       "      <td>0</td>\n",
       "      <td>0</td>\n",
       "    </tr>\n",
       "    <tr>\n",
       "      <th>4</th>\n",
       "      <td>850</td>\n",
       "      <td>43</td>\n",
       "      <td>2.0</td>\n",
       "      <td>125510.82</td>\n",
       "      <td>1</td>\n",
       "      <td>1</td>\n",
       "      <td>1</td>\n",
       "      <td>79084.10</td>\n",
       "      <td>0</td>\n",
       "      <td>0</td>\n",
       "      <td>1</td>\n",
       "      <td>0</td>\n",
       "    </tr>\n",
       "  </tbody>\n",
       "</table>\n",
       "</div>"
      ],
      "text/plain": [
       "   credit_score  age  tenure    balance  num_of_products  has_cr_card  \\\n",
       "0           619   42     2.0       0.00                1            1   \n",
       "1           608   41     1.0   83807.86                1            0   \n",
       "2           502   42     8.0  159660.80                3            1   \n",
       "3           699   39     1.0       0.00                2            0   \n",
       "4           850   43     2.0  125510.82                1            1   \n",
       "\n",
       "   is_active_member  estimated_salary  exited  geography_Germany  \\\n",
       "0                 1         101348.88       1                  0   \n",
       "1                 1         112542.58       0                  0   \n",
       "2                 0         113931.57       1                  0   \n",
       "3                 0          93826.63       0                  0   \n",
       "4                 1          79084.10       0                  0   \n",
       "\n",
       "   geography_Spain  gender_Male  \n",
       "0                0            0  \n",
       "1                1            0  \n",
       "2                0            0  \n",
       "3                0            0  \n",
       "4                1            0  "
      ]
     },
     "execution_count": 9,
     "metadata": {},
     "output_type": "execute_result"
    }
   ],
   "source": [
    "data.head()"
   ]
  },
  {
   "cell_type": "markdown",
   "metadata": {},
   "source": [
    "Выделим числовые данные для дальнейшей стандартизации"
   ]
  },
  {
   "cell_type": "code",
   "execution_count": 10,
   "metadata": {},
   "outputs": [],
   "source": [
    "numeric = ['credit_score', 'age', 'tenure', 'balance', 'num_of_products', 'estimated_salary']"
   ]
  },
  {
   "cell_type": "code",
   "execution_count": 11,
   "metadata": {},
   "outputs": [],
   "source": [
    "features = data.drop('exited', axis=1)\n",
    "target = data['exited']"
   ]
  },
  {
   "cell_type": "markdown",
   "metadata": {},
   "source": [
    "Разделим набор на тренировочную, валидационную и тестовую выборку в соотношении 60:20:20"
   ]
  },
  {
   "cell_type": "code",
   "execution_count": 12,
   "metadata": {
    "scrolled": true
   },
   "outputs": [
    {
     "name": "stdout",
     "output_type": "stream",
     "text": [
      "all data:  (10000, 12) (10000, 11) (10000,)\n",
      "first split:  (8000, 11) (8000,) (2000, 11) (2000,)\n",
      "second split features:  (6000, 11) (2000, 11) (2000, 11)\n",
      "second split target:  (6000,) (2000,) (2000,)\n"
     ]
    }
   ],
   "source": [
    "print(\"all data: \",data.shape, features.shape, target.shape)\n",
    "features_train, features_test, target_train,target_test = train_test_split(features,target, stratify=target, test_size=0.2, random_state=12345)\n",
    "print(\"first split: \",features_train.shape,target_train.shape,features_test.shape, target_test.shape)\n",
    "features_train, features_valid, target_train, target_valid = train_test_split(features_train, target_train, stratify=target_train, test_size = 0.25, random_state=12345)\n",
    "print(\"second split features: \",features_train.shape,features_valid.shape, features_test.shape)\n",
    "print(\"second split target: \",target_train.shape,target_valid.shape, target_test.shape)"
   ]
  },
  {
   "cell_type": "markdown",
   "metadata": {},
   "source": [
    "проверим соотношение классов и что это соотношение осталось таким же в выборках.\n"
   ]
  },
  {
   "cell_type": "code",
   "execution_count": 41,
   "metadata": {
    "scrolled": true
   },
   "outputs": [
    {
     "data": {
      "text/plain": [
       "<AxesSubplot:title={'center':'Распределение классов до разделения набора'}>"
      ]
     },
     "execution_count": 41,
     "metadata": {},
     "output_type": "execute_result"
    },
    {
     "data": {
      "image/png": "[encoded data removed]",
      "text/plain": [
       "<Figure size 432x288 with 1 Axes>"
      ]
     },
     "metadata": {
      "needs_background": "light"
     },
     "output_type": "display_data"
    }
   ],
   "source": [
    "target.value_counts(normalize=True).plot(kind='bar', title='Распределение классов до разделения набора')"
   ]
  },
  {
   "cell_type": "code",
   "execution_count": 42,
   "metadata": {},
   "outputs": [
    {
     "data": {
      "text/plain": [
       "<AxesSubplot:title={'center':'Распределение классов после разделения набора'}>"
      ]
     },
     "execution_count": 42,
     "metadata": {},
     "output_type": "execute_result"
    },
    {
     "data": {
      "image/png": "[encoded data removed]",
      "text/plain": [
       "<Figure size 432x288 with 1 Axes>"
      ]
     },
     "metadata": {
      "needs_background": "light"
     },
     "output_type": "display_data"
    }
   ],
   "source": [
    "target_train.value_counts(normalize=True).plot(kind='bar', title='Распределение классов после разделения набора')"
   ]
  },
  {
   "cell_type": "code",
   "execution_count": 13,
   "metadata": {},
   "outputs": [],
   "source": [
    "pd.options.mode.chained_assignment = None"
   ]
  },
  {
   "cell_type": "markdown",
   "metadata": {},
   "source": [
    "Приведем числовые значения к одинаковуму масштабу"
   ]
  },
  {
   "cell_type": "code",
   "execution_count": 14,
   "metadata": {},
   "outputs": [],
   "source": [
    "scaler = StandardScaler()\n",
    "scaler.fit(features_train[numeric])\n",
    "features_train[numeric] = scaler.transform(features_train[numeric])\n",
    "features_valid[numeric] = scaler.transform(features_valid[numeric])\n",
    "features_test[numeric] = scaler.transform(features_test[numeric])"
   ]
  },
  {
   "cell_type": "code",
   "execution_count": 15,
   "metadata": {},
   "outputs": [
    {
     "data": {
      "text/html": [
       "<div>\n",
       "<style scoped>\n",
       "    .dataframe tbody tr th:only-of-type {\n",
       "        vertical-align: middle;\n",
       "    }\n",
       "\n",
       "    .dataframe tbody tr th {\n",
       "        vertical-align: top;\n",
       "    }\n",
       "\n",
       "    .dataframe thead th {\n",
       "        text-align: right;\n",
       "    }\n",
       "</style>\n",
       "<table border=\"1\" class=\"dataframe\">\n",
       "  <thead>\n",
       "    <tr style=\"text-align: right;\">\n",
       "      <th></th>\n",
       "      <th>credit_score</th>\n",
       "      <th>age</th>\n",
       "      <th>tenure</th>\n",
       "      <th>balance</th>\n",
       "      <th>num_of_products</th>\n",
       "      <th>has_cr_card</th>\n",
       "      <th>is_active_member</th>\n",
       "      <th>estimated_salary</th>\n",
       "      <th>geography_Germany</th>\n",
       "      <th>geography_Spain</th>\n",
       "      <th>gender_Male</th>\n",
       "    </tr>\n",
       "  </thead>\n",
       "  <tbody>\n",
       "    <tr>\n",
       "      <th>5536</th>\n",
       "      <td>-0.143332</td>\n",
       "      <td>0.577533</td>\n",
       "      <td>-1.456283</td>\n",
       "      <td>-1.220573</td>\n",
       "      <td>0.797767</td>\n",
       "      <td>1</td>\n",
       "      <td>1</td>\n",
       "      <td>1.029613</td>\n",
       "      <td>0</td>\n",
       "      <td>1</td>\n",
       "      <td>1</td>\n",
       "    </tr>\n",
       "    <tr>\n",
       "      <th>8530</th>\n",
       "      <td>1.632702</td>\n",
       "      <td>-0.564119</td>\n",
       "      <td>-0.813711</td>\n",
       "      <td>0.435807</td>\n",
       "      <td>-0.916018</td>\n",
       "      <td>1</td>\n",
       "      <td>0</td>\n",
       "      <td>0.237986</td>\n",
       "      <td>0</td>\n",
       "      <td>0</td>\n",
       "      <td>0</td>\n",
       "    </tr>\n",
       "    <tr>\n",
       "      <th>1762</th>\n",
       "      <td>1.116413</td>\n",
       "      <td>-0.468981</td>\n",
       "      <td>-1.134997</td>\n",
       "      <td>1.245822</td>\n",
       "      <td>-0.916018</td>\n",
       "      <td>1</td>\n",
       "      <td>1</td>\n",
       "      <td>-0.686104</td>\n",
       "      <td>0</td>\n",
       "      <td>0</td>\n",
       "      <td>0</td>\n",
       "    </tr>\n",
       "    <tr>\n",
       "      <th>9090</th>\n",
       "      <td>1.643028</td>\n",
       "      <td>0.006707</td>\n",
       "      <td>0.150148</td>\n",
       "      <td>-1.220573</td>\n",
       "      <td>-0.916018</td>\n",
       "      <td>1</td>\n",
       "      <td>0</td>\n",
       "      <td>-0.391097</td>\n",
       "      <td>0</td>\n",
       "      <td>0</td>\n",
       "      <td>0</td>\n",
       "    </tr>\n",
       "    <tr>\n",
       "      <th>8777</th>\n",
       "      <td>-0.484083</td>\n",
       "      <td>-1.420358</td>\n",
       "      <td>-1.134997</td>\n",
       "      <td>1.421989</td>\n",
       "      <td>0.797767</td>\n",
       "      <td>1</td>\n",
       "      <td>0</td>\n",
       "      <td>-1.361559</td>\n",
       "      <td>0</td>\n",
       "      <td>1</td>\n",
       "      <td>1</td>\n",
       "    </tr>\n",
       "  </tbody>\n",
       "</table>\n",
       "</div>"
      ],
      "text/plain": [
       "      credit_score       age    tenure   balance  num_of_products  \\\n",
       "5536     -0.143332  0.577533 -1.456283 -1.220573         0.797767   \n",
       "8530      1.632702 -0.564119 -0.813711  0.435807        -0.916018   \n",
       "1762      1.116413 -0.468981 -1.134997  1.245822        -0.916018   \n",
       "9090      1.643028  0.006707  0.150148 -1.220573        -0.916018   \n",
       "8777     -0.484083 -1.420358 -1.134997  1.421989         0.797767   \n",
       "\n",
       "      has_cr_card  is_active_member  estimated_salary  geography_Germany  \\\n",
       "5536            1                 1          1.029613                  0   \n",
       "8530            1                 0          0.237986                  0   \n",
       "1762            1                 1         -0.686104                  0   \n",
       "9090            1                 0         -0.391097                  0   \n",
       "8777            1                 0         -1.361559                  0   \n",
       "\n",
       "      geography_Spain  gender_Male  \n",
       "5536                1            1  \n",
       "8530                0            0  \n",
       "1762                0            0  \n",
       "9090                0            0  \n",
       "8777                1            1  "
      ]
     },
     "execution_count": 15,
     "metadata": {},
     "output_type": "execute_result"
    }
   ],
   "source": [
    "features_train.head()"
   ]
  },
  {
   "cell_type": "markdown",
   "metadata": {},
   "source": [
    "## Исследование задачи"
   ]
  },
  {
   "cell_type": "code",
   "execution_count": 16,
   "metadata": {},
   "outputs": [],
   "source": [
    "f1_result = pd.DataFrame(columns=[\"log_reg\", \"rand_forest\", \"dec_tree\"],\n",
    "                      index=[\"unbalanced\",\"class_weight\",\"upsampling\", \"downsampling\"])\n",
    "roc_auc_result = pd.DataFrame(columns=[\"log_reg\", \"rand_forest\", \"dec_tree\"],\n",
    "                      index=[\"unbalanced\",\"class_weight\",\"upsampling\", \"downsampling\"])"
   ]
  },
  {
   "cell_type": "markdown",
   "metadata": {},
   "source": [
    "Небольшая заготовка для упрощения жизни - функция для построения ROC кривой и вычисления площади под ней"
   ]
  },
  {
   "cell_type": "code",
   "execution_count": 17,
   "metadata": {},
   "outputs": [],
   "source": [
    "def plot_roc(model, target, features):\n",
    "    model_name = str(model).split('(')[0]\n",
    "    roc_auc = roc_auc_score(target, model.predict(features))\n",
    "    fpr, tpr, thresholds = roc_curve(target, model.predict_proba(features)[:,1])\n",
    "    plt.figure()\n",
    "    plt.plot(fpr, tpr, label= model_name + '(area = %0.2f)' % roc_auc)\n",
    "    plt.plot([0, 1], [0, 1],'r--')\n",
    "    plt.xlim([0.0, 1.0])\n",
    "    plt.ylim([0.0, 1.05])\n",
    "    plt.xlabel('False Positive Rate')\n",
    "    plt.ylabel('True Positive Rate')\n",
    "    plt.title('Receiver operating characteristic')\n",
    "    plt.legend(loc=\"lower right\")\n",
    "    plt.show()\n",
    "    return round(roc_auc,2)"
   ]
  },
  {
   "cell_type": "markdown",
   "metadata": {},
   "source": [
    "Функция поиска лучших гиперпараметров логистической регрессии"
   ]
  },
  {
   "cell_type": "code",
   "execution_count": 18,
   "metadata": {},
   "outputs": [],
   "source": [
    "def find_best_log_reg(features_tr,target_tr, features_v, target_v, is_balanced=None):\n",
    "    best_model = None\n",
    "    best_result = 0\n",
    "    for solver_ in ['liblinear', 'newton-cg', 'lbfgs', 'sag', 'saga']:\n",
    "        model = LogisticRegression(random_state=12345, solver=solver_, max_iter=1000,class_weight=is_balanced)\n",
    "        model.fit(features_tr, target_tr)\n",
    "        #logit_roc_auc = roc_auc_score(target_train, model.predict(features_train))\n",
    "        #fpr, tpr, thresholds = roc_curve(target_train, model.predict_proba(features_train)[:,1])\n",
    "\n",
    "        #result = model.score(features_v, target_v) \n",
    "        result = f1_score(target_v, model.predict(features_v))\n",
    "        if result > best_result:\n",
    "            best_model = model\n",
    "            best_result = result\n",
    "\n",
    "    print(f\"F1 наилучшей модели {best_model} на валидационной выборке: {best_result}\")\n",
    "    #print(\"F1:\", f1_score(target_v, best_model.predict(features_v)))\n",
    "    print(classification_report(target_v, best_model.predict(features_v)))\n",
    "    return best_model, round(best_result,2)"
   ]
  },
  {
   "cell_type": "markdown",
   "metadata": {},
   "source": [
    "### LogisticRegression"
   ]
  },
  {
   "cell_type": "code",
   "execution_count": 19,
   "metadata": {
    "scrolled": false
   },
   "outputs": [
    {
     "name": "stdout",
     "output_type": "stream",
     "text": [
      "F1 наилучшей модели LogisticRegression(max_iter=1000, random_state=12345, solver='liblinear') на валидационной выборке: 0.3214953271028037\n",
      "              precision    recall  f1-score   support\n",
      "\n",
      "           0       0.83      0.97      0.90      1593\n",
      "           1       0.67      0.21      0.32       407\n",
      "\n",
      "    accuracy                           0.82      2000\n",
      "   macro avg       0.75      0.59      0.61      2000\n",
      "weighted avg       0.80      0.82      0.78      2000\n",
      "\n"
     ]
    }
   ],
   "source": [
    "best_log_reg, f1_result['log_reg']['unbalanced'] = find_best_log_reg(features_train,target_train, features_valid, target_valid  )"
   ]
  },
  {
   "cell_type": "markdown",
   "metadata": {},
   "source": []
  },
  {
   "cell_type": "code",
   "execution_count": 20,
   "metadata": {
    "scrolled": false
   },
   "outputs": [
    {
     "data": {
      "image/png": "[encoded data removed]",
      "text/plain": [
       "<Figure size 432x288 with 1 Axes>"
      ]
     },
     "metadata": {
      "needs_background": "light"
     },
     "output_type": "display_data"
    }
   ],
   "source": [
    "roc_auc_result['log_reg']['unbalanced'] = plot_roc(best_log_reg, target_valid, features_valid)"
   ]
  },
  {
   "cell_type": "markdown",
   "metadata": {},
   "source": [
    "### RandomForestClassifier"
   ]
  },
  {
   "cell_type": "markdown",
   "metadata": {},
   "source": [
    "Функция поиска лучших гиперпараметров Random Forest"
   ]
  },
  {
   "cell_type": "code",
   "execution_count": 21,
   "metadata": {},
   "outputs": [],
   "source": [
    "def find_best_random_forest(features_tr,target_tr, features_v, target_v,is_balanced=None):\n",
    "    best_model = None\n",
    "    best_result = 0\n",
    "    for est in range(1, 30):\n",
    "        for depth in range(1, 30):\n",
    "            model = RandomForestClassifier(random_state=12345, n_estimators=est, max_depth=depth,class_weight=is_balanced) \n",
    "            model.fit(features_tr, target_tr) \n",
    "            #result = model.score(features_v, target_v) \n",
    "            result = f1_score(target_v, model.predict(features_v)) \n",
    "            if result > best_result:\n",
    "                best_model = model\n",
    "                best_result = result\n",
    "\n",
    "    print(f\"F1 наилучшей модели {best_model} на валидационной выборке: {best_result}\")\n",
    "    #print(\"F1 наилучшей модели {best_model} на валидационной выборке: {best_result}:\")#, f1_score(target_v, best_model.predict(features_v)\n",
    "    print(classification_report(target_v, best_model.predict(features_v)))\n",
    "    return best_model, round(best_result,2)"
   ]
  },
  {
   "cell_type": "code",
   "execution_count": null,
   "metadata": {},
   "outputs": [],
   "source": []
  },
  {
   "cell_type": "code",
   "execution_count": 22,
   "metadata": {
    "scrolled": true
   },
   "outputs": [
    {
     "name": "stdout",
     "output_type": "stream",
     "text": [
      "F1 наилучшей модели RandomForestClassifier(max_depth=23, n_estimators=19, random_state=12345) на валидационной выборке: 0.5782414307004471\n",
      "              precision    recall  f1-score   support\n",
      "\n",
      "           0       0.88      0.96      0.91      1593\n",
      "           1       0.73      0.48      0.58       407\n",
      "\n",
      "    accuracy                           0.86      2000\n",
      "   macro avg       0.81      0.72      0.75      2000\n",
      "weighted avg       0.85      0.86      0.85      2000\n",
      "\n"
     ]
    }
   ],
   "source": [
    "best_random_forest, f1_result['rand_forest']['unbalanced'] = find_best_random_forest(features_train,target_train, features_valid, target_valid )"
   ]
  },
  {
   "cell_type": "code",
   "execution_count": 23,
   "metadata": {
    "scrolled": false
   },
   "outputs": [
    {
     "data": {
      "image/png": "[encoded data removed]",
      "text/plain": [
       "<Figure size 432x288 with 1 Axes>"
      ]
     },
     "metadata": {
      "needs_background": "light"
     },
     "output_type": "display_data"
    }
   ],
   "source": [
    "roc_auc_result['rand_forest']['unbalanced'] = plot_roc(best_random_forest, target_valid, features_valid)"
   ]
  },
  {
   "cell_type": "markdown",
   "metadata": {},
   "source": [
    "### DecisionTreeClassifier"
   ]
  },
  {
   "cell_type": "markdown",
   "metadata": {},
   "source": [
    "Функция поиска лучших гиперпараметров DecisionTreeClassifier"
   ]
  },
  {
   "cell_type": "code",
   "execution_count": 24,
   "metadata": {
    "scrolled": false
   },
   "outputs": [],
   "source": [
    "def find_best_dec_tree(features_tr,target_tr, features_v, target_v, is_balanced=None):\n",
    "    best_model = None\n",
    "    best_result = 0\n",
    "    for depth in range(1, 30):\n",
    "        model = DecisionTreeClassifier(max_depth=depth, random_state=12345, class_weight=is_balanced)\n",
    "        model.fit(features_tr, target_tr)\n",
    "        #result = model.score(features_v, target_v) \n",
    "        result = f1_score(target_v, model.predict(features_v))\n",
    "        if result > best_result:\n",
    "            best_model = model\n",
    "            best_result = result\n",
    "\n",
    "    print(f\"F1 наилучшей модели {best_model} на валидационной выборке: {best_result}\")\n",
    "    #print(\"F1 на валидационной выборке:\", f1_score(target_v, best_model.predict(features_v)))\n",
    "    print(\"Метрики на валидационной выборке\",classification_report(target_v, best_model.predict(features_v)))\n",
    "    return best_model, round(best_result,2)"
   ]
  },
  {
   "cell_type": "code",
   "execution_count": 25,
   "metadata": {
    "scrolled": false
   },
   "outputs": [
    {
     "name": "stdout",
     "output_type": "stream",
     "text": [
      "F1 наилучшей модели DecisionTreeClassifier(max_depth=8, random_state=12345) на валидационной выборке: 0.5817655571635311\n",
      "Метрики на валидационной выборке               precision    recall  f1-score   support\n",
      "\n",
      "           0       0.88      0.95      0.91      1593\n",
      "           1       0.71      0.49      0.58       407\n",
      "\n",
      "    accuracy                           0.86      2000\n",
      "   macro avg       0.79      0.72      0.75      2000\n",
      "weighted avg       0.84      0.86      0.85      2000\n",
      "\n"
     ]
    }
   ],
   "source": [
    "best_dec_tree, f1_result['dec_tree']['unbalanced'] = find_best_dec_tree(features_train,target_train, features_valid, target_valid)"
   ]
  },
  {
   "cell_type": "code",
   "execution_count": 26,
   "metadata": {
    "scrolled": false
   },
   "outputs": [
    {
     "data": {
      "image/png": "[encoded data removed]",
      "text/plain": [
       "<Figure size 432x288 with 1 Axes>"
      ]
     },
     "metadata": {
      "needs_background": "light"
     },
     "output_type": "display_data"
    }
   ],
   "source": [
    "roc_auc_result['dec_tree']['unbalanced'] = plot_roc(best_dec_tree, target_valid, features_valid)"
   ]
  },
  {
   "cell_type": "markdown",
   "metadata": {},
   "source": [
    "### Распределение классов "
   ]
  },
  {
   "cell_type": "markdown",
   "metadata": {},
   "source": [
    "Посмотрим распределение классов на тренировочной выборке"
   ]
  },
  {
   "cell_type": "code",
   "execution_count": 27,
   "metadata": {
    "scrolled": true
   },
   "outputs": [
    {
     "data": {
      "text/plain": [
       "<AxesSubplot:title={'center':'Распределение классов'}>"
      ]
     },
     "execution_count": 27,
     "metadata": {},
     "output_type": "execute_result"
    },
    {
     "data": {
      "image/png": "[encoded data removed]",
      "text/plain": [
       "<Figure size 432x288 with 1 Axes>"
      ]
     },
     "metadata": {
      "needs_background": "light"
     },
     "output_type": "display_data"
    }
   ],
   "source": [
    "target_train.value_counts(normalize=True).plot(kind='bar', title='Распределение классов')"
   ]
  },
  {
   "cell_type": "markdown",
   "metadata": {},
   "source": [
    "Очевидно преобладает один класс объектов. Создадим простую модель, которая всегда будет предсказывать только 0"
   ]
  },
  {
   "cell_type": "code",
   "execution_count": 28,
   "metadata": {},
   "outputs": [
    {
     "name": "stdout",
     "output_type": "stream",
     "text": [
      "              precision    recall  f1-score   support\n",
      "\n",
      "           0       0.80      1.00      0.89      1593\n",
      "           1       0.00      0.00      0.00       407\n",
      "\n",
      "    accuracy                           0.80      2000\n",
      "   macro avg       0.40      0.50      0.44      2000\n",
      "weighted avg       0.63      0.80      0.71      2000\n",
      "\n"
     ]
    },
    {
     "name": "stderr",
     "output_type": "stream",
     "text": [
      "/opt/conda/lib/python3.9/site-packages/sklearn/metrics/_classification.py:1245: UndefinedMetricWarning: Precision and F-score are ill-defined and being set to 0.0 in labels with no predicted samples. Use `zero_division` parameter to control this behavior.\n",
      "  _warn_prf(average, modifier, msg_start, len(result))\n",
      "/opt/conda/lib/python3.9/site-packages/sklearn/metrics/_classification.py:1245: UndefinedMetricWarning: Precision and F-score are ill-defined and being set to 0.0 in labels with no predicted samples. Use `zero_division` parameter to control this behavior.\n",
      "  _warn_prf(average, modifier, msg_start, len(result))\n",
      "/opt/conda/lib/python3.9/site-packages/sklearn/metrics/_classification.py:1245: UndefinedMetricWarning: Precision and F-score are ill-defined and being set to 0.0 in labels with no predicted samples. Use `zero_division` parameter to control this behavior.\n",
      "  _warn_prf(average, modifier, msg_start, len(result))\n"
     ]
    }
   ],
   "source": [
    "target_pred_constant = pd.Series([0]*len(target_valid))\n",
    "#print(accuracy_score(target_valid, target_pred_constant).round(3)) \n",
    "#print(\"F1:\", f1_score(target_valid, target_pred_constant))\n",
    "print(classification_report(target_valid, target_pred_constant))"
   ]
  },
  {
   "cell_type": "markdown",
   "metadata": {},
   "source": [
    "80% доля правильных ответов 👏👏👏 Заканчиваем исследование, забираем кэш💰💰"
   ]
  },
  {
   "cell_type": "markdown",
   "metadata": {},
   "source": [
    "## Борьба с дисбалансом"
   ]
  },
  {
   "cell_type": "markdown",
   "metadata": {},
   "source": [
    "### class_weight"
   ]
  },
  {
   "cell_type": "markdown",
   "metadata": {},
   "source": [
    "Попробуем увеличить вес болоее редкого класса"
   ]
  },
  {
   "cell_type": "code",
   "execution_count": 29,
   "metadata": {
    "scrolled": true
   },
   "outputs": [
    {
     "name": "stdout",
     "output_type": "stream",
     "text": [
      "F1 наилучшей модели LogisticRegression(class_weight='balanced', max_iter=1000, random_state=12345,\n",
      "                   solver='liblinear') на валидационной выборке: 0.5099739809193409\n",
      "              precision    recall  f1-score   support\n",
      "\n",
      "           0       0.91      0.72      0.80      1593\n",
      "           1       0.39      0.72      0.51       407\n",
      "\n",
      "    accuracy                           0.72      2000\n",
      "   macro avg       0.65      0.72      0.66      2000\n",
      "weighted avg       0.80      0.72      0.74      2000\n",
      "\n"
     ]
    }
   ],
   "source": [
    "cw_best_log_reg, f1_result['log_reg']['class_weight'] = find_best_log_reg(features_train,target_train, features_valid, target_valid, is_balanced='balanced')"
   ]
  },
  {
   "cell_type": "code",
   "execution_count": 30,
   "metadata": {
    "scrolled": true
   },
   "outputs": [
    {
     "data": {
      "image/png": "[encoded data removed]",
      "text/plain": [
       "<Figure size 432x288 with 1 Axes>"
      ]
     },
     "metadata": {
      "needs_background": "light"
     },
     "output_type": "display_data"
    }
   ],
   "source": [
    "roc_auc_result['log_reg']['class_weight'] = plot_roc(cw_best_log_reg, target_valid, features_valid)"
   ]
  },
  {
   "cell_type": "code",
   "execution_count": 31,
   "metadata": {
    "scrolled": false
   },
   "outputs": [
    {
     "name": "stdout",
     "output_type": "stream",
     "text": [
      "F1 наилучшей модели RandomForestClassifier(class_weight='balanced', max_depth=8, n_estimators=26,\n",
      "                       random_state=12345) на валидационной выборке: 0.6353711790393013\n",
      "              precision    recall  f1-score   support\n",
      "\n",
      "           0       0.92      0.86      0.89      1593\n",
      "           1       0.57      0.71      0.64       407\n",
      "\n",
      "    accuracy                           0.83      2000\n",
      "   macro avg       0.75      0.79      0.76      2000\n",
      "weighted avg       0.85      0.83      0.84      2000\n",
      "\n"
     ]
    }
   ],
   "source": [
    "cw_best_random_forest, f1_result['rand_forest']['class_weight'] = find_best_random_forest(features_train,target_train, features_valid, target_valid, is_balanced='balanced' )"
   ]
  },
  {
   "cell_type": "code",
   "execution_count": 32,
   "metadata": {
    "scrolled": true
   },
   "outputs": [
    {
     "data": {
      "image/png": "[encoded data removed]",
      "text/plain": [
       "<Figure size 432x288 with 1 Axes>"
      ]
     },
     "metadata": {
      "needs_background": "light"
     },
     "output_type": "display_data"
    }
   ],
   "source": [
    "roc_auc_result['rand_forest']['class_weight'] = plot_roc(cw_best_random_forest, target_valid, features_valid)"
   ]
  },
  {
   "cell_type": "code",
   "execution_count": 33,
   "metadata": {
    "scrolled": false
   },
   "outputs": [
    {
     "name": "stdout",
     "output_type": "stream",
     "text": [
      "F1 наилучшей модели DecisionTreeClassifier(class_weight='balanced', max_depth=6, random_state=12345) на валидационной выборке: 0.5734639358860195\n",
      "Метрики на валидационной выборке               precision    recall  f1-score   support\n",
      "\n",
      "           0       0.93      0.75      0.83      1593\n",
      "           1       0.45      0.79      0.57       407\n",
      "\n",
      "    accuracy                           0.76      2000\n",
      "   macro avg       0.69      0.77      0.70      2000\n",
      "weighted avg       0.84      0.76      0.78      2000\n",
      "\n"
     ]
    }
   ],
   "source": [
    "cw_best_dec_tree,f1_result['dec_tree']['class_weight'] = find_best_dec_tree(features_train,target_train, features_valid, target_valid, is_balanced='balanced')"
   ]
  },
  {
   "cell_type": "code",
   "execution_count": 34,
   "metadata": {
    "scrolled": false
   },
   "outputs": [
    {
     "data": {
      "image/png": "[encoded data removed]",
      "text/plain": [
       "<Figure size 432x288 with 1 Axes>"
      ]
     },
     "metadata": {
      "needs_background": "light"
     },
     "output_type": "display_data"
    }
   ],
   "source": [
    "roc_auc_result['dec_tree']['class_weight'] = plot_roc(cw_best_dec_tree, target_valid, features_valid)"
   ]
  },
  {
   "cell_type": "markdown",
   "metadata": {},
   "source": [
    "### upsampling"
   ]
  },
  {
   "cell_type": "markdown",
   "metadata": {},
   "source": [
    "Увеличим количество представителей более редкого класса"
   ]
  },
  {
   "cell_type": "code",
   "execution_count": null,
   "metadata": {},
   "outputs": [],
   "source": []
  },
  {
   "cell_type": "code",
   "execution_count": 35,
   "metadata": {},
   "outputs": [],
   "source": [
    "def upsample(features, target, repeat):\n",
    "    features_zeros = features[target == 0]\n",
    "    features_ones = features[target == 1]\n",
    "    target_zeros = target[target == 0]\n",
    "    target_ones = target[target == 1]\n",
    "\n",
    "    features_upsampled = pd.concat([features_zeros] + [features_ones] * repeat)\n",
    "    target_upsampled = pd.concat([target_zeros] + [target_ones] * repeat)\n",
    "    \n",
    "    features_upsampled, target_upsampled = shuffle(\n",
    "        features_upsampled, target_upsampled, random_state=12345)\n",
    "    \n",
    "    return features_upsampled, target_upsampled\n",
    "\n",
    "features_upsampled, target_upsampled = upsample(features_train, target_train, 4)\n"
   ]
  },
  {
   "cell_type": "markdown",
   "metadata": {},
   "source": [
    "Проверим показатели моделей после того, как сравняли доли классов в выборке"
   ]
  },
  {
   "cell_type": "code",
   "execution_count": 37,
   "metadata": {
    "scrolled": false
   },
   "outputs": [
    {
     "data": {
      "text/plain": [
       "<AxesSubplot:title={'center':'Распределение классов'}>"
      ]
     },
     "execution_count": 37,
     "metadata": {},
     "output_type": "execute_result"
    },
    {
     "data": {
      "image/png": "[encoded data removed]",
      "text/plain": [
       "<Figure size 432x288 with 1 Axes>"
      ]
     },
     "metadata": {
      "needs_background": "light"
     },
     "output_type": "display_data"
    }
   ],
   "source": [
    "target_upsampled.value_counts(normalize=True).plot(kind='bar', title='Распределение классов')"
   ]
  },
  {
   "cell_type": "code",
   "execution_count": 38,
   "metadata": {},
   "outputs": [
    {
     "name": "stdout",
     "output_type": "stream",
     "text": [
      "features shape:  (9669, 11) \n",
      "target shape:  (9669,)\n"
     ]
    }
   ],
   "source": [
    "print(\"features shape: \",features_upsampled.shape,\"\\ntarget shape: \", target_upsampled.shape)"
   ]
  },
  {
   "cell_type": "code",
   "execution_count": 356,
   "metadata": {
    "scrolled": true
   },
   "outputs": [
    {
     "name": "stdout",
     "output_type": "stream",
     "text": [
      "F1 наилучшей модели LogisticRegression(max_iter=1000, random_state=12345, solver='liblinear') на валидационной выборке: 0.5068493150684932\n",
      "              precision    recall  f1-score   support\n",
      "\n",
      "           0       0.91      0.71      0.80      1593\n",
      "           1       0.39      0.73      0.51       407\n",
      "\n",
      "    accuracy                           0.71      2000\n",
      "   macro avg       0.65      0.72      0.65      2000\n",
      "weighted avg       0.80      0.71      0.74      2000\n",
      "\n"
     ]
    }
   ],
   "source": [
    "us_best_log_reg, f1_result['log_reg']['upsampling'] = find_best_log_reg(features_upsampled, target_upsampled, features_valid, target_valid)"
   ]
  },
  {
   "cell_type": "code",
   "execution_count": 357,
   "metadata": {
    "scrolled": true
   },
   "outputs": [
    {
     "data": {
      "image/png": "[encoded data removed]",
      "text/plain": [
       "<Figure size 432x288 with 1 Axes>"
      ]
     },
     "metadata": {
      "needs_background": "light"
     },
     "output_type": "display_data"
    }
   ],
   "source": [
    "roc_auc_result['log_reg']['upsampling'] = plot_roc(us_best_log_reg, target_valid, features_valid)"
   ]
  },
  {
   "cell_type": "code",
   "execution_count": 358,
   "metadata": {
    "scrolled": true
   },
   "outputs": [
    {
     "name": "stdout",
     "output_type": "stream",
     "text": [
      "F1 наилучшей модели RandomForestClassifier(max_depth=12, n_estimators=17, random_state=12345) на валидационной выборке: 0.6325802615933412\n",
      "              precision    recall  f1-score   support\n",
      "\n",
      "           0       0.91      0.89      0.90      1593\n",
      "           1       0.61      0.65      0.63       407\n",
      "\n",
      "    accuracy                           0.85      2000\n",
      "   macro avg       0.76      0.77      0.77      2000\n",
      "weighted avg       0.85      0.85      0.85      2000\n",
      "\n"
     ]
    }
   ],
   "source": [
    "us_best_random_forest, f1_result['rand_forest']['upsampling'] = find_best_random_forest(features_upsampled, target_upsampled, features_valid, target_valid)"
   ]
  },
  {
   "cell_type": "code",
   "execution_count": 359,
   "metadata": {
    "scrolled": false
   },
   "outputs": [
    {
     "data": {
      "image/png": "[encoded data removed]",
      "text/plain": [
       "<Figure size 432x288 with 1 Axes>"
      ]
     },
     "metadata": {
      "needs_background": "light"
     },
     "output_type": "display_data"
    }
   ],
   "source": [
    "roc_auc_result['rand_forest']['upsampling'] = plot_roc(us_best_random_forest, target_valid, features_valid)"
   ]
  },
  {
   "cell_type": "code",
   "execution_count": 360,
   "metadata": {
    "scrolled": true
   },
   "outputs": [
    {
     "name": "stdout",
     "output_type": "stream",
     "text": [
      "F1 наилучшей модели DecisionTreeClassifier(max_depth=6, random_state=12345) на валидационной выборке: 0.5752688172043011\n",
      "Метрики на валидационной выборке               precision    recall  f1-score   support\n",
      "\n",
      "           0       0.93      0.76      0.84      1593\n",
      "           1       0.45      0.79      0.58       407\n",
      "\n",
      "    accuracy                           0.76      2000\n",
      "   macro avg       0.69      0.77      0.71      2000\n",
      "weighted avg       0.84      0.76      0.78      2000\n",
      "\n"
     ]
    }
   ],
   "source": [
    "us_best_dec_tree, f1_result['dec_tree']['upsampling'] = find_best_dec_tree(features_upsampled, target_upsampled, features_valid, target_valid)"
   ]
  },
  {
   "cell_type": "code",
   "execution_count": 361,
   "metadata": {
    "scrolled": false
   },
   "outputs": [
    {
     "data": {
      "image/png": "[encoded data removed]",
      "text/plain": [
       "<Figure size 432x288 with 1 Axes>"
      ]
     },
     "metadata": {
      "needs_background": "light"
     },
     "output_type": "display_data"
    }
   ],
   "source": [
    "roc_auc_result['dec_tree']['upsampling'] = plot_roc(us_best_dec_tree, target_valid, features_valid)"
   ]
  },
  {
   "cell_type": "markdown",
   "metadata": {},
   "source": [
    "### downsampling"
   ]
  },
  {
   "cell_type": "code",
   "execution_count": 362,
   "metadata": {},
   "outputs": [],
   "source": [
    "def downsample(features, target, fraction):\n",
    "    features_zeros = features[target == 0]\n",
    "    features_ones = features[target == 1]\n",
    "    target_zeros = target[target == 0]\n",
    "    target_ones = target[target == 1]\n",
    "\n",
    "    features_downsampled = pd.concat(\n",
    "        [features_zeros.sample(frac=fraction, random_state=12345)] + [features_ones])\n",
    "    target_downsampled = pd.concat(\n",
    "        [target_zeros.sample(frac=fraction, random_state=12345)] + [target_ones])\n",
    "    \n",
    "    features_downsampled, target_downsampled = shuffle(\n",
    "        features_downsampled, target_downsampled, random_state=12345)\n",
    "    \n",
    "    return features_downsampled, target_downsampled\n",
    "\n",
    "features_downsampled, target_downsampled = downsample(features_train, target_train, 0.1)"
   ]
  },
  {
   "cell_type": "markdown",
   "metadata": {},
   "source": [
    "Сократив долю нулевого класса получим следущее распределение"
   ]
  },
  {
   "cell_type": "code",
   "execution_count": 363,
   "metadata": {
    "scrolled": true
   },
   "outputs": [
    {
     "data": {
      "text/plain": [
       "<AxesSubplot:title={'center':'Распределение классов'}>"
      ]
     },
     "execution_count": 363,
     "metadata": {},
     "output_type": "execute_result"
    },
    {
     "data": {
      "image/png": "[encoded data removed]",
      "text/plain": [
       "<Figure size 432x288 with 1 Axes>"
      ]
     },
     "metadata": {
      "needs_background": "light"
     },
     "output_type": "display_data"
    }
   ],
   "source": [
    "target_downsampled.value_counts(normalize=True).plot(kind='bar', title='Распределение классов')"
   ]
  },
  {
   "cell_type": "code",
   "execution_count": 364,
   "metadata": {
    "scrolled": true
   },
   "outputs": [
    {
     "name": "stdout",
     "output_type": "stream",
     "text": [
      "F1 наилучшей модели LogisticRegression(max_iter=1000, random_state=12345, solver='liblinear') на валидационной выборке: 0.5068493150684932\n",
      "              precision    recall  f1-score   support\n",
      "\n",
      "           0       0.91      0.71      0.80      1593\n",
      "           1       0.39      0.73      0.51       407\n",
      "\n",
      "    accuracy                           0.71      2000\n",
      "   macro avg       0.65      0.72      0.65      2000\n",
      "weighted avg       0.80      0.71      0.74      2000\n",
      "\n"
     ]
    }
   ],
   "source": [
    "ds_best_log_reg, f1_result['log_reg']['downsampling'] = find_best_log_reg(features_upsampled, target_upsampled, features_valid, target_valid)"
   ]
  },
  {
   "cell_type": "code",
   "execution_count": 365,
   "metadata": {
    "scrolled": true
   },
   "outputs": [
    {
     "data": {
      "image/png": "[encoded data removed]",
      "text/plain": [
       "<Figure size 432x288 with 1 Axes>"
      ]
     },
     "metadata": {
      "needs_background": "light"
     },
     "output_type": "display_data"
    }
   ],
   "source": [
    "roc_auc_result['log_reg']['downsampling'] = plot_roc(ds_best_log_reg, target_valid, features_valid)"
   ]
  },
  {
   "cell_type": "code",
   "execution_count": 366,
   "metadata": {
    "scrolled": true
   },
   "outputs": [
    {
     "name": "stdout",
     "output_type": "stream",
     "text": [
      "F1 наилучшей модели RandomForestClassifier(max_depth=12, n_estimators=17, random_state=12345) на валидационной выборке: 0.6325802615933412\n",
      "              precision    recall  f1-score   support\n",
      "\n",
      "           0       0.91      0.89      0.90      1593\n",
      "           1       0.61      0.65      0.63       407\n",
      "\n",
      "    accuracy                           0.85      2000\n",
      "   macro avg       0.76      0.77      0.77      2000\n",
      "weighted avg       0.85      0.85      0.85      2000\n",
      "\n"
     ]
    }
   ],
   "source": [
    "ds_best_random_forest, f1_result['rand_forest']['downsampling'] = find_best_random_forest(features_upsampled, target_upsampled, features_valid, target_valid)"
   ]
  },
  {
   "cell_type": "code",
   "execution_count": 367,
   "metadata": {
    "scrolled": false
   },
   "outputs": [
    {
     "data": {
      "image/png": "[encoded data removed]",
      "text/plain": [
       "<Figure size 432x288 with 1 Axes>"
      ]
     },
     "metadata": {
      "needs_background": "light"
     },
     "output_type": "display_data"
    }
   ],
   "source": [
    "roc_auc_result['rand_forest']['downsampling'] = plot_roc(ds_best_random_forest, target_valid, features_valid)"
   ]
  },
  {
   "cell_type": "code",
   "execution_count": 368,
   "metadata": {
    "scrolled": true
   },
   "outputs": [
    {
     "name": "stdout",
     "output_type": "stream",
     "text": [
      "F1 наилучшей модели DecisionTreeClassifier(max_depth=6, random_state=12345) на валидационной выборке: 0.5752688172043011\n",
      "Метрики на валидационной выборке               precision    recall  f1-score   support\n",
      "\n",
      "           0       0.93      0.76      0.84      1593\n",
      "           1       0.45      0.79      0.58       407\n",
      "\n",
      "    accuracy                           0.76      2000\n",
      "   macro avg       0.69      0.77      0.71      2000\n",
      "weighted avg       0.84      0.76      0.78      2000\n",
      "\n"
     ]
    }
   ],
   "source": [
    "ds_best_dec_tree,f1_result['dec_tree']['downsampling'] = find_best_dec_tree(features_upsampled, target_upsampled, features_valid, target_valid)"
   ]
  },
  {
   "cell_type": "code",
   "execution_count": 369,
   "metadata": {
    "scrolled": false
   },
   "outputs": [
    {
     "data": {
      "image/png": "[encoded data removed]",
      "text/plain": [
       "<Figure size 432x288 with 1 Axes>"
      ]
     },
     "metadata": {
      "needs_background": "light"
     },
     "output_type": "display_data"
    }
   ],
   "source": [
    "roc_auc_result['dec_tree']['downsampling'] = plot_roc(ds_best_dec_tree, target_valid, features_valid)"
   ]
  },
  {
   "cell_type": "markdown",
   "metadata": {},
   "source": [
    "### Вывод"
   ]
  },
  {
   "cell_type": "markdown",
   "metadata": {},
   "source": [
    "По итогам исследования выявлена лучшая модель по метрикам f1 и auc roc."
   ]
  },
  {
   "cell_type": "code",
   "execution_count": 380,
   "metadata": {},
   "outputs": [
    {
     "data": {
      "text/plain": [
       "RandomForestClassifier(class_weight='balanced', max_depth=8, n_estimators=26,\n",
       "                       random_state=12345)"
      ]
     },
     "execution_count": 380,
     "metadata": {},
     "output_type": "execute_result"
    }
   ],
   "source": [
    "cw_best_random_forest"
   ]
  },
  {
   "cell_type": "code",
   "execution_count": 370,
   "metadata": {
    "scrolled": true
   },
   "outputs": [
    {
     "data": {
      "text/plain": [
       "<AxesSubplot:title={'center':'f1 score'}>"
      ]
     },
     "execution_count": 370,
     "metadata": {},
     "output_type": "execute_result"
    },
    {
     "data": {
      "image/png": "[encoded data removed]",
      "text/plain": [
       "<Figure size 864x504 with 1 Axes>"
      ]
     },
     "metadata": {
      "needs_background": "light"
     },
     "output_type": "display_data"
    }
   ],
   "source": [
    "f1_result.plot(kind='bar', title='f1 score', figsize=(12,7))"
   ]
  },
  {
   "cell_type": "code",
   "execution_count": 373,
   "metadata": {
    "scrolled": true
   },
   "outputs": [
    {
     "data": {
      "text/html": [
       "<div>\n",
       "<style scoped>\n",
       "    .dataframe tbody tr th:only-of-type {\n",
       "        vertical-align: middle;\n",
       "    }\n",
       "\n",
       "    .dataframe tbody tr th {\n",
       "        vertical-align: top;\n",
       "    }\n",
       "\n",
       "    .dataframe thead th {\n",
       "        text-align: right;\n",
       "    }\n",
       "</style>\n",
       "<table border=\"1\" class=\"dataframe\">\n",
       "  <thead>\n",
       "    <tr style=\"text-align: right;\">\n",
       "      <th></th>\n",
       "      <th>log_reg</th>\n",
       "      <th>rand_forest</th>\n",
       "      <th>dec_tree</th>\n",
       "    </tr>\n",
       "  </thead>\n",
       "  <tbody>\n",
       "    <tr>\n",
       "      <th>unbalanced</th>\n",
       "      <td>0.32</td>\n",
       "      <td>0.58</td>\n",
       "      <td>0.58</td>\n",
       "    </tr>\n",
       "    <tr>\n",
       "      <th>class_weight</th>\n",
       "      <td>0.51</td>\n",
       "      <td>0.64</td>\n",
       "      <td>0.57</td>\n",
       "    </tr>\n",
       "    <tr>\n",
       "      <th>upsampling</th>\n",
       "      <td>0.51</td>\n",
       "      <td>0.63</td>\n",
       "      <td>0.58</td>\n",
       "    </tr>\n",
       "    <tr>\n",
       "      <th>downsampling</th>\n",
       "      <td>0.51</td>\n",
       "      <td>0.63</td>\n",
       "      <td>0.58</td>\n",
       "    </tr>\n",
       "  </tbody>\n",
       "</table>\n",
       "</div>"
      ],
      "text/plain": [
       "             log_reg rand_forest dec_tree\n",
       "unbalanced      0.32        0.58     0.58\n",
       "class_weight    0.51        0.64     0.57\n",
       "upsampling      0.51        0.63     0.58\n",
       "downsampling    0.51        0.63     0.58"
      ]
     },
     "execution_count": 373,
     "metadata": {},
     "output_type": "execute_result"
    }
   ],
   "source": [
    "f1_result"
   ]
  },
  {
   "cell_type": "code",
   "execution_count": 371,
   "metadata": {
    "scrolled": false
   },
   "outputs": [
    {
     "data": {
      "text/plain": [
       "<AxesSubplot:title={'center':'ROC AUC area'}>"
      ]
     },
     "execution_count": 371,
     "metadata": {},
     "output_type": "execute_result"
    },
    {
     "data": {
      "image/png": "[encoded data removed]",
      "text/plain": [
       "<Figure size 864x504 with 1 Axes>"
      ]
     },
     "metadata": {
      "needs_background": "light"
     },
     "output_type": "display_data"
    }
   ],
   "source": [
    "roc_auc_result.plot(kind='bar', title='ROC AUC area', figsize=(12,7))"
   ]
  },
  {
   "cell_type": "code",
   "execution_count": 372,
   "metadata": {},
   "outputs": [
    {
     "data": {
      "text/html": [
       "<div>\n",
       "<style scoped>\n",
       "    .dataframe tbody tr th:only-of-type {\n",
       "        vertical-align: middle;\n",
       "    }\n",
       "\n",
       "    .dataframe tbody tr th {\n",
       "        vertical-align: top;\n",
       "    }\n",
       "\n",
       "    .dataframe thead th {\n",
       "        text-align: right;\n",
       "    }\n",
       "</style>\n",
       "<table border=\"1\" class=\"dataframe\">\n",
       "  <thead>\n",
       "    <tr style=\"text-align: right;\">\n",
       "      <th></th>\n",
       "      <th>log_reg</th>\n",
       "      <th>rand_forest</th>\n",
       "      <th>dec_tree</th>\n",
       "    </tr>\n",
       "  </thead>\n",
       "  <tbody>\n",
       "    <tr>\n",
       "      <th>unbalanced</th>\n",
       "      <td>0.59</td>\n",
       "      <td>0.72</td>\n",
       "      <td>0.72</td>\n",
       "    </tr>\n",
       "    <tr>\n",
       "      <th>class_weight</th>\n",
       "      <td>0.72</td>\n",
       "      <td>0.79</td>\n",
       "      <td>0.77</td>\n",
       "    </tr>\n",
       "    <tr>\n",
       "      <th>upsampling</th>\n",
       "      <td>0.72</td>\n",
       "      <td>0.77</td>\n",
       "      <td>0.77</td>\n",
       "    </tr>\n",
       "    <tr>\n",
       "      <th>downsampling</th>\n",
       "      <td>0.72</td>\n",
       "      <td>0.77</td>\n",
       "      <td>0.77</td>\n",
       "    </tr>\n",
       "  </tbody>\n",
       "</table>\n",
       "</div>"
      ],
      "text/plain": [
       "             log_reg rand_forest dec_tree\n",
       "unbalanced      0.59        0.72     0.72\n",
       "class_weight    0.72        0.79     0.77\n",
       "upsampling      0.72        0.77     0.77\n",
       "downsampling    0.72        0.77     0.77"
      ]
     },
     "execution_count": 372,
     "metadata": {},
     "output_type": "execute_result"
    }
   ],
   "source": [
    "roc_auc_result"
   ]
  },
  {
   "cell_type": "markdown",
   "metadata": {},
   "source": [
    "## Тестирование модели"
   ]
  },
  {
   "cell_type": "code",
   "execution_count": 377,
   "metadata": {
    "scrolled": true
   },
   "outputs": [
    {
     "name": "stdout",
     "output_type": "stream",
     "text": [
      "              precision    recall  f1-score   support\n",
      "\n",
      "           0       0.92      0.86      0.89      1593\n",
      "           1       0.57      0.71      0.63       407\n",
      "\n",
      "    accuracy                           0.83      2000\n",
      "   macro avg       0.74      0.79      0.76      2000\n",
      "weighted avg       0.85      0.83      0.84      2000\n",
      "\n"
     ]
    }
   ],
   "source": [
    "predictions = cw_best_random_forest.predict(features_test)\n",
    "print(classification_report(target_test, predictions))\n"
   ]
  },
  {
   "cell_type": "markdown",
   "metadata": {},
   "source": [
    "### Вывод"
   ]
  },
  {
   "cell_type": "markdown",
   "metadata": {},
   "source": [
    "    По итогам исследования выявлена лучшая модель для классификации - Random Forest с максимальной глубиной 8 и 26 деревьями, увеличение весов более редкого класса способствовало дополнительному повышению метрики f1 - удалось достигнуть значения 0.63 на тестовой выборке. Однако auc roc  на тестовой выборке всего лишь 0.79, что значительно ниже идеального значения - 1. \n",
    "\n",
    "Результаты предсказания на тестовой выборке можно увидеть ниже, на матрице ошибок. \n",
    "    \n",
    "    Доля правильных ответов на тестовой выборке достигла значения 0.83 (результат простой модели 0.8😅), точность распознавания положительного класса значительно ниже точности распознавания нулевого класса"
   ]
  },
  {
   "cell_type": "code",
   "execution_count": 378,
   "metadata": {
    "scrolled": true
   },
   "outputs": [
    {
     "data": {
      "image/png": "[encoded data removed]",
      "text/plain": [
       "<Figure size 432x288 with 1 Axes>"
      ]
     },
     "metadata": {
      "needs_background": "light"
     },
     "output_type": "display_data"
    },
    {
     "data": {
      "text/plain": [
       "0.79"
      ]
     },
     "execution_count": 378,
     "metadata": {},
     "output_type": "execute_result"
    }
   ],
   "source": [
    "plot_roc(cw_best_random_forest, target_test, features_test)"
   ]
  },
  {
   "cell_type": "code",
   "execution_count": 379,
   "metadata": {},
   "outputs": [
    {
     "data": {
      "text/plain": [
       "Text(0.5, 1.0, 'Матрица ошибок')"
      ]
     },
     "execution_count": 379,
     "metadata": {},
     "output_type": "execute_result"
    },
    {
     "data": {
      "image/png": "[encoded data removed]",
      "text/plain": [
       "<Figure size 432x288 with 2 Axes>"
      ]
     },
     "metadata": {
      "needs_background": "light"
     },
     "output_type": "display_data"
    }
   ],
   "source": [
    "sns.heatmap(confusion_matrix(target_test, predictions), annot=True, fmt='d')\n",
    "plt.xlabel(\"Предсказания\")\n",
    "plt.ylabel(\"Ответы\")\n",
    "plt.title(\"Матрица ошибок\")"
   ]
  },
  {
   "cell_type": "code",
   "execution_count": null,
   "metadata": {},
   "outputs": [],
   "source": []
  }
 ],
 "metadata": {
  "ExecuteTimeLog": [
   {
    "duration": 1912,
    "start_time": "2022-05-03T10:40:46.631Z"
   },
   {
    "duration": 128,
    "start_time": "2022-05-03T10:49:15.849Z"
   },
   {
    "duration": 2927,
    "start_time": "2022-05-03T11:09:56.369Z"
   },
   {
    "duration": 66,
    "start_time": "2022-05-03T11:10:08.621Z"
   },
   {
    "duration": 267,
    "start_time": "2022-05-03T11:14:33.478Z"
   },
   {
    "duration": 2662,
    "start_time": "2022-05-03T11:14:39.828Z"
   },
   {
    "duration": 14,
    "start_time": "2022-05-03T11:26:29.898Z"
   },
   {
    "duration": 103,
    "start_time": "2022-05-03T11:26:43.789Z"
   },
   {
    "duration": 4,
    "start_time": "2022-05-03T11:26:48.378Z"
   },
   {
    "duration": 556,
    "start_time": "2022-05-03T11:27:13.449Z"
   },
   {
    "duration": 25,
    "start_time": "2022-05-03T12:29:23.312Z"
   },
   {
    "duration": 3,
    "start_time": "2022-05-03T12:29:24.671Z"
   },
   {
    "duration": 467,
    "start_time": "2022-05-03T12:29:25.458Z"
   },
   {
    "duration": 13,
    "start_time": "2022-05-03T12:57:35.443Z"
   },
   {
    "duration": 12,
    "start_time": "2022-05-03T12:58:34.331Z"
   },
   {
    "duration": 13,
    "start_time": "2022-05-03T13:00:09.832Z"
   },
   {
    "duration": 14,
    "start_time": "2022-05-03T13:13:35.713Z"
   },
   {
    "duration": 5,
    "start_time": "2022-05-03T13:16:08.374Z"
   },
   {
    "duration": 43,
    "start_time": "2022-05-03T13:16:08.380Z"
   },
   {
    "duration": 4,
    "start_time": "2022-05-03T13:16:08.424Z"
   },
   {
    "duration": 473,
    "start_time": "2022-05-03T13:16:08.430Z"
   },
   {
    "duration": 34610,
    "start_time": "2022-05-03T13:16:08.904Z"
   },
   {
    "duration": 36425,
    "start_time": "2022-05-03T13:54:38.725Z"
   },
   {
    "duration": 1848,
    "start_time": "2022-05-03T13:56:20.393Z"
   },
   {
    "duration": 2073,
    "start_time": "2022-05-03T13:57:19.271Z"
   },
   {
    "duration": 12,
    "start_time": "2022-05-03T13:57:27.339Z"
   },
   {
    "duration": 13,
    "start_time": "2022-05-03T13:57:35.282Z"
   },
   {
    "duration": 20,
    "start_time": "2022-05-03T13:57:39.414Z"
   },
   {
    "duration": 184,
    "start_time": "2022-05-03T13:57:50.183Z"
   },
   {
    "duration": 38852,
    "start_time": "2022-05-03T13:57:59.963Z"
   },
   {
    "duration": 126,
    "start_time": "2022-05-03T13:58:59.285Z"
   },
   {
    "duration": 4,
    "start_time": "2022-05-03T14:46:01.548Z"
   },
   {
    "duration": 6,
    "start_time": "2022-05-03T14:46:10.145Z"
   },
   {
    "duration": 503,
    "start_time": "2022-05-03T14:46:10.554Z"
   },
   {
    "duration": 14,
    "start_time": "2022-05-03T14:46:11.811Z"
   },
   {
    "duration": 9,
    "start_time": "2022-05-03T14:47:33.125Z"
   },
   {
    "duration": 26,
    "start_time": "2022-05-03T14:49:52.100Z"
   },
   {
    "duration": 12,
    "start_time": "2022-05-03T14:55:33.824Z"
   },
   {
    "duration": 5,
    "start_time": "2022-05-03T15:19:23.409Z"
   },
   {
    "duration": 23,
    "start_time": "2022-05-03T15:19:23.817Z"
   },
   {
    "duration": 4,
    "start_time": "2022-05-03T15:19:24.177Z"
   },
   {
    "duration": 529,
    "start_time": "2022-05-03T15:19:24.897Z"
   },
   {
    "duration": 13,
    "start_time": "2022-05-03T15:19:26.309Z"
   },
   {
    "duration": 10,
    "start_time": "2022-05-03T15:19:30.997Z"
   },
   {
    "duration": 12,
    "start_time": "2022-05-03T15:20:01.217Z"
   },
   {
    "duration": 15,
    "start_time": "2022-05-03T15:21:06.836Z"
   },
   {
    "duration": 15,
    "start_time": "2022-05-03T15:21:19.509Z"
   },
   {
    "duration": 18,
    "start_time": "2022-05-03T15:21:36.745Z"
   },
   {
    "duration": 28,
    "start_time": "2022-05-03T15:29:44.093Z"
   },
   {
    "duration": 16,
    "start_time": "2022-05-03T15:30:15.337Z"
   },
   {
    "duration": 11,
    "start_time": "2022-05-03T15:30:27.129Z"
   },
   {
    "duration": 12,
    "start_time": "2022-05-03T15:30:30.617Z"
   },
   {
    "duration": 5,
    "start_time": "2022-05-03T15:31:14.258Z"
   },
   {
    "duration": 12,
    "start_time": "2022-05-03T15:31:30.205Z"
   },
   {
    "duration": 13,
    "start_time": "2022-05-03T15:36:41.969Z"
   },
   {
    "duration": 14,
    "start_time": "2022-05-03T15:36:42.596Z"
   },
   {
    "duration": 1579,
    "start_time": "2022-05-03T15:37:03.041Z"
   },
   {
    "duration": 23,
    "start_time": "2022-05-03T15:37:04.622Z"
   },
   {
    "duration": 109,
    "start_time": "2022-05-03T15:37:04.647Z"
   },
   {
    "duration": 564,
    "start_time": "2022-05-03T15:37:04.758Z"
   },
   {
    "duration": 13,
    "start_time": "2022-05-03T15:37:05.324Z"
   },
   {
    "duration": 54,
    "start_time": "2022-05-03T15:37:05.339Z"
   },
   {
    "duration": 32,
    "start_time": "2022-05-03T15:37:05.395Z"
   },
   {
    "duration": 70,
    "start_time": "2022-05-03T15:37:05.428Z"
   },
   {
    "duration": 4,
    "start_time": "2022-05-03T15:38:00.413Z"
   },
   {
    "duration": 9,
    "start_time": "2022-05-03T15:39:24.322Z"
   },
   {
    "duration": 104,
    "start_time": "2022-05-03T15:39:36.161Z"
   },
   {
    "duration": 10,
    "start_time": "2022-05-03T15:39:46.185Z"
   },
   {
    "duration": 5,
    "start_time": "2022-05-03T15:40:07.085Z"
   },
   {
    "duration": 16,
    "start_time": "2022-05-03T17:04:22.274Z"
   },
   {
    "duration": 4,
    "start_time": "2022-05-03T17:04:35.914Z"
   },
   {
    "duration": 23,
    "start_time": "2022-05-03T17:04:36.621Z"
   },
   {
    "duration": 3,
    "start_time": "2022-05-03T17:04:37.214Z"
   },
   {
    "duration": 555,
    "start_time": "2022-05-03T17:04:38.253Z"
   },
   {
    "duration": 14,
    "start_time": "2022-05-03T17:04:39.386Z"
   },
   {
    "duration": 4,
    "start_time": "2022-05-03T17:04:41.646Z"
   },
   {
    "duration": 10,
    "start_time": "2022-05-03T17:04:43.237Z"
   },
   {
    "duration": 11,
    "start_time": "2022-05-03T17:04:44.683Z"
   },
   {
    "duration": 13,
    "start_time": "2022-05-03T17:04:46.266Z"
   },
   {
    "duration": 5,
    "start_time": "2022-05-03T17:05:18.278Z"
   },
   {
    "duration": 11,
    "start_time": "2022-05-03T17:08:47.992Z"
   },
   {
    "duration": 15,
    "start_time": "2022-05-03T17:09:06.480Z"
   },
   {
    "duration": 13,
    "start_time": "2022-05-03T17:11:02.352Z"
   },
   {
    "duration": 15,
    "start_time": "2022-05-03T17:11:25.012Z"
   },
   {
    "duration": 14,
    "start_time": "2022-05-03T17:15:28.712Z"
   },
   {
    "duration": 1570,
    "start_time": "2022-05-03T17:16:01.386Z"
   },
   {
    "duration": 26,
    "start_time": "2022-05-03T17:16:02.958Z"
   },
   {
    "duration": 4,
    "start_time": "2022-05-03T17:16:02.986Z"
   },
   {
    "duration": 510,
    "start_time": "2022-05-03T17:16:02.991Z"
   },
   {
    "duration": 14,
    "start_time": "2022-05-03T17:16:03.504Z"
   },
   {
    "duration": 34,
    "start_time": "2022-05-03T17:16:03.520Z"
   },
   {
    "duration": 119,
    "start_time": "2022-05-03T17:16:09.686Z"
   },
   {
    "duration": 1612,
    "start_time": "2022-05-03T17:16:40.108Z"
   },
   {
    "duration": 26,
    "start_time": "2022-05-03T17:16:41.722Z"
   },
   {
    "duration": 4,
    "start_time": "2022-05-03T17:16:41.750Z"
   },
   {
    "duration": 551,
    "start_time": "2022-05-03T17:16:41.756Z"
   },
   {
    "duration": 13,
    "start_time": "2022-05-03T17:16:42.310Z"
   },
   {
    "duration": 13,
    "start_time": "2022-05-03T17:16:50.067Z"
   },
   {
    "duration": 5,
    "start_time": "2022-05-03T17:16:51.866Z"
   },
   {
    "duration": 11,
    "start_time": "2022-05-03T17:16:53.907Z"
   },
   {
    "duration": 13,
    "start_time": "2022-05-03T17:16:56.056Z"
   },
   {
    "duration": 6,
    "start_time": "2022-05-03T17:17:42.646Z"
   },
   {
    "duration": 12,
    "start_time": "2022-05-03T17:17:44.107Z"
   },
   {
    "duration": 118,
    "start_time": "2022-05-03T17:17:55.846Z"
   },
   {
    "duration": 17,
    "start_time": "2022-05-03T17:19:16.058Z"
   },
   {
    "duration": 9,
    "start_time": "2022-05-03T17:19:46.293Z"
   },
   {
    "duration": 9,
    "start_time": "2022-05-03T17:21:30.250Z"
   },
   {
    "duration": 21,
    "start_time": "2022-05-03T17:28:04.867Z"
   },
   {
    "duration": 32,
    "start_time": "2022-05-03T17:36:54.455Z"
   },
   {
    "duration": 12,
    "start_time": "2022-05-03T17:36:59.207Z"
   },
   {
    "duration": 11,
    "start_time": "2022-05-03T17:37:30.406Z"
   },
   {
    "duration": 14,
    "start_time": "2022-05-03T17:38:34.347Z"
   },
   {
    "duration": 16,
    "start_time": "2022-05-03T17:40:37.906Z"
   },
   {
    "duration": 5,
    "start_time": "2022-05-03T17:41:41.638Z"
   },
   {
    "duration": 17,
    "start_time": "2022-05-03T17:47:27.008Z"
   },
   {
    "duration": 1671,
    "start_time": "2022-05-03T17:47:41.766Z"
   },
   {
    "duration": 28,
    "start_time": "2022-05-03T17:47:43.439Z"
   },
   {
    "duration": 6,
    "start_time": "2022-05-03T17:47:43.469Z"
   },
   {
    "duration": 511,
    "start_time": "2022-05-03T17:47:43.477Z"
   },
   {
    "duration": 13,
    "start_time": "2022-05-03T17:47:43.991Z"
   },
   {
    "duration": 41,
    "start_time": "2022-05-03T17:47:44.006Z"
   },
   {
    "duration": 30,
    "start_time": "2022-05-03T17:47:44.049Z"
   },
   {
    "duration": 11,
    "start_time": "2022-05-03T17:47:44.081Z"
   },
   {
    "duration": 22,
    "start_time": "2022-05-03T17:47:44.093Z"
   },
   {
    "duration": 19,
    "start_time": "2022-05-03T17:47:44.117Z"
   },
   {
    "duration": 5,
    "start_time": "2022-05-03T17:47:44.137Z"
   },
   {
    "duration": 18,
    "start_time": "2022-05-03T17:47:44.144Z"
   },
   {
    "duration": 5,
    "start_time": "2022-05-03T17:47:44.163Z"
   },
   {
    "duration": 1451,
    "start_time": "2022-05-03T17:52:38.705Z"
   },
   {
    "duration": 24,
    "start_time": "2022-05-03T17:52:40.158Z"
   },
   {
    "duration": 4,
    "start_time": "2022-05-03T17:52:40.184Z"
   },
   {
    "duration": 515,
    "start_time": "2022-05-03T17:52:40.191Z"
   },
   {
    "duration": 13,
    "start_time": "2022-05-03T17:52:40.708Z"
   },
   {
    "duration": 10,
    "start_time": "2022-05-03T17:52:40.723Z"
   },
   {
    "duration": 24,
    "start_time": "2022-05-03T17:52:40.735Z"
   },
   {
    "duration": 11,
    "start_time": "2022-05-03T17:52:40.761Z"
   },
   {
    "duration": 10,
    "start_time": "2022-05-03T17:52:40.774Z"
   },
   {
    "duration": 16,
    "start_time": "2022-05-03T17:52:40.787Z"
   },
   {
    "duration": 7,
    "start_time": "2022-05-03T17:52:40.805Z"
   },
   {
    "duration": 10,
    "start_time": "2022-05-03T17:52:40.814Z"
   },
   {
    "duration": 4,
    "start_time": "2022-05-03T17:52:40.826Z"
   },
   {
    "duration": 3,
    "start_time": "2022-05-03T17:57:26.071Z"
   },
   {
    "duration": 5,
    "start_time": "2022-05-03T18:00:01.032Z"
   },
   {
    "duration": 10,
    "start_time": "2022-05-03T18:01:34.004Z"
   },
   {
    "duration": 119,
    "start_time": "2022-05-03T18:02:40.236Z"
   },
   {
    "duration": 13,
    "start_time": "2022-05-03T18:03:17.972Z"
   },
   {
    "duration": 2317,
    "start_time": "2022-05-03T19:48:30.496Z"
   },
   {
    "duration": 34,
    "start_time": "2022-05-03T19:48:32.816Z"
   },
   {
    "duration": 6,
    "start_time": "2022-05-03T19:48:32.852Z"
   },
   {
    "duration": 851,
    "start_time": "2022-05-03T19:48:32.861Z"
   },
   {
    "duration": 22,
    "start_time": "2022-05-03T19:48:33.716Z"
   },
   {
    "duration": 10,
    "start_time": "2022-05-03T19:48:33.741Z"
   },
   {
    "duration": 18,
    "start_time": "2022-05-03T19:48:33.754Z"
   },
   {
    "duration": 17,
    "start_time": "2022-05-03T19:48:33.775Z"
   },
   {
    "duration": 3,
    "start_time": "2022-05-03T19:48:33.826Z"
   },
   {
    "duration": 15,
    "start_time": "2022-05-03T19:48:33.833Z"
   },
   {
    "duration": 26,
    "start_time": "2022-05-03T19:48:33.851Z"
   },
   {
    "duration": 8,
    "start_time": "2022-05-03T19:48:33.880Z"
   },
   {
    "duration": 49,
    "start_time": "2022-05-03T19:48:33.891Z"
   },
   {
    "duration": 10,
    "start_time": "2022-05-03T19:48:33.946Z"
   },
   {
    "duration": 197,
    "start_time": "2022-05-03T19:48:33.959Z"
   },
   {
    "duration": 0,
    "start_time": "2022-05-03T19:48:34.159Z"
   },
   {
    "duration": 0,
    "start_time": "2022-05-03T19:48:34.160Z"
   },
   {
    "duration": 34,
    "start_time": "2022-05-03T19:49:14.939Z"
   },
   {
    "duration": 28,
    "start_time": "2022-05-03T19:49:36.784Z"
   },
   {
    "duration": 12,
    "start_time": "2022-05-03T19:52:09.541Z"
   },
   {
    "duration": 43,
    "start_time": "2022-05-03T20:21:15.559Z"
   },
   {
    "duration": 5,
    "start_time": "2022-05-03T20:23:14.089Z"
   },
   {
    "duration": 38,
    "start_time": "2022-05-03T20:23:15.234Z"
   },
   {
    "duration": 17,
    "start_time": "2022-05-03T20:28:31.784Z"
   },
   {
    "duration": 68,
    "start_time": "2022-05-05T09:36:48.570Z"
   },
   {
    "duration": 1631,
    "start_time": "2022-05-05T09:36:53.998Z"
   },
   {
    "duration": 25,
    "start_time": "2022-05-05T09:36:55.631Z"
   },
   {
    "duration": 4,
    "start_time": "2022-05-05T09:36:55.658Z"
   },
   {
    "duration": 621,
    "start_time": "2022-05-05T09:36:55.663Z"
   },
   {
    "duration": 22,
    "start_time": "2022-05-05T09:36:56.286Z"
   },
   {
    "duration": 5,
    "start_time": "2022-05-05T09:36:56.310Z"
   },
   {
    "duration": 12,
    "start_time": "2022-05-05T09:36:56.316Z"
   },
   {
    "duration": 11,
    "start_time": "2022-05-05T09:36:56.329Z"
   },
   {
    "duration": 3,
    "start_time": "2022-05-05T09:36:56.342Z"
   },
   {
    "duration": 7,
    "start_time": "2022-05-05T09:36:56.346Z"
   },
   {
    "duration": 17,
    "start_time": "2022-05-05T09:36:56.354Z"
   },
   {
    "duration": 39,
    "start_time": "2022-05-05T09:36:56.372Z"
   },
   {
    "duration": 4,
    "start_time": "2022-05-05T09:36:56.412Z"
   },
   {
    "duration": 27,
    "start_time": "2022-05-05T09:36:56.419Z"
   },
   {
    "duration": 13,
    "start_time": "2022-05-05T09:36:56.448Z"
   },
   {
    "duration": 132,
    "start_time": "2022-05-05T09:36:56.462Z"
   },
   {
    "duration": 126,
    "start_time": "2022-05-05T09:42:10.723Z"
   },
   {
    "duration": 5,
    "start_time": "2022-05-05T09:43:57.628Z"
   },
   {
    "duration": 9,
    "start_time": "2022-05-05T09:44:15.855Z"
   },
   {
    "duration": 7,
    "start_time": "2022-05-05T09:44:33.161Z"
   },
   {
    "duration": 93,
    "start_time": "2022-05-05T09:54:18.792Z"
   },
   {
    "duration": 26,
    "start_time": "2022-05-05T09:57:52.403Z"
   },
   {
    "duration": 21,
    "start_time": "2022-05-05T09:58:36.326Z"
   },
   {
    "duration": 4,
    "start_time": "2022-05-05T09:59:35.849Z"
   },
   {
    "duration": 27,
    "start_time": "2022-05-05T09:59:35.855Z"
   },
   {
    "duration": 4,
    "start_time": "2022-05-05T09:59:35.884Z"
   },
   {
    "duration": 521,
    "start_time": "2022-05-05T09:59:35.890Z"
   },
   {
    "duration": 15,
    "start_time": "2022-05-05T09:59:36.412Z"
   },
   {
    "duration": 5,
    "start_time": "2022-05-05T09:59:36.429Z"
   },
   {
    "duration": 11,
    "start_time": "2022-05-05T09:59:36.436Z"
   },
   {
    "duration": 12,
    "start_time": "2022-05-05T09:59:36.448Z"
   },
   {
    "duration": 3,
    "start_time": "2022-05-05T09:59:36.462Z"
   },
   {
    "duration": 41,
    "start_time": "2022-05-05T09:59:36.466Z"
   },
   {
    "duration": 15,
    "start_time": "2022-05-05T09:59:36.509Z"
   },
   {
    "duration": 5,
    "start_time": "2022-05-05T09:59:36.526Z"
   },
   {
    "duration": 4,
    "start_time": "2022-05-05T09:59:36.532Z"
   },
   {
    "duration": 27,
    "start_time": "2022-05-05T09:59:36.537Z"
   },
   {
    "duration": 49,
    "start_time": "2022-05-05T09:59:36.566Z"
   },
   {
    "duration": 21,
    "start_time": "2022-05-05T09:59:59.376Z"
   },
   {
    "duration": 17,
    "start_time": "2022-05-05T10:05:08.562Z"
   },
   {
    "duration": 1473,
    "start_time": "2022-05-05T10:05:39.999Z"
   },
   {
    "duration": 1734,
    "start_time": "2022-05-05T10:05:53.166Z"
   },
   {
    "duration": 9,
    "start_time": "2022-05-05T10:06:04.738Z"
   },
   {
    "duration": 12,
    "start_time": "2022-05-05T10:06:10.390Z"
   },
   {
    "duration": 12,
    "start_time": "2022-05-05T10:06:43.650Z"
   },
   {
    "duration": 4,
    "start_time": "2022-05-05T10:07:01.182Z"
   },
   {
    "duration": 12,
    "start_time": "2022-05-05T10:07:51.746Z"
   },
   {
    "duration": 11,
    "start_time": "2022-05-05T10:07:56.559Z"
   },
   {
    "duration": 1506,
    "start_time": "2022-05-05T10:09:34.146Z"
   },
   {
    "duration": 30,
    "start_time": "2022-05-05T10:09:35.654Z"
   },
   {
    "duration": 4,
    "start_time": "2022-05-05T10:09:35.989Z"
   },
   {
    "duration": 559,
    "start_time": "2022-05-05T10:09:37.755Z"
   },
   {
    "duration": 15,
    "start_time": "2022-05-05T10:10:19.816Z"
   },
   {
    "duration": 4,
    "start_time": "2022-05-05T10:10:34.050Z"
   },
   {
    "duration": 11,
    "start_time": "2022-05-05T10:10:40.706Z"
   },
   {
    "duration": 12,
    "start_time": "2022-05-05T10:10:42.179Z"
   },
   {
    "duration": 14,
    "start_time": "2022-05-05T10:10:48.898Z"
   },
   {
    "duration": 3,
    "start_time": "2022-05-05T10:10:57.019Z"
   },
   {
    "duration": 5,
    "start_time": "2022-05-05T10:10:58.527Z"
   },
   {
    "duration": 19,
    "start_time": "2022-05-05T10:10:59.548Z"
   },
   {
    "duration": 5,
    "start_time": "2022-05-05T10:11:05.407Z"
   },
   {
    "duration": 3,
    "start_time": "2022-05-05T10:11:06.306Z"
   },
   {
    "duration": 27,
    "start_time": "2022-05-05T10:11:10.198Z"
   },
   {
    "duration": 12,
    "start_time": "2022-05-05T10:11:11.222Z"
   },
   {
    "duration": 12,
    "start_time": "2022-05-05T10:11:16.379Z"
   },
   {
    "duration": 122,
    "start_time": "2022-05-05T10:11:27.200Z"
   },
   {
    "duration": 33,
    "start_time": "2022-05-05T10:11:59.555Z"
   },
   {
    "duration": 18,
    "start_time": "2022-05-05T10:12:07.240Z"
   },
   {
    "duration": 5,
    "start_time": "2022-05-05T10:12:37.274Z"
   },
   {
    "duration": 29,
    "start_time": "2022-05-05T10:12:54.953Z"
   },
   {
    "duration": 29,
    "start_time": "2022-05-05T10:13:30.076Z"
   },
   {
    "duration": 12,
    "start_time": "2022-05-05T10:13:49.763Z"
   },
   {
    "duration": 14,
    "start_time": "2022-05-05T10:15:03.604Z"
   },
   {
    "duration": 4,
    "start_time": "2022-05-05T10:15:47.198Z"
   },
   {
    "duration": 1498,
    "start_time": "2022-05-05T10:16:16.478Z"
   },
   {
    "duration": 27,
    "start_time": "2022-05-05T10:16:17.979Z"
   },
   {
    "duration": 5,
    "start_time": "2022-05-05T10:16:18.008Z"
   },
   {
    "duration": 597,
    "start_time": "2022-05-05T10:16:18.014Z"
   },
   {
    "duration": 15,
    "start_time": "2022-05-05T10:16:18.614Z"
   },
   {
    "duration": 10,
    "start_time": "2022-05-05T10:16:18.630Z"
   },
   {
    "duration": 24,
    "start_time": "2022-05-05T10:16:18.641Z"
   },
   {
    "duration": 12,
    "start_time": "2022-05-05T10:16:18.667Z"
   },
   {
    "duration": 10,
    "start_time": "2022-05-05T10:16:18.681Z"
   },
   {
    "duration": 19,
    "start_time": "2022-05-05T10:16:18.692Z"
   },
   {
    "duration": 18,
    "start_time": "2022-05-05T10:16:18.713Z"
   },
   {
    "duration": 6,
    "start_time": "2022-05-05T10:16:18.733Z"
   },
   {
    "duration": 8,
    "start_time": "2022-05-05T10:16:18.741Z"
   },
   {
    "duration": 55,
    "start_time": "2022-05-05T10:16:18.752Z"
   },
   {
    "duration": 13,
    "start_time": "2022-05-05T10:16:18.809Z"
   },
   {
    "duration": 5,
    "start_time": "2022-05-05T10:16:32.350Z"
   },
   {
    "duration": 123,
    "start_time": "2022-05-05T10:16:55.291Z"
   },
   {
    "duration": 6,
    "start_time": "2022-05-05T10:17:22.851Z"
   },
   {
    "duration": 1885,
    "start_time": "2022-05-05T10:17:35.848Z"
   },
   {
    "duration": 1524,
    "start_time": "2022-05-05T10:18:23.866Z"
   },
   {
    "duration": 33,
    "start_time": "2022-05-05T10:18:25.392Z"
   },
   {
    "duration": 6,
    "start_time": "2022-05-05T10:18:25.426Z"
   },
   {
    "duration": 580,
    "start_time": "2022-05-05T10:18:25.433Z"
   },
   {
    "duration": 15,
    "start_time": "2022-05-05T10:18:26.017Z"
   },
   {
    "duration": 7,
    "start_time": "2022-05-05T10:18:26.034Z"
   },
   {
    "duration": 11,
    "start_time": "2022-05-05T10:18:26.042Z"
   },
   {
    "duration": 11,
    "start_time": "2022-05-05T10:18:26.055Z"
   },
   {
    "duration": 4,
    "start_time": "2022-05-05T10:18:26.067Z"
   },
   {
    "duration": 36,
    "start_time": "2022-05-05T10:18:26.072Z"
   },
   {
    "duration": 21,
    "start_time": "2022-05-05T10:18:26.112Z"
   },
   {
    "duration": 5,
    "start_time": "2022-05-05T10:18:26.135Z"
   },
   {
    "duration": 5,
    "start_time": "2022-05-05T10:18:26.141Z"
   },
   {
    "duration": 27,
    "start_time": "2022-05-05T10:18:26.148Z"
   },
   {
    "duration": 50,
    "start_time": "2022-05-05T10:18:26.177Z"
   },
   {
    "duration": 5,
    "start_time": "2022-05-05T10:18:26.229Z"
   },
   {
    "duration": 141,
    "start_time": "2022-05-05T10:18:26.235Z"
   },
   {
    "duration": 0,
    "start_time": "2022-05-05T10:18:26.378Z"
   },
   {
    "duration": 0,
    "start_time": "2022-05-05T10:18:26.379Z"
   },
   {
    "duration": 7,
    "start_time": "2022-05-05T10:20:06.367Z"
   },
   {
    "duration": 25,
    "start_time": "2022-05-05T10:20:19.613Z"
   },
   {
    "duration": 8,
    "start_time": "2022-05-05T10:20:29.817Z"
   },
   {
    "duration": 25,
    "start_time": "2022-05-05T10:20:33.708Z"
   },
   {
    "duration": 4,
    "start_time": "2022-05-05T10:21:01.868Z"
   },
   {
    "duration": 21,
    "start_time": "2022-05-05T10:21:05.148Z"
   },
   {
    "duration": 5,
    "start_time": "2022-05-05T10:21:19.721Z"
   },
   {
    "duration": 1280,
    "start_time": "2022-05-05T10:21:21.529Z"
   },
   {
    "duration": 1172,
    "start_time": "2022-05-05T10:49:06.491Z"
   },
   {
    "duration": 2784,
    "start_time": "2022-05-05T10:49:35.040Z"
   },
   {
    "duration": 65,
    "start_time": "2022-05-05T10:50:53.404Z"
   },
   {
    "duration": 444,
    "start_time": "2022-05-05T10:51:04.660Z"
   },
   {
    "duration": 7030,
    "start_time": "2022-05-05T10:51:12.842Z"
   },
   {
    "duration": 13576,
    "start_time": "2022-05-05T10:56:12.134Z"
   },
   {
    "duration": 13302,
    "start_time": "2022-05-05T10:59:50.862Z"
   },
   {
    "duration": 13303,
    "start_time": "2022-05-05T11:00:43.597Z"
   },
   {
    "duration": 2734,
    "start_time": "2022-05-05T15:51:05.250Z"
   },
   {
    "duration": 48,
    "start_time": "2022-05-05T15:51:07.987Z"
   },
   {
    "duration": 6,
    "start_time": "2022-05-05T15:51:08.037Z"
   },
   {
    "duration": 831,
    "start_time": "2022-05-05T15:51:08.046Z"
   },
   {
    "duration": 20,
    "start_time": "2022-05-05T15:51:08.880Z"
   },
   {
    "duration": 8,
    "start_time": "2022-05-05T15:51:08.902Z"
   },
   {
    "duration": 15,
    "start_time": "2022-05-05T15:51:08.912Z"
   },
   {
    "duration": 16,
    "start_time": "2022-05-05T15:51:08.929Z"
   },
   {
    "duration": 4,
    "start_time": "2022-05-05T15:51:08.947Z"
   },
   {
    "duration": 39,
    "start_time": "2022-05-05T15:51:08.956Z"
   },
   {
    "duration": 29,
    "start_time": "2022-05-05T15:51:08.997Z"
   },
   {
    "duration": 8,
    "start_time": "2022-05-05T15:51:09.028Z"
   },
   {
    "duration": 7,
    "start_time": "2022-05-05T15:51:09.039Z"
   },
   {
    "duration": 75,
    "start_time": "2022-05-05T15:51:09.048Z"
   },
   {
    "duration": 16,
    "start_time": "2022-05-05T15:51:09.125Z"
   },
   {
    "duration": 6,
    "start_time": "2022-05-05T15:51:09.143Z"
   },
   {
    "duration": 7,
    "start_time": "2022-05-05T15:51:09.152Z"
   },
   {
    "duration": 1338,
    "start_time": "2022-05-05T15:51:09.161Z"
   },
   {
    "duration": 9073,
    "start_time": "2022-05-05T15:51:10.502Z"
   },
   {
    "duration": 672,
    "start_time": "2022-05-05T15:51:19.577Z"
   },
   {
    "duration": 181,
    "start_time": "2022-05-05T15:51:29.014Z"
   },
   {
    "duration": 13,
    "start_time": "2022-05-05T15:51:33.099Z"
   },
   {
    "duration": 20542,
    "start_time": "2022-05-05T15:52:50.743Z"
   },
   {
    "duration": 15202,
    "start_time": "2022-05-05T15:54:04.999Z"
   },
   {
    "duration": 540,
    "start_time": "2022-05-05T15:55:14.668Z"
   },
   {
    "duration": 1497,
    "start_time": "2022-05-05T15:55:36.302Z"
   },
   {
    "duration": 581,
    "start_time": "2022-05-05T16:06:13.100Z"
   },
   {
    "duration": 14797,
    "start_time": "2022-05-05T16:07:10.328Z"
   },
   {
    "duration": 21668,
    "start_time": "2022-05-05T16:08:55.090Z"
   },
   {
    "duration": 7,
    "start_time": "2022-05-05T16:10:04.244Z"
   },
   {
    "duration": 553,
    "start_time": "2022-05-05T16:10:18.901Z"
   },
   {
    "duration": 581,
    "start_time": "2022-05-05T16:10:48.289Z"
   },
   {
    "duration": 15289,
    "start_time": "2022-05-05T16:17:24.285Z"
   },
   {
    "duration": 15893,
    "start_time": "2022-05-05T16:18:45.918Z"
   },
   {
    "duration": 15442,
    "start_time": "2022-05-05T16:20:36.435Z"
   },
   {
    "duration": 16581,
    "start_time": "2022-05-05T16:22:07.979Z"
   },
   {
    "duration": 15169,
    "start_time": "2022-05-05T16:22:43.452Z"
   },
   {
    "duration": 1481,
    "start_time": "2022-05-05T16:30:11.018Z"
   },
   {
    "duration": 9369,
    "start_time": "2022-05-05T16:31:01.057Z"
   },
   {
    "duration": 1836,
    "start_time": "2022-05-05T16:31:16.658Z"
   },
   {
    "duration": 1813,
    "start_time": "2022-05-05T16:34:45.383Z"
   },
   {
    "duration": 8842,
    "start_time": "2022-05-05T16:35:27.651Z"
   },
   {
    "duration": 554,
    "start_time": "2022-05-05T16:35:56.939Z"
   },
   {
    "duration": 11,
    "start_time": "2022-05-05T16:37:15.263Z"
   },
   {
    "duration": 19,
    "start_time": "2022-05-05T16:37:51.356Z"
   },
   {
    "duration": 1762,
    "start_time": "2022-05-05T18:38:13.379Z"
   },
   {
    "duration": 40,
    "start_time": "2022-05-05T18:38:15.144Z"
   },
   {
    "duration": 4,
    "start_time": "2022-05-05T18:38:21.019Z"
   },
   {
    "duration": 625,
    "start_time": "2022-05-05T18:38:27.255Z"
   },
   {
    "duration": 599,
    "start_time": "2022-05-05T18:39:20.531Z"
   },
   {
    "duration": 15,
    "start_time": "2022-05-05T18:39:29.313Z"
   },
   {
    "duration": 5,
    "start_time": "2022-05-05T18:39:38.247Z"
   },
   {
    "duration": 6,
    "start_time": "2022-05-05T18:39:43.282Z"
   },
   {
    "duration": 14,
    "start_time": "2022-05-05T18:39:44.332Z"
   },
   {
    "duration": 21,
    "start_time": "2022-05-05T18:39:50.373Z"
   },
   {
    "duration": 4,
    "start_time": "2022-05-05T18:40:43.163Z"
   },
   {
    "duration": 6,
    "start_time": "2022-05-05T18:40:55.704Z"
   },
   {
    "duration": 25,
    "start_time": "2022-05-05T18:41:34.596Z"
   },
   {
    "duration": 17,
    "start_time": "2022-05-05T19:01:17.980Z"
   },
   {
    "duration": 150,
    "start_time": "2022-05-05T19:18:32.812Z"
   },
   {
    "duration": 6,
    "start_time": "2022-05-05T19:18:40.051Z"
   },
   {
    "duration": 35,
    "start_time": "2022-05-05T19:18:40.059Z"
   },
   {
    "duration": 5,
    "start_time": "2022-05-05T19:18:40.096Z"
   },
   {
    "duration": 581,
    "start_time": "2022-05-05T19:18:40.104Z"
   },
   {
    "duration": 15,
    "start_time": "2022-05-05T19:18:40.687Z"
   },
   {
    "duration": 7,
    "start_time": "2022-05-05T19:18:40.704Z"
   },
   {
    "duration": 24,
    "start_time": "2022-05-05T19:18:40.713Z"
   },
   {
    "duration": 17,
    "start_time": "2022-05-05T19:18:40.739Z"
   },
   {
    "duration": 13,
    "start_time": "2022-05-05T19:18:40.759Z"
   },
   {
    "duration": 5,
    "start_time": "2022-05-05T19:18:40.774Z"
   },
   {
    "duration": 10,
    "start_time": "2022-05-05T19:18:40.781Z"
   },
   {
    "duration": 54,
    "start_time": "2022-05-05T19:18:40.793Z"
   },
   {
    "duration": 4,
    "start_time": "2022-05-05T19:18:40.850Z"
   },
   {
    "duration": 30,
    "start_time": "2022-05-05T19:18:40.856Z"
   },
   {
    "duration": 13,
    "start_time": "2022-05-05T19:18:40.888Z"
   },
   {
    "duration": 1458,
    "start_time": "2022-05-05T19:18:40.903Z"
   },
   {
    "duration": 7909,
    "start_time": "2022-05-05T19:18:42.363Z"
   },
   {
    "duration": 488,
    "start_time": "2022-05-05T19:18:50.274Z"
   },
   {
    "duration": 8,
    "start_time": "2022-05-05T19:18:54.008Z"
   },
   {
    "duration": 8,
    "start_time": "2022-05-05T19:19:03.120Z"
   },
   {
    "duration": 9,
    "start_time": "2022-05-05T19:19:42.858Z"
   },
   {
    "duration": 7,
    "start_time": "2022-05-05T19:19:52.361Z"
   },
   {
    "duration": 14437,
    "start_time": "2022-05-05T19:20:58.270Z"
   },
   {
    "duration": 10,
    "start_time": "2022-05-05T19:21:25.649Z"
   },
   {
    "duration": 14735,
    "start_time": "2022-05-05T19:22:56.352Z"
   },
   {
    "duration": 14138,
    "start_time": "2022-05-05T19:24:02.325Z"
   },
   {
    "duration": 1723,
    "start_time": "2022-05-06T05:26:35.228Z"
   },
   {
    "duration": 42,
    "start_time": "2022-05-06T05:26:36.953Z"
   },
   {
    "duration": 5,
    "start_time": "2022-05-06T05:26:36.997Z"
   },
   {
    "duration": 552,
    "start_time": "2022-05-06T05:26:37.003Z"
   },
   {
    "duration": 14,
    "start_time": "2022-05-06T05:26:37.557Z"
   },
   {
    "duration": 7,
    "start_time": "2022-05-06T05:26:37.573Z"
   },
   {
    "duration": 6,
    "start_time": "2022-05-06T05:26:37.582Z"
   },
   {
    "duration": 11,
    "start_time": "2022-05-06T05:26:37.590Z"
   },
   {
    "duration": 33,
    "start_time": "2022-05-06T05:26:37.603Z"
   },
   {
    "duration": 5,
    "start_time": "2022-05-06T05:26:37.638Z"
   },
   {
    "duration": 8,
    "start_time": "2022-05-06T05:26:37.645Z"
   },
   {
    "duration": 18,
    "start_time": "2022-05-06T05:26:37.655Z"
   },
   {
    "duration": 4,
    "start_time": "2022-05-06T05:26:37.675Z"
   },
   {
    "duration": 59,
    "start_time": "2022-05-06T05:26:37.682Z"
   },
   {
    "duration": 13,
    "start_time": "2022-05-06T05:26:37.742Z"
   },
   {
    "duration": 1384,
    "start_time": "2022-05-06T05:26:37.757Z"
   },
   {
    "duration": 6609,
    "start_time": "2022-05-06T05:26:39.143Z"
   },
   {
    "duration": 427,
    "start_time": "2022-05-06T05:26:45.754Z"
   },
   {
    "duration": 7,
    "start_time": "2022-05-06T05:26:46.183Z"
   },
   {
    "duration": 7,
    "start_time": "2022-05-06T05:26:52.229Z"
   },
   {
    "duration": 144,
    "start_time": "2022-05-06T05:26:53.990Z"
   },
   {
    "duration": 121,
    "start_time": "2022-05-06T05:31:47.863Z"
   },
   {
    "duration": 5,
    "start_time": "2022-05-06T05:32:01.578Z"
   },
   {
    "duration": 4,
    "start_time": "2022-05-06T05:32:18.269Z"
   },
   {
    "duration": 5,
    "start_time": "2022-05-06T05:33:27.395Z"
   },
   {
    "duration": 158,
    "start_time": "2022-05-06T05:33:51.286Z"
   },
   {
    "duration": 217,
    "start_time": "2022-05-06T05:38:30.105Z"
   },
   {
    "duration": 6,
    "start_time": "2022-05-06T05:39:04.939Z"
   },
   {
    "duration": 7015,
    "start_time": "2022-05-06T05:39:06.030Z"
   },
   {
    "duration": 303,
    "start_time": "2022-05-06T05:39:24.765Z"
   },
   {
    "duration": 7013,
    "start_time": "2022-05-06T05:39:34.102Z"
   },
   {
    "duration": 189,
    "start_time": "2022-05-06T05:39:43.812Z"
   },
   {
    "duration": 453,
    "start_time": "2022-05-06T05:40:04.438Z"
   },
   {
    "duration": 7,
    "start_time": "2022-05-06T05:40:14.467Z"
   },
   {
    "duration": 165,
    "start_time": "2022-05-06T05:40:15.357Z"
   },
   {
    "duration": 4,
    "start_time": "2022-05-06T05:44:21.555Z"
   },
   {
    "duration": 1059,
    "start_time": "2022-05-06T05:44:32.683Z"
   },
   {
    "duration": 312,
    "start_time": "2022-05-06T05:45:30.949Z"
   },
   {
    "duration": 6579,
    "start_time": "2022-05-06T05:45:42.007Z"
   },
   {
    "duration": 148,
    "start_time": "2022-05-06T05:45:51.941Z"
   },
   {
    "duration": 429,
    "start_time": "2022-05-06T05:46:16.057Z"
   },
   {
    "duration": 7,
    "start_time": "2022-05-06T05:46:19.794Z"
   },
   {
    "duration": 139,
    "start_time": "2022-05-06T05:46:30.880Z"
   },
   {
    "duration": 5,
    "start_time": "2022-05-06T06:01:49.076Z"
   },
   {
    "duration": 470,
    "start_time": "2022-05-06T06:04:16.434Z"
   },
   {
    "duration": 1803,
    "start_time": "2022-05-06T17:49:10.437Z"
   },
   {
    "duration": 30,
    "start_time": "2022-05-06T17:49:12.242Z"
   },
   {
    "duration": 4,
    "start_time": "2022-05-06T17:49:12.274Z"
   },
   {
    "duration": 587,
    "start_time": "2022-05-06T17:49:12.279Z"
   },
   {
    "duration": 13,
    "start_time": "2022-05-06T17:49:12.868Z"
   },
   {
    "duration": 6,
    "start_time": "2022-05-06T17:49:12.883Z"
   },
   {
    "duration": 6,
    "start_time": "2022-05-06T17:49:12.890Z"
   },
   {
    "duration": 12,
    "start_time": "2022-05-06T17:49:12.897Z"
   },
   {
    "duration": 33,
    "start_time": "2022-05-06T17:49:12.911Z"
   },
   {
    "duration": 6,
    "start_time": "2022-05-06T17:49:12.945Z"
   },
   {
    "duration": 8,
    "start_time": "2022-05-06T17:49:12.952Z"
   },
   {
    "duration": 17,
    "start_time": "2022-05-06T17:49:12.961Z"
   },
   {
    "duration": 2,
    "start_time": "2022-05-06T17:49:12.980Z"
   },
   {
    "duration": 52,
    "start_time": "2022-05-06T17:49:12.984Z"
   },
   {
    "duration": 13,
    "start_time": "2022-05-06T17:49:13.037Z"
   },
   {
    "duration": 12,
    "start_time": "2022-05-06T17:49:13.051Z"
   },
   {
    "duration": 4,
    "start_time": "2022-05-06T17:49:57.232Z"
   },
   {
    "duration": 5,
    "start_time": "2022-05-06T17:50:00.203Z"
   },
   {
    "duration": 1448,
    "start_time": "2022-05-06T17:53:06.686Z"
   },
   {
    "duration": 121,
    "start_time": "2022-05-06T17:53:47.122Z"
   },
   {
    "duration": 12,
    "start_time": "2022-05-06T17:54:03.815Z"
   },
   {
    "duration": 5,
    "start_time": "2022-05-06T17:54:51.739Z"
   },
   {
    "duration": 312,
    "start_time": "2022-05-06T17:55:00.755Z"
   },
   {
    "duration": 6,
    "start_time": "2022-05-06T17:55:28.807Z"
   },
   {
    "duration": 6723,
    "start_time": "2022-05-06T17:56:55.131Z"
   },
   {
    "duration": 151,
    "start_time": "2022-05-06T17:57:22.896Z"
   },
   {
    "duration": 5,
    "start_time": "2022-05-06T17:57:53.421Z"
   },
   {
    "duration": 446,
    "start_time": "2022-05-06T17:57:59.061Z"
   },
   {
    "duration": 212,
    "start_time": "2022-05-06T17:59:07.669Z"
   },
   {
    "duration": 5,
    "start_time": "2022-05-06T18:23:21.520Z"
   },
   {
    "duration": 4,
    "start_time": "2022-05-06T18:27:31.789Z"
   },
   {
    "duration": 5,
    "start_time": "2022-05-06T18:28:44.190Z"
   },
   {
    "duration": 12638,
    "start_time": "2022-05-06T18:28:45.620Z"
   },
   {
    "duration": 5,
    "start_time": "2022-05-06T18:29:12.882Z"
   },
   {
    "duration": 12642,
    "start_time": "2022-05-06T18:29:15.530Z"
   },
   {
    "duration": 5,
    "start_time": "2022-05-06T18:30:24.570Z"
   },
   {
    "duration": 13069,
    "start_time": "2022-05-06T18:30:48.226Z"
   },
   {
    "duration": 13,
    "start_time": "2022-05-06T18:42:47.968Z"
   },
   {
    "duration": 12,
    "start_time": "2022-05-06T18:52:58.799Z"
   },
   {
    "duration": 26,
    "start_time": "2022-05-06T18:53:33.920Z"
   },
   {
    "duration": 6,
    "start_time": "2022-05-06T18:53:56.667Z"
   },
   {
    "duration": 12721,
    "start_time": "2022-05-06T18:53:59.124Z"
   },
   {
    "duration": 21,
    "start_time": "2022-05-06T18:54:35.248Z"
   },
   {
    "duration": 25,
    "start_time": "2022-05-06T18:54:45.179Z"
   },
   {
    "duration": 143,
    "start_time": "2022-05-06T18:55:42.935Z"
   },
   {
    "duration": 142,
    "start_time": "2022-05-06T18:56:27.069Z"
   },
   {
    "duration": 5,
    "start_time": "2022-05-06T19:22:26.701Z"
   },
   {
    "duration": 444,
    "start_time": "2022-05-06T19:22:27.242Z"
   },
   {
    "duration": 5,
    "start_time": "2022-05-06T19:22:53.764Z"
   },
   {
    "duration": 439,
    "start_time": "2022-05-06T19:22:56.529Z"
   },
   {
    "duration": 5,
    "start_time": "2022-05-06T19:24:59.484Z"
   },
   {
    "duration": 436,
    "start_time": "2022-05-06T19:25:02.788Z"
   },
   {
    "duration": 5,
    "start_time": "2022-05-06T19:26:28.335Z"
   },
   {
    "duration": 449,
    "start_time": "2022-05-06T19:26:30.648Z"
   },
   {
    "duration": 5,
    "start_time": "2022-05-06T19:27:36.901Z"
   },
   {
    "duration": 4,
    "start_time": "2022-05-06T19:27:43.050Z"
   },
   {
    "duration": 6697,
    "start_time": "2022-05-06T19:27:46.321Z"
   },
   {
    "duration": 5,
    "start_time": "2022-05-06T19:28:50.966Z"
   },
   {
    "duration": 7008,
    "start_time": "2022-05-06T19:28:52.780Z"
   },
   {
    "duration": 5,
    "start_time": "2022-05-06T19:30:22.726Z"
   },
   {
    "duration": 1331,
    "start_time": "2022-05-06T19:30:32.006Z"
   },
   {
    "duration": 1417,
    "start_time": "2022-05-06T19:32:09.917Z"
   },
   {
    "duration": 322,
    "start_time": "2022-05-06T19:32:20.346Z"
   },
   {
    "duration": 6737,
    "start_time": "2022-05-06T19:32:37.884Z"
   },
   {
    "duration": 157,
    "start_time": "2022-05-06T19:32:51.168Z"
   },
   {
    "duration": 4,
    "start_time": "2022-05-06T19:32:57.232Z"
   },
   {
    "duration": 420,
    "start_time": "2022-05-06T19:33:11.239Z"
   },
   {
    "duration": 5,
    "start_time": "2022-05-06T19:35:39.720Z"
   },
   {
    "duration": 12620,
    "start_time": "2022-05-06T19:35:40.645Z"
   },
   {
    "duration": 5,
    "start_time": "2022-05-06T19:37:41.894Z"
   },
   {
    "duration": 5,
    "start_time": "2022-05-06T19:37:49.461Z"
   },
   {
    "duration": 12717,
    "start_time": "2022-05-06T19:37:49.870Z"
   },
   {
    "duration": 7,
    "start_time": "2022-05-06T19:39:07.695Z"
   },
   {
    "duration": 5,
    "start_time": "2022-05-06T19:40:12.515Z"
   },
   {
    "duration": 13,
    "start_time": "2022-05-06T19:40:17.942Z"
   },
   {
    "duration": 5,
    "start_time": "2022-05-06T19:41:26.243Z"
   },
   {
    "duration": 14,
    "start_time": "2022-05-06T19:41:27.084Z"
   },
   {
    "duration": 6,
    "start_time": "2022-05-06T19:51:57.246Z"
   },
   {
    "duration": 14185,
    "start_time": "2022-05-06T19:51:58.770Z"
   },
   {
    "duration": 3410,
    "start_time": "2022-05-06T20:02:37.246Z"
   },
   {
    "duration": 315,
    "start_time": "2022-05-06T20:02:55.465Z"
   },
   {
    "duration": 7457,
    "start_time": "2022-05-06T20:03:54.754Z"
   },
   {
    "duration": 173,
    "start_time": "2022-05-06T20:04:20.579Z"
   },
   {
    "duration": 519,
    "start_time": "2022-05-06T20:04:51.111Z"
   },
   {
    "duration": 152,
    "start_time": "2022-05-06T20:05:41.149Z"
   },
   {
    "duration": 23,
    "start_time": "2022-05-06T20:25:32.692Z"
   },
   {
    "duration": 2,
    "start_time": "2022-05-06T20:26:11.321Z"
   },
   {
    "duration": 15,
    "start_time": "2022-05-06T20:26:12.719Z"
   },
   {
    "duration": 120,
    "start_time": "2022-05-06T20:27:09.589Z"
   },
   {
    "duration": 12,
    "start_time": "2022-05-06T20:28:12.529Z"
   },
   {
    "duration": 11,
    "start_time": "2022-05-06T20:37:37.062Z"
   },
   {
    "duration": 108,
    "start_time": "2022-05-06T20:37:40.679Z"
   },
   {
    "duration": 17,
    "start_time": "2022-05-06T20:39:19.361Z"
   },
   {
    "duration": 19,
    "start_time": "2022-05-06T20:39:54.927Z"
   },
   {
    "duration": 17,
    "start_time": "2022-05-06T20:40:10.765Z"
   },
   {
    "duration": 2300,
    "start_time": "2022-05-06T20:49:11.235Z"
   },
   {
    "duration": 305,
    "start_time": "2022-05-06T20:49:28.460Z"
   },
   {
    "duration": 9123,
    "start_time": "2022-05-06T20:50:21.892Z"
   },
   {
    "duration": 152,
    "start_time": "2022-05-06T20:51:04.309Z"
   },
   {
    "duration": 539,
    "start_time": "2022-05-06T20:57:46.925Z"
   },
   {
    "duration": 223,
    "start_time": "2022-05-06T20:57:54.503Z"
   },
   {
    "duration": 13,
    "start_time": "2022-05-06T21:14:27.501Z"
   },
   {
    "duration": 117,
    "start_time": "2022-05-06T21:15:11.842Z"
   },
   {
    "duration": 15,
    "start_time": "2022-05-06T21:16:21.890Z"
   },
   {
    "duration": 125,
    "start_time": "2022-05-06T21:16:26.847Z"
   },
   {
    "duration": 3491,
    "start_time": "2022-05-06T21:16:37.743Z"
   },
   {
    "duration": 302,
    "start_time": "2022-05-06T21:16:51.569Z"
   },
   {
    "duration": 12713,
    "start_time": "2022-05-06T21:16:55.562Z"
   },
   {
    "duration": 161,
    "start_time": "2022-05-06T21:17:26.897Z"
   },
   {
    "duration": 751,
    "start_time": "2022-05-06T21:17:44.407Z"
   },
   {
    "duration": 158,
    "start_time": "2022-05-06T21:17:58.863Z"
   },
   {
    "duration": 17,
    "start_time": "2022-05-06T21:18:21.015Z"
   },
   {
    "duration": 129,
    "start_time": "2022-05-06T21:18:22.626Z"
   },
   {
    "duration": 2156,
    "start_time": "2022-05-06T21:19:30.678Z"
   },
   {
    "duration": 299,
    "start_time": "2022-05-06T21:19:36.474Z"
   },
   {
    "duration": 12643,
    "start_time": "2022-05-06T21:19:39.100Z"
   },
   {
    "duration": 766,
    "start_time": "2022-05-06T21:19:58.046Z"
   },
   {
    "duration": 150,
    "start_time": "2022-05-06T21:20:06.545Z"
   },
   {
    "duration": 22,
    "start_time": "2022-05-06T21:32:24.353Z"
   },
   {
    "duration": 4,
    "start_time": "2022-05-06T21:35:16.589Z"
   },
   {
    "duration": 51,
    "start_time": "2022-05-06T21:35:16.595Z"
   },
   {
    "duration": 4,
    "start_time": "2022-05-06T21:35:16.648Z"
   },
   {
    "duration": 567,
    "start_time": "2022-05-06T21:35:16.654Z"
   },
   {
    "duration": 15,
    "start_time": "2022-05-06T21:35:17.223Z"
   },
   {
    "duration": 17,
    "start_time": "2022-05-06T21:35:17.240Z"
   },
   {
    "duration": 6,
    "start_time": "2022-05-06T21:35:17.259Z"
   },
   {
    "duration": 12,
    "start_time": "2022-05-06T21:35:17.266Z"
   },
   {
    "duration": 11,
    "start_time": "2022-05-06T21:35:17.281Z"
   },
   {
    "duration": 8,
    "start_time": "2022-05-06T21:35:17.294Z"
   },
   {
    "duration": 10,
    "start_time": "2022-05-06T21:35:17.303Z"
   },
   {
    "duration": 34,
    "start_time": "2022-05-06T21:35:17.315Z"
   },
   {
    "duration": 3,
    "start_time": "2022-05-06T21:35:17.351Z"
   },
   {
    "duration": 30,
    "start_time": "2022-05-06T21:35:17.356Z"
   },
   {
    "duration": 12,
    "start_time": "2022-05-06T21:35:17.388Z"
   },
   {
    "duration": 5,
    "start_time": "2022-05-06T21:35:17.401Z"
   },
   {
    "duration": 6,
    "start_time": "2022-05-06T21:35:17.408Z"
   },
   {
    "duration": 2206,
    "start_time": "2022-05-06T21:35:17.433Z"
   },
   {
    "duration": 422,
    "start_time": "2022-05-06T21:35:19.641Z"
   },
   {
    "duration": 5,
    "start_time": "2022-05-06T21:35:20.065Z"
   },
   {
    "duration": 22674,
    "start_time": "2022-05-06T21:35:20.071Z"
   },
   {
    "duration": 166,
    "start_time": "2022-05-06T21:35:42.747Z"
   },
   {
    "duration": 6,
    "start_time": "2022-05-06T21:35:42.915Z"
   },
   {
    "duration": 459,
    "start_time": "2022-05-06T21:35:42.935Z"
   },
   {
    "duration": 162,
    "start_time": "2022-05-06T21:35:43.396Z"
   },
   {
    "duration": 226,
    "start_time": "2022-05-06T21:35:43.560Z"
   },
   {
    "duration": 11,
    "start_time": "2022-05-06T21:35:43.788Z"
   },
   {
    "duration": 1546,
    "start_time": "2022-05-06T21:35:43.801Z"
   },
   {
    "duration": 411,
    "start_time": "2022-05-06T21:35:45.349Z"
   },
   {
    "duration": 22891,
    "start_time": "2022-05-06T21:35:45.762Z"
   },
   {
    "duration": 159,
    "start_time": "2022-05-06T21:36:08.655Z"
   },
   {
    "duration": 465,
    "start_time": "2022-05-06T21:36:08.816Z"
   },
   {
    "duration": 160,
    "start_time": "2022-05-06T21:36:09.283Z"
   },
   {
    "duration": 3,
    "start_time": "2022-05-06T21:36:09.446Z"
   },
   {
    "duration": 19,
    "start_time": "2022-05-06T21:36:09.450Z"
   },
   {
    "duration": 129,
    "start_time": "2022-05-06T21:36:09.471Z"
   },
   {
    "duration": 2847,
    "start_time": "2022-05-06T21:36:09.602Z"
   },
   {
    "duration": 413,
    "start_time": "2022-05-06T21:36:12.451Z"
   },
   {
    "duration": 40866,
    "start_time": "2022-05-06T21:36:12.866Z"
   },
   {
    "duration": 171,
    "start_time": "2022-05-06T21:36:53.737Z"
   },
   {
    "duration": 767,
    "start_time": "2022-05-06T21:36:53.910Z"
   },
   {
    "duration": 161,
    "start_time": "2022-05-06T21:36:54.679Z"
   },
   {
    "duration": 13,
    "start_time": "2022-05-06T21:36:54.842Z"
   },
   {
    "duration": 126,
    "start_time": "2022-05-06T21:36:54.857Z"
   },
   {
    "duration": 2752,
    "start_time": "2022-05-06T21:36:54.985Z"
   },
   {
    "duration": 432,
    "start_time": "2022-05-06T21:36:57.744Z"
   },
   {
    "duration": 40936,
    "start_time": "2022-05-06T21:36:58.178Z"
   },
   {
    "duration": 170,
    "start_time": "2022-05-06T21:37:39.116Z"
   },
   {
    "duration": 778,
    "start_time": "2022-05-06T21:37:39.289Z"
   },
   {
    "duration": 167,
    "start_time": "2022-05-06T21:37:40.070Z"
   },
   {
    "duration": 24,
    "start_time": "2022-05-06T21:37:40.239Z"
   },
   {
    "duration": 5,
    "start_time": "2022-05-06T21:40:15.709Z"
   },
   {
    "duration": 3306,
    "start_time": "2022-05-06T21:40:19.635Z"
   },
   {
    "duration": 4,
    "start_time": "2022-05-06T21:40:33.951Z"
   },
   {
    "duration": 37,
    "start_time": "2022-05-06T21:40:33.957Z"
   },
   {
    "duration": 5,
    "start_time": "2022-05-06T21:40:33.996Z"
   },
   {
    "duration": 603,
    "start_time": "2022-05-06T21:40:34.003Z"
   },
   {
    "duration": 14,
    "start_time": "2022-05-06T21:40:34.608Z"
   },
   {
    "duration": 4,
    "start_time": "2022-05-06T21:40:34.633Z"
   },
   {
    "duration": 7,
    "start_time": "2022-05-06T21:40:34.639Z"
   },
   {
    "duration": 12,
    "start_time": "2022-05-06T21:40:34.647Z"
   },
   {
    "duration": 19,
    "start_time": "2022-05-06T21:40:34.661Z"
   },
   {
    "duration": 5,
    "start_time": "2022-05-06T21:40:34.683Z"
   },
   {
    "duration": 8,
    "start_time": "2022-05-06T21:40:34.690Z"
   },
   {
    "duration": 48,
    "start_time": "2022-05-06T21:40:34.700Z"
   },
   {
    "duration": 3,
    "start_time": "2022-05-06T21:40:34.750Z"
   },
   {
    "duration": 37,
    "start_time": "2022-05-06T21:40:34.754Z"
   },
   {
    "duration": 133,
    "start_time": "2022-05-06T21:40:34.793Z"
   },
   {
    "duration": 7,
    "start_time": "2022-05-06T21:40:34.928Z"
   },
   {
    "duration": 6,
    "start_time": "2022-05-06T21:40:34.936Z"
   },
   {
    "duration": 2689,
    "start_time": "2022-05-06T21:40:34.944Z"
   },
   {
    "duration": 333,
    "start_time": "2022-05-06T21:40:37.635Z"
   },
   {
    "duration": 6,
    "start_time": "2022-05-06T21:40:37.970Z"
   },
   {
    "duration": 83225,
    "start_time": "2022-05-06T21:40:37.977Z"
   },
   {
    "duration": 181,
    "start_time": "2022-05-06T21:42:01.204Z"
   },
   {
    "duration": 6,
    "start_time": "2022-05-06T21:42:01.387Z"
   },
   {
    "duration": 793,
    "start_time": "2022-05-06T21:42:01.395Z"
   },
   {
    "duration": 158,
    "start_time": "2022-05-06T21:42:02.191Z"
   },
   {
    "duration": 138,
    "start_time": "2022-05-06T21:42:02.351Z"
   },
   {
    "duration": 12,
    "start_time": "2022-05-06T21:42:02.491Z"
   },
   {
    "duration": 1334,
    "start_time": "2022-05-06T21:42:02.507Z"
   },
   {
    "duration": 420,
    "start_time": "2022-05-06T21:42:03.843Z"
   },
   {
    "duration": 85509,
    "start_time": "2022-05-06T21:42:04.264Z"
   },
   {
    "duration": 179,
    "start_time": "2022-05-06T21:43:29.775Z"
   },
   {
    "duration": 834,
    "start_time": "2022-05-06T21:43:29.956Z"
   },
   {
    "duration": 169,
    "start_time": "2022-05-06T21:43:30.792Z"
   },
   {
    "duration": 3,
    "start_time": "2022-05-06T21:43:30.963Z"
   },
   {
    "duration": 23,
    "start_time": "2022-05-06T21:43:30.968Z"
   },
   {
    "duration": 128,
    "start_time": "2022-05-06T21:43:30.993Z"
   },
   {
    "duration": 2015,
    "start_time": "2022-05-06T21:43:31.123Z"
   },
   {
    "duration": 437,
    "start_time": "2022-05-06T21:43:33.142Z"
   },
   {
    "duration": 156597,
    "start_time": "2022-05-06T21:43:33.581Z"
   },
   {
    "duration": 188,
    "start_time": "2022-05-06T21:46:10.180Z"
   },
   {
    "duration": 1289,
    "start_time": "2022-05-06T21:46:10.370Z"
   },
   {
    "duration": 153,
    "start_time": "2022-05-06T21:46:11.661Z"
   },
   {
    "duration": 22,
    "start_time": "2022-05-06T21:46:11.816Z"
   },
   {
    "duration": 130,
    "start_time": "2022-05-06T21:46:11.840Z"
   },
   {
    "duration": 2263,
    "start_time": "2022-05-06T21:46:11.972Z"
   },
   {
    "duration": 436,
    "start_time": "2022-05-06T21:46:14.237Z"
   },
   {
    "duration": 154585,
    "start_time": "2022-05-06T21:46:14.675Z"
   },
   {
    "duration": 186,
    "start_time": "2022-05-06T21:48:49.262Z"
   },
   {
    "duration": 1287,
    "start_time": "2022-05-06T21:48:49.450Z"
   },
   {
    "duration": 260,
    "start_time": "2022-05-06T21:48:50.738Z"
   },
   {
    "duration": 38,
    "start_time": "2022-05-06T21:48:51.001Z"
   },
   {
    "duration": 29,
    "start_time": "2022-05-06T21:49:50.871Z"
   },
   {
    "duration": 21,
    "start_time": "2022-05-06T21:58:46.800Z"
   },
   {
    "duration": 13,
    "start_time": "2022-05-06T21:58:47.684Z"
   },
   {
    "duration": 27,
    "start_time": "2022-05-06T21:59:31.639Z"
   },
   {
    "duration": 12,
    "start_time": "2022-05-06T21:59:33.157Z"
   },
   {
    "duration": 1585,
    "start_time": "2022-05-06T21:59:50.390Z"
   },
   {
    "duration": 31,
    "start_time": "2022-05-06T21:59:51.977Z"
   },
   {
    "duration": 4,
    "start_time": "2022-05-06T21:59:52.010Z"
   },
   {
    "duration": 570,
    "start_time": "2022-05-06T21:59:52.017Z"
   },
   {
    "duration": 17,
    "start_time": "2022-05-06T21:59:52.589Z"
   },
   {
    "duration": 6,
    "start_time": "2022-05-06T21:59:52.608Z"
   },
   {
    "duration": 6,
    "start_time": "2022-05-06T21:59:52.632Z"
   },
   {
    "duration": 16,
    "start_time": "2022-05-06T21:59:52.640Z"
   },
   {
    "duration": 16,
    "start_time": "2022-05-06T21:59:52.658Z"
   },
   {
    "duration": 8,
    "start_time": "2022-05-06T21:59:52.677Z"
   },
   {
    "duration": 9,
    "start_time": "2022-05-06T21:59:52.686Z"
   },
   {
    "duration": 52,
    "start_time": "2022-05-06T21:59:52.697Z"
   },
   {
    "duration": 4,
    "start_time": "2022-05-06T21:59:52.751Z"
   },
   {
    "duration": 40,
    "start_time": "2022-05-06T21:59:52.757Z"
   },
   {
    "duration": 13,
    "start_time": "2022-05-06T21:59:52.799Z"
   },
   {
    "duration": 23,
    "start_time": "2022-05-06T21:59:52.814Z"
   },
   {
    "duration": 7,
    "start_time": "2022-05-06T21:59:52.839Z"
   },
   {
    "duration": 2397,
    "start_time": "2022-05-06T21:59:52.848Z"
   },
   {
    "duration": 335,
    "start_time": "2022-05-06T21:59:55.335Z"
   },
   {
    "duration": 5,
    "start_time": "2022-05-06T21:59:55.672Z"
   },
   {
    "duration": 85248,
    "start_time": "2022-05-06T21:59:55.679Z"
   },
   {
    "duration": 176,
    "start_time": "2022-05-06T22:01:20.929Z"
   },
   {
    "duration": 5,
    "start_time": "2022-05-06T22:01:21.107Z"
   },
   {
    "duration": 790,
    "start_time": "2022-05-06T22:01:21.114Z"
   },
   {
    "duration": 158,
    "start_time": "2022-05-06T22:01:21.906Z"
   },
   {
    "duration": 137,
    "start_time": "2022-05-06T22:01:22.066Z"
   },
   {
    "duration": 12,
    "start_time": "2022-05-06T22:01:22.205Z"
   },
   {
    "duration": 1399,
    "start_time": "2022-05-06T22:01:22.235Z"
   },
   {
    "duration": 390,
    "start_time": "2022-05-06T22:01:23.636Z"
   },
   {
    "duration": 84763,
    "start_time": "2022-05-06T22:01:24.028Z"
   },
   {
    "duration": 170,
    "start_time": "2022-05-06T22:02:48.793Z"
   },
   {
    "duration": 790,
    "start_time": "2022-05-06T22:02:48.965Z"
   },
   {
    "duration": 155,
    "start_time": "2022-05-06T22:02:49.758Z"
   },
   {
    "duration": 4,
    "start_time": "2022-05-06T22:02:49.915Z"
   },
   {
    "duration": 26,
    "start_time": "2022-05-06T22:02:49.921Z"
   },
   {
    "duration": 136,
    "start_time": "2022-05-06T22:02:49.949Z"
   },
   {
    "duration": 2448,
    "start_time": "2022-05-06T22:02:50.087Z"
   },
   {
    "duration": 329,
    "start_time": "2022-05-06T22:02:52.537Z"
   },
   {
    "duration": 156946,
    "start_time": "2022-05-06T22:02:52.868Z"
   },
   {
    "duration": 194,
    "start_time": "2022-05-06T22:05:29.815Z"
   },
   {
    "duration": 1368,
    "start_time": "2022-05-06T22:05:30.011Z"
   },
   {
    "duration": 174,
    "start_time": "2022-05-06T22:05:31.380Z"
   },
   {
    "duration": 13,
    "start_time": "2022-05-06T22:05:31.556Z"
   },
   {
    "duration": 152,
    "start_time": "2022-05-06T22:05:31.571Z"
   },
   {
    "duration": 3115,
    "start_time": "2022-05-06T22:05:31.725Z"
   },
   {
    "duration": 449,
    "start_time": "2022-05-06T22:05:34.843Z"
   },
   {
    "duration": 160913,
    "start_time": "2022-05-06T22:05:35.293Z"
   },
   {
    "duration": 187,
    "start_time": "2022-05-06T22:08:16.208Z"
   },
   {
    "duration": 1364,
    "start_time": "2022-05-06T22:08:16.397Z"
   },
   {
    "duration": 164,
    "start_time": "2022-05-06T22:08:17.763Z"
   },
   {
    "duration": 30,
    "start_time": "2022-05-06T22:08:17.933Z"
   },
   {
    "duration": 5,
    "start_time": "2022-05-06T22:18:25.622Z"
   },
   {
    "duration": 33,
    "start_time": "2022-05-06T22:18:25.629Z"
   },
   {
    "duration": 4,
    "start_time": "2022-05-06T22:18:25.663Z"
   },
   {
    "duration": 567,
    "start_time": "2022-05-06T22:18:25.670Z"
   },
   {
    "duration": 14,
    "start_time": "2022-05-06T22:18:26.239Z"
   },
   {
    "duration": 10,
    "start_time": "2022-05-06T22:18:26.256Z"
   },
   {
    "duration": 7,
    "start_time": "2022-05-06T22:18:26.268Z"
   },
   {
    "duration": 13,
    "start_time": "2022-05-06T22:18:26.276Z"
   },
   {
    "duration": 19,
    "start_time": "2022-05-06T22:18:26.291Z"
   },
   {
    "duration": 21,
    "start_time": "2022-05-06T22:18:26.312Z"
   },
   {
    "duration": 10,
    "start_time": "2022-05-06T22:18:26.335Z"
   },
   {
    "duration": 17,
    "start_time": "2022-05-06T22:18:26.346Z"
   },
   {
    "duration": 3,
    "start_time": "2022-05-06T22:18:26.365Z"
   },
   {
    "duration": 73,
    "start_time": "2022-05-06T22:18:26.369Z"
   },
   {
    "duration": 12,
    "start_time": "2022-05-06T22:18:26.444Z"
   },
   {
    "duration": 7,
    "start_time": "2022-05-06T22:18:26.457Z"
   },
   {
    "duration": 8,
    "start_time": "2022-05-06T22:18:26.466Z"
   },
   {
    "duration": 2467,
    "start_time": "2022-05-06T22:18:26.476Z"
   },
   {
    "duration": 351,
    "start_time": "2022-05-06T22:18:29.034Z"
   },
   {
    "duration": 5,
    "start_time": "2022-05-06T22:18:29.388Z"
   },
   {
    "duration": 85780,
    "start_time": "2022-05-06T22:18:29.395Z"
   },
   {
    "duration": 174,
    "start_time": "2022-05-06T22:19:55.177Z"
   },
   {
    "duration": 5,
    "start_time": "2022-05-06T22:19:55.353Z"
   },
   {
    "duration": 824,
    "start_time": "2022-05-06T22:19:55.359Z"
   },
   {
    "duration": 149,
    "start_time": "2022-05-06T22:19:56.184Z"
   },
   {
    "duration": 148,
    "start_time": "2022-05-06T22:19:56.337Z"
   },
   {
    "duration": 10,
    "start_time": "2022-05-06T22:19:56.487Z"
   },
   {
    "duration": 1444,
    "start_time": "2022-05-06T22:19:56.501Z"
   },
   {
    "duration": 428,
    "start_time": "2022-05-06T22:19:57.949Z"
   },
   {
    "duration": 89472,
    "start_time": "2022-05-06T22:19:58.379Z"
   },
   {
    "duration": 173,
    "start_time": "2022-05-06T22:21:27.853Z"
   },
   {
    "duration": 796,
    "start_time": "2022-05-06T22:21:28.028Z"
   },
   {
    "duration": 153,
    "start_time": "2022-05-06T22:21:28.826Z"
   },
   {
    "duration": 4,
    "start_time": "2022-05-06T22:21:28.980Z"
   },
   {
    "duration": 21,
    "start_time": "2022-05-06T22:21:28.985Z"
   },
   {
    "duration": 136,
    "start_time": "2022-05-06T22:21:29.008Z"
   },
   {
    "duration": 2499,
    "start_time": "2022-05-06T22:21:29.146Z"
   },
   {
    "duration": 325,
    "start_time": "2022-05-06T22:21:31.647Z"
   },
   {
    "duration": 153486,
    "start_time": "2022-05-06T22:21:31.974Z"
   },
   {
    "duration": 165,
    "start_time": "2022-05-06T22:24:05.462Z"
   },
   {
    "duration": 1299,
    "start_time": "2022-05-06T22:24:05.629Z"
   },
   {
    "duration": 150,
    "start_time": "2022-05-06T22:24:06.930Z"
   },
   {
    "duration": 12,
    "start_time": "2022-05-06T22:24:07.082Z"
   },
   {
    "duration": 141,
    "start_time": "2022-05-06T22:24:07.096Z"
   },
   {
    "duration": 2919,
    "start_time": "2022-05-06T22:24:07.240Z"
   },
   {
    "duration": 332,
    "start_time": "2022-05-06T22:24:10.235Z"
   },
   {
    "duration": 153082,
    "start_time": "2022-05-06T22:24:10.568Z"
   },
   {
    "duration": 159,
    "start_time": "2022-05-06T22:26:43.652Z"
   },
   {
    "duration": 1227,
    "start_time": "2022-05-06T22:26:43.813Z"
   },
   {
    "duration": 150,
    "start_time": "2022-05-06T22:26:45.042Z"
   },
   {
    "duration": 21,
    "start_time": "2022-05-06T22:26:45.194Z"
   },
   {
    "duration": 4,
    "start_time": "2022-05-06T22:28:21.895Z"
   },
   {
    "duration": 16,
    "start_time": "2022-05-06T22:29:04.799Z"
   },
   {
    "duration": 2,
    "start_time": "2022-05-06T22:29:06.643Z"
   },
   {
    "duration": 28,
    "start_time": "2022-05-06T22:29:07.565Z"
   },
   {
    "duration": 13,
    "start_time": "2022-05-06T22:29:09.446Z"
   },
   {
    "duration": 5,
    "start_time": "2022-05-06T22:30:27.643Z"
   },
   {
    "duration": 118,
    "start_time": "2022-05-06T22:30:42.285Z"
   },
   {
    "duration": 5,
    "start_time": "2022-05-06T22:31:15.287Z"
   },
   {
    "duration": 81182,
    "start_time": "2022-05-06T22:31:16.487Z"
   },
   {
    "duration": 151275,
    "start_time": "2022-05-06T22:34:49.135Z"
   },
   {
    "duration": 172,
    "start_time": "2022-05-06T22:37:20.412Z"
   },
   {
    "duration": 155311,
    "start_time": "2022-05-06T22:38:27.815Z"
   },
   {
    "duration": 25,
    "start_time": "2022-05-06T22:41:33.288Z"
   },
   {
    "duration": 5,
    "start_time": "2022-05-06T23:03:15.421Z"
   },
   {
    "duration": 141,
    "start_time": "2022-05-07T10:41:28.195Z"
   },
   {
    "duration": 2866,
    "start_time": "2022-05-07T10:41:55.126Z"
   },
   {
    "duration": 7,
    "start_time": "2022-05-07T10:56:41.002Z"
   },
   {
    "duration": 43,
    "start_time": "2022-05-07T10:56:41.012Z"
   },
   {
    "duration": 6,
    "start_time": "2022-05-07T10:56:41.057Z"
   },
   {
    "duration": 856,
    "start_time": "2022-05-07T10:56:41.067Z"
   },
   {
    "duration": 21,
    "start_time": "2022-05-07T10:56:41.925Z"
   },
   {
    "duration": 12,
    "start_time": "2022-05-07T10:56:41.948Z"
   },
   {
    "duration": 7,
    "start_time": "2022-05-07T10:56:41.962Z"
   },
   {
    "duration": 15,
    "start_time": "2022-05-07T10:56:41.971Z"
   },
   {
    "duration": 42,
    "start_time": "2022-05-07T10:56:41.990Z"
   },
   {
    "duration": 8,
    "start_time": "2022-05-07T10:56:42.034Z"
   },
   {
    "duration": 9,
    "start_time": "2022-05-07T10:56:42.045Z"
   },
   {
    "duration": 24,
    "start_time": "2022-05-07T10:56:42.057Z"
   },
   {
    "duration": 4,
    "start_time": "2022-05-07T10:56:42.084Z"
   },
   {
    "duration": 73,
    "start_time": "2022-05-07T10:56:42.090Z"
   },
   {
    "duration": 18,
    "start_time": "2022-05-07T10:56:42.165Z"
   },
   {
    "duration": 40,
    "start_time": "2022-05-07T10:56:42.185Z"
   },
   {
    "duration": 14,
    "start_time": "2022-05-07T10:56:42.227Z"
   },
   {
    "duration": 1583,
    "start_time": "2022-05-07T10:56:42.244Z"
   },
   {
    "duration": 580,
    "start_time": "2022-05-07T10:56:43.832Z"
   },
   {
    "duration": 11,
    "start_time": "2022-05-07T10:56:44.414Z"
   },
   {
    "duration": 117334,
    "start_time": "2022-05-07T10:56:44.427Z"
   },
   {
    "duration": 246,
    "start_time": "2022-05-07T10:58:41.763Z"
   },
   {
    "duration": 15,
    "start_time": "2022-05-07T10:58:42.011Z"
   },
   {
    "duration": 1074,
    "start_time": "2022-05-07T10:58:42.031Z"
   },
   {
    "duration": 225,
    "start_time": "2022-05-07T10:58:43.107Z"
   },
   {
    "duration": 212,
    "start_time": "2022-05-07T10:58:43.334Z"
   },
   {
    "duration": 15,
    "start_time": "2022-05-07T10:58:43.548Z"
   },
   {
    "duration": 1361,
    "start_time": "2022-05-07T10:58:43.565Z"
   },
   {
    "duration": 493,
    "start_time": "2022-05-07T10:58:44.929Z"
   },
   {
    "duration": 115179,
    "start_time": "2022-05-07T10:58:45.425Z"
   },
   {
    "duration": 249,
    "start_time": "2022-05-07T11:00:40.606Z"
   },
   {
    "duration": 1081,
    "start_time": "2022-05-07T11:00:40.857Z"
   },
   {
    "duration": 220,
    "start_time": "2022-05-07T11:00:41.940Z"
   },
   {
    "duration": 21,
    "start_time": "2022-05-07T11:00:42.162Z"
   },
   {
    "duration": 208,
    "start_time": "2022-05-07T11:00:42.185Z"
   },
   {
    "duration": 2830,
    "start_time": "2022-05-07T11:00:42.395Z"
   },
   {
    "duration": 477,
    "start_time": "2022-05-07T11:00:45.227Z"
   },
   {
    "duration": 245240,
    "start_time": "2022-05-07T11:00:45.706Z"
   },
   {
    "duration": 242,
    "start_time": "2022-05-07T11:04:50.948Z"
   },
   {
    "duration": 2083,
    "start_time": "2022-05-07T11:04:51.192Z"
   },
   {
    "duration": 223,
    "start_time": "2022-05-07T11:04:53.277Z"
   },
   {
    "duration": 29,
    "start_time": "2022-05-07T11:04:53.502Z"
   },
   {
    "duration": 197,
    "start_time": "2022-05-07T11:04:53.534Z"
   },
   {
    "duration": 2395,
    "start_time": "2022-05-07T11:04:53.733Z"
   },
   {
    "duration": 484,
    "start_time": "2022-05-07T11:04:56.132Z"
   },
   {
    "duration": 245004,
    "start_time": "2022-05-07T11:04:56.623Z"
   },
   {
    "duration": 246,
    "start_time": "2022-05-07T11:09:01.629Z"
   },
   {
    "duration": 2251,
    "start_time": "2022-05-07T11:09:01.877Z"
   },
   {
    "duration": 237,
    "start_time": "2022-05-07T11:09:04.130Z"
   },
   {
    "duration": 25,
    "start_time": "2022-05-07T11:09:04.370Z"
   },
   {
    "duration": 5,
    "start_time": "2022-05-07T11:20:57.258Z"
   },
   {
    "duration": 9,
    "start_time": "2022-05-07T11:21:06.346Z"
   },
   {
    "duration": 6,
    "start_time": "2022-05-07T11:22:56.319Z"
   },
   {
    "duration": 8,
    "start_time": "2022-05-07T11:22:56.668Z"
   },
   {
    "duration": 6,
    "start_time": "2022-05-07T11:23:44.856Z"
   },
   {
    "duration": 11,
    "start_time": "2022-05-07T11:23:45.180Z"
   },
   {
    "duration": 8,
    "start_time": "2022-05-07T11:25:18.449Z"
   },
   {
    "duration": 11,
    "start_time": "2022-05-07T11:25:18.997Z"
   },
   {
    "duration": 7,
    "start_time": "2022-05-07T11:25:40.382Z"
   },
   {
    "duration": 6,
    "start_time": "2022-05-07T11:27:28.293Z"
   },
   {
    "duration": 11,
    "start_time": "2022-05-07T11:27:28.537Z"
   },
   {
    "duration": 2757,
    "start_time": "2022-05-07T11:28:01.369Z"
   },
   {
    "duration": 15,
    "start_time": "2022-05-07T11:28:15.089Z"
   },
   {
    "duration": 8,
    "start_time": "2022-05-07T11:28:58.338Z"
   },
   {
    "duration": 2771,
    "start_time": "2022-05-07T11:29:00.658Z"
   },
   {
    "duration": 11,
    "start_time": "2022-05-07T11:29:06.302Z"
   },
   {
    "duration": 6,
    "start_time": "2022-05-07T11:36:41.186Z"
   },
   {
    "duration": 39,
    "start_time": "2022-05-07T11:36:41.195Z"
   },
   {
    "duration": 7,
    "start_time": "2022-05-07T11:36:41.236Z"
   },
   {
    "duration": 810,
    "start_time": "2022-05-07T11:36:41.247Z"
   },
   {
    "duration": 23,
    "start_time": "2022-05-07T11:36:42.061Z"
   },
   {
    "duration": 11,
    "start_time": "2022-05-07T11:36:42.086Z"
   },
   {
    "duration": 28,
    "start_time": "2022-05-07T11:36:42.100Z"
   },
   {
    "duration": 22,
    "start_time": "2022-05-07T11:36:42.131Z"
   },
   {
    "duration": 19,
    "start_time": "2022-05-07T11:36:42.156Z"
   },
   {
    "duration": 8,
    "start_time": "2022-05-07T11:36:42.177Z"
   },
   {
    "duration": 14,
    "start_time": "2022-05-07T11:36:42.188Z"
   },
   {
    "duration": 40,
    "start_time": "2022-05-07T11:36:42.204Z"
   },
   {
    "duration": 4,
    "start_time": "2022-05-07T11:36:42.248Z"
   },
   {
    "duration": 51,
    "start_time": "2022-05-07T11:36:42.254Z"
   },
   {
    "duration": 18,
    "start_time": "2022-05-07T11:36:42.324Z"
   },
   {
    "duration": 9,
    "start_time": "2022-05-07T11:36:42.344Z"
   },
   {
    "duration": 18,
    "start_time": "2022-05-07T11:36:42.355Z"
   },
   {
    "duration": 17,
    "start_time": "2022-05-07T11:36:42.376Z"
   },
   {
    "duration": 29,
    "start_time": "2022-05-07T11:36:42.395Z"
   },
   {
    "duration": 1599,
    "start_time": "2022-05-07T11:36:42.427Z"
   },
   {
    "duration": 495,
    "start_time": "2022-05-07T11:36:44.029Z"
   },
   {
    "duration": 6,
    "start_time": "2022-05-07T11:36:44.527Z"
   },
   {
    "duration": 120237,
    "start_time": "2022-05-07T11:36:44.535Z"
   },
   {
    "duration": 273,
    "start_time": "2022-05-07T11:38:44.774Z"
   },
   {
    "duration": 6,
    "start_time": "2022-05-07T11:38:45.049Z"
   },
   {
    "duration": 133,
    "start_time": "2022-05-07T11:38:45.057Z"
   },
   {
    "duration": 0,
    "start_time": "2022-05-07T11:38:45.193Z"
   },
   {
    "duration": 0,
    "start_time": "2022-05-07T11:38:45.195Z"
   },
   {
    "duration": 0,
    "start_time": "2022-05-07T11:38:45.197Z"
   },
   {
    "duration": 1,
    "start_time": "2022-05-07T11:38:45.198Z"
   },
   {
    "duration": 0,
    "start_time": "2022-05-07T11:38:45.200Z"
   },
   {
    "duration": 0,
    "start_time": "2022-05-07T11:38:45.201Z"
   },
   {
    "duration": 0,
    "start_time": "2022-05-07T11:38:45.202Z"
   },
   {
    "duration": 0,
    "start_time": "2022-05-07T11:38:45.204Z"
   },
   {
    "duration": 0,
    "start_time": "2022-05-07T11:38:45.205Z"
   },
   {
    "duration": 0,
    "start_time": "2022-05-07T11:38:45.206Z"
   },
   {
    "duration": 0,
    "start_time": "2022-05-07T11:38:45.208Z"
   },
   {
    "duration": 0,
    "start_time": "2022-05-07T11:38:45.209Z"
   },
   {
    "duration": 0,
    "start_time": "2022-05-07T11:38:45.210Z"
   },
   {
    "duration": 0,
    "start_time": "2022-05-07T11:38:45.211Z"
   },
   {
    "duration": 0,
    "start_time": "2022-05-07T11:38:45.212Z"
   },
   {
    "duration": 0,
    "start_time": "2022-05-07T11:38:45.214Z"
   },
   {
    "duration": 0,
    "start_time": "2022-05-07T11:38:45.216Z"
   },
   {
    "duration": 0,
    "start_time": "2022-05-07T11:38:45.217Z"
   },
   {
    "duration": 0,
    "start_time": "2022-05-07T11:38:45.218Z"
   },
   {
    "duration": 0,
    "start_time": "2022-05-07T11:38:45.220Z"
   },
   {
    "duration": 0,
    "start_time": "2022-05-07T11:38:45.221Z"
   },
   {
    "duration": 0,
    "start_time": "2022-05-07T11:38:45.222Z"
   },
   {
    "duration": 0,
    "start_time": "2022-05-07T11:38:45.223Z"
   },
   {
    "duration": 0,
    "start_time": "2022-05-07T11:38:45.229Z"
   },
   {
    "duration": 0,
    "start_time": "2022-05-07T11:38:45.236Z"
   },
   {
    "duration": 0,
    "start_time": "2022-05-07T11:38:45.237Z"
   },
   {
    "duration": 1099,
    "start_time": "2022-05-07T11:39:07.073Z"
   },
   {
    "duration": 211,
    "start_time": "2022-05-07T11:39:14.137Z"
   },
   {
    "duration": 176,
    "start_time": "2022-05-07T11:39:18.578Z"
   },
   {
    "duration": 16,
    "start_time": "2022-05-07T11:39:21.818Z"
   },
   {
    "duration": 1494,
    "start_time": "2022-05-07T11:39:30.932Z"
   },
   {
    "duration": 369,
    "start_time": "2022-05-07T11:39:35.849Z"
   },
   {
    "duration": 120,
    "start_time": "2022-05-07T11:39:37.486Z"
   },
   {
    "duration": 117726,
    "start_time": "2022-05-07T11:39:47.315Z"
   },
   {
    "duration": 237,
    "start_time": "2022-05-07T11:41:47.231Z"
   },
   {
    "duration": 1079,
    "start_time": "2022-05-07T11:42:01.055Z"
   },
   {
    "duration": 212,
    "start_time": "2022-05-07T11:42:07.639Z"
   },
   {
    "duration": 19,
    "start_time": "2022-05-07T11:42:12.551Z"
   },
   {
    "duration": 178,
    "start_time": "2022-05-07T11:42:15.287Z"
   },
   {
    "duration": 2604,
    "start_time": "2022-05-07T11:42:16.821Z"
   },
   {
    "duration": 354,
    "start_time": "2022-05-07T11:42:20.857Z"
   },
   {
    "duration": 243348,
    "start_time": "2022-05-07T11:42:22.287Z"
   },
   {
    "duration": 233,
    "start_time": "2022-05-07T11:47:07.333Z"
   },
   {
    "duration": 1962,
    "start_time": "2022-05-07T11:47:12.157Z"
   },
   {
    "duration": 214,
    "start_time": "2022-05-07T11:47:15.216Z"
   },
   {
    "duration": 16,
    "start_time": "2022-05-07T11:47:18.496Z"
   },
   {
    "duration": 184,
    "start_time": "2022-05-07T11:47:19.620Z"
   },
   {
    "duration": 2560,
    "start_time": "2022-05-07T11:47:20.465Z"
   },
   {
    "duration": 438,
    "start_time": "2022-05-07T11:47:25.457Z"
   },
   {
    "duration": 2457,
    "start_time": "2022-05-07T11:47:34.468Z"
   },
   {
    "duration": 385,
    "start_time": "2022-05-07T11:47:45.425Z"
   },
   {
    "duration": 250095,
    "start_time": "2022-05-07T11:47:47.270Z"
   },
   {
    "duration": 244,
    "start_time": "2022-05-07T11:52:02.901Z"
   },
   {
    "duration": 2017,
    "start_time": "2022-05-07T11:52:11.124Z"
   },
   {
    "duration": 210,
    "start_time": "2022-05-07T11:52:17.503Z"
   },
   {
    "duration": 10,
    "start_time": "2022-05-07T11:52:37.480Z"
   },
   {
    "duration": 273,
    "start_time": "2022-05-07T11:54:07.404Z"
   },
   {
    "duration": 298,
    "start_time": "2022-05-07T11:54:40.593Z"
   },
   {
    "duration": 316,
    "start_time": "2022-05-07T11:54:53.784Z"
   },
   {
    "duration": 322,
    "start_time": "2022-05-07T11:55:03.396Z"
   },
   {
    "duration": 300,
    "start_time": "2022-05-07T11:55:09.535Z"
   },
   {
    "duration": 429,
    "start_time": "2022-05-07T11:55:16.191Z"
   },
   {
    "duration": 169,
    "start_time": "2022-05-07T13:42:34.422Z"
   },
   {
    "duration": 9,
    "start_time": "2022-05-07T13:42:37.378Z"
   },
   {
    "duration": 12,
    "start_time": "2022-05-07T13:42:37.621Z"
   },
   {
    "duration": 7,
    "start_time": "2022-05-07T13:43:13.523Z"
   },
   {
    "duration": 359,
    "start_time": "2022-05-07T13:44:21.446Z"
   },
   {
    "duration": 11,
    "start_time": "2022-05-07T13:44:40.360Z"
   },
   {
    "duration": 8,
    "start_time": "2022-05-07T13:45:05.857Z"
   },
   {
    "duration": 340,
    "start_time": "2022-05-07T13:45:10.774Z"
   },
   {
    "duration": 10,
    "start_time": "2022-05-07T13:45:12.639Z"
   },
   {
    "duration": 240,
    "start_time": "2022-05-07T13:46:02.948Z"
   },
   {
    "duration": 325,
    "start_time": "2022-05-07T13:46:41.807Z"
   },
   {
    "duration": 429,
    "start_time": "2022-05-07T13:47:23.996Z"
   },
   {
    "duration": 229,
    "start_time": "2022-05-07T13:47:44.374Z"
   },
   {
    "duration": 212,
    "start_time": "2022-05-07T13:48:20.316Z"
   },
   {
    "duration": 405,
    "start_time": "2022-05-07T13:48:58.612Z"
   },
   {
    "duration": 228,
    "start_time": "2022-05-07T13:49:16.942Z"
   },
   {
    "duration": 215,
    "start_time": "2022-05-07T13:49:35.836Z"
   },
   {
    "duration": 377,
    "start_time": "2022-05-07T13:49:54.522Z"
   },
   {
    "duration": 237,
    "start_time": "2022-05-07T13:50:11.316Z"
   },
   {
    "duration": 219,
    "start_time": "2022-05-07T13:50:27.702Z"
   },
   {
    "duration": 304,
    "start_time": "2022-05-07T13:50:59.589Z"
   },
   {
    "duration": 290,
    "start_time": "2022-05-07T13:51:13.064Z"
   },
   {
    "duration": 469,
    "start_time": "2022-05-07T13:52:01.193Z"
   },
   {
    "duration": 12,
    "start_time": "2022-05-07T13:52:46.981Z"
   },
   {
    "duration": 6,
    "start_time": "2022-05-07T13:55:54.880Z"
   },
   {
    "duration": 37,
    "start_time": "2022-05-07T13:55:54.889Z"
   },
   {
    "duration": 6,
    "start_time": "2022-05-07T13:55:54.928Z"
   },
   {
    "duration": 717,
    "start_time": "2022-05-07T13:55:54.937Z"
   },
   {
    "duration": 22,
    "start_time": "2022-05-07T13:55:55.656Z"
   },
   {
    "duration": 14,
    "start_time": "2022-05-07T13:55:55.681Z"
   },
   {
    "duration": 27,
    "start_time": "2022-05-07T13:55:55.697Z"
   },
   {
    "duration": 16,
    "start_time": "2022-05-07T13:55:55.726Z"
   },
   {
    "duration": 18,
    "start_time": "2022-05-07T13:55:55.747Z"
   },
   {
    "duration": 5,
    "start_time": "2022-05-07T13:55:55.767Z"
   },
   {
    "duration": 8,
    "start_time": "2022-05-07T13:55:55.775Z"
   },
   {
    "duration": 59,
    "start_time": "2022-05-07T13:55:55.785Z"
   },
   {
    "duration": 4,
    "start_time": "2022-05-07T13:55:55.846Z"
   },
   {
    "duration": 41,
    "start_time": "2022-05-07T13:55:55.852Z"
   },
   {
    "duration": 43,
    "start_time": "2022-05-07T13:55:55.895Z"
   },
   {
    "duration": 11,
    "start_time": "2022-05-07T13:55:55.941Z"
   },
   {
    "duration": 9,
    "start_time": "2022-05-07T13:55:55.955Z"
   },
   {
    "duration": 11,
    "start_time": "2022-05-07T13:55:55.966Z"
   },
   {
    "duration": 1547,
    "start_time": "2022-05-07T13:55:55.979Z"
   },
   {
    "duration": 493,
    "start_time": "2022-05-07T13:55:57.528Z"
   },
   {
    "duration": 7,
    "start_time": "2022-05-07T13:55:58.023Z"
   },
   {
    "duration": 121562,
    "start_time": "2022-05-07T13:55:58.032Z"
   },
   {
    "duration": 254,
    "start_time": "2022-05-07T13:57:59.597Z"
   },
   {
    "duration": 7,
    "start_time": "2022-05-07T13:57:59.857Z"
   },
   {
    "duration": 1086,
    "start_time": "2022-05-07T13:57:59.866Z"
   },
   {
    "duration": 226,
    "start_time": "2022-05-07T13:58:00.954Z"
   },
   {
    "duration": 215,
    "start_time": "2022-05-07T13:58:01.183Z"
   },
   {
    "duration": 31,
    "start_time": "2022-05-07T13:58:01.401Z"
   },
   {
    "duration": 1691,
    "start_time": "2022-05-07T13:58:01.435Z"
   },
   {
    "duration": 403,
    "start_time": "2022-05-07T13:58:03.128Z"
   },
   {
    "duration": 117862,
    "start_time": "2022-05-07T13:58:03.534Z"
   },
   {
    "duration": 256,
    "start_time": "2022-05-07T14:00:01.398Z"
   },
   {
    "duration": 1099,
    "start_time": "2022-05-07T14:00:01.656Z"
   },
   {
    "duration": 235,
    "start_time": "2022-05-07T14:00:02.757Z"
   },
   {
    "duration": 35,
    "start_time": "2022-05-07T14:00:02.995Z"
   },
   {
    "duration": 202,
    "start_time": "2022-05-07T14:00:03.032Z"
   },
   {
    "duration": 2489,
    "start_time": "2022-05-07T14:00:03.237Z"
   },
   {
    "duration": 404,
    "start_time": "2022-05-07T14:00:05.728Z"
   },
   {
    "duration": 247339,
    "start_time": "2022-05-07T14:00:06.134Z"
   },
   {
    "duration": 276,
    "start_time": "2022-05-07T14:04:13.475Z"
   },
   {
    "duration": 2100,
    "start_time": "2022-05-07T14:04:13.753Z"
   },
   {
    "duration": 233,
    "start_time": "2022-05-07T14:04:15.855Z"
   },
   {
    "duration": 17,
    "start_time": "2022-05-07T14:04:16.090Z"
   },
   {
    "duration": 198,
    "start_time": "2022-05-07T14:04:16.126Z"
   },
   {
    "duration": 3699,
    "start_time": "2022-05-07T14:04:16.327Z"
   },
   {
    "duration": 493,
    "start_time": "2022-05-07T14:04:20.029Z"
   },
   {
    "duration": 258783,
    "start_time": "2022-05-07T14:04:20.526Z"
   },
   {
    "duration": 251,
    "start_time": "2022-05-07T14:08:39.311Z"
   },
   {
    "duration": 2000,
    "start_time": "2022-05-07T14:08:39.564Z"
   },
   {
    "duration": 218,
    "start_time": "2022-05-07T14:08:41.567Z"
   },
   {
    "duration": 320,
    "start_time": "2022-05-07T14:08:41.787Z"
   },
   {
    "duration": 343,
    "start_time": "2022-05-07T14:08:42.109Z"
   },
   {
    "duration": 11,
    "start_time": "2022-05-07T14:08:42.454Z"
   },
   {
    "duration": 25,
    "start_time": "2022-05-07T14:08:42.467Z"
   },
   {
    "duration": 12,
    "start_time": "2022-05-07T14:09:47.795Z"
   },
   {
    "duration": 7,
    "start_time": "2022-05-07T14:12:18.056Z"
   },
   {
    "duration": 54,
    "start_time": "2022-05-07T14:12:18.066Z"
   },
   {
    "duration": 8,
    "start_time": "2022-05-07T14:12:18.141Z"
   },
   {
    "duration": 856,
    "start_time": "2022-05-07T14:12:18.153Z"
   },
   {
    "duration": 31,
    "start_time": "2022-05-07T14:12:19.011Z"
   },
   {
    "duration": 13,
    "start_time": "2022-05-07T14:12:19.045Z"
   },
   {
    "duration": 17,
    "start_time": "2022-05-07T14:12:19.064Z"
   },
   {
    "duration": 23,
    "start_time": "2022-05-07T14:12:19.084Z"
   },
   {
    "duration": 30,
    "start_time": "2022-05-07T14:12:19.109Z"
   },
   {
    "duration": 16,
    "start_time": "2022-05-07T14:12:19.141Z"
   },
   {
    "duration": 17,
    "start_time": "2022-05-07T14:12:19.160Z"
   },
   {
    "duration": 35,
    "start_time": "2022-05-07T14:12:19.179Z"
   },
   {
    "duration": 7,
    "start_time": "2022-05-07T14:12:19.217Z"
   },
   {
    "duration": 47,
    "start_time": "2022-05-07T14:12:19.227Z"
   },
   {
    "duration": 25,
    "start_time": "2022-05-07T14:12:19.286Z"
   },
   {
    "duration": 12,
    "start_time": "2022-05-07T14:12:19.334Z"
   },
   {
    "duration": 16,
    "start_time": "2022-05-07T14:12:19.349Z"
   },
   {
    "duration": 8,
    "start_time": "2022-05-07T14:12:19.367Z"
   },
   {
    "duration": 2549,
    "start_time": "2022-05-07T14:12:19.378Z"
   },
   {
    "duration": 455,
    "start_time": "2022-05-07T14:12:21.929Z"
   },
   {
    "duration": 10,
    "start_time": "2022-05-07T14:12:22.387Z"
   },
   {
    "duration": 129162,
    "start_time": "2022-05-07T14:12:22.400Z"
   },
   {
    "duration": 260,
    "start_time": "2022-05-07T14:14:31.565Z"
   },
   {
    "duration": 13,
    "start_time": "2022-05-07T14:14:31.828Z"
   },
   {
    "duration": 1121,
    "start_time": "2022-05-07T14:14:31.843Z"
   },
   {
    "duration": 239,
    "start_time": "2022-05-07T14:14:32.966Z"
   },
   {
    "duration": 226,
    "start_time": "2022-05-07T14:14:33.208Z"
   },
   {
    "duration": 17,
    "start_time": "2022-05-07T14:14:33.436Z"
   },
   {
    "duration": 2975,
    "start_time": "2022-05-07T14:14:33.455Z"
   },
   {
    "duration": 397,
    "start_time": "2022-05-07T14:14:36.524Z"
   },
   {
    "duration": 121261,
    "start_time": "2022-05-07T14:14:36.924Z"
   },
   {
    "duration": 242,
    "start_time": "2022-05-07T14:16:38.187Z"
   },
   {
    "duration": 1073,
    "start_time": "2022-05-07T14:16:38.432Z"
   },
   {
    "duration": 228,
    "start_time": "2022-05-07T14:16:39.507Z"
   },
   {
    "duration": 19,
    "start_time": "2022-05-07T14:16:39.738Z"
   },
   {
    "duration": 192,
    "start_time": "2022-05-07T14:16:39.759Z"
   },
   {
    "duration": 1876,
    "start_time": "2022-05-07T14:16:39.953Z"
   },
   {
    "duration": 489,
    "start_time": "2022-05-07T14:16:41.832Z"
   },
   {
    "duration": 161228,
    "start_time": "2022-05-07T14:16:42.324Z"
   },
   {
    "duration": 248,
    "start_time": "2022-05-07T14:19:23.554Z"
   },
   {
    "duration": 1372,
    "start_time": "2022-05-07T14:19:23.804Z"
   },
   {
    "duration": 374,
    "start_time": "2022-05-07T14:19:25.179Z"
   },
   {
    "duration": 15,
    "start_time": "2022-05-07T14:19:25.559Z"
   },
   {
    "duration": 201,
    "start_time": "2022-05-07T14:19:25.576Z"
   },
   {
    "duration": 1751,
    "start_time": "2022-05-07T14:19:25.779Z"
   },
   {
    "duration": 477,
    "start_time": "2022-05-07T14:19:27.533Z"
   },
   {
    "duration": 177065,
    "start_time": "2022-05-07T14:19:28.012Z"
   },
   {
    "duration": 257,
    "start_time": "2022-05-07T14:22:25.079Z"
   },
   {
    "duration": 1467,
    "start_time": "2022-05-07T14:22:25.338Z"
   },
   {
    "duration": 250,
    "start_time": "2022-05-07T14:22:26.807Z"
   },
   {
    "duration": 351,
    "start_time": "2022-05-07T14:22:27.060Z"
   },
   {
    "duration": 18,
    "start_time": "2022-05-07T14:22:27.413Z"
   },
   {
    "duration": 506,
    "start_time": "2022-05-07T14:22:27.436Z"
   },
   {
    "duration": 12,
    "start_time": "2022-05-07T14:22:27.946Z"
   },
   {
    "duration": 28,
    "start_time": "2022-05-07T14:22:27.961Z"
   },
   {
    "duration": 7,
    "start_time": "2022-05-07T14:39:12.878Z"
   },
   {
    "duration": 40,
    "start_time": "2022-05-07T14:39:12.887Z"
   },
   {
    "duration": 7,
    "start_time": "2022-05-07T14:39:12.931Z"
   },
   {
    "duration": 773,
    "start_time": "2022-05-07T14:39:12.940Z"
   },
   {
    "duration": 25,
    "start_time": "2022-05-07T14:39:13.724Z"
   },
   {
    "duration": 8,
    "start_time": "2022-05-07T14:39:13.751Z"
   },
   {
    "duration": 7,
    "start_time": "2022-05-07T14:39:13.761Z"
   },
   {
    "duration": 15,
    "start_time": "2022-05-07T14:39:13.770Z"
   },
   {
    "duration": 45,
    "start_time": "2022-05-07T14:39:13.787Z"
   },
   {
    "duration": 4,
    "start_time": "2022-05-07T14:39:13.834Z"
   },
   {
    "duration": 6,
    "start_time": "2022-05-07T14:39:13.842Z"
   },
   {
    "duration": 21,
    "start_time": "2022-05-07T14:39:13.851Z"
   },
   {
    "duration": 3,
    "start_time": "2022-05-07T14:39:13.874Z"
   },
   {
    "duration": 81,
    "start_time": "2022-05-07T14:39:13.879Z"
   },
   {
    "duration": 25,
    "start_time": "2022-05-07T14:39:13.963Z"
   },
   {
    "duration": 34,
    "start_time": "2022-05-07T14:39:13.991Z"
   },
   {
    "duration": 10,
    "start_time": "2022-05-07T14:39:14.028Z"
   },
   {
    "duration": 8,
    "start_time": "2022-05-07T14:39:14.040Z"
   },
   {
    "duration": 1576,
    "start_time": "2022-05-07T14:39:14.050Z"
   },
   {
    "duration": 499,
    "start_time": "2022-05-07T14:39:15.629Z"
   },
   {
    "duration": 8,
    "start_time": "2022-05-07T14:39:16.131Z"
   },
   {
    "duration": 122930,
    "start_time": "2022-05-07T14:39:16.141Z"
   },
   {
    "duration": 270,
    "start_time": "2022-05-07T14:41:19.074Z"
   },
   {
    "duration": 7,
    "start_time": "2022-05-07T14:41:19.347Z"
   },
   {
    "duration": 1236,
    "start_time": "2022-05-07T14:41:19.355Z"
   },
   {
    "duration": 240,
    "start_time": "2022-05-07T14:41:20.594Z"
   },
   {
    "duration": 209,
    "start_time": "2022-05-07T14:41:20.837Z"
   },
   {
    "duration": 15,
    "start_time": "2022-05-07T14:41:21.049Z"
   },
   {
    "duration": 2858,
    "start_time": "2022-05-07T14:41:21.070Z"
   },
   {
    "duration": 577,
    "start_time": "2022-05-07T14:41:23.931Z"
   },
   {
    "duration": 129562,
    "start_time": "2022-05-07T14:41:24.510Z"
   },
   {
    "duration": 287,
    "start_time": "2022-05-07T14:43:34.075Z"
   },
   {
    "duration": 1169,
    "start_time": "2022-05-07T14:43:34.364Z"
   },
   {
    "duration": 454,
    "start_time": "2022-05-07T14:43:35.538Z"
   },
   {
    "duration": 49,
    "start_time": "2022-05-07T14:43:35.996Z"
   },
   {
    "duration": 197,
    "start_time": "2022-05-07T14:43:36.048Z"
   },
   {
    "duration": 2498,
    "start_time": "2022-05-07T14:43:36.248Z"
   },
   {
    "duration": 661,
    "start_time": "2022-05-07T14:43:38.826Z"
   },
   {
    "duration": 181675,
    "start_time": "2022-05-07T14:43:39.489Z"
   },
   {
    "duration": 275,
    "start_time": "2022-05-07T14:46:41.166Z"
   },
   {
    "duration": 1525,
    "start_time": "2022-05-07T14:46:41.444Z"
   },
   {
    "duration": 295,
    "start_time": "2022-05-07T14:46:42.972Z"
   },
   {
    "duration": 16,
    "start_time": "2022-05-07T14:46:43.269Z"
   },
   {
    "duration": 218,
    "start_time": "2022-05-07T14:46:43.288Z"
   },
   {
    "duration": 2816,
    "start_time": "2022-05-07T14:46:43.508Z"
   },
   {
    "duration": 546,
    "start_time": "2022-05-07T14:46:46.328Z"
   },
   {
    "duration": 224250,
    "start_time": "2022-05-07T14:46:46.877Z"
   },
   {
    "duration": 426,
    "start_time": "2022-05-07T14:50:31.130Z"
   },
   {
    "duration": 1485,
    "start_time": "2022-05-07T14:50:31.559Z"
   },
   {
    "duration": 267,
    "start_time": "2022-05-07T14:50:33.047Z"
   },
   {
    "duration": 380,
    "start_time": "2022-05-07T14:50:33.317Z"
   },
   {
    "duration": 11,
    "start_time": "2022-05-07T14:50:33.700Z"
   },
   {
    "duration": 376,
    "start_time": "2022-05-07T14:50:33.725Z"
   },
   {
    "duration": 25,
    "start_time": "2022-05-07T14:50:34.104Z"
   },
   {
    "duration": 31,
    "start_time": "2022-05-07T14:50:34.133Z"
   },
   {
    "duration": 9,
    "start_time": "2022-05-07T14:54:26.084Z"
   },
   {
    "duration": 53,
    "start_time": "2022-05-07T14:54:26.098Z"
   },
   {
    "duration": 8,
    "start_time": "2022-05-07T14:54:26.154Z"
   },
   {
    "duration": 986,
    "start_time": "2022-05-07T14:54:26.165Z"
   },
   {
    "duration": 23,
    "start_time": "2022-05-07T14:54:27.155Z"
   },
   {
    "duration": 13,
    "start_time": "2022-05-07T14:54:27.182Z"
   },
   {
    "duration": 34,
    "start_time": "2022-05-07T14:54:27.198Z"
   },
   {
    "duration": 19,
    "start_time": "2022-05-07T14:54:27.236Z"
   },
   {
    "duration": 22,
    "start_time": "2022-05-07T14:54:27.257Z"
   },
   {
    "duration": 15,
    "start_time": "2022-05-07T14:54:27.281Z"
   },
   {
    "duration": 27,
    "start_time": "2022-05-07T14:54:27.299Z"
   },
   {
    "duration": 29,
    "start_time": "2022-05-07T14:54:27.329Z"
   },
   {
    "duration": 4,
    "start_time": "2022-05-07T14:54:27.364Z"
   },
   {
    "duration": 78,
    "start_time": "2022-05-07T14:54:27.374Z"
   },
   {
    "duration": 38,
    "start_time": "2022-05-07T14:54:27.454Z"
   },
   {
    "duration": 24,
    "start_time": "2022-05-07T14:54:27.496Z"
   },
   {
    "duration": 29,
    "start_time": "2022-05-07T14:54:27.523Z"
   },
   {
    "duration": 23,
    "start_time": "2022-05-07T14:54:27.557Z"
   },
   {
    "duration": 2441,
    "start_time": "2022-05-07T14:54:27.584Z"
   },
   {
    "duration": 507,
    "start_time": "2022-05-07T14:54:30.123Z"
   },
   {
    "duration": 10,
    "start_time": "2022-05-07T14:54:30.634Z"
   },
   {
    "duration": 139471,
    "start_time": "2022-05-07T14:54:30.655Z"
   },
   {
    "duration": 256,
    "start_time": "2022-05-07T14:56:50.129Z"
   },
   {
    "duration": 7,
    "start_time": "2022-05-07T14:56:50.388Z"
   },
   {
    "duration": 1208,
    "start_time": "2022-05-07T14:56:50.397Z"
   },
   {
    "duration": 239,
    "start_time": "2022-05-07T14:56:51.607Z"
   },
   {
    "duration": 235,
    "start_time": "2022-05-07T14:56:51.849Z"
   },
   {
    "duration": 17,
    "start_time": "2022-05-07T14:56:52.087Z"
   },
   {
    "duration": 2620,
    "start_time": "2022-05-07T14:56:52.125Z"
   },
   {
    "duration": 500,
    "start_time": "2022-05-07T14:56:54.834Z"
   },
   {
    "duration": 151784,
    "start_time": "2022-05-07T14:56:55.340Z"
   },
   {
    "duration": 242,
    "start_time": "2022-05-07T14:59:27.127Z"
   },
   {
    "duration": 1098,
    "start_time": "2022-05-07T14:59:27.371Z"
   },
   {
    "duration": 230,
    "start_time": "2022-05-07T14:59:28.471Z"
   },
   {
    "duration": 25,
    "start_time": "2022-05-07T14:59:28.704Z"
   },
   {
    "duration": 187,
    "start_time": "2022-05-07T14:59:28.731Z"
   },
   {
    "duration": 1806,
    "start_time": "2022-05-07T14:59:28.924Z"
   },
   {
    "duration": 653,
    "start_time": "2022-05-07T14:59:30.733Z"
   },
   {
    "duration": 174571,
    "start_time": "2022-05-07T14:59:31.389Z"
   },
   {
    "duration": 269,
    "start_time": "2022-05-07T15:02:25.963Z"
   },
   {
    "duration": 1501,
    "start_time": "2022-05-07T15:02:26.239Z"
   },
   {
    "duration": 250,
    "start_time": "2022-05-07T15:02:27.750Z"
   },
   {
    "duration": 30,
    "start_time": "2022-05-07T15:02:28.002Z"
   },
   {
    "duration": 214,
    "start_time": "2022-05-07T15:02:28.041Z"
   },
   {
    "duration": 4678,
    "start_time": "2022-05-07T15:02:28.258Z"
   },
   {
    "duration": 505,
    "start_time": "2022-05-07T15:02:32.939Z"
   },
   {
    "duration": 178852,
    "start_time": "2022-05-07T15:02:33.446Z"
   },
   {
    "duration": 257,
    "start_time": "2022-05-07T15:05:32.300Z"
   },
   {
    "duration": 1415,
    "start_time": "2022-05-07T15:05:32.559Z"
   },
   {
    "duration": 236,
    "start_time": "2022-05-07T15:05:33.976Z"
   },
   {
    "duration": 334,
    "start_time": "2022-05-07T15:05:34.215Z"
   },
   {
    "duration": 349,
    "start_time": "2022-05-07T15:05:34.551Z"
   },
   {
    "duration": 11,
    "start_time": "2022-05-07T15:05:34.902Z"
   },
   {
    "duration": 18,
    "start_time": "2022-05-07T15:05:34.924Z"
   },
   {
    "duration": 28,
    "start_time": "2022-05-07T15:05:34.944Z"
   },
   {
    "duration": 27,
    "start_time": "2022-05-07T15:42:06.427Z"
   },
   {
    "duration": 237,
    "start_time": "2022-05-07T15:48:06.568Z"
   },
   {
    "duration": 27,
    "start_time": "2022-05-07T15:51:14.681Z"
   },
   {
    "duration": 236,
    "start_time": "2022-05-07T15:51:17.751Z"
   },
   {
    "duration": 348,
    "start_time": "2022-05-07T15:51:23.801Z"
   },
   {
    "duration": 6,
    "start_time": "2022-05-07T16:17:54.171Z"
   },
   {
    "duration": 443,
    "start_time": "2022-05-08T09:29:17.366Z"
   },
   {
    "duration": 1752,
    "start_time": "2022-05-08T10:50:27.671Z"
   },
   {
    "duration": 30,
    "start_time": "2022-05-08T10:50:29.425Z"
   },
   {
    "duration": 5,
    "start_time": "2022-05-08T10:50:29.456Z"
   },
   {
    "duration": 607,
    "start_time": "2022-05-08T10:50:29.463Z"
   },
   {
    "duration": 20,
    "start_time": "2022-05-08T10:50:30.072Z"
   },
   {
    "duration": 11,
    "start_time": "2022-05-08T10:50:30.094Z"
   },
   {
    "duration": 22,
    "start_time": "2022-05-08T10:50:30.107Z"
   },
   {
    "duration": 24,
    "start_time": "2022-05-08T10:50:30.131Z"
   },
   {
    "duration": 29,
    "start_time": "2022-05-08T10:50:30.157Z"
   },
   {
    "duration": 14,
    "start_time": "2022-05-08T10:50:30.189Z"
   },
   {
    "duration": 27,
    "start_time": "2022-05-08T10:50:30.204Z"
   },
   {
    "duration": 20,
    "start_time": "2022-05-08T10:50:30.233Z"
   },
   {
    "duration": 19,
    "start_time": "2022-05-08T10:50:30.254Z"
   },
   {
    "duration": 48,
    "start_time": "2022-05-08T10:50:30.274Z"
   },
   {
    "duration": 11,
    "start_time": "2022-05-08T10:50:30.324Z"
   },
   {
    "duration": 42,
    "start_time": "2022-05-08T10:50:30.337Z"
   },
   {
    "duration": 15,
    "start_time": "2022-05-08T10:50:30.381Z"
   },
   {
    "duration": 36,
    "start_time": "2022-05-08T10:50:30.398Z"
   },
   {
    "duration": 1564,
    "start_time": "2022-05-08T10:50:30.436Z"
   },
   {
    "duration": 403,
    "start_time": "2022-05-08T10:50:32.003Z"
   },
   {
    "duration": 5,
    "start_time": "2022-05-08T10:50:32.408Z"
   },
   {
    "duration": 81512,
    "start_time": "2022-05-08T10:50:32.414Z"
   },
   {
    "duration": 156,
    "start_time": "2022-05-08T10:51:53.927Z"
   },
   {
    "duration": 10,
    "start_time": "2022-05-08T10:51:54.085Z"
   },
   {
    "duration": 760,
    "start_time": "2022-05-08T10:51:54.097Z"
   },
   {
    "duration": 136,
    "start_time": "2022-05-08T10:51:54.859Z"
   },
   {
    "duration": 126,
    "start_time": "2022-05-08T10:51:54.996Z"
   },
   {
    "duration": 10,
    "start_time": "2022-05-08T10:51:55.125Z"
   },
   {
    "duration": 957,
    "start_time": "2022-05-08T10:51:55.137Z"
   },
   {
    "duration": 356,
    "start_time": "2022-05-08T10:51:56.096Z"
   },
   {
    "duration": 109471,
    "start_time": "2022-05-08T10:51:56.453Z"
   },
   {
    "duration": 247,
    "start_time": "2022-05-08T10:53:45.926Z"
   },
   {
    "duration": 775,
    "start_time": "2022-05-08T10:53:46.175Z"
   },
   {
    "duration": 145,
    "start_time": "2022-05-08T10:53:46.952Z"
   },
   {
    "duration": 14,
    "start_time": "2022-05-08T10:53:47.100Z"
   },
   {
    "duration": 125,
    "start_time": "2022-05-08T10:53:47.116Z"
   },
   {
    "duration": 147,
    "start_time": "2022-05-08T10:54:00.416Z"
   },
   {
    "duration": 5,
    "start_time": "2022-05-08T10:54:01.748Z"
   },
   {
    "duration": 201,
    "start_time": "2022-05-08T10:56:54.006Z"
   },
   {
    "duration": 157,
    "start_time": "2022-05-08T10:57:20.097Z"
   },
   {
    "duration": 118,
    "start_time": "2022-05-08T10:57:46.209Z"
   },
   {
    "duration": 124,
    "start_time": "2022-05-08T10:57:55.026Z"
   }
  ],
  "kernelspec": {
   "display_name": "Python 3 (ipykernel)",
   "language": "python",
   "name": "python3"
  },
  "language_info": {
   "codemirror_mode": {
    "name": "ipython",
    "version": 3
   },
   "file_extension": ".py",
   "mimetype": "text/x-python",
   "name": "python",
   "nbconvert_exporter": "python",
   "pygments_lexer": "ipython3",
   "version": "3.9.5"
  },
  "toc": {
   "base_numbering": 1,
   "nav_menu": {},
   "number_sections": true,
   "sideBar": true,
   "skip_h1_title": true,
   "title_cell": "Содержание",
   "title_sidebar": "Contents",
   "toc_cell": true,
   "toc_position": {},
   "toc_section_display": true,
   "toc_window_display": true
  }
 },
 "nbformat": 4,
 "nbformat_minor": 2
}
