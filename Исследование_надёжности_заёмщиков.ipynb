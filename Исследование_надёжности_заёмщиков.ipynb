{
 "cells": [
  {
   "cell_type": "markdown",
   "metadata": {},
   "source": [
    "1. [Обзор данных](#start)\n",
    "2. [Предобработка данных](#preprocessing)\n",
    "    * [Обработка пропусков](#nan)\n",
    "    * [Замена типа данных](#type)\n",
    "    * [Обработка дубликатов](#duplicates)\n",
    "    * [Лемматизация](#lemmas)\n",
    "    * [Категоризация данных](#category)\n",
    "    * [Ошибки в данных](#errors)\n",
    "3. [Ответьте на вопросы](#answers)\n",
    "4. [Общий вывод](#conclusion)\n",
    "5. [Чек-лист готовности проекта](#check_list)\n"
   ]
  },
  {
   "cell_type": "markdown",
   "metadata": {},
   "source": [
    "# Исследование надёжности заёмщиков\n",
    "\n",
    "Заказчик — кредитный отдел банка. Нужно разобраться, влияет ли семейное положение и количество детей клиента на факт погашения кредита в срок. Входные данные от банка — статистика о платёжеспособности клиентов.\n",
    "\n",
    "Результаты исследования будут учтены при построении модели **кредитного скоринга** — специальной системы, которая оценивает способность потенциального заёмщика вернуть кредит банку."
   ]
  },
  {
   "cell_type": "markdown",
   "metadata": {},
   "source": [
    "**Описание данных**\n",
    "* `children` — количество детей в семье\n",
    "* `days_employed` — трудовой стаж в днях\n",
    "* `dob_days` — возраст клиента в годах\n",
    "* `education` — образование клиента\n",
    "* `education_id` — идентификатор образования\n",
    "* `family_status` — семейное положение\n",
    "* `family_status_id` — идентификатор семейного положения\n",
    "* `gender` — пол клиента\n",
    "* `income_type` — тип занятости\n",
    "* `debt` — имел ли задолженность по возврату кредитов\n",
    "* `total_income` — доход в месяц\n",
    "* `purpose` — цель получения кредита"
   ]
  },
  {
   "cell_type": "markdown",
   "metadata": {},
   "source": [
    "<a id=\"start\"></a>\n",
    "## Шаг 1. Откройте файл с данными и изучите общую информацию"
   ]
  },
  {
   "cell_type": "code",
   "execution_count": 1,
   "metadata": {},
   "outputs": [
    {
     "data": {
      "text/html": [
       "<div>\n",
       "<style scoped>\n",
       "    .dataframe tbody tr th:only-of-type {\n",
       "        vertical-align: middle;\n",
       "    }\n",
       "\n",
       "    .dataframe tbody tr th {\n",
       "        vertical-align: top;\n",
       "    }\n",
       "\n",
       "    .dataframe thead th {\n",
       "        text-align: right;\n",
       "    }\n",
       "</style>\n",
       "<table border=\"1\" class=\"dataframe\">\n",
       "  <thead>\n",
       "    <tr style=\"text-align: right;\">\n",
       "      <th></th>\n",
       "      <th>children</th>\n",
       "      <th>days_employed</th>\n",
       "      <th>dob_years</th>\n",
       "      <th>education</th>\n",
       "      <th>education_id</th>\n",
       "      <th>family_status</th>\n",
       "      <th>family_status_id</th>\n",
       "      <th>gender</th>\n",
       "      <th>income_type</th>\n",
       "      <th>debt</th>\n",
       "      <th>total_income</th>\n",
       "      <th>purpose</th>\n",
       "    </tr>\n",
       "  </thead>\n",
       "  <tbody>\n",
       "    <tr>\n",
       "      <th>0</th>\n",
       "      <td>1</td>\n",
       "      <td>-8437.673028</td>\n",
       "      <td>42</td>\n",
       "      <td>высшее</td>\n",
       "      <td>0</td>\n",
       "      <td>женат / замужем</td>\n",
       "      <td>0</td>\n",
       "      <td>F</td>\n",
       "      <td>сотрудник</td>\n",
       "      <td>0</td>\n",
       "      <td>253875.639453</td>\n",
       "      <td>покупка жилья</td>\n",
       "    </tr>\n",
       "    <tr>\n",
       "      <th>1</th>\n",
       "      <td>1</td>\n",
       "      <td>-4024.803754</td>\n",
       "      <td>36</td>\n",
       "      <td>среднее</td>\n",
       "      <td>1</td>\n",
       "      <td>женат / замужем</td>\n",
       "      <td>0</td>\n",
       "      <td>F</td>\n",
       "      <td>сотрудник</td>\n",
       "      <td>0</td>\n",
       "      <td>112080.014102</td>\n",
       "      <td>приобретение автомобиля</td>\n",
       "    </tr>\n",
       "    <tr>\n",
       "      <th>2</th>\n",
       "      <td>0</td>\n",
       "      <td>-5623.422610</td>\n",
       "      <td>33</td>\n",
       "      <td>Среднее</td>\n",
       "      <td>1</td>\n",
       "      <td>женат / замужем</td>\n",
       "      <td>0</td>\n",
       "      <td>M</td>\n",
       "      <td>сотрудник</td>\n",
       "      <td>0</td>\n",
       "      <td>145885.952297</td>\n",
       "      <td>покупка жилья</td>\n",
       "    </tr>\n",
       "    <tr>\n",
       "      <th>3</th>\n",
       "      <td>3</td>\n",
       "      <td>-4124.747207</td>\n",
       "      <td>32</td>\n",
       "      <td>среднее</td>\n",
       "      <td>1</td>\n",
       "      <td>женат / замужем</td>\n",
       "      <td>0</td>\n",
       "      <td>M</td>\n",
       "      <td>сотрудник</td>\n",
       "      <td>0</td>\n",
       "      <td>267628.550329</td>\n",
       "      <td>дополнительное образование</td>\n",
       "    </tr>\n",
       "    <tr>\n",
       "      <th>4</th>\n",
       "      <td>0</td>\n",
       "      <td>340266.072047</td>\n",
       "      <td>53</td>\n",
       "      <td>среднее</td>\n",
       "      <td>1</td>\n",
       "      <td>гражданский брак</td>\n",
       "      <td>1</td>\n",
       "      <td>F</td>\n",
       "      <td>пенсионер</td>\n",
       "      <td>0</td>\n",
       "      <td>158616.077870</td>\n",
       "      <td>сыграть свадьбу</td>\n",
       "    </tr>\n",
       "    <tr>\n",
       "      <th>5</th>\n",
       "      <td>0</td>\n",
       "      <td>-926.185831</td>\n",
       "      <td>27</td>\n",
       "      <td>высшее</td>\n",
       "      <td>0</td>\n",
       "      <td>гражданский брак</td>\n",
       "      <td>1</td>\n",
       "      <td>M</td>\n",
       "      <td>компаньон</td>\n",
       "      <td>0</td>\n",
       "      <td>255763.565419</td>\n",
       "      <td>покупка жилья</td>\n",
       "    </tr>\n",
       "    <tr>\n",
       "      <th>6</th>\n",
       "      <td>0</td>\n",
       "      <td>-2879.202052</td>\n",
       "      <td>43</td>\n",
       "      <td>высшее</td>\n",
       "      <td>0</td>\n",
       "      <td>женат / замужем</td>\n",
       "      <td>0</td>\n",
       "      <td>F</td>\n",
       "      <td>компаньон</td>\n",
       "      <td>0</td>\n",
       "      <td>240525.971920</td>\n",
       "      <td>операции с жильем</td>\n",
       "    </tr>\n",
       "    <tr>\n",
       "      <th>7</th>\n",
       "      <td>0</td>\n",
       "      <td>-152.779569</td>\n",
       "      <td>50</td>\n",
       "      <td>СРЕДНЕЕ</td>\n",
       "      <td>1</td>\n",
       "      <td>женат / замужем</td>\n",
       "      <td>0</td>\n",
       "      <td>M</td>\n",
       "      <td>сотрудник</td>\n",
       "      <td>0</td>\n",
       "      <td>135823.934197</td>\n",
       "      <td>образование</td>\n",
       "    </tr>\n",
       "    <tr>\n",
       "      <th>8</th>\n",
       "      <td>2</td>\n",
       "      <td>-6929.865299</td>\n",
       "      <td>35</td>\n",
       "      <td>ВЫСШЕЕ</td>\n",
       "      <td>0</td>\n",
       "      <td>гражданский брак</td>\n",
       "      <td>1</td>\n",
       "      <td>F</td>\n",
       "      <td>сотрудник</td>\n",
       "      <td>0</td>\n",
       "      <td>95856.832424</td>\n",
       "      <td>на проведение свадьбы</td>\n",
       "    </tr>\n",
       "    <tr>\n",
       "      <th>9</th>\n",
       "      <td>0</td>\n",
       "      <td>-2188.756445</td>\n",
       "      <td>41</td>\n",
       "      <td>среднее</td>\n",
       "      <td>1</td>\n",
       "      <td>женат / замужем</td>\n",
       "      <td>0</td>\n",
       "      <td>M</td>\n",
       "      <td>сотрудник</td>\n",
       "      <td>0</td>\n",
       "      <td>144425.938277</td>\n",
       "      <td>покупка жилья для семьи</td>\n",
       "    </tr>\n",
       "  </tbody>\n",
       "</table>\n",
       "</div>"
      ],
      "text/plain": [
       "   children  days_employed  dob_years education  education_id  \\\n",
       "0         1   -8437.673028         42    высшее             0   \n",
       "1         1   -4024.803754         36   среднее             1   \n",
       "2         0   -5623.422610         33   Среднее             1   \n",
       "3         3   -4124.747207         32   среднее             1   \n",
       "4         0  340266.072047         53   среднее             1   \n",
       "5         0    -926.185831         27    высшее             0   \n",
       "6         0   -2879.202052         43    высшее             0   \n",
       "7         0    -152.779569         50   СРЕДНЕЕ             1   \n",
       "8         2   -6929.865299         35    ВЫСШЕЕ             0   \n",
       "9         0   -2188.756445         41   среднее             1   \n",
       "\n",
       "      family_status  family_status_id gender income_type  debt   total_income  \\\n",
       "0   женат / замужем                 0      F   сотрудник     0  253875.639453   \n",
       "1   женат / замужем                 0      F   сотрудник     0  112080.014102   \n",
       "2   женат / замужем                 0      M   сотрудник     0  145885.952297   \n",
       "3   женат / замужем                 0      M   сотрудник     0  267628.550329   \n",
       "4  гражданский брак                 1      F   пенсионер     0  158616.077870   \n",
       "5  гражданский брак                 1      M   компаньон     0  255763.565419   \n",
       "6   женат / замужем                 0      F   компаньон     0  240525.971920   \n",
       "7   женат / замужем                 0      M   сотрудник     0  135823.934197   \n",
       "8  гражданский брак                 1      F   сотрудник     0   95856.832424   \n",
       "9   женат / замужем                 0      M   сотрудник     0  144425.938277   \n",
       "\n",
       "                      purpose  \n",
       "0               покупка жилья  \n",
       "1     приобретение автомобиля  \n",
       "2               покупка жилья  \n",
       "3  дополнительное образование  \n",
       "4             сыграть свадьбу  \n",
       "5               покупка жилья  \n",
       "6           операции с жильем  \n",
       "7                 образование  \n",
       "8       на проведение свадьбы  \n",
       "9     покупка жилья для семьи  "
      ]
     },
     "execution_count": 1,
     "metadata": {},
     "output_type": "execute_result"
    }
   ],
   "source": [
    "import pandas as pd\n",
    "\n",
    "customer_solvency = pd.read_csv('/datasets/data.csv')\n",
    "customer_solvency.head(10)"
   ]
  },
  {
   "cell_type": "code",
   "execution_count": 2,
   "metadata": {},
   "outputs": [
    {
     "data": {
      "text/plain": [
       "Index(['children', 'days_employed', 'dob_years', 'education', 'education_id',\n",
       "       'family_status', 'family_status_id', 'gender', 'income_type', 'debt',\n",
       "       'total_income', 'purpose'],\n",
       "      dtype='object')"
      ]
     },
     "execution_count": 2,
     "metadata": {},
     "output_type": "execute_result"
    }
   ],
   "source": [
    "customer_solvency.columns"
   ]
  },
  {
   "cell_type": "markdown",
   "metadata": {},
   "source": [
    "**Убедились, что нет лишних пробелов в названиях колонок (в конце)**"
   ]
  },
  {
   "cell_type": "code",
   "execution_count": 3,
   "metadata": {},
   "outputs": [
    {
     "name": "stdout",
     "output_type": "stream",
     "text": [
      "<class 'pandas.core.frame.DataFrame'>\n",
      "RangeIndex: 21525 entries, 0 to 21524\n",
      "Data columns (total 12 columns):\n",
      " #   Column            Non-Null Count  Dtype  \n",
      "---  ------            --------------  -----  \n",
      " 0   children          21525 non-null  int64  \n",
      " 1   days_employed     19351 non-null  float64\n",
      " 2   dob_years         21525 non-null  int64  \n",
      " 3   education         21525 non-null  object \n",
      " 4   education_id      21525 non-null  int64  \n",
      " 5   family_status     21525 non-null  object \n",
      " 6   family_status_id  21525 non-null  int64  \n",
      " 7   gender            21525 non-null  object \n",
      " 8   income_type       21525 non-null  object \n",
      " 9   debt              21525 non-null  int64  \n",
      " 10  total_income      19351 non-null  float64\n",
      " 11  purpose           21525 non-null  object \n",
      "dtypes: float64(2), int64(5), object(5)\n",
      "memory usage: 2.0+ MB\n"
     ]
    }
   ],
   "source": [
    "customer_solvency.info()"
   ]
  },
  {
   "cell_type": "markdown",
   "metadata": {},
   "source": [
    "**Вывод**"
   ]
  },
  {
   "cell_type": "markdown",
   "metadata": {},
   "source": [
    "Итак, в каждой строке таблицы информация о заемщике - о его семейном, финансовом положении и целях кредита.\n",
    "**Особенности:**\n",
    "* В столбце `days_employed` встречаются отрицательные значения &#129300;\n",
    "* В столбце `education` есть дубликаты с различным регистром (возможно `education_id` решает эту проблему )\n",
    "* В столбце `days_employed`, `total_income` есть пропуски в одинаковом количестве &#129300;"
   ]
  },
  {
   "cell_type": "markdown",
   "metadata": {},
   "source": [
    "<a id=\"preprocessing\"></a>\n",
    "## Шаг 2. Предобработка данных"
   ]
  },
  {
   "cell_type": "markdown",
   "metadata": {},
   "source": [
    "<a id=\"nan\"></a>\n",
    "### Обработка пропусков"
   ]
  },
  {
   "cell_type": "code",
   "execution_count": 4,
   "metadata": {},
   "outputs": [
    {
     "data": {
      "text/plain": [
       "children               0\n",
       "days_employed       2174\n",
       "dob_years              0\n",
       "education              0\n",
       "education_id           0\n",
       "family_status          0\n",
       "family_status_id       0\n",
       "gender                 0\n",
       "income_type            0\n",
       "debt                   0\n",
       "total_income        2174\n",
       "purpose                0\n",
       "dtype: int64"
      ]
     },
     "execution_count": 4,
     "metadata": {},
     "output_type": "execute_result"
    }
   ],
   "source": [
    "customer_solvency.isna().sum()"
   ]
  },
  {
   "cell_type": "code",
   "execution_count": 5,
   "metadata": {},
   "outputs": [
    {
     "data": {
      "text/plain": [
       "children            0.000000\n",
       "days_employed       0.100999\n",
       "dob_years           0.000000\n",
       "education           0.000000\n",
       "education_id        0.000000\n",
       "family_status       0.000000\n",
       "family_status_id    0.000000\n",
       "gender              0.000000\n",
       "income_type         0.000000\n",
       "debt                0.000000\n",
       "total_income        0.100999\n",
       "purpose             0.000000\n",
       "dtype: float64"
      ]
     },
     "execution_count": 5,
     "metadata": {},
     "output_type": "execute_result"
    }
   ],
   "source": [
    "customer_solvency.isna().mean()"
   ]
  },
  {
   "cell_type": "markdown",
   "metadata": {},
   "source": [
    "Все пропущенные значения **NaN** => причина пропуска - отсутствие данных. Количество пропусков в столбцах одинаково, возможно это одни и теже строки. Проверим предположение"
   ]
  },
  {
   "cell_type": "code",
   "execution_count": 6,
   "metadata": {},
   "outputs": [
    {
     "data": {
      "text/html": [
       "<div>\n",
       "<style scoped>\n",
       "    .dataframe tbody tr th:only-of-type {\n",
       "        vertical-align: middle;\n",
       "    }\n",
       "\n",
       "    .dataframe tbody tr th {\n",
       "        vertical-align: top;\n",
       "    }\n",
       "\n",
       "    .dataframe thead th {\n",
       "        text-align: right;\n",
       "    }\n",
       "</style>\n",
       "<table border=\"1\" class=\"dataframe\">\n",
       "  <thead>\n",
       "    <tr style=\"text-align: right;\">\n",
       "      <th></th>\n",
       "      <th>children</th>\n",
       "      <th>days_employed</th>\n",
       "      <th>dob_years</th>\n",
       "      <th>education</th>\n",
       "      <th>education_id</th>\n",
       "      <th>family_status</th>\n",
       "      <th>family_status_id</th>\n",
       "      <th>gender</th>\n",
       "      <th>income_type</th>\n",
       "      <th>debt</th>\n",
       "      <th>total_income</th>\n",
       "      <th>purpose</th>\n",
       "    </tr>\n",
       "  </thead>\n",
       "  <tbody>\n",
       "    <tr>\n",
       "      <th>12</th>\n",
       "      <td>0</td>\n",
       "      <td>NaN</td>\n",
       "      <td>65</td>\n",
       "      <td>среднее</td>\n",
       "      <td>1</td>\n",
       "      <td>гражданский брак</td>\n",
       "      <td>1</td>\n",
       "      <td>M</td>\n",
       "      <td>пенсионер</td>\n",
       "      <td>0</td>\n",
       "      <td>NaN</td>\n",
       "      <td>сыграть свадьбу</td>\n",
       "    </tr>\n",
       "    <tr>\n",
       "      <th>26</th>\n",
       "      <td>0</td>\n",
       "      <td>NaN</td>\n",
       "      <td>41</td>\n",
       "      <td>среднее</td>\n",
       "      <td>1</td>\n",
       "      <td>женат / замужем</td>\n",
       "      <td>0</td>\n",
       "      <td>M</td>\n",
       "      <td>госслужащий</td>\n",
       "      <td>0</td>\n",
       "      <td>NaN</td>\n",
       "      <td>образование</td>\n",
       "    </tr>\n",
       "    <tr>\n",
       "      <th>29</th>\n",
       "      <td>0</td>\n",
       "      <td>NaN</td>\n",
       "      <td>63</td>\n",
       "      <td>среднее</td>\n",
       "      <td>1</td>\n",
       "      <td>Не женат / не замужем</td>\n",
       "      <td>4</td>\n",
       "      <td>F</td>\n",
       "      <td>пенсионер</td>\n",
       "      <td>0</td>\n",
       "      <td>NaN</td>\n",
       "      <td>строительство жилой недвижимости</td>\n",
       "    </tr>\n",
       "    <tr>\n",
       "      <th>41</th>\n",
       "      <td>0</td>\n",
       "      <td>NaN</td>\n",
       "      <td>50</td>\n",
       "      <td>среднее</td>\n",
       "      <td>1</td>\n",
       "      <td>женат / замужем</td>\n",
       "      <td>0</td>\n",
       "      <td>F</td>\n",
       "      <td>госслужащий</td>\n",
       "      <td>0</td>\n",
       "      <td>NaN</td>\n",
       "      <td>сделка с подержанным автомобилем</td>\n",
       "    </tr>\n",
       "    <tr>\n",
       "      <th>55</th>\n",
       "      <td>0</td>\n",
       "      <td>NaN</td>\n",
       "      <td>54</td>\n",
       "      <td>среднее</td>\n",
       "      <td>1</td>\n",
       "      <td>гражданский брак</td>\n",
       "      <td>1</td>\n",
       "      <td>F</td>\n",
       "      <td>пенсионер</td>\n",
       "      <td>1</td>\n",
       "      <td>NaN</td>\n",
       "      <td>сыграть свадьбу</td>\n",
       "    </tr>\n",
       "  </tbody>\n",
       "</table>\n",
       "</div>"
      ],
      "text/plain": [
       "    children  days_employed  dob_years education  education_id  \\\n",
       "12         0            NaN         65   среднее             1   \n",
       "26         0            NaN         41   среднее             1   \n",
       "29         0            NaN         63   среднее             1   \n",
       "41         0            NaN         50   среднее             1   \n",
       "55         0            NaN         54   среднее             1   \n",
       "\n",
       "            family_status  family_status_id gender  income_type  debt  \\\n",
       "12       гражданский брак                 1      M    пенсионер     0   \n",
       "26        женат / замужем                 0      M  госслужащий     0   \n",
       "29  Не женат / не замужем                 4      F    пенсионер     0   \n",
       "41        женат / замужем                 0      F  госслужащий     0   \n",
       "55       гражданский брак                 1      F    пенсионер     1   \n",
       "\n",
       "    total_income                           purpose  \n",
       "12           NaN                   сыграть свадьбу  \n",
       "26           NaN                       образование  \n",
       "29           NaN  строительство жилой недвижимости  \n",
       "41           NaN  сделка с подержанным автомобилем  \n",
       "55           NaN                   сыграть свадьбу  "
      ]
     },
     "metadata": {},
     "output_type": "display_data"
    }
   ],
   "source": [
    "total_income_nan = customer_solvency[customer_solvency['total_income'].isna()]\n",
    "display(total_income_nan.head())"
   ]
  },
  {
   "cell_type": "code",
   "execution_count": 7,
   "metadata": {},
   "outputs": [
    {
     "data": {
      "text/plain": [
       "(2174, 12)"
      ]
     },
     "execution_count": 7,
     "metadata": {},
     "output_type": "execute_result"
    }
   ],
   "source": [
    "total_income_nan[total_income_nan['days_employed'].isna()].shape"
   ]
  },
  {
   "cell_type": "markdown",
   "metadata": {},
   "source": [
    "Действительно, строки совпадают. Нет стажа - нет дохода 🤔\n",
    "Т.к. `Нужно разобраться, влияет ли семейное положение и количество детей клиента на факт погашения кредита в срок`, то считаем, что столбец со стажем можно исключить. \n",
    "Чтобы заполнить пропуски в колонке с **доходами**, сгруппируем данные по **типу занятости** и заменим пропуски **медианным** значением"
   ]
  },
  {
   "cell_type": "code",
   "execution_count": 8,
   "metadata": {},
   "outputs": [
    {
     "data": {
      "text/html": [
       "<div>\n",
       "<style scoped>\n",
       "    .dataframe tbody tr th:only-of-type {\n",
       "        vertical-align: middle;\n",
       "    }\n",
       "\n",
       "    .dataframe tbody tr th {\n",
       "        vertical-align: top;\n",
       "    }\n",
       "\n",
       "    .dataframe thead th {\n",
       "        text-align: right;\n",
       "    }\n",
       "</style>\n",
       "<table border=\"1\" class=\"dataframe\">\n",
       "  <thead>\n",
       "    <tr style=\"text-align: right;\">\n",
       "      <th></th>\n",
       "      <th>children</th>\n",
       "      <th>dob_years</th>\n",
       "      <th>education</th>\n",
       "      <th>education_id</th>\n",
       "      <th>family_status</th>\n",
       "      <th>family_status_id</th>\n",
       "      <th>gender</th>\n",
       "      <th>income_type</th>\n",
       "      <th>debt</th>\n",
       "      <th>total_income</th>\n",
       "      <th>purpose</th>\n",
       "    </tr>\n",
       "  </thead>\n",
       "  <tbody>\n",
       "    <tr>\n",
       "      <th>0</th>\n",
       "      <td>1</td>\n",
       "      <td>42</td>\n",
       "      <td>высшее</td>\n",
       "      <td>0</td>\n",
       "      <td>женат / замужем</td>\n",
       "      <td>0</td>\n",
       "      <td>F</td>\n",
       "      <td>сотрудник</td>\n",
       "      <td>0</td>\n",
       "      <td>253875.639453</td>\n",
       "      <td>покупка жилья</td>\n",
       "    </tr>\n",
       "    <tr>\n",
       "      <th>1</th>\n",
       "      <td>1</td>\n",
       "      <td>36</td>\n",
       "      <td>среднее</td>\n",
       "      <td>1</td>\n",
       "      <td>женат / замужем</td>\n",
       "      <td>0</td>\n",
       "      <td>F</td>\n",
       "      <td>сотрудник</td>\n",
       "      <td>0</td>\n",
       "      <td>112080.014102</td>\n",
       "      <td>приобретение автомобиля</td>\n",
       "    </tr>\n",
       "    <tr>\n",
       "      <th>2</th>\n",
       "      <td>0</td>\n",
       "      <td>33</td>\n",
       "      <td>Среднее</td>\n",
       "      <td>1</td>\n",
       "      <td>женат / замужем</td>\n",
       "      <td>0</td>\n",
       "      <td>M</td>\n",
       "      <td>сотрудник</td>\n",
       "      <td>0</td>\n",
       "      <td>145885.952297</td>\n",
       "      <td>покупка жилья</td>\n",
       "    </tr>\n",
       "    <tr>\n",
       "      <th>3</th>\n",
       "      <td>3</td>\n",
       "      <td>32</td>\n",
       "      <td>среднее</td>\n",
       "      <td>1</td>\n",
       "      <td>женат / замужем</td>\n",
       "      <td>0</td>\n",
       "      <td>M</td>\n",
       "      <td>сотрудник</td>\n",
       "      <td>0</td>\n",
       "      <td>267628.550329</td>\n",
       "      <td>дополнительное образование</td>\n",
       "    </tr>\n",
       "    <tr>\n",
       "      <th>4</th>\n",
       "      <td>0</td>\n",
       "      <td>53</td>\n",
       "      <td>среднее</td>\n",
       "      <td>1</td>\n",
       "      <td>гражданский брак</td>\n",
       "      <td>1</td>\n",
       "      <td>F</td>\n",
       "      <td>пенсионер</td>\n",
       "      <td>0</td>\n",
       "      <td>158616.077870</td>\n",
       "      <td>сыграть свадьбу</td>\n",
       "    </tr>\n",
       "  </tbody>\n",
       "</table>\n",
       "</div>"
      ],
      "text/plain": [
       "   children  dob_years education  education_id     family_status  \\\n",
       "0         1         42    высшее             0   женат / замужем   \n",
       "1         1         36   среднее             1   женат / замужем   \n",
       "2         0         33   Среднее             1   женат / замужем   \n",
       "3         3         32   среднее             1   женат / замужем   \n",
       "4         0         53   среднее             1  гражданский брак   \n",
       "\n",
       "   family_status_id gender income_type  debt   total_income  \\\n",
       "0                 0      F   сотрудник     0  253875.639453   \n",
       "1                 0      F   сотрудник     0  112080.014102   \n",
       "2                 0      M   сотрудник     0  145885.952297   \n",
       "3                 0      M   сотрудник     0  267628.550329   \n",
       "4                 1      F   пенсионер     0  158616.077870   \n",
       "\n",
       "                      purpose  \n",
       "0               покупка жилья  \n",
       "1     приобретение автомобиля  \n",
       "2               покупка жилья  \n",
       "3  дополнительное образование  \n",
       "4             сыграть свадьбу  "
      ]
     },
     "metadata": {},
     "output_type": "display_data"
    }
   ],
   "source": [
    "customer_solvency.pop('days_employed')\n",
    "display(customer_solvency.head())"
   ]
  },
  {
   "cell_type": "code",
   "execution_count": 9,
   "metadata": {},
   "outputs": [
    {
     "data": {
      "text/plain": [
       "children            0\n",
       "dob_years           0\n",
       "education           0\n",
       "education_id        0\n",
       "family_status       0\n",
       "family_status_id    0\n",
       "gender              0\n",
       "income_type         0\n",
       "debt                0\n",
       "total_income        0\n",
       "purpose             0\n",
       "dtype: int64"
      ]
     },
     "metadata": {},
     "output_type": "display_data"
    }
   ],
   "source": [
    "customer_solvency['total_income'] = customer_solvency['total_income'].fillna(customer_solvency.groupby('income_type')['total_income'].transform('median'))\n",
    "display(customer_solvency.isna().sum())"
   ]
  },
  {
   "cell_type": "markdown",
   "metadata": {},
   "source": [
    "**Вывод**"
   ]
  },
  {
   "cell_type": "markdown",
   "metadata": {},
   "source": [
    "Выявили пропуски в двух колонках. Столбец `days_employed` был исключен, т.к. не будет использоваться в дальнейшем анализе, а пропуски в `total_income` заполнены медианными значениями по каждому типу занятости  "
   ]
  },
  {
   "cell_type": "markdown",
   "metadata": {},
   "source": [
    "<a id=\"type\"></a>\n",
    "### Замена типа данных"
   ]
  },
  {
   "cell_type": "code",
   "execution_count": 10,
   "metadata": {},
   "outputs": [
    {
     "name": "stdout",
     "output_type": "stream",
     "text": [
      "<class 'pandas.core.frame.DataFrame'>\n",
      "RangeIndex: 21525 entries, 0 to 21524\n",
      "Data columns (total 11 columns):\n",
      " #   Column            Non-Null Count  Dtype \n",
      "---  ------            --------------  ----- \n",
      " 0   children          21525 non-null  int64 \n",
      " 1   dob_years         21525 non-null  int64 \n",
      " 2   education         21525 non-null  object\n",
      " 3   education_id      21525 non-null  int64 \n",
      " 4   family_status     21525 non-null  object\n",
      " 5   family_status_id  21525 non-null  int64 \n",
      " 6   gender            21525 non-null  object\n",
      " 7   income_type       21525 non-null  object\n",
      " 8   debt              21525 non-null  int64 \n",
      " 9   total_income      21525 non-null  int64 \n",
      " 10  purpose           21525 non-null  object\n",
      "dtypes: int64(6), object(5)\n",
      "memory usage: 1.8+ MB\n"
     ]
    },
    {
     "data": {
      "text/plain": [
       "None"
      ]
     },
     "metadata": {},
     "output_type": "display_data"
    }
   ],
   "source": [
    "customer_solvency['total_income'] = customer_solvency['total_income'].astype('int64')\n",
    "display(customer_solvency.info())"
   ]
  },
  {
   "cell_type": "markdown",
   "metadata": {},
   "source": [
    "**Вывод**"
   ]
  },
  {
   "cell_type": "markdown",
   "metadata": {},
   "source": [
    "Заменили тип `total_income` на int64. Теперь количественные категории датасета одного типа"
   ]
  },
  {
   "cell_type": "markdown",
   "metadata": {},
   "source": [
    "<a id=\"duplicates\"></a>\n",
    "### Обработка дубликатов"
   ]
  },
  {
   "cell_type": "markdown",
   "metadata": {},
   "source": [
    "Выполним проверку на наличие неявных дубликатов в столбце `education` и приведем к одному регистру для их устранения"
   ]
  },
  {
   "cell_type": "code",
   "execution_count": 11,
   "metadata": {},
   "outputs": [
    {
     "data": {
      "text/plain": [
       "array(['ВЫСШЕЕ', 'Высшее', 'НАЧАЛЬНОЕ', 'НЕОКОНЧЕННОЕ ВЫСШЕЕ',\n",
       "       'Начальное', 'Неоконченное высшее', 'СРЕДНЕЕ', 'Среднее',\n",
       "       'УЧЕНАЯ СТЕПЕНЬ', 'Ученая степень', 'высшее', 'начальное',\n",
       "       'неоконченное высшее', 'среднее', 'ученая степень'], dtype=object)"
      ]
     },
     "execution_count": 11,
     "metadata": {},
     "output_type": "execute_result"
    }
   ],
   "source": [
    "customer_solvency['education'].sort_values().unique()"
   ]
  },
  {
   "cell_type": "code",
   "execution_count": 12,
   "metadata": {},
   "outputs": [],
   "source": [
    "customer_solvency['education'] = customer_solvency['education'].str.lower()"
   ]
  },
  {
   "cell_type": "code",
   "execution_count": 13,
   "metadata": {},
   "outputs": [
    {
     "data": {
      "text/plain": [
       "array(['высшее', 'начальное', 'неоконченное высшее', 'среднее',\n",
       "       'ученая степень'], dtype=object)"
      ]
     },
     "execution_count": 13,
     "metadata": {},
     "output_type": "execute_result"
    }
   ],
   "source": [
    "customer_solvency['education'].sort_values().unique()"
   ]
  },
  {
   "cell_type": "markdown",
   "metadata": {},
   "source": [
    "Выполним проверку на наличие явных дубликатов и удалим при обнаружении с помощью метода  drop_duplicates(), а метод reset_index(drop=True) восстановит правильную идексацию в наборе"
   ]
  },
  {
   "cell_type": "code",
   "execution_count": 14,
   "metadata": {},
   "outputs": [
    {
     "data": {
      "text/plain": [
       "71"
      ]
     },
     "execution_count": 14,
     "metadata": {},
     "output_type": "execute_result"
    }
   ],
   "source": [
    "customer_solvency.duplicated().sum()"
   ]
  },
  {
   "cell_type": "code",
   "execution_count": 15,
   "metadata": {},
   "outputs": [],
   "source": [
    "customer_solvency = customer_solvency.drop_duplicates().reset_index(drop=True)"
   ]
  },
  {
   "cell_type": "code",
   "execution_count": 16,
   "metadata": {},
   "outputs": [
    {
     "data": {
      "text/plain": [
       "0"
      ]
     },
     "execution_count": 16,
     "metadata": {},
     "output_type": "execute_result"
    }
   ],
   "source": [
    "customer_solvency.duplicated().sum()"
   ]
  },
  {
   "cell_type": "markdown",
   "metadata": {},
   "source": [
    "**Вывод**"
   ]
  },
  {
   "cell_type": "markdown",
   "metadata": {},
   "source": [
    "Итак, в наборе данных обнаружили и устранены явные и неявные дубликаты"
   ]
  },
  {
   "cell_type": "markdown",
   "metadata": {},
   "source": [
    "<a id=\"lemmas\"></a>\n",
    "### Лемматизация"
   ]
  },
  {
   "cell_type": "code",
   "execution_count": 17,
   "metadata": {},
   "outputs": [
    {
     "data": {
      "text/plain": [
       "['покупка жилье',\n",
       " 'приобретение автомобиль',\n",
       " 'дополнительный образование',\n",
       " 'сыграть свадьба',\n",
       " 'операция с жилье',\n",
       " 'образование',\n",
       " 'на проведение свадьба',\n",
       " 'покупка жилье для семья',\n",
       " 'покупка недвижимость',\n",
       " 'покупка коммерческий недвижимость',\n",
       " 'покупка жилой недвижимость',\n",
       " 'строительство собственный недвижимость',\n",
       " 'недвижимость',\n",
       " 'строительство недвижимость',\n",
       " 'на покупка подержать автомобиль',\n",
       " 'на покупка свой автомобиль',\n",
       " 'операция с коммерческий недвижимость',\n",
       " 'строительство жилой недвижимость',\n",
       " 'жилье',\n",
       " 'операция со свой недвижимость',\n",
       " 'автомобиль',\n",
       " 'заниматься образование',\n",
       " 'сделка с подержанный автомобиль',\n",
       " 'получение образование',\n",
       " 'автомобиль',\n",
       " 'свадьба',\n",
       " 'получение дополнительный образование',\n",
       " 'покупка свой жилье',\n",
       " 'операция с недвижимость',\n",
       " 'получение высокий образование',\n",
       " 'свой автомобиль',\n",
       " 'сделка с автомобиль',\n",
       " 'профильный образование',\n",
       " 'высокий образование',\n",
       " 'покупка жилье для сдача',\n",
       " 'на покупка автомобиль',\n",
       " 'ремонт жилье',\n",
       " 'заниматься высокий образование']"
      ]
     },
     "metadata": {},
     "output_type": "display_data"
    }
   ],
   "source": [
    "from pymystem3 import Mystem\n",
    "lemmas_list = []\n",
    "words_list =[]\n",
    "m = Mystem()\n",
    "unique_purpose_list = customer_solvency['purpose'].unique()\n",
    "for purpose in unique_purpose_list:\n",
    "    lemmas = ''.join(m.lemmatize(purpose)).strip() #лемматизация и удаление символа переноса строки\n",
    "    lemmas_list.append(lemmas)  \n",
    "display(lemmas_list)"
   ]
  },
  {
   "cell_type": "markdown",
   "metadata": {},
   "source": [
    "**Вывод**"
   ]
  },
  {
   "cell_type": "markdown",
   "metadata": {},
   "source": [
    "Определили уникальные цели кредита, лемматизировали каждую из них. Исходя из полученных данных, можно выделить 4 основные категории целей:\n",
    "* недвижимость\n",
    "* автомобиль\n",
    "* образование\n",
    "* свадьба\n",
    "\n",
    "Теперь сможем использовать их для категоризации данных по цели кредита"
   ]
  },
  {
   "cell_type": "code",
   "execution_count": 18,
   "metadata": {},
   "outputs": [
    {
     "data": {
      "text/plain": [
       "Counter({'покупка': 10,\n",
       "         'жилье': 7,\n",
       "         'приобретение': 1,\n",
       "         'автомобиль': 9,\n",
       "         'дополнительный': 2,\n",
       "         'образование': 9,\n",
       "         'сыграть': 1,\n",
       "         'свадьба': 3,\n",
       "         'операция': 4,\n",
       "         'с': 5,\n",
       "         'на': 4,\n",
       "         'проведение': 1,\n",
       "         'для': 2,\n",
       "         'семья': 1,\n",
       "         'недвижимость': 10,\n",
       "         'коммерческий': 2,\n",
       "         'жилой': 2,\n",
       "         'строительство': 3,\n",
       "         'собственный': 1,\n",
       "         'подержать': 1,\n",
       "         'свой': 4,\n",
       "         'со': 1,\n",
       "         'заниматься': 2,\n",
       "         'сделка': 2,\n",
       "         'подержанный': 1,\n",
       "         'получение': 3,\n",
       "         'высокий': 3,\n",
       "         'профильный': 1,\n",
       "         'сдача': 1,\n",
       "         'ремонт': 1})"
      ]
     },
     "execution_count": 18,
     "metadata": {},
     "output_type": "execute_result"
    }
   ],
   "source": [
    "from collections import Counter\n",
    "\n",
    "words_list = []\n",
    "for lemma in lemmas_list:\n",
    "    words_list += lemma.split()\n",
    "    \n",
    "Counter(words_list)"
   ]
  },
  {
   "cell_type": "markdown",
   "metadata": {},
   "source": [
    "<a id=\"category\"></a>\n",
    "### Категоризация данных"
   ]
  },
  {
   "cell_type": "markdown",
   "metadata": {},
   "source": [
    "Создадим  в наборе столбец `purpose_category`, в который запишем одну из упомянутых выше категорию. Для этого напишем функцию, которая принимает строку набора, лемматизирует ее столбец `purpose` и ищет в нем новую категорию"
   ]
  },
  {
   "cell_type": "code",
   "execution_count": 19,
   "metadata": {
    "scrolled": true
   },
   "outputs": [
    {
     "data": {
      "text/html": [
       "<div>\n",
       "<style scoped>\n",
       "    .dataframe tbody tr th:only-of-type {\n",
       "        vertical-align: middle;\n",
       "    }\n",
       "\n",
       "    .dataframe tbody tr th {\n",
       "        vertical-align: top;\n",
       "    }\n",
       "\n",
       "    .dataframe thead th {\n",
       "        text-align: right;\n",
       "    }\n",
       "</style>\n",
       "<table border=\"1\" class=\"dataframe\">\n",
       "  <thead>\n",
       "    <tr style=\"text-align: right;\">\n",
       "      <th></th>\n",
       "      <th>children</th>\n",
       "      <th>dob_years</th>\n",
       "      <th>education</th>\n",
       "      <th>education_id</th>\n",
       "      <th>family_status</th>\n",
       "      <th>family_status_id</th>\n",
       "      <th>gender</th>\n",
       "      <th>income_type</th>\n",
       "      <th>debt</th>\n",
       "      <th>total_income</th>\n",
       "      <th>purpose</th>\n",
       "      <th>purpose_category</th>\n",
       "    </tr>\n",
       "  </thead>\n",
       "  <tbody>\n",
       "    <tr>\n",
       "      <th>0</th>\n",
       "      <td>1</td>\n",
       "      <td>42</td>\n",
       "      <td>высшее</td>\n",
       "      <td>0</td>\n",
       "      <td>женат / замужем</td>\n",
       "      <td>0</td>\n",
       "      <td>F</td>\n",
       "      <td>сотрудник</td>\n",
       "      <td>0</td>\n",
       "      <td>253875</td>\n",
       "      <td>покупка жилья</td>\n",
       "      <td>недвижимость</td>\n",
       "    </tr>\n",
       "    <tr>\n",
       "      <th>1</th>\n",
       "      <td>1</td>\n",
       "      <td>36</td>\n",
       "      <td>среднее</td>\n",
       "      <td>1</td>\n",
       "      <td>женат / замужем</td>\n",
       "      <td>0</td>\n",
       "      <td>F</td>\n",
       "      <td>сотрудник</td>\n",
       "      <td>0</td>\n",
       "      <td>112080</td>\n",
       "      <td>приобретение автомобиля</td>\n",
       "      <td>автомобиль</td>\n",
       "    </tr>\n",
       "    <tr>\n",
       "      <th>2</th>\n",
       "      <td>0</td>\n",
       "      <td>33</td>\n",
       "      <td>среднее</td>\n",
       "      <td>1</td>\n",
       "      <td>женат / замужем</td>\n",
       "      <td>0</td>\n",
       "      <td>M</td>\n",
       "      <td>сотрудник</td>\n",
       "      <td>0</td>\n",
       "      <td>145885</td>\n",
       "      <td>покупка жилья</td>\n",
       "      <td>недвижимость</td>\n",
       "    </tr>\n",
       "    <tr>\n",
       "      <th>3</th>\n",
       "      <td>3</td>\n",
       "      <td>32</td>\n",
       "      <td>среднее</td>\n",
       "      <td>1</td>\n",
       "      <td>женат / замужем</td>\n",
       "      <td>0</td>\n",
       "      <td>M</td>\n",
       "      <td>сотрудник</td>\n",
       "      <td>0</td>\n",
       "      <td>267628</td>\n",
       "      <td>дополнительное образование</td>\n",
       "      <td>образование</td>\n",
       "    </tr>\n",
       "    <tr>\n",
       "      <th>4</th>\n",
       "      <td>0</td>\n",
       "      <td>53</td>\n",
       "      <td>среднее</td>\n",
       "      <td>1</td>\n",
       "      <td>гражданский брак</td>\n",
       "      <td>1</td>\n",
       "      <td>F</td>\n",
       "      <td>пенсионер</td>\n",
       "      <td>0</td>\n",
       "      <td>158616</td>\n",
       "      <td>сыграть свадьбу</td>\n",
       "      <td>свадьба</td>\n",
       "    </tr>\n",
       "  </tbody>\n",
       "</table>\n",
       "</div>"
      ],
      "text/plain": [
       "   children  dob_years education  education_id     family_status  \\\n",
       "0         1         42    высшее             0   женат / замужем   \n",
       "1         1         36   среднее             1   женат / замужем   \n",
       "2         0         33   среднее             1   женат / замужем   \n",
       "3         3         32   среднее             1   женат / замужем   \n",
       "4         0         53   среднее             1  гражданский брак   \n",
       "\n",
       "   family_status_id gender income_type  debt  total_income  \\\n",
       "0                 0      F   сотрудник     0        253875   \n",
       "1                 0      F   сотрудник     0        112080   \n",
       "2                 0      M   сотрудник     0        145885   \n",
       "3                 0      M   сотрудник     0        267628   \n",
       "4                 1      F   пенсионер     0        158616   \n",
       "\n",
       "                      purpose purpose_category  \n",
       "0               покупка жилья     недвижимость  \n",
       "1     приобретение автомобиля       автомобиль  \n",
       "2               покупка жилья     недвижимость  \n",
       "3  дополнительное образование      образование  \n",
       "4             сыграть свадьбу          свадьба  "
      ]
     },
     "metadata": {},
     "output_type": "display_data"
    }
   ],
   "source": [
    "def categorize_purpose(raw):\n",
    "    purpose_lemma = m.lemmatize(raw['purpose']) \n",
    "    if 'жилье' in purpose_lemma or 'недвижимость' in purpose_lemma:\n",
    "        return 'недвижимость'\n",
    "    if 'автомобиль' in purpose_lemma:\n",
    "        return 'автомобиль' \n",
    "    if 'образование' in purpose_lemma:\n",
    "        return 'образование'\n",
    "    if 'свадьба' in purpose_lemma:\n",
    "        return 'свадьба'\n",
    "customer_solvency['purpose_category'] = customer_solvency.apply(categorize_purpose, axis=1) # применим функцию \n",
    "                                                                            # categorize_purpose к каждой строке набора\n",
    "display(customer_solvency.head())"
   ]
  },
  {
   "cell_type": "code",
   "execution_count": 20,
   "metadata": {},
   "outputs": [
    {
     "data": {
      "text/plain": [
       "0"
      ]
     },
     "execution_count": 20,
     "metadata": {},
     "output_type": "execute_result"
    }
   ],
   "source": [
    "customer_solvency['purpose_category'].isna().sum()"
   ]
  },
  {
   "cell_type": "markdown",
   "metadata": {},
   "source": [
    "Добавим столбец `debt_category`, чтобы разделить на категории `нет задолженности` и `задолженность`"
   ]
  },
  {
   "cell_type": "code",
   "execution_count": 21,
   "metadata": {
    "scrolled": true
   },
   "outputs": [],
   "source": [
    "def categorize_debt(raw):\n",
    "    if raw['debt'] == 0:\n",
    "        return 'нет задолженности'\n",
    "    else:\n",
    "        return 'задолженность'\n",
    "customer_solvency['debt_category'] = customer_solvency.apply(categorize_debt, axis=1) # применим функцию \n",
    "                                                                            # categorize_debt к каждой строке набора\n"
   ]
  },
  {
   "cell_type": "markdown",
   "metadata": {},
   "source": [
    "Разделим на категории по доходам с помощью квартилей на:\n",
    "* нищий класс\n",
    "* бедный класс\n",
    "* средний класс\n",
    "* богатый класс"
   ]
  },
  {
   "cell_type": "code",
   "execution_count": 22,
   "metadata": {},
   "outputs": [
    {
     "data": {
      "text/html": [
       "<div>\n",
       "<style scoped>\n",
       "    .dataframe tbody tr th:only-of-type {\n",
       "        vertical-align: middle;\n",
       "    }\n",
       "\n",
       "    .dataframe tbody tr th {\n",
       "        vertical-align: top;\n",
       "    }\n",
       "\n",
       "    .dataframe thead th {\n",
       "        text-align: right;\n",
       "    }\n",
       "</style>\n",
       "<table border=\"1\" class=\"dataframe\">\n",
       "  <thead>\n",
       "    <tr style=\"text-align: right;\">\n",
       "      <th></th>\n",
       "      <th>children</th>\n",
       "      <th>dob_years</th>\n",
       "      <th>education</th>\n",
       "      <th>education_id</th>\n",
       "      <th>family_status</th>\n",
       "      <th>family_status_id</th>\n",
       "      <th>gender</th>\n",
       "      <th>income_type</th>\n",
       "      <th>debt</th>\n",
       "      <th>total_income</th>\n",
       "      <th>purpose</th>\n",
       "      <th>purpose_category</th>\n",
       "      <th>debt_category</th>\n",
       "      <th>income_category</th>\n",
       "    </tr>\n",
       "  </thead>\n",
       "  <tbody>\n",
       "    <tr>\n",
       "      <th>0</th>\n",
       "      <td>1</td>\n",
       "      <td>42</td>\n",
       "      <td>высшее</td>\n",
       "      <td>0</td>\n",
       "      <td>женат / замужем</td>\n",
       "      <td>0</td>\n",
       "      <td>F</td>\n",
       "      <td>сотрудник</td>\n",
       "      <td>0</td>\n",
       "      <td>253875</td>\n",
       "      <td>покупка жилья</td>\n",
       "      <td>недвижимость</td>\n",
       "      <td>нет задолженности</td>\n",
       "      <td>богатый класс</td>\n",
       "    </tr>\n",
       "    <tr>\n",
       "      <th>1</th>\n",
       "      <td>1</td>\n",
       "      <td>36</td>\n",
       "      <td>среднее</td>\n",
       "      <td>1</td>\n",
       "      <td>женат / замужем</td>\n",
       "      <td>0</td>\n",
       "      <td>F</td>\n",
       "      <td>сотрудник</td>\n",
       "      <td>0</td>\n",
       "      <td>112080</td>\n",
       "      <td>приобретение автомобиля</td>\n",
       "      <td>автомобиль</td>\n",
       "      <td>нет задолженности</td>\n",
       "      <td>бедный класс</td>\n",
       "    </tr>\n",
       "    <tr>\n",
       "      <th>2</th>\n",
       "      <td>0</td>\n",
       "      <td>33</td>\n",
       "      <td>среднее</td>\n",
       "      <td>1</td>\n",
       "      <td>женат / замужем</td>\n",
       "      <td>0</td>\n",
       "      <td>M</td>\n",
       "      <td>сотрудник</td>\n",
       "      <td>0</td>\n",
       "      <td>145885</td>\n",
       "      <td>покупка жилья</td>\n",
       "      <td>недвижимость</td>\n",
       "      <td>нет задолженности</td>\n",
       "      <td>средний класс</td>\n",
       "    </tr>\n",
       "    <tr>\n",
       "      <th>3</th>\n",
       "      <td>3</td>\n",
       "      <td>32</td>\n",
       "      <td>среднее</td>\n",
       "      <td>1</td>\n",
       "      <td>женат / замужем</td>\n",
       "      <td>0</td>\n",
       "      <td>M</td>\n",
       "      <td>сотрудник</td>\n",
       "      <td>0</td>\n",
       "      <td>267628</td>\n",
       "      <td>дополнительное образование</td>\n",
       "      <td>образование</td>\n",
       "      <td>нет задолженности</td>\n",
       "      <td>богатый класс</td>\n",
       "    </tr>\n",
       "    <tr>\n",
       "      <th>4</th>\n",
       "      <td>0</td>\n",
       "      <td>53</td>\n",
       "      <td>среднее</td>\n",
       "      <td>1</td>\n",
       "      <td>гражданский брак</td>\n",
       "      <td>1</td>\n",
       "      <td>F</td>\n",
       "      <td>пенсионер</td>\n",
       "      <td>0</td>\n",
       "      <td>158616</td>\n",
       "      <td>сыграть свадьбу</td>\n",
       "      <td>свадьба</td>\n",
       "      <td>нет задолженности</td>\n",
       "      <td>средний класс</td>\n",
       "    </tr>\n",
       "  </tbody>\n",
       "</table>\n",
       "</div>"
      ],
      "text/plain": [
       "   children  dob_years education  education_id     family_status  \\\n",
       "0         1         42    высшее             0   женат / замужем   \n",
       "1         1         36   среднее             1   женат / замужем   \n",
       "2         0         33   среднее             1   женат / замужем   \n",
       "3         3         32   среднее             1   женат / замужем   \n",
       "4         0         53   среднее             1  гражданский брак   \n",
       "\n",
       "   family_status_id gender income_type  debt  total_income  \\\n",
       "0                 0      F   сотрудник     0        253875   \n",
       "1                 0      F   сотрудник     0        112080   \n",
       "2                 0      M   сотрудник     0        145885   \n",
       "3                 0      M   сотрудник     0        267628   \n",
       "4                 1      F   пенсионер     0        158616   \n",
       "\n",
       "                      purpose purpose_category      debt_category  \\\n",
       "0               покупка жилья     недвижимость  нет задолженности   \n",
       "1     приобретение автомобиля       автомобиль  нет задолженности   \n",
       "2               покупка жилья     недвижимость  нет задолженности   \n",
       "3  дополнительное образование      образование  нет задолженности   \n",
       "4             сыграть свадьбу          свадьба  нет задолженности   \n",
       "\n",
       "  income_category  \n",
       "0   богатый класс  \n",
       "1    бедный класс  \n",
       "2   средний класс  \n",
       "3   богатый класс  \n",
       "4   средний класс  "
      ]
     },
     "metadata": {},
     "output_type": "display_data"
    }
   ],
   "source": [
    "def categorize_income(raw):\n",
    "    quantilies = customer_solvency['total_income'].quantile([0.25,0.5,0.75]).astype('int64')\n",
    "    if raw['total_income'] < quantilies[0.25]:\n",
    "        return 'нищий класс'\n",
    "    if quantilies[0.25] <= raw['total_income'] < quantilies[0.5]:\n",
    "        return 'бедный класс'\n",
    "    if quantilies[0.5] <= raw['total_income'] < quantilies[0.75]:\n",
    "        return 'средний класс'\n",
    "    if raw['total_income'] >= quantilies[0.75]:\n",
    "        return 'богатый класс'\n",
    "customer_solvency['income_category'] = customer_solvency.apply(categorize_income, axis=1) # применим функцию \n",
    "                                                                            # categorize_income к каждой строке набора\n",
    "display(customer_solvency.head())"
   ]
  },
  {
   "cell_type": "markdown",
   "metadata": {},
   "source": [
    "<a id=\"errors\"></a>\n",
    "### Ошибки в данных"
   ]
  },
  {
   "cell_type": "markdown",
   "metadata": {},
   "source": [
    "Проверим столбцы `children`, `dob_years`, `gender`, `debt`  на наличие нестандартных значений"
   ]
  },
  {
   "cell_type": "code",
   "execution_count": 23,
   "metadata": {
    "scrolled": false
   },
   "outputs": [
    {
     "name": "stdout",
     "output_type": "stream",
     "text": [
      " 0     14091\n",
      " 1      4808\n",
      " 2      2052\n",
      " 3       330\n",
      " 20       76\n",
      "-1        47\n",
      " 4        41\n",
      " 5         9\n",
      "Name: children, dtype: int64 \n",
      "\n",
      "\n",
      "35    616\n",
      "40    607\n",
      "41    605\n",
      "34    601\n",
      "38    597\n",
      "42    596\n",
      "33    581\n",
      "39    572\n",
      "31    559\n",
      "36    554\n",
      "44    545\n",
      "29    544\n",
      "30    537\n",
      "37    536\n",
      "48    536\n",
      "50    513\n",
      "43    512\n",
      "32    509\n",
      "49    508\n",
      "28    503\n",
      "45    496\n",
      "27    493\n",
      "52    484\n",
      "56    483\n",
      "47    477\n",
      "54    476\n",
      "46    472\n",
      "53    459\n",
      "57    456\n",
      "58    454\n",
      "51    446\n",
      "59    443\n",
      "55    443\n",
      "26    408\n",
      "60    374\n",
      "25    357\n",
      "61    354\n",
      "62    348\n",
      "63    269\n",
      "24    264\n",
      "64    260\n",
      "23    252\n",
      "65    193\n",
      "22    183\n",
      "66    182\n",
      "67    167\n",
      "21    111\n",
      "0     101\n",
      "68     99\n",
      "69     85\n",
      "70     65\n",
      "71     56\n",
      "20     51\n",
      "72     33\n",
      "19     14\n",
      "73      8\n",
      "74      6\n",
      "75      1\n",
      "Name: dob_years, dtype: int64 \n",
      "\n",
      "\n",
      "F      14174\n",
      "M       7279\n",
      "XNA        1\n",
      "Name: gender, dtype: int64 \n",
      "\n",
      "\n",
      "0    19713\n",
      "1     1741\n",
      "Name: debt, dtype: int64 \n",
      "\n",
      "\n"
     ]
    }
   ],
   "source": [
    "for column in ['children', 'dob_years', 'gender', 'debt']:\n",
    "    print(customer_solvency[column].value_counts(),'\\n\\n')"
   ]
  },
  {
   "cell_type": "markdown",
   "metadata": {},
   "source": [
    "Итак, работы прибавилось🙄\n",
    "* в столбце `gender` обнаружена личность, неопределившаяся с полом. ШТОШ, в такое время живем 🤐\n",
    "* в столбце `dob_years` обнаружены новорожденные с кредитами. ШТОШ, деньги нужны всем. Либо кто-то молодится и не указывает возраст, либо чьи-то махинации, черные делишки🤫\n",
    "* в столцсе `children` выявлены оооочень многодетные семьи, аж с 20-ю детьми. ШТОШ, люди мы недоверчивые, проверили в интернете, лишь одна семья на всю страну. Так что таких людей с кредитами максимум двое🧐 А также негативные семьи - семьи с отрицательным количеством детей, кому-то все-таки удалось родиться обратно🤡\n",
    "\n",
    "В целом, столбцы `gender` и `dob_years` для ответа на поставленные вопросы не нужны, поэтому имеем полное право их исключть. Но думать надо было раньше, а теперь работаем, исправляем😤"
   ]
  },
  {
   "cell_type": "markdown",
   "metadata": {},
   "source": [
    "Люди мы консервативные, поэтому личности с неопределенным полом даруем статус женщины - `F`. Дадим еще одной женщине кредит! От нас не убудет, статистика от этого не изменится, так как женщин с кредитами почти в 2 раза больше, чем мужчин"
   ]
  },
  {
   "cell_type": "code",
   "execution_count": 24,
   "metadata": {},
   "outputs": [],
   "source": [
    "customer_solvency['gender'] = customer_solvency['gender'].replace('XNA', 'F')"
   ]
  },
  {
   "cell_type": "markdown",
   "metadata": {},
   "source": [
    "Проверим"
   ]
  },
  {
   "cell_type": "code",
   "execution_count": 25,
   "metadata": {},
   "outputs": [
    {
     "data": {
      "text/html": [
       "<div>\n",
       "<style scoped>\n",
       "    .dataframe tbody tr th:only-of-type {\n",
       "        vertical-align: middle;\n",
       "    }\n",
       "\n",
       "    .dataframe tbody tr th {\n",
       "        vertical-align: top;\n",
       "    }\n",
       "\n",
       "    .dataframe thead th {\n",
       "        text-align: right;\n",
       "    }\n",
       "</style>\n",
       "<table border=\"1\" class=\"dataframe\">\n",
       "  <thead>\n",
       "    <tr style=\"text-align: right;\">\n",
       "      <th></th>\n",
       "      <th>children</th>\n",
       "      <th>dob_years</th>\n",
       "      <th>education</th>\n",
       "      <th>education_id</th>\n",
       "      <th>family_status</th>\n",
       "      <th>family_status_id</th>\n",
       "      <th>gender</th>\n",
       "      <th>income_type</th>\n",
       "      <th>debt</th>\n",
       "      <th>total_income</th>\n",
       "      <th>purpose</th>\n",
       "      <th>purpose_category</th>\n",
       "      <th>debt_category</th>\n",
       "      <th>income_category</th>\n",
       "    </tr>\n",
       "  </thead>\n",
       "  <tbody>\n",
       "  </tbody>\n",
       "</table>\n",
       "</div>"
      ],
      "text/plain": [
       "Empty DataFrame\n",
       "Columns: [children, dob_years, education, education_id, family_status, family_status_id, gender, income_type, debt, total_income, purpose, purpose_category, debt_category, income_category]\n",
       "Index: []"
      ]
     },
     "execution_count": 25,
     "metadata": {},
     "output_type": "execute_result"
    }
   ],
   "source": [
    "customer_solvency[customer_solvency['gender'] == 'XNA']"
   ]
  },
  {
   "cell_type": "markdown",
   "metadata": {},
   "source": [
    "Проблему с возрастом решим заменой `0` на `средний возраст`"
   ]
  },
  {
   "cell_type": "code",
   "execution_count": 26,
   "metadata": {},
   "outputs": [
    {
     "name": "stdout",
     "output_type": "stream",
     "text": [
      "43.271231471986574 42.0\n"
     ]
    }
   ],
   "source": [
    "print(customer_solvency['dob_years'].mean(),customer_solvency['dob_years'].median() )"
   ]
  },
  {
   "cell_type": "code",
   "execution_count": 27,
   "metadata": {},
   "outputs": [],
   "source": [
    "age_for_change = customer_solvency['dob_years'].mean().astype('int64')\n",
    "customer_solvency['dob_years'] = customer_solvency['dob_years'].replace(0,age_for_change )"
   ]
  },
  {
   "cell_type": "markdown",
   "metadata": {},
   "source": [
    "print(customer_solvency[customer_solvency['dob_years']==0])\n",
    "display(customer_solvency.head())\n",
    "customer_solvency['dob_years'] = customer_solvency['dob_years'].replace(0, customer_solvency.groupby('income_type')['dob_years'].transform('median'))\n",
    "display(customer_solvency.head())\n",
    "print(customer_solvency.loc[99])"
   ]
  },
  {
   "cell_type": "markdown",
   "metadata": {},
   "source": [
    "Проверим"
   ]
  },
  {
   "cell_type": "code",
   "execution_count": 28,
   "metadata": {},
   "outputs": [
    {
     "data": {
      "text/html": [
       "<div>\n",
       "<style scoped>\n",
       "    .dataframe tbody tr th:only-of-type {\n",
       "        vertical-align: middle;\n",
       "    }\n",
       "\n",
       "    .dataframe tbody tr th {\n",
       "        vertical-align: top;\n",
       "    }\n",
       "\n",
       "    .dataframe thead th {\n",
       "        text-align: right;\n",
       "    }\n",
       "</style>\n",
       "<table border=\"1\" class=\"dataframe\">\n",
       "  <thead>\n",
       "    <tr style=\"text-align: right;\">\n",
       "      <th></th>\n",
       "      <th>children</th>\n",
       "      <th>dob_years</th>\n",
       "      <th>education</th>\n",
       "      <th>education_id</th>\n",
       "      <th>family_status</th>\n",
       "      <th>family_status_id</th>\n",
       "      <th>gender</th>\n",
       "      <th>income_type</th>\n",
       "      <th>debt</th>\n",
       "      <th>total_income</th>\n",
       "      <th>purpose</th>\n",
       "      <th>purpose_category</th>\n",
       "      <th>debt_category</th>\n",
       "      <th>income_category</th>\n",
       "    </tr>\n",
       "  </thead>\n",
       "  <tbody>\n",
       "  </tbody>\n",
       "</table>\n",
       "</div>"
      ],
      "text/plain": [
       "Empty DataFrame\n",
       "Columns: [children, dob_years, education, education_id, family_status, family_status_id, gender, income_type, debt, total_income, purpose, purpose_category, debt_category, income_category]\n",
       "Index: []"
      ]
     },
     "execution_count": 28,
     "metadata": {},
     "output_type": "execute_result"
    }
   ],
   "source": [
    "customer_solvency[customer_solvency['dob_years'] == 0]"
   ]
  },
  {
   "cell_type": "markdown",
   "metadata": {},
   "source": [
    "Мы, конечно, не правительство, но проблему с детьми кто-то же должен решать. Так как удалять детей это бесчеловечно, то дабы отношение количества бездетных людей к людям с детьми изменилось минимально, создадим новый столбец `children_category` и установим:\n",
    "* `1_2_ребенка`, при условии 1 <= количество детей <= 2 \n",
    "* `нет детей` , если количество детей <= 0.\n",
    "* `многодетный`, если количество детей > 2"
   ]
  },
  {
   "cell_type": "code",
   "execution_count": 29,
   "metadata": {},
   "outputs": [
    {
     "name": "stdout",
     "output_type": "stream",
     "text": [
      "0.5399459308287499 0.0\n"
     ]
    }
   ],
   "source": [
    "print(customer_solvency['children'].mean(),customer_solvency['children'].median() )"
   ]
  },
  {
   "cell_type": "code",
   "execution_count": 30,
   "metadata": {},
   "outputs": [
    {
     "data": {
      "text/html": [
       "<div>\n",
       "<style scoped>\n",
       "    .dataframe tbody tr th:only-of-type {\n",
       "        vertical-align: middle;\n",
       "    }\n",
       "\n",
       "    .dataframe tbody tr th {\n",
       "        vertical-align: top;\n",
       "    }\n",
       "\n",
       "    .dataframe thead th {\n",
       "        text-align: right;\n",
       "    }\n",
       "</style>\n",
       "<table border=\"1\" class=\"dataframe\">\n",
       "  <thead>\n",
       "    <tr style=\"text-align: right;\">\n",
       "      <th></th>\n",
       "      <th>children</th>\n",
       "      <th>dob_years</th>\n",
       "      <th>education</th>\n",
       "      <th>education_id</th>\n",
       "      <th>family_status</th>\n",
       "      <th>family_status_id</th>\n",
       "      <th>gender</th>\n",
       "      <th>income_type</th>\n",
       "      <th>debt</th>\n",
       "      <th>total_income</th>\n",
       "      <th>purpose</th>\n",
       "      <th>purpose_category</th>\n",
       "      <th>debt_category</th>\n",
       "      <th>income_category</th>\n",
       "      <th>children_category</th>\n",
       "    </tr>\n",
       "  </thead>\n",
       "  <tbody>\n",
       "    <tr>\n",
       "      <th>0</th>\n",
       "      <td>1</td>\n",
       "      <td>42</td>\n",
       "      <td>высшее</td>\n",
       "      <td>0</td>\n",
       "      <td>женат / замужем</td>\n",
       "      <td>0</td>\n",
       "      <td>F</td>\n",
       "      <td>сотрудник</td>\n",
       "      <td>0</td>\n",
       "      <td>253875</td>\n",
       "      <td>покупка жилья</td>\n",
       "      <td>недвижимость</td>\n",
       "      <td>нет задолженности</td>\n",
       "      <td>богатый класс</td>\n",
       "      <td>1_2_ребенка</td>\n",
       "    </tr>\n",
       "    <tr>\n",
       "      <th>1</th>\n",
       "      <td>1</td>\n",
       "      <td>36</td>\n",
       "      <td>среднее</td>\n",
       "      <td>1</td>\n",
       "      <td>женат / замужем</td>\n",
       "      <td>0</td>\n",
       "      <td>F</td>\n",
       "      <td>сотрудник</td>\n",
       "      <td>0</td>\n",
       "      <td>112080</td>\n",
       "      <td>приобретение автомобиля</td>\n",
       "      <td>автомобиль</td>\n",
       "      <td>нет задолженности</td>\n",
       "      <td>бедный класс</td>\n",
       "      <td>1_2_ребенка</td>\n",
       "    </tr>\n",
       "    <tr>\n",
       "      <th>2</th>\n",
       "      <td>0</td>\n",
       "      <td>33</td>\n",
       "      <td>среднее</td>\n",
       "      <td>1</td>\n",
       "      <td>женат / замужем</td>\n",
       "      <td>0</td>\n",
       "      <td>M</td>\n",
       "      <td>сотрудник</td>\n",
       "      <td>0</td>\n",
       "      <td>145885</td>\n",
       "      <td>покупка жилья</td>\n",
       "      <td>недвижимость</td>\n",
       "      <td>нет задолженности</td>\n",
       "      <td>средний класс</td>\n",
       "      <td>нет детей</td>\n",
       "    </tr>\n",
       "    <tr>\n",
       "      <th>3</th>\n",
       "      <td>3</td>\n",
       "      <td>32</td>\n",
       "      <td>среднее</td>\n",
       "      <td>1</td>\n",
       "      <td>женат / замужем</td>\n",
       "      <td>0</td>\n",
       "      <td>M</td>\n",
       "      <td>сотрудник</td>\n",
       "      <td>0</td>\n",
       "      <td>267628</td>\n",
       "      <td>дополнительное образование</td>\n",
       "      <td>образование</td>\n",
       "      <td>нет задолженности</td>\n",
       "      <td>богатый класс</td>\n",
       "      <td>многодетный</td>\n",
       "    </tr>\n",
       "    <tr>\n",
       "      <th>4</th>\n",
       "      <td>0</td>\n",
       "      <td>53</td>\n",
       "      <td>среднее</td>\n",
       "      <td>1</td>\n",
       "      <td>гражданский брак</td>\n",
       "      <td>1</td>\n",
       "      <td>F</td>\n",
       "      <td>пенсионер</td>\n",
       "      <td>0</td>\n",
       "      <td>158616</td>\n",
       "      <td>сыграть свадьбу</td>\n",
       "      <td>свадьба</td>\n",
       "      <td>нет задолженности</td>\n",
       "      <td>средний класс</td>\n",
       "      <td>нет детей</td>\n",
       "    </tr>\n",
       "  </tbody>\n",
       "</table>\n",
       "</div>"
      ],
      "text/plain": [
       "   children  dob_years education  education_id     family_status  \\\n",
       "0         1         42    высшее             0   женат / замужем   \n",
       "1         1         36   среднее             1   женат / замужем   \n",
       "2         0         33   среднее             1   женат / замужем   \n",
       "3         3         32   среднее             1   женат / замужем   \n",
       "4         0         53   среднее             1  гражданский брак   \n",
       "\n",
       "   family_status_id gender income_type  debt  total_income  \\\n",
       "0                 0      F   сотрудник     0        253875   \n",
       "1                 0      F   сотрудник     0        112080   \n",
       "2                 0      M   сотрудник     0        145885   \n",
       "3                 0      M   сотрудник     0        267628   \n",
       "4                 1      F   пенсионер     0        158616   \n",
       "\n",
       "                      purpose purpose_category      debt_category  \\\n",
       "0               покупка жилья     недвижимость  нет задолженности   \n",
       "1     приобретение автомобиля       автомобиль  нет задолженности   \n",
       "2               покупка жилья     недвижимость  нет задолженности   \n",
       "3  дополнительное образование      образование  нет задолженности   \n",
       "4             сыграть свадьбу          свадьба  нет задолженности   \n",
       "\n",
       "  income_category children_category  \n",
       "0   богатый класс       1_2_ребенка  \n",
       "1    бедный класс       1_2_ребенка  \n",
       "2   средний класс         нет детей  \n",
       "3   богатый класс       многодетный  \n",
       "4   средний класс         нет детей  "
      ]
     },
     "metadata": {},
     "output_type": "display_data"
    }
   ],
   "source": [
    "def categorize_children(raw):\n",
    "    if raw['children'] <= 0:\n",
    "        return 'нет детей'\n",
    "    if 0 < raw['children'] <= 2:\n",
    "        return '1_2_ребенка'\n",
    "    else:\n",
    "        return 'многодетный'  \n",
    "customer_solvency['children_category'] = customer_solvency.apply(categorize_children, axis=1) # применим функцию \n",
    "                                                                            # categorize_children к каждой строке набора\n",
    "display(customer_solvency.head())"
   ]
  },
  {
   "cell_type": "markdown",
   "metadata": {},
   "source": [
    "**Вывод**"
   ]
  },
  {
   "cell_type": "markdown",
   "metadata": {},
   "source": [
    "Категоризировали данные по целям кредита,по задолженности, по уровню дохода, по количеству детей теперь сможем использовать эти столбцы для группировок. Пропусков в новых столбцах не обнаружено. Исправили нестандартные значения в столбцах с возрастом и полом. Можно приступать к проверки гипотез"
   ]
  },
  {
   "cell_type": "markdown",
   "metadata": {},
   "source": [
    "<a id=\"answers\"></a>\n",
    "## Шаг 3. Ответьте на вопросы"
   ]
  },
  {
   "cell_type": "markdown",
   "metadata": {},
   "source": [
    "- Есть ли зависимость между наличием детей и возвратом кредита в срок?"
   ]
  },
  {
   "cell_type": "code",
   "execution_count": 31,
   "metadata": {},
   "outputs": [],
   "source": [
    "import seaborn as sns\n",
    "def table_info(table):\n",
    "    debt_sum = table.sum(axis=1) #общее количество задолженностей\n",
    "\n",
    "    #children_debt_table['задолженность'][0]/(children_debt_table['задолженность'][0]\n",
    "    # + children_debt_table['задолженность'][1] + children_debt_table['нет задолженности'][0]) * 100\n",
    "    \n",
    "    debt_percent = [table['задолженность'][i]/debt_sum[i] * 100  for i in range(len(table['задолженность']))] # доля задолженности family_status\n",
    "                                                                         #от общего количества задолженностей\n",
    "    table['debt_percent'] = debt_percent\n",
    "    display(table)\n",
    "    sns.barplot(table.index, table['debt_percent'])\n"
   ]
  },
  {
   "cell_type": "code",
   "execution_count": 32,
   "metadata": {
    "scrolled": true
   },
   "outputs": [
    {
     "data": {
      "text/html": [
       "<div>\n",
       "<style scoped>\n",
       "    .dataframe tbody tr th:only-of-type {\n",
       "        vertical-align: middle;\n",
       "    }\n",
       "\n",
       "    .dataframe tbody tr th {\n",
       "        vertical-align: top;\n",
       "    }\n",
       "\n",
       "    .dataframe thead th {\n",
       "        text-align: right;\n",
       "    }\n",
       "</style>\n",
       "<table border=\"1\" class=\"dataframe\">\n",
       "  <thead>\n",
       "    <tr style=\"text-align: right;\">\n",
       "      <th>debt_category</th>\n",
       "      <th>задолженность</th>\n",
       "      <th>нет задолженности</th>\n",
       "      <th>debt_percent</th>\n",
       "    </tr>\n",
       "    <tr>\n",
       "      <th>children_category</th>\n",
       "      <th></th>\n",
       "      <th></th>\n",
       "      <th></th>\n",
       "    </tr>\n",
       "  </thead>\n",
       "  <tbody>\n",
       "    <tr>\n",
       "      <th>1_2_ребенка</th>\n",
       "      <td>638</td>\n",
       "      <td>6222</td>\n",
       "      <td>9.300292</td>\n",
       "    </tr>\n",
       "    <tr>\n",
       "      <th>многодетный</th>\n",
       "      <td>39</td>\n",
       "      <td>417</td>\n",
       "      <td>8.552632</td>\n",
       "    </tr>\n",
       "    <tr>\n",
       "      <th>нет детей</th>\n",
       "      <td>1064</td>\n",
       "      <td>13074</td>\n",
       "      <td>7.525817</td>\n",
       "    </tr>\n",
       "  </tbody>\n",
       "</table>\n",
       "</div>"
      ],
      "text/plain": [
       "debt_category      задолженность  нет задолженности  debt_percent\n",
       "children_category                                                \n",
       "1_2_ребенка                  638               6222      9.300292\n",
       "многодетный                   39                417      8.552632\n",
       "нет детей                   1064              13074      7.525817"
      ]
     },
     "metadata": {},
     "output_type": "display_data"
    },
    {
     "name": "stderr",
     "output_type": "stream",
     "text": [
      "/opt/conda/lib/python3.9/site-packages/seaborn/_decorators.py:36: FutureWarning: Pass the following variables as keyword args: x, y. From version 0.12, the only valid positional argument will be `data`, and passing other arguments without an explicit keyword will result in an error or misinterpretation.\n",
      "  warnings.warn(\n"
     ]
    },
    {
     "data": {
      "image/png": "[encoded data removed]",
      "text/plain": [
       "<Figure size 432x288 with 1 Axes>"
      ]
     },
     "metadata": {
      "needs_background": "light"
     },
     "output_type": "display_data"
    }
   ],
   "source": [
    "children_debt_table = customer_solvency.pivot_table(index=['children_category'], columns='debt_category',\n",
    "                                                    values='debt',aggfunc='count')\n",
    "\n",
    "table_info(children_debt_table)"
   ]
  },
  {
   "cell_type": "markdown",
   "metadata": {},
   "source": [
    "**Вывод**"
   ]
  },
  {
   "cell_type": "markdown",
   "metadata": {},
   "source": [
    "Исходя из полученного выше результата, можно сделат вывод, что наименьший процент должников среди категории `нет детей` и наибольший среди категории `1_2_ребенка`"
   ]
  },
  {
   "cell_type": "markdown",
   "metadata": {},
   "source": [
    "- Есть ли зависимость между семейным положением и возвратом кредита в срок?"
   ]
  },
  {
   "cell_type": "code",
   "execution_count": 33,
   "metadata": {},
   "outputs": [
    {
     "data": {
      "text/html": [
       "<div>\n",
       "<style scoped>\n",
       "    .dataframe tbody tr th:only-of-type {\n",
       "        vertical-align: middle;\n",
       "    }\n",
       "\n",
       "    .dataframe tbody tr th {\n",
       "        vertical-align: top;\n",
       "    }\n",
       "\n",
       "    .dataframe thead th {\n",
       "        text-align: right;\n",
       "    }\n",
       "</style>\n",
       "<table border=\"1\" class=\"dataframe\">\n",
       "  <thead>\n",
       "    <tr style=\"text-align: right;\">\n",
       "      <th>debt_category</th>\n",
       "      <th>задолженность</th>\n",
       "      <th>нет задолженности</th>\n",
       "      <th>debt_percent</th>\n",
       "    </tr>\n",
       "    <tr>\n",
       "      <th>family_status</th>\n",
       "      <th></th>\n",
       "      <th></th>\n",
       "      <th></th>\n",
       "    </tr>\n",
       "  </thead>\n",
       "  <tbody>\n",
       "    <tr>\n",
       "      <th>Не женат / не замужем</th>\n",
       "      <td>274</td>\n",
       "      <td>2536</td>\n",
       "      <td>9.750890</td>\n",
       "    </tr>\n",
       "    <tr>\n",
       "      <th>в разводе</th>\n",
       "      <td>85</td>\n",
       "      <td>1110</td>\n",
       "      <td>7.112971</td>\n",
       "    </tr>\n",
       "    <tr>\n",
       "      <th>вдовец / вдова</th>\n",
       "      <td>63</td>\n",
       "      <td>896</td>\n",
       "      <td>6.569343</td>\n",
       "    </tr>\n",
       "    <tr>\n",
       "      <th>гражданский брак</th>\n",
       "      <td>388</td>\n",
       "      <td>3763</td>\n",
       "      <td>9.347145</td>\n",
       "    </tr>\n",
       "    <tr>\n",
       "      <th>женат / замужем</th>\n",
       "      <td>931</td>\n",
       "      <td>11408</td>\n",
       "      <td>7.545182</td>\n",
       "    </tr>\n",
       "  </tbody>\n",
       "</table>\n",
       "</div>"
      ],
      "text/plain": [
       "debt_category          задолженность  нет задолженности  debt_percent\n",
       "family_status                                                        \n",
       "Не женат / не замужем            274               2536      9.750890\n",
       "в разводе                         85               1110      7.112971\n",
       "вдовец / вдова                    63                896      6.569343\n",
       "гражданский брак                 388               3763      9.347145\n",
       "женат / замужем                  931              11408      7.545182"
      ]
     },
     "metadata": {},
     "output_type": "display_data"
    },
    {
     "name": "stderr",
     "output_type": "stream",
     "text": [
      "/opt/conda/lib/python3.9/site-packages/seaborn/_decorators.py:36: FutureWarning: Pass the following variables as keyword args: x, y. From version 0.12, the only valid positional argument will be `data`, and passing other arguments without an explicit keyword will result in an error or misinterpretation.\n",
      "  warnings.warn(\n"
     ]
    },
    {
     "data": {
      "image/png": "[encoded data removed]",
      "text/plain": [
       "<Figure size 432x288 with 1 Axes>"
      ]
     },
     "metadata": {
      "needs_background": "light"
     },
     "output_type": "display_data"
    }
   ],
   "source": [
    "family_status_debt_table = customer_solvency.pivot_table(index=['family_status'], columns='debt_category', values='debt', aggfunc='count')\n",
    "\n",
    "table_info(family_status_debt_table)"
   ]
  },
  {
   "cell_type": "markdown",
   "metadata": {},
   "source": [
    "**Вывод**"
   ]
  },
  {
   "cell_type": "markdown",
   "metadata": {},
   "source": [
    "Наибольший процент задолженностей у людей со статусом `не женат/не замужем` и `гражданский брак`"
   ]
  },
  {
   "cell_type": "markdown",
   "metadata": {},
   "source": [
    "- Есть ли зависимость между уровнем дохода и возвратом кредита в срок?"
   ]
  },
  {
   "cell_type": "code",
   "execution_count": 34,
   "metadata": {},
   "outputs": [
    {
     "data": {
      "text/html": [
       "<div>\n",
       "<style scoped>\n",
       "    .dataframe tbody tr th:only-of-type {\n",
       "        vertical-align: middle;\n",
       "    }\n",
       "\n",
       "    .dataframe tbody tr th {\n",
       "        vertical-align: top;\n",
       "    }\n",
       "\n",
       "    .dataframe thead th {\n",
       "        text-align: right;\n",
       "    }\n",
       "</style>\n",
       "<table border=\"1\" class=\"dataframe\">\n",
       "  <thead>\n",
       "    <tr style=\"text-align: right;\">\n",
       "      <th>debt_category</th>\n",
       "      <th>задолженность</th>\n",
       "      <th>нет задолженности</th>\n",
       "      <th>debt_percent</th>\n",
       "    </tr>\n",
       "    <tr>\n",
       "      <th>income_category</th>\n",
       "      <th></th>\n",
       "      <th></th>\n",
       "      <th></th>\n",
       "    </tr>\n",
       "  </thead>\n",
       "  <tbody>\n",
       "    <tr>\n",
       "      <th>бедный класс</th>\n",
       "      <td>385</td>\n",
       "      <td>4024</td>\n",
       "      <td>8.732139</td>\n",
       "    </tr>\n",
       "    <tr>\n",
       "      <th>богатый класс</th>\n",
       "      <td>383</td>\n",
       "      <td>4981</td>\n",
       "      <td>7.140194</td>\n",
       "    </tr>\n",
       "    <tr>\n",
       "      <th>нищий класс</th>\n",
       "      <td>427</td>\n",
       "      <td>4937</td>\n",
       "      <td>7.960477</td>\n",
       "    </tr>\n",
       "    <tr>\n",
       "      <th>средний класс</th>\n",
       "      <td>546</td>\n",
       "      <td>5771</td>\n",
       "      <td>8.643343</td>\n",
       "    </tr>\n",
       "  </tbody>\n",
       "</table>\n",
       "</div>"
      ],
      "text/plain": [
       "debt_category    задолженность  нет задолженности  debt_percent\n",
       "income_category                                                \n",
       "бедный класс               385               4024      8.732139\n",
       "богатый класс              383               4981      7.140194\n",
       "нищий класс                427               4937      7.960477\n",
       "средний класс              546               5771      8.643343"
      ]
     },
     "metadata": {},
     "output_type": "display_data"
    },
    {
     "name": "stderr",
     "output_type": "stream",
     "text": [
      "/opt/conda/lib/python3.9/site-packages/seaborn/_decorators.py:36: FutureWarning: Pass the following variables as keyword args: x, y. From version 0.12, the only valid positional argument will be `data`, and passing other arguments without an explicit keyword will result in an error or misinterpretation.\n",
      "  warnings.warn(\n"
     ]
    },
    {
     "data": {
      "image/png": "[encoded data removed]",
      "text/plain": [
       "<Figure size 432x288 with 1 Axes>"
      ]
     },
     "metadata": {
      "needs_background": "light"
     },
     "output_type": "display_data"
    }
   ],
   "source": [
    "income_debt_table = customer_solvency.pivot_table(index=['income_category'], columns='debt_category', values='debt', aggfunc='count')\n",
    "\n",
    "table_info(income_debt_table)    "
   ]
  },
  {
   "cell_type": "markdown",
   "metadata": {},
   "source": [
    "**Вывод**"
   ]
  },
  {
   "cell_type": "markdown",
   "metadata": {},
   "source": [
    "Разделение по доходам указывает на то. что `бедный класс` имееет больше всего долгов. Хотя в целом уровень задолженностей приблизительно одинаков"
   ]
  },
  {
   "cell_type": "markdown",
   "metadata": {},
   "source": [
    "- Как разные цели кредита влияют на его возврат в срок?"
   ]
  },
  {
   "cell_type": "code",
   "execution_count": 35,
   "metadata": {},
   "outputs": [
    {
     "data": {
      "text/html": [
       "<div>\n",
       "<style scoped>\n",
       "    .dataframe tbody tr th:only-of-type {\n",
       "        vertical-align: middle;\n",
       "    }\n",
       "\n",
       "    .dataframe tbody tr th {\n",
       "        vertical-align: top;\n",
       "    }\n",
       "\n",
       "    .dataframe thead th {\n",
       "        text-align: right;\n",
       "    }\n",
       "</style>\n",
       "<table border=\"1\" class=\"dataframe\">\n",
       "  <thead>\n",
       "    <tr style=\"text-align: right;\">\n",
       "      <th>debt_category</th>\n",
       "      <th>задолженность</th>\n",
       "      <th>нет задолженности</th>\n",
       "      <th>debt_percent</th>\n",
       "    </tr>\n",
       "    <tr>\n",
       "      <th>purpose_category</th>\n",
       "      <th></th>\n",
       "      <th></th>\n",
       "      <th></th>\n",
       "    </tr>\n",
       "  </thead>\n",
       "  <tbody>\n",
       "    <tr>\n",
       "      <th>автомобиль</th>\n",
       "      <td>403</td>\n",
       "      <td>3903</td>\n",
       "      <td>9.359034</td>\n",
       "    </tr>\n",
       "    <tr>\n",
       "      <th>недвижимость</th>\n",
       "      <td>782</td>\n",
       "      <td>10029</td>\n",
       "      <td>7.233373</td>\n",
       "    </tr>\n",
       "    <tr>\n",
       "      <th>образование</th>\n",
       "      <td>370</td>\n",
       "      <td>3643</td>\n",
       "      <td>9.220035</td>\n",
       "    </tr>\n",
       "    <tr>\n",
       "      <th>свадьба</th>\n",
       "      <td>186</td>\n",
       "      <td>2138</td>\n",
       "      <td>8.003442</td>\n",
       "    </tr>\n",
       "  </tbody>\n",
       "</table>\n",
       "</div>"
      ],
      "text/plain": [
       "debt_category     задолженность  нет задолженности  debt_percent\n",
       "purpose_category                                                \n",
       "автомобиль                  403               3903      9.359034\n",
       "недвижимость                782              10029      7.233373\n",
       "образование                 370               3643      9.220035\n",
       "свадьба                     186               2138      8.003442"
      ]
     },
     "metadata": {},
     "output_type": "display_data"
    },
    {
     "name": "stderr",
     "output_type": "stream",
     "text": [
      "/opt/conda/lib/python3.9/site-packages/seaborn/_decorators.py:36: FutureWarning: Pass the following variables as keyword args: x, y. From version 0.12, the only valid positional argument will be `data`, and passing other arguments without an explicit keyword will result in an error or misinterpretation.\n",
      "  warnings.warn(\n"
     ]
    },
    {
     "data": {
      "image/png": "[encoded data removed]",
      "text/plain": [
       "<Figure size 432x288 with 1 Axes>"
      ]
     },
     "metadata": {
      "needs_background": "light"
     },
     "output_type": "display_data"
    }
   ],
   "source": [
    "purpose_category_debt_table = customer_solvency.pivot_table(index=['purpose_category'], columns='debt_category', values='debt', aggfunc='count')\n",
    "table_info(purpose_category_debt_table)"
   ]
  },
  {
   "cell_type": "markdown",
   "metadata": {},
   "source": [
    "**Вывод**"
   ]
  },
  {
   "cell_type": "markdown",
   "metadata": {},
   "source": [
    "Около половины всех займов берется с целью вложения в недвижимость и имеет наиболее редкие задолженности"
   ]
  },
  {
   "cell_type": "markdown",
   "metadata": {},
   "source": [
    "<a id=\"conclusion\"></a>\n",
    "## Шаг 4. Общий вывод"
   ]
  },
  {
   "cell_type": "markdown",
   "metadata": {},
   "source": [
    "Провели исследование надежности заемщиков.\n",
    "Ответили на четыре поставленных вопроса:\n",
    "1. Есть ли зависимость между наличием детей и возвратом кредита в срок?\n",
    "\n",
    "Установили, что люди с детьми наименее надежная категория для выдачи кредита\n",
    "\n",
    "2. Есть ли зависимость между семейным положением и возвратом кредита в срок?\n",
    "не женатые/не замужние люди наиболее склонны к накоплению долгов\n",
    "\n",
    "3. Есть ли зависимость между уровнем дохода и возвратом кредита в срок?\n",
    "Состоятельные граждане чаще возвращают займы в срок, но следует отметить, что средний класс является самым многочисленным по количеству займов. Следовательно, больше возвратов и больше долгов\n",
    "\n",
    "4. Как разные цели кредита влияют на его возврат в срок?\n",
    "Займы для недвижимости оказались самыми популярными и надежными\n",
    "\n"
   ]
  }
 ],
 "metadata": {
  "ExecuteTimeLog": [
   {
    "duration": 712,
    "start_time": "2022-01-10T15:17:23.036Z"
   },
   {
    "duration": 71,
    "start_time": "2022-01-10T15:22:55.429Z"
   },
   {
    "duration": 69,
    "start_time": "2022-01-10T15:27:33.449Z"
   },
   {
    "duration": 409,
    "start_time": "2022-01-11T18:58:10.754Z"
   },
   {
    "duration": 833,
    "start_time": "2022-01-11T18:58:17.723Z"
   },
   {
    "duration": 16,
    "start_time": "2022-01-11T18:58:21.701Z"
   },
   {
    "duration": 396,
    "start_time": "2022-01-11T19:04:16.771Z"
   },
   {
    "duration": 6,
    "start_time": "2022-01-11T19:04:23.023Z"
   },
   {
    "duration": 80,
    "start_time": "2022-01-11T20:31:48.625Z"
   },
   {
    "duration": 78,
    "start_time": "2022-01-11T20:32:01.026Z"
   },
   {
    "duration": 12,
    "start_time": "2022-01-11T21:02:02.576Z"
   },
   {
    "duration": 37,
    "start_time": "2022-01-11T21:38:22.627Z"
   },
   {
    "duration": 9,
    "start_time": "2022-01-11T21:39:38.564Z"
   },
   {
    "duration": 347,
    "start_time": "2022-01-11T21:41:39.786Z"
   },
   {
    "duration": 10,
    "start_time": "2022-01-11T21:42:27.056Z"
   },
   {
    "duration": 305,
    "start_time": "2022-01-12T19:17:55.155Z"
   },
   {
    "duration": 770,
    "start_time": "2022-01-12T19:18:21.539Z"
   },
   {
    "duration": 4,
    "start_time": "2022-01-12T19:18:22.311Z"
   },
   {
    "duration": 19,
    "start_time": "2022-01-12T19:18:22.317Z"
   },
   {
    "duration": 14,
    "start_time": "2022-01-12T19:18:22.337Z"
   },
   {
    "duration": 13,
    "start_time": "2022-01-12T19:18:22.353Z"
   },
   {
    "duration": 6,
    "start_time": "2022-01-12T19:18:22.367Z"
   },
   {
    "duration": -1338,
    "start_time": "2022-01-12T19:22:33.611Z"
   },
   {
    "duration": 7368,
    "start_time": "2022-01-12T19:22:48.174Z"
   },
   {
    "duration": 56,
    "start_time": "2022-01-12T19:25:57.957Z"
   },
   {
    "duration": 3,
    "start_time": "2022-01-12T19:25:58.015Z"
   },
   {
    "duration": 23,
    "start_time": "2022-01-12T19:25:58.020Z"
   },
   {
    "duration": 9,
    "start_time": "2022-01-12T19:25:58.045Z"
   },
   {
    "duration": 12,
    "start_time": "2022-01-12T19:26:36.716Z"
   },
   {
    "duration": 5,
    "start_time": "2022-01-12T19:27:33.084Z"
   },
   {
    "duration": 5,
    "start_time": "2022-01-12T19:27:58.824Z"
   },
   {
    "duration": 7,
    "start_time": "2022-01-12T19:34:29.517Z"
   },
   {
    "duration": 15,
    "start_time": "2022-01-12T19:35:34.438Z"
   },
   {
    "duration": 4,
    "start_time": "2022-01-12T19:36:38.517Z"
   },
   {
    "duration": 4,
    "start_time": "2022-01-12T19:37:04.067Z"
   },
   {
    "duration": 4,
    "start_time": "2022-01-12T19:37:33.567Z"
   },
   {
    "duration": 7,
    "start_time": "2022-01-12T19:37:56.318Z"
   },
   {
    "duration": 10,
    "start_time": "2022-01-12T19:39:50.874Z"
   },
   {
    "duration": 8,
    "start_time": "2022-01-12T19:41:20.467Z"
   },
   {
    "duration": 10,
    "start_time": "2022-01-12T19:41:42.244Z"
   },
   {
    "duration": 15,
    "start_time": "2022-01-12T19:42:41.176Z"
   },
   {
    "duration": 8,
    "start_time": "2022-01-12T20:25:09.490Z"
   },
   {
    "duration": 54,
    "start_time": "2022-01-12T20:25:18.117Z"
   },
   {
    "duration": 3,
    "start_time": "2022-01-12T20:25:18.173Z"
   },
   {
    "duration": 11,
    "start_time": "2022-01-12T20:25:18.177Z"
   },
   {
    "duration": 8,
    "start_time": "2022-01-12T20:25:18.189Z"
   },
   {
    "duration": 13,
    "start_time": "2022-01-12T20:25:18.198Z"
   },
   {
    "duration": 12,
    "start_time": "2022-01-12T20:25:41.427Z"
   },
   {
    "duration": 137,
    "start_time": "2022-01-12T20:36:13.557Z"
   },
   {
    "duration": 7736,
    "start_time": "2022-01-12T20:36:18.416Z"
   },
   {
    "duration": 7749,
    "start_time": "2022-01-12T20:36:46.676Z"
   },
   {
    "duration": 6,
    "start_time": "2022-01-12T20:37:29.907Z"
   },
   {
    "duration": 5,
    "start_time": "2022-01-12T20:39:47.767Z"
   },
   {
    "duration": 21,
    "start_time": "2022-01-12T20:41:19.670Z"
   },
   {
    "duration": 13,
    "start_time": "2022-01-12T20:41:27.506Z"
   },
   {
    "duration": 7,
    "start_time": "2022-01-12T21:07:03.457Z"
   },
   {
    "duration": 341,
    "start_time": "2022-01-12T22:00:05.024Z"
   },
   {
    "duration": 300,
    "start_time": "2022-01-12T22:05:08.673Z"
   },
   {
    "duration": 61,
    "start_time": "2022-01-12T22:06:29.088Z"
   },
   {
    "duration": 3,
    "start_time": "2022-01-12T22:06:29.151Z"
   },
   {
    "duration": 35,
    "start_time": "2022-01-12T22:06:29.156Z"
   },
   {
    "duration": 21,
    "start_time": "2022-01-12T22:06:29.193Z"
   },
   {
    "duration": 23,
    "start_time": "2022-01-12T22:06:29.216Z"
   },
   {
    "duration": 25,
    "start_time": "2022-01-12T22:06:29.241Z"
   },
   {
    "duration": 22,
    "start_time": "2022-01-12T22:06:29.268Z"
   },
   {
    "duration": 24,
    "start_time": "2022-01-12T22:06:29.292Z"
   },
   {
    "duration": 18,
    "start_time": "2022-01-12T22:06:29.318Z"
   },
   {
    "duration": 5,
    "start_time": "2022-01-12T22:17:29.247Z"
   },
   {
    "duration": 14,
    "start_time": "2022-01-12T22:18:49.868Z"
   },
   {
    "duration": 14,
    "start_time": "2022-01-12T22:19:01.527Z"
   },
   {
    "duration": 796,
    "start_time": "2022-01-14T05:16:46.630Z"
   },
   {
    "duration": 5,
    "start_time": "2022-01-14T05:16:47.428Z"
   },
   {
    "duration": 18,
    "start_time": "2022-01-14T05:16:47.436Z"
   },
   {
    "duration": 12,
    "start_time": "2022-01-14T05:16:47.456Z"
   },
   {
    "duration": 19,
    "start_time": "2022-01-14T05:16:47.470Z"
   },
   {
    "duration": 6,
    "start_time": "2022-01-14T05:16:47.523Z"
   },
   {
    "duration": 16,
    "start_time": "2022-01-14T05:16:47.531Z"
   },
   {
    "duration": 18,
    "start_time": "2022-01-14T05:16:47.550Z"
   },
   {
    "duration": 55,
    "start_time": "2022-01-14T05:16:47.570Z"
   },
   {
    "duration": 6,
    "start_time": "2022-01-14T05:16:47.627Z"
   },
   {
    "duration": 21,
    "start_time": "2022-01-14T05:16:47.635Z"
   },
   {
    "duration": 22,
    "start_time": "2022-01-14T05:18:14.582Z"
   },
   {
    "duration": 47,
    "start_time": "2022-01-14T05:21:15.539Z"
   },
   {
    "duration": 24,
    "start_time": "2022-01-14T05:21:57.716Z"
   },
   {
    "duration": 22,
    "start_time": "2022-01-14T05:22:31.712Z"
   },
   {
    "duration": 415,
    "start_time": "2022-01-14T05:23:52.112Z"
   },
   {
    "duration": 23,
    "start_time": "2022-01-14T05:23:58.864Z"
   },
   {
    "duration": 310,
    "start_time": "2022-01-14T05:26:43.044Z"
   },
   {
    "duration": 14,
    "start_time": "2022-01-14T05:28:25.118Z"
   },
   {
    "duration": 31,
    "start_time": "2022-01-14T05:28:43.733Z"
   },
   {
    "duration": 375,
    "start_time": "2022-01-14T05:29:21.026Z"
   },
   {
    "duration": 327,
    "start_time": "2022-01-14T05:29:46.606Z"
   },
   {
    "duration": 408,
    "start_time": "2022-01-14T16:48:24.574Z"
   },
   {
    "duration": 867,
    "start_time": "2022-01-14T16:48:51.713Z"
   },
   {
    "duration": 6,
    "start_time": "2022-01-14T16:48:52.583Z"
   },
   {
    "duration": 42,
    "start_time": "2022-01-14T16:48:52.592Z"
   },
   {
    "duration": 26,
    "start_time": "2022-01-14T16:48:52.639Z"
   },
   {
    "duration": 39,
    "start_time": "2022-01-14T16:48:52.668Z"
   },
   {
    "duration": 13,
    "start_time": "2022-01-14T16:48:52.710Z"
   },
   {
    "duration": 20,
    "start_time": "2022-01-14T16:48:52.725Z"
   },
   {
    "duration": 27,
    "start_time": "2022-01-14T16:48:52.748Z"
   },
   {
    "duration": 26,
    "start_time": "2022-01-14T16:48:52.817Z"
   },
   {
    "duration": 30,
    "start_time": "2022-01-14T16:48:52.846Z"
   },
   {
    "duration": 58,
    "start_time": "2022-01-14T16:48:52.879Z"
   },
   {
    "duration": 22,
    "start_time": "2022-01-14T16:48:52.940Z"
   },
   {
    "duration": 52,
    "start_time": "2022-01-14T16:48:52.964Z"
   },
   {
    "duration": 16,
    "start_time": "2022-01-14T16:48:53.019Z"
   },
   {
    "duration": 34,
    "start_time": "2022-01-14T16:48:53.037Z"
   },
   {
    "duration": 45,
    "start_time": "2022-01-14T16:48:53.074Z"
   },
   {
    "duration": 24,
    "start_time": "2022-01-14T16:55:55.099Z"
   },
   {
    "duration": 21,
    "start_time": "2022-01-14T16:56:00.965Z"
   },
   {
    "duration": 3673,
    "start_time": "2022-01-14T16:58:09.375Z"
   },
   {
    "duration": 22,
    "start_time": "2022-01-14T17:02:57.431Z"
   },
   {
    "duration": 21,
    "start_time": "2022-01-14T17:03:09.303Z"
   },
   {
    "duration": 74,
    "start_time": "2022-01-14T17:03:27.327Z"
   },
   {
    "duration": 5,
    "start_time": "2022-01-14T17:03:27.403Z"
   },
   {
    "duration": 16,
    "start_time": "2022-01-14T17:03:27.411Z"
   },
   {
    "duration": 12,
    "start_time": "2022-01-14T17:03:27.430Z"
   },
   {
    "duration": 31,
    "start_time": "2022-01-14T17:03:27.444Z"
   },
   {
    "duration": 6,
    "start_time": "2022-01-14T17:03:27.478Z"
   },
   {
    "duration": 43,
    "start_time": "2022-01-14T17:03:27.486Z"
   },
   {
    "duration": 30,
    "start_time": "2022-01-14T17:03:27.531Z"
   },
   {
    "duration": 19,
    "start_time": "2022-01-14T17:03:27.565Z"
   },
   {
    "duration": 44,
    "start_time": "2022-01-14T17:03:27.586Z"
   },
   {
    "duration": 24,
    "start_time": "2022-01-14T17:03:27.632Z"
   },
   {
    "duration": 44,
    "start_time": "2022-01-14T17:03:27.659Z"
   },
   {
    "duration": 36,
    "start_time": "2022-01-14T17:03:27.705Z"
   },
   {
    "duration": 25,
    "start_time": "2022-01-14T17:03:42.383Z"
   },
   {
    "duration": 23,
    "start_time": "2022-01-14T17:04:06.559Z"
   },
   {
    "duration": 22,
    "start_time": "2022-01-14T17:04:08.911Z"
   },
   {
    "duration": 237,
    "start_time": "2022-01-15T12:50:28.687Z"
   },
   {
    "duration": 926,
    "start_time": "2022-01-15T12:50:39.712Z"
   },
   {
    "duration": 6,
    "start_time": "2022-01-15T12:50:40.640Z"
   },
   {
    "duration": 59,
    "start_time": "2022-01-15T12:50:40.648Z"
   },
   {
    "duration": 57,
    "start_time": "2022-01-15T12:50:40.710Z"
   },
   {
    "duration": 40,
    "start_time": "2022-01-15T12:50:40.769Z"
   },
   {
    "duration": 20,
    "start_time": "2022-01-15T12:50:40.810Z"
   },
   {
    "duration": 42,
    "start_time": "2022-01-15T12:50:40.832Z"
   },
   {
    "duration": 37,
    "start_time": "2022-01-15T12:50:40.876Z"
   },
   {
    "duration": 31,
    "start_time": "2022-01-15T12:50:40.916Z"
   },
   {
    "duration": 50,
    "start_time": "2022-01-15T12:50:40.949Z"
   },
   {
    "duration": 37,
    "start_time": "2022-01-15T12:50:41.001Z"
   },
   {
    "duration": 68,
    "start_time": "2022-01-15T12:50:41.039Z"
   },
   {
    "duration": 37,
    "start_time": "2022-01-15T12:50:41.109Z"
   },
   {
    "duration": 48,
    "start_time": "2022-01-15T12:50:41.148Z"
   },
   {
    "duration": 36,
    "start_time": "2022-01-15T12:50:41.198Z"
   },
   {
    "duration": 6,
    "start_time": "2022-01-15T12:50:45.047Z"
   },
   {
    "duration": 262,
    "start_time": "2022-01-15T13:36:04.795Z"
   },
   {
    "duration": 7,
    "start_time": "2022-01-15T13:36:12.666Z"
   },
   {
    "duration": 213,
    "start_time": "2022-01-15T13:36:14.399Z"
   },
   {
    "duration": 4,
    "start_time": "2022-01-15T13:36:29.485Z"
   },
   {
    "duration": 837,
    "start_time": "2022-01-15T13:36:32.197Z"
   },
   {
    "duration": 921,
    "start_time": "2022-01-15T13:41:54.316Z"
   },
   {
    "duration": 877,
    "start_time": "2022-01-15T13:42:30.640Z"
   },
   {
    "duration": 837,
    "start_time": "2022-01-15T13:43:18.867Z"
   },
   {
    "duration": 833,
    "start_time": "2022-01-15T13:44:10.336Z"
   },
   {
    "duration": 825,
    "start_time": "2022-01-15T13:44:24.186Z"
   },
   {
    "duration": 934,
    "start_time": "2022-01-15T13:45:00.397Z"
   },
   {
    "duration": 210,
    "start_time": "2022-01-15T13:47:02.427Z"
   },
   {
    "duration": 629,
    "start_time": "2022-01-15T13:47:08.924Z"
   },
   {
    "duration": 651,
    "start_time": "2022-01-15T13:47:30.406Z"
   },
   {
    "duration": 4,
    "start_time": "2022-01-15T13:49:56.937Z"
   },
   {
    "duration": 5,
    "start_time": "2022-01-15T13:50:28.886Z"
   },
   {
    "duration": 626,
    "start_time": "2022-01-15T13:50:48.689Z"
   },
   {
    "duration": 689,
    "start_time": "2022-01-15T13:51:02.146Z"
   },
   {
    "duration": 694,
    "start_time": "2022-01-15T13:51:10.647Z"
   },
   {
    "duration": 225,
    "start_time": "2022-01-15T14:11:23.547Z"
   },
   {
    "duration": 6,
    "start_time": "2022-01-15T14:11:35.236Z"
   },
   {
    "duration": 7,
    "start_time": "2022-01-15T14:12:09.407Z"
   },
   {
    "duration": 5618,
    "start_time": "2022-01-15T14:19:38.995Z"
   },
   {
    "duration": 208,
    "start_time": "2022-01-15T14:19:59.737Z"
   },
   {
    "duration": 261,
    "start_time": "2022-01-15T14:20:21.786Z"
   },
   {
    "duration": 8,
    "start_time": "2022-01-15T14:20:30.926Z"
   },
   {
    "duration": 662,
    "start_time": "2022-01-15T14:21:28.346Z"
   },
   {
    "duration": 8,
    "start_time": "2022-01-15T14:21:33.307Z"
   },
   {
    "duration": 7,
    "start_time": "2022-01-15T14:21:43.727Z"
   },
   {
    "duration": 7,
    "start_time": "2022-01-15T14:22:05.411Z"
   },
   {
    "duration": 2691,
    "start_time": "2022-01-15T14:31:43.897Z"
   },
   {
    "duration": 2628,
    "start_time": "2022-01-15T14:33:15.346Z"
   },
   {
    "duration": 3333,
    "start_time": "2022-01-15T14:34:51.609Z"
   },
   {
    "duration": 6,
    "start_time": "2022-01-15T14:35:40.567Z"
   },
   {
    "duration": 5,
    "start_time": "2022-01-15T14:35:54.527Z"
   },
   {
    "duration": 6,
    "start_time": "2022-01-15T14:36:03.867Z"
   },
   {
    "duration": 6,
    "start_time": "2022-01-15T14:36:17.188Z"
   },
   {
    "duration": 5,
    "start_time": "2022-01-15T14:36:40.716Z"
   },
   {
    "duration": 6,
    "start_time": "2022-01-15T15:12:35.125Z"
   },
   {
    "duration": 7,
    "start_time": "2022-01-15T15:14:11.657Z"
   },
   {
    "duration": 6,
    "start_time": "2022-01-15T15:14:40.347Z"
   },
   {
    "duration": 6,
    "start_time": "2022-01-15T15:14:59.513Z"
   },
   {
    "duration": 10,
    "start_time": "2022-01-15T15:15:29.547Z"
   },
   {
    "duration": 350,
    "start_time": "2022-01-15T15:22:55.347Z"
   },
   {
    "duration": 34,
    "start_time": "2022-01-15T15:23:07.648Z"
   },
   {
    "duration": 30,
    "start_time": "2022-01-15T15:23:51.606Z"
   },
   {
    "duration": 29,
    "start_time": "2022-01-15T15:24:27.515Z"
   },
   {
    "duration": 223,
    "start_time": "2022-01-15T15:24:47.679Z"
   },
   {
    "duration": 33,
    "start_time": "2022-01-15T15:25:19.917Z"
   },
   {
    "duration": 36,
    "start_time": "2022-01-15T15:25:37.636Z"
   },
   {
    "duration": 30,
    "start_time": "2022-01-15T15:25:55.157Z"
   },
   {
    "duration": 41,
    "start_time": "2022-01-15T15:26:05.665Z"
   },
   {
    "duration": 11,
    "start_time": "2022-01-15T15:30:32.827Z"
   },
   {
    "duration": 5,
    "start_time": "2022-01-15T16:48:41.367Z"
   },
   {
    "duration": 5,
    "start_time": "2022-01-15T16:57:19.690Z"
   },
   {
    "duration": 231,
    "start_time": "2022-01-15T16:58:29.452Z"
   },
   {
    "duration": 16,
    "start_time": "2022-01-15T17:06:17.610Z"
   },
   {
    "duration": 4,
    "start_time": "2022-01-15T18:13:45.865Z"
   },
   {
    "duration": 9,
    "start_time": "2022-01-15T18:14:28.195Z"
   },
   {
    "duration": 5,
    "start_time": "2022-01-15T18:20:42.676Z"
   },
   {
    "duration": 6,
    "start_time": "2022-01-15T18:21:16.785Z"
   },
   {
    "duration": 3,
    "start_time": "2022-01-15T18:22:32.225Z"
   },
   {
    "duration": 4,
    "start_time": "2022-01-15T18:23:27.396Z"
   },
   {
    "duration": 9,
    "start_time": "2022-01-15T18:23:59.125Z"
   },
   {
    "duration": 7,
    "start_time": "2022-01-15T18:24:22.606Z"
   },
   {
    "duration": 6,
    "start_time": "2022-01-15T18:25:08.746Z"
   },
   {
    "duration": 7,
    "start_time": "2022-01-15T18:26:59.905Z"
   },
   {
    "duration": 219,
    "start_time": "2022-01-15T18:40:39.655Z"
   },
   {
    "duration": 219,
    "start_time": "2022-01-15T18:40:57.965Z"
   },
   {
    "duration": 211,
    "start_time": "2022-01-15T18:41:18.672Z"
   },
   {
    "duration": 21,
    "start_time": "2022-01-15T18:42:12.635Z"
   },
   {
    "duration": 19,
    "start_time": "2022-01-15T18:42:21.730Z"
   },
   {
    "duration": 202,
    "start_time": "2022-01-15T19:13:07.356Z"
   },
   {
    "duration": 21,
    "start_time": "2022-01-15T19:14:01.879Z"
   },
   {
    "duration": 213,
    "start_time": "2022-01-15T19:20:09.685Z"
   },
   {
    "duration": 207,
    "start_time": "2022-01-15T19:20:22.506Z"
   },
   {
    "duration": 211,
    "start_time": "2022-01-15T19:20:32.105Z"
   },
   {
    "duration": 213,
    "start_time": "2022-01-15T19:20:47.688Z"
   },
   {
    "duration": 216,
    "start_time": "2022-01-15T19:22:36.267Z"
   },
   {
    "duration": 227,
    "start_time": "2022-01-15T19:23:03.066Z"
   },
   {
    "duration": 60,
    "start_time": "2022-01-15T19:24:01.547Z"
   },
   {
    "duration": 4,
    "start_time": "2022-01-15T19:24:01.609Z"
   },
   {
    "duration": 28,
    "start_time": "2022-01-15T19:24:01.615Z"
   },
   {
    "duration": 57,
    "start_time": "2022-01-15T19:24:01.645Z"
   },
   {
    "duration": 18,
    "start_time": "2022-01-15T19:24:01.704Z"
   },
   {
    "duration": 17,
    "start_time": "2022-01-15T19:24:01.724Z"
   },
   {
    "duration": 17,
    "start_time": "2022-01-15T19:24:01.742Z"
   },
   {
    "duration": 37,
    "start_time": "2022-01-15T19:24:01.761Z"
   },
   {
    "duration": 18,
    "start_time": "2022-01-15T19:24:01.802Z"
   },
   {
    "duration": 23,
    "start_time": "2022-01-15T19:24:01.823Z"
   },
   {
    "duration": 28,
    "start_time": "2022-01-15T19:24:01.848Z"
   },
   {
    "duration": 40,
    "start_time": "2022-01-15T19:24:01.877Z"
   },
   {
    "duration": 45,
    "start_time": "2022-01-15T19:24:01.919Z"
   },
   {
    "duration": 24,
    "start_time": "2022-01-15T19:24:01.966Z"
   },
   {
    "duration": 37,
    "start_time": "2022-01-15T19:24:01.991Z"
   },
   {
    "duration": 663,
    "start_time": "2022-01-15T19:24:02.029Z"
   },
   {
    "duration": 3648,
    "start_time": "2022-01-15T19:24:02.694Z"
   },
   {
    "duration": 5,
    "start_time": "2022-01-15T19:24:06.344Z"
   },
   {
    "duration": 221,
    "start_time": "2022-01-15T19:24:06.350Z"
   },
   {
    "duration": 10,
    "start_time": "2022-01-15T19:24:06.572Z"
   },
   {
    "duration": 10,
    "start_time": "2022-01-15T19:24:06.583Z"
   },
   {
    "duration": 14,
    "start_time": "2022-01-15T19:24:06.594Z"
   },
   {
    "duration": 4,
    "start_time": "2022-01-15T19:24:06.609Z"
   },
   {
    "duration": 4,
    "start_time": "2022-01-15T19:24:06.614Z"
   },
   {
    "duration": 23,
    "start_time": "2022-01-15T19:24:06.619Z"
   },
   {
    "duration": 29,
    "start_time": "2022-01-15T19:24:06.644Z"
   },
   {
    "duration": 16,
    "start_time": "2022-01-15T19:24:06.676Z"
   },
   {
    "duration": 237,
    "start_time": "2022-01-15T19:24:06.693Z"
   },
   {
    "duration": 21,
    "start_time": "2022-01-15T19:24:54.105Z"
   },
   {
    "duration": 17,
    "start_time": "2022-01-15T19:27:11.706Z"
   },
   {
    "duration": 185,
    "start_time": "2022-01-15T19:30:05.545Z"
   },
   {
    "duration": 17,
    "start_time": "2022-01-15T19:30:27.115Z"
   },
   {
    "duration": 4,
    "start_time": "2022-01-15T19:30:38.006Z"
   },
   {
    "duration": 4,
    "start_time": "2022-01-15T19:30:56.517Z"
   },
   {
    "duration": 4,
    "start_time": "2022-01-15T19:31:06.973Z"
   },
   {
    "duration": 227,
    "start_time": "2022-01-15T20:10:50.285Z"
   },
   {
    "duration": 19,
    "start_time": "2022-01-15T20:10:56.985Z"
   },
   {
    "duration": 18,
    "start_time": "2022-01-15T20:12:16.525Z"
   },
   {
    "duration": 5,
    "start_time": "2022-01-15T21:28:00.946Z"
   },
   {
    "duration": 5651,
    "start_time": "2022-01-15T21:28:12.327Z"
   },
   {
    "duration": 4,
    "start_time": "2022-01-15T21:28:24.883Z"
   },
   {
    "duration": 4,
    "start_time": "2022-01-15T21:29:22.826Z"
   },
   {
    "duration": 6,
    "start_time": "2022-01-15T21:48:06.586Z"
   },
   {
    "duration": 6,
    "start_time": "2022-01-15T21:49:18.295Z"
   },
   {
    "duration": 6,
    "start_time": "2022-01-15T21:50:25.364Z"
   },
   {
    "duration": 7,
    "start_time": "2022-01-15T21:50:56.290Z"
   },
   {
    "duration": 4846,
    "start_time": "2022-01-15T21:51:07.286Z"
   },
   {
    "duration": 7,
    "start_time": "2022-01-15T21:51:17.766Z"
   },
   {
    "duration": 3597,
    "start_time": "2022-01-15T21:51:45.644Z"
   },
   {
    "duration": 7,
    "start_time": "2022-01-15T21:52:22.746Z"
   },
   {
    "duration": 6,
    "start_time": "2022-01-15T21:52:36.316Z"
   },
   {
    "duration": 11467,
    "start_time": "2022-01-15T21:54:09.175Z"
   },
   {
    "duration": 6,
    "start_time": "2022-01-15T21:54:22.426Z"
   },
   {
    "duration": 5382,
    "start_time": "2022-01-15T21:54:47.736Z"
   },
   {
    "duration": 6,
    "start_time": "2022-01-15T21:55:09.018Z"
   },
   {
    "duration": 6,
    "start_time": "2022-01-15T21:55:24.106Z"
   },
   {
    "duration": 216,
    "start_time": "2022-01-15T21:56:03.074Z"
   },
   {
    "duration": 7,
    "start_time": "2022-01-15T21:56:19.145Z"
   },
   {
    "duration": 6,
    "start_time": "2022-01-15T21:56:30.730Z"
   },
   {
    "duration": 8,
    "start_time": "2022-01-15T21:57:15.635Z"
   },
   {
    "duration": 8,
    "start_time": "2022-01-15T21:59:50.236Z"
   },
   {
    "duration": 31692,
    "start_time": "2022-01-15T22:09:45.425Z"
   },
   {
    "duration": 60,
    "start_time": "2022-01-15T22:11:13.617Z"
   },
   {
    "duration": 3,
    "start_time": "2022-01-15T22:11:13.679Z"
   },
   {
    "duration": 13,
    "start_time": "2022-01-15T22:11:13.684Z"
   },
   {
    "duration": 11,
    "start_time": "2022-01-15T22:11:13.698Z"
   },
   {
    "duration": 16,
    "start_time": "2022-01-15T22:11:13.710Z"
   },
   {
    "duration": 18,
    "start_time": "2022-01-15T22:11:13.727Z"
   },
   {
    "duration": 12,
    "start_time": "2022-01-15T22:11:13.746Z"
   },
   {
    "duration": 14,
    "start_time": "2022-01-15T22:11:13.759Z"
   },
   {
    "duration": 11,
    "start_time": "2022-01-15T22:11:13.775Z"
   },
   {
    "duration": 13,
    "start_time": "2022-01-15T22:11:13.788Z"
   },
   {
    "duration": 11,
    "start_time": "2022-01-15T22:11:13.803Z"
   },
   {
    "duration": 46,
    "start_time": "2022-01-15T22:11:13.815Z"
   },
   {
    "duration": 13,
    "start_time": "2022-01-15T22:11:13.863Z"
   },
   {
    "duration": 15,
    "start_time": "2022-01-15T22:11:13.878Z"
   },
   {
    "duration": 13,
    "start_time": "2022-01-15T22:11:13.894Z"
   },
   {
    "duration": 666,
    "start_time": "2022-01-15T22:11:13.908Z"
   },
   {
    "duration": 3318,
    "start_time": "2022-01-15T22:11:14.576Z"
   },
   {
    "duration": 6,
    "start_time": "2022-01-15T22:11:17.896Z"
   },
   {
    "duration": 222,
    "start_time": "2022-01-15T22:11:17.904Z"
   },
   {
    "duration": 212,
    "start_time": "2022-01-15T22:11:22.512Z"
   },
   {
    "duration": 31324,
    "start_time": "2022-01-15T22:11:29.126Z"
   },
   {
    "duration": 31442,
    "start_time": "2022-01-15T22:13:43.906Z"
   },
   {
    "duration": 31751,
    "start_time": "2022-01-15T22:14:47.904Z"
   },
   {
    "duration": 208,
    "start_time": "2022-01-15T22:20:20.036Z"
   },
   {
    "duration": 215,
    "start_time": "2022-01-15T22:27:43.866Z"
   },
   {
    "duration": 261,
    "start_time": "2022-01-15T22:35:05.429Z"
   },
   {
    "duration": 19,
    "start_time": "2022-01-15T22:35:32.746Z"
   },
   {
    "duration": 198,
    "start_time": "2022-01-15T22:37:42.165Z"
   },
   {
    "duration": 17,
    "start_time": "2022-01-15T22:40:02.015Z"
   },
   {
    "duration": 303,
    "start_time": "2022-01-15T22:44:32.383Z"
   },
   {
    "duration": 210,
    "start_time": "2022-01-15T22:44:55.248Z"
   },
   {
    "duration": 216,
    "start_time": "2022-01-15T22:45:12.266Z"
   },
   {
    "duration": 225,
    "start_time": "2022-01-15T22:45:20.137Z"
   },
   {
    "duration": 217,
    "start_time": "2022-01-15T22:47:14.915Z"
   },
   {
    "duration": 5340,
    "start_time": "2022-01-15T22:47:42.026Z"
   },
   {
    "duration": 16,
    "start_time": "2022-01-15T22:48:13.722Z"
   },
   {
    "duration": 17,
    "start_time": "2022-01-15T22:50:04.754Z"
   },
   {
    "duration": 218,
    "start_time": "2022-01-15T22:50:23.946Z"
   },
   {
    "duration": 16,
    "start_time": "2022-01-15T22:51:09.115Z"
   },
   {
    "duration": 205,
    "start_time": "2022-01-15T22:51:24.356Z"
   },
   {
    "duration": 160,
    "start_time": "2022-01-15T22:51:54.645Z"
   },
   {
    "duration": 274,
    "start_time": "2022-01-15T22:52:39.795Z"
   },
   {
    "duration": 66,
    "start_time": "2022-01-15T22:53:04.644Z"
   },
   {
    "duration": 18,
    "start_time": "2022-01-15T22:53:11.916Z"
   },
   {
    "duration": 4761,
    "start_time": "2022-01-15T22:58:38.856Z"
   },
   {
    "duration": 4445,
    "start_time": "2022-01-15T22:59:21.073Z"
   },
   {
    "duration": 19,
    "start_time": "2022-01-15T23:00:18.861Z"
   },
   {
    "duration": 188,
    "start_time": "2022-01-15T23:02:25.546Z"
   },
   {
    "duration": 20,
    "start_time": "2022-01-15T23:02:35.986Z"
   },
   {
    "duration": 63,
    "start_time": "2022-01-15T23:05:50.346Z"
   },
   {
    "duration": 61,
    "start_time": "2022-01-15T23:05:56.207Z"
   },
   {
    "duration": 76,
    "start_time": "2022-01-15T23:06:03.635Z"
   },
   {
    "duration": 16,
    "start_time": "2022-01-15T23:06:14.094Z"
   },
   {
    "duration": 202,
    "start_time": "2022-01-15T23:06:29.037Z"
   },
   {
    "duration": 23,
    "start_time": "2022-01-15T23:07:27.466Z"
   },
   {
    "duration": 19,
    "start_time": "2022-01-15T23:07:56.106Z"
   },
   {
    "duration": 16,
    "start_time": "2022-01-15T23:08:51.466Z"
   },
   {
    "duration": 15,
    "start_time": "2022-01-15T23:09:09.321Z"
   },
   {
    "duration": 15,
    "start_time": "2022-01-15T23:10:45.296Z"
   },
   {
    "duration": 192,
    "start_time": "2022-01-15T23:12:09.266Z"
   },
   {
    "duration": 67,
    "start_time": "2022-01-15T23:12:30.486Z"
   },
   {
    "duration": 193,
    "start_time": "2022-01-15T23:12:37.326Z"
   },
   {
    "duration": 21,
    "start_time": "2022-01-15T23:12:47.306Z"
   },
   {
    "duration": 23,
    "start_time": "2022-01-15T23:15:13.626Z"
   },
   {
    "duration": 21,
    "start_time": "2022-01-15T23:16:10.483Z"
   },
   {
    "duration": 22,
    "start_time": "2022-01-15T23:16:24.025Z"
   },
   {
    "duration": 21,
    "start_time": "2022-01-15T23:16:42.486Z"
   },
   {
    "duration": 21,
    "start_time": "2022-01-15T23:16:48.584Z"
   },
   {
    "duration": 20,
    "start_time": "2022-01-15T23:16:53.090Z"
   },
   {
    "duration": 23,
    "start_time": "2022-01-15T23:20:02.986Z"
   },
   {
    "duration": 21,
    "start_time": "2022-01-15T23:22:28.365Z"
   },
   {
    "duration": 20,
    "start_time": "2022-01-15T23:24:02.213Z"
   },
   {
    "duration": 24,
    "start_time": "2022-01-15T23:24:25.882Z"
   },
   {
    "duration": 219,
    "start_time": "2022-01-15T23:25:34.913Z"
   },
   {
    "duration": 21,
    "start_time": "2022-01-15T23:25:57.867Z"
   },
   {
    "duration": 22,
    "start_time": "2022-01-15T23:30:27.134Z"
   },
   {
    "duration": 6173,
    "start_time": "2022-01-15T23:33:15.626Z"
   },
   {
    "duration": 5,
    "start_time": "2022-01-15T23:33:36.257Z"
   },
   {
    "duration": 4,
    "start_time": "2022-01-15T23:33:42.696Z"
   },
   {
    "duration": 3,
    "start_time": "2022-01-15T23:33:50.776Z"
   },
   {
    "duration": 4,
    "start_time": "2022-01-15T23:33:59.526Z"
   },
   {
    "duration": 203,
    "start_time": "2022-01-15T23:34:10.545Z"
   },
   {
    "duration": 4,
    "start_time": "2022-01-15T23:34:13.786Z"
   },
   {
    "duration": 5,
    "start_time": "2022-01-15T23:34:39.268Z"
   },
   {
    "duration": 4900,
    "start_time": "2022-01-15T23:35:18.776Z"
   },
   {
    "duration": 5,
    "start_time": "2022-01-15T23:35:27.565Z"
   },
   {
    "duration": 4,
    "start_time": "2022-01-15T23:35:41.386Z"
   },
   {
    "duration": 4,
    "start_time": "2022-01-15T23:35:51.156Z"
   },
   {
    "duration": 4,
    "start_time": "2022-01-15T23:36:01.616Z"
   },
   {
    "duration": 170,
    "start_time": "2022-01-15T23:37:13.945Z"
   },
   {
    "duration": 600,
    "start_time": "2022-01-15T23:41:05.854Z"
   },
   {
    "duration": 19,
    "start_time": "2022-01-15T23:49:46.576Z"
   },
   {
    "duration": 166,
    "start_time": "2022-01-15T23:50:23.335Z"
   },
   {
    "duration": 152,
    "start_time": "2022-01-15T23:58:57.565Z"
   },
   {
    "duration": 3,
    "start_time": "2022-01-16T00:09:52.125Z"
   },
   {
    "duration": 137,
    "start_time": "2022-01-16T00:10:18.800Z"
   },
   {
    "duration": 4,
    "start_time": "2022-01-16T00:11:58.265Z"
   },
   {
    "duration": 16,
    "start_time": "2022-01-16T00:12:04.226Z"
   },
   {
    "duration": 147,
    "start_time": "2022-01-16T00:12:21.135Z"
   },
   {
    "duration": 134,
    "start_time": "2022-01-16T00:14:01.970Z"
   },
   {
    "duration": 2,
    "start_time": "2022-01-16T00:14:24.615Z"
   },
   {
    "duration": 148,
    "start_time": "2022-01-16T00:15:11.485Z"
   },
   {
    "duration": 256,
    "start_time": "2022-01-16T00:15:37.795Z"
   },
   {
    "duration": 230,
    "start_time": "2022-01-16T00:15:47.285Z"
   },
   {
    "duration": 154,
    "start_time": "2022-01-16T00:16:04.033Z"
   },
   {
    "duration": 141,
    "start_time": "2022-01-16T00:16:39.475Z"
   },
   {
    "duration": 137,
    "start_time": "2022-01-16T00:31:28.745Z"
   },
   {
    "duration": 4,
    "start_time": "2022-01-16T00:33:01.756Z"
   },
   {
    "duration": 155,
    "start_time": "2022-01-16T00:33:06.395Z"
   },
   {
    "duration": 61,
    "start_time": "2022-01-16T00:33:21.387Z"
   },
   {
    "duration": 4,
    "start_time": "2022-01-16T00:33:21.449Z"
   },
   {
    "duration": 21,
    "start_time": "2022-01-16T00:33:21.454Z"
   },
   {
    "duration": 15,
    "start_time": "2022-01-16T00:33:21.477Z"
   },
   {
    "duration": 18,
    "start_time": "2022-01-16T00:33:21.494Z"
   },
   {
    "duration": 4,
    "start_time": "2022-01-16T00:33:21.514Z"
   },
   {
    "duration": 21,
    "start_time": "2022-01-16T00:33:21.519Z"
   },
   {
    "duration": 21,
    "start_time": "2022-01-16T00:33:21.542Z"
   },
   {
    "duration": 10,
    "start_time": "2022-01-16T00:33:21.566Z"
   },
   {
    "duration": 22,
    "start_time": "2022-01-16T00:33:21.578Z"
   },
   {
    "duration": 19,
    "start_time": "2022-01-16T00:33:21.602Z"
   },
   {
    "duration": 25,
    "start_time": "2022-01-16T00:33:21.622Z"
   },
   {
    "duration": 23,
    "start_time": "2022-01-16T00:33:21.649Z"
   },
   {
    "duration": 19,
    "start_time": "2022-01-16T00:33:21.674Z"
   },
   {
    "duration": 13,
    "start_time": "2022-01-16T00:33:21.694Z"
   },
   {
    "duration": 661,
    "start_time": "2022-01-16T00:33:21.709Z"
   },
   {
    "duration": 3469,
    "start_time": "2022-01-16T00:33:22.372Z"
   },
   {
    "duration": 6,
    "start_time": "2022-01-16T00:33:25.843Z"
   },
   {
    "duration": 219,
    "start_time": "2022-01-16T00:33:25.850Z"
   },
   {
    "duration": 29835,
    "start_time": "2022-01-16T00:33:26.071Z"
   },
   {
    "duration": 12,
    "start_time": "2022-01-16T00:33:55.907Z"
   },
   {
    "duration": 22,
    "start_time": "2022-01-16T00:33:55.921Z"
   },
   {
    "duration": 35,
    "start_time": "2022-01-16T00:33:55.945Z"
   },
   {
    "duration": 8,
    "start_time": "2022-01-16T00:33:55.982Z"
   },
   {
    "duration": 23,
    "start_time": "2022-01-16T00:33:55.991Z"
   },
   {
    "duration": 13,
    "start_time": "2022-01-16T00:33:56.015Z"
   },
   {
    "duration": 35,
    "start_time": "2022-01-16T00:33:56.031Z"
   },
   {
    "duration": 22,
    "start_time": "2022-01-16T00:33:56.067Z"
   },
   {
    "duration": 257,
    "start_time": "2022-01-16T00:33:56.090Z"
   },
   {
    "duration": 3,
    "start_time": "2022-01-16T00:33:56.349Z"
   },
   {
    "duration": 155,
    "start_time": "2022-01-16T00:33:56.353Z"
   },
   {
    "duration": 154,
    "start_time": "2022-01-16T00:33:56.510Z"
   },
   {
    "duration": 154,
    "start_time": "2022-01-16T00:33:56.666Z"
   },
   {
    "duration": 143,
    "start_time": "2022-01-16T00:33:56.821Z"
   },
   {
    "duration": 845,
    "start_time": "2022-01-18T17:26:41.143Z"
   },
   {
    "duration": 5,
    "start_time": "2022-01-18T17:26:41.991Z"
   },
   {
    "duration": 15,
    "start_time": "2022-01-18T17:26:41.999Z"
   },
   {
    "duration": 12,
    "start_time": "2022-01-18T17:26:42.016Z"
   },
   {
    "duration": 20,
    "start_time": "2022-01-18T17:26:42.060Z"
   },
   {
    "duration": 8,
    "start_time": "2022-01-18T17:26:42.083Z"
   },
   {
    "duration": 19,
    "start_time": "2022-01-18T17:26:42.093Z"
   },
   {
    "duration": 59,
    "start_time": "2022-01-18T17:26:42.118Z"
   },
   {
    "duration": 18,
    "start_time": "2022-01-18T17:26:42.180Z"
   },
   {
    "duration": 22,
    "start_time": "2022-01-18T17:26:42.200Z"
   },
   {
    "duration": 48,
    "start_time": "2022-01-18T17:26:42.224Z"
   },
   {
    "duration": 33,
    "start_time": "2022-01-18T17:26:42.275Z"
   },
   {
    "duration": 21,
    "start_time": "2022-01-18T17:26:42.310Z"
   },
   {
    "duration": 48,
    "start_time": "2022-01-18T17:26:42.333Z"
   },
   {
    "duration": 21,
    "start_time": "2022-01-18T17:26:42.383Z"
   },
   {
    "duration": 977,
    "start_time": "2022-01-18T17:26:42.406Z"
   },
   {
    "duration": 5138,
    "start_time": "2022-01-18T17:26:43.385Z"
   },
   {
    "duration": 9,
    "start_time": "2022-01-18T17:26:48.525Z"
   },
   {
    "duration": 432,
    "start_time": "2022-01-18T17:26:48.536Z"
   },
   {
    "duration": 65261,
    "start_time": "2022-01-18T17:26:48.970Z"
   },
   {
    "duration": 37,
    "start_time": "2022-01-18T17:27:54.234Z"
   },
   {
    "duration": 6,
    "start_time": "2022-01-18T17:27:54.273Z"
   },
   {
    "duration": 19,
    "start_time": "2022-01-18T17:27:54.284Z"
   },
   {
    "duration": 7,
    "start_time": "2022-01-18T17:27:54.306Z"
   },
   {
    "duration": 51,
    "start_time": "2022-01-18T17:27:54.316Z"
   },
   {
    "duration": 6,
    "start_time": "2022-01-18T17:27:54.369Z"
   },
   {
    "duration": 13,
    "start_time": "2022-01-18T17:27:54.377Z"
   },
   {
    "duration": 8,
    "start_time": "2022-01-18T17:27:54.392Z"
   },
   {
    "duration": 513,
    "start_time": "2022-01-18T17:27:54.402Z"
   },
   {
    "duration": 762,
    "start_time": "2022-01-18T17:27:54.918Z"
   },
   {
    "duration": 267,
    "start_time": "2022-01-18T17:27:55.683Z"
   },
   {
    "duration": 292,
    "start_time": "2022-01-18T17:27:55.959Z"
   },
   {
    "duration": 281,
    "start_time": "2022-01-18T17:27:56.254Z"
   },
   {
    "duration": 280,
    "start_time": "2022-01-18T17:27:56.538Z"
   },
   {
    "duration": 10,
    "start_time": "2022-01-18T17:33:25.587Z"
   },
   {
    "duration": 30,
    "start_time": "2022-01-18T17:33:50.056Z"
   },
   {
    "duration": 248,
    "start_time": "2022-01-18T20:22:38.742Z"
   },
   {
    "duration": 688,
    "start_time": "2022-01-18T20:23:01.690Z"
   },
   {
    "duration": 4,
    "start_time": "2022-01-18T20:23:02.380Z"
   },
   {
    "duration": 15,
    "start_time": "2022-01-18T20:23:02.386Z"
   },
   {
    "duration": 10,
    "start_time": "2022-01-18T20:23:02.403Z"
   },
   {
    "duration": 236,
    "start_time": "2022-01-18T20:42:32.950Z"
   },
   {
    "duration": 207,
    "start_time": "2022-01-18T20:42:58.118Z"
   },
   {
    "duration": 60,
    "start_time": "2022-01-18T20:43:05.693Z"
   },
   {
    "duration": 4,
    "start_time": "2022-01-18T20:43:05.755Z"
   },
   {
    "duration": 13,
    "start_time": "2022-01-18T20:43:05.761Z"
   },
   {
    "duration": 32,
    "start_time": "2022-01-18T20:43:05.776Z"
   },
   {
    "duration": 11,
    "start_time": "2022-01-18T20:43:05.809Z"
   },
   {
    "duration": 13,
    "start_time": "2022-01-18T20:43:05.822Z"
   },
   {
    "duration": 5,
    "start_time": "2022-01-18T20:43:05.837Z"
   },
   {
    "duration": 55,
    "start_time": "2022-01-18T20:43:05.844Z"
   },
   {
    "duration": 15,
    "start_time": "2022-01-18T20:43:05.901Z"
   },
   {
    "duration": 12,
    "start_time": "2022-01-18T20:43:05.918Z"
   },
   {
    "duration": 16,
    "start_time": "2022-01-18T20:43:05.932Z"
   },
   {
    "duration": 50,
    "start_time": "2022-01-18T20:43:05.949Z"
   },
   {
    "duration": 26,
    "start_time": "2022-01-18T20:43:06.000Z"
   },
   {
    "duration": 16,
    "start_time": "2022-01-18T20:43:06.028Z"
   },
   {
    "duration": 18,
    "start_time": "2022-01-18T20:43:06.045Z"
   },
   {
    "duration": 15,
    "start_time": "2022-01-18T20:43:06.099Z"
   },
   {
    "duration": 694,
    "start_time": "2022-01-18T20:43:06.116Z"
   },
   {
    "duration": 5,
    "start_time": "2022-01-18T20:43:06.812Z"
   },
   {
    "duration": 64,
    "start_time": "2022-01-18T20:47:48.419Z"
   },
   {
    "duration": 687,
    "start_time": "2022-01-18T20:47:52.759Z"
   },
   {
    "duration": 667,
    "start_time": "2022-01-18T20:50:19.288Z"
   },
   {
    "duration": 3,
    "start_time": "2022-01-18T20:51:14.241Z"
   },
   {
    "duration": 223,
    "start_time": "2022-01-18T20:59:34.691Z"
   },
   {
    "duration": 211,
    "start_time": "2022-01-18T21:00:10.350Z"
   },
   {
    "duration": 63,
    "start_time": "2022-01-18T21:00:18.705Z"
   },
   {
    "duration": 4,
    "start_time": "2022-01-18T21:00:18.771Z"
   },
   {
    "duration": 29,
    "start_time": "2022-01-18T21:00:18.778Z"
   },
   {
    "duration": 13,
    "start_time": "2022-01-18T21:00:18.809Z"
   },
   {
    "duration": 27,
    "start_time": "2022-01-18T21:00:18.824Z"
   },
   {
    "duration": 25,
    "start_time": "2022-01-18T21:00:18.853Z"
   },
   {
    "duration": 9,
    "start_time": "2022-01-18T21:00:18.880Z"
   },
   {
    "duration": 15,
    "start_time": "2022-01-18T21:00:18.899Z"
   },
   {
    "duration": 26,
    "start_time": "2022-01-18T21:00:18.917Z"
   },
   {
    "duration": 29,
    "start_time": "2022-01-18T21:00:18.945Z"
   },
   {
    "duration": 37,
    "start_time": "2022-01-18T21:00:18.975Z"
   },
   {
    "duration": 14,
    "start_time": "2022-01-18T21:00:19.013Z"
   },
   {
    "duration": 26,
    "start_time": "2022-01-18T21:00:19.028Z"
   },
   {
    "duration": 15,
    "start_time": "2022-01-18T21:00:19.056Z"
   },
   {
    "duration": 40,
    "start_time": "2022-01-18T21:00:19.073Z"
   },
   {
    "duration": 15,
    "start_time": "2022-01-18T21:00:19.114Z"
   },
   {
    "duration": 725,
    "start_time": "2022-01-18T21:00:19.131Z"
   },
   {
    "duration": 257,
    "start_time": "2022-01-18T21:00:30.403Z"
   },
   {
    "duration": 5,
    "start_time": "2022-01-18T21:00:37.259Z"
   },
   {
    "duration": 224,
    "start_time": "2022-01-18T21:02:50.808Z"
   },
   {
    "duration": 229,
    "start_time": "2022-01-18T21:03:08.995Z"
   },
   {
    "duration": 4,
    "start_time": "2022-01-18T21:03:37.300Z"
   },
   {
    "duration": 4,
    "start_time": "2022-01-18T21:07:50.402Z"
   },
   {
    "duration": 73,
    "start_time": "2022-01-18T21:10:26.964Z"
   },
   {
    "duration": 1881,
    "start_time": "2022-01-18T21:10:39.464Z"
   },
   {
    "duration": 4,
    "start_time": "2022-01-18T21:10:55.052Z"
   },
   {
    "duration": 6,
    "start_time": "2022-01-18T21:11:20.216Z"
   },
   {
    "duration": 247,
    "start_time": "2022-01-18T21:11:59.652Z"
   },
   {
    "duration": 225,
    "start_time": "2022-01-18T21:12:56.365Z"
   },
   {
    "duration": 6,
    "start_time": "2022-01-18T21:13:03.533Z"
   },
   {
    "duration": 210,
    "start_time": "2022-01-18T21:14:23.097Z"
   },
   {
    "duration": 5,
    "start_time": "2022-01-18T21:14:47.398Z"
   },
   {
    "duration": 5,
    "start_time": "2022-01-18T21:15:07.027Z"
   },
   {
    "duration": 66,
    "start_time": "2022-01-18T21:33:56.812Z"
   },
   {
    "duration": 14848,
    "start_time": "2022-01-18T21:34:21.592Z"
   },
   {
    "duration": 59,
    "start_time": "2022-01-18T21:35:55.677Z"
   },
   {
    "duration": 3,
    "start_time": "2022-01-18T21:35:55.738Z"
   },
   {
    "duration": 12,
    "start_time": "2022-01-18T21:35:55.743Z"
   },
   {
    "duration": 9,
    "start_time": "2022-01-18T21:35:55.757Z"
   },
   {
    "duration": 35,
    "start_time": "2022-01-18T21:35:55.767Z"
   },
   {
    "duration": 14,
    "start_time": "2022-01-18T21:35:55.804Z"
   },
   {
    "duration": 6,
    "start_time": "2022-01-18T21:35:55.820Z"
   },
   {
    "duration": 10,
    "start_time": "2022-01-18T21:35:55.828Z"
   },
   {
    "duration": 14,
    "start_time": "2022-01-18T21:35:55.840Z"
   },
   {
    "duration": 51,
    "start_time": "2022-01-18T21:35:55.855Z"
   },
   {
    "duration": 16,
    "start_time": "2022-01-18T21:35:55.907Z"
   },
   {
    "duration": 28,
    "start_time": "2022-01-18T21:35:55.925Z"
   },
   {
    "duration": 44,
    "start_time": "2022-01-18T21:35:55.955Z"
   },
   {
    "duration": 18,
    "start_time": "2022-01-18T21:35:56.001Z"
   },
   {
    "duration": 18,
    "start_time": "2022-01-18T21:35:56.021Z"
   },
   {
    "duration": 17,
    "start_time": "2022-01-18T21:35:56.041Z"
   },
   {
    "duration": 755,
    "start_time": "2022-01-18T21:35:56.060Z"
   },
   {
    "duration": 5,
    "start_time": "2022-01-18T21:35:56.817Z"
   },
   {
    "duration": 3056,
    "start_time": "2022-01-18T21:35:56.824Z"
   },
   {
    "duration": 18,
    "start_time": "2022-01-18T21:35:59.882Z"
   },
   {
    "duration": 239,
    "start_time": "2022-01-18T21:35:59.902Z"
   },
   {
    "duration": 33866,
    "start_time": "2022-01-18T21:36:00.145Z"
   },
   {
    "duration": 11,
    "start_time": "2022-01-18T21:36:34.013Z"
   },
   {
    "duration": 3,
    "start_time": "2022-01-18T21:36:34.026Z"
   },
   {
    "duration": 16,
    "start_time": "2022-01-18T21:36:34.031Z"
   },
   {
    "duration": 4,
    "start_time": "2022-01-18T21:36:34.049Z"
   },
   {
    "duration": 5,
    "start_time": "2022-01-18T21:36:34.055Z"
   },
   {
    "duration": 14841,
    "start_time": "2022-01-18T21:36:34.061Z"
   },
   {
    "duration": 14508,
    "start_time": "2022-01-18T21:37:36.666Z"
   },
   {
    "duration": 73,
    "start_time": "2022-01-18T21:38:44.867Z"
   },
   {
    "duration": 14726,
    "start_time": "2022-01-18T21:39:00.227Z"
   },
   {
    "duration": 59,
    "start_time": "2022-01-18T21:39:25.729Z"
   },
   {
    "duration": 4,
    "start_time": "2022-01-18T21:39:25.791Z"
   },
   {
    "duration": 14,
    "start_time": "2022-01-18T21:39:25.798Z"
   },
   {
    "duration": 12,
    "start_time": "2022-01-18T21:39:25.814Z"
   },
   {
    "duration": 13,
    "start_time": "2022-01-18T21:39:25.828Z"
   },
   {
    "duration": 60,
    "start_time": "2022-01-18T21:39:25.843Z"
   },
   {
    "duration": 7,
    "start_time": "2022-01-18T21:39:25.905Z"
   },
   {
    "duration": 14,
    "start_time": "2022-01-18T21:39:25.913Z"
   },
   {
    "duration": 14,
    "start_time": "2022-01-18T21:39:25.931Z"
   },
   {
    "duration": 59,
    "start_time": "2022-01-18T21:39:25.948Z"
   },
   {
    "duration": 19,
    "start_time": "2022-01-18T21:39:26.009Z"
   },
   {
    "duration": 11,
    "start_time": "2022-01-18T21:39:26.030Z"
   },
   {
    "duration": 58,
    "start_time": "2022-01-18T21:39:26.043Z"
   },
   {
    "duration": 15,
    "start_time": "2022-01-18T21:39:26.102Z"
   },
   {
    "duration": 16,
    "start_time": "2022-01-18T21:39:26.118Z"
   },
   {
    "duration": 13,
    "start_time": "2022-01-18T21:39:26.135Z"
   },
   {
    "duration": 746,
    "start_time": "2022-01-18T21:39:26.150Z"
   },
   {
    "duration": 6,
    "start_time": "2022-01-18T21:39:26.899Z"
   },
   {
    "duration": 3162,
    "start_time": "2022-01-18T21:39:26.907Z"
   },
   {
    "duration": 5,
    "start_time": "2022-01-18T21:39:30.071Z"
   },
   {
    "duration": 241,
    "start_time": "2022-01-18T21:39:30.078Z"
   },
   {
    "duration": 33492,
    "start_time": "2022-01-18T21:39:30.321Z"
   },
   {
    "duration": 11,
    "start_time": "2022-01-18T21:40:03.815Z"
   },
   {
    "duration": 3,
    "start_time": "2022-01-18T21:40:03.828Z"
   },
   {
    "duration": 15,
    "start_time": "2022-01-18T21:40:03.833Z"
   },
   {
    "duration": 6,
    "start_time": "2022-01-18T21:40:03.850Z"
   },
   {
    "duration": 6,
    "start_time": "2022-01-18T21:40:03.859Z"
   },
   {
    "duration": 241,
    "start_time": "2022-01-18T21:40:50.684Z"
   },
   {
    "duration": 594,
    "start_time": "2022-01-18T21:41:00.357Z"
   },
   {
    "duration": 4,
    "start_time": "2022-01-18T21:41:00.953Z"
   },
   {
    "duration": 27,
    "start_time": "2022-01-18T21:41:00.959Z"
   },
   {
    "duration": 32,
    "start_time": "2022-01-18T21:41:00.988Z"
   },
   {
    "duration": 19,
    "start_time": "2022-01-18T21:41:01.021Z"
   },
   {
    "duration": 34,
    "start_time": "2022-01-18T21:41:01.042Z"
   },
   {
    "duration": 19,
    "start_time": "2022-01-18T21:41:01.078Z"
   },
   {
    "duration": 30,
    "start_time": "2022-01-18T21:41:01.100Z"
   },
   {
    "duration": 36,
    "start_time": "2022-01-18T21:41:01.132Z"
   },
   {
    "duration": 24,
    "start_time": "2022-01-18T21:41:01.169Z"
   },
   {
    "duration": 27,
    "start_time": "2022-01-18T21:41:01.194Z"
   },
   {
    "duration": 35,
    "start_time": "2022-01-18T21:41:01.223Z"
   },
   {
    "duration": 44,
    "start_time": "2022-01-18T21:41:01.260Z"
   },
   {
    "duration": 24,
    "start_time": "2022-01-18T21:41:01.306Z"
   },
   {
    "duration": 18,
    "start_time": "2022-01-18T21:41:01.332Z"
   },
   {
    "duration": 18,
    "start_time": "2022-01-18T21:41:01.352Z"
   },
   {
    "duration": 713,
    "start_time": "2022-01-18T21:41:01.372Z"
   },
   {
    "duration": 12,
    "start_time": "2022-01-18T21:41:02.087Z"
   },
   {
    "duration": 3244,
    "start_time": "2022-01-18T21:41:02.101Z"
   },
   {
    "duration": 6,
    "start_time": "2022-01-18T21:41:05.346Z"
   },
   {
    "duration": 255,
    "start_time": "2022-01-18T21:41:05.354Z"
   },
   {
    "duration": 34106,
    "start_time": "2022-01-18T21:41:05.610Z"
   },
   {
    "duration": 11,
    "start_time": "2022-01-18T21:41:39.719Z"
   },
   {
    "duration": 3,
    "start_time": "2022-01-18T21:41:39.732Z"
   },
   {
    "duration": 15,
    "start_time": "2022-01-18T21:41:39.737Z"
   },
   {
    "duration": 4,
    "start_time": "2022-01-18T21:41:39.753Z"
   },
   {
    "duration": 15008,
    "start_time": "2022-01-18T21:42:12.241Z"
   },
   {
    "duration": 15009,
    "start_time": "2022-01-18T21:42:58.505Z"
   },
   {
    "duration": 714,
    "start_time": "2022-01-18T21:47:30.388Z"
   },
   {
    "duration": 4,
    "start_time": "2022-01-18T21:47:31.104Z"
   },
   {
    "duration": 15,
    "start_time": "2022-01-18T21:47:31.111Z"
   },
   {
    "duration": 11,
    "start_time": "2022-01-18T21:47:31.128Z"
   },
   {
    "duration": 11,
    "start_time": "2022-01-18T21:47:31.141Z"
   },
   {
    "duration": 55,
    "start_time": "2022-01-18T21:47:31.154Z"
   },
   {
    "duration": 7,
    "start_time": "2022-01-18T21:47:31.211Z"
   },
   {
    "duration": 14,
    "start_time": "2022-01-18T21:47:31.220Z"
   },
   {
    "duration": 16,
    "start_time": "2022-01-18T21:47:31.238Z"
   },
   {
    "duration": 16,
    "start_time": "2022-01-18T21:47:31.300Z"
   },
   {
    "duration": 19,
    "start_time": "2022-01-18T21:47:31.318Z"
   },
   {
    "duration": 13,
    "start_time": "2022-01-18T21:47:31.339Z"
   },
   {
    "duration": 64,
    "start_time": "2022-01-18T21:47:31.354Z"
   },
   {
    "duration": 18,
    "start_time": "2022-01-18T21:47:31.420Z"
   },
   {
    "duration": 19,
    "start_time": "2022-01-18T21:47:31.441Z"
   },
   {
    "duration": 51,
    "start_time": "2022-01-18T21:47:31.461Z"
   },
   {
    "duration": 688,
    "start_time": "2022-01-18T21:47:31.514Z"
   },
   {
    "duration": 7,
    "start_time": "2022-01-18T21:47:32.205Z"
   },
   {
    "duration": 3155,
    "start_time": "2022-01-18T21:47:32.214Z"
   },
   {
    "duration": 5,
    "start_time": "2022-01-18T21:47:35.371Z"
   },
   {
    "duration": 236,
    "start_time": "2022-01-18T21:47:35.377Z"
   },
   {
    "duration": 33287,
    "start_time": "2022-01-18T21:47:35.615Z"
   },
   {
    "duration": 11,
    "start_time": "2022-01-18T21:48:08.903Z"
   },
   {
    "duration": 3,
    "start_time": "2022-01-18T21:48:08.916Z"
   },
   {
    "duration": 15,
    "start_time": "2022-01-18T21:48:08.921Z"
   },
   {
    "duration": 5,
    "start_time": "2022-01-18T21:48:08.944Z"
   },
   {
    "duration": 4,
    "start_time": "2022-01-18T21:48:23.942Z"
   },
   {
    "duration": 664,
    "start_time": "2022-01-19T18:15:45.182Z"
   },
   {
    "duration": 3,
    "start_time": "2022-01-19T18:15:45.848Z"
   },
   {
    "duration": 19,
    "start_time": "2022-01-19T18:15:45.854Z"
   },
   {
    "duration": 11,
    "start_time": "2022-01-19T18:15:45.875Z"
   },
   {
    "duration": 16,
    "start_time": "2022-01-19T18:15:45.888Z"
   },
   {
    "duration": 19,
    "start_time": "2022-01-19T18:15:45.906Z"
   },
   {
    "duration": 6,
    "start_time": "2022-01-19T18:15:45.927Z"
   },
   {
    "duration": 27,
    "start_time": "2022-01-19T18:15:45.934Z"
   },
   {
    "duration": 17,
    "start_time": "2022-01-19T18:15:45.964Z"
   },
   {
    "duration": 15,
    "start_time": "2022-01-19T18:15:45.984Z"
   },
   {
    "duration": 16,
    "start_time": "2022-01-19T18:15:46.001Z"
   },
   {
    "duration": 21,
    "start_time": "2022-01-19T18:15:46.019Z"
   },
   {
    "duration": 41,
    "start_time": "2022-01-19T18:15:46.043Z"
   },
   {
    "duration": 21,
    "start_time": "2022-01-19T18:15:46.085Z"
   },
   {
    "duration": 17,
    "start_time": "2022-01-19T18:15:46.108Z"
   },
   {
    "duration": 15,
    "start_time": "2022-01-19T18:15:46.126Z"
   },
   {
    "duration": 696,
    "start_time": "2022-01-19T18:15:46.161Z"
   },
   {
    "duration": 5,
    "start_time": "2022-01-19T18:15:46.859Z"
   },
   {
    "duration": 3906,
    "start_time": "2022-01-19T18:15:46.866Z"
   },
   {
    "duration": 5,
    "start_time": "2022-01-19T18:15:50.774Z"
   },
   {
    "duration": 240,
    "start_time": "2022-01-19T18:15:50.781Z"
   },
   {
    "duration": 32973,
    "start_time": "2022-01-19T18:15:51.022Z"
   },
   {
    "duration": 12,
    "start_time": "2022-01-19T18:16:23.996Z"
   },
   {
    "duration": 4,
    "start_time": "2022-01-19T18:16:24.009Z"
   },
   {
    "duration": 14,
    "start_time": "2022-01-19T18:16:24.014Z"
   },
   {
    "duration": 3,
    "start_time": "2022-01-19T18:16:24.030Z"
   },
   {
    "duration": 27,
    "start_time": "2022-01-19T18:16:24.036Z"
   },
   {
    "duration": 9,
    "start_time": "2022-01-19T18:16:24.065Z"
   },
   {
    "duration": 5,
    "start_time": "2022-01-19T18:16:24.076Z"
   },
   {
    "duration": 296,
    "start_time": "2022-01-19T18:16:24.083Z"
   },
   {
    "duration": 17,
    "start_time": "2022-01-19T18:16:24.406Z"
   },
   {
    "duration": 384,
    "start_time": "2022-01-19T18:18:07.930Z"
   },
   {
    "duration": 260,
    "start_time": "2022-01-19T18:19:06.479Z"
   },
   {
    "duration": 277,
    "start_time": "2022-01-19T18:19:17.535Z"
   },
   {
    "duration": 47,
    "start_time": "2022-01-19T18:22:34.086Z"
   },
   {
    "duration": 5,
    "start_time": "2022-01-19T18:22:45.316Z"
   },
   {
    "duration": 6425,
    "start_time": "2022-01-19T18:25:37.031Z"
   },
   {
    "duration": 7,
    "start_time": "2022-01-19T18:26:03.761Z"
   },
   {
    "duration": 6,
    "start_time": "2022-01-19T18:26:40.226Z"
   },
   {
    "duration": 217,
    "start_time": "2022-01-19T18:27:12.782Z"
   },
   {
    "duration": 238,
    "start_time": "2022-01-19T18:27:17.510Z"
   },
   {
    "duration": 5,
    "start_time": "2022-01-19T18:27:22.708Z"
   },
   {
    "duration": 325,
    "start_time": "2022-01-19T18:52:46.844Z"
   },
   {
    "duration": 5,
    "start_time": "2022-01-19T18:53:08.237Z"
   },
   {
    "duration": 5,
    "start_time": "2022-01-19T18:53:22.166Z"
   },
   {
    "duration": 5,
    "start_time": "2022-01-19T18:53:29.537Z"
   },
   {
    "duration": 7338,
    "start_time": "2022-01-19T18:55:45.118Z"
   },
   {
    "duration": 4,
    "start_time": "2022-01-19T18:55:58.658Z"
   },
   {
    "duration": 8,
    "start_time": "2022-01-19T18:56:11.759Z"
   },
   {
    "duration": 4,
    "start_time": "2022-01-19T18:57:15.863Z"
   },
   {
    "duration": 10,
    "start_time": "2022-01-19T18:57:33.065Z"
   },
   {
    "duration": 4,
    "start_time": "2022-01-19T18:58:16.259Z"
   },
   {
    "duration": 4,
    "start_time": "2022-01-19T19:01:40.820Z"
   },
   {
    "duration": 3,
    "start_time": "2022-01-19T19:02:43.113Z"
   },
   {
    "duration": 5,
    "start_time": "2022-01-19T19:02:58.278Z"
   },
   {
    "duration": 3,
    "start_time": "2022-01-19T19:03:10.147Z"
   },
   {
    "duration": 4,
    "start_time": "2022-01-19T19:03:39.981Z"
   },
   {
    "duration": 4,
    "start_time": "2022-01-19T19:03:44.976Z"
   },
   {
    "duration": 321,
    "start_time": "2022-01-19T19:04:03.636Z"
   },
   {
    "duration": 4,
    "start_time": "2022-01-19T19:06:04.739Z"
   },
   {
    "duration": 8129,
    "start_time": "2022-01-19T19:07:42.226Z"
   },
   {
    "duration": 6878,
    "start_time": "2022-01-19T19:08:01.276Z"
   },
   {
    "duration": 5,
    "start_time": "2022-01-19T19:08:58.307Z"
   },
   {
    "duration": 4,
    "start_time": "2022-01-19T19:09:30.295Z"
   },
   {
    "duration": 4,
    "start_time": "2022-01-19T19:10:12.487Z"
   },
   {
    "duration": 5,
    "start_time": "2022-01-19T19:10:37.123Z"
   },
   {
    "duration": 6,
    "start_time": "2022-01-19T19:12:01.809Z"
   },
   {
    "duration": 8,
    "start_time": "2022-01-19T19:12:12.775Z"
   },
   {
    "duration": 4,
    "start_time": "2022-01-19T19:14:45.854Z"
   },
   {
    "duration": 4,
    "start_time": "2022-01-19T19:15:52.932Z"
   },
   {
    "duration": 3,
    "start_time": "2022-01-19T19:16:05.574Z"
   },
   {
    "duration": 4,
    "start_time": "2022-01-19T19:16:32.974Z"
   },
   {
    "duration": 4,
    "start_time": "2022-01-19T19:18:22.341Z"
   },
   {
    "duration": 317,
    "start_time": "2022-01-19T19:18:30.495Z"
   },
   {
    "duration": 216,
    "start_time": "2022-01-19T19:18:55.301Z"
   },
   {
    "duration": 6,
    "start_time": "2022-01-19T19:19:02.898Z"
   },
   {
    "duration": 5,
    "start_time": "2022-01-19T19:20:44.870Z"
   },
   {
    "duration": 82,
    "start_time": "2022-01-19T19:21:08.830Z"
   },
   {
    "duration": 4,
    "start_time": "2022-01-19T19:21:12.519Z"
   },
   {
    "duration": 5459,
    "start_time": "2022-01-19T19:26:32.140Z"
   },
   {
    "duration": 4,
    "start_time": "2022-01-19T19:27:17.613Z"
   },
   {
    "duration": 5,
    "start_time": "2022-01-19T19:27:48.397Z"
   },
   {
    "duration": 7,
    "start_time": "2022-01-19T19:28:10.745Z"
   },
   {
    "duration": 5,
    "start_time": "2022-01-19T19:28:19.754Z"
   },
   {
    "duration": 109,
    "start_time": "2022-01-19T19:32:13.819Z"
   },
   {
    "duration": 3,
    "start_time": "2022-01-19T19:32:20.886Z"
   },
   {
    "duration": 4,
    "start_time": "2022-01-19T19:32:52.443Z"
   },
   {
    "duration": 64,
    "start_time": "2022-01-19T19:32:57.973Z"
   },
   {
    "duration": 4,
    "start_time": "2022-01-19T19:33:01.846Z"
   },
   {
    "duration": 3,
    "start_time": "2022-01-19T19:33:55.712Z"
   },
   {
    "duration": 5748,
    "start_time": "2022-01-19T19:34:11.174Z"
   },
   {
    "duration": 234,
    "start_time": "2022-01-19T19:36:50.508Z"
   },
   {
    "duration": 6,
    "start_time": "2022-01-19T19:37:20.957Z"
   },
   {
    "duration": 66,
    "start_time": "2022-01-19T19:39:57.406Z"
   },
   {
    "duration": 5,
    "start_time": "2022-01-19T19:40:03.734Z"
   },
   {
    "duration": 4,
    "start_time": "2022-01-19T19:44:30.999Z"
   },
   {
    "duration": 3,
    "start_time": "2022-01-19T19:44:55.382Z"
   },
   {
    "duration": 6,
    "start_time": "2022-01-19T19:45:49.558Z"
   },
   {
    "duration": 6,
    "start_time": "2022-01-19T19:47:27.337Z"
   },
   {
    "duration": 8,
    "start_time": "2022-01-19T19:47:46.090Z"
   },
   {
    "duration": 5,
    "start_time": "2022-01-19T19:48:00.853Z"
   },
   {
    "duration": 69,
    "start_time": "2022-01-19T19:48:49.356Z"
   },
   {
    "duration": 5,
    "start_time": "2022-01-19T19:49:15.198Z"
   },
   {
    "duration": 5,
    "start_time": "2022-01-19T19:50:50.813Z"
   },
   {
    "duration": 5,
    "start_time": "2022-01-19T19:52:58.495Z"
   },
   {
    "duration": 9,
    "start_time": "2022-01-19T19:53:39.866Z"
   },
   {
    "duration": 5,
    "start_time": "2022-01-19T19:57:32.525Z"
   },
   {
    "duration": 610,
    "start_time": "2022-01-19T20:00:26.521Z"
   },
   {
    "duration": 155,
    "start_time": "2022-01-19T20:00:34.076Z"
   },
   {
    "duration": 495,
    "start_time": "2022-01-19T20:07:38.133Z"
   },
   {
    "duration": 435,
    "start_time": "2022-01-19T20:08:54.541Z"
   },
   {
    "duration": 4,
    "start_time": "2022-01-19T20:09:56.364Z"
   },
   {
    "duration": 141,
    "start_time": "2022-01-19T20:09:56.497Z"
   },
   {
    "duration": 158,
    "start_time": "2022-01-19T20:10:02.192Z"
   },
   {
    "duration": 517,
    "start_time": "2022-01-19T20:10:15.811Z"
   },
   {
    "duration": 4,
    "start_time": "2022-01-19T20:11:47.972Z"
   },
   {
    "duration": 155,
    "start_time": "2022-01-19T20:11:55.551Z"
   },
   {
    "duration": 161,
    "start_time": "2022-01-19T20:12:08.566Z"
   },
   {
    "duration": 4,
    "start_time": "2022-01-19T20:13:08.560Z"
   },
   {
    "duration": 151,
    "start_time": "2022-01-19T20:13:11.633Z"
   },
   {
    "duration": 241,
    "start_time": "2022-01-19T20:13:37.539Z"
   },
   {
    "duration": 151,
    "start_time": "2022-01-19T20:15:34.583Z"
   },
   {
    "duration": 153,
    "start_time": "2022-01-19T20:16:26.220Z"
   },
   {
    "duration": 311,
    "start_time": "2022-01-30T21:58:45.390Z"
   },
   {
    "duration": 827,
    "start_time": "2022-01-30T21:58:52.970Z"
   },
   {
    "duration": 6,
    "start_time": "2022-01-30T21:58:53.799Z"
   },
   {
    "duration": 17,
    "start_time": "2022-01-30T21:58:53.807Z"
   },
   {
    "duration": 33,
    "start_time": "2022-01-30T21:58:53.827Z"
   },
   {
    "duration": 12,
    "start_time": "2022-01-30T21:58:53.863Z"
   },
   {
    "duration": 19,
    "start_time": "2022-01-30T21:58:53.877Z"
   },
   {
    "duration": 7,
    "start_time": "2022-01-30T21:58:53.898Z"
   },
   {
    "duration": 58,
    "start_time": "2022-01-30T21:58:53.907Z"
   },
   {
    "duration": 20,
    "start_time": "2022-01-30T21:58:53.971Z"
   },
   {
    "duration": 17,
    "start_time": "2022-01-30T21:58:53.993Z"
   },
   {
    "duration": 53,
    "start_time": "2022-01-30T21:58:54.012Z"
   },
   {
    "duration": 15,
    "start_time": "2022-01-30T21:58:54.068Z"
   },
   {
    "duration": 33,
    "start_time": "2022-01-30T21:58:54.085Z"
   },
   {
    "duration": 49,
    "start_time": "2022-01-30T21:58:54.120Z"
   },
   {
    "duration": 23,
    "start_time": "2022-01-30T21:58:54.171Z"
   },
   {
    "duration": 21,
    "start_time": "2022-01-30T21:58:54.197Z"
   },
   {
    "duration": 951,
    "start_time": "2022-01-30T21:58:54.220Z"
   },
   {
    "duration": 7,
    "start_time": "2022-01-30T21:58:55.174Z"
   },
   {
    "duration": 5308,
    "start_time": "2022-01-30T21:58:55.184Z"
   },
   {
    "duration": 7,
    "start_time": "2022-01-30T21:59:00.495Z"
   },
   {
    "duration": 394,
    "start_time": "2022-01-30T21:59:00.504Z"
   },
   {
    "duration": 49939,
    "start_time": "2022-01-30T21:59:00.901Z"
   },
   {
    "duration": 24,
    "start_time": "2022-01-30T21:59:50.843Z"
   },
   {
    "duration": 5,
    "start_time": "2022-01-30T21:59:50.870Z"
   },
   {
    "duration": 27,
    "start_time": "2022-01-30T21:59:50.878Z"
   },
   {
    "duration": 5,
    "start_time": "2022-01-30T21:59:50.908Z"
   },
   {
    "duration": 6,
    "start_time": "2022-01-30T21:59:50.920Z"
   },
   {
    "duration": 14,
    "start_time": "2022-01-30T21:59:50.960Z"
   },
   {
    "duration": 12,
    "start_time": "2022-01-30T21:59:50.977Z"
   },
   {
    "duration": 492,
    "start_time": "2022-01-30T21:59:50.992Z"
   },
   {
    "duration": 755,
    "start_time": "2022-01-30T21:59:51.487Z"
   },
   {
    "duration": 255,
    "start_time": "2022-01-30T21:59:52.245Z"
   },
   {
    "duration": 288,
    "start_time": "2022-01-30T21:59:52.502Z"
   },
   {
    "duration": 262,
    "start_time": "2022-01-30T21:59:52.793Z"
   },
   {
    "duration": 258,
    "start_time": "2022-01-30T21:59:53.060Z"
   },
   {
    "duration": 621,
    "start_time": "2022-03-25T20:27:18.072Z"
   },
   {
    "duration": 5,
    "start_time": "2022-03-25T20:27:18.696Z"
   },
   {
    "duration": 28,
    "start_time": "2022-03-25T20:27:18.703Z"
   },
   {
    "duration": 13,
    "start_time": "2022-03-25T20:27:18.733Z"
   },
   {
    "duration": 18,
    "start_time": "2022-03-25T20:27:18.767Z"
   },
   {
    "duration": 18,
    "start_time": "2022-03-25T20:27:18.788Z"
   },
   {
    "duration": 7,
    "start_time": "2022-03-25T20:27:18.808Z"
   },
   {
    "duration": 55,
    "start_time": "2022-03-25T20:27:18.818Z"
   },
   {
    "duration": 20,
    "start_time": "2022-03-25T20:27:18.876Z"
   },
   {
    "duration": 23,
    "start_time": "2022-03-25T20:27:18.898Z"
   },
   {
    "duration": 57,
    "start_time": "2022-03-25T20:27:18.923Z"
   },
   {
    "duration": 15,
    "start_time": "2022-03-25T20:27:18.983Z"
   },
   {
    "duration": 27,
    "start_time": "2022-03-25T20:27:19.000Z"
   },
   {
    "duration": 47,
    "start_time": "2022-03-25T20:27:19.031Z"
   },
   {
    "duration": 26,
    "start_time": "2022-03-25T20:27:19.081Z"
   },
   {
    "duration": 23,
    "start_time": "2022-03-25T20:27:19.109Z"
   },
   {
    "duration": 964,
    "start_time": "2022-03-25T20:27:19.134Z"
   },
   {
    "duration": 7,
    "start_time": "2022-03-25T20:27:20.101Z"
   },
   {
    "duration": 4914,
    "start_time": "2022-03-25T20:27:20.110Z"
   },
   {
    "duration": 8,
    "start_time": "2022-03-25T20:27:25.026Z"
   },
   {
    "duration": 257,
    "start_time": "2022-03-25T20:27:25.036Z"
   },
   {
    "duration": 41778,
    "start_time": "2022-03-25T20:27:25.296Z"
   },
   {
    "duration": 14,
    "start_time": "2022-03-25T20:28:07.076Z"
   },
   {
    "duration": 6,
    "start_time": "2022-03-25T20:28:07.092Z"
   },
   {
    "duration": 16,
    "start_time": "2022-03-25T20:28:07.100Z"
   },
   {
    "duration": 5,
    "start_time": "2022-03-25T20:28:07.119Z"
   },
   {
    "duration": 52,
    "start_time": "2022-03-25T20:28:07.126Z"
   },
   {
    "duration": 17,
    "start_time": "2022-03-25T20:28:07.181Z"
   },
   {
    "duration": 5,
    "start_time": "2022-03-25T20:28:07.200Z"
   },
   {
    "duration": 298,
    "start_time": "2022-03-25T20:28:07.207Z"
   },
   {
    "duration": 967,
    "start_time": "2022-03-25T20:28:07.508Z"
   },
   {
    "duration": 202,
    "start_time": "2022-03-25T20:28:08.477Z"
   },
   {
    "duration": 246,
    "start_time": "2022-03-25T20:28:08.682Z"
   },
   {
    "duration": 218,
    "start_time": "2022-03-25T20:28:08.929Z"
   },
   {
    "duration": 226,
    "start_time": "2022-03-25T20:28:09.149Z"
   }
  ],
  "kernelspec": {
   "display_name": "Python 3 (ipykernel)",
   "language": "python",
   "name": "python3"
  },
  "language_info": {
   "codemirror_mode": {
    "name": "ipython",
    "version": 3
   },
   "file_extension": ".py",
   "mimetype": "text/x-python",
   "name": "python",
   "nbconvert_exporter": "python",
   "pygments_lexer": "ipython3",
   "version": "3.9.5"
  },
  "toc": {
   "base_numbering": 1,
   "nav_menu": {},
   "number_sections": true,
   "sideBar": true,
   "skip_h1_title": true,
   "title_cell": "Table of Contents",
   "title_sidebar": "Contents",
   "toc_cell": false,
   "toc_position": {},
   "toc_section_display": true,
   "toc_window_display": false
  }
 },
 "nbformat": 4,
 "nbformat_minor": 2
}
