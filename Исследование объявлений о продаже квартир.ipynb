{
 "cells": [
  {
   "cell_type": "markdown",
   "metadata": {
    "toc": true
   },
   "source": [
    "<h1>Содержание<span class=\"tocSkip\"></span></h1>\n",
    "<div class=\"toc\"><ul class=\"toc-item\"><li><span><a href=\"#Изучение-данных-из-файла\" data-toc-modified-id=\"Изучение-данных-из-файла-1\"><span class=\"toc-item-num\">1&nbsp;&nbsp;</span>Изучение данных из файла</a></span><ul class=\"toc-item\"><li><span><a href=\"#Описание\" data-toc-modified-id=\"Описание-1.1\"><span class=\"toc-item-num\">1.1&nbsp;&nbsp;</span>Описание</a></span></li><li><span><a href=\"#Вывод\" data-toc-modified-id=\"Вывод-1.2\"><span class=\"toc-item-num\">1.2&nbsp;&nbsp;</span>Вывод</a></span></li></ul></li><li><span><a href=\"#Предобработка-данных\" data-toc-modified-id=\"Предобработка-данных-2\"><span class=\"toc-item-num\">2&nbsp;&nbsp;</span>Предобработка данных</a></span><ul class=\"toc-item\"><li><span><a href=\"#Заполнение-пропусков\" data-toc-modified-id=\"Заполнение-пропусков-2.1\"><span class=\"toc-item-num\">2.1&nbsp;&nbsp;</span>Заполнение пропусков</a></span></li><li><span><a href=\"#Замена-типа-данных\" data-toc-modified-id=\"Замена-типа-данных-2.2\"><span class=\"toc-item-num\">2.2&nbsp;&nbsp;</span>Замена типа данных</a></span></li><li><span><a href=\"#Вывод\" data-toc-modified-id=\"Вывод-2.3\"><span class=\"toc-item-num\">2.3&nbsp;&nbsp;</span>Вывод</a></span></li></ul></li><li><span><a href=\"#Расчёты-и-добавление-результатов-в-таблицу\" data-toc-modified-id=\"Расчёты-и-добавление-результатов-в-таблицу-3\"><span class=\"toc-item-num\">3&nbsp;&nbsp;</span>Расчёты и добавление результатов в таблицу</a></span><ul class=\"toc-item\"><li><span><a href=\"#Вывод\" data-toc-modified-id=\"Вывод-3.1\"><span class=\"toc-item-num\">3.1&nbsp;&nbsp;</span>Вывод</a></span></li></ul></li><li><span><a href=\"#Исследовательский-анализ-данных\" data-toc-modified-id=\"Исследовательский-анализ-данных-4\"><span class=\"toc-item-num\">4&nbsp;&nbsp;</span>Исследовательский анализ данных</a></span><ul class=\"toc-item\"><li><span><a href=\"#Вывод\" data-toc-modified-id=\"Вывод-4.1\"><span class=\"toc-item-num\">4.1&nbsp;&nbsp;</span>Вывод</a></span></li></ul></li><li><span><a href=\"#Общий-вывод\" data-toc-modified-id=\"Общий-вывод-5\"><span class=\"toc-item-num\">5&nbsp;&nbsp;</span>Общий вывод</a></span></li><li><span><a href=\"#Чек-лист-готовности-проекта\" data-toc-modified-id=\"Чек-лист-готовности-проекта-6\"><span class=\"toc-item-num\">6&nbsp;&nbsp;</span>Чек-лист готовности проекта</a></span></li></ul></div>"
   ]
  },
  {
   "cell_type": "markdown",
   "metadata": {},
   "source": [
    "# Исследование объявлений о продаже квартир\n",
    "\n",
    "В вашем распоряжении данные сервиса Яндекс.Недвижимость — архив объявлений о продаже квартир в Санкт-Петербурге и соседних населённых пунктах за несколько лет. Нужно научиться определять рыночную стоимость объектов недвижимости. Ваша задача — установить параметры. Это позволит построить автоматизированную систему: она отследит аномалии и мошенническую деятельность. \n",
    "\n",
    "По каждой квартире на продажу доступны два вида данных. Первые вписаны пользователем, вторые получены автоматически на основе картографических данных. Например, расстояние до центра, аэропорта, ближайшего парка и водоёма. "
   ]
  },
  {
   "cell_type": "markdown",
   "metadata": {},
   "source": [
    "## Изучение данных из файла"
   ]
  },
  {
   "cell_type": "markdown",
   "metadata": {},
   "source": [
    "### Описание\n",
    "\n",
    "`airports_nearest` — расстояние до ближайшего аэропорта в метрах (м)\n",
    "\n",
    "`balcony` — число балконов\n",
    "\n",
    "`ceiling_height` — высота потолков (м)\n",
    "\n",
    "`cityCenters_nearest` — расстояние до центра города (м)\n",
    "\n",
    "`days_exposition` — сколько дней было размещено объявление (от публикации до снятия)\n",
    "\n",
    "`first_day_exposition` — дата публикации\n",
    "\n",
    "`floor` — этаж\n",
    "\n",
    "`floors_total` — всего этажей в доме\n",
    "\n",
    "`is_apartment` — апартаменты (булев тип)\n",
    "\n",
    "`kitchen_area` — площадь кухни в квадратных метрах (м²)\n",
    "\n",
    "`last_price` — цена на момент снятия с публикации\n",
    "\n",
    "`living_area` — жилая площадь в квадратных метрах (м²)\n",
    "\n",
    "`locality_name` — название населённого пункта\n",
    "\n",
    "`open_plan` — свободная планировка (булев тип)\n",
    "\n",
    "`parks_around3000` — число парков в радиусе 3 км\n",
    "\n",
    "`parks_nearest` — расстояние до ближайшего парка (м)\n",
    "\n",
    "`ponds_around3000` — число водоёмов в радиусе 3 км\n",
    "\n",
    "`ponds_nearest` — расстояние до ближайшего водоёма (м)\n",
    "\n",
    "`rooms` — число комнат\n",
    "\n",
    "`studio` — квартира-студия (булев тип)\n",
    "\n",
    "`total_area` — площадь квартиры в квадратных метрах (м²)\n",
    "\n",
    "`total_images` — число фотографий квартиры в объявлении"
   ]
  },
  {
   "cell_type": "markdown",
   "metadata": {},
   "source": [
    "Импортируем необходимые модули и создадим функцию для изучения данных, выполним проверку на налицие дубликатов"
   ]
  },
  {
   "cell_type": "code",
   "execution_count": 34,
   "metadata": {},
   "outputs": [],
   "source": [
    "import pandas as pd\n",
    "import seaborn as sns\n",
    "import matplotlib.pyplot as plt\n",
    "import numpy as np"
   ]
  },
  {
   "cell_type": "code",
   "execution_count": 35,
   "metadata": {},
   "outputs": [],
   "source": [
    "ads_df = pd.read_csv('/datasets/real_estate_data.csv', sep='\\t')\n",
    "#ads_df.head()\n",
    "def explore_data(df):\n",
    "    display(\n",
    "        \"Сводная информация:\", df.info(),\n",
    "        \"10 строк:\", df.head(10),\n",
    "        \"Столбцы:\", df.columns,\n",
    "        \"Числовое описание:\", df.describe(),\n",
    "        \"Сумма пропусков:\", df.isna().sum(),\n",
    "        \"Доля пропусков:\", df.isna().mean(),\n",
    "        \"Явные дубликаты:\", df.duplicated().sum(),\n",
    "       # \"Корреляция:\", ads_df.corr(),\n",
    "        #sns.heatmap(ads_df.corr())\n",
    "    )\n",
    "    "
   ]
  },
  {
   "cell_type": "code",
   "execution_count": 36,
   "metadata": {},
   "outputs": [
    {
     "name": "stdout",
     "output_type": "stream",
     "text": [
      "<class 'pandas.core.frame.DataFrame'>\n",
      "RangeIndex: 23699 entries, 0 to 23698\n",
      "Data columns (total 22 columns):\n",
      " #   Column                Non-Null Count  Dtype  \n",
      "---  ------                --------------  -----  \n",
      " 0   total_images          23699 non-null  int64  \n",
      " 1   last_price            23699 non-null  float64\n",
      " 2   total_area            23699 non-null  float64\n",
      " 3   first_day_exposition  23699 non-null  object \n",
      " 4   rooms                 23699 non-null  int64  \n",
      " 5   ceiling_height        14504 non-null  float64\n",
      " 6   floors_total          23613 non-null  float64\n",
      " 7   living_area           21796 non-null  float64\n",
      " 8   floor                 23699 non-null  int64  \n",
      " 9   is_apartment          2775 non-null   object \n",
      " 10  studio                23699 non-null  bool   \n",
      " 11  open_plan             23699 non-null  bool   \n",
      " 12  kitchen_area          21421 non-null  float64\n",
      " 13  balcony               12180 non-null  float64\n",
      " 14  locality_name         23650 non-null  object \n",
      " 15  airports_nearest      18157 non-null  float64\n",
      " 16  cityCenters_nearest   18180 non-null  float64\n",
      " 17  parks_around3000      18181 non-null  float64\n",
      " 18  parks_nearest         8079 non-null   float64\n",
      " 19  ponds_around3000      18181 non-null  float64\n",
      " 20  ponds_nearest         9110 non-null   float64\n",
      " 21  days_exposition       20518 non-null  float64\n",
      "dtypes: bool(2), float64(14), int64(3), object(3)\n",
      "memory usage: 3.7+ MB\n"
     ]
    },
    {
     "data": {
      "text/plain": [
       "'Сводная информация:'"
      ]
     },
     "metadata": {},
     "output_type": "display_data"
    },
    {
     "data": {
      "text/plain": [
       "None"
      ]
     },
     "metadata": {},
     "output_type": "display_data"
    },
    {
     "data": {
      "text/plain": [
       "'10 строк:'"
      ]
     },
     "metadata": {},
     "output_type": "display_data"
    },
    {
     "data": {
      "text/html": [
       "<div>\n",
       "<style scoped>\n",
       "    .dataframe tbody tr th:only-of-type {\n",
       "        vertical-align: middle;\n",
       "    }\n",
       "\n",
       "    .dataframe tbody tr th {\n",
       "        vertical-align: top;\n",
       "    }\n",
       "\n",
       "    .dataframe thead th {\n",
       "        text-align: right;\n",
       "    }\n",
       "</style>\n",
       "<table border=\"1\" class=\"dataframe\">\n",
       "  <thead>\n",
       "    <tr style=\"text-align: right;\">\n",
       "      <th></th>\n",
       "      <th>total_images</th>\n",
       "      <th>last_price</th>\n",
       "      <th>total_area</th>\n",
       "      <th>first_day_exposition</th>\n",
       "      <th>rooms</th>\n",
       "      <th>ceiling_height</th>\n",
       "      <th>floors_total</th>\n",
       "      <th>living_area</th>\n",
       "      <th>floor</th>\n",
       "      <th>is_apartment</th>\n",
       "      <th>...</th>\n",
       "      <th>kitchen_area</th>\n",
       "      <th>balcony</th>\n",
       "      <th>locality_name</th>\n",
       "      <th>airports_nearest</th>\n",
       "      <th>cityCenters_nearest</th>\n",
       "      <th>parks_around3000</th>\n",
       "      <th>parks_nearest</th>\n",
       "      <th>ponds_around3000</th>\n",
       "      <th>ponds_nearest</th>\n",
       "      <th>days_exposition</th>\n",
       "    </tr>\n",
       "  </thead>\n",
       "  <tbody>\n",
       "    <tr>\n",
       "      <th>0</th>\n",
       "      <td>20</td>\n",
       "      <td>13000000.0</td>\n",
       "      <td>108.00</td>\n",
       "      <td>2019-03-07T00:00:00</td>\n",
       "      <td>3</td>\n",
       "      <td>2.70</td>\n",
       "      <td>16.0</td>\n",
       "      <td>51.00</td>\n",
       "      <td>8</td>\n",
       "      <td>NaN</td>\n",
       "      <td>...</td>\n",
       "      <td>25.00</td>\n",
       "      <td>NaN</td>\n",
       "      <td>Санкт-Петербург</td>\n",
       "      <td>18863.0</td>\n",
       "      <td>16028.0</td>\n",
       "      <td>1.0</td>\n",
       "      <td>482.0</td>\n",
       "      <td>2.0</td>\n",
       "      <td>755.0</td>\n",
       "      <td>NaN</td>\n",
       "    </tr>\n",
       "    <tr>\n",
       "      <th>1</th>\n",
       "      <td>7</td>\n",
       "      <td>3350000.0</td>\n",
       "      <td>40.40</td>\n",
       "      <td>2018-12-04T00:00:00</td>\n",
       "      <td>1</td>\n",
       "      <td>NaN</td>\n",
       "      <td>11.0</td>\n",
       "      <td>18.60</td>\n",
       "      <td>1</td>\n",
       "      <td>NaN</td>\n",
       "      <td>...</td>\n",
       "      <td>11.00</td>\n",
       "      <td>2.0</td>\n",
       "      <td>посёлок Шушары</td>\n",
       "      <td>12817.0</td>\n",
       "      <td>18603.0</td>\n",
       "      <td>0.0</td>\n",
       "      <td>NaN</td>\n",
       "      <td>0.0</td>\n",
       "      <td>NaN</td>\n",
       "      <td>81.0</td>\n",
       "    </tr>\n",
       "    <tr>\n",
       "      <th>2</th>\n",
       "      <td>10</td>\n",
       "      <td>5196000.0</td>\n",
       "      <td>56.00</td>\n",
       "      <td>2015-08-20T00:00:00</td>\n",
       "      <td>2</td>\n",
       "      <td>NaN</td>\n",
       "      <td>5.0</td>\n",
       "      <td>34.30</td>\n",
       "      <td>4</td>\n",
       "      <td>NaN</td>\n",
       "      <td>...</td>\n",
       "      <td>8.30</td>\n",
       "      <td>0.0</td>\n",
       "      <td>Санкт-Петербург</td>\n",
       "      <td>21741.0</td>\n",
       "      <td>13933.0</td>\n",
       "      <td>1.0</td>\n",
       "      <td>90.0</td>\n",
       "      <td>2.0</td>\n",
       "      <td>574.0</td>\n",
       "      <td>558.0</td>\n",
       "    </tr>\n",
       "    <tr>\n",
       "      <th>3</th>\n",
       "      <td>0</td>\n",
       "      <td>64900000.0</td>\n",
       "      <td>159.00</td>\n",
       "      <td>2015-07-24T00:00:00</td>\n",
       "      <td>3</td>\n",
       "      <td>NaN</td>\n",
       "      <td>14.0</td>\n",
       "      <td>NaN</td>\n",
       "      <td>9</td>\n",
       "      <td>NaN</td>\n",
       "      <td>...</td>\n",
       "      <td>NaN</td>\n",
       "      <td>0.0</td>\n",
       "      <td>Санкт-Петербург</td>\n",
       "      <td>28098.0</td>\n",
       "      <td>6800.0</td>\n",
       "      <td>2.0</td>\n",
       "      <td>84.0</td>\n",
       "      <td>3.0</td>\n",
       "      <td>234.0</td>\n",
       "      <td>424.0</td>\n",
       "    </tr>\n",
       "    <tr>\n",
       "      <th>4</th>\n",
       "      <td>2</td>\n",
       "      <td>10000000.0</td>\n",
       "      <td>100.00</td>\n",
       "      <td>2018-06-19T00:00:00</td>\n",
       "      <td>2</td>\n",
       "      <td>3.03</td>\n",
       "      <td>14.0</td>\n",
       "      <td>32.00</td>\n",
       "      <td>13</td>\n",
       "      <td>NaN</td>\n",
       "      <td>...</td>\n",
       "      <td>41.00</td>\n",
       "      <td>NaN</td>\n",
       "      <td>Санкт-Петербург</td>\n",
       "      <td>31856.0</td>\n",
       "      <td>8098.0</td>\n",
       "      <td>2.0</td>\n",
       "      <td>112.0</td>\n",
       "      <td>1.0</td>\n",
       "      <td>48.0</td>\n",
       "      <td>121.0</td>\n",
       "    </tr>\n",
       "    <tr>\n",
       "      <th>5</th>\n",
       "      <td>10</td>\n",
       "      <td>2890000.0</td>\n",
       "      <td>30.40</td>\n",
       "      <td>2018-09-10T00:00:00</td>\n",
       "      <td>1</td>\n",
       "      <td>NaN</td>\n",
       "      <td>12.0</td>\n",
       "      <td>14.40</td>\n",
       "      <td>5</td>\n",
       "      <td>NaN</td>\n",
       "      <td>...</td>\n",
       "      <td>9.10</td>\n",
       "      <td>NaN</td>\n",
       "      <td>городской посёлок Янино-1</td>\n",
       "      <td>NaN</td>\n",
       "      <td>NaN</td>\n",
       "      <td>NaN</td>\n",
       "      <td>NaN</td>\n",
       "      <td>NaN</td>\n",
       "      <td>NaN</td>\n",
       "      <td>55.0</td>\n",
       "    </tr>\n",
       "    <tr>\n",
       "      <th>6</th>\n",
       "      <td>6</td>\n",
       "      <td>3700000.0</td>\n",
       "      <td>37.30</td>\n",
       "      <td>2017-11-02T00:00:00</td>\n",
       "      <td>1</td>\n",
       "      <td>NaN</td>\n",
       "      <td>26.0</td>\n",
       "      <td>10.60</td>\n",
       "      <td>6</td>\n",
       "      <td>NaN</td>\n",
       "      <td>...</td>\n",
       "      <td>14.40</td>\n",
       "      <td>1.0</td>\n",
       "      <td>посёлок Парголово</td>\n",
       "      <td>52996.0</td>\n",
       "      <td>19143.0</td>\n",
       "      <td>0.0</td>\n",
       "      <td>NaN</td>\n",
       "      <td>0.0</td>\n",
       "      <td>NaN</td>\n",
       "      <td>155.0</td>\n",
       "    </tr>\n",
       "    <tr>\n",
       "      <th>7</th>\n",
       "      <td>5</td>\n",
       "      <td>7915000.0</td>\n",
       "      <td>71.60</td>\n",
       "      <td>2019-04-18T00:00:00</td>\n",
       "      <td>2</td>\n",
       "      <td>NaN</td>\n",
       "      <td>24.0</td>\n",
       "      <td>NaN</td>\n",
       "      <td>22</td>\n",
       "      <td>NaN</td>\n",
       "      <td>...</td>\n",
       "      <td>18.90</td>\n",
       "      <td>2.0</td>\n",
       "      <td>Санкт-Петербург</td>\n",
       "      <td>23982.0</td>\n",
       "      <td>11634.0</td>\n",
       "      <td>0.0</td>\n",
       "      <td>NaN</td>\n",
       "      <td>0.0</td>\n",
       "      <td>NaN</td>\n",
       "      <td>NaN</td>\n",
       "    </tr>\n",
       "    <tr>\n",
       "      <th>8</th>\n",
       "      <td>20</td>\n",
       "      <td>2900000.0</td>\n",
       "      <td>33.16</td>\n",
       "      <td>2018-05-23T00:00:00</td>\n",
       "      <td>1</td>\n",
       "      <td>NaN</td>\n",
       "      <td>27.0</td>\n",
       "      <td>15.43</td>\n",
       "      <td>26</td>\n",
       "      <td>NaN</td>\n",
       "      <td>...</td>\n",
       "      <td>8.81</td>\n",
       "      <td>NaN</td>\n",
       "      <td>посёлок Мурино</td>\n",
       "      <td>NaN</td>\n",
       "      <td>NaN</td>\n",
       "      <td>NaN</td>\n",
       "      <td>NaN</td>\n",
       "      <td>NaN</td>\n",
       "      <td>NaN</td>\n",
       "      <td>189.0</td>\n",
       "    </tr>\n",
       "    <tr>\n",
       "      <th>9</th>\n",
       "      <td>18</td>\n",
       "      <td>5400000.0</td>\n",
       "      <td>61.00</td>\n",
       "      <td>2017-02-26T00:00:00</td>\n",
       "      <td>3</td>\n",
       "      <td>2.50</td>\n",
       "      <td>9.0</td>\n",
       "      <td>43.60</td>\n",
       "      <td>7</td>\n",
       "      <td>NaN</td>\n",
       "      <td>...</td>\n",
       "      <td>6.50</td>\n",
       "      <td>2.0</td>\n",
       "      <td>Санкт-Петербург</td>\n",
       "      <td>50898.0</td>\n",
       "      <td>15008.0</td>\n",
       "      <td>0.0</td>\n",
       "      <td>NaN</td>\n",
       "      <td>0.0</td>\n",
       "      <td>NaN</td>\n",
       "      <td>289.0</td>\n",
       "    </tr>\n",
       "  </tbody>\n",
       "</table>\n",
       "<p>10 rows × 22 columns</p>\n",
       "</div>"
      ],
      "text/plain": [
       "   total_images  last_price  total_area first_day_exposition  rooms  \\\n",
       "0            20  13000000.0      108.00  2019-03-07T00:00:00      3   \n",
       "1             7   3350000.0       40.40  2018-12-04T00:00:00      1   \n",
       "2            10   5196000.0       56.00  2015-08-20T00:00:00      2   \n",
       "3             0  64900000.0      159.00  2015-07-24T00:00:00      3   \n",
       "4             2  10000000.0      100.00  2018-06-19T00:00:00      2   \n",
       "5            10   2890000.0       30.40  2018-09-10T00:00:00      1   \n",
       "6             6   3700000.0       37.30  2017-11-02T00:00:00      1   \n",
       "7             5   7915000.0       71.60  2019-04-18T00:00:00      2   \n",
       "8            20   2900000.0       33.16  2018-05-23T00:00:00      1   \n",
       "9            18   5400000.0       61.00  2017-02-26T00:00:00      3   \n",
       "\n",
       "   ceiling_height  floors_total  living_area  floor is_apartment  ...  \\\n",
       "0            2.70          16.0        51.00      8          NaN  ...   \n",
       "1             NaN          11.0        18.60      1          NaN  ...   \n",
       "2             NaN           5.0        34.30      4          NaN  ...   \n",
       "3             NaN          14.0          NaN      9          NaN  ...   \n",
       "4            3.03          14.0        32.00     13          NaN  ...   \n",
       "5             NaN          12.0        14.40      5          NaN  ...   \n",
       "6             NaN          26.0        10.60      6          NaN  ...   \n",
       "7             NaN          24.0          NaN     22          NaN  ...   \n",
       "8             NaN          27.0        15.43     26          NaN  ...   \n",
       "9            2.50           9.0        43.60      7          NaN  ...   \n",
       "\n",
       "   kitchen_area  balcony              locality_name  airports_nearest  \\\n",
       "0         25.00      NaN            Санкт-Петербург           18863.0   \n",
       "1         11.00      2.0             посёлок Шушары           12817.0   \n",
       "2          8.30      0.0            Санкт-Петербург           21741.0   \n",
       "3           NaN      0.0            Санкт-Петербург           28098.0   \n",
       "4         41.00      NaN            Санкт-Петербург           31856.0   \n",
       "5          9.10      NaN  городской посёлок Янино-1               NaN   \n",
       "6         14.40      1.0          посёлок Парголово           52996.0   \n",
       "7         18.90      2.0            Санкт-Петербург           23982.0   \n",
       "8          8.81      NaN             посёлок Мурино               NaN   \n",
       "9          6.50      2.0            Санкт-Петербург           50898.0   \n",
       "\n",
       "  cityCenters_nearest  parks_around3000  parks_nearest  ponds_around3000  \\\n",
       "0             16028.0               1.0          482.0               2.0   \n",
       "1             18603.0               0.0            NaN               0.0   \n",
       "2             13933.0               1.0           90.0               2.0   \n",
       "3              6800.0               2.0           84.0               3.0   \n",
       "4              8098.0               2.0          112.0               1.0   \n",
       "5                 NaN               NaN            NaN               NaN   \n",
       "6             19143.0               0.0            NaN               0.0   \n",
       "7             11634.0               0.0            NaN               0.0   \n",
       "8                 NaN               NaN            NaN               NaN   \n",
       "9             15008.0               0.0            NaN               0.0   \n",
       "\n",
       "   ponds_nearest  days_exposition  \n",
       "0          755.0              NaN  \n",
       "1            NaN             81.0  \n",
       "2          574.0            558.0  \n",
       "3          234.0            424.0  \n",
       "4           48.0            121.0  \n",
       "5            NaN             55.0  \n",
       "6            NaN            155.0  \n",
       "7            NaN              NaN  \n",
       "8            NaN            189.0  \n",
       "9            NaN            289.0  \n",
       "\n",
       "[10 rows x 22 columns]"
      ]
     },
     "metadata": {},
     "output_type": "display_data"
    },
    {
     "data": {
      "text/plain": [
       "'Столбцы:'"
      ]
     },
     "metadata": {},
     "output_type": "display_data"
    },
    {
     "data": {
      "text/plain": [
       "Index(['total_images', 'last_price', 'total_area', 'first_day_exposition',\n",
       "       'rooms', 'ceiling_height', 'floors_total', 'living_area', 'floor',\n",
       "       'is_apartment', 'studio', 'open_plan', 'kitchen_area', 'balcony',\n",
       "       'locality_name', 'airports_nearest', 'cityCenters_nearest',\n",
       "       'parks_around3000', 'parks_nearest', 'ponds_around3000',\n",
       "       'ponds_nearest', 'days_exposition'],\n",
       "      dtype='object')"
      ]
     },
     "metadata": {},
     "output_type": "display_data"
    },
    {
     "data": {
      "text/plain": [
       "'Числовое описание:'"
      ]
     },
     "metadata": {},
     "output_type": "display_data"
    },
    {
     "data": {
      "text/html": [
       "<div>\n",
       "<style scoped>\n",
       "    .dataframe tbody tr th:only-of-type {\n",
       "        vertical-align: middle;\n",
       "    }\n",
       "\n",
       "    .dataframe tbody tr th {\n",
       "        vertical-align: top;\n",
       "    }\n",
       "\n",
       "    .dataframe thead th {\n",
       "        text-align: right;\n",
       "    }\n",
       "</style>\n",
       "<table border=\"1\" class=\"dataframe\">\n",
       "  <thead>\n",
       "    <tr style=\"text-align: right;\">\n",
       "      <th></th>\n",
       "      <th>total_images</th>\n",
       "      <th>last_price</th>\n",
       "      <th>total_area</th>\n",
       "      <th>rooms</th>\n",
       "      <th>ceiling_height</th>\n",
       "      <th>floors_total</th>\n",
       "      <th>living_area</th>\n",
       "      <th>floor</th>\n",
       "      <th>kitchen_area</th>\n",
       "      <th>balcony</th>\n",
       "      <th>airports_nearest</th>\n",
       "      <th>cityCenters_nearest</th>\n",
       "      <th>parks_around3000</th>\n",
       "      <th>parks_nearest</th>\n",
       "      <th>ponds_around3000</th>\n",
       "      <th>ponds_nearest</th>\n",
       "      <th>days_exposition</th>\n",
       "    </tr>\n",
       "  </thead>\n",
       "  <tbody>\n",
       "    <tr>\n",
       "      <th>count</th>\n",
       "      <td>23699.000000</td>\n",
       "      <td>2.369900e+04</td>\n",
       "      <td>23699.000000</td>\n",
       "      <td>23699.000000</td>\n",
       "      <td>14504.000000</td>\n",
       "      <td>23613.000000</td>\n",
       "      <td>21796.000000</td>\n",
       "      <td>23699.000000</td>\n",
       "      <td>21421.000000</td>\n",
       "      <td>12180.000000</td>\n",
       "      <td>18157.000000</td>\n",
       "      <td>18180.000000</td>\n",
       "      <td>18181.000000</td>\n",
       "      <td>8079.000000</td>\n",
       "      <td>18181.000000</td>\n",
       "      <td>9110.000000</td>\n",
       "      <td>20518.000000</td>\n",
       "    </tr>\n",
       "    <tr>\n",
       "      <th>mean</th>\n",
       "      <td>9.858475</td>\n",
       "      <td>6.541549e+06</td>\n",
       "      <td>60.348651</td>\n",
       "      <td>2.070636</td>\n",
       "      <td>2.771499</td>\n",
       "      <td>10.673824</td>\n",
       "      <td>34.457852</td>\n",
       "      <td>5.892358</td>\n",
       "      <td>10.569807</td>\n",
       "      <td>1.150082</td>\n",
       "      <td>28793.672193</td>\n",
       "      <td>14191.277833</td>\n",
       "      <td>0.611408</td>\n",
       "      <td>490.804555</td>\n",
       "      <td>0.770255</td>\n",
       "      <td>517.980900</td>\n",
       "      <td>180.888634</td>\n",
       "    </tr>\n",
       "    <tr>\n",
       "      <th>std</th>\n",
       "      <td>5.682529</td>\n",
       "      <td>1.088701e+07</td>\n",
       "      <td>35.654083</td>\n",
       "      <td>1.078405</td>\n",
       "      <td>1.261056</td>\n",
       "      <td>6.597173</td>\n",
       "      <td>22.030445</td>\n",
       "      <td>4.885249</td>\n",
       "      <td>5.905438</td>\n",
       "      <td>1.071300</td>\n",
       "      <td>12630.880622</td>\n",
       "      <td>8608.386210</td>\n",
       "      <td>0.802074</td>\n",
       "      <td>342.317995</td>\n",
       "      <td>0.938346</td>\n",
       "      <td>277.720643</td>\n",
       "      <td>219.727988</td>\n",
       "    </tr>\n",
       "    <tr>\n",
       "      <th>min</th>\n",
       "      <td>0.000000</td>\n",
       "      <td>1.219000e+04</td>\n",
       "      <td>12.000000</td>\n",
       "      <td>0.000000</td>\n",
       "      <td>1.000000</td>\n",
       "      <td>1.000000</td>\n",
       "      <td>2.000000</td>\n",
       "      <td>1.000000</td>\n",
       "      <td>1.300000</td>\n",
       "      <td>0.000000</td>\n",
       "      <td>0.000000</td>\n",
       "      <td>181.000000</td>\n",
       "      <td>0.000000</td>\n",
       "      <td>1.000000</td>\n",
       "      <td>0.000000</td>\n",
       "      <td>13.000000</td>\n",
       "      <td>1.000000</td>\n",
       "    </tr>\n",
       "    <tr>\n",
       "      <th>25%</th>\n",
       "      <td>6.000000</td>\n",
       "      <td>3.400000e+06</td>\n",
       "      <td>40.000000</td>\n",
       "      <td>1.000000</td>\n",
       "      <td>2.520000</td>\n",
       "      <td>5.000000</td>\n",
       "      <td>18.600000</td>\n",
       "      <td>2.000000</td>\n",
       "      <td>7.000000</td>\n",
       "      <td>0.000000</td>\n",
       "      <td>18585.000000</td>\n",
       "      <td>9238.000000</td>\n",
       "      <td>0.000000</td>\n",
       "      <td>288.000000</td>\n",
       "      <td>0.000000</td>\n",
       "      <td>294.000000</td>\n",
       "      <td>45.000000</td>\n",
       "    </tr>\n",
       "    <tr>\n",
       "      <th>50%</th>\n",
       "      <td>9.000000</td>\n",
       "      <td>4.650000e+06</td>\n",
       "      <td>52.000000</td>\n",
       "      <td>2.000000</td>\n",
       "      <td>2.650000</td>\n",
       "      <td>9.000000</td>\n",
       "      <td>30.000000</td>\n",
       "      <td>4.000000</td>\n",
       "      <td>9.100000</td>\n",
       "      <td>1.000000</td>\n",
       "      <td>26726.000000</td>\n",
       "      <td>13098.500000</td>\n",
       "      <td>0.000000</td>\n",
       "      <td>455.000000</td>\n",
       "      <td>1.000000</td>\n",
       "      <td>502.000000</td>\n",
       "      <td>95.000000</td>\n",
       "    </tr>\n",
       "    <tr>\n",
       "      <th>75%</th>\n",
       "      <td>14.000000</td>\n",
       "      <td>6.800000e+06</td>\n",
       "      <td>69.900000</td>\n",
       "      <td>3.000000</td>\n",
       "      <td>2.800000</td>\n",
       "      <td>16.000000</td>\n",
       "      <td>42.300000</td>\n",
       "      <td>8.000000</td>\n",
       "      <td>12.000000</td>\n",
       "      <td>2.000000</td>\n",
       "      <td>37273.000000</td>\n",
       "      <td>16293.000000</td>\n",
       "      <td>1.000000</td>\n",
       "      <td>612.000000</td>\n",
       "      <td>1.000000</td>\n",
       "      <td>729.000000</td>\n",
       "      <td>232.000000</td>\n",
       "    </tr>\n",
       "    <tr>\n",
       "      <th>max</th>\n",
       "      <td>50.000000</td>\n",
       "      <td>7.630000e+08</td>\n",
       "      <td>900.000000</td>\n",
       "      <td>19.000000</td>\n",
       "      <td>100.000000</td>\n",
       "      <td>60.000000</td>\n",
       "      <td>409.700000</td>\n",
       "      <td>33.000000</td>\n",
       "      <td>112.000000</td>\n",
       "      <td>5.000000</td>\n",
       "      <td>84869.000000</td>\n",
       "      <td>65968.000000</td>\n",
       "      <td>3.000000</td>\n",
       "      <td>3190.000000</td>\n",
       "      <td>3.000000</td>\n",
       "      <td>1344.000000</td>\n",
       "      <td>1580.000000</td>\n",
       "    </tr>\n",
       "  </tbody>\n",
       "</table>\n",
       "</div>"
      ],
      "text/plain": [
       "       total_images    last_price    total_area         rooms  ceiling_height  \\\n",
       "count  23699.000000  2.369900e+04  23699.000000  23699.000000    14504.000000   \n",
       "mean       9.858475  6.541549e+06     60.348651      2.070636        2.771499   \n",
       "std        5.682529  1.088701e+07     35.654083      1.078405        1.261056   \n",
       "min        0.000000  1.219000e+04     12.000000      0.000000        1.000000   \n",
       "25%        6.000000  3.400000e+06     40.000000      1.000000        2.520000   \n",
       "50%        9.000000  4.650000e+06     52.000000      2.000000        2.650000   \n",
       "75%       14.000000  6.800000e+06     69.900000      3.000000        2.800000   \n",
       "max       50.000000  7.630000e+08    900.000000     19.000000      100.000000   \n",
       "\n",
       "       floors_total   living_area         floor  kitchen_area       balcony  \\\n",
       "count  23613.000000  21796.000000  23699.000000  21421.000000  12180.000000   \n",
       "mean      10.673824     34.457852      5.892358     10.569807      1.150082   \n",
       "std        6.597173     22.030445      4.885249      5.905438      1.071300   \n",
       "min        1.000000      2.000000      1.000000      1.300000      0.000000   \n",
       "25%        5.000000     18.600000      2.000000      7.000000      0.000000   \n",
       "50%        9.000000     30.000000      4.000000      9.100000      1.000000   \n",
       "75%       16.000000     42.300000      8.000000     12.000000      2.000000   \n",
       "max       60.000000    409.700000     33.000000    112.000000      5.000000   \n",
       "\n",
       "       airports_nearest  cityCenters_nearest  parks_around3000  parks_nearest  \\\n",
       "count      18157.000000         18180.000000      18181.000000    8079.000000   \n",
       "mean       28793.672193         14191.277833          0.611408     490.804555   \n",
       "std        12630.880622          8608.386210          0.802074     342.317995   \n",
       "min            0.000000           181.000000          0.000000       1.000000   \n",
       "25%        18585.000000          9238.000000          0.000000     288.000000   \n",
       "50%        26726.000000         13098.500000          0.000000     455.000000   \n",
       "75%        37273.000000         16293.000000          1.000000     612.000000   \n",
       "max        84869.000000         65968.000000          3.000000    3190.000000   \n",
       "\n",
       "       ponds_around3000  ponds_nearest  days_exposition  \n",
       "count      18181.000000    9110.000000     20518.000000  \n",
       "mean           0.770255     517.980900       180.888634  \n",
       "std            0.938346     277.720643       219.727988  \n",
       "min            0.000000      13.000000         1.000000  \n",
       "25%            0.000000     294.000000        45.000000  \n",
       "50%            1.000000     502.000000        95.000000  \n",
       "75%            1.000000     729.000000       232.000000  \n",
       "max            3.000000    1344.000000      1580.000000  "
      ]
     },
     "metadata": {},
     "output_type": "display_data"
    },
    {
     "data": {
      "text/plain": [
       "'Сумма пропусков:'"
      ]
     },
     "metadata": {},
     "output_type": "display_data"
    },
    {
     "data": {
      "text/plain": [
       "total_images                0\n",
       "last_price                  0\n",
       "total_area                  0\n",
       "first_day_exposition        0\n",
       "rooms                       0\n",
       "ceiling_height           9195\n",
       "floors_total               86\n",
       "living_area              1903\n",
       "floor                       0\n",
       "is_apartment            20924\n",
       "studio                      0\n",
       "open_plan                   0\n",
       "kitchen_area             2278\n",
       "balcony                 11519\n",
       "locality_name              49\n",
       "airports_nearest         5542\n",
       "cityCenters_nearest      5519\n",
       "parks_around3000         5518\n",
       "parks_nearest           15620\n",
       "ponds_around3000         5518\n",
       "ponds_nearest           14589\n",
       "days_exposition          3181\n",
       "dtype: int64"
      ]
     },
     "metadata": {},
     "output_type": "display_data"
    },
    {
     "data": {
      "text/plain": [
       "'Доля пропусков:'"
      ]
     },
     "metadata": {},
     "output_type": "display_data"
    },
    {
     "data": {
      "text/plain": [
       "total_images            0.000000\n",
       "last_price              0.000000\n",
       "total_area              0.000000\n",
       "first_day_exposition    0.000000\n",
       "rooms                   0.000000\n",
       "ceiling_height          0.387991\n",
       "floors_total            0.003629\n",
       "living_area             0.080299\n",
       "floor                   0.000000\n",
       "is_apartment            0.882906\n",
       "studio                  0.000000\n",
       "open_plan               0.000000\n",
       "kitchen_area            0.096122\n",
       "balcony                 0.486054\n",
       "locality_name           0.002068\n",
       "airports_nearest        0.233850\n",
       "cityCenters_nearest     0.232879\n",
       "parks_around3000        0.232837\n",
       "parks_nearest           0.659100\n",
       "ponds_around3000        0.232837\n",
       "ponds_nearest           0.615596\n",
       "days_exposition         0.134225\n",
       "dtype: float64"
      ]
     },
     "metadata": {},
     "output_type": "display_data"
    },
    {
     "data": {
      "text/plain": [
       "'Явные дубликаты:'"
      ]
     },
     "metadata": {},
     "output_type": "display_data"
    },
    {
     "data": {
      "text/plain": [
       "0"
      ]
     },
     "metadata": {},
     "output_type": "display_data"
    }
   ],
   "source": [
    "explore_data(ads_df)"
   ]
  },
  {
   "cell_type": "code",
   "execution_count": 37,
   "metadata": {
    "scrolled": true
   },
   "outputs": [
    {
     "name": "stdout",
     "output_type": "stream",
     "text": [
      "В колонке 'locality_name' было выявлено 46 неявных дубликата\n"
     ]
    }
   ],
   "source": [
    "# Проверка на наличие неявных дубликатов в колонке 'locality_name'\n",
    "#с помощью приведения к одному регистру  и замены ё на е и удалением лишних слов\n",
    "#ads_df['locality_name'] = (ads_df['locality_name'])\n",
    "    \n",
    "low_locality_name_values = (ads_df['locality_name'].str.lower()\n",
    "                           .str.replace('ё',\"е\")\n",
    "                           .str.replace('городской ','')\n",
    "                            .str.replace('коттеджный ', '')\n",
    "                            .str.replace('городского типа ', '')\n",
    "                            .str.replace('при железнодорожной станции ','')\n",
    "                            .str.replace('станции ','')\n",
    "                           .sort_values().unique())\n",
    "                           \n",
    "locality_name_values = ads_df['locality_name'].sort_values().unique()\n",
    "if len(low_locality_name_values) != len(locality_name_values) :\n",
    "    print(f\"В колонке 'locality_name' было выявлено {len(locality_name_values) - len(low_locality_name_values)} неявных дубликата\")\n",
    "    ads_df['locality_name'] = (ads_df['locality_name'].str.lower()\n",
    "                               .str.replace('ё',\"е\")\n",
    "                               .str.replace('городской ','')\n",
    "                               .str.replace('коттеджный ', '')\n",
    "                               .str.replace('городского типа ', '')\n",
    "                               .str.replace('при железнодорожной станции ','')\n",
    "                               .str.replace('станции ',''))\n",
    "else:\n",
    "    print(\"Неявные дубликаты в колонке 'locality_name' отсутствуют\")\n",
    "    print(len(low_locality_name_values))\n",
    "   "
   ]
  },
  {
   "cell_type": "code",
   "execution_count": 38,
   "metadata": {
    "scrolled": true
   },
   "outputs": [
    {
     "data": {
      "text/plain": [
       "array(['бокситогорск', 'волосово', 'волхов', 'всеволожск', 'выборг',\n",
       "       'высоцк', 'гатчина', 'деревня агалатово', 'деревня аро',\n",
       "       'деревня батово', 'деревня бегуницы', 'деревня белогорка',\n",
       "       'деревня большая вруда', 'деревня большая пустомержа',\n",
       "       'деревня большие колпаны', 'деревня большое рейзино',\n",
       "       'деревня большой сабск', 'деревня бор', 'деревня борисова грива',\n",
       "       'деревня ваганово', 'деревня вартемяги', 'деревня вахнова кара',\n",
       "       'деревня выскатка', 'деревня гарболово', 'деревня глинка',\n",
       "       'деревня горбунки', 'деревня гостилицы', 'деревня заклинье',\n",
       "       'деревня заневка', 'деревня зимитицы', 'деревня извара',\n",
       "       'деревня иссад', 'деревня калитино', 'деревня кальтино',\n",
       "       'деревня камышовка', 'деревня каськово', 'деревня келози',\n",
       "       'деревня кипень', 'деревня кисельня', 'деревня колтуши',\n",
       "       'деревня коркино', 'деревня котлы', 'деревня кривко',\n",
       "       'деревня кудрово', 'деревня кузьмолово', 'деревня курковицы',\n",
       "       'деревня куровицы', 'деревня куттузи', 'деревня лаврики',\n",
       "       'деревня лаголово', 'деревня лампово', 'деревня лесколово',\n",
       "       'деревня лопухинка', 'деревня лупполово',\n",
       "       'деревня малая романовка', 'деревня малое верево',\n",
       "       'деревня малое карлино', 'деревня малые колпаны',\n",
       "       'деревня мануйлово', 'деревня меньково', 'деревня мины',\n",
       "       'деревня мистолово', 'деревня ненимяки', 'деревня нижние осельки',\n",
       "       'деревня нижняя', 'деревня низино', 'деревня новое девяткино',\n",
       "       'деревня новолисино', 'деревня нурма', 'деревня оржицы',\n",
       "       'деревня парицы', 'деревня пельгора', 'деревня пеники',\n",
       "       'деревня пижма', 'деревня пикколово', 'деревня пудомяги',\n",
       "       'деревня пустынка', 'деревня пчева', 'деревня рабитицы',\n",
       "       'деревня разбегаево', 'деревня раздолье', 'деревня разметелево',\n",
       "       'деревня рапполово', 'деревня реброво', 'деревня русско',\n",
       "       'деревня сижно', 'деревня снегиревка', 'деревня старая',\n",
       "       'деревня старая пустошь', 'деревня старое хинколово',\n",
       "       'деревня старополье', 'деревня старосиверская',\n",
       "       'деревня старые бегуницы', 'деревня суоранда',\n",
       "       'деревня сяськелево', 'деревня тарасово', 'деревня терпилицы',\n",
       "       'деревня тихковицы', 'деревня тойворово', 'деревня торосово',\n",
       "       'деревня торошковичи', 'деревня трубников бор',\n",
       "       'деревня фалилеево', 'деревня федоровское', 'деревня хапо-ое',\n",
       "       'деревня хязельки', 'деревня чудской бор', 'деревня шпаньково',\n",
       "       'деревня щеглово', 'деревня юкки', 'деревня ялгино',\n",
       "       'деревня яльгелево', 'деревня ям-тесово', 'зеленогорск',\n",
       "       'ивангород', 'каменногорск', 'кингисепп', 'кириши', 'кировск',\n",
       "       'колпино', 'коммунар', 'красное село', 'кронштадт', 'кудрово',\n",
       "       'лодейное поле', 'ломоносов', 'луга', 'любань', 'мурино',\n",
       "       'никольское', 'новая ладога', 'отрадное', 'павловск', 'петергоф',\n",
       "       'пикалево', 'подпорожье', 'поселок александровская',\n",
       "       'поселок алексеевка', 'поселок аннино', 'поселок барышево',\n",
       "       'поселок белоостров', 'поселок большая ижора', 'поселок бугры',\n",
       "       'поселок будогощь', 'поселок важины', 'поселок вещево',\n",
       "       'поселок виллози', 'поселок вознесенье', 'поселок возрождение',\n",
       "       'поселок войсковицы', 'поселок войскорово', 'поселок володарское',\n",
       "       'поселок вырица', 'поселок высокоключевой', 'поселок гаврилово',\n",
       "       'поселок гарболово', 'поселок гладкое', 'поселок глажево',\n",
       "       'поселок глебычево', 'поселок гончарово', 'поселок громово',\n",
       "       'поселок дзержинского', 'поселок дружная горка',\n",
       "       'поселок дружноселье', 'поселок дубровка', 'поселок елизаветино',\n",
       "       'поселок ефимовский', 'поселок жилгородок', 'поселок жилпоселок',\n",
       "       'поселок житково', 'поселок заводской', 'поселок запорожское',\n",
       "       'поселок зимитицы', 'поселок ильичево', 'поселок имени морозова',\n",
       "       'поселок имени свердлова', 'поселок калитино', 'поселок каложицы',\n",
       "       'поселок кивеннапа север', 'поселок кикерино',\n",
       "       'поселок кингисеппский', 'поселок кирпичное', 'поселок кобралово',\n",
       "       'поселок кобринское', 'поселок коммунары', 'поселок кондратьево',\n",
       "       'поселок корнево', 'поселок коробицыно', 'поселок котельский',\n",
       "       'поселок красная долина', 'поселок красносельское',\n",
       "       'поселок красный бор', 'поселок кузнечное',\n",
       "       'поселок кузьмоловский', 'поселок лебяжье', 'поселок левашово',\n",
       "       'поселок ленинское', 'поселок лесное', 'поселок лесогорский',\n",
       "       'поселок лисий нос', 'поселок лужайка', 'поселок лукаши',\n",
       "       'поселок любань', 'поселок мга', 'поселок мельниково',\n",
       "       'поселок металлострой', 'поселок мичуринское',\n",
       "       'поселок молодежное', 'поселок молодцово', 'поселок мурино',\n",
       "       'поселок мыза-ивановка', 'поселок назия', 'поселок никольский',\n",
       "       'поселок новогорелово', 'поселок новоселье', 'поселок новый свет',\n",
       "       'поселок новый учхоз', 'поселок оредеж', 'поселок павлово',\n",
       "       'поселок пансионат зеленый бор', 'поселок парголово',\n",
       "       'поселок первомайское', 'поселок перово', 'поселок песочный',\n",
       "       'поселок петро-славянка', 'поселок петровское',\n",
       "       'поселок платформа 69-й километр', 'поселок плодовое',\n",
       "       'поселок плоское', 'поселок победа', 'поселок поляны',\n",
       "       'поселок понтонный', 'поселок почап', 'поселок починок',\n",
       "       'поселок приветнинское', 'поселок пригородный',\n",
       "       'поселок приладожский', 'поселок пудость', 'поселок пушное',\n",
       "       'поселок пчевжа', 'поселок рабитицы', 'поселок рахья',\n",
       "       'поселок репино', 'поселок романовка', 'поселок ромашки',\n",
       "       'поселок ропша', 'поселок рощино', 'поселок рябово',\n",
       "       'поселок саперное', 'поселок саперный', 'поселок свирь',\n",
       "       'поселок свирьстрой', 'поселок севастьяново', 'поселок селезнево',\n",
       "       'поселок сельцо', 'поселок семиозерье', 'поселок семрино',\n",
       "       'поселок серебрянский', 'поселок сиверский', 'поселок синявино',\n",
       "       'поселок советский', 'поселок совхозный', 'поселок сосново',\n",
       "       'поселок старая малукса', 'поселок стеклянный', 'поселок стрельна',\n",
       "       'поселок суйда', 'поселок сумино', 'поселок суходолье',\n",
       "       'поселок счастье', 'поселок тайцы', 'поселок тельмана',\n",
       "       'поселок терволово', 'поселок тесово-4', 'поселок токсово',\n",
       "       'поселок торковичи', 'поселок торфяное', 'поселок углово',\n",
       "       'поселок ульяновка', 'поселок усть-ижора', 'поселок усть-луга',\n",
       "       'поселок ушаки', 'поселок федоровское', 'поселок форносово',\n",
       "       'поселок форт красная горка', 'поселок цвелодубово',\n",
       "       'поселок цвылево', 'поселок шугозеро', 'поселок шушары',\n",
       "       'поселок щеглово', 'поселок янино-1', 'приморск', 'приозерск',\n",
       "       'пушкин',\n",
       "       'садоводческое некоммерческое товарищество лесная поляна',\n",
       "       'садовое товарищество новая ропша',\n",
       "       'садовое товарищество приладожский', 'садовое товарищество рахья',\n",
       "       'садовое товарищество садко', 'санкт-петербург', 'светогорск',\n",
       "       'село копорье', 'село никольское', 'село павлово', 'село паша',\n",
       "       'село путилово', 'село рождествено', 'село русско-высоцкое',\n",
       "       'село старая ладога', 'село шум', 'сертолово', 'сестрорецк',\n",
       "       'сланцы', 'сосновый бор', 'сясьстрой', 'тихвин', 'тосно',\n",
       "       'шлиссельбург', nan], dtype=object)"
      ]
     },
     "execution_count": 38,
     "metadata": {},
     "output_type": "execute_result"
    }
   ],
   "source": [
    "ads_df['locality_name'].sort_values().unique()"
   ]
  },
  {
   "cell_type": "markdown",
   "metadata": {},
   "source": [
    "### Вывод"
   ]
  },
  {
   "cell_type": "markdown",
   "metadata": {},
   "source": [
    "**Необходимо скорректировать названия следующих столбцов:**\n",
    "\n",
    "`parks_around3000` -> `parks_around_3000`\n",
    "`ponds_around3000`  -> `ponds_around_3000` \n",
    "`cityCenters_nearest` -> `city_сenters_nearest`\n",
    "\n",
    "**Изменить типы данных:**\n",
    "\n",
    "`first_day_exposition`  перевести в дату\n",
    "\n",
    "`floors_total, balcony, airports_nearest, city_сenters_nearest, parks_around_3000,\tparks_nearest, ponds_around_3000, ponds_nearest, days_exposition` в целочисленный\n",
    "\n",
    "`is_apartment`  в булевый, согласно описанию\n",
    "\n",
    "**Выявлены пропуски в в столбцах:** \n",
    "\n",
    "`ceiling_height           9195\n",
    "floors_total               86\n",
    "living_area              1903\n",
    "is_apartment            20924\n",
    "kitchen_area             2278\n",
    "balcony                 11519\n",
    "locality_name              49\n",
    "airports_nearest         5542\n",
    "cityCenters_nearest      5519\n",
    "parks_around3000         5518\n",
    "parks_nearest           15620\n",
    "ponds_around3000         5518\n",
    "ponds_nearest           14589\n",
    "days_exposition          3181`\n",
    "\n",
    "**Явных дубликатов нет**\n",
    "\n",
    "**В колонке `locality_name` выявлено 46 неявных дубликата**"
   ]
  },
  {
   "cell_type": "markdown",
   "metadata": {},
   "source": [
    "## Предобработка данных"
   ]
  },
  {
   "cell_type": "markdown",
   "metadata": {},
   "source": [
    "Переименуем столбцы, соторые не соответствуют стилю snake_case"
   ]
  },
  {
   "cell_type": "code",
   "execution_count": 39,
   "metadata": {
    "scrolled": true
   },
   "outputs": [
    {
     "name": "stdout",
     "output_type": "stream",
     "text": [
      "Index(['total_images', 'last_price', 'total_area', 'first_day_exposition',\n",
      "       'rooms', 'ceiling_height', 'floors_total', 'living_area', 'floor',\n",
      "       'is_apartment', 'studio', 'open_plan', 'kitchen_area', 'balcony',\n",
      "       'locality_name', 'airports_nearest', 'city_сenters_nearest',\n",
      "       'parks_around_3000', 'parks_nearest', 'ponds_around_3000',\n",
      "       'ponds_nearest', 'days_exposition'],\n",
      "      dtype='object')\n"
     ]
    }
   ],
   "source": [
    "ads_df = ads_df.rename(columns={'parks_around3000' : 'parks_around_3000',\n",
    "                       'ponds_around3000' : 'ponds_around_3000',\n",
    "                       'cityCenters_nearest' : 'city_сenters_nearest'})\n",
    "print(ads_df.columns)\n"
   ]
  },
  {
   "cell_type": "markdown",
   "metadata": {},
   "source": [
    "### Заполнение пропусков"
   ]
  },
  {
   "cell_type": "markdown",
   "metadata": {},
   "source": [
    "В столбцах `balcony`, `parks_around_3000`, `ponds_around_3000` заменим пропущенные значения на 0, допуская, что причиной отсутствия данных является отсутствие объектов \n",
    "Доля пропусков в столбце `locality_name` всего 0.2%, заменим пропуски на `unknown`, чтобы в дальнейшем можно было произвести лемматизацию населенных пунков и разделить их на категории\n",
    "¯ \\ _ (ツ) _ / ¯ "
   ]
  },
  {
   "cell_type": "code",
   "execution_count": 40,
   "metadata": {},
   "outputs": [],
   "source": [
    "ads_df[['balcony', 'parks_around_3000', 'ponds_around_3000']] = (\n",
    "    ads_df[['balcony', 'parks_around_3000', 'ponds_around_3000']].fillna(0)\n",
    ")\n",
    "ads_df['locality_name'] = ads_df['locality_name'].fillna('unknown')\n",
    "#ads_df['ceiling_height'] = ads_df['ceiling_height'].fillna(ads_df['ceiling_height'].mean())\n"
   ]
  },
  {
   "cell_type": "markdown",
   "metadata": {},
   "source": [
    "Логично, что чем выше потолки в квартирах, тем большие затраты несут застройщики, следовательно, цены на такие квартиры будут выше. Да и в целом квартиры с высокими потолками считаются более комфортными и престижными 💰💰💰 \n",
    "Чтобы заполнить пропуски в столбце `ceiling_height` поступим следующим образом:\n",
    "* создадим функцию, чтобы разделить квартиры в наборе на 4 ценовые категории с помощью квартилей\n",
    "    * `эконом класс`\n",
    "    * `комфорт класс`\n",
    "    * `бизнес класс`\n",
    "    * `премиум класс`\n",
    "* создадим новый столбец `price_category` и применим эту фунцкцию к каждой строке набора с помощью метода `apply`\n",
    "* сгруппируем данные по столбцу `price_category` \n",
    "* в каждой группе заполним пропуски медианным значением для этой категории\n",
    "\n",
    "Аналогично поступим со столбцами `living_area`, `kitchen_area` ¯ \\ _ (ツ) _ / ¯ "
   ]
  },
  {
   "cell_type": "code",
   "execution_count": 41,
   "metadata": {
    "scrolled": true
   },
   "outputs": [
    {
     "data": {
      "text/html": [
       "<div>\n",
       "<style scoped>\n",
       "    .dataframe tbody tr th:only-of-type {\n",
       "        vertical-align: middle;\n",
       "    }\n",
       "\n",
       "    .dataframe tbody tr th {\n",
       "        vertical-align: top;\n",
       "    }\n",
       "\n",
       "    .dataframe thead th {\n",
       "        text-align: right;\n",
       "    }\n",
       "</style>\n",
       "<table border=\"1\" class=\"dataframe\">\n",
       "  <thead>\n",
       "    <tr style=\"text-align: right;\">\n",
       "      <th></th>\n",
       "      <th>total_images</th>\n",
       "      <th>last_price</th>\n",
       "      <th>total_area</th>\n",
       "      <th>first_day_exposition</th>\n",
       "      <th>rooms</th>\n",
       "      <th>ceiling_height</th>\n",
       "      <th>floors_total</th>\n",
       "      <th>living_area</th>\n",
       "      <th>floor</th>\n",
       "      <th>is_apartment</th>\n",
       "      <th>...</th>\n",
       "      <th>balcony</th>\n",
       "      <th>locality_name</th>\n",
       "      <th>airports_nearest</th>\n",
       "      <th>city_сenters_nearest</th>\n",
       "      <th>parks_around_3000</th>\n",
       "      <th>parks_nearest</th>\n",
       "      <th>ponds_around_3000</th>\n",
       "      <th>ponds_nearest</th>\n",
       "      <th>days_exposition</th>\n",
       "      <th>price_category</th>\n",
       "    </tr>\n",
       "  </thead>\n",
       "  <tbody>\n",
       "    <tr>\n",
       "      <th>0</th>\n",
       "      <td>20</td>\n",
       "      <td>13000000.0</td>\n",
       "      <td>108.0</td>\n",
       "      <td>2019-03-07T00:00:00</td>\n",
       "      <td>3</td>\n",
       "      <td>2.70</td>\n",
       "      <td>16.0</td>\n",
       "      <td>51.0</td>\n",
       "      <td>8</td>\n",
       "      <td>NaN</td>\n",
       "      <td>...</td>\n",
       "      <td>0.0</td>\n",
       "      <td>санкт-петербург</td>\n",
       "      <td>18863.0</td>\n",
       "      <td>16028.0</td>\n",
       "      <td>1.0</td>\n",
       "      <td>482.0</td>\n",
       "      <td>2.0</td>\n",
       "      <td>755.0</td>\n",
       "      <td>127.0</td>\n",
       "      <td>премиум класс</td>\n",
       "    </tr>\n",
       "    <tr>\n",
       "      <th>1</th>\n",
       "      <td>7</td>\n",
       "      <td>3350000.0</td>\n",
       "      <td>40.4</td>\n",
       "      <td>2018-12-04T00:00:00</td>\n",
       "      <td>1</td>\n",
       "      <td>2.55</td>\n",
       "      <td>11.0</td>\n",
       "      <td>18.6</td>\n",
       "      <td>1</td>\n",
       "      <td>NaN</td>\n",
       "      <td>...</td>\n",
       "      <td>2.0</td>\n",
       "      <td>поселок шушары</td>\n",
       "      <td>12817.0</td>\n",
       "      <td>18603.0</td>\n",
       "      <td>0.0</td>\n",
       "      <td>NaN</td>\n",
       "      <td>0.0</td>\n",
       "      <td>NaN</td>\n",
       "      <td>81.0</td>\n",
       "      <td>эконом класс</td>\n",
       "    </tr>\n",
       "    <tr>\n",
       "      <th>2</th>\n",
       "      <td>10</td>\n",
       "      <td>5196000.0</td>\n",
       "      <td>56.0</td>\n",
       "      <td>2015-08-20T00:00:00</td>\n",
       "      <td>2</td>\n",
       "      <td>2.65</td>\n",
       "      <td>5.0</td>\n",
       "      <td>34.3</td>\n",
       "      <td>4</td>\n",
       "      <td>NaN</td>\n",
       "      <td>...</td>\n",
       "      <td>0.0</td>\n",
       "      <td>санкт-петербург</td>\n",
       "      <td>21741.0</td>\n",
       "      <td>13933.0</td>\n",
       "      <td>1.0</td>\n",
       "      <td>90.0</td>\n",
       "      <td>2.0</td>\n",
       "      <td>574.0</td>\n",
       "      <td>558.0</td>\n",
       "      <td>бизнес класс</td>\n",
       "    </tr>\n",
       "    <tr>\n",
       "      <th>3</th>\n",
       "      <td>0</td>\n",
       "      <td>64900000.0</td>\n",
       "      <td>159.0</td>\n",
       "      <td>2015-07-24T00:00:00</td>\n",
       "      <td>3</td>\n",
       "      <td>2.90</td>\n",
       "      <td>14.0</td>\n",
       "      <td>48.8</td>\n",
       "      <td>9</td>\n",
       "      <td>NaN</td>\n",
       "      <td>...</td>\n",
       "      <td>0.0</td>\n",
       "      <td>санкт-петербург</td>\n",
       "      <td>28098.0</td>\n",
       "      <td>6800.0</td>\n",
       "      <td>2.0</td>\n",
       "      <td>84.0</td>\n",
       "      <td>3.0</td>\n",
       "      <td>234.0</td>\n",
       "      <td>424.0</td>\n",
       "      <td>премиум класс</td>\n",
       "    </tr>\n",
       "    <tr>\n",
       "      <th>4</th>\n",
       "      <td>2</td>\n",
       "      <td>10000000.0</td>\n",
       "      <td>100.0</td>\n",
       "      <td>2018-06-19T00:00:00</td>\n",
       "      <td>2</td>\n",
       "      <td>3.03</td>\n",
       "      <td>14.0</td>\n",
       "      <td>32.0</td>\n",
       "      <td>13</td>\n",
       "      <td>NaN</td>\n",
       "      <td>...</td>\n",
       "      <td>0.0</td>\n",
       "      <td>санкт-петербург</td>\n",
       "      <td>31856.0</td>\n",
       "      <td>8098.0</td>\n",
       "      <td>2.0</td>\n",
       "      <td>112.0</td>\n",
       "      <td>1.0</td>\n",
       "      <td>48.0</td>\n",
       "      <td>121.0</td>\n",
       "      <td>премиум класс</td>\n",
       "    </tr>\n",
       "  </tbody>\n",
       "</table>\n",
       "<p>5 rows × 23 columns</p>\n",
       "</div>"
      ],
      "text/plain": [
       "   total_images  last_price  total_area first_day_exposition  rooms  \\\n",
       "0            20  13000000.0       108.0  2019-03-07T00:00:00      3   \n",
       "1             7   3350000.0        40.4  2018-12-04T00:00:00      1   \n",
       "2            10   5196000.0        56.0  2015-08-20T00:00:00      2   \n",
       "3             0  64900000.0       159.0  2015-07-24T00:00:00      3   \n",
       "4             2  10000000.0       100.0  2018-06-19T00:00:00      2   \n",
       "\n",
       "   ceiling_height  floors_total  living_area  floor is_apartment  ...  \\\n",
       "0            2.70          16.0         51.0      8          NaN  ...   \n",
       "1            2.55          11.0         18.6      1          NaN  ...   \n",
       "2            2.65           5.0         34.3      4          NaN  ...   \n",
       "3            2.90          14.0         48.8      9          NaN  ...   \n",
       "4            3.03          14.0         32.0     13          NaN  ...   \n",
       "\n",
       "   balcony    locality_name  airports_nearest  city_сenters_nearest  \\\n",
       "0      0.0  санкт-петербург           18863.0               16028.0   \n",
       "1      2.0   поселок шушары           12817.0               18603.0   \n",
       "2      0.0  санкт-петербург           21741.0               13933.0   \n",
       "3      0.0  санкт-петербург           28098.0                6800.0   \n",
       "4      0.0  санкт-петербург           31856.0                8098.0   \n",
       "\n",
       "  parks_around_3000  parks_nearest  ponds_around_3000  ponds_nearest  \\\n",
       "0               1.0          482.0                2.0          755.0   \n",
       "1               0.0            NaN                0.0            NaN   \n",
       "2               1.0           90.0                2.0          574.0   \n",
       "3               2.0           84.0                3.0          234.0   \n",
       "4               2.0          112.0                1.0           48.0   \n",
       "\n",
       "   days_exposition  price_category  \n",
       "0            127.0   премиум класс  \n",
       "1             81.0    эконом класс  \n",
       "2            558.0    бизнес класс  \n",
       "3            424.0   премиум класс  \n",
       "4            121.0   премиум класс  \n",
       "\n",
       "[5 rows x 23 columns]"
      ]
     },
     "execution_count": 41,
     "metadata": {},
     "output_type": "execute_result"
    }
   ],
   "source": [
    "def categorize_price(raw):\n",
    "    quantilies = ads_df['last_price'].quantile([0.25,0.5,0.75])\n",
    "    if raw['last_price'] < quantilies[0.25]:\n",
    "        return 'эконом класс'\n",
    "    if quantilies[0.25] <= raw['last_price'] < quantilies[0.5]:\n",
    "        return 'комфорт класс'\n",
    "    if quantilies[0.5] <= raw['last_price'] < quantilies[0.75]:\n",
    "        return 'бизнес класс'\n",
    "    if raw['last_price'] >= quantilies[0.75]:\n",
    "        return 'премиум класс'\n",
    "try:\n",
    "    ads_df['price_category'] = ads_df.apply(categorize_price, axis=1) # применим функцию categorize_price к каждой строке набора\n",
    "except:\n",
    "    print('oooops something went wrong!!! ЪУЪ ')\n",
    "    \n",
    "ads_df[['ceiling_height', 'living_area', 'kitchen_area', 'days_exposition']] = (\n",
    "    ads_df[['ceiling_height', 'living_area', 'kitchen_area', 'days_exposition']].\n",
    "    fillna(ads_df.groupby(by='price_category')[['ceiling_height', 'living_area', 'kitchen_area', 'days_exposition']].\n",
    "           transform('median')))\n",
    "    \n",
    "ads_df.head() #проверим\n"
   ]
  },
  {
   "cell_type": "markdown",
   "metadata": {},
   "source": [
    "Столбец `floors_total` содержит малую долю пропусков, меньше 0.004. Поэтому можно исключить строки с пропусками в данном столбце🦊"
   ]
  },
  {
   "cell_type": "code",
   "execution_count": 42,
   "metadata": {
    "scrolled": true
   },
   "outputs": [
    {
     "data": {
      "text/plain": [
       "total_images            0.000000\n",
       "last_price              0.000000\n",
       "total_area              0.000000\n",
       "first_day_exposition    0.000000\n",
       "rooms                   0.000000\n",
       "ceiling_height          0.000000\n",
       "floors_total            0.000000\n",
       "living_area             0.000000\n",
       "floor                   0.000000\n",
       "is_apartment            0.882480\n",
       "studio                  0.000000\n",
       "open_plan               0.000000\n",
       "kitchen_area            0.000000\n",
       "balcony                 0.000000\n",
       "locality_name           0.000000\n",
       "airports_nearest        0.234278\n",
       "city_сenters_nearest    0.233304\n",
       "parks_around_3000       0.000000\n",
       "parks_nearest           0.659298\n",
       "ponds_around_3000       0.000000\n",
       "ponds_nearest           0.616271\n",
       "days_exposition         0.000000\n",
       "price_category          0.000000\n",
       "dtype: float64"
      ]
     },
     "execution_count": 42,
     "metadata": {},
     "output_type": "execute_result"
    }
   ],
   "source": [
    "ads_df = ads_df.dropna(subset=['floors_total'])\n",
    "ads_df.isna().mean()\n"
   ]
  },
  {
   "cell_type": "markdown",
   "metadata": {},
   "source": [
    "Пропуски в столбцах `airports_nearest`, `city_сenters_nearest`, `parks_nearest`, `ponds_nearest` оставим незаполненными, т.к. в них содержатся географические данные, которые сложно восстановить без потери качества\n",
    "Пропуски в столбце `is_apartment` также оставим без изменений, т.к. отличие апартаментов от квартиры заключается в юридическом статусе помещения 🤓🤓🤓"
   ]
  },
  {
   "cell_type": "markdown",
   "metadata": {},
   "source": [
    "display(ads_df.groupby(by='price_category')['days_exposition'].mean())\n",
    "def categorize_size(raw):\n",
    "    quantilies = ads_df['total_area'].quantile([0.25,0.5,0.75])\n",
    "    if raw['total_area'] < quantilies[0.25]:\n",
    "        return 'маленькая'\n",
    "    if quantilies[0.25] <= raw['total_area'] < quantilies[0.5]:\n",
    "        return 'средняя'\n",
    "    if quantilies[0.5] <= raw['total_area'] < quantilies[0.75]:\n",
    "        return 'большая'\n",
    "    if raw['total_area'] >= quantilies[0.75]:\n",
    "        return 'дворец'\n",
    "try:\n",
    "    ads_df['total_area_category'] = ads_df.apply(categorize_size, axis=1) # применим функцию categorize_price к каждой строке набора\n",
    "except:\n",
    "    print('oooops something went wrong!!! ЪУЪ ')\n",
    "display(ads_df.groupby(by='total_area_category')['days_exposition'].mean())"
   ]
  },
  {
   "cell_type": "markdown",
   "metadata": {},
   "source": [
    "### Замена типа данных"
   ]
  },
  {
   "cell_type": "markdown",
   "metadata": {},
   "source": [
    "колонки 'floors_total', 'balcony',  'parks_around_3000','ponds_around_3000', 'days_exposition' в 'Int64',т.к. эти данные не могут быть дробными\n",
    "колонки 'ponds_nearest', 'parks_nearest', 'airports_nearest', 'city_сenters_nearest' в 'Int64', т.к\n",
    "нет необходимости в сантиметрах до ближайшего парка 🦊\n",
    "'first_day_exposition' переведем в формат даты         "
   ]
  },
  {
   "cell_type": "code",
   "execution_count": 43,
   "metadata": {
    "scrolled": true
   },
   "outputs": [
    {
     "data": {
      "text/html": [
       "<div>\n",
       "<style scoped>\n",
       "    .dataframe tbody tr th:only-of-type {\n",
       "        vertical-align: middle;\n",
       "    }\n",
       "\n",
       "    .dataframe tbody tr th {\n",
       "        vertical-align: top;\n",
       "    }\n",
       "\n",
       "    .dataframe thead th {\n",
       "        text-align: right;\n",
       "    }\n",
       "</style>\n",
       "<table border=\"1\" class=\"dataframe\">\n",
       "  <thead>\n",
       "    <tr style=\"text-align: right;\">\n",
       "      <th></th>\n",
       "      <th>total_images</th>\n",
       "      <th>last_price</th>\n",
       "      <th>total_area</th>\n",
       "      <th>first_day_exposition</th>\n",
       "      <th>rooms</th>\n",
       "      <th>ceiling_height</th>\n",
       "      <th>floors_total</th>\n",
       "      <th>living_area</th>\n",
       "      <th>floor</th>\n",
       "      <th>is_apartment</th>\n",
       "      <th>...</th>\n",
       "      <th>balcony</th>\n",
       "      <th>locality_name</th>\n",
       "      <th>airports_nearest</th>\n",
       "      <th>city_сenters_nearest</th>\n",
       "      <th>parks_around_3000</th>\n",
       "      <th>parks_nearest</th>\n",
       "      <th>ponds_around_3000</th>\n",
       "      <th>ponds_nearest</th>\n",
       "      <th>days_exposition</th>\n",
       "      <th>price_category</th>\n",
       "    </tr>\n",
       "  </thead>\n",
       "  <tbody>\n",
       "    <tr>\n",
       "      <th>0</th>\n",
       "      <td>20</td>\n",
       "      <td>13000000.0</td>\n",
       "      <td>108.0</td>\n",
       "      <td>2019-03-07</td>\n",
       "      <td>3</td>\n",
       "      <td>2.70</td>\n",
       "      <td>16</td>\n",
       "      <td>51.0</td>\n",
       "      <td>8</td>\n",
       "      <td>NaN</td>\n",
       "      <td>...</td>\n",
       "      <td>0</td>\n",
       "      <td>санкт-петербург</td>\n",
       "      <td>18863</td>\n",
       "      <td>16028</td>\n",
       "      <td>1</td>\n",
       "      <td>482</td>\n",
       "      <td>2</td>\n",
       "      <td>755</td>\n",
       "      <td>127</td>\n",
       "      <td>премиум класс</td>\n",
       "    </tr>\n",
       "    <tr>\n",
       "      <th>1</th>\n",
       "      <td>7</td>\n",
       "      <td>3350000.0</td>\n",
       "      <td>40.4</td>\n",
       "      <td>2018-12-04</td>\n",
       "      <td>1</td>\n",
       "      <td>2.55</td>\n",
       "      <td>11</td>\n",
       "      <td>18.6</td>\n",
       "      <td>1</td>\n",
       "      <td>NaN</td>\n",
       "      <td>...</td>\n",
       "      <td>2</td>\n",
       "      <td>поселок шушары</td>\n",
       "      <td>12817</td>\n",
       "      <td>18603</td>\n",
       "      <td>0</td>\n",
       "      <td>&lt;NA&gt;</td>\n",
       "      <td>0</td>\n",
       "      <td>&lt;NA&gt;</td>\n",
       "      <td>81</td>\n",
       "      <td>эконом класс</td>\n",
       "    </tr>\n",
       "    <tr>\n",
       "      <th>2</th>\n",
       "      <td>10</td>\n",
       "      <td>5196000.0</td>\n",
       "      <td>56.0</td>\n",
       "      <td>2015-08-20</td>\n",
       "      <td>2</td>\n",
       "      <td>2.65</td>\n",
       "      <td>5</td>\n",
       "      <td>34.3</td>\n",
       "      <td>4</td>\n",
       "      <td>NaN</td>\n",
       "      <td>...</td>\n",
       "      <td>0</td>\n",
       "      <td>санкт-петербург</td>\n",
       "      <td>21741</td>\n",
       "      <td>13933</td>\n",
       "      <td>1</td>\n",
       "      <td>90</td>\n",
       "      <td>2</td>\n",
       "      <td>574</td>\n",
       "      <td>558</td>\n",
       "      <td>бизнес класс</td>\n",
       "    </tr>\n",
       "    <tr>\n",
       "      <th>3</th>\n",
       "      <td>0</td>\n",
       "      <td>64900000.0</td>\n",
       "      <td>159.0</td>\n",
       "      <td>2015-07-24</td>\n",
       "      <td>3</td>\n",
       "      <td>2.90</td>\n",
       "      <td>14</td>\n",
       "      <td>48.8</td>\n",
       "      <td>9</td>\n",
       "      <td>NaN</td>\n",
       "      <td>...</td>\n",
       "      <td>0</td>\n",
       "      <td>санкт-петербург</td>\n",
       "      <td>28098</td>\n",
       "      <td>6800</td>\n",
       "      <td>2</td>\n",
       "      <td>84</td>\n",
       "      <td>3</td>\n",
       "      <td>234</td>\n",
       "      <td>424</td>\n",
       "      <td>премиум класс</td>\n",
       "    </tr>\n",
       "    <tr>\n",
       "      <th>4</th>\n",
       "      <td>2</td>\n",
       "      <td>10000000.0</td>\n",
       "      <td>100.0</td>\n",
       "      <td>2018-06-19</td>\n",
       "      <td>2</td>\n",
       "      <td>3.03</td>\n",
       "      <td>14</td>\n",
       "      <td>32.0</td>\n",
       "      <td>13</td>\n",
       "      <td>NaN</td>\n",
       "      <td>...</td>\n",
       "      <td>0</td>\n",
       "      <td>санкт-петербург</td>\n",
       "      <td>31856</td>\n",
       "      <td>8098</td>\n",
       "      <td>2</td>\n",
       "      <td>112</td>\n",
       "      <td>1</td>\n",
       "      <td>48</td>\n",
       "      <td>121</td>\n",
       "      <td>премиум класс</td>\n",
       "    </tr>\n",
       "  </tbody>\n",
       "</table>\n",
       "<p>5 rows × 23 columns</p>\n",
       "</div>"
      ],
      "text/plain": [
       "   total_images  last_price  total_area first_day_exposition  rooms  \\\n",
       "0            20  13000000.0       108.0           2019-03-07      3   \n",
       "1             7   3350000.0        40.4           2018-12-04      1   \n",
       "2            10   5196000.0        56.0           2015-08-20      2   \n",
       "3             0  64900000.0       159.0           2015-07-24      3   \n",
       "4             2  10000000.0       100.0           2018-06-19      2   \n",
       "\n",
       "   ceiling_height  floors_total  living_area  floor is_apartment  ...  \\\n",
       "0            2.70            16         51.0      8          NaN  ...   \n",
       "1            2.55            11         18.6      1          NaN  ...   \n",
       "2            2.65             5         34.3      4          NaN  ...   \n",
       "3            2.90            14         48.8      9          NaN  ...   \n",
       "4            3.03            14         32.0     13          NaN  ...   \n",
       "\n",
       "   balcony    locality_name  airports_nearest  city_сenters_nearest  \\\n",
       "0        0  санкт-петербург             18863                 16028   \n",
       "1        2   поселок шушары             12817                 18603   \n",
       "2        0  санкт-петербург             21741                 13933   \n",
       "3        0  санкт-петербург             28098                  6800   \n",
       "4        0  санкт-петербург             31856                  8098   \n",
       "\n",
       "  parks_around_3000  parks_nearest  ponds_around_3000  ponds_nearest  \\\n",
       "0                 1            482                  2            755   \n",
       "1                 0           <NA>                  0           <NA>   \n",
       "2                 1             90                  2            574   \n",
       "3                 2             84                  3            234   \n",
       "4                 2            112                  1             48   \n",
       "\n",
       "   days_exposition  price_category  \n",
       "0              127   премиум класс  \n",
       "1               81    эконом класс  \n",
       "2              558    бизнес класс  \n",
       "3              424   премиум класс  \n",
       "4              121   премиум класс  \n",
       "\n",
       "[5 rows x 23 columns]"
      ]
     },
     "execution_count": 43,
     "metadata": {},
     "output_type": "execute_result"
    }
   ],
   "source": [
    "\n",
    "column_to_round = {'floors_total' : 0,'balcony' : 0, 'airports_nearest' : 0, 'city_сenters_nearest' : 0,\n",
    "                 'parks_around_3000' : 0, 'parks_nearest' : 0, 'ponds_around_3000' : 0,\n",
    "                 'ponds_nearest' : 0, 'days_exposition' : 0}\n",
    "colunms_to_change_type = {'floors_total' : 'Int64',\n",
    "                          'balcony' : 'Int64', 'airports_nearest' : 'Int64',\n",
    "                          'city_сenters_nearest' : 'Int64', 'parks_around_3000' : 'Int64',\n",
    "                          'parks_nearest' : 'Int64', 'ponds_around_3000' : 'Int64',\n",
    "                          'ponds_nearest' : 'Int64', 'days_exposition' : 'Int64'\n",
    "                          }\n",
    "\n",
    "ads_df = ads_df.round(column_to_round).astype(colunms_to_change_type)\n",
    "ads_df['first_day_exposition'] = pd.to_datetime(ads_df['first_day_exposition'], format='%Y-%m-%dT%H:%M:%S')\n",
    "ads_df.head()"
   ]
  },
  {
   "cell_type": "markdown",
   "metadata": {},
   "source": [
    "### Вывод"
   ]
  },
  {
   "cell_type": "markdown",
   "metadata": {},
   "source": [
    "Итак, в этом разделе мы заполнили некоторые пропуски в данных; \n",
    "Заменили типы данных в столбцах:  \n",
    "* `first_day_exposition`  перевели в дату\n",
    "* `floors_total, balcony, airports_nearest, city_сenters_nearest, parks_around_3000,\tparks_nearest, ponds_around_3000, ponds_nearest, days_exposition` в целочисленный, предварительно округлив значения с типом `float`"
   ]
  },
  {
   "cell_type": "markdown",
   "metadata": {},
   "source": [
    "## Расчёты и добавление результатов в таблицу"
   ]
  },
  {
   "cell_type": "markdown",
   "metadata": {},
   "source": [
    "Добавим в таблицу цену квадратного метра"
   ]
  },
  {
   "cell_type": "code",
   "execution_count": 44,
   "metadata": {},
   "outputs": [],
   "source": [
    "ads_df['meter_price'] = ads_df['last_price'] / ads_df['total_area']\n",
    "ads_df['meter_price'] = ads_df['meter_price'].round().astype('Int64')\n",
    "\n"
   ]
  },
  {
   "cell_type": "markdown",
   "metadata": {},
   "source": [
    "Добавим в таблицу: день недели, месяц и год публикации объявления\n"
   ]
  },
  {
   "cell_type": "code",
   "execution_count": 45,
   "metadata": {
    "scrolled": true
   },
   "outputs": [],
   "source": [
    "ads_df['weekday_exposition'] = ads_df['first_day_exposition'].dt.day\n",
    "ads_df['month_exposition'] = ads_df['first_day_exposition'].dt.month\n",
    "ads_df['year_exposition'] = ads_df['first_day_exposition'].dt.year\n"
   ]
  },
  {
   "cell_type": "markdown",
   "metadata": {},
   "source": [
    "Добавим в таблицу: этаж квартиры по категориям — первый, последний, другой\n"
   ]
  },
  {
   "cell_type": "code",
   "execution_count": 46,
   "metadata": {},
   "outputs": [],
   "source": [
    "def categorize_floor(raw):\n",
    "    if raw['floor'] == 1:\n",
    "        return 1 #'первый'\n",
    "    if (raw['floor'] == raw['floors_total']):\n",
    "        return 2 #'последний'\n",
    "    return 3 #'другой'\n",
    " \n",
    "ads_df['floor_category'] = ads_df.apply(categorize_floor, axis=1)\n"
   ]
  },
  {
   "cell_type": "markdown",
   "metadata": {},
   "source": [
    "Добавим в таблицу: соотношение жилой и общей площади, а также отношение площади кухни к общей\n"
   ]
  },
  {
   "cell_type": "code",
   "execution_count": 47,
   "metadata": {
    "scrolled": false
   },
   "outputs": [
    {
     "data": {
      "text/html": [
       "<div>\n",
       "<style scoped>\n",
       "    .dataframe tbody tr th:only-of-type {\n",
       "        vertical-align: middle;\n",
       "    }\n",
       "\n",
       "    .dataframe tbody tr th {\n",
       "        vertical-align: top;\n",
       "    }\n",
       "\n",
       "    .dataframe thead th {\n",
       "        text-align: right;\n",
       "    }\n",
       "</style>\n",
       "<table border=\"1\" class=\"dataframe\">\n",
       "  <thead>\n",
       "    <tr style=\"text-align: right;\">\n",
       "      <th></th>\n",
       "      <th>total_images</th>\n",
       "      <th>last_price</th>\n",
       "      <th>total_area</th>\n",
       "      <th>first_day_exposition</th>\n",
       "      <th>rooms</th>\n",
       "      <th>ceiling_height</th>\n",
       "      <th>floors_total</th>\n",
       "      <th>living_area</th>\n",
       "      <th>floor</th>\n",
       "      <th>is_apartment</th>\n",
       "      <th>...</th>\n",
       "      <th>ponds_nearest</th>\n",
       "      <th>days_exposition</th>\n",
       "      <th>price_category</th>\n",
       "      <th>meter_price</th>\n",
       "      <th>weekday_exposition</th>\n",
       "      <th>month_exposition</th>\n",
       "      <th>year_exposition</th>\n",
       "      <th>floor_category</th>\n",
       "      <th>living_area_to_total</th>\n",
       "      <th>kitchen_area_to_total</th>\n",
       "    </tr>\n",
       "  </thead>\n",
       "  <tbody>\n",
       "    <tr>\n",
       "      <th>0</th>\n",
       "      <td>20</td>\n",
       "      <td>13000000.0</td>\n",
       "      <td>108.0</td>\n",
       "      <td>2019-03-07</td>\n",
       "      <td>3</td>\n",
       "      <td>2.70</td>\n",
       "      <td>16</td>\n",
       "      <td>51.0</td>\n",
       "      <td>8</td>\n",
       "      <td>NaN</td>\n",
       "      <td>...</td>\n",
       "      <td>755</td>\n",
       "      <td>127</td>\n",
       "      <td>премиум класс</td>\n",
       "      <td>120370</td>\n",
       "      <td>7</td>\n",
       "      <td>3</td>\n",
       "      <td>2019</td>\n",
       "      <td>3</td>\n",
       "      <td>0.472222</td>\n",
       "      <td>0.231481</td>\n",
       "    </tr>\n",
       "    <tr>\n",
       "      <th>1</th>\n",
       "      <td>7</td>\n",
       "      <td>3350000.0</td>\n",
       "      <td>40.4</td>\n",
       "      <td>2018-12-04</td>\n",
       "      <td>1</td>\n",
       "      <td>2.55</td>\n",
       "      <td>11</td>\n",
       "      <td>18.6</td>\n",
       "      <td>1</td>\n",
       "      <td>NaN</td>\n",
       "      <td>...</td>\n",
       "      <td>&lt;NA&gt;</td>\n",
       "      <td>81</td>\n",
       "      <td>эконом класс</td>\n",
       "      <td>82921</td>\n",
       "      <td>4</td>\n",
       "      <td>12</td>\n",
       "      <td>2018</td>\n",
       "      <td>1</td>\n",
       "      <td>0.460396</td>\n",
       "      <td>0.272277</td>\n",
       "    </tr>\n",
       "    <tr>\n",
       "      <th>2</th>\n",
       "      <td>10</td>\n",
       "      <td>5196000.0</td>\n",
       "      <td>56.0</td>\n",
       "      <td>2015-08-20</td>\n",
       "      <td>2</td>\n",
       "      <td>2.65</td>\n",
       "      <td>5</td>\n",
       "      <td>34.3</td>\n",
       "      <td>4</td>\n",
       "      <td>NaN</td>\n",
       "      <td>...</td>\n",
       "      <td>574</td>\n",
       "      <td>558</td>\n",
       "      <td>бизнес класс</td>\n",
       "      <td>92786</td>\n",
       "      <td>20</td>\n",
       "      <td>8</td>\n",
       "      <td>2015</td>\n",
       "      <td>3</td>\n",
       "      <td>0.612500</td>\n",
       "      <td>0.148214</td>\n",
       "    </tr>\n",
       "    <tr>\n",
       "      <th>3</th>\n",
       "      <td>0</td>\n",
       "      <td>64900000.0</td>\n",
       "      <td>159.0</td>\n",
       "      <td>2015-07-24</td>\n",
       "      <td>3</td>\n",
       "      <td>2.90</td>\n",
       "      <td>14</td>\n",
       "      <td>48.8</td>\n",
       "      <td>9</td>\n",
       "      <td>NaN</td>\n",
       "      <td>...</td>\n",
       "      <td>234</td>\n",
       "      <td>424</td>\n",
       "      <td>премиум класс</td>\n",
       "      <td>408176</td>\n",
       "      <td>24</td>\n",
       "      <td>7</td>\n",
       "      <td>2015</td>\n",
       "      <td>3</td>\n",
       "      <td>0.306918</td>\n",
       "      <td>0.082390</td>\n",
       "    </tr>\n",
       "    <tr>\n",
       "      <th>4</th>\n",
       "      <td>2</td>\n",
       "      <td>10000000.0</td>\n",
       "      <td>100.0</td>\n",
       "      <td>2018-06-19</td>\n",
       "      <td>2</td>\n",
       "      <td>3.03</td>\n",
       "      <td>14</td>\n",
       "      <td>32.0</td>\n",
       "      <td>13</td>\n",
       "      <td>NaN</td>\n",
       "      <td>...</td>\n",
       "      <td>48</td>\n",
       "      <td>121</td>\n",
       "      <td>премиум класс</td>\n",
       "      <td>100000</td>\n",
       "      <td>19</td>\n",
       "      <td>6</td>\n",
       "      <td>2018</td>\n",
       "      <td>3</td>\n",
       "      <td>0.320000</td>\n",
       "      <td>0.410000</td>\n",
       "    </tr>\n",
       "  </tbody>\n",
       "</table>\n",
       "<p>5 rows × 30 columns</p>\n",
       "</div>"
      ],
      "text/plain": [
       "   total_images  last_price  total_area first_day_exposition  rooms  \\\n",
       "0            20  13000000.0       108.0           2019-03-07      3   \n",
       "1             7   3350000.0        40.4           2018-12-04      1   \n",
       "2            10   5196000.0        56.0           2015-08-20      2   \n",
       "3             0  64900000.0       159.0           2015-07-24      3   \n",
       "4             2  10000000.0       100.0           2018-06-19      2   \n",
       "\n",
       "   ceiling_height  floors_total  living_area  floor is_apartment  ...  \\\n",
       "0            2.70            16         51.0      8          NaN  ...   \n",
       "1            2.55            11         18.6      1          NaN  ...   \n",
       "2            2.65             5         34.3      4          NaN  ...   \n",
       "3            2.90            14         48.8      9          NaN  ...   \n",
       "4            3.03            14         32.0     13          NaN  ...   \n",
       "\n",
       "   ponds_nearest  days_exposition  price_category  meter_price  \\\n",
       "0            755              127   премиум класс       120370   \n",
       "1           <NA>               81    эконом класс        82921   \n",
       "2            574              558    бизнес класс        92786   \n",
       "3            234              424   премиум класс       408176   \n",
       "4             48              121   премиум класс       100000   \n",
       "\n",
       "  weekday_exposition  month_exposition  year_exposition  floor_category  \\\n",
       "0                  7                 3             2019               3   \n",
       "1                  4                12             2018               1   \n",
       "2                 20                 8             2015               3   \n",
       "3                 24                 7             2015               3   \n",
       "4                 19                 6             2018               3   \n",
       "\n",
       "   living_area_to_total  kitchen_area_to_total  \n",
       "0              0.472222               0.231481  \n",
       "1              0.460396               0.272277  \n",
       "2              0.612500               0.148214  \n",
       "3              0.306918               0.082390  \n",
       "4              0.320000               0.410000  \n",
       "\n",
       "[5 rows x 30 columns]"
      ]
     },
     "execution_count": 47,
     "metadata": {},
     "output_type": "execute_result"
    }
   ],
   "source": [
    "ads_df['living_area_to_total'] = ads_df['living_area'] / ads_df['total_area']\n",
    "ads_df['kitchen_area_to_total'] = ads_df['kitchen_area'] / ads_df['total_area']\n",
    "ads_df.head()"
   ]
  },
  {
   "cell_type": "markdown",
   "metadata": {},
   "source": [
    "Добавим в таблицу стоимость квартир в миллионах, для удобства при построении графиков\n"
   ]
  },
  {
   "cell_type": "code",
   "execution_count": 48,
   "metadata": {},
   "outputs": [],
   "source": [
    "ads_df['price_in_million'] = ads_df['last_price'] / 1000000"
   ]
  },
  {
   "cell_type": "markdown",
   "metadata": {},
   "source": [
    "### Вывод"
   ]
  },
  {
   "cell_type": "markdown",
   "metadata": {},
   "source": [
    "В этом разделе выполнили необходимые расчеты и добавили новые данные:\n",
    "* стоимость квартир в миллионах, для удобства при построении графиков\n",
    "* соотношение жилой и общей площади\n",
    "* отношение площади кухни к общей\n",
    "* этаж квартиры по категориям — первый, последний, другой\n",
    "* день недели, месяц и год публикации объявления\n",
    "* цену квадратного метра"
   ]
  },
  {
   "cell_type": "markdown",
   "metadata": {},
   "source": [
    "## Исследовательский анализ данных"
   ]
  },
  {
   "cell_type": "markdown",
   "metadata": {},
   "source": [
    "Напишем несколько функций для автоматизации действий\n",
    "* `plot_hists` - строит гистограммы нужных колонок набора\n",
    "* `count_moustache` - вычисляет границы Q1-IQR*1.5 и Q3+IQR*1.5\n",
    "* `filter_data` - отсекает выбросы, которые не попадают в границы Q1-IQR*1.5 и Q3+IQR*1.5\n",
    "* `explore_data` - управляющая функция для исследоваеия нужных колонок в наборе"
   ]
  },
  {
   "cell_type": "code",
   "execution_count": 49,
   "metadata": {
    "scrolled": true
   },
   "outputs": [
    {
     "data": {
      "image/png": "[encoded data removed]",
      "text/plain": [
       "<Figure size 432x288 with 1 Axes>"
      ]
     },
     "metadata": {
      "needs_background": "light"
     },
     "output_type": "display_data"
    },
    {
     "data": {
      "image/png": "[encoded data removed]",
      "text/plain": [
       "<Figure size 432x288 with 1 Axes>"
      ]
     },
     "metadata": {
      "needs_background": "light"
     },
     "output_type": "display_data"
    },
    {
     "data": {
      "image/png": "[encoded data removed]",
      "text/plain": [
       "<Figure size 432x288 with 1 Axes>"
      ]
     },
     "metadata": {
      "needs_background": "light"
     },
     "output_type": "display_data"
    },
    {
     "data": {
      "image/png": "[encoded data removed]",
      "text/plain": [
       "<Figure size 432x288 with 1 Axes>"
      ]
     },
     "metadata": {
      "needs_background": "light"
     },
     "output_type": "display_data"
    },
    {
     "data": {
      "image/png": "[encoded data removed]",
      "text/plain": [
       "<Figure size 432x288 with 1 Axes>"
      ]
     },
     "metadata": {
      "needs_background": "light"
     },
     "output_type": "display_data"
    },
    {
     "data": {
      "text/plain": [
       "'Описание отфильтрованного набора'"
      ]
     },
     "metadata": {},
     "output_type": "display_data"
    },
    {
     "data": {
      "text/html": [
       "<div>\n",
       "<style scoped>\n",
       "    .dataframe tbody tr th:only-of-type {\n",
       "        vertical-align: middle;\n",
       "    }\n",
       "\n",
       "    .dataframe tbody tr th {\n",
       "        vertical-align: top;\n",
       "    }\n",
       "\n",
       "    .dataframe thead th {\n",
       "        text-align: right;\n",
       "    }\n",
       "</style>\n",
       "<table border=\"1\" class=\"dataframe\">\n",
       "  <thead>\n",
       "    <tr style=\"text-align: right;\">\n",
       "      <th></th>\n",
       "      <th>total_area</th>\n",
       "      <th>price_in_million</th>\n",
       "      <th>rooms</th>\n",
       "      <th>ceiling_height</th>\n",
       "      <th>days_exposition</th>\n",
       "    </tr>\n",
       "  </thead>\n",
       "  <tbody>\n",
       "    <tr>\n",
       "      <th>count</th>\n",
       "      <td>18701.000000</td>\n",
       "      <td>18701.000000</td>\n",
       "      <td>18701.000000</td>\n",
       "      <td>18701.000000</td>\n",
       "      <td>18701.000000</td>\n",
       "    </tr>\n",
       "    <tr>\n",
       "      <th>mean</th>\n",
       "      <td>52.073794</td>\n",
       "      <td>4.728065</td>\n",
       "      <td>1.904497</td>\n",
       "      <td>2.645702</td>\n",
       "      <td>111.250307</td>\n",
       "    </tr>\n",
       "    <tr>\n",
       "      <th>std</th>\n",
       "      <td>17.063683</td>\n",
       "      <td>2.120158</td>\n",
       "      <td>0.859966</td>\n",
       "      <td>0.140837</td>\n",
       "      <td>96.207262</td>\n",
       "    </tr>\n",
       "    <tr>\n",
       "      <th>min</th>\n",
       "      <td>12.000000</td>\n",
       "      <td>0.012190</td>\n",
       "      <td>1.000000</td>\n",
       "      <td>2.200000</td>\n",
       "      <td>1.000000</td>\n",
       "    </tr>\n",
       "    <tr>\n",
       "      <th>25%</th>\n",
       "      <td>39.000000</td>\n",
       "      <td>3.300000</td>\n",
       "      <td>1.000000</td>\n",
       "      <td>2.550000</td>\n",
       "      <td>45.000000</td>\n",
       "    </tr>\n",
       "    <tr>\n",
       "      <th>50%</th>\n",
       "      <td>48.200000</td>\n",
       "      <td>4.350000</td>\n",
       "      <td>2.000000</td>\n",
       "      <td>2.600000</td>\n",
       "      <td>88.000000</td>\n",
       "    </tr>\n",
       "    <tr>\n",
       "      <th>75%</th>\n",
       "      <td>62.100000</td>\n",
       "      <td>5.800000</td>\n",
       "      <td>3.000000</td>\n",
       "      <td>2.700000</td>\n",
       "      <td>144.000000</td>\n",
       "    </tr>\n",
       "    <tr>\n",
       "      <th>max</th>\n",
       "      <td>114.300000</td>\n",
       "      <td>11.894400</td>\n",
       "      <td>5.000000</td>\n",
       "      <td>3.170000</td>\n",
       "      <td>429.000000</td>\n",
       "    </tr>\n",
       "  </tbody>\n",
       "</table>\n",
       "</div>"
      ],
      "text/plain": [
       "         total_area  price_in_million         rooms  ceiling_height  \\\n",
       "count  18701.000000      18701.000000  18701.000000    18701.000000   \n",
       "mean      52.073794          4.728065      1.904497        2.645702   \n",
       "std       17.063683          2.120158      0.859966        0.140837   \n",
       "min       12.000000          0.012190      1.000000        2.200000   \n",
       "25%       39.000000          3.300000      1.000000        2.550000   \n",
       "50%       48.200000          4.350000      2.000000        2.600000   \n",
       "75%       62.100000          5.800000      3.000000        2.700000   \n",
       "max      114.300000         11.894400      5.000000        3.170000   \n",
       "\n",
       "       days_exposition  \n",
       "count     18701.000000  \n",
       "mean        111.250307  \n",
       "std          96.207262  \n",
       "min           1.000000  \n",
       "25%          45.000000  \n",
       "50%          88.000000  \n",
       "75%         144.000000  \n",
       "max         429.000000  "
      ]
     },
     "metadata": {},
     "output_type": "display_data"
    }
   ],
   "source": [
    "\n",
    "def plot_hists(columns,data):\n",
    "    #number_of_bins = round(data.shape[0]/199)\n",
    "    for column in columns:\n",
    "        #print(column, '\\n', data[column].value_counts())\n",
    "        data[column].plot(title=column, kind='hist',bins=50)\n",
    "        plt.show()\n",
    "\n",
    "# вычисляем Q1-IQR*1.5 и Q3+IQR*1.5 для каждого столбца\n",
    "def count_moustache(descr):\n",
    "    res = {}\n",
    "    for column in descr.columns:\n",
    "        floor_outlier_tail = descr[column]['25%'] - (descr[column]['75%'] - descr[column]['25%']) * 1.5\n",
    "        ceiling_outlier_tail = descr[column]['75%'] + (descr[column]['75%'] - descr[column]['25%']) * 1.5\n",
    "        if floor_outlier_tail < 0: # ни одна из выбранных характеристик набора не может быть < 0\n",
    "            floor_outlier_tail = 0 # поэтому Q1-IQR*1.5 установим в 0\n",
    "        res[column] = (floor_outlier_tail, ceiling_outlier_tail)\n",
    "    return res\n",
    "\n",
    "# отфильтровываем выбросы\n",
    "def filter_data(columns,moustache, data):\n",
    "    filtered_data = data.copy()\n",
    "    for column in columns:\n",
    "        filtered_data = filtered_data[(filtered_data[column] > moustache[column][0]) &\n",
    "                                      (filtered_data[column] < moustache[column][1])]\n",
    "    #display(filtered_data)\n",
    "    return  filtered_data  \n",
    "\n",
    "def explore_data(eda_columns, data=ads_df):\n",
    "    describe = data[eda_columns].describe()\n",
    "    #display(data[eda_columns].corr())\n",
    "    #display(sns.heatmap(data[eda_columns].corr()))\n",
    "    moustache = count_moustache(describe) # усы для ящика каждого столбца\n",
    "    #print(moustache)\n",
    "    filtered_data = filter_data(eda_columns, moustache, data)\n",
    "    #display(filtered_data.shape, ads_df.shape) # не испортил ли исходный набор\n",
    "    plot_hists(eda_columns, filtered_data)\n",
    "    display(\"Описание отфильтрованного набора\", filtered_data[eda_columns].describe())\n",
    "    return filtered_data\n",
    "\n",
    "ads_filtered = explore_data(eda_columns=['total_area', 'price_in_million', 'rooms', 'ceiling_height', 'days_exposition'])    "
   ]
  },
  {
   "cell_type": "markdown",
   "metadata": {},
   "source": [
    "основной диапазон площади 30-75\n",
    "цена от 2 до 7 млн\n",
    "большинство 1-2 комнатные\n",
    "высота потолков 2.5-2.75 м\n",
    "продажа до 150 дней\n",
    "'total_area', 'price_in_million', 'rooms', 'ceiling_height', 'days_exposition' были очищены от выбросов, построены гистограммы"
   ]
  },
  {
   "cell_type": "code",
   "execution_count": 50,
   "metadata": {
    "scrolled": true
   },
   "outputs": [
    {
     "data": {
      "text/html": [
       "<div>\n",
       "<style scoped>\n",
       "    .dataframe tbody tr th:only-of-type {\n",
       "        vertical-align: middle;\n",
       "    }\n",
       "\n",
       "    .dataframe tbody tr th {\n",
       "        vertical-align: top;\n",
       "    }\n",
       "\n",
       "    .dataframe thead th {\n",
       "        text-align: right;\n",
       "    }\n",
       "</style>\n",
       "<table border=\"1\" class=\"dataframe\">\n",
       "  <thead>\n",
       "    <tr style=\"text-align: right;\">\n",
       "      <th></th>\n",
       "      <th>total_images</th>\n",
       "      <th>last_price</th>\n",
       "      <th>total_area</th>\n",
       "      <th>first_day_exposition</th>\n",
       "      <th>rooms</th>\n",
       "      <th>ceiling_height</th>\n",
       "      <th>floors_total</th>\n",
       "      <th>living_area</th>\n",
       "      <th>floor</th>\n",
       "      <th>is_apartment</th>\n",
       "      <th>...</th>\n",
       "      <th>days_exposition</th>\n",
       "      <th>price_category</th>\n",
       "      <th>meter_price</th>\n",
       "      <th>weekday_exposition</th>\n",
       "      <th>month_exposition</th>\n",
       "      <th>year_exposition</th>\n",
       "      <th>floor_category</th>\n",
       "      <th>living_area_to_total</th>\n",
       "      <th>kitchen_area_to_total</th>\n",
       "      <th>price_in_million</th>\n",
       "    </tr>\n",
       "  </thead>\n",
       "  <tbody>\n",
       "    <tr>\n",
       "      <th>1</th>\n",
       "      <td>7</td>\n",
       "      <td>3350000.0</td>\n",
       "      <td>40.4</td>\n",
       "      <td>2018-12-04</td>\n",
       "      <td>1</td>\n",
       "      <td>2.55</td>\n",
       "      <td>11</td>\n",
       "      <td>18.6</td>\n",
       "      <td>1</td>\n",
       "      <td>NaN</td>\n",
       "      <td>...</td>\n",
       "      <td>81</td>\n",
       "      <td>эконом класс</td>\n",
       "      <td>82921</td>\n",
       "      <td>4</td>\n",
       "      <td>12</td>\n",
       "      <td>2018</td>\n",
       "      <td>1</td>\n",
       "      <td>0.460396</td>\n",
       "      <td>0.272277</td>\n",
       "      <td>3.350</td>\n",
       "    </tr>\n",
       "    <tr>\n",
       "      <th>4</th>\n",
       "      <td>2</td>\n",
       "      <td>10000000.0</td>\n",
       "      <td>100.0</td>\n",
       "      <td>2018-06-19</td>\n",
       "      <td>2</td>\n",
       "      <td>3.03</td>\n",
       "      <td>14</td>\n",
       "      <td>32.0</td>\n",
       "      <td>13</td>\n",
       "      <td>NaN</td>\n",
       "      <td>...</td>\n",
       "      <td>121</td>\n",
       "      <td>премиум класс</td>\n",
       "      <td>100000</td>\n",
       "      <td>19</td>\n",
       "      <td>6</td>\n",
       "      <td>2018</td>\n",
       "      <td>3</td>\n",
       "      <td>0.320000</td>\n",
       "      <td>0.410000</td>\n",
       "      <td>10.000</td>\n",
       "    </tr>\n",
       "    <tr>\n",
       "      <th>5</th>\n",
       "      <td>10</td>\n",
       "      <td>2890000.0</td>\n",
       "      <td>30.4</td>\n",
       "      <td>2018-09-10</td>\n",
       "      <td>1</td>\n",
       "      <td>2.55</td>\n",
       "      <td>12</td>\n",
       "      <td>14.4</td>\n",
       "      <td>5</td>\n",
       "      <td>NaN</td>\n",
       "      <td>...</td>\n",
       "      <td>55</td>\n",
       "      <td>эконом класс</td>\n",
       "      <td>95066</td>\n",
       "      <td>10</td>\n",
       "      <td>9</td>\n",
       "      <td>2018</td>\n",
       "      <td>3</td>\n",
       "      <td>0.473684</td>\n",
       "      <td>0.299342</td>\n",
       "      <td>2.890</td>\n",
       "    </tr>\n",
       "    <tr>\n",
       "      <th>6</th>\n",
       "      <td>6</td>\n",
       "      <td>3700000.0</td>\n",
       "      <td>37.3</td>\n",
       "      <td>2017-11-02</td>\n",
       "      <td>1</td>\n",
       "      <td>2.60</td>\n",
       "      <td>26</td>\n",
       "      <td>10.6</td>\n",
       "      <td>6</td>\n",
       "      <td>NaN</td>\n",
       "      <td>...</td>\n",
       "      <td>155</td>\n",
       "      <td>комфорт класс</td>\n",
       "      <td>99196</td>\n",
       "      <td>2</td>\n",
       "      <td>11</td>\n",
       "      <td>2017</td>\n",
       "      <td>3</td>\n",
       "      <td>0.284182</td>\n",
       "      <td>0.386059</td>\n",
       "      <td>3.700</td>\n",
       "    </tr>\n",
       "    <tr>\n",
       "      <th>7</th>\n",
       "      <td>5</td>\n",
       "      <td>7915000.0</td>\n",
       "      <td>71.6</td>\n",
       "      <td>2019-04-18</td>\n",
       "      <td>2</td>\n",
       "      <td>2.90</td>\n",
       "      <td>24</td>\n",
       "      <td>48.8</td>\n",
       "      <td>22</td>\n",
       "      <td>NaN</td>\n",
       "      <td>...</td>\n",
       "      <td>127</td>\n",
       "      <td>премиум класс</td>\n",
       "      <td>110545</td>\n",
       "      <td>18</td>\n",
       "      <td>4</td>\n",
       "      <td>2019</td>\n",
       "      <td>3</td>\n",
       "      <td>0.681564</td>\n",
       "      <td>0.263966</td>\n",
       "      <td>7.915</td>\n",
       "    </tr>\n",
       "    <tr>\n",
       "      <th>...</th>\n",
       "      <td>...</td>\n",
       "      <td>...</td>\n",
       "      <td>...</td>\n",
       "      <td>...</td>\n",
       "      <td>...</td>\n",
       "      <td>...</td>\n",
       "      <td>...</td>\n",
       "      <td>...</td>\n",
       "      <td>...</td>\n",
       "      <td>...</td>\n",
       "      <td>...</td>\n",
       "      <td>...</td>\n",
       "      <td>...</td>\n",
       "      <td>...</td>\n",
       "      <td>...</td>\n",
       "      <td>...</td>\n",
       "      <td>...</td>\n",
       "      <td>...</td>\n",
       "      <td>...</td>\n",
       "      <td>...</td>\n",
       "      <td>...</td>\n",
       "    </tr>\n",
       "    <tr>\n",
       "      <th>23692</th>\n",
       "      <td>2</td>\n",
       "      <td>1350000.0</td>\n",
       "      <td>30.0</td>\n",
       "      <td>2017-07-07</td>\n",
       "      <td>1</td>\n",
       "      <td>2.55</td>\n",
       "      <td>5</td>\n",
       "      <td>17.5</td>\n",
       "      <td>4</td>\n",
       "      <td>NaN</td>\n",
       "      <td>...</td>\n",
       "      <td>413</td>\n",
       "      <td>эконом класс</td>\n",
       "      <td>45000</td>\n",
       "      <td>7</td>\n",
       "      <td>7</td>\n",
       "      <td>2017</td>\n",
       "      <td>3</td>\n",
       "      <td>0.583333</td>\n",
       "      <td>0.200000</td>\n",
       "      <td>1.350</td>\n",
       "    </tr>\n",
       "    <tr>\n",
       "      <th>23693</th>\n",
       "      <td>9</td>\n",
       "      <td>4600000.0</td>\n",
       "      <td>62.4</td>\n",
       "      <td>2016-08-05</td>\n",
       "      <td>3</td>\n",
       "      <td>2.60</td>\n",
       "      <td>9</td>\n",
       "      <td>40.0</td>\n",
       "      <td>8</td>\n",
       "      <td>NaN</td>\n",
       "      <td>...</td>\n",
       "      <td>239</td>\n",
       "      <td>комфорт класс</td>\n",
       "      <td>73718</td>\n",
       "      <td>5</td>\n",
       "      <td>8</td>\n",
       "      <td>2016</td>\n",
       "      <td>3</td>\n",
       "      <td>0.641026</td>\n",
       "      <td>0.128205</td>\n",
       "      <td>4.600</td>\n",
       "    </tr>\n",
       "    <tr>\n",
       "      <th>23695</th>\n",
       "      <td>14</td>\n",
       "      <td>3100000.0</td>\n",
       "      <td>59.0</td>\n",
       "      <td>2018-01-15</td>\n",
       "      <td>3</td>\n",
       "      <td>2.55</td>\n",
       "      <td>5</td>\n",
       "      <td>38.0</td>\n",
       "      <td>4</td>\n",
       "      <td>NaN</td>\n",
       "      <td>...</td>\n",
       "      <td>45</td>\n",
       "      <td>эконом класс</td>\n",
       "      <td>52542</td>\n",
       "      <td>15</td>\n",
       "      <td>1</td>\n",
       "      <td>2018</td>\n",
       "      <td>3</td>\n",
       "      <td>0.644068</td>\n",
       "      <td>0.144068</td>\n",
       "      <td>3.100</td>\n",
       "    </tr>\n",
       "    <tr>\n",
       "      <th>23696</th>\n",
       "      <td>18</td>\n",
       "      <td>2500000.0</td>\n",
       "      <td>56.7</td>\n",
       "      <td>2018-02-11</td>\n",
       "      <td>2</td>\n",
       "      <td>2.55</td>\n",
       "      <td>3</td>\n",
       "      <td>29.7</td>\n",
       "      <td>1</td>\n",
       "      <td>NaN</td>\n",
       "      <td>...</td>\n",
       "      <td>88</td>\n",
       "      <td>эконом класс</td>\n",
       "      <td>44092</td>\n",
       "      <td>11</td>\n",
       "      <td>2</td>\n",
       "      <td>2018</td>\n",
       "      <td>1</td>\n",
       "      <td>0.523810</td>\n",
       "      <td>0.128748</td>\n",
       "      <td>2.500</td>\n",
       "    </tr>\n",
       "    <tr>\n",
       "      <th>23698</th>\n",
       "      <td>4</td>\n",
       "      <td>1350000.0</td>\n",
       "      <td>32.3</td>\n",
       "      <td>2017-07-21</td>\n",
       "      <td>1</td>\n",
       "      <td>2.50</td>\n",
       "      <td>5</td>\n",
       "      <td>12.3</td>\n",
       "      <td>1</td>\n",
       "      <td>NaN</td>\n",
       "      <td>...</td>\n",
       "      <td>88</td>\n",
       "      <td>эконом класс</td>\n",
       "      <td>41796</td>\n",
       "      <td>21</td>\n",
       "      <td>7</td>\n",
       "      <td>2017</td>\n",
       "      <td>1</td>\n",
       "      <td>0.380805</td>\n",
       "      <td>0.278638</td>\n",
       "      <td>1.350</td>\n",
       "    </tr>\n",
       "  </tbody>\n",
       "</table>\n",
       "<p>18701 rows × 31 columns</p>\n",
       "</div>"
      ],
      "text/plain": [
       "       total_images  last_price  total_area first_day_exposition  rooms  \\\n",
       "1                 7   3350000.0        40.4           2018-12-04      1   \n",
       "4                 2  10000000.0       100.0           2018-06-19      2   \n",
       "5                10   2890000.0        30.4           2018-09-10      1   \n",
       "6                 6   3700000.0        37.3           2017-11-02      1   \n",
       "7                 5   7915000.0        71.6           2019-04-18      2   \n",
       "...             ...         ...         ...                  ...    ...   \n",
       "23692             2   1350000.0        30.0           2017-07-07      1   \n",
       "23693             9   4600000.0        62.4           2016-08-05      3   \n",
       "23695            14   3100000.0        59.0           2018-01-15      3   \n",
       "23696            18   2500000.0        56.7           2018-02-11      2   \n",
       "23698             4   1350000.0        32.3           2017-07-21      1   \n",
       "\n",
       "       ceiling_height  floors_total  living_area  floor is_apartment  ...  \\\n",
       "1                2.55            11         18.6      1          NaN  ...   \n",
       "4                3.03            14         32.0     13          NaN  ...   \n",
       "5                2.55            12         14.4      5          NaN  ...   \n",
       "6                2.60            26         10.6      6          NaN  ...   \n",
       "7                2.90            24         48.8     22          NaN  ...   \n",
       "...               ...           ...          ...    ...          ...  ...   \n",
       "23692            2.55             5         17.5      4          NaN  ...   \n",
       "23693            2.60             9         40.0      8          NaN  ...   \n",
       "23695            2.55             5         38.0      4          NaN  ...   \n",
       "23696            2.55             3         29.7      1          NaN  ...   \n",
       "23698            2.50             5         12.3      1          NaN  ...   \n",
       "\n",
       "       days_exposition  price_category  meter_price  weekday_exposition  \\\n",
       "1                   81    эконом класс        82921                   4   \n",
       "4                  121   премиум класс       100000                  19   \n",
       "5                   55    эконом класс        95066                  10   \n",
       "6                  155   комфорт класс        99196                   2   \n",
       "7                  127   премиум класс       110545                  18   \n",
       "...                ...             ...          ...                 ...   \n",
       "23692              413    эконом класс        45000                   7   \n",
       "23693              239   комфорт класс        73718                   5   \n",
       "23695               45    эконом класс        52542                  15   \n",
       "23696               88    эконом класс        44092                  11   \n",
       "23698               88    эконом класс        41796                  21   \n",
       "\n",
       "      month_exposition  year_exposition  floor_category  living_area_to_total  \\\n",
       "1                   12             2018               1              0.460396   \n",
       "4                    6             2018               3              0.320000   \n",
       "5                    9             2018               3              0.473684   \n",
       "6                   11             2017               3              0.284182   \n",
       "7                    4             2019               3              0.681564   \n",
       "...                ...              ...             ...                   ...   \n",
       "23692                7             2017               3              0.583333   \n",
       "23693                8             2016               3              0.641026   \n",
       "23695                1             2018               3              0.644068   \n",
       "23696                2             2018               1              0.523810   \n",
       "23698                7             2017               1              0.380805   \n",
       "\n",
       "       kitchen_area_to_total  price_in_million  \n",
       "1                   0.272277             3.350  \n",
       "4                   0.410000            10.000  \n",
       "5                   0.299342             2.890  \n",
       "6                   0.386059             3.700  \n",
       "7                   0.263966             7.915  \n",
       "...                      ...               ...  \n",
       "23692               0.200000             1.350  \n",
       "23693               0.128205             4.600  \n",
       "23695               0.144068             3.100  \n",
       "23696               0.128748             2.500  \n",
       "23698               0.278638             1.350  \n",
       "\n",
       "[18701 rows x 31 columns]"
      ]
     },
     "execution_count": 50,
     "metadata": {},
     "output_type": "execute_result"
    }
   ],
   "source": [
    "ads_filtered"
   ]
  },
  {
   "cell_type": "markdown",
   "metadata": {},
   "source": [
    " Больше всего влияют на стоимость квартиры - площадь, количество комнат(логично,больше комнат - больше площадь), близость к центру. От даты размещения цена не зависит "
   ]
  },
  {
   "cell_type": "code",
   "execution_count": 51,
   "metadata": {
    "scrolled": true
   },
   "outputs": [
    {
     "data": {
      "text/plain": [
       "last_price              1.000000\n",
       "meter_price             0.643161\n",
       "total_area              0.680095\n",
       "rooms                   0.412421\n",
       "floor_category          0.165305\n",
       "city_сenters_nearest   -0.315508\n",
       "weekday_exposition      0.000525\n",
       "weekday_exposition      0.000525\n",
       "year_exposition         0.035950\n",
       "Name: last_price, dtype: float64"
      ]
     },
     "execution_count": 51,
     "metadata": {},
     "output_type": "execute_result"
    }
   ],
   "source": [
    "ads_filtered[['last_price', 'meter_price','total_area', 'rooms',\n",
    "              'floor_category', 'city_сenters_nearest','weekday_exposition', \n",
    "              'weekday_exposition', 'year_exposition', ]].corr()['last_price']"
   ]
  },
  {
   "cell_type": "markdown",
   "metadata": {},
   "source": [
    "Выберем 10 населённых пунктов с наибольшим числом объявлений. Выделим населённые пункты с самой высокой и низкой стоимостью жилья.  Посчитаем среднюю цену квадратного метра в этих населённых пунктах. "
   ]
  },
  {
   "cell_type": "code",
   "execution_count": 52,
   "metadata": {
    "scrolled": false
   },
   "outputs": [
    {
     "data": {
      "text/plain": [
       "locality_name\n",
       "санкт-петербург      105433.581928\n",
       "пушкин               100108.077703\n",
       "деревня кудрово       92386.890688\n",
       "поселок парголово     90050.432886\n",
       "поселок мурино        85322.917012\n",
       "поселок шушары        78333.251256\n",
       "колпино               75253.993485\n",
       "гатчина               68849.272388\n",
       "всеволожск             67227.54386\n",
       "выборг                58071.015306\n",
       "Name: meter_price, dtype: Float64"
      ]
     },
     "execution_count": 52,
     "metadata": {},
     "output_type": "execute_result"
    }
   ],
   "source": [
    "#ads_filtered.groupby(by='locality_name')['rooms'].count().sort_values\n",
    "top_ten_locations = ads_filtered['locality_name'].value_counts().head(10).index\n",
    "top_ten_df = ads_filtered.query('locality_name in @top_ten_locations')\n",
    "top_ten_df.groupby(by='locality_name')['meter_price'].mean().sort_values(ascending=False)"
   ]
  },
  {
   "cell_type": "code",
   "execution_count": 53,
   "metadata": {},
   "outputs": [
    {
     "data": {
      "text/plain": [
       "<AxesSubplot:xlabel='locality_name'>"
      ]
     },
     "execution_count": 53,
     "metadata": {},
     "output_type": "execute_result"
    },
    {
     "data": {
      "image/png": "[encoded data removed]",
      "text/plain": [
       "<Figure size 432x288 with 1 Axes>"
      ]
     },
     "metadata": {
      "needs_background": "light"
     },
     "output_type": "display_data"
    }
   ],
   "source": [
    "top_ten_df.groupby(by='locality_name')['meter_price'].mean().sort_values(ascending=False).plot.bar()"
   ]
  },
  {
   "cell_type": "markdown",
   "metadata": {},
   "source": [
    "Выделим квартиры в Санкт-Петербурге. Посчитаем среднюю цену для каждого километра. Построим график  зависимости цены от удалённости от центра."
   ]
  },
  {
   "cell_type": "code",
   "execution_count": 54,
   "metadata": {
    "scrolled": true
   },
   "outputs": [
    {
     "data": {
      "text/plain": [
       "<AxesSubplot:xlabel='km_to_center'>"
      ]
     },
     "execution_count": 54,
     "metadata": {},
     "output_type": "execute_result"
    },
    {
     "data": {
      "image/png": "[encoded data removed]",
      "text/plain": [
       "<Figure size 432x288 with 1 Axes>"
      ]
     },
     "metadata": {
      "needs_background": "light"
     },
     "output_type": "display_data"
    }
   ],
   "source": [
    "\n",
    "#ads_filtered['km_to_center'] = round(ads_filtered['city_сenters_nearest'] / 1000)\n",
    "ads_filtered['km_to_center'] = np.ceil(ads_filtered['city_сenters_nearest'] / 1000)\n",
    "peter_flats = ads_filtered[ads_filtered['locality_name'] == 'санкт-петербург'].copy()\n",
    "#print(peter_flats['km_to_center'].mean(), peter_flats['km_to_center'].median())\n",
    "peter_flats['km_to_center'] = peter_flats['km_to_center'].fillna(round(peter_flats['km_to_center'].median()))\n",
    "peter_flats.groupby(by='km_to_center')['price_in_million'].mean().plot()\n",
    "#peter_flats['km_to_center'].isna().value_counts()"
   ]
  },
  {
   "cell_type": "markdown",
   "metadata": {},
   "source": [
    "кажется центр города в пределах 8 км, но это не точно 🤡"
   ]
  },
  {
   "cell_type": "markdown",
   "metadata": {},
   "source": [
    "Выделим сегмент квартир в центре. "
   ]
  },
  {
   "cell_type": "code",
   "execution_count": 55,
   "metadata": {
    "scrolled": true
   },
   "outputs": [
    {
     "data": {
      "text/html": [
       "<div>\n",
       "<style scoped>\n",
       "    .dataframe tbody tr th:only-of-type {\n",
       "        vertical-align: middle;\n",
       "    }\n",
       "\n",
       "    .dataframe tbody tr th {\n",
       "        vertical-align: top;\n",
       "    }\n",
       "\n",
       "    .dataframe thead th {\n",
       "        text-align: right;\n",
       "    }\n",
       "</style>\n",
       "<table border=\"1\" class=\"dataframe\">\n",
       "  <thead>\n",
       "    <tr style=\"text-align: right;\">\n",
       "      <th></th>\n",
       "      <th>price_in_million</th>\n",
       "      <th>total_area</th>\n",
       "      <th>rooms</th>\n",
       "      <th>ceiling_height</th>\n",
       "      <th>km_to_center</th>\n",
       "    </tr>\n",
       "  </thead>\n",
       "  <tbody>\n",
       "    <tr>\n",
       "      <th>price_in_million</th>\n",
       "      <td>1.000000</td>\n",
       "      <td>0.697377</td>\n",
       "      <td>0.442425</td>\n",
       "      <td>0.448765</td>\n",
       "      <td>-0.132530</td>\n",
       "    </tr>\n",
       "    <tr>\n",
       "      <th>total_area</th>\n",
       "      <td>0.697377</td>\n",
       "      <td>1.000000</td>\n",
       "      <td>0.797367</td>\n",
       "      <td>0.403823</td>\n",
       "      <td>-0.173375</td>\n",
       "    </tr>\n",
       "    <tr>\n",
       "      <th>rooms</th>\n",
       "      <td>0.442425</td>\n",
       "      <td>0.797367</td>\n",
       "      <td>1.000000</td>\n",
       "      <td>0.271358</td>\n",
       "      <td>-0.165283</td>\n",
       "    </tr>\n",
       "    <tr>\n",
       "      <th>ceiling_height</th>\n",
       "      <td>0.448765</td>\n",
       "      <td>0.403823</td>\n",
       "      <td>0.271358</td>\n",
       "      <td>1.000000</td>\n",
       "      <td>-0.213288</td>\n",
       "    </tr>\n",
       "    <tr>\n",
       "      <th>km_to_center</th>\n",
       "      <td>-0.132530</td>\n",
       "      <td>-0.173375</td>\n",
       "      <td>-0.165283</td>\n",
       "      <td>-0.213288</td>\n",
       "      <td>1.000000</td>\n",
       "    </tr>\n",
       "  </tbody>\n",
       "</table>\n",
       "</div>"
      ],
      "text/plain": [
       "                  price_in_million  total_area     rooms  ceiling_height  \\\n",
       "price_in_million          1.000000    0.697377  0.442425        0.448765   \n",
       "total_area                0.697377    1.000000  0.797367        0.403823   \n",
       "rooms                     0.442425    0.797367  1.000000        0.271358   \n",
       "ceiling_height            0.448765    0.403823  0.271358        1.000000   \n",
       "km_to_center             -0.132530   -0.173375 -0.165283       -0.213288   \n",
       "\n",
       "                  km_to_center  \n",
       "price_in_million     -0.132530  \n",
       "total_area           -0.173375  \n",
       "rooms                -0.165283  \n",
       "ceiling_height       -0.213288  \n",
       "km_to_center          1.000000  "
      ]
     },
     "metadata": {},
     "output_type": "display_data"
    },
    {
     "data": {
      "image/png": "[encoded data removed]",
      "text/plain": [
       "<Figure size 432x288 with 1 Axes>"
      ]
     },
     "metadata": {
      "needs_background": "light"
     },
     "output_type": "display_data"
    },
    {
     "data": {
      "image/png": "[encoded data removed]",
      "text/plain": [
       "<Figure size 432x288 with 1 Axes>"
      ]
     },
     "metadata": {
      "needs_background": "light"
     },
     "output_type": "display_data"
    },
    {
     "data": {
      "image/png": "[encoded data removed]",
      "text/plain": [
       "<Figure size 432x288 with 1 Axes>"
      ]
     },
     "metadata": {
      "needs_background": "light"
     },
     "output_type": "display_data"
    },
    {
     "data": {
      "image/png": "[encoded data removed]",
      "text/plain": [
       "<Figure size 432x288 with 1 Axes>"
      ]
     },
     "metadata": {
      "needs_background": "light"
     },
     "output_type": "display_data"
    },
    {
     "data": {
      "image/png": "[encoded data removed]",
      "text/plain": [
       "<Figure size 432x288 with 1 Axes>"
      ]
     },
     "metadata": {
      "needs_background": "light"
     },
     "output_type": "display_data"
    },
    {
     "data": {
      "image/png": "[encoded data removed]",
      "text/plain": [
       "<Figure size 432x288 with 1 Axes>"
      ]
     },
     "metadata": {
      "needs_background": "light"
     },
     "output_type": "display_data"
    }
   ],
   "source": [
    "spb_center = peter_flats.query('km_to_center <= 8')\n",
    "spb_other = peter_flats.query('km_to_center > 8')\n",
    "display(spb_center[['price_in_million', 'total_area',  'rooms',\n",
    "            'ceiling_height', 'km_to_center', 'first_day_exposition']].corr())\n",
    "\n",
    "plot_hists(['total_area', 'price_in_million', 'rooms',\n",
    "            'ceiling_height', 'km_to_center','days_exposition'], spb_center)"
   ]
  },
  {
   "cell_type": "code",
   "execution_count": 56,
   "metadata": {},
   "outputs": [
    {
     "data": {
      "text/html": [
       "<style  type=\"text/css\" >\n",
       "#T_cec23_row0_col1,#T_cec23_row1_col1{\n",
       "            background-color:  #b40426;\n",
       "            color:  #f1f1f1;\n",
       "        }#T_cec23_row2_col1{\n",
       "            background-color:  #f5a081;\n",
       "            color:  #000000;\n",
       "        }#T_cec23_row3_col1{\n",
       "            background-color:  #f4c6af;\n",
       "            color:  #000000;\n",
       "        }#T_cec23_row4_col1{\n",
       "            background-color:  #e2dad5;\n",
       "            color:  #000000;\n",
       "        }#T_cec23_row5_col1{\n",
       "            background-color:  #e1dad6;\n",
       "            color:  #000000;\n",
       "        }#T_cec23_row6_col1{\n",
       "            background-color:  #dfdbd9;\n",
       "            color:  #000000;\n",
       "        }#T_cec23_row7_col1{\n",
       "            background-color:  #b3cdfb;\n",
       "            color:  #000000;\n",
       "        }#T_cec23_row8_col1{\n",
       "            background-color:  #9bbcff;\n",
       "            color:  #000000;\n",
       "        }#T_cec23_row9_col1{\n",
       "            background-color:  #8fb1fe;\n",
       "            color:  #000000;\n",
       "        }#T_cec23_row10_col1{\n",
       "            background-color:  #8caffe;\n",
       "            color:  #000000;\n",
       "        }#T_cec23_row11_col1{\n",
       "            background-color:  #82a6fb;\n",
       "            color:  #000000;\n",
       "        }#T_cec23_row12_col1{\n",
       "            background-color:  #80a3fa;\n",
       "            color:  #000000;\n",
       "        }#T_cec23_row13_col1{\n",
       "            background-color:  #7a9df8;\n",
       "            color:  #000000;\n",
       "        }#T_cec23_row14_col1{\n",
       "            background-color:  #779af7;\n",
       "            color:  #000000;\n",
       "        }#T_cec23_row15_col1{\n",
       "            background-color:  #7093f3;\n",
       "            color:  #000000;\n",
       "        }#T_cec23_row16_col1{\n",
       "            background-color:  #6a8bef;\n",
       "            color:  #000000;\n",
       "        }#T_cec23_row17_col1{\n",
       "            background-color:  #688aef;\n",
       "            color:  #000000;\n",
       "        }#T_cec23_row18_col1{\n",
       "            background-color:  #6384eb;\n",
       "            color:  #000000;\n",
       "        }#T_cec23_row19_col1,#T_cec23_row20_col1,#T_cec23_row21_col1{\n",
       "            background-color:  #5e7de7;\n",
       "            color:  #000000;\n",
       "        }#T_cec23_row22_col1{\n",
       "            background-color:  #5b7ae5;\n",
       "            color:  #000000;\n",
       "        }#T_cec23_row23_col1{\n",
       "            background-color:  #5977e3;\n",
       "            color:  #000000;\n",
       "        }#T_cec23_row24_col1{\n",
       "            background-color:  #5875e1;\n",
       "            color:  #000000;\n",
       "        }#T_cec23_row25_col1{\n",
       "            background-color:  #3c4ec2;\n",
       "            color:  #f1f1f1;\n",
       "        }#T_cec23_row26_col1,#T_cec23_row27_col1{\n",
       "            background-color:  #3b4cc0;\n",
       "            color:  #f1f1f1;\n",
       "        }</style><table id=\"T_cec23_\" ><thead>    <tr>        <th class=\"blank level0\" ></th>        <th class=\"col_heading level0 col0\" >index</th>        <th class=\"col_heading level0 col1\" >last_price</th>    </tr></thead><tbody>\n",
       "                <tr>\n",
       "                        <th id=\"T_cec23_level0_row0\" class=\"row_heading level0 row0\" >0</th>\n",
       "                        <td id=\"T_cec23_row0_col0\" class=\"data row0 col0\" >last_price</td>\n",
       "                        <td id=\"T_cec23_row0_col1\" class=\"data row0 col1\" >1.000000</td>\n",
       "            </tr>\n",
       "            <tr>\n",
       "                        <th id=\"T_cec23_level0_row1\" class=\"row_heading level0 row1\" >1</th>\n",
       "                        <td id=\"T_cec23_row1_col0\" class=\"data row1 col0\" >price_in_million</td>\n",
       "                        <td id=\"T_cec23_row1_col1\" class=\"data row1 col1\" >1.000000</td>\n",
       "            </tr>\n",
       "            <tr>\n",
       "                        <th id=\"T_cec23_level0_row2\" class=\"row_heading level0 row2\" >2</th>\n",
       "                        <td id=\"T_cec23_row2_col0\" class=\"data row2 col0\" >total_area</td>\n",
       "                        <td id=\"T_cec23_row2_col1\" class=\"data row2 col1\" >0.697377</td>\n",
       "            </tr>\n",
       "            <tr>\n",
       "                        <th id=\"T_cec23_level0_row3\" class=\"row_heading level0 row3\" >3</th>\n",
       "                        <td id=\"T_cec23_row3_col0\" class=\"data row3 col0\" >living_area</td>\n",
       "                        <td id=\"T_cec23_row3_col1\" class=\"data row3 col1\" >0.568042</td>\n",
       "            </tr>\n",
       "            <tr>\n",
       "                        <th id=\"T_cec23_level0_row4\" class=\"row_heading level0 row4\" >4</th>\n",
       "                        <td id=\"T_cec23_row4_col0\" class=\"data row4 col0\" >kitchen_area</td>\n",
       "                        <td id=\"T_cec23_row4_col1\" class=\"data row4 col1\" >0.455951</td>\n",
       "            </tr>\n",
       "            <tr>\n",
       "                        <th id=\"T_cec23_level0_row5\" class=\"row_heading level0 row5\" >5</th>\n",
       "                        <td id=\"T_cec23_row5_col0\" class=\"data row5 col0\" >ceiling_height</td>\n",
       "                        <td id=\"T_cec23_row5_col1\" class=\"data row5 col1\" >0.448765</td>\n",
       "            </tr>\n",
       "            <tr>\n",
       "                        <th id=\"T_cec23_level0_row6\" class=\"row_heading level0 row6\" >6</th>\n",
       "                        <td id=\"T_cec23_row6_col0\" class=\"data row6 col0\" >rooms</td>\n",
       "                        <td id=\"T_cec23_row6_col1\" class=\"data row6 col1\" >0.442425</td>\n",
       "            </tr>\n",
       "            <tr>\n",
       "                        <th id=\"T_cec23_level0_row7\" class=\"row_heading level0 row7\" >7</th>\n",
       "                        <td id=\"T_cec23_row7_col0\" class=\"data row7 col0\" >meter_price</td>\n",
       "                        <td id=\"T_cec23_row7_col1\" class=\"data row7 col1\" >0.271674</td>\n",
       "            </tr>\n",
       "            <tr>\n",
       "                        <th id=\"T_cec23_level0_row8\" class=\"row_heading level0 row8\" >8</th>\n",
       "                        <td id=\"T_cec23_row8_col0\" class=\"data row8 col0\" >floor_category</td>\n",
       "                        <td id=\"T_cec23_row8_col1\" class=\"data row8 col1\" >0.194252</td>\n",
       "            </tr>\n",
       "            <tr>\n",
       "                        <th id=\"T_cec23_level0_row9\" class=\"row_heading level0 row9\" >9</th>\n",
       "                        <td id=\"T_cec23_row9_col0\" class=\"data row9 col0\" >floor</td>\n",
       "                        <td id=\"T_cec23_row9_col1\" class=\"data row9 col1\" >0.151016</td>\n",
       "            </tr>\n",
       "            <tr>\n",
       "                        <th id=\"T_cec23_level0_row10\" class=\"row_heading level0 row10\" >10</th>\n",
       "                        <td id=\"T_cec23_row10_col0\" class=\"data row10 col0\" >floors_total</td>\n",
       "                        <td id=\"T_cec23_row10_col1\" class=\"data row10 col1\" >0.143332</td>\n",
       "            </tr>\n",
       "            <tr>\n",
       "                        <th id=\"T_cec23_level0_row11\" class=\"row_heading level0 row11\" >11</th>\n",
       "                        <td id=\"T_cec23_row11_col0\" class=\"data row11 col0\" >total_images</td>\n",
       "                        <td id=\"T_cec23_row11_col1\" class=\"data row11 col1\" >0.112412</td>\n",
       "            </tr>\n",
       "            <tr>\n",
       "                        <th id=\"T_cec23_level0_row12\" class=\"row_heading level0 row12\" >12</th>\n",
       "                        <td id=\"T_cec23_row12_col0\" class=\"data row12 col0\" >days_exposition</td>\n",
       "                        <td id=\"T_cec23_row12_col1\" class=\"data row12 col1\" >0.101740</td>\n",
       "            </tr>\n",
       "            <tr>\n",
       "                        <th id=\"T_cec23_level0_row13\" class=\"row_heading level0 row13\" >13</th>\n",
       "                        <td id=\"T_cec23_row13_col0\" class=\"data row13 col0\" >balcony</td>\n",
       "                        <td id=\"T_cec23_row13_col1\" class=\"data row13 col1\" >0.086664</td>\n",
       "            </tr>\n",
       "            <tr>\n",
       "                        <th id=\"T_cec23_level0_row14\" class=\"row_heading level0 row14\" >14</th>\n",
       "                        <td id=\"T_cec23_row14_col0\" class=\"data row14 col0\" >parks_nearest</td>\n",
       "                        <td id=\"T_cec23_row14_col1\" class=\"data row14 col1\" >0.077610</td>\n",
       "            </tr>\n",
       "            <tr>\n",
       "                        <th id=\"T_cec23_level0_row15\" class=\"row_heading level0 row15\" >15</th>\n",
       "                        <td id=\"T_cec23_row15_col0\" class=\"data row15 col0\" >year_exposition</td>\n",
       "                        <td id=\"T_cec23_row15_col1\" class=\"data row15 col1\" >0.056097</td>\n",
       "            </tr>\n",
       "            <tr>\n",
       "                        <th id=\"T_cec23_level0_row16\" class=\"row_heading level0 row16\" >16</th>\n",
       "                        <td id=\"T_cec23_row16_col0\" class=\"data row16 col0\" >parks_around_3000</td>\n",
       "                        <td id=\"T_cec23_row16_col1\" class=\"data row16 col1\" >0.032425</td>\n",
       "            </tr>\n",
       "            <tr>\n",
       "                        <th id=\"T_cec23_level0_row17\" class=\"row_heading level0 row17\" >17</th>\n",
       "                        <td id=\"T_cec23_row17_col0\" class=\"data row17 col0\" >ponds_around_3000</td>\n",
       "                        <td id=\"T_cec23_row17_col1\" class=\"data row17 col1\" >0.029227</td>\n",
       "            </tr>\n",
       "            <tr>\n",
       "                        <th id=\"T_cec23_level0_row18\" class=\"row_heading level0 row18\" >18</th>\n",
       "                        <td id=\"T_cec23_row18_col0\" class=\"data row18 col0\" >ponds_nearest</td>\n",
       "                        <td id=\"T_cec23_row18_col1\" class=\"data row18 col1\" >0.011349</td>\n",
       "            </tr>\n",
       "            <tr>\n",
       "                        <th id=\"T_cec23_level0_row19\" class=\"row_heading level0 row19\" >19</th>\n",
       "                        <td id=\"T_cec23_row19_col0\" class=\"data row19 col0\" >airports_nearest</td>\n",
       "                        <td id=\"T_cec23_row19_col1\" class=\"data row19 col1\" >-0.005568</td>\n",
       "            </tr>\n",
       "            <tr>\n",
       "                        <th id=\"T_cec23_level0_row20\" class=\"row_heading level0 row20\" >20</th>\n",
       "                        <td id=\"T_cec23_row20_col0\" class=\"data row20 col0\" >living_area_to_total</td>\n",
       "                        <td id=\"T_cec23_row20_col1\" class=\"data row20 col1\" >-0.007729</td>\n",
       "            </tr>\n",
       "            <tr>\n",
       "                        <th id=\"T_cec23_level0_row21\" class=\"row_heading level0 row21\" >21</th>\n",
       "                        <td id=\"T_cec23_row21_col0\" class=\"data row21 col0\" >weekday_exposition</td>\n",
       "                        <td id=\"T_cec23_row21_col1\" class=\"data row21 col1\" >-0.007750</td>\n",
       "            </tr>\n",
       "            <tr>\n",
       "                        <th id=\"T_cec23_level0_row22\" class=\"row_heading level0 row22\" >22</th>\n",
       "                        <td id=\"T_cec23_row22_col0\" class=\"data row22 col0\" >open_plan</td>\n",
       "                        <td id=\"T_cec23_row22_col1\" class=\"data row22 col1\" >-0.018653</td>\n",
       "            </tr>\n",
       "            <tr>\n",
       "                        <th id=\"T_cec23_level0_row23\" class=\"row_heading level0 row23\" >23</th>\n",
       "                        <td id=\"T_cec23_row23_col0\" class=\"data row23 col0\" >month_exposition</td>\n",
       "                        <td id=\"T_cec23_row23_col1\" class=\"data row23 col1\" >-0.027661</td>\n",
       "            </tr>\n",
       "            <tr>\n",
       "                        <th id=\"T_cec23_level0_row24\" class=\"row_heading level0 row24\" >24</th>\n",
       "                        <td id=\"T_cec23_row24_col0\" class=\"data row24 col0\" >studio</td>\n",
       "                        <td id=\"T_cec23_row24_col1\" class=\"data row24 col1\" >-0.030205</td>\n",
       "            </tr>\n",
       "            <tr>\n",
       "                        <th id=\"T_cec23_level0_row25\" class=\"row_heading level0 row25\" >25</th>\n",
       "                        <td id=\"T_cec23_row25_col0\" class=\"data row25 col0\" >km_to_center</td>\n",
       "                        <td id=\"T_cec23_row25_col1\" class=\"data row25 col1\" >-0.132530</td>\n",
       "            </tr>\n",
       "            <tr>\n",
       "                        <th id=\"T_cec23_level0_row26\" class=\"row_heading level0 row26\" >26</th>\n",
       "                        <td id=\"T_cec23_row26_col0\" class=\"data row26 col0\" >city_сenters_nearest</td>\n",
       "                        <td id=\"T_cec23_row26_col1\" class=\"data row26 col1\" >-0.138140</td>\n",
       "            </tr>\n",
       "            <tr>\n",
       "                        <th id=\"T_cec23_level0_row27\" class=\"row_heading level0 row27\" >27</th>\n",
       "                        <td id=\"T_cec23_row27_col0\" class=\"data row27 col0\" >kitchen_area_to_total</td>\n",
       "                        <td id=\"T_cec23_row27_col1\" class=\"data row27 col1\" >-0.138964</td>\n",
       "            </tr>\n",
       "    </tbody></table>"
      ],
      "text/plain": [
       "<pandas.io.formats.style.Styler at 0x7f42b653dee0>"
      ]
     },
     "execution_count": 56,
     "metadata": {},
     "output_type": "execute_result"
    }
   ],
   "source": [
    "\n",
    "\n",
    "corr  = spb_center.corr()\\\n",
    "        .sort_values('last_price', ascending=False)\\\n",
    "        .filter(items = ['last_price'])\\\n",
    "        .reset_index()\n",
    "corr.style.background_gradient('coolwarm')"
   ]
  },
  {
   "cell_type": "markdown",
   "metadata": {},
   "source": [
    "### Вывод"
   ]
  },
  {
   "cell_type": "markdown",
   "metadata": {},
   "source": [
    "* немного изменился основной диапазон площади 30-85\n",
    "* увеличился основной диапазон цен, от 3 до 10 млн\n",
    "* в центре преобладают 2х комнатные квартиры\n",
    "* усилилась зависимость цены от высоты потолков\n",
    "* в центре  более высокие потолки 2.9 м"
   ]
  },
  {
   "cell_type": "markdown",
   "metadata": {},
   "source": [
    "## Общий вывод"
   ]
  },
  {
   "cell_type": "markdown",
   "metadata": {},
   "source": [
    "Итак, провели исследование объявлений о продаже квартиры:\n",
    "\n",
    "**были скорректированны названия столбцов в соответствии со стилем snake case :**\n",
    "\n",
    "`parks_around3000` -> `parks_around_3000`\n",
    "`ponds_around3000`  -> `ponds_around_3000` \n",
    "`cityCenters_nearest` -> `city_сenters_nearest`\n",
    "\n",
    "**Изменны типы данных:**\n",
    "\n",
    "`first_day_exposition`  переформатировали в дату\n",
    "\n",
    "`floors_total, balcony, airports_nearest, city_сenters_nearest, parks_around_3000,\tparks_nearest, ponds_around_3000, ponds_nearest, days_exposition` перевели в целочисленный тип\n",
    "\n",
    "**Заполнили пропуски:**\n",
    "В столбцах `balcony`, `parks_around_3000`, `ponds_around_3000` заменили пропущенные значения на 0, допустив, что причиной отсутствия данных было отсутствие объектов \n",
    "В столбце `locality_name` заменили пропуски на `unknown` ввиду, т.к количество пропусков достаточно мало\n",
    "В столбцах `ceiling_height`, `living_area`, `kitchen_area`  заполнили пропуски медианным значением для каждой категории\n",
    "из столбца `price_category`\n",
    "Исключили из набора строки с пропусками в столбце `floors_total` ввиду малого количества\n",
    "**В колонке `locality_name` было выявлено 46 неявных дубликата**\n",
    "\n",
    "**В 3 разделе выполнили необходимые расчеты и добавили новые данные:**\n",
    "\n",
    "    стоимость квартир в миллионах, для удобства при построении графиков\n",
    "    соотношение жилой и общей площади\n",
    "    отношение площади кухни к общей\n",
    "    этаж квартиры по категориям — первый, последний, другой\n",
    "    день недели, месяц и год публикации объявления\n",
    "    цену квадратного метра\n",
    "\n",
    "**В 4 пункте установили основные отличия недвижимости в центре Санкт-Петербурга**\n",
    "* изменился основной диапазон площади 30-85\n",
    "* увеличился основной диапазон цен, от 3 до 10 млн\n",
    "* в центре преобладают 2х комнатные квартиры\n",
    "* усилилась зависимость цены от высоты потолков\n",
    "* в центре  более высокие потолки 2.9 м\n",
    "\n",
    "Таким образом, установлено , что наибольшее влияние на стоимость квартиры оказывают площадь, количество комнат, близость к центру. От даты размещения цена не зависит\n"
   ]
  }
 ],
 "metadata": {
  "ExecuteTimeLog": [
   {
    "duration": 93,
    "start_time": "2022-01-25T19:08:14.544Z"
   },
   {
    "duration": 676,
    "start_time": "2022-01-25T19:35:38.822Z"
   },
   {
    "duration": 1228,
    "start_time": "2022-01-25T19:35:43.082Z"
   },
   {
    "duration": 903,
    "start_time": "2022-01-25T19:35:47.587Z"
   },
   {
    "duration": 3,
    "start_time": "2022-01-25T19:35:52.402Z"
   },
   {
    "duration": 1904,
    "start_time": "2022-01-25T19:35:55.362Z"
   },
   {
    "duration": 63,
    "start_time": "2022-01-25T19:36:11.446Z"
   },
   {
    "duration": 82,
    "start_time": "2022-01-25T19:43:56.958Z"
   },
   {
    "duration": 62,
    "start_time": "2022-01-25T19:44:31.775Z"
   },
   {
    "duration": 64,
    "start_time": "2022-01-25T19:44:42.014Z"
   },
   {
    "duration": 22,
    "start_time": "2022-01-25T19:45:23.610Z"
   },
   {
    "duration": 66,
    "start_time": "2022-01-25T19:45:46.119Z"
   },
   {
    "duration": 27,
    "start_time": "2022-01-25T19:45:48.307Z"
   },
   {
    "duration": 70,
    "start_time": "2022-01-25T19:54:00.647Z"
   },
   {
    "duration": 965,
    "start_time": "2022-01-25T19:54:05.625Z"
   },
   {
    "duration": 63,
    "start_time": "2022-01-25T19:55:01.865Z"
   },
   {
    "duration": 7413,
    "start_time": "2022-01-25T19:55:01.929Z"
   },
   {
    "duration": 6148,
    "start_time": "2022-01-25T19:55:09.344Z"
   },
   {
    "duration": 3258,
    "start_time": "2022-01-25T19:55:15.493Z"
   },
   {
    "duration": 62,
    "start_time": "2022-01-25T19:59:35.049Z"
   },
   {
    "duration": 12503,
    "start_time": "2022-01-25T19:59:37.628Z"
   },
   {
    "duration": 1376,
    "start_time": "2022-01-25T19:59:50.132Z"
   },
   {
    "duration": 63,
    "start_time": "2022-01-25T20:00:07.633Z"
   },
   {
    "duration": 112,
    "start_time": "2022-01-25T20:00:12.424Z"
   },
   {
    "duration": 77,
    "start_time": "2022-01-25T20:01:11.513Z"
   },
   {
    "duration": 62,
    "start_time": "2022-01-25T20:01:22.466Z"
   },
   {
    "duration": 114,
    "start_time": "2022-01-25T20:01:28.121Z"
   },
   {
    "duration": 59,
    "start_time": "2022-01-25T20:05:41.555Z"
   },
   {
    "duration": 143,
    "start_time": "2022-01-25T20:05:43.831Z"
   },
   {
    "duration": 61,
    "start_time": "2022-01-25T20:06:34.071Z"
   },
   {
    "duration": 104,
    "start_time": "2022-01-25T20:06:43.699Z"
   },
   {
    "duration": 61,
    "start_time": "2022-01-25T20:07:25.415Z"
   },
   {
    "duration": 113,
    "start_time": "2022-01-25T20:07:29.264Z"
   },
   {
    "duration": 57,
    "start_time": "2022-01-25T20:08:49.576Z"
   },
   {
    "duration": 12,
    "start_time": "2022-01-25T20:08:52.004Z"
   },
   {
    "duration": 62,
    "start_time": "2022-01-25T20:08:58.455Z"
   },
   {
    "duration": 3,
    "start_time": "2022-01-25T20:09:00.648Z"
   },
   {
    "duration": 60,
    "start_time": "2022-01-25T20:09:11.153Z"
   },
   {
    "duration": 2343,
    "start_time": "2022-01-25T20:09:13.105Z"
   },
   {
    "duration": 60,
    "start_time": "2022-01-25T20:09:32.452Z"
   },
   {
    "duration": 11,
    "start_time": "2022-01-25T20:09:36.960Z"
   },
   {
    "duration": 64,
    "start_time": "2022-01-25T20:10:13.760Z"
   },
   {
    "duration": 135,
    "start_time": "2022-01-25T20:10:16.176Z"
   },
   {
    "duration": 18,
    "start_time": "2022-01-25T20:12:59.097Z"
   },
   {
    "duration": 18,
    "start_time": "2022-01-25T20:14:08.829Z"
   },
   {
    "duration": 44,
    "start_time": "2022-01-25T20:15:09.454Z"
   },
   {
    "duration": 322,
    "start_time": "2022-01-26T18:22:08.071Z"
   },
   {
    "duration": 1156,
    "start_time": "2022-01-26T18:22:22.815Z"
   },
   {
    "duration": 78,
    "start_time": "2022-01-26T18:22:23.973Z"
   },
   {
    "duration": 166,
    "start_time": "2022-01-26T18:22:24.054Z"
   },
   {
    "duration": 69,
    "start_time": "2022-01-26T18:22:24.222Z"
   },
   {
    "duration": -1974,
    "start_time": "2022-01-26T18:22:26.267Z"
   },
   {
    "duration": 382,
    "start_time": "2022-01-26T18:22:28.039Z"
   },
   {
    "duration": 106,
    "start_time": "2022-01-26T18:36:36.231Z"
   },
   {
    "duration": 95,
    "start_time": "2022-01-26T18:38:02.748Z"
   },
   {
    "duration": 61,
    "start_time": "2022-01-26T18:40:12.102Z"
   },
   {
    "duration": 1076,
    "start_time": "2022-01-29T13:54:08.324Z"
   },
   {
    "duration": 77,
    "start_time": "2022-01-29T13:54:09.402Z"
   },
   {
    "duration": 149,
    "start_time": "2022-01-29T13:54:09.481Z"
   },
   {
    "duration": 59,
    "start_time": "2022-01-29T13:54:09.660Z"
   },
   {
    "duration": 29,
    "start_time": "2022-01-29T14:03:22.088Z"
   },
   {
    "duration": 10,
    "start_time": "2022-01-29T14:04:48.104Z"
   },
   {
    "duration": 10,
    "start_time": "2022-01-29T14:12:57.784Z"
   },
   {
    "duration": 13,
    "start_time": "2022-01-29T14:13:26.864Z"
   },
   {
    "duration": 241,
    "start_time": "2022-01-29T14:13:53.387Z"
   },
   {
    "duration": 5,
    "start_time": "2022-01-29T14:14:00.788Z"
   },
   {
    "duration": 6,
    "start_time": "2022-01-29T14:16:27.201Z"
   },
   {
    "duration": 6,
    "start_time": "2022-01-29T14:16:36.613Z"
   },
   {
    "duration": 30,
    "start_time": "2022-01-29T14:25:53.570Z"
   },
   {
    "duration": 38,
    "start_time": "2022-01-29T14:28:09.657Z"
   },
   {
    "duration": 8,
    "start_time": "2022-01-29T14:34:23.040Z"
   },
   {
    "duration": 3,
    "start_time": "2022-01-29T14:59:50.719Z"
   },
   {
    "duration": 97,
    "start_time": "2022-01-29T14:59:50.724Z"
   },
   {
    "duration": 194,
    "start_time": "2022-01-29T14:59:50.823Z"
   },
   {
    "duration": 98,
    "start_time": "2022-01-29T14:59:51.019Z"
   },
   {
    "duration": 7,
    "start_time": "2022-01-29T14:59:51.119Z"
   },
   {
    "duration": 51,
    "start_time": "2022-01-29T15:00:17.346Z"
   },
   {
    "duration": 26,
    "start_time": "2022-01-29T15:00:37.926Z"
   },
   {
    "duration": 330,
    "start_time": "2022-01-29T15:04:31.709Z"
   },
   {
    "duration": 241,
    "start_time": "2022-01-29T15:05:44.012Z"
   },
   {
    "duration": 14,
    "start_time": "2022-01-29T15:08:50.370Z"
   },
   {
    "duration": 16,
    "start_time": "2022-01-29T15:09:40.851Z"
   },
   {
    "duration": 14,
    "start_time": "2022-01-29T15:23:04.596Z"
   },
   {
    "duration": 3,
    "start_time": "2022-01-29T15:23:36.133Z"
   },
   {
    "duration": 80,
    "start_time": "2022-01-29T15:23:36.139Z"
   },
   {
    "duration": 165,
    "start_time": "2022-01-29T15:23:36.221Z"
   },
   {
    "duration": 83,
    "start_time": "2022-01-29T15:23:36.387Z"
   },
   {
    "duration": 7,
    "start_time": "2022-01-29T15:23:36.471Z"
   },
   {
    "duration": 19,
    "start_time": "2022-01-29T15:23:40.227Z"
   },
   {
    "duration": 24,
    "start_time": "2022-01-29T15:26:00.722Z"
   },
   {
    "duration": 49,
    "start_time": "2022-01-29T16:02:47.240Z"
   },
   {
    "duration": 20,
    "start_time": "2022-01-29T16:02:51.450Z"
   },
   {
    "duration": 47,
    "start_time": "2022-01-29T16:04:45.720Z"
   },
   {
    "duration": 196,
    "start_time": "2022-01-29T16:04:58.442Z"
   },
   {
    "duration": 19,
    "start_time": "2022-01-29T16:07:33.271Z"
   },
   {
    "duration": 26,
    "start_time": "2022-01-29T16:16:56.559Z"
   },
   {
    "duration": 24,
    "start_time": "2022-01-29T16:17:21.651Z"
   },
   {
    "duration": 20,
    "start_time": "2022-01-29T17:56:40.141Z"
   },
   {
    "duration": 158,
    "start_time": "2022-01-29T17:57:45.435Z"
   },
   {
    "duration": 170,
    "start_time": "2022-01-29T17:58:07.180Z"
   },
   {
    "duration": 25,
    "start_time": "2022-01-29T17:58:15.847Z"
   },
   {
    "duration": 23,
    "start_time": "2022-01-29T18:06:18.464Z"
   },
   {
    "duration": 24,
    "start_time": "2022-01-29T18:06:31.978Z"
   },
   {
    "duration": 19,
    "start_time": "2022-01-29T18:07:07.823Z"
   },
   {
    "duration": 147,
    "start_time": "2022-01-29T18:11:09.280Z"
   },
   {
    "duration": 7,
    "start_time": "2022-01-29T18:11:19.109Z"
   },
   {
    "duration": 135,
    "start_time": "2022-01-29T18:12:45.431Z"
   },
   {
    "duration": 220,
    "start_time": "2022-01-29T18:14:08.697Z"
   },
   {
    "duration": 144,
    "start_time": "2022-01-29T18:24:40.729Z"
   },
   {
    "duration": 9,
    "start_time": "2022-01-29T18:26:27.195Z"
   },
   {
    "duration": 136,
    "start_time": "2022-01-29T18:28:03.655Z"
   },
   {
    "duration": 146,
    "start_time": "2022-01-29T18:28:27.926Z"
   },
   {
    "duration": 23,
    "start_time": "2022-01-29T18:29:21.487Z"
   },
   {
    "duration": 143,
    "start_time": "2022-01-29T18:29:38.581Z"
   },
   {
    "duration": 134,
    "start_time": "2022-01-29T18:30:28.264Z"
   },
   {
    "duration": 1126,
    "start_time": "2022-01-29T18:31:08.163Z"
   },
   {
    "duration": 71,
    "start_time": "2022-01-29T18:31:09.291Z"
   },
   {
    "duration": 150,
    "start_time": "2022-01-29T18:31:09.364Z"
   },
   {
    "duration": 82,
    "start_time": "2022-01-29T18:31:09.516Z"
   },
   {
    "duration": 7,
    "start_time": "2022-01-29T18:31:09.600Z"
   },
   {
    "duration": 23,
    "start_time": "2022-01-29T18:31:09.609Z"
   },
   {
    "duration": 31,
    "start_time": "2022-01-29T18:31:16.788Z"
   },
   {
    "duration": 43,
    "start_time": "2022-01-29T18:31:27.745Z"
   },
   {
    "duration": 227,
    "start_time": "2022-01-29T18:32:20.720Z"
   },
   {
    "duration": 135,
    "start_time": "2022-01-29T18:32:49.800Z"
   },
   {
    "duration": 156,
    "start_time": "2022-01-29T18:33:05.335Z"
   },
   {
    "duration": 220,
    "start_time": "2022-01-29T18:33:50.078Z"
   },
   {
    "duration": 1104,
    "start_time": "2022-01-29T18:33:55.201Z"
   },
   {
    "duration": 76,
    "start_time": "2022-01-29T18:33:56.307Z"
   },
   {
    "duration": 176,
    "start_time": "2022-01-29T18:33:56.385Z"
   },
   {
    "duration": 58,
    "start_time": "2022-01-29T18:33:56.563Z"
   },
   {
    "duration": 9,
    "start_time": "2022-01-29T18:33:56.623Z"
   },
   {
    "duration": 44,
    "start_time": "2022-01-29T18:33:56.633Z"
   },
   {
    "duration": 192,
    "start_time": "2022-01-29T18:33:56.679Z"
   },
   {
    "duration": 156,
    "start_time": "2022-01-29T18:34:00.625Z"
   },
   {
    "duration": 148,
    "start_time": "2022-01-29T18:34:20.622Z"
   },
   {
    "duration": 39,
    "start_time": "2022-01-29T18:34:39.129Z"
   },
   {
    "duration": 154,
    "start_time": "2022-01-29T18:34:52.029Z"
   },
   {
    "duration": 241,
    "start_time": "2022-01-29T18:35:04.319Z"
   },
   {
    "duration": 6,
    "start_time": "2022-01-29T18:35:05.470Z"
   },
   {
    "duration": 6,
    "start_time": "2022-01-29T18:35:29.216Z"
   },
   {
    "duration": 141,
    "start_time": "2022-01-29T18:35:41.899Z"
   },
   {
    "duration": 4,
    "start_time": "2022-01-29T18:36:32.896Z"
   },
   {
    "duration": 84,
    "start_time": "2022-01-29T18:36:32.903Z"
   },
   {
    "duration": 173,
    "start_time": "2022-01-29T18:36:32.989Z"
   },
   {
    "duration": 62,
    "start_time": "2022-01-29T18:36:33.164Z"
   },
   {
    "duration": 36,
    "start_time": "2022-01-29T18:36:33.227Z"
   },
   {
    "duration": 22,
    "start_time": "2022-01-29T18:36:33.265Z"
   },
   {
    "duration": 39,
    "start_time": "2022-01-29T18:36:33.289Z"
   },
   {
    "duration": 146,
    "start_time": "2022-01-29T18:36:38.935Z"
   },
   {
    "duration": 2,
    "start_time": "2022-01-29T18:36:47.235Z"
   },
   {
    "duration": 75,
    "start_time": "2022-01-29T18:36:47.239Z"
   },
   {
    "duration": 158,
    "start_time": "2022-01-29T18:36:47.316Z"
   },
   {
    "duration": 58,
    "start_time": "2022-01-29T18:36:47.475Z"
   },
   {
    "duration": 10,
    "start_time": "2022-01-29T18:36:47.559Z"
   },
   {
    "duration": 26,
    "start_time": "2022-01-29T18:36:47.571Z"
   },
   {
    "duration": 68,
    "start_time": "2022-01-29T18:36:47.599Z"
   },
   {
    "duration": 136,
    "start_time": "2022-01-29T18:37:11.293Z"
   },
   {
    "duration": 3,
    "start_time": "2022-01-29T18:37:15.395Z"
   },
   {
    "duration": 71,
    "start_time": "2022-01-29T18:37:15.402Z"
   },
   {
    "duration": 149,
    "start_time": "2022-01-29T18:37:15.475Z"
   },
   {
    "duration": 81,
    "start_time": "2022-01-29T18:37:15.625Z"
   },
   {
    "duration": 7,
    "start_time": "2022-01-29T18:37:15.708Z"
   },
   {
    "duration": 43,
    "start_time": "2022-01-29T18:37:15.717Z"
   },
   {
    "duration": 38,
    "start_time": "2022-01-29T18:37:15.761Z"
   },
   {
    "duration": 5,
    "start_time": "2022-01-29T18:38:36.800Z"
   },
   {
    "duration": 25,
    "start_time": "2022-01-29T18:38:47.655Z"
   },
   {
    "duration": 135,
    "start_time": "2022-01-29T18:40:53.197Z"
   },
   {
    "duration": 47,
    "start_time": "2022-01-29T18:42:36.109Z"
   },
   {
    "duration": 3235,
    "start_time": "2022-01-29T18:42:50.242Z"
   },
   {
    "duration": 6,
    "start_time": "2022-01-29T18:43:02.324Z"
   },
   {
    "duration": 9,
    "start_time": "2022-01-29T18:43:23.313Z"
   },
   {
    "duration": 148,
    "start_time": "2022-01-29T18:45:19.541Z"
   },
   {
    "duration": 3,
    "start_time": "2022-01-29T18:45:35.693Z"
   },
   {
    "duration": 88,
    "start_time": "2022-01-29T18:45:35.698Z"
   },
   {
    "duration": 145,
    "start_time": "2022-01-29T18:45:35.788Z"
   },
   {
    "duration": 80,
    "start_time": "2022-01-29T18:45:35.935Z"
   },
   {
    "duration": 8,
    "start_time": "2022-01-29T18:45:36.017Z"
   },
   {
    "duration": 69,
    "start_time": "2022-01-29T18:45:36.026Z"
   },
   {
    "duration": 157,
    "start_time": "2022-01-29T18:45:43.515Z"
   },
   {
    "duration": 3,
    "start_time": "2022-01-29T18:45:47.391Z"
   },
   {
    "duration": 68,
    "start_time": "2022-01-29T18:45:47.396Z"
   },
   {
    "duration": 148,
    "start_time": "2022-01-29T18:45:47.466Z"
   },
   {
    "duration": 90,
    "start_time": "2022-01-29T18:45:47.616Z"
   },
   {
    "duration": 9,
    "start_time": "2022-01-29T18:45:47.707Z"
   },
   {
    "duration": 54,
    "start_time": "2022-01-29T18:45:47.717Z"
   },
   {
    "duration": 139,
    "start_time": "2022-01-29T18:52:49.201Z"
   },
   {
    "duration": 3,
    "start_time": "2022-01-29T18:52:55.119Z"
   },
   {
    "duration": 89,
    "start_time": "2022-01-29T18:52:55.329Z"
   },
   {
    "duration": 150,
    "start_time": "2022-01-29T18:52:55.429Z"
   },
   {
    "duration": 83,
    "start_time": "2022-01-29T18:52:55.581Z"
   },
   {
    "duration": 8,
    "start_time": "2022-01-29T18:52:55.665Z"
   },
   {
    "duration": 27,
    "start_time": "2022-01-29T18:52:55.675Z"
   },
   {
    "duration": 138,
    "start_time": "2022-01-29T18:55:38.882Z"
   },
   {
    "duration": 3,
    "start_time": "2022-01-29T18:55:43.159Z"
   },
   {
    "duration": 73,
    "start_time": "2022-01-29T18:55:43.165Z"
   },
   {
    "duration": 163,
    "start_time": "2022-01-29T18:55:43.240Z"
   },
   {
    "duration": 89,
    "start_time": "2022-01-29T18:55:43.405Z"
   },
   {
    "duration": 9,
    "start_time": "2022-01-29T18:55:43.495Z"
   },
   {
    "duration": 31,
    "start_time": "2022-01-29T18:55:43.506Z"
   },
   {
    "duration": 3,
    "start_time": "2022-01-29T18:56:10.094Z"
   },
   {
    "duration": 71,
    "start_time": "2022-01-29T18:56:10.296Z"
   },
   {
    "duration": 142,
    "start_time": "2022-01-29T18:56:10.369Z"
   },
   {
    "duration": 74,
    "start_time": "2022-01-29T18:56:10.521Z"
   },
   {
    "duration": 7,
    "start_time": "2022-01-29T18:56:10.819Z"
   },
   {
    "duration": 47,
    "start_time": "2022-01-29T18:56:11.223Z"
   },
   {
    "duration": 3,
    "start_time": "2022-01-29T19:01:29.993Z"
   },
   {
    "duration": 75,
    "start_time": "2022-01-29T19:01:30.227Z"
   },
   {
    "duration": 151,
    "start_time": "2022-01-29T19:01:30.547Z"
   },
   {
    "duration": 63,
    "start_time": "2022-01-29T19:01:30.853Z"
   },
   {
    "duration": 9,
    "start_time": "2022-01-29T19:01:30.919Z"
   },
   {
    "duration": 69,
    "start_time": "2022-01-29T19:01:30.932Z"
   },
   {
    "duration": 4,
    "start_time": "2022-01-29T19:04:22.536Z"
   },
   {
    "duration": 44,
    "start_time": "2022-01-29T19:07:07.605Z"
   },
   {
    "duration": 43,
    "start_time": "2022-01-29T19:07:26.557Z"
   },
   {
    "duration": 27,
    "start_time": "2022-01-29T19:19:00.838Z"
   },
   {
    "duration": 21,
    "start_time": "2022-01-29T19:19:34.119Z"
   },
   {
    "duration": 45,
    "start_time": "2022-01-29T19:20:19.601Z"
   },
   {
    "duration": 21,
    "start_time": "2022-01-29T19:20:38.730Z"
   },
   {
    "duration": 44,
    "start_time": "2022-01-29T19:20:54.293Z"
   },
   {
    "duration": 9,
    "start_time": "2022-01-29T19:23:38.368Z"
   },
   {
    "duration": 7,
    "start_time": "2022-01-29T19:26:57.904Z"
   },
   {
    "duration": 3,
    "start_time": "2022-01-29T19:30:39.724Z"
   },
   {
    "duration": 73,
    "start_time": "2022-01-29T19:30:39.734Z"
   },
   {
    "duration": 156,
    "start_time": "2022-01-29T19:30:39.821Z"
   },
   {
    "duration": 82,
    "start_time": "2022-01-29T19:30:39.979Z"
   },
   {
    "duration": 9,
    "start_time": "2022-01-29T19:30:40.064Z"
   },
   {
    "duration": 47,
    "start_time": "2022-01-29T19:30:40.075Z"
   },
   {
    "duration": 6,
    "start_time": "2022-01-29T19:30:40.123Z"
   },
   {
    "duration": 8,
    "start_time": "2022-01-29T19:30:40.158Z"
   },
   {
    "duration": 8,
    "start_time": "2022-01-29T19:30:49.641Z"
   },
   {
    "duration": 7,
    "start_time": "2022-01-29T19:31:30.013Z"
   },
   {
    "duration": 133,
    "start_time": "2022-01-29T19:55:49.213Z"
   },
   {
    "duration": 6,
    "start_time": "2022-01-29T20:04:56.729Z"
   },
   {
    "duration": 9,
    "start_time": "2022-01-29T20:05:44.657Z"
   },
   {
    "duration": 7,
    "start_time": "2022-01-29T20:08:29.616Z"
   },
   {
    "duration": 10,
    "start_time": "2022-01-29T20:08:51.635Z"
   },
   {
    "duration": 10,
    "start_time": "2022-01-29T20:09:24.838Z"
   },
   {
    "duration": 9,
    "start_time": "2022-01-29T20:25:59.118Z"
   },
   {
    "duration": 74,
    "start_time": "2022-01-29T20:27:17.350Z"
   },
   {
    "duration": 31088,
    "start_time": "2022-01-29T20:30:49.935Z"
   },
   {
    "duration": 528,
    "start_time": "2022-01-29T20:39:29.231Z"
   },
   {
    "duration": 380,
    "start_time": "2022-01-29T20:40:01.471Z"
   },
   {
    "duration": 578,
    "start_time": "2022-01-29T20:41:49.496Z"
   },
   {
    "duration": 1503,
    "start_time": "2022-01-30T14:05:11.550Z"
   },
   {
    "duration": 92,
    "start_time": "2022-01-30T14:05:13.059Z"
   },
   {
    "duration": 243,
    "start_time": "2022-01-30T14:05:13.155Z"
   },
   {
    "duration": 117,
    "start_time": "2022-01-30T14:05:13.402Z"
   },
   {
    "duration": 10,
    "start_time": "2022-01-30T14:05:13.522Z"
   },
   {
    "duration": 176,
    "start_time": "2022-01-30T14:05:13.535Z"
   },
   {
    "duration": 18,
    "start_time": "2022-01-30T14:05:13.714Z"
   },
   {
    "duration": 28,
    "start_time": "2022-01-30T14:05:13.735Z"
   },
   {
    "duration": 17,
    "start_time": "2022-01-30T14:05:13.768Z"
   },
   {
    "duration": 867,
    "start_time": "2022-01-30T14:05:13.788Z"
   },
   {
    "duration": 68,
    "start_time": "2022-01-30T14:05:14.659Z"
   },
   {
    "duration": 447,
    "start_time": "2022-01-30T14:08:23.179Z"
   },
   {
    "duration": 329,
    "start_time": "2022-01-30T14:08:28.703Z"
   },
   {
    "duration": 3,
    "start_time": "2022-01-30T14:08:40.444Z"
   },
   {
    "duration": 89,
    "start_time": "2022-01-30T14:08:40.450Z"
   },
   {
    "duration": 234,
    "start_time": "2022-01-30T14:08:40.542Z"
   },
   {
    "duration": 103,
    "start_time": "2022-01-30T14:08:40.778Z"
   },
   {
    "duration": 12,
    "start_time": "2022-01-30T14:08:40.883Z"
   },
   {
    "duration": 124,
    "start_time": "2022-01-30T14:08:40.898Z"
   },
   {
    "duration": 12,
    "start_time": "2022-01-30T14:08:41.025Z"
   },
   {
    "duration": 26,
    "start_time": "2022-01-30T14:08:41.040Z"
   },
   {
    "duration": 15,
    "start_time": "2022-01-30T14:08:41.069Z"
   },
   {
    "duration": 893,
    "start_time": "2022-01-30T14:08:41.087Z"
   },
   {
    "duration": 79,
    "start_time": "2022-01-30T14:08:41.982Z"
   },
   {
    "duration": 33,
    "start_time": "2022-01-30T14:26:00.330Z"
   },
   {
    "duration": 340,
    "start_time": "2022-01-30T14:29:09.051Z"
   },
   {
    "duration": 328,
    "start_time": "2022-01-30T14:29:39.967Z"
   },
   {
    "duration": 38,
    "start_time": "2022-01-30T14:31:37.216Z"
   },
   {
    "duration": 39,
    "start_time": "2022-01-30T14:31:53.294Z"
   },
   {
    "duration": 105,
    "start_time": "2022-01-30T14:32:35.300Z"
   },
   {
    "duration": 98,
    "start_time": "2022-01-30T14:32:43.281Z"
   },
   {
    "duration": 76,
    "start_time": "2022-01-30T14:34:00.577Z"
   },
   {
    "duration": 74,
    "start_time": "2022-01-30T14:34:29.249Z"
   },
   {
    "duration": 81,
    "start_time": "2022-01-30T14:35:37.446Z"
   },
   {
    "duration": 61,
    "start_time": "2022-01-30T14:36:27.030Z"
   },
   {
    "duration": 73,
    "start_time": "2022-01-30T14:36:41.690Z"
   },
   {
    "duration": 73,
    "start_time": "2022-01-30T14:41:27.040Z"
   },
   {
    "duration": 62,
    "start_time": "2022-01-30T14:41:44.244Z"
   },
   {
    "duration": 77,
    "start_time": "2022-01-30T14:42:30.016Z"
   },
   {
    "duration": 130,
    "start_time": "2022-01-30T14:47:13.290Z"
   },
   {
    "duration": 67,
    "start_time": "2022-01-30T17:35:29.319Z"
   },
   {
    "duration": 19,
    "start_time": "2022-01-30T17:37:01.272Z"
   },
   {
    "duration": 481,
    "start_time": "2022-01-30T17:37:36.498Z"
   },
   {
    "duration": 343,
    "start_time": "2022-01-30T17:37:44.313Z"
   },
   {
    "duration": 14,
    "start_time": "2022-01-30T17:37:51.198Z"
   },
   {
    "duration": 14,
    "start_time": "2022-01-30T17:38:10.394Z"
   },
   {
    "duration": 187,
    "start_time": "2022-01-30T17:46:29.517Z"
   },
   {
    "duration": 186,
    "start_time": "2022-01-30T17:46:51.714Z"
   },
   {
    "duration": 178,
    "start_time": "2022-01-30T17:47:05.033Z"
   },
   {
    "duration": 182,
    "start_time": "2022-01-30T17:47:25.210Z"
   },
   {
    "duration": 189,
    "start_time": "2022-01-30T18:44:25.676Z"
   },
   {
    "duration": 201,
    "start_time": "2022-01-30T18:44:52.235Z"
   },
   {
    "duration": 15,
    "start_time": "2022-01-30T21:10:36.777Z"
   },
   {
    "duration": 14,
    "start_time": "2022-01-30T21:10:39.442Z"
   },
   {
    "duration": 13,
    "start_time": "2022-01-30T21:16:20.037Z"
   },
   {
    "duration": 14,
    "start_time": "2022-01-30T21:16:22.316Z"
   },
   {
    "duration": 4,
    "start_time": "2022-01-30T21:16:31.291Z"
   },
   {
    "duration": 87,
    "start_time": "2022-01-30T21:16:31.298Z"
   },
   {
    "duration": 234,
    "start_time": "2022-01-30T21:16:31.389Z"
   },
   {
    "duration": 155,
    "start_time": "2022-01-30T21:16:31.626Z"
   },
   {
    "duration": 10,
    "start_time": "2022-01-30T21:16:31.783Z"
   },
   {
    "duration": 13,
    "start_time": "2022-01-30T21:16:31.796Z"
   },
   {
    "duration": 10,
    "start_time": "2022-01-30T21:16:31.812Z"
   },
   {
    "duration": 46,
    "start_time": "2022-01-30T21:16:31.825Z"
   },
   {
    "duration": 843,
    "start_time": "2022-01-30T21:16:31.875Z"
   },
   {
    "duration": 85,
    "start_time": "2022-01-30T21:16:32.721Z"
   },
   {
    "duration": 197,
    "start_time": "2022-01-30T21:19:48.921Z"
   },
   {
    "duration": 323,
    "start_time": "2022-01-30T21:33:36.042Z"
   },
   {
    "duration": 47778,
    "start_time": "2022-01-30T21:33:52.495Z"
   },
   {
    "duration": 59123,
    "start_time": "2022-01-30T21:34:54.242Z"
   },
   {
    "duration": 4,
    "start_time": "2022-01-30T21:36:26.813Z"
   },
   {
    "duration": 86,
    "start_time": "2022-01-30T21:36:26.824Z"
   },
   {
    "duration": 254,
    "start_time": "2022-01-30T21:36:26.913Z"
   },
   {
    "duration": 138,
    "start_time": "2022-01-30T21:36:27.171Z"
   },
   {
    "duration": 10,
    "start_time": "2022-01-30T21:36:27.311Z"
   },
   {
    "duration": 135,
    "start_time": "2022-01-30T21:36:27.323Z"
   },
   {
    "duration": 13,
    "start_time": "2022-01-30T21:36:27.460Z"
   },
   {
    "duration": 10,
    "start_time": "2022-01-30T21:36:27.476Z"
   },
   {
    "duration": 12,
    "start_time": "2022-01-30T21:36:31.650Z"
   },
   {
    "duration": 45751,
    "start_time": "2022-01-30T21:36:38.795Z"
   },
   {
    "duration": 54909,
    "start_time": "2022-01-30T21:39:19.256Z"
   },
   {
    "duration": -3885,
    "start_time": "2022-01-30T21:40:18.053Z"
   },
   {
    "duration": 9,
    "start_time": "2022-01-30T21:40:22.437Z"
   },
   {
    "duration": 1430,
    "start_time": "2022-01-30T21:41:22.997Z"
   },
   {
    "duration": 90,
    "start_time": "2022-01-30T21:41:24.430Z"
   },
   {
    "duration": 247,
    "start_time": "2022-01-30T21:41:24.523Z"
   },
   {
    "duration": 142,
    "start_time": "2022-01-30T21:41:24.772Z"
   },
   {
    "duration": 11,
    "start_time": "2022-01-30T21:41:24.916Z"
   },
   {
    "duration": 120,
    "start_time": "2022-01-30T21:41:24.929Z"
   },
   {
    "duration": 13,
    "start_time": "2022-01-30T21:41:25.059Z"
   },
   {
    "duration": 10,
    "start_time": "2022-01-30T21:41:25.076Z"
   },
   {
    "duration": 46477,
    "start_time": "2022-01-30T21:41:25.088Z"
   },
   {
    "duration": -3641,
    "start_time": "2022-01-30T21:42:15.210Z"
   },
   {
    "duration": -3656,
    "start_time": "2022-01-30T21:42:15.227Z"
   },
   {
    "duration": -3661,
    "start_time": "2022-01-30T21:42:15.234Z"
   },
   {
    "duration": 37603,
    "start_time": "2022-01-30T21:43:07.342Z"
   },
   {
    "duration": 23,
    "start_time": "2022-01-30T21:46:03.743Z"
   },
   {
    "duration": 40,
    "start_time": "2022-01-30T22:00:13.583Z"
   },
   {
    "duration": 38692,
    "start_time": "2022-01-30T22:01:51.975Z"
   },
   {
    "duration": 5,
    "start_time": "2022-01-30T22:02:57.808Z"
   },
   {
    "duration": 37,
    "start_time": "2022-01-30T22:03:15.447Z"
   },
   {
    "duration": 1524,
    "start_time": "2022-01-31T19:27:43.054Z"
   },
   {
    "duration": 96,
    "start_time": "2022-01-31T19:27:44.581Z"
   },
   {
    "duration": 260,
    "start_time": "2022-01-31T19:27:44.681Z"
   },
   {
    "duration": 154,
    "start_time": "2022-01-31T19:27:44.946Z"
   },
   {
    "duration": 10,
    "start_time": "2022-01-31T19:27:45.102Z"
   },
   {
    "duration": 124,
    "start_time": "2022-01-31T19:27:45.131Z"
   },
   {
    "duration": 14,
    "start_time": "2022-01-31T19:27:45.258Z"
   },
   {
    "duration": 12,
    "start_time": "2022-01-31T19:27:45.275Z"
   },
   {
    "duration": 41168,
    "start_time": "2022-01-31T19:27:45.292Z"
   },
   {
    "duration": 12,
    "start_time": "2022-01-31T19:28:26.463Z"
   },
   {
    "duration": 938,
    "start_time": "2022-01-31T19:28:26.477Z"
   },
   {
    "duration": 79,
    "start_time": "2022-01-31T19:28:27.418Z"
   },
   {
    "duration": 59252,
    "start_time": "2022-01-31T19:29:47.074Z"
   },
   {
    "duration": 57329,
    "start_time": "2022-01-31T19:50:36.037Z"
   },
   {
    "duration": 58822,
    "start_time": "2022-01-31T19:55:28.078Z"
   },
   {
    "duration": 58153,
    "start_time": "2022-01-31T20:01:29.162Z"
   },
   {
    "duration": 12,
    "start_time": "2022-01-31T20:24:48.047Z"
   },
   {
    "duration": 21,
    "start_time": "2022-01-31T20:28:41.621Z"
   },
   {
    "duration": 10,
    "start_time": "2022-01-31T20:29:36.084Z"
   },
   {
    "duration": 7,
    "start_time": "2022-01-31T20:30:40.905Z"
   },
   {
    "duration": 12,
    "start_time": "2022-01-31T20:31:04.558Z"
   },
   {
    "duration": 17,
    "start_time": "2022-01-31T20:31:29.851Z"
   },
   {
    "duration": 15,
    "start_time": "2022-01-31T20:32:39.893Z"
   },
   {
    "duration": 19,
    "start_time": "2022-01-31T20:34:06.945Z"
   },
   {
    "duration": 10,
    "start_time": "2022-01-31T20:34:16.475Z"
   },
   {
    "duration": 17,
    "start_time": "2022-01-31T20:45:39.271Z"
   },
   {
    "duration": 680,
    "start_time": "2022-01-31T20:48:00.003Z"
   },
   {
    "duration": 19,
    "start_time": "2022-01-31T20:48:20.345Z"
   },
   {
    "duration": 471,
    "start_time": "2022-01-31T20:48:49.545Z"
   },
   {
    "duration": 49,
    "start_time": "2022-01-31T20:48:55.871Z"
   },
   {
    "duration": 27,
    "start_time": "2022-01-31T20:50:39.090Z"
   },
   {
    "duration": 56822,
    "start_time": "2022-01-31T20:58:28.391Z"
   },
   {
    "duration": 13,
    "start_time": "2022-01-31T21:08:25.180Z"
   },
   {
    "duration": 919,
    "start_time": "2022-01-31T21:17:13.464Z"
   },
   {
    "duration": 87,
    "start_time": "2022-01-31T21:20:46.560Z"
   },
   {
    "duration": 1135,
    "start_time": "2022-01-31T21:20:48.504Z"
   },
   {
    "duration": 15,
    "start_time": "2022-01-31T21:22:50.691Z"
   },
   {
    "duration": 54595,
    "start_time": "2022-01-31T21:40:21.535Z"
   },
   {
    "duration": 54083,
    "start_time": "2022-01-31T21:41:25.420Z"
   },
   {
    "duration": 435,
    "start_time": "2022-01-31T21:43:48.657Z"
   },
   {
    "duration": 325,
    "start_time": "2022-01-31T21:45:36.265Z"
   },
   {
    "duration": 54208,
    "start_time": "2022-01-31T21:45:40.273Z"
   },
   {
    "duration": 21,
    "start_time": "2022-01-31T21:46:44.483Z"
   },
   {
    "duration": 14,
    "start_time": "2022-01-31T21:58:22.443Z"
   },
   {
    "duration": 325,
    "start_time": "2022-01-31T22:07:52.707Z"
   },
   {
    "duration": 310,
    "start_time": "2022-01-31T22:08:24.695Z"
   },
   {
    "duration": 314,
    "start_time": "2022-01-31T22:08:38.889Z"
   },
   {
    "duration": 316,
    "start_time": "2022-01-31T22:09:09.319Z"
   },
   {
    "duration": 320,
    "start_time": "2022-01-31T22:09:19.647Z"
   },
   {
    "duration": 312,
    "start_time": "2022-01-31T22:09:52.720Z"
   },
   {
    "duration": 327,
    "start_time": "2022-01-31T22:10:18.842Z"
   },
   {
    "duration": 305,
    "start_time": "2022-01-31T22:10:36.855Z"
   },
   {
    "duration": 309,
    "start_time": "2022-01-31T22:10:44.227Z"
   },
   {
    "duration": 1456,
    "start_time": "2022-01-31T22:11:35.114Z"
   },
   {
    "duration": 85,
    "start_time": "2022-01-31T22:11:36.572Z"
   },
   {
    "duration": 1135,
    "start_time": "2022-01-31T22:11:36.660Z"
   },
   {
    "duration": 127,
    "start_time": "2022-01-31T22:11:37.797Z"
   },
   {
    "duration": 14,
    "start_time": "2022-01-31T22:11:37.927Z"
   },
   {
    "duration": 10,
    "start_time": "2022-01-31T22:11:37.943Z"
   },
   {
    "duration": 52776,
    "start_time": "2022-01-31T22:11:37.956Z"
   },
   {
    "duration": 17,
    "start_time": "2022-01-31T22:12:30.734Z"
   },
   {
    "duration": 13,
    "start_time": "2022-01-31T22:12:30.754Z"
   },
   {
    "duration": 765,
    "start_time": "2022-01-31T22:12:30.770Z"
   },
   {
    "duration": -836,
    "start_time": "2022-01-31T22:12:32.374Z"
   },
   {
    "duration": 14,
    "start_time": "2022-01-31T22:13:05.328Z"
   },
   {
    "duration": 769,
    "start_time": "2022-01-31T22:13:20.586Z"
   },
   {
    "duration": 420,
    "start_time": "2022-01-31T22:13:25.822Z"
   },
   {
    "duration": 4,
    "start_time": "2022-01-31T22:13:33.079Z"
   },
   {
    "duration": 103,
    "start_time": "2022-01-31T22:13:33.086Z"
   },
   {
    "duration": 1092,
    "start_time": "2022-01-31T22:13:33.194Z"
   },
   {
    "duration": 123,
    "start_time": "2022-01-31T22:13:34.288Z"
   },
   {
    "duration": 14,
    "start_time": "2022-01-31T22:13:34.414Z"
   },
   {
    "duration": 10,
    "start_time": "2022-01-31T22:13:34.431Z"
   },
   {
    "duration": 52011,
    "start_time": "2022-01-31T22:13:34.443Z"
   },
   {
    "duration": 16,
    "start_time": "2022-01-31T22:14:26.457Z"
   },
   {
    "duration": 13,
    "start_time": "2022-01-31T22:14:26.476Z"
   },
   {
    "duration": 312,
    "start_time": "2022-01-31T22:14:26.491Z"
   },
   {
    "duration": 12,
    "start_time": "2022-01-31T22:14:54.006Z"
   },
   {
    "duration": 327,
    "start_time": "2022-01-31T22:15:05.771Z"
   },
   {
    "duration": 4,
    "start_time": "2022-01-31T22:15:14.148Z"
   },
   {
    "duration": 79,
    "start_time": "2022-01-31T22:15:14.155Z"
   },
   {
    "duration": 1072,
    "start_time": "2022-01-31T22:15:14.238Z"
   },
   {
    "duration": 130,
    "start_time": "2022-01-31T22:15:15.312Z"
   },
   {
    "duration": 13,
    "start_time": "2022-01-31T22:15:15.444Z"
   },
   {
    "duration": 12,
    "start_time": "2022-01-31T22:15:15.460Z"
   },
   {
    "duration": 52165,
    "start_time": "2022-01-31T22:15:15.474Z"
   },
   {
    "duration": 16,
    "start_time": "2022-01-31T22:16:07.642Z"
   },
   {
    "duration": 13,
    "start_time": "2022-01-31T22:16:07.660Z"
   },
   {
    "duration": 50,
    "start_time": "2022-01-31T22:16:07.676Z"
   },
   {
    "duration": 308,
    "start_time": "2022-01-31T22:16:25.828Z"
   },
   {
    "duration": 4,
    "start_time": "2022-01-31T22:16:36.595Z"
   },
   {
    "duration": 85,
    "start_time": "2022-01-31T22:16:36.602Z"
   },
   {
    "duration": 1056,
    "start_time": "2022-01-31T22:16:36.691Z"
   },
   {
    "duration": 132,
    "start_time": "2022-01-31T22:16:37.750Z"
   },
   {
    "duration": 11,
    "start_time": "2022-01-31T22:16:37.884Z"
   },
   {
    "duration": 29,
    "start_time": "2022-01-31T22:16:37.897Z"
   },
   {
    "duration": 51678,
    "start_time": "2022-01-31T22:16:37.930Z"
   },
   {
    "duration": 24,
    "start_time": "2022-01-31T22:17:29.610Z"
   },
   {
    "duration": 13,
    "start_time": "2022-01-31T22:17:29.636Z"
   },
   {
    "duration": 330,
    "start_time": "2022-01-31T22:17:29.651Z"
   },
   {
    "duration": 336,
    "start_time": "2022-01-31T22:17:51.244Z"
   },
   {
    "duration": 328,
    "start_time": "2022-01-31T22:20:46.539Z"
   },
   {
    "duration": 3,
    "start_time": "2022-01-31T22:21:21.485Z"
   },
   {
    "duration": 98,
    "start_time": "2022-01-31T22:21:21.491Z"
   },
   {
    "duration": 1116,
    "start_time": "2022-01-31T22:21:21.592Z"
   },
   {
    "duration": 124,
    "start_time": "2022-01-31T22:21:22.711Z"
   },
   {
    "duration": 10,
    "start_time": "2022-01-31T22:21:22.838Z"
   },
   {
    "duration": 10,
    "start_time": "2022-01-31T22:21:22.850Z"
   },
   {
    "duration": 51862,
    "start_time": "2022-01-31T22:21:22.863Z"
   },
   {
    "duration": 18,
    "start_time": "2022-01-31T22:22:14.728Z"
   },
   {
    "duration": 16,
    "start_time": "2022-01-31T22:22:14.749Z"
   },
   {
    "duration": 56,
    "start_time": "2022-01-31T22:22:14.768Z"
   },
   {
    "duration": 1078,
    "start_time": "2022-02-01T19:21:47.091Z"
   },
   {
    "duration": 65,
    "start_time": "2022-02-01T19:21:48.171Z"
   },
   {
    "duration": 675,
    "start_time": "2022-02-01T19:21:48.238Z"
   },
   {
    "duration": 91,
    "start_time": "2022-02-01T19:21:48.915Z"
   },
   {
    "duration": 9,
    "start_time": "2022-02-01T19:21:49.007Z"
   },
   {
    "duration": 6,
    "start_time": "2022-02-01T19:21:49.017Z"
   },
   {
    "duration": 32082,
    "start_time": "2022-02-01T19:21:49.025Z"
   },
   {
    "duration": 9,
    "start_time": "2022-02-01T19:22:21.108Z"
   },
   {
    "duration": 12,
    "start_time": "2022-02-01T19:22:21.120Z"
   },
   {
    "duration": 10,
    "start_time": "2022-02-01T19:22:21.134Z"
   },
   {
    "duration": 43,
    "start_time": "2022-02-01T19:22:21.171Z"
   },
   {
    "duration": 15,
    "start_time": "2022-02-01T19:24:19.800Z"
   },
   {
    "duration": 2,
    "start_time": "2022-02-01T19:24:29.396Z"
   },
   {
    "duration": 14,
    "start_time": "2022-02-01T19:49:55.511Z"
   },
   {
    "duration": 9,
    "start_time": "2022-02-01T19:50:17.689Z"
   },
   {
    "duration": 5,
    "start_time": "2022-02-01T19:50:35.098Z"
   },
   {
    "duration": 5,
    "start_time": "2022-02-01T19:50:46.771Z"
   },
   {
    "duration": 16,
    "start_time": "2022-02-01T19:51:17.938Z"
   },
   {
    "duration": 22,
    "start_time": "2022-02-01T19:51:52.831Z"
   },
   {
    "duration": 21,
    "start_time": "2022-02-01T19:52:14.836Z"
   },
   {
    "duration": 30047,
    "start_time": "2022-02-01T19:52:27.840Z"
   },
   {
    "duration": 26,
    "start_time": "2022-02-01T19:53:18.118Z"
   },
   {
    "duration": 27,
    "start_time": "2022-02-01T19:53:33.603Z"
   },
   {
    "duration": 133,
    "start_time": "2022-02-01T19:53:55.802Z"
   },
   {
    "duration": 774,
    "start_time": "2022-02-01T19:54:09.235Z"
   },
   {
    "duration": 1127,
    "start_time": "2022-02-01T19:56:09.543Z"
   },
   {
    "duration": 67,
    "start_time": "2022-02-01T19:56:10.673Z"
   },
   {
    "duration": 729,
    "start_time": "2022-02-01T19:56:10.742Z"
   },
   {
    "duration": 103,
    "start_time": "2022-02-01T19:56:11.473Z"
   },
   {
    "duration": 27,
    "start_time": "2022-02-01T19:56:11.578Z"
   },
   {
    "duration": 24,
    "start_time": "2022-02-01T19:56:11.607Z"
   },
   {
    "duration": 33131,
    "start_time": "2022-02-01T19:56:11.632Z"
   },
   {
    "duration": 22,
    "start_time": "2022-02-01T19:56:44.772Z"
   },
   {
    "duration": 15,
    "start_time": "2022-02-01T19:56:44.796Z"
   },
   {
    "duration": 61,
    "start_time": "2022-02-01T19:56:44.813Z"
   },
   {
    "duration": 32,
    "start_time": "2022-02-01T19:57:43.958Z"
   },
   {
    "duration": 2,
    "start_time": "2022-02-01T19:57:48.566Z"
   },
   {
    "duration": 67,
    "start_time": "2022-02-01T19:57:48.570Z"
   },
   {
    "duration": 699,
    "start_time": "2022-02-01T19:57:48.639Z"
   },
   {
    "duration": 106,
    "start_time": "2022-02-01T19:57:49.340Z"
   },
   {
    "duration": 45,
    "start_time": "2022-02-01T19:57:49.448Z"
   },
   {
    "duration": 40,
    "start_time": "2022-02-01T19:57:49.495Z"
   },
   {
    "duration": 36687,
    "start_time": "2022-02-01T19:57:49.537Z"
   },
   {
    "duration": 19,
    "start_time": "2022-02-01T19:58:26.226Z"
   },
   {
    "duration": 40,
    "start_time": "2022-02-01T19:58:26.247Z"
   },
   {
    "duration": 64,
    "start_time": "2022-02-01T19:59:10.793Z"
   },
   {
    "duration": 357,
    "start_time": "2022-02-01T19:59:59.637Z"
   },
   {
    "duration": 275,
    "start_time": "2022-02-01T20:00:14.485Z"
   },
   {
    "duration": 3,
    "start_time": "2022-02-01T20:00:34.556Z"
   },
   {
    "duration": 63,
    "start_time": "2022-02-01T20:00:34.561Z"
   },
   {
    "duration": 679,
    "start_time": "2022-02-01T20:00:34.626Z"
   },
   {
    "duration": 101,
    "start_time": "2022-02-01T20:00:35.307Z"
   },
   {
    "duration": 30,
    "start_time": "2022-02-01T20:00:35.409Z"
   },
   {
    "duration": 35,
    "start_time": "2022-02-01T20:00:35.440Z"
   },
   {
    "duration": 32259,
    "start_time": "2022-02-01T20:00:35.477Z"
   },
   {
    "duration": 19,
    "start_time": "2022-02-01T20:01:07.737Z"
   },
   {
    "duration": 41,
    "start_time": "2022-02-01T20:01:07.758Z"
   },
   {
    "duration": 72,
    "start_time": "2022-02-01T20:01:07.800Z"
   },
   {
    "duration": 2,
    "start_time": "2022-02-01T20:02:24.740Z"
   },
   {
    "duration": 68,
    "start_time": "2022-02-01T20:02:24.744Z"
   },
   {
    "duration": 736,
    "start_time": "2022-02-01T20:02:24.814Z"
   },
   {
    "duration": 85,
    "start_time": "2022-02-01T20:02:25.552Z"
   },
   {
    "duration": 6,
    "start_time": "2022-02-01T20:02:25.639Z"
   },
   {
    "duration": 52,
    "start_time": "2022-02-01T20:02:25.646Z"
   },
   {
    "duration": 33502,
    "start_time": "2022-02-01T20:02:25.700Z"
   },
   {
    "duration": 13,
    "start_time": "2022-02-01T20:02:59.204Z"
   },
   {
    "duration": 41,
    "start_time": "2022-02-01T20:02:59.219Z"
   },
   {
    "duration": 38,
    "start_time": "2022-02-01T20:27:37.207Z"
   },
   {
    "duration": 5,
    "start_time": "2022-02-01T20:45:30.054Z"
   },
   {
    "duration": 8,
    "start_time": "2022-02-01T20:45:41.408Z"
   },
   {
    "duration": 8,
    "start_time": "2022-02-01T20:47:24.526Z"
   },
   {
    "duration": 33239,
    "start_time": "2022-02-01T20:48:32.313Z"
   },
   {
    "duration": 4,
    "start_time": "2022-02-01T21:32:51.653Z"
   },
   {
    "duration": 30938,
    "start_time": "2022-02-01T21:34:54.035Z"
   },
   {
    "duration": 24,
    "start_time": "2022-02-01T21:38:56.639Z"
   },
   {
    "duration": 3,
    "start_time": "2022-02-01T21:39:33.167Z"
   },
   {
    "duration": 79,
    "start_time": "2022-02-01T21:39:33.171Z"
   },
   {
    "duration": 674,
    "start_time": "2022-02-01T21:39:33.252Z"
   },
   {
    "duration": 86,
    "start_time": "2022-02-01T21:39:33.928Z"
   },
   {
    "duration": 6,
    "start_time": "2022-02-01T21:39:34.016Z"
   },
   {
    "duration": 58,
    "start_time": "2022-02-01T21:39:34.023Z"
   },
   {
    "duration": 32220,
    "start_time": "2022-02-01T21:39:34.082Z"
   },
   {
    "duration": 12,
    "start_time": "2022-02-01T21:40:06.303Z"
   },
   {
    "duration": 32609,
    "start_time": "2022-02-01T21:40:06.317Z"
   },
   {
    "duration": 4,
    "start_time": "2022-02-01T21:40:38.928Z"
   },
   {
    "duration": 54,
    "start_time": "2022-02-01T21:40:38.934Z"
   },
   {
    "duration": 5,
    "start_time": "2022-02-01T21:42:35.724Z"
   },
   {
    "duration": 23,
    "start_time": "2022-02-01T21:59:43.433Z"
   },
   {
    "duration": 23,
    "start_time": "2022-02-01T22:02:21.756Z"
   },
   {
    "duration": 5,
    "start_time": "2022-02-01T22:12:27.033Z"
   },
   {
    "duration": 259,
    "start_time": "2022-02-01T22:13:42.105Z"
   },
   {
    "duration": 24,
    "start_time": "2022-02-01T22:14:03.392Z"
   },
   {
    "duration": 27,
    "start_time": "2022-02-01T22:14:19.777Z"
   },
   {
    "duration": 26,
    "start_time": "2022-02-01T22:17:40.788Z"
   },
   {
    "duration": 24,
    "start_time": "2022-02-01T22:18:03.766Z"
   },
   {
    "duration": 30,
    "start_time": "2022-02-01T22:18:10.484Z"
   },
   {
    "duration": 265,
    "start_time": "2022-02-01T22:18:54.106Z"
   },
   {
    "duration": 37,
    "start_time": "2022-02-01T22:19:01.377Z"
   },
   {
    "duration": 38,
    "start_time": "2022-02-01T22:19:47.703Z"
   },
   {
    "duration": 1078,
    "start_time": "2022-02-02T19:31:43.881Z"
   },
   {
    "duration": 65,
    "start_time": "2022-02-02T19:31:44.960Z"
   },
   {
    "duration": 785,
    "start_time": "2022-02-02T19:31:45.027Z"
   },
   {
    "duration": 82,
    "start_time": "2022-02-02T19:31:45.814Z"
   },
   {
    "duration": 22,
    "start_time": "2022-02-02T19:31:45.897Z"
   },
   {
    "duration": 8,
    "start_time": "2022-02-02T19:31:45.921Z"
   },
   {
    "duration": 36892,
    "start_time": "2022-02-02T19:31:45.931Z"
   },
   {
    "duration": 14,
    "start_time": "2022-02-02T19:32:22.825Z"
   },
   {
    "duration": 37720,
    "start_time": "2022-02-02T19:32:22.842Z"
   },
   {
    "duration": 4,
    "start_time": "2022-02-02T19:33:00.565Z"
   },
   {
    "duration": 64,
    "start_time": "2022-02-02T19:33:00.570Z"
   },
   {
    "duration": 5,
    "start_time": "2022-02-02T19:33:00.636Z"
   },
   {
    "duration": 46,
    "start_time": "2022-02-02T19:33:00.642Z"
   },
   {
    "duration": 49,
    "start_time": "2022-02-02T19:40:46.707Z"
   },
   {
    "duration": 307,
    "start_time": "2022-02-02T19:47:38.148Z"
   },
   {
    "duration": 478,
    "start_time": "2022-02-02T19:48:13.496Z"
   },
   {
    "duration": 616,
    "start_time": "2022-02-02T19:49:40.330Z"
   },
   {
    "duration": 571,
    "start_time": "2022-02-02T19:51:21.228Z"
   },
   {
    "duration": 24,
    "start_time": "2022-02-02T19:52:51.030Z"
   },
   {
    "duration": 25,
    "start_time": "2022-02-02T19:54:00.730Z"
   },
   {
    "duration": 84,
    "start_time": "2022-02-02T20:05:59.198Z"
   },
   {
    "duration": 236,
    "start_time": "2022-02-02T20:06:04.250Z"
   },
   {
    "duration": 254,
    "start_time": "2022-02-02T20:06:29.749Z"
   },
   {
    "duration": 2158,
    "start_time": "2022-02-02T20:06:49.159Z"
   },
   {
    "duration": 76,
    "start_time": "2022-02-02T20:22:31.074Z"
   },
   {
    "duration": 3286,
    "start_time": "2022-02-02T20:22:37.839Z"
   },
   {
    "duration": 7182,
    "start_time": "2022-02-02T20:23:52.283Z"
   },
   {
    "duration": 5877,
    "start_time": "2022-02-02T20:29:59.231Z"
   },
   {
    "duration": 5851,
    "start_time": "2022-02-02T20:30:58.803Z"
   },
   {
    "duration": 339,
    "start_time": "2022-02-02T20:32:23.462Z"
   },
   {
    "duration": 332,
    "start_time": "2022-02-02T20:32:51.073Z"
   },
   {
    "duration": 355,
    "start_time": "2022-02-02T20:33:24.541Z"
   },
   {
    "duration": 473,
    "start_time": "2022-02-02T20:40:00.492Z"
   },
   {
    "duration": 2,
    "start_time": "2022-02-02T20:40:16.492Z"
   },
   {
    "duration": 71,
    "start_time": "2022-02-02T20:40:16.497Z"
   },
   {
    "duration": 852,
    "start_time": "2022-02-02T20:40:16.570Z"
   },
   {
    "duration": 92,
    "start_time": "2022-02-02T20:40:17.424Z"
   },
   {
    "duration": 8,
    "start_time": "2022-02-02T20:40:17.518Z"
   },
   {
    "duration": 6,
    "start_time": "2022-02-02T20:40:17.528Z"
   },
   {
    "duration": 37968,
    "start_time": "2022-02-02T20:40:17.536Z"
   },
   {
    "duration": 16,
    "start_time": "2022-02-02T20:40:55.512Z"
   },
   {
    "duration": 38511,
    "start_time": "2022-02-02T20:40:55.531Z"
   },
   {
    "duration": 4,
    "start_time": "2022-02-02T20:41:34.044Z"
   },
   {
    "duration": 48,
    "start_time": "2022-02-02T20:41:34.049Z"
   },
   {
    "duration": 17,
    "start_time": "2022-02-02T20:41:34.099Z"
   },
   {
    "duration": 240,
    "start_time": "2022-02-02T20:41:34.118Z"
   },
   {
    "duration": -1302,
    "start_time": "2022-02-02T20:41:35.662Z"
   },
   {
    "duration": -1305,
    "start_time": "2022-02-02T20:41:35.665Z"
   },
   {
    "duration": 324,
    "start_time": "2022-02-02T20:41:55.203Z"
   },
   {
    "duration": 327,
    "start_time": "2022-02-02T20:42:52.242Z"
   },
   {
    "duration": 380,
    "start_time": "2022-02-02T20:43:11.309Z"
   },
   {
    "duration": 335,
    "start_time": "2022-02-02T20:43:34.302Z"
   },
   {
    "duration": 361,
    "start_time": "2022-02-02T20:44:31.760Z"
   },
   {
    "duration": 370,
    "start_time": "2022-02-02T20:45:19.242Z"
   },
   {
    "duration": 325,
    "start_time": "2022-02-02T20:46:06.602Z"
   },
   {
    "duration": 353,
    "start_time": "2022-02-02T20:46:21.141Z"
   },
   {
    "duration": 5958,
    "start_time": "2022-02-02T20:50:34.888Z"
   },
   {
    "duration": 6781,
    "start_time": "2022-02-02T20:51:59.412Z"
   },
   {
    "duration": 338,
    "start_time": "2022-02-02T20:59:30.241Z"
   },
   {
    "duration": 745,
    "start_time": "2022-02-02T21:04:08.501Z"
   },
   {
    "duration": 295,
    "start_time": "2022-02-02T21:04:59.802Z"
   },
   {
    "duration": 21,
    "start_time": "2022-02-02T21:05:26.762Z"
   },
   {
    "duration": 549,
    "start_time": "2022-02-02T21:05:36.370Z"
   },
   {
    "duration": 26,
    "start_time": "2022-02-02T21:05:38.087Z"
   },
   {
    "duration": 1053,
    "start_time": "2022-02-02T21:06:25.951Z"
   },
   {
    "duration": 1095,
    "start_time": "2022-02-02T21:06:50.061Z"
   },
   {
    "duration": 960,
    "start_time": "2022-02-02T21:07:42.681Z"
   },
   {
    "duration": 1340,
    "start_time": "2022-02-02T21:08:03.831Z"
   },
   {
    "duration": 561,
    "start_time": "2022-02-02T21:08:40.081Z"
   },
   {
    "duration": 312,
    "start_time": "2022-02-02T21:08:50.203Z"
   },
   {
    "duration": 271,
    "start_time": "2022-02-02T21:09:24.592Z"
   },
   {
    "duration": 361,
    "start_time": "2022-02-02T21:10:03.511Z"
   },
   {
    "duration": 414,
    "start_time": "2022-02-02T21:10:26.982Z"
   },
   {
    "duration": 360,
    "start_time": "2022-02-02T21:10:52.441Z"
   },
   {
    "duration": 3,
    "start_time": "2022-02-02T21:10:58.047Z"
   },
   {
    "duration": 2,
    "start_time": "2022-02-02T21:11:07.021Z"
   },
   {
    "duration": 63,
    "start_time": "2022-02-02T21:11:07.025Z"
   },
   {
    "duration": 774,
    "start_time": "2022-02-02T21:11:07.090Z"
   },
   {
    "duration": 97,
    "start_time": "2022-02-02T21:11:07.867Z"
   },
   {
    "duration": 8,
    "start_time": "2022-02-02T21:11:07.966Z"
   },
   {
    "duration": 9,
    "start_time": "2022-02-02T21:11:07.976Z"
   },
   {
    "duration": 37995,
    "start_time": "2022-02-02T21:11:07.986Z"
   },
   {
    "duration": 15,
    "start_time": "2022-02-02T21:11:45.983Z"
   },
   {
    "duration": 38075,
    "start_time": "2022-02-02T21:11:46.001Z"
   },
   {
    "duration": 4,
    "start_time": "2022-02-02T21:12:24.077Z"
   },
   {
    "duration": 64,
    "start_time": "2022-02-02T21:12:24.083Z"
   },
   {
    "duration": 5,
    "start_time": "2022-02-02T21:12:24.148Z"
   },
   {
    "duration": 22,
    "start_time": "2022-02-02T21:12:24.155Z"
   },
   {
    "duration": 578,
    "start_time": "2022-02-02T21:12:24.179Z"
   },
   {
    "duration": 26,
    "start_time": "2022-02-02T21:12:24.759Z"
   },
   {
    "duration": 390,
    "start_time": "2022-02-02T21:12:24.786Z"
   },
   {
    "duration": 1346,
    "start_time": "2022-02-02T21:14:04.691Z"
   },
   {
    "duration": 423,
    "start_time": "2022-02-02T21:15:13.471Z"
   },
   {
    "duration": 319,
    "start_time": "2022-02-02T21:15:45.962Z"
   },
   {
    "duration": 352,
    "start_time": "2022-02-02T21:16:56.191Z"
   },
   {
    "duration": 734,
    "start_time": "2022-02-02T21:18:03.691Z"
   },
   {
    "duration": 675,
    "start_time": "2022-02-02T21:18:31.860Z"
   },
   {
    "duration": 705,
    "start_time": "2022-02-02T21:18:46.151Z"
   },
   {
    "duration": 682,
    "start_time": "2022-02-02T21:18:50.602Z"
   },
   {
    "duration": 661,
    "start_time": "2022-02-02T21:18:58.721Z"
   },
   {
    "duration": 1853,
    "start_time": "2022-02-02T21:19:04.730Z"
   },
   {
    "duration": 1070,
    "start_time": "2022-02-02T21:19:10.951Z"
   },
   {
    "duration": 1303,
    "start_time": "2022-02-02T21:19:17.281Z"
   },
   {
    "duration": 236,
    "start_time": "2022-02-02T21:21:52.870Z"
   },
   {
    "duration": 82,
    "start_time": "2022-02-02T21:22:18.831Z"
   },
   {
    "duration": 277,
    "start_time": "2022-02-02T21:22:37.935Z"
   },
   {
    "duration": 1444,
    "start_time": "2022-02-02T21:23:11.648Z"
   },
   {
    "duration": 1323,
    "start_time": "2022-02-02T21:24:36.178Z"
   },
   {
    "duration": 1726,
    "start_time": "2022-02-02T21:26:21.061Z"
   },
   {
    "duration": 1413,
    "start_time": "2022-02-02T21:26:50.989Z"
   },
   {
    "duration": 1328,
    "start_time": "2022-02-02T21:27:17.941Z"
   },
   {
    "duration": 1195,
    "start_time": "2022-02-02T21:37:41.079Z"
   },
   {
    "duration": 355,
    "start_time": "2022-02-02T21:58:43.991Z"
   },
   {
    "duration": 588,
    "start_time": "2022-02-02T21:59:08.549Z"
   },
   {
    "duration": 296,
    "start_time": "2022-02-02T21:59:14.849Z"
   },
   {
    "duration": 297,
    "start_time": "2022-02-02T21:59:41.762Z"
   },
   {
    "duration": 299,
    "start_time": "2022-02-02T21:59:48.513Z"
   },
   {
    "duration": 286,
    "start_time": "2022-02-02T22:00:45.692Z"
   },
   {
    "duration": 378,
    "start_time": "2022-02-02T22:01:13.822Z"
   },
   {
    "duration": 301,
    "start_time": "2022-02-02T22:01:27.430Z"
   },
   {
    "duration": 276,
    "start_time": "2022-02-02T22:01:42.621Z"
   },
   {
    "duration": 292,
    "start_time": "2022-02-02T22:01:50.194Z"
   },
   {
    "duration": 292,
    "start_time": "2022-02-02T22:01:58.421Z"
   },
   {
    "duration": 334,
    "start_time": "2022-02-02T22:05:29.542Z"
   },
   {
    "duration": 390,
    "start_time": "2022-02-02T22:05:57.352Z"
   },
   {
    "duration": 346,
    "start_time": "2022-02-02T22:06:25.324Z"
   },
   {
    "duration": 306,
    "start_time": "2022-02-02T22:07:00.950Z"
   },
   {
    "duration": 317,
    "start_time": "2022-02-02T22:08:46.682Z"
   },
   {
    "duration": 320,
    "start_time": "2022-02-02T22:10:14.463Z"
   },
   {
    "duration": 404,
    "start_time": "2022-02-02T22:11:38.740Z"
   },
   {
    "duration": 312,
    "start_time": "2022-02-02T22:11:51.742Z"
   },
   {
    "duration": 323,
    "start_time": "2022-02-02T22:12:01.330Z"
   },
   {
    "duration": 258,
    "start_time": "2022-02-03T17:54:11.726Z"
   },
   {
    "duration": 1176,
    "start_time": "2022-02-03T17:54:19.998Z"
   },
   {
    "duration": 78,
    "start_time": "2022-02-03T17:54:21.176Z"
   },
   {
    "duration": 924,
    "start_time": "2022-02-03T17:54:21.257Z"
   },
   {
    "duration": 116,
    "start_time": "2022-02-03T17:54:22.183Z"
   },
   {
    "duration": 12,
    "start_time": "2022-02-03T17:54:22.302Z"
   },
   {
    "duration": 9,
    "start_time": "2022-02-03T17:54:22.315Z"
   },
   {
    "duration": 42401,
    "start_time": "2022-02-03T17:54:22.325Z"
   },
   {
    "duration": 17,
    "start_time": "2022-02-03T17:55:04.728Z"
   },
   {
    "duration": 42618,
    "start_time": "2022-02-03T17:55:04.747Z"
   },
   {
    "duration": 74,
    "start_time": "2022-02-03T17:55:47.367Z"
   },
   {
    "duration": 5,
    "start_time": "2022-02-03T17:55:47.443Z"
   },
   {
    "duration": 26,
    "start_time": "2022-02-03T17:55:47.450Z"
   },
   {
    "duration": 698,
    "start_time": "2022-02-03T17:55:47.479Z"
   },
   {
    "duration": 35,
    "start_time": "2022-02-03T17:55:48.178Z"
   },
   {
    "duration": 1533,
    "start_time": "2022-02-03T17:55:48.214Z"
   },
   {
    "duration": 381,
    "start_time": "2022-02-03T17:55:49.750Z"
   },
   {
    "duration": 407,
    "start_time": "2022-02-03T17:55:50.132Z"
   },
   {
    "duration": 5435,
    "start_time": "2022-02-03T17:55:50.540Z"
   },
   {
    "duration": 341,
    "start_time": "2022-02-03T17:56:20.635Z"
   },
   {
    "duration": 433,
    "start_time": "2022-02-03T18:01:14.825Z"
   },
   {
    "duration": 357,
    "start_time": "2022-02-03T18:01:59.415Z"
   },
   {
    "duration": 351,
    "start_time": "2022-02-03T18:02:09.136Z"
   },
   {
    "duration": 365,
    "start_time": "2022-02-03T18:02:13.027Z"
   },
   {
    "duration": 363,
    "start_time": "2022-02-03T18:02:18.475Z"
   },
   {
    "duration": 449,
    "start_time": "2022-02-03T18:02:24.617Z"
   },
   {
    "duration": 353,
    "start_time": "2022-02-03T18:02:37.533Z"
   },
   {
    "duration": 257,
    "start_time": "2022-02-03T18:03:07.748Z"
   },
   {
    "duration": 232,
    "start_time": "2022-02-03T18:03:28.481Z"
   },
   {
    "duration": 275,
    "start_time": "2022-02-03T18:03:41.847Z"
   },
   {
    "duration": 442,
    "start_time": "2022-02-03T18:04:20.494Z"
   },
   {
    "duration": 262,
    "start_time": "2022-02-03T18:04:32.498Z"
   },
   {
    "duration": 273,
    "start_time": "2022-02-03T18:04:40.097Z"
   },
   {
    "duration": 301,
    "start_time": "2022-02-03T18:04:51.891Z"
   },
   {
    "duration": 335,
    "start_time": "2022-02-03T18:05:13.205Z"
   },
   {
    "duration": 429,
    "start_time": "2022-02-03T18:05:32.494Z"
   },
   {
    "duration": 414,
    "start_time": "2022-02-03T18:05:47.776Z"
   },
   {
    "duration": 411,
    "start_time": "2022-02-03T18:06:35.536Z"
   },
   {
    "duration": 407,
    "start_time": "2022-02-03T18:07:33.257Z"
   },
   {
    "duration": 269,
    "start_time": "2022-02-03T18:07:47.927Z"
   },
   {
    "duration": 273,
    "start_time": "2022-02-03T18:08:04.517Z"
   },
   {
    "duration": 435,
    "start_time": "2022-02-03T18:08:12.656Z"
   },
   {
    "duration": 423,
    "start_time": "2022-02-03T18:08:20.615Z"
   },
   {
    "duration": 410,
    "start_time": "2022-02-03T18:08:28.137Z"
   },
   {
    "duration": 398,
    "start_time": "2022-02-03T18:10:52.917Z"
   },
   {
    "duration": 223,
    "start_time": "2022-02-03T18:11:15.069Z"
   },
   {
    "duration": 298,
    "start_time": "2022-02-03T18:11:25.731Z"
   },
   {
    "duration": 329,
    "start_time": "2022-02-03T18:11:31.457Z"
   },
   {
    "duration": 330,
    "start_time": "2022-02-03T18:11:37.532Z"
   },
   {
    "duration": 541,
    "start_time": "2022-02-03T18:11:49.657Z"
   },
   {
    "duration": 417,
    "start_time": "2022-02-03T18:12:00.099Z"
   },
   {
    "duration": 392,
    "start_time": "2022-02-03T18:12:06.562Z"
   },
   {
    "duration": 398,
    "start_time": "2022-02-03T18:12:10.502Z"
   },
   {
    "duration": 308,
    "start_time": "2022-02-03T18:12:37.009Z"
   },
   {
    "duration": 338,
    "start_time": "2022-02-03T18:12:43.025Z"
   },
   {
    "duration": 322,
    "start_time": "2022-02-03T18:12:48.286Z"
   },
   {
    "duration": 397,
    "start_time": "2022-02-03T18:13:00.297Z"
   },
   {
    "duration": 245,
    "start_time": "2022-02-03T18:14:50.519Z"
   },
   {
    "duration": 245,
    "start_time": "2022-02-03T18:16:03.216Z"
   },
   {
    "duration": 250,
    "start_time": "2022-02-03T18:16:10.804Z"
   },
   {
    "duration": 414,
    "start_time": "2022-02-03T18:16:14.937Z"
   },
   {
    "duration": 244,
    "start_time": "2022-02-03T18:16:28.317Z"
   },
   {
    "duration": 276,
    "start_time": "2022-02-03T18:16:41.391Z"
   },
   {
    "duration": 255,
    "start_time": "2022-02-03T18:17:18.727Z"
   },
   {
    "duration": 419,
    "start_time": "2022-02-03T18:17:28.718Z"
   },
   {
    "duration": 418,
    "start_time": "2022-02-03T18:18:13.384Z"
   },
   {
    "duration": 84,
    "start_time": "2022-02-03T18:18:29.356Z"
   },
   {
    "duration": 417,
    "start_time": "2022-02-03T18:18:35.417Z"
   },
   {
    "duration": 326,
    "start_time": "2022-02-03T18:19:23.136Z"
   },
   {
    "duration": 452,
    "start_time": "2022-02-03T18:19:36.315Z"
   },
   {
    "duration": 340,
    "start_time": "2022-02-03T18:27:43.937Z"
   },
   {
    "duration": 404,
    "start_time": "2022-02-03T18:28:23.675Z"
   },
   {
    "duration": 411,
    "start_time": "2022-02-03T18:30:13.906Z"
   },
   {
    "duration": 612,
    "start_time": "2022-02-03T18:35:08.699Z"
   },
   {
    "duration": 398,
    "start_time": "2022-02-03T18:35:25.591Z"
   },
   {
    "duration": 428,
    "start_time": "2022-02-03T18:35:29.866Z"
   },
   {
    "duration": 419,
    "start_time": "2022-02-03T18:36:35.801Z"
   },
   {
    "duration": 420,
    "start_time": "2022-02-03T18:39:06.711Z"
   },
   {
    "duration": 423,
    "start_time": "2022-02-03T18:46:52.105Z"
   },
   {
    "duration": 423,
    "start_time": "2022-02-03T18:47:05.059Z"
   },
   {
    "duration": 439,
    "start_time": "2022-02-03T18:49:08.840Z"
   },
   {
    "duration": 444,
    "start_time": "2022-02-03T18:50:13.299Z"
   },
   {
    "duration": 658,
    "start_time": "2022-02-03T18:52:21.031Z"
   },
   {
    "duration": 410,
    "start_time": "2022-02-03T18:53:19.372Z"
   },
   {
    "duration": 653,
    "start_time": "2022-02-03T18:53:37.691Z"
   },
   {
    "duration": 428,
    "start_time": "2022-02-03T18:53:44.411Z"
   },
   {
    "duration": 195,
    "start_time": "2022-02-03T18:54:01.231Z"
   },
   {
    "duration": 154,
    "start_time": "2022-02-03T19:49:35.271Z"
   },
   {
    "duration": 153,
    "start_time": "2022-02-03T19:50:54.189Z"
   },
   {
    "duration": 356,
    "start_time": "2022-02-03T19:51:18.820Z"
   },
   {
    "duration": 152,
    "start_time": "2022-02-03T19:51:28.101Z"
   },
   {
    "duration": 434,
    "start_time": "2022-02-03T20:07:26.130Z"
   },
   {
    "duration": 428,
    "start_time": "2022-02-03T20:07:45.191Z"
   },
   {
    "duration": 231,
    "start_time": "2022-02-03T20:30:58.901Z"
   },
   {
    "duration": 341,
    "start_time": "2022-02-03T20:31:47.749Z"
   },
   {
    "duration": 368,
    "start_time": "2022-02-03T20:34:44.224Z"
   },
   {
    "duration": 163,
    "start_time": "2022-02-03T20:34:57.661Z"
   },
   {
    "duration": 211,
    "start_time": "2022-02-03T20:39:22.571Z"
   },
   {
    "duration": 162,
    "start_time": "2022-02-03T20:39:31.699Z"
   },
   {
    "duration": 180,
    "start_time": "2022-02-03T20:42:07.132Z"
   },
   {
    "duration": 180,
    "start_time": "2022-02-03T20:42:12.291Z"
   },
   {
    "duration": 145,
    "start_time": "2022-02-03T20:42:16.559Z"
   },
   {
    "duration": 739,
    "start_time": "2022-02-03T20:48:25.541Z"
   },
   {
    "duration": 522,
    "start_time": "2022-02-03T20:51:34.987Z"
   },
   {
    "duration": 464,
    "start_time": "2022-02-03T20:51:44.422Z"
   },
   {
    "duration": 700,
    "start_time": "2022-02-03T20:51:58.855Z"
   },
   {
    "duration": 459,
    "start_time": "2022-02-03T20:52:37.821Z"
   },
   {
    "duration": 4306,
    "start_time": "2022-02-03T20:54:52.379Z"
   },
   {
    "duration": 559,
    "start_time": "2022-02-03T20:55:32.001Z"
   },
   {
    "duration": 494,
    "start_time": "2022-02-03T20:56:00.341Z"
   },
   {
    "duration": 533,
    "start_time": "2022-02-03T20:56:17.621Z"
   },
   {
    "duration": 383,
    "start_time": "2022-02-03T20:56:28.253Z"
   },
   {
    "duration": 4497,
    "start_time": "2022-02-03T20:56:53.931Z"
   },
   {
    "duration": 363,
    "start_time": "2022-02-03T20:59:38.728Z"
   },
   {
    "duration": 354,
    "start_time": "2022-02-03T21:00:35.782Z"
   },
   {
    "duration": 372,
    "start_time": "2022-02-03T21:02:32.171Z"
   },
   {
    "duration": 376,
    "start_time": "2022-02-03T21:02:59.741Z"
   },
   {
    "duration": 349,
    "start_time": "2022-02-03T21:03:42.809Z"
   },
   {
    "duration": 732,
    "start_time": "2022-02-03T21:07:36.422Z"
   },
   {
    "duration": 370,
    "start_time": "2022-02-03T21:07:47.861Z"
   },
   {
    "duration": 210,
    "start_time": "2022-02-03T21:26:25.014Z"
   },
   {
    "duration": 76,
    "start_time": "2022-02-03T21:26:57.861Z"
   },
   {
    "duration": 45,
    "start_time": "2022-02-03T21:27:04.802Z"
   },
   {
    "duration": 46,
    "start_time": "2022-02-03T21:27:23.370Z"
   },
   {
    "duration": 85,
    "start_time": "2022-02-03T21:46:14.170Z"
   },
   {
    "duration": 7,
    "start_time": "2022-02-03T21:48:31.423Z"
   },
   {
    "duration": 7,
    "start_time": "2022-02-03T21:49:33.770Z"
   },
   {
    "duration": 913,
    "start_time": "2022-02-03T21:50:10.705Z"
   },
   {
    "duration": 901,
    "start_time": "2022-02-03T21:53:28.272Z"
   },
   {
    "duration": 953,
    "start_time": "2022-02-03T21:56:23.773Z"
   },
   {
    "duration": 881,
    "start_time": "2022-02-03T21:56:50.595Z"
   },
   {
    "duration": 941,
    "start_time": "2022-02-03T21:57:14.823Z"
   },
   {
    "duration": 929,
    "start_time": "2022-02-03T21:57:29.233Z"
   },
   {
    "duration": 3,
    "start_time": "2022-02-03T21:57:39.864Z"
   },
   {
    "duration": 84,
    "start_time": "2022-02-03T21:57:39.869Z"
   },
   {
    "duration": 870,
    "start_time": "2022-02-03T21:57:39.955Z"
   },
   {
    "duration": 104,
    "start_time": "2022-02-03T21:57:40.827Z"
   },
   {
    "duration": 8,
    "start_time": "2022-02-03T21:57:40.933Z"
   },
   {
    "duration": 11,
    "start_time": "2022-02-03T21:57:40.943Z"
   },
   {
    "duration": 41449,
    "start_time": "2022-02-03T21:57:40.956Z"
   },
   {
    "duration": 18,
    "start_time": "2022-02-03T21:58:22.407Z"
   },
   {
    "duration": 42182,
    "start_time": "2022-02-03T21:58:22.427Z"
   },
   {
    "duration": 51,
    "start_time": "2022-02-03T21:59:04.612Z"
   },
   {
    "duration": 6,
    "start_time": "2022-02-03T21:59:04.665Z"
   },
   {
    "duration": 48,
    "start_time": "2022-02-03T21:59:04.672Z"
   },
   {
    "duration": 660,
    "start_time": "2022-02-03T21:59:04.722Z"
   },
   {
    "duration": 38,
    "start_time": "2022-02-03T21:59:05.384Z"
   },
   {
    "duration": 44,
    "start_time": "2022-02-03T21:59:05.423Z"
   },
   {
    "duration": 946,
    "start_time": "2022-02-03T21:59:35.323Z"
   },
   {
    "duration": 10,
    "start_time": "2022-02-03T22:00:08.694Z"
   },
   {
    "duration": 223,
    "start_time": "2022-02-03T22:00:46.262Z"
   },
   {
    "duration": 952,
    "start_time": "2022-02-03T22:01:13.304Z"
   },
   {
    "duration": 269,
    "start_time": "2022-02-03T22:02:03.282Z"
   },
   {
    "duration": 1152,
    "start_time": "2022-02-03T22:02:08.532Z"
   },
   {
    "duration": 82,
    "start_time": "2022-02-03T22:02:09.687Z"
   },
   {
    "duration": 884,
    "start_time": "2022-02-03T22:02:09.771Z"
   },
   {
    "duration": 107,
    "start_time": "2022-02-03T22:02:10.658Z"
   },
   {
    "duration": 11,
    "start_time": "2022-02-03T22:02:10.767Z"
   },
   {
    "duration": 23,
    "start_time": "2022-02-03T22:02:10.780Z"
   },
   {
    "duration": 41119,
    "start_time": "2022-02-03T22:02:10.806Z"
   },
   {
    "duration": 16,
    "start_time": "2022-02-03T22:02:51.927Z"
   },
   {
    "duration": 42087,
    "start_time": "2022-02-03T22:02:51.945Z"
   },
   {
    "duration": 63,
    "start_time": "2022-02-03T22:03:34.034Z"
   },
   {
    "duration": 11,
    "start_time": "2022-02-03T22:03:34.100Z"
   },
   {
    "duration": 37,
    "start_time": "2022-02-03T22:03:34.113Z"
   },
   {
    "duration": 674,
    "start_time": "2022-02-03T22:03:34.153Z"
   },
   {
    "duration": 31,
    "start_time": "2022-02-03T22:03:34.830Z"
   },
   {
    "duration": 40,
    "start_time": "2022-02-03T22:07:21.350Z"
   },
   {
    "duration": 443,
    "start_time": "2022-02-03T22:07:30.079Z"
   },
   {
    "duration": 406,
    "start_time": "2022-02-03T22:08:44.990Z"
   },
   {
    "duration": 846,
    "start_time": "2022-02-03T22:09:27.213Z"
   },
   {
    "duration": 870,
    "start_time": "2022-02-03T22:10:49.571Z"
   },
   {
    "duration": 922,
    "start_time": "2022-02-03T22:11:09.320Z"
   },
   {
    "duration": 428,
    "start_time": "2022-02-03T22:11:49.552Z"
   },
   {
    "duration": 473,
    "start_time": "2022-02-03T22:13:33.410Z"
   },
   {
    "duration": 452,
    "start_time": "2022-02-03T22:14:26.691Z"
   },
   {
    "duration": 505,
    "start_time": "2022-02-03T22:15:05.682Z"
   },
   {
    "duration": 464,
    "start_time": "2022-02-03T22:16:00.248Z"
   },
   {
    "duration": 474,
    "start_time": "2022-02-03T22:20:53.406Z"
   },
   {
    "duration": 457,
    "start_time": "2022-02-03T22:22:09.111Z"
   },
   {
    "duration": 630,
    "start_time": "2022-02-03T22:23:57.870Z"
   },
   {
    "duration": 548,
    "start_time": "2022-02-03T22:25:34.800Z"
   },
   {
    "duration": 585,
    "start_time": "2022-02-03T22:26:32.099Z"
   },
   {
    "duration": 306,
    "start_time": "2022-02-03T22:27:26.308Z"
   },
   {
    "duration": 69,
    "start_time": "2022-02-03T22:33:05.731Z"
   },
   {
    "duration": 97,
    "start_time": "2022-02-03T22:35:50.849Z"
   },
   {
    "duration": 94,
    "start_time": "2022-02-03T22:36:51.921Z"
   },
   {
    "duration": 339,
    "start_time": "2022-02-03T22:43:10.301Z"
   },
   {
    "duration": 142,
    "start_time": "2022-02-03T22:43:20.901Z"
   },
   {
    "duration": 130,
    "start_time": "2022-02-03T22:50:17.311Z"
   },
   {
    "duration": 127,
    "start_time": "2022-02-03T22:50:53.311Z"
   },
   {
    "duration": 566,
    "start_time": "2022-02-03T22:56:33.680Z"
   },
   {
    "duration": 585,
    "start_time": "2022-02-03T22:57:23.480Z"
   },
   {
    "duration": 130,
    "start_time": "2022-02-03T23:00:28.087Z"
   },
   {
    "duration": 1141,
    "start_time": "2022-02-04T16:45:40.313Z"
   },
   {
    "duration": 77,
    "start_time": "2022-02-04T16:45:41.456Z"
   },
   {
    "duration": 858,
    "start_time": "2022-02-04T16:45:41.535Z"
   },
   {
    "duration": 79,
    "start_time": "2022-02-04T16:45:42.395Z"
   },
   {
    "duration": 24,
    "start_time": "2022-02-04T16:45:42.476Z"
   },
   {
    "duration": 8,
    "start_time": "2022-02-04T16:45:42.502Z"
   },
   {
    "duration": 39938,
    "start_time": "2022-02-04T16:45:42.512Z"
   },
   {
    "duration": 16,
    "start_time": "2022-02-04T16:46:22.453Z"
   },
   {
    "duration": 39779,
    "start_time": "2022-02-04T16:46:22.471Z"
   },
   {
    "duration": 63,
    "start_time": "2022-02-04T16:47:02.252Z"
   },
   {
    "duration": 7,
    "start_time": "2022-02-04T16:47:02.318Z"
   },
   {
    "duration": 39,
    "start_time": "2022-02-04T16:47:02.327Z"
   },
   {
    "duration": 631,
    "start_time": "2022-02-04T16:47:02.369Z"
   },
   {
    "duration": 29,
    "start_time": "2022-02-04T16:47:03.002Z"
   },
   {
    "duration": 43,
    "start_time": "2022-02-04T16:47:03.034Z"
   },
   {
    "duration": 139,
    "start_time": "2022-02-04T16:47:03.098Z"
   },
   {
    "duration": 391,
    "start_time": "2022-02-04T16:47:03.239Z"
   },
   {
    "duration": 228,
    "start_time": "2022-02-04T16:47:03.632Z"
   },
   {
    "duration": 459,
    "start_time": "2022-02-04T16:47:03.861Z"
   },
   {
    "duration": 415,
    "start_time": "2022-02-04T16:47:04.322Z"
   },
   {
    "duration": 420,
    "start_time": "2022-02-04T16:47:04.739Z"
   },
   {
    "duration": 172,
    "start_time": "2022-02-04T16:47:05.161Z"
   },
   {
    "duration": 439,
    "start_time": "2022-02-04T16:47:05.336Z"
   },
   {
    "duration": 208,
    "start_time": "2022-02-04T16:47:05.777Z"
   },
   {
    "duration": 202,
    "start_time": "2022-02-04T16:53:41.992Z"
   },
   {
    "duration": 317,
    "start_time": "2022-02-04T17:28:09.465Z"
   },
   {
    "duration": 1014,
    "start_time": "2022-02-04T17:28:22.589Z"
   },
   {
    "duration": 994,
    "start_time": "2022-02-04T17:29:16.950Z"
   },
   {
    "duration": 896,
    "start_time": "2022-02-04T17:29:34.383Z"
   },
   {
    "duration": 677,
    "start_time": "2022-02-04T17:30:05.541Z"
   },
   {
    "duration": 2140,
    "start_time": "2022-02-04T17:30:40.871Z"
   },
   {
    "duration": 1911,
    "start_time": "2022-02-04T17:34:39.702Z"
   },
   {
    "duration": 1679,
    "start_time": "2022-02-04T17:35:06.830Z"
   },
   {
    "duration": 1424,
    "start_time": "2022-02-04T17:35:24.190Z"
   },
   {
    "duration": 1281,
    "start_time": "2022-02-04T17:35:58.094Z"
   },
   {
    "duration": 1327,
    "start_time": "2022-02-04T17:36:33.387Z"
   },
   {
    "duration": 2107,
    "start_time": "2022-02-04T17:56:07.519Z"
   },
   {
    "duration": 83,
    "start_time": "2022-02-04T17:58:26.424Z"
   },
   {
    "duration": 85,
    "start_time": "2022-02-04T17:59:09.684Z"
   },
   {
    "duration": 2070,
    "start_time": "2022-02-04T17:59:28.148Z"
   },
   {
    "duration": 76,
    "start_time": "2022-02-04T17:59:56.953Z"
   },
   {
    "duration": 2294,
    "start_time": "2022-02-04T18:00:28.601Z"
   },
   {
    "duration": 2155,
    "start_time": "2022-02-04T18:01:24.831Z"
   },
   {
    "duration": 2156,
    "start_time": "2022-02-04T18:01:53.325Z"
   },
   {
    "duration": 2322,
    "start_time": "2022-02-04T18:02:30.650Z"
   },
   {
    "duration": 2229,
    "start_time": "2022-02-04T18:03:03.545Z"
   },
   {
    "duration": 44,
    "start_time": "2022-02-04T18:25:06.951Z"
   },
   {
    "duration": 2121,
    "start_time": "2022-02-04T18:26:07.795Z"
   },
   {
    "duration": 2113,
    "start_time": "2022-02-04T18:26:51.715Z"
   },
   {
    "duration": 2275,
    "start_time": "2022-02-04T18:27:42.315Z"
   },
   {
    "duration": 2197,
    "start_time": "2022-02-04T18:33:49.531Z"
   },
   {
    "duration": 2103,
    "start_time": "2022-02-04T18:34:27.851Z"
   },
   {
    "duration": 2128,
    "start_time": "2022-02-04T18:36:26.149Z"
   },
   {
    "duration": 2103,
    "start_time": "2022-02-04T18:36:45.645Z"
   },
   {
    "duration": 1077,
    "start_time": "2022-02-04T18:37:16.395Z"
   },
   {
    "duration": 2143,
    "start_time": "2022-02-04T18:41:02.955Z"
   },
   {
    "duration": 393,
    "start_time": "2022-02-04T18:51:35.710Z"
   },
   {
    "duration": 75,
    "start_time": "2022-02-04T18:55:06.941Z"
   },
   {
    "duration": 2167,
    "start_time": "2022-02-04T18:55:19.805Z"
   },
   {
    "duration": 2168,
    "start_time": "2022-02-04T18:57:11.372Z"
   },
   {
    "duration": 6115,
    "start_time": "2022-02-04T18:59:18.662Z"
   },
   {
    "duration": 642,
    "start_time": "2022-02-04T19:00:04.062Z"
   },
   {
    "duration": 2235,
    "start_time": "2022-02-04T19:04:28.363Z"
   },
   {
    "duration": 2701,
    "start_time": "2022-02-04T19:07:56.831Z"
   },
   {
    "duration": 2216,
    "start_time": "2022-02-04T19:09:08.283Z"
   },
   {
    "duration": 2295,
    "start_time": "2022-02-04T19:09:55.525Z"
   },
   {
    "duration": 2205,
    "start_time": "2022-02-04T19:11:53.693Z"
   },
   {
    "duration": 2178,
    "start_time": "2022-02-04T19:12:25.003Z"
   },
   {
    "duration": 2404,
    "start_time": "2022-02-04T19:36:49.162Z"
   },
   {
    "duration": 3,
    "start_time": "2022-02-04T19:37:13.194Z"
   },
   {
    "duration": 91,
    "start_time": "2022-02-04T19:37:13.199Z"
   },
   {
    "duration": 935,
    "start_time": "2022-02-04T19:37:13.292Z"
   },
   {
    "duration": 106,
    "start_time": "2022-02-04T19:37:14.229Z"
   },
   {
    "duration": 8,
    "start_time": "2022-02-04T19:37:14.337Z"
   },
   {
    "duration": 10,
    "start_time": "2022-02-04T19:37:14.347Z"
   },
   {
    "duration": 44477,
    "start_time": "2022-02-04T19:37:14.359Z"
   },
   {
    "duration": 17,
    "start_time": "2022-02-04T19:37:58.838Z"
   },
   {
    "duration": 45485,
    "start_time": "2022-02-04T19:37:58.857Z"
   },
   {
    "duration": 58,
    "start_time": "2022-02-04T19:38:44.344Z"
   },
   {
    "duration": 9,
    "start_time": "2022-02-04T19:38:44.405Z"
   },
   {
    "duration": 36,
    "start_time": "2022-02-04T19:38:44.417Z"
   },
   {
    "duration": 683,
    "start_time": "2022-02-04T19:38:44.455Z"
   },
   {
    "duration": 29,
    "start_time": "2022-02-04T19:38:45.139Z"
   },
   {
    "duration": 68,
    "start_time": "2022-02-04T19:38:45.169Z"
   },
   {
    "duration": 2390,
    "start_time": "2022-02-04T19:38:45.238Z"
   },
   {
    "duration": 2427,
    "start_time": "2022-02-04T19:39:00.514Z"
   },
   {
    "duration": 1263,
    "start_time": "2022-02-04T19:39:45.984Z"
   },
   {
    "duration": 90,
    "start_time": "2022-02-04T19:39:47.249Z"
   },
   {
    "duration": 953,
    "start_time": "2022-02-04T19:39:47.341Z"
   },
   {
    "duration": 100,
    "start_time": "2022-02-04T19:39:48.299Z"
   },
   {
    "duration": 14,
    "start_time": "2022-02-04T19:39:48.403Z"
   },
   {
    "duration": 9,
    "start_time": "2022-02-04T19:39:48.420Z"
   },
   {
    "duration": 44177,
    "start_time": "2022-02-04T19:39:48.431Z"
   },
   {
    "duration": 17,
    "start_time": "2022-02-04T19:40:32.612Z"
   },
   {
    "duration": 44889,
    "start_time": "2022-02-04T19:40:32.632Z"
   },
   {
    "duration": 80,
    "start_time": "2022-02-04T19:41:17.523Z"
   },
   {
    "duration": 11,
    "start_time": "2022-02-04T19:41:17.607Z"
   },
   {
    "duration": 27,
    "start_time": "2022-02-04T19:41:17.621Z"
   },
   {
    "duration": 764,
    "start_time": "2022-02-04T19:41:17.651Z"
   },
   {
    "duration": 37,
    "start_time": "2022-02-04T19:41:18.419Z"
   },
   {
    "duration": 76,
    "start_time": "2022-02-04T19:41:18.457Z"
   },
   {
    "duration": 882,
    "start_time": "2022-02-04T19:41:18.535Z"
   },
   {
    "duration": 2376,
    "start_time": "2022-02-04T19:42:23.763Z"
   },
   {
    "duration": 50,
    "start_time": "2022-02-04T19:43:30.042Z"
   },
   {
    "duration": 4,
    "start_time": "2022-02-04T19:52:11.642Z"
   },
   {
    "duration": 90,
    "start_time": "2022-02-04T19:52:11.649Z"
   },
   {
    "duration": 962,
    "start_time": "2022-02-04T19:52:11.742Z"
   },
   {
    "duration": 92,
    "start_time": "2022-02-04T19:52:12.708Z"
   },
   {
    "duration": 9,
    "start_time": "2022-02-04T19:52:12.803Z"
   },
   {
    "duration": 15,
    "start_time": "2022-02-04T19:52:12.815Z"
   },
   {
    "duration": 43883,
    "start_time": "2022-02-04T19:52:12.832Z"
   },
   {
    "duration": 24,
    "start_time": "2022-02-04T19:52:56.718Z"
   },
   {
    "duration": 44231,
    "start_time": "2022-02-04T19:52:56.745Z"
   },
   {
    "duration": 64,
    "start_time": "2022-02-04T19:53:40.979Z"
   },
   {
    "duration": 6,
    "start_time": "2022-02-04T19:53:41.045Z"
   },
   {
    "duration": 25,
    "start_time": "2022-02-04T19:53:41.052Z"
   },
   {
    "duration": 796,
    "start_time": "2022-02-04T19:53:41.078Z"
   },
   {
    "duration": 40,
    "start_time": "2022-02-04T19:53:41.876Z"
   },
   {
    "duration": 41,
    "start_time": "2022-02-04T19:53:41.919Z"
   },
   {
    "duration": 2228,
    "start_time": "2022-02-04T19:53:41.962Z"
   },
   {
    "duration": 59,
    "start_time": "2022-02-04T19:53:44.191Z"
   },
   {
    "duration": 731,
    "start_time": "2022-02-04T20:00:56.938Z"
   },
   {
    "duration": 244,
    "start_time": "2022-02-04T20:05:09.068Z"
   },
   {
    "duration": 99,
    "start_time": "2022-02-04T20:06:05.769Z"
   },
   {
    "duration": 79,
    "start_time": "2022-02-04T20:07:36.389Z"
   },
   {
    "duration": 64,
    "start_time": "2022-02-04T20:08:01.911Z"
   },
   {
    "duration": 68,
    "start_time": "2022-02-04T20:08:25.268Z"
   },
   {
    "duration": 260,
    "start_time": "2022-02-04T20:09:37.939Z"
   },
   {
    "duration": 265,
    "start_time": "2022-02-04T20:10:01.955Z"
   },
   {
    "duration": 205,
    "start_time": "2022-02-04T20:10:07.419Z"
   },
   {
    "duration": 246,
    "start_time": "2022-02-04T20:11:04.183Z"
   },
   {
    "duration": 256,
    "start_time": "2022-02-04T20:11:16.159Z"
   },
   {
    "duration": 232,
    "start_time": "2022-02-04T20:11:35.319Z"
   },
   {
    "duration": 722,
    "start_time": "2022-02-04T20:11:47.335Z"
   },
   {
    "duration": 703,
    "start_time": "2022-02-04T20:15:41.599Z"
   },
   {
    "duration": 696,
    "start_time": "2022-02-04T20:16:12.766Z"
   },
   {
    "duration": 302,
    "start_time": "2022-02-04T20:18:50.112Z"
   },
   {
    "duration": 13,
    "start_time": "2022-02-04T20:19:11.859Z"
   },
   {
    "duration": 19,
    "start_time": "2022-02-04T20:21:10.277Z"
   },
   {
    "duration": 327,
    "start_time": "2022-02-04T20:22:03.527Z"
   },
   {
    "duration": 30,
    "start_time": "2022-02-04T20:24:07.357Z"
   },
   {
    "duration": 21,
    "start_time": "2022-02-04T20:24:21.467Z"
   },
   {
    "duration": 22,
    "start_time": "2022-02-04T20:24:38.236Z"
   },
   {
    "duration": 19,
    "start_time": "2022-02-04T20:28:36.404Z"
   },
   {
    "duration": 18,
    "start_time": "2022-02-04T20:28:43.693Z"
   },
   {
    "duration": 637,
    "start_time": "2022-02-04T20:28:43.714Z"
   },
   {
    "duration": 25,
    "start_time": "2022-02-04T20:28:44.354Z"
   },
   {
    "duration": 65,
    "start_time": "2022-02-04T20:28:44.382Z"
   },
   {
    "duration": 2158,
    "start_time": "2022-02-04T20:28:44.449Z"
   },
   {
    "duration": 40,
    "start_time": "2022-02-04T20:28:46.609Z"
   },
   {
    "duration": 21,
    "start_time": "2022-02-04T20:28:46.651Z"
   },
   {
    "duration": 371,
    "start_time": "2022-02-04T20:28:46.674Z"
   },
   {
    "duration": 27,
    "start_time": "2022-02-04T20:29:22.036Z"
   },
   {
    "duration": 27,
    "start_time": "2022-02-04T20:30:01.625Z"
   },
   {
    "duration": 22,
    "start_time": "2022-02-04T20:30:32.684Z"
   },
   {
    "duration": 20,
    "start_time": "2022-02-04T20:30:53.375Z"
   },
   {
    "duration": 20,
    "start_time": "2022-02-04T20:31:01.425Z"
   },
   {
    "duration": 251,
    "start_time": "2022-02-04T20:31:38.235Z"
   },
   {
    "duration": 382,
    "start_time": "2022-02-04T20:32:09.054Z"
   },
   {
    "duration": 411,
    "start_time": "2022-02-04T20:32:45.995Z"
   },
   {
    "duration": 39,
    "start_time": "2022-02-04T20:39:54.001Z"
   },
   {
    "duration": 10,
    "start_time": "2022-02-04T20:41:58.649Z"
   },
   {
    "duration": 38,
    "start_time": "2022-02-04T20:42:21.700Z"
   },
   {
    "duration": 8,
    "start_time": "2022-02-04T20:42:44.202Z"
   },
   {
    "duration": 9,
    "start_time": "2022-02-04T20:43:47.273Z"
   },
   {
    "duration": 8,
    "start_time": "2022-02-04T20:44:44.629Z"
   },
   {
    "duration": 9,
    "start_time": "2022-02-04T20:46:46.819Z"
   },
   {
    "duration": 7,
    "start_time": "2022-02-04T20:47:22.829Z"
   },
   {
    "duration": 7,
    "start_time": "2022-02-04T20:47:44.555Z"
   },
   {
    "duration": 34,
    "start_time": "2022-02-04T20:50:55.589Z"
   },
   {
    "duration": 16,
    "start_time": "2022-02-04T20:51:21.507Z"
   },
   {
    "duration": 127,
    "start_time": "2022-02-04T20:52:39.917Z"
   },
   {
    "duration": 19,
    "start_time": "2022-02-04T20:53:26.379Z"
   },
   {
    "duration": 127,
    "start_time": "2022-02-04T20:53:48.501Z"
   },
   {
    "duration": 137,
    "start_time": "2022-02-04T20:53:52.480Z"
   },
   {
    "duration": 29,
    "start_time": "2022-02-04T20:54:10.289Z"
   },
   {
    "duration": 21,
    "start_time": "2022-02-04T20:54:34.239Z"
   },
   {
    "duration": 20,
    "start_time": "2022-02-04T20:54:50.188Z"
   },
   {
    "duration": 24,
    "start_time": "2022-02-04T20:54:57.668Z"
   },
   {
    "duration": 69,
    "start_time": "2022-02-04T20:58:02.671Z"
   },
   {
    "duration": 292,
    "start_time": "2022-02-04T21:01:02.431Z"
   },
   {
    "duration": 252,
    "start_time": "2022-02-04T21:01:34.671Z"
   },
   {
    "duration": 12,
    "start_time": "2022-02-04T21:01:57.281Z"
   },
   {
    "duration": 13,
    "start_time": "2022-02-04T21:02:50.516Z"
   },
   {
    "duration": 17010,
    "start_time": "2022-02-04T21:03:22.603Z"
   },
   {
    "duration": 19,
    "start_time": "2022-02-04T21:04:09.911Z"
   },
   {
    "duration": 257,
    "start_time": "2022-02-04T21:06:47.562Z"
   },
   {
    "duration": 17,
    "start_time": "2022-02-04T21:08:14.371Z"
   },
   {
    "duration": 247,
    "start_time": "2022-02-04T21:08:25.633Z"
   },
   {
    "duration": 241,
    "start_time": "2022-02-04T21:09:07.542Z"
   },
   {
    "duration": 236,
    "start_time": "2022-02-04T21:32:38.041Z"
   },
   {
    "duration": 19,
    "start_time": "2022-02-04T21:34:07.541Z"
   },
   {
    "duration": 22,
    "start_time": "2022-02-04T21:41:51.369Z"
   },
   {
    "duration": 19,
    "start_time": "2022-02-04T21:42:37.530Z"
   },
   {
    "duration": 27,
    "start_time": "2022-02-04T21:44:14.286Z"
   },
   {
    "duration": 22,
    "start_time": "2022-02-04T21:47:43.190Z"
   },
   {
    "duration": 330,
    "start_time": "2022-02-04T21:48:13.411Z"
   },
   {
    "duration": 20,
    "start_time": "2022-02-04T21:48:33.433Z"
   },
   {
    "duration": 17,
    "start_time": "2022-02-04T21:50:42.230Z"
   },
   {
    "duration": 201,
    "start_time": "2022-02-04T21:50:56.830Z"
   },
   {
    "duration": 205,
    "start_time": "2022-02-04T22:03:33.229Z"
   },
   {
    "duration": 193,
    "start_time": "2022-02-04T22:03:47.580Z"
   },
   {
    "duration": 234,
    "start_time": "2022-02-04T22:19:15.239Z"
   },
   {
    "duration": 229,
    "start_time": "2022-02-04T22:19:26.839Z"
   },
   {
    "duration": 244,
    "start_time": "2022-02-04T22:24:58.599Z"
   },
   {
    "duration": 250,
    "start_time": "2022-02-04T22:25:31.809Z"
   },
   {
    "duration": 193,
    "start_time": "2022-02-04T22:26:44.054Z"
   },
   {
    "duration": 3,
    "start_time": "2022-02-04T22:27:56.060Z"
   },
   {
    "duration": 85,
    "start_time": "2022-02-04T22:27:56.066Z"
   },
   {
    "duration": 874,
    "start_time": "2022-02-04T22:27:56.154Z"
   },
   {
    "duration": 84,
    "start_time": "2022-02-04T22:27:57.030Z"
   },
   {
    "duration": 8,
    "start_time": "2022-02-04T22:27:57.115Z"
   },
   {
    "duration": 10,
    "start_time": "2022-02-04T22:27:57.125Z"
   },
   {
    "duration": 40141,
    "start_time": "2022-02-04T22:27:57.137Z"
   },
   {
    "duration": 30,
    "start_time": "2022-02-04T22:28:37.279Z"
   },
   {
    "duration": 40577,
    "start_time": "2022-02-04T22:28:37.312Z"
   },
   {
    "duration": 54,
    "start_time": "2022-02-04T22:29:17.890Z"
   },
   {
    "duration": 5,
    "start_time": "2022-02-04T22:29:17.945Z"
   },
   {
    "duration": 15,
    "start_time": "2022-02-04T22:29:17.952Z"
   },
   {
    "duration": 698,
    "start_time": "2022-02-04T22:29:17.969Z"
   },
   {
    "duration": 34,
    "start_time": "2022-02-04T22:29:18.668Z"
   },
   {
    "duration": 39,
    "start_time": "2022-02-04T22:29:18.703Z"
   },
   {
    "duration": 1998,
    "start_time": "2022-02-04T22:29:18.744Z"
   },
   {
    "duration": 39,
    "start_time": "2022-02-04T22:29:20.744Z"
   },
   {
    "duration": 31,
    "start_time": "2022-02-04T22:29:20.784Z"
   },
   {
    "duration": 21,
    "start_time": "2022-02-04T22:29:20.817Z"
   },
   {
    "duration": 204,
    "start_time": "2022-02-04T22:30:07.478Z"
   },
   {
    "duration": 13,
    "start_time": "2022-02-04T22:30:22.429Z"
   },
   {
    "duration": 13,
    "start_time": "2022-02-04T22:31:02.429Z"
   },
   {
    "duration": 320,
    "start_time": "2022-02-04T22:31:27.687Z"
   },
   {
    "duration": 414,
    "start_time": "2022-02-04T22:32:13.138Z"
   },
   {
    "duration": 418,
    "start_time": "2022-02-04T22:32:50.438Z"
   },
   {
    "duration": 202,
    "start_time": "2022-02-04T22:32:57.468Z"
   },
   {
    "duration": 205,
    "start_time": "2022-02-04T22:34:50.856Z"
   },
   {
    "duration": 222,
    "start_time": "2022-02-04T22:35:24.998Z"
   },
   {
    "duration": 1167,
    "start_time": "2022-02-04T22:36:29.307Z"
   },
   {
    "duration": 81,
    "start_time": "2022-02-04T22:36:30.477Z"
   },
   {
    "duration": 891,
    "start_time": "2022-02-04T22:36:30.560Z"
   },
   {
    "duration": 87,
    "start_time": "2022-02-04T22:36:31.454Z"
   },
   {
    "duration": 13,
    "start_time": "2022-02-04T22:36:31.543Z"
   },
   {
    "duration": 10,
    "start_time": "2022-02-04T22:36:31.558Z"
   },
   {
    "duration": 39843,
    "start_time": "2022-02-04T22:36:31.570Z"
   },
   {
    "duration": 16,
    "start_time": "2022-02-04T22:37:11.415Z"
   },
   {
    "duration": 40334,
    "start_time": "2022-02-04T22:37:11.433Z"
   },
   {
    "duration": 56,
    "start_time": "2022-02-04T22:37:51.768Z"
   },
   {
    "duration": 6,
    "start_time": "2022-02-04T22:37:51.826Z"
   },
   {
    "duration": 16,
    "start_time": "2022-02-04T22:37:51.833Z"
   },
   {
    "duration": 607,
    "start_time": "2022-02-04T22:37:51.851Z"
   },
   {
    "duration": 27,
    "start_time": "2022-02-04T22:37:52.460Z"
   },
   {
    "duration": 47,
    "start_time": "2022-02-04T22:37:52.489Z"
   },
   {
    "duration": 2080,
    "start_time": "2022-02-04T22:37:52.538Z"
   },
   {
    "duration": 40,
    "start_time": "2022-02-04T22:37:54.620Z"
   },
   {
    "duration": 41,
    "start_time": "2022-02-04T22:37:54.662Z"
   },
   {
    "duration": 21,
    "start_time": "2022-02-04T22:37:54.705Z"
   },
   {
    "duration": 218,
    "start_time": "2022-02-04T22:37:54.728Z"
   },
   {
    "duration": 204,
    "start_time": "2022-02-04T22:41:04.137Z"
   },
   {
    "duration": 1078,
    "start_time": "2022-02-05T08:11:01.734Z"
   },
   {
    "duration": 62,
    "start_time": "2022-02-05T08:11:02.814Z"
   },
   {
    "duration": 671,
    "start_time": "2022-02-05T08:11:02.877Z"
   },
   {
    "duration": 61,
    "start_time": "2022-02-05T08:11:03.550Z"
   },
   {
    "duration": 21,
    "start_time": "2022-02-05T08:11:03.612Z"
   },
   {
    "duration": 6,
    "start_time": "2022-02-05T08:11:03.634Z"
   },
   {
    "duration": 33690,
    "start_time": "2022-02-05T08:11:03.642Z"
   },
   {
    "duration": 14,
    "start_time": "2022-02-05T08:11:37.334Z"
   },
   {
    "duration": 33642,
    "start_time": "2022-02-05T08:11:37.350Z"
   },
   {
    "duration": 49,
    "start_time": "2022-02-05T08:12:10.994Z"
   },
   {
    "duration": 5,
    "start_time": "2022-02-05T08:12:11.045Z"
   },
   {
    "duration": 15,
    "start_time": "2022-02-05T08:12:11.051Z"
   },
   {
    "duration": 514,
    "start_time": "2022-02-05T08:12:11.068Z"
   },
   {
    "duration": 20,
    "start_time": "2022-02-05T08:12:11.584Z"
   },
   {
    "duration": 42,
    "start_time": "2022-02-05T08:12:11.606Z"
   },
   {
    "duration": 1496,
    "start_time": "2022-02-05T08:12:11.650Z"
   },
   {
    "duration": 29,
    "start_time": "2022-02-05T08:12:13.148Z"
   },
   {
    "duration": 14,
    "start_time": "2022-02-05T08:12:13.179Z"
   },
   {
    "duration": 37,
    "start_time": "2022-02-05T08:12:13.195Z"
   },
   {
    "duration": 152,
    "start_time": "2022-02-05T08:12:13.233Z"
   },
   {
    "duration": 1484,
    "start_time": "2022-02-05T14:33:42.578Z"
   },
   {
    "duration": 89,
    "start_time": "2022-02-05T14:33:44.065Z"
   },
   {
    "duration": 1256,
    "start_time": "2022-02-05T14:33:44.157Z"
   },
   {
    "duration": 113,
    "start_time": "2022-02-05T14:33:45.416Z"
   },
   {
    "duration": 13,
    "start_time": "2022-02-05T14:33:45.531Z"
   },
   {
    "duration": 23,
    "start_time": "2022-02-05T14:33:45.546Z"
   },
   {
    "duration": 53900,
    "start_time": "2022-02-05T14:33:45.571Z"
   },
   {
    "duration": 22,
    "start_time": "2022-02-05T14:34:39.473Z"
   },
   {
    "duration": 55078,
    "start_time": "2022-02-05T14:34:39.499Z"
   },
   {
    "duration": 73,
    "start_time": "2022-02-05T14:35:34.580Z"
   },
   {
    "duration": 7,
    "start_time": "2022-02-05T14:35:34.670Z"
   },
   {
    "duration": 18,
    "start_time": "2022-02-05T14:35:34.679Z"
   },
   {
    "duration": 977,
    "start_time": "2022-02-05T14:35:34.699Z"
   },
   {
    "duration": 38,
    "start_time": "2022-02-05T14:35:35.679Z"
   },
   {
    "duration": 84,
    "start_time": "2022-02-05T14:35:35.719Z"
   },
   {
    "duration": 2915,
    "start_time": "2022-02-05T14:35:35.806Z"
   },
   {
    "duration": 81,
    "start_time": "2022-02-05T14:35:38.724Z"
   },
   {
    "duration": 27,
    "start_time": "2022-02-05T14:35:38.808Z"
   },
   {
    "duration": 50,
    "start_time": "2022-02-05T14:35:38.838Z"
   },
   {
    "duration": 312,
    "start_time": "2022-02-05T14:35:38.891Z"
   },
   {
    "duration": 2318,
    "start_time": "2022-02-05T14:59:44.887Z"
   },
   {
    "duration": 2343,
    "start_time": "2022-02-05T14:59:49.197Z"
   },
   {
    "duration": 2249,
    "start_time": "2022-02-05T15:00:26.596Z"
   },
   {
    "duration": 1878,
    "start_time": "2022-02-05T15:01:07.237Z"
   },
   {
    "duration": 1899,
    "start_time": "2022-02-05T15:01:30.117Z"
   },
   {
    "duration": 2328,
    "start_time": "2022-02-05T15:02:08.845Z"
   },
   {
    "duration": 2907,
    "start_time": "2022-02-05T15:02:24.879Z"
   },
   {
    "duration": 2450,
    "start_time": "2022-02-05T15:03:09.237Z"
   },
   {
    "duration": 57,
    "start_time": "2022-02-05T15:04:34.606Z"
   },
   {
    "duration": 24,
    "start_time": "2022-02-05T15:04:34.666Z"
   },
   {
    "duration": 30,
    "start_time": "2022-02-05T15:04:34.693Z"
   },
   {
    "duration": 316,
    "start_time": "2022-02-05T15:04:34.726Z"
   },
   {
    "duration": 32,
    "start_time": "2022-02-05T15:15:09.506Z"
   },
   {
    "duration": 32,
    "start_time": "2022-02-05T15:30:53.396Z"
   },
   {
    "duration": 3483,
    "start_time": "2022-02-05T15:32:19.244Z"
   },
   {
    "duration": 2187,
    "start_time": "2022-02-05T15:34:15.237Z"
   },
   {
    "duration": 364,
    "start_time": "2022-02-05T15:37:21.606Z"
   },
   {
    "duration": 472,
    "start_time": "2022-02-05T15:37:45.044Z"
   },
   {
    "duration": 323,
    "start_time": "2022-02-05T15:38:20.007Z"
   },
   {
    "duration": 295,
    "start_time": "2022-02-05T15:39:29.586Z"
   },
   {
    "duration": 10,
    "start_time": "2022-02-05T15:40:00.406Z"
   },
   {
    "duration": 10,
    "start_time": "2022-02-05T15:40:28.193Z"
   },
   {
    "duration": 300,
    "start_time": "2022-02-05T15:42:16.866Z"
   },
   {
    "duration": 7,
    "start_time": "2022-02-05T15:42:22.113Z"
   },
   {
    "duration": 7,
    "start_time": "2022-02-05T15:42:35.776Z"
   },
   {
    "duration": 9,
    "start_time": "2022-02-05T15:43:42.697Z"
   },
   {
    "duration": 9,
    "start_time": "2022-02-05T15:44:49.765Z"
   },
   {
    "duration": 11,
    "start_time": "2022-02-05T15:45:31.765Z"
   },
   {
    "duration": 427,
    "start_time": "2022-02-05T15:45:58.437Z"
   },
   {
    "duration": 91,
    "start_time": "2022-02-05T15:47:27.144Z"
   },
   {
    "duration": 446,
    "start_time": "2022-02-05T15:47:32.486Z"
   },
   {
    "duration": 158,
    "start_time": "2022-02-05T15:48:18.197Z"
   },
   {
    "duration": 376,
    "start_time": "2022-02-05T15:48:41.868Z"
   },
   {
    "duration": 480,
    "start_time": "2022-02-05T15:49:07.517Z"
   },
   {
    "duration": 12117,
    "start_time": "2022-02-05T15:49:16.516Z"
   },
   {
    "duration": 113,
    "start_time": "2022-02-05T15:50:03.155Z"
   },
   {
    "duration": 11303,
    "start_time": "2022-02-05T15:50:17.736Z"
   },
   {
    "duration": 37143,
    "start_time": "2022-02-05T15:51:36.186Z"
   },
   {
    "duration": 6,
    "start_time": "2022-02-05T15:54:30.244Z"
   },
   {
    "duration": 37079,
    "start_time": "2022-02-05T15:56:25.696Z"
   },
   {
    "duration": 297163,
    "start_time": "2022-02-05T15:58:22.486Z"
   },
   {
    "duration": 346,
    "start_time": "2022-02-05T16:04:15.836Z"
   },
   {
    "duration": 311,
    "start_time": "2022-02-05T16:04:21.060Z"
   },
   {
    "duration": 638,
    "start_time": "2022-02-05T16:04:45.607Z"
   },
   {
    "duration": 354,
    "start_time": "2022-02-05T16:05:40.437Z"
   },
   {
    "duration": 170,
    "start_time": "2022-02-05T16:06:27.907Z"
   },
   {
    "duration": 7,
    "start_time": "2022-02-05T16:07:11.987Z"
   },
   {
    "duration": 3854,
    "start_time": "2022-02-05T16:08:47.527Z"
   },
   {
    "duration": 6,
    "start_time": "2022-02-05T16:14:48.125Z"
   },
   {
    "duration": 180,
    "start_time": "2022-02-05T16:14:52.127Z"
   },
   {
    "duration": 182,
    "start_time": "2022-02-05T16:15:15.717Z"
   },
   {
    "duration": 340,
    "start_time": "2022-02-05T16:16:52.275Z"
   },
   {
    "duration": 1993,
    "start_time": "2022-02-05T16:17:39.600Z"
   },
   {
    "duration": 125,
    "start_time": "2022-02-05T16:17:41.596Z"
   },
   {
    "duration": 1400,
    "start_time": "2022-02-05T16:17:41.724Z"
   },
   {
    "duration": 114,
    "start_time": "2022-02-05T16:17:43.127Z"
   },
   {
    "duration": 27,
    "start_time": "2022-02-05T16:17:43.244Z"
   },
   {
    "duration": 11,
    "start_time": "2022-02-05T16:17:43.274Z"
   },
   {
    "duration": 58328,
    "start_time": "2022-02-05T16:17:43.288Z"
   },
   {
    "duration": 21,
    "start_time": "2022-02-05T16:18:41.621Z"
   },
   {
    "duration": 56830,
    "start_time": "2022-02-05T16:18:41.645Z"
   },
   {
    "duration": 94,
    "start_time": "2022-02-05T16:19:38.477Z"
   },
   {
    "duration": 8,
    "start_time": "2022-02-05T16:19:38.573Z"
   },
   {
    "duration": 21,
    "start_time": "2022-02-05T16:19:38.583Z"
   },
   {
    "duration": 989,
    "start_time": "2022-02-05T16:19:38.606Z"
   },
   {
    "duration": 40,
    "start_time": "2022-02-05T16:19:39.598Z"
   },
   {
    "duration": 78,
    "start_time": "2022-02-05T16:19:39.641Z"
   },
   {
    "duration": 2298,
    "start_time": "2022-02-05T16:19:39.721Z"
   },
   {
    "duration": 76,
    "start_time": "2022-02-05T16:19:42.022Z"
   },
   {
    "duration": 25,
    "start_time": "2022-02-05T16:19:42.101Z"
   },
   {
    "duration": 48,
    "start_time": "2022-02-05T16:19:42.129Z"
   },
   {
    "duration": 293,
    "start_time": "2022-02-05T16:19:42.179Z"
   },
   {
    "duration": 102,
    "start_time": "2022-02-05T16:19:42.475Z"
   },
   {
    "duration": -684,
    "start_time": "2022-02-05T16:19:43.265Z"
   },
   {
    "duration": 2346,
    "start_time": "2022-02-05T16:23:57.063Z"
   },
   {
    "duration": 517,
    "start_time": "2022-02-05T16:24:00.533Z"
   },
   {
    "duration": 426,
    "start_time": "2022-02-05T16:24:42.047Z"
   },
   {
    "duration": 328,
    "start_time": "2022-02-05T16:25:04.413Z"
   },
   {
    "duration": 2165,
    "start_time": "2022-02-05T16:31:56.954Z"
   },
   {
    "duration": 6,
    "start_time": "2022-02-05T16:53:11.083Z"
   },
   {
    "duration": 25,
    "start_time": "2022-02-05T17:25:13.812Z"
   },
   {
    "duration": 39,
    "start_time": "2022-02-05T17:25:22.120Z"
   },
   {
    "duration": 46,
    "start_time": "2022-02-05T17:25:49.833Z"
   },
   {
    "duration": 80,
    "start_time": "2022-02-05T17:25:54.734Z"
   },
   {
    "duration": 61,
    "start_time": "2022-02-05T17:26:03.883Z"
   },
   {
    "duration": 425,
    "start_time": "2022-02-05T17:46:50.102Z"
   },
   {
    "duration": 30,
    "start_time": "2022-02-05T17:47:09.163Z"
   },
   {
    "duration": 28,
    "start_time": "2022-02-05T17:47:25.492Z"
   },
   {
    "duration": 2203,
    "start_time": "2022-02-05T17:55:56.143Z"
   },
   {
    "duration": 2109,
    "start_time": "2022-02-05T17:58:59.603Z"
   },
   {
    "duration": 2586,
    "start_time": "2022-02-05T18:05:41.533Z"
   },
   {
    "duration": 1170,
    "start_time": "2022-02-12T16:56:41.234Z"
   },
   {
    "duration": 67,
    "start_time": "2022-02-12T16:56:42.406Z"
   },
   {
    "duration": 744,
    "start_time": "2022-02-12T16:56:45.617Z"
   },
   {
    "duration": 17,
    "start_time": "2022-02-12T17:00:50.682Z"
   },
   {
    "duration": 182,
    "start_time": "2022-02-13T20:19:37.866Z"
   },
   {
    "duration": 1399,
    "start_time": "2022-02-13T20:19:48.925Z"
   },
   {
    "duration": 74,
    "start_time": "2022-02-13T20:19:50.326Z"
   },
   {
    "duration": 795,
    "start_time": "2022-02-13T20:19:50.402Z"
   },
   {
    "duration": 74,
    "start_time": "2022-02-13T20:19:51.199Z"
   },
   {
    "duration": 5,
    "start_time": "2022-02-13T20:19:51.275Z"
   },
   {
    "duration": 1431,
    "start_time": "2022-02-14T18:50:28.389Z"
   },
   {
    "duration": 84,
    "start_time": "2022-02-14T18:50:29.823Z"
   },
   {
    "duration": 260,
    "start_time": "2022-02-14T18:50:29.910Z"
   },
   {
    "duration": 179,
    "start_time": "2022-02-14T18:50:30.173Z"
   },
   {
    "duration": 10,
    "start_time": "2022-02-14T18:50:30.355Z"
   },
   {
    "duration": 1520,
    "start_time": "2022-02-14T18:50:39.252Z"
   },
   {
    "duration": 84,
    "start_time": "2022-02-14T18:52:10.482Z"
   },
   {
    "duration": 115,
    "start_time": "2022-02-14T18:54:26.386Z"
   },
   {
    "duration": 249,
    "start_time": "2022-02-14T18:54:41.010Z"
   },
   {
    "duration": 255,
    "start_time": "2022-02-14T18:54:59.319Z"
   },
   {
    "duration": 1279,
    "start_time": "2022-02-14T18:55:45.091Z"
   },
   {
    "duration": 1327,
    "start_time": "2022-02-14T18:56:35.887Z"
   },
   {
    "duration": 18,
    "start_time": "2022-02-14T18:57:49.507Z"
   },
   {
    "duration": 267,
    "start_time": "2022-02-14T19:04:46.818Z"
   },
   {
    "duration": 8,
    "start_time": "2022-02-14T19:04:52.114Z"
   },
   {
    "duration": 16,
    "start_time": "2022-02-14T19:05:24.394Z"
   },
   {
    "duration": 9,
    "start_time": "2022-02-14T19:13:41.229Z"
   },
   {
    "duration": 246,
    "start_time": "2022-02-14T19:14:08.557Z"
   },
   {
    "duration": 10,
    "start_time": "2022-02-14T19:15:14.313Z"
   },
   {
    "duration": 8,
    "start_time": "2022-02-14T19:15:23.032Z"
   },
   {
    "duration": 6,
    "start_time": "2022-02-14T19:35:43.429Z"
   },
   {
    "duration": 6,
    "start_time": "2022-02-14T19:36:00.317Z"
   },
   {
    "duration": 248,
    "start_time": "2022-02-14T19:44:44.494Z"
   },
   {
    "duration": 269,
    "start_time": "2022-02-14T19:45:16.374Z"
   },
   {
    "duration": 7,
    "start_time": "2022-02-14T19:46:02.320Z"
   },
   {
    "duration": 5,
    "start_time": "2022-02-14T19:49:03.200Z"
   },
   {
    "duration": 262,
    "start_time": "2022-02-14T19:49:21.997Z"
   },
   {
    "duration": 4,
    "start_time": "2022-02-14T19:49:50.907Z"
   },
   {
    "duration": 37,
    "start_time": "2022-02-14T19:49:58.658Z"
   },
   {
    "duration": 9,
    "start_time": "2022-02-14T19:50:17.319Z"
   },
   {
    "duration": 11,
    "start_time": "2022-02-14T19:50:51.501Z"
   },
   {
    "duration": 8,
    "start_time": "2022-02-14T19:51:28.156Z"
   },
   {
    "duration": 9,
    "start_time": "2022-02-14T19:52:22.325Z"
   },
   {
    "duration": 9,
    "start_time": "2022-02-14T19:54:08.310Z"
   },
   {
    "duration": 102,
    "start_time": "2022-02-14T19:56:12.156Z"
   },
   {
    "duration": 314,
    "start_time": "2022-02-14T19:56:29.014Z"
   },
   {
    "duration": 1451,
    "start_time": "2022-02-14T19:56:39.241Z"
   },
   {
    "duration": 89,
    "start_time": "2022-02-14T19:56:40.695Z"
   },
   {
    "duration": 267,
    "start_time": "2022-02-14T19:56:40.788Z"
   },
   {
    "duration": 99,
    "start_time": "2022-02-14T19:56:45.601Z"
   },
   {
    "duration": 97,
    "start_time": "2022-02-14T19:58:35.267Z"
   },
   {
    "duration": 164,
    "start_time": "2022-02-14T19:58:46.447Z"
   },
   {
    "duration": 94,
    "start_time": "2022-02-14T19:59:25.167Z"
   },
   {
    "duration": 187,
    "start_time": "2022-02-14T20:00:47.050Z"
   },
   {
    "duration": 4,
    "start_time": "2022-02-14T20:01:11.523Z"
   },
   {
    "duration": 94,
    "start_time": "2022-02-14T20:01:11.531Z"
   },
   {
    "duration": 266,
    "start_time": "2022-02-14T20:01:11.628Z"
   },
   {
    "duration": 272,
    "start_time": "2022-02-14T20:01:14.515Z"
   },
   {
    "duration": 313,
    "start_time": "2022-02-14T20:05:32.644Z"
   },
   {
    "duration": 8,
    "start_time": "2022-02-14T20:05:46.066Z"
   },
   {
    "duration": 113,
    "start_time": "2022-02-14T20:07:16.070Z"
   },
   {
    "duration": 7,
    "start_time": "2022-02-14T20:07:22.743Z"
   },
   {
    "duration": 7,
    "start_time": "2022-02-14T20:07:26.514Z"
   },
   {
    "duration": 3,
    "start_time": "2022-02-14T20:08:44.037Z"
   },
   {
    "duration": 86,
    "start_time": "2022-02-14T20:08:44.043Z"
   },
   {
    "duration": 255,
    "start_time": "2022-02-14T20:08:44.132Z"
   },
   {
    "duration": 7,
    "start_time": "2022-02-14T20:08:47.511Z"
   },
   {
    "duration": 1657,
    "start_time": "2022-02-14T20:09:14.791Z"
   },
   {
    "duration": 98,
    "start_time": "2022-02-14T20:09:16.452Z"
   },
   {
    "duration": 297,
    "start_time": "2022-02-14T20:09:16.553Z"
   },
   {
    "duration": 135,
    "start_time": "2022-02-14T20:09:21.509Z"
   },
   {
    "duration": 8,
    "start_time": "2022-02-14T20:09:29.700Z"
   },
   {
    "duration": 187,
    "start_time": "2022-02-14T20:24:15.884Z"
   },
   {
    "duration": 349,
    "start_time": "2022-02-14T20:25:57.702Z"
   },
   {
    "duration": 194,
    "start_time": "2022-02-14T20:26:31.260Z"
   },
   {
    "duration": 7,
    "start_time": "2022-02-14T20:26:34.949Z"
   },
   {
    "duration": 180,
    "start_time": "2022-02-14T20:28:57.781Z"
   },
   {
    "duration": 1389,
    "start_time": "2022-02-14T20:29:43.561Z"
   },
   {
    "duration": 89,
    "start_time": "2022-02-14T20:29:44.953Z"
   },
   {
    "duration": 225,
    "start_time": "2022-02-14T20:29:45.049Z"
   },
   {
    "duration": 277,
    "start_time": "2022-02-14T20:29:56.572Z"
   },
   {
    "duration": 8,
    "start_time": "2022-02-14T20:30:08.852Z"
   },
   {
    "duration": 294,
    "start_time": "2022-02-14T20:31:03.957Z"
   },
   {
    "duration": 9,
    "start_time": "2022-02-14T20:31:14.799Z"
   },
   {
    "duration": 7,
    "start_time": "2022-02-14T20:32:39.285Z"
   },
   {
    "duration": 1422,
    "start_time": "2022-02-14T20:33:13.896Z"
   },
   {
    "duration": 88,
    "start_time": "2022-02-14T20:33:15.321Z"
   },
   {
    "duration": 253,
    "start_time": "2022-02-14T20:33:15.412Z"
   },
   {
    "duration": 290,
    "start_time": "2022-02-14T20:33:26.586Z"
   },
   {
    "duration": 8,
    "start_time": "2022-02-14T20:33:36.845Z"
   },
   {
    "duration": 46,
    "start_time": "2022-02-14T20:34:08.508Z"
   },
   {
    "duration": 194,
    "start_time": "2022-02-14T20:35:26.702Z"
   },
   {
    "duration": 1666,
    "start_time": "2022-02-14T20:36:35.745Z"
   },
   {
    "duration": 120,
    "start_time": "2022-02-14T20:36:37.414Z"
   },
   {
    "duration": 241,
    "start_time": "2022-02-14T20:36:37.538Z"
   },
   {
    "duration": 282,
    "start_time": "2022-02-14T20:36:42.580Z"
   },
   {
    "duration": 52,
    "start_time": "2022-02-14T20:36:48.831Z"
   },
   {
    "duration": 95,
    "start_time": "2022-02-15T17:11:16.836Z"
   },
   {
    "duration": 1457,
    "start_time": "2022-02-15T17:38:53.366Z"
   },
   {
    "duration": 85,
    "start_time": "2022-02-15T17:38:54.826Z"
   },
   {
    "duration": 259,
    "start_time": "2022-02-15T17:38:54.914Z"
   },
   {
    "duration": 443,
    "start_time": "2022-02-15T17:38:55.178Z"
   },
   {
    "duration": 53,
    "start_time": "2022-02-15T17:38:55.624Z"
   },
   {
    "duration": 11,
    "start_time": "2022-02-15T17:38:55.680Z"
   },
   {
    "duration": 44,
    "start_time": "2022-02-15T17:38:55.694Z"
   },
   {
    "duration": 56831,
    "start_time": "2022-02-15T17:38:55.740Z"
   },
   {
    "duration": 22,
    "start_time": "2022-02-15T17:39:52.575Z"
   },
   {
    "duration": 96,
    "start_time": "2022-02-15T17:39:52.601Z"
   },
   {
    "duration": 8,
    "start_time": "2022-02-15T17:39:52.700Z"
   },
   {
    "duration": 37,
    "start_time": "2022-02-15T17:39:52.711Z"
   },
   {
    "duration": 989,
    "start_time": "2022-02-15T17:39:52.750Z"
   },
   {
    "duration": 43,
    "start_time": "2022-02-15T17:39:53.741Z"
   },
   {
    "duration": 6,
    "start_time": "2022-02-15T17:39:53.787Z"
   },
   {
    "duration": 2343,
    "start_time": "2022-02-15T17:39:53.796Z"
   },
   {
    "duration": 59,
    "start_time": "2022-02-15T17:39:56.141Z"
   },
   {
    "duration": 53,
    "start_time": "2022-02-15T17:39:56.203Z"
   },
   {
    "duration": 34,
    "start_time": "2022-02-15T17:39:56.259Z"
   },
   {
    "duration": 328,
    "start_time": "2022-02-15T17:39:56.296Z"
   },
   {
    "duration": 2456,
    "start_time": "2022-02-15T17:39:56.627Z"
   },
   {
    "duration": 3,
    "start_time": "2022-02-15T17:39:59.085Z"
   },
   {
    "duration": 445,
    "start_time": "2022-02-15T17:42:33.323Z"
   },
   {
    "duration": 331,
    "start_time": "2022-02-15T17:43:45.409Z"
   },
   {
    "duration": 291,
    "start_time": "2022-02-15T17:45:49.664Z"
   },
   {
    "duration": 395,
    "start_time": "2022-02-15T17:46:04.505Z"
   },
   {
    "duration": 274,
    "start_time": "2022-02-15T17:51:28.076Z"
   },
   {
    "duration": 620,
    "start_time": "2022-02-15T17:51:58.712Z"
   },
   {
    "duration": 1467,
    "start_time": "2022-02-16T08:42:56.320Z"
   },
   {
    "duration": 95,
    "start_time": "2022-02-16T08:42:57.790Z"
   },
   {
    "duration": 237,
    "start_time": "2022-02-16T08:42:57.888Z"
   },
   {
    "duration": 314,
    "start_time": "2022-02-16T08:42:58.128Z"
   },
   {
    "duration": 45,
    "start_time": "2022-02-16T08:42:58.444Z"
   },
   {
    "duration": 11,
    "start_time": "2022-02-16T08:42:58.511Z"
   },
   {
    "duration": 10,
    "start_time": "2022-02-16T08:42:58.524Z"
   },
   {
    "duration": 51998,
    "start_time": "2022-02-16T08:42:58.537Z"
   },
   {
    "duration": 20,
    "start_time": "2022-02-16T08:43:50.538Z"
   },
   {
    "duration": 109,
    "start_time": "2022-02-16T08:43:50.561Z"
   },
   {
    "duration": 6,
    "start_time": "2022-02-16T08:43:50.673Z"
   },
   {
    "duration": 37,
    "start_time": "2022-02-16T08:43:50.682Z"
   },
   {
    "duration": 966,
    "start_time": "2022-02-16T08:43:50.722Z"
   },
   {
    "duration": 54,
    "start_time": "2022-02-16T08:43:51.690Z"
   },
   {
    "duration": 4,
    "start_time": "2022-02-16T08:43:51.747Z"
   },
   {
    "duration": 2389,
    "start_time": "2022-02-16T08:43:51.753Z"
   },
   {
    "duration": 75,
    "start_time": "2022-02-16T08:43:54.144Z"
   },
   {
    "duration": 27,
    "start_time": "2022-02-16T08:43:54.221Z"
   },
   {
    "duration": 30,
    "start_time": "2022-02-16T08:43:54.250Z"
   },
   {
    "duration": 328,
    "start_time": "2022-02-16T08:43:54.282Z"
   },
   {
    "duration": 274,
    "start_time": "2022-02-16T08:43:54.613Z"
   },
   {
    "duration": 2554,
    "start_time": "2022-02-16T08:43:54.889Z"
   },
   {
    "duration": 843,
    "start_time": "2022-02-16T08:44:04.801Z"
   },
   {
    "duration": 1823,
    "start_time": "2022-03-25T19:49:11.797Z"
   },
   {
    "duration": 114,
    "start_time": "2022-03-25T19:49:13.623Z"
   },
   {
    "duration": 276,
    "start_time": "2022-03-25T19:49:13.739Z"
   },
   {
    "duration": 329,
    "start_time": "2022-03-25T19:49:14.017Z"
   },
   {
    "duration": 47,
    "start_time": "2022-03-25T19:49:14.349Z"
   },
   {
    "duration": 9,
    "start_time": "2022-03-25T19:49:14.398Z"
   },
   {
    "duration": 10,
    "start_time": "2022-03-25T19:49:14.409Z"
   },
   {
    "duration": 45708,
    "start_time": "2022-03-25T19:49:14.420Z"
   },
   {
    "duration": 21,
    "start_time": "2022-03-25T19:50:00.130Z"
   },
   {
    "duration": 74,
    "start_time": "2022-03-25T19:50:00.170Z"
   },
   {
    "duration": 31,
    "start_time": "2022-03-25T19:50:00.246Z"
   },
   {
    "duration": 31,
    "start_time": "2022-03-25T19:50:00.280Z"
   },
   {
    "duration": 583,
    "start_time": "2022-03-25T19:50:00.313Z"
   },
   {
    "duration": 38,
    "start_time": "2022-03-25T19:50:00.900Z"
   },
   {
    "duration": 34,
    "start_time": "2022-03-25T19:50:00.940Z"
   },
   {
    "duration": 1723,
    "start_time": "2022-03-25T19:50:00.978Z"
   },
   {
    "duration": 82,
    "start_time": "2022-03-25T19:50:02.703Z"
   },
   {
    "duration": 16,
    "start_time": "2022-03-25T19:50:02.787Z"
   },
   {
    "duration": 137,
    "start_time": "2022-03-25T19:50:02.805Z"
   },
   {
    "duration": 259,
    "start_time": "2022-03-25T19:50:02.945Z"
   },
   {
    "duration": 188,
    "start_time": "2022-03-25T19:50:03.207Z"
   },
   {
    "duration": 0,
    "start_time": "2022-03-25T19:50:03.398Z"
   },
   {
    "duration": 0,
    "start_time": "2022-03-25T19:50:03.400Z"
   },
   {
    "duration": 42,
    "start_time": "2022-03-25T19:56:46.448Z"
   },
   {
    "duration": 16,
    "start_time": "2022-03-25T19:56:50.395Z"
   },
   {
    "duration": 14,
    "start_time": "2022-03-25T19:57:19.005Z"
   },
   {
    "duration": 264,
    "start_time": "2022-03-25T19:57:33.145Z"
   },
   {
    "duration": 21,
    "start_time": "2022-03-25T20:00:31.916Z"
   },
   {
    "duration": 37,
    "start_time": "2022-03-25T20:00:45.556Z"
   },
   {
    "duration": 316,
    "start_time": "2022-03-25T20:00:53.788Z"
   },
   {
    "duration": 16,
    "start_time": "2022-03-25T20:03:14.544Z"
   },
   {
    "duration": 6,
    "start_time": "2022-03-25T20:05:47.332Z"
   },
   {
    "duration": 19,
    "start_time": "2022-03-25T20:06:13.416Z"
   },
   {
    "duration": 209,
    "start_time": "2022-03-25T20:16:35.656Z"
   },
   {
    "duration": 4,
    "start_time": "2022-03-25T20:17:39.659Z"
   },
   {
    "duration": 4,
    "start_time": "2022-03-25T20:17:43.655Z"
   },
   {
    "duration": 120,
    "start_time": "2022-03-25T20:17:43.662Z"
   },
   {
    "duration": 249,
    "start_time": "2022-03-25T20:17:43.785Z"
   },
   {
    "duration": 315,
    "start_time": "2022-03-25T20:17:44.068Z"
   },
   {
    "duration": 38,
    "start_time": "2022-03-25T20:17:44.386Z"
   },
   {
    "duration": 7,
    "start_time": "2022-03-25T20:17:44.426Z"
   },
   {
    "duration": 16,
    "start_time": "2022-03-25T20:17:44.468Z"
   },
   {
    "duration": 45593,
    "start_time": "2022-03-25T20:17:44.486Z"
   },
   {
    "duration": 23,
    "start_time": "2022-03-25T20:18:30.081Z"
   },
   {
    "duration": 107,
    "start_time": "2022-03-25T20:18:30.107Z"
   },
   {
    "duration": 8,
    "start_time": "2022-03-25T20:18:30.216Z"
   },
   {
    "duration": 25,
    "start_time": "2022-03-25T20:18:30.226Z"
   },
   {
    "duration": 556,
    "start_time": "2022-03-25T20:18:30.273Z"
   },
   {
    "duration": 63,
    "start_time": "2022-03-25T20:18:30.835Z"
   },
   {
    "duration": 6,
    "start_time": "2022-03-25T20:18:30.900Z"
   },
   {
    "duration": 1819,
    "start_time": "2022-03-25T20:18:30.909Z"
   },
   {
    "duration": 86,
    "start_time": "2022-03-25T20:18:32.730Z"
   },
   {
    "duration": 17,
    "start_time": "2022-03-25T20:18:32.819Z"
   },
   {
    "duration": 59,
    "start_time": "2022-03-25T20:18:32.838Z"
   },
   {
    "duration": 270,
    "start_time": "2022-03-25T20:18:32.900Z"
   },
   {
    "duration": 272,
    "start_time": "2022-03-25T20:18:33.173Z"
   },
   {
    "duration": 1790,
    "start_time": "2022-03-25T20:18:33.448Z"
   },
   {
    "duration": 104,
    "start_time": "2022-03-25T20:18:35.241Z"
   }
  ],
  "kernelspec": {
   "display_name": "Python 3 (ipykernel)",
   "language": "python",
   "name": "python3"
  },
  "language_info": {
   "codemirror_mode": {
    "name": "ipython",
    "version": 3
   },
   "file_extension": ".py",
   "mimetype": "text/x-python",
   "name": "python",
   "nbconvert_exporter": "python",
   "pygments_lexer": "ipython3",
   "version": "3.9.5"
  },
  "toc": {
   "base_numbering": 1,
   "nav_menu": {},
   "number_sections": true,
   "sideBar": true,
   "skip_h1_title": true,
   "title_cell": "Содержание",
   "title_sidebar": "Contents",
   "toc_cell": true,
   "toc_position": {},
   "toc_section_display": true,
   "toc_window_display": true
  }
 },
 "nbformat": 4,
 "nbformat_minor": 2
}
