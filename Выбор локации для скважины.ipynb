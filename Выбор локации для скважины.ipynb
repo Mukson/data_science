{
 "cells": [
  {
   "cell_type": "markdown",
   "metadata": {},
   "source": [
    "# Выбор локации для скважины"
   ]
  },
  {
   "cell_type": "markdown",
   "metadata": {},
   "source": [
    "Допустим, вы работаете в добывающей компании «ГлавРосГосНефть». Нужно решить, где бурить новую скважину.\n",
    "\n",
    "Вам предоставлены пробы нефти в трёх регионах: в каждом 10 000 месторождений, где измерили качество нефти и объём её запасов. Постройте модель машинного обучения, которая поможет определить регион, где добыча принесёт наибольшую прибыль. Проанализируйте возможную прибыль и риски техникой *Bootstrap.*\n",
    "\n",
    "Шаги для выбора локации:\n",
    "\n",
    "- В избранном регионе ищут месторождения, для каждого определяют значения признаков;\n",
    "- Строят модель и оценивают объём запасов;\n",
    "- Выбирают месторождения с самым высокими оценками значений. Количество месторождений зависит от бюджета компании и стоимости разработки одной скважины;\n",
    "- Прибыль равна суммарной прибыли отобранных месторождений."
   ]
  },
  {
   "cell_type": "markdown",
   "metadata": {},
   "source": [
    "Допустим, вы работаете в добывающей компании «ГлавРосГосНефть». Нужно решить, где бурить новую скважину.\n",
    "\n",
    "Шаги для выбора локации обычно такие:\n",
    "\n",
    "    В избранном регионе собирают характеристики для скважин: качество нефти и объём её запасов;\n",
    "    Строят модель для предсказания объёма запасов в новых скважинах;\n",
    "    Выбирают скважины с самыми высокими оценками значений;\n",
    "    Определяют регион с максимальной суммарной прибылью отобранных скважин.\n",
    "\n",
    "Вам предоставлены пробы нефти в трёх регионах. Характеристики для каждой скважины в регионе уже известны. Постройте модель для определения региона, где добыча принесёт наибольшую прибыль. Проанализируйте возможную прибыль и риски техникой Bootstrap.\n",
    "\n",
    "Инструкция по выполнению проекта\n",
    "    Загрузите и подготовьте данные. Поясните порядок действий.\n",
    "\n",
    "Обучите и проверьте модель для каждого региона:\n",
    "\n",
    "    2.1. Разбейте данные на обучающую и валидационную выборки в соотношении 75:25.\n",
    "    2.2. Обучите модель и сделайте предсказания на валидационной выборке.\n",
    "    2.3. Сохраните предсказания и правильные ответы на валидационной выборке.\n",
    "    2.4. Напечатайте на экране средний запас предсказанного сырья и RMSE модели.\n",
    "    2.5. Проанализируйте результаты.\n",
    "\n",
    "Подготовьтесь к расчёту прибыли:\n",
    "\n",
    "    3.1. Все ключевые значения для расчётов сохраните в отдельных переменных.\n",
    "    3.2. Рассчитайте достаточный объём сырья для безубыточной разработки новой скважины. Сравните полученный объём сырья со средним запасом в каждом регионе.\n",
    "    3.3. Напишите выводы по этапу подготовки расчёта прибыли.\n",
    "\n",
    "Напишите функцию для расчёта прибыли по выбранным скважинам и предсказаниям модели:\n",
    "\n",
    "    4.1. Выберите скважины с максимальными значениями предсказаний.\n",
    "    4.2. Просуммируйте целевое значение объёма сырья, соответствующее этим предсказаниям.\n",
    "    4.3. Рассчитайте прибыль для полученного объёма сырья.\n",
    "\n",
    "Посчитайте риски и прибыль для каждого региона:\n",
    "\n",
    "    5.1. Примените технику Bootstrap с 1000 выборок, чтобы найти распределение прибыли.\n",
    "    5.2. Найдите среднюю прибыль, 95%-й доверительный интервал и риск убытков. Убыток — это отрицательная прибыль.\n",
    "    5.3. Напишите выводы: предложите регион для разработки скважин и обоснуйте выбор.\n",
    "\n"
   ]
  },
  {
   "cell_type": "markdown",
   "metadata": {},
   "source": [
    "### Описание данных\n",
    "Данные геологоразведки трёх регионов находятся в файлах:\n",
    "\n",
    "    /datasets/geo_data_0.csv. Скачать датасет\n",
    "    /datasets/geo_data_1.csv. Скачать датасет\n",
    "    /datasets/geo_data_2.csv. Скачать датасет\n",
    "\n",
    "* id — уникальный идентификатор скважины;\n",
    "* f0, f1, f2 — три признака точек (неважно, что они означают, но сами признаки значимы);\n",
    "* product — объём запасов в скважине (тыс. баррелей).\n",
    "\n",
    "Условия задачи:\n",
    "\n",
    "    Для обучения модели подходит только линейная регрессия (остальные — недостаточно предсказуемые).\n",
    "    При разведке региона исследуют 500 точек, из которых с помощью машинного обучения выбирают 200 лучших для разработки.\n",
    "    Бюджет на разработку скважин в регионе — 10 млрд рублей.\n",
    "    При нынешних ценах один баррель сырья приносит 450 рублей дохода. Доход с каждой единицы продукта составляет 450 тыс. рублей, поскольку объём указан в тысячах баррелей.\n",
    "    После оценки рисков нужно оставить лишь те регионы, в которых вероятность убытков меньше 2.5%. Среди них выбирают регион с наибольшей средней прибылью.\n",
    "\n",
    "Данные синтетические: детали контрактов и характеристики месторождений не разглашаются."
   ]
  },
  {
   "cell_type": "markdown",
   "metadata": {},
   "source": [
    "## Загрузка и подготовка данных"
   ]
  },
  {
   "cell_type": "code",
   "execution_count": 1,
   "metadata": {},
   "outputs": [],
   "source": [
    "import pandas as pd\n",
    "import seaborn as sns\n",
    "import numpy as np\n",
    "import matplotlib.pyplot as plt\n",
    "from scipy import stats as st\n",
    "from sklearn.model_selection import train_test_split\n",
    "from sklearn.preprocessing import StandardScaler\n",
    "from sklearn.metrics import classification_report, accuracy_score, confusion_matrix, roc_auc_score, roc_curve, recall_score, precision_score,f1_score, mean_squared_error\n",
    "from sklearn.linear_model import LogisticRegression, LinearRegression \n",
    "from sklearn.utils import shuffle\n",
    "#from sklearn.tree import DecisionTreeClassifier\n",
    "#from sklearn.ensemble import RandomForestClassifier, RandomForestRegressor"
   ]
  },
  {
   "cell_type": "code",
   "execution_count": 2,
   "metadata": {},
   "outputs": [],
   "source": [
    "geo_0  = pd.read_csv('/datasets/geo_data_0.csv')\n",
    "geo_1  = pd.read_csv('/datasets/geo_data_1.csv')\n",
    "geo_2  = pd.read_csv('/datasets/geo_data_2.csv')"
   ]
  },
  {
   "cell_type": "code",
   "execution_count": 3,
   "metadata": {},
   "outputs": [],
   "source": [
    "def explore_data(df):\n",
    "    display(\n",
    "        \"Сводная информация:\", df.info(),\n",
    "        \"10 строк:\", df.head(10),\n",
    "        \"Столбцы:\", df.columns,\n",
    "        \"Числовое описание:\", df.describe(),\n",
    "        \"Сумма пропусков:\", df.isna().sum(),\n",
    "        \"Доля пропусков:\", df.isna().mean(),\n",
    "        \"Явные дубликаты:\", df.duplicated().sum(),\n",
    "        \"Корреляция:\", df.corr(),\n",
    "        sns.heatmap(df.corr())\n",
    "    )"
   ]
  },
  {
   "cell_type": "code",
   "execution_count": 4,
   "metadata": {
    "scrolled": true
   },
   "outputs": [
    {
     "name": "stdout",
     "output_type": "stream",
     "text": [
      "<class 'pandas.core.frame.DataFrame'>\n",
      "RangeIndex: 100000 entries, 0 to 99999\n",
      "Data columns (total 5 columns):\n",
      " #   Column   Non-Null Count   Dtype  \n",
      "---  ------   --------------   -----  \n",
      " 0   id       100000 non-null  object \n",
      " 1   f0       100000 non-null  float64\n",
      " 2   f1       100000 non-null  float64\n",
      " 3   f2       100000 non-null  float64\n",
      " 4   product  100000 non-null  float64\n",
      "dtypes: float64(4), object(1)\n",
      "memory usage: 3.8+ MB\n"
     ]
    },
    {
     "data": {
      "text/plain": [
       "'Сводная информация:'"
      ]
     },
     "metadata": {},
     "output_type": "display_data"
    },
    {
     "data": {
      "text/plain": [
       "None"
      ]
     },
     "metadata": {},
     "output_type": "display_data"
    },
    {
     "data": {
      "text/plain": [
       "'10 строк:'"
      ]
     },
     "metadata": {},
     "output_type": "display_data"
    },
    {
     "data": {
      "text/html": [
       "<div>\n",
       "<style scoped>\n",
       "    .dataframe tbody tr th:only-of-type {\n",
       "        vertical-align: middle;\n",
       "    }\n",
       "\n",
       "    .dataframe tbody tr th {\n",
       "        vertical-align: top;\n",
       "    }\n",
       "\n",
       "    .dataframe thead th {\n",
       "        text-align: right;\n",
       "    }\n",
       "</style>\n",
       "<table border=\"1\" class=\"dataframe\">\n",
       "  <thead>\n",
       "    <tr style=\"text-align: right;\">\n",
       "      <th></th>\n",
       "      <th>id</th>\n",
       "      <th>f0</th>\n",
       "      <th>f1</th>\n",
       "      <th>f2</th>\n",
       "      <th>product</th>\n",
       "    </tr>\n",
       "  </thead>\n",
       "  <tbody>\n",
       "    <tr>\n",
       "      <th>0</th>\n",
       "      <td>txEyH</td>\n",
       "      <td>0.705745</td>\n",
       "      <td>-0.497823</td>\n",
       "      <td>1.221170</td>\n",
       "      <td>105.280062</td>\n",
       "    </tr>\n",
       "    <tr>\n",
       "      <th>1</th>\n",
       "      <td>2acmU</td>\n",
       "      <td>1.334711</td>\n",
       "      <td>-0.340164</td>\n",
       "      <td>4.365080</td>\n",
       "      <td>73.037750</td>\n",
       "    </tr>\n",
       "    <tr>\n",
       "      <th>2</th>\n",
       "      <td>409Wp</td>\n",
       "      <td>1.022732</td>\n",
       "      <td>0.151990</td>\n",
       "      <td>1.419926</td>\n",
       "      <td>85.265647</td>\n",
       "    </tr>\n",
       "    <tr>\n",
       "      <th>3</th>\n",
       "      <td>iJLyR</td>\n",
       "      <td>-0.032172</td>\n",
       "      <td>0.139033</td>\n",
       "      <td>2.978566</td>\n",
       "      <td>168.620776</td>\n",
       "    </tr>\n",
       "    <tr>\n",
       "      <th>4</th>\n",
       "      <td>Xdl7t</td>\n",
       "      <td>1.988431</td>\n",
       "      <td>0.155413</td>\n",
       "      <td>4.751769</td>\n",
       "      <td>154.036647</td>\n",
       "    </tr>\n",
       "    <tr>\n",
       "      <th>5</th>\n",
       "      <td>wX4Hy</td>\n",
       "      <td>0.969570</td>\n",
       "      <td>0.489775</td>\n",
       "      <td>-0.735383</td>\n",
       "      <td>64.741541</td>\n",
       "    </tr>\n",
       "    <tr>\n",
       "      <th>6</th>\n",
       "      <td>tL6pL</td>\n",
       "      <td>0.645075</td>\n",
       "      <td>0.530656</td>\n",
       "      <td>1.780266</td>\n",
       "      <td>49.055285</td>\n",
       "    </tr>\n",
       "    <tr>\n",
       "      <th>7</th>\n",
       "      <td>BYPU6</td>\n",
       "      <td>-0.400648</td>\n",
       "      <td>0.808337</td>\n",
       "      <td>-5.624670</td>\n",
       "      <td>72.943292</td>\n",
       "    </tr>\n",
       "    <tr>\n",
       "      <th>8</th>\n",
       "      <td>j9Oui</td>\n",
       "      <td>0.643105</td>\n",
       "      <td>-0.551583</td>\n",
       "      <td>2.372141</td>\n",
       "      <td>113.356160</td>\n",
       "    </tr>\n",
       "    <tr>\n",
       "      <th>9</th>\n",
       "      <td>OLuZU</td>\n",
       "      <td>2.173381</td>\n",
       "      <td>0.563698</td>\n",
       "      <td>9.441852</td>\n",
       "      <td>127.910945</td>\n",
       "    </tr>\n",
       "  </tbody>\n",
       "</table>\n",
       "</div>"
      ],
      "text/plain": [
       "      id        f0        f1        f2     product\n",
       "0  txEyH  0.705745 -0.497823  1.221170  105.280062\n",
       "1  2acmU  1.334711 -0.340164  4.365080   73.037750\n",
       "2  409Wp  1.022732  0.151990  1.419926   85.265647\n",
       "3  iJLyR -0.032172  0.139033  2.978566  168.620776\n",
       "4  Xdl7t  1.988431  0.155413  4.751769  154.036647\n",
       "5  wX4Hy  0.969570  0.489775 -0.735383   64.741541\n",
       "6  tL6pL  0.645075  0.530656  1.780266   49.055285\n",
       "7  BYPU6 -0.400648  0.808337 -5.624670   72.943292\n",
       "8  j9Oui  0.643105 -0.551583  2.372141  113.356160\n",
       "9  OLuZU  2.173381  0.563698  9.441852  127.910945"
      ]
     },
     "metadata": {},
     "output_type": "display_data"
    },
    {
     "data": {
      "text/plain": [
       "'Столбцы:'"
      ]
     },
     "metadata": {},
     "output_type": "display_data"
    },
    {
     "data": {
      "text/plain": [
       "Index(['id', 'f0', 'f1', 'f2', 'product'], dtype='object')"
      ]
     },
     "metadata": {},
     "output_type": "display_data"
    },
    {
     "data": {
      "text/plain": [
       "'Числовое описание:'"
      ]
     },
     "metadata": {},
     "output_type": "display_data"
    },
    {
     "data": {
      "text/html": [
       "<div>\n",
       "<style scoped>\n",
       "    .dataframe tbody tr th:only-of-type {\n",
       "        vertical-align: middle;\n",
       "    }\n",
       "\n",
       "    .dataframe tbody tr th {\n",
       "        vertical-align: top;\n",
       "    }\n",
       "\n",
       "    .dataframe thead th {\n",
       "        text-align: right;\n",
       "    }\n",
       "</style>\n",
       "<table border=\"1\" class=\"dataframe\">\n",
       "  <thead>\n",
       "    <tr style=\"text-align: right;\">\n",
       "      <th></th>\n",
       "      <th>f0</th>\n",
       "      <th>f1</th>\n",
       "      <th>f2</th>\n",
       "      <th>product</th>\n",
       "    </tr>\n",
       "  </thead>\n",
       "  <tbody>\n",
       "    <tr>\n",
       "      <th>count</th>\n",
       "      <td>100000.000000</td>\n",
       "      <td>100000.000000</td>\n",
       "      <td>100000.000000</td>\n",
       "      <td>100000.000000</td>\n",
       "    </tr>\n",
       "    <tr>\n",
       "      <th>mean</th>\n",
       "      <td>0.500419</td>\n",
       "      <td>0.250143</td>\n",
       "      <td>2.502647</td>\n",
       "      <td>92.500000</td>\n",
       "    </tr>\n",
       "    <tr>\n",
       "      <th>std</th>\n",
       "      <td>0.871832</td>\n",
       "      <td>0.504433</td>\n",
       "      <td>3.248248</td>\n",
       "      <td>44.288691</td>\n",
       "    </tr>\n",
       "    <tr>\n",
       "      <th>min</th>\n",
       "      <td>-1.408605</td>\n",
       "      <td>-0.848218</td>\n",
       "      <td>-12.088328</td>\n",
       "      <td>0.000000</td>\n",
       "    </tr>\n",
       "    <tr>\n",
       "      <th>25%</th>\n",
       "      <td>-0.072580</td>\n",
       "      <td>-0.200881</td>\n",
       "      <td>0.287748</td>\n",
       "      <td>56.497507</td>\n",
       "    </tr>\n",
       "    <tr>\n",
       "      <th>50%</th>\n",
       "      <td>0.502360</td>\n",
       "      <td>0.250252</td>\n",
       "      <td>2.515969</td>\n",
       "      <td>91.849972</td>\n",
       "    </tr>\n",
       "    <tr>\n",
       "      <th>75%</th>\n",
       "      <td>1.073581</td>\n",
       "      <td>0.700646</td>\n",
       "      <td>4.715088</td>\n",
       "      <td>128.564089</td>\n",
       "    </tr>\n",
       "    <tr>\n",
       "      <th>max</th>\n",
       "      <td>2.362331</td>\n",
       "      <td>1.343769</td>\n",
       "      <td>16.003790</td>\n",
       "      <td>185.364347</td>\n",
       "    </tr>\n",
       "  </tbody>\n",
       "</table>\n",
       "</div>"
      ],
      "text/plain": [
       "                  f0             f1             f2        product\n",
       "count  100000.000000  100000.000000  100000.000000  100000.000000\n",
       "mean        0.500419       0.250143       2.502647      92.500000\n",
       "std         0.871832       0.504433       3.248248      44.288691\n",
       "min        -1.408605      -0.848218     -12.088328       0.000000\n",
       "25%        -0.072580      -0.200881       0.287748      56.497507\n",
       "50%         0.502360       0.250252       2.515969      91.849972\n",
       "75%         1.073581       0.700646       4.715088     128.564089\n",
       "max         2.362331       1.343769      16.003790     185.364347"
      ]
     },
     "metadata": {},
     "output_type": "display_data"
    },
    {
     "data": {
      "text/plain": [
       "'Сумма пропусков:'"
      ]
     },
     "metadata": {},
     "output_type": "display_data"
    },
    {
     "data": {
      "text/plain": [
       "id         0\n",
       "f0         0\n",
       "f1         0\n",
       "f2         0\n",
       "product    0\n",
       "dtype: int64"
      ]
     },
     "metadata": {},
     "output_type": "display_data"
    },
    {
     "data": {
      "text/plain": [
       "'Доля пропусков:'"
      ]
     },
     "metadata": {},
     "output_type": "display_data"
    },
    {
     "data": {
      "text/plain": [
       "id         0.0\n",
       "f0         0.0\n",
       "f1         0.0\n",
       "f2         0.0\n",
       "product    0.0\n",
       "dtype: float64"
      ]
     },
     "metadata": {},
     "output_type": "display_data"
    },
    {
     "data": {
      "text/plain": [
       "'Явные дубликаты:'"
      ]
     },
     "metadata": {},
     "output_type": "display_data"
    },
    {
     "data": {
      "text/plain": [
       "0"
      ]
     },
     "metadata": {},
     "output_type": "display_data"
    },
    {
     "data": {
      "text/plain": [
       "'Корреляция:'"
      ]
     },
     "metadata": {},
     "output_type": "display_data"
    },
    {
     "data": {
      "text/html": [
       "<div>\n",
       "<style scoped>\n",
       "    .dataframe tbody tr th:only-of-type {\n",
       "        vertical-align: middle;\n",
       "    }\n",
       "\n",
       "    .dataframe tbody tr th {\n",
       "        vertical-align: top;\n",
       "    }\n",
       "\n",
       "    .dataframe thead th {\n",
       "        text-align: right;\n",
       "    }\n",
       "</style>\n",
       "<table border=\"1\" class=\"dataframe\">\n",
       "  <thead>\n",
       "    <tr style=\"text-align: right;\">\n",
       "      <th></th>\n",
       "      <th>f0</th>\n",
       "      <th>f1</th>\n",
       "      <th>f2</th>\n",
       "      <th>product</th>\n",
       "    </tr>\n",
       "  </thead>\n",
       "  <tbody>\n",
       "    <tr>\n",
       "      <th>f0</th>\n",
       "      <td>1.000000</td>\n",
       "      <td>-0.440723</td>\n",
       "      <td>-0.003153</td>\n",
       "      <td>0.143536</td>\n",
       "    </tr>\n",
       "    <tr>\n",
       "      <th>f1</th>\n",
       "      <td>-0.440723</td>\n",
       "      <td>1.000000</td>\n",
       "      <td>0.001724</td>\n",
       "      <td>-0.192356</td>\n",
       "    </tr>\n",
       "    <tr>\n",
       "      <th>f2</th>\n",
       "      <td>-0.003153</td>\n",
       "      <td>0.001724</td>\n",
       "      <td>1.000000</td>\n",
       "      <td>0.483663</td>\n",
       "    </tr>\n",
       "    <tr>\n",
       "      <th>product</th>\n",
       "      <td>0.143536</td>\n",
       "      <td>-0.192356</td>\n",
       "      <td>0.483663</td>\n",
       "      <td>1.000000</td>\n",
       "    </tr>\n",
       "  </tbody>\n",
       "</table>\n",
       "</div>"
      ],
      "text/plain": [
       "               f0        f1        f2   product\n",
       "f0       1.000000 -0.440723 -0.003153  0.143536\n",
       "f1      -0.440723  1.000000  0.001724 -0.192356\n",
       "f2      -0.003153  0.001724  1.000000  0.483663\n",
       "product  0.143536 -0.192356  0.483663  1.000000"
      ]
     },
     "metadata": {},
     "output_type": "display_data"
    },
    {
     "data": {
      "text/plain": [
       "<AxesSubplot:>"
      ]
     },
     "metadata": {},
     "output_type": "display_data"
    },
    {
     "data": {
      "image/png": "[encoded data removed]",
      "text/plain": [
       "<Figure size 432x288 with 2 Axes>"
      ]
     },
     "metadata": {
      "needs_background": "light"
     },
     "output_type": "display_data"
    }
   ],
   "source": [
    "explore_data(geo_0)"
   ]
  },
  {
   "cell_type": "code",
   "execution_count": 5,
   "metadata": {
    "scrolled": false
   },
   "outputs": [
    {
     "name": "stdout",
     "output_type": "stream",
     "text": [
      "<class 'pandas.core.frame.DataFrame'>\n",
      "RangeIndex: 100000 entries, 0 to 99999\n",
      "Data columns (total 5 columns):\n",
      " #   Column   Non-Null Count   Dtype  \n",
      "---  ------   --------------   -----  \n",
      " 0   id       100000 non-null  object \n",
      " 1   f0       100000 non-null  float64\n",
      " 2   f1       100000 non-null  float64\n",
      " 3   f2       100000 non-null  float64\n",
      " 4   product  100000 non-null  float64\n",
      "dtypes: float64(4), object(1)\n",
      "memory usage: 3.8+ MB\n"
     ]
    },
    {
     "data": {
      "text/plain": [
       "'Сводная информация:'"
      ]
     },
     "metadata": {},
     "output_type": "display_data"
    },
    {
     "data": {
      "text/plain": [
       "None"
      ]
     },
     "metadata": {},
     "output_type": "display_data"
    },
    {
     "data": {
      "text/plain": [
       "'10 строк:'"
      ]
     },
     "metadata": {},
     "output_type": "display_data"
    },
    {
     "data": {
      "text/html": [
       "<div>\n",
       "<style scoped>\n",
       "    .dataframe tbody tr th:only-of-type {\n",
       "        vertical-align: middle;\n",
       "    }\n",
       "\n",
       "    .dataframe tbody tr th {\n",
       "        vertical-align: top;\n",
       "    }\n",
       "\n",
       "    .dataframe thead th {\n",
       "        text-align: right;\n",
       "    }\n",
       "</style>\n",
       "<table border=\"1\" class=\"dataframe\">\n",
       "  <thead>\n",
       "    <tr style=\"text-align: right;\">\n",
       "      <th></th>\n",
       "      <th>id</th>\n",
       "      <th>f0</th>\n",
       "      <th>f1</th>\n",
       "      <th>f2</th>\n",
       "      <th>product</th>\n",
       "    </tr>\n",
       "  </thead>\n",
       "  <tbody>\n",
       "    <tr>\n",
       "      <th>0</th>\n",
       "      <td>kBEdx</td>\n",
       "      <td>-15.001348</td>\n",
       "      <td>-8.276000</td>\n",
       "      <td>-0.005876</td>\n",
       "      <td>3.179103</td>\n",
       "    </tr>\n",
       "    <tr>\n",
       "      <th>1</th>\n",
       "      <td>62mP7</td>\n",
       "      <td>14.272088</td>\n",
       "      <td>-3.475083</td>\n",
       "      <td>0.999183</td>\n",
       "      <td>26.953261</td>\n",
       "    </tr>\n",
       "    <tr>\n",
       "      <th>2</th>\n",
       "      <td>vyE1P</td>\n",
       "      <td>6.263187</td>\n",
       "      <td>-5.948386</td>\n",
       "      <td>5.001160</td>\n",
       "      <td>134.766305</td>\n",
       "    </tr>\n",
       "    <tr>\n",
       "      <th>3</th>\n",
       "      <td>KcrkZ</td>\n",
       "      <td>-13.081196</td>\n",
       "      <td>-11.506057</td>\n",
       "      <td>4.999415</td>\n",
       "      <td>137.945408</td>\n",
       "    </tr>\n",
       "    <tr>\n",
       "      <th>4</th>\n",
       "      <td>AHL4O</td>\n",
       "      <td>12.702195</td>\n",
       "      <td>-8.147433</td>\n",
       "      <td>5.004363</td>\n",
       "      <td>134.766305</td>\n",
       "    </tr>\n",
       "    <tr>\n",
       "      <th>5</th>\n",
       "      <td>HHckp</td>\n",
       "      <td>-3.327590</td>\n",
       "      <td>-2.205276</td>\n",
       "      <td>3.003647</td>\n",
       "      <td>84.038886</td>\n",
       "    </tr>\n",
       "    <tr>\n",
       "      <th>6</th>\n",
       "      <td>h5Ujo</td>\n",
       "      <td>-11.142655</td>\n",
       "      <td>-10.133399</td>\n",
       "      <td>4.002382</td>\n",
       "      <td>110.992147</td>\n",
       "    </tr>\n",
       "    <tr>\n",
       "      <th>7</th>\n",
       "      <td>muH9x</td>\n",
       "      <td>4.234715</td>\n",
       "      <td>-0.001354</td>\n",
       "      <td>2.004588</td>\n",
       "      <td>53.906522</td>\n",
       "    </tr>\n",
       "    <tr>\n",
       "      <th>8</th>\n",
       "      <td>YiRkx</td>\n",
       "      <td>13.355129</td>\n",
       "      <td>-0.332068</td>\n",
       "      <td>4.998647</td>\n",
       "      <td>134.766305</td>\n",
       "    </tr>\n",
       "    <tr>\n",
       "      <th>9</th>\n",
       "      <td>jG6Gi</td>\n",
       "      <td>1.069227</td>\n",
       "      <td>-11.025667</td>\n",
       "      <td>4.997844</td>\n",
       "      <td>137.945408</td>\n",
       "    </tr>\n",
       "  </tbody>\n",
       "</table>\n",
       "</div>"
      ],
      "text/plain": [
       "      id         f0         f1        f2     product\n",
       "0  kBEdx -15.001348  -8.276000 -0.005876    3.179103\n",
       "1  62mP7  14.272088  -3.475083  0.999183   26.953261\n",
       "2  vyE1P   6.263187  -5.948386  5.001160  134.766305\n",
       "3  KcrkZ -13.081196 -11.506057  4.999415  137.945408\n",
       "4  AHL4O  12.702195  -8.147433  5.004363  134.766305\n",
       "5  HHckp  -3.327590  -2.205276  3.003647   84.038886\n",
       "6  h5Ujo -11.142655 -10.133399  4.002382  110.992147\n",
       "7  muH9x   4.234715  -0.001354  2.004588   53.906522\n",
       "8  YiRkx  13.355129  -0.332068  4.998647  134.766305\n",
       "9  jG6Gi   1.069227 -11.025667  4.997844  137.945408"
      ]
     },
     "metadata": {},
     "output_type": "display_data"
    },
    {
     "data": {
      "text/plain": [
       "'Столбцы:'"
      ]
     },
     "metadata": {},
     "output_type": "display_data"
    },
    {
     "data": {
      "text/plain": [
       "Index(['id', 'f0', 'f1', 'f2', 'product'], dtype='object')"
      ]
     },
     "metadata": {},
     "output_type": "display_data"
    },
    {
     "data": {
      "text/plain": [
       "'Числовое описание:'"
      ]
     },
     "metadata": {},
     "output_type": "display_data"
    },
    {
     "data": {
      "text/html": [
       "<div>\n",
       "<style scoped>\n",
       "    .dataframe tbody tr th:only-of-type {\n",
       "        vertical-align: middle;\n",
       "    }\n",
       "\n",
       "    .dataframe tbody tr th {\n",
       "        vertical-align: top;\n",
       "    }\n",
       "\n",
       "    .dataframe thead th {\n",
       "        text-align: right;\n",
       "    }\n",
       "</style>\n",
       "<table border=\"1\" class=\"dataframe\">\n",
       "  <thead>\n",
       "    <tr style=\"text-align: right;\">\n",
       "      <th></th>\n",
       "      <th>f0</th>\n",
       "      <th>f1</th>\n",
       "      <th>f2</th>\n",
       "      <th>product</th>\n",
       "    </tr>\n",
       "  </thead>\n",
       "  <tbody>\n",
       "    <tr>\n",
       "      <th>count</th>\n",
       "      <td>100000.000000</td>\n",
       "      <td>100000.000000</td>\n",
       "      <td>100000.000000</td>\n",
       "      <td>100000.000000</td>\n",
       "    </tr>\n",
       "    <tr>\n",
       "      <th>mean</th>\n",
       "      <td>1.141296</td>\n",
       "      <td>-4.796579</td>\n",
       "      <td>2.494541</td>\n",
       "      <td>68.825000</td>\n",
       "    </tr>\n",
       "    <tr>\n",
       "      <th>std</th>\n",
       "      <td>8.965932</td>\n",
       "      <td>5.119872</td>\n",
       "      <td>1.703572</td>\n",
       "      <td>45.944423</td>\n",
       "    </tr>\n",
       "    <tr>\n",
       "      <th>min</th>\n",
       "      <td>-31.609576</td>\n",
       "      <td>-26.358598</td>\n",
       "      <td>-0.018144</td>\n",
       "      <td>0.000000</td>\n",
       "    </tr>\n",
       "    <tr>\n",
       "      <th>25%</th>\n",
       "      <td>-6.298551</td>\n",
       "      <td>-8.267985</td>\n",
       "      <td>1.000021</td>\n",
       "      <td>26.953261</td>\n",
       "    </tr>\n",
       "    <tr>\n",
       "      <th>50%</th>\n",
       "      <td>1.153055</td>\n",
       "      <td>-4.813172</td>\n",
       "      <td>2.011479</td>\n",
       "      <td>57.085625</td>\n",
       "    </tr>\n",
       "    <tr>\n",
       "      <th>75%</th>\n",
       "      <td>8.621015</td>\n",
       "      <td>-1.332816</td>\n",
       "      <td>3.999904</td>\n",
       "      <td>107.813044</td>\n",
       "    </tr>\n",
       "    <tr>\n",
       "      <th>max</th>\n",
       "      <td>29.421755</td>\n",
       "      <td>18.734063</td>\n",
       "      <td>5.019721</td>\n",
       "      <td>137.945408</td>\n",
       "    </tr>\n",
       "  </tbody>\n",
       "</table>\n",
       "</div>"
      ],
      "text/plain": [
       "                  f0             f1             f2        product\n",
       "count  100000.000000  100000.000000  100000.000000  100000.000000\n",
       "mean        1.141296      -4.796579       2.494541      68.825000\n",
       "std         8.965932       5.119872       1.703572      45.944423\n",
       "min       -31.609576     -26.358598      -0.018144       0.000000\n",
       "25%        -6.298551      -8.267985       1.000021      26.953261\n",
       "50%         1.153055      -4.813172       2.011479      57.085625\n",
       "75%         8.621015      -1.332816       3.999904     107.813044\n",
       "max        29.421755      18.734063       5.019721     137.945408"
      ]
     },
     "metadata": {},
     "output_type": "display_data"
    },
    {
     "data": {
      "text/plain": [
       "'Сумма пропусков:'"
      ]
     },
     "metadata": {},
     "output_type": "display_data"
    },
    {
     "data": {
      "text/plain": [
       "id         0\n",
       "f0         0\n",
       "f1         0\n",
       "f2         0\n",
       "product    0\n",
       "dtype: int64"
      ]
     },
     "metadata": {},
     "output_type": "display_data"
    },
    {
     "data": {
      "text/plain": [
       "'Доля пропусков:'"
      ]
     },
     "metadata": {},
     "output_type": "display_data"
    },
    {
     "data": {
      "text/plain": [
       "id         0.0\n",
       "f0         0.0\n",
       "f1         0.0\n",
       "f2         0.0\n",
       "product    0.0\n",
       "dtype: float64"
      ]
     },
     "metadata": {},
     "output_type": "display_data"
    },
    {
     "data": {
      "text/plain": [
       "'Явные дубликаты:'"
      ]
     },
     "metadata": {},
     "output_type": "display_data"
    },
    {
     "data": {
      "text/plain": [
       "0"
      ]
     },
     "metadata": {},
     "output_type": "display_data"
    },
    {
     "data": {
      "text/plain": [
       "'Корреляция:'"
      ]
     },
     "metadata": {},
     "output_type": "display_data"
    },
    {
     "data": {
      "text/html": [
       "<div>\n",
       "<style scoped>\n",
       "    .dataframe tbody tr th:only-of-type {\n",
       "        vertical-align: middle;\n",
       "    }\n",
       "\n",
       "    .dataframe tbody tr th {\n",
       "        vertical-align: top;\n",
       "    }\n",
       "\n",
       "    .dataframe thead th {\n",
       "        text-align: right;\n",
       "    }\n",
       "</style>\n",
       "<table border=\"1\" class=\"dataframe\">\n",
       "  <thead>\n",
       "    <tr style=\"text-align: right;\">\n",
       "      <th></th>\n",
       "      <th>f0</th>\n",
       "      <th>f1</th>\n",
       "      <th>f2</th>\n",
       "      <th>product</th>\n",
       "    </tr>\n",
       "  </thead>\n",
       "  <tbody>\n",
       "    <tr>\n",
       "      <th>f0</th>\n",
       "      <td>1.000000</td>\n",
       "      <td>0.182287</td>\n",
       "      <td>-0.001777</td>\n",
       "      <td>-0.030491</td>\n",
       "    </tr>\n",
       "    <tr>\n",
       "      <th>f1</th>\n",
       "      <td>0.182287</td>\n",
       "      <td>1.000000</td>\n",
       "      <td>-0.002595</td>\n",
       "      <td>-0.010155</td>\n",
       "    </tr>\n",
       "    <tr>\n",
       "      <th>f2</th>\n",
       "      <td>-0.001777</td>\n",
       "      <td>-0.002595</td>\n",
       "      <td>1.000000</td>\n",
       "      <td>0.999397</td>\n",
       "    </tr>\n",
       "    <tr>\n",
       "      <th>product</th>\n",
       "      <td>-0.030491</td>\n",
       "      <td>-0.010155</td>\n",
       "      <td>0.999397</td>\n",
       "      <td>1.000000</td>\n",
       "    </tr>\n",
       "  </tbody>\n",
       "</table>\n",
       "</div>"
      ],
      "text/plain": [
       "               f0        f1        f2   product\n",
       "f0       1.000000  0.182287 -0.001777 -0.030491\n",
       "f1       0.182287  1.000000 -0.002595 -0.010155\n",
       "f2      -0.001777 -0.002595  1.000000  0.999397\n",
       "product -0.030491 -0.010155  0.999397  1.000000"
      ]
     },
     "metadata": {},
     "output_type": "display_data"
    },
    {
     "data": {
      "text/plain": [
       "<AxesSubplot:>"
      ]
     },
     "metadata": {},
     "output_type": "display_data"
    },
    {
     "data": {
      "image/png": "[encoded data removed]",
      "text/plain": [
       "<Figure size 432x288 with 2 Axes>"
      ]
     },
     "metadata": {
      "needs_background": "light"
     },
     "output_type": "display_data"
    }
   ],
   "source": [
    "explore_data(geo_1)"
   ]
  },
  {
   "cell_type": "code",
   "execution_count": 6,
   "metadata": {
    "scrolled": true
   },
   "outputs": [
    {
     "name": "stdout",
     "output_type": "stream",
     "text": [
      "<class 'pandas.core.frame.DataFrame'>\n",
      "RangeIndex: 100000 entries, 0 to 99999\n",
      "Data columns (total 5 columns):\n",
      " #   Column   Non-Null Count   Dtype  \n",
      "---  ------   --------------   -----  \n",
      " 0   id       100000 non-null  object \n",
      " 1   f0       100000 non-null  float64\n",
      " 2   f1       100000 non-null  float64\n",
      " 3   f2       100000 non-null  float64\n",
      " 4   product  100000 non-null  float64\n",
      "dtypes: float64(4), object(1)\n",
      "memory usage: 3.8+ MB\n"
     ]
    },
    {
     "data": {
      "text/plain": [
       "'Сводная информация:'"
      ]
     },
     "metadata": {},
     "output_type": "display_data"
    },
    {
     "data": {
      "text/plain": [
       "None"
      ]
     },
     "metadata": {},
     "output_type": "display_data"
    },
    {
     "data": {
      "text/plain": [
       "'10 строк:'"
      ]
     },
     "metadata": {},
     "output_type": "display_data"
    },
    {
     "data": {
      "text/html": [
       "<div>\n",
       "<style scoped>\n",
       "    .dataframe tbody tr th:only-of-type {\n",
       "        vertical-align: middle;\n",
       "    }\n",
       "\n",
       "    .dataframe tbody tr th {\n",
       "        vertical-align: top;\n",
       "    }\n",
       "\n",
       "    .dataframe thead th {\n",
       "        text-align: right;\n",
       "    }\n",
       "</style>\n",
       "<table border=\"1\" class=\"dataframe\">\n",
       "  <thead>\n",
       "    <tr style=\"text-align: right;\">\n",
       "      <th></th>\n",
       "      <th>id</th>\n",
       "      <th>f0</th>\n",
       "      <th>f1</th>\n",
       "      <th>f2</th>\n",
       "      <th>product</th>\n",
       "    </tr>\n",
       "  </thead>\n",
       "  <tbody>\n",
       "    <tr>\n",
       "      <th>0</th>\n",
       "      <td>fwXo0</td>\n",
       "      <td>-1.146987</td>\n",
       "      <td>0.963328</td>\n",
       "      <td>-0.828965</td>\n",
       "      <td>27.758673</td>\n",
       "    </tr>\n",
       "    <tr>\n",
       "      <th>1</th>\n",
       "      <td>WJtFt</td>\n",
       "      <td>0.262778</td>\n",
       "      <td>0.269839</td>\n",
       "      <td>-2.530187</td>\n",
       "      <td>56.069697</td>\n",
       "    </tr>\n",
       "    <tr>\n",
       "      <th>2</th>\n",
       "      <td>ovLUW</td>\n",
       "      <td>0.194587</td>\n",
       "      <td>0.289035</td>\n",
       "      <td>-5.586433</td>\n",
       "      <td>62.871910</td>\n",
       "    </tr>\n",
       "    <tr>\n",
       "      <th>3</th>\n",
       "      <td>q6cA6</td>\n",
       "      <td>2.236060</td>\n",
       "      <td>-0.553760</td>\n",
       "      <td>0.930038</td>\n",
       "      <td>114.572842</td>\n",
       "    </tr>\n",
       "    <tr>\n",
       "      <th>4</th>\n",
       "      <td>WPMUX</td>\n",
       "      <td>-0.515993</td>\n",
       "      <td>1.716266</td>\n",
       "      <td>5.899011</td>\n",
       "      <td>149.600746</td>\n",
       "    </tr>\n",
       "    <tr>\n",
       "      <th>5</th>\n",
       "      <td>LzZXx</td>\n",
       "      <td>-0.758092</td>\n",
       "      <td>0.710691</td>\n",
       "      <td>2.585887</td>\n",
       "      <td>90.222465</td>\n",
       "    </tr>\n",
       "    <tr>\n",
       "      <th>6</th>\n",
       "      <td>WBHRv</td>\n",
       "      <td>-0.574891</td>\n",
       "      <td>0.317727</td>\n",
       "      <td>1.773745</td>\n",
       "      <td>45.641478</td>\n",
       "    </tr>\n",
       "    <tr>\n",
       "      <th>7</th>\n",
       "      <td>XO8fn</td>\n",
       "      <td>-1.906649</td>\n",
       "      <td>-2.458350</td>\n",
       "      <td>-0.177097</td>\n",
       "      <td>72.480640</td>\n",
       "    </tr>\n",
       "    <tr>\n",
       "      <th>8</th>\n",
       "      <td>ybmQ5</td>\n",
       "      <td>1.776292</td>\n",
       "      <td>-0.279356</td>\n",
       "      <td>3.004156</td>\n",
       "      <td>106.616832</td>\n",
       "    </tr>\n",
       "    <tr>\n",
       "      <th>9</th>\n",
       "      <td>OilcN</td>\n",
       "      <td>-1.214452</td>\n",
       "      <td>-0.439314</td>\n",
       "      <td>5.922514</td>\n",
       "      <td>52.954532</td>\n",
       "    </tr>\n",
       "  </tbody>\n",
       "</table>\n",
       "</div>"
      ],
      "text/plain": [
       "      id        f0        f1        f2     product\n",
       "0  fwXo0 -1.146987  0.963328 -0.828965   27.758673\n",
       "1  WJtFt  0.262778  0.269839 -2.530187   56.069697\n",
       "2  ovLUW  0.194587  0.289035 -5.586433   62.871910\n",
       "3  q6cA6  2.236060 -0.553760  0.930038  114.572842\n",
       "4  WPMUX -0.515993  1.716266  5.899011  149.600746\n",
       "5  LzZXx -0.758092  0.710691  2.585887   90.222465\n",
       "6  WBHRv -0.574891  0.317727  1.773745   45.641478\n",
       "7  XO8fn -1.906649 -2.458350 -0.177097   72.480640\n",
       "8  ybmQ5  1.776292 -0.279356  3.004156  106.616832\n",
       "9  OilcN -1.214452 -0.439314  5.922514   52.954532"
      ]
     },
     "metadata": {},
     "output_type": "display_data"
    },
    {
     "data": {
      "text/plain": [
       "'Столбцы:'"
      ]
     },
     "metadata": {},
     "output_type": "display_data"
    },
    {
     "data": {
      "text/plain": [
       "Index(['id', 'f0', 'f1', 'f2', 'product'], dtype='object')"
      ]
     },
     "metadata": {},
     "output_type": "display_data"
    },
    {
     "data": {
      "text/plain": [
       "'Числовое описание:'"
      ]
     },
     "metadata": {},
     "output_type": "display_data"
    },
    {
     "data": {
      "text/html": [
       "<div>\n",
       "<style scoped>\n",
       "    .dataframe tbody tr th:only-of-type {\n",
       "        vertical-align: middle;\n",
       "    }\n",
       "\n",
       "    .dataframe tbody tr th {\n",
       "        vertical-align: top;\n",
       "    }\n",
       "\n",
       "    .dataframe thead th {\n",
       "        text-align: right;\n",
       "    }\n",
       "</style>\n",
       "<table border=\"1\" class=\"dataframe\">\n",
       "  <thead>\n",
       "    <tr style=\"text-align: right;\">\n",
       "      <th></th>\n",
       "      <th>f0</th>\n",
       "      <th>f1</th>\n",
       "      <th>f2</th>\n",
       "      <th>product</th>\n",
       "    </tr>\n",
       "  </thead>\n",
       "  <tbody>\n",
       "    <tr>\n",
       "      <th>count</th>\n",
       "      <td>100000.000000</td>\n",
       "      <td>100000.000000</td>\n",
       "      <td>100000.000000</td>\n",
       "      <td>100000.000000</td>\n",
       "    </tr>\n",
       "    <tr>\n",
       "      <th>mean</th>\n",
       "      <td>0.002023</td>\n",
       "      <td>-0.002081</td>\n",
       "      <td>2.495128</td>\n",
       "      <td>95.000000</td>\n",
       "    </tr>\n",
       "    <tr>\n",
       "      <th>std</th>\n",
       "      <td>1.732045</td>\n",
       "      <td>1.730417</td>\n",
       "      <td>3.473445</td>\n",
       "      <td>44.749921</td>\n",
       "    </tr>\n",
       "    <tr>\n",
       "      <th>min</th>\n",
       "      <td>-8.760004</td>\n",
       "      <td>-7.084020</td>\n",
       "      <td>-11.970335</td>\n",
       "      <td>0.000000</td>\n",
       "    </tr>\n",
       "    <tr>\n",
       "      <th>25%</th>\n",
       "      <td>-1.162288</td>\n",
       "      <td>-1.174820</td>\n",
       "      <td>0.130359</td>\n",
       "      <td>59.450441</td>\n",
       "    </tr>\n",
       "    <tr>\n",
       "      <th>50%</th>\n",
       "      <td>0.009424</td>\n",
       "      <td>-0.009482</td>\n",
       "      <td>2.484236</td>\n",
       "      <td>94.925613</td>\n",
       "    </tr>\n",
       "    <tr>\n",
       "      <th>75%</th>\n",
       "      <td>1.158535</td>\n",
       "      <td>1.163678</td>\n",
       "      <td>4.858794</td>\n",
       "      <td>130.595027</td>\n",
       "    </tr>\n",
       "    <tr>\n",
       "      <th>max</th>\n",
       "      <td>7.238262</td>\n",
       "      <td>7.844801</td>\n",
       "      <td>16.739402</td>\n",
       "      <td>190.029838</td>\n",
       "    </tr>\n",
       "  </tbody>\n",
       "</table>\n",
       "</div>"
      ],
      "text/plain": [
       "                  f0             f1             f2        product\n",
       "count  100000.000000  100000.000000  100000.000000  100000.000000\n",
       "mean        0.002023      -0.002081       2.495128      95.000000\n",
       "std         1.732045       1.730417       3.473445      44.749921\n",
       "min        -8.760004      -7.084020     -11.970335       0.000000\n",
       "25%        -1.162288      -1.174820       0.130359      59.450441\n",
       "50%         0.009424      -0.009482       2.484236      94.925613\n",
       "75%         1.158535       1.163678       4.858794     130.595027\n",
       "max         7.238262       7.844801      16.739402     190.029838"
      ]
     },
     "metadata": {},
     "output_type": "display_data"
    },
    {
     "data": {
      "text/plain": [
       "'Сумма пропусков:'"
      ]
     },
     "metadata": {},
     "output_type": "display_data"
    },
    {
     "data": {
      "text/plain": [
       "id         0\n",
       "f0         0\n",
       "f1         0\n",
       "f2         0\n",
       "product    0\n",
       "dtype: int64"
      ]
     },
     "metadata": {},
     "output_type": "display_data"
    },
    {
     "data": {
      "text/plain": [
       "'Доля пропусков:'"
      ]
     },
     "metadata": {},
     "output_type": "display_data"
    },
    {
     "data": {
      "text/plain": [
       "id         0.0\n",
       "f0         0.0\n",
       "f1         0.0\n",
       "f2         0.0\n",
       "product    0.0\n",
       "dtype: float64"
      ]
     },
     "metadata": {},
     "output_type": "display_data"
    },
    {
     "data": {
      "text/plain": [
       "'Явные дубликаты:'"
      ]
     },
     "metadata": {},
     "output_type": "display_data"
    },
    {
     "data": {
      "text/plain": [
       "0"
      ]
     },
     "metadata": {},
     "output_type": "display_data"
    },
    {
     "data": {
      "text/plain": [
       "'Корреляция:'"
      ]
     },
     "metadata": {},
     "output_type": "display_data"
    },
    {
     "data": {
      "text/html": [
       "<div>\n",
       "<style scoped>\n",
       "    .dataframe tbody tr th:only-of-type {\n",
       "        vertical-align: middle;\n",
       "    }\n",
       "\n",
       "    .dataframe tbody tr th {\n",
       "        vertical-align: top;\n",
       "    }\n",
       "\n",
       "    .dataframe thead th {\n",
       "        text-align: right;\n",
       "    }\n",
       "</style>\n",
       "<table border=\"1\" class=\"dataframe\">\n",
       "  <thead>\n",
       "    <tr style=\"text-align: right;\">\n",
       "      <th></th>\n",
       "      <th>f0</th>\n",
       "      <th>f1</th>\n",
       "      <th>f2</th>\n",
       "      <th>product</th>\n",
       "    </tr>\n",
       "  </thead>\n",
       "  <tbody>\n",
       "    <tr>\n",
       "      <th>f0</th>\n",
       "      <td>1.000000</td>\n",
       "      <td>0.000528</td>\n",
       "      <td>-0.000448</td>\n",
       "      <td>-0.001987</td>\n",
       "    </tr>\n",
       "    <tr>\n",
       "      <th>f1</th>\n",
       "      <td>0.000528</td>\n",
       "      <td>1.000000</td>\n",
       "      <td>0.000779</td>\n",
       "      <td>-0.001012</td>\n",
       "    </tr>\n",
       "    <tr>\n",
       "      <th>f2</th>\n",
       "      <td>-0.000448</td>\n",
       "      <td>0.000779</td>\n",
       "      <td>1.000000</td>\n",
       "      <td>0.445871</td>\n",
       "    </tr>\n",
       "    <tr>\n",
       "      <th>product</th>\n",
       "      <td>-0.001987</td>\n",
       "      <td>-0.001012</td>\n",
       "      <td>0.445871</td>\n",
       "      <td>1.000000</td>\n",
       "    </tr>\n",
       "  </tbody>\n",
       "</table>\n",
       "</div>"
      ],
      "text/plain": [
       "               f0        f1        f2   product\n",
       "f0       1.000000  0.000528 -0.000448 -0.001987\n",
       "f1       0.000528  1.000000  0.000779 -0.001012\n",
       "f2      -0.000448  0.000779  1.000000  0.445871\n",
       "product -0.001987 -0.001012  0.445871  1.000000"
      ]
     },
     "metadata": {},
     "output_type": "display_data"
    },
    {
     "data": {
      "text/plain": [
       "<AxesSubplot:>"
      ]
     },
     "metadata": {},
     "output_type": "display_data"
    },
    {
     "data": {
      "image/png": "[encoded data removed]",
      "text/plain": [
       "<Figure size 432x288 with 2 Axes>"
      ]
     },
     "metadata": {
      "needs_background": "light"
     },
     "output_type": "display_data"
    }
   ],
   "source": [
    "explore_data(geo_2)"
   ]
  },
  {
   "cell_type": "markdown",
   "metadata": {},
   "source": [
    "Удаляем избыточный столбец **id** и делим набор на 2 части , тренировочный набор и тестовый"
   ]
  },
  {
   "cell_type": "code",
   "execution_count": 7,
   "metadata": {},
   "outputs": [],
   "source": [
    "def prepr_data(df):\n",
    "    features = df.drop(['id', 'product'], axis=1)\n",
    "    target = df['product']\n",
    "    return train_test_split(features, target, test_size=0.25, random_state=12345)\n",
    "    "
   ]
  },
  {
   "cell_type": "code",
   "execution_count": 8,
   "metadata": {},
   "outputs": [
    {
     "name": "stdout",
     "output_type": "stream",
     "text": [
      "(75000, 3) (25000, 3) (75000,) (25000,)\n"
     ]
    }
   ],
   "source": [
    "features_train_0, features_test_0, target_train_0, target_test_0 = prepr_data(geo_0)\n",
    "print(features_train_0.shape, features_test_0.shape, target_train_0.shape,target_test_0.shape)\n",
    "features_train_1, features_test_1, target_train_1, target_test_1 = prepr_data(geo_1)\n",
    "features_train_2, features_test_2, target_train_2, target_test_2 = prepr_data(geo_2)"
   ]
  },
  {
   "cell_type": "markdown",
   "metadata": {},
   "source": [
    "### Вывод\n",
    "* сильный корреляций не обнаружено, в основном значения близки к 0, только в нулевом регионе корреляция f1 и product почти 0.5\n",
    "* Пропусков данных не обнаружено\n",
    "* дубликаты не обнаружены\n",
    "* Судя по значениям данные уже масштабированы"
   ]
  },
  {
   "cell_type": "markdown",
   "metadata": {},
   "source": [
    "## Обучение и проверка модели"
   ]
  },
  {
   "cell_type": "markdown",
   "metadata": {},
   "source": [
    "Фрейм для хранения результатов предсказания модели"
   ]
  },
  {
   "cell_type": "code",
   "execution_count": 9,
   "metadata": {},
   "outputs": [
    {
     "data": {
      "text/html": [
       "<div>\n",
       "<style scoped>\n",
       "    .dataframe tbody tr th:only-of-type {\n",
       "        vertical-align: middle;\n",
       "    }\n",
       "\n",
       "    .dataframe tbody tr th {\n",
       "        vertical-align: top;\n",
       "    }\n",
       "\n",
       "    .dataframe thead th {\n",
       "        text-align: right;\n",
       "    }\n",
       "</style>\n",
       "<table border=\"1\" class=\"dataframe\">\n",
       "  <thead>\n",
       "    <tr style=\"text-align: right;\">\n",
       "      <th></th>\n",
       "    </tr>\n",
       "  </thead>\n",
       "  <tbody>\n",
       "    <tr>\n",
       "      <th>mean</th>\n",
       "    </tr>\n",
       "    <tr>\n",
       "      <th>mse</th>\n",
       "    </tr>\n",
       "    <tr>\n",
       "      <th>rmse</th>\n",
       "    </tr>\n",
       "  </tbody>\n",
       "</table>\n",
       "</div>"
      ],
      "text/plain": [
       "Empty DataFrame\n",
       "Columns: []\n",
       "Index: [mean, mse, rmse]"
      ]
     },
     "execution_count": 9,
     "metadata": {},
     "output_type": "execute_result"
    }
   ],
   "source": [
    "geos_scores = pd.DataFrame( index=['mean','mse','rmse'])#columns=[\"geo_0\",\"geo_1\",\"geo_2\"],\n",
    "geos_scores"
   ]
  },
  {
   "cell_type": "markdown",
   "metadata": {},
   "source": [
    "Обучаем модель и делаем предсказания"
   ]
  },
  {
   "cell_type": "code",
   "execution_count": 10,
   "metadata": {},
   "outputs": [],
   "source": [
    "\n",
    "def get_predictions(df, model):\n",
    "    features_train, features_test, target_train, target_test = prepr_data(df)\n",
    "    model.fit(features_train, target_train)\n",
    "    return pd.Series(model.predict(features_test)), target_test\n",
    "    "
   ]
  },
  {
   "cell_type": "code",
   "execution_count": 11,
   "metadata": {},
   "outputs": [],
   "source": [
    "df_dict = {'geo_0': geo_0 , 'geo_1': geo_1,'geo_2': geo_2}"
   ]
  },
  {
   "cell_type": "markdown",
   "metadata": {},
   "source": [
    "Получаем результаты предсказаний"
   ]
  },
  {
   "cell_type": "code",
   "execution_count": 12,
   "metadata": {},
   "outputs": [],
   "source": [
    "\n",
    "def get_scores(target, predictions): #df, model\n",
    "    #predictions, target = get_predictions(df, model)\n",
    "    mse = mean_squared_error(target, predictions) \n",
    "    rmse = mse** 0.5\n",
    "    #print(predictions.mean(), mse, rmse)\n",
    "    return pd.Series([predictions.mean(), mse, rmse], index=['mean','mse','rmse'])\n"
   ]
  },
  {
   "cell_type": "code",
   "execution_count": 13,
   "metadata": {},
   "outputs": [],
   "source": [
    "model = LinearRegression()\n",
    "region_predictions = []\n",
    "region_targets = []\n",
    "for column in df_dict:\n",
    "    predictions, target_test = get_predictions(df_dict[column], model)\n",
    "    geos_scores[column] = get_scores(predictions, target_test)\n",
    "    region_predictions.append(predictions)\n",
    "    region_targets.append(target_test)\n",
    "    #print(get_scores(predictions, target_test))"
   ]
  },
  {
   "cell_type": "code",
   "execution_count": 14,
   "metadata": {
    "scrolled": true
   },
   "outputs": [
    {
     "name": "stdout",
     "output_type": "stream",
     "text": [
      "3 3\n"
     ]
    }
   ],
   "source": [
    "print(len(region_predictions), len(region_targets))"
   ]
  },
  {
   "cell_type": "markdown",
   "metadata": {},
   "source": [
    "### Вывод\n",
    "Наименьшая среднеквадратичная ошибка выявлена у 1 региона"
   ]
  },
  {
   "cell_type": "code",
   "execution_count": 15,
   "metadata": {},
   "outputs": [
    {
     "data": {
      "text/html": [
       "<div>\n",
       "<style scoped>\n",
       "    .dataframe tbody tr th:only-of-type {\n",
       "        vertical-align: middle;\n",
       "    }\n",
       "\n",
       "    .dataframe tbody tr th {\n",
       "        vertical-align: top;\n",
       "    }\n",
       "\n",
       "    .dataframe thead th {\n",
       "        text-align: right;\n",
       "    }\n",
       "</style>\n",
       "<table border=\"1\" class=\"dataframe\">\n",
       "  <thead>\n",
       "    <tr style=\"text-align: right;\">\n",
       "      <th></th>\n",
       "      <th>geo_0</th>\n",
       "      <th>geo_1</th>\n",
       "      <th>geo_2</th>\n",
       "    </tr>\n",
       "  </thead>\n",
       "  <tbody>\n",
       "    <tr>\n",
       "      <th>mean</th>\n",
       "      <td>92.078597</td>\n",
       "      <td>68.723136</td>\n",
       "      <td>94.884233</td>\n",
       "    </tr>\n",
       "    <tr>\n",
       "      <th>mse</th>\n",
       "      <td>1412.212936</td>\n",
       "      <td>0.797626</td>\n",
       "      <td>1602.377581</td>\n",
       "    </tr>\n",
       "    <tr>\n",
       "      <th>rmse</th>\n",
       "      <td>37.579422</td>\n",
       "      <td>0.893099</td>\n",
       "      <td>40.029709</td>\n",
       "    </tr>\n",
       "  </tbody>\n",
       "</table>\n",
       "</div>"
      ],
      "text/plain": [
       "            geo_0      geo_1        geo_2\n",
       "mean    92.078597  68.723136    94.884233\n",
       "mse   1412.212936   0.797626  1602.377581\n",
       "rmse    37.579422   0.893099    40.029709"
      ]
     },
     "execution_count": 15,
     "metadata": {},
     "output_type": "execute_result"
    }
   ],
   "source": [
    "geos_scores"
   ]
  },
  {
   "cell_type": "markdown",
   "metadata": {},
   "source": [
    "## Подготовка к расчёту прибыли"
   ]
  },
  {
   "cell_type": "markdown",
   "metadata": {},
   "source": [
    "При разведке региона исследуют 500 точек, из которых с помощью машинного обучения выбирают 200 лучших для разработки.\n",
    "Бюджет на разработку скважин в регионе — 10 млрд рублей.\n",
    "При нынешних ценах один баррель сырья приносит 450 рублей дохода. Доход с каждой единицы продукта составляет 450 тыс. рублей, поскольку объём указан в тысячах баррелей.\n",
    "После оценки рисков нужно оставить лишь те регионы, в которых вероятность убытков меньше 2.5%. Среди них выбирают регион с наибольшей средней прибылью."
   ]
  },
  {
   "cell_type": "code",
   "execution_count": 16,
   "metadata": {},
   "outputs": [],
   "source": [
    "explore_points_count = 500 # При разведке региона исследуют 500 точек\n",
    "best_points_count = 200 # с помощью машинного обучения выбирают 200 лучших для разработки\n",
    "buget = 10**10 # Бюджет на разработку скважин в регионе — 10 млрд рублей\n",
    "revenue = 45*10**4 # Доход с каждой единицы продукта составляет 450 тыс. рублей, поскольку объём указан в тысячах баррелей.\n",
    "risk_treashold = 0.025 # После оценки рисков нужно оставить лишь те регионы, в которых вероятность убытков меньше 2.5%.\n",
    "breakeven_point = round(buget/revenue/best_points_count, 2)"
   ]
  },
  {
   "cell_type": "code",
   "execution_count": 17,
   "metadata": {},
   "outputs": [
    {
     "name": "stdout",
     "output_type": "stream",
     "text": [
      "Точка безубыточности для новой скважины:  111.11\n"
     ]
    }
   ],
   "source": [
    "print(\"Точка безубыточности для новой скважины: \",breakeven_point)"
   ]
  },
  {
   "cell_type": "markdown",
   "metadata": {},
   "source": [
    "## Расчёт прибыли и рисков "
   ]
  },
  {
   "cell_type": "code",
   "execution_count": 18,
   "metadata": {},
   "outputs": [],
   "source": [
    "def count_profit(region_prediction, region_target):\n",
    "    top_200_predictions = region_prediction.sort_values(ascending=False).head(best_points_count)\n",
    "    try:\n",
    "        profit =  (region_target.iloc[top_200_predictions.index] - breakeven_point)*revenue\n",
    "        #print(\"here1\")\n",
    "    except IndexError:\n",
    "        profit =  (region_target.loc[top_200_predictions.index] - breakeven_point)*revenue\n",
    "        #print(\"bootstrap function\")\n",
    "    return profit.sum()\n",
    "        "
   ]
  },
  {
   "cell_type": "code",
   "execution_count": 33,
   "metadata": {
    "scrolled": false
   },
   "outputs": [
    {
     "name": "stdout",
     "output_type": "stream",
     "text": [
      "Среднее предсказанное количество продукта в регионе 0: 92.59256778438035, реальное: 92.07859674082927\n",
      "Среднее предсказанное количество продукта в регионе 1: 68.728546895446, реальное: 68.72313602435997\n",
      "Среднее предсказанное количество продукта в регионе 2: 94.96504596800489, реальное: 94.88423280885438\n"
     ]
    }
   ],
   "source": [
    "region_profit = []\n",
    "for i in range(len(region_targets)):\n",
    "    region_profit.append(count_profit(region_predictions[i], region_targets[i]))\n",
    "    print(f'Среднее предсказанное количество продукта в регионе {i}: {region_predictions[i].mean()}, реальное: {region_targets[i].mean()}')"
   ]
  },
  {
   "cell_type": "code",
   "execution_count": 39,
   "metadata": {},
   "outputs": [
    {
     "name": "stdout",
     "output_type": "stream",
     "text": [
      "предсказанное значение дохода в регионе 0: 3320926043 рублей\n",
      "предсказанное значение дохода в регионе 1: 2415186697 рублей\n",
      "предсказанное значение дохода в регионе 2: 2710449964 рублей\n"
     ]
    }
   ],
   "source": [
    "for i in range(len(region_profit)):\n",
    "    print(f'предсказанное значение дохода в регионе {i}: {round(region_profit[i])} рублей')\n",
    "#region_profit"
   ]
  },
  {
   "cell_type": "code",
   "execution_count": 55,
   "metadata": {},
   "outputs": [],
   "source": [
    "total = pd.DataFrame( columns=['mean_profit','risk_percent'], index=[\"geo_0\",\"geo_1\",\"geo_2\"])\n",
    "def bootstrap(region_prediction, region_target, points):\n",
    "    state = np.random.RandomState(12345)\n",
    "    values = []\n",
    "    \n",
    "    for i in range(1000):\n",
    "        target_subsample = region_target.reset_index(drop=True).sample(n=points, replace=True, random_state=state)\n",
    "        pred_subsample = region_prediction[target_subsample.index]\n",
    "        values.append(count_profit(pred_subsample, target_subsample)) #subsample.quantile(0.99))\n",
    "    \n",
    "    values = pd.Series(values)\n",
    "    mean = values.mean()\n",
    "    lower = values.quantile(.025)\n",
    "    upper = values.quantile(.975)\n",
    "    risk = (values<0).mean()*100\n",
    "    print(f'Средняя выручка: {mean}')\n",
    "    print(f'Доверительный интервал: {lower, upper}')\n",
    "    print(f'Риск убытка: {risk} %')\n",
    "    return mean, risk"
   ]
  },
  {
   "cell_type": "markdown",
   "metadata": {},
   "source": [
    "### Вывод"
   ]
  },
  {
   "cell_type": "code",
   "execution_count": 57,
   "metadata": {
    "scrolled": false
   },
   "outputs": [
    {
     "name": "stdout",
     "output_type": "stream",
     "text": [
      "Средняя выручка: 403637216.2611653\n",
      "Доверительный интервал: (-118225387.1231114, 931678317.5508474)\n",
      "Риск убытка: 7.6 %\n"
     ]
    }
   ],
   "source": [
    "total['mean_profit'][0], total['risk_percent'][0] = bootstrap(region_predictions[0], region_targets[0], explore_points_count)"
   ]
  },
  {
   "cell_type": "code",
   "execution_count": 59,
   "metadata": {},
   "outputs": [
    {
     "name": "stdout",
     "output_type": "stream",
     "text": [
      "Средняя выручка: 465143060.22107255\n",
      "Доверительный интервал: (32139692.85001978, 864490413.3254703)\n",
      "Риск убытка: 1.7000000000000002 %\n"
     ]
    }
   ],
   "source": [
    "total['mean_profit'][1], total['risk_percent'][1] = bootstrap(region_predictions[1], region_targets[1], explore_points_count)"
   ]
  },
  {
   "cell_type": "code",
   "execution_count": 60,
   "metadata": {
    "scrolled": false
   },
   "outputs": [
    {
     "name": "stdout",
     "output_type": "stream",
     "text": [
      "Средняя выручка: 414311736.3409678\n",
      "Доверительный интервал: (-148271873.6824918, 972440192.9202838)\n",
      "Риск убытка: 7.9 %\n"
     ]
    }
   ],
   "source": [
    "total['mean_profit'][2], total['risk_percent'][2] = bootstrap(region_predictions[2], region_targets[2], explore_points_count)"
   ]
  },
  {
   "cell_type": "code",
   "execution_count": 69,
   "metadata": {
    "scrolled": true
   },
   "outputs": [
    {
     "data": {
      "text/plain": [
       "<AxesSubplot:title={'center':'Выручка регионов'}, ylabel='млн'>"
      ]
     },
     "execution_count": 69,
     "metadata": {},
     "output_type": "execute_result"
    },
    {
     "data": {
      "image/png": "[encoded data removed]",
      "text/plain": [
       "<Figure size 432x288 with 1 Axes>"
      ]
     },
     "metadata": {
      "needs_background": "light"
     },
     "output_type": "display_data"
    }
   ],
   "source": [
    "(total['mean_profit']/1000000).plot(kind='bar', title ='Выручка регионов', ylabel='млн')"
   ]
  },
  {
   "cell_type": "code",
   "execution_count": 71,
   "metadata": {},
   "outputs": [
    {
     "data": {
      "text/plain": [
       "<AxesSubplot:title={'center':'Риски регионов'}, ylabel='%'>"
      ]
     },
     "execution_count": 71,
     "metadata": {},
     "output_type": "execute_result"
    },
    {
     "data": {
      "image/png": "[encoded data removed]",
      "text/plain": [
       "<Figure size 432x288 with 1 Axes>"
      ]
     },
     "metadata": {
      "needs_background": "light"
     },
     "output_type": "display_data"
    }
   ],
   "source": [
    "(total['risk_percent']).plot(kind='bar', title ='Риски регионов', ylabel='%')"
   ]
  },
  {
   "cell_type": "markdown",
   "metadata": {},
   "source": [
    "Исходя из полученных результатов наиболее благоприятным для ведения бизнеса является первый регион, который обладает наибольшей средней выручкой и наименьшими рисками"
   ]
  },
  {
   "cell_type": "code",
   "execution_count": null,
   "metadata": {},
   "outputs": [],
   "source": []
  }
 ],
 "metadata": {
  "ExecuteTimeLog": [
   {
    "duration": 1610,
    "start_time": "2022-05-08T20:41:10.987Z"
   },
   {
    "duration": 101,
    "start_time": "2022-05-08T20:43:36.978Z"
   },
   {
    "duration": 5,
    "start_time": "2022-05-08T20:43:41.820Z"
   },
   {
    "duration": 339,
    "start_time": "2022-05-08T20:43:42.096Z"
   },
   {
    "duration": 4,
    "start_time": "2022-05-08T20:43:42.507Z"
   },
   {
    "duration": 458,
    "start_time": "2022-05-08T20:43:43.020Z"
   },
   {
    "duration": 862,
    "start_time": "2022-05-08T20:47:04.134Z"
   },
   {
    "duration": 954,
    "start_time": "2022-05-08T20:47:36.629Z"
   },
   {
    "duration": 615,
    "start_time": "2022-05-08T20:48:25.854Z"
   },
   {
    "duration": 390,
    "start_time": "2022-05-08T20:48:50.634Z"
   },
   {
    "duration": 388,
    "start_time": "2022-05-08T20:49:36.506Z"
   },
   {
    "duration": 6,
    "start_time": "2022-05-08T20:51:46.166Z"
   },
   {
    "duration": 8,
    "start_time": "2022-05-08T20:51:59.763Z"
   },
   {
    "duration": 8,
    "start_time": "2022-05-08T20:52:22.125Z"
   },
   {
    "duration": 9,
    "start_time": "2022-05-08T20:52:23.009Z"
   },
   {
    "duration": 9,
    "start_time": "2022-05-08T20:52:29.971Z"
   },
   {
    "duration": 7,
    "start_time": "2022-05-08T20:52:38.880Z"
   },
   {
    "duration": 24,
    "start_time": "2022-05-08T20:52:50.863Z"
   },
   {
    "duration": 24,
    "start_time": "2022-05-08T20:55:38.328Z"
   },
   {
    "duration": 8,
    "start_time": "2022-05-08T20:55:43.441Z"
   },
   {
    "duration": 13,
    "start_time": "2022-05-08T20:56:55.189Z"
   },
   {
    "duration": 9,
    "start_time": "2022-05-08T20:56:56.316Z"
   },
   {
    "duration": 1525,
    "start_time": "2022-05-08T21:11:10.271Z"
   },
   {
    "duration": 356,
    "start_time": "2022-05-08T21:11:11.798Z"
   },
   {
    "duration": 4,
    "start_time": "2022-05-08T21:11:12.156Z"
   },
   {
    "duration": 446,
    "start_time": "2022-05-08T21:11:12.162Z"
   },
   {
    "duration": 420,
    "start_time": "2022-05-08T21:11:12.610Z"
   },
   {
    "duration": 431,
    "start_time": "2022-05-08T21:11:13.033Z"
   },
   {
    "duration": 5,
    "start_time": "2022-05-08T21:11:44.645Z"
   },
   {
    "duration": 7,
    "start_time": "2022-05-08T21:11:59.790Z"
   },
   {
    "duration": 12,
    "start_time": "2022-05-08T21:12:53.045Z"
   },
   {
    "duration": 8,
    "start_time": "2022-05-08T21:13:02.457Z"
   },
   {
    "duration": 3,
    "start_time": "2022-05-08T21:28:02.352Z"
   },
   {
    "duration": 127,
    "start_time": "2022-05-08T21:28:02.862Z"
   },
   {
    "duration": 3,
    "start_time": "2022-05-08T21:28:07.364Z"
   },
   {
    "duration": 331,
    "start_time": "2022-05-08T21:28:07.369Z"
   },
   {
    "duration": 5,
    "start_time": "2022-05-08T21:28:07.702Z"
   },
   {
    "duration": 426,
    "start_time": "2022-05-08T21:28:07.709Z"
   },
   {
    "duration": 400,
    "start_time": "2022-05-08T21:28:08.137Z"
   },
   {
    "duration": 459,
    "start_time": "2022-05-08T21:28:08.539Z"
   },
   {
    "duration": 24,
    "start_time": "2022-05-08T21:28:08.999Z"
   },
   {
    "duration": 28,
    "start_time": "2022-05-08T21:28:09.025Z"
   },
   {
    "duration": 3,
    "start_time": "2022-05-08T21:28:34.763Z"
   },
   {
    "duration": 31,
    "start_time": "2022-05-08T21:28:35.535Z"
   },
   {
    "duration": 5,
    "start_time": "2022-05-08T21:31:45.650Z"
   },
   {
    "duration": 39,
    "start_time": "2022-05-08T21:31:45.983Z"
   },
   {
    "duration": 4,
    "start_time": "2022-05-08T21:34:16.964Z"
   },
   {
    "duration": 17,
    "start_time": "2022-05-08T21:34:17.422Z"
   },
   {
    "duration": 4,
    "start_time": "2022-05-08T21:35:19.242Z"
   },
   {
    "duration": 30,
    "start_time": "2022-05-08T21:35:19.522Z"
   },
   {
    "duration": 4,
    "start_time": "2022-05-08T21:36:15.394Z"
   },
   {
    "duration": 15,
    "start_time": "2022-05-08T21:36:15.682Z"
   },
   {
    "duration": 19,
    "start_time": "2022-05-08T21:37:57.063Z"
   },
   {
    "duration": 32,
    "start_time": "2022-05-08T21:38:51.370Z"
   },
   {
    "duration": 3,
    "start_time": "2022-05-08T21:40:57.530Z"
   },
   {
    "duration": 31,
    "start_time": "2022-05-08T21:40:57.875Z"
   },
   {
    "duration": 3,
    "start_time": "2022-05-08T21:50:45.991Z"
   },
   {
    "duration": 11,
    "start_time": "2022-05-08T22:03:46.402Z"
   },
   {
    "duration": 3,
    "start_time": "2022-05-08T22:03:50.281Z"
   },
   {
    "duration": 9,
    "start_time": "2022-05-08T22:03:50.740Z"
   },
   {
    "duration": 23,
    "start_time": "2022-05-08T22:04:17.862Z"
   },
   {
    "duration": 26,
    "start_time": "2022-05-08T22:04:55.729Z"
   },
   {
    "duration": 21,
    "start_time": "2022-05-08T22:05:09.542Z"
   },
   {
    "duration": 7,
    "start_time": "2022-05-08T22:07:34.643Z"
   },
   {
    "duration": 10,
    "start_time": "2022-05-08T22:09:07.363Z"
   },
   {
    "duration": 9,
    "start_time": "2022-05-08T22:15:01.889Z"
   },
   {
    "duration": 5,
    "start_time": "2022-05-08T22:15:17.029Z"
   },
   {
    "duration": 10,
    "start_time": "2022-05-08T22:16:46.788Z"
   },
   {
    "duration": 5,
    "start_time": "2022-05-08T22:16:54.989Z"
   },
   {
    "duration": 10,
    "start_time": "2022-05-08T22:16:56.021Z"
   },
   {
    "duration": 27,
    "start_time": "2022-05-08T22:17:12.552Z"
   },
   {
    "duration": 5,
    "start_time": "2022-05-08T22:19:16.241Z"
   },
   {
    "duration": 56,
    "start_time": "2022-05-08T22:20:01.071Z"
   },
   {
    "duration": 6,
    "start_time": "2022-05-08T22:20:21.010Z"
   },
   {
    "duration": 25,
    "start_time": "2022-05-08T22:20:22.390Z"
   },
   {
    "duration": 85,
    "start_time": "2022-05-08T22:22:38.929Z"
   },
   {
    "duration": 229,
    "start_time": "2022-05-08T22:22:44.302Z"
   },
   {
    "duration": 8,
    "start_time": "2022-05-08T22:22:55.317Z"
   },
   {
    "duration": 374,
    "start_time": "2022-05-08T22:23:27.850Z"
   },
   {
    "duration": 8,
    "start_time": "2022-05-08T22:23:29.003Z"
   },
   {
    "duration": 116,
    "start_time": "2022-05-08T22:23:46.309Z"
   },
   {
    "duration": 13,
    "start_time": "2022-05-08T22:24:48.933Z"
   },
   {
    "duration": 20,
    "start_time": "2022-05-08T22:26:48.730Z"
   },
   {
    "duration": 7,
    "start_time": "2022-05-08T22:26:50.290Z"
   },
   {
    "duration": 96,
    "start_time": "2022-05-08T22:27:49.310Z"
   },
   {
    "duration": 5,
    "start_time": "2022-05-08T22:27:55.150Z"
   },
   {
    "duration": 23,
    "start_time": "2022-05-08T22:27:56.521Z"
   },
   {
    "duration": 21,
    "start_time": "2022-05-08T22:28:26.370Z"
   },
   {
    "duration": 9,
    "start_time": "2022-05-08T22:28:26.721Z"
   },
   {
    "duration": 229,
    "start_time": "2022-05-08T22:29:23.301Z"
   },
   {
    "duration": 7,
    "start_time": "2022-05-08T22:29:23.770Z"
   },
   {
    "duration": 2301,
    "start_time": "2022-05-09T09:43:11.042Z"
   },
   {
    "duration": 444,
    "start_time": "2022-05-09T09:43:13.346Z"
   },
   {
    "duration": 5,
    "start_time": "2022-05-09T09:43:13.792Z"
   },
   {
    "duration": 732,
    "start_time": "2022-05-09T09:43:13.800Z"
   },
   {
    "duration": 592,
    "start_time": "2022-05-09T09:43:14.535Z"
   },
   {
    "duration": 603,
    "start_time": "2022-05-09T09:43:15.130Z"
   },
   {
    "duration": 4,
    "start_time": "2022-05-09T09:43:15.735Z"
   },
   {
    "duration": 199,
    "start_time": "2022-05-09T09:43:15.741Z"
   },
   {
    "duration": 0,
    "start_time": "2022-05-09T09:43:15.942Z"
   },
   {
    "duration": 0,
    "start_time": "2022-05-09T09:43:15.944Z"
   },
   {
    "duration": 0,
    "start_time": "2022-05-09T09:43:15.946Z"
   },
   {
    "duration": 0,
    "start_time": "2022-05-09T09:43:15.948Z"
   },
   {
    "duration": 0,
    "start_time": "2022-05-09T09:43:15.949Z"
   },
   {
    "duration": 0,
    "start_time": "2022-05-09T09:43:15.951Z"
   },
   {
    "duration": 45,
    "start_time": "2022-05-09T09:44:09.314Z"
   },
   {
    "duration": 9,
    "start_time": "2022-05-09T09:44:12.149Z"
   },
   {
    "duration": 5,
    "start_time": "2022-05-09T09:44:12.852Z"
   },
   {
    "duration": 14,
    "start_time": "2022-05-09T09:44:14.302Z"
   },
   {
    "duration": 14,
    "start_time": "2022-05-09T09:44:32.896Z"
   },
   {
    "duration": 13,
    "start_time": "2022-05-09T09:44:41.115Z"
   },
   {
    "duration": 6,
    "start_time": "2022-05-09T09:45:09.715Z"
   },
   {
    "duration": 196,
    "start_time": "2022-05-09T09:45:12.737Z"
   },
   {
    "duration": 475,
    "start_time": "2022-05-09T09:45:24.050Z"
   },
   {
    "duration": 11,
    "start_time": "2022-05-09T09:45:31.976Z"
   },
   {
    "duration": 4,
    "start_time": "2022-05-09T09:45:38.655Z"
   },
   {
    "duration": 4,
    "start_time": "2022-05-09T09:45:54.682Z"
   },
   {
    "duration": 5,
    "start_time": "2022-05-09T09:45:54.940Z"
   },
   {
    "duration": 6,
    "start_time": "2022-05-09T09:46:07.741Z"
   },
   {
    "duration": 13,
    "start_time": "2022-05-09T10:05:11.674Z"
   },
   {
    "duration": 5,
    "start_time": "2022-05-09T10:09:22.700Z"
   },
   {
    "duration": 6,
    "start_time": "2022-05-09T10:09:23.009Z"
   },
   {
    "duration": 5,
    "start_time": "2022-05-09T10:10:23.721Z"
   },
   {
    "duration": 5,
    "start_time": "2022-05-09T10:10:24.013Z"
   },
   {
    "duration": 5,
    "start_time": "2022-05-09T10:14:48.081Z"
   },
   {
    "duration": 5,
    "start_time": "2022-05-09T10:14:50.929Z"
   },
   {
    "duration": 5,
    "start_time": "2022-05-09T10:14:51.175Z"
   },
   {
    "duration": 5,
    "start_time": "2022-05-09T10:18:33.288Z"
   },
   {
    "duration": 5,
    "start_time": "2022-05-09T10:18:33.582Z"
   },
   {
    "duration": 5,
    "start_time": "2022-05-09T11:11:20.802Z"
   },
   {
    "duration": 4,
    "start_time": "2022-05-09T11:11:21.482Z"
   },
   {
    "duration": 178,
    "start_time": "2022-05-09T11:12:10.646Z"
   },
   {
    "duration": 5,
    "start_time": "2022-05-09T11:12:18.114Z"
   },
   {
    "duration": 28,
    "start_time": "2022-05-09T11:12:18.698Z"
   },
   {
    "duration": 13,
    "start_time": "2022-05-09T11:13:08.431Z"
   },
   {
    "duration": 482,
    "start_time": "2022-05-09T11:13:21.343Z"
   },
   {
    "duration": 10,
    "start_time": "2022-05-09T11:13:45.603Z"
   },
   {
    "duration": 508,
    "start_time": "2022-05-09T11:16:31.723Z"
   },
   {
    "duration": 5,
    "start_time": "2022-05-09T11:16:32.327Z"
   },
   {
    "duration": 11,
    "start_time": "2022-05-09T11:16:52.173Z"
   },
   {
    "duration": 2156,
    "start_time": "2022-05-09T11:17:25.975Z"
   },
   {
    "duration": 464,
    "start_time": "2022-05-09T11:17:28.134Z"
   },
   {
    "duration": 8,
    "start_time": "2022-05-09T11:17:28.600Z"
   },
   {
    "duration": 644,
    "start_time": "2022-05-09T11:17:28.610Z"
   },
   {
    "duration": 591,
    "start_time": "2022-05-09T11:17:29.257Z"
   },
   {
    "duration": 596,
    "start_time": "2022-05-09T11:17:29.850Z"
   },
   {
    "duration": 5,
    "start_time": "2022-05-09T11:17:30.449Z"
   },
   {
    "duration": 66,
    "start_time": "2022-05-09T11:17:30.458Z"
   },
   {
    "duration": 10,
    "start_time": "2022-05-09T11:17:30.527Z"
   },
   {
    "duration": 11,
    "start_time": "2022-05-09T11:17:30.540Z"
   },
   {
    "duration": 19,
    "start_time": "2022-05-09T11:17:30.554Z"
   },
   {
    "duration": 397,
    "start_time": "2022-05-09T11:17:30.576Z"
   },
   {
    "duration": 0,
    "start_time": "2022-05-09T11:17:30.975Z"
   },
   {
    "duration": 4,
    "start_time": "2022-05-09T11:17:55.827Z"
   },
   {
    "duration": 486,
    "start_time": "2022-05-09T11:17:56.846Z"
   },
   {
    "duration": 12,
    "start_time": "2022-05-09T11:18:02.314Z"
   },
   {
    "duration": 356,
    "start_time": "2022-05-09T11:20:14.578Z"
   },
   {
    "duration": 11,
    "start_time": "2022-05-09T11:20:31.252Z"
   },
   {
    "duration": 294,
    "start_time": "2022-05-09T11:21:04.037Z"
   },
   {
    "duration": 399,
    "start_time": "2022-05-09T11:21:20.645Z"
   },
   {
    "duration": 18,
    "start_time": "2022-05-09T11:22:14.300Z"
   },
   {
    "duration": 13,
    "start_time": "2022-05-09T11:22:40.080Z"
   },
   {
    "duration": 12,
    "start_time": "2022-05-09T11:22:55.722Z"
   },
   {
    "duration": 153,
    "start_time": "2022-05-09T11:23:01.960Z"
   },
   {
    "duration": 18,
    "start_time": "2022-05-09T11:23:04.832Z"
   },
   {
    "duration": 5,
    "start_time": "2022-05-09T11:23:59.632Z"
   },
   {
    "duration": 15,
    "start_time": "2022-05-09T11:27:19.682Z"
   },
   {
    "duration": 13,
    "start_time": "2022-05-09T11:27:42.101Z"
   },
   {
    "duration": 15,
    "start_time": "2022-05-09T11:28:04.680Z"
   },
   {
    "duration": 9,
    "start_time": "2022-05-09T11:28:09.528Z"
   },
   {
    "duration": 14,
    "start_time": "2022-05-09T11:28:23.208Z"
   },
   {
    "duration": 8,
    "start_time": "2022-05-09T11:28:24.640Z"
   },
   {
    "duration": 23,
    "start_time": "2022-05-09T11:29:16.553Z"
   },
   {
    "duration": 7,
    "start_time": "2022-05-09T11:29:39.781Z"
   },
   {
    "duration": 5,
    "start_time": "2022-05-09T11:29:41.000Z"
   },
   {
    "duration": 9,
    "start_time": "2022-05-09T11:29:44.648Z"
   },
   {
    "duration": 21,
    "start_time": "2022-05-09T11:30:38.300Z"
   },
   {
    "duration": 14,
    "start_time": "2022-05-09T11:32:14.642Z"
   },
   {
    "duration": 6,
    "start_time": "2022-05-09T11:32:28.540Z"
   },
   {
    "duration": 7,
    "start_time": "2022-05-09T11:32:46.556Z"
   },
   {
    "duration": 6,
    "start_time": "2022-05-09T11:36:30.296Z"
   },
   {
    "duration": 16,
    "start_time": "2022-05-09T11:37:07.672Z"
   },
   {
    "duration": 36,
    "start_time": "2022-05-09T11:37:14.195Z"
   },
   {
    "duration": 29,
    "start_time": "2022-05-09T11:37:32.080Z"
   },
   {
    "duration": 22,
    "start_time": "2022-05-09T11:38:09.583Z"
   },
   {
    "duration": 25,
    "start_time": "2022-05-09T11:41:48.194Z"
   },
   {
    "duration": 14,
    "start_time": "2022-05-09T11:42:43.615Z"
   },
   {
    "duration": 13,
    "start_time": "2022-05-09T11:42:55.295Z"
   },
   {
    "duration": 127,
    "start_time": "2022-05-09T11:43:25.384Z"
   },
   {
    "duration": 22,
    "start_time": "2022-05-09T11:43:32.164Z"
   },
   {
    "duration": 23,
    "start_time": "2022-05-09T11:48:19.913Z"
   },
   {
    "duration": 10,
    "start_time": "2022-05-09T11:49:16.554Z"
   },
   {
    "duration": 7,
    "start_time": "2022-05-09T11:49:36.173Z"
   },
   {
    "duration": 35,
    "start_time": "2022-05-09T11:53:37.823Z"
   },
   {
    "duration": 6,
    "start_time": "2022-05-09T11:53:59.676Z"
   },
   {
    "duration": 38,
    "start_time": "2022-05-09T11:55:19.156Z"
   },
   {
    "duration": 5,
    "start_time": "2022-05-09T11:55:58.838Z"
   },
   {
    "duration": 13,
    "start_time": "2022-05-09T12:20:36.788Z"
   },
   {
    "duration": 8,
    "start_time": "2022-05-09T12:20:43.069Z"
   },
   {
    "duration": 7,
    "start_time": "2022-05-09T12:46:50.141Z"
   },
   {
    "duration": 6,
    "start_time": "2022-05-09T12:46:50.801Z"
   },
   {
    "duration": 64,
    "start_time": "2022-05-09T12:47:21.292Z"
   },
   {
    "duration": 37,
    "start_time": "2022-05-09T12:47:53.022Z"
   },
   {
    "duration": 60,
    "start_time": "2022-05-09T12:48:36.489Z"
   },
   {
    "duration": 6,
    "start_time": "2022-05-09T12:53:42.661Z"
   },
   {
    "duration": 59,
    "start_time": "2022-05-09T12:53:43.654Z"
   },
   {
    "duration": 7,
    "start_time": "2022-05-09T12:54:35.697Z"
   },
   {
    "duration": 2588,
    "start_time": "2022-05-09T14:54:54.733Z"
   },
   {
    "duration": 492,
    "start_time": "2022-05-09T14:54:57.324Z"
   },
   {
    "duration": 6,
    "start_time": "2022-05-09T14:54:57.819Z"
   },
   {
    "duration": 704,
    "start_time": "2022-05-09T14:54:57.827Z"
   },
   {
    "duration": 599,
    "start_time": "2022-05-09T14:54:58.536Z"
   },
   {
    "duration": 640,
    "start_time": "2022-05-09T14:54:59.137Z"
   },
   {
    "duration": 9,
    "start_time": "2022-05-09T14:54:59.780Z"
   },
   {
    "duration": 46,
    "start_time": "2022-05-09T14:54:59.791Z"
   },
   {
    "duration": 19,
    "start_time": "2022-05-09T14:54:59.840Z"
   },
   {
    "duration": 22,
    "start_time": "2022-05-09T14:54:59.867Z"
   },
   {
    "duration": 8,
    "start_time": "2022-05-09T14:54:59.891Z"
   },
   {
    "duration": 6,
    "start_time": "2022-05-09T14:54:59.901Z"
   },
   {
    "duration": 378,
    "start_time": "2022-05-09T14:54:59.909Z"
   },
   {
    "duration": 59,
    "start_time": "2022-05-09T14:55:00.294Z"
   },
   {
    "duration": 112,
    "start_time": "2022-05-09T14:55:00.357Z"
   },
   {
    "duration": 16,
    "start_time": "2022-05-09T14:55:00.472Z"
   },
   {
    "duration": 16,
    "start_time": "2022-05-09T14:55:00.491Z"
   },
   {
    "duration": 5,
    "start_time": "2022-05-09T14:55:19.737Z"
   },
   {
    "duration": 204,
    "start_time": "2022-05-09T14:55:24.436Z"
   },
   {
    "duration": 4,
    "start_time": "2022-05-09T14:58:01.126Z"
   },
   {
    "duration": 20,
    "start_time": "2022-05-09T14:58:02.345Z"
   },
   {
    "duration": 2330,
    "start_time": "2022-05-10T08:14:35.374Z"
   },
   {
    "duration": 1363,
    "start_time": "2022-05-10T08:14:37.706Z"
   },
   {
    "duration": 6,
    "start_time": "2022-05-10T08:14:39.071Z"
   },
   {
    "duration": 740,
    "start_time": "2022-05-10T08:14:39.080Z"
   },
   {
    "duration": 712,
    "start_time": "2022-05-10T08:14:39.825Z"
   },
   {
    "duration": 613,
    "start_time": "2022-05-10T08:14:40.539Z"
   },
   {
    "duration": 5,
    "start_time": "2022-05-10T08:14:41.154Z"
   },
   {
    "duration": 71,
    "start_time": "2022-05-10T08:14:41.161Z"
   },
   {
    "duration": 9,
    "start_time": "2022-05-10T08:14:41.235Z"
   },
   {
    "duration": 34,
    "start_time": "2022-05-10T08:14:41.246Z"
   },
   {
    "duration": 42,
    "start_time": "2022-05-10T08:14:41.283Z"
   },
   {
    "duration": 5,
    "start_time": "2022-05-10T08:15:14.335Z"
   },
   {
    "duration": 3,
    "start_time": "2022-05-10T08:15:15.094Z"
   },
   {
    "duration": 5,
    "start_time": "2022-05-10T08:15:17.738Z"
   },
   {
    "duration": 465,
    "start_time": "2022-05-10T08:15:21.472Z"
   },
   {
    "duration": 5,
    "start_time": "2022-05-10T08:15:23.325Z"
   },
   {
    "duration": 11,
    "start_time": "2022-05-10T08:15:25.717Z"
   },
   {
    "duration": 484,
    "start_time": "2022-05-10T08:24:11.544Z"
   },
   {
    "duration": 416,
    "start_time": "2022-05-10T08:26:11.520Z"
   },
   {
    "duration": 5,
    "start_time": "2022-05-10T08:26:20.872Z"
   },
   {
    "duration": 5,
    "start_time": "2022-05-10T08:26:46.293Z"
   },
   {
    "duration": 5,
    "start_time": "2022-05-10T08:26:47.909Z"
   },
   {
    "duration": 5,
    "start_time": "2022-05-10T08:26:53.817Z"
   },
   {
    "duration": 227,
    "start_time": "2022-05-10T08:27:44.652Z"
   },
   {
    "duration": 5,
    "start_time": "2022-05-10T08:31:00.306Z"
   },
   {
    "duration": 24,
    "start_time": "2022-05-10T08:31:03.187Z"
   },
   {
    "duration": 18,
    "start_time": "2022-05-10T08:34:29.723Z"
   },
   {
    "duration": 17,
    "start_time": "2022-05-10T08:34:42.696Z"
   },
   {
    "duration": 5,
    "start_time": "2022-05-10T08:34:43.942Z"
   },
   {
    "duration": 5,
    "start_time": "2022-05-10T09:24:06.322Z"
   },
   {
    "duration": 18,
    "start_time": "2022-05-10T09:24:08.042Z"
   },
   {
    "duration": 5,
    "start_time": "2022-05-10T09:24:08.374Z"
   },
   {
    "duration": 21,
    "start_time": "2022-05-10T09:44:50.658Z"
   },
   {
    "duration": 20,
    "start_time": "2022-05-10T09:45:40.335Z"
   },
   {
    "duration": 7,
    "start_time": "2022-05-10T11:04:52.588Z"
   },
   {
    "duration": 733,
    "start_time": "2022-05-10T11:04:52.599Z"
   },
   {
    "duration": 9,
    "start_time": "2022-05-10T11:04:53.335Z"
   },
   {
    "duration": 665,
    "start_time": "2022-05-10T11:04:53.346Z"
   },
   {
    "duration": 659,
    "start_time": "2022-05-10T11:04:54.015Z"
   },
   {
    "duration": 922,
    "start_time": "2022-05-10T11:04:54.676Z"
   },
   {
    "duration": 5,
    "start_time": "2022-05-10T11:04:55.601Z"
   },
   {
    "duration": 74,
    "start_time": "2022-05-10T11:04:55.609Z"
   },
   {
    "duration": 16,
    "start_time": "2022-05-10T11:04:55.685Z"
   },
   {
    "duration": 5,
    "start_time": "2022-05-10T11:04:55.725Z"
   },
   {
    "duration": 21,
    "start_time": "2022-05-10T11:04:55.732Z"
   },
   {
    "duration": 8,
    "start_time": "2022-05-10T11:04:55.756Z"
   },
   {
    "duration": 367,
    "start_time": "2022-05-10T11:04:55.767Z"
   },
   {
    "duration": 88,
    "start_time": "2022-05-10T11:04:56.144Z"
   },
   {
    "duration": 105,
    "start_time": "2022-05-10T11:04:56.235Z"
   },
   {
    "duration": 5,
    "start_time": "2022-05-10T11:04:56.342Z"
   },
   {
    "duration": 8,
    "start_time": "2022-05-10T11:04:56.349Z"
   },
   {
    "duration": 7,
    "start_time": "2022-05-10T11:04:56.359Z"
   },
   {
    "duration": 149,
    "start_time": "2022-05-10T11:04:56.369Z"
   },
   {
    "duration": 4,
    "start_time": "2022-05-10T11:05:05.217Z"
   },
   {
    "duration": 22,
    "start_time": "2022-05-10T11:05:08.027Z"
   },
   {
    "duration": 7,
    "start_time": "2022-05-10T11:05:27.971Z"
   },
   {
    "duration": 5,
    "start_time": "2022-05-10T11:22:34.775Z"
   },
   {
    "duration": 10,
    "start_time": "2022-05-10T11:23:54.544Z"
   },
   {
    "duration": 6,
    "start_time": "2022-05-10T11:25:02.439Z"
   },
   {
    "duration": 7,
    "start_time": "2022-05-10T11:25:31.239Z"
   },
   {
    "duration": 5,
    "start_time": "2022-05-10T11:25:42.131Z"
   },
   {
    "duration": 18,
    "start_time": "2022-05-10T11:25:42.916Z"
   },
   {
    "duration": 6,
    "start_time": "2022-05-10T11:26:52.762Z"
   },
   {
    "duration": 5,
    "start_time": "2022-05-10T11:27:01.607Z"
   },
   {
    "duration": 6,
    "start_time": "2022-05-10T11:27:29.468Z"
   },
   {
    "duration": 5,
    "start_time": "2022-05-10T11:27:31.359Z"
   },
   {
    "duration": 29,
    "start_time": "2022-05-10T11:27:32.331Z"
   },
   {
    "duration": 2601,
    "start_time": "2022-05-10T11:28:17.776Z"
   },
   {
    "duration": 487,
    "start_time": "2022-05-10T11:28:20.381Z"
   },
   {
    "duration": 7,
    "start_time": "2022-05-10T11:28:20.870Z"
   },
   {
    "duration": 707,
    "start_time": "2022-05-10T11:28:20.879Z"
   },
   {
    "duration": 600,
    "start_time": "2022-05-10T11:28:21.591Z"
   },
   {
    "duration": 662,
    "start_time": "2022-05-10T11:28:22.194Z"
   },
   {
    "duration": 5,
    "start_time": "2022-05-10T11:28:22.858Z"
   },
   {
    "duration": 91,
    "start_time": "2022-05-10T11:28:22.866Z"
   },
   {
    "duration": 12,
    "start_time": "2022-05-10T11:28:22.960Z"
   },
   {
    "duration": 12,
    "start_time": "2022-05-10T11:28:22.975Z"
   },
   {
    "duration": 8,
    "start_time": "2022-05-10T11:28:22.991Z"
   },
   {
    "duration": 27,
    "start_time": "2022-05-10T11:28:23.001Z"
   },
   {
    "duration": 494,
    "start_time": "2022-05-10T11:28:23.032Z"
   },
   {
    "duration": 91,
    "start_time": "2022-05-10T11:28:23.536Z"
   },
   {
    "duration": 14,
    "start_time": "2022-05-10T11:28:23.630Z"
   },
   {
    "duration": 7,
    "start_time": "2022-05-10T11:28:23.648Z"
   },
   {
    "duration": 7,
    "start_time": "2022-05-10T11:28:23.657Z"
   },
   {
    "duration": 7,
    "start_time": "2022-05-10T11:28:23.667Z"
   },
   {
    "duration": 52,
    "start_time": "2022-05-10T11:28:23.677Z"
   },
   {
    "duration": 9,
    "start_time": "2022-05-10T11:28:23.732Z"
   },
   {
    "duration": 234,
    "start_time": "2022-05-10T11:28:23.744Z"
   },
   {
    "duration": 0,
    "start_time": "2022-05-10T11:28:23.980Z"
   },
   {
    "duration": 0,
    "start_time": "2022-05-10T11:28:23.982Z"
   },
   {
    "duration": 5,
    "start_time": "2022-05-10T11:28:47.817Z"
   },
   {
    "duration": 5,
    "start_time": "2022-05-10T11:28:49.046Z"
   },
   {
    "duration": 18,
    "start_time": "2022-05-10T11:28:49.675Z"
   },
   {
    "duration": 6,
    "start_time": "2022-05-10T11:29:01.426Z"
   },
   {
    "duration": 5,
    "start_time": "2022-05-10T11:29:01.714Z"
   },
   {
    "duration": 21,
    "start_time": "2022-05-10T11:29:02.228Z"
   },
   {
    "duration": 5,
    "start_time": "2022-05-10T11:29:25.744Z"
   },
   {
    "duration": 5,
    "start_time": "2022-05-10T11:29:26.613Z"
   },
   {
    "duration": 20,
    "start_time": "2022-05-10T11:29:29.936Z"
   },
   {
    "duration": 5,
    "start_time": "2022-05-10T11:29:55.120Z"
   },
   {
    "duration": 5,
    "start_time": "2022-05-10T11:29:55.835Z"
   },
   {
    "duration": 6,
    "start_time": "2022-05-10T11:29:56.656Z"
   },
   {
    "duration": 4,
    "start_time": "2022-05-10T11:36:37.426Z"
   },
   {
    "duration": 5,
    "start_time": "2022-05-10T11:36:38.253Z"
   },
   {
    "duration": 7,
    "start_time": "2022-05-10T11:36:38.870Z"
   },
   {
    "duration": 4,
    "start_time": "2022-05-10T11:37:55.567Z"
   },
   {
    "duration": 5,
    "start_time": "2022-05-10T11:37:57.047Z"
   },
   {
    "duration": 11,
    "start_time": "2022-05-10T11:37:57.332Z"
   },
   {
    "duration": 63,
    "start_time": "2022-05-10T11:44:39.449Z"
   },
   {
    "duration": 6,
    "start_time": "2022-05-10T11:44:46.771Z"
   },
   {
    "duration": 7,
    "start_time": "2022-05-10T11:59:16.143Z"
   },
   {
    "duration": 25,
    "start_time": "2022-05-10T11:59:22.175Z"
   },
   {
    "duration": 8,
    "start_time": "2022-05-10T11:59:26.614Z"
   },
   {
    "duration": 27,
    "start_time": "2022-05-10T11:59:29.072Z"
   },
   {
    "duration": 9,
    "start_time": "2022-05-10T12:00:01.370Z"
   },
   {
    "duration": 34,
    "start_time": "2022-05-10T12:00:02.058Z"
   },
   {
    "duration": 8,
    "start_time": "2022-05-10T12:00:11.654Z"
   },
   {
    "duration": 52,
    "start_time": "2022-05-10T12:00:12.138Z"
   },
   {
    "duration": 14,
    "start_time": "2022-05-10T12:01:06.219Z"
   },
   {
    "duration": 872,
    "start_time": "2022-05-10T12:01:07.122Z"
   },
   {
    "duration": 7,
    "start_time": "2022-05-10T12:02:01.480Z"
   },
   {
    "duration": 1338,
    "start_time": "2022-05-10T12:02:01.859Z"
   },
   {
    "duration": 7,
    "start_time": "2022-05-10T12:02:28.827Z"
   },
   {
    "duration": 862,
    "start_time": "2022-05-10T12:02:29.635Z"
   },
   {
    "duration": 9,
    "start_time": "2022-05-10T12:02:55.341Z"
   },
   {
    "duration": 785,
    "start_time": "2022-05-10T12:02:55.580Z"
   },
   {
    "duration": 7,
    "start_time": "2022-05-10T12:03:42.001Z"
   },
   {
    "duration": 746,
    "start_time": "2022-05-10T12:03:44.785Z"
   },
   {
    "duration": 8,
    "start_time": "2022-05-10T12:03:55.798Z"
   },
   {
    "duration": 736,
    "start_time": "2022-05-10T12:03:56.066Z"
   },
   {
    "duration": 10,
    "start_time": "2022-05-10T12:05:19.448Z"
   },
   {
    "duration": 52,
    "start_time": "2022-05-10T12:05:20.046Z"
   },
   {
    "duration": 8,
    "start_time": "2022-05-10T12:06:50.598Z"
   },
   {
    "duration": 5782,
    "start_time": "2022-05-10T12:06:51.191Z"
   },
   {
    "duration": 2699,
    "start_time": "2022-05-10T12:07:32.386Z"
   },
   {
    "duration": 530,
    "start_time": "2022-05-10T12:07:35.089Z"
   },
   {
    "duration": 7,
    "start_time": "2022-05-10T12:07:35.622Z"
   },
   {
    "duration": 772,
    "start_time": "2022-05-10T12:07:35.632Z"
   },
   {
    "duration": 717,
    "start_time": "2022-05-10T12:07:36.407Z"
   },
   {
    "duration": 793,
    "start_time": "2022-05-10T12:07:37.128Z"
   },
   {
    "duration": 17,
    "start_time": "2022-05-10T12:07:37.925Z"
   },
   {
    "duration": 93,
    "start_time": "2022-05-10T12:07:37.946Z"
   },
   {
    "duration": 15,
    "start_time": "2022-05-10T12:07:38.042Z"
   },
   {
    "duration": 12,
    "start_time": "2022-05-10T12:07:38.060Z"
   },
   {
    "duration": 9,
    "start_time": "2022-05-10T12:07:38.075Z"
   },
   {
    "duration": 11,
    "start_time": "2022-05-10T12:07:38.088Z"
   },
   {
    "duration": 476,
    "start_time": "2022-05-10T12:07:38.102Z"
   },
   {
    "duration": 46,
    "start_time": "2022-05-10T12:07:38.583Z"
   },
   {
    "duration": 130,
    "start_time": "2022-05-10T12:07:38.633Z"
   },
   {
    "duration": 7,
    "start_time": "2022-05-10T12:07:38.765Z"
   },
   {
    "duration": 13,
    "start_time": "2022-05-10T12:07:38.776Z"
   },
   {
    "duration": 5,
    "start_time": "2022-05-10T12:07:42.547Z"
   },
   {
    "duration": 10,
    "start_time": "2022-05-10T12:07:44.491Z"
   },
   {
    "duration": 306,
    "start_time": "2022-05-10T12:07:45.169Z"
   },
   {
    "duration": 13,
    "start_time": "2022-05-10T12:07:53.528Z"
   },
   {
    "duration": 46,
    "start_time": "2022-05-10T12:07:54.115Z"
   },
   {
    "duration": 5,
    "start_time": "2022-05-10T12:09:02.818Z"
   },
   {
    "duration": 8,
    "start_time": "2022-05-10T12:09:03.542Z"
   },
   {
    "duration": 38,
    "start_time": "2022-05-10T12:09:04.093Z"
   },
   {
    "duration": 36,
    "start_time": "2022-05-10T12:12:14.280Z"
   },
   {
    "duration": 5,
    "start_time": "2022-05-10T12:12:54.817Z"
   },
   {
    "duration": 6,
    "start_time": "2022-05-10T12:17:06.205Z"
   },
   {
    "duration": 9,
    "start_time": "2022-05-10T12:17:06.667Z"
   },
   {
    "duration": 49,
    "start_time": "2022-05-10T12:17:07.778Z"
   },
   {
    "duration": 7,
    "start_time": "2022-05-10T12:17:48.069Z"
   },
   {
    "duration": 2788,
    "start_time": "2022-05-10T12:17:48.562Z"
   },
   {
    "duration": 7,
    "start_time": "2022-05-10T12:18:34.310Z"
   },
   {
    "duration": 56,
    "start_time": "2022-05-10T12:18:34.918Z"
   },
   {
    "duration": 11,
    "start_time": "2022-05-10T12:19:39.049Z"
   },
   {
    "duration": 8,
    "start_time": "2022-05-10T12:19:39.349Z"
   },
   {
    "duration": 55,
    "start_time": "2022-05-10T12:19:39.899Z"
   },
   {
    "duration": 6,
    "start_time": "2022-05-10T12:21:27.847Z"
   },
   {
    "duration": 10,
    "start_time": "2022-05-10T12:21:28.092Z"
   },
   {
    "duration": 39,
    "start_time": "2022-05-10T12:21:29.872Z"
   },
   {
    "duration": 5,
    "start_time": "2022-05-10T12:22:37.912Z"
   },
   {
    "duration": 14,
    "start_time": "2022-05-10T12:22:38.465Z"
   },
   {
    "duration": 43,
    "start_time": "2022-05-10T12:22:39.979Z"
   },
   {
    "duration": 6,
    "start_time": "2022-05-10T12:23:25.052Z"
   },
   {
    "duration": 9,
    "start_time": "2022-05-10T12:23:26.281Z"
   },
   {
    "duration": 46,
    "start_time": "2022-05-10T12:23:26.943Z"
   },
   {
    "duration": 5,
    "start_time": "2022-05-10T12:23:43.663Z"
   },
   {
    "duration": 6,
    "start_time": "2022-05-10T12:23:44.552Z"
   },
   {
    "duration": 52,
    "start_time": "2022-05-10T12:23:45.119Z"
   },
   {
    "duration": 6,
    "start_time": "2022-05-10T12:24:25.147Z"
   },
   {
    "duration": 42,
    "start_time": "2022-05-10T12:24:33.743Z"
   },
   {
    "duration": 5,
    "start_time": "2022-05-10T12:25:09.304Z"
   },
   {
    "duration": 24,
    "start_time": "2022-05-10T12:25:14.033Z"
   },
   {
    "duration": 5,
    "start_time": "2022-05-10T12:27:38.392Z"
   },
   {
    "duration": 40,
    "start_time": "2022-05-10T12:27:45.460Z"
   },
   {
    "duration": 6,
    "start_time": "2022-05-10T12:29:05.279Z"
   },
   {
    "duration": 7,
    "start_time": "2022-05-10T12:29:06.566Z"
   },
   {
    "duration": 48,
    "start_time": "2022-05-10T12:29:07.618Z"
   },
   {
    "duration": 7,
    "start_time": "2022-05-10T12:29:13.295Z"
   },
   {
    "duration": 6,
    "start_time": "2022-05-10T12:29:57.434Z"
   },
   {
    "duration": 53,
    "start_time": "2022-05-10T12:30:06.228Z"
   },
   {
    "duration": 5,
    "start_time": "2022-05-10T12:30:29.669Z"
   },
   {
    "duration": 38,
    "start_time": "2022-05-10T12:30:34.297Z"
   },
   {
    "duration": 5,
    "start_time": "2022-05-10T12:30:53.098Z"
   },
   {
    "duration": 34,
    "start_time": "2022-05-10T12:30:59.368Z"
   },
   {
    "duration": 5,
    "start_time": "2022-05-10T12:31:22.600Z"
   },
   {
    "duration": 22,
    "start_time": "2022-05-10T12:31:28.345Z"
   },
   {
    "duration": 38,
    "start_time": "2022-05-10T12:32:32.286Z"
   },
   {
    "duration": 5,
    "start_time": "2022-05-10T12:33:04.606Z"
   },
   {
    "duration": 3033,
    "start_time": "2022-05-10T12:33:08.246Z"
   },
   {
    "duration": 28,
    "start_time": "2022-05-10T12:35:17.292Z"
   },
   {
    "duration": 5,
    "start_time": "2022-05-10T12:43:54.812Z"
   },
   {
    "duration": 6,
    "start_time": "2022-05-10T12:43:59.532Z"
   },
   {
    "duration": 34,
    "start_time": "2022-05-10T12:43:59.880Z"
   },
   {
    "duration": 5,
    "start_time": "2022-05-10T12:44:40.858Z"
   },
   {
    "duration": 6,
    "start_time": "2022-05-10T12:45:12.987Z"
   },
   {
    "duration": 7,
    "start_time": "2022-05-10T12:45:14.162Z"
   },
   {
    "duration": 3527,
    "start_time": "2022-05-10T12:45:18.212Z"
   },
   {
    "duration": 8,
    "start_time": "2022-05-10T12:45:50.238Z"
   },
   {
    "duration": 10,
    "start_time": "2022-05-10T12:45:53.105Z"
   },
   {
    "duration": 3674,
    "start_time": "2022-05-10T12:45:53.742Z"
   },
   {
    "duration": 9,
    "start_time": "2022-05-10T12:46:08.207Z"
   },
   {
    "duration": 3758,
    "start_time": "2022-05-10T12:46:45.976Z"
   },
   {
    "duration": 20,
    "start_time": "2022-05-10T12:47:59.617Z"
   },
   {
    "duration": 7,
    "start_time": "2022-05-10T12:48:21.426Z"
   },
   {
    "duration": 3586,
    "start_time": "2022-05-10T12:54:11.787Z"
   },
   {
    "duration": 3611,
    "start_time": "2022-05-10T12:54:21.826Z"
   },
   {
    "duration": 7,
    "start_time": "2022-05-10T12:56:20.953Z"
   },
   {
    "duration": 3787,
    "start_time": "2022-05-10T12:56:21.330Z"
   },
   {
    "duration": 3859,
    "start_time": "2022-05-10T12:58:53.803Z"
   },
   {
    "duration": 3687,
    "start_time": "2022-05-10T12:59:02.411Z"
   },
   {
    "duration": 20,
    "start_time": "2022-05-10T13:01:44.918Z"
   },
   {
    "duration": 2069,
    "start_time": "2022-05-10T13:02:50.642Z"
   },
   {
    "duration": 665,
    "start_time": "2022-05-10T13:02:52.713Z"
   },
   {
    "duration": 5,
    "start_time": "2022-05-10T13:02:53.381Z"
   },
   {
    "duration": 774,
    "start_time": "2022-05-10T13:02:53.388Z"
   },
   {
    "duration": 703,
    "start_time": "2022-05-10T13:02:54.166Z"
   },
   {
    "duration": 773,
    "start_time": "2022-05-10T13:02:54.871Z"
   },
   {
    "duration": 4,
    "start_time": "2022-05-10T13:02:55.647Z"
   },
   {
    "duration": 47,
    "start_time": "2022-05-10T13:02:55.653Z"
   },
   {
    "duration": 25,
    "start_time": "2022-05-10T13:02:55.703Z"
   },
   {
    "duration": 18,
    "start_time": "2022-05-10T13:02:55.731Z"
   },
   {
    "duration": 11,
    "start_time": "2022-05-10T13:02:55.752Z"
   },
   {
    "duration": 10,
    "start_time": "2022-05-10T13:02:55.765Z"
   },
   {
    "duration": 455,
    "start_time": "2022-05-10T13:02:55.777Z"
   },
   {
    "duration": 93,
    "start_time": "2022-05-10T13:02:56.238Z"
   },
   {
    "duration": 103,
    "start_time": "2022-05-10T13:02:56.334Z"
   },
   {
    "duration": 6,
    "start_time": "2022-05-10T13:02:56.440Z"
   },
   {
    "duration": 9,
    "start_time": "2022-05-10T13:02:56.448Z"
   },
   {
    "duration": 9,
    "start_time": "2022-05-10T13:02:56.459Z"
   },
   {
    "duration": 55,
    "start_time": "2022-05-10T13:02:56.470Z"
   },
   {
    "duration": 5,
    "start_time": "2022-05-10T13:02:56.528Z"
   },
   {
    "duration": 9,
    "start_time": "2022-05-10T13:02:56.536Z"
   },
   {
    "duration": 3779,
    "start_time": "2022-05-10T13:02:56.547Z"
   },
   {
    "duration": 3986,
    "start_time": "2022-05-10T13:03:00.329Z"
   },
   {
    "duration": 3647,
    "start_time": "2022-05-10T13:03:04.325Z"
   },
   {
    "duration": 10,
    "start_time": "2022-05-10T13:04:27.936Z"
   },
   {
    "duration": 3936,
    "start_time": "2022-05-10T13:04:29.807Z"
   },
   {
    "duration": 4941,
    "start_time": "2022-05-10T13:04:33.746Z"
   },
   {
    "duration": 5113,
    "start_time": "2022-05-10T13:04:38.690Z"
   },
   {
    "duration": 8,
    "start_time": "2022-05-10T13:04:56.605Z"
   },
   {
    "duration": 5920,
    "start_time": "2022-05-10T13:04:56.971Z"
   },
   {
    "duration": 3836,
    "start_time": "2022-05-10T13:05:02.895Z"
   },
   {
    "duration": 4053,
    "start_time": "2022-05-10T13:05:06.733Z"
   },
   {
    "duration": 20,
    "start_time": "2022-05-10T13:24:40.471Z"
   },
   {
    "duration": 16,
    "start_time": "2022-05-10T13:26:59.466Z"
   },
   {
    "duration": 177,
    "start_time": "2022-05-10T13:27:15.567Z"
   },
   {
    "duration": 10,
    "start_time": "2022-05-10T13:27:19.663Z"
   },
   {
    "duration": 5,
    "start_time": "2022-05-10T13:27:26.159Z"
   },
   {
    "duration": 6,
    "start_time": "2022-05-10T13:27:41.282Z"
   },
   {
    "duration": 7,
    "start_time": "2022-05-10T13:27:54.648Z"
   },
   {
    "duration": 9,
    "start_time": "2022-05-10T13:29:07.236Z"
   },
   {
    "duration": 3106,
    "start_time": "2022-05-10T13:29:09.466Z"
   },
   {
    "duration": 10,
    "start_time": "2022-05-10T13:39:42.825Z"
   },
   {
    "duration": 2838,
    "start_time": "2022-05-10T13:39:53.266Z"
   },
   {
    "duration": 10,
    "start_time": "2022-05-10T13:40:04.788Z"
   },
   {
    "duration": 2255,
    "start_time": "2022-05-10T13:40:05.579Z"
   },
   {
    "duration": 5073,
    "start_time": "2022-05-10T13:41:28.199Z"
   },
   {
    "duration": 2438,
    "start_time": "2022-05-10T13:41:43.007Z"
   },
   {
    "duration": 13,
    "start_time": "2022-05-10T13:41:52.694Z"
   },
   {
    "duration": 8,
    "start_time": "2022-05-10T13:42:31.703Z"
   },
   {
    "duration": 7,
    "start_time": "2022-05-10T13:42:37.810Z"
   },
   {
    "duration": 12,
    "start_time": "2022-05-10T13:42:56.127Z"
   },
   {
    "duration": 2860,
    "start_time": "2022-05-10T13:42:58.814Z"
   },
   {
    "duration": 11,
    "start_time": "2022-05-10T13:43:03.814Z"
   },
   {
    "duration": 13,
    "start_time": "2022-05-10T13:43:19.910Z"
   },
   {
    "duration": 9,
    "start_time": "2022-05-10T13:43:25.407Z"
   },
   {
    "duration": 12,
    "start_time": "2022-05-10T13:43:27.394Z"
   },
   {
    "duration": 2456,
    "start_time": "2022-05-10T13:43:30.074Z"
   },
   {
    "duration": 18,
    "start_time": "2022-05-10T13:43:34.346Z"
   },
   {
    "duration": 2338,
    "start_time": "2022-05-10T13:44:15.292Z"
   },
   {
    "duration": 2334,
    "start_time": "2022-05-10T13:44:17.633Z"
   },
   {
    "duration": 13,
    "start_time": "2022-05-10T13:44:28.179Z"
   },
   {
    "duration": 212,
    "start_time": "2022-05-10T13:44:41.975Z"
   },
   {
    "duration": 347,
    "start_time": "2022-05-10T13:45:10.308Z"
   },
   {
    "duration": 134,
    "start_time": "2022-05-10T13:45:59.284Z"
   },
   {
    "duration": 132,
    "start_time": "2022-05-10T13:46:11.576Z"
   },
   {
    "duration": 115,
    "start_time": "2022-05-10T13:46:26.759Z"
   },
   {
    "duration": 168,
    "start_time": "2022-05-10T13:46:31.204Z"
   },
   {
    "duration": 234,
    "start_time": "2022-05-10T13:46:54.951Z"
   },
   {
    "duration": 271,
    "start_time": "2022-05-10T13:47:26.470Z"
   },
   {
    "duration": 308,
    "start_time": "2022-05-10T13:48:12.222Z"
   },
   {
    "duration": 181,
    "start_time": "2022-05-10T13:48:49.996Z"
   }
  ],
  "kernelspec": {
   "display_name": "Python 3 (ipykernel)",
   "language": "python",
   "name": "python3"
  },
  "language_info": {
   "codemirror_mode": {
    "name": "ipython",
    "version": 3
   },
   "file_extension": ".py",
   "mimetype": "text/x-python",
   "name": "python",
   "nbconvert_exporter": "python",
   "pygments_lexer": "ipython3",
   "version": "3.9.5"
  },
  "toc": {
   "base_numbering": 1,
   "nav_menu": {},
   "number_sections": true,
   "sideBar": true,
   "skip_h1_title": true,
   "title_cell": "Table of Contents",
   "title_sidebar": "Contents",
   "toc_cell": false,
   "toc_position": {},
   "toc_section_display": true,
   "toc_window_display": false
  }
 },
 "nbformat": 4,
 "nbformat_minor": 2
}
