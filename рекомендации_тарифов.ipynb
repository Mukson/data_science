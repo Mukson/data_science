{
 "cells": [
  {
   "cell_type": "markdown",
   "metadata": {},
   "source": [
    "# Рекомендация тарифов"
   ]
  },
  {
   "cell_type": "markdown",
   "metadata": {},
   "source": [
    "# Описание проекта\n",
    "Оператор мобильной связи «Мегалайн» выяснил: многие клиенты пользуются архивными тарифами. Они хотят построить систему, способную проанализировать поведение клиентов и предложить пользователям новый тариф: «Смарт» или «Ультра».\n",
    "В вашем распоряжении данные о поведении клиентов, которые уже перешли на эти тарифы (из проекта курса «Статистический анализ данных»). Нужно построить модель для задачи классификации, которая выберет подходящий тариф. Предобработка данных не понадобится — вы её уже сделали.\n",
    "\n",
    "Постройте модель с максимально большим значением accuracy. Чтобы сдать проект успешно, нужно довести долю правильных ответов по крайней мере до 0.75. Проверьте accuracy на тестовой выборке самостоятельно.\n",
    "\n",
    "\n",
    "**Дополнительное задание:** проверьте модели на вменяемость. Ничего страшного, если не получится: эти данные сложнее тех, с которыми вы работали раньше. В следующем курсе подробнее об этом расскажем.\n",
    "\n",
    "**Описание данных**\n",
    "\n",
    "Каждый объект в наборе данных — это информация о поведении одного пользователя за месяц. Известно:\n",
    "* сalls — количество звонков,\n",
    "* minutes — суммарная длительность звонков в минутах,\n",
    "* messages — количество sms-сообщений,\n",
    "* mb_used — израсходованный интернет-трафик в Мб,\n",
    "* is_ultra — каким тарифом пользовался в течение месяца («Ультра» — 1, «Смарт» — 0)."
   ]
  },
  {
   "cell_type": "markdown",
   "metadata": {},
   "source": [
    "1. [Обзор данных](#description)\n",
    "    * [Вывод](#conclution1)\n",
    "2. [Предобработка данных](#preprocessing)\n",
    "    * [Вывод](#conclution2)\n",
    "3. [Сравнение моделей](#ml)\n",
    "    * [Вывод](#conclution3)\n",
    "4. [Общий вывод](#conclusion)"
   ]
  },
  {
   "cell_type": "markdown",
   "metadata": {},
   "source": [
    "<a id=\"description\"></a>\n",
    "## Обзор данных"
   ]
  },
  {
   "cell_type": "code",
   "execution_count": 2,
   "metadata": {},
   "outputs": [],
   "source": [
    "import pandas as pd\n",
    "import seaborn as sns\n",
    "import numpy as np\n",
    "import matplotlib.pyplot as plt\n",
    "from scipy import stats as st\n",
    "from sklearn.model_selection import train_test_split\n",
    "from sklearn.tree import DecisionTreeClassifier\n",
    "from sklearn.metrics import accuracy_score, confusion_matrix, roc_auc_score, roc_curve, recall_score, precision_score,f1_score\n",
    "from sklearn.ensemble import RandomForestClassifier\n",
    "from sklearn.linear_model import LogisticRegression \n",
    "from sklearn.ensemble import RandomForestRegressor\n",
    "from sklearn.metrics import mean_squared_error"
   ]
  },
  {
   "cell_type": "code",
   "execution_count": 3,
   "metadata": {},
   "outputs": [],
   "source": [
    "user_info = pd.read_csv('/datasets/users_behavior.csv')"
   ]
  },
  {
   "cell_type": "code",
   "execution_count": 4,
   "metadata": {},
   "outputs": [],
   "source": [
    "def explore_data(df):\n",
    "    display(\n",
    "        \"Сводная информация:\", df.info(),\n",
    "        \"10 строк:\", df.head(10),\n",
    "        \"Столбцы:\", df.columns,\n",
    "        \"Числовое описание:\", df.describe(),\n",
    "        \"Сумма пропусков:\", df.isna().sum(),\n",
    "        \"Доля пропусков:\", df.isna().mean(),\n",
    "        \"Явные дубликаты:\", df.duplicated().sum(),\n",
    "        \"Корреляция:\", df.corr(),\n",
    "        sns.heatmap(df.corr())\n",
    "    )"
   ]
  },
  {
   "cell_type": "code",
   "execution_count": 5,
   "metadata": {
    "scrolled": false
   },
   "outputs": [
    {
     "name": "stdout",
     "output_type": "stream",
     "text": [
      "<class 'pandas.core.frame.DataFrame'>\n",
      "RangeIndex: 3214 entries, 0 to 3213\n",
      "Data columns (total 5 columns):\n",
      " #   Column    Non-Null Count  Dtype  \n",
      "---  ------    --------------  -----  \n",
      " 0   calls     3214 non-null   float64\n",
      " 1   minutes   3214 non-null   float64\n",
      " 2   messages  3214 non-null   float64\n",
      " 3   mb_used   3214 non-null   float64\n",
      " 4   is_ultra  3214 non-null   int64  \n",
      "dtypes: float64(4), int64(1)\n",
      "memory usage: 125.7 KB\n"
     ]
    },
    {
     "data": {
      "text/plain": [
       "'Сводная информация:'"
      ]
     },
     "metadata": {},
     "output_type": "display_data"
    },
    {
     "data": {
      "text/plain": [
       "None"
      ]
     },
     "metadata": {},
     "output_type": "display_data"
    },
    {
     "data": {
      "text/plain": [
       "'10 строк:'"
      ]
     },
     "metadata": {},
     "output_type": "display_data"
    },
    {
     "data": {
      "text/html": [
       "<div>\n",
       "<style scoped>\n",
       "    .dataframe tbody tr th:only-of-type {\n",
       "        vertical-align: middle;\n",
       "    }\n",
       "\n",
       "    .dataframe tbody tr th {\n",
       "        vertical-align: top;\n",
       "    }\n",
       "\n",
       "    .dataframe thead th {\n",
       "        text-align: right;\n",
       "    }\n",
       "</style>\n",
       "<table border=\"1\" class=\"dataframe\">\n",
       "  <thead>\n",
       "    <tr style=\"text-align: right;\">\n",
       "      <th></th>\n",
       "      <th>calls</th>\n",
       "      <th>minutes</th>\n",
       "      <th>messages</th>\n",
       "      <th>mb_used</th>\n",
       "      <th>is_ultra</th>\n",
       "    </tr>\n",
       "  </thead>\n",
       "  <tbody>\n",
       "    <tr>\n",
       "      <th>0</th>\n",
       "      <td>40.0</td>\n",
       "      <td>311.90</td>\n",
       "      <td>83.0</td>\n",
       "      <td>19915.42</td>\n",
       "      <td>0</td>\n",
       "    </tr>\n",
       "    <tr>\n",
       "      <th>1</th>\n",
       "      <td>85.0</td>\n",
       "      <td>516.75</td>\n",
       "      <td>56.0</td>\n",
       "      <td>22696.96</td>\n",
       "      <td>0</td>\n",
       "    </tr>\n",
       "    <tr>\n",
       "      <th>2</th>\n",
       "      <td>77.0</td>\n",
       "      <td>467.66</td>\n",
       "      <td>86.0</td>\n",
       "      <td>21060.45</td>\n",
       "      <td>0</td>\n",
       "    </tr>\n",
       "    <tr>\n",
       "      <th>3</th>\n",
       "      <td>106.0</td>\n",
       "      <td>745.53</td>\n",
       "      <td>81.0</td>\n",
       "      <td>8437.39</td>\n",
       "      <td>1</td>\n",
       "    </tr>\n",
       "    <tr>\n",
       "      <th>4</th>\n",
       "      <td>66.0</td>\n",
       "      <td>418.74</td>\n",
       "      <td>1.0</td>\n",
       "      <td>14502.75</td>\n",
       "      <td>0</td>\n",
       "    </tr>\n",
       "    <tr>\n",
       "      <th>5</th>\n",
       "      <td>58.0</td>\n",
       "      <td>344.56</td>\n",
       "      <td>21.0</td>\n",
       "      <td>15823.37</td>\n",
       "      <td>0</td>\n",
       "    </tr>\n",
       "    <tr>\n",
       "      <th>6</th>\n",
       "      <td>57.0</td>\n",
       "      <td>431.64</td>\n",
       "      <td>20.0</td>\n",
       "      <td>3738.90</td>\n",
       "      <td>1</td>\n",
       "    </tr>\n",
       "    <tr>\n",
       "      <th>7</th>\n",
       "      <td>15.0</td>\n",
       "      <td>132.40</td>\n",
       "      <td>6.0</td>\n",
       "      <td>21911.60</td>\n",
       "      <td>0</td>\n",
       "    </tr>\n",
       "    <tr>\n",
       "      <th>8</th>\n",
       "      <td>7.0</td>\n",
       "      <td>43.39</td>\n",
       "      <td>3.0</td>\n",
       "      <td>2538.67</td>\n",
       "      <td>1</td>\n",
       "    </tr>\n",
       "    <tr>\n",
       "      <th>9</th>\n",
       "      <td>90.0</td>\n",
       "      <td>665.41</td>\n",
       "      <td>38.0</td>\n",
       "      <td>17358.61</td>\n",
       "      <td>0</td>\n",
       "    </tr>\n",
       "  </tbody>\n",
       "</table>\n",
       "</div>"
      ],
      "text/plain": [
       "   calls  minutes  messages   mb_used  is_ultra\n",
       "0   40.0   311.90      83.0  19915.42         0\n",
       "1   85.0   516.75      56.0  22696.96         0\n",
       "2   77.0   467.66      86.0  21060.45         0\n",
       "3  106.0   745.53      81.0   8437.39         1\n",
       "4   66.0   418.74       1.0  14502.75         0\n",
       "5   58.0   344.56      21.0  15823.37         0\n",
       "6   57.0   431.64      20.0   3738.90         1\n",
       "7   15.0   132.40       6.0  21911.60         0\n",
       "8    7.0    43.39       3.0   2538.67         1\n",
       "9   90.0   665.41      38.0  17358.61         0"
      ]
     },
     "metadata": {},
     "output_type": "display_data"
    },
    {
     "data": {
      "text/plain": [
       "'Столбцы:'"
      ]
     },
     "metadata": {},
     "output_type": "display_data"
    },
    {
     "data": {
      "text/plain": [
       "Index(['calls', 'minutes', 'messages', 'mb_used', 'is_ultra'], dtype='object')"
      ]
     },
     "metadata": {},
     "output_type": "display_data"
    },
    {
     "data": {
      "text/plain": [
       "'Числовое описание:'"
      ]
     },
     "metadata": {},
     "output_type": "display_data"
    },
    {
     "data": {
      "text/html": [
       "<div>\n",
       "<style scoped>\n",
       "    .dataframe tbody tr th:only-of-type {\n",
       "        vertical-align: middle;\n",
       "    }\n",
       "\n",
       "    .dataframe tbody tr th {\n",
       "        vertical-align: top;\n",
       "    }\n",
       "\n",
       "    .dataframe thead th {\n",
       "        text-align: right;\n",
       "    }\n",
       "</style>\n",
       "<table border=\"1\" class=\"dataframe\">\n",
       "  <thead>\n",
       "    <tr style=\"text-align: right;\">\n",
       "      <th></th>\n",
       "      <th>calls</th>\n",
       "      <th>minutes</th>\n",
       "      <th>messages</th>\n",
       "      <th>mb_used</th>\n",
       "      <th>is_ultra</th>\n",
       "    </tr>\n",
       "  </thead>\n",
       "  <tbody>\n",
       "    <tr>\n",
       "      <th>count</th>\n",
       "      <td>3214.000000</td>\n",
       "      <td>3214.000000</td>\n",
       "      <td>3214.000000</td>\n",
       "      <td>3214.000000</td>\n",
       "      <td>3214.000000</td>\n",
       "    </tr>\n",
       "    <tr>\n",
       "      <th>mean</th>\n",
       "      <td>63.038892</td>\n",
       "      <td>438.208787</td>\n",
       "      <td>38.281269</td>\n",
       "      <td>17207.673836</td>\n",
       "      <td>0.306472</td>\n",
       "    </tr>\n",
       "    <tr>\n",
       "      <th>std</th>\n",
       "      <td>33.236368</td>\n",
       "      <td>234.569872</td>\n",
       "      <td>36.148326</td>\n",
       "      <td>7570.968246</td>\n",
       "      <td>0.461100</td>\n",
       "    </tr>\n",
       "    <tr>\n",
       "      <th>min</th>\n",
       "      <td>0.000000</td>\n",
       "      <td>0.000000</td>\n",
       "      <td>0.000000</td>\n",
       "      <td>0.000000</td>\n",
       "      <td>0.000000</td>\n",
       "    </tr>\n",
       "    <tr>\n",
       "      <th>25%</th>\n",
       "      <td>40.000000</td>\n",
       "      <td>274.575000</td>\n",
       "      <td>9.000000</td>\n",
       "      <td>12491.902500</td>\n",
       "      <td>0.000000</td>\n",
       "    </tr>\n",
       "    <tr>\n",
       "      <th>50%</th>\n",
       "      <td>62.000000</td>\n",
       "      <td>430.600000</td>\n",
       "      <td>30.000000</td>\n",
       "      <td>16943.235000</td>\n",
       "      <td>0.000000</td>\n",
       "    </tr>\n",
       "    <tr>\n",
       "      <th>75%</th>\n",
       "      <td>82.000000</td>\n",
       "      <td>571.927500</td>\n",
       "      <td>57.000000</td>\n",
       "      <td>21424.700000</td>\n",
       "      <td>1.000000</td>\n",
       "    </tr>\n",
       "    <tr>\n",
       "      <th>max</th>\n",
       "      <td>244.000000</td>\n",
       "      <td>1632.060000</td>\n",
       "      <td>224.000000</td>\n",
       "      <td>49745.730000</td>\n",
       "      <td>1.000000</td>\n",
       "    </tr>\n",
       "  </tbody>\n",
       "</table>\n",
       "</div>"
      ],
      "text/plain": [
       "             calls      minutes     messages       mb_used     is_ultra\n",
       "count  3214.000000  3214.000000  3214.000000   3214.000000  3214.000000\n",
       "mean     63.038892   438.208787    38.281269  17207.673836     0.306472\n",
       "std      33.236368   234.569872    36.148326   7570.968246     0.461100\n",
       "min       0.000000     0.000000     0.000000      0.000000     0.000000\n",
       "25%      40.000000   274.575000     9.000000  12491.902500     0.000000\n",
       "50%      62.000000   430.600000    30.000000  16943.235000     0.000000\n",
       "75%      82.000000   571.927500    57.000000  21424.700000     1.000000\n",
       "max     244.000000  1632.060000   224.000000  49745.730000     1.000000"
      ]
     },
     "metadata": {},
     "output_type": "display_data"
    },
    {
     "data": {
      "text/plain": [
       "'Сумма пропусков:'"
      ]
     },
     "metadata": {},
     "output_type": "display_data"
    },
    {
     "data": {
      "text/plain": [
       "calls       0\n",
       "minutes     0\n",
       "messages    0\n",
       "mb_used     0\n",
       "is_ultra    0\n",
       "dtype: int64"
      ]
     },
     "metadata": {},
     "output_type": "display_data"
    },
    {
     "data": {
      "text/plain": [
       "'Доля пропусков:'"
      ]
     },
     "metadata": {},
     "output_type": "display_data"
    },
    {
     "data": {
      "text/plain": [
       "calls       0.0\n",
       "minutes     0.0\n",
       "messages    0.0\n",
       "mb_used     0.0\n",
       "is_ultra    0.0\n",
       "dtype: float64"
      ]
     },
     "metadata": {},
     "output_type": "display_data"
    },
    {
     "data": {
      "text/plain": [
       "'Явные дубликаты:'"
      ]
     },
     "metadata": {},
     "output_type": "display_data"
    },
    {
     "data": {
      "text/plain": [
       "0"
      ]
     },
     "metadata": {},
     "output_type": "display_data"
    },
    {
     "data": {
      "text/plain": [
       "'Корреляция:'"
      ]
     },
     "metadata": {},
     "output_type": "display_data"
    },
    {
     "data": {
      "text/html": [
       "<div>\n",
       "<style scoped>\n",
       "    .dataframe tbody tr th:only-of-type {\n",
       "        vertical-align: middle;\n",
       "    }\n",
       "\n",
       "    .dataframe tbody tr th {\n",
       "        vertical-align: top;\n",
       "    }\n",
       "\n",
       "    .dataframe thead th {\n",
       "        text-align: right;\n",
       "    }\n",
       "</style>\n",
       "<table border=\"1\" class=\"dataframe\">\n",
       "  <thead>\n",
       "    <tr style=\"text-align: right;\">\n",
       "      <th></th>\n",
       "      <th>calls</th>\n",
       "      <th>minutes</th>\n",
       "      <th>messages</th>\n",
       "      <th>mb_used</th>\n",
       "      <th>is_ultra</th>\n",
       "    </tr>\n",
       "  </thead>\n",
       "  <tbody>\n",
       "    <tr>\n",
       "      <th>calls</th>\n",
       "      <td>1.000000</td>\n",
       "      <td>0.982083</td>\n",
       "      <td>0.177385</td>\n",
       "      <td>0.286442</td>\n",
       "      <td>0.207122</td>\n",
       "    </tr>\n",
       "    <tr>\n",
       "      <th>minutes</th>\n",
       "      <td>0.982083</td>\n",
       "      <td>1.000000</td>\n",
       "      <td>0.173110</td>\n",
       "      <td>0.280967</td>\n",
       "      <td>0.206955</td>\n",
       "    </tr>\n",
       "    <tr>\n",
       "      <th>messages</th>\n",
       "      <td>0.177385</td>\n",
       "      <td>0.173110</td>\n",
       "      <td>1.000000</td>\n",
       "      <td>0.195721</td>\n",
       "      <td>0.203830</td>\n",
       "    </tr>\n",
       "    <tr>\n",
       "      <th>mb_used</th>\n",
       "      <td>0.286442</td>\n",
       "      <td>0.280967</td>\n",
       "      <td>0.195721</td>\n",
       "      <td>1.000000</td>\n",
       "      <td>0.198568</td>\n",
       "    </tr>\n",
       "    <tr>\n",
       "      <th>is_ultra</th>\n",
       "      <td>0.207122</td>\n",
       "      <td>0.206955</td>\n",
       "      <td>0.203830</td>\n",
       "      <td>0.198568</td>\n",
       "      <td>1.000000</td>\n",
       "    </tr>\n",
       "  </tbody>\n",
       "</table>\n",
       "</div>"
      ],
      "text/plain": [
       "             calls   minutes  messages   mb_used  is_ultra\n",
       "calls     1.000000  0.982083  0.177385  0.286442  0.207122\n",
       "minutes   0.982083  1.000000  0.173110  0.280967  0.206955\n",
       "messages  0.177385  0.173110  1.000000  0.195721  0.203830\n",
       "mb_used   0.286442  0.280967  0.195721  1.000000  0.198568\n",
       "is_ultra  0.207122  0.206955  0.203830  0.198568  1.000000"
      ]
     },
     "metadata": {},
     "output_type": "display_data"
    },
    {
     "data": {
      "text/plain": [
       "<AxesSubplot:>"
      ]
     },
     "metadata": {},
     "output_type": "display_data"
    },
    {
     "data": {
      "image/png": "[encoded data removed]",
      "text/plain": [
       "<Figure size 432x288 with 2 Axes>"
      ]
     },
     "metadata": {
      "needs_background": "light"
     },
     "output_type": "display_data"
    }
   ],
   "source": [
    "explore_data(user_info)"
   ]
  },
  {
   "cell_type": "code",
   "execution_count": 6,
   "metadata": {},
   "outputs": [
    {
     "name": "stdout",
     "output_type": "stream",
     "text": [
      "<class 'pandas.core.frame.DataFrame'>\n",
      "RangeIndex: 3214 entries, 0 to 3213\n",
      "Data columns (total 5 columns):\n",
      " #   Column    Non-Null Count  Dtype  \n",
      "---  ------    --------------  -----  \n",
      " 0   calls     3214 non-null   float64\n",
      " 1   minutes   3214 non-null   float64\n",
      " 2   messages  3214 non-null   float64\n",
      " 3   mb_used   3214 non-null   float64\n",
      " 4   is_ultra  3214 non-null   int64  \n",
      "dtypes: float64(4), int64(1)\n",
      "memory usage: 125.7 KB\n"
     ]
    },
    {
     "data": {
      "text/plain": [
       "'Сводная информация:'"
      ]
     },
     "metadata": {},
     "output_type": "display_data"
    },
    {
     "data": {
      "text/plain": [
       "None"
      ]
     },
     "metadata": {},
     "output_type": "display_data"
    },
    {
     "data": {
      "text/plain": [
       "'10 строк:'"
      ]
     },
     "metadata": {},
     "output_type": "display_data"
    },
    {
     "data": {
      "text/html": [
       "<div>\n",
       "<style scoped>\n",
       "    .dataframe tbody tr th:only-of-type {\n",
       "        vertical-align: middle;\n",
       "    }\n",
       "\n",
       "    .dataframe tbody tr th {\n",
       "        vertical-align: top;\n",
       "    }\n",
       "\n",
       "    .dataframe thead th {\n",
       "        text-align: right;\n",
       "    }\n",
       "</style>\n",
       "<table border=\"1\" class=\"dataframe\">\n",
       "  <thead>\n",
       "    <tr style=\"text-align: right;\">\n",
       "      <th></th>\n",
       "      <th>calls</th>\n",
       "      <th>minutes</th>\n",
       "      <th>messages</th>\n",
       "      <th>mb_used</th>\n",
       "      <th>is_ultra</th>\n",
       "    </tr>\n",
       "  </thead>\n",
       "  <tbody>\n",
       "    <tr>\n",
       "      <th>0</th>\n",
       "      <td>40.0</td>\n",
       "      <td>311.90</td>\n",
       "      <td>83.0</td>\n",
       "      <td>19915.42</td>\n",
       "      <td>0</td>\n",
       "    </tr>\n",
       "    <tr>\n",
       "      <th>1</th>\n",
       "      <td>85.0</td>\n",
       "      <td>516.75</td>\n",
       "      <td>56.0</td>\n",
       "      <td>22696.96</td>\n",
       "      <td>0</td>\n",
       "    </tr>\n",
       "    <tr>\n",
       "      <th>2</th>\n",
       "      <td>77.0</td>\n",
       "      <td>467.66</td>\n",
       "      <td>86.0</td>\n",
       "      <td>21060.45</td>\n",
       "      <td>0</td>\n",
       "    </tr>\n",
       "    <tr>\n",
       "      <th>3</th>\n",
       "      <td>106.0</td>\n",
       "      <td>745.53</td>\n",
       "      <td>81.0</td>\n",
       "      <td>8437.39</td>\n",
       "      <td>1</td>\n",
       "    </tr>\n",
       "    <tr>\n",
       "      <th>4</th>\n",
       "      <td>66.0</td>\n",
       "      <td>418.74</td>\n",
       "      <td>1.0</td>\n",
       "      <td>14502.75</td>\n",
       "      <td>0</td>\n",
       "    </tr>\n",
       "    <tr>\n",
       "      <th>5</th>\n",
       "      <td>58.0</td>\n",
       "      <td>344.56</td>\n",
       "      <td>21.0</td>\n",
       "      <td>15823.37</td>\n",
       "      <td>0</td>\n",
       "    </tr>\n",
       "    <tr>\n",
       "      <th>6</th>\n",
       "      <td>57.0</td>\n",
       "      <td>431.64</td>\n",
       "      <td>20.0</td>\n",
       "      <td>3738.90</td>\n",
       "      <td>1</td>\n",
       "    </tr>\n",
       "    <tr>\n",
       "      <th>7</th>\n",
       "      <td>15.0</td>\n",
       "      <td>132.40</td>\n",
       "      <td>6.0</td>\n",
       "      <td>21911.60</td>\n",
       "      <td>0</td>\n",
       "    </tr>\n",
       "    <tr>\n",
       "      <th>8</th>\n",
       "      <td>7.0</td>\n",
       "      <td>43.39</td>\n",
       "      <td>3.0</td>\n",
       "      <td>2538.67</td>\n",
       "      <td>1</td>\n",
       "    </tr>\n",
       "    <tr>\n",
       "      <th>9</th>\n",
       "      <td>90.0</td>\n",
       "      <td>665.41</td>\n",
       "      <td>38.0</td>\n",
       "      <td>17358.61</td>\n",
       "      <td>0</td>\n",
       "    </tr>\n",
       "  </tbody>\n",
       "</table>\n",
       "</div>"
      ],
      "text/plain": [
       "   calls  minutes  messages   mb_used  is_ultra\n",
       "0   40.0   311.90      83.0  19915.42         0\n",
       "1   85.0   516.75      56.0  22696.96         0\n",
       "2   77.0   467.66      86.0  21060.45         0\n",
       "3  106.0   745.53      81.0   8437.39         1\n",
       "4   66.0   418.74       1.0  14502.75         0\n",
       "5   58.0   344.56      21.0  15823.37         0\n",
       "6   57.0   431.64      20.0   3738.90         1\n",
       "7   15.0   132.40       6.0  21911.60         0\n",
       "8    7.0    43.39       3.0   2538.67         1\n",
       "9   90.0   665.41      38.0  17358.61         0"
      ]
     },
     "metadata": {},
     "output_type": "display_data"
    },
    {
     "data": {
      "text/plain": [
       "'Столбцы:'"
      ]
     },
     "metadata": {},
     "output_type": "display_data"
    },
    {
     "data": {
      "text/plain": [
       "Index(['calls', 'minutes', 'messages', 'mb_used', 'is_ultra'], dtype='object')"
      ]
     },
     "metadata": {},
     "output_type": "display_data"
    },
    {
     "data": {
      "text/plain": [
       "'Числовое описание:'"
      ]
     },
     "metadata": {},
     "output_type": "display_data"
    },
    {
     "data": {
      "text/html": [
       "<div>\n",
       "<style scoped>\n",
       "    .dataframe tbody tr th:only-of-type {\n",
       "        vertical-align: middle;\n",
       "    }\n",
       "\n",
       "    .dataframe tbody tr th {\n",
       "        vertical-align: top;\n",
       "    }\n",
       "\n",
       "    .dataframe thead th {\n",
       "        text-align: right;\n",
       "    }\n",
       "</style>\n",
       "<table border=\"1\" class=\"dataframe\">\n",
       "  <thead>\n",
       "    <tr style=\"text-align: right;\">\n",
       "      <th></th>\n",
       "      <th>calls</th>\n",
       "      <th>minutes</th>\n",
       "      <th>messages</th>\n",
       "      <th>mb_used</th>\n",
       "      <th>is_ultra</th>\n",
       "    </tr>\n",
       "  </thead>\n",
       "  <tbody>\n",
       "    <tr>\n",
       "      <th>count</th>\n",
       "      <td>3214.000000</td>\n",
       "      <td>3214.000000</td>\n",
       "      <td>3214.000000</td>\n",
       "      <td>3214.000000</td>\n",
       "      <td>3214.000000</td>\n",
       "    </tr>\n",
       "    <tr>\n",
       "      <th>mean</th>\n",
       "      <td>63.038892</td>\n",
       "      <td>438.208787</td>\n",
       "      <td>38.281269</td>\n",
       "      <td>17207.673836</td>\n",
       "      <td>0.306472</td>\n",
       "    </tr>\n",
       "    <tr>\n",
       "      <th>std</th>\n",
       "      <td>33.236368</td>\n",
       "      <td>234.569872</td>\n",
       "      <td>36.148326</td>\n",
       "      <td>7570.968246</td>\n",
       "      <td>0.461100</td>\n",
       "    </tr>\n",
       "    <tr>\n",
       "      <th>min</th>\n",
       "      <td>0.000000</td>\n",
       "      <td>0.000000</td>\n",
       "      <td>0.000000</td>\n",
       "      <td>0.000000</td>\n",
       "      <td>0.000000</td>\n",
       "    </tr>\n",
       "    <tr>\n",
       "      <th>25%</th>\n",
       "      <td>40.000000</td>\n",
       "      <td>274.575000</td>\n",
       "      <td>9.000000</td>\n",
       "      <td>12491.902500</td>\n",
       "      <td>0.000000</td>\n",
       "    </tr>\n",
       "    <tr>\n",
       "      <th>50%</th>\n",
       "      <td>62.000000</td>\n",
       "      <td>430.600000</td>\n",
       "      <td>30.000000</td>\n",
       "      <td>16943.235000</td>\n",
       "      <td>0.000000</td>\n",
       "    </tr>\n",
       "    <tr>\n",
       "      <th>75%</th>\n",
       "      <td>82.000000</td>\n",
       "      <td>571.927500</td>\n",
       "      <td>57.000000</td>\n",
       "      <td>21424.700000</td>\n",
       "      <td>1.000000</td>\n",
       "    </tr>\n",
       "    <tr>\n",
       "      <th>max</th>\n",
       "      <td>244.000000</td>\n",
       "      <td>1632.060000</td>\n",
       "      <td>224.000000</td>\n",
       "      <td>49745.730000</td>\n",
       "      <td>1.000000</td>\n",
       "    </tr>\n",
       "  </tbody>\n",
       "</table>\n",
       "</div>"
      ],
      "text/plain": [
       "             calls      minutes     messages       mb_used     is_ultra\n",
       "count  3214.000000  3214.000000  3214.000000   3214.000000  3214.000000\n",
       "mean     63.038892   438.208787    38.281269  17207.673836     0.306472\n",
       "std      33.236368   234.569872    36.148326   7570.968246     0.461100\n",
       "min       0.000000     0.000000     0.000000      0.000000     0.000000\n",
       "25%      40.000000   274.575000     9.000000  12491.902500     0.000000\n",
       "50%      62.000000   430.600000    30.000000  16943.235000     0.000000\n",
       "75%      82.000000   571.927500    57.000000  21424.700000     1.000000\n",
       "max     244.000000  1632.060000   224.000000  49745.730000     1.000000"
      ]
     },
     "metadata": {},
     "output_type": "display_data"
    },
    {
     "data": {
      "text/plain": [
       "'Сумма пропусков:'"
      ]
     },
     "metadata": {},
     "output_type": "display_data"
    },
    {
     "data": {
      "text/plain": [
       "calls       0\n",
       "minutes     0\n",
       "messages    0\n",
       "mb_used     0\n",
       "is_ultra    0\n",
       "dtype: int64"
      ]
     },
     "metadata": {},
     "output_type": "display_data"
    },
    {
     "data": {
      "text/plain": [
       "'Доля пропусков:'"
      ]
     },
     "metadata": {},
     "output_type": "display_data"
    },
    {
     "data": {
      "text/plain": [
       "calls       0.0\n",
       "minutes     0.0\n",
       "messages    0.0\n",
       "mb_used     0.0\n",
       "is_ultra    0.0\n",
       "dtype: float64"
      ]
     },
     "metadata": {},
     "output_type": "display_data"
    },
    {
     "data": {
      "text/plain": [
       "'Явные дубликаты:'"
      ]
     },
     "metadata": {},
     "output_type": "display_data"
    },
    {
     "data": {
      "text/plain": [
       "0"
      ]
     },
     "metadata": {},
     "output_type": "display_data"
    },
    {
     "data": {
      "text/plain": [
       "'Корреляция:'"
      ]
     },
     "metadata": {},
     "output_type": "display_data"
    },
    {
     "data": {
      "text/html": [
       "<div>\n",
       "<style scoped>\n",
       "    .dataframe tbody tr th:only-of-type {\n",
       "        vertical-align: middle;\n",
       "    }\n",
       "\n",
       "    .dataframe tbody tr th {\n",
       "        vertical-align: top;\n",
       "    }\n",
       "\n",
       "    .dataframe thead th {\n",
       "        text-align: right;\n",
       "    }\n",
       "</style>\n",
       "<table border=\"1\" class=\"dataframe\">\n",
       "  <thead>\n",
       "    <tr style=\"text-align: right;\">\n",
       "      <th></th>\n",
       "      <th>calls</th>\n",
       "      <th>minutes</th>\n",
       "      <th>messages</th>\n",
       "      <th>mb_used</th>\n",
       "      <th>is_ultra</th>\n",
       "    </tr>\n",
       "  </thead>\n",
       "  <tbody>\n",
       "    <tr>\n",
       "      <th>calls</th>\n",
       "      <td>1.000000</td>\n",
       "      <td>0.982083</td>\n",
       "      <td>0.177385</td>\n",
       "      <td>0.286442</td>\n",
       "      <td>0.207122</td>\n",
       "    </tr>\n",
       "    <tr>\n",
       "      <th>minutes</th>\n",
       "      <td>0.982083</td>\n",
       "      <td>1.000000</td>\n",
       "      <td>0.173110</td>\n",
       "      <td>0.280967</td>\n",
       "      <td>0.206955</td>\n",
       "    </tr>\n",
       "    <tr>\n",
       "      <th>messages</th>\n",
       "      <td>0.177385</td>\n",
       "      <td>0.173110</td>\n",
       "      <td>1.000000</td>\n",
       "      <td>0.195721</td>\n",
       "      <td>0.203830</td>\n",
       "    </tr>\n",
       "    <tr>\n",
       "      <th>mb_used</th>\n",
       "      <td>0.286442</td>\n",
       "      <td>0.280967</td>\n",
       "      <td>0.195721</td>\n",
       "      <td>1.000000</td>\n",
       "      <td>0.198568</td>\n",
       "    </tr>\n",
       "    <tr>\n",
       "      <th>is_ultra</th>\n",
       "      <td>0.207122</td>\n",
       "      <td>0.206955</td>\n",
       "      <td>0.203830</td>\n",
       "      <td>0.198568</td>\n",
       "      <td>1.000000</td>\n",
       "    </tr>\n",
       "  </tbody>\n",
       "</table>\n",
       "</div>"
      ],
      "text/plain": [
       "             calls   minutes  messages   mb_used  is_ultra\n",
       "calls     1.000000  0.982083  0.177385  0.286442  0.207122\n",
       "minutes   0.982083  1.000000  0.173110  0.280967  0.206955\n",
       "messages  0.177385  0.173110  1.000000  0.195721  0.203830\n",
       "mb_used   0.286442  0.280967  0.195721  1.000000  0.198568\n",
       "is_ultra  0.207122  0.206955  0.203830  0.198568  1.000000"
      ]
     },
     "metadata": {},
     "output_type": "display_data"
    },
    {
     "data": {
      "text/plain": [
       "<AxesSubplot:>"
      ]
     },
     "metadata": {},
     "output_type": "display_data"
    },
    {
     "data": {
      "image/png": "[encoded data removed]",
      "text/plain": [
       "<Figure size 432x288 with 2 Axes>"
      ]
     },
     "metadata": {
      "needs_background": "light"
     },
     "output_type": "display_data"
    }
   ],
   "source": [
    "explore_data(user_info)"
   ]
  },
  {
   "cell_type": "code",
   "execution_count": 7,
   "metadata": {
    "scrolled": true
   },
   "outputs": [
    {
     "data": {
      "image/png": "[encoded data removed]",
      "text/plain": [
       "<Figure size 432x288 with 1 Axes>"
      ]
     },
     "metadata": {
      "needs_background": "light"
     },
     "output_type": "display_data"
    },
    {
     "data": {
      "image/png": "[encoded data removed]",
      "text/plain": [
       "<Figure size 432x288 with 1 Axes>"
      ]
     },
     "metadata": {
      "needs_background": "light"
     },
     "output_type": "display_data"
    },
    {
     "data": {
      "image/png": "[encoded data removed]",
      "text/plain": [
       "<Figure size 432x288 with 1 Axes>"
      ]
     },
     "metadata": {
      "needs_background": "light"
     },
     "output_type": "display_data"
    },
    {
     "data": {
      "image/png": "[encoded data removed]",
      "text/plain": [
       "<Figure size 432x288 with 1 Axes>"
      ]
     },
     "metadata": {
      "needs_background": "light"
     },
     "output_type": "display_data"
    },
    {
     "data": {
      "image/png": "[encoded data removed]",
      "text/plain": [
       "<Figure size 432x288 with 1 Axes>"
      ]
     },
     "metadata": {
      "needs_background": "light"
     },
     "output_type": "display_data"
    }
   ],
   "source": [
    "for column in user_info.columns:\n",
    "    user_info[column].hist(bins=15)\n",
    "    plt.title(column)\n",
    "    plt.show()"
   ]
  },
  {
   "cell_type": "markdown",
   "metadata": {},
   "source": [
    "Пропусков нет, названия столбцов корректны, больное количество пользователей, которые не используют смс, чаще меняют тариф на смарт, для экономии вычислительных мощностей можно преобразовать типы в 'float32', 'int32'\n",
    "нельзя не заметить очень высокую кореляцию между количеством звонков и минут"
   ]
  },
  {
   "cell_type": "markdown",
   "metadata": {},
   "source": [
    "<a id=\"preprocessing\"></a>\n",
    "## Подготовка данных"
   ]
  },
  {
   "cell_type": "code",
   "execution_count": 8,
   "metadata": {},
   "outputs": [],
   "source": [
    "user_info[user_info.columns[:-1]] = user_info[user_info.columns[:-1]].astype('float32')\n",
    "user_info[user_info.columns[-1]] = user_info[user_info.columns[-1]].astype('int32')\n"
   ]
  },
  {
   "cell_type": "markdown",
   "metadata": {},
   "source": [
    "Разделим набор на тренировочную, тестовую, валидационную части в соотношении 60:20:20"
   ]
  },
  {
   "cell_type": "code",
   "execution_count": 9,
   "metadata": {},
   "outputs": [
    {
     "name": "stdout",
     "output_type": "stream",
     "text": [
      "(3214, 5)\n",
      "(2571, 5) (643, 5)\n",
      "(1928, 5) (643, 5) (643, 5)\n"
     ]
    }
   ],
   "source": [
    "print(user_info.shape)\n",
    "train,test = train_test_split(user_info,test_size=0.2, random_state=12345)\n",
    "print(train.shape,test.shape)\n",
    "train, valid = train_test_split(train, test_size = 0.25, random_state=12345)\n",
    "print(train.shape,valid.shape, test.shape)"
   ]
  },
  {
   "cell_type": "code",
   "execution_count": 10,
   "metadata": {},
   "outputs": [],
   "source": [
    "features_train = train.drop('is_ultra', axis=1)\n",
    "target_train = train['is_ultra']\n",
    "features_valid = valid.drop('is_ultra', axis=1)\n",
    "target_valid = valid['is_ultra']\n",
    "features_test = test.drop('is_ultra', axis=1)\n",
    "target_test = test['is_ultra']"
   ]
  },
  {
   "cell_type": "markdown",
   "metadata": {},
   "source": [
    "<a id=\"ml\"></a>\n",
    "## Сравнение моделей"
   ]
  },
  {
   "cell_type": "markdown",
   "metadata": {},
   "source": [
    "Сравним модели RandomForestClassifier, DecisionTreeClassifier, LogisticRegression"
   ]
  },
  {
   "cell_type": "code",
   "execution_count": 11,
   "metadata": {},
   "outputs": [],
   "source": [
    "best_model = None\n",
    "best_result = 0"
   ]
  },
  {
   "cell_type": "code",
   "execution_count": 12,
   "metadata": {},
   "outputs": [],
   "source": [
    "for est in range(1, 11):\n",
    "    for depth in range(1, 6):\n",
    "        model = RandomForestClassifier(random_state=12345, n_estimators=est, max_depth=depth) \n",
    "        model.fit(features_train, target_train) \n",
    "        result = model.score(features_valid, target_valid) \n",
    "        if result > best_result:\n",
    "            best_model = model\n",
    "            best_result = result\n",
    "\n",
    "#print(f\"Accuracy наилучшей модели {best_model} на валидационной выборке: {best_result}\")"
   ]
  },
  {
   "cell_type": "code",
   "execution_count": 13,
   "metadata": {},
   "outputs": [],
   "source": [
    "#best_model = None\n",
    "#best_result = 0\n",
    "for depth in range(1, 6):\n",
    "    model = DecisionTreeClassifier(max_depth=depth, random_state=12345)\n",
    "    model.fit(features_train, target_train)\n",
    "    result = model.score(features_valid, target_valid) \n",
    "    if result > best_result:\n",
    "        best_model = model\n",
    "        best_result = result\n",
    "#print(f\"Accuracy наилучшей модели {best_model} на валидационной выборке: {best_result}\")"
   ]
  },
  {
   "cell_type": "code",
   "execution_count": 14,
   "metadata": {},
   "outputs": [],
   "source": [
    "import warnings\n",
    "warnings.filterwarnings('ignore')"
   ]
  },
  {
   "cell_type": "code",
   "execution_count": 15,
   "metadata": {},
   "outputs": [],
   "source": [
    "#best_model = None\n",
    "#best_result = 0\n",
    "for solver_ in ['liblinear', 'newton-cg', 'lbfgs', 'sag', 'saga']:\n",
    "    model = LogisticRegression(random_state=12345, solver=solver_, max_iter=1000)\n",
    "    model.fit(features_train, target_train)\n",
    "    #logit_roc_auc = roc_auc_score(target_train, model.predict(features_train))\n",
    "    #fpr, tpr, thresholds = roc_curve(target_train, model.predict_proba(features_train)[:,1])\n",
    "    \n",
    "    result = model.score(features_valid, target_valid) \n",
    "    if result > best_result:\n",
    "        best_model = model\n",
    "        best_result = result\n",
    "#print(f\"Accuracy наилучшей модели {best_model} на валидационной выборке: {best_result}\")\n",
    "    \n"
   ]
  },
  {
   "cell_type": "markdown",
   "metadata": {},
   "source": [
    "''' plt.figure()\n",
    "    plt.plot(fpr, tpr, label='Logistic Regression (area = %0.2f)' % logit_roc_auc)\n",
    "    plt.plot([0, 1], [0, 1],'r--')\n",
    "    plt.xlim([0.0, 1.0])\n",
    "    plt.ylim([0.0, 1.0])\n",
    "    plt.xlabel('False Positive Rate')\n",
    "    plt.ylabel('True Positive Rate')\n",
    "    plt.title(f'Receiver operating characteristic {solver_}')\n",
    "    plt.legend(loc=\"lower right\")\n",
    "    plt.show()\n",
    "'''"
   ]
  },
  {
   "cell_type": "code",
   "execution_count": 16,
   "metadata": {
    "scrolled": true
   },
   "outputs": [
    {
     "name": "stdout",
     "output_type": "stream",
     "text": [
      "Accuracy наилучшей модели RandomForestClassifier(max_depth=5, n_estimators=8, random_state=12345) на валидационной выборке: 0.7776049766718507\n"
     ]
    }
   ],
   "source": [
    "print(f\"Accuracy наилучшей модели {best_model} на валидационной выборке: {best_result}\")"
   ]
  },
  {
   "cell_type": "markdown",
   "metadata": {},
   "source": [
    "Выявили лучшую модель - RandomForestClassifier с гиперпараметрами max_depth=5, n_estimators=8"
   ]
  },
  {
   "cell_type": "markdown",
   "metadata": {},
   "source": [
    "<a id=\"test\"></a>\n",
    "## Проверка модели на тестовой выборке"
   ]
  },
  {
   "cell_type": "code",
   "execution_count": 17,
   "metadata": {},
   "outputs": [],
   "source": [
    "predictions = best_model.predict(features_test)"
   ]
  },
  {
   "cell_type": "code",
   "execution_count": 18,
   "metadata": {
    "scrolled": true
   },
   "outputs": [
    {
     "name": "stdout",
     "output_type": "stream",
     "text": [
      "Accuracy наилучшей модели RandomForestClassifier(max_depth=5, n_estimators=8, random_state=12345) на тестовой выборке: 0.782\n"
     ]
    }
   ],
   "source": [
    "print(f\"Accuracy наилучшей модели {best_model} на тестовой выборке: {accuracy_score(target_test,predictions):0.3f}\")"
   ]
  },
  {
   "cell_type": "markdown",
   "metadata": {},
   "source": [
    "<a id=\"correct\"></a>\n",
    "## Проверка модели на адекватность"
   ]
  },
  {
   "cell_type": "code",
   "execution_count": 19,
   "metadata": {
    "scrolled": true
   },
   "outputs": [
    {
     "data": {
      "text/plain": [
       "Text(0.5, 1.0, 'Матрица ошибок')"
      ]
     },
     "execution_count": 19,
     "metadata": {},
     "output_type": "execute_result"
    },
    {
     "data": {
      "image/png": "[encoded data removed]",
      "text/plain": [
       "<Figure size 432x288 with 2 Axes>"
      ]
     },
     "metadata": {
      "needs_background": "light"
     },
     "output_type": "display_data"
    }
   ],
   "source": [
    "sns.heatmap(confusion_matrix(target_test, predictions), annot=True, fmt='d')\n",
    "plt.xlabel(\"Предсказания\")\n",
    "plt.ylabel(\"Ответы\")\n",
    "plt.title(\"Матрица ошибок\")"
   ]
  },
  {
   "cell_type": "markdown",
   "metadata": {},
   "source": [
    "Посмотрим распределение классов на тестовой выборке"
   ]
  },
  {
   "cell_type": "code",
   "execution_count": 20,
   "metadata": {
    "scrolled": false
   },
   "outputs": [
    {
     "name": "stdout",
     "output_type": "stream",
     "text": [
      "0    0.807154\n",
      "1    0.192846\n",
      "dtype: float64\n"
     ]
    },
    {
     "data": {
      "text/plain": [
       "<AxesSubplot:title={'center':'Распределение классов'}>"
      ]
     },
     "execution_count": 20,
     "metadata": {},
     "output_type": "execute_result"
    },
    {
     "data": {
      "image/png": "[encoded data removed]",
      "text/plain": [
       "<Figure size 432x288 with 1 Axes>"
      ]
     },
     "metadata": {
      "needs_background": "light"
     },
     "output_type": "display_data"
    }
   ],
   "source": [
    "class_frequency = pd.Series(predictions).value_counts(normalize=True)\n",
    "print(class_frequency)\n",
    "class_frequency.plot(kind='bar', title='Распределение классов') "
   ]
  },
  {
   "cell_type": "markdown",
   "metadata": {},
   "source": [
    "очевидно преобладание тарифа смарт. Создадим простую модель, которая всегда будет предсказывать класс тарифа смарт"
   ]
  },
  {
   "cell_type": "code",
   "execution_count": 21,
   "metadata": {
    "scrolled": true
   },
   "outputs": [
    {
     "name": "stdout",
     "output_type": "stream",
     "text": [
      "0.695\n"
     ]
    }
   ],
   "source": [
    "target_pred_constant = pd.Series([0]*len(target_test))\n",
    "\n",
    "print(accuracy_score(target_test, target_pred_constant).round(3)) "
   ]
  },
  {
   "cell_type": "markdown",
   "metadata": {},
   "source": [
    "Ураааа , победили простую модель аж на 9% "
   ]
  },
  {
   "cell_type": "markdown",
   "metadata": {},
   "source": [
    "<a id=\"conclusion\"></a>\n",
    "## Вывод\n"
   ]
  },
  {
   "cell_type": "markdown",
   "metadata": {},
   "source": [
    "Построили модель для задачи классификации, которая выбирает подходящий тариф, с долей правильных 0.78 ответов на тестовой выборке."
   ]
  },
  {
   "cell_type": "code",
   "execution_count": 22,
   "metadata": {
    "scrolled": true
   },
   "outputs": [
    {
     "data": {
      "image/png": "[encoded data removed]",
      "text/plain": [
       "<Figure size 432x288 with 1 Axes>"
      ]
     },
     "metadata": {
      "needs_background": "light"
     },
     "output_type": "display_data"
    }
   ],
   "source": [
    "roc_auc = roc_auc_score(target_test, best_model.predict(features_test))\n",
    "fpr, tpr, thresholds = roc_curve(target_test, best_model.predict_proba(features_test)[:,1])\n",
    "plt.figure()\n",
    "plt.plot(fpr, tpr, label='RandomForestClassifier (area = %0.2f)' % roc_auc)\n",
    "plt.plot([0, 1], [0, 1],'r--')\n",
    "plt.xlim([0.0, 1.0])\n",
    "plt.ylim([0.0, 1.05])\n",
    "plt.xlabel('False Positive Rate')\n",
    "plt.ylabel('True Positive Rate')\n",
    "plt.title('Receiver operating characteristic')\n",
    "plt.legend(loc=\"lower right\")\n",
    "plt.show()"
   ]
  },
  {
   "cell_type": "code",
   "execution_count": 23,
   "metadata": {},
   "outputs": [
    {
     "name": "stdout",
     "output_type": "stream",
     "text": [
      "Accuracy: 0.7822706065318819\n",
      "precision: 0.7258064516129032\n",
      "recall: 0.45918367346938777\n",
      "f1: 0.5625000000000001\n"
     ]
    }
   ],
   "source": [
    "print(f\"Accuracy: {accuracy_score(target_test,predictions)}\")\n",
    "print(f'precision: {precision_score(target_test, predictions)}')\n",
    "print(f'recall: {recall_score(target_test, predictions)}')\n",
    "print(f'f1: {f1_score(target_test, predictions)}')\n"
   ]
  },
  {
   "cell_type": "markdown",
   "metadata": {},
   "source": [
    "Есть над чем работать, необходимо каким-то образом улучшить метрики распознавания"
   ]
  }
 ],
 "metadata": {
  "ExecuteTimeLog": [
   {
    "duration": 2089,
    "start_time": "2022-04-29T19:42:27.104Z"
   },
   {
    "duration": 30,
    "start_time": "2022-04-29T19:42:29.195Z"
   },
   {
    "duration": 3,
    "start_time": "2022-04-29T19:42:29.227Z"
   },
   {
    "duration": 446,
    "start_time": "2022-04-29T19:42:29.232Z"
   },
   {
    "duration": 756,
    "start_time": "2022-04-29T19:42:29.679Z"
   },
   {
    "duration": 6,
    "start_time": "2022-04-29T19:42:30.437Z"
   },
   {
    "duration": 18,
    "start_time": "2022-04-29T19:42:30.446Z"
   },
   {
    "duration": 450,
    "start_time": "2022-04-29T19:42:30.466Z"
   },
   {
    "duration": 51,
    "start_time": "2022-04-29T19:42:30.918Z"
   },
   {
    "duration": 429,
    "start_time": "2022-04-29T19:42:30.973Z"
   },
   {
    "duration": 13,
    "start_time": "2022-04-29T19:42:31.404Z"
   },
   {
    "duration": 545,
    "start_time": "2022-04-29T19:42:41.096Z"
   },
   {
    "duration": 605,
    "start_time": "2022-04-29T20:35:13.728Z"
   },
   {
    "duration": 264,
    "start_time": "2022-04-29T20:38:52.214Z"
   },
   {
    "duration": 29,
    "start_time": "2022-04-29T20:39:22.629Z"
   },
   {
    "duration": 387,
    "start_time": "2022-04-29T20:42:20.599Z"
   },
   {
    "duration": 100,
    "start_time": "2022-04-29T21:08:20.873Z"
   },
   {
    "duration": 284,
    "start_time": "2022-04-29T21:09:25.905Z"
   },
   {
    "duration": 318,
    "start_time": "2022-04-29T21:09:37.889Z"
   },
   {
    "duration": 251,
    "start_time": "2022-04-29T21:09:44.537Z"
   },
   {
    "duration": 306,
    "start_time": "2022-04-29T21:09:50.681Z"
   },
   {
    "duration": 272,
    "start_time": "2022-04-29T21:11:00.229Z"
   },
   {
    "duration": 11,
    "start_time": "2022-04-29T21:12:12.810Z"
   },
   {
    "duration": 10,
    "start_time": "2022-04-29T21:13:26.846Z"
   },
   {
    "duration": 164,
    "start_time": "2022-04-29T21:13:34.630Z"
   },
   {
    "duration": 172,
    "start_time": "2022-04-29T21:13:54.087Z"
   },
   {
    "duration": 4257,
    "start_time": "2022-04-29T21:14:03.403Z"
   },
   {
    "duration": 4,
    "start_time": "2022-04-29T21:20:27.725Z"
   },
   {
    "duration": 77,
    "start_time": "2022-04-30T07:58:20.973Z"
   },
   {
    "duration": 2319,
    "start_time": "2022-04-30T07:58:27.120Z"
   },
   {
    "duration": 17,
    "start_time": "2022-04-30T07:58:29.442Z"
   },
   {
    "duration": 6,
    "start_time": "2022-04-30T07:58:29.463Z"
   },
   {
    "duration": 658,
    "start_time": "2022-04-30T07:58:29.471Z"
   },
   {
    "duration": 1141,
    "start_time": "2022-04-30T07:58:30.133Z"
   },
   {
    "duration": 120,
    "start_time": "2022-04-30T07:58:35.217Z"
   },
   {
    "duration": 15,
    "start_time": "2022-04-30T08:02:48.751Z"
   },
   {
    "duration": 15,
    "start_time": "2022-04-30T08:04:54.917Z"
   },
   {
    "duration": 13,
    "start_time": "2022-04-30T08:05:04.360Z"
   },
   {
    "duration": 12,
    "start_time": "2022-04-30T08:05:24.927Z"
   },
   {
    "duration": 12,
    "start_time": "2022-04-30T08:07:06.700Z"
   },
   {
    "duration": 8,
    "start_time": "2022-04-30T08:09:26.781Z"
   },
   {
    "duration": 374,
    "start_time": "2022-04-30T08:10:38.461Z"
   },
   {
    "duration": 70,
    "start_time": "2022-04-30T08:10:49.930Z"
   },
   {
    "duration": 1899,
    "start_time": "2022-04-30T08:11:08.366Z"
   },
   {
    "duration": 17,
    "start_time": "2022-04-30T08:25:18.103Z"
   },
   {
    "duration": 5,
    "start_time": "2022-04-30T08:25:45.732Z"
   },
   {
    "duration": 5932,
    "start_time": "2022-04-30T08:25:51.676Z"
   },
   {
    "duration": 6,
    "start_time": "2022-04-30T08:26:24.845Z"
   },
   {
    "duration": 18,
    "start_time": "2022-04-30T08:27:31.611Z"
   },
   {
    "duration": 1772,
    "start_time": "2022-04-30T08:32:25.335Z"
   },
   {
    "duration": 790,
    "start_time": "2022-04-30T08:33:49.059Z"
   },
   {
    "duration": 807,
    "start_time": "2022-04-30T08:34:28.536Z"
   },
   {
    "duration": 835,
    "start_time": "2022-04-30T08:34:49.276Z"
   },
   {
    "duration": 807,
    "start_time": "2022-04-30T08:34:57.463Z"
   },
   {
    "duration": 792,
    "start_time": "2022-04-30T08:35:13.231Z"
   },
   {
    "duration": 793,
    "start_time": "2022-04-30T08:35:42.432Z"
   },
   {
    "duration": 1959,
    "start_time": "2022-04-30T09:07:24.194Z"
   },
   {
    "duration": 1955,
    "start_time": "2022-04-30T09:07:36.927Z"
   },
   {
    "duration": 1960,
    "start_time": "2022-04-30T09:08:06.411Z"
   },
   {
    "duration": 1957,
    "start_time": "2022-04-30T09:08:10.079Z"
   },
   {
    "duration": 1982,
    "start_time": "2022-04-30T09:08:13.779Z"
   },
   {
    "duration": 803,
    "start_time": "2022-04-30T09:08:18.299Z"
   },
   {
    "duration": 1964,
    "start_time": "2022-04-30T09:08:42.555Z"
   },
   {
    "duration": 4,
    "start_time": "2022-04-30T09:10:18.275Z"
   },
   {
    "duration": 1941,
    "start_time": "2022-04-30T09:10:20.322Z"
   },
   {
    "duration": 816,
    "start_time": "2022-04-30T09:10:24.640Z"
   },
   {
    "duration": 6894,
    "start_time": "2022-04-30T09:13:34.679Z"
   },
   {
    "duration": 12,
    "start_time": "2022-04-30T09:14:07.070Z"
   },
   {
    "duration": 6149,
    "start_time": "2022-04-30T09:15:01.134Z"
   },
   {
    "duration": 6147,
    "start_time": "2022-04-30T09:15:27.528Z"
   },
   {
    "duration": 5988,
    "start_time": "2022-04-30T09:16:46.988Z"
   },
   {
    "duration": 18,
    "start_time": "2022-04-30T09:17:04.087Z"
   },
   {
    "duration": 388,
    "start_time": "2022-04-30T09:27:25.047Z"
   },
   {
    "duration": 47,
    "start_time": "2022-04-30T09:27:27.842Z"
   },
   {
    "duration": 855,
    "start_time": "2022-04-30T09:27:31.803Z"
   },
   {
    "duration": 6,
    "start_time": "2022-04-30T09:27:38.560Z"
   },
   {
    "duration": 832,
    "start_time": "2022-04-30T09:27:59.143Z"
   },
   {
    "duration": 5,
    "start_time": "2022-04-30T09:28:02.220Z"
   },
   {
    "duration": 1253,
    "start_time": "2022-04-30T09:29:38.808Z"
   },
   {
    "duration": 18,
    "start_time": "2022-04-30T09:29:42.696Z"
   },
   {
    "duration": 1100,
    "start_time": "2022-04-30T09:30:33.593Z"
   },
   {
    "duration": 47,
    "start_time": "2022-04-30T09:30:34.696Z"
   },
   {
    "duration": 4,
    "start_time": "2022-04-30T09:30:35.512Z"
   },
   {
    "duration": 832,
    "start_time": "2022-04-30T09:30:36.536Z"
   },
   {
    "duration": 5,
    "start_time": "2022-04-30T09:30:42.616Z"
   },
   {
    "duration": 5,
    "start_time": "2022-04-30T09:52:30.361Z"
   },
   {
    "duration": 14,
    "start_time": "2022-04-30T09:54:41.226Z"
   },
   {
    "duration": 12,
    "start_time": "2022-04-30T09:55:31.270Z"
   },
   {
    "duration": 12,
    "start_time": "2022-04-30T09:56:35.782Z"
   },
   {
    "duration": 11,
    "start_time": "2022-04-30T09:56:49.299Z"
   },
   {
    "duration": 5,
    "start_time": "2022-04-30T09:57:08.243Z"
   },
   {
    "duration": 5,
    "start_time": "2022-04-30T09:57:13.260Z"
   },
   {
    "duration": 5,
    "start_time": "2022-04-30T09:57:39.373Z"
   },
   {
    "duration": 10,
    "start_time": "2022-04-30T09:59:36.836Z"
   },
   {
    "duration": 10,
    "start_time": "2022-04-30T09:59:44.609Z"
   },
   {
    "duration": 11,
    "start_time": "2022-04-30T10:00:12.176Z"
   },
   {
    "duration": 16,
    "start_time": "2022-04-30T10:07:24.389Z"
   },
   {
    "duration": 9,
    "start_time": "2022-04-30T10:07:28.277Z"
   },
   {
    "duration": 7,
    "start_time": "2022-04-30T10:07:30.150Z"
   },
   {
    "duration": 13,
    "start_time": "2022-04-30T10:07:35.653Z"
   },
   {
    "duration": 180,
    "start_time": "2022-04-30T10:08:38.014Z"
   },
   {
    "duration": 12,
    "start_time": "2022-04-30T10:13:41.527Z"
   },
   {
    "duration": 11,
    "start_time": "2022-04-30T10:14:10.712Z"
   },
   {
    "duration": 7,
    "start_time": "2022-04-30T10:14:21.258Z"
   },
   {
    "duration": 116,
    "start_time": "2022-04-30T10:40:07.299Z"
   },
   {
    "duration": 8,
    "start_time": "2022-04-30T10:40:12.214Z"
   },
   {
    "duration": 11,
    "start_time": "2022-04-30T10:43:33.329Z"
   },
   {
    "duration": 11,
    "start_time": "2022-04-30T10:43:39.370Z"
   },
   {
    "duration": 4,
    "start_time": "2022-04-30T10:43:58.560Z"
   },
   {
    "duration": 515,
    "start_time": "2022-04-30T10:43:59.369Z"
   },
   {
    "duration": 175,
    "start_time": "2022-04-30T10:45:51.467Z"
   },
   {
    "duration": 170,
    "start_time": "2022-04-30T10:46:01.710Z"
   },
   {
    "duration": 354,
    "start_time": "2022-04-30T10:51:08.411Z"
   },
   {
    "duration": 380,
    "start_time": "2022-04-30T10:52:57.460Z"
   },
   {
    "duration": 8,
    "start_time": "2022-04-30T10:54:48.353Z"
   },
   {
    "duration": 457,
    "start_time": "2022-04-30T10:56:25.841Z"
   },
   {
    "duration": 7,
    "start_time": "2022-04-30T12:18:23.108Z"
   },
   {
    "duration": 8,
    "start_time": "2022-04-30T12:20:39.273Z"
   },
   {
    "duration": 19,
    "start_time": "2022-04-30T12:20:50.901Z"
   },
   {
    "duration": 26,
    "start_time": "2022-04-30T12:21:19.521Z"
   },
   {
    "duration": 8,
    "start_time": "2022-04-30T12:36:53.786Z"
   },
   {
    "duration": 4,
    "start_time": "2022-04-30T12:40:03.502Z"
   },
   {
    "duration": 372,
    "start_time": "2022-04-30T12:51:25.317Z"
   },
   {
    "duration": 186,
    "start_time": "2022-04-30T13:20:18.133Z"
   },
   {
    "duration": 186,
    "start_time": "2022-04-30T13:25:25.704Z"
   },
   {
    "duration": 193,
    "start_time": "2022-04-30T13:26:23.071Z"
   },
   {
    "duration": 244,
    "start_time": "2022-04-30T13:27:26.521Z"
   },
   {
    "duration": 307,
    "start_time": "2022-04-30T13:27:51.382Z"
   },
   {
    "duration": 129,
    "start_time": "2022-04-30T13:31:17.082Z"
   },
   {
    "duration": 118,
    "start_time": "2022-04-30T13:31:44.621Z"
   },
   {
    "duration": 9,
    "start_time": "2022-04-30T13:32:04.973Z"
   },
   {
    "duration": 2333,
    "start_time": "2022-04-30T16:05:28.279Z"
   },
   {
    "duration": 28,
    "start_time": "2022-04-30T16:05:30.614Z"
   },
   {
    "duration": 19,
    "start_time": "2022-04-30T16:05:30.643Z"
   },
   {
    "duration": 558,
    "start_time": "2022-04-30T16:05:30.664Z"
   },
   {
    "duration": 704,
    "start_time": "2022-04-30T16:05:31.226Z"
   },
   {
    "duration": 7,
    "start_time": "2022-04-30T16:05:31.932Z"
   },
   {
    "duration": 24,
    "start_time": "2022-04-30T16:05:31.941Z"
   },
   {
    "duration": 26,
    "start_time": "2022-04-30T16:05:31.968Z"
   },
   {
    "duration": 27,
    "start_time": "2022-04-30T16:05:31.997Z"
   },
   {
    "duration": 1043,
    "start_time": "2022-04-30T16:05:32.026Z"
   },
   {
    "duration": 38,
    "start_time": "2022-04-30T16:05:33.071Z"
   },
   {
    "duration": 11,
    "start_time": "2022-04-30T16:05:33.111Z"
   },
   {
    "duration": 780,
    "start_time": "2022-04-30T16:05:33.124Z"
   },
   {
    "duration": 5,
    "start_time": "2022-04-30T16:05:33.908Z"
   },
   {
    "duration": 7,
    "start_time": "2022-04-30T16:05:33.923Z"
   },
   {
    "duration": 5,
    "start_time": "2022-04-30T16:05:33.932Z"
   },
   {
    "duration": 253,
    "start_time": "2022-04-30T16:05:33.939Z"
   },
   {
    "duration": 145,
    "start_time": "2022-04-30T16:05:34.193Z"
   },
   {
    "duration": 5,
    "start_time": "2022-04-30T16:05:34.340Z"
   },
   {
    "duration": 139,
    "start_time": "2022-04-30T16:13:45.377Z"
   },
   {
    "duration": 12,
    "start_time": "2022-04-30T16:16:05.235Z"
   },
   {
    "duration": 135,
    "start_time": "2022-04-30T16:16:20.199Z"
   },
   {
    "duration": 25,
    "start_time": "2022-04-30T16:17:12.449Z"
   },
   {
    "duration": 145,
    "start_time": "2022-04-30T16:17:27.657Z"
   },
   {
    "duration": 9,
    "start_time": "2022-04-30T16:17:59.949Z"
   },
   {
    "duration": 178,
    "start_time": "2022-04-30T16:18:38.704Z"
   },
   {
    "duration": 10,
    "start_time": "2022-04-30T16:18:53.293Z"
   },
   {
    "duration": 5,
    "start_time": "2022-04-30T16:19:15.936Z"
   },
   {
    "duration": 135,
    "start_time": "2022-04-30T16:19:51.489Z"
   },
   {
    "duration": 4,
    "start_time": "2022-04-30T16:20:17.669Z"
   },
   {
    "duration": 137,
    "start_time": "2022-04-30T16:20:24.434Z"
   },
   {
    "duration": 11,
    "start_time": "2022-04-30T16:25:06.733Z"
   },
   {
    "duration": 10,
    "start_time": "2022-04-30T16:25:46.949Z"
   },
   {
    "duration": 10,
    "start_time": "2022-04-30T16:25:57.894Z"
   },
   {
    "duration": 5,
    "start_time": "2022-04-30T16:26:08.740Z"
   },
   {
    "duration": 9,
    "start_time": "2022-04-30T16:26:16.933Z"
   },
   {
    "duration": 12,
    "start_time": "2022-04-30T16:26:34.133Z"
   },
   {
    "duration": 4,
    "start_time": "2022-04-30T16:27:02.231Z"
   },
   {
    "duration": 9,
    "start_time": "2022-04-30T16:27:12.893Z"
   },
   {
    "duration": 8,
    "start_time": "2022-04-30T16:28:52.181Z"
   },
   {
    "duration": 9,
    "start_time": "2022-04-30T16:37:18.066Z"
   },
   {
    "duration": 5094,
    "start_time": "2022-04-30T18:57:24.502Z"
   },
   {
    "duration": 21,
    "start_time": "2022-04-30T18:57:29.600Z"
   },
   {
    "duration": 8,
    "start_time": "2022-04-30T18:57:29.623Z"
   },
   {
    "duration": 1414,
    "start_time": "2022-04-30T18:57:29.683Z"
   },
   {
    "duration": 5410,
    "start_time": "2022-04-30T18:57:31.100Z"
   },
   {
    "duration": 69,
    "start_time": "2022-04-30T18:57:36.513Z"
   },
   {
    "duration": 19,
    "start_time": "2022-04-30T18:57:36.585Z"
   },
   {
    "duration": 7,
    "start_time": "2022-04-30T18:57:36.607Z"
   },
   {
    "duration": 67,
    "start_time": "2022-04-30T18:57:36.617Z"
   },
   {
    "duration": 2298,
    "start_time": "2022-04-30T18:57:36.688Z"
   },
   {
    "duration": 115,
    "start_time": "2022-04-30T18:57:38.989Z"
   },
   {
    "duration": 4,
    "start_time": "2022-04-30T18:57:39.184Z"
   },
   {
    "duration": 2305,
    "start_time": "2022-04-30T18:57:39.191Z"
   },
   {
    "duration": 6,
    "start_time": "2022-04-30T18:57:41.500Z"
   },
   {
    "duration": 13,
    "start_time": "2022-04-30T18:57:41.509Z"
   },
   {
    "duration": 8,
    "start_time": "2022-04-30T18:57:41.588Z"
   },
   {
    "duration": 995,
    "start_time": "2022-04-30T18:57:41.600Z"
   },
   {
    "duration": 521,
    "start_time": "2022-04-30T18:57:42.598Z"
   },
   {
    "duration": 62,
    "start_time": "2022-04-30T18:57:43.122Z"
   },
   {
    "duration": 430,
    "start_time": "2022-04-30T18:57:43.187Z"
   },
   {
    "duration": 71,
    "start_time": "2022-04-30T18:57:43.620Z"
   },
   {
    "duration": 97,
    "start_time": "2022-04-30T18:57:43.694Z"
   },
   {
    "duration": 15,
    "start_time": "2022-04-30T19:01:57.423Z"
   },
   {
    "duration": 6,
    "start_time": "2022-04-30T19:02:37.878Z"
   },
   {
    "duration": 867,
    "start_time": "2022-04-30T19:03:16.538Z"
   },
   {
    "duration": 48,
    "start_time": "2022-04-30T21:26:02.951Z"
   },
   {
    "duration": 1697,
    "start_time": "2022-04-30T21:26:09.088Z"
   },
   {
    "duration": 19,
    "start_time": "2022-04-30T21:26:10.787Z"
   },
   {
    "duration": 4,
    "start_time": "2022-04-30T21:26:10.807Z"
   },
   {
    "duration": 429,
    "start_time": "2022-04-30T21:26:10.813Z"
   },
   {
    "duration": 378,
    "start_time": "2022-04-30T21:26:11.243Z"
   },
   {
    "duration": 759,
    "start_time": "2022-04-30T21:26:11.632Z"
   },
   {
    "duration": 6,
    "start_time": "2022-04-30T21:26:12.393Z"
   },
   {
    "duration": 19,
    "start_time": "2022-04-30T21:26:12.400Z"
   },
   {
    "duration": 15,
    "start_time": "2022-04-30T21:26:12.421Z"
   },
   {
    "duration": 31,
    "start_time": "2022-04-30T21:26:12.439Z"
   },
   {
    "duration": 763,
    "start_time": "2022-04-30T21:26:12.472Z"
   },
   {
    "duration": 29,
    "start_time": "2022-04-30T21:26:13.237Z"
   },
   {
    "duration": 2,
    "start_time": "2022-04-30T21:26:13.268Z"
   },
   {
    "duration": 496,
    "start_time": "2022-04-30T21:26:13.272Z"
   },
   {
    "duration": 4,
    "start_time": "2022-04-30T21:26:13.770Z"
   },
   {
    "duration": 13,
    "start_time": "2022-04-30T21:26:13.776Z"
   },
   {
    "duration": 5,
    "start_time": "2022-04-30T21:26:13.791Z"
   },
   {
    "duration": 313,
    "start_time": "2022-04-30T21:26:13.798Z"
   },
   {
    "duration": 136,
    "start_time": "2022-04-30T21:26:14.113Z"
   },
   {
    "duration": 5,
    "start_time": "2022-04-30T21:26:14.251Z"
   },
   {
    "duration": 163,
    "start_time": "2022-04-30T21:26:14.257Z"
   },
   {
    "duration": 18,
    "start_time": "2022-04-30T21:26:14.422Z"
   },
   {
    "duration": 129,
    "start_time": "2022-04-30T21:26:14.442Z"
   }
  ],
  "kernelspec": {
   "display_name": "Python 3 (ipykernel)",
   "language": "python",
   "name": "python3"
  },
  "language_info": {
   "codemirror_mode": {
    "name": "ipython",
    "version": 3
   },
   "file_extension": ".py",
   "mimetype": "text/x-python",
   "name": "python",
   "nbconvert_exporter": "python",
   "pygments_lexer": "ipython3",
   "version": "3.9.5"
  },
  "toc": {
   "base_numbering": 1,
   "nav_menu": {},
   "number_sections": true,
   "sideBar": true,
   "skip_h1_title": true,
   "title_cell": "Table of Contents",
   "title_sidebar": "Contents",
   "toc_cell": false,
   "toc_position": {},
   "toc_section_display": true,
   "toc_window_display": false
  }
 },
 "nbformat": 4,
 "nbformat_minor": 2
}
