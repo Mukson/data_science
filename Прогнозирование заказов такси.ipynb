{
 "cells": [
  {
   "cell_type": "markdown",
   "metadata": {
    "toc": true
   },
   "source": [
    "<h1>Содержание<span class=\"tocSkip\"></span></h1>\n",
    "<div class=\"toc\"><ul class=\"toc-item\"><li><span><a href=\"#Подготовка\" data-toc-modified-id=\"Подготовка-1\"><span class=\"toc-item-num\">1&nbsp;&nbsp;</span>Подготовка</a></span></li><li><span><a href=\"#Анализ\" data-toc-modified-id=\"Анализ-2\"><span class=\"toc-item-num\">2&nbsp;&nbsp;</span>Анализ</a></span></li><li><span><a href=\"#Обучение\" data-toc-modified-id=\"Обучение-3\"><span class=\"toc-item-num\">3&nbsp;&nbsp;</span>Обучение</a></span></li><li><span><a href=\"#Тестирование\" data-toc-modified-id=\"Тестирование-4\"><span class=\"toc-item-num\">4&nbsp;&nbsp;</span>Тестирование</a></span></li><li><span><a href=\"#Вывод\" data-toc-modified-id=\"Вывод-5\"><span class=\"toc-item-num\">5&nbsp;&nbsp;</span>Вывод</a></span></li></ul></div>"
   ]
  },
  {
   "cell_type": "markdown",
   "metadata": {},
   "source": [
    "#  Прогнозирование заказов такси"
   ]
  },
  {
   "cell_type": "markdown",
   "metadata": {},
   "source": [
    "Компания «Чётенькое такси» собрала исторические данные о заказах такси в аэропортах. Чтобы привлекать больше водителей в период пиковой нагрузки, нужно спрогнозировать количество заказов такси на следующий час. Постройте модель для такого предсказания.\n",
    "\n",
    "Значение метрики *RMSE* на тестовой выборке должно быть не больше 48.\n",
    "\n",
    "Вам нужно:\n",
    "\n",
    "1. Загрузить данные и выполнить их ресемплирование по одному часу.\n",
    "2. Проанализировать данные.\n",
    "3. Обучить разные модели с различными гиперпараметрами. Сделать тестовую выборку размером 10% от исходных данных.\n",
    "4. Проверить данные на тестовой выборке и сделать выводы.\n",
    "\n",
    "\n",
    "Данные лежат в файле `taxi.csv`. Количество заказов находится в столбце `num_orders` (от англ. *number of orders*, «число заказов»)."
   ]
  },
  {
   "cell_type": "markdown",
   "metadata": {},
   "source": [
    "## Подготовка"
   ]
  },
  {
   "cell_type": "code",
   "execution_count": 258,
   "metadata": {},
   "outputs": [
    {
     "data": {
      "application/javascript": [
       "IPython.notebook.set_autosave_interval(30000)"
      ]
     },
     "metadata": {},
     "output_type": "display_data"
    },
    {
     "name": "stdout",
     "output_type": "stream",
     "text": [
      "Autosaving every 30 seconds\n"
     ]
    }
   ],
   "source": [
    "%autosave 30"
   ]
  },
  {
   "cell_type": "code",
   "execution_count": 259,
   "metadata": {},
   "outputs": [],
   "source": [
    "import pandas as pd\n",
    "import seaborn as sns\n",
    "import numpy as np\n",
    "import matplotlib.pyplot as plt\n",
    "import time\n",
    "\n",
    "from tqdm import tqdm\n",
    "\n",
    "from sklearn.preprocessing import OrdinalEncoder, StandardScaler\n",
    "from sklearn.metrics import r2_score, mean_absolute_error, make_scorer, classification_report, accuracy_score, confusion_matrix, roc_auc_score, roc_curve, recall_score, precision_score,f1_score, mean_squared_error\n",
    "from sklearn.model_selection import train_test_split,  TimeSeriesSplit, cross_val_predict,cross_val_score, GridSearchCV\n",
    "from sklearn.linear_model import LinearRegression\n",
    "from sklearn.ensemble import RandomForestRegressor, GradientBoostingRegressor\n",
    "from sklearn.tree import DecisionTreeRegressor\n",
    "from catboost import CatBoostRegressor\n",
    "from lightgbm import LGBMRegressor\n",
    "\n",
    "from statsmodels.tsa.seasonal import seasonal_decompose\n",
    "\n",
    "import warnings\n",
    "warnings.filterwarnings('ignore')"
   ]
  },
  {
   "cell_type": "code",
   "execution_count": 260,
   "metadata": {},
   "outputs": [],
   "source": [
    "taxi_df = pd.read_csv('/datasets/taxi.csv', index_col=[0], parse_dates=[0])"
   ]
  },
  {
   "cell_type": "code",
   "execution_count": 261,
   "metadata": {},
   "outputs": [],
   "source": [
    "taxi_df.sort_index(inplace=True)\n",
    "taxi_df = taxi_df.resample('1H').sum()\n"
   ]
  },
  {
   "cell_type": "code",
   "execution_count": 262,
   "metadata": {},
   "outputs": [
    {
     "data": {
      "text/html": [
       "<div>\n",
       "<style scoped>\n",
       "    .dataframe tbody tr th:only-of-type {\n",
       "        vertical-align: middle;\n",
       "    }\n",
       "\n",
       "    .dataframe tbody tr th {\n",
       "        vertical-align: top;\n",
       "    }\n",
       "\n",
       "    .dataframe thead th {\n",
       "        text-align: right;\n",
       "    }\n",
       "</style>\n",
       "<table border=\"1\" class=\"dataframe\">\n",
       "  <thead>\n",
       "    <tr style=\"text-align: right;\">\n",
       "      <th></th>\n",
       "      <th>num_orders</th>\n",
       "    </tr>\n",
       "    <tr>\n",
       "      <th>datetime</th>\n",
       "      <th></th>\n",
       "    </tr>\n",
       "  </thead>\n",
       "  <tbody>\n",
       "    <tr>\n",
       "      <th>2018-03-01 00:00:00</th>\n",
       "      <td>124</td>\n",
       "    </tr>\n",
       "    <tr>\n",
       "      <th>2018-03-01 01:00:00</th>\n",
       "      <td>85</td>\n",
       "    </tr>\n",
       "    <tr>\n",
       "      <th>2018-03-01 02:00:00</th>\n",
       "      <td>71</td>\n",
       "    </tr>\n",
       "    <tr>\n",
       "      <th>2018-03-01 03:00:00</th>\n",
       "      <td>66</td>\n",
       "    </tr>\n",
       "    <tr>\n",
       "      <th>2018-03-01 04:00:00</th>\n",
       "      <td>43</td>\n",
       "    </tr>\n",
       "    <tr>\n",
       "      <th>...</th>\n",
       "      <td>...</td>\n",
       "    </tr>\n",
       "    <tr>\n",
       "      <th>2018-08-31 19:00:00</th>\n",
       "      <td>136</td>\n",
       "    </tr>\n",
       "    <tr>\n",
       "      <th>2018-08-31 20:00:00</th>\n",
       "      <td>154</td>\n",
       "    </tr>\n",
       "    <tr>\n",
       "      <th>2018-08-31 21:00:00</th>\n",
       "      <td>159</td>\n",
       "    </tr>\n",
       "    <tr>\n",
       "      <th>2018-08-31 22:00:00</th>\n",
       "      <td>223</td>\n",
       "    </tr>\n",
       "    <tr>\n",
       "      <th>2018-08-31 23:00:00</th>\n",
       "      <td>205</td>\n",
       "    </tr>\n",
       "  </tbody>\n",
       "</table>\n",
       "<p>4416 rows × 1 columns</p>\n",
       "</div>"
      ],
      "text/plain": [
       "                     num_orders\n",
       "datetime                       \n",
       "2018-03-01 00:00:00         124\n",
       "2018-03-01 01:00:00          85\n",
       "2018-03-01 02:00:00          71\n",
       "2018-03-01 03:00:00          66\n",
       "2018-03-01 04:00:00          43\n",
       "...                         ...\n",
       "2018-08-31 19:00:00         136\n",
       "2018-08-31 20:00:00         154\n",
       "2018-08-31 21:00:00         159\n",
       "2018-08-31 22:00:00         223\n",
       "2018-08-31 23:00:00         205\n",
       "\n",
       "[4416 rows x 1 columns]"
      ]
     },
     "execution_count": 262,
     "metadata": {},
     "output_type": "execute_result"
    }
   ],
   "source": [
    "taxi_df"
   ]
  },
  {
   "cell_type": "markdown",
   "metadata": {},
   "source": [
    "## Анализ"
   ]
  },
  {
   "cell_type": "code",
   "execution_count": 263,
   "metadata": {},
   "outputs": [],
   "source": [
    "def explore_data(df):\n",
    "    display(\n",
    "        \"Сводная информация:\", df.info(),\n",
    "        \"10 строк:\", df.head(10),\n",
    "        \"Столбцы:\", df.columns,\n",
    "        \"Числовое описание:\", df.describe(),\n",
    "        \"Сумма пропусков:\", df.isna().sum(),\n",
    "        \"Доля пропусков:\", df.isna().mean(),\n",
    "        #\"Явные дубликаты:\", df.duplicated().sum(),\n",
    "        #\"Корреляция:\", df.corr(),\n",
    "       # sns.heatmap(df.corr())\n",
    "    )"
   ]
  },
  {
   "cell_type": "code",
   "execution_count": 264,
   "metadata": {
    "scrolled": true
   },
   "outputs": [
    {
     "name": "stdout",
     "output_type": "stream",
     "text": [
      "<class 'pandas.core.frame.DataFrame'>\n",
      "DatetimeIndex: 4416 entries, 2018-03-01 00:00:00 to 2018-08-31 23:00:00\n",
      "Freq: H\n",
      "Data columns (total 1 columns):\n",
      " #   Column      Non-Null Count  Dtype\n",
      "---  ------      --------------  -----\n",
      " 0   num_orders  4416 non-null   int64\n",
      "dtypes: int64(1)\n",
      "memory usage: 69.0 KB\n"
     ]
    },
    {
     "data": {
      "text/plain": [
       "'Сводная информация:'"
      ]
     },
     "metadata": {},
     "output_type": "display_data"
    },
    {
     "data": {
      "text/plain": [
       "None"
      ]
     },
     "metadata": {},
     "output_type": "display_data"
    },
    {
     "data": {
      "text/plain": [
       "'10 строк:'"
      ]
     },
     "metadata": {},
     "output_type": "display_data"
    },
    {
     "data": {
      "text/html": [
       "<div>\n",
       "<style scoped>\n",
       "    .dataframe tbody tr th:only-of-type {\n",
       "        vertical-align: middle;\n",
       "    }\n",
       "\n",
       "    .dataframe tbody tr th {\n",
       "        vertical-align: top;\n",
       "    }\n",
       "\n",
       "    .dataframe thead th {\n",
       "        text-align: right;\n",
       "    }\n",
       "</style>\n",
       "<table border=\"1\" class=\"dataframe\">\n",
       "  <thead>\n",
       "    <tr style=\"text-align: right;\">\n",
       "      <th></th>\n",
       "      <th>num_orders</th>\n",
       "    </tr>\n",
       "    <tr>\n",
       "      <th>datetime</th>\n",
       "      <th></th>\n",
       "    </tr>\n",
       "  </thead>\n",
       "  <tbody>\n",
       "    <tr>\n",
       "      <th>2018-03-01 00:00:00</th>\n",
       "      <td>124</td>\n",
       "    </tr>\n",
       "    <tr>\n",
       "      <th>2018-03-01 01:00:00</th>\n",
       "      <td>85</td>\n",
       "    </tr>\n",
       "    <tr>\n",
       "      <th>2018-03-01 02:00:00</th>\n",
       "      <td>71</td>\n",
       "    </tr>\n",
       "    <tr>\n",
       "      <th>2018-03-01 03:00:00</th>\n",
       "      <td>66</td>\n",
       "    </tr>\n",
       "    <tr>\n",
       "      <th>2018-03-01 04:00:00</th>\n",
       "      <td>43</td>\n",
       "    </tr>\n",
       "    <tr>\n",
       "      <th>2018-03-01 05:00:00</th>\n",
       "      <td>6</td>\n",
       "    </tr>\n",
       "    <tr>\n",
       "      <th>2018-03-01 06:00:00</th>\n",
       "      <td>12</td>\n",
       "    </tr>\n",
       "    <tr>\n",
       "      <th>2018-03-01 07:00:00</th>\n",
       "      <td>15</td>\n",
       "    </tr>\n",
       "    <tr>\n",
       "      <th>2018-03-01 08:00:00</th>\n",
       "      <td>34</td>\n",
       "    </tr>\n",
       "    <tr>\n",
       "      <th>2018-03-01 09:00:00</th>\n",
       "      <td>69</td>\n",
       "    </tr>\n",
       "  </tbody>\n",
       "</table>\n",
       "</div>"
      ],
      "text/plain": [
       "                     num_orders\n",
       "datetime                       \n",
       "2018-03-01 00:00:00         124\n",
       "2018-03-01 01:00:00          85\n",
       "2018-03-01 02:00:00          71\n",
       "2018-03-01 03:00:00          66\n",
       "2018-03-01 04:00:00          43\n",
       "2018-03-01 05:00:00           6\n",
       "2018-03-01 06:00:00          12\n",
       "2018-03-01 07:00:00          15\n",
       "2018-03-01 08:00:00          34\n",
       "2018-03-01 09:00:00          69"
      ]
     },
     "metadata": {},
     "output_type": "display_data"
    },
    {
     "data": {
      "text/plain": [
       "'Столбцы:'"
      ]
     },
     "metadata": {},
     "output_type": "display_data"
    },
    {
     "data": {
      "text/plain": [
       "Index(['num_orders'], dtype='object')"
      ]
     },
     "metadata": {},
     "output_type": "display_data"
    },
    {
     "data": {
      "text/plain": [
       "'Числовое описание:'"
      ]
     },
     "metadata": {},
     "output_type": "display_data"
    },
    {
     "data": {
      "text/html": [
       "<div>\n",
       "<style scoped>\n",
       "    .dataframe tbody tr th:only-of-type {\n",
       "        vertical-align: middle;\n",
       "    }\n",
       "\n",
       "    .dataframe tbody tr th {\n",
       "        vertical-align: top;\n",
       "    }\n",
       "\n",
       "    .dataframe thead th {\n",
       "        text-align: right;\n",
       "    }\n",
       "</style>\n",
       "<table border=\"1\" class=\"dataframe\">\n",
       "  <thead>\n",
       "    <tr style=\"text-align: right;\">\n",
       "      <th></th>\n",
       "      <th>num_orders</th>\n",
       "    </tr>\n",
       "  </thead>\n",
       "  <tbody>\n",
       "    <tr>\n",
       "      <th>count</th>\n",
       "      <td>4416.000000</td>\n",
       "    </tr>\n",
       "    <tr>\n",
       "      <th>mean</th>\n",
       "      <td>84.422781</td>\n",
       "    </tr>\n",
       "    <tr>\n",
       "      <th>std</th>\n",
       "      <td>45.023853</td>\n",
       "    </tr>\n",
       "    <tr>\n",
       "      <th>min</th>\n",
       "      <td>0.000000</td>\n",
       "    </tr>\n",
       "    <tr>\n",
       "      <th>25%</th>\n",
       "      <td>54.000000</td>\n",
       "    </tr>\n",
       "    <tr>\n",
       "      <th>50%</th>\n",
       "      <td>78.000000</td>\n",
       "    </tr>\n",
       "    <tr>\n",
       "      <th>75%</th>\n",
       "      <td>107.000000</td>\n",
       "    </tr>\n",
       "    <tr>\n",
       "      <th>max</th>\n",
       "      <td>462.000000</td>\n",
       "    </tr>\n",
       "  </tbody>\n",
       "</table>\n",
       "</div>"
      ],
      "text/plain": [
       "        num_orders\n",
       "count  4416.000000\n",
       "mean     84.422781\n",
       "std      45.023853\n",
       "min       0.000000\n",
       "25%      54.000000\n",
       "50%      78.000000\n",
       "75%     107.000000\n",
       "max     462.000000"
      ]
     },
     "metadata": {},
     "output_type": "display_data"
    },
    {
     "data": {
      "text/plain": [
       "'Сумма пропусков:'"
      ]
     },
     "metadata": {},
     "output_type": "display_data"
    },
    {
     "data": {
      "text/plain": [
       "num_orders    0\n",
       "dtype: int64"
      ]
     },
     "metadata": {},
     "output_type": "display_data"
    },
    {
     "data": {
      "text/plain": [
       "'Доля пропусков:'"
      ]
     },
     "metadata": {},
     "output_type": "display_data"
    },
    {
     "data": {
      "text/plain": [
       "num_orders    0.0\n",
       "dtype: float64"
      ]
     },
     "metadata": {},
     "output_type": "display_data"
    }
   ],
   "source": [
    "explore_data(taxi_df)"
   ]
  },
  {
   "cell_type": "markdown",
   "metadata": {},
   "source": [
    "проверим, в хронологическом ли порядке расположены даты и время. Для этого\n",
    "нужно посмотреть атрибут индекса таблицы is_monotonic. Если порядок\n",
    "соблюдён, атрибут вернёт True, если нет — False"
   ]
  },
  {
   "cell_type": "code",
   "execution_count": 265,
   "metadata": {},
   "outputs": [
    {
     "data": {
      "text/plain": [
       "True"
      ]
     },
     "execution_count": 265,
     "metadata": {},
     "output_type": "execute_result"
    }
   ],
   "source": [
    "taxi_df.index.is_monotonic\n"
   ]
  },
  {
   "cell_type": "code",
   "execution_count": 266,
   "metadata": {
    "scrolled": true
   },
   "outputs": [
    {
     "data": {
      "text/plain": [
       "<AxesSubplot:xlabel='datetime'>"
      ]
     },
     "execution_count": 266,
     "metadata": {},
     "output_type": "execute_result"
    },
    {
     "data": {
      "image/png": "[encoded data removed]",
      "text/plain": [
       "<Figure size 1440x432 with 1 Axes>"
      ]
     },
     "metadata": {
      "needs_background": "light"
     },
     "output_type": "display_data"
    }
   ],
   "source": [
    "taxi_df.plot(figsize=(20,6))"
   ]
  },
  {
   "cell_type": "code",
   "execution_count": 267,
   "metadata": {},
   "outputs": [],
   "source": [
    "decomposed = seasonal_decompose(taxi_df)"
   ]
  },
  {
   "cell_type": "code",
   "execution_count": 268,
   "metadata": {
    "scrolled": true
   },
   "outputs": [
    {
     "data": {
      "text/plain": [
       "<AxesSubplot:title={'center':'Trend'}, xlabel='datetime'>"
      ]
     },
     "execution_count": 268,
     "metadata": {},
     "output_type": "execute_result"
    },
    {
     "data": {
      "image/png": "[encoded data removed]",
      "text/plain": [
       "<Figure size 1080x432 with 1 Axes>"
      ]
     },
     "metadata": {
      "needs_background": "light"
     },
     "output_type": "display_data"
    }
   ],
   "source": [
    "decomposed.trend.plot(ax=plt.gca(), title='Trend', figsize=(15,6))"
   ]
  },
  {
   "cell_type": "markdown",
   "metadata": {},
   "source": [
    "Наблюдается явный тренд => ряд не стационарен"
   ]
  },
  {
   "cell_type": "code",
   "execution_count": 269,
   "metadata": {
    "scrolled": false
   },
   "outputs": [
    {
     "data": {
      "text/plain": [
       "<AxesSubplot:title={'center':'Seasonality'}, xlabel='datetime'>"
      ]
     },
     "execution_count": 269,
     "metadata": {},
     "output_type": "execute_result"
    },
    {
     "data": {
      "image/png": "[encoded data removed]",
      "text/plain": [
       "<Figure size 1080x432 with 1 Axes>"
      ]
     },
     "metadata": {
      "needs_background": "light"
     },
     "output_type": "display_data"
    }
   ],
   "source": [
    "decomposed.seasonal.plot(ax=plt.gca(), title='Seasonality',figsize=(15,6))"
   ]
  },
  {
   "cell_type": "code",
   "execution_count": 270,
   "metadata": {
    "scrolled": true
   },
   "outputs": [
    {
     "data": {
      "text/plain": [
       "<AxesSubplot:title={'center':'Week Seasonality'}, xlabel='datetime'>"
      ]
     },
     "execution_count": 270,
     "metadata": {},
     "output_type": "execute_result"
    },
    {
     "data": {
      "image/png": "[encoded data removed]",
      "text/plain": [
       "<Figure size 1080x432 with 1 Axes>"
      ]
     },
     "metadata": {
      "needs_background": "light"
     },
     "output_type": "display_data"
    }
   ],
   "source": [
    "#test = taxi_df.resample('1H').sum()\n",
    "decomposed.seasonal['2018-03-01 00:00:00':'2018-03-03 00:00:00'].plot(ax=plt.gca(), title='Week Seasonality',figsize=(15,6))\n",
    "#seasonal_decompose(test['2018-03-01 00:00:00':'2018-03-03 00:00:00']).seasonal.plot(ax=plt.gca(), title='Week Seasonality',figsize=(15,6))"
   ]
  },
  {
   "cell_type": "markdown",
   "metadata": {},
   "source": [
    "Если рассмотреть сезонность в разрезе двух днней, то становиться очевидно, что пик заказов приходится на полночь, а минимум на 6 утра"
   ]
  },
  {
   "cell_type": "code",
   "execution_count": 271,
   "metadata": {
    "scrolled": true
   },
   "outputs": [
    {
     "data": {
      "text/plain": [
       "<AxesSubplot:title={'center':'Residuals'}, xlabel='datetime'>"
      ]
     },
     "execution_count": 271,
     "metadata": {},
     "output_type": "execute_result"
    },
    {
     "data": {
      "image/png": "[encoded data removed]",
      "text/plain": [
       "<Figure size 1080x432 with 1 Axes>"
      ]
     },
     "metadata": {
      "needs_background": "light"
     },
     "output_type": "display_data"
    }
   ],
   "source": [
    "decomposed.resid.plot(ax=plt.gca(), title='Residuals', figsize=(15,6))"
   ]
  },
  {
   "cell_type": "markdown",
   "metadata": {},
   "source": [
    "<div class=\"alert alert-success\" style=\"border-color: green; border-radius: 5px\">\n",
    "    <p><u><b>✅ Полезно запомнить</b></u></p>\n",
    "    <p>\n",
    "Исследование - понятно.<br>\n",
    "Инструмент декомпозиции в частности, а графический анализ временных рядов как в принципе - важный этап моделирования рядов.<br> Позволяет увидеть продажи визуально, а это помогает сделать предвариетльные выводы<br>\n",
    "    \n",
    "В реальности бизнеса есть все три вида сезонности:<br>\n",
    "1) дневная сезонность -  данные собраны по дням, т.е. будни и выходные имеют разные продажи<br>\n",
    "2) внутрисуточная сезонность: когда продажи утром отличаются от продаж вечером <br>\n",
    "3) месячная сезонность: когда продажи лета и осени - разные.<br><br>\n",
    "И если строить прогноз на длительный период времени, то без учёта всех видов сезонности  - не обойтись<br>\n",
    "Например: есть в данных восходящий тренд. Но вопрос такой возникает: <br>\n",
    "этот подъём действительно за счёт роста компании (чаще всего тренд - это отражение роста компании) или есть ещё влияние месячной сезнности? (летом - продаж в рост, например, и именно этот момент мы наблюдаем в данных)<br>\n",
    "Ответ на вопрос - не протой на имеющихся данных - у нас данных меньше года. А это означает, что месячную сезонность нам не просто вычислить адекватно - т.е. не внести в модель корректтировки месяцев(<br>\n",
    "\n",
    "на горизонте прогнозирования - несколько часов или дней - можно предположить что у нас тренд.<br>\n",
    "А если строить прогноз на несколько недель - вот тут утверждать наличие тренда надо с большой осторожностью))))<br><br>\n",
    "\n",
    "</font></p></div>"
   ]
  },
  {
   "cell_type": "code",
   "execution_count": null,
   "metadata": {},
   "outputs": [],
   "source": []
  },
  {
   "cell_type": "markdown",
   "metadata": {},
   "source": [
    "## Обучение"
   ]
  },
  {
   "cell_type": "markdown",
   "metadata": {},
   "source": [
    "Напишем функцию для добавления данных"
   ]
  },
  {
   "cell_type": "code",
   "execution_count": 272,
   "metadata": {},
   "outputs": [],
   "source": [
    "def make_features(data, max_lag, rolling_mean_size):\n",
    "    #data['year'] = data.index.year\n",
    "    #data['month'] = data.index.month\n",
    "    #data['day'] = data.index.day\n",
    "    data['dayofweek'] = data.index.dayofweek\n",
    "    \n",
    "    for lag in range(1, max_lag + 1):\n",
    "        data['lag_{}'.format(lag)] = data['num_orders'].shift(lag)\n",
    "\n",
    "    data['rolling_mean'] = data['num_orders'].shift().rolling(rolling_mean_size).mean()# < напишите код здесь >\n"
   ]
  },
  {
   "cell_type": "markdown",
   "metadata": {},
   "source": [
    "<div class=\"alert alert-success\" style=\"border-color: green; border-radius: 5px\">\n",
    "    <p><u><b>✅ Полезно запомнить</b></u></p> Сразу пару строк о факторе месяц:<br>\n",
    "Если нам брать горизонт прогноза месяц или два , то фактор месяц - очень важне  это факт. А если брать горизонт прогноза несколько часов, то фактор времени года - на таком отрезке времени и не заметен. К тому же, он уже присутствует в тренде (скользящем среднем). Т.е. его участие локально как бы и есть.<br>\n",
    "\n",
    "То, что сейчас месяц может увеличивать точность - это случайно. Он ведь представлен как числа от 1 до 8 и ещё есть тренд, как раз. Т.е. произошло наложение тренда и номера месяца. А вот если продажи буду уходить вниз (или перестанут расти), а мы будем продолжать пользовться моделью, то модель будет предсказывать рост на сентябрь (цифра 9), на октябпрь (цифра 10)... т.е. чиссто числовая тенденция)<br>\n",
    "    \n",
    "Поэтому, рекомендация для будущих проетов на эту тему:<br>\n",
    "Учитывать горизонт прогноза: если задача стоит среднесрочного и долгосрочного прогноза, то месяц нам в помощь (при этом данных должно быть не меннее 2-х / 3-х лет). Если задача краткосрочного прогнозирования - месяц не надо использовать, он уже в тренде заложен.</div>"
   ]
  },
  {
   "cell_type": "code",
   "execution_count": 273,
   "metadata": {},
   "outputs": [],
   "source": [
    "make_features(taxi_df, 24, 24)"
   ]
  },
  {
   "cell_type": "markdown",
   "metadata": {},
   "source": [
    "<div class=\"alert alert-success\" style=\"border-color: green; border-radius: 5px\">\n",
    "    <p><u><b>✅ Полезно запомнить</b></u></p>Пару строк по фактору лаг и скользящее среднее:<br>\n",
    "Lag: его называют ещё параметром авторегрессии. На бытовом уровне его можно понять так: допустим вчера мы собрались с друзьями и не много закусили.... повлияет ли это на сегодняшний настрой на жизнь? Скорее да)))) Так вот с авторегрессией также. Допустим lag=1 - учитывает (для удобства будем считать, что продажи собраны по дням) как вчерашние продажи - вчерашние события - воалияли на сегоняшние.Lag=2: учитывает как позавчерашние продажи влияютна сегодняшние.....<br>\n",
    "    \n",
    "По скользящему среднего:<br>\n",
    "Предположим rolling=10 - скользящее среднее. По сути, ищем среднее по 10 точкам, потом следующие 10 точек, и т.д. - это некое подобие тренда будет - средней линии. Т.е. - сглаживание колебаний/выбросов. Это легко увидеть на пределе: допустим длина ряда 100 дней. rolling(100) - это просто одно число - среднее всего ряда. <br>\n",
    "    \n",
    "Поэтому, если выставить сезонности - hour и деньНедели, то дополнительные факторы могут быть такие: лаг =1 (максимум 2), а скользящее среднее = 24 (среднее за сутки). Т.е. начинать с этого. В итоге модель будет приемлемая по точности и не много факторов.. а это значит и для бизнеса будет легче доносить решение)</div>"
   ]
  },
  {
   "cell_type": "markdown",
   "metadata": {},
   "source": [
    "удалим пропуски"
   ]
  },
  {
   "cell_type": "code",
   "execution_count": 274,
   "metadata": {
    "scrolled": true
   },
   "outputs": [
    {
     "data": {
      "text/html": [
       "<div>\n",
       "<style scoped>\n",
       "    .dataframe tbody tr th:only-of-type {\n",
       "        vertical-align: middle;\n",
       "    }\n",
       "\n",
       "    .dataframe tbody tr th {\n",
       "        vertical-align: top;\n",
       "    }\n",
       "\n",
       "    .dataframe thead th {\n",
       "        text-align: right;\n",
       "    }\n",
       "</style>\n",
       "<table border=\"1\" class=\"dataframe\">\n",
       "  <thead>\n",
       "    <tr style=\"text-align: right;\">\n",
       "      <th></th>\n",
       "      <th>num_orders</th>\n",
       "      <th>dayofweek</th>\n",
       "      <th>lag_1</th>\n",
       "      <th>lag_2</th>\n",
       "      <th>lag_3</th>\n",
       "      <th>lag_4</th>\n",
       "      <th>lag_5</th>\n",
       "      <th>lag_6</th>\n",
       "      <th>lag_7</th>\n",
       "      <th>lag_8</th>\n",
       "      <th>...</th>\n",
       "      <th>lag_16</th>\n",
       "      <th>lag_17</th>\n",
       "      <th>lag_18</th>\n",
       "      <th>lag_19</th>\n",
       "      <th>lag_20</th>\n",
       "      <th>lag_21</th>\n",
       "      <th>lag_22</th>\n",
       "      <th>lag_23</th>\n",
       "      <th>lag_24</th>\n",
       "      <th>rolling_mean</th>\n",
       "    </tr>\n",
       "    <tr>\n",
       "      <th>datetime</th>\n",
       "      <th></th>\n",
       "      <th></th>\n",
       "      <th></th>\n",
       "      <th></th>\n",
       "      <th></th>\n",
       "      <th></th>\n",
       "      <th></th>\n",
       "      <th></th>\n",
       "      <th></th>\n",
       "      <th></th>\n",
       "      <th></th>\n",
       "      <th></th>\n",
       "      <th></th>\n",
       "      <th></th>\n",
       "      <th></th>\n",
       "      <th></th>\n",
       "      <th></th>\n",
       "      <th></th>\n",
       "      <th></th>\n",
       "      <th></th>\n",
       "      <th></th>\n",
       "    </tr>\n",
       "  </thead>\n",
       "  <tbody>\n",
       "    <tr>\n",
       "      <th>2018-03-02 00:00:00</th>\n",
       "      <td>90</td>\n",
       "      <td>4</td>\n",
       "      <td>58.0</td>\n",
       "      <td>113.0</td>\n",
       "      <td>66.0</td>\n",
       "      <td>61.0</td>\n",
       "      <td>45.0</td>\n",
       "      <td>73.0</td>\n",
       "      <td>44.0</td>\n",
       "      <td>43.0</td>\n",
       "      <td>...</td>\n",
       "      <td>34.0</td>\n",
       "      <td>15.0</td>\n",
       "      <td>12.0</td>\n",
       "      <td>6.0</td>\n",
       "      <td>43.0</td>\n",
       "      <td>66.0</td>\n",
       "      <td>71.0</td>\n",
       "      <td>85.0</td>\n",
       "      <td>124.0</td>\n",
       "      <td>56.833333</td>\n",
       "    </tr>\n",
       "    <tr>\n",
       "      <th>2018-03-02 01:00:00</th>\n",
       "      <td>120</td>\n",
       "      <td>4</td>\n",
       "      <td>90.0</td>\n",
       "      <td>58.0</td>\n",
       "      <td>113.0</td>\n",
       "      <td>66.0</td>\n",
       "      <td>61.0</td>\n",
       "      <td>45.0</td>\n",
       "      <td>73.0</td>\n",
       "      <td>44.0</td>\n",
       "      <td>...</td>\n",
       "      <td>69.0</td>\n",
       "      <td>34.0</td>\n",
       "      <td>15.0</td>\n",
       "      <td>12.0</td>\n",
       "      <td>6.0</td>\n",
       "      <td>43.0</td>\n",
       "      <td>66.0</td>\n",
       "      <td>71.0</td>\n",
       "      <td>85.0</td>\n",
       "      <td>55.416667</td>\n",
       "    </tr>\n",
       "    <tr>\n",
       "      <th>2018-03-02 02:00:00</th>\n",
       "      <td>75</td>\n",
       "      <td>4</td>\n",
       "      <td>120.0</td>\n",
       "      <td>90.0</td>\n",
       "      <td>58.0</td>\n",
       "      <td>113.0</td>\n",
       "      <td>66.0</td>\n",
       "      <td>61.0</td>\n",
       "      <td>45.0</td>\n",
       "      <td>73.0</td>\n",
       "      <td>...</td>\n",
       "      <td>64.0</td>\n",
       "      <td>69.0</td>\n",
       "      <td>34.0</td>\n",
       "      <td>15.0</td>\n",
       "      <td>12.0</td>\n",
       "      <td>6.0</td>\n",
       "      <td>43.0</td>\n",
       "      <td>66.0</td>\n",
       "      <td>71.0</td>\n",
       "      <td>56.875000</td>\n",
       "    </tr>\n",
       "    <tr>\n",
       "      <th>2018-03-02 03:00:00</th>\n",
       "      <td>64</td>\n",
       "      <td>4</td>\n",
       "      <td>75.0</td>\n",
       "      <td>120.0</td>\n",
       "      <td>90.0</td>\n",
       "      <td>58.0</td>\n",
       "      <td>113.0</td>\n",
       "      <td>66.0</td>\n",
       "      <td>61.0</td>\n",
       "      <td>45.0</td>\n",
       "      <td>...</td>\n",
       "      <td>96.0</td>\n",
       "      <td>64.0</td>\n",
       "      <td>69.0</td>\n",
       "      <td>34.0</td>\n",
       "      <td>15.0</td>\n",
       "      <td>12.0</td>\n",
       "      <td>6.0</td>\n",
       "      <td>43.0</td>\n",
       "      <td>66.0</td>\n",
       "      <td>57.041667</td>\n",
       "    </tr>\n",
       "    <tr>\n",
       "      <th>2018-03-02 04:00:00</th>\n",
       "      <td>20</td>\n",
       "      <td>4</td>\n",
       "      <td>64.0</td>\n",
       "      <td>75.0</td>\n",
       "      <td>120.0</td>\n",
       "      <td>90.0</td>\n",
       "      <td>58.0</td>\n",
       "      <td>113.0</td>\n",
       "      <td>66.0</td>\n",
       "      <td>61.0</td>\n",
       "      <td>...</td>\n",
       "      <td>30.0</td>\n",
       "      <td>96.0</td>\n",
       "      <td>64.0</td>\n",
       "      <td>69.0</td>\n",
       "      <td>34.0</td>\n",
       "      <td>15.0</td>\n",
       "      <td>12.0</td>\n",
       "      <td>6.0</td>\n",
       "      <td>43.0</td>\n",
       "      <td>56.958333</td>\n",
       "    </tr>\n",
       "  </tbody>\n",
       "</table>\n",
       "<p>5 rows × 27 columns</p>\n",
       "</div>"
      ],
      "text/plain": [
       "                     num_orders  dayofweek  lag_1  lag_2  lag_3  lag_4  lag_5  \\\n",
       "datetime                                                                        \n",
       "2018-03-02 00:00:00          90          4   58.0  113.0   66.0   61.0   45.0   \n",
       "2018-03-02 01:00:00         120          4   90.0   58.0  113.0   66.0   61.0   \n",
       "2018-03-02 02:00:00          75          4  120.0   90.0   58.0  113.0   66.0   \n",
       "2018-03-02 03:00:00          64          4   75.0  120.0   90.0   58.0  113.0   \n",
       "2018-03-02 04:00:00          20          4   64.0   75.0  120.0   90.0   58.0   \n",
       "\n",
       "                     lag_6  lag_7  lag_8  ...  lag_16  lag_17  lag_18  lag_19  \\\n",
       "datetime                                  ...                                   \n",
       "2018-03-02 00:00:00   73.0   44.0   43.0  ...    34.0    15.0    12.0     6.0   \n",
       "2018-03-02 01:00:00   45.0   73.0   44.0  ...    69.0    34.0    15.0    12.0   \n",
       "2018-03-02 02:00:00   61.0   45.0   73.0  ...    64.0    69.0    34.0    15.0   \n",
       "2018-03-02 03:00:00   66.0   61.0   45.0  ...    96.0    64.0    69.0    34.0   \n",
       "2018-03-02 04:00:00  113.0   66.0   61.0  ...    30.0    96.0    64.0    69.0   \n",
       "\n",
       "                     lag_20  lag_21  lag_22  lag_23  lag_24  rolling_mean  \n",
       "datetime                                                                   \n",
       "2018-03-02 00:00:00    43.0    66.0    71.0    85.0   124.0     56.833333  \n",
       "2018-03-02 01:00:00     6.0    43.0    66.0    71.0    85.0     55.416667  \n",
       "2018-03-02 02:00:00    12.0     6.0    43.0    66.0    71.0     56.875000  \n",
       "2018-03-02 03:00:00    15.0    12.0     6.0    43.0    66.0     57.041667  \n",
       "2018-03-02 04:00:00    34.0    15.0    12.0     6.0    43.0     56.958333  \n",
       "\n",
       "[5 rows x 27 columns]"
      ]
     },
     "execution_count": 274,
     "metadata": {},
     "output_type": "execute_result"
    }
   ],
   "source": [
    "taxi_df = taxi_df.dropna()\n",
    "taxi_df.head()"
   ]
  },
  {
   "cell_type": "markdown",
   "metadata": {},
   "source": [
    "Разделим данные на выборки"
   ]
  },
  {
   "cell_type": "code",
   "execution_count": 275,
   "metadata": {},
   "outputs": [],
   "source": [
    "train, test = train_test_split(taxi_df, test_size=0.1,shuffle=False, random_state=12345)"
   ]
  },
  {
   "cell_type": "code",
   "execution_count": 276,
   "metadata": {},
   "outputs": [],
   "source": [
    "features_train = train.drop('num_orders', axis=1)\n",
    "features_test = test.drop('num_orders', axis=1)\n",
    "target_test = test['num_orders']\n",
    "target_train = train['num_orders']"
   ]
  },
  {
   "cell_type": "code",
   "execution_count": 277,
   "metadata": {
    "scrolled": false
   },
   "outputs": [
    {
     "name": "stdout",
     "output_type": "stream",
     "text": [
      "train min:  2018-03-02 00:00:00 train max:  2018-08-13 15:00:00\n",
      "test min:  2018-08-13 16:00:00 test max:  2018-08-31 23:00:00\n"
     ]
    }
   ],
   "source": [
    "print('train min: ',train.index.min(),'train max: ', train.index.max())\n",
    "print('test min: ',test.index.min(),'test max: ', test.index.max())"
   ]
  },
  {
   "cell_type": "markdown",
   "metadata": {},
   "source": [
    "Приведем данные к одинаковому масштабу"
   ]
  },
  {
   "cell_type": "code",
   "execution_count": 278,
   "metadata": {},
   "outputs": [],
   "source": [
    "scaler = StandardScaler()\n",
    "scaler.fit(features_train[:])\n",
    "features_train[:] = scaler.transform(features_train[:])\n",
    "features_test[:] = scaler.transform(features_test[:])"
   ]
  },
  {
   "cell_type": "markdown",
   "metadata": {},
   "source": [
    "Чтобы ускорить обработку, кменьшим размер данных до 'float16'"
   ]
  },
  {
   "cell_type": "code",
   "execution_count": 279,
   "metadata": {},
   "outputs": [],
   "source": [
    "features_train = features_train.astype('float16')"
   ]
  },
  {
   "cell_type": "markdown",
   "metadata": {},
   "source": [
    "Создадим функцию для вычисления метрики rmse и функцию для подбора гиперпараметров"
   ]
  },
  {
   "cell_type": "code",
   "execution_count": 280,
   "metadata": {},
   "outputs": [],
   "source": [
    "def rmse(predictions, target):\n",
    "    return mean_squared_error(predictions, target, squared= False)\n",
    "rmse_scorer = make_scorer(rmse, greater_is_better=False)"
   ]
  },
  {
   "cell_type": "code",
   "execution_count": 281,
   "metadata": {},
   "outputs": [],
   "source": [
    "def best_hypers_for_model(model, hyperparams, scorer):\n",
    "    \n",
    "    ts_cv = TimeSeriesSplit(n_splits=8).split(features_train)\n",
    "    clf = GridSearchCV(model, hyperparams, scoring=scorer, cv=ts_cv)\n",
    "    clf.fit(features_train, target_train)\n",
    "    print(str(model)[:-2],\"Best parameters set found on development set:\\n\")\n",
    "    print(clf.best_params_)\n",
    "    print(\"\\nGrid scores on development set:\\n\")\n",
    "    for mean, std, params in zip(clf.cv_results_['mean_test_score'], clf.cv_results_['std_test_score'], clf.cv_results_['params']):\n",
    "        print(\"%0.6f for %r\"% (abs(mean), params))"
   ]
  },
  {
   "cell_type": "markdown",
   "metadata": {},
   "source": [
    "<div class=\"alert alert-success\" style=\"border-color: green; border-radius: 5px\">\n",
    "    <p><u><b>✅ Полезно запомнить</b></u></p>\n",
    "n_splits , обычно, задают так, чтобы размер валидационной выборки при проведении кросс-валидации примерно совпадал с размером тестовой выборки. Размер тестовой выборки у нас 10%, а размер валидационной равен 1/(n_splits+1) части от обучающей выборки (см. документацию к TimeSeriesSplit). К примеру, если n_splits=2, то размер валидационной равен 1/3 от обучающей выборки, т.е. 1/3*90%=30% от исходной выборки.<br>\n",
    "Возможно, что n_splits=8, то 1/9*90%=10%  - будет более точное попадание.\n",
    "</div>"
   ]
  },
  {
   "cell_type": "code",
   "execution_count": 282,
   "metadata": {},
   "outputs": [],
   "source": [
    "def best_model_result(model_dict):\n",
    "    \n",
    "    predictions_dict = {}\n",
    "    for model_name in tqdm(model_dict):\n",
    "        l_start = time.time()\n",
    "        model = model_dict[model_name]\n",
    "        model.fit(features_train, target_train)\n",
    "        l_end = time.time()\n",
    "        result.loc[model_name, \"learning_time\"] = l_end - l_start\n",
    "        p_start = time.time()\n",
    "        predictions = model.predict(features_test)\n",
    "        predictions_dict[model_name] = predictions\n",
    "        p_end = time.time()\n",
    "        result.loc[model_name, \"predict_time\"] = p_end - p_start\n",
    "        result.loc[model_name, \"RMSE\"] = rmse(predictions, target_test)\n",
    "    return predictions_dict"
   ]
  },
  {
   "cell_type": "code",
   "execution_count": 283,
   "metadata": {
    "scrolled": true
   },
   "outputs": [
    {
     "name": "stdout",
     "output_type": "stream",
     "text": [
      "DecisionTreeRegressor Best parameters set found on development set:\n",
      "\n",
      "{'max_depth': 4, 'random_state': 12345}\n",
      "\n",
      "Grid scores on development set:\n",
      "\n",
      "31.515680 for {'max_depth': 2, 'random_state': 12345}\n",
      "30.336049 for {'max_depth': 3, 'random_state': 12345}\n",
      "29.996264 for {'max_depth': 4, 'random_state': 12345}\n",
      "30.449601 for {'max_depth': 5, 'random_state': 12345}\n",
      "30.289131 for {'max_depth': 6, 'random_state': 12345}\n",
      "31.265939 for {'max_depth': 7, 'random_state': 12345}\n",
      "31.816113 for {'max_depth': 8, 'random_state': 12345}\n",
      "32.043484 for {'max_depth': 9, 'random_state': 12345}\n",
      "32.838947 for {'max_depth': 10, 'random_state': 12345}\n",
      "33.774481 for {'max_depth': 11, 'random_state': 12345}\n",
      "34.658854 for {'max_depth': 12, 'random_state': 12345}\n",
      "34.966941 for {'max_depth': 13, 'random_state': 12345}\n",
      "34.846995 for {'max_depth': 14, 'random_state': 12345}\n",
      "34.919034 for {'max_depth': 15, 'random_state': 12345}\n",
      "35.119037 for {'max_depth': 16, 'random_state': 12345}\n",
      "34.471934 for {'max_depth': 17, 'random_state': 12345}\n",
      "35.471043 for {'max_depth': 18, 'random_state': 12345}\n",
      "34.775523 for {'max_depth': 19, 'random_state': 12345}\n",
      "35.067844 for {'max_depth': 20, 'random_state': 12345}\n"
     ]
    }
   ],
   "source": [
    "MODEL_SETTINGS = {'max_depth':[x for x in range(2, 21)],\n",
    "                  'random_state':[12345]}\n",
    "best_hypers_for_model(DecisionTreeRegressor(),MODEL_SETTINGS,rmse_scorer)"
   ]
  },
  {
   "cell_type": "code",
   "execution_count": 284,
   "metadata": {
    "scrolled": true
   },
   "outputs": [
    {
     "name": "stdout",
     "output_type": "stream",
     "text": [
      "RandomForestRegressor Best parameters set found on development set:\n",
      "\n",
      "{'max_depth': 18, 'n_estimators': 50, 'random_state': 12345}\n",
      "\n",
      "Grid scores on development set:\n",
      "\n",
      "30.494489 for {'max_depth': 2, 'n_estimators': 10, 'random_state': 12345}\n",
      "30.253192 for {'max_depth': 2, 'n_estimators': 20, 'random_state': 12345}\n",
      "30.278056 for {'max_depth': 2, 'n_estimators': 30, 'random_state': 12345}\n",
      "30.223417 for {'max_depth': 2, 'n_estimators': 40, 'random_state': 12345}\n",
      "30.260228 for {'max_depth': 2, 'n_estimators': 50, 'random_state': 12345}\n",
      "29.077289 for {'max_depth': 3, 'n_estimators': 10, 'random_state': 12345}\n",
      "28.849238 for {'max_depth': 3, 'n_estimators': 20, 'random_state': 12345}\n",
      "28.792015 for {'max_depth': 3, 'n_estimators': 30, 'random_state': 12345}\n",
      "28.803705 for {'max_depth': 3, 'n_estimators': 40, 'random_state': 12345}\n",
      "28.780338 for {'max_depth': 3, 'n_estimators': 50, 'random_state': 12345}\n",
      "28.083162 for {'max_depth': 4, 'n_estimators': 10, 'random_state': 12345}\n",
      "27.881027 for {'max_depth': 4, 'n_estimators': 20, 'random_state': 12345}\n",
      "27.845956 for {'max_depth': 4, 'n_estimators': 30, 'random_state': 12345}\n",
      "27.816856 for {'max_depth': 4, 'n_estimators': 40, 'random_state': 12345}\n",
      "27.818943 for {'max_depth': 4, 'n_estimators': 50, 'random_state': 12345}\n",
      "27.302030 for {'max_depth': 5, 'n_estimators': 10, 'random_state': 12345}\n",
      "27.038360 for {'max_depth': 5, 'n_estimators': 20, 'random_state': 12345}\n",
      "26.993826 for {'max_depth': 5, 'n_estimators': 30, 'random_state': 12345}\n",
      "26.989372 for {'max_depth': 5, 'n_estimators': 40, 'random_state': 12345}\n",
      "26.960533 for {'max_depth': 5, 'n_estimators': 50, 'random_state': 12345}\n",
      "26.933782 for {'max_depth': 6, 'n_estimators': 10, 'random_state': 12345}\n",
      "26.587305 for {'max_depth': 6, 'n_estimators': 20, 'random_state': 12345}\n",
      "26.477994 for {'max_depth': 6, 'n_estimators': 30, 'random_state': 12345}\n",
      "26.449757 for {'max_depth': 6, 'n_estimators': 40, 'random_state': 12345}\n",
      "26.410166 for {'max_depth': 6, 'n_estimators': 50, 'random_state': 12345}\n",
      "26.611541 for {'max_depth': 7, 'n_estimators': 10, 'random_state': 12345}\n",
      "26.237716 for {'max_depth': 7, 'n_estimators': 20, 'random_state': 12345}\n",
      "26.084761 for {'max_depth': 7, 'n_estimators': 30, 'random_state': 12345}\n",
      "26.022369 for {'max_depth': 7, 'n_estimators': 40, 'random_state': 12345}\n",
      "25.960311 for {'max_depth': 7, 'n_estimators': 50, 'random_state': 12345}\n",
      "26.476777 for {'max_depth': 8, 'n_estimators': 10, 'random_state': 12345}\n",
      "25.991048 for {'max_depth': 8, 'n_estimators': 20, 'random_state': 12345}\n",
      "25.867364 for {'max_depth': 8, 'n_estimators': 30, 'random_state': 12345}\n",
      "25.766567 for {'max_depth': 8, 'n_estimators': 40, 'random_state': 12345}\n",
      "25.681905 for {'max_depth': 8, 'n_estimators': 50, 'random_state': 12345}\n",
      "26.453823 for {'max_depth': 9, 'n_estimators': 10, 'random_state': 12345}\n",
      "25.795251 for {'max_depth': 9, 'n_estimators': 20, 'random_state': 12345}\n",
      "25.616631 for {'max_depth': 9, 'n_estimators': 30, 'random_state': 12345}\n",
      "25.512495 for {'max_depth': 9, 'n_estimators': 40, 'random_state': 12345}\n",
      "25.450481 for {'max_depth': 9, 'n_estimators': 50, 'random_state': 12345}\n",
      "26.528494 for {'max_depth': 10, 'n_estimators': 10, 'random_state': 12345}\n",
      "25.799152 for {'max_depth': 10, 'n_estimators': 20, 'random_state': 12345}\n",
      "25.612251 for {'max_depth': 10, 'n_estimators': 30, 'random_state': 12345}\n",
      "25.470266 for {'max_depth': 10, 'n_estimators': 40, 'random_state': 12345}\n",
      "25.379194 for {'max_depth': 10, 'n_estimators': 50, 'random_state': 12345}\n",
      "26.159999 for {'max_depth': 11, 'n_estimators': 10, 'random_state': 12345}\n",
      "25.623086 for {'max_depth': 11, 'n_estimators': 20, 'random_state': 12345}\n",
      "25.472289 for {'max_depth': 11, 'n_estimators': 30, 'random_state': 12345}\n",
      "25.346863 for {'max_depth': 11, 'n_estimators': 40, 'random_state': 12345}\n",
      "25.293228 for {'max_depth': 11, 'n_estimators': 50, 'random_state': 12345}\n",
      "26.257846 for {'max_depth': 12, 'n_estimators': 10, 'random_state': 12345}\n",
      "25.642540 for {'max_depth': 12, 'n_estimators': 20, 'random_state': 12345}\n",
      "25.414904 for {'max_depth': 12, 'n_estimators': 30, 'random_state': 12345}\n",
      "25.272109 for {'max_depth': 12, 'n_estimators': 40, 'random_state': 12345}\n",
      "25.223344 for {'max_depth': 12, 'n_estimators': 50, 'random_state': 12345}\n",
      "26.314215 for {'max_depth': 13, 'n_estimators': 10, 'random_state': 12345}\n",
      "25.629289 for {'max_depth': 13, 'n_estimators': 20, 'random_state': 12345}\n",
      "25.403015 for {'max_depth': 13, 'n_estimators': 30, 'random_state': 12345}\n",
      "25.282549 for {'max_depth': 13, 'n_estimators': 40, 'random_state': 12345}\n",
      "25.214121 for {'max_depth': 13, 'n_estimators': 50, 'random_state': 12345}\n",
      "26.181974 for {'max_depth': 14, 'n_estimators': 10, 'random_state': 12345}\n",
      "25.609823 for {'max_depth': 14, 'n_estimators': 20, 'random_state': 12345}\n",
      "25.409664 for {'max_depth': 14, 'n_estimators': 30, 'random_state': 12345}\n",
      "25.251321 for {'max_depth': 14, 'n_estimators': 40, 'random_state': 12345}\n",
      "25.202308 for {'max_depth': 14, 'n_estimators': 50, 'random_state': 12345}\n",
      "26.226287 for {'max_depth': 15, 'n_estimators': 10, 'random_state': 12345}\n",
      "25.598103 for {'max_depth': 15, 'n_estimators': 20, 'random_state': 12345}\n",
      "25.365214 for {'max_depth': 15, 'n_estimators': 30, 'random_state': 12345}\n",
      "25.214064 for {'max_depth': 15, 'n_estimators': 40, 'random_state': 12345}\n",
      "25.137982 for {'max_depth': 15, 'n_estimators': 50, 'random_state': 12345}\n",
      "26.153882 for {'max_depth': 16, 'n_estimators': 10, 'random_state': 12345}\n",
      "25.566597 for {'max_depth': 16, 'n_estimators': 20, 'random_state': 12345}\n",
      "25.352710 for {'max_depth': 16, 'n_estimators': 30, 'random_state': 12345}\n",
      "25.211643 for {'max_depth': 16, 'n_estimators': 40, 'random_state': 12345}\n",
      "25.134520 for {'max_depth': 16, 'n_estimators': 50, 'random_state': 12345}\n",
      "26.260433 for {'max_depth': 17, 'n_estimators': 10, 'random_state': 12345}\n",
      "25.593043 for {'max_depth': 17, 'n_estimators': 20, 'random_state': 12345}\n",
      "25.404997 for {'max_depth': 17, 'n_estimators': 30, 'random_state': 12345}\n",
      "25.261971 for {'max_depth': 17, 'n_estimators': 40, 'random_state': 12345}\n",
      "25.203258 for {'max_depth': 17, 'n_estimators': 50, 'random_state': 12345}\n",
      "26.367726 for {'max_depth': 18, 'n_estimators': 10, 'random_state': 12345}\n",
      "25.568308 for {'max_depth': 18, 'n_estimators': 20, 'random_state': 12345}\n",
      "25.334211 for {'max_depth': 18, 'n_estimators': 30, 'random_state': 12345}\n",
      "25.190703 for {'max_depth': 18, 'n_estimators': 40, 'random_state': 12345}\n",
      "25.130595 for {'max_depth': 18, 'n_estimators': 50, 'random_state': 12345}\n",
      "26.360162 for {'max_depth': 19, 'n_estimators': 10, 'random_state': 12345}\n",
      "25.678206 for {'max_depth': 19, 'n_estimators': 20, 'random_state': 12345}\n",
      "25.402328 for {'max_depth': 19, 'n_estimators': 30, 'random_state': 12345}\n",
      "25.239393 for {'max_depth': 19, 'n_estimators': 40, 'random_state': 12345}\n",
      "25.174955 for {'max_depth': 19, 'n_estimators': 50, 'random_state': 12345}\n",
      "26.296573 for {'max_depth': 20, 'n_estimators': 10, 'random_state': 12345}\n",
      "25.626017 for {'max_depth': 20, 'n_estimators': 20, 'random_state': 12345}\n",
      "25.410058 for {'max_depth': 20, 'n_estimators': 30, 'random_state': 12345}\n",
      "25.262052 for {'max_depth': 20, 'n_estimators': 40, 'random_state': 12345}\n",
      "25.176227 for {'max_depth': 20, 'n_estimators': 50, 'random_state': 12345}\n"
     ]
    }
   ],
   "source": [
    "MODEL_SETTINGS = {'max_depth':[x for x in range(2, 21)],\n",
    "                  'n_estimators': [x for x in range (10, 51, 10)],\n",
    "                  'random_state':[12345]}\n",
    "best_hypers_for_model(RandomForestRegressor(),MODEL_SETTINGS,rmse_scorer)\n"
   ]
  },
  {
   "cell_type": "code",
   "execution_count": 285,
   "metadata": {},
   "outputs": [
    {
     "name": "stdout",
     "output_type": "stream",
     "text": [
      "GradientBoostingRegressor Best parameters set found on development set:\n",
      "\n",
      "{'learning_rate': 0.1, 'max_depth': 5, 'n_estimators': 50}\n",
      "\n",
      "Grid scores on development set:\n",
      "\n",
      "31.478519 for {'learning_rate': 0.1, 'max_depth': 2, 'n_estimators': 10}\n",
      "28.754943 for {'learning_rate': 0.1, 'max_depth': 2, 'n_estimators': 20}\n",
      "27.603646 for {'learning_rate': 0.1, 'max_depth': 2, 'n_estimators': 30}\n",
      "26.915852 for {'learning_rate': 0.1, 'max_depth': 2, 'n_estimators': 40}\n",
      "26.538626 for {'learning_rate': 0.1, 'max_depth': 2, 'n_estimators': 50}\n",
      "30.751767 for {'learning_rate': 0.1, 'max_depth': 3, 'n_estimators': 10}\n",
      "27.861805 for {'learning_rate': 0.1, 'max_depth': 3, 'n_estimators': 20}\n",
      "26.680879 for {'learning_rate': 0.1, 'max_depth': 3, 'n_estimators': 30}\n",
      "26.092341 for {'learning_rate': 0.1, 'max_depth': 3, 'n_estimators': 40}\n",
      "25.782129 for {'learning_rate': 0.1, 'max_depth': 3, 'n_estimators': 50}\n",
      "30.151518 for {'learning_rate': 0.1, 'max_depth': 4, 'n_estimators': 10}\n",
      "27.354124 for {'learning_rate': 0.1, 'max_depth': 4, 'n_estimators': 20}\n",
      "26.328202 for {'learning_rate': 0.1, 'max_depth': 4, 'n_estimators': 30}\n",
      "25.817920 for {'learning_rate': 0.1, 'max_depth': 4, 'n_estimators': 40}\n",
      "25.624779 for {'learning_rate': 0.1, 'max_depth': 4, 'n_estimators': 50}\n",
      "29.701984 for {'learning_rate': 0.1, 'max_depth': 5, 'n_estimators': 10}\n",
      "26.814673 for {'learning_rate': 0.1, 'max_depth': 5, 'n_estimators': 20}\n",
      "25.852570 for {'learning_rate': 0.1, 'max_depth': 5, 'n_estimators': 30}\n",
      "25.415372 for {'learning_rate': 0.1, 'max_depth': 5, 'n_estimators': 40}\n",
      "25.206230 for {'learning_rate': 0.1, 'max_depth': 5, 'n_estimators': 50}\n",
      "29.392832 for {'learning_rate': 0.1, 'max_depth': 6, 'n_estimators': 10}\n",
      "26.753560 for {'learning_rate': 0.1, 'max_depth': 6, 'n_estimators': 20}\n",
      "25.956151 for {'learning_rate': 0.1, 'max_depth': 6, 'n_estimators': 30}\n",
      "25.658121 for {'learning_rate': 0.1, 'max_depth': 6, 'n_estimators': 40}\n",
      "25.455185 for {'learning_rate': 0.1, 'max_depth': 6, 'n_estimators': 50}\n",
      "29.193360 for {'learning_rate': 0.1, 'max_depth': 7, 'n_estimators': 10}\n",
      "26.687006 for {'learning_rate': 0.1, 'max_depth': 7, 'n_estimators': 20}\n",
      "25.874100 for {'learning_rate': 0.1, 'max_depth': 7, 'n_estimators': 30}\n",
      "25.568476 for {'learning_rate': 0.1, 'max_depth': 7, 'n_estimators': 40}\n",
      "25.442592 for {'learning_rate': 0.1, 'max_depth': 7, 'n_estimators': 50}\n",
      "28.985190 for {'learning_rate': 0.1, 'max_depth': 8, 'n_estimators': 10}\n",
      "26.712951 for {'learning_rate': 0.1, 'max_depth': 8, 'n_estimators': 20}\n",
      "26.060014 for {'learning_rate': 0.1, 'max_depth': 8, 'n_estimators': 30}\n",
      "25.847338 for {'learning_rate': 0.1, 'max_depth': 8, 'n_estimators': 40}\n",
      "25.765053 for {'learning_rate': 0.1, 'max_depth': 8, 'n_estimators': 50}\n",
      "29.326632 for {'learning_rate': 0.1, 'max_depth': 9, 'n_estimators': 10}\n",
      "27.090136 for {'learning_rate': 0.1, 'max_depth': 9, 'n_estimators': 20}\n",
      "26.454215 for {'learning_rate': 0.1, 'max_depth': 9, 'n_estimators': 30}\n",
      "26.260085 for {'learning_rate': 0.1, 'max_depth': 9, 'n_estimators': 40}\n",
      "26.053235 for {'learning_rate': 0.1, 'max_depth': 9, 'n_estimators': 50}\n",
      "29.543918 for {'learning_rate': 0.1, 'max_depth': 10, 'n_estimators': 10}\n",
      "27.635694 for {'learning_rate': 0.1, 'max_depth': 10, 'n_estimators': 20}\n",
      "27.036997 for {'learning_rate': 0.1, 'max_depth': 10, 'n_estimators': 30}\n",
      "26.985878 for {'learning_rate': 0.1, 'max_depth': 10, 'n_estimators': 40}\n",
      "26.822996 for {'learning_rate': 0.1, 'max_depth': 10, 'n_estimators': 50}\n",
      "29.560804 for {'learning_rate': 0.1, 'max_depth': 11, 'n_estimators': 10}\n",
      "28.283876 for {'learning_rate': 0.1, 'max_depth': 11, 'n_estimators': 20}\n",
      "27.691583 for {'learning_rate': 0.1, 'max_depth': 11, 'n_estimators': 30}\n",
      "27.652177 for {'learning_rate': 0.1, 'max_depth': 11, 'n_estimators': 40}\n",
      "27.436231 for {'learning_rate': 0.1, 'max_depth': 11, 'n_estimators': 50}\n",
      "29.774829 for {'learning_rate': 0.1, 'max_depth': 12, 'n_estimators': 10}\n",
      "28.425300 for {'learning_rate': 0.1, 'max_depth': 12, 'n_estimators': 20}\n",
      "28.070998 for {'learning_rate': 0.1, 'max_depth': 12, 'n_estimators': 30}\n",
      "28.030212 for {'learning_rate': 0.1, 'max_depth': 12, 'n_estimators': 40}\n",
      "27.881715 for {'learning_rate': 0.1, 'max_depth': 12, 'n_estimators': 50}\n",
      "30.134628 for {'learning_rate': 0.1, 'max_depth': 13, 'n_estimators': 10}\n",
      "28.951068 for {'learning_rate': 0.1, 'max_depth': 13, 'n_estimators': 20}\n",
      "28.703522 for {'learning_rate': 0.1, 'max_depth': 13, 'n_estimators': 30}\n",
      "28.671351 for {'learning_rate': 0.1, 'max_depth': 13, 'n_estimators': 40}\n",
      "28.671427 for {'learning_rate': 0.1, 'max_depth': 13, 'n_estimators': 50}\n",
      "30.279841 for {'learning_rate': 0.1, 'max_depth': 14, 'n_estimators': 10}\n",
      "29.358834 for {'learning_rate': 0.1, 'max_depth': 14, 'n_estimators': 20}\n",
      "29.210170 for {'learning_rate': 0.1, 'max_depth': 14, 'n_estimators': 30}\n",
      "29.139302 for {'learning_rate': 0.1, 'max_depth': 14, 'n_estimators': 40}\n",
      "29.105266 for {'learning_rate': 0.1, 'max_depth': 14, 'n_estimators': 50}\n",
      "30.711918 for {'learning_rate': 0.1, 'max_depth': 15, 'n_estimators': 10}\n",
      "30.272997 for {'learning_rate': 0.1, 'max_depth': 15, 'n_estimators': 20}\n",
      "30.589022 for {'learning_rate': 0.1, 'max_depth': 15, 'n_estimators': 30}\n",
      "30.486063 for {'learning_rate': 0.1, 'max_depth': 15, 'n_estimators': 40}\n",
      "30.507320 for {'learning_rate': 0.1, 'max_depth': 15, 'n_estimators': 50}\n",
      "30.896405 for {'learning_rate': 0.1, 'max_depth': 16, 'n_estimators': 10}\n",
      "30.588112 for {'learning_rate': 0.1, 'max_depth': 16, 'n_estimators': 20}\n",
      "30.791333 for {'learning_rate': 0.1, 'max_depth': 16, 'n_estimators': 30}\n",
      "30.936554 for {'learning_rate': 0.1, 'max_depth': 16, 'n_estimators': 40}\n",
      "31.023862 for {'learning_rate': 0.1, 'max_depth': 16, 'n_estimators': 50}\n",
      "31.022415 for {'learning_rate': 0.1, 'max_depth': 17, 'n_estimators': 10}\n",
      "31.004880 for {'learning_rate': 0.1, 'max_depth': 17, 'n_estimators': 20}\n",
      "31.420863 for {'learning_rate': 0.1, 'max_depth': 17, 'n_estimators': 30}\n",
      "31.589887 for {'learning_rate': 0.1, 'max_depth': 17, 'n_estimators': 40}\n",
      "31.559654 for {'learning_rate': 0.1, 'max_depth': 17, 'n_estimators': 50}\n",
      "31.105382 for {'learning_rate': 0.1, 'max_depth': 18, 'n_estimators': 10}\n",
      "31.254603 for {'learning_rate': 0.1, 'max_depth': 18, 'n_estimators': 20}\n",
      "31.540836 for {'learning_rate': 0.1, 'max_depth': 18, 'n_estimators': 30}\n",
      "31.869125 for {'learning_rate': 0.1, 'max_depth': 18, 'n_estimators': 40}\n",
      "31.792051 for {'learning_rate': 0.1, 'max_depth': 18, 'n_estimators': 50}\n",
      "31.274500 for {'learning_rate': 0.1, 'max_depth': 19, 'n_estimators': 10}\n",
      "31.612000 for {'learning_rate': 0.1, 'max_depth': 19, 'n_estimators': 20}\n",
      "32.147806 for {'learning_rate': 0.1, 'max_depth': 19, 'n_estimators': 30}\n",
      "32.216230 for {'learning_rate': 0.1, 'max_depth': 19, 'n_estimators': 40}\n",
      "32.320530 for {'learning_rate': 0.1, 'max_depth': 19, 'n_estimators': 50}\n",
      "26.975728 for {'learning_rate': 0.5, 'max_depth': 2, 'n_estimators': 10}\n",
      "26.794195 for {'learning_rate': 0.5, 'max_depth': 2, 'n_estimators': 20}\n",
      "26.798563 for {'learning_rate': 0.5, 'max_depth': 2, 'n_estimators': 30}\n",
      "26.769316 for {'learning_rate': 0.5, 'max_depth': 2, 'n_estimators': 40}\n",
      "26.909538 for {'learning_rate': 0.5, 'max_depth': 2, 'n_estimators': 50}\n",
      "26.721873 for {'learning_rate': 0.5, 'max_depth': 3, 'n_estimators': 10}\n",
      "26.908986 for {'learning_rate': 0.5, 'max_depth': 3, 'n_estimators': 20}\n",
      "27.325290 for {'learning_rate': 0.5, 'max_depth': 3, 'n_estimators': 30}\n",
      "27.108876 for {'learning_rate': 0.5, 'max_depth': 3, 'n_estimators': 40}\n",
      "27.302902 for {'learning_rate': 0.5, 'max_depth': 3, 'n_estimators': 50}\n",
      "26.869637 for {'learning_rate': 0.5, 'max_depth': 4, 'n_estimators': 10}\n",
      "27.649572 for {'learning_rate': 0.5, 'max_depth': 4, 'n_estimators': 20}\n",
      "27.992144 for {'learning_rate': 0.5, 'max_depth': 4, 'n_estimators': 30}\n",
      "28.123728 for {'learning_rate': 0.5, 'max_depth': 4, 'n_estimators': 40}\n",
      "28.283452 for {'learning_rate': 0.5, 'max_depth': 4, 'n_estimators': 50}\n",
      "27.644466 for {'learning_rate': 0.5, 'max_depth': 5, 'n_estimators': 10}\n",
      "28.570200 for {'learning_rate': 0.5, 'max_depth': 5, 'n_estimators': 20}\n",
      "28.512172 for {'learning_rate': 0.5, 'max_depth': 5, 'n_estimators': 30}\n",
      "28.703017 for {'learning_rate': 0.5, 'max_depth': 5, 'n_estimators': 40}\n",
      "28.562315 for {'learning_rate': 0.5, 'max_depth': 5, 'n_estimators': 50}\n",
      "28.156468 for {'learning_rate': 0.5, 'max_depth': 6, 'n_estimators': 10}\n",
      "28.342335 for {'learning_rate': 0.5, 'max_depth': 6, 'n_estimators': 20}\n",
      "28.454536 for {'learning_rate': 0.5, 'max_depth': 6, 'n_estimators': 30}\n",
      "28.607359 for {'learning_rate': 0.5, 'max_depth': 6, 'n_estimators': 40}\n",
      "28.660918 for {'learning_rate': 0.5, 'max_depth': 6, 'n_estimators': 50}\n",
      "28.093548 for {'learning_rate': 0.5, 'max_depth': 7, 'n_estimators': 10}\n",
      "28.137008 for {'learning_rate': 0.5, 'max_depth': 7, 'n_estimators': 20}\n",
      "28.377044 for {'learning_rate': 0.5, 'max_depth': 7, 'n_estimators': 30}\n",
      "28.302859 for {'learning_rate': 0.5, 'max_depth': 7, 'n_estimators': 40}\n",
      "28.345909 for {'learning_rate': 0.5, 'max_depth': 7, 'n_estimators': 50}\n",
      "28.235871 for {'learning_rate': 0.5, 'max_depth': 8, 'n_estimators': 10}\n",
      "28.199146 for {'learning_rate': 0.5, 'max_depth': 8, 'n_estimators': 20}\n",
      "28.237043 for {'learning_rate': 0.5, 'max_depth': 8, 'n_estimators': 30}\n",
      "28.490796 for {'learning_rate': 0.5, 'max_depth': 8, 'n_estimators': 40}\n",
      "28.560712 for {'learning_rate': 0.5, 'max_depth': 8, 'n_estimators': 50}\n",
      "28.670749 for {'learning_rate': 0.5, 'max_depth': 9, 'n_estimators': 10}\n",
      "28.598518 for {'learning_rate': 0.5, 'max_depth': 9, 'n_estimators': 20}\n",
      "28.701240 for {'learning_rate': 0.5, 'max_depth': 9, 'n_estimators': 30}\n",
      "28.674096 for {'learning_rate': 0.5, 'max_depth': 9, 'n_estimators': 40}\n",
      "28.545322 for {'learning_rate': 0.5, 'max_depth': 9, 'n_estimators': 50}\n",
      "28.839835 for {'learning_rate': 0.5, 'max_depth': 10, 'n_estimators': 10}\n",
      "28.997817 for {'learning_rate': 0.5, 'max_depth': 10, 'n_estimators': 20}\n",
      "29.143435 for {'learning_rate': 0.5, 'max_depth': 10, 'n_estimators': 30}\n",
      "29.126248 for {'learning_rate': 0.5, 'max_depth': 10, 'n_estimators': 40}\n",
      "28.839199 for {'learning_rate': 0.5, 'max_depth': 10, 'n_estimators': 50}\n",
      "28.735343 for {'learning_rate': 0.5, 'max_depth': 11, 'n_estimators': 10}\n",
      "29.001974 for {'learning_rate': 0.5, 'max_depth': 11, 'n_estimators': 20}\n",
      "28.941256 for {'learning_rate': 0.5, 'max_depth': 11, 'n_estimators': 30}\n",
      "29.378307 for {'learning_rate': 0.5, 'max_depth': 11, 'n_estimators': 40}\n",
      "29.105104 for {'learning_rate': 0.5, 'max_depth': 11, 'n_estimators': 50}\n",
      "29.207968 for {'learning_rate': 0.5, 'max_depth': 12, 'n_estimators': 10}\n",
      "29.356613 for {'learning_rate': 0.5, 'max_depth': 12, 'n_estimators': 20}\n",
      "29.266926 for {'learning_rate': 0.5, 'max_depth': 12, 'n_estimators': 30}\n",
      "29.454519 for {'learning_rate': 0.5, 'max_depth': 12, 'n_estimators': 40}\n",
      "29.126123 for {'learning_rate': 0.5, 'max_depth': 12, 'n_estimators': 50}\n",
      "29.844655 for {'learning_rate': 0.5, 'max_depth': 13, 'n_estimators': 10}\n",
      "29.778633 for {'learning_rate': 0.5, 'max_depth': 13, 'n_estimators': 20}\n",
      "29.624776 for {'learning_rate': 0.5, 'max_depth': 13, 'n_estimators': 30}\n",
      "29.648581 for {'learning_rate': 0.5, 'max_depth': 13, 'n_estimators': 40}\n",
      "29.734336 for {'learning_rate': 0.5, 'max_depth': 13, 'n_estimators': 50}\n",
      "30.251908 for {'learning_rate': 0.5, 'max_depth': 14, 'n_estimators': 10}\n",
      "29.935941 for {'learning_rate': 0.5, 'max_depth': 14, 'n_estimators': 20}\n",
      "30.201116 for {'learning_rate': 0.5, 'max_depth': 14, 'n_estimators': 30}\n",
      "29.801437 for {'learning_rate': 0.5, 'max_depth': 14, 'n_estimators': 40}\n",
      "29.799510 for {'learning_rate': 0.5, 'max_depth': 14, 'n_estimators': 50}\n",
      "30.762259 for {'learning_rate': 0.5, 'max_depth': 15, 'n_estimators': 10}\n",
      "30.848452 for {'learning_rate': 0.5, 'max_depth': 15, 'n_estimators': 20}\n",
      "30.694694 for {'learning_rate': 0.5, 'max_depth': 15, 'n_estimators': 30}\n",
      "30.676117 for {'learning_rate': 0.5, 'max_depth': 15, 'n_estimators': 40}\n",
      "30.834522 for {'learning_rate': 0.5, 'max_depth': 15, 'n_estimators': 50}\n",
      "31.066187 for {'learning_rate': 0.5, 'max_depth': 16, 'n_estimators': 10}\n",
      "31.085861 for {'learning_rate': 0.5, 'max_depth': 16, 'n_estimators': 20}\n",
      "31.166888 for {'learning_rate': 0.5, 'max_depth': 16, 'n_estimators': 30}\n",
      "31.026921 for {'learning_rate': 0.5, 'max_depth': 16, 'n_estimators': 40}\n",
      "31.088863 for {'learning_rate': 0.5, 'max_depth': 16, 'n_estimators': 50}\n",
      "31.513975 for {'learning_rate': 0.5, 'max_depth': 17, 'n_estimators': 10}\n",
      "31.893187 for {'learning_rate': 0.5, 'max_depth': 17, 'n_estimators': 20}\n",
      "31.697177 for {'learning_rate': 0.5, 'max_depth': 17, 'n_estimators': 30}\n",
      "31.793343 for {'learning_rate': 0.5, 'max_depth': 17, 'n_estimators': 40}\n",
      "31.830307 for {'learning_rate': 0.5, 'max_depth': 17, 'n_estimators': 50}\n",
      "32.679839 for {'learning_rate': 0.5, 'max_depth': 18, 'n_estimators': 10}\n",
      "32.416821 for {'learning_rate': 0.5, 'max_depth': 18, 'n_estimators': 20}\n",
      "32.033572 for {'learning_rate': 0.5, 'max_depth': 18, 'n_estimators': 30}\n",
      "32.269265 for {'learning_rate': 0.5, 'max_depth': 18, 'n_estimators': 40}\n",
      "32.720744 for {'learning_rate': 0.5, 'max_depth': 18, 'n_estimators': 50}\n",
      "32.462873 for {'learning_rate': 0.5, 'max_depth': 19, 'n_estimators': 10}\n",
      "32.620632 for {'learning_rate': 0.5, 'max_depth': 19, 'n_estimators': 20}\n",
      "32.644334 for {'learning_rate': 0.5, 'max_depth': 19, 'n_estimators': 30}\n",
      "32.456594 for {'learning_rate': 0.5, 'max_depth': 19, 'n_estimators': 40}\n",
      "32.593940 for {'learning_rate': 0.5, 'max_depth': 19, 'n_estimators': 50}\n",
      "27.606066 for {'learning_rate': 0.8, 'max_depth': 2, 'n_estimators': 10}\n",
      "27.831294 for {'learning_rate': 0.8, 'max_depth': 2, 'n_estimators': 20}\n",
      "27.889580 for {'learning_rate': 0.8, 'max_depth': 2, 'n_estimators': 30}\n",
      "28.187685 for {'learning_rate': 0.8, 'max_depth': 2, 'n_estimators': 40}\n",
      "28.819193 for {'learning_rate': 0.8, 'max_depth': 2, 'n_estimators': 50}\n",
      "29.055997 for {'learning_rate': 0.8, 'max_depth': 3, 'n_estimators': 10}\n",
      "30.093134 for {'learning_rate': 0.8, 'max_depth': 3, 'n_estimators': 20}\n",
      "30.541643 for {'learning_rate': 0.8, 'max_depth': 3, 'n_estimators': 30}\n",
      "31.073781 for {'learning_rate': 0.8, 'max_depth': 3, 'n_estimators': 40}\n",
      "31.584945 for {'learning_rate': 0.8, 'max_depth': 3, 'n_estimators': 50}\n",
      "29.457666 for {'learning_rate': 0.8, 'max_depth': 4, 'n_estimators': 10}\n",
      "30.425380 for {'learning_rate': 0.8, 'max_depth': 4, 'n_estimators': 20}\n",
      "31.078321 for {'learning_rate': 0.8, 'max_depth': 4, 'n_estimators': 30}\n",
      "31.380547 for {'learning_rate': 0.8, 'max_depth': 4, 'n_estimators': 40}\n",
      "31.717926 for {'learning_rate': 0.8, 'max_depth': 4, 'n_estimators': 50}\n",
      "30.176005 for {'learning_rate': 0.8, 'max_depth': 5, 'n_estimators': 10}\n",
      "31.016550 for {'learning_rate': 0.8, 'max_depth': 5, 'n_estimators': 20}\n",
      "31.929052 for {'learning_rate': 0.8, 'max_depth': 5, 'n_estimators': 30}\n",
      "31.653369 for {'learning_rate': 0.8, 'max_depth': 5, 'n_estimators': 40}\n",
      "31.933385 for {'learning_rate': 0.8, 'max_depth': 5, 'n_estimators': 50}\n",
      "31.566639 for {'learning_rate': 0.8, 'max_depth': 6, 'n_estimators': 10}\n",
      "32.392063 for {'learning_rate': 0.8, 'max_depth': 6, 'n_estimators': 20}\n",
      "32.407070 for {'learning_rate': 0.8, 'max_depth': 6, 'n_estimators': 30}\n",
      "32.852153 for {'learning_rate': 0.8, 'max_depth': 6, 'n_estimators': 40}\n",
      "33.323615 for {'learning_rate': 0.8, 'max_depth': 6, 'n_estimators': 50}\n",
      "31.011146 for {'learning_rate': 0.8, 'max_depth': 7, 'n_estimators': 10}\n",
      "31.531409 for {'learning_rate': 0.8, 'max_depth': 7, 'n_estimators': 20}\n",
      "31.903253 for {'learning_rate': 0.8, 'max_depth': 7, 'n_estimators': 30}\n",
      "32.097541 for {'learning_rate': 0.8, 'max_depth': 7, 'n_estimators': 40}\n",
      "32.134905 for {'learning_rate': 0.8, 'max_depth': 7, 'n_estimators': 50}\n",
      "31.623906 for {'learning_rate': 0.8, 'max_depth': 8, 'n_estimators': 10}\n",
      "32.208164 for {'learning_rate': 0.8, 'max_depth': 8, 'n_estimators': 20}\n",
      "31.938895 for {'learning_rate': 0.8, 'max_depth': 8, 'n_estimators': 30}\n",
      "32.120518 for {'learning_rate': 0.8, 'max_depth': 8, 'n_estimators': 40}\n",
      "32.159096 for {'learning_rate': 0.8, 'max_depth': 8, 'n_estimators': 50}\n",
      "32.365765 for {'learning_rate': 0.8, 'max_depth': 9, 'n_estimators': 10}\n",
      "33.129996 for {'learning_rate': 0.8, 'max_depth': 9, 'n_estimators': 20}\n",
      "32.961231 for {'learning_rate': 0.8, 'max_depth': 9, 'n_estimators': 30}\n",
      "33.003518 for {'learning_rate': 0.8, 'max_depth': 9, 'n_estimators': 40}\n",
      "32.796656 for {'learning_rate': 0.8, 'max_depth': 9, 'n_estimators': 50}\n",
      "31.987730 for {'learning_rate': 0.8, 'max_depth': 10, 'n_estimators': 10}\n",
      "32.200808 for {'learning_rate': 0.8, 'max_depth': 10, 'n_estimators': 20}\n",
      "31.837486 for {'learning_rate': 0.8, 'max_depth': 10, 'n_estimators': 30}\n",
      "31.969892 for {'learning_rate': 0.8, 'max_depth': 10, 'n_estimators': 40}\n",
      "31.960998 for {'learning_rate': 0.8, 'max_depth': 10, 'n_estimators': 50}\n",
      "32.275415 for {'learning_rate': 0.8, 'max_depth': 11, 'n_estimators': 10}\n",
      "32.767292 for {'learning_rate': 0.8, 'max_depth': 11, 'n_estimators': 20}\n",
      "32.844880 for {'learning_rate': 0.8, 'max_depth': 11, 'n_estimators': 30}\n",
      "32.704570 for {'learning_rate': 0.8, 'max_depth': 11, 'n_estimators': 40}\n",
      "32.327406 for {'learning_rate': 0.8, 'max_depth': 11, 'n_estimators': 50}\n",
      "32.680270 for {'learning_rate': 0.8, 'max_depth': 12, 'n_estimators': 10}\n",
      "32.571451 for {'learning_rate': 0.8, 'max_depth': 12, 'n_estimators': 20}\n",
      "32.180232 for {'learning_rate': 0.8, 'max_depth': 12, 'n_estimators': 30}\n",
      "32.565255 for {'learning_rate': 0.8, 'max_depth': 12, 'n_estimators': 40}\n",
      "32.509729 for {'learning_rate': 0.8, 'max_depth': 12, 'n_estimators': 50}\n",
      "32.203533 for {'learning_rate': 0.8, 'max_depth': 13, 'n_estimators': 10}\n",
      "32.154140 for {'learning_rate': 0.8, 'max_depth': 13, 'n_estimators': 20}\n",
      "32.157424 for {'learning_rate': 0.8, 'max_depth': 13, 'n_estimators': 30}\n",
      "32.814414 for {'learning_rate': 0.8, 'max_depth': 13, 'n_estimators': 40}\n",
      "32.319919 for {'learning_rate': 0.8, 'max_depth': 13, 'n_estimators': 50}\n",
      "32.568509 for {'learning_rate': 0.8, 'max_depth': 14, 'n_estimators': 10}\n",
      "32.518022 for {'learning_rate': 0.8, 'max_depth': 14, 'n_estimators': 20}\n",
      "32.291298 for {'learning_rate': 0.8, 'max_depth': 14, 'n_estimators': 30}\n",
      "32.342682 for {'learning_rate': 0.8, 'max_depth': 14, 'n_estimators': 40}\n",
      "32.304692 for {'learning_rate': 0.8, 'max_depth': 14, 'n_estimators': 50}\n",
      "32.766836 for {'learning_rate': 0.8, 'max_depth': 15, 'n_estimators': 10}\n",
      "32.992782 for {'learning_rate': 0.8, 'max_depth': 15, 'n_estimators': 20}\n",
      "32.963305 for {'learning_rate': 0.8, 'max_depth': 15, 'n_estimators': 30}\n",
      "32.768146 for {'learning_rate': 0.8, 'max_depth': 15, 'n_estimators': 40}\n",
      "32.909535 for {'learning_rate': 0.8, 'max_depth': 15, 'n_estimators': 50}\n",
      "33.072330 for {'learning_rate': 0.8, 'max_depth': 16, 'n_estimators': 10}\n",
      "32.878342 for {'learning_rate': 0.8, 'max_depth': 16, 'n_estimators': 20}\n",
      "32.672373 for {'learning_rate': 0.8, 'max_depth': 16, 'n_estimators': 30}\n",
      "32.859665 for {'learning_rate': 0.8, 'max_depth': 16, 'n_estimators': 40}\n",
      "33.437909 for {'learning_rate': 0.8, 'max_depth': 16, 'n_estimators': 50}\n",
      "32.927260 for {'learning_rate': 0.8, 'max_depth': 17, 'n_estimators': 10}\n",
      "32.867891 for {'learning_rate': 0.8, 'max_depth': 17, 'n_estimators': 20}\n",
      "32.953441 for {'learning_rate': 0.8, 'max_depth': 17, 'n_estimators': 30}\n",
      "32.788788 for {'learning_rate': 0.8, 'max_depth': 17, 'n_estimators': 40}\n",
      "32.899887 for {'learning_rate': 0.8, 'max_depth': 17, 'n_estimators': 50}\n",
      "32.961956 for {'learning_rate': 0.8, 'max_depth': 18, 'n_estimators': 10}\n",
      "33.801506 for {'learning_rate': 0.8, 'max_depth': 18, 'n_estimators': 20}\n",
      "32.796643 for {'learning_rate': 0.8, 'max_depth': 18, 'n_estimators': 30}\n",
      "32.833467 for {'learning_rate': 0.8, 'max_depth': 18, 'n_estimators': 40}\n",
      "32.506189 for {'learning_rate': 0.8, 'max_depth': 18, 'n_estimators': 50}\n",
      "33.081499 for {'learning_rate': 0.8, 'max_depth': 19, 'n_estimators': 10}\n",
      "33.211190 for {'learning_rate': 0.8, 'max_depth': 19, 'n_estimators': 20}\n",
      "32.732988 for {'learning_rate': 0.8, 'max_depth': 19, 'n_estimators': 30}\n",
      "33.245427 for {'learning_rate': 0.8, 'max_depth': 19, 'n_estimators': 40}\n",
      "33.344373 for {'learning_rate': 0.8, 'max_depth': 19, 'n_estimators': 50}\n"
     ]
    }
   ],
   "source": [
    "MODEL_SETTINGS = {\n",
    "  'learning_rate': [0.1, 0.5, 0.8],\n",
    "  'n_estimators': [x for x in range (10, 51, 10)],\n",
    "  'max_depth': [x for x in range (2,20)]}\n",
    "                \n",
    "best_hypers_for_model(GradientBoostingRegressor(),MODEL_SETTINGS,rmse_scorer)"
   ]
  },
  {
   "cell_type": "code",
   "execution_count": 286,
   "metadata": {},
   "outputs": [
    {
     "name": "stdout",
     "output_type": "stream",
     "text": [
      "<catboost.core.CatBoostRegressor object at 0x7ff01c2ce0d Best parameters set found on development set:\n",
      "\n",
      "{'iterations': 5, 'learning_rate': 0.8, 'max_depth': 7, 'verbose': False}\n",
      "\n",
      "Grid scores on development set:\n",
      "\n",
      "37.632065 for {'iterations': 2, 'learning_rate': 0.1, 'max_depth': 2, 'verbose': False}\n",
      "37.175841 for {'iterations': 2, 'learning_rate': 0.1, 'max_depth': 3, 'verbose': False}\n",
      "37.195593 for {'iterations': 2, 'learning_rate': 0.1, 'max_depth': 4, 'verbose': False}\n",
      "37.056844 for {'iterations': 2, 'learning_rate': 0.1, 'max_depth': 5, 'verbose': False}\n",
      "36.996301 for {'iterations': 2, 'learning_rate': 0.1, 'max_depth': 6, 'verbose': False}\n",
      "36.954505 for {'iterations': 2, 'learning_rate': 0.1, 'max_depth': 7, 'verbose': False}\n",
      "37.065022 for {'iterations': 2, 'learning_rate': 0.1, 'max_depth': 8, 'verbose': False}\n",
      "37.102839 for {'iterations': 2, 'learning_rate': 0.1, 'max_depth': 9, 'verbose': False}\n",
      "37.216403 for {'iterations': 2, 'learning_rate': 0.1, 'max_depth': 10, 'verbose': False}\n",
      "37.519877 for {'iterations': 2, 'learning_rate': 0.1, 'max_depth': 11, 'verbose': False}\n",
      "37.761287 for {'iterations': 2, 'learning_rate': 0.1, 'max_depth': 12, 'verbose': False}\n",
      "37.992095 for {'iterations': 2, 'learning_rate': 0.1, 'max_depth': 13, 'verbose': False}\n",
      "38.237370 for {'iterations': 2, 'learning_rate': 0.1, 'max_depth': 14, 'verbose': False}\n",
      "38.237464 for {'iterations': 2, 'learning_rate': 0.1, 'max_depth': 15, 'verbose': False}\n",
      "38.745780 for {'iterations': 2, 'learning_rate': 0.1, 'max_depth': 16, 'verbose': False}\n",
      "nan for {'iterations': 2, 'learning_rate': 0.1, 'max_depth': 17, 'verbose': False}\n",
      "nan for {'iterations': 2, 'learning_rate': 0.1, 'max_depth': 18, 'verbose': False}\n",
      "nan for {'iterations': 2, 'learning_rate': 0.1, 'max_depth': 19, 'verbose': False}\n",
      "32.414517 for {'iterations': 2, 'learning_rate': 0.5, 'max_depth': 2, 'verbose': False}\n",
      "31.474909 for {'iterations': 2, 'learning_rate': 0.5, 'max_depth': 3, 'verbose': False}\n",
      "30.773565 for {'iterations': 2, 'learning_rate': 0.5, 'max_depth': 4, 'verbose': False}\n",
      "31.017602 for {'iterations': 2, 'learning_rate': 0.5, 'max_depth': 5, 'verbose': False}\n",
      "30.602432 for {'iterations': 2, 'learning_rate': 0.5, 'max_depth': 6, 'verbose': False}\n",
      "30.718114 for {'iterations': 2, 'learning_rate': 0.5, 'max_depth': 7, 'verbose': False}\n",
      "30.469618 for {'iterations': 2, 'learning_rate': 0.5, 'max_depth': 8, 'verbose': False}\n",
      "30.942888 for {'iterations': 2, 'learning_rate': 0.5, 'max_depth': 9, 'verbose': False}\n",
      "31.473706 for {'iterations': 2, 'learning_rate': 0.5, 'max_depth': 10, 'verbose': False}\n",
      "31.860083 for {'iterations': 2, 'learning_rate': 0.5, 'max_depth': 11, 'verbose': False}\n",
      "32.902587 for {'iterations': 2, 'learning_rate': 0.5, 'max_depth': 12, 'verbose': False}\n",
      "33.591957 for {'iterations': 2, 'learning_rate': 0.5, 'max_depth': 13, 'verbose': False}\n",
      "34.865279 for {'iterations': 2, 'learning_rate': 0.5, 'max_depth': 14, 'verbose': False}\n",
      "34.473563 for {'iterations': 2, 'learning_rate': 0.5, 'max_depth': 15, 'verbose': False}\n",
      "36.397959 for {'iterations': 2, 'learning_rate': 0.5, 'max_depth': 16, 'verbose': False}\n",
      "nan for {'iterations': 2, 'learning_rate': 0.5, 'max_depth': 17, 'verbose': False}\n",
      "nan for {'iterations': 2, 'learning_rate': 0.5, 'max_depth': 18, 'verbose': False}\n",
      "nan for {'iterations': 2, 'learning_rate': 0.5, 'max_depth': 19, 'verbose': False}\n",
      "30.494690 for {'iterations': 2, 'learning_rate': 0.8, 'max_depth': 2, 'verbose': False}\n",
      "29.360718 for {'iterations': 2, 'learning_rate': 0.8, 'max_depth': 3, 'verbose': False}\n",
      "29.384035 for {'iterations': 2, 'learning_rate': 0.8, 'max_depth': 4, 'verbose': False}\n",
      "29.055737 for {'iterations': 2, 'learning_rate': 0.8, 'max_depth': 5, 'verbose': False}\n",
      "28.807135 for {'iterations': 2, 'learning_rate': 0.8, 'max_depth': 6, 'verbose': False}\n",
      "28.888288 for {'iterations': 2, 'learning_rate': 0.8, 'max_depth': 7, 'verbose': False}\n",
      "28.996860 for {'iterations': 2, 'learning_rate': 0.8, 'max_depth': 8, 'verbose': False}\n",
      "29.409649 for {'iterations': 2, 'learning_rate': 0.8, 'max_depth': 9, 'verbose': False}\n",
      "29.219101 for {'iterations': 2, 'learning_rate': 0.8, 'max_depth': 10, 'verbose': False}\n",
      "30.216583 for {'iterations': 2, 'learning_rate': 0.8, 'max_depth': 11, 'verbose': False}\n",
      "31.101017 for {'iterations': 2, 'learning_rate': 0.8, 'max_depth': 12, 'verbose': False}\n",
      "31.951865 for {'iterations': 2, 'learning_rate': 0.8, 'max_depth': 13, 'verbose': False}\n",
      "33.409517 for {'iterations': 2, 'learning_rate': 0.8, 'max_depth': 14, 'verbose': False}\n",
      "33.245497 for {'iterations': 2, 'learning_rate': 0.8, 'max_depth': 15, 'verbose': False}\n",
      "35.129435 for {'iterations': 2, 'learning_rate': 0.8, 'max_depth': 16, 'verbose': False}\n",
      "nan for {'iterations': 2, 'learning_rate': 0.8, 'max_depth': 17, 'verbose': False}\n",
      "nan for {'iterations': 2, 'learning_rate': 0.8, 'max_depth': 18, 'verbose': False}\n",
      "nan for {'iterations': 2, 'learning_rate': 0.8, 'max_depth': 19, 'verbose': False}\n",
      "36.833871 for {'iterations': 3, 'learning_rate': 0.1, 'max_depth': 2, 'verbose': False}\n",
      "36.340850 for {'iterations': 3, 'learning_rate': 0.1, 'max_depth': 3, 'verbose': False}\n",
      "36.050852 for {'iterations': 3, 'learning_rate': 0.1, 'max_depth': 4, 'verbose': False}\n",
      "36.050280 for {'iterations': 3, 'learning_rate': 0.1, 'max_depth': 5, 'verbose': False}\n",
      "35.993308 for {'iterations': 3, 'learning_rate': 0.1, 'max_depth': 6, 'verbose': False}\n",
      "35.856978 for {'iterations': 3, 'learning_rate': 0.1, 'max_depth': 7, 'verbose': False}\n",
      "35.896127 for {'iterations': 3, 'learning_rate': 0.1, 'max_depth': 8, 'verbose': False}\n",
      "35.928326 for {'iterations': 3, 'learning_rate': 0.1, 'max_depth': 9, 'verbose': False}\n",
      "36.111109 for {'iterations': 3, 'learning_rate': 0.1, 'max_depth': 10, 'verbose': False}\n",
      "36.420108 for {'iterations': 3, 'learning_rate': 0.1, 'max_depth': 11, 'verbose': False}\n",
      "36.644464 for {'iterations': 3, 'learning_rate': 0.1, 'max_depth': 12, 'verbose': False}\n",
      "37.059737 for {'iterations': 3, 'learning_rate': 0.1, 'max_depth': 13, 'verbose': False}\n",
      "37.305469 for {'iterations': 3, 'learning_rate': 0.1, 'max_depth': 14, 'verbose': False}\n",
      "37.534960 for {'iterations': 3, 'learning_rate': 0.1, 'max_depth': 15, 'verbose': False}\n",
      "38.088238 for {'iterations': 3, 'learning_rate': 0.1, 'max_depth': 16, 'verbose': False}\n",
      "nan for {'iterations': 3, 'learning_rate': 0.1, 'max_depth': 17, 'verbose': False}\n",
      "nan for {'iterations': 3, 'learning_rate': 0.1, 'max_depth': 18, 'verbose': False}\n",
      "nan for {'iterations': 3, 'learning_rate': 0.1, 'max_depth': 19, 'verbose': False}\n",
      "30.259139 for {'iterations': 3, 'learning_rate': 0.5, 'max_depth': 2, 'verbose': False}\n",
      "30.158929 for {'iterations': 3, 'learning_rate': 0.5, 'max_depth': 3, 'verbose': False}\n",
      "29.212713 for {'iterations': 3, 'learning_rate': 0.5, 'max_depth': 4, 'verbose': False}\n",
      "29.501431 for {'iterations': 3, 'learning_rate': 0.5, 'max_depth': 5, 'verbose': False}\n",
      "29.006643 for {'iterations': 3, 'learning_rate': 0.5, 'max_depth': 6, 'verbose': False}\n",
      "29.088223 for {'iterations': 3, 'learning_rate': 0.5, 'max_depth': 7, 'verbose': False}\n",
      "28.874708 for {'iterations': 3, 'learning_rate': 0.5, 'max_depth': 8, 'verbose': False}\n",
      "29.021088 for {'iterations': 3, 'learning_rate': 0.5, 'max_depth': 9, 'verbose': False}\n",
      "29.644392 for {'iterations': 3, 'learning_rate': 0.5, 'max_depth': 10, 'verbose': False}\n",
      "30.023923 for {'iterations': 3, 'learning_rate': 0.5, 'max_depth': 11, 'verbose': False}\n",
      "30.592328 for {'iterations': 3, 'learning_rate': 0.5, 'max_depth': 12, 'verbose': False}\n",
      "31.630382 for {'iterations': 3, 'learning_rate': 0.5, 'max_depth': 13, 'verbose': False}\n",
      "32.702466 for {'iterations': 3, 'learning_rate': 0.5, 'max_depth': 14, 'verbose': False}\n",
      "32.574756 for {'iterations': 3, 'learning_rate': 0.5, 'max_depth': 15, 'verbose': False}\n",
      "34.389306 for {'iterations': 3, 'learning_rate': 0.5, 'max_depth': 16, 'verbose': False}\n",
      "nan for {'iterations': 3, 'learning_rate': 0.5, 'max_depth': 17, 'verbose': False}\n",
      "nan for {'iterations': 3, 'learning_rate': 0.5, 'max_depth': 18, 'verbose': False}\n",
      "nan for {'iterations': 3, 'learning_rate': 0.5, 'max_depth': 19, 'verbose': False}\n",
      "29.256064 for {'iterations': 3, 'learning_rate': 0.8, 'max_depth': 2, 'verbose': False}\n",
      "28.697739 for {'iterations': 3, 'learning_rate': 0.8, 'max_depth': 3, 'verbose': False}\n",
      "28.192151 for {'iterations': 3, 'learning_rate': 0.8, 'max_depth': 4, 'verbose': False}\n",
      "28.003025 for {'iterations': 3, 'learning_rate': 0.8, 'max_depth': 5, 'verbose': False}\n",
      "27.783457 for {'iterations': 3, 'learning_rate': 0.8, 'max_depth': 6, 'verbose': False}\n",
      "27.648908 for {'iterations': 3, 'learning_rate': 0.8, 'max_depth': 7, 'verbose': False}\n",
      "28.141693 for {'iterations': 3, 'learning_rate': 0.8, 'max_depth': 8, 'verbose': False}\n",
      "28.238380 for {'iterations': 3, 'learning_rate': 0.8, 'max_depth': 9, 'verbose': False}\n",
      "28.073117 for {'iterations': 3, 'learning_rate': 0.8, 'max_depth': 10, 'verbose': False}\n",
      "29.173795 for {'iterations': 3, 'learning_rate': 0.8, 'max_depth': 11, 'verbose': False}\n",
      "29.438811 for {'iterations': 3, 'learning_rate': 0.8, 'max_depth': 12, 'verbose': False}\n",
      "30.795217 for {'iterations': 3, 'learning_rate': 0.8, 'max_depth': 13, 'verbose': False}\n",
      "31.407849 for {'iterations': 3, 'learning_rate': 0.8, 'max_depth': 14, 'verbose': False}\n",
      "31.786728 for {'iterations': 3, 'learning_rate': 0.8, 'max_depth': 15, 'verbose': False}\n",
      "33.511386 for {'iterations': 3, 'learning_rate': 0.8, 'max_depth': 16, 'verbose': False}\n",
      "nan for {'iterations': 3, 'learning_rate': 0.8, 'max_depth': 17, 'verbose': False}\n",
      "nan for {'iterations': 3, 'learning_rate': 0.8, 'max_depth': 18, 'verbose': False}\n",
      "nan for {'iterations': 3, 'learning_rate': 0.8, 'max_depth': 19, 'verbose': False}\n",
      "35.434334 for {'iterations': 5, 'learning_rate': 0.1, 'max_depth': 2, 'verbose': False}\n",
      "34.748095 for {'iterations': 5, 'learning_rate': 0.1, 'max_depth': 3, 'verbose': False}\n",
      "34.190488 for {'iterations': 5, 'learning_rate': 0.1, 'max_depth': 4, 'verbose': False}\n",
      "34.057238 for {'iterations': 5, 'learning_rate': 0.1, 'max_depth': 5, 'verbose': False}\n",
      "34.198108 for {'iterations': 5, 'learning_rate': 0.1, 'max_depth': 6, 'verbose': False}\n",
      "34.195246 for {'iterations': 5, 'learning_rate': 0.1, 'max_depth': 7, 'verbose': False}\n",
      "34.011572 for {'iterations': 5, 'learning_rate': 0.1, 'max_depth': 8, 'verbose': False}\n",
      "34.136113 for {'iterations': 5, 'learning_rate': 0.1, 'max_depth': 9, 'verbose': False}\n",
      "34.360787 for {'iterations': 5, 'learning_rate': 0.1, 'max_depth': 10, 'verbose': False}\n",
      "34.539097 for {'iterations': 5, 'learning_rate': 0.1, 'max_depth': 11, 'verbose': False}\n",
      "34.944655 for {'iterations': 5, 'learning_rate': 0.1, 'max_depth': 12, 'verbose': False}\n",
      "35.600521 for {'iterations': 5, 'learning_rate': 0.1, 'max_depth': 13, 'verbose': False}\n",
      "36.381027 for {'iterations': 5, 'learning_rate': 0.1, 'max_depth': 14, 'verbose': False}\n",
      "36.346103 for {'iterations': 5, 'learning_rate': 0.1, 'max_depth': 15, 'verbose': False}\n",
      "36.697512 for {'iterations': 5, 'learning_rate': 0.1, 'max_depth': 16, 'verbose': False}\n",
      "nan for {'iterations': 5, 'learning_rate': 0.1, 'max_depth': 17, 'verbose': False}\n",
      "nan for {'iterations': 5, 'learning_rate': 0.1, 'max_depth': 18, 'verbose': False}\n",
      "nan for {'iterations': 5, 'learning_rate': 0.1, 'max_depth': 19, 'verbose': False}\n",
      "28.843310 for {'iterations': 5, 'learning_rate': 0.5, 'max_depth': 2, 'verbose': False}\n",
      "28.248103 for {'iterations': 5, 'learning_rate': 0.5, 'max_depth': 3, 'verbose': False}\n",
      "27.593278 for {'iterations': 5, 'learning_rate': 0.5, 'max_depth': 4, 'verbose': False}\n",
      "27.609844 for {'iterations': 5, 'learning_rate': 0.5, 'max_depth': 5, 'verbose': False}\n",
      "27.285069 for {'iterations': 5, 'learning_rate': 0.5, 'max_depth': 6, 'verbose': False}\n",
      "27.347765 for {'iterations': 5, 'learning_rate': 0.5, 'max_depth': 7, 'verbose': False}\n",
      "26.970672 for {'iterations': 5, 'learning_rate': 0.5, 'max_depth': 8, 'verbose': False}\n",
      "27.375941 for {'iterations': 5, 'learning_rate': 0.5, 'max_depth': 9, 'verbose': False}\n",
      "28.204962 for {'iterations': 5, 'learning_rate': 0.5, 'max_depth': 10, 'verbose': False}\n",
      "28.140736 for {'iterations': 5, 'learning_rate': 0.5, 'max_depth': 11, 'verbose': False}\n",
      "28.917014 for {'iterations': 5, 'learning_rate': 0.5, 'max_depth': 12, 'verbose': False}\n",
      "29.815778 for {'iterations': 5, 'learning_rate': 0.5, 'max_depth': 13, 'verbose': False}\n",
      "31.520894 for {'iterations': 5, 'learning_rate': 0.5, 'max_depth': 14, 'verbose': False}\n",
      "30.984011 for {'iterations': 5, 'learning_rate': 0.5, 'max_depth': 15, 'verbose': False}\n",
      "32.055975 for {'iterations': 5, 'learning_rate': 0.5, 'max_depth': 16, 'verbose': False}\n",
      "nan for {'iterations': 5, 'learning_rate': 0.5, 'max_depth': 17, 'verbose': False}\n",
      "nan for {'iterations': 5, 'learning_rate': 0.5, 'max_depth': 18, 'verbose': False}\n",
      "nan for {'iterations': 5, 'learning_rate': 0.5, 'max_depth': 19, 'verbose': False}\n",
      "28.162961 for {'iterations': 5, 'learning_rate': 0.8, 'max_depth': 2, 'verbose': False}\n",
      "27.823779 for {'iterations': 5, 'learning_rate': 0.8, 'max_depth': 3, 'verbose': False}\n",
      "27.418870 for {'iterations': 5, 'learning_rate': 0.8, 'max_depth': 4, 'verbose': False}\n",
      "27.029804 for {'iterations': 5, 'learning_rate': 0.8, 'max_depth': 5, 'verbose': False}\n",
      "27.126393 for {'iterations': 5, 'learning_rate': 0.8, 'max_depth': 6, 'verbose': False}\n",
      "26.929362 for {'iterations': 5, 'learning_rate': 0.8, 'max_depth': 7, 'verbose': False}\n",
      "27.458206 for {'iterations': 5, 'learning_rate': 0.8, 'max_depth': 8, 'verbose': False}\n",
      "27.450544 for {'iterations': 5, 'learning_rate': 0.8, 'max_depth': 9, 'verbose': False}\n",
      "27.632372 for {'iterations': 5, 'learning_rate': 0.8, 'max_depth': 10, 'verbose': False}\n",
      "28.199400 for {'iterations': 5, 'learning_rate': 0.8, 'max_depth': 11, 'verbose': False}\n",
      "28.482403 for {'iterations': 5, 'learning_rate': 0.8, 'max_depth': 12, 'verbose': False}\n",
      "29.638868 for {'iterations': 5, 'learning_rate': 0.8, 'max_depth': 13, 'verbose': False}\n",
      "30.829106 for {'iterations': 5, 'learning_rate': 0.8, 'max_depth': 14, 'verbose': False}\n",
      "30.878734 for {'iterations': 5, 'learning_rate': 0.8, 'max_depth': 15, 'verbose': False}\n",
      "31.861677 for {'iterations': 5, 'learning_rate': 0.8, 'max_depth': 16, 'verbose': False}\n",
      "nan for {'iterations': 5, 'learning_rate': 0.8, 'max_depth': 17, 'verbose': False}\n",
      "nan for {'iterations': 5, 'learning_rate': 0.8, 'max_depth': 18, 'verbose': False}\n",
      "nan for {'iterations': 5, 'learning_rate': 0.8, 'max_depth': 19, 'verbose': False}\n"
     ]
    }
   ],
   "source": [
    "MODEL_SETTINGS = {\n",
    "  'verbose':[False],\n",
    "  'learning_rate': [0.1, 0.5, 0.8],\n",
    "  'iterations': [2,3,5],\n",
    "  'max_depth': [x for x in range (2,20)]}\n",
    "best_hypers_for_model(CatBoostRegressor(),MODEL_SETTINGS,rmse_scorer)"
   ]
  },
  {
   "cell_type": "markdown",
   "metadata": {},
   "source": [
    "## Тестирование"
   ]
  },
  {
   "cell_type": "markdown",
   "metadata": {},
   "source": [
    "Обучим модели с наилучшими гиперпараметрами и протестируем на тестовой выборке"
   ]
  },
  {
   "cell_type": "code",
   "execution_count": 287,
   "metadata": {},
   "outputs": [],
   "source": [
    "result = pd.DataFrame(index=[\"RandomForestRegressor\",\"DecisionTreeRegressor\", \"CatBoostRegressor\",'GradientBoostingRegressor'],\n",
    "                      columns=[\"RMSE\", \"learning_time\", \"predict_time\"])"
   ]
  },
  {
   "cell_type": "code",
   "execution_count": 288,
   "metadata": {
    "scrolled": false
   },
   "outputs": [
    {
     "name": "stderr",
     "output_type": "stream",
     "text": [
      "100%|██████████| 5/5 [00:25<00:00,  5.15s/it]\n"
     ]
    }
   ],
   "source": [
    "predictions = best_model_result({'DecisionTreeRegressor': DecisionTreeRegressor(max_depth=4, random_state=12345),\n",
    "                   'RandomForestRegressor': RandomForestRegressor(max_depth=18, n_estimators=50, random_state=12345),\n",
    "                   'CatBoostRegressor': CatBoostRegressor(iterations=5, learning_rate=0.8, max_depth=7, verbose=False),\n",
    "                    'GradientBoostingRegressor': GradientBoostingRegressor(learning_rate=0.1, max_depth=5, n_estimators=50),\n",
    "                  'LGBMRegressor': LGBMRegressor(learning_rate=0.8, max_depth=9, n_estimators=9, random_state=12345)})\n"
   ]
  },
  {
   "cell_type": "markdown",
   "metadata": {},
   "source": [
    "## Вывод"
   ]
  },
  {
   "cell_type": "markdown",
   "metadata": {},
   "source": [
    "Из выбранных моделей по качеству прошла лишь RandomForestRegressor с RMSE = 43.598593\n",
    "GradientBoostingRegressor\tRMSE = 44.655158"
   ]
  },
  {
   "cell_type": "code",
   "execution_count": 289,
   "metadata": {
    "scrolled": false
   },
   "outputs": [
    {
     "data": {
      "text/html": [
       "<div>\n",
       "<style scoped>\n",
       "    .dataframe tbody tr th:only-of-type {\n",
       "        vertical-align: middle;\n",
       "    }\n",
       "\n",
       "    .dataframe tbody tr th {\n",
       "        vertical-align: top;\n",
       "    }\n",
       "\n",
       "    .dataframe thead th {\n",
       "        text-align: right;\n",
       "    }\n",
       "</style>\n",
       "<table border=\"1\" class=\"dataframe\">\n",
       "  <thead>\n",
       "    <tr style=\"text-align: right;\">\n",
       "      <th></th>\n",
       "      <th>RMSE</th>\n",
       "      <th>learning_time</th>\n",
       "      <th>predict_time</th>\n",
       "    </tr>\n",
       "  </thead>\n",
       "  <tbody>\n",
       "    <tr>\n",
       "      <th>RandomForestRegressor</th>\n",
       "      <td>43.598593</td>\n",
       "      <td>2.112091</td>\n",
       "      <td>0.008084</td>\n",
       "    </tr>\n",
       "    <tr>\n",
       "      <th>DecisionTreeRegressor</th>\n",
       "      <td>55.196511</td>\n",
       "      <td>0.021849</td>\n",
       "      <td>0.00227</td>\n",
       "    </tr>\n",
       "    <tr>\n",
       "      <th>CatBoostRegressor</th>\n",
       "      <td>49.805385</td>\n",
       "      <td>0.221075</td>\n",
       "      <td>0.00189</td>\n",
       "    </tr>\n",
       "    <tr>\n",
       "      <th>GradientBoostingRegressor</th>\n",
       "      <td>44.655158</td>\n",
       "      <td>1.078559</td>\n",
       "      <td>0.0021</td>\n",
       "    </tr>\n",
       "    <tr>\n",
       "      <th>LGBMRegressor</th>\n",
       "      <td>49.015661</td>\n",
       "      <td>22.26597</td>\n",
       "      <td>0.008286</td>\n",
       "    </tr>\n",
       "  </tbody>\n",
       "</table>\n",
       "</div>"
      ],
      "text/plain": [
       "                                RMSE learning_time predict_time\n",
       "RandomForestRegressor      43.598593      2.112091     0.008084\n",
       "DecisionTreeRegressor      55.196511      0.021849      0.00227\n",
       "CatBoostRegressor          49.805385      0.221075      0.00189\n",
       "GradientBoostingRegressor  44.655158      1.078559       0.0021\n",
       "LGBMRegressor              49.015661      22.26597     0.008286"
      ]
     },
     "execution_count": 289,
     "metadata": {},
     "output_type": "execute_result"
    }
   ],
   "source": [
    "result"
   ]
  },
  {
   "cell_type": "code",
   "execution_count": 291,
   "metadata": {
    "scrolled": false
   },
   "outputs": [
    {
     "data": {
      "text/plain": [
       "<AxesSubplot:title={'center':'результат модели RandomForestRegressor'}, xlabel='datetime'>"
      ]
     },
     "execution_count": 291,
     "metadata": {},
     "output_type": "execute_result"
    },
    {
     "data": {
      "image/png": "[encoded data removed]",
      "text/plain": [
       "<Figure size 1080x576 with 1 Axes>"
      ]
     },
     "metadata": {
      "needs_background": "light"
     },
     "output_type": "display_data"
    }
   ],
   "source": [
    "result_df = pd.DataFrame(data={\"RandomForestRegressor_predictions\":predictions['RandomForestRegressor'],\n",
    "                               \"GradientBoostingRegressor_predictions\":predictions['GradientBoostingRegressor'],\"target\":  target_test})\n",
    "\n",
    "result_df[[\"RandomForestRegressor_predictions\",\"target\"]]['2018-08-13 16:00:00': '2018-08-15 16:00:00'].plot(kind='line', figsize=(15,8), title='результат модели RandomForestRegressor')"
   ]
  },
  {
   "cell_type": "code",
   "execution_count": 292,
   "metadata": {},
   "outputs": [
    {
     "data": {
      "text/plain": [
       "<AxesSubplot:title={'center':'результат модели GradientBoostingRegressor'}, xlabel='datetime'>"
      ]
     },
     "execution_count": 292,
     "metadata": {},
     "output_type": "execute_result"
    },
    {
     "data": {
      "image/png": "[encoded data removed]",
      "text/plain": [
       "<Figure size 1080x576 with 1 Axes>"
      ]
     },
     "metadata": {
      "needs_background": "light"
     },
     "output_type": "display_data"
    }
   ],
   "source": [
    "result_df[[\"GradientBoostingRegressor_predictions\",\"target\"]]['2018-08-13 16:00:00': '2018-08-15 16:00:00'].plot(kind='line', figsize=(15,8), title='результат модели GradientBoostingRegressor')"
   ]
  },
  {
   "cell_type": "markdown",
   "metadata": {},
   "source": [
    "<div class=\"alert alert-success\" style=\"border-color: green; border-radius: 5px\">\n",
    "    <p><u><b>✅ Полезно запомнить</b></u></p>\n",
    "\n",
    "Разные практические истории вот здесь:<br>\n",
    "1) https://ibf.org/knowledge - заморский институт бизнес-прогнозирования.<br>\n",
    "Там и статьи можно накопать, и методы посмомтерть...<br>\n",
    "\n",
    "2) Есть классический труд (он НЕ ML, а исключительно на эксель). Но для понимания сути временных рядов - то, что надо:<br>\n",
    "УИЧЕРН \"Бизнес-прогнозирование\"<br>\n",
    "\n",
    "3) Идеологически по системе прогнозирования, интересно почитать<br>\n",
    "ТОМАС УОЛЛАС, Р. СТАЛЬ \"планирование продаж и операций\" SO&P<br><br>     \n"
   ]
  },
  {
   "cell_type": "markdown",
   "metadata": {},
   "source": [
    "<div class=\"alert alert-success\" style=\"border-color: green; border-radius: 5px\">\n",
    "    <p><u><b>✅ Полезно запомнить</b></u></p>\n",
    "Хотел бы оставить несколько идей для твоих будущих проектов в этой обоасти<br>\n",
    "\n",
    "На мой взгляд, в этой теме (временные ряды) главное - необходимо чувствовать исходный ряд продаж, с точки зрения бизнеса, и уже только потом подбирать к нему модели. Каждое колебание временного ряда - это деньги для бизнеса (если говорим что заказчик бизнесовый) и за \"трепетами\" данных прячутся разные семейства причин. И именно знание их помогут строить хорошие прогнозы..<br>.\n",
    "Леса, бустинги, регрессии.... могут подобрать хорошие модели на старых данных. Но иногда, как прогноз эти, модели могут оказаться пустышками - не интересными бизнесу. <br>  <br>\n",
    "Поэтому, от себя позволю добавить несколько идей:<br>\n",
    "Очень часто ищут \"волшебную таблетку\" или \"кнопку\". Нажал и само всё построилось с высокой точностью<br>\n",
    "Но такого никогода не будет)))<br>\n",
    "И причиной тому: модели нужно подсказать причины, по которым происходит колебания продаж (временного ряда): понимать причины колебаний треда, понимать аномалии, учитывать акционные продажи, видеть действия конкурентов , закладывать их в модель и т.д. <br><br>\n",
    "В общем, всё как обычно - три группы факторов: <br>\n",
    "1)внешние факторы (например выручка такси-компании зависит от количества машин на линии),<br>\n",
    "2)есть факторы внутри самих данных (Вы использовали как раз поняти лаг, сезонности), <br>\n",
    "3)есть параметры самих моделей (то, что обычно используется при моделировании леса или деревьев).<br><br>\n",
    "\n",
    "Ещё важно иметь ввиду горизонт прогноза: на кокой период строить прогноз нужно  - на час вперёд, на неделю, на месяц.<br>\n",
    "Это также накладывает ограничения на подбор моделей<br>\n",
    "Я бы рекомендовал Вам составить для себя матрицу  в разрезе: <br>\n",
    "а)есть тренд/нет тренда; <br>\n",
    "б)еть сезоннотсь/нет сезонности; <br>\n",
    "в)какой горизонт прогноза требуется; <br>\n",
    "г) есть ли у нас дополнительные факторы для модей<br>\n",
    "На пересечении знаний о моделях легко будет подобрать адкватную модель.\n",
    "Не все задачи прогнозирования временных рядов можно хорошо решить лесом и еже с ним на основе знаний только факторов ряда... Они хорошо подойдут для коротких горизонтов прогнозирования.... А если горизонт чуть больше: недели, месяцы... то тут надо подключать понимания фаткоров продаж самого бизнеса.</div> "
   ]
  },
  {
   "cell_type": "code",
   "execution_count": null,
   "metadata": {},
   "outputs": [],
   "source": []
  }
 ],
 "metadata": {
  "ExecuteTimeLog": [
   {
    "duration": 1450,
    "start_time": "2022-06-13T09:05:21.738Z"
   },
   {
    "duration": 1069,
    "start_time": "2022-06-13T09:05:23.190Z"
   },
   {
    "duration": 4,
    "start_time": "2022-06-13T09:05:24.260Z"
   },
   {
    "duration": 190,
    "start_time": "2022-06-13T09:05:59.721Z"
   },
   {
    "duration": 4,
    "start_time": "2022-06-13T09:06:02.021Z"
   },
   {
    "duration": 408,
    "start_time": "2022-06-13T09:06:23.509Z"
   },
   {
    "duration": 5,
    "start_time": "2022-06-13T09:07:06.222Z"
   },
   {
    "duration": 54,
    "start_time": "2022-06-13T09:07:06.563Z"
   },
   {
    "duration": 54,
    "start_time": "2022-06-13T09:10:45.848Z"
   },
   {
    "duration": 4,
    "start_time": "2022-06-13T09:10:46.315Z"
   },
   {
    "duration": 40,
    "start_time": "2022-06-13T09:10:47.590Z"
   },
   {
    "duration": 4,
    "start_time": "2022-06-13T09:11:16.061Z"
   },
   {
    "duration": 19,
    "start_time": "2022-06-13T09:13:12.538Z"
   },
   {
    "duration": 131,
    "start_time": "2022-06-13T12:48:03.939Z"
   },
   {
    "duration": 7,
    "start_time": "2022-06-13T12:48:06.749Z"
   },
   {
    "duration": 187,
    "start_time": "2022-06-13T12:48:07.003Z"
   },
   {
    "duration": 3,
    "start_time": "2022-06-13T12:48:08.766Z"
   },
   {
    "duration": 8,
    "start_time": "2022-06-13T12:48:13.600Z"
   },
   {
    "duration": 11,
    "start_time": "2022-06-13T12:49:23.579Z"
   },
   {
    "duration": 23,
    "start_time": "2022-06-13T12:49:34.542Z"
   },
   {
    "duration": 44,
    "start_time": "2022-06-13T13:04:11.310Z"
   },
   {
    "duration": 2,
    "start_time": "2022-06-13T13:04:11.607Z"
   },
   {
    "duration": 8,
    "start_time": "2022-06-13T13:04:12.553Z"
   },
   {
    "duration": 3,
    "start_time": "2022-06-13T13:04:31.998Z"
   },
   {
    "duration": 4,
    "start_time": "2022-06-13T13:04:32.844Z"
   },
   {
    "duration": 13,
    "start_time": "2022-06-13T13:04:52.839Z"
   },
   {
    "duration": 51,
    "start_time": "2022-06-13T13:04:57.391Z"
   },
   {
    "duration": 7,
    "start_time": "2022-06-13T13:04:57.639Z"
   },
   {
    "duration": 7,
    "start_time": "2022-06-13T13:04:57.909Z"
   },
   {
    "duration": 3,
    "start_time": "2022-06-13T13:06:18.053Z"
   },
   {
    "duration": 29,
    "start_time": "2022-06-13T13:06:18.568Z"
   },
   {
    "duration": 9,
    "start_time": "2022-06-13T14:53:50.823Z"
   },
   {
    "duration": 4,
    "start_time": "2022-06-13T14:53:53.022Z"
   },
   {
    "duration": 4,
    "start_time": "2022-06-13T14:53:55.000Z"
   },
   {
    "duration": 5,
    "start_time": "2022-06-13T14:55:15.005Z"
   },
   {
    "duration": 281,
    "start_time": "2022-06-13T15:26:42.658Z"
   },
   {
    "duration": 4,
    "start_time": "2022-06-13T15:26:53.986Z"
   },
   {
    "duration": 11,
    "start_time": "2022-06-13T17:05:18.649Z"
   },
   {
    "duration": 9,
    "start_time": "2022-06-13T17:05:18.931Z"
   },
   {
    "duration": 8,
    "start_time": "2022-06-13T17:05:28.627Z"
   },
   {
    "duration": 204,
    "start_time": "2022-06-13T17:06:31.640Z"
   },
   {
    "duration": 6,
    "start_time": "2022-06-13T17:06:44.480Z"
   },
   {
    "duration": 232,
    "start_time": "2022-06-13T17:06:45.363Z"
   },
   {
    "duration": 170,
    "start_time": "2022-06-13T17:06:48.631Z"
   },
   {
    "duration": 157,
    "start_time": "2022-06-13T17:06:49.647Z"
   },
   {
    "duration": 190,
    "start_time": "2022-06-13T17:07:10.413Z"
   },
   {
    "duration": 217,
    "start_time": "2022-06-13T17:07:21.860Z"
   },
   {
    "duration": 214,
    "start_time": "2022-06-13T17:07:33.205Z"
   },
   {
    "duration": 190,
    "start_time": "2022-06-13T17:10:20.103Z"
   },
   {
    "duration": 214,
    "start_time": "2022-06-13T17:10:28.219Z"
   },
   {
    "duration": 201,
    "start_time": "2022-06-13T17:10:34.718Z"
   },
   {
    "duration": 188,
    "start_time": "2022-06-13T17:39:08.069Z"
   },
   {
    "duration": 160,
    "start_time": "2022-06-13T17:39:43.146Z"
   },
   {
    "duration": 229,
    "start_time": "2022-06-13T17:39:58.807Z"
   },
   {
    "duration": 13,
    "start_time": "2022-06-13T17:42:06.546Z"
   },
   {
    "duration": 14,
    "start_time": "2022-06-13T17:42:16.953Z"
   },
   {
    "duration": 11,
    "start_time": "2022-06-13T17:42:41.789Z"
   },
   {
    "duration": 11,
    "start_time": "2022-06-13T17:43:13.350Z"
   },
   {
    "duration": 7,
    "start_time": "2022-06-13T17:44:10.275Z"
   },
   {
    "duration": 11,
    "start_time": "2022-06-13T17:45:10.233Z"
   },
   {
    "duration": 363,
    "start_time": "2022-06-13T17:50:58.520Z"
   },
   {
    "duration": 7,
    "start_time": "2022-06-13T17:51:41.667Z"
   },
   {
    "duration": 3,
    "start_time": "2022-06-13T17:51:48.526Z"
   },
   {
    "duration": 447,
    "start_time": "2022-06-13T17:51:58.614Z"
   },
   {
    "duration": 8,
    "start_time": "2022-06-13T17:52:32.065Z"
   },
   {
    "duration": 118,
    "start_time": "2022-06-13T17:52:36.258Z"
   },
   {
    "duration": 202,
    "start_time": "2022-06-13T17:54:07.417Z"
   },
   {
    "duration": 191,
    "start_time": "2022-06-13T17:54:30.716Z"
   },
   {
    "duration": 303,
    "start_time": "2022-06-13T17:54:52.294Z"
   },
   {
    "duration": 12,
    "start_time": "2022-06-13T17:54:57.325Z"
   },
   {
    "duration": 241,
    "start_time": "2022-06-13T17:56:46.055Z"
   },
   {
    "duration": 130,
    "start_time": "2022-06-13T17:57:13.944Z"
   },
   {
    "duration": 219,
    "start_time": "2022-06-13T17:57:25.994Z"
   },
   {
    "duration": 6,
    "start_time": "2022-06-13T17:59:24.196Z"
   },
   {
    "duration": 14,
    "start_time": "2022-06-13T18:01:15.941Z"
   },
   {
    "duration": 9,
    "start_time": "2022-06-13T18:01:54.598Z"
   },
   {
    "duration": 17,
    "start_time": "2022-06-13T18:02:12.802Z"
   },
   {
    "duration": 170,
    "start_time": "2022-06-13T18:02:23.169Z"
   },
   {
    "duration": 15,
    "start_time": "2022-06-13T18:02:38.091Z"
   },
   {
    "duration": 163,
    "start_time": "2022-06-13T18:02:48.184Z"
   },
   {
    "duration": 16,
    "start_time": "2022-06-13T18:03:05.517Z"
   },
   {
    "duration": 164,
    "start_time": "2022-06-13T18:03:16.883Z"
   },
   {
    "duration": 144,
    "start_time": "2022-06-13T18:03:22.811Z"
   },
   {
    "duration": 165,
    "start_time": "2022-06-13T18:03:32.143Z"
   },
   {
    "duration": 36,
    "start_time": "2022-06-14T21:07:27.416Z"
   },
   {
    "duration": 1654,
    "start_time": "2022-06-14T21:07:27.725Z"
   },
   {
    "duration": 113,
    "start_time": "2022-06-14T21:07:29.381Z"
   },
   {
    "duration": 10,
    "start_time": "2022-06-14T21:07:29.496Z"
   },
   {
    "duration": 13,
    "start_time": "2022-06-14T21:07:29.806Z"
   },
   {
    "duration": 4,
    "start_time": "2022-06-14T21:07:34.132Z"
   },
   {
    "duration": 40,
    "start_time": "2022-06-14T21:07:35.506Z"
   },
   {
    "duration": 4,
    "start_time": "2022-06-14T21:07:41.267Z"
   },
   {
    "duration": 325,
    "start_time": "2022-06-14T21:07:44.807Z"
   },
   {
    "duration": 10,
    "start_time": "2022-06-14T21:07:59.542Z"
   },
   {
    "duration": 366,
    "start_time": "2022-06-14T21:07:59.554Z"
   },
   {
    "duration": 280,
    "start_time": "2022-06-14T21:08:10.398Z"
   },
   {
    "duration": 132,
    "start_time": "2022-06-14T21:08:28.819Z"
   },
   {
    "duration": 250,
    "start_time": "2022-06-14T21:08:46.009Z"
   },
   {
    "duration": 10,
    "start_time": "2022-06-14T21:10:02.972Z"
   },
   {
    "duration": 208,
    "start_time": "2022-06-14T21:11:29.121Z"
   },
   {
    "duration": 171,
    "start_time": "2022-06-14T21:11:43.522Z"
   },
   {
    "duration": 179,
    "start_time": "2022-06-14T21:11:54.836Z"
   },
   {
    "duration": 244,
    "start_time": "2022-06-14T21:16:44.353Z"
   },
   {
    "duration": 4,
    "start_time": "2022-06-14T21:16:46.196Z"
   },
   {
    "duration": 22,
    "start_time": "2022-06-14T21:18:26.464Z"
   },
   {
    "duration": 5,
    "start_time": "2022-06-14T21:18:26.488Z"
   },
   {
    "duration": 63,
    "start_time": "2022-06-14T21:18:26.494Z"
   },
   {
    "duration": 6,
    "start_time": "2022-06-14T21:18:26.560Z"
   },
   {
    "duration": 13,
    "start_time": "2022-06-14T21:18:26.568Z"
   },
   {
    "duration": 7,
    "start_time": "2022-06-14T21:18:26.583Z"
   },
   {
    "duration": 73,
    "start_time": "2022-06-14T21:18:26.592Z"
   },
   {
    "duration": 5,
    "start_time": "2022-06-14T21:18:26.667Z"
   },
   {
    "duration": 363,
    "start_time": "2022-06-14T21:18:26.674Z"
   },
   {
    "duration": 19,
    "start_time": "2022-06-14T21:18:27.040Z"
   },
   {
    "duration": 237,
    "start_time": "2022-06-14T21:18:27.061Z"
   },
   {
    "duration": 283,
    "start_time": "2022-06-14T21:18:27.300Z"
   },
   {
    "duration": 194,
    "start_time": "2022-06-14T21:18:27.586Z"
   },
   {
    "duration": 261,
    "start_time": "2022-06-14T21:18:27.782Z"
   },
   {
    "duration": 4,
    "start_time": "2022-06-14T21:50:22.434Z"
   },
   {
    "duration": 16,
    "start_time": "2022-06-14T21:50:28.406Z"
   },
   {
    "duration": 6,
    "start_time": "2022-06-14T21:50:33.967Z"
   },
   {
    "duration": 5,
    "start_time": "2022-06-14T21:52:32.344Z"
   },
   {
    "duration": 5,
    "start_time": "2022-06-14T21:52:33.316Z"
   },
   {
    "duration": 10,
    "start_time": "2022-06-14T21:53:15.540Z"
   },
   {
    "duration": 16,
    "start_time": "2022-06-14T21:53:21.834Z"
   },
   {
    "duration": 23,
    "start_time": "2022-06-14T21:54:20.353Z"
   },
   {
    "duration": 4,
    "start_time": "2022-06-14T21:55:42.232Z"
   },
   {
    "duration": 7,
    "start_time": "2022-06-14T21:55:42.572Z"
   },
   {
    "duration": 5,
    "start_time": "2022-06-14T21:55:43.453Z"
   },
   {
    "duration": 10,
    "start_time": "2022-06-14T22:15:10.499Z"
   },
   {
    "duration": 30,
    "start_time": "2022-06-14T22:16:02.746Z"
   },
   {
    "duration": 32,
    "start_time": "2022-06-14T22:16:16.141Z"
   },
   {
    "duration": 9,
    "start_time": "2022-06-14T22:18:49.189Z"
   },
   {
    "duration": 5,
    "start_time": "2022-06-14T22:19:55.410Z"
   },
   {
    "duration": 3,
    "start_time": "2022-06-14T22:20:13.607Z"
   },
   {
    "duration": 4,
    "start_time": "2022-06-14T22:21:02.822Z"
   },
   {
    "duration": 3,
    "start_time": "2022-06-14T22:21:03.321Z"
   },
   {
    "duration": 4,
    "start_time": "2022-06-14T22:21:38.880Z"
   },
   {
    "duration": 4,
    "start_time": "2022-06-14T22:32:12.697Z"
   },
   {
    "duration": 9,
    "start_time": "2022-06-14T22:34:09.339Z"
   },
   {
    "duration": 5,
    "start_time": "2022-06-14T22:34:17.692Z"
   },
   {
    "duration": 6,
    "start_time": "2022-06-14T22:34:27.719Z"
   },
   {
    "duration": 4,
    "start_time": "2022-06-14T22:34:36.090Z"
   },
   {
    "duration": 10,
    "start_time": "2022-06-14T22:35:19.209Z"
   },
   {
    "duration": 610,
    "start_time": "2022-06-14T22:35:41.649Z"
   },
   {
    "duration": 8,
    "start_time": "2022-06-14T22:35:57.783Z"
   },
   {
    "duration": 43,
    "start_time": "2022-06-14T22:42:13.430Z"
   },
   {
    "duration": 5,
    "start_time": "2022-06-14T22:43:53.939Z"
   },
   {
    "duration": 3,
    "start_time": "2022-06-14T22:43:54.237Z"
   },
   {
    "duration": 4,
    "start_time": "2022-06-14T22:43:54.558Z"
   },
   {
    "duration": 48,
    "start_time": "2022-06-14T22:43:55.586Z"
   },
   {
    "duration": 55,
    "start_time": "2022-06-14T22:44:48.296Z"
   },
   {
    "duration": 4,
    "start_time": "2022-06-14T22:45:11.306Z"
   },
   {
    "duration": 3,
    "start_time": "2022-06-14T22:45:11.632Z"
   },
   {
    "duration": 5,
    "start_time": "2022-06-14T22:45:11.911Z"
   },
   {
    "duration": 45,
    "start_time": "2022-06-14T22:45:12.469Z"
   },
   {
    "duration": 45,
    "start_time": "2022-06-14T22:46:40.288Z"
   },
   {
    "duration": 46,
    "start_time": "2022-06-14T22:46:50.708Z"
   },
   {
    "duration": 41,
    "start_time": "2022-06-14T22:47:01.376Z"
   },
   {
    "duration": 38,
    "start_time": "2022-06-14T22:47:18.837Z"
   },
   {
    "duration": 10,
    "start_time": "2022-06-14T22:47:31.642Z"
   },
   {
    "duration": 4,
    "start_time": "2022-06-14T22:47:53.946Z"
   },
   {
    "duration": 33,
    "start_time": "2022-06-14T22:47:57.599Z"
   },
   {
    "duration": 11,
    "start_time": "2022-06-14T22:48:21.131Z"
   },
   {
    "duration": 23,
    "start_time": "2022-06-14T22:48:39.334Z"
   },
   {
    "duration": 14,
    "start_time": "2022-06-14T22:49:03.572Z"
   },
   {
    "duration": 1330,
    "start_time": "2022-06-14T22:49:03.589Z"
   },
   {
    "duration": 45,
    "start_time": "2022-06-14T22:49:04.921Z"
   },
   {
    "duration": 9,
    "start_time": "2022-06-14T22:49:04.968Z"
   },
   {
    "duration": 31,
    "start_time": "2022-06-14T22:49:04.979Z"
   },
   {
    "duration": 30,
    "start_time": "2022-06-14T22:49:05.011Z"
   },
   {
    "duration": 67,
    "start_time": "2022-06-14T22:49:05.043Z"
   },
   {
    "duration": 4,
    "start_time": "2022-06-14T22:49:05.111Z"
   },
   {
    "duration": 380,
    "start_time": "2022-06-14T22:49:05.116Z"
   },
   {
    "duration": 7,
    "start_time": "2022-06-14T22:49:05.499Z"
   },
   {
    "duration": 334,
    "start_time": "2022-06-14T22:49:05.508Z"
   },
   {
    "duration": 271,
    "start_time": "2022-06-14T22:49:05.843Z"
   },
   {
    "duration": 210,
    "start_time": "2022-06-14T22:49:06.115Z"
   },
   {
    "duration": 255,
    "start_time": "2022-06-14T22:49:06.327Z"
   },
   {
    "duration": 4,
    "start_time": "2022-06-14T22:49:06.584Z"
   },
   {
    "duration": 19,
    "start_time": "2022-06-14T22:49:06.590Z"
   },
   {
    "duration": 45,
    "start_time": "2022-06-14T22:49:06.611Z"
   },
   {
    "duration": 6,
    "start_time": "2022-06-14T22:49:06.658Z"
   },
   {
    "duration": 11,
    "start_time": "2022-06-14T22:49:06.666Z"
   },
   {
    "duration": 9,
    "start_time": "2022-06-14T22:49:06.678Z"
   },
   {
    "duration": 28,
    "start_time": "2022-06-14T22:49:06.688Z"
   },
   {
    "duration": 3,
    "start_time": "2022-06-14T22:49:06.718Z"
   },
   {
    "duration": 7,
    "start_time": "2022-06-14T22:49:06.723Z"
   },
   {
    "duration": 7,
    "start_time": "2022-06-14T22:49:06.732Z"
   },
   {
    "duration": 12,
    "start_time": "2022-06-14T22:49:06.740Z"
   },
   {
    "duration": 9,
    "start_time": "2022-06-14T22:49:06.753Z"
   },
   {
    "duration": 505,
    "start_time": "2022-06-14T22:49:06.763Z"
   },
   {
    "duration": 0,
    "start_time": "2022-06-14T22:49:07.270Z"
   },
   {
    "duration": 4,
    "start_time": "2022-06-14T22:50:30.757Z"
   },
   {
    "duration": 23,
    "start_time": "2022-06-14T22:50:31.080Z"
   },
   {
    "duration": 4,
    "start_time": "2022-06-14T22:51:39.020Z"
   },
   {
    "duration": 29,
    "start_time": "2022-06-14T22:51:39.768Z"
   },
   {
    "duration": 5,
    "start_time": "2022-06-14T22:51:56.236Z"
   },
   {
    "duration": 27,
    "start_time": "2022-06-14T22:51:56.694Z"
   },
   {
    "duration": 4,
    "start_time": "2022-06-14T22:52:20.424Z"
   },
   {
    "duration": 662,
    "start_time": "2022-06-14T22:52:21.000Z"
   },
   {
    "duration": 5,
    "start_time": "2022-06-14T22:52:46.493Z"
   },
   {
    "duration": 29,
    "start_time": "2022-06-14T22:52:46.836Z"
   },
   {
    "duration": 3,
    "start_time": "2022-06-14T22:54:15.919Z"
   },
   {
    "duration": 3,
    "start_time": "2022-06-14T22:55:04.711Z"
   },
   {
    "duration": 5,
    "start_time": "2022-06-14T22:55:05.118Z"
   },
   {
    "duration": 3,
    "start_time": "2022-06-14T22:55:06.005Z"
   },
   {
    "duration": 4,
    "start_time": "2022-06-14T22:55:06.703Z"
   },
   {
    "duration": 59,
    "start_time": "2022-06-14T22:55:08.400Z"
   },
   {
    "duration": 4,
    "start_time": "2022-06-14T22:55:24.198Z"
   },
   {
    "duration": 19,
    "start_time": "2022-06-14T22:55:24.475Z"
   },
   {
    "duration": 4,
    "start_time": "2022-06-14T22:55:35.637Z"
   },
   {
    "duration": 10,
    "start_time": "2022-06-14T23:07:24.188Z"
   },
   {
    "duration": 3,
    "start_time": "2022-06-14T23:07:53.097Z"
   },
   {
    "duration": 3,
    "start_time": "2022-06-14T23:07:59.270Z"
   },
   {
    "duration": 3,
    "start_time": "2022-06-14T23:08:09.580Z"
   },
   {
    "duration": 3,
    "start_time": "2022-06-14T23:08:19.808Z"
   },
   {
    "duration": 3,
    "start_time": "2022-06-14T23:08:27.131Z"
   },
   {
    "duration": 3,
    "start_time": "2022-06-14T23:08:48.386Z"
   },
   {
    "duration": 3,
    "start_time": "2022-06-14T23:09:02.173Z"
   },
   {
    "duration": 20,
    "start_time": "2022-06-14T23:09:02.651Z"
   },
   {
    "duration": 3,
    "start_time": "2022-06-14T23:09:50.687Z"
   },
   {
    "duration": 3,
    "start_time": "2022-06-14T23:09:53.836Z"
   },
   {
    "duration": 11,
    "start_time": "2022-06-14T23:09:54.165Z"
   },
   {
    "duration": 34,
    "start_time": "2022-06-14T23:10:40.129Z"
   },
   {
    "duration": 10,
    "start_time": "2022-06-14T23:11:09.627Z"
   },
   {
    "duration": 17,
    "start_time": "2022-06-14T23:12:05.979Z"
   },
   {
    "duration": 2,
    "start_time": "2022-06-14T23:12:06.358Z"
   },
   {
    "duration": 3,
    "start_time": "2022-06-14T23:12:06.859Z"
   },
   {
    "duration": 4,
    "start_time": "2022-06-14T23:12:09.562Z"
   },
   {
    "duration": 2,
    "start_time": "2022-06-14T23:12:09.946Z"
   },
   {
    "duration": 3,
    "start_time": "2022-06-14T23:12:10.899Z"
   },
   {
    "duration": 74,
    "start_time": "2022-06-14T23:12:13.384Z"
   },
   {
    "duration": 19,
    "start_time": "2022-06-14T23:12:18.341Z"
   },
   {
    "duration": 3,
    "start_time": "2022-06-14T23:12:44.886Z"
   },
   {
    "duration": 5,
    "start_time": "2022-06-14T23:12:45.735Z"
   },
   {
    "duration": 3,
    "start_time": "2022-06-14T23:12:46.398Z"
   },
   {
    "duration": 4,
    "start_time": "2022-06-14T23:12:46.818Z"
   },
   {
    "duration": 342,
    "start_time": "2022-06-14T23:12:48.016Z"
   },
   {
    "duration": 18,
    "start_time": "2022-06-14T23:13:55.589Z"
   },
   {
    "duration": 5,
    "start_time": "2022-06-14T23:13:55.609Z"
   },
   {
    "duration": 53,
    "start_time": "2022-06-14T23:13:55.616Z"
   },
   {
    "duration": 8,
    "start_time": "2022-06-14T23:13:55.671Z"
   },
   {
    "duration": 9,
    "start_time": "2022-06-14T23:13:55.681Z"
   },
   {
    "duration": 5,
    "start_time": "2022-06-14T23:13:55.691Z"
   },
   {
    "duration": 64,
    "start_time": "2022-06-14T23:13:55.697Z"
   },
   {
    "duration": 4,
    "start_time": "2022-06-14T23:13:55.762Z"
   },
   {
    "duration": 285,
    "start_time": "2022-06-14T23:13:55.767Z"
   },
   {
    "duration": 8,
    "start_time": "2022-06-14T23:13:56.053Z"
   },
   {
    "duration": 233,
    "start_time": "2022-06-14T23:13:56.063Z"
   },
   {
    "duration": 356,
    "start_time": "2022-06-14T23:13:56.298Z"
   },
   {
    "duration": 180,
    "start_time": "2022-06-14T23:13:56.656Z"
   },
   {
    "duration": 252,
    "start_time": "2022-06-14T23:13:56.838Z"
   },
   {
    "duration": 5,
    "start_time": "2022-06-14T23:13:57.092Z"
   },
   {
    "duration": 20,
    "start_time": "2022-06-14T23:13:57.099Z"
   },
   {
    "duration": 34,
    "start_time": "2022-06-14T23:13:57.121Z"
   },
   {
    "duration": 5,
    "start_time": "2022-06-14T23:13:57.156Z"
   },
   {
    "duration": 10,
    "start_time": "2022-06-14T23:13:57.163Z"
   },
   {
    "duration": 22,
    "start_time": "2022-06-14T23:13:57.175Z"
   },
   {
    "duration": 38,
    "start_time": "2022-06-14T23:13:57.199Z"
   },
   {
    "duration": 12,
    "start_time": "2022-06-14T23:13:57.239Z"
   },
   {
    "duration": 3,
    "start_time": "2022-06-14T23:13:59.602Z"
   },
   {
    "duration": 3,
    "start_time": "2022-06-14T23:13:59.993Z"
   },
   {
    "duration": 4,
    "start_time": "2022-06-14T23:14:02.344Z"
   },
   {
    "duration": 3,
    "start_time": "2022-06-14T23:14:02.695Z"
   },
   {
    "duration": 4,
    "start_time": "2022-06-14T23:14:03.748Z"
   },
   {
    "duration": 2194,
    "start_time": "2022-06-14T23:14:04.621Z"
   },
   {
    "duration": 11,
    "start_time": "2022-06-14T23:14:14.159Z"
   },
   {
    "duration": 22,
    "start_time": "2022-06-14T23:14:30.232Z"
   },
   {
    "duration": 15,
    "start_time": "2022-06-14T23:14:55.382Z"
   },
   {
    "duration": 5,
    "start_time": "2022-06-14T23:14:55.399Z"
   },
   {
    "duration": 49,
    "start_time": "2022-06-14T23:14:55.405Z"
   },
   {
    "duration": 7,
    "start_time": "2022-06-14T23:14:55.456Z"
   },
   {
    "duration": 12,
    "start_time": "2022-06-14T23:14:55.465Z"
   },
   {
    "duration": 7,
    "start_time": "2022-06-14T23:14:55.478Z"
   },
   {
    "duration": 34,
    "start_time": "2022-06-14T23:14:55.486Z"
   },
   {
    "duration": 31,
    "start_time": "2022-06-14T23:14:55.522Z"
   },
   {
    "duration": 274,
    "start_time": "2022-06-14T23:14:55.554Z"
   },
   {
    "duration": 8,
    "start_time": "2022-06-14T23:14:55.830Z"
   },
   {
    "duration": 244,
    "start_time": "2022-06-14T23:14:55.839Z"
   },
   {
    "duration": 275,
    "start_time": "2022-06-14T23:14:56.085Z"
   },
   {
    "duration": 191,
    "start_time": "2022-06-14T23:14:56.361Z"
   },
   {
    "duration": 258,
    "start_time": "2022-06-14T23:14:56.553Z"
   },
   {
    "duration": 5,
    "start_time": "2022-06-14T23:14:56.813Z"
   },
   {
    "duration": 18,
    "start_time": "2022-06-14T23:14:56.820Z"
   },
   {
    "duration": 32,
    "start_time": "2022-06-14T23:14:56.840Z"
   },
   {
    "duration": 4,
    "start_time": "2022-06-14T23:14:56.873Z"
   },
   {
    "duration": 9,
    "start_time": "2022-06-14T23:14:56.879Z"
   },
   {
    "duration": 13,
    "start_time": "2022-06-14T23:14:56.890Z"
   },
   {
    "duration": 44,
    "start_time": "2022-06-14T23:14:56.905Z"
   },
   {
    "duration": 4,
    "start_time": "2022-06-14T23:14:56.952Z"
   },
   {
    "duration": 6,
    "start_time": "2022-06-14T23:14:56.958Z"
   },
   {
    "duration": 11,
    "start_time": "2022-06-14T23:14:56.965Z"
   },
   {
    "duration": 4,
    "start_time": "2022-06-14T23:14:59.061Z"
   },
   {
    "duration": 3,
    "start_time": "2022-06-14T23:14:59.592Z"
   },
   {
    "duration": 5,
    "start_time": "2022-06-14T23:15:00.275Z"
   },
   {
    "duration": 582,
    "start_time": "2022-06-14T23:15:01.172Z"
   },
   {
    "duration": 3,
    "start_time": "2022-06-14T23:15:40.409Z"
   },
   {
    "duration": 4,
    "start_time": "2022-06-14T23:15:40.726Z"
   },
   {
    "duration": 12,
    "start_time": "2022-06-14T23:15:41.500Z"
   },
   {
    "duration": 22,
    "start_time": "2022-06-14T23:15:50.909Z"
   },
   {
    "duration": 22,
    "start_time": "2022-06-14T23:15:57.483Z"
   },
   {
    "duration": 0,
    "start_time": "2022-06-14T23:15:57.507Z"
   },
   {
    "duration": 21,
    "start_time": "2022-06-14T23:16:06.911Z"
   },
   {
    "duration": 3,
    "start_time": "2022-06-14T23:19:20.527Z"
   },
   {
    "duration": 21,
    "start_time": "2022-06-14T23:19:21.107Z"
   },
   {
    "duration": 39,
    "start_time": "2022-06-14T23:20:57.932Z"
   },
   {
    "duration": 47,
    "start_time": "2022-06-14T23:21:09.706Z"
   },
   {
    "duration": 419,
    "start_time": "2022-06-14T23:21:13.635Z"
   },
   {
    "duration": 174,
    "start_time": "2022-06-14T23:21:39.581Z"
   },
   {
    "duration": 274,
    "start_time": "2022-06-14T23:21:44.680Z"
   },
   {
    "duration": 4,
    "start_time": "2022-06-14T23:23:25.673Z"
   },
   {
    "duration": 21,
    "start_time": "2022-06-14T23:23:26.704Z"
   },
   {
    "duration": 186,
    "start_time": "2022-06-14T23:24:36.068Z"
   },
   {
    "duration": 4,
    "start_time": "2022-06-14T23:25:44.382Z"
   },
   {
    "duration": 23,
    "start_time": "2022-06-14T23:25:45.238Z"
   },
   {
    "duration": 4,
    "start_time": "2022-06-14T23:28:07.314Z"
   },
   {
    "duration": 21,
    "start_time": "2022-06-14T23:28:07.984Z"
   },
   {
    "duration": 4,
    "start_time": "2022-06-14T23:28:28.528Z"
   },
   {
    "duration": 425,
    "start_time": "2022-06-14T23:28:29.548Z"
   },
   {
    "duration": 15,
    "start_time": "2022-06-14T23:29:06.974Z"
   },
   {
    "duration": 5,
    "start_time": "2022-06-14T23:29:06.991Z"
   },
   {
    "duration": 52,
    "start_time": "2022-06-14T23:29:06.997Z"
   },
   {
    "duration": 7,
    "start_time": "2022-06-14T23:29:07.050Z"
   },
   {
    "duration": 9,
    "start_time": "2022-06-14T23:29:07.060Z"
   },
   {
    "duration": 4,
    "start_time": "2022-06-14T23:29:07.071Z"
   },
   {
    "duration": 35,
    "start_time": "2022-06-14T23:29:07.076Z"
   },
   {
    "duration": 4,
    "start_time": "2022-06-14T23:29:07.112Z"
   },
   {
    "duration": 372,
    "start_time": "2022-06-14T23:29:07.153Z"
   },
   {
    "duration": 7,
    "start_time": "2022-06-14T23:29:07.527Z"
   },
   {
    "duration": 240,
    "start_time": "2022-06-14T23:29:07.535Z"
   },
   {
    "duration": 261,
    "start_time": "2022-06-14T23:29:07.776Z"
   },
   {
    "duration": 190,
    "start_time": "2022-06-14T23:29:08.039Z"
   },
   {
    "duration": 248,
    "start_time": "2022-06-14T23:29:08.231Z"
   },
   {
    "duration": 3,
    "start_time": "2022-06-14T23:29:08.481Z"
   },
   {
    "duration": 25,
    "start_time": "2022-06-14T23:29:08.485Z"
   },
   {
    "duration": 22,
    "start_time": "2022-06-14T23:29:08.512Z"
   },
   {
    "duration": 17,
    "start_time": "2022-06-14T23:29:08.535Z"
   },
   {
    "duration": 6,
    "start_time": "2022-06-14T23:29:08.553Z"
   },
   {
    "duration": 7,
    "start_time": "2022-06-14T23:29:08.560Z"
   },
   {
    "duration": 25,
    "start_time": "2022-06-14T23:29:08.568Z"
   },
   {
    "duration": 4,
    "start_time": "2022-06-14T23:29:08.595Z"
   },
   {
    "duration": 9,
    "start_time": "2022-06-14T23:29:08.600Z"
   },
   {
    "duration": 9,
    "start_time": "2022-06-14T23:29:08.610Z"
   },
   {
    "duration": 3,
    "start_time": "2022-06-14T23:29:11.143Z"
   },
   {
    "duration": 3,
    "start_time": "2022-06-14T23:29:11.820Z"
   },
   {
    "duration": 906,
    "start_time": "2022-06-14T23:29:12.553Z"
   },
   {
    "duration": 15,
    "start_time": "2022-06-14T23:39:14.600Z"
   },
   {
    "duration": 6,
    "start_time": "2022-06-14T23:39:14.617Z"
   },
   {
    "duration": 58,
    "start_time": "2022-06-14T23:39:14.625Z"
   },
   {
    "duration": 6,
    "start_time": "2022-06-14T23:39:14.686Z"
   },
   {
    "duration": 13,
    "start_time": "2022-06-14T23:39:14.694Z"
   },
   {
    "duration": 6,
    "start_time": "2022-06-14T23:39:14.708Z"
   },
   {
    "duration": 50,
    "start_time": "2022-06-14T23:39:14.715Z"
   },
   {
    "duration": 3,
    "start_time": "2022-06-14T23:39:14.767Z"
   },
   {
    "duration": 295,
    "start_time": "2022-06-14T23:39:14.772Z"
   },
   {
    "duration": 7,
    "start_time": "2022-06-14T23:39:15.070Z"
   },
   {
    "duration": 277,
    "start_time": "2022-06-14T23:39:15.078Z"
   },
   {
    "duration": 285,
    "start_time": "2022-06-14T23:39:15.357Z"
   },
   {
    "duration": 177,
    "start_time": "2022-06-14T23:39:15.652Z"
   },
   {
    "duration": 387,
    "start_time": "2022-06-14T23:39:15.830Z"
   },
   {
    "duration": 5,
    "start_time": "2022-06-14T23:39:16.219Z"
   },
   {
    "duration": 26,
    "start_time": "2022-06-14T23:39:16.226Z"
   },
   {
    "duration": 25,
    "start_time": "2022-06-14T23:39:16.253Z"
   },
   {
    "duration": 5,
    "start_time": "2022-06-14T23:39:16.280Z"
   },
   {
    "duration": 11,
    "start_time": "2022-06-14T23:39:16.287Z"
   },
   {
    "duration": 13,
    "start_time": "2022-06-14T23:39:16.299Z"
   },
   {
    "duration": 41,
    "start_time": "2022-06-14T23:39:16.314Z"
   },
   {
    "duration": 4,
    "start_time": "2022-06-14T23:39:16.357Z"
   },
   {
    "duration": 12,
    "start_time": "2022-06-14T23:39:16.362Z"
   },
   {
    "duration": 7,
    "start_time": "2022-06-14T23:39:16.375Z"
   },
   {
    "duration": 6,
    "start_time": "2022-06-14T23:39:16.384Z"
   },
   {
    "duration": 4,
    "start_time": "2022-06-14T23:39:20.072Z"
   },
   {
    "duration": 696,
    "start_time": "2022-06-14T23:39:21.162Z"
   },
   {
    "duration": 4,
    "start_time": "2022-06-14T23:39:38.598Z"
   },
   {
    "duration": 336,
    "start_time": "2022-06-14T23:39:41.126Z"
   },
   {
    "duration": 4,
    "start_time": "2022-06-14T23:43:21.374Z"
   },
   {
    "duration": 20,
    "start_time": "2022-06-14T23:43:22.214Z"
   },
   {
    "duration": 4,
    "start_time": "2022-06-14T23:43:52.756Z"
   },
   {
    "duration": 2698,
    "start_time": "2022-06-14T23:43:53.305Z"
   },
   {
    "duration": 4,
    "start_time": "2022-06-14T23:47:23.434Z"
   },
   {
    "duration": 718771,
    "start_time": "2022-06-14T23:47:24.646Z"
   },
   {
    "duration": 9,
    "start_time": "2022-06-15T00:00:06.647Z"
   },
   {
    "duration": 24,
    "start_time": "2022-06-15T00:01:34.384Z"
   },
   {
    "duration": 5,
    "start_time": "2022-06-15T00:01:34.410Z"
   },
   {
    "duration": 46,
    "start_time": "2022-06-15T00:01:34.417Z"
   },
   {
    "duration": 7,
    "start_time": "2022-06-15T00:01:34.465Z"
   },
   {
    "duration": 9,
    "start_time": "2022-06-15T00:01:34.473Z"
   },
   {
    "duration": 5,
    "start_time": "2022-06-15T00:01:34.483Z"
   },
   {
    "duration": 67,
    "start_time": "2022-06-15T00:01:34.490Z"
   },
   {
    "duration": 4,
    "start_time": "2022-06-15T00:01:34.559Z"
   },
   {
    "duration": 277,
    "start_time": "2022-06-15T00:01:34.565Z"
   },
   {
    "duration": 12,
    "start_time": "2022-06-15T00:01:34.846Z"
   },
   {
    "duration": 243,
    "start_time": "2022-06-15T00:01:34.860Z"
   },
   {
    "duration": 331,
    "start_time": "2022-06-15T00:01:35.105Z"
   },
   {
    "duration": 206,
    "start_time": "2022-06-15T00:01:35.438Z"
   },
   {
    "duration": 249,
    "start_time": "2022-06-15T00:01:35.645Z"
   },
   {
    "duration": 3,
    "start_time": "2022-06-15T00:01:35.896Z"
   },
   {
    "duration": 35,
    "start_time": "2022-06-15T00:01:35.901Z"
   },
   {
    "duration": 25,
    "start_time": "2022-06-15T00:01:35.938Z"
   },
   {
    "duration": 5,
    "start_time": "2022-06-15T00:01:35.965Z"
   },
   {
    "duration": 13,
    "start_time": "2022-06-15T00:01:35.971Z"
   },
   {
    "duration": 12,
    "start_time": "2022-06-15T00:01:35.986Z"
   },
   {
    "duration": 17,
    "start_time": "2022-06-15T00:01:36.000Z"
   },
   {
    "duration": 10,
    "start_time": "2022-06-15T00:01:36.019Z"
   },
   {
    "duration": 4,
    "start_time": "2022-06-15T00:01:38.969Z"
   },
   {
    "duration": 4,
    "start_time": "2022-06-15T00:01:39.745Z"
   },
   {
    "duration": 9,
    "start_time": "2022-06-15T00:01:45.623Z"
   },
   {
    "duration": 5,
    "start_time": "2022-06-15T00:03:00.945Z"
   },
   {
    "duration": 17,
    "start_time": "2022-06-15T00:03:03.102Z"
   },
   {
    "duration": 4,
    "start_time": "2022-06-15T00:05:04.957Z"
   },
   {
    "duration": 23,
    "start_time": "2022-06-15T00:05:05.342Z"
   },
   {
    "duration": 3,
    "start_time": "2022-06-15T00:05:29.255Z"
   },
   {
    "duration": 4,
    "start_time": "2022-06-15T00:05:29.988Z"
   },
   {
    "duration": 1158,
    "start_time": "2022-06-15T00:05:31.127Z"
   },
   {
    "duration": 31,
    "start_time": "2022-06-15T00:06:26.362Z"
   },
   {
    "duration": 5,
    "start_time": "2022-06-15T00:06:26.396Z"
   },
   {
    "duration": 59,
    "start_time": "2022-06-15T00:06:26.403Z"
   },
   {
    "duration": 7,
    "start_time": "2022-06-15T00:06:26.464Z"
   },
   {
    "duration": 13,
    "start_time": "2022-06-15T00:06:26.473Z"
   },
   {
    "duration": 6,
    "start_time": "2022-06-15T00:06:26.487Z"
   },
   {
    "duration": 62,
    "start_time": "2022-06-15T00:06:26.494Z"
   },
   {
    "duration": 5,
    "start_time": "2022-06-15T00:06:26.558Z"
   },
   {
    "duration": 288,
    "start_time": "2022-06-15T00:06:26.564Z"
   },
   {
    "duration": 8,
    "start_time": "2022-06-15T00:06:26.854Z"
   },
   {
    "duration": 248,
    "start_time": "2022-06-15T00:06:26.864Z"
   },
   {
    "duration": 278,
    "start_time": "2022-06-15T00:06:27.113Z"
   },
   {
    "duration": 192,
    "start_time": "2022-06-15T00:06:27.393Z"
   },
   {
    "duration": 257,
    "start_time": "2022-06-15T00:06:27.587Z"
   },
   {
    "duration": 6,
    "start_time": "2022-06-15T00:06:27.846Z"
   },
   {
    "duration": 23,
    "start_time": "2022-06-15T00:06:27.854Z"
   },
   {
    "duration": 27,
    "start_time": "2022-06-15T00:06:27.878Z"
   },
   {
    "duration": 5,
    "start_time": "2022-06-15T00:06:27.906Z"
   },
   {
    "duration": 9,
    "start_time": "2022-06-15T00:06:27.912Z"
   },
   {
    "duration": 30,
    "start_time": "2022-06-15T00:06:27.922Z"
   },
   {
    "duration": 8,
    "start_time": "2022-06-15T00:06:27.954Z"
   },
   {
    "duration": 6,
    "start_time": "2022-06-15T00:06:27.963Z"
   },
   {
    "duration": 15,
    "start_time": "2022-06-15T00:06:27.971Z"
   },
   {
    "duration": 4,
    "start_time": "2022-06-15T00:06:31.944Z"
   },
   {
    "duration": 3,
    "start_time": "2022-06-15T00:06:38.988Z"
   },
   {
    "duration": 13,
    "start_time": "2022-06-15T00:07:02.501Z"
   },
   {
    "duration": 10,
    "start_time": "2022-06-15T00:07:02.517Z"
   },
   {
    "duration": 69,
    "start_time": "2022-06-15T00:07:02.530Z"
   },
   {
    "duration": 9,
    "start_time": "2022-06-15T00:07:02.601Z"
   },
   {
    "duration": 23,
    "start_time": "2022-06-15T00:07:02.613Z"
   },
   {
    "duration": 19,
    "start_time": "2022-06-15T00:07:02.638Z"
   },
   {
    "duration": 43,
    "start_time": "2022-06-15T00:07:02.659Z"
   },
   {
    "duration": 4,
    "start_time": "2022-06-15T00:07:02.703Z"
   },
   {
    "duration": 421,
    "start_time": "2022-06-15T00:07:02.709Z"
   },
   {
    "duration": 8,
    "start_time": "2022-06-15T00:07:03.132Z"
   },
   {
    "duration": 250,
    "start_time": "2022-06-15T00:07:03.151Z"
   },
   {
    "duration": 293,
    "start_time": "2022-06-15T00:07:03.403Z"
   },
   {
    "duration": 193,
    "start_time": "2022-06-15T00:07:03.698Z"
   },
   {
    "duration": 261,
    "start_time": "2022-06-15T00:07:03.893Z"
   },
   {
    "duration": 5,
    "start_time": "2022-06-15T00:07:04.156Z"
   },
   {
    "duration": 65,
    "start_time": "2022-06-15T00:07:04.162Z"
   },
   {
    "duration": 38,
    "start_time": "2022-06-15T00:07:04.229Z"
   },
   {
    "duration": 18,
    "start_time": "2022-06-15T00:07:04.268Z"
   },
   {
    "duration": 43,
    "start_time": "2022-06-15T00:07:04.287Z"
   },
   {
    "duration": 8,
    "start_time": "2022-06-15T00:07:04.331Z"
   },
   {
    "duration": 30,
    "start_time": "2022-06-15T00:07:04.341Z"
   },
   {
    "duration": 3,
    "start_time": "2022-06-15T00:07:04.373Z"
   },
   {
    "duration": 15,
    "start_time": "2022-06-15T00:07:04.378Z"
   },
   {
    "duration": 5,
    "start_time": "2022-06-15T00:07:04.394Z"
   },
   {
    "duration": 4,
    "start_time": "2022-06-15T00:07:07.820Z"
   },
   {
    "duration": 3,
    "start_time": "2022-06-15T00:07:14.313Z"
   },
   {
    "duration": 4,
    "start_time": "2022-06-15T00:07:14.844Z"
   },
   {
    "duration": 1067,
    "start_time": "2022-06-15T00:07:18.212Z"
   },
   {
    "duration": 14,
    "start_time": "2022-06-15T00:07:47.182Z"
   },
   {
    "duration": 4,
    "start_time": "2022-06-15T00:07:47.198Z"
   },
   {
    "duration": 49,
    "start_time": "2022-06-15T00:07:47.204Z"
   },
   {
    "duration": 7,
    "start_time": "2022-06-15T00:07:47.255Z"
   },
   {
    "duration": 14,
    "start_time": "2022-06-15T00:07:47.264Z"
   },
   {
    "duration": 5,
    "start_time": "2022-06-15T00:07:47.280Z"
   },
   {
    "duration": 66,
    "start_time": "2022-06-15T00:07:47.287Z"
   },
   {
    "duration": 5,
    "start_time": "2022-06-15T00:07:47.355Z"
   },
   {
    "duration": 277,
    "start_time": "2022-06-15T00:07:47.361Z"
   },
   {
    "duration": 13,
    "start_time": "2022-06-15T00:07:47.640Z"
   },
   {
    "duration": 249,
    "start_time": "2022-06-15T00:07:47.656Z"
   },
   {
    "duration": 272,
    "start_time": "2022-06-15T00:07:47.907Z"
   },
   {
    "duration": 187,
    "start_time": "2022-06-15T00:07:48.181Z"
   },
   {
    "duration": 246,
    "start_time": "2022-06-15T00:07:48.372Z"
   },
   {
    "duration": 5,
    "start_time": "2022-06-15T00:07:48.620Z"
   },
   {
    "duration": 31,
    "start_time": "2022-06-15T00:07:48.626Z"
   },
   {
    "duration": 23,
    "start_time": "2022-06-15T00:07:48.659Z"
   },
   {
    "duration": 6,
    "start_time": "2022-06-15T00:07:48.684Z"
   },
   {
    "duration": 8,
    "start_time": "2022-06-15T00:07:48.692Z"
   },
   {
    "duration": 6,
    "start_time": "2022-06-15T00:07:48.702Z"
   },
   {
    "duration": 6,
    "start_time": "2022-06-15T00:07:48.710Z"
   },
   {
    "duration": 34,
    "start_time": "2022-06-15T00:07:48.718Z"
   },
   {
    "duration": 5,
    "start_time": "2022-06-15T00:07:48.754Z"
   },
   {
    "duration": 4,
    "start_time": "2022-06-15T00:07:52.098Z"
   },
   {
    "duration": 3,
    "start_time": "2022-06-15T00:07:57.190Z"
   },
   {
    "duration": 5,
    "start_time": "2022-06-15T00:07:57.519Z"
   },
   {
    "duration": 1102,
    "start_time": "2022-06-15T00:07:59.307Z"
   },
   {
    "duration": 8,
    "start_time": "2022-06-15T00:08:41.975Z"
   },
   {
    "duration": 3,
    "start_time": "2022-06-15T00:08:43.279Z"
   },
   {
    "duration": 4,
    "start_time": "2022-06-15T00:09:06.207Z"
   },
   {
    "duration": 1078,
    "start_time": "2022-06-15T00:09:09.172Z"
   },
   {
    "duration": 22,
    "start_time": "2022-06-15T00:09:43.887Z"
   },
   {
    "duration": 3,
    "start_time": "2022-06-15T00:10:05.573Z"
   },
   {
    "duration": 5,
    "start_time": "2022-06-15T00:10:06.523Z"
   },
   {
    "duration": 27361,
    "start_time": "2022-06-15T00:10:12.771Z"
   },
   {
    "duration": 18,
    "start_time": "2022-06-15T00:10:59.427Z"
   },
   {
    "duration": 5,
    "start_time": "2022-06-15T00:11:24.931Z"
   },
   {
    "duration": 106423,
    "start_time": "2022-06-15T00:11:29.669Z"
   },
   {
    "duration": 597304,
    "start_time": "2022-06-15T00:14:39.436Z"
   },
   {
    "duration": 12,
    "start_time": "2022-06-15T15:50:53.299Z"
   },
   {
    "duration": 20,
    "start_time": "2022-06-15T15:55:57.064Z"
   },
   {
    "duration": 1706,
    "start_time": "2022-06-15T15:55:57.087Z"
   },
   {
    "duration": 137,
    "start_time": "2022-06-15T15:55:58.795Z"
   },
   {
    "duration": 14,
    "start_time": "2022-06-15T15:55:58.934Z"
   },
   {
    "duration": 12,
    "start_time": "2022-06-15T15:55:58.950Z"
   },
   {
    "duration": 5,
    "start_time": "2022-06-15T15:55:58.964Z"
   },
   {
    "duration": 61,
    "start_time": "2022-06-15T15:55:58.970Z"
   },
   {
    "duration": 4,
    "start_time": "2022-06-15T15:55:59.033Z"
   },
   {
    "duration": 292,
    "start_time": "2022-06-15T15:55:59.038Z"
   },
   {
    "duration": 15,
    "start_time": "2022-06-15T15:55:59.333Z"
   },
   {
    "duration": 275,
    "start_time": "2022-06-15T15:55:59.350Z"
   },
   {
    "duration": 246,
    "start_time": "2022-06-15T15:55:59.626Z"
   },
   {
    "duration": 181,
    "start_time": "2022-06-15T15:55:59.874Z"
   },
   {
    "duration": 232,
    "start_time": "2022-06-15T15:56:00.057Z"
   },
   {
    "duration": 4,
    "start_time": "2022-06-15T15:56:00.290Z"
   },
   {
    "duration": 30,
    "start_time": "2022-06-15T15:56:00.295Z"
   },
   {
    "duration": 21,
    "start_time": "2022-06-15T15:56:00.327Z"
   },
   {
    "duration": 4,
    "start_time": "2022-06-15T15:56:00.350Z"
   },
   {
    "duration": 17,
    "start_time": "2022-06-15T15:56:00.356Z"
   },
   {
    "duration": 9,
    "start_time": "2022-06-15T15:56:00.374Z"
   },
   {
    "duration": 45,
    "start_time": "2022-06-15T15:56:00.385Z"
   },
   {
    "duration": 4,
    "start_time": "2022-06-15T15:56:00.432Z"
   },
   {
    "duration": 12,
    "start_time": "2022-06-15T15:56:00.438Z"
   },
   {
    "duration": 135,
    "start_time": "2022-06-15T15:56:00.453Z"
   },
   {
    "duration": 0,
    "start_time": "2022-06-15T15:56:00.589Z"
   },
   {
    "duration": 0,
    "start_time": "2022-06-15T15:56:00.590Z"
   },
   {
    "duration": 5,
    "start_time": "2022-06-15T15:56:11.006Z"
   },
   {
    "duration": 13,
    "start_time": "2022-06-15T15:56:12.256Z"
   },
   {
    "duration": 4,
    "start_time": "2022-06-15T15:56:34.621Z"
   },
   {
    "duration": 4,
    "start_time": "2022-06-15T15:56:34.977Z"
   },
   {
    "duration": 23403,
    "start_time": "2022-06-15T15:56:43.538Z"
   },
   {
    "duration": 8,
    "start_time": "2022-06-15T15:57:21.843Z"
   },
   {
    "duration": 50,
    "start_time": "2022-06-15T17:35:10.182Z"
   },
   {
    "duration": 6,
    "start_time": "2022-06-15T17:35:10.235Z"
   },
   {
    "duration": 62,
    "start_time": "2022-06-15T17:35:10.244Z"
   },
   {
    "duration": 9,
    "start_time": "2022-06-15T17:35:10.309Z"
   },
   {
    "duration": 14,
    "start_time": "2022-06-15T17:35:10.320Z"
   },
   {
    "duration": 6,
    "start_time": "2022-06-15T17:35:10.336Z"
   },
   {
    "duration": 86,
    "start_time": "2022-06-15T17:35:10.344Z"
   },
   {
    "duration": 5,
    "start_time": "2022-06-15T17:35:10.432Z"
   },
   {
    "duration": 353,
    "start_time": "2022-06-15T17:35:10.439Z"
   },
   {
    "duration": 9,
    "start_time": "2022-06-15T17:35:10.796Z"
   },
   {
    "duration": 285,
    "start_time": "2022-06-15T17:35:10.807Z"
   },
   {
    "duration": 421,
    "start_time": "2022-06-15T17:35:11.095Z"
   },
   {
    "duration": 215,
    "start_time": "2022-06-15T17:35:11.518Z"
   },
   {
    "duration": 307,
    "start_time": "2022-06-15T17:35:11.735Z"
   },
   {
    "duration": 5,
    "start_time": "2022-06-15T17:35:12.044Z"
   },
   {
    "duration": 30,
    "start_time": "2022-06-15T17:35:12.051Z"
   },
   {
    "duration": 28,
    "start_time": "2022-06-15T17:35:12.083Z"
   },
   {
    "duration": 18,
    "start_time": "2022-06-15T17:35:12.113Z"
   },
   {
    "duration": 8,
    "start_time": "2022-06-15T17:35:12.134Z"
   },
   {
    "duration": 9,
    "start_time": "2022-06-15T17:35:12.144Z"
   },
   {
    "duration": 11,
    "start_time": "2022-06-15T17:35:12.155Z"
   },
   {
    "duration": 4,
    "start_time": "2022-06-15T17:35:20.496Z"
   },
   {
    "duration": 6,
    "start_time": "2022-06-15T17:35:27.586Z"
   },
   {
    "duration": 5,
    "start_time": "2022-06-15T17:35:27.998Z"
   },
   {
    "duration": 4,
    "start_time": "2022-06-15T17:35:35.540Z"
   },
   {
    "duration": 21530,
    "start_time": "2022-06-15T17:35:37.612Z"
   },
   {
    "duration": 10,
    "start_time": "2022-06-15T17:36:04.706Z"
   },
   {
    "duration": 26,
    "start_time": "2022-06-15T17:36:58.698Z"
   },
   {
    "duration": 6,
    "start_time": "2022-06-15T17:36:58.726Z"
   },
   {
    "duration": 62,
    "start_time": "2022-06-15T17:36:58.734Z"
   },
   {
    "duration": 12,
    "start_time": "2022-06-15T17:36:58.800Z"
   },
   {
    "duration": 22,
    "start_time": "2022-06-15T17:36:58.815Z"
   },
   {
    "duration": 8,
    "start_time": "2022-06-15T17:36:58.839Z"
   },
   {
    "duration": 86,
    "start_time": "2022-06-15T17:36:58.850Z"
   },
   {
    "duration": 6,
    "start_time": "2022-06-15T17:36:58.938Z"
   },
   {
    "duration": 341,
    "start_time": "2022-06-15T17:36:58.946Z"
   },
   {
    "duration": 10,
    "start_time": "2022-06-15T17:36:59.291Z"
   },
   {
    "duration": 292,
    "start_time": "2022-06-15T17:36:59.304Z"
   },
   {
    "duration": 329,
    "start_time": "2022-06-15T17:36:59.598Z"
   },
   {
    "duration": 224,
    "start_time": "2022-06-15T17:36:59.930Z"
   },
   {
    "duration": 395,
    "start_time": "2022-06-15T17:37:00.156Z"
   },
   {
    "duration": 7,
    "start_time": "2022-06-15T17:37:00.555Z"
   },
   {
    "duration": 31,
    "start_time": "2022-06-15T17:37:00.564Z"
   },
   {
    "duration": 42,
    "start_time": "2022-06-15T17:37:00.598Z"
   },
   {
    "duration": 7,
    "start_time": "2022-06-15T17:37:00.643Z"
   },
   {
    "duration": 28,
    "start_time": "2022-06-15T17:37:00.654Z"
   },
   {
    "duration": 18,
    "start_time": "2022-06-15T17:37:00.685Z"
   },
   {
    "duration": 20,
    "start_time": "2022-06-15T17:37:00.705Z"
   },
   {
    "duration": 20,
    "start_time": "2022-06-15T17:37:00.728Z"
   },
   {
    "duration": 28,
    "start_time": "2022-06-15T17:37:00.751Z"
   },
   {
    "duration": 0,
    "start_time": "2022-06-15T17:37:00.781Z"
   },
   {
    "duration": 0,
    "start_time": "2022-06-15T17:37:00.784Z"
   },
   {
    "duration": 5,
    "start_time": "2022-06-15T17:37:07.459Z"
   },
   {
    "duration": 6,
    "start_time": "2022-06-15T17:37:13.123Z"
   },
   {
    "duration": 27637,
    "start_time": "2022-06-15T17:37:13.906Z"
   },
   {
    "duration": 11,
    "start_time": "2022-06-15T17:37:47.864Z"
   },
   {
    "duration": 19,
    "start_time": "2022-06-15T17:38:31.499Z"
   },
   {
    "duration": 14,
    "start_time": "2022-06-15T17:38:31.523Z"
   },
   {
    "duration": 63,
    "start_time": "2022-06-15T17:38:31.540Z"
   },
   {
    "duration": 12,
    "start_time": "2022-06-15T17:38:31.607Z"
   },
   {
    "duration": 17,
    "start_time": "2022-06-15T17:38:31.623Z"
   },
   {
    "duration": 19,
    "start_time": "2022-06-15T17:38:31.644Z"
   },
   {
    "duration": 76,
    "start_time": "2022-06-15T17:38:31.666Z"
   },
   {
    "duration": 7,
    "start_time": "2022-06-15T17:38:31.744Z"
   },
   {
    "duration": 611,
    "start_time": "2022-06-15T17:38:31.754Z"
   },
   {
    "duration": 12,
    "start_time": "2022-06-15T17:38:32.371Z"
   },
   {
    "duration": 324,
    "start_time": "2022-06-15T17:38:32.386Z"
   },
   {
    "duration": 332,
    "start_time": "2022-06-15T17:38:32.712Z"
   },
   {
    "duration": 229,
    "start_time": "2022-06-15T17:38:33.047Z"
   },
   {
    "duration": 301,
    "start_time": "2022-06-15T17:38:33.279Z"
   },
   {
    "duration": 5,
    "start_time": "2022-06-15T17:38:33.582Z"
   },
   {
    "duration": 44,
    "start_time": "2022-06-15T17:38:33.589Z"
   },
   {
    "duration": 49,
    "start_time": "2022-06-15T17:38:33.635Z"
   },
   {
    "duration": 7,
    "start_time": "2022-06-15T17:38:33.687Z"
   },
   {
    "duration": 34,
    "start_time": "2022-06-15T17:38:33.696Z"
   },
   {
    "duration": 20,
    "start_time": "2022-06-15T17:38:33.732Z"
   },
   {
    "duration": 12,
    "start_time": "2022-06-15T17:38:33.755Z"
   },
   {
    "duration": 8,
    "start_time": "2022-06-15T17:38:33.770Z"
   },
   {
    "duration": 21,
    "start_time": "2022-06-15T17:38:33.780Z"
   },
   {
    "duration": 0,
    "start_time": "2022-06-15T17:38:33.804Z"
   },
   {
    "duration": 0,
    "start_time": "2022-06-15T17:38:33.807Z"
   },
   {
    "duration": 8,
    "start_time": "2022-06-15T17:38:42.618Z"
   },
   {
    "duration": 27023,
    "start_time": "2022-06-15T17:38:43.324Z"
   },
   {
    "duration": 10,
    "start_time": "2022-06-15T17:39:36.155Z"
   },
   {
    "duration": 1361842,
    "start_time": "2022-06-15T17:42:17.802Z"
   },
   {
    "duration": 8,
    "start_time": "2022-06-15T18:30:39.323Z"
   },
   {
    "duration": 50692,
    "start_time": "2022-06-15T18:30:40.236Z"
   },
   {
    "duration": 10,
    "start_time": "2022-06-15T18:31:34.664Z"
   },
   {
    "duration": 18,
    "start_time": "2022-06-15T18:32:41.172Z"
   },
   {
    "duration": 4,
    "start_time": "2022-06-15T18:32:41.192Z"
   },
   {
    "duration": 52,
    "start_time": "2022-06-15T18:32:41.197Z"
   },
   {
    "duration": 6,
    "start_time": "2022-06-15T18:32:41.251Z"
   },
   {
    "duration": 11,
    "start_time": "2022-06-15T18:32:41.259Z"
   },
   {
    "duration": 6,
    "start_time": "2022-06-15T18:32:41.271Z"
   },
   {
    "duration": 53,
    "start_time": "2022-06-15T18:32:41.279Z"
   },
   {
    "duration": 5,
    "start_time": "2022-06-15T18:32:41.334Z"
   },
   {
    "duration": 289,
    "start_time": "2022-06-15T18:32:41.341Z"
   },
   {
    "duration": 8,
    "start_time": "2022-06-15T18:32:41.632Z"
   },
   {
    "duration": 232,
    "start_time": "2022-06-15T18:32:41.642Z"
   },
   {
    "duration": 240,
    "start_time": "2022-06-15T18:32:41.875Z"
   },
   {
    "duration": 179,
    "start_time": "2022-06-15T18:32:42.117Z"
   },
   {
    "duration": 236,
    "start_time": "2022-06-15T18:32:42.299Z"
   },
   {
    "duration": 4,
    "start_time": "2022-06-15T18:32:42.537Z"
   },
   {
    "duration": 18,
    "start_time": "2022-06-15T18:32:42.543Z"
   },
   {
    "duration": 22,
    "start_time": "2022-06-15T18:32:42.562Z"
   },
   {
    "duration": 4,
    "start_time": "2022-06-15T18:32:42.586Z"
   },
   {
    "duration": 9,
    "start_time": "2022-06-15T18:32:42.592Z"
   },
   {
    "duration": 26,
    "start_time": "2022-06-15T18:32:42.603Z"
   },
   {
    "duration": 4,
    "start_time": "2022-06-15T18:32:42.630Z"
   },
   {
    "duration": 5,
    "start_time": "2022-06-15T18:32:42.635Z"
   },
   {
    "duration": 14,
    "start_time": "2022-06-15T18:32:42.642Z"
   },
   {
    "duration": 0,
    "start_time": "2022-06-15T18:32:42.658Z"
   },
   {
    "duration": 0,
    "start_time": "2022-06-15T18:32:42.659Z"
   },
   {
    "duration": 5,
    "start_time": "2022-06-15T18:32:52.994Z"
   },
   {
    "duration": 35326,
    "start_time": "2022-06-15T18:32:54.711Z"
   },
   {
    "duration": 7,
    "start_time": "2022-06-15T18:33:41.109Z"
   },
   {
    "duration": 18,
    "start_time": "2022-06-15T18:39:52.730Z"
   },
   {
    "duration": 6,
    "start_time": "2022-06-15T18:39:52.750Z"
   },
   {
    "duration": 54,
    "start_time": "2022-06-15T18:39:52.758Z"
   },
   {
    "duration": 7,
    "start_time": "2022-06-15T18:39:52.814Z"
   },
   {
    "duration": 10,
    "start_time": "2022-06-15T18:39:52.822Z"
   },
   {
    "duration": 7,
    "start_time": "2022-06-15T18:39:52.834Z"
   },
   {
    "duration": 40,
    "start_time": "2022-06-15T18:39:52.842Z"
   },
   {
    "duration": 4,
    "start_time": "2022-06-15T18:39:52.884Z"
   },
   {
    "duration": 270,
    "start_time": "2022-06-15T18:39:52.890Z"
   },
   {
    "duration": 7,
    "start_time": "2022-06-15T18:39:53.165Z"
   },
   {
    "duration": 322,
    "start_time": "2022-06-15T18:39:53.173Z"
   },
   {
    "duration": 278,
    "start_time": "2022-06-15T18:39:53.497Z"
   },
   {
    "duration": 206,
    "start_time": "2022-06-15T18:39:53.777Z"
   },
   {
    "duration": 357,
    "start_time": "2022-06-15T18:39:53.986Z"
   },
   {
    "duration": 4,
    "start_time": "2022-06-15T18:39:54.345Z"
   },
   {
    "duration": 35,
    "start_time": "2022-06-15T18:39:54.351Z"
   },
   {
    "duration": 41,
    "start_time": "2022-06-15T18:39:54.388Z"
   },
   {
    "duration": 5,
    "start_time": "2022-06-15T18:39:54.430Z"
   },
   {
    "duration": 9,
    "start_time": "2022-06-15T18:39:54.437Z"
   },
   {
    "duration": 9,
    "start_time": "2022-06-15T18:39:54.448Z"
   },
   {
    "duration": 68,
    "start_time": "2022-06-15T18:39:54.459Z"
   },
   {
    "duration": 5,
    "start_time": "2022-06-15T18:39:54.529Z"
   },
   {
    "duration": 12,
    "start_time": "2022-06-15T18:39:54.535Z"
   },
   {
    "duration": 13,
    "start_time": "2022-06-15T18:39:54.550Z"
   },
   {
    "duration": 0,
    "start_time": "2022-06-15T18:39:54.564Z"
   },
   {
    "duration": 0,
    "start_time": "2022-06-15T18:39:54.566Z"
   },
   {
    "duration": 8,
    "start_time": "2022-06-15T18:40:17.639Z"
   },
   {
    "duration": 44040,
    "start_time": "2022-06-15T18:40:18.499Z"
   },
   {
    "duration": 9,
    "start_time": "2022-06-15T18:41:31.933Z"
   },
   {
    "duration": 16,
    "start_time": "2022-06-15T18:42:36.200Z"
   },
   {
    "duration": 5,
    "start_time": "2022-06-15T18:42:36.218Z"
   },
   {
    "duration": 45,
    "start_time": "2022-06-15T18:42:36.225Z"
   },
   {
    "duration": 8,
    "start_time": "2022-06-15T18:42:36.272Z"
   },
   {
    "duration": 12,
    "start_time": "2022-06-15T18:42:36.282Z"
   },
   {
    "duration": 3,
    "start_time": "2022-06-15T18:42:36.296Z"
   },
   {
    "duration": 39,
    "start_time": "2022-06-15T18:42:36.301Z"
   },
   {
    "duration": 3,
    "start_time": "2022-06-15T18:42:36.342Z"
   },
   {
    "duration": 363,
    "start_time": "2022-06-15T18:42:36.347Z"
   },
   {
    "duration": 17,
    "start_time": "2022-06-15T18:42:36.713Z"
   },
   {
    "duration": 259,
    "start_time": "2022-06-15T18:42:36.732Z"
   },
   {
    "duration": 266,
    "start_time": "2022-06-15T18:42:36.993Z"
   },
   {
    "duration": 166,
    "start_time": "2022-06-15T18:42:37.261Z"
   },
   {
    "duration": 226,
    "start_time": "2022-06-15T18:42:37.429Z"
   },
   {
    "duration": 5,
    "start_time": "2022-06-15T18:42:37.657Z"
   },
   {
    "duration": 5,
    "start_time": "2022-06-15T18:42:39.071Z"
   },
   {
    "duration": 30,
    "start_time": "2022-06-15T18:42:39.396Z"
   },
   {
    "duration": 39,
    "start_time": "2022-06-15T18:42:40.346Z"
   },
   {
    "duration": 4,
    "start_time": "2022-06-15T18:42:43.340Z"
   },
   {
    "duration": 7,
    "start_time": "2022-06-15T18:42:44.023Z"
   },
   {
    "duration": 6,
    "start_time": "2022-06-15T18:42:44.995Z"
   },
   {
    "duration": 29,
    "start_time": "2022-06-15T18:42:46.266Z"
   },
   {
    "duration": 3,
    "start_time": "2022-06-15T18:42:48.645Z"
   },
   {
    "duration": 3,
    "start_time": "2022-06-15T18:42:54.929Z"
   },
   {
    "duration": 4,
    "start_time": "2022-06-15T18:42:58.881Z"
   },
   {
    "duration": 4,
    "start_time": "2022-06-15T18:42:59.611Z"
   },
   {
    "duration": 5,
    "start_time": "2022-06-15T18:43:05.418Z"
   },
   {
    "duration": 47038,
    "start_time": "2022-06-15T18:43:05.900Z"
   },
   {
    "duration": 8,
    "start_time": "2022-06-15T18:44:16.984Z"
   },
   {
    "duration": 18,
    "start_time": "2022-06-15T18:44:58.849Z"
   },
   {
    "duration": 4,
    "start_time": "2022-06-15T18:45:05.351Z"
   },
   {
    "duration": 47205,
    "start_time": "2022-06-15T18:45:05.723Z"
   },
   {
    "duration": 10,
    "start_time": "2022-06-15T18:46:36.515Z"
   },
   {
    "duration": 17,
    "start_time": "2022-06-15T18:46:58.930Z"
   },
   {
    "duration": 12,
    "start_time": "2022-06-15T18:47:04.242Z"
   },
   {
    "duration": 22,
    "start_time": "2022-06-15T18:47:05.233Z"
   },
   {
    "duration": 4,
    "start_time": "2022-06-15T18:47:18.948Z"
   },
   {
    "duration": 52453,
    "start_time": "2022-06-15T18:47:19.282Z"
   },
   {
    "duration": 7,
    "start_time": "2022-06-15T18:48:16.289Z"
   },
   {
    "duration": 23,
    "start_time": "2022-06-15T18:49:25.125Z"
   },
   {
    "duration": 25,
    "start_time": "2022-06-15T18:49:25.774Z"
   },
   {
    "duration": 4,
    "start_time": "2022-06-15T18:49:45.192Z"
   },
   {
    "duration": 15,
    "start_time": "2022-06-15T18:49:58.285Z"
   },
   {
    "duration": 4,
    "start_time": "2022-06-15T18:49:58.302Z"
   },
   {
    "duration": 45,
    "start_time": "2022-06-15T18:49:58.307Z"
   },
   {
    "duration": 6,
    "start_time": "2022-06-15T18:49:58.354Z"
   },
   {
    "duration": 9,
    "start_time": "2022-06-15T18:49:58.361Z"
   },
   {
    "duration": 5,
    "start_time": "2022-06-15T18:49:58.372Z"
   },
   {
    "duration": 53,
    "start_time": "2022-06-15T18:49:58.379Z"
   },
   {
    "duration": 3,
    "start_time": "2022-06-15T18:49:58.434Z"
   },
   {
    "duration": 290,
    "start_time": "2022-06-15T18:49:58.438Z"
   },
   {
    "duration": 9,
    "start_time": "2022-06-15T18:49:58.731Z"
   },
   {
    "duration": 239,
    "start_time": "2022-06-15T18:49:58.741Z"
   },
   {
    "duration": 233,
    "start_time": "2022-06-15T18:49:58.982Z"
   },
   {
    "duration": 300,
    "start_time": "2022-06-15T18:49:59.217Z"
   },
   {
    "duration": 219,
    "start_time": "2022-06-15T18:49:59.518Z"
   },
   {
    "duration": 4,
    "start_time": "2022-06-15T18:49:59.739Z"
   },
   {
    "duration": 36,
    "start_time": "2022-06-15T18:49:59.744Z"
   },
   {
    "duration": 25,
    "start_time": "2022-06-15T18:49:59.781Z"
   },
   {
    "duration": 20,
    "start_time": "2022-06-15T18:49:59.807Z"
   },
   {
    "duration": 9,
    "start_time": "2022-06-15T18:49:59.828Z"
   },
   {
    "duration": 8,
    "start_time": "2022-06-15T18:49:59.838Z"
   },
   {
    "duration": 51,
    "start_time": "2022-06-15T18:49:59.847Z"
   },
   {
    "duration": 4,
    "start_time": "2022-06-15T18:49:59.899Z"
   },
   {
    "duration": 7,
    "start_time": "2022-06-15T18:49:59.904Z"
   },
   {
    "duration": 15,
    "start_time": "2022-06-15T18:49:59.913Z"
   },
   {
    "duration": 0,
    "start_time": "2022-06-15T18:49:59.930Z"
   },
   {
    "duration": 0,
    "start_time": "2022-06-15T18:49:59.930Z"
   },
   {
    "duration": 6,
    "start_time": "2022-06-15T18:50:06.545Z"
   },
   {
    "duration": 68359,
    "start_time": "2022-06-15T18:50:07.272Z"
   },
   {
    "duration": 7,
    "start_time": "2022-06-15T18:51:19.539Z"
   },
   {
    "duration": 21,
    "start_time": "2022-06-15T18:51:54.402Z"
   },
   {
    "duration": 14,
    "start_time": "2022-06-15T18:51:54.425Z"
   },
   {
    "duration": 62,
    "start_time": "2022-06-15T18:51:54.440Z"
   },
   {
    "duration": 6,
    "start_time": "2022-06-15T18:51:54.504Z"
   },
   {
    "duration": 13,
    "start_time": "2022-06-15T18:51:54.511Z"
   },
   {
    "duration": 12,
    "start_time": "2022-06-15T18:51:54.526Z"
   },
   {
    "duration": 38,
    "start_time": "2022-06-15T18:51:54.539Z"
   },
   {
    "duration": 3,
    "start_time": "2022-06-15T18:51:54.578Z"
   },
   {
    "duration": 259,
    "start_time": "2022-06-15T18:51:54.583Z"
   },
   {
    "duration": 7,
    "start_time": "2022-06-15T18:51:54.844Z"
   },
   {
    "duration": 220,
    "start_time": "2022-06-15T18:51:54.852Z"
   },
   {
    "duration": 241,
    "start_time": "2022-06-15T18:51:55.074Z"
   },
   {
    "duration": 171,
    "start_time": "2022-06-15T18:51:55.316Z"
   },
   {
    "duration": 219,
    "start_time": "2022-06-15T18:51:55.489Z"
   },
   {
    "duration": 3,
    "start_time": "2022-06-15T18:51:55.710Z"
   },
   {
    "duration": 26,
    "start_time": "2022-06-15T18:51:55.714Z"
   },
   {
    "duration": 24,
    "start_time": "2022-06-15T18:51:55.741Z"
   },
   {
    "duration": 3,
    "start_time": "2022-06-15T18:51:55.767Z"
   },
   {
    "duration": 8,
    "start_time": "2022-06-15T18:51:55.771Z"
   },
   {
    "duration": 10,
    "start_time": "2022-06-15T18:51:55.780Z"
   },
   {
    "duration": 47,
    "start_time": "2022-06-15T18:51:55.792Z"
   },
   {
    "duration": 4,
    "start_time": "2022-06-15T18:51:55.840Z"
   },
   {
    "duration": 4,
    "start_time": "2022-06-15T18:51:55.846Z"
   },
   {
    "duration": 12,
    "start_time": "2022-06-15T18:51:55.851Z"
   },
   {
    "duration": 0,
    "start_time": "2022-06-15T18:51:55.864Z"
   },
   {
    "duration": 0,
    "start_time": "2022-06-15T18:51:55.866Z"
   },
   {
    "duration": 5,
    "start_time": "2022-06-15T18:52:03.535Z"
   },
   {
    "duration": 46655,
    "start_time": "2022-06-15T18:52:03.774Z"
   },
   {
    "duration": 7,
    "start_time": "2022-06-15T18:52:54.846Z"
   },
   {
    "duration": 41,
    "start_time": "2022-06-15T19:10:42.385Z"
   },
   {
    "duration": 10387,
    "start_time": "2022-06-16T05:14:03.292Z"
   },
   {
    "duration": 271,
    "start_time": "2022-06-16T05:14:13.688Z"
   },
   {
    "duration": 30,
    "start_time": "2022-06-16T05:14:13.970Z"
   },
   {
    "duration": 179,
    "start_time": "2022-06-16T05:14:14.011Z"
   },
   {
    "duration": 4,
    "start_time": "2022-06-16T05:14:17.524Z"
   },
   {
    "duration": 81,
    "start_time": "2022-06-16T05:14:18.108Z"
   },
   {
    "duration": 6,
    "start_time": "2022-06-16T05:14:19.801Z"
   },
   {
    "duration": 647,
    "start_time": "2022-06-16T05:14:20.366Z"
   },
   {
    "duration": 10,
    "start_time": "2022-06-16T05:14:21.203Z"
   },
   {
    "duration": 323,
    "start_time": "2022-06-16T05:14:21.786Z"
   },
   {
    "duration": 600,
    "start_time": "2022-06-16T05:14:22.773Z"
   },
   {
    "duration": 280,
    "start_time": "2022-06-16T05:14:23.380Z"
   },
   {
    "duration": 427,
    "start_time": "2022-06-16T05:14:24.079Z"
   },
   {
    "duration": 8,
    "start_time": "2022-06-16T05:14:57.951Z"
   },
   {
    "duration": 25,
    "start_time": "2022-06-16T05:15:05.689Z"
   },
   {
    "duration": 57,
    "start_time": "2022-06-16T05:15:56.544Z"
   },
   {
    "duration": 6,
    "start_time": "2022-06-16T05:15:59.046Z"
   },
   {
    "duration": 6,
    "start_time": "2022-06-16T05:15:59.707Z"
   },
   {
    "duration": 5,
    "start_time": "2022-06-16T05:16:00.218Z"
   },
   {
    "duration": 76,
    "start_time": "2022-06-16T05:16:01.864Z"
   },
   {
    "duration": 11,
    "start_time": "2022-06-16T05:16:03.031Z"
   },
   {
    "duration": 15,
    "start_time": "2022-06-16T05:16:03.644Z"
   },
   {
    "duration": 7,
    "start_time": "2022-06-16T05:16:07.146Z"
   },
   {
    "duration": 8,
    "start_time": "2022-06-16T05:16:55.158Z"
   },
   {
    "duration": 2116,
    "start_time": "2022-06-16T05:16:58.490Z"
   },
   {
    "duration": 130836,
    "start_time": "2022-06-16T05:17:05.179Z"
   },
   {
    "duration": 0,
    "start_time": "2022-06-16T05:19:16.017Z"
   },
   {
    "duration": 0,
    "start_time": "2022-06-16T05:19:16.018Z"
   },
   {
    "duration": 6,
    "start_time": "2022-06-16T05:19:22.502Z"
   },
   {
    "duration": 55610,
    "start_time": "2022-06-16T05:19:23.179Z"
   },
   {
    "duration": 18,
    "start_time": "2022-06-16T05:20:34.080Z"
   },
   {
    "duration": 28,
    "start_time": "2022-06-16T06:45:24.942Z"
   },
   {
    "duration": 1619,
    "start_time": "2022-06-16T06:45:24.972Z"
   },
   {
    "duration": 110,
    "start_time": "2022-06-16T06:45:26.593Z"
   },
   {
    "duration": 9,
    "start_time": "2022-06-16T06:45:26.705Z"
   },
   {
    "duration": 13,
    "start_time": "2022-06-16T06:45:26.717Z"
   },
   {
    "duration": 4,
    "start_time": "2022-06-16T06:45:26.731Z"
   },
   {
    "duration": 53,
    "start_time": "2022-06-16T06:45:26.736Z"
   },
   {
    "duration": 5,
    "start_time": "2022-06-16T06:45:26.791Z"
   },
   {
    "duration": 347,
    "start_time": "2022-06-16T06:45:26.798Z"
   },
   {
    "duration": 8,
    "start_time": "2022-06-16T06:45:27.147Z"
   },
   {
    "duration": 328,
    "start_time": "2022-06-16T06:45:27.157Z"
   },
   {
    "duration": 306,
    "start_time": "2022-06-16T06:45:27.486Z"
   },
   {
    "duration": 200,
    "start_time": "2022-06-16T06:45:27.794Z"
   },
   {
    "duration": 276,
    "start_time": "2022-06-16T06:45:27.997Z"
   },
   {
    "duration": 4,
    "start_time": "2022-06-16T06:45:28.275Z"
   },
   {
    "duration": 36,
    "start_time": "2022-06-16T06:45:28.282Z"
   },
   {
    "duration": 29,
    "start_time": "2022-06-16T06:45:28.319Z"
   },
   {
    "duration": 5,
    "start_time": "2022-06-16T06:45:28.350Z"
   },
   {
    "duration": 20,
    "start_time": "2022-06-16T06:45:28.356Z"
   },
   {
    "duration": 20,
    "start_time": "2022-06-16T06:45:28.377Z"
   },
   {
    "duration": 56,
    "start_time": "2022-06-16T06:45:28.398Z"
   },
   {
    "duration": 3,
    "start_time": "2022-06-16T06:45:28.456Z"
   },
   {
    "duration": 17,
    "start_time": "2022-06-16T06:45:28.461Z"
   },
   {
    "duration": 9,
    "start_time": "2022-06-16T06:45:28.480Z"
   },
   {
    "duration": 16,
    "start_time": "2022-06-16T06:45:28.490Z"
   },
   {
    "duration": 4864,
    "start_time": "2022-06-16T06:45:28.508Z"
   },
   {
    "duration": 4067120,
    "start_time": "2022-06-16T06:45:33.374Z"
   },
   {
    "duration": 28,
    "start_time": "2022-06-16T11:08:35.021Z"
   },
   {
    "duration": 1926,
    "start_time": "2022-06-16T11:08:35.052Z"
   },
   {
    "duration": 67,
    "start_time": "2022-06-16T11:08:36.980Z"
   },
   {
    "duration": 12,
    "start_time": "2022-06-16T11:08:37.062Z"
   },
   {
    "duration": 17,
    "start_time": "2022-06-16T11:08:37.078Z"
   },
   {
    "duration": 9,
    "start_time": "2022-06-16T11:08:37.097Z"
   },
   {
    "duration": 54,
    "start_time": "2022-06-16T11:08:37.107Z"
   },
   {
    "duration": 25,
    "start_time": "2022-06-16T11:08:37.164Z"
   },
   {
    "duration": 411,
    "start_time": "2022-06-16T11:08:37.191Z"
   },
   {
    "duration": 10,
    "start_time": "2022-06-16T11:08:37.605Z"
   },
   {
    "duration": 541,
    "start_time": "2022-06-16T11:08:37.617Z"
   },
   {
    "duration": 378,
    "start_time": "2022-06-16T11:08:38.160Z"
   },
   {
    "duration": 276,
    "start_time": "2022-06-16T11:08:38.550Z"
   },
   {
    "duration": 326,
    "start_time": "2022-06-16T11:08:38.830Z"
   },
   {
    "duration": 5,
    "start_time": "2022-06-16T11:08:39.158Z"
   },
   {
    "duration": 41,
    "start_time": "2022-06-16T11:08:39.170Z"
   },
   {
    "duration": 46,
    "start_time": "2022-06-16T11:08:39.213Z"
   },
   {
    "duration": 17,
    "start_time": "2022-06-16T11:08:39.262Z"
   },
   {
    "duration": 19,
    "start_time": "2022-06-16T11:08:39.281Z"
   },
   {
    "duration": 10,
    "start_time": "2022-06-16T11:08:39.302Z"
   },
   {
    "duration": 58,
    "start_time": "2022-06-16T11:08:39.315Z"
   },
   {
    "duration": 4,
    "start_time": "2022-06-16T11:08:39.376Z"
   },
   {
    "duration": 8,
    "start_time": "2022-06-16T11:08:39.382Z"
   },
   {
    "duration": 12,
    "start_time": "2022-06-16T11:08:39.392Z"
   },
   {
    "duration": 7,
    "start_time": "2022-06-16T11:08:52.202Z"
   },
   {
    "duration": 6,
    "start_time": "2022-06-16T11:08:58.049Z"
   },
   {
    "duration": 32,
    "start_time": "2022-06-16T18:57:16.514Z"
   },
   {
    "duration": 2305,
    "start_time": "2022-06-16T18:57:16.547Z"
   },
   {
    "duration": 151,
    "start_time": "2022-06-16T18:57:18.854Z"
   },
   {
    "duration": 17,
    "start_time": "2022-06-16T18:57:19.007Z"
   },
   {
    "duration": 10,
    "start_time": "2022-06-16T18:57:19.025Z"
   },
   {
    "duration": 15,
    "start_time": "2022-06-16T18:57:19.036Z"
   },
   {
    "duration": 49,
    "start_time": "2022-06-16T18:57:19.052Z"
   },
   {
    "duration": 3,
    "start_time": "2022-06-16T18:57:19.102Z"
   },
   {
    "duration": 318,
    "start_time": "2022-06-16T18:57:19.106Z"
   },
   {
    "duration": 7,
    "start_time": "2022-06-16T18:57:19.427Z"
   },
   {
    "duration": 293,
    "start_time": "2022-06-16T18:57:19.435Z"
   },
   {
    "duration": 272,
    "start_time": "2022-06-16T18:57:19.730Z"
   },
   {
    "duration": 194,
    "start_time": "2022-06-16T18:57:20.004Z"
   },
   {
    "duration": 232,
    "start_time": "2022-06-16T18:57:20.207Z"
   },
   {
    "duration": 3,
    "start_time": "2022-06-16T18:57:20.441Z"
   },
   {
    "duration": 22,
    "start_time": "2022-06-16T18:57:20.445Z"
   },
   {
    "duration": 47,
    "start_time": "2022-06-16T18:57:20.469Z"
   },
   {
    "duration": 4,
    "start_time": "2022-06-16T18:57:20.517Z"
   },
   {
    "duration": 9,
    "start_time": "2022-06-16T18:57:20.522Z"
   },
   {
    "duration": 10,
    "start_time": "2022-06-16T18:57:20.533Z"
   },
   {
    "duration": 44,
    "start_time": "2022-06-16T18:57:20.544Z"
   },
   {
    "duration": 3,
    "start_time": "2022-06-16T18:57:20.590Z"
   },
   {
    "duration": 8,
    "start_time": "2022-06-16T18:57:20.595Z"
   },
   {
    "duration": 6,
    "start_time": "2022-06-16T18:57:20.604Z"
   },
   {
    "duration": 3096902,
    "start_time": "2022-06-16T18:57:35.565Z"
   },
   {
    "duration": 5,
    "start_time": "2022-06-16T19:53:07.210Z"
   },
   {
    "duration": 199,
    "start_time": "2022-06-16T19:53:08.769Z"
   },
   {
    "duration": 24,
    "start_time": "2022-06-16T19:53:27.116Z"
   },
   {
    "duration": 21,
    "start_time": "2022-06-16T19:53:27.142Z"
   },
   {
    "duration": 281,
    "start_time": "2022-06-16T19:53:27.165Z"
   },
   {
    "duration": 10,
    "start_time": "2022-06-16T19:53:27.448Z"
   },
   {
    "duration": 33,
    "start_time": "2022-06-16T19:53:27.461Z"
   },
   {
    "duration": 43,
    "start_time": "2022-06-16T19:53:27.496Z"
   },
   {
    "duration": 114,
    "start_time": "2022-06-16T19:53:27.541Z"
   },
   {
    "duration": 15,
    "start_time": "2022-06-16T19:53:27.661Z"
   },
   {
    "duration": 509,
    "start_time": "2022-06-16T19:53:27.687Z"
   },
   {
    "duration": 73,
    "start_time": "2022-06-16T19:53:28.200Z"
   },
   {
    "duration": 499,
    "start_time": "2022-06-16T19:53:28.276Z"
   },
   {
    "duration": 374,
    "start_time": "2022-06-16T19:53:28.777Z"
   },
   {
    "duration": 265,
    "start_time": "2022-06-16T19:53:29.153Z"
   },
   {
    "duration": 344,
    "start_time": "2022-06-16T19:53:29.421Z"
   },
   {
    "duration": 5,
    "start_time": "2022-06-16T19:53:29.767Z"
   },
   {
    "duration": 61,
    "start_time": "2022-06-16T19:53:29.774Z"
   },
   {
    "duration": 31,
    "start_time": "2022-06-16T19:53:29.837Z"
   },
   {
    "duration": 6,
    "start_time": "2022-06-16T19:53:29.870Z"
   },
   {
    "duration": 10,
    "start_time": "2022-06-16T19:53:29.879Z"
   },
   {
    "duration": 36,
    "start_time": "2022-06-16T19:53:29.897Z"
   },
   {
    "duration": 71,
    "start_time": "2022-06-16T19:53:29.935Z"
   },
   {
    "duration": 13,
    "start_time": "2022-06-16T19:53:30.009Z"
   },
   {
    "duration": 25,
    "start_time": "2022-06-16T19:53:30.027Z"
   },
   {
    "duration": 19,
    "start_time": "2022-06-16T19:53:30.054Z"
   },
   {
    "duration": 12,
    "start_time": "2022-06-16T19:53:35.303Z"
   },
   {
    "duration": 6,
    "start_time": "2022-06-16T19:53:46.508Z"
   },
   {
    "duration": 46233,
    "start_time": "2022-06-16T19:53:47.145Z"
   },
   {
    "duration": 9,
    "start_time": "2022-06-16T20:07:01.302Z"
   },
   {
    "duration": 11,
    "start_time": "2022-06-16T20:18:58.198Z"
   },
   {
    "duration": 5,
    "start_time": "2022-06-16T20:19:02.655Z"
   },
   {
    "duration": 44982,
    "start_time": "2022-06-16T20:19:04.002Z"
   },
   {
    "duration": 6,
    "start_time": "2022-06-16T20:20:16.827Z"
   },
   {
    "duration": 5,
    "start_time": "2022-06-16T20:20:25.700Z"
   },
   {
    "duration": 49,
    "start_time": "2022-06-16T20:20:49.963Z"
   },
   {
    "duration": 4,
    "start_time": "2022-06-16T20:22:43.597Z"
   },
   {
    "duration": 4,
    "start_time": "2022-06-16T20:22:49.997Z"
   },
   {
    "duration": 46538,
    "start_time": "2022-06-16T20:22:50.469Z"
   },
   {
    "duration": 7,
    "start_time": "2022-06-16T20:23:46.113Z"
   },
   {
    "duration": 11,
    "start_time": "2022-06-16T20:24:23.898Z"
   },
   {
    "duration": 9,
    "start_time": "2022-06-16T20:28:20.766Z"
   },
   {
    "duration": 10,
    "start_time": "2022-06-16T20:28:28.048Z"
   },
   {
    "duration": 4,
    "start_time": "2022-06-16T20:30:15.472Z"
   },
   {
    "duration": 199,
    "start_time": "2022-06-16T20:30:30.422Z"
   },
   {
    "duration": 237,
    "start_time": "2022-06-16T20:30:54.460Z"
   },
   {
    "duration": 287,
    "start_time": "2022-06-16T20:30:59.795Z"
   },
   {
    "duration": 282,
    "start_time": "2022-06-16T20:31:07.459Z"
   },
   {
    "duration": 329,
    "start_time": "2022-06-16T20:31:14.804Z"
   },
   {
    "duration": 260,
    "start_time": "2022-06-16T20:31:23.654Z"
   },
   {
    "duration": 232,
    "start_time": "2022-06-16T20:32:46.336Z"
   },
   {
    "duration": 7,
    "start_time": "2022-06-16T20:33:07.498Z"
   },
   {
    "duration": 374,
    "start_time": "2022-06-16T20:33:54.576Z"
   },
   {
    "duration": 35,
    "start_time": "2022-06-16T20:34:24.261Z"
   },
   {
    "duration": 12,
    "start_time": "2022-06-16T20:35:58.257Z"
   },
   {
    "duration": 4,
    "start_time": "2022-06-16T20:36:43.608Z"
   },
   {
    "duration": 7,
    "start_time": "2022-06-16T20:37:35.706Z"
   },
   {
    "duration": 348,
    "start_time": "2022-06-16T20:38:40.062Z"
   },
   {
    "duration": 6,
    "start_time": "2022-06-16T20:40:13.922Z"
   },
   {
    "duration": 7,
    "start_time": "2022-06-16T20:41:27.002Z"
   },
   {
    "duration": 6,
    "start_time": "2022-06-16T20:41:58.702Z"
   },
   {
    "duration": 21,
    "start_time": "2022-06-16T20:44:03.307Z"
   },
   {
    "duration": 18,
    "start_time": "2022-06-16T20:44:48.977Z"
   },
   {
    "duration": 1867,
    "start_time": "2022-06-16T20:45:01.302Z"
   },
   {
    "duration": 5,
    "start_time": "2022-06-16T20:45:12.752Z"
   },
   {
    "duration": 15,
    "start_time": "2022-06-16T20:45:20.847Z"
   },
   {
    "duration": 237,
    "start_time": "2022-06-16T20:45:52.346Z"
   },
   {
    "duration": 17,
    "start_time": "2022-06-16T20:46:21.447Z"
   },
   {
    "duration": 261,
    "start_time": "2022-06-16T20:50:19.541Z"
   },
   {
    "duration": 307,
    "start_time": "2022-06-16T20:51:00.956Z"
   },
   {
    "duration": 26,
    "start_time": "2022-06-16T20:51:07.270Z"
   },
   {
    "duration": 268,
    "start_time": "2022-06-16T20:51:27.901Z"
   },
   {
    "duration": 224,
    "start_time": "2022-06-16T20:51:37.097Z"
   },
   {
    "duration": 917,
    "start_time": "2022-06-16T20:51:53.125Z"
   },
   {
    "duration": 245,
    "start_time": "2022-06-16T20:53:10.636Z"
   },
   {
    "duration": 33,
    "start_time": "2022-06-16T20:54:36.757Z"
   },
   {
    "duration": 1368,
    "start_time": "2022-06-16T20:54:36.792Z"
   },
   {
    "duration": 49,
    "start_time": "2022-06-16T20:54:38.163Z"
   },
   {
    "duration": 13,
    "start_time": "2022-06-16T20:54:38.214Z"
   },
   {
    "duration": 24,
    "start_time": "2022-06-16T20:54:38.229Z"
   },
   {
    "duration": 17,
    "start_time": "2022-06-16T20:54:38.255Z"
   },
   {
    "duration": 52,
    "start_time": "2022-06-16T20:54:38.275Z"
   },
   {
    "duration": 6,
    "start_time": "2022-06-16T20:54:38.331Z"
   },
   {
    "duration": 309,
    "start_time": "2022-06-16T20:54:38.339Z"
   },
   {
    "duration": 7,
    "start_time": "2022-06-16T20:54:38.650Z"
   },
   {
    "duration": 307,
    "start_time": "2022-06-16T20:54:38.659Z"
   },
   {
    "duration": 278,
    "start_time": "2022-06-16T20:54:38.967Z"
   },
   {
    "duration": 187,
    "start_time": "2022-06-16T20:54:39.247Z"
   },
   {
    "duration": 237,
    "start_time": "2022-06-16T20:54:39.436Z"
   },
   {
    "duration": 3,
    "start_time": "2022-06-16T20:54:39.675Z"
   },
   {
    "duration": 21,
    "start_time": "2022-06-16T20:54:39.680Z"
   },
   {
    "duration": 28,
    "start_time": "2022-06-16T20:54:39.702Z"
   },
   {
    "duration": 4,
    "start_time": "2022-06-16T20:54:39.732Z"
   },
   {
    "duration": 7,
    "start_time": "2022-06-16T20:54:39.738Z"
   },
   {
    "duration": 37,
    "start_time": "2022-06-16T20:54:39.746Z"
   },
   {
    "duration": 35,
    "start_time": "2022-06-16T20:54:39.785Z"
   },
   {
    "duration": 4,
    "start_time": "2022-06-16T20:54:39.821Z"
   },
   {
    "duration": 6,
    "start_time": "2022-06-16T20:54:39.826Z"
   },
   {
    "duration": 5,
    "start_time": "2022-06-16T20:54:39.834Z"
   },
   {
    "duration": 4106,
    "start_time": "2022-06-16T20:54:46.282Z"
   },
   {
    "duration": 12,
    "start_time": "2022-06-16T21:44:25.433Z"
   },
   {
    "duration": 1258,
    "start_time": "2022-06-16T21:44:25.446Z"
   },
   {
    "duration": 45,
    "start_time": "2022-06-16T21:44:26.706Z"
   },
   {
    "duration": 8,
    "start_time": "2022-06-16T21:44:26.753Z"
   },
   {
    "duration": 11,
    "start_time": "2022-06-16T21:44:26.762Z"
   },
   {
    "duration": 5,
    "start_time": "2022-06-16T21:44:26.774Z"
   },
   {
    "duration": 34,
    "start_time": "2022-06-16T21:44:26.780Z"
   },
   {
    "duration": 3,
    "start_time": "2022-06-16T21:44:26.816Z"
   },
   {
    "duration": 280,
    "start_time": "2022-06-16T21:44:26.821Z"
   },
   {
    "duration": 8,
    "start_time": "2022-06-16T21:44:27.104Z"
   },
   {
    "duration": 306,
    "start_time": "2022-06-16T21:44:27.113Z"
   },
   {
    "duration": 279,
    "start_time": "2022-06-16T21:44:27.421Z"
   },
   {
    "duration": 180,
    "start_time": "2022-06-16T21:44:27.702Z"
   },
   {
    "duration": 224,
    "start_time": "2022-06-16T21:44:27.884Z"
   },
   {
    "duration": 4,
    "start_time": "2022-06-16T21:44:28.109Z"
   },
   {
    "duration": 21,
    "start_time": "2022-06-16T21:44:28.115Z"
   },
   {
    "duration": 46,
    "start_time": "2022-06-16T21:44:28.138Z"
   },
   {
    "duration": 4,
    "start_time": "2022-06-16T21:44:28.186Z"
   },
   {
    "duration": 8,
    "start_time": "2022-06-16T21:44:28.192Z"
   },
   {
    "duration": 8,
    "start_time": "2022-06-16T21:44:28.202Z"
   },
   {
    "duration": 44,
    "start_time": "2022-06-16T21:44:28.212Z"
   },
   {
    "duration": 8,
    "start_time": "2022-06-16T21:44:28.257Z"
   },
   {
    "duration": 13,
    "start_time": "2022-06-16T21:44:28.267Z"
   },
   {
    "duration": 9,
    "start_time": "2022-06-16T21:44:28.281Z"
   },
   {
    "duration": 4,
    "start_time": "2022-06-16T21:44:35.357Z"
   },
   {
    "duration": 3891,
    "start_time": "2022-06-16T21:44:42.296Z"
   },
   {
    "duration": 2353944,
    "start_time": "2022-06-16T21:45:43.984Z"
   },
   {
    "duration": 335113,
    "start_time": "2022-06-16T22:26:53.682Z"
   },
   {
    "duration": 1386939,
    "start_time": "2022-06-16T22:33:49.340Z"
   },
   {
    "duration": 1206879,
    "start_time": "2022-06-16T22:56:56.281Z"
   },
   {
    "duration": 317943,
    "start_time": "2022-06-16T23:17:08.548Z"
   },
   {
    "duration": 43,
    "start_time": "2022-06-16T23:23:08.591Z"
   },
   {
    "duration": 7,
    "start_time": "2022-06-16T23:23:18.795Z"
   },
   {
    "duration": 1158,
    "start_time": "2022-06-16T23:23:18.803Z"
   },
   {
    "duration": 46,
    "start_time": "2022-06-16T23:23:19.962Z"
   },
   {
    "duration": 7,
    "start_time": "2022-06-16T23:23:20.010Z"
   },
   {
    "duration": 9,
    "start_time": "2022-06-16T23:23:20.019Z"
   },
   {
    "duration": 3,
    "start_time": "2022-06-16T23:23:20.030Z"
   },
   {
    "duration": 48,
    "start_time": "2022-06-16T23:23:20.034Z"
   },
   {
    "duration": 3,
    "start_time": "2022-06-16T23:23:20.083Z"
   },
   {
    "duration": 256,
    "start_time": "2022-06-16T23:23:20.087Z"
   },
   {
    "duration": 6,
    "start_time": "2022-06-16T23:23:20.345Z"
   },
   {
    "duration": 269,
    "start_time": "2022-06-16T23:23:20.352Z"
   },
   {
    "duration": 239,
    "start_time": "2022-06-16T23:23:20.622Z"
   },
   {
    "duration": 171,
    "start_time": "2022-06-16T23:23:20.862Z"
   },
   {
    "duration": 216,
    "start_time": "2022-06-16T23:23:21.034Z"
   },
   {
    "duration": 4,
    "start_time": "2022-06-16T23:23:21.251Z"
   },
   {
    "duration": 28,
    "start_time": "2022-06-16T23:23:21.256Z"
   },
   {
    "duration": 25,
    "start_time": "2022-06-16T23:23:21.285Z"
   },
   {
    "duration": 4,
    "start_time": "2022-06-16T23:23:21.311Z"
   },
   {
    "duration": 6,
    "start_time": "2022-06-16T23:23:21.316Z"
   },
   {
    "duration": 6,
    "start_time": "2022-06-16T23:23:21.324Z"
   },
   {
    "duration": 46,
    "start_time": "2022-06-16T23:23:21.332Z"
   },
   {
    "duration": 4,
    "start_time": "2022-06-16T23:23:21.379Z"
   },
   {
    "duration": 4,
    "start_time": "2022-06-16T23:23:21.384Z"
   },
   {
    "duration": 5,
    "start_time": "2022-06-16T23:23:21.389Z"
   },
   {
    "duration": 4,
    "start_time": "2022-06-16T23:23:24.867Z"
   },
   {
    "duration": 4,
    "start_time": "2022-06-16T23:23:32.042Z"
   },
   {
    "duration": 3231,
    "start_time": "2022-06-16T23:23:32.966Z"
   },
   {
    "duration": 9,
    "start_time": "2022-06-16T23:23:47.399Z"
   },
   {
    "duration": 2561166,
    "start_time": "2022-06-16T23:25:27.020Z"
   },
   {
    "duration": 5,
    "start_time": "2022-06-17T00:08:59.128Z"
   },
   {
    "duration": 3226,
    "start_time": "2022-06-17T00:08:59.459Z"
   },
   {
    "duration": 7,
    "start_time": "2022-06-17T00:09:52.099Z"
   },
   {
    "duration": 229,
    "start_time": "2022-06-17T00:11:39.337Z"
   },
   {
    "duration": 219,
    "start_time": "2022-06-17T00:11:46.208Z"
   },
   {
    "duration": 240,
    "start_time": "2022-06-17T00:14:12.969Z"
   },
   {
    "duration": 304,
    "start_time": "2022-06-17T00:15:29.458Z"
   },
   {
    "duration": 225,
    "start_time": "2022-06-17T00:16:20.363Z"
   },
   {
    "duration": 236,
    "start_time": "2022-06-17T00:16:37.176Z"
   },
   {
    "duration": 225,
    "start_time": "2022-06-17T00:17:09.312Z"
   },
   {
    "duration": 12,
    "start_time": "2022-06-17T00:21:27.151Z"
   },
   {
    "duration": 1219,
    "start_time": "2022-06-17T00:21:27.165Z"
   },
   {
    "duration": 48,
    "start_time": "2022-06-17T00:21:28.385Z"
   },
   {
    "duration": 9,
    "start_time": "2022-06-17T00:21:28.435Z"
   },
   {
    "duration": 10,
    "start_time": "2022-06-17T00:21:28.445Z"
   },
   {
    "duration": 3,
    "start_time": "2022-06-17T00:21:28.456Z"
   },
   {
    "duration": 34,
    "start_time": "2022-06-17T00:21:28.461Z"
   },
   {
    "duration": 3,
    "start_time": "2022-06-17T00:21:28.496Z"
   },
   {
    "duration": 265,
    "start_time": "2022-06-17T00:21:28.500Z"
   },
   {
    "duration": 10,
    "start_time": "2022-06-17T00:21:28.768Z"
   },
   {
    "duration": 274,
    "start_time": "2022-06-17T00:21:28.779Z"
   },
   {
    "duration": 238,
    "start_time": "2022-06-17T00:21:29.054Z"
   },
   {
    "duration": 163,
    "start_time": "2022-06-17T00:21:29.294Z"
   },
   {
    "duration": 213,
    "start_time": "2022-06-17T00:21:29.459Z"
   },
   {
    "duration": 6,
    "start_time": "2022-06-17T00:21:29.673Z"
   },
   {
    "duration": 8,
    "start_time": "2022-06-17T00:21:29.681Z"
   },
   {
    "duration": 10,
    "start_time": "2022-06-17T00:21:29.691Z"
   },
   {
    "duration": 3,
    "start_time": "2022-06-17T00:21:29.703Z"
   },
   {
    "duration": 7,
    "start_time": "2022-06-17T00:21:29.707Z"
   },
   {
    "duration": 5,
    "start_time": "2022-06-17T00:21:29.715Z"
   },
   {
    "duration": 13,
    "start_time": "2022-06-17T00:21:29.721Z"
   },
   {
    "duration": 3,
    "start_time": "2022-06-17T00:21:29.735Z"
   },
   {
    "duration": 4,
    "start_time": "2022-06-17T00:21:29.739Z"
   },
   {
    "duration": 34,
    "start_time": "2022-06-17T00:21:29.745Z"
   },
   {
    "duration": 7,
    "start_time": "2022-06-17T00:21:29.780Z"
   },
   {
    "duration": 1059,
    "start_time": "2022-06-17T00:21:29.788Z"
   },
   {
    "duration": 1049,
    "start_time": "2022-06-17T00:21:47.690Z"
   },
   {
    "duration": 70516,
    "start_time": "2022-06-17T00:22:01.699Z"
   },
   {
    "duration": 237900,
    "start_time": "2022-06-17T00:23:26.431Z"
   },
   {
    "duration": 510706,
    "start_time": "2022-06-17T00:28:31.791Z"
   },
   {
    "duration": 4,
    "start_time": "2022-06-17T00:37:20.111Z"
   },
   {
    "duration": 494,
    "start_time": "2022-06-17T00:37:20.585Z"
   },
   {
    "duration": 5,
    "start_time": "2022-06-17T00:37:25.801Z"
   },
   {
    "duration": 404,
    "start_time": "2022-06-17T00:37:26.182Z"
   },
   {
    "duration": 7,
    "start_time": "2022-06-17T00:37:31.957Z"
   },
   {
    "duration": 64,
    "start_time": "2022-06-17T00:40:32.398Z"
   },
   {
    "duration": 4,
    "start_time": "2022-06-17T00:40:32.464Z"
   },
   {
    "duration": 44,
    "start_time": "2022-06-17T00:40:32.469Z"
   },
   {
    "duration": 6,
    "start_time": "2022-06-17T00:40:32.515Z"
   },
   {
    "duration": 8,
    "start_time": "2022-06-17T00:40:32.522Z"
   },
   {
    "duration": 6,
    "start_time": "2022-06-17T00:40:32.532Z"
   },
   {
    "duration": 33,
    "start_time": "2022-06-17T00:40:32.539Z"
   },
   {
    "duration": 5,
    "start_time": "2022-06-17T00:40:32.573Z"
   },
   {
    "duration": 228,
    "start_time": "2022-06-17T00:40:32.579Z"
   },
   {
    "duration": 7,
    "start_time": "2022-06-17T00:40:32.808Z"
   },
   {
    "duration": 299,
    "start_time": "2022-06-17T00:40:32.816Z"
   },
   {
    "duration": 232,
    "start_time": "2022-06-17T00:40:33.117Z"
   },
   {
    "duration": 162,
    "start_time": "2022-06-17T00:40:33.350Z"
   },
   {
    "duration": 217,
    "start_time": "2022-06-17T00:40:33.514Z"
   },
   {
    "duration": 3,
    "start_time": "2022-06-17T00:40:33.732Z"
   },
   {
    "duration": 23,
    "start_time": "2022-06-17T00:40:33.737Z"
   },
   {
    "duration": 14,
    "start_time": "2022-06-17T00:40:33.762Z"
   },
   {
    "duration": 4,
    "start_time": "2022-06-17T00:40:33.778Z"
   },
   {
    "duration": 9,
    "start_time": "2022-06-17T00:40:33.783Z"
   },
   {
    "duration": 9,
    "start_time": "2022-06-17T00:40:33.794Z"
   },
   {
    "duration": 19,
    "start_time": "2022-06-17T00:40:33.805Z"
   },
   {
    "duration": 3,
    "start_time": "2022-06-17T00:40:33.826Z"
   },
   {
    "duration": 4,
    "start_time": "2022-06-17T00:40:33.830Z"
   },
   {
    "duration": 6,
    "start_time": "2022-06-17T00:40:33.835Z"
   },
   {
    "duration": 6,
    "start_time": "2022-06-17T00:40:33.842Z"
   },
   {
    "duration": 1681,
    "start_time": "2022-06-17T00:40:33.850Z"
   },
   {
    "duration": 129326,
    "start_time": "2022-06-17T00:40:35.532Z"
   },
   {
    "duration": 4,
    "start_time": "2022-06-17T00:43:38.833Z"
   },
   {
    "duration": 1093,
    "start_time": "2022-06-17T00:43:39.604Z"
   },
   {
    "duration": 7,
    "start_time": "2022-06-17T00:43:49.233Z"
   },
   {
    "duration": 17,
    "start_time": "2022-06-17T00:44:53.664Z"
   },
   {
    "duration": 3,
    "start_time": "2022-06-17T00:44:53.683Z"
   },
   {
    "duration": 45,
    "start_time": "2022-06-17T00:44:53.688Z"
   },
   {
    "duration": 6,
    "start_time": "2022-06-17T00:44:53.735Z"
   },
   {
    "duration": 7,
    "start_time": "2022-06-17T00:44:53.743Z"
   },
   {
    "duration": 4,
    "start_time": "2022-06-17T00:44:53.752Z"
   },
   {
    "duration": 36,
    "start_time": "2022-06-17T00:44:53.758Z"
   },
   {
    "duration": 4,
    "start_time": "2022-06-17T00:44:53.795Z"
   },
   {
    "duration": 247,
    "start_time": "2022-06-17T00:44:53.800Z"
   },
   {
    "duration": 6,
    "start_time": "2022-06-17T00:44:54.050Z"
   },
   {
    "duration": 205,
    "start_time": "2022-06-17T00:44:54.057Z"
   },
   {
    "duration": 331,
    "start_time": "2022-06-17T00:44:54.264Z"
   },
   {
    "duration": 157,
    "start_time": "2022-06-17T00:44:54.597Z"
   },
   {
    "duration": 212,
    "start_time": "2022-06-17T00:44:54.756Z"
   },
   {
    "duration": 10,
    "start_time": "2022-06-17T00:44:54.969Z"
   },
   {
    "duration": 15,
    "start_time": "2022-06-17T00:44:54.980Z"
   },
   {
    "duration": 19,
    "start_time": "2022-06-17T00:44:54.996Z"
   },
   {
    "duration": 4,
    "start_time": "2022-06-17T00:44:55.016Z"
   },
   {
    "duration": 11,
    "start_time": "2022-06-17T00:44:55.021Z"
   },
   {
    "duration": 13,
    "start_time": "2022-06-17T00:44:55.034Z"
   },
   {
    "duration": 21,
    "start_time": "2022-06-17T00:44:55.049Z"
   },
   {
    "duration": 3,
    "start_time": "2022-06-17T00:44:55.077Z"
   },
   {
    "duration": 6,
    "start_time": "2022-06-17T00:44:55.081Z"
   },
   {
    "duration": 4,
    "start_time": "2022-06-17T00:44:55.089Z"
   },
   {
    "duration": 6,
    "start_time": "2022-06-17T00:44:55.095Z"
   },
   {
    "duration": 2578,
    "start_time": "2022-06-17T00:44:55.102Z"
   },
   {
    "duration": 210891,
    "start_time": "2022-06-17T00:44:57.681Z"
   },
   {
    "duration": 4,
    "start_time": "2022-06-17T00:48:45.966Z"
   },
   {
    "duration": 2160,
    "start_time": "2022-06-17T00:48:46.633Z"
   },
   {
    "duration": 7,
    "start_time": "2022-06-17T00:48:52.534Z"
   },
   {
    "duration": 27,
    "start_time": "2022-06-17T00:49:40.831Z"
   },
   {
    "duration": 4,
    "start_time": "2022-06-17T00:49:40.860Z"
   },
   {
    "duration": 48,
    "start_time": "2022-06-17T00:49:40.865Z"
   },
   {
    "duration": 6,
    "start_time": "2022-06-17T00:49:40.914Z"
   },
   {
    "duration": 8,
    "start_time": "2022-06-17T00:49:40.922Z"
   },
   {
    "duration": 5,
    "start_time": "2022-06-17T00:49:40.931Z"
   },
   {
    "duration": 28,
    "start_time": "2022-06-17T00:49:40.937Z"
   },
   {
    "duration": 3,
    "start_time": "2022-06-17T00:49:40.978Z"
   },
   {
    "duration": 225,
    "start_time": "2022-06-17T00:49:40.982Z"
   },
   {
    "duration": 6,
    "start_time": "2022-06-17T00:49:41.209Z"
   },
   {
    "duration": 206,
    "start_time": "2022-06-17T00:49:41.216Z"
   },
   {
    "duration": 246,
    "start_time": "2022-06-17T00:49:41.424Z"
   },
   {
    "duration": 162,
    "start_time": "2022-06-17T00:49:41.671Z"
   },
   {
    "duration": 215,
    "start_time": "2022-06-17T00:49:41.836Z"
   },
   {
    "duration": 3,
    "start_time": "2022-06-17T00:49:42.053Z"
   },
   {
    "duration": 30,
    "start_time": "2022-06-17T00:49:42.058Z"
   },
   {
    "duration": 20,
    "start_time": "2022-06-17T00:49:42.089Z"
   },
   {
    "duration": 4,
    "start_time": "2022-06-17T00:49:42.110Z"
   },
   {
    "duration": 5,
    "start_time": "2022-06-17T00:49:42.115Z"
   },
   {
    "duration": 7,
    "start_time": "2022-06-17T00:49:42.121Z"
   },
   {
    "duration": 20,
    "start_time": "2022-06-17T00:49:42.129Z"
   },
   {
    "duration": 3,
    "start_time": "2022-06-17T00:49:42.150Z"
   },
   {
    "duration": 27,
    "start_time": "2022-06-17T00:49:42.154Z"
   },
   {
    "duration": 4,
    "start_time": "2022-06-17T00:49:42.182Z"
   },
   {
    "duration": 6,
    "start_time": "2022-06-17T00:49:42.187Z"
   },
   {
    "duration": 2557,
    "start_time": "2022-06-17T00:49:42.195Z"
   },
   {
    "duration": 209357,
    "start_time": "2022-06-17T00:49:44.753Z"
   },
   {
    "duration": 4,
    "start_time": "2022-06-17T00:53:37.209Z"
   },
   {
    "duration": 1956,
    "start_time": "2022-06-17T00:53:37.631Z"
   },
   {
    "duration": 7,
    "start_time": "2022-06-17T00:53:43.100Z"
   },
   {
    "duration": 18,
    "start_time": "2022-06-17T00:55:35.307Z"
   },
   {
    "duration": 5,
    "start_time": "2022-06-17T00:55:35.327Z"
   },
   {
    "duration": 52,
    "start_time": "2022-06-17T00:55:35.334Z"
   },
   {
    "duration": 6,
    "start_time": "2022-06-17T00:55:35.388Z"
   },
   {
    "duration": 8,
    "start_time": "2022-06-17T00:55:35.395Z"
   },
   {
    "duration": 4,
    "start_time": "2022-06-17T00:55:35.405Z"
   },
   {
    "duration": 30,
    "start_time": "2022-06-17T00:55:35.411Z"
   },
   {
    "duration": 3,
    "start_time": "2022-06-17T00:55:35.442Z"
   },
   {
    "duration": 357,
    "start_time": "2022-06-17T00:55:35.446Z"
   },
   {
    "duration": 6,
    "start_time": "2022-06-17T00:55:35.805Z"
   },
   {
    "duration": 207,
    "start_time": "2022-06-17T00:55:35.812Z"
   },
   {
    "duration": 236,
    "start_time": "2022-06-17T00:55:36.021Z"
   },
   {
    "duration": 161,
    "start_time": "2022-06-17T00:55:36.259Z"
   },
   {
    "duration": 216,
    "start_time": "2022-06-17T00:55:36.422Z"
   },
   {
    "duration": 5,
    "start_time": "2022-06-17T00:55:36.640Z"
   },
   {
    "duration": 9,
    "start_time": "2022-06-17T00:55:36.646Z"
   },
   {
    "duration": 30,
    "start_time": "2022-06-17T00:55:36.657Z"
   },
   {
    "duration": 3,
    "start_time": "2022-06-17T00:55:36.689Z"
   },
   {
    "duration": 5,
    "start_time": "2022-06-17T00:55:36.694Z"
   },
   {
    "duration": 5,
    "start_time": "2022-06-17T00:55:36.701Z"
   },
   {
    "duration": 16,
    "start_time": "2022-06-17T00:55:36.707Z"
   },
   {
    "duration": 3,
    "start_time": "2022-06-17T00:55:36.724Z"
   },
   {
    "duration": 4,
    "start_time": "2022-06-17T00:55:36.729Z"
   },
   {
    "duration": 5,
    "start_time": "2022-06-17T00:55:36.734Z"
   },
   {
    "duration": 5,
    "start_time": "2022-06-17T00:55:36.741Z"
   },
   {
    "duration": 1033,
    "start_time": "2022-06-17T00:55:36.778Z"
   },
   {
    "duration": 1022,
    "start_time": "2022-06-17T00:55:50.833Z"
   },
   {
    "duration": 69978,
    "start_time": "2022-06-17T00:55:54.247Z"
   },
   {
    "duration": 4,
    "start_time": "2022-06-17T00:58:16.895Z"
   },
   {
    "duration": 496,
    "start_time": "2022-06-17T00:58:17.285Z"
   },
   {
    "duration": 7,
    "start_time": "2022-06-17T00:58:20.569Z"
   },
   {
    "duration": 18,
    "start_time": "2022-06-17T00:59:14.241Z"
   },
   {
    "duration": 4,
    "start_time": "2022-06-17T00:59:14.260Z"
   },
   {
    "duration": 52,
    "start_time": "2022-06-17T00:59:14.265Z"
   },
   {
    "duration": 6,
    "start_time": "2022-06-17T00:59:14.318Z"
   },
   {
    "duration": 7,
    "start_time": "2022-06-17T00:59:14.326Z"
   },
   {
    "duration": 8,
    "start_time": "2022-06-17T00:59:14.334Z"
   },
   {
    "duration": 38,
    "start_time": "2022-06-17T00:59:14.343Z"
   },
   {
    "duration": 4,
    "start_time": "2022-06-17T00:59:14.382Z"
   },
   {
    "duration": 248,
    "start_time": "2022-06-17T00:59:14.388Z"
   },
   {
    "duration": 7,
    "start_time": "2022-06-17T00:59:14.638Z"
   },
   {
    "duration": 204,
    "start_time": "2022-06-17T00:59:14.646Z"
   },
   {
    "duration": 238,
    "start_time": "2022-06-17T00:59:14.851Z"
   },
   {
    "duration": 158,
    "start_time": "2022-06-17T00:59:15.091Z"
   },
   {
    "duration": 228,
    "start_time": "2022-06-17T00:59:15.250Z"
   },
   {
    "duration": 3,
    "start_time": "2022-06-17T00:59:15.479Z"
   },
   {
    "duration": 9,
    "start_time": "2022-06-17T00:59:15.483Z"
   },
   {
    "duration": 12,
    "start_time": "2022-06-17T00:59:15.493Z"
   },
   {
    "duration": 3,
    "start_time": "2022-06-17T00:59:15.507Z"
   },
   {
    "duration": 6,
    "start_time": "2022-06-17T00:59:15.511Z"
   },
   {
    "duration": 6,
    "start_time": "2022-06-17T00:59:15.518Z"
   },
   {
    "duration": 11,
    "start_time": "2022-06-17T00:59:15.526Z"
   },
   {
    "duration": 2,
    "start_time": "2022-06-17T00:59:15.539Z"
   },
   {
    "duration": 4,
    "start_time": "2022-06-17T00:59:15.542Z"
   },
   {
    "duration": 6,
    "start_time": "2022-06-17T00:59:15.547Z"
   },
   {
    "duration": 7,
    "start_time": "2022-06-17T00:59:15.578Z"
   },
   {
    "duration": 885,
    "start_time": "2022-06-17T00:59:15.586Z"
   },
   {
    "duration": 59075,
    "start_time": "2022-06-17T00:59:16.472Z"
   },
   {
    "duration": 336272,
    "start_time": "2022-06-17T01:00:27.318Z"
   },
   {
    "duration": 440,
    "start_time": "2022-06-17T01:07:04.547Z"
   },
   {
    "duration": 7,
    "start_time": "2022-06-17T01:07:06.784Z"
   },
   {
    "duration": 21,
    "start_time": "2022-06-17T01:08:03.913Z"
   },
   {
    "duration": 4,
    "start_time": "2022-06-17T01:08:03.936Z"
   },
   {
    "duration": 50,
    "start_time": "2022-06-17T01:08:03.942Z"
   },
   {
    "duration": 6,
    "start_time": "2022-06-17T01:08:03.994Z"
   },
   {
    "duration": 11,
    "start_time": "2022-06-17T01:08:04.002Z"
   },
   {
    "duration": 5,
    "start_time": "2022-06-17T01:08:04.014Z"
   },
   {
    "duration": 37,
    "start_time": "2022-06-17T01:08:04.020Z"
   },
   {
    "duration": 20,
    "start_time": "2022-06-17T01:08:04.059Z"
   },
   {
    "duration": 231,
    "start_time": "2022-06-17T01:08:04.081Z"
   },
   {
    "duration": 6,
    "start_time": "2022-06-17T01:08:04.314Z"
   },
   {
    "duration": 205,
    "start_time": "2022-06-17T01:08:04.322Z"
   },
   {
    "duration": 237,
    "start_time": "2022-06-17T01:08:04.529Z"
   },
   {
    "duration": 164,
    "start_time": "2022-06-17T01:08:04.768Z"
   },
   {
    "duration": 217,
    "start_time": "2022-06-17T01:08:04.933Z"
   },
   {
    "duration": 4,
    "start_time": "2022-06-17T01:08:05.151Z"
   },
   {
    "duration": 26,
    "start_time": "2022-06-17T01:08:05.157Z"
   },
   {
    "duration": 24,
    "start_time": "2022-06-17T01:08:05.185Z"
   },
   {
    "duration": 4,
    "start_time": "2022-06-17T01:08:05.211Z"
   },
   {
    "duration": 7,
    "start_time": "2022-06-17T01:08:05.216Z"
   },
   {
    "duration": 8,
    "start_time": "2022-06-17T01:08:05.224Z"
   },
   {
    "duration": 45,
    "start_time": "2022-06-17T01:08:05.233Z"
   },
   {
    "duration": 3,
    "start_time": "2022-06-17T01:08:05.279Z"
   },
   {
    "duration": 18,
    "start_time": "2022-06-17T01:08:05.283Z"
   },
   {
    "duration": 10,
    "start_time": "2022-06-17T01:08:05.302Z"
   },
   {
    "duration": 6,
    "start_time": "2022-06-17T01:08:05.313Z"
   },
   {
    "duration": 3439,
    "start_time": "2022-06-17T01:08:05.321Z"
   },
   {
    "duration": 289547,
    "start_time": "2022-06-17T01:08:08.762Z"
   },
   {
    "duration": 4,
    "start_time": "2022-06-17T01:14:14.938Z"
   },
   {
    "duration": 2639,
    "start_time": "2022-06-17T01:14:15.342Z"
   },
   {
    "duration": 6,
    "start_time": "2022-06-17T01:14:20.947Z"
   },
   {
    "duration": 25,
    "start_time": "2022-06-17T01:15:23.355Z"
   },
   {
    "duration": 5,
    "start_time": "2022-06-17T01:15:23.382Z"
   },
   {
    "duration": 50,
    "start_time": "2022-06-17T01:15:23.388Z"
   },
   {
    "duration": 7,
    "start_time": "2022-06-17T01:15:23.440Z"
   },
   {
    "duration": 11,
    "start_time": "2022-06-17T01:15:23.449Z"
   },
   {
    "duration": 6,
    "start_time": "2022-06-17T01:15:23.461Z"
   },
   {
    "duration": 32,
    "start_time": "2022-06-17T01:15:23.469Z"
   },
   {
    "duration": 3,
    "start_time": "2022-06-17T01:15:23.502Z"
   },
   {
    "duration": 271,
    "start_time": "2022-06-17T01:15:23.507Z"
   },
   {
    "duration": 7,
    "start_time": "2022-06-17T01:15:23.780Z"
   },
   {
    "duration": 223,
    "start_time": "2022-06-17T01:15:23.789Z"
   },
   {
    "duration": 242,
    "start_time": "2022-06-17T01:15:24.013Z"
   },
   {
    "duration": 161,
    "start_time": "2022-06-17T01:15:24.256Z"
   },
   {
    "duration": 220,
    "start_time": "2022-06-17T01:15:24.419Z"
   },
   {
    "duration": 3,
    "start_time": "2022-06-17T01:15:24.641Z"
   },
   {
    "duration": 22,
    "start_time": "2022-06-17T01:15:24.645Z"
   },
   {
    "duration": 31,
    "start_time": "2022-06-17T01:15:24.668Z"
   },
   {
    "duration": 3,
    "start_time": "2022-06-17T01:15:24.701Z"
   },
   {
    "duration": 6,
    "start_time": "2022-06-17T01:15:24.705Z"
   },
   {
    "duration": 10,
    "start_time": "2022-06-17T01:15:24.712Z"
   },
   {
    "duration": 27,
    "start_time": "2022-06-17T01:15:24.723Z"
   },
   {
    "duration": 2,
    "start_time": "2022-06-17T01:15:24.751Z"
   },
   {
    "duration": 4,
    "start_time": "2022-06-17T01:15:24.755Z"
   },
   {
    "duration": 19,
    "start_time": "2022-06-17T01:15:24.760Z"
   },
   {
    "duration": 6,
    "start_time": "2022-06-17T01:15:24.780Z"
   },
   {
    "duration": 3874,
    "start_time": "2022-06-17T01:15:24.787Z"
   },
   {
    "duration": 322965,
    "start_time": "2022-06-17T01:15:28.663Z"
   },
   {
    "duration": 4,
    "start_time": "2022-06-17T01:21:05.770Z"
   },
   {
    "duration": 2784,
    "start_time": "2022-06-17T01:21:06.200Z"
   },
   {
    "duration": 7,
    "start_time": "2022-06-17T01:21:11.275Z"
   },
   {
    "duration": 1361708,
    "start_time": "2022-06-17T01:25:06.973Z"
   },
   {
    "duration": 2545064,
    "start_time": "2022-06-17T01:47:48.682Z"
   },
   {
    "duration": 6,
    "start_time": "2022-06-17T06:06:57.843Z"
   },
   {
    "duration": 3602,
    "start_time": "2022-06-17T06:06:59.084Z"
   },
   {
    "duration": 7,
    "start_time": "2022-06-17T06:07:08.314Z"
   },
   {
    "duration": 237,
    "start_time": "2022-06-17T06:07:58.845Z"
   },
   {
    "duration": 238,
    "start_time": "2022-06-17T06:08:35.268Z"
   },
   {
    "duration": 247,
    "start_time": "2022-06-17T07:08:20.876Z"
   },
   {
    "duration": 15,
    "start_time": "2022-06-17T07:09:10.437Z"
   },
   {
    "duration": 225,
    "start_time": "2022-06-17T07:10:23.477Z"
   },
   {
    "duration": 226,
    "start_time": "2022-06-17T07:11:36.779Z"
   },
   {
    "duration": 24,
    "start_time": "2022-06-17T07:22:44.385Z"
   },
   {
    "duration": 4,
    "start_time": "2022-06-17T07:22:44.411Z"
   },
   {
    "duration": 48,
    "start_time": "2022-06-17T07:22:44.416Z"
   },
   {
    "duration": 6,
    "start_time": "2022-06-17T07:22:44.466Z"
   },
   {
    "duration": 10,
    "start_time": "2022-06-17T07:22:44.473Z"
   },
   {
    "duration": 4,
    "start_time": "2022-06-17T07:22:44.485Z"
   },
   {
    "duration": 35,
    "start_time": "2022-06-17T07:22:44.490Z"
   },
   {
    "duration": 3,
    "start_time": "2022-06-17T07:22:44.527Z"
   },
   {
    "duration": 266,
    "start_time": "2022-06-17T07:22:44.531Z"
   },
   {
    "duration": 6,
    "start_time": "2022-06-17T07:22:44.799Z"
   },
   {
    "duration": 218,
    "start_time": "2022-06-17T07:22:44.806Z"
   },
   {
    "duration": 238,
    "start_time": "2022-06-17T07:22:45.025Z"
   },
   {
    "duration": 172,
    "start_time": "2022-06-17T07:22:45.264Z"
   },
   {
    "duration": 220,
    "start_time": "2022-06-17T07:22:45.438Z"
   },
   {
    "duration": 3,
    "start_time": "2022-06-17T07:22:45.660Z"
   },
   {
    "duration": 25,
    "start_time": "2022-06-17T07:22:45.664Z"
   },
   {
    "duration": 23,
    "start_time": "2022-06-17T07:22:45.690Z"
   },
   {
    "duration": 3,
    "start_time": "2022-06-17T07:22:45.715Z"
   },
   {
    "duration": 6,
    "start_time": "2022-06-17T07:22:45.720Z"
   },
   {
    "duration": 6,
    "start_time": "2022-06-17T07:22:45.727Z"
   },
   {
    "duration": 49,
    "start_time": "2022-06-17T07:22:45.735Z"
   },
   {
    "duration": 3,
    "start_time": "2022-06-17T07:22:45.785Z"
   },
   {
    "duration": 9,
    "start_time": "2022-06-17T07:22:45.789Z"
   },
   {
    "duration": 4,
    "start_time": "2022-06-17T07:22:45.800Z"
   },
   {
    "duration": 5,
    "start_time": "2022-06-17T07:22:45.805Z"
   },
   {
    "duration": 3908,
    "start_time": "2022-06-17T07:22:45.811Z"
   },
   {
    "duration": 330229,
    "start_time": "2022-06-17T07:22:49.720Z"
   },
   {
    "duration": 1403152,
    "start_time": "2022-06-17T07:28:19.951Z"
   },
   {
    "duration": 2478813,
    "start_time": "2022-06-17T07:51:43.105Z"
   },
   {
    "duration": 5,
    "start_time": "2022-06-17T08:33:01.925Z"
   },
   {
    "duration": 25765,
    "start_time": "2022-06-17T08:33:01.932Z"
   },
   {
    "duration": 79,
    "start_time": "2022-06-17T08:33:27.699Z"
   },
   {
    "duration": 11,
    "start_time": "2022-06-17T08:33:27.780Z"
   },
   {
    "duration": 260,
    "start_time": "2022-06-17T08:33:27.793Z"
   },
   {
    "duration": 234,
    "start_time": "2022-06-17T08:33:28.055Z"
   }
  ],
  "kernelspec": {
   "display_name": "Python 3 (ipykernel)",
   "language": "python",
   "name": "python3"
  },
  "language_info": {
   "codemirror_mode": {
    "name": "ipython",
    "version": 3
   },
   "file_extension": ".py",
   "mimetype": "text/x-python",
   "name": "python",
   "nbconvert_exporter": "python",
   "pygments_lexer": "ipython3",
   "version": "3.9.5"
  },
  "toc": {
   "base_numbering": 1,
   "nav_menu": {},
   "number_sections": true,
   "sideBar": true,
   "skip_h1_title": true,
   "title_cell": "Содержание",
   "title_sidebar": "Contents",
   "toc_cell": true,
   "toc_position": {
    "height": "calc(100% - 180px)",
    "left": "10px",
    "top": "150px",
    "width": "358.917px"
   },
   "toc_section_display": true,
   "toc_window_display": true
  }
 },
 "nbformat": 4,
 "nbformat_minor": 2
}
