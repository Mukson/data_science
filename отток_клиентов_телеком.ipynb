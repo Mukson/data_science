{
 "cells": [
  {
   "cell_type": "markdown",
   "metadata": {},
   "source": [
    "# Телеком — задача проекта\n",
    "Оператор связи «Ниединогоразрыва.ком» хочет научиться прогнозировать отток клиентов. Если выяснится, что пользователь планирует уйти, ему будут предложены промокоды и специальные условия. Команда оператора собрала персональные данные о некоторых клиентах, информацию об их тарифах и договорах.\n",
    "\n",
    "# Описание услуг\n",
    "\n",
    "Оператор предоставляет два основных типа услуг: \n",
    "\n",
    "1. Стационарную телефонную связь. Возможно подключение телефонного аппарата к нескольким линиям одновременно.\n",
    "2. Интернет. Подключение может быть двух типов: через телефонную линию (DSL*,* от англ. *digital subscriber line*, «цифровая абонентская линия») или оптоволоконный кабель (*Fiber optic*).  \n",
    "\n",
    "Также доступны такие услуги:\n",
    "\n",
    "- Интернет-безопасность: антивирус (*DeviceProtection*) и блокировка небезопасных сайтов (*OnlineSecurity*);\n",
    "- Выделенная линия технической поддержки (*TechSupport*);\n",
    "- Облачное хранилище файлов для резервного копирования данных (*OnlineBackup*);\n",
    "- Стриминговое телевидение (*StreamingTV*) и каталог фильмов (*StreamingMovies*).\n",
    "\n",
    "За услуги клиенты могут платить каждый месяц или заключить договор на 1–2 года. Доступны различные способы расчёта и возможность получения электронного чека.\n",
    "\n",
    "# Описание данных\n",
    "\n",
    "Данные состоят из файлов, полученных из разных источников:\n",
    "\n",
    "- `contract.csv` — информация о договоре;\n",
    "- `personal.csv` — персональные данные клиента;\n",
    "- `internet.csv` — информация об интернет-услугах;\n",
    "- `phone.csv` — информация об услугах телефонии.\n",
    "\n",
    "Во всех файлах столбец `customerID` содержит код клиента.\n",
    "\n",
    "Информация о договорах актуальна на 1 февраля 2020.\n",
    "\n",
    "**Описание полей данных:**\n",
    "* `BeginDate` – дата начала пользования услугами,\n",
    "* `EndDate` – дата окончания пользования услугами,\n",
    "* `Type` – тип оплаты: ежемесячный, годовой и тд,\n",
    "* `PaperlessBilling` – безналичный расчет,\n",
    "* `PaymentMethod` – способ оплаты,\n",
    "* `MonthlyCharges` – ежемесячные траты на услуги,\n",
    "* `TotalCharges` – всего потрачено денег на услуги\n",
    "* `Dependents` – наличие иждивенцев\n",
    "* `Senior Citizen` – наличие пенсионного статуса по возрасту\n",
    "* `Partner` – наличие супруга(и)\n",
    "* `MultipleLines` – наличие возможности ведения параллельных линий во время звонка\n"
   ]
  },
  {
   "cell_type": "markdown",
   "metadata": {},
   "source": [
    "# Содержание - онЖеПлан - онЖеДекопозицияЗадачи\n",
    "\n",
    "1. [Иследовательский анализ данных](#eda)\n",
    "2. [Предобработка данных](#preprocessing)\n",
    "    * [Объединение данных](#concat)\n",
    "    * [Замена типов данных](#type)\n",
    "    * [Обработка пропусков и дубликатов](#nan)\n",
    "    * [Создание дополнительных признаков](#adds)\n",
    "    * [Очистка от выбросов](#outliers)\n",
    "    * [Кодирование категориальных признаков](#ohe)\n",
    "    * [Масштабирование данных](#scale)\n",
    "    * [Формирование target-признака](#target)\n",
    "    * [train-test разбиение](#division)\n",
    "    * [Балансировка классов](#balanced)\n",
    "3. [Моделирование](#ml)\n",
    "    * [Выбор моделей и Подбор гиперпараметров](#model)\n",
    "    * [Сравнение моделей](#cmp)  \n",
    "    * [Тестирование лучшей модели](#test)\n",
    "4. [Выводы и рекомендации](#conclusion)"
   ]
  },
  {
   "cell_type": "markdown",
   "metadata": {},
   "source": [
    "<a id=\"eda\"></a>\n",
    "## Иследовательский анализ данных "
   ]
  },
  {
   "cell_type": "code",
   "execution_count": 1,
   "metadata": {},
   "outputs": [],
   "source": [
    "import pandas as pd\n",
    "import seaborn as sns\n",
    "import numpy as np\n",
    "import matplotlib.pyplot as plt\n",
    "from sklearn.preprocessing import OrdinalEncoder, StandardScaler\n",
    "from sklearn.model_selection import train_test_split\n",
    "from sklearn.utils import shuffle\n",
    "from sklearn.metrics import classification_report, accuracy_score, confusion_matrix, roc_auc_score, roc_curve, recall_score, precision_score,f1_score, mean_squared_error\n",
    "from sklearn.linear_model import LogisticRegression\n",
    "from sklearn.model_selection import cross_val_score, GridSearchCV\n",
    "from sklearn.tree import DecisionTreeClassifier\n",
    "from sklearn.ensemble import RandomForestClassifier, GradientBoostingClassifier\n",
    "from catboost import CatBoostClassifier\n",
    "from lightgbm import LGBMClassifier"
   ]
  },
  {
   "cell_type": "code",
   "execution_count": null,
   "metadata": {},
   "outputs": [],
   "source": []
  },
  {
   "cell_type": "code",
   "execution_count": 2,
   "metadata": {},
   "outputs": [],
   "source": [
    "PATH = '/datasets/final_provider/'\n",
    "RANDOM_STATE = 80822"
   ]
  },
  {
   "cell_type": "code",
   "execution_count": 3,
   "metadata": {},
   "outputs": [],
   "source": [
    "contract = pd.read_csv(PATH + 'contract.csv')\n",
    "personal = pd.read_csv(PATH + 'personal.csv')\n",
    "internet = pd.read_csv(PATH + 'internet.csv')\n",
    "phone = pd.read_csv(PATH + 'phone.csv')"
   ]
  },
  {
   "cell_type": "code",
   "execution_count": 4,
   "metadata": {},
   "outputs": [],
   "source": [
    "def explore_data(df):\n",
    "    display(\n",
    "        \"Сводная информация:\", df.info(),\n",
    "        \"10 строк:\", df.head(10),\n",
    "        \"Столбцы:\", df.columns,\n",
    "        \"Числовое описание:\", df.describe(),\n",
    "        \"Сумма пропусков:\", df.isna().sum(),\n",
    "        \"Доля пропусков:\", df.isna().mean(),\n",
    "        \"Явные дубликаты:\", df.duplicated().sum(),\n",
    "        #\"Корреляция:\", df.corr(),\n",
    "        #sns.heatmap(df.corr())\n",
    "    )\n",
    "    "
   ]
  },
  {
   "cell_type": "code",
   "execution_count": 5,
   "metadata": {
    "scrolled": false
   },
   "outputs": [
    {
     "name": "stdout",
     "output_type": "stream",
     "text": [
      "<class 'pandas.core.frame.DataFrame'>\n",
      "RangeIndex: 7043 entries, 0 to 7042\n",
      "Data columns (total 8 columns):\n",
      " #   Column            Non-Null Count  Dtype  \n",
      "---  ------            --------------  -----  \n",
      " 0   customerID        7043 non-null   object \n",
      " 1   BeginDate         7043 non-null   object \n",
      " 2   EndDate           7043 non-null   object \n",
      " 3   Type              7043 non-null   object \n",
      " 4   PaperlessBilling  7043 non-null   object \n",
      " 5   PaymentMethod     7043 non-null   object \n",
      " 6   MonthlyCharges    7043 non-null   float64\n",
      " 7   TotalCharges      7043 non-null   object \n",
      "dtypes: float64(1), object(7)\n",
      "memory usage: 440.3+ KB\n"
     ]
    },
    {
     "data": {
      "text/plain": [
       "'Сводная информация:'"
      ]
     },
     "metadata": {},
     "output_type": "display_data"
    },
    {
     "data": {
      "text/plain": [
       "None"
      ]
     },
     "metadata": {},
     "output_type": "display_data"
    },
    {
     "data": {
      "text/plain": [
       "'10 строк:'"
      ]
     },
     "metadata": {},
     "output_type": "display_data"
    },
    {
     "data": {
      "text/html": [
       "<div>\n",
       "<style scoped>\n",
       "    .dataframe tbody tr th:only-of-type {\n",
       "        vertical-align: middle;\n",
       "    }\n",
       "\n",
       "    .dataframe tbody tr th {\n",
       "        vertical-align: top;\n",
       "    }\n",
       "\n",
       "    .dataframe thead th {\n",
       "        text-align: right;\n",
       "    }\n",
       "</style>\n",
       "<table border=\"1\" class=\"dataframe\">\n",
       "  <thead>\n",
       "    <tr style=\"text-align: right;\">\n",
       "      <th></th>\n",
       "      <th>customerID</th>\n",
       "      <th>BeginDate</th>\n",
       "      <th>EndDate</th>\n",
       "      <th>Type</th>\n",
       "      <th>PaperlessBilling</th>\n",
       "      <th>PaymentMethod</th>\n",
       "      <th>MonthlyCharges</th>\n",
       "      <th>TotalCharges</th>\n",
       "    </tr>\n",
       "  </thead>\n",
       "  <tbody>\n",
       "    <tr>\n",
       "      <th>0</th>\n",
       "      <td>7590-VHVEG</td>\n",
       "      <td>2020-01-01</td>\n",
       "      <td>No</td>\n",
       "      <td>Month-to-month</td>\n",
       "      <td>Yes</td>\n",
       "      <td>Electronic check</td>\n",
       "      <td>29.85</td>\n",
       "      <td>29.85</td>\n",
       "    </tr>\n",
       "    <tr>\n",
       "      <th>1</th>\n",
       "      <td>5575-GNVDE</td>\n",
       "      <td>2017-04-01</td>\n",
       "      <td>No</td>\n",
       "      <td>One year</td>\n",
       "      <td>No</td>\n",
       "      <td>Mailed check</td>\n",
       "      <td>56.95</td>\n",
       "      <td>1889.5</td>\n",
       "    </tr>\n",
       "    <tr>\n",
       "      <th>2</th>\n",
       "      <td>3668-QPYBK</td>\n",
       "      <td>2019-10-01</td>\n",
       "      <td>2019-12-01 00:00:00</td>\n",
       "      <td>Month-to-month</td>\n",
       "      <td>Yes</td>\n",
       "      <td>Mailed check</td>\n",
       "      <td>53.85</td>\n",
       "      <td>108.15</td>\n",
       "    </tr>\n",
       "    <tr>\n",
       "      <th>3</th>\n",
       "      <td>7795-CFOCW</td>\n",
       "      <td>2016-05-01</td>\n",
       "      <td>No</td>\n",
       "      <td>One year</td>\n",
       "      <td>No</td>\n",
       "      <td>Bank transfer (automatic)</td>\n",
       "      <td>42.30</td>\n",
       "      <td>1840.75</td>\n",
       "    </tr>\n",
       "    <tr>\n",
       "      <th>4</th>\n",
       "      <td>9237-HQITU</td>\n",
       "      <td>2019-09-01</td>\n",
       "      <td>2019-11-01 00:00:00</td>\n",
       "      <td>Month-to-month</td>\n",
       "      <td>Yes</td>\n",
       "      <td>Electronic check</td>\n",
       "      <td>70.70</td>\n",
       "      <td>151.65</td>\n",
       "    </tr>\n",
       "    <tr>\n",
       "      <th>5</th>\n",
       "      <td>9305-CDSKC</td>\n",
       "      <td>2019-03-01</td>\n",
       "      <td>2019-11-01 00:00:00</td>\n",
       "      <td>Month-to-month</td>\n",
       "      <td>Yes</td>\n",
       "      <td>Electronic check</td>\n",
       "      <td>99.65</td>\n",
       "      <td>820.5</td>\n",
       "    </tr>\n",
       "    <tr>\n",
       "      <th>6</th>\n",
       "      <td>1452-KIOVK</td>\n",
       "      <td>2018-04-01</td>\n",
       "      <td>No</td>\n",
       "      <td>Month-to-month</td>\n",
       "      <td>Yes</td>\n",
       "      <td>Credit card (automatic)</td>\n",
       "      <td>89.10</td>\n",
       "      <td>1949.4</td>\n",
       "    </tr>\n",
       "    <tr>\n",
       "      <th>7</th>\n",
       "      <td>6713-OKOMC</td>\n",
       "      <td>2019-04-01</td>\n",
       "      <td>No</td>\n",
       "      <td>Month-to-month</td>\n",
       "      <td>No</td>\n",
       "      <td>Mailed check</td>\n",
       "      <td>29.75</td>\n",
       "      <td>301.9</td>\n",
       "    </tr>\n",
       "    <tr>\n",
       "      <th>8</th>\n",
       "      <td>7892-POOKP</td>\n",
       "      <td>2017-07-01</td>\n",
       "      <td>2019-11-01 00:00:00</td>\n",
       "      <td>Month-to-month</td>\n",
       "      <td>Yes</td>\n",
       "      <td>Electronic check</td>\n",
       "      <td>104.80</td>\n",
       "      <td>3046.05</td>\n",
       "    </tr>\n",
       "    <tr>\n",
       "      <th>9</th>\n",
       "      <td>6388-TABGU</td>\n",
       "      <td>2014-12-01</td>\n",
       "      <td>No</td>\n",
       "      <td>One year</td>\n",
       "      <td>No</td>\n",
       "      <td>Bank transfer (automatic)</td>\n",
       "      <td>56.15</td>\n",
       "      <td>3487.95</td>\n",
       "    </tr>\n",
       "  </tbody>\n",
       "</table>\n",
       "</div>"
      ],
      "text/plain": [
       "   customerID   BeginDate              EndDate            Type  \\\n",
       "0  7590-VHVEG  2020-01-01                   No  Month-to-month   \n",
       "1  5575-GNVDE  2017-04-01                   No        One year   \n",
       "2  3668-QPYBK  2019-10-01  2019-12-01 00:00:00  Month-to-month   \n",
       "3  7795-CFOCW  2016-05-01                   No        One year   \n",
       "4  9237-HQITU  2019-09-01  2019-11-01 00:00:00  Month-to-month   \n",
       "5  9305-CDSKC  2019-03-01  2019-11-01 00:00:00  Month-to-month   \n",
       "6  1452-KIOVK  2018-04-01                   No  Month-to-month   \n",
       "7  6713-OKOMC  2019-04-01                   No  Month-to-month   \n",
       "8  7892-POOKP  2017-07-01  2019-11-01 00:00:00  Month-to-month   \n",
       "9  6388-TABGU  2014-12-01                   No        One year   \n",
       "\n",
       "  PaperlessBilling              PaymentMethod  MonthlyCharges TotalCharges  \n",
       "0              Yes           Electronic check           29.85        29.85  \n",
       "1               No               Mailed check           56.95       1889.5  \n",
       "2              Yes               Mailed check           53.85       108.15  \n",
       "3               No  Bank transfer (automatic)           42.30      1840.75  \n",
       "4              Yes           Electronic check           70.70       151.65  \n",
       "5              Yes           Electronic check           99.65        820.5  \n",
       "6              Yes    Credit card (automatic)           89.10       1949.4  \n",
       "7               No               Mailed check           29.75        301.9  \n",
       "8              Yes           Electronic check          104.80      3046.05  \n",
       "9               No  Bank transfer (automatic)           56.15      3487.95  "
      ]
     },
     "metadata": {},
     "output_type": "display_data"
    },
    {
     "data": {
      "text/plain": [
       "'Столбцы:'"
      ]
     },
     "metadata": {},
     "output_type": "display_data"
    },
    {
     "data": {
      "text/plain": [
       "Index(['customerID', 'BeginDate', 'EndDate', 'Type', 'PaperlessBilling',\n",
       "       'PaymentMethod', 'MonthlyCharges', 'TotalCharges'],\n",
       "      dtype='object')"
      ]
     },
     "metadata": {},
     "output_type": "display_data"
    },
    {
     "data": {
      "text/plain": [
       "'Числовое описание:'"
      ]
     },
     "metadata": {},
     "output_type": "display_data"
    },
    {
     "data": {
      "text/html": [
       "<div>\n",
       "<style scoped>\n",
       "    .dataframe tbody tr th:only-of-type {\n",
       "        vertical-align: middle;\n",
       "    }\n",
       "\n",
       "    .dataframe tbody tr th {\n",
       "        vertical-align: top;\n",
       "    }\n",
       "\n",
       "    .dataframe thead th {\n",
       "        text-align: right;\n",
       "    }\n",
       "</style>\n",
       "<table border=\"1\" class=\"dataframe\">\n",
       "  <thead>\n",
       "    <tr style=\"text-align: right;\">\n",
       "      <th></th>\n",
       "      <th>MonthlyCharges</th>\n",
       "    </tr>\n",
       "  </thead>\n",
       "  <tbody>\n",
       "    <tr>\n",
       "      <th>count</th>\n",
       "      <td>7043.000000</td>\n",
       "    </tr>\n",
       "    <tr>\n",
       "      <th>mean</th>\n",
       "      <td>64.761692</td>\n",
       "    </tr>\n",
       "    <tr>\n",
       "      <th>std</th>\n",
       "      <td>30.090047</td>\n",
       "    </tr>\n",
       "    <tr>\n",
       "      <th>min</th>\n",
       "      <td>18.250000</td>\n",
       "    </tr>\n",
       "    <tr>\n",
       "      <th>25%</th>\n",
       "      <td>35.500000</td>\n",
       "    </tr>\n",
       "    <tr>\n",
       "      <th>50%</th>\n",
       "      <td>70.350000</td>\n",
       "    </tr>\n",
       "    <tr>\n",
       "      <th>75%</th>\n",
       "      <td>89.850000</td>\n",
       "    </tr>\n",
       "    <tr>\n",
       "      <th>max</th>\n",
       "      <td>118.750000</td>\n",
       "    </tr>\n",
       "  </tbody>\n",
       "</table>\n",
       "</div>"
      ],
      "text/plain": [
       "       MonthlyCharges\n",
       "count     7043.000000\n",
       "mean        64.761692\n",
       "std         30.090047\n",
       "min         18.250000\n",
       "25%         35.500000\n",
       "50%         70.350000\n",
       "75%         89.850000\n",
       "max        118.750000"
      ]
     },
     "metadata": {},
     "output_type": "display_data"
    },
    {
     "data": {
      "text/plain": [
       "'Сумма пропусков:'"
      ]
     },
     "metadata": {},
     "output_type": "display_data"
    },
    {
     "data": {
      "text/plain": [
       "customerID          0\n",
       "BeginDate           0\n",
       "EndDate             0\n",
       "Type                0\n",
       "PaperlessBilling    0\n",
       "PaymentMethod       0\n",
       "MonthlyCharges      0\n",
       "TotalCharges        0\n",
       "dtype: int64"
      ]
     },
     "metadata": {},
     "output_type": "display_data"
    },
    {
     "data": {
      "text/plain": [
       "'Доля пропусков:'"
      ]
     },
     "metadata": {},
     "output_type": "display_data"
    },
    {
     "data": {
      "text/plain": [
       "customerID          0.0\n",
       "BeginDate           0.0\n",
       "EndDate             0.0\n",
       "Type                0.0\n",
       "PaperlessBilling    0.0\n",
       "PaymentMethod       0.0\n",
       "MonthlyCharges      0.0\n",
       "TotalCharges        0.0\n",
       "dtype: float64"
      ]
     },
     "metadata": {},
     "output_type": "display_data"
    },
    {
     "data": {
      "text/plain": [
       "'Явные дубликаты:'"
      ]
     },
     "metadata": {},
     "output_type": "display_data"
    },
    {
     "data": {
      "text/plain": [
       "0"
      ]
     },
     "metadata": {},
     "output_type": "display_data"
    }
   ],
   "source": [
    "explore_data(contract)"
   ]
  },
  {
   "cell_type": "code",
   "execution_count": 6,
   "metadata": {
    "scrolled": false
   },
   "outputs": [
    {
     "data": {
      "text/plain": [
       "<AxesSubplot:title={'center':'График прихода клиентов'}>"
      ]
     },
     "execution_count": 6,
     "metadata": {},
     "output_type": "execute_result"
    },
    {
     "data": {
      "image/png": "[encoded data removed]",
      "text/plain": [
       "<Figure size 1080x432 with 1 Axes>"
      ]
     },
     "metadata": {
      "needs_background": "light"
     },
     "output_type": "display_data"
    }
   ],
   "source": [
    "contract.BeginDate.value_counts().sort_index().plot(grid=True, figsize=(15,6), title='График прихода клиентов')"
   ]
  },
  {
   "cell_type": "code",
   "execution_count": 7,
   "metadata": {
    "scrolled": false
   },
   "outputs": [
    {
     "data": {
      "text/plain": [
       "<AxesSubplot:title={'center':'График оттока клиентов'}>"
      ]
     },
     "execution_count": 7,
     "metadata": {},
     "output_type": "execute_result"
    },
    {
     "data": {
      "image/png": "[encoded data removed]",
      "text/plain": [
       "<Figure size 1080x432 with 1 Axes>"
      ]
     },
     "metadata": {
      "needs_background": "light"
     },
     "output_type": "display_data"
    }
   ],
   "source": [
    "contract[contract.EndDate != 'No'].EndDate.value_counts().sort_index().plot(grid=True, figsize=(15,6), title='График оттока клиентов')"
   ]
  },
  {
   "cell_type": "code",
   "execution_count": 8,
   "metadata": {
    "scrolled": false
   },
   "outputs": [
    {
     "data": {
      "image/png": "[encoded data removed]",
      "text/plain": [
       "<Figure size 432x288 with 1 Axes>"
      ]
     },
     "metadata": {},
     "output_type": "display_data"
    },
    {
     "data": {
      "image/png": "[encoded data removed]",
      "text/plain": [
       "<Figure size 432x288 with 1 Axes>"
      ]
     },
     "metadata": {},
     "output_type": "display_data"
    },
    {
     "data": {
      "image/png": "[encoded data removed]",
      "text/plain": [
       "<Figure size 432x288 with 1 Axes>"
      ]
     },
     "metadata": {},
     "output_type": "display_data"
    }
   ],
   "source": [
    "for column in ['Type','PaperlessBilling','PaymentMethod']:\n",
    "    column_vc = contract[column].value_counts()\n",
    "    plt.pie(column_vc.values, labels=column_vc.index, autopct='%1.1f%%', radius=1.25)\n",
    "    plt.title(column)\n",
    "    plt.show()"
   ]
  },
  {
   "cell_type": "markdown",
   "metadata": {},
   "source": [
    "TotalCharges необходимо перевести в float, BeginDate и EndDate перевести в дату, можно расчитать средний срок ухода клиента на основе EndDate создать target, пропусков и явных дубликатов не обнаружено"
   ]
  },
  {
   "cell_type": "code",
   "execution_count": 9,
   "metadata": {
    "scrolled": true
   },
   "outputs": [
    {
     "data": {
      "image/png": "[encoded data removed]",
      "text/plain": [
       "<Figure size 432x288 with 1 Axes>"
      ]
     },
     "metadata": {},
     "output_type": "display_data"
    }
   ],
   "source": [
    "end_vc = contract.EndDate.value_counts()\n",
    "fig1, ax1 = plt.subplots()\n",
    "ax1.pie(end_vc.values, labels=end_vc.index, autopct='%1.1f%%', startangle=90)\n",
    "centre_circle = plt.Circle((0,0),0.70,fc='white')\n",
    "fig = plt.gcf()\n",
    "fig.gca().add_artist(centre_circle)\n",
    "\n",
    "ax1.axis('equal')  \n",
    "plt.tight_layout()\n",
    "plt.title(\"Круговая диаграмма долей ушедших и активных клиентов\")\n",
    "plt.show()"
   ]
  },
  {
   "cell_type": "markdown",
   "metadata": {},
   "source": [
    "По состоянию на 1 февраля 2020 Оператор потерял 26.5% клиентсой базы. Клиенты начали уходить в 4 квартала 2019 года "
   ]
  },
  {
   "cell_type": "code",
   "execution_count": 10,
   "metadata": {},
   "outputs": [
    {
     "data": {
      "image/png": "[encoded data removed]",
      "text/plain": [
       "<Figure size 432x288 with 1 Axes>"
      ]
     },
     "metadata": {
      "needs_background": "light"
     },
     "output_type": "display_data"
    }
   ],
   "source": [
    "contract.TotalCharges = pd.to_numeric(contract.TotalCharges, errors='coerce')\n",
    "contract.TotalCharges.hist(bins=40, label='all_clients' )\n",
    "contract.query('EndDate ==\"No\"').TotalCharges.hist(bins=40, color='green', label='active')\n",
    "contract.query('EndDate !=\"No\"').TotalCharges.hist(bins=40, color='orange', label='inactive')\n",
    "plt.xlabel('TotalCharges')\n",
    "plt.ylabel('Frequency')\n",
    "plt.legend()\n",
    "plt.show()"
   ]
  },
  {
   "cell_type": "code",
   "execution_count": 11,
   "metadata": {
    "scrolled": true
   },
   "outputs": [
    {
     "data": {
      "image/png": "[encoded data removed]",
      "text/plain": [
       "<Figure size 432x288 with 1 Axes>"
      ]
     },
     "metadata": {
      "needs_background": "light"
     },
     "output_type": "display_data"
    }
   ],
   "source": [
    "contract.MonthlyCharges.hist(bins=20, label='all_clients' )\n",
    "contract.query('EndDate ==\"No\"').MonthlyCharges.hist(bins=20, color='green', label='active')\n",
    "contract.query('EndDate !=\"No\"').MonthlyCharges.hist(bins=20, color='orange', label='inactive')\n",
    "plt.xlabel('MonthlyCharges')\n",
    "plt.ylabel('Frequency')\n",
    "plt.legend()\n",
    "plt.show()"
   ]
  },
  {
   "cell_type": "markdown",
   "metadata": {},
   "source": [
    "Большая часть ушедших клиентов платила в диапазоне 70 - 110, в то же время у действующих клиентов максимум наблюдается до 25"
   ]
  },
  {
   "cell_type": "code",
   "execution_count": 12,
   "metadata": {
    "scrolled": false
   },
   "outputs": [
    {
     "data": {
      "text/html": [
       "<div>\n",
       "<style scoped>\n",
       "    .dataframe tbody tr th:only-of-type {\n",
       "        vertical-align: middle;\n",
       "    }\n",
       "\n",
       "    .dataframe tbody tr th {\n",
       "        vertical-align: top;\n",
       "    }\n",
       "\n",
       "    .dataframe thead th {\n",
       "        text-align: right;\n",
       "    }\n",
       "</style>\n",
       "<table border=\"1\" class=\"dataframe\">\n",
       "  <thead>\n",
       "    <tr style=\"text-align: right;\">\n",
       "      <th></th>\n",
       "      <th>MonthlyCharges</th>\n",
       "      <th>TotalCharges</th>\n",
       "    </tr>\n",
       "  </thead>\n",
       "  <tbody>\n",
       "    <tr>\n",
       "      <th>count</th>\n",
       "      <td>7043.000000</td>\n",
       "      <td>7032.000000</td>\n",
       "    </tr>\n",
       "    <tr>\n",
       "      <th>mean</th>\n",
       "      <td>64.761692</td>\n",
       "      <td>2283.300441</td>\n",
       "    </tr>\n",
       "    <tr>\n",
       "      <th>std</th>\n",
       "      <td>30.090047</td>\n",
       "      <td>2266.771362</td>\n",
       "    </tr>\n",
       "    <tr>\n",
       "      <th>min</th>\n",
       "      <td>18.250000</td>\n",
       "      <td>18.800000</td>\n",
       "    </tr>\n",
       "    <tr>\n",
       "      <th>25%</th>\n",
       "      <td>35.500000</td>\n",
       "      <td>401.450000</td>\n",
       "    </tr>\n",
       "    <tr>\n",
       "      <th>50%</th>\n",
       "      <td>70.350000</td>\n",
       "      <td>1397.475000</td>\n",
       "    </tr>\n",
       "    <tr>\n",
       "      <th>75%</th>\n",
       "      <td>89.850000</td>\n",
       "      <td>3794.737500</td>\n",
       "    </tr>\n",
       "    <tr>\n",
       "      <th>max</th>\n",
       "      <td>118.750000</td>\n",
       "      <td>8684.800000</td>\n",
       "    </tr>\n",
       "  </tbody>\n",
       "</table>\n",
       "</div>"
      ],
      "text/plain": [
       "       MonthlyCharges  TotalCharges\n",
       "count     7043.000000   7032.000000\n",
       "mean        64.761692   2283.300441\n",
       "std         30.090047   2266.771362\n",
       "min         18.250000     18.800000\n",
       "25%         35.500000    401.450000\n",
       "50%         70.350000   1397.475000\n",
       "75%         89.850000   3794.737500\n",
       "max        118.750000   8684.800000"
      ]
     },
     "metadata": {},
     "output_type": "display_data"
    },
    {
     "data": {
      "text/html": [
       "<div>\n",
       "<style scoped>\n",
       "    .dataframe tbody tr th:only-of-type {\n",
       "        vertical-align: middle;\n",
       "    }\n",
       "\n",
       "    .dataframe tbody tr th {\n",
       "        vertical-align: top;\n",
       "    }\n",
       "\n",
       "    .dataframe thead th {\n",
       "        text-align: right;\n",
       "    }\n",
       "</style>\n",
       "<table border=\"1\" class=\"dataframe\">\n",
       "  <thead>\n",
       "    <tr style=\"text-align: right;\">\n",
       "      <th></th>\n",
       "      <th>MonthlyCharges</th>\n",
       "      <th>TotalCharges</th>\n",
       "    </tr>\n",
       "  </thead>\n",
       "  <tbody>\n",
       "    <tr>\n",
       "      <th>count</th>\n",
       "      <td>5174.000000</td>\n",
       "      <td>5163.000000</td>\n",
       "    </tr>\n",
       "    <tr>\n",
       "      <th>mean</th>\n",
       "      <td>61.265124</td>\n",
       "      <td>2555.344141</td>\n",
       "    </tr>\n",
       "    <tr>\n",
       "      <th>std</th>\n",
       "      <td>31.092648</td>\n",
       "      <td>2329.456984</td>\n",
       "    </tr>\n",
       "    <tr>\n",
       "      <th>min</th>\n",
       "      <td>18.250000</td>\n",
       "      <td>18.800000</td>\n",
       "    </tr>\n",
       "    <tr>\n",
       "      <th>25%</th>\n",
       "      <td>25.100000</td>\n",
       "      <td>577.825000</td>\n",
       "    </tr>\n",
       "    <tr>\n",
       "      <th>50%</th>\n",
       "      <td>64.425000</td>\n",
       "      <td>1683.600000</td>\n",
       "    </tr>\n",
       "    <tr>\n",
       "      <th>75%</th>\n",
       "      <td>88.400000</td>\n",
       "      <td>4264.125000</td>\n",
       "    </tr>\n",
       "    <tr>\n",
       "      <th>max</th>\n",
       "      <td>118.750000</td>\n",
       "      <td>8672.450000</td>\n",
       "    </tr>\n",
       "  </tbody>\n",
       "</table>\n",
       "</div>"
      ],
      "text/plain": [
       "       MonthlyCharges  TotalCharges\n",
       "count     5174.000000   5163.000000\n",
       "mean        61.265124   2555.344141\n",
       "std         31.092648   2329.456984\n",
       "min         18.250000     18.800000\n",
       "25%         25.100000    577.825000\n",
       "50%         64.425000   1683.600000\n",
       "75%         88.400000   4264.125000\n",
       "max        118.750000   8672.450000"
      ]
     },
     "metadata": {},
     "output_type": "display_data"
    },
    {
     "data": {
      "text/html": [
       "<div>\n",
       "<style scoped>\n",
       "    .dataframe tbody tr th:only-of-type {\n",
       "        vertical-align: middle;\n",
       "    }\n",
       "\n",
       "    .dataframe tbody tr th {\n",
       "        vertical-align: top;\n",
       "    }\n",
       "\n",
       "    .dataframe thead th {\n",
       "        text-align: right;\n",
       "    }\n",
       "</style>\n",
       "<table border=\"1\" class=\"dataframe\">\n",
       "  <thead>\n",
       "    <tr style=\"text-align: right;\">\n",
       "      <th></th>\n",
       "      <th>MonthlyCharges</th>\n",
       "      <th>TotalCharges</th>\n",
       "    </tr>\n",
       "  </thead>\n",
       "  <tbody>\n",
       "    <tr>\n",
       "      <th>count</th>\n",
       "      <td>1869.000000</td>\n",
       "      <td>1869.000000</td>\n",
       "    </tr>\n",
       "    <tr>\n",
       "      <th>mean</th>\n",
       "      <td>74.441332</td>\n",
       "      <td>1531.796094</td>\n",
       "    </tr>\n",
       "    <tr>\n",
       "      <th>std</th>\n",
       "      <td>24.666053</td>\n",
       "      <td>1890.822994</td>\n",
       "    </tr>\n",
       "    <tr>\n",
       "      <th>min</th>\n",
       "      <td>18.850000</td>\n",
       "      <td>18.850000</td>\n",
       "    </tr>\n",
       "    <tr>\n",
       "      <th>25%</th>\n",
       "      <td>56.150000</td>\n",
       "      <td>134.500000</td>\n",
       "    </tr>\n",
       "    <tr>\n",
       "      <th>50%</th>\n",
       "      <td>79.650000</td>\n",
       "      <td>703.550000</td>\n",
       "    </tr>\n",
       "    <tr>\n",
       "      <th>75%</th>\n",
       "      <td>94.200000</td>\n",
       "      <td>2331.300000</td>\n",
       "    </tr>\n",
       "    <tr>\n",
       "      <th>max</th>\n",
       "      <td>118.350000</td>\n",
       "      <td>8684.800000</td>\n",
       "    </tr>\n",
       "  </tbody>\n",
       "</table>\n",
       "</div>"
      ],
      "text/plain": [
       "       MonthlyCharges  TotalCharges\n",
       "count     1869.000000   1869.000000\n",
       "mean        74.441332   1531.796094\n",
       "std         24.666053   1890.822994\n",
       "min         18.850000     18.850000\n",
       "25%         56.150000    134.500000\n",
       "50%         79.650000    703.550000\n",
       "75%         94.200000   2331.300000\n",
       "max        118.350000   8684.800000"
      ]
     },
     "metadata": {},
     "output_type": "display_data"
    }
   ],
   "source": [
    "display(contract.describe(),\n",
    "    contract.query('EndDate ==\"No\"').describe(),\n",
    "    contract.query('EndDate !=\"No\"').describe())"
   ]
  },
  {
   "cell_type": "markdown",
   "metadata": {},
   "source": [
    "Средняя месячные и годовые затраты у ушедших клиентов выше"
   ]
  },
  {
   "cell_type": "code",
   "execution_count": 13,
   "metadata": {},
   "outputs": [
    {
     "data": {
      "text/plain": [
       "<AxesSubplot:>"
      ]
     },
     "execution_count": 13,
     "metadata": {},
     "output_type": "execute_result"
    },
    {
     "data": {
      "image/png": "[encoded data removed]",
      "text/plain": [
       "<Figure size 432x288 with 1 Axes>"
      ]
     },
     "metadata": {
      "needs_background": "light"
     },
     "output_type": "display_data"
    }
   ],
   "source": [
    "sns.boxplot(data=contract['MonthlyCharges'],  orient='v' )"
   ]
  },
  {
   "cell_type": "code",
   "execution_count": 14,
   "metadata": {
    "scrolled": false
   },
   "outputs": [
    {
     "data": {
      "image/png": "[encoded data removed]",
      "text/plain": [
       "<Figure size 864x432 with 2 Axes>"
      ]
     },
     "metadata": {
      "needs_background": "light"
     },
     "output_type": "display_data"
    }
   ],
   "source": [
    "fig, ax = plt.subplots(1,2, figsize=(12,6))\n",
    "sns.boxplot(data=contract['MonthlyCharges'],  orient='v' , ax=ax[0], color='green')\n",
    "ax[0].legend(['MonthlyCharges'], loc=1)\n",
    "sns.boxplot(data=contract['TotalCharges'],  orient='v' , ax=ax[1], color='r')\n",
    "ax[1].legend(['TotalCharges'], loc=1)\n",
    "plt.show()"
   ]
  },
  {
   "cell_type": "markdown",
   "metadata": {},
   "source": [
    "Аномальных значений в `MonthlyCharges` и `TotalCharges` не обнаружено"
   ]
  },
  {
   "cell_type": "code",
   "execution_count": 15,
   "metadata": {
    "scrolled": true
   },
   "outputs": [
    {
     "name": "stdout",
     "output_type": "stream",
     "text": [
      "<class 'pandas.core.frame.DataFrame'>\n",
      "RangeIndex: 7043 entries, 0 to 7042\n",
      "Data columns (total 5 columns):\n",
      " #   Column         Non-Null Count  Dtype \n",
      "---  ------         --------------  ----- \n",
      " 0   customerID     7043 non-null   object\n",
      " 1   gender         7043 non-null   object\n",
      " 2   SeniorCitizen  7043 non-null   int64 \n",
      " 3   Partner        7043 non-null   object\n",
      " 4   Dependents     7043 non-null   object\n",
      "dtypes: int64(1), object(4)\n",
      "memory usage: 275.2+ KB\n"
     ]
    },
    {
     "data": {
      "text/plain": [
       "'Сводная информация:'"
      ]
     },
     "metadata": {},
     "output_type": "display_data"
    },
    {
     "data": {
      "text/plain": [
       "None"
      ]
     },
     "metadata": {},
     "output_type": "display_data"
    },
    {
     "data": {
      "text/plain": [
       "'10 строк:'"
      ]
     },
     "metadata": {},
     "output_type": "display_data"
    },
    {
     "data": {
      "text/html": [
       "<div>\n",
       "<style scoped>\n",
       "    .dataframe tbody tr th:only-of-type {\n",
       "        vertical-align: middle;\n",
       "    }\n",
       "\n",
       "    .dataframe tbody tr th {\n",
       "        vertical-align: top;\n",
       "    }\n",
       "\n",
       "    .dataframe thead th {\n",
       "        text-align: right;\n",
       "    }\n",
       "</style>\n",
       "<table border=\"1\" class=\"dataframe\">\n",
       "  <thead>\n",
       "    <tr style=\"text-align: right;\">\n",
       "      <th></th>\n",
       "      <th>customerID</th>\n",
       "      <th>gender</th>\n",
       "      <th>SeniorCitizen</th>\n",
       "      <th>Partner</th>\n",
       "      <th>Dependents</th>\n",
       "    </tr>\n",
       "  </thead>\n",
       "  <tbody>\n",
       "    <tr>\n",
       "      <th>0</th>\n",
       "      <td>7590-VHVEG</td>\n",
       "      <td>Female</td>\n",
       "      <td>0</td>\n",
       "      <td>Yes</td>\n",
       "      <td>No</td>\n",
       "    </tr>\n",
       "    <tr>\n",
       "      <th>1</th>\n",
       "      <td>5575-GNVDE</td>\n",
       "      <td>Male</td>\n",
       "      <td>0</td>\n",
       "      <td>No</td>\n",
       "      <td>No</td>\n",
       "    </tr>\n",
       "    <tr>\n",
       "      <th>2</th>\n",
       "      <td>3668-QPYBK</td>\n",
       "      <td>Male</td>\n",
       "      <td>0</td>\n",
       "      <td>No</td>\n",
       "      <td>No</td>\n",
       "    </tr>\n",
       "    <tr>\n",
       "      <th>3</th>\n",
       "      <td>7795-CFOCW</td>\n",
       "      <td>Male</td>\n",
       "      <td>0</td>\n",
       "      <td>No</td>\n",
       "      <td>No</td>\n",
       "    </tr>\n",
       "    <tr>\n",
       "      <th>4</th>\n",
       "      <td>9237-HQITU</td>\n",
       "      <td>Female</td>\n",
       "      <td>0</td>\n",
       "      <td>No</td>\n",
       "      <td>No</td>\n",
       "    </tr>\n",
       "    <tr>\n",
       "      <th>5</th>\n",
       "      <td>9305-CDSKC</td>\n",
       "      <td>Female</td>\n",
       "      <td>0</td>\n",
       "      <td>No</td>\n",
       "      <td>No</td>\n",
       "    </tr>\n",
       "    <tr>\n",
       "      <th>6</th>\n",
       "      <td>1452-KIOVK</td>\n",
       "      <td>Male</td>\n",
       "      <td>0</td>\n",
       "      <td>No</td>\n",
       "      <td>Yes</td>\n",
       "    </tr>\n",
       "    <tr>\n",
       "      <th>7</th>\n",
       "      <td>6713-OKOMC</td>\n",
       "      <td>Female</td>\n",
       "      <td>0</td>\n",
       "      <td>No</td>\n",
       "      <td>No</td>\n",
       "    </tr>\n",
       "    <tr>\n",
       "      <th>8</th>\n",
       "      <td>7892-POOKP</td>\n",
       "      <td>Female</td>\n",
       "      <td>0</td>\n",
       "      <td>Yes</td>\n",
       "      <td>No</td>\n",
       "    </tr>\n",
       "    <tr>\n",
       "      <th>9</th>\n",
       "      <td>6388-TABGU</td>\n",
       "      <td>Male</td>\n",
       "      <td>0</td>\n",
       "      <td>No</td>\n",
       "      <td>Yes</td>\n",
       "    </tr>\n",
       "  </tbody>\n",
       "</table>\n",
       "</div>"
      ],
      "text/plain": [
       "   customerID  gender  SeniorCitizen Partner Dependents\n",
       "0  7590-VHVEG  Female              0     Yes         No\n",
       "1  5575-GNVDE    Male              0      No         No\n",
       "2  3668-QPYBK    Male              0      No         No\n",
       "3  7795-CFOCW    Male              0      No         No\n",
       "4  9237-HQITU  Female              0      No         No\n",
       "5  9305-CDSKC  Female              0      No         No\n",
       "6  1452-KIOVK    Male              0      No        Yes\n",
       "7  6713-OKOMC  Female              0      No         No\n",
       "8  7892-POOKP  Female              0     Yes         No\n",
       "9  6388-TABGU    Male              0      No        Yes"
      ]
     },
     "metadata": {},
     "output_type": "display_data"
    },
    {
     "data": {
      "text/plain": [
       "'Столбцы:'"
      ]
     },
     "metadata": {},
     "output_type": "display_data"
    },
    {
     "data": {
      "text/plain": [
       "Index(['customerID', 'gender', 'SeniorCitizen', 'Partner', 'Dependents'], dtype='object')"
      ]
     },
     "metadata": {},
     "output_type": "display_data"
    },
    {
     "data": {
      "text/plain": [
       "'Числовое описание:'"
      ]
     },
     "metadata": {},
     "output_type": "display_data"
    },
    {
     "data": {
      "text/html": [
       "<div>\n",
       "<style scoped>\n",
       "    .dataframe tbody tr th:only-of-type {\n",
       "        vertical-align: middle;\n",
       "    }\n",
       "\n",
       "    .dataframe tbody tr th {\n",
       "        vertical-align: top;\n",
       "    }\n",
       "\n",
       "    .dataframe thead th {\n",
       "        text-align: right;\n",
       "    }\n",
       "</style>\n",
       "<table border=\"1\" class=\"dataframe\">\n",
       "  <thead>\n",
       "    <tr style=\"text-align: right;\">\n",
       "      <th></th>\n",
       "      <th>SeniorCitizen</th>\n",
       "    </tr>\n",
       "  </thead>\n",
       "  <tbody>\n",
       "    <tr>\n",
       "      <th>count</th>\n",
       "      <td>7043.000000</td>\n",
       "    </tr>\n",
       "    <tr>\n",
       "      <th>mean</th>\n",
       "      <td>0.162147</td>\n",
       "    </tr>\n",
       "    <tr>\n",
       "      <th>std</th>\n",
       "      <td>0.368612</td>\n",
       "    </tr>\n",
       "    <tr>\n",
       "      <th>min</th>\n",
       "      <td>0.000000</td>\n",
       "    </tr>\n",
       "    <tr>\n",
       "      <th>25%</th>\n",
       "      <td>0.000000</td>\n",
       "    </tr>\n",
       "    <tr>\n",
       "      <th>50%</th>\n",
       "      <td>0.000000</td>\n",
       "    </tr>\n",
       "    <tr>\n",
       "      <th>75%</th>\n",
       "      <td>0.000000</td>\n",
       "    </tr>\n",
       "    <tr>\n",
       "      <th>max</th>\n",
       "      <td>1.000000</td>\n",
       "    </tr>\n",
       "  </tbody>\n",
       "</table>\n",
       "</div>"
      ],
      "text/plain": [
       "       SeniorCitizen\n",
       "count    7043.000000\n",
       "mean        0.162147\n",
       "std         0.368612\n",
       "min         0.000000\n",
       "25%         0.000000\n",
       "50%         0.000000\n",
       "75%         0.000000\n",
       "max         1.000000"
      ]
     },
     "metadata": {},
     "output_type": "display_data"
    },
    {
     "data": {
      "text/plain": [
       "'Сумма пропусков:'"
      ]
     },
     "metadata": {},
     "output_type": "display_data"
    },
    {
     "data": {
      "text/plain": [
       "customerID       0\n",
       "gender           0\n",
       "SeniorCitizen    0\n",
       "Partner          0\n",
       "Dependents       0\n",
       "dtype: int64"
      ]
     },
     "metadata": {},
     "output_type": "display_data"
    },
    {
     "data": {
      "text/plain": [
       "'Доля пропусков:'"
      ]
     },
     "metadata": {},
     "output_type": "display_data"
    },
    {
     "data": {
      "text/plain": [
       "customerID       0.0\n",
       "gender           0.0\n",
       "SeniorCitizen    0.0\n",
       "Partner          0.0\n",
       "Dependents       0.0\n",
       "dtype: float64"
      ]
     },
     "metadata": {},
     "output_type": "display_data"
    },
    {
     "data": {
      "text/plain": [
       "'Явные дубликаты:'"
      ]
     },
     "metadata": {},
     "output_type": "display_data"
    },
    {
     "data": {
      "text/plain": [
       "0"
      ]
     },
     "metadata": {},
     "output_type": "display_data"
    }
   ],
   "source": [
    "explore_data(personal)"
   ]
  },
  {
   "cell_type": "markdown",
   "metadata": {},
   "source": [
    " пропусков и явных дубликатов не обнаружено"
   ]
  },
  {
   "cell_type": "code",
   "execution_count": 16,
   "metadata": {
    "scrolled": false
   },
   "outputs": [
    {
     "data": {
      "image/png": "[encoded data removed]",
      "text/plain": [
       "<Figure size 1440x504 with 4 Axes>"
      ]
     },
     "metadata": {},
     "output_type": "display_data"
    }
   ],
   "source": [
    "personal_vc = personal['gender'].value_counts()\n",
    "senior_sitizen_vc = personal['SeniorCitizen'].value_counts()\n",
    "partner_vc = personal['Partner'].value_counts()\n",
    "dependents_vc = personal['Dependents'].value_counts()\n",
    "\n",
    "fig, ax = plt.subplots(2,2, figsize=(20,7))\n",
    "\n",
    "ax[0,0].pie(personal_vc.values, labels=personal_vc.index, autopct='%1.1f%%', radius=1.25)\n",
    "ax[0,1].pie(senior_sitizen_vc.values, labels='senior_citizen_'+senior_sitizen_vc.index.astype('str'), autopct='%1.1f%%', radius=1.5)\n",
    "#sns.countplot(x='gender', data=personal, hue='gender', ax=ax[0,1])\n",
    "ax[1,0].pie(partner_vc.values, labels='has_partner_'+partner_vc.index, autopct='%1.1f%%', radius=1.5)\n",
    "ax[1,1].pie(dependents_vc.values, labels='has_dependents_'+dependents_vc.index, autopct='%1.1f%%', radius=1.25)\n",
    "\n",
    "plt.show()\n"
   ]
  },
  {
   "cell_type": "markdown",
   "metadata": {},
   "source": [
    "Доля группы допенсионного возраста значительно превышает долю пенсионеров, аналогичная ситуация с наличием иждевенцов. Скорее всего группы с меньшими долями реже меняют оператора. Необходимо проверить, учитывая факт перехода к другому оператору"
   ]
  },
  {
   "cell_type": "code",
   "execution_count": 17,
   "metadata": {
    "scrolled": false
   },
   "outputs": [
    {
     "name": "stdout",
     "output_type": "stream",
     "text": [
      "<class 'pandas.core.frame.DataFrame'>\n",
      "RangeIndex: 5517 entries, 0 to 5516\n",
      "Data columns (total 8 columns):\n",
      " #   Column            Non-Null Count  Dtype \n",
      "---  ------            --------------  ----- \n",
      " 0   customerID        5517 non-null   object\n",
      " 1   InternetService   5517 non-null   object\n",
      " 2   OnlineSecurity    5517 non-null   object\n",
      " 3   OnlineBackup      5517 non-null   object\n",
      " 4   DeviceProtection  5517 non-null   object\n",
      " 5   TechSupport       5517 non-null   object\n",
      " 6   StreamingTV       5517 non-null   object\n",
      " 7   StreamingMovies   5517 non-null   object\n",
      "dtypes: object(8)\n",
      "memory usage: 344.9+ KB\n"
     ]
    },
    {
     "data": {
      "text/plain": [
       "'Сводная информация:'"
      ]
     },
     "metadata": {},
     "output_type": "display_data"
    },
    {
     "data": {
      "text/plain": [
       "None"
      ]
     },
     "metadata": {},
     "output_type": "display_data"
    },
    {
     "data": {
      "text/plain": [
       "'10 строк:'"
      ]
     },
     "metadata": {},
     "output_type": "display_data"
    },
    {
     "data": {
      "text/html": [
       "<div>\n",
       "<style scoped>\n",
       "    .dataframe tbody tr th:only-of-type {\n",
       "        vertical-align: middle;\n",
       "    }\n",
       "\n",
       "    .dataframe tbody tr th {\n",
       "        vertical-align: top;\n",
       "    }\n",
       "\n",
       "    .dataframe thead th {\n",
       "        text-align: right;\n",
       "    }\n",
       "</style>\n",
       "<table border=\"1\" class=\"dataframe\">\n",
       "  <thead>\n",
       "    <tr style=\"text-align: right;\">\n",
       "      <th></th>\n",
       "      <th>customerID</th>\n",
       "      <th>InternetService</th>\n",
       "      <th>OnlineSecurity</th>\n",
       "      <th>OnlineBackup</th>\n",
       "      <th>DeviceProtection</th>\n",
       "      <th>TechSupport</th>\n",
       "      <th>StreamingTV</th>\n",
       "      <th>StreamingMovies</th>\n",
       "    </tr>\n",
       "  </thead>\n",
       "  <tbody>\n",
       "    <tr>\n",
       "      <th>0</th>\n",
       "      <td>7590-VHVEG</td>\n",
       "      <td>DSL</td>\n",
       "      <td>No</td>\n",
       "      <td>Yes</td>\n",
       "      <td>No</td>\n",
       "      <td>No</td>\n",
       "      <td>No</td>\n",
       "      <td>No</td>\n",
       "    </tr>\n",
       "    <tr>\n",
       "      <th>1</th>\n",
       "      <td>5575-GNVDE</td>\n",
       "      <td>DSL</td>\n",
       "      <td>Yes</td>\n",
       "      <td>No</td>\n",
       "      <td>Yes</td>\n",
       "      <td>No</td>\n",
       "      <td>No</td>\n",
       "      <td>No</td>\n",
       "    </tr>\n",
       "    <tr>\n",
       "      <th>2</th>\n",
       "      <td>3668-QPYBK</td>\n",
       "      <td>DSL</td>\n",
       "      <td>Yes</td>\n",
       "      <td>Yes</td>\n",
       "      <td>No</td>\n",
       "      <td>No</td>\n",
       "      <td>No</td>\n",
       "      <td>No</td>\n",
       "    </tr>\n",
       "    <tr>\n",
       "      <th>3</th>\n",
       "      <td>7795-CFOCW</td>\n",
       "      <td>DSL</td>\n",
       "      <td>Yes</td>\n",
       "      <td>No</td>\n",
       "      <td>Yes</td>\n",
       "      <td>Yes</td>\n",
       "      <td>No</td>\n",
       "      <td>No</td>\n",
       "    </tr>\n",
       "    <tr>\n",
       "      <th>4</th>\n",
       "      <td>9237-HQITU</td>\n",
       "      <td>Fiber optic</td>\n",
       "      <td>No</td>\n",
       "      <td>No</td>\n",
       "      <td>No</td>\n",
       "      <td>No</td>\n",
       "      <td>No</td>\n",
       "      <td>No</td>\n",
       "    </tr>\n",
       "    <tr>\n",
       "      <th>5</th>\n",
       "      <td>9305-CDSKC</td>\n",
       "      <td>Fiber optic</td>\n",
       "      <td>No</td>\n",
       "      <td>No</td>\n",
       "      <td>Yes</td>\n",
       "      <td>No</td>\n",
       "      <td>Yes</td>\n",
       "      <td>Yes</td>\n",
       "    </tr>\n",
       "    <tr>\n",
       "      <th>6</th>\n",
       "      <td>1452-KIOVK</td>\n",
       "      <td>Fiber optic</td>\n",
       "      <td>No</td>\n",
       "      <td>Yes</td>\n",
       "      <td>No</td>\n",
       "      <td>No</td>\n",
       "      <td>Yes</td>\n",
       "      <td>No</td>\n",
       "    </tr>\n",
       "    <tr>\n",
       "      <th>7</th>\n",
       "      <td>6713-OKOMC</td>\n",
       "      <td>DSL</td>\n",
       "      <td>Yes</td>\n",
       "      <td>No</td>\n",
       "      <td>No</td>\n",
       "      <td>No</td>\n",
       "      <td>No</td>\n",
       "      <td>No</td>\n",
       "    </tr>\n",
       "    <tr>\n",
       "      <th>8</th>\n",
       "      <td>7892-POOKP</td>\n",
       "      <td>Fiber optic</td>\n",
       "      <td>No</td>\n",
       "      <td>No</td>\n",
       "      <td>Yes</td>\n",
       "      <td>Yes</td>\n",
       "      <td>Yes</td>\n",
       "      <td>Yes</td>\n",
       "    </tr>\n",
       "    <tr>\n",
       "      <th>9</th>\n",
       "      <td>6388-TABGU</td>\n",
       "      <td>DSL</td>\n",
       "      <td>Yes</td>\n",
       "      <td>Yes</td>\n",
       "      <td>No</td>\n",
       "      <td>No</td>\n",
       "      <td>No</td>\n",
       "      <td>No</td>\n",
       "    </tr>\n",
       "  </tbody>\n",
       "</table>\n",
       "</div>"
      ],
      "text/plain": [
       "   customerID InternetService OnlineSecurity OnlineBackup DeviceProtection  \\\n",
       "0  7590-VHVEG             DSL             No          Yes               No   \n",
       "1  5575-GNVDE             DSL            Yes           No              Yes   \n",
       "2  3668-QPYBK             DSL            Yes          Yes               No   \n",
       "3  7795-CFOCW             DSL            Yes           No              Yes   \n",
       "4  9237-HQITU     Fiber optic             No           No               No   \n",
       "5  9305-CDSKC     Fiber optic             No           No              Yes   \n",
       "6  1452-KIOVK     Fiber optic             No          Yes               No   \n",
       "7  6713-OKOMC             DSL            Yes           No               No   \n",
       "8  7892-POOKP     Fiber optic             No           No              Yes   \n",
       "9  6388-TABGU             DSL            Yes          Yes               No   \n",
       "\n",
       "  TechSupport StreamingTV StreamingMovies  \n",
       "0          No          No              No  \n",
       "1          No          No              No  \n",
       "2          No          No              No  \n",
       "3         Yes          No              No  \n",
       "4          No          No              No  \n",
       "5          No         Yes             Yes  \n",
       "6          No         Yes              No  \n",
       "7          No          No              No  \n",
       "8         Yes         Yes             Yes  \n",
       "9          No          No              No  "
      ]
     },
     "metadata": {},
     "output_type": "display_data"
    },
    {
     "data": {
      "text/plain": [
       "'Столбцы:'"
      ]
     },
     "metadata": {},
     "output_type": "display_data"
    },
    {
     "data": {
      "text/plain": [
       "Index(['customerID', 'InternetService', 'OnlineSecurity', 'OnlineBackup',\n",
       "       'DeviceProtection', 'TechSupport', 'StreamingTV', 'StreamingMovies'],\n",
       "      dtype='object')"
      ]
     },
     "metadata": {},
     "output_type": "display_data"
    },
    {
     "data": {
      "text/plain": [
       "'Числовое описание:'"
      ]
     },
     "metadata": {},
     "output_type": "display_data"
    },
    {
     "data": {
      "text/html": [
       "<div>\n",
       "<style scoped>\n",
       "    .dataframe tbody tr th:only-of-type {\n",
       "        vertical-align: middle;\n",
       "    }\n",
       "\n",
       "    .dataframe tbody tr th {\n",
       "        vertical-align: top;\n",
       "    }\n",
       "\n",
       "    .dataframe thead th {\n",
       "        text-align: right;\n",
       "    }\n",
       "</style>\n",
       "<table border=\"1\" class=\"dataframe\">\n",
       "  <thead>\n",
       "    <tr style=\"text-align: right;\">\n",
       "      <th></th>\n",
       "      <th>customerID</th>\n",
       "      <th>InternetService</th>\n",
       "      <th>OnlineSecurity</th>\n",
       "      <th>OnlineBackup</th>\n",
       "      <th>DeviceProtection</th>\n",
       "      <th>TechSupport</th>\n",
       "      <th>StreamingTV</th>\n",
       "      <th>StreamingMovies</th>\n",
       "    </tr>\n",
       "  </thead>\n",
       "  <tbody>\n",
       "    <tr>\n",
       "      <th>count</th>\n",
       "      <td>5517</td>\n",
       "      <td>5517</td>\n",
       "      <td>5517</td>\n",
       "      <td>5517</td>\n",
       "      <td>5517</td>\n",
       "      <td>5517</td>\n",
       "      <td>5517</td>\n",
       "      <td>5517</td>\n",
       "    </tr>\n",
       "    <tr>\n",
       "      <th>unique</th>\n",
       "      <td>5517</td>\n",
       "      <td>2</td>\n",
       "      <td>2</td>\n",
       "      <td>2</td>\n",
       "      <td>2</td>\n",
       "      <td>2</td>\n",
       "      <td>2</td>\n",
       "      <td>2</td>\n",
       "    </tr>\n",
       "    <tr>\n",
       "      <th>top</th>\n",
       "      <td>9110-HSGTV</td>\n",
       "      <td>Fiber optic</td>\n",
       "      <td>No</td>\n",
       "      <td>No</td>\n",
       "      <td>No</td>\n",
       "      <td>No</td>\n",
       "      <td>No</td>\n",
       "      <td>No</td>\n",
       "    </tr>\n",
       "    <tr>\n",
       "      <th>freq</th>\n",
       "      <td>1</td>\n",
       "      <td>3096</td>\n",
       "      <td>3498</td>\n",
       "      <td>3088</td>\n",
       "      <td>3095</td>\n",
       "      <td>3473</td>\n",
       "      <td>2810</td>\n",
       "      <td>2785</td>\n",
       "    </tr>\n",
       "  </tbody>\n",
       "</table>\n",
       "</div>"
      ],
      "text/plain": [
       "        customerID InternetService OnlineSecurity OnlineBackup  \\\n",
       "count         5517            5517           5517         5517   \n",
       "unique        5517               2              2            2   \n",
       "top     9110-HSGTV     Fiber optic             No           No   \n",
       "freq             1            3096           3498         3088   \n",
       "\n",
       "       DeviceProtection TechSupport StreamingTV StreamingMovies  \n",
       "count              5517        5517        5517            5517  \n",
       "unique                2           2           2               2  \n",
       "top                  No          No          No              No  \n",
       "freq               3095        3473        2810            2785  "
      ]
     },
     "metadata": {},
     "output_type": "display_data"
    },
    {
     "data": {
      "text/plain": [
       "'Сумма пропусков:'"
      ]
     },
     "metadata": {},
     "output_type": "display_data"
    },
    {
     "data": {
      "text/plain": [
       "customerID          0\n",
       "InternetService     0\n",
       "OnlineSecurity      0\n",
       "OnlineBackup        0\n",
       "DeviceProtection    0\n",
       "TechSupport         0\n",
       "StreamingTV         0\n",
       "StreamingMovies     0\n",
       "dtype: int64"
      ]
     },
     "metadata": {},
     "output_type": "display_data"
    },
    {
     "data": {
      "text/plain": [
       "'Доля пропусков:'"
      ]
     },
     "metadata": {},
     "output_type": "display_data"
    },
    {
     "data": {
      "text/plain": [
       "customerID          0.0\n",
       "InternetService     0.0\n",
       "OnlineSecurity      0.0\n",
       "OnlineBackup        0.0\n",
       "DeviceProtection    0.0\n",
       "TechSupport         0.0\n",
       "StreamingTV         0.0\n",
       "StreamingMovies     0.0\n",
       "dtype: float64"
      ]
     },
     "metadata": {},
     "output_type": "display_data"
    },
    {
     "data": {
      "text/plain": [
       "'Явные дубликаты:'"
      ]
     },
     "metadata": {},
     "output_type": "display_data"
    },
    {
     "data": {
      "text/plain": [
       "0"
      ]
     },
     "metadata": {},
     "output_type": "display_data"
    }
   ],
   "source": [
    "explore_data(internet)"
   ]
  },
  {
   "cell_type": "markdown",
   "metadata": {},
   "source": [
    "Пропусков и явных дубликатов нет. Количество строк в таблице меньше, чем в `contract` и `personal`. В каждом столбце количество уникальных элементов равно двум - можно закодировать с помощью label encoder"
   ]
  },
  {
   "cell_type": "markdown",
   "metadata": {},
   "source": [
    "Рассмотрим распределения по доям среди услуг"
   ]
  },
  {
   "cell_type": "code",
   "execution_count": 18,
   "metadata": {
    "scrolled": false
   },
   "outputs": [
    {
     "data": {
      "image/png": "[encoded data removed]",
      "text/plain": [
       "<Figure size 1440x504 with 8 Axes>"
      ]
     },
     "metadata": {},
     "output_type": "display_data"
    }
   ],
   "source": [
    "internet_servicel_vc = internet['InternetService'].value_counts()\n",
    "online_security_vc = internet['OnlineSecurity'].value_counts()\n",
    "online_backup_vc = internet['OnlineBackup'].value_counts()\n",
    "device_protection_vc = internet['DeviceProtection'].value_counts() #\t\t\n",
    "tech_support_vc = internet['TechSupport'].value_counts()\n",
    "streaming_tv_vc = internet['StreamingTV'].value_counts()\n",
    "streaming_movies_vc = internet['StreamingMovies'].value_counts()\n",
    "\n",
    "fig, ax = plt.subplots(2,4, figsize=(20,7))\n",
    "\n",
    "ax[0,0].pie(internet_servicel_vc.values, labels=internet_servicel_vc.index, autopct='%1.1f%%', radius=1.25, colors=[ 'turquoise', 'lightgreen'])\n",
    "ax[0,1].pie(online_security_vc.values, labels='online_security_'+online_security_vc.index, autopct='%1.1f%%', radius=1.5)\n",
    "\n",
    "ax[1,0].pie(online_backup_vc.values, labels='online_backup_'+online_backup_vc.index, autopct='%1.1f%%', radius=1.5)\n",
    "ax[1,1].pie(device_protection_vc.values, labels='device_protection_'+device_protection_vc.index, autopct='%1.1f%%', radius=1.25, colors=[ 'turquoise', 'lightgreen'])\n",
    "\n",
    "ax[0,2].pie(tech_support_vc.values, labels='tech_support_'+tech_support_vc.index, autopct='%1.1f%%', radius=1.25, colors=[ 'turquoise', 'lightgreen'])\n",
    "ax[1,2].pie(streaming_tv_vc.values, labels='streaming_tv_'+streaming_tv_vc.index, autopct='%1.1f%%', radius=1.5)\n",
    "\n",
    "ax[0,3].pie(streaming_movies_vc.values, labels='streaming_movies_'+streaming_movies_vc.index, autopct='%1.1f%%', radius=1.5)\n",
    "ax[1,3].pie(streaming_movies_vc.values, labels='streaming_movies_'+streaming_movies_vc.index, autopct='%1.1f%%', radius=1.25, colors=[ 'turquoise', 'lightgreen'])\n",
    "\n",
    "plt.show()"
   ]
  },
  {
   "cell_type": "markdown",
   "metadata": {},
   "source": [
    "Услугами безопасности и техподдержки большая часть пользователей пренебрегает"
   ]
  },
  {
   "cell_type": "code",
   "execution_count": 19,
   "metadata": {},
   "outputs": [
    {
     "name": "stdout",
     "output_type": "stream",
     "text": [
      "<class 'pandas.core.frame.DataFrame'>\n",
      "RangeIndex: 6361 entries, 0 to 6360\n",
      "Data columns (total 2 columns):\n",
      " #   Column         Non-Null Count  Dtype \n",
      "---  ------         --------------  ----- \n",
      " 0   customerID     6361 non-null   object\n",
      " 1   MultipleLines  6361 non-null   object\n",
      "dtypes: object(2)\n",
      "memory usage: 99.5+ KB\n"
     ]
    },
    {
     "data": {
      "text/plain": [
       "'Сводная информация:'"
      ]
     },
     "metadata": {},
     "output_type": "display_data"
    },
    {
     "data": {
      "text/plain": [
       "None"
      ]
     },
     "metadata": {},
     "output_type": "display_data"
    },
    {
     "data": {
      "text/plain": [
       "'10 строк:'"
      ]
     },
     "metadata": {},
     "output_type": "display_data"
    },
    {
     "data": {
      "text/html": [
       "<div>\n",
       "<style scoped>\n",
       "    .dataframe tbody tr th:only-of-type {\n",
       "        vertical-align: middle;\n",
       "    }\n",
       "\n",
       "    .dataframe tbody tr th {\n",
       "        vertical-align: top;\n",
       "    }\n",
       "\n",
       "    .dataframe thead th {\n",
       "        text-align: right;\n",
       "    }\n",
       "</style>\n",
       "<table border=\"1\" class=\"dataframe\">\n",
       "  <thead>\n",
       "    <tr style=\"text-align: right;\">\n",
       "      <th></th>\n",
       "      <th>customerID</th>\n",
       "      <th>MultipleLines</th>\n",
       "    </tr>\n",
       "  </thead>\n",
       "  <tbody>\n",
       "    <tr>\n",
       "      <th>0</th>\n",
       "      <td>5575-GNVDE</td>\n",
       "      <td>No</td>\n",
       "    </tr>\n",
       "    <tr>\n",
       "      <th>1</th>\n",
       "      <td>3668-QPYBK</td>\n",
       "      <td>No</td>\n",
       "    </tr>\n",
       "    <tr>\n",
       "      <th>2</th>\n",
       "      <td>9237-HQITU</td>\n",
       "      <td>No</td>\n",
       "    </tr>\n",
       "    <tr>\n",
       "      <th>3</th>\n",
       "      <td>9305-CDSKC</td>\n",
       "      <td>Yes</td>\n",
       "    </tr>\n",
       "    <tr>\n",
       "      <th>4</th>\n",
       "      <td>1452-KIOVK</td>\n",
       "      <td>Yes</td>\n",
       "    </tr>\n",
       "    <tr>\n",
       "      <th>5</th>\n",
       "      <td>7892-POOKP</td>\n",
       "      <td>Yes</td>\n",
       "    </tr>\n",
       "    <tr>\n",
       "      <th>6</th>\n",
       "      <td>6388-TABGU</td>\n",
       "      <td>No</td>\n",
       "    </tr>\n",
       "    <tr>\n",
       "      <th>7</th>\n",
       "      <td>9763-GRSKD</td>\n",
       "      <td>No</td>\n",
       "    </tr>\n",
       "    <tr>\n",
       "      <th>8</th>\n",
       "      <td>7469-LKBCI</td>\n",
       "      <td>No</td>\n",
       "    </tr>\n",
       "    <tr>\n",
       "      <th>9</th>\n",
       "      <td>8091-TTVAX</td>\n",
       "      <td>Yes</td>\n",
       "    </tr>\n",
       "  </tbody>\n",
       "</table>\n",
       "</div>"
      ],
      "text/plain": [
       "   customerID MultipleLines\n",
       "0  5575-GNVDE            No\n",
       "1  3668-QPYBK            No\n",
       "2  9237-HQITU            No\n",
       "3  9305-CDSKC           Yes\n",
       "4  1452-KIOVK           Yes\n",
       "5  7892-POOKP           Yes\n",
       "6  6388-TABGU            No\n",
       "7  9763-GRSKD            No\n",
       "8  7469-LKBCI            No\n",
       "9  8091-TTVAX           Yes"
      ]
     },
     "metadata": {},
     "output_type": "display_data"
    },
    {
     "data": {
      "text/plain": [
       "'Столбцы:'"
      ]
     },
     "metadata": {},
     "output_type": "display_data"
    },
    {
     "data": {
      "text/plain": [
       "Index(['customerID', 'MultipleLines'], dtype='object')"
      ]
     },
     "metadata": {},
     "output_type": "display_data"
    },
    {
     "data": {
      "text/plain": [
       "'Числовое описание:'"
      ]
     },
     "metadata": {},
     "output_type": "display_data"
    },
    {
     "data": {
      "text/html": [
       "<div>\n",
       "<style scoped>\n",
       "    .dataframe tbody tr th:only-of-type {\n",
       "        vertical-align: middle;\n",
       "    }\n",
       "\n",
       "    .dataframe tbody tr th {\n",
       "        vertical-align: top;\n",
       "    }\n",
       "\n",
       "    .dataframe thead th {\n",
       "        text-align: right;\n",
       "    }\n",
       "</style>\n",
       "<table border=\"1\" class=\"dataframe\">\n",
       "  <thead>\n",
       "    <tr style=\"text-align: right;\">\n",
       "      <th></th>\n",
       "      <th>customerID</th>\n",
       "      <th>MultipleLines</th>\n",
       "    </tr>\n",
       "  </thead>\n",
       "  <tbody>\n",
       "    <tr>\n",
       "      <th>count</th>\n",
       "      <td>6361</td>\n",
       "      <td>6361</td>\n",
       "    </tr>\n",
       "    <tr>\n",
       "      <th>unique</th>\n",
       "      <td>6361</td>\n",
       "      <td>2</td>\n",
       "    </tr>\n",
       "    <tr>\n",
       "      <th>top</th>\n",
       "      <td>5384-ZTTWP</td>\n",
       "      <td>No</td>\n",
       "    </tr>\n",
       "    <tr>\n",
       "      <th>freq</th>\n",
       "      <td>1</td>\n",
       "      <td>3390</td>\n",
       "    </tr>\n",
       "  </tbody>\n",
       "</table>\n",
       "</div>"
      ],
      "text/plain": [
       "        customerID MultipleLines\n",
       "count         6361          6361\n",
       "unique        6361             2\n",
       "top     5384-ZTTWP            No\n",
       "freq             1          3390"
      ]
     },
     "metadata": {},
     "output_type": "display_data"
    },
    {
     "data": {
      "text/plain": [
       "'Сумма пропусков:'"
      ]
     },
     "metadata": {},
     "output_type": "display_data"
    },
    {
     "data": {
      "text/plain": [
       "customerID       0\n",
       "MultipleLines    0\n",
       "dtype: int64"
      ]
     },
     "metadata": {},
     "output_type": "display_data"
    },
    {
     "data": {
      "text/plain": [
       "'Доля пропусков:'"
      ]
     },
     "metadata": {},
     "output_type": "display_data"
    },
    {
     "data": {
      "text/plain": [
       "customerID       0.0\n",
       "MultipleLines    0.0\n",
       "dtype: float64"
      ]
     },
     "metadata": {},
     "output_type": "display_data"
    },
    {
     "data": {
      "text/plain": [
       "'Явные дубликаты:'"
      ]
     },
     "metadata": {},
     "output_type": "display_data"
    },
    {
     "data": {
      "text/plain": [
       "0"
      ]
     },
     "metadata": {},
     "output_type": "display_data"
    }
   ],
   "source": [
    "explore_data(phone)"
   ]
  },
  {
   "cell_type": "code",
   "execution_count": 20,
   "metadata": {
    "scrolled": true
   },
   "outputs": [
    {
     "data": {
      "text/plain": [
       "<AxesSubplot:xlabel='MultipleLines', ylabel='count'>"
      ]
     },
     "execution_count": 20,
     "metadata": {},
     "output_type": "execute_result"
    },
    {
     "data": {
      "image/png": "[encoded data removed]",
      "text/plain": [
       "<Figure size 432x288 with 1 Axes>"
      ]
     },
     "metadata": {
      "needs_background": "light"
     },
     "output_type": "display_data"
    }
   ],
   "source": [
    "sns.countplot(x='MultipleLines', data=phone, hue='MultipleLines')"
   ]
  },
  {
   "cell_type": "markdown",
   "metadata": {},
   "source": [
    "Пропусков и явных дубликатов нет. Количество строк в таблице меньше, чем в `contract` и `personal`. Почти половина клиентов пользуется услугами конференц связи"
   ]
  },
  {
   "cell_type": "markdown",
   "metadata": {},
   "source": [
    "### Вывод\n",
    "* По состоянию на 1 февраля 2020 Оператор потерял 26.5% клиентсой базы. Клиенты начали уходить в 4 квартала 2019 года \n",
    "* Большая часть ушедших клиентов платила в диапазоне 70 - 110, в то же время у действующих клиентов максимум наблюдается до 25\n",
    "* Доля группы допенсионного возраста значительно превышает долю пенсионеров, аналогичная ситуация с наличием иждевенцов. Скорее всего группы с меньшими долями реже меняют оператора. Необходимо проверить, учитывая факт перехода к другому оператору\n",
    "* Услугами безопасности и техподдержки большая часть пользователей пренебрегает, стриминговыми сервисами пользуется около половины клиентов\n",
    "* Почти половина клиентов пользуется услугами конференц связи\n",
    "\n",
    " Во всех таблицах пропусков и явных дубликатов не обнаружено, в таблицах `internet` и `phone` колтчество строк меньше, чем в `contract` и `personal` - частью услуг клиенты не пользуются , для дальнейшего проведения  EDA необходимо:\n",
    " <br>\n",
    "* Выполнить Замену типов данных - TotalCharges необходимо перевести в float и заменить пустые строки , BeginDate и EndDate перевести в дату\n",
    "* Выполнить Обработку пропусков после объединения данных\n",
    "* проверить наличие дубликатов после объединения\n",
    "* проверить наличие выбросов в числовых данных\n",
    "* Выполнить Кодирование категориальных признаков\n",
    "* Дополнительные расчеты - на основе EndDate создать target признак, можно расчитать средний срок ухода клиента,  выделить года и месяцы, что бы определитьналичие закономерности ухода клиентов\n",
    "* Выпонлнить Объединение данных без потери данных"
   ]
  },
  {
   "cell_type": "markdown",
   "metadata": {},
   "source": [
    "<a id=\"preprocessing\"></a>\n",
    "## Предобработка данных"
   ]
  },
  {
   "cell_type": "markdown",
   "metadata": {},
   "source": [
    "<a id=\"concat\"></a>\n",
    "### Объединение данных"
   ]
  },
  {
   "cell_type": "code",
   "execution_count": 21,
   "metadata": {
    "scrolled": true
   },
   "outputs": [
    {
     "data": {
      "text/plain": [
       "(7043, 20)"
      ]
     },
     "execution_count": 21,
     "metadata": {},
     "output_type": "execute_result"
    }
   ],
   "source": [
    "clients = contract.merge(personal, on='customerID', how='left').merge(internet, on='customerID', how='left').merge(phone, on='customerID', how='left')\n",
    "clients.shape"
   ]
  },
  {
   "cell_type": "code",
   "execution_count": 22,
   "metadata": {
    "scrolled": true
   },
   "outputs": [
    {
     "name": "stdout",
     "output_type": "stream",
     "text": [
      "<class 'pandas.core.frame.DataFrame'>\n",
      "Int64Index: 7043 entries, 0 to 7042\n",
      "Data columns (total 20 columns):\n",
      " #   Column            Non-Null Count  Dtype  \n",
      "---  ------            --------------  -----  \n",
      " 0   customerID        7043 non-null   object \n",
      " 1   BeginDate         7043 non-null   object \n",
      " 2   EndDate           7043 non-null   object \n",
      " 3   Type              7043 non-null   object \n",
      " 4   PaperlessBilling  7043 non-null   object \n",
      " 5   PaymentMethod     7043 non-null   object \n",
      " 6   MonthlyCharges    7043 non-null   float64\n",
      " 7   TotalCharges      7032 non-null   float64\n",
      " 8   gender            7043 non-null   object \n",
      " 9   SeniorCitizen     7043 non-null   int64  \n",
      " 10  Partner           7043 non-null   object \n",
      " 11  Dependents        7043 non-null   object \n",
      " 12  InternetService   5517 non-null   object \n",
      " 13  OnlineSecurity    5517 non-null   object \n",
      " 14  OnlineBackup      5517 non-null   object \n",
      " 15  DeviceProtection  5517 non-null   object \n",
      " 16  TechSupport       5517 non-null   object \n",
      " 17  StreamingTV       5517 non-null   object \n",
      " 18  StreamingMovies   5517 non-null   object \n",
      " 19  MultipleLines     6361 non-null   object \n",
      "dtypes: float64(2), int64(1), object(17)\n",
      "memory usage: 1.1+ MB\n"
     ]
    },
    {
     "data": {
      "text/plain": [
       "'Сводная информация:'"
      ]
     },
     "metadata": {},
     "output_type": "display_data"
    },
    {
     "data": {
      "text/plain": [
       "None"
      ]
     },
     "metadata": {},
     "output_type": "display_data"
    },
    {
     "data": {
      "text/plain": [
       "'10 строк:'"
      ]
     },
     "metadata": {},
     "output_type": "display_data"
    },
    {
     "data": {
      "text/html": [
       "<div>\n",
       "<style scoped>\n",
       "    .dataframe tbody tr th:only-of-type {\n",
       "        vertical-align: middle;\n",
       "    }\n",
       "\n",
       "    .dataframe tbody tr th {\n",
       "        vertical-align: top;\n",
       "    }\n",
       "\n",
       "    .dataframe thead th {\n",
       "        text-align: right;\n",
       "    }\n",
       "</style>\n",
       "<table border=\"1\" class=\"dataframe\">\n",
       "  <thead>\n",
       "    <tr style=\"text-align: right;\">\n",
       "      <th></th>\n",
       "      <th>customerID</th>\n",
       "      <th>BeginDate</th>\n",
       "      <th>EndDate</th>\n",
       "      <th>Type</th>\n",
       "      <th>PaperlessBilling</th>\n",
       "      <th>PaymentMethod</th>\n",
       "      <th>MonthlyCharges</th>\n",
       "      <th>TotalCharges</th>\n",
       "      <th>gender</th>\n",
       "      <th>SeniorCitizen</th>\n",
       "      <th>Partner</th>\n",
       "      <th>Dependents</th>\n",
       "      <th>InternetService</th>\n",
       "      <th>OnlineSecurity</th>\n",
       "      <th>OnlineBackup</th>\n",
       "      <th>DeviceProtection</th>\n",
       "      <th>TechSupport</th>\n",
       "      <th>StreamingTV</th>\n",
       "      <th>StreamingMovies</th>\n",
       "      <th>MultipleLines</th>\n",
       "    </tr>\n",
       "  </thead>\n",
       "  <tbody>\n",
       "    <tr>\n",
       "      <th>0</th>\n",
       "      <td>7590-VHVEG</td>\n",
       "      <td>2020-01-01</td>\n",
       "      <td>No</td>\n",
       "      <td>Month-to-month</td>\n",
       "      <td>Yes</td>\n",
       "      <td>Electronic check</td>\n",
       "      <td>29.85</td>\n",
       "      <td>29.85</td>\n",
       "      <td>Female</td>\n",
       "      <td>0</td>\n",
       "      <td>Yes</td>\n",
       "      <td>No</td>\n",
       "      <td>DSL</td>\n",
       "      <td>No</td>\n",
       "      <td>Yes</td>\n",
       "      <td>No</td>\n",
       "      <td>No</td>\n",
       "      <td>No</td>\n",
       "      <td>No</td>\n",
       "      <td>NaN</td>\n",
       "    </tr>\n",
       "    <tr>\n",
       "      <th>1</th>\n",
       "      <td>5575-GNVDE</td>\n",
       "      <td>2017-04-01</td>\n",
       "      <td>No</td>\n",
       "      <td>One year</td>\n",
       "      <td>No</td>\n",
       "      <td>Mailed check</td>\n",
       "      <td>56.95</td>\n",
       "      <td>1889.50</td>\n",
       "      <td>Male</td>\n",
       "      <td>0</td>\n",
       "      <td>No</td>\n",
       "      <td>No</td>\n",
       "      <td>DSL</td>\n",
       "      <td>Yes</td>\n",
       "      <td>No</td>\n",
       "      <td>Yes</td>\n",
       "      <td>No</td>\n",
       "      <td>No</td>\n",
       "      <td>No</td>\n",
       "      <td>No</td>\n",
       "    </tr>\n",
       "    <tr>\n",
       "      <th>2</th>\n",
       "      <td>3668-QPYBK</td>\n",
       "      <td>2019-10-01</td>\n",
       "      <td>2019-12-01 00:00:00</td>\n",
       "      <td>Month-to-month</td>\n",
       "      <td>Yes</td>\n",
       "      <td>Mailed check</td>\n",
       "      <td>53.85</td>\n",
       "      <td>108.15</td>\n",
       "      <td>Male</td>\n",
       "      <td>0</td>\n",
       "      <td>No</td>\n",
       "      <td>No</td>\n",
       "      <td>DSL</td>\n",
       "      <td>Yes</td>\n",
       "      <td>Yes</td>\n",
       "      <td>No</td>\n",
       "      <td>No</td>\n",
       "      <td>No</td>\n",
       "      <td>No</td>\n",
       "      <td>No</td>\n",
       "    </tr>\n",
       "    <tr>\n",
       "      <th>3</th>\n",
       "      <td>7795-CFOCW</td>\n",
       "      <td>2016-05-01</td>\n",
       "      <td>No</td>\n",
       "      <td>One year</td>\n",
       "      <td>No</td>\n",
       "      <td>Bank transfer (automatic)</td>\n",
       "      <td>42.30</td>\n",
       "      <td>1840.75</td>\n",
       "      <td>Male</td>\n",
       "      <td>0</td>\n",
       "      <td>No</td>\n",
       "      <td>No</td>\n",
       "      <td>DSL</td>\n",
       "      <td>Yes</td>\n",
       "      <td>No</td>\n",
       "      <td>Yes</td>\n",
       "      <td>Yes</td>\n",
       "      <td>No</td>\n",
       "      <td>No</td>\n",
       "      <td>NaN</td>\n",
       "    </tr>\n",
       "    <tr>\n",
       "      <th>4</th>\n",
       "      <td>9237-HQITU</td>\n",
       "      <td>2019-09-01</td>\n",
       "      <td>2019-11-01 00:00:00</td>\n",
       "      <td>Month-to-month</td>\n",
       "      <td>Yes</td>\n",
       "      <td>Electronic check</td>\n",
       "      <td>70.70</td>\n",
       "      <td>151.65</td>\n",
       "      <td>Female</td>\n",
       "      <td>0</td>\n",
       "      <td>No</td>\n",
       "      <td>No</td>\n",
       "      <td>Fiber optic</td>\n",
       "      <td>No</td>\n",
       "      <td>No</td>\n",
       "      <td>No</td>\n",
       "      <td>No</td>\n",
       "      <td>No</td>\n",
       "      <td>No</td>\n",
       "      <td>No</td>\n",
       "    </tr>\n",
       "    <tr>\n",
       "      <th>5</th>\n",
       "      <td>9305-CDSKC</td>\n",
       "      <td>2019-03-01</td>\n",
       "      <td>2019-11-01 00:00:00</td>\n",
       "      <td>Month-to-month</td>\n",
       "      <td>Yes</td>\n",
       "      <td>Electronic check</td>\n",
       "      <td>99.65</td>\n",
       "      <td>820.50</td>\n",
       "      <td>Female</td>\n",
       "      <td>0</td>\n",
       "      <td>No</td>\n",
       "      <td>No</td>\n",
       "      <td>Fiber optic</td>\n",
       "      <td>No</td>\n",
       "      <td>No</td>\n",
       "      <td>Yes</td>\n",
       "      <td>No</td>\n",
       "      <td>Yes</td>\n",
       "      <td>Yes</td>\n",
       "      <td>Yes</td>\n",
       "    </tr>\n",
       "    <tr>\n",
       "      <th>6</th>\n",
       "      <td>1452-KIOVK</td>\n",
       "      <td>2018-04-01</td>\n",
       "      <td>No</td>\n",
       "      <td>Month-to-month</td>\n",
       "      <td>Yes</td>\n",
       "      <td>Credit card (automatic)</td>\n",
       "      <td>89.10</td>\n",
       "      <td>1949.40</td>\n",
       "      <td>Male</td>\n",
       "      <td>0</td>\n",
       "      <td>No</td>\n",
       "      <td>Yes</td>\n",
       "      <td>Fiber optic</td>\n",
       "      <td>No</td>\n",
       "      <td>Yes</td>\n",
       "      <td>No</td>\n",
       "      <td>No</td>\n",
       "      <td>Yes</td>\n",
       "      <td>No</td>\n",
       "      <td>Yes</td>\n",
       "    </tr>\n",
       "    <tr>\n",
       "      <th>7</th>\n",
       "      <td>6713-OKOMC</td>\n",
       "      <td>2019-04-01</td>\n",
       "      <td>No</td>\n",
       "      <td>Month-to-month</td>\n",
       "      <td>No</td>\n",
       "      <td>Mailed check</td>\n",
       "      <td>29.75</td>\n",
       "      <td>301.90</td>\n",
       "      <td>Female</td>\n",
       "      <td>0</td>\n",
       "      <td>No</td>\n",
       "      <td>No</td>\n",
       "      <td>DSL</td>\n",
       "      <td>Yes</td>\n",
       "      <td>No</td>\n",
       "      <td>No</td>\n",
       "      <td>No</td>\n",
       "      <td>No</td>\n",
       "      <td>No</td>\n",
       "      <td>NaN</td>\n",
       "    </tr>\n",
       "    <tr>\n",
       "      <th>8</th>\n",
       "      <td>7892-POOKP</td>\n",
       "      <td>2017-07-01</td>\n",
       "      <td>2019-11-01 00:00:00</td>\n",
       "      <td>Month-to-month</td>\n",
       "      <td>Yes</td>\n",
       "      <td>Electronic check</td>\n",
       "      <td>104.80</td>\n",
       "      <td>3046.05</td>\n",
       "      <td>Female</td>\n",
       "      <td>0</td>\n",
       "      <td>Yes</td>\n",
       "      <td>No</td>\n",
       "      <td>Fiber optic</td>\n",
       "      <td>No</td>\n",
       "      <td>No</td>\n",
       "      <td>Yes</td>\n",
       "      <td>Yes</td>\n",
       "      <td>Yes</td>\n",
       "      <td>Yes</td>\n",
       "      <td>Yes</td>\n",
       "    </tr>\n",
       "    <tr>\n",
       "      <th>9</th>\n",
       "      <td>6388-TABGU</td>\n",
       "      <td>2014-12-01</td>\n",
       "      <td>No</td>\n",
       "      <td>One year</td>\n",
       "      <td>No</td>\n",
       "      <td>Bank transfer (automatic)</td>\n",
       "      <td>56.15</td>\n",
       "      <td>3487.95</td>\n",
       "      <td>Male</td>\n",
       "      <td>0</td>\n",
       "      <td>No</td>\n",
       "      <td>Yes</td>\n",
       "      <td>DSL</td>\n",
       "      <td>Yes</td>\n",
       "      <td>Yes</td>\n",
       "      <td>No</td>\n",
       "      <td>No</td>\n",
       "      <td>No</td>\n",
       "      <td>No</td>\n",
       "      <td>No</td>\n",
       "    </tr>\n",
       "  </tbody>\n",
       "</table>\n",
       "</div>"
      ],
      "text/plain": [
       "   customerID   BeginDate              EndDate            Type  \\\n",
       "0  7590-VHVEG  2020-01-01                   No  Month-to-month   \n",
       "1  5575-GNVDE  2017-04-01                   No        One year   \n",
       "2  3668-QPYBK  2019-10-01  2019-12-01 00:00:00  Month-to-month   \n",
       "3  7795-CFOCW  2016-05-01                   No        One year   \n",
       "4  9237-HQITU  2019-09-01  2019-11-01 00:00:00  Month-to-month   \n",
       "5  9305-CDSKC  2019-03-01  2019-11-01 00:00:00  Month-to-month   \n",
       "6  1452-KIOVK  2018-04-01                   No  Month-to-month   \n",
       "7  6713-OKOMC  2019-04-01                   No  Month-to-month   \n",
       "8  7892-POOKP  2017-07-01  2019-11-01 00:00:00  Month-to-month   \n",
       "9  6388-TABGU  2014-12-01                   No        One year   \n",
       "\n",
       "  PaperlessBilling              PaymentMethod  MonthlyCharges  TotalCharges  \\\n",
       "0              Yes           Electronic check           29.85         29.85   \n",
       "1               No               Mailed check           56.95       1889.50   \n",
       "2              Yes               Mailed check           53.85        108.15   \n",
       "3               No  Bank transfer (automatic)           42.30       1840.75   \n",
       "4              Yes           Electronic check           70.70        151.65   \n",
       "5              Yes           Electronic check           99.65        820.50   \n",
       "6              Yes    Credit card (automatic)           89.10       1949.40   \n",
       "7               No               Mailed check           29.75        301.90   \n",
       "8              Yes           Electronic check          104.80       3046.05   \n",
       "9               No  Bank transfer (automatic)           56.15       3487.95   \n",
       "\n",
       "   gender  SeniorCitizen Partner Dependents InternetService OnlineSecurity  \\\n",
       "0  Female              0     Yes         No             DSL             No   \n",
       "1    Male              0      No         No             DSL            Yes   \n",
       "2    Male              0      No         No             DSL            Yes   \n",
       "3    Male              0      No         No             DSL            Yes   \n",
       "4  Female              0      No         No     Fiber optic             No   \n",
       "5  Female              0      No         No     Fiber optic             No   \n",
       "6    Male              0      No        Yes     Fiber optic             No   \n",
       "7  Female              0      No         No             DSL            Yes   \n",
       "8  Female              0     Yes         No     Fiber optic             No   \n",
       "9    Male              0      No        Yes             DSL            Yes   \n",
       "\n",
       "  OnlineBackup DeviceProtection TechSupport StreamingTV StreamingMovies  \\\n",
       "0          Yes               No          No          No              No   \n",
       "1           No              Yes          No          No              No   \n",
       "2          Yes               No          No          No              No   \n",
       "3           No              Yes         Yes          No              No   \n",
       "4           No               No          No          No              No   \n",
       "5           No              Yes          No         Yes             Yes   \n",
       "6          Yes               No          No         Yes              No   \n",
       "7           No               No          No          No              No   \n",
       "8           No              Yes         Yes         Yes             Yes   \n",
       "9          Yes               No          No          No              No   \n",
       "\n",
       "  MultipleLines  \n",
       "0           NaN  \n",
       "1            No  \n",
       "2            No  \n",
       "3           NaN  \n",
       "4            No  \n",
       "5           Yes  \n",
       "6           Yes  \n",
       "7           NaN  \n",
       "8           Yes  \n",
       "9            No  "
      ]
     },
     "metadata": {},
     "output_type": "display_data"
    },
    {
     "data": {
      "text/plain": [
       "'Столбцы:'"
      ]
     },
     "metadata": {},
     "output_type": "display_data"
    },
    {
     "data": {
      "text/plain": [
       "Index(['customerID', 'BeginDate', 'EndDate', 'Type', 'PaperlessBilling',\n",
       "       'PaymentMethod', 'MonthlyCharges', 'TotalCharges', 'gender',\n",
       "       'SeniorCitizen', 'Partner', 'Dependents', 'InternetService',\n",
       "       'OnlineSecurity', 'OnlineBackup', 'DeviceProtection', 'TechSupport',\n",
       "       'StreamingTV', 'StreamingMovies', 'MultipleLines'],\n",
       "      dtype='object')"
      ]
     },
     "metadata": {},
     "output_type": "display_data"
    },
    {
     "data": {
      "text/plain": [
       "'Числовое описание:'"
      ]
     },
     "metadata": {},
     "output_type": "display_data"
    },
    {
     "data": {
      "text/html": [
       "<div>\n",
       "<style scoped>\n",
       "    .dataframe tbody tr th:only-of-type {\n",
       "        vertical-align: middle;\n",
       "    }\n",
       "\n",
       "    .dataframe tbody tr th {\n",
       "        vertical-align: top;\n",
       "    }\n",
       "\n",
       "    .dataframe thead th {\n",
       "        text-align: right;\n",
       "    }\n",
       "</style>\n",
       "<table border=\"1\" class=\"dataframe\">\n",
       "  <thead>\n",
       "    <tr style=\"text-align: right;\">\n",
       "      <th></th>\n",
       "      <th>MonthlyCharges</th>\n",
       "      <th>TotalCharges</th>\n",
       "      <th>SeniorCitizen</th>\n",
       "    </tr>\n",
       "  </thead>\n",
       "  <tbody>\n",
       "    <tr>\n",
       "      <th>count</th>\n",
       "      <td>7043.000000</td>\n",
       "      <td>7032.000000</td>\n",
       "      <td>7043.000000</td>\n",
       "    </tr>\n",
       "    <tr>\n",
       "      <th>mean</th>\n",
       "      <td>64.761692</td>\n",
       "      <td>2283.300441</td>\n",
       "      <td>0.162147</td>\n",
       "    </tr>\n",
       "    <tr>\n",
       "      <th>std</th>\n",
       "      <td>30.090047</td>\n",
       "      <td>2266.771362</td>\n",
       "      <td>0.368612</td>\n",
       "    </tr>\n",
       "    <tr>\n",
       "      <th>min</th>\n",
       "      <td>18.250000</td>\n",
       "      <td>18.800000</td>\n",
       "      <td>0.000000</td>\n",
       "    </tr>\n",
       "    <tr>\n",
       "      <th>25%</th>\n",
       "      <td>35.500000</td>\n",
       "      <td>401.450000</td>\n",
       "      <td>0.000000</td>\n",
       "    </tr>\n",
       "    <tr>\n",
       "      <th>50%</th>\n",
       "      <td>70.350000</td>\n",
       "      <td>1397.475000</td>\n",
       "      <td>0.000000</td>\n",
       "    </tr>\n",
       "    <tr>\n",
       "      <th>75%</th>\n",
       "      <td>89.850000</td>\n",
       "      <td>3794.737500</td>\n",
       "      <td>0.000000</td>\n",
       "    </tr>\n",
       "    <tr>\n",
       "      <th>max</th>\n",
       "      <td>118.750000</td>\n",
       "      <td>8684.800000</td>\n",
       "      <td>1.000000</td>\n",
       "    </tr>\n",
       "  </tbody>\n",
       "</table>\n",
       "</div>"
      ],
      "text/plain": [
       "       MonthlyCharges  TotalCharges  SeniorCitizen\n",
       "count     7043.000000   7032.000000    7043.000000\n",
       "mean        64.761692   2283.300441       0.162147\n",
       "std         30.090047   2266.771362       0.368612\n",
       "min         18.250000     18.800000       0.000000\n",
       "25%         35.500000    401.450000       0.000000\n",
       "50%         70.350000   1397.475000       0.000000\n",
       "75%         89.850000   3794.737500       0.000000\n",
       "max        118.750000   8684.800000       1.000000"
      ]
     },
     "metadata": {},
     "output_type": "display_data"
    },
    {
     "data": {
      "text/plain": [
       "'Сумма пропусков:'"
      ]
     },
     "metadata": {},
     "output_type": "display_data"
    },
    {
     "data": {
      "text/plain": [
       "customerID             0\n",
       "BeginDate              0\n",
       "EndDate                0\n",
       "Type                   0\n",
       "PaperlessBilling       0\n",
       "PaymentMethod          0\n",
       "MonthlyCharges         0\n",
       "TotalCharges          11\n",
       "gender                 0\n",
       "SeniorCitizen          0\n",
       "Partner                0\n",
       "Dependents             0\n",
       "InternetService     1526\n",
       "OnlineSecurity      1526\n",
       "OnlineBackup        1526\n",
       "DeviceProtection    1526\n",
       "TechSupport         1526\n",
       "StreamingTV         1526\n",
       "StreamingMovies     1526\n",
       "MultipleLines        682\n",
       "dtype: int64"
      ]
     },
     "metadata": {},
     "output_type": "display_data"
    },
    {
     "data": {
      "text/plain": [
       "'Доля пропусков:'"
      ]
     },
     "metadata": {},
     "output_type": "display_data"
    },
    {
     "data": {
      "text/plain": [
       "customerID          0.000000\n",
       "BeginDate           0.000000\n",
       "EndDate             0.000000\n",
       "Type                0.000000\n",
       "PaperlessBilling    0.000000\n",
       "PaymentMethod       0.000000\n",
       "MonthlyCharges      0.000000\n",
       "TotalCharges        0.001562\n",
       "gender              0.000000\n",
       "SeniorCitizen       0.000000\n",
       "Partner             0.000000\n",
       "Dependents          0.000000\n",
       "InternetService     0.216669\n",
       "OnlineSecurity      0.216669\n",
       "OnlineBackup        0.216669\n",
       "DeviceProtection    0.216669\n",
       "TechSupport         0.216669\n",
       "StreamingTV         0.216669\n",
       "StreamingMovies     0.216669\n",
       "MultipleLines       0.096834\n",
       "dtype: float64"
      ]
     },
     "metadata": {},
     "output_type": "display_data"
    },
    {
     "data": {
      "text/plain": [
       "'Явные дубликаты:'"
      ]
     },
     "metadata": {},
     "output_type": "display_data"
    },
    {
     "data": {
      "text/plain": [
       "0"
      ]
     },
     "metadata": {},
     "output_type": "display_data"
    }
   ],
   "source": [
    "explore_data(clients)"
   ]
  },
  {
   "cell_type": "markdown",
   "metadata": {},
   "source": [
    "<a id=\"type\"></a>\n",
    "### Замена типов данных"
   ]
  },
  {
   "cell_type": "code",
   "execution_count": 23,
   "metadata": {},
   "outputs": [],
   "source": [
    "clients.BeginDate = pd.to_datetime(clients['BeginDate'], format='%Y-%m-%d')\n",
    "clients.EndDate = pd.to_datetime(pd.to_datetime(clients['EndDate'], format='%Y-%m-%d %H:%M:%S', errors='coerce').dt.date)"
   ]
  },
  {
   "cell_type": "code",
   "execution_count": null,
   "metadata": {},
   "outputs": [],
   "source": []
  },
  {
   "cell_type": "markdown",
   "metadata": {},
   "source": [
    "<a id=\"nan\"></a>\n",
    "### Обработка пропусков и дубликатов"
   ]
  },
  {
   "cell_type": "code",
   "execution_count": 24,
   "metadata": {
    "scrolled": false
   },
   "outputs": [
    {
     "data": {
      "text/html": [
       "<div>\n",
       "<style scoped>\n",
       "    .dataframe tbody tr th:only-of-type {\n",
       "        vertical-align: middle;\n",
       "    }\n",
       "\n",
       "    .dataframe tbody tr th {\n",
       "        vertical-align: top;\n",
       "    }\n",
       "\n",
       "    .dataframe thead th {\n",
       "        text-align: right;\n",
       "    }\n",
       "</style>\n",
       "<table border=\"1\" class=\"dataframe\">\n",
       "  <thead>\n",
       "    <tr style=\"text-align: right;\">\n",
       "      <th></th>\n",
       "      <th>customerID</th>\n",
       "      <th>BeginDate</th>\n",
       "      <th>EndDate</th>\n",
       "      <th>Type</th>\n",
       "      <th>PaperlessBilling</th>\n",
       "      <th>PaymentMethod</th>\n",
       "      <th>MonthlyCharges</th>\n",
       "      <th>TotalCharges</th>\n",
       "      <th>gender</th>\n",
       "      <th>SeniorCitizen</th>\n",
       "      <th>Partner</th>\n",
       "      <th>Dependents</th>\n",
       "      <th>InternetService</th>\n",
       "      <th>OnlineSecurity</th>\n",
       "      <th>OnlineBackup</th>\n",
       "      <th>DeviceProtection</th>\n",
       "      <th>TechSupport</th>\n",
       "      <th>StreamingTV</th>\n",
       "      <th>StreamingMovies</th>\n",
       "      <th>MultipleLines</th>\n",
       "    </tr>\n",
       "  </thead>\n",
       "  <tbody>\n",
       "    <tr>\n",
       "      <th>488</th>\n",
       "      <td>4472-LVYGI</td>\n",
       "      <td>2020-02-01</td>\n",
       "      <td>NaT</td>\n",
       "      <td>Two year</td>\n",
       "      <td>Yes</td>\n",
       "      <td>Bank transfer (automatic)</td>\n",
       "      <td>52.55</td>\n",
       "      <td>NaN</td>\n",
       "      <td>Female</td>\n",
       "      <td>0</td>\n",
       "      <td>Yes</td>\n",
       "      <td>Yes</td>\n",
       "      <td>DSL</td>\n",
       "      <td>Yes</td>\n",
       "      <td>No</td>\n",
       "      <td>Yes</td>\n",
       "      <td>Yes</td>\n",
       "      <td>Yes</td>\n",
       "      <td>No</td>\n",
       "      <td>NaN</td>\n",
       "    </tr>\n",
       "    <tr>\n",
       "      <th>753</th>\n",
       "      <td>3115-CZMZD</td>\n",
       "      <td>2020-02-01</td>\n",
       "      <td>NaT</td>\n",
       "      <td>Two year</td>\n",
       "      <td>No</td>\n",
       "      <td>Mailed check</td>\n",
       "      <td>20.25</td>\n",
       "      <td>NaN</td>\n",
       "      <td>Male</td>\n",
       "      <td>0</td>\n",
       "      <td>No</td>\n",
       "      <td>Yes</td>\n",
       "      <td>NaN</td>\n",
       "      <td>NaN</td>\n",
       "      <td>NaN</td>\n",
       "      <td>NaN</td>\n",
       "      <td>NaN</td>\n",
       "      <td>NaN</td>\n",
       "      <td>NaN</td>\n",
       "      <td>No</td>\n",
       "    </tr>\n",
       "    <tr>\n",
       "      <th>936</th>\n",
       "      <td>5709-LVOEQ</td>\n",
       "      <td>2020-02-01</td>\n",
       "      <td>NaT</td>\n",
       "      <td>Two year</td>\n",
       "      <td>No</td>\n",
       "      <td>Mailed check</td>\n",
       "      <td>80.85</td>\n",
       "      <td>NaN</td>\n",
       "      <td>Female</td>\n",
       "      <td>0</td>\n",
       "      <td>Yes</td>\n",
       "      <td>Yes</td>\n",
       "      <td>DSL</td>\n",
       "      <td>Yes</td>\n",
       "      <td>Yes</td>\n",
       "      <td>Yes</td>\n",
       "      <td>No</td>\n",
       "      <td>Yes</td>\n",
       "      <td>Yes</td>\n",
       "      <td>No</td>\n",
       "    </tr>\n",
       "    <tr>\n",
       "      <th>1082</th>\n",
       "      <td>4367-NUYAO</td>\n",
       "      <td>2020-02-01</td>\n",
       "      <td>NaT</td>\n",
       "      <td>Two year</td>\n",
       "      <td>No</td>\n",
       "      <td>Mailed check</td>\n",
       "      <td>25.75</td>\n",
       "      <td>NaN</td>\n",
       "      <td>Male</td>\n",
       "      <td>0</td>\n",
       "      <td>Yes</td>\n",
       "      <td>Yes</td>\n",
       "      <td>NaN</td>\n",
       "      <td>NaN</td>\n",
       "      <td>NaN</td>\n",
       "      <td>NaN</td>\n",
       "      <td>NaN</td>\n",
       "      <td>NaN</td>\n",
       "      <td>NaN</td>\n",
       "      <td>Yes</td>\n",
       "    </tr>\n",
       "    <tr>\n",
       "      <th>1340</th>\n",
       "      <td>1371-DWPAZ</td>\n",
       "      <td>2020-02-01</td>\n",
       "      <td>NaT</td>\n",
       "      <td>Two year</td>\n",
       "      <td>No</td>\n",
       "      <td>Credit card (automatic)</td>\n",
       "      <td>56.05</td>\n",
       "      <td>NaN</td>\n",
       "      <td>Female</td>\n",
       "      <td>0</td>\n",
       "      <td>Yes</td>\n",
       "      <td>Yes</td>\n",
       "      <td>DSL</td>\n",
       "      <td>Yes</td>\n",
       "      <td>Yes</td>\n",
       "      <td>Yes</td>\n",
       "      <td>Yes</td>\n",
       "      <td>Yes</td>\n",
       "      <td>No</td>\n",
       "      <td>NaN</td>\n",
       "    </tr>\n",
       "    <tr>\n",
       "      <th>3331</th>\n",
       "      <td>7644-OMVMY</td>\n",
       "      <td>2020-02-01</td>\n",
       "      <td>NaT</td>\n",
       "      <td>Two year</td>\n",
       "      <td>No</td>\n",
       "      <td>Mailed check</td>\n",
       "      <td>19.85</td>\n",
       "      <td>NaN</td>\n",
       "      <td>Male</td>\n",
       "      <td>0</td>\n",
       "      <td>Yes</td>\n",
       "      <td>Yes</td>\n",
       "      <td>NaN</td>\n",
       "      <td>NaN</td>\n",
       "      <td>NaN</td>\n",
       "      <td>NaN</td>\n",
       "      <td>NaN</td>\n",
       "      <td>NaN</td>\n",
       "      <td>NaN</td>\n",
       "      <td>No</td>\n",
       "    </tr>\n",
       "    <tr>\n",
       "      <th>3826</th>\n",
       "      <td>3213-VVOLG</td>\n",
       "      <td>2020-02-01</td>\n",
       "      <td>NaT</td>\n",
       "      <td>Two year</td>\n",
       "      <td>No</td>\n",
       "      <td>Mailed check</td>\n",
       "      <td>25.35</td>\n",
       "      <td>NaN</td>\n",
       "      <td>Male</td>\n",
       "      <td>0</td>\n",
       "      <td>Yes</td>\n",
       "      <td>Yes</td>\n",
       "      <td>NaN</td>\n",
       "      <td>NaN</td>\n",
       "      <td>NaN</td>\n",
       "      <td>NaN</td>\n",
       "      <td>NaN</td>\n",
       "      <td>NaN</td>\n",
       "      <td>NaN</td>\n",
       "      <td>Yes</td>\n",
       "    </tr>\n",
       "    <tr>\n",
       "      <th>4380</th>\n",
       "      <td>2520-SGTTA</td>\n",
       "      <td>2020-02-01</td>\n",
       "      <td>NaT</td>\n",
       "      <td>Two year</td>\n",
       "      <td>No</td>\n",
       "      <td>Mailed check</td>\n",
       "      <td>20.00</td>\n",
       "      <td>NaN</td>\n",
       "      <td>Female</td>\n",
       "      <td>0</td>\n",
       "      <td>Yes</td>\n",
       "      <td>Yes</td>\n",
       "      <td>NaN</td>\n",
       "      <td>NaN</td>\n",
       "      <td>NaN</td>\n",
       "      <td>NaN</td>\n",
       "      <td>NaN</td>\n",
       "      <td>NaN</td>\n",
       "      <td>NaN</td>\n",
       "      <td>No</td>\n",
       "    </tr>\n",
       "    <tr>\n",
       "      <th>5218</th>\n",
       "      <td>2923-ARZLG</td>\n",
       "      <td>2020-02-01</td>\n",
       "      <td>NaT</td>\n",
       "      <td>One year</td>\n",
       "      <td>Yes</td>\n",
       "      <td>Mailed check</td>\n",
       "      <td>19.70</td>\n",
       "      <td>NaN</td>\n",
       "      <td>Male</td>\n",
       "      <td>0</td>\n",
       "      <td>Yes</td>\n",
       "      <td>Yes</td>\n",
       "      <td>NaN</td>\n",
       "      <td>NaN</td>\n",
       "      <td>NaN</td>\n",
       "      <td>NaN</td>\n",
       "      <td>NaN</td>\n",
       "      <td>NaN</td>\n",
       "      <td>NaN</td>\n",
       "      <td>No</td>\n",
       "    </tr>\n",
       "    <tr>\n",
       "      <th>6670</th>\n",
       "      <td>4075-WKNIU</td>\n",
       "      <td>2020-02-01</td>\n",
       "      <td>NaT</td>\n",
       "      <td>Two year</td>\n",
       "      <td>No</td>\n",
       "      <td>Mailed check</td>\n",
       "      <td>73.35</td>\n",
       "      <td>NaN</td>\n",
       "      <td>Female</td>\n",
       "      <td>0</td>\n",
       "      <td>Yes</td>\n",
       "      <td>Yes</td>\n",
       "      <td>DSL</td>\n",
       "      <td>No</td>\n",
       "      <td>Yes</td>\n",
       "      <td>Yes</td>\n",
       "      <td>Yes</td>\n",
       "      <td>Yes</td>\n",
       "      <td>No</td>\n",
       "      <td>Yes</td>\n",
       "    </tr>\n",
       "    <tr>\n",
       "      <th>6754</th>\n",
       "      <td>2775-SEFEE</td>\n",
       "      <td>2020-02-01</td>\n",
       "      <td>NaT</td>\n",
       "      <td>Two year</td>\n",
       "      <td>Yes</td>\n",
       "      <td>Bank transfer (automatic)</td>\n",
       "      <td>61.90</td>\n",
       "      <td>NaN</td>\n",
       "      <td>Male</td>\n",
       "      <td>0</td>\n",
       "      <td>No</td>\n",
       "      <td>Yes</td>\n",
       "      <td>DSL</td>\n",
       "      <td>Yes</td>\n",
       "      <td>Yes</td>\n",
       "      <td>No</td>\n",
       "      <td>Yes</td>\n",
       "      <td>No</td>\n",
       "      <td>No</td>\n",
       "      <td>Yes</td>\n",
       "    </tr>\n",
       "  </tbody>\n",
       "</table>\n",
       "</div>"
      ],
      "text/plain": [
       "      customerID  BeginDate EndDate      Type PaperlessBilling  \\\n",
       "488   4472-LVYGI 2020-02-01     NaT  Two year              Yes   \n",
       "753   3115-CZMZD 2020-02-01     NaT  Two year               No   \n",
       "936   5709-LVOEQ 2020-02-01     NaT  Two year               No   \n",
       "1082  4367-NUYAO 2020-02-01     NaT  Two year               No   \n",
       "1340  1371-DWPAZ 2020-02-01     NaT  Two year               No   \n",
       "3331  7644-OMVMY 2020-02-01     NaT  Two year               No   \n",
       "3826  3213-VVOLG 2020-02-01     NaT  Two year               No   \n",
       "4380  2520-SGTTA 2020-02-01     NaT  Two year               No   \n",
       "5218  2923-ARZLG 2020-02-01     NaT  One year              Yes   \n",
       "6670  4075-WKNIU 2020-02-01     NaT  Two year               No   \n",
       "6754  2775-SEFEE 2020-02-01     NaT  Two year              Yes   \n",
       "\n",
       "                  PaymentMethod  MonthlyCharges  TotalCharges  gender  \\\n",
       "488   Bank transfer (automatic)           52.55           NaN  Female   \n",
       "753                Mailed check           20.25           NaN    Male   \n",
       "936                Mailed check           80.85           NaN  Female   \n",
       "1082               Mailed check           25.75           NaN    Male   \n",
       "1340    Credit card (automatic)           56.05           NaN  Female   \n",
       "3331               Mailed check           19.85           NaN    Male   \n",
       "3826               Mailed check           25.35           NaN    Male   \n",
       "4380               Mailed check           20.00           NaN  Female   \n",
       "5218               Mailed check           19.70           NaN    Male   \n",
       "6670               Mailed check           73.35           NaN  Female   \n",
       "6754  Bank transfer (automatic)           61.90           NaN    Male   \n",
       "\n",
       "      SeniorCitizen Partner Dependents InternetService OnlineSecurity  \\\n",
       "488               0     Yes        Yes             DSL            Yes   \n",
       "753               0      No        Yes             NaN            NaN   \n",
       "936               0     Yes        Yes             DSL            Yes   \n",
       "1082              0     Yes        Yes             NaN            NaN   \n",
       "1340              0     Yes        Yes             DSL            Yes   \n",
       "3331              0     Yes        Yes             NaN            NaN   \n",
       "3826              0     Yes        Yes             NaN            NaN   \n",
       "4380              0     Yes        Yes             NaN            NaN   \n",
       "5218              0     Yes        Yes             NaN            NaN   \n",
       "6670              0     Yes        Yes             DSL             No   \n",
       "6754              0      No        Yes             DSL            Yes   \n",
       "\n",
       "     OnlineBackup DeviceProtection TechSupport StreamingTV StreamingMovies  \\\n",
       "488            No              Yes         Yes         Yes              No   \n",
       "753           NaN              NaN         NaN         NaN             NaN   \n",
       "936           Yes              Yes          No         Yes             Yes   \n",
       "1082          NaN              NaN         NaN         NaN             NaN   \n",
       "1340          Yes              Yes         Yes         Yes              No   \n",
       "3331          NaN              NaN         NaN         NaN             NaN   \n",
       "3826          NaN              NaN         NaN         NaN             NaN   \n",
       "4380          NaN              NaN         NaN         NaN             NaN   \n",
       "5218          NaN              NaN         NaN         NaN             NaN   \n",
       "6670          Yes              Yes         Yes         Yes              No   \n",
       "6754          Yes               No         Yes          No              No   \n",
       "\n",
       "     MultipleLines  \n",
       "488            NaN  \n",
       "753             No  \n",
       "936             No  \n",
       "1082           Yes  \n",
       "1340           NaN  \n",
       "3331            No  \n",
       "3826           Yes  \n",
       "4380            No  \n",
       "5218            No  \n",
       "6670           Yes  \n",
       "6754           Yes  "
      ]
     },
     "execution_count": 24,
     "metadata": {},
     "output_type": "execute_result"
    }
   ],
   "source": [
    "clients[clients.TotalCharges.isna() == True]"
   ]
  },
  {
   "cell_type": "code",
   "execution_count": 25,
   "metadata": {
    "scrolled": false
   },
   "outputs": [
    {
     "data": {
      "text/plain": [
       "True"
      ]
     },
     "execution_count": 25,
     "metadata": {},
     "output_type": "execute_result"
    }
   ],
   "source": [
    "set(clients[clients.BeginDate == '2020-02-01'].customerID) == set(clients[clients.TotalCharges.isna() == True].customerID)"
   ]
  },
  {
   "cell_type": "markdown",
   "metadata": {},
   "source": [
    "Пустые строки толь у тех пользователей, которые появились в феврале, поэтому пропуски можно заменить на сумму месячного платежа"
   ]
  },
  {
   "cell_type": "code",
   "execution_count": 26,
   "metadata": {},
   "outputs": [],
   "source": [
    "clients.loc[clients.TotalCharges.isna() == True, 'TotalCharges'] = clients[clients.TotalCharges.isna() == True].MonthlyCharges"
   ]
  },
  {
   "cell_type": "code",
   "execution_count": 27,
   "metadata": {
    "scrolled": true
   },
   "outputs": [
    {
     "data": {
      "text/plain": [
       "(0, 20)"
      ]
     },
     "execution_count": 27,
     "metadata": {},
     "output_type": "execute_result"
    }
   ],
   "source": [
    "clients[clients.TotalCharges.isna() == True].shape"
   ]
  },
  {
   "cell_type": "markdown",
   "metadata": {},
   "source": [
    "Пропуски в EndDate заменим на дату выгрузки данных '2020-02-01'"
   ]
  },
  {
   "cell_type": "code",
   "execution_count": 28,
   "metadata": {},
   "outputs": [],
   "source": [
    "clients.EndDate = clients.EndDate.fillna(pd.to_datetime('2020-02-01'))"
   ]
  },
  {
   "cell_type": "code",
   "execution_count": 29,
   "metadata": {
    "scrolled": true
   },
   "outputs": [
    {
     "name": "stdout",
     "output_type": "stream",
     "text": [
      "<class 'pandas.core.frame.DataFrame'>\n",
      "Int64Index: 7043 entries, 0 to 7042\n",
      "Data columns (total 2 columns):\n",
      " #   Column     Non-Null Count  Dtype         \n",
      "---  ------     --------------  -----         \n",
      " 0   EndDate    7043 non-null   datetime64[ns]\n",
      " 1   BeginDate  7043 non-null   datetime64[ns]\n",
      "dtypes: datetime64[ns](2)\n",
      "memory usage: 165.1 KB\n"
     ]
    }
   ],
   "source": [
    "clients[['EndDate', 'BeginDate']].info()"
   ]
  },
  {
   "cell_type": "markdown",
   "metadata": {},
   "source": [
    "Пропуски в 'InternetService' заменим на No, т.к пользователь просто не использует услугу"
   ]
  },
  {
   "cell_type": "code",
   "execution_count": 30,
   "metadata": {
    "scrolled": false
   },
   "outputs": [
    {
     "data": {
      "text/plain": [
       "customerID          0.0\n",
       "BeginDate           0.0\n",
       "EndDate             0.0\n",
       "Type                0.0\n",
       "PaperlessBilling    0.0\n",
       "PaymentMethod       0.0\n",
       "MonthlyCharges      0.0\n",
       "TotalCharges        0.0\n",
       "gender              0.0\n",
       "SeniorCitizen       0.0\n",
       "Partner             0.0\n",
       "Dependents          0.0\n",
       "InternetService     0.0\n",
       "OnlineSecurity      0.0\n",
       "OnlineBackup        0.0\n",
       "DeviceProtection    0.0\n",
       "TechSupport         0.0\n",
       "StreamingTV         0.0\n",
       "StreamingMovies     0.0\n",
       "MultipleLines       0.0\n",
       "dtype: float64"
      ]
     },
     "execution_count": 30,
     "metadata": {},
     "output_type": "execute_result"
    }
   ],
   "source": [
    "clients.loc[:, 'InternetService'::] = clients.loc[:, 'InternetService'::].fillna('No')\n",
    "clients.isna().mean()"
   ]
  },
  {
   "cell_type": "markdown",
   "metadata": {},
   "source": [
    "<a id=\"adds\"></a>\n",
    "### Создание дополнительных признаков"
   ]
  },
  {
   "cell_type": "markdown",
   "metadata": {},
   "source": [
    "Создадим новый признак - время жизни клиента"
   ]
  },
  {
   "cell_type": "code",
   "execution_count": 31,
   "metadata": {
    "scrolled": false
   },
   "outputs": [],
   "source": [
    "clients['duration'] = (clients.EndDate - clients.BeginDate).dt.days"
   ]
  },
  {
   "cell_type": "code",
   "execution_count": 32,
   "metadata": {
    "scrolled": false
   },
   "outputs": [
    {
     "data": {
      "text/plain": [
       "count    5174.000000\n",
       "mean     1144.447236\n",
       "std       733.897937\n",
       "min         0.000000\n",
       "25%       457.000000\n",
       "50%      1157.000000\n",
       "75%      1857.000000\n",
       "max      2191.000000\n",
       "Name: duration, dtype: float64"
      ]
     },
     "execution_count": 32,
     "metadata": {},
     "output_type": "execute_result"
    }
   ],
   "source": [
    "clients[clients.EndDate == '2020-02-01'].duration.describe()"
   ]
  },
  {
   "cell_type": "code",
   "execution_count": 33,
   "metadata": {},
   "outputs": [
    {
     "data": {
      "text/plain": [
       "1157.0"
      ]
     },
     "execution_count": 33,
     "metadata": {},
     "output_type": "execute_result"
    }
   ],
   "source": [
    "clients[clients.EndDate == '2020-02-01'].duration.median()"
   ]
  },
  {
   "cell_type": "code",
   "execution_count": 34,
   "metadata": {
    "scrolled": false
   },
   "outputs": [
    {
     "data": {
      "text/plain": [
       "count    1869.000000\n",
       "mean      547.352060\n",
       "std       594.389607\n",
       "min        30.000000\n",
       "25%        61.000000\n",
       "50%       304.000000\n",
       "75%       883.000000\n",
       "max      2191.000000\n",
       "Name: duration, dtype: float64"
      ]
     },
     "execution_count": 34,
     "metadata": {},
     "output_type": "execute_result"
    }
   ],
   "source": [
    "clients[clients.EndDate != '2020-02-01'].duration.describe()"
   ]
  },
  {
   "cell_type": "markdown",
   "metadata": {},
   "source": [
    "среднее время жизни клиента у ушедших пользователей выше практически в три раза"
   ]
  },
  {
   "cell_type": "markdown",
   "metadata": {},
   "source": [
    "Создадим новые признаки прользователе - 'use_internet' и 'use_phone' - пользуются ли пользователи интернетем и мобильной связью"
   ]
  },
  {
   "cell_type": "code",
   "execution_count": 35,
   "metadata": {},
   "outputs": [],
   "source": [
    "clients['use_internet'] = (clients['InternetService'] != 'No').astype(int)"
   ]
  },
  {
   "cell_type": "code",
   "execution_count": 36,
   "metadata": {},
   "outputs": [],
   "source": [
    "clients['use_phone'] = clients.customerID.isin(phone.customerID).astype(int)"
   ]
  },
  {
   "cell_type": "code",
   "execution_count": 37,
   "metadata": {
    "scrolled": true
   },
   "outputs": [
    {
     "data": {
      "text/html": [
       "<div>\n",
       "<style scoped>\n",
       "    .dataframe tbody tr th:only-of-type {\n",
       "        vertical-align: middle;\n",
       "    }\n",
       "\n",
       "    .dataframe tbody tr th {\n",
       "        vertical-align: top;\n",
       "    }\n",
       "\n",
       "    .dataframe thead th {\n",
       "        text-align: right;\n",
       "    }\n",
       "</style>\n",
       "<table border=\"1\" class=\"dataframe\">\n",
       "  <thead>\n",
       "    <tr style=\"text-align: right;\">\n",
       "      <th></th>\n",
       "      <th>customerID</th>\n",
       "      <th>BeginDate</th>\n",
       "      <th>EndDate</th>\n",
       "      <th>Type</th>\n",
       "      <th>PaperlessBilling</th>\n",
       "      <th>PaymentMethod</th>\n",
       "      <th>MonthlyCharges</th>\n",
       "      <th>TotalCharges</th>\n",
       "      <th>gender</th>\n",
       "      <th>SeniorCitizen</th>\n",
       "      <th>...</th>\n",
       "      <th>OnlineSecurity</th>\n",
       "      <th>OnlineBackup</th>\n",
       "      <th>DeviceProtection</th>\n",
       "      <th>TechSupport</th>\n",
       "      <th>StreamingTV</th>\n",
       "      <th>StreamingMovies</th>\n",
       "      <th>MultipleLines</th>\n",
       "      <th>duration</th>\n",
       "      <th>use_internet</th>\n",
       "      <th>use_phone</th>\n",
       "    </tr>\n",
       "  </thead>\n",
       "  <tbody>\n",
       "    <tr>\n",
       "      <th>0</th>\n",
       "      <td>7590-VHVEG</td>\n",
       "      <td>2020-01-01</td>\n",
       "      <td>2020-02-01</td>\n",
       "      <td>Month-to-month</td>\n",
       "      <td>Yes</td>\n",
       "      <td>Electronic check</td>\n",
       "      <td>29.85</td>\n",
       "      <td>29.85</td>\n",
       "      <td>Female</td>\n",
       "      <td>0</td>\n",
       "      <td>...</td>\n",
       "      <td>No</td>\n",
       "      <td>Yes</td>\n",
       "      <td>No</td>\n",
       "      <td>No</td>\n",
       "      <td>No</td>\n",
       "      <td>No</td>\n",
       "      <td>No</td>\n",
       "      <td>31</td>\n",
       "      <td>1</td>\n",
       "      <td>0</td>\n",
       "    </tr>\n",
       "    <tr>\n",
       "      <th>1</th>\n",
       "      <td>5575-GNVDE</td>\n",
       "      <td>2017-04-01</td>\n",
       "      <td>2020-02-01</td>\n",
       "      <td>One year</td>\n",
       "      <td>No</td>\n",
       "      <td>Mailed check</td>\n",
       "      <td>56.95</td>\n",
       "      <td>1889.50</td>\n",
       "      <td>Male</td>\n",
       "      <td>0</td>\n",
       "      <td>...</td>\n",
       "      <td>Yes</td>\n",
       "      <td>No</td>\n",
       "      <td>Yes</td>\n",
       "      <td>No</td>\n",
       "      <td>No</td>\n",
       "      <td>No</td>\n",
       "      <td>No</td>\n",
       "      <td>1036</td>\n",
       "      <td>1</td>\n",
       "      <td>1</td>\n",
       "    </tr>\n",
       "    <tr>\n",
       "      <th>2</th>\n",
       "      <td>3668-QPYBK</td>\n",
       "      <td>2019-10-01</td>\n",
       "      <td>2019-12-01</td>\n",
       "      <td>Month-to-month</td>\n",
       "      <td>Yes</td>\n",
       "      <td>Mailed check</td>\n",
       "      <td>53.85</td>\n",
       "      <td>108.15</td>\n",
       "      <td>Male</td>\n",
       "      <td>0</td>\n",
       "      <td>...</td>\n",
       "      <td>Yes</td>\n",
       "      <td>Yes</td>\n",
       "      <td>No</td>\n",
       "      <td>No</td>\n",
       "      <td>No</td>\n",
       "      <td>No</td>\n",
       "      <td>No</td>\n",
       "      <td>61</td>\n",
       "      <td>1</td>\n",
       "      <td>1</td>\n",
       "    </tr>\n",
       "    <tr>\n",
       "      <th>3</th>\n",
       "      <td>7795-CFOCW</td>\n",
       "      <td>2016-05-01</td>\n",
       "      <td>2020-02-01</td>\n",
       "      <td>One year</td>\n",
       "      <td>No</td>\n",
       "      <td>Bank transfer (automatic)</td>\n",
       "      <td>42.30</td>\n",
       "      <td>1840.75</td>\n",
       "      <td>Male</td>\n",
       "      <td>0</td>\n",
       "      <td>...</td>\n",
       "      <td>Yes</td>\n",
       "      <td>No</td>\n",
       "      <td>Yes</td>\n",
       "      <td>Yes</td>\n",
       "      <td>No</td>\n",
       "      <td>No</td>\n",
       "      <td>No</td>\n",
       "      <td>1371</td>\n",
       "      <td>1</td>\n",
       "      <td>0</td>\n",
       "    </tr>\n",
       "    <tr>\n",
       "      <th>4</th>\n",
       "      <td>9237-HQITU</td>\n",
       "      <td>2019-09-01</td>\n",
       "      <td>2019-11-01</td>\n",
       "      <td>Month-to-month</td>\n",
       "      <td>Yes</td>\n",
       "      <td>Electronic check</td>\n",
       "      <td>70.70</td>\n",
       "      <td>151.65</td>\n",
       "      <td>Female</td>\n",
       "      <td>0</td>\n",
       "      <td>...</td>\n",
       "      <td>No</td>\n",
       "      <td>No</td>\n",
       "      <td>No</td>\n",
       "      <td>No</td>\n",
       "      <td>No</td>\n",
       "      <td>No</td>\n",
       "      <td>No</td>\n",
       "      <td>61</td>\n",
       "      <td>1</td>\n",
       "      <td>1</td>\n",
       "    </tr>\n",
       "  </tbody>\n",
       "</table>\n",
       "<p>5 rows × 23 columns</p>\n",
       "</div>"
      ],
      "text/plain": [
       "   customerID  BeginDate    EndDate            Type PaperlessBilling  \\\n",
       "0  7590-VHVEG 2020-01-01 2020-02-01  Month-to-month              Yes   \n",
       "1  5575-GNVDE 2017-04-01 2020-02-01        One year               No   \n",
       "2  3668-QPYBK 2019-10-01 2019-12-01  Month-to-month              Yes   \n",
       "3  7795-CFOCW 2016-05-01 2020-02-01        One year               No   \n",
       "4  9237-HQITU 2019-09-01 2019-11-01  Month-to-month              Yes   \n",
       "\n",
       "               PaymentMethod  MonthlyCharges  TotalCharges  gender  \\\n",
       "0           Electronic check           29.85         29.85  Female   \n",
       "1               Mailed check           56.95       1889.50    Male   \n",
       "2               Mailed check           53.85        108.15    Male   \n",
       "3  Bank transfer (automatic)           42.30       1840.75    Male   \n",
       "4           Electronic check           70.70        151.65  Female   \n",
       "\n",
       "   SeniorCitizen  ... OnlineSecurity OnlineBackup DeviceProtection  \\\n",
       "0              0  ...             No          Yes               No   \n",
       "1              0  ...            Yes           No              Yes   \n",
       "2              0  ...            Yes          Yes               No   \n",
       "3              0  ...            Yes           No              Yes   \n",
       "4              0  ...             No           No               No   \n",
       "\n",
       "  TechSupport StreamingTV StreamingMovies MultipleLines duration use_internet  \\\n",
       "0          No          No              No            No       31            1   \n",
       "1          No          No              No            No     1036            1   \n",
       "2          No          No              No            No       61            1   \n",
       "3         Yes          No              No            No     1371            1   \n",
       "4          No          No              No            No       61            1   \n",
       "\n",
       "  use_phone  \n",
       "0         0  \n",
       "1         1  \n",
       "2         1  \n",
       "3         0  \n",
       "4         1  \n",
       "\n",
       "[5 rows x 23 columns]"
      ]
     },
     "execution_count": 37,
     "metadata": {},
     "output_type": "execute_result"
    }
   ],
   "source": [
    "clients.head()"
   ]
  },
  {
   "cell_type": "markdown",
   "metadata": {},
   "source": [
    "<a id=\"outliers\"></a>\n",
    "### Очистка от выбросов"
   ]
  },
  {
   "cell_type": "markdown",
   "metadata": {},
   "source": [
    "во время ИАД не было выявлено выбросов, пункт нерелевантен"
   ]
  },
  {
   "cell_type": "markdown",
   "metadata": {},
   "source": [
    "<a id=\"ohe\"></a>\n",
    "### Кодирование категориальных признаков\n"
   ]
  },
  {
   "cell_type": "code",
   "execution_count": 38,
   "metadata": {
    "scrolled": true
   },
   "outputs": [
    {
     "data": {
      "text/plain": [
       "Index(['customerID', 'BeginDate', 'EndDate', 'Type', 'PaperlessBilling',\n",
       "       'PaymentMethod', 'MonthlyCharges', 'TotalCharges', 'gender',\n",
       "       'SeniorCitizen', 'Partner', 'Dependents', 'InternetService',\n",
       "       'OnlineSecurity', 'OnlineBackup', 'DeviceProtection', 'TechSupport',\n",
       "       'StreamingTV', 'StreamingMovies', 'MultipleLines', 'duration',\n",
       "       'use_internet', 'use_phone'],\n",
       "      dtype='object')"
      ]
     },
     "execution_count": 38,
     "metadata": {},
     "output_type": "execute_result"
    }
   ],
   "source": [
    "clients.columns"
   ]
  },
  {
   "cell_type": "markdown",
   "metadata": {},
   "source": [
    "Столбцы, в которых значения только yes/no закодируем  как 1/0"
   ]
  },
  {
   "cell_type": "code",
   "execution_count": 39,
   "metadata": {},
   "outputs": [
    {
     "data": {
      "text/plain": [
       "0            DSL\n",
       "1            DSL\n",
       "2            DSL\n",
       "3            DSL\n",
       "4    Fiber optic\n",
       "5    Fiber optic\n",
       "6    Fiber optic\n",
       "7            DSL\n",
       "8    Fiber optic\n",
       "9            DSL\n",
       "Name: InternetService, dtype: object"
      ]
     },
     "execution_count": 39,
     "metadata": {},
     "output_type": "execute_result"
    }
   ],
   "source": [
    "clients.InternetService.head(10)"
   ]
  },
  {
   "cell_type": "code",
   "execution_count": 40,
   "metadata": {},
   "outputs": [],
   "source": [
    "cat_columns = ['PaperlessBilling', 'gender', 'Partner', 'Dependents',\n",
    "       'OnlineSecurity', 'OnlineBackup', 'DeviceProtection', 'TechSupport', 'StreamingTV',\n",
    "        'StreamingMovies', 'MultipleLines']\n",
    "encoder = OrdinalEncoder()\n",
    "clients[cat_columns] = pd.DataFrame(encoder.fit_transform(clients[cat_columns]))"
   ]
  },
  {
   "cell_type": "markdown",
   "metadata": {},
   "source": [
    "Категориальные признаки закодируем с помощью OHE"
   ]
  },
  {
   "cell_type": "code",
   "execution_count": 41,
   "metadata": {},
   "outputs": [],
   "source": [
    "\n",
    "cats=['Type', 'PaymentMethod']\n",
    "clients = pd.get_dummies(clients, columns=['Type', 'PaymentMethod'], drop_first=True)\n"
   ]
  },
  {
   "cell_type": "code",
   "execution_count": 42,
   "metadata": {
    "scrolled": true
   },
   "outputs": [
    {
     "data": {
      "text/html": [
       "<div>\n",
       "<style scoped>\n",
       "    .dataframe tbody tr th:only-of-type {\n",
       "        vertical-align: middle;\n",
       "    }\n",
       "\n",
       "    .dataframe tbody tr th {\n",
       "        vertical-align: top;\n",
       "    }\n",
       "\n",
       "    .dataframe thead th {\n",
       "        text-align: right;\n",
       "    }\n",
       "</style>\n",
       "<table border=\"1\" class=\"dataframe\">\n",
       "  <thead>\n",
       "    <tr style=\"text-align: right;\">\n",
       "      <th></th>\n",
       "      <th>customerID</th>\n",
       "      <th>BeginDate</th>\n",
       "      <th>EndDate</th>\n",
       "      <th>PaperlessBilling</th>\n",
       "      <th>MonthlyCharges</th>\n",
       "      <th>TotalCharges</th>\n",
       "      <th>gender</th>\n",
       "      <th>SeniorCitizen</th>\n",
       "      <th>Partner</th>\n",
       "      <th>Dependents</th>\n",
       "      <th>...</th>\n",
       "      <th>StreamingMovies</th>\n",
       "      <th>MultipleLines</th>\n",
       "      <th>duration</th>\n",
       "      <th>use_internet</th>\n",
       "      <th>use_phone</th>\n",
       "      <th>Type_One year</th>\n",
       "      <th>Type_Two year</th>\n",
       "      <th>PaymentMethod_Credit card (automatic)</th>\n",
       "      <th>PaymentMethod_Electronic check</th>\n",
       "      <th>PaymentMethod_Mailed check</th>\n",
       "    </tr>\n",
       "  </thead>\n",
       "  <tbody>\n",
       "    <tr>\n",
       "      <th>0</th>\n",
       "      <td>7590-VHVEG</td>\n",
       "      <td>2020-01-01</td>\n",
       "      <td>2020-02-01</td>\n",
       "      <td>1.0</td>\n",
       "      <td>29.85</td>\n",
       "      <td>29.85</td>\n",
       "      <td>0.0</td>\n",
       "      <td>0</td>\n",
       "      <td>1.0</td>\n",
       "      <td>0.0</td>\n",
       "      <td>...</td>\n",
       "      <td>0.0</td>\n",
       "      <td>0.0</td>\n",
       "      <td>31</td>\n",
       "      <td>1</td>\n",
       "      <td>0</td>\n",
       "      <td>0</td>\n",
       "      <td>0</td>\n",
       "      <td>0</td>\n",
       "      <td>1</td>\n",
       "      <td>0</td>\n",
       "    </tr>\n",
       "    <tr>\n",
       "      <th>1</th>\n",
       "      <td>5575-GNVDE</td>\n",
       "      <td>2017-04-01</td>\n",
       "      <td>2020-02-01</td>\n",
       "      <td>0.0</td>\n",
       "      <td>56.95</td>\n",
       "      <td>1889.50</td>\n",
       "      <td>1.0</td>\n",
       "      <td>0</td>\n",
       "      <td>0.0</td>\n",
       "      <td>0.0</td>\n",
       "      <td>...</td>\n",
       "      <td>0.0</td>\n",
       "      <td>0.0</td>\n",
       "      <td>1036</td>\n",
       "      <td>1</td>\n",
       "      <td>1</td>\n",
       "      <td>1</td>\n",
       "      <td>0</td>\n",
       "      <td>0</td>\n",
       "      <td>0</td>\n",
       "      <td>1</td>\n",
       "    </tr>\n",
       "    <tr>\n",
       "      <th>2</th>\n",
       "      <td>3668-QPYBK</td>\n",
       "      <td>2019-10-01</td>\n",
       "      <td>2019-12-01</td>\n",
       "      <td>1.0</td>\n",
       "      <td>53.85</td>\n",
       "      <td>108.15</td>\n",
       "      <td>1.0</td>\n",
       "      <td>0</td>\n",
       "      <td>0.0</td>\n",
       "      <td>0.0</td>\n",
       "      <td>...</td>\n",
       "      <td>0.0</td>\n",
       "      <td>0.0</td>\n",
       "      <td>61</td>\n",
       "      <td>1</td>\n",
       "      <td>1</td>\n",
       "      <td>0</td>\n",
       "      <td>0</td>\n",
       "      <td>0</td>\n",
       "      <td>0</td>\n",
       "      <td>1</td>\n",
       "    </tr>\n",
       "    <tr>\n",
       "      <th>3</th>\n",
       "      <td>7795-CFOCW</td>\n",
       "      <td>2016-05-01</td>\n",
       "      <td>2020-02-01</td>\n",
       "      <td>0.0</td>\n",
       "      <td>42.30</td>\n",
       "      <td>1840.75</td>\n",
       "      <td>1.0</td>\n",
       "      <td>0</td>\n",
       "      <td>0.0</td>\n",
       "      <td>0.0</td>\n",
       "      <td>...</td>\n",
       "      <td>0.0</td>\n",
       "      <td>0.0</td>\n",
       "      <td>1371</td>\n",
       "      <td>1</td>\n",
       "      <td>0</td>\n",
       "      <td>1</td>\n",
       "      <td>0</td>\n",
       "      <td>0</td>\n",
       "      <td>0</td>\n",
       "      <td>0</td>\n",
       "    </tr>\n",
       "    <tr>\n",
       "      <th>4</th>\n",
       "      <td>9237-HQITU</td>\n",
       "      <td>2019-09-01</td>\n",
       "      <td>2019-11-01</td>\n",
       "      <td>1.0</td>\n",
       "      <td>70.70</td>\n",
       "      <td>151.65</td>\n",
       "      <td>0.0</td>\n",
       "      <td>0</td>\n",
       "      <td>0.0</td>\n",
       "      <td>0.0</td>\n",
       "      <td>...</td>\n",
       "      <td>0.0</td>\n",
       "      <td>0.0</td>\n",
       "      <td>61</td>\n",
       "      <td>1</td>\n",
       "      <td>1</td>\n",
       "      <td>0</td>\n",
       "      <td>0</td>\n",
       "      <td>0</td>\n",
       "      <td>1</td>\n",
       "      <td>0</td>\n",
       "    </tr>\n",
       "  </tbody>\n",
       "</table>\n",
       "<p>5 rows × 26 columns</p>\n",
       "</div>"
      ],
      "text/plain": [
       "   customerID  BeginDate    EndDate  PaperlessBilling  MonthlyCharges  \\\n",
       "0  7590-VHVEG 2020-01-01 2020-02-01               1.0           29.85   \n",
       "1  5575-GNVDE 2017-04-01 2020-02-01               0.0           56.95   \n",
       "2  3668-QPYBK 2019-10-01 2019-12-01               1.0           53.85   \n",
       "3  7795-CFOCW 2016-05-01 2020-02-01               0.0           42.30   \n",
       "4  9237-HQITU 2019-09-01 2019-11-01               1.0           70.70   \n",
       "\n",
       "   TotalCharges  gender  SeniorCitizen  Partner  Dependents  ...  \\\n",
       "0         29.85     0.0              0      1.0         0.0  ...   \n",
       "1       1889.50     1.0              0      0.0         0.0  ...   \n",
       "2        108.15     1.0              0      0.0         0.0  ...   \n",
       "3       1840.75     1.0              0      0.0         0.0  ...   \n",
       "4        151.65     0.0              0      0.0         0.0  ...   \n",
       "\n",
       "  StreamingMovies  MultipleLines  duration  use_internet  use_phone  \\\n",
       "0             0.0            0.0        31             1          0   \n",
       "1             0.0            0.0      1036             1          1   \n",
       "2             0.0            0.0        61             1          1   \n",
       "3             0.0            0.0      1371             1          0   \n",
       "4             0.0            0.0        61             1          1   \n",
       "\n",
       "   Type_One year  Type_Two year  PaymentMethod_Credit card (automatic)  \\\n",
       "0              0              0                                      0   \n",
       "1              1              0                                      0   \n",
       "2              0              0                                      0   \n",
       "3              1              0                                      0   \n",
       "4              0              0                                      0   \n",
       "\n",
       "   PaymentMethod_Electronic check  PaymentMethod_Mailed check  \n",
       "0                               1                           0  \n",
       "1                               0                           1  \n",
       "2                               0                           1  \n",
       "3                               0                           0  \n",
       "4                               1                           0  \n",
       "\n",
       "[5 rows x 26 columns]"
      ]
     },
     "execution_count": 42,
     "metadata": {},
     "output_type": "execute_result"
    }
   ],
   "source": [
    "clients.head()"
   ]
  },
  {
   "cell_type": "markdown",
   "metadata": {},
   "source": [
    "<a id=\"target\"></a>\n",
    "### Формирование target-признака\n"
   ]
  },
  {
   "cell_type": "code",
   "execution_count": 43,
   "metadata": {
    "scrolled": true
   },
   "outputs": [
    {
     "data": {
      "text/html": [
       "<div>\n",
       "<style scoped>\n",
       "    .dataframe tbody tr th:only-of-type {\n",
       "        vertical-align: middle;\n",
       "    }\n",
       "\n",
       "    .dataframe tbody tr th {\n",
       "        vertical-align: top;\n",
       "    }\n",
       "\n",
       "    .dataframe thead th {\n",
       "        text-align: right;\n",
       "    }\n",
       "</style>\n",
       "<table border=\"1\" class=\"dataframe\">\n",
       "  <thead>\n",
       "    <tr style=\"text-align: right;\">\n",
       "      <th></th>\n",
       "      <th>customerID</th>\n",
       "      <th>BeginDate</th>\n",
       "      <th>EndDate</th>\n",
       "      <th>PaperlessBilling</th>\n",
       "      <th>MonthlyCharges</th>\n",
       "      <th>TotalCharges</th>\n",
       "      <th>gender</th>\n",
       "      <th>SeniorCitizen</th>\n",
       "      <th>Partner</th>\n",
       "      <th>Dependents</th>\n",
       "      <th>...</th>\n",
       "      <th>MultipleLines</th>\n",
       "      <th>duration</th>\n",
       "      <th>use_internet</th>\n",
       "      <th>use_phone</th>\n",
       "      <th>Type_One year</th>\n",
       "      <th>Type_Two year</th>\n",
       "      <th>PaymentMethod_Credit card (automatic)</th>\n",
       "      <th>PaymentMethod_Electronic check</th>\n",
       "      <th>PaymentMethod_Mailed check</th>\n",
       "      <th>inactive</th>\n",
       "    </tr>\n",
       "  </thead>\n",
       "  <tbody>\n",
       "    <tr>\n",
       "      <th>0</th>\n",
       "      <td>7590-VHVEG</td>\n",
       "      <td>2020-01-01</td>\n",
       "      <td>2020-02-01</td>\n",
       "      <td>1.0</td>\n",
       "      <td>29.85</td>\n",
       "      <td>29.85</td>\n",
       "      <td>0.0</td>\n",
       "      <td>0</td>\n",
       "      <td>1.0</td>\n",
       "      <td>0.0</td>\n",
       "      <td>...</td>\n",
       "      <td>0.0</td>\n",
       "      <td>31</td>\n",
       "      <td>1</td>\n",
       "      <td>0</td>\n",
       "      <td>0</td>\n",
       "      <td>0</td>\n",
       "      <td>0</td>\n",
       "      <td>1</td>\n",
       "      <td>0</td>\n",
       "      <td>0</td>\n",
       "    </tr>\n",
       "    <tr>\n",
       "      <th>1</th>\n",
       "      <td>5575-GNVDE</td>\n",
       "      <td>2017-04-01</td>\n",
       "      <td>2020-02-01</td>\n",
       "      <td>0.0</td>\n",
       "      <td>56.95</td>\n",
       "      <td>1889.50</td>\n",
       "      <td>1.0</td>\n",
       "      <td>0</td>\n",
       "      <td>0.0</td>\n",
       "      <td>0.0</td>\n",
       "      <td>...</td>\n",
       "      <td>0.0</td>\n",
       "      <td>1036</td>\n",
       "      <td>1</td>\n",
       "      <td>1</td>\n",
       "      <td>1</td>\n",
       "      <td>0</td>\n",
       "      <td>0</td>\n",
       "      <td>0</td>\n",
       "      <td>1</td>\n",
       "      <td>0</td>\n",
       "    </tr>\n",
       "    <tr>\n",
       "      <th>2</th>\n",
       "      <td>3668-QPYBK</td>\n",
       "      <td>2019-10-01</td>\n",
       "      <td>2019-12-01</td>\n",
       "      <td>1.0</td>\n",
       "      <td>53.85</td>\n",
       "      <td>108.15</td>\n",
       "      <td>1.0</td>\n",
       "      <td>0</td>\n",
       "      <td>0.0</td>\n",
       "      <td>0.0</td>\n",
       "      <td>...</td>\n",
       "      <td>0.0</td>\n",
       "      <td>61</td>\n",
       "      <td>1</td>\n",
       "      <td>1</td>\n",
       "      <td>0</td>\n",
       "      <td>0</td>\n",
       "      <td>0</td>\n",
       "      <td>0</td>\n",
       "      <td>1</td>\n",
       "      <td>1</td>\n",
       "    </tr>\n",
       "    <tr>\n",
       "      <th>3</th>\n",
       "      <td>7795-CFOCW</td>\n",
       "      <td>2016-05-01</td>\n",
       "      <td>2020-02-01</td>\n",
       "      <td>0.0</td>\n",
       "      <td>42.30</td>\n",
       "      <td>1840.75</td>\n",
       "      <td>1.0</td>\n",
       "      <td>0</td>\n",
       "      <td>0.0</td>\n",
       "      <td>0.0</td>\n",
       "      <td>...</td>\n",
       "      <td>0.0</td>\n",
       "      <td>1371</td>\n",
       "      <td>1</td>\n",
       "      <td>0</td>\n",
       "      <td>1</td>\n",
       "      <td>0</td>\n",
       "      <td>0</td>\n",
       "      <td>0</td>\n",
       "      <td>0</td>\n",
       "      <td>0</td>\n",
       "    </tr>\n",
       "    <tr>\n",
       "      <th>4</th>\n",
       "      <td>9237-HQITU</td>\n",
       "      <td>2019-09-01</td>\n",
       "      <td>2019-11-01</td>\n",
       "      <td>1.0</td>\n",
       "      <td>70.70</td>\n",
       "      <td>151.65</td>\n",
       "      <td>0.0</td>\n",
       "      <td>0</td>\n",
       "      <td>0.0</td>\n",
       "      <td>0.0</td>\n",
       "      <td>...</td>\n",
       "      <td>0.0</td>\n",
       "      <td>61</td>\n",
       "      <td>1</td>\n",
       "      <td>1</td>\n",
       "      <td>0</td>\n",
       "      <td>0</td>\n",
       "      <td>0</td>\n",
       "      <td>1</td>\n",
       "      <td>0</td>\n",
       "      <td>1</td>\n",
       "    </tr>\n",
       "  </tbody>\n",
       "</table>\n",
       "<p>5 rows × 27 columns</p>\n",
       "</div>"
      ],
      "text/plain": [
       "   customerID  BeginDate    EndDate  PaperlessBilling  MonthlyCharges  \\\n",
       "0  7590-VHVEG 2020-01-01 2020-02-01               1.0           29.85   \n",
       "1  5575-GNVDE 2017-04-01 2020-02-01               0.0           56.95   \n",
       "2  3668-QPYBK 2019-10-01 2019-12-01               1.0           53.85   \n",
       "3  7795-CFOCW 2016-05-01 2020-02-01               0.0           42.30   \n",
       "4  9237-HQITU 2019-09-01 2019-11-01               1.0           70.70   \n",
       "\n",
       "   TotalCharges  gender  SeniorCitizen  Partner  Dependents  ...  \\\n",
       "0         29.85     0.0              0      1.0         0.0  ...   \n",
       "1       1889.50     1.0              0      0.0         0.0  ...   \n",
       "2        108.15     1.0              0      0.0         0.0  ...   \n",
       "3       1840.75     1.0              0      0.0         0.0  ...   \n",
       "4        151.65     0.0              0      0.0         0.0  ...   \n",
       "\n",
       "  MultipleLines  duration  use_internet  use_phone  Type_One year  \\\n",
       "0           0.0        31             1          0              0   \n",
       "1           0.0      1036             1          1              1   \n",
       "2           0.0        61             1          1              0   \n",
       "3           0.0      1371             1          0              1   \n",
       "4           0.0        61             1          1              0   \n",
       "\n",
       "   Type_Two year  PaymentMethod_Credit card (automatic)  \\\n",
       "0              0                                      0   \n",
       "1              0                                      0   \n",
       "2              0                                      0   \n",
       "3              0                                      0   \n",
       "4              0                                      0   \n",
       "\n",
       "   PaymentMethod_Electronic check  PaymentMethod_Mailed check  inactive  \n",
       "0                               1                           0         0  \n",
       "1                               0                           1         0  \n",
       "2                               0                           1         1  \n",
       "3                               0                           0         0  \n",
       "4                               1                           0         1  \n",
       "\n",
       "[5 rows x 27 columns]"
      ]
     },
     "execution_count": 43,
     "metadata": {},
     "output_type": "execute_result"
    }
   ],
   "source": [
    "clients['inactive'] = (clients.EndDate != '2020-02-01').astype(int)\n",
    "clients.head()"
   ]
  },
  {
   "cell_type": "markdown",
   "metadata": {},
   "source": [
    "<a id=\"division\"></a>\n",
    "### train-test разбиение\n"
   ]
  },
  {
   "cell_type": "code",
   "execution_count": 44,
   "metadata": {
    "scrolled": true
   },
   "outputs": [
    {
     "data": {
      "text/plain": [
       "<AxesSubplot:>"
      ]
     },
     "execution_count": 44,
     "metadata": {},
     "output_type": "execute_result"
    },
    {
     "data": {
      "image/png": "[encoded data removed]",
      "text/plain": [
       "<Figure size 1080x360 with 2 Axes>"
      ]
     },
     "metadata": {
      "needs_background": "light"
     },
     "output_type": "display_data"
    }
   ],
   "source": [
    "fig, ax = plt.subplots(figsize=(15,5))   \n",
    "sns.heatmap(clients[['duration', 'TotalCharges','MonthlyCharges']].corr(), annot=True)"
   ]
  },
  {
   "cell_type": "code",
   "execution_count": 45,
   "metadata": {},
   "outputs": [],
   "source": [
    "target = clients.inactive\n",
    "features = clients.drop(['customerID', 'BeginDate', 'EndDate',  'inactive',  'InternetService','MonthlyCharges', 'TotalCharges' ],axis=1) #'TotalCharges','MonthlyCharges',\n"
   ]
  },
  {
   "cell_type": "code",
   "execution_count": 46,
   "metadata": {},
   "outputs": [
    {
     "name": "stdout",
     "output_type": "stream",
     "text": [
      "first split:  (5282, 20) (5282,) (1761, 20) (1761,)\n"
     ]
    }
   ],
   "source": [
    "features_train, features_test, target_train,target_test = train_test_split(features,target, stratify=target, test_size=0.25, random_state=RANDOM_STATE)\n",
    "print(\"first split: \",features_train.shape,target_train.shape,features_test.shape, target_test.shape)\n"
   ]
  },
  {
   "cell_type": "markdown",
   "metadata": {},
   "source": [
    "<a id=\"scale\"></a>\n",
    "### Масштабирование данных\n"
   ]
  },
  {
   "cell_type": "code",
   "execution_count": 47,
   "metadata": {},
   "outputs": [],
   "source": [
    "pd.set_option('display.max_columns', None)"
   ]
  },
  {
   "cell_type": "code",
   "execution_count": 48,
   "metadata": {
    "scrolled": true
   },
   "outputs": [
    {
     "name": "stderr",
     "output_type": "stream",
     "text": [
      "/opt/conda/lib/python3.9/site-packages/pandas/core/indexing.py:1738: SettingWithCopyWarning: \n",
      "A value is trying to be set on a copy of a slice from a DataFrame.\n",
      "Try using .loc[row_indexer,col_indexer] = value instead\n",
      "\n",
      "See the caveats in the documentation: https://pandas.pydata.org/pandas-docs/stable/user_guide/indexing.html#returning-a-view-versus-a-copy\n",
      "  self._setitem_single_column(loc, value[:, i].tolist(), pi)\n",
      "/opt/conda/lib/python3.9/site-packages/pandas/core/indexing.py:1738: SettingWithCopyWarning: \n",
      "A value is trying to be set on a copy of a slice from a DataFrame.\n",
      "Try using .loc[row_indexer,col_indexer] = value instead\n",
      "\n",
      "See the caveats in the documentation: https://pandas.pydata.org/pandas-docs/stable/user_guide/indexing.html#returning-a-view-versus-a-copy\n",
      "  self._setitem_single_column(loc, value[:, i].tolist(), pi)\n"
     ]
    }
   ],
   "source": [
    "scaler = StandardScaler()\n",
    "#scaler.fit(features_train['TotalCharges'])\n",
    "#features_train.loc[:,['duration','MonthlyCharges']] = scaler.fit_transform(features_train[['duration','MonthlyCharges']])\n",
    "#features_test.loc[:,['duration','MonthlyCharges']]= scaler.transform(features_test[['duration','MonthlyCharges']])\n",
    "features_train.loc[:,['duration']] = scaler.fit_transform(features_train[['duration']])\n",
    "features_test.loc[:,['duration']]= scaler.transform(features_test[['duration']])\n"
   ]
  },
  {
   "cell_type": "code",
   "execution_count": 49,
   "metadata": {
    "scrolled": false
   },
   "outputs": [
    {
     "data": {
      "text/html": [
       "<div>\n",
       "<style scoped>\n",
       "    .dataframe tbody tr th:only-of-type {\n",
       "        vertical-align: middle;\n",
       "    }\n",
       "\n",
       "    .dataframe tbody tr th {\n",
       "        vertical-align: top;\n",
       "    }\n",
       "\n",
       "    .dataframe thead th {\n",
       "        text-align: right;\n",
       "    }\n",
       "</style>\n",
       "<table border=\"1\" class=\"dataframe\">\n",
       "  <thead>\n",
       "    <tr style=\"text-align: right;\">\n",
       "      <th></th>\n",
       "      <th>PaperlessBilling</th>\n",
       "      <th>gender</th>\n",
       "      <th>SeniorCitizen</th>\n",
       "      <th>Partner</th>\n",
       "      <th>Dependents</th>\n",
       "      <th>OnlineSecurity</th>\n",
       "      <th>OnlineBackup</th>\n",
       "      <th>DeviceProtection</th>\n",
       "      <th>TechSupport</th>\n",
       "      <th>StreamingTV</th>\n",
       "      <th>StreamingMovies</th>\n",
       "      <th>MultipleLines</th>\n",
       "      <th>duration</th>\n",
       "      <th>use_internet</th>\n",
       "      <th>use_phone</th>\n",
       "      <th>Type_One year</th>\n",
       "      <th>Type_Two year</th>\n",
       "      <th>PaymentMethod_Credit card (automatic)</th>\n",
       "      <th>PaymentMethod_Electronic check</th>\n",
       "      <th>PaymentMethod_Mailed check</th>\n",
       "    </tr>\n",
       "  </thead>\n",
       "  <tbody>\n",
       "    <tr>\n",
       "      <th>4395</th>\n",
       "      <td>1.0</td>\n",
       "      <td>0.0</td>\n",
       "      <td>0</td>\n",
       "      <td>1.0</td>\n",
       "      <td>1.0</td>\n",
       "      <td>0.0</td>\n",
       "      <td>1.0</td>\n",
       "      <td>1.0</td>\n",
       "      <td>0.0</td>\n",
       "      <td>1.0</td>\n",
       "      <td>1.0</td>\n",
       "      <td>1.0</td>\n",
       "      <td>1.495471</td>\n",
       "      <td>1</td>\n",
       "      <td>1</td>\n",
       "      <td>0</td>\n",
       "      <td>0</td>\n",
       "      <td>0</td>\n",
       "      <td>1</td>\n",
       "      <td>0</td>\n",
       "    </tr>\n",
       "    <tr>\n",
       "      <th>2895</th>\n",
       "      <td>1.0</td>\n",
       "      <td>0.0</td>\n",
       "      <td>0</td>\n",
       "      <td>1.0</td>\n",
       "      <td>0.0</td>\n",
       "      <td>0.0</td>\n",
       "      <td>0.0</td>\n",
       "      <td>0.0</td>\n",
       "      <td>0.0</td>\n",
       "      <td>0.0</td>\n",
       "      <td>0.0</td>\n",
       "      <td>0.0</td>\n",
       "      <td>0.191850</td>\n",
       "      <td>0</td>\n",
       "      <td>1</td>\n",
       "      <td>1</td>\n",
       "      <td>0</td>\n",
       "      <td>0</td>\n",
       "      <td>0</td>\n",
       "      <td>0</td>\n",
       "    </tr>\n",
       "    <tr>\n",
       "      <th>845</th>\n",
       "      <td>0.0</td>\n",
       "      <td>0.0</td>\n",
       "      <td>0</td>\n",
       "      <td>1.0</td>\n",
       "      <td>1.0</td>\n",
       "      <td>0.0</td>\n",
       "      <td>0.0</td>\n",
       "      <td>0.0</td>\n",
       "      <td>0.0</td>\n",
       "      <td>0.0</td>\n",
       "      <td>0.0</td>\n",
       "      <td>0.0</td>\n",
       "      <td>-0.702635</td>\n",
       "      <td>0</td>\n",
       "      <td>1</td>\n",
       "      <td>1</td>\n",
       "      <td>0</td>\n",
       "      <td>0</td>\n",
       "      <td>0</td>\n",
       "      <td>1</td>\n",
       "    </tr>\n",
       "    <tr>\n",
       "      <th>806</th>\n",
       "      <td>0.0</td>\n",
       "      <td>1.0</td>\n",
       "      <td>0</td>\n",
       "      <td>0.0</td>\n",
       "      <td>0.0</td>\n",
       "      <td>0.0</td>\n",
       "      <td>0.0</td>\n",
       "      <td>1.0</td>\n",
       "      <td>1.0</td>\n",
       "      <td>0.0</td>\n",
       "      <td>0.0</td>\n",
       "      <td>0.0</td>\n",
       "      <td>-0.579627</td>\n",
       "      <td>1</td>\n",
       "      <td>1</td>\n",
       "      <td>0</td>\n",
       "      <td>0</td>\n",
       "      <td>1</td>\n",
       "      <td>0</td>\n",
       "      <td>0</td>\n",
       "    </tr>\n",
       "    <tr>\n",
       "      <th>1728</th>\n",
       "      <td>0.0</td>\n",
       "      <td>0.0</td>\n",
       "      <td>0</td>\n",
       "      <td>0.0</td>\n",
       "      <td>0.0</td>\n",
       "      <td>1.0</td>\n",
       "      <td>0.0</td>\n",
       "      <td>1.0</td>\n",
       "      <td>1.0</td>\n",
       "      <td>1.0</td>\n",
       "      <td>1.0</td>\n",
       "      <td>0.0</td>\n",
       "      <td>0.519426</td>\n",
       "      <td>1</td>\n",
       "      <td>1</td>\n",
       "      <td>0</td>\n",
       "      <td>1</td>\n",
       "      <td>0</td>\n",
       "      <td>0</td>\n",
       "      <td>0</td>\n",
       "    </tr>\n",
       "  </tbody>\n",
       "</table>\n",
       "</div>"
      ],
      "text/plain": [
       "      PaperlessBilling  gender  SeniorCitizen  Partner  Dependents  \\\n",
       "4395               1.0     0.0              0      1.0         1.0   \n",
       "2895               1.0     0.0              0      1.0         0.0   \n",
       "845                0.0     0.0              0      1.0         1.0   \n",
       "806                0.0     1.0              0      0.0         0.0   \n",
       "1728               0.0     0.0              0      0.0         0.0   \n",
       "\n",
       "      OnlineSecurity  OnlineBackup  DeviceProtection  TechSupport  \\\n",
       "4395             0.0           1.0               1.0          0.0   \n",
       "2895             0.0           0.0               0.0          0.0   \n",
       "845              0.0           0.0               0.0          0.0   \n",
       "806              0.0           0.0               1.0          1.0   \n",
       "1728             1.0           0.0               1.0          1.0   \n",
       "\n",
       "      StreamingTV  StreamingMovies  MultipleLines  duration  use_internet  \\\n",
       "4395          1.0              1.0            1.0  1.495471             1   \n",
       "2895          0.0              0.0            0.0  0.191850             0   \n",
       "845           0.0              0.0            0.0 -0.702635             0   \n",
       "806           0.0              0.0            0.0 -0.579627             1   \n",
       "1728          1.0              1.0            0.0  0.519426             1   \n",
       "\n",
       "      use_phone  Type_One year  Type_Two year  \\\n",
       "4395          1              0              0   \n",
       "2895          1              1              0   \n",
       "845           1              1              0   \n",
       "806           1              0              0   \n",
       "1728          1              0              1   \n",
       "\n",
       "      PaymentMethod_Credit card (automatic)  PaymentMethod_Electronic check  \\\n",
       "4395                                      0                               1   \n",
       "2895                                      0                               0   \n",
       "845                                       0                               0   \n",
       "806                                       1                               0   \n",
       "1728                                      0                               0   \n",
       "\n",
       "      PaymentMethod_Mailed check  \n",
       "4395                           0  \n",
       "2895                           0  \n",
       "845                            1  \n",
       "806                            0  \n",
       "1728                           0  "
      ]
     },
     "execution_count": 49,
     "metadata": {},
     "output_type": "execute_result"
    }
   ],
   "source": [
    "features_test.head()"
   ]
  },
  {
   "cell_type": "markdown",
   "metadata": {},
   "source": [
    "<a id=\"balanced\"></a>\n",
    "### Балансировка классов"
   ]
  },
  {
   "cell_type": "markdown",
   "metadata": {},
   "source": [
    "Рассмотрим распределение классов в тренировочном наборе "
   ]
  },
  {
   "cell_type": "code",
   "execution_count": 50,
   "metadata": {
    "scrolled": true
   },
   "outputs": [
    {
     "data": {
      "text/plain": [
       "<AxesSubplot:title={'center':'Распределение классов тренировочного набора'}>"
      ]
     },
     "execution_count": 50,
     "metadata": {},
     "output_type": "execute_result"
    },
    {
     "data": {
      "image/png": "[encoded data removed]",
      "text/plain": [
       "<Figure size 432x288 with 1 Axes>"
      ]
     },
     "metadata": {
      "needs_background": "light"
     },
     "output_type": "display_data"
    }
   ],
   "source": [
    "target_train.value_counts(normalize=True).plot(kind='bar', title='Распределение классов тренировочного набора')"
   ]
  },
  {
   "cell_type": "markdown",
   "metadata": {},
   "source": [
    "Очевидно преобладание одного из классов, поэтому создадим функции для upsampling и downsampling"
   ]
  },
  {
   "cell_type": "code",
   "execution_count": 51,
   "metadata": {
    "scrolled": true
   },
   "outputs": [],
   "source": [
    "def upsample(features, target, repeat):\n",
    "    features_zeros = features[target == 0]\n",
    "    features_ones = features[target == 1]\n",
    "    target_zeros = target[target == 0]\n",
    "    target_ones = target[target == 1]\n",
    "\n",
    "    features_upsampled = pd.concat([features_zeros] + [features_ones] * repeat)\n",
    "    target_upsampled = pd.concat([target_zeros] + [target_ones] * repeat)\n",
    "    \n",
    "    features_upsampled, target_upsampled = shuffle(\n",
    "        features_upsampled, target_upsampled, random_state=RANDOM_STATE)\n",
    "    \n",
    "    return features_upsampled, target_upsampled\n",
    "\n",
    "features_upsampled, target_upsampled = upsample(features_train, target_train, 3)"
   ]
  },
  {
   "cell_type": "code",
   "execution_count": 52,
   "metadata": {
    "scrolled": false
   },
   "outputs": [
    {
     "data": {
      "text/plain": [
       "<AxesSubplot:title={'center':'Распределение классов тренировочного набора после upsampling'}>"
      ]
     },
     "execution_count": 52,
     "metadata": {},
     "output_type": "execute_result"
    },
    {
     "data": {
      "image/png": "[encoded data removed]",
      "text/plain": [
       "<Figure size 432x288 with 1 Axes>"
      ]
     },
     "metadata": {
      "needs_background": "light"
     },
     "output_type": "display_data"
    }
   ],
   "source": [
    "target_upsampled.value_counts(normalize=True).plot(kind='bar', title='Распределение классов тренировочного набора после upsampling')"
   ]
  },
  {
   "cell_type": "code",
   "execution_count": 53,
   "metadata": {},
   "outputs": [
    {
     "name": "stdout",
     "output_type": "stream",
     "text": [
      "features shape:  (8086, 20) \n",
      "target shape:  (8086,)\n"
     ]
    }
   ],
   "source": [
    "print(\"features shape: \",features_upsampled.shape,\"\\ntarget shape: \", target_upsampled.shape)"
   ]
  },
  {
   "cell_type": "code",
   "execution_count": 54,
   "metadata": {
    "scrolled": false
   },
   "outputs": [],
   "source": [
    "def downsample(features, target, fraction):\n",
    "    features_zeros = features[target == 0]\n",
    "    features_ones = features[target == 1]\n",
    "    target_zeros = target[target == 0]\n",
    "    target_ones = target[target == 1]\n",
    "\n",
    "    features_downsampled = pd.concat(\n",
    "        [features_zeros.sample(frac=fraction, random_state=RANDOM_STATE)] + [features_ones])\n",
    "    target_downsampled = pd.concat(\n",
    "        [target_zeros.sample(frac=fraction, random_state=RANDOM_STATE)] + [target_ones])\n",
    "    \n",
    "    features_downsampled, target_downsampled = shuffle(\n",
    "        features_downsampled, target_downsampled, random_state=RANDOM_STATE)\n",
    "    \n",
    "    return features_downsampled, target_downsampled\n",
    "\n",
    "features_downsampled, target_downsampled = downsample(features_train, target_train, 0.35)"
   ]
  },
  {
   "cell_type": "code",
   "execution_count": 55,
   "metadata": {
    "scrolled": true
   },
   "outputs": [
    {
     "data": {
      "text/plain": [
       "<AxesSubplot:title={'center':'Распределение классов тренировочного набора после downsampling'}>"
      ]
     },
     "execution_count": 55,
     "metadata": {},
     "output_type": "execute_result"
    },
    {
     "data": {
      "image/png": "[encoded data removed]",
      "text/plain": [
       "<Figure size 432x288 with 1 Axes>"
      ]
     },
     "metadata": {
      "needs_background": "light"
     },
     "output_type": "display_data"
    }
   ],
   "source": [
    "target_downsampled.value_counts(normalize=True).plot(kind='bar', title='Распределение классов тренировочного набора после downsampling')"
   ]
  },
  {
   "cell_type": "code",
   "execution_count": 56,
   "metadata": {
    "scrolled": false
   },
   "outputs": [
    {
     "name": "stdout",
     "output_type": "stream",
     "text": [
      "features shape:  (2760, 20) \n",
      "target shape:  (2760,)\n"
     ]
    }
   ],
   "source": [
    "print(\"features shape: \",features_downsampled.shape,\"\\ntarget shape: \", target_downsampled.shape)"
   ]
  },
  {
   "cell_type": "markdown",
   "metadata": {},
   "source": [
    "<a id=\"ml\"></a>\n",
    "## Моделирование"
   ]
  },
  {
   "cell_type": "code",
   "execution_count": 57,
   "metadata": {},
   "outputs": [],
   "source": [
    "def best_hypers_for_model(model, hyperparams, features, target):\n",
    "\n",
    "    clf = GridSearchCV(model, hyperparams, refit = True, scoring='roc_auc', n_jobs=-1)\n",
    "    clf.fit(features, target)\n",
    "    print(str(model)[:-2],\"Best parameters set found on development set:\\n\")\n",
    "    print(clf.best_params_)\n",
    "    print(\"\\nGrid scores on development set:\\n\")\n",
    "    for mean, std, params in zip(clf.cv_results_['mean_test_score'], clf.cv_results_['std_test_score'], clf.cv_results_['params']):\n",
    "        print(\"%0.6f for %r\"% (abs(mean), params))\n",
    "    return clf.best_estimator_"
   ]
  },
  {
   "cell_type": "markdown",
   "metadata": {},
   "source": [
    "### CatBoostClassifier"
   ]
  },
  {
   "cell_type": "code",
   "execution_count": 58,
   "metadata": {},
   "outputs": [],
   "source": [
    "MODEL_SETTINGS = {\n",
    "  'verbose':[False],\n",
    "  'learning_rate': [ 0.5, 0.07, 0.06],\n",
    "  'iterations': [1000, 2000, 1300],\n",
    "  'random_state':[RANDOM_STATE],\n",
    "  'max_depth': [2,4,6,8]}"
   ]
  },
  {
   "cell_type": "code",
   "execution_count": 59,
   "metadata": {
    "scrolled": true
   },
   "outputs": [
    {
     "name": "stdout",
     "output_type": "stream",
     "text": [
      "<catboost.core.CatBoostClassifier object at 0x7febf215540 Best parameters set found on development set:\n",
      "\n",
      "{'iterations': 1000, 'learning_rate': 0.5, 'max_depth': 2, 'random_state': 80822, 'verbose': False}\n",
      "\n",
      "Grid scores on development set:\n",
      "\n",
      "0.941894 for {'iterations': 1000, 'learning_rate': 0.5, 'max_depth': 2, 'random_state': 80822, 'verbose': False}\n",
      "0.913821 for {'iterations': 1000, 'learning_rate': 0.5, 'max_depth': 4, 'random_state': 80822, 'verbose': False}\n",
      "0.897729 for {'iterations': 1000, 'learning_rate': 0.5, 'max_depth': 6, 'random_state': 80822, 'verbose': False}\n",
      "0.879862 for {'iterations': 1000, 'learning_rate': 0.5, 'max_depth': 8, 'random_state': 80822, 'verbose': False}\n",
      "0.920046 for {'iterations': 1000, 'learning_rate': 0.07, 'max_depth': 2, 'random_state': 80822, 'verbose': False}\n",
      "0.933486 for {'iterations': 1000, 'learning_rate': 0.07, 'max_depth': 4, 'random_state': 80822, 'verbose': False}\n",
      "0.924749 for {'iterations': 1000, 'learning_rate': 0.07, 'max_depth': 6, 'random_state': 80822, 'verbose': False}\n",
      "0.907396 for {'iterations': 1000, 'learning_rate': 0.07, 'max_depth': 8, 'random_state': 80822, 'verbose': False}\n",
      "0.915304 for {'iterations': 1000, 'learning_rate': 0.06, 'max_depth': 2, 'random_state': 80822, 'verbose': False}\n",
      "0.932371 for {'iterations': 1000, 'learning_rate': 0.06, 'max_depth': 4, 'random_state': 80822, 'verbose': False}\n",
      "0.926228 for {'iterations': 1000, 'learning_rate': 0.06, 'max_depth': 6, 'random_state': 80822, 'verbose': False}\n",
      "0.908638 for {'iterations': 1000, 'learning_rate': 0.06, 'max_depth': 8, 'random_state': 80822, 'verbose': False}\n",
      "0.938872 for {'iterations': 2000, 'learning_rate': 0.5, 'max_depth': 2, 'random_state': 80822, 'verbose': False}\n",
      "0.906981 for {'iterations': 2000, 'learning_rate': 0.5, 'max_depth': 4, 'random_state': 80822, 'verbose': False}\n",
      "0.895675 for {'iterations': 2000, 'learning_rate': 0.5, 'max_depth': 6, 'random_state': 80822, 'verbose': False}\n",
      "0.879841 for {'iterations': 2000, 'learning_rate': 0.5, 'max_depth': 8, 'random_state': 80822, 'verbose': False}\n",
      "0.935690 for {'iterations': 2000, 'learning_rate': 0.07, 'max_depth': 2, 'random_state': 80822, 'verbose': False}\n",
      "0.934343 for {'iterations': 2000, 'learning_rate': 0.07, 'max_depth': 4, 'random_state': 80822, 'verbose': False}\n",
      "0.921545 for {'iterations': 2000, 'learning_rate': 0.07, 'max_depth': 6, 'random_state': 80822, 'verbose': False}\n",
      "0.900904 for {'iterations': 2000, 'learning_rate': 0.07, 'max_depth': 8, 'random_state': 80822, 'verbose': False}\n",
      "0.932961 for {'iterations': 2000, 'learning_rate': 0.06, 'max_depth': 2, 'random_state': 80822, 'verbose': False}\n",
      "0.934691 for {'iterations': 2000, 'learning_rate': 0.06, 'max_depth': 4, 'random_state': 80822, 'verbose': False}\n",
      "0.923034 for {'iterations': 2000, 'learning_rate': 0.06, 'max_depth': 6, 'random_state': 80822, 'verbose': False}\n",
      "0.903384 for {'iterations': 2000, 'learning_rate': 0.06, 'max_depth': 8, 'random_state': 80822, 'verbose': False}\n",
      "0.941103 for {'iterations': 1300, 'learning_rate': 0.5, 'max_depth': 2, 'random_state': 80822, 'verbose': False}\n",
      "0.910463 for {'iterations': 1300, 'learning_rate': 0.5, 'max_depth': 4, 'random_state': 80822, 'verbose': False}\n",
      "0.896627 for {'iterations': 1300, 'learning_rate': 0.5, 'max_depth': 6, 'random_state': 80822, 'verbose': False}\n",
      "0.879859 for {'iterations': 1300, 'learning_rate': 0.5, 'max_depth': 8, 'random_state': 80822, 'verbose': False}\n",
      "0.927100 for {'iterations': 1300, 'learning_rate': 0.07, 'max_depth': 2, 'random_state': 80822, 'verbose': False}\n",
      "0.934960 for {'iterations': 1300, 'learning_rate': 0.07, 'max_depth': 4, 'random_state': 80822, 'verbose': False}\n",
      "0.924035 for {'iterations': 1300, 'learning_rate': 0.07, 'max_depth': 6, 'random_state': 80822, 'verbose': False}\n",
      "0.905644 for {'iterations': 1300, 'learning_rate': 0.07, 'max_depth': 8, 'random_state': 80822, 'verbose': False}\n",
      "0.921319 for {'iterations': 1300, 'learning_rate': 0.06, 'max_depth': 2, 'random_state': 80822, 'verbose': False}\n",
      "0.934840 for {'iterations': 1300, 'learning_rate': 0.06, 'max_depth': 4, 'random_state': 80822, 'verbose': False}\n",
      "0.925224 for {'iterations': 1300, 'learning_rate': 0.06, 'max_depth': 6, 'random_state': 80822, 'verbose': False}\n",
      "0.907370 for {'iterations': 1300, 'learning_rate': 0.06, 'max_depth': 8, 'random_state': 80822, 'verbose': False}\n"
     ]
    },
    {
     "data": {
      "text/plain": [
       "<catboost.core.CatBoostClassifier at 0x7febf2105fa0>"
      ]
     },
     "execution_count": 59,
     "metadata": {},
     "output_type": "execute_result"
    }
   ],
   "source": [
    "\n",
    "CB = best_hypers_for_model(CatBoostClassifier(),MODEL_SETTINGS,features_train, target_train)\n",
    "CB"
   ]
  },
  {
   "cell_type": "code",
   "execution_count": null,
   "metadata": {
    "scrolled": true
   },
   "outputs": [],
   "source": [
    "default_cb = best_hypers_for_model(CatBoostClassifier(random_state=RANDOM_STATE),{},features_train, target_train)\n",
    "default_cb"
   ]
  },
  {
   "cell_type": "code",
   "execution_count": null,
   "metadata": {},
   "outputs": [],
   "source": [
    "default_cb.get_all_params()"
   ]
  },
  {
   "cell_type": "code",
   "execution_count": null,
   "metadata": {
    "scrolled": true
   },
   "outputs": [],
   "source": [
    "cat_up = best_hypers_for_model(CatBoostClassifier(),MODEL_SETTINGS,features_upsampled, target_upsampled)\n",
    "cat_up"
   ]
  },
  {
   "cell_type": "code",
   "execution_count": null,
   "metadata": {},
   "outputs": [],
   "source": [
    "best_hypers_for_model(CatBoostClassifier(),MODEL_SETTINGS,features_downsampled, target_downsampled)"
   ]
  },
  {
   "cell_type": "markdown",
   "metadata": {},
   "source": [
    "### LogisticRegression()"
   ]
  },
  {
   "cell_type": "code",
   "execution_count": 127,
   "metadata": {
    "scrolled": true
   },
   "outputs": [
    {
     "name": "stdout",
     "output_type": "stream",
     "text": [
      "LogisticRegression Best parameters set found on development set:\n",
      "\n",
      "{'max_iter': 1000, 'random_state': 80822, 'solver': 'sag'}\n",
      "\n",
      "Grid scores on development set:\n",
      "\n",
      "0.837954 for {'max_iter': 1000, 'random_state': 80822, 'solver': 'liblinear'}\n",
      "0.837971 for {'max_iter': 1000, 'random_state': 80822, 'solver': 'newton-cg'}\n",
      "0.837964 for {'max_iter': 1000, 'random_state': 80822, 'solver': 'lbfgs'}\n",
      "0.837972 for {'max_iter': 1000, 'random_state': 80822, 'solver': 'sag'}\n",
      "0.837969 for {'max_iter': 1000, 'random_state': 80822, 'solver': 'saga'}\n",
      "0.837954 for {'max_iter': 5000, 'random_state': 80822, 'solver': 'liblinear'}\n",
      "0.837971 for {'max_iter': 5000, 'random_state': 80822, 'solver': 'newton-cg'}\n",
      "0.837964 for {'max_iter': 5000, 'random_state': 80822, 'solver': 'lbfgs'}\n",
      "0.837972 for {'max_iter': 5000, 'random_state': 80822, 'solver': 'sag'}\n",
      "0.837969 for {'max_iter': 5000, 'random_state': 80822, 'solver': 'saga'}\n",
      "0.837954 for {'max_iter': 10000, 'random_state': 80822, 'solver': 'liblinear'}\n",
      "0.837971 for {'max_iter': 10000, 'random_state': 80822, 'solver': 'newton-cg'}\n",
      "0.837964 for {'max_iter': 10000, 'random_state': 80822, 'solver': 'lbfgs'}\n",
      "0.837972 for {'max_iter': 10000, 'random_state': 80822, 'solver': 'sag'}\n",
      "0.837969 for {'max_iter': 10000, 'random_state': 80822, 'solver': 'saga'}\n"
     ]
    }
   ],
   "source": [
    "MODEL_SETTINGS = {'solver':['liblinear', 'newton-cg', 'lbfgs', 'sag', 'saga'],\n",
    "                  'random_state':[RANDOM_STATE],\n",
    "                 'max_iter': [1000, 5000, 10000]}\n",
    "b = best_hypers_for_model(LogisticRegression(),MODEL_SETTINGS,features_train, target_train)"
   ]
  },
  {
   "cell_type": "code",
   "execution_count": null,
   "metadata": {},
   "outputs": [],
   "source": [
    "best_hypers_for_model(LogisticRegression(),MODEL_SETTINGS,features_upsampled, target_upsampled)"
   ]
  },
  {
   "cell_type": "code",
   "execution_count": null,
   "metadata": {},
   "outputs": [],
   "source": [
    "best_hypers_for_model(LogisticRegression(),MODEL_SETTINGS,features_downsampled, target_downsampled)"
   ]
  },
  {
   "cell_type": "markdown",
   "metadata": {},
   "source": [
    "### DecisionTreeClassifier"
   ]
  },
  {
   "cell_type": "code",
   "execution_count": 126,
   "metadata": {
    "scrolled": true
   },
   "outputs": [
    {
     "name": "stdout",
     "output_type": "stream",
     "text": [
      "DecisionTreeClassifier Best parameters set found on development set:\n",
      "\n",
      "{'max_depth': 6, 'random_state': 80822}\n",
      "\n",
      "Grid scores on development set:\n",
      "\n",
      "0.739509 for {'max_depth': 2, 'random_state': 80822}\n",
      "0.784422 for {'max_depth': 3, 'random_state': 80822}\n",
      "0.805498 for {'max_depth': 4, 'random_state': 80822}\n",
      "0.822166 for {'max_depth': 5, 'random_state': 80822}\n",
      "0.829181 for {'max_depth': 6, 'random_state': 80822}\n",
      "0.826419 for {'max_depth': 7, 'random_state': 80822}\n",
      "0.818589 for {'max_depth': 8, 'random_state': 80822}\n",
      "0.808808 for {'max_depth': 9, 'random_state': 80822}\n",
      "0.796795 for {'max_depth': 10, 'random_state': 80822}\n",
      "0.784908 for {'max_depth': 11, 'random_state': 80822}\n",
      "0.768795 for {'max_depth': 12, 'random_state': 80822}\n",
      "0.751771 for {'max_depth': 13, 'random_state': 80822}\n",
      "0.743507 for {'max_depth': 14, 'random_state': 80822}\n",
      "0.729054 for {'max_depth': 15, 'random_state': 80822}\n",
      "0.722125 for {'max_depth': 16, 'random_state': 80822}\n",
      "0.715317 for {'max_depth': 17, 'random_state': 80822}\n",
      "0.711521 for {'max_depth': 18, 'random_state': 80822}\n",
      "0.712940 for {'max_depth': 19, 'random_state': 80822}\n",
      "0.708471 for {'max_depth': 20, 'random_state': 80822}\n",
      "0.707359 for {'max_depth': 21, 'random_state': 80822}\n",
      "0.704565 for {'max_depth': 22, 'random_state': 80822}\n",
      "0.710449 for {'max_depth': 23, 'random_state': 80822}\n",
      "0.708796 for {'max_depth': 24, 'random_state': 80822}\n",
      "0.710640 for {'max_depth': 25, 'random_state': 80822}\n",
      "0.706434 for {'max_depth': 26, 'random_state': 80822}\n",
      "0.706919 for {'max_depth': 27, 'random_state': 80822}\n",
      "0.706919 for {'max_depth': 28, 'random_state': 80822}\n",
      "0.706919 for {'max_depth': 29, 'random_state': 80822}\n",
      "0.706919 for {'max_depth': 30, 'random_state': 80822}\n"
     ]
    },
    {
     "data": {
      "text/plain": [
       "DecisionTreeClassifier(max_depth=6, random_state=80822)"
      ]
     },
     "execution_count": 126,
     "metadata": {},
     "output_type": "execute_result"
    }
   ],
   "source": [
    "MODEL_SETTINGS = {'max_depth':[x for x in range(2, 31)],\n",
    "                  \n",
    "                  'random_state':[RANDOM_STATE]}\n",
    "best_hypers_for_model(DecisionTreeClassifier(),MODEL_SETTINGS, features_train, target_train)"
   ]
  },
  {
   "cell_type": "code",
   "execution_count": null,
   "metadata": {
    "scrolled": false
   },
   "outputs": [],
   "source": [
    "\n",
    "best_hypers_for_model(DecisionTreeClassifier(),MODEL_SETTINGS, features_upsampled, target_upsampled)\n"
   ]
  },
  {
   "cell_type": "code",
   "execution_count": null,
   "metadata": {
    "scrolled": true
   },
   "outputs": [],
   "source": [
    "best_hypers_for_model(DecisionTreeClassifier(),MODEL_SETTINGS, features_downsampled, target_downsampled)"
   ]
  },
  {
   "cell_type": "markdown",
   "metadata": {},
   "source": [
    "### RandomForestClassifier()"
   ]
  },
  {
   "cell_type": "code",
   "execution_count": 125,
   "metadata": {
    "scrolled": true
   },
   "outputs": [
    {
     "name": "stdout",
     "output_type": "stream",
     "text": [
      "RandomForestClassifier Best parameters set found on development set:\n",
      "\n",
      "{'max_depth': 9, 'n_estimators': 400, 'random_state': 80822}\n",
      "\n",
      "Grid scores on development set:\n",
      "\n",
      "0.825105 for {'max_depth': 2, 'n_estimators': 100, 'random_state': 80822}\n",
      "0.824141 for {'max_depth': 2, 'n_estimators': 200, 'random_state': 80822}\n",
      "0.822672 for {'max_depth': 2, 'n_estimators': 300, 'random_state': 80822}\n",
      "0.824669 for {'max_depth': 2, 'n_estimators': 400, 'random_state': 80822}\n",
      "0.831958 for {'max_depth': 3, 'n_estimators': 100, 'random_state': 80822}\n",
      "0.831169 for {'max_depth': 3, 'n_estimators': 200, 'random_state': 80822}\n",
      "0.831208 for {'max_depth': 3, 'n_estimators': 300, 'random_state': 80822}\n",
      "0.832427 for {'max_depth': 3, 'n_estimators': 400, 'random_state': 80822}\n",
      "0.836754 for {'max_depth': 4, 'n_estimators': 100, 'random_state': 80822}\n",
      "0.837658 for {'max_depth': 4, 'n_estimators': 200, 'random_state': 80822}\n",
      "0.837307 for {'max_depth': 4, 'n_estimators': 300, 'random_state': 80822}\n",
      "0.838093 for {'max_depth': 4, 'n_estimators': 400, 'random_state': 80822}\n",
      "0.841879 for {'max_depth': 5, 'n_estimators': 100, 'random_state': 80822}\n",
      "0.842315 for {'max_depth': 5, 'n_estimators': 200, 'random_state': 80822}\n",
      "0.842326 for {'max_depth': 5, 'n_estimators': 300, 'random_state': 80822}\n",
      "0.842540 for {'max_depth': 5, 'n_estimators': 400, 'random_state': 80822}\n",
      "0.846130 for {'max_depth': 6, 'n_estimators': 100, 'random_state': 80822}\n",
      "0.846317 for {'max_depth': 6, 'n_estimators': 200, 'random_state': 80822}\n",
      "0.846223 for {'max_depth': 6, 'n_estimators': 300, 'random_state': 80822}\n",
      "0.846407 for {'max_depth': 6, 'n_estimators': 400, 'random_state': 80822}\n",
      "0.849397 for {'max_depth': 7, 'n_estimators': 100, 'random_state': 80822}\n",
      "0.849109 for {'max_depth': 7, 'n_estimators': 200, 'random_state': 80822}\n",
      "0.849106 for {'max_depth': 7, 'n_estimators': 300, 'random_state': 80822}\n",
      "0.848936 for {'max_depth': 7, 'n_estimators': 400, 'random_state': 80822}\n",
      "0.849114 for {'max_depth': 8, 'n_estimators': 100, 'random_state': 80822}\n",
      "0.849777 for {'max_depth': 8, 'n_estimators': 200, 'random_state': 80822}\n",
      "0.850257 for {'max_depth': 8, 'n_estimators': 300, 'random_state': 80822}\n",
      "0.850445 for {'max_depth': 8, 'n_estimators': 400, 'random_state': 80822}\n",
      "0.849448 for {'max_depth': 9, 'n_estimators': 100, 'random_state': 80822}\n",
      "0.850507 for {'max_depth': 9, 'n_estimators': 200, 'random_state': 80822}\n",
      "0.851161 for {'max_depth': 9, 'n_estimators': 300, 'random_state': 80822}\n",
      "0.851299 for {'max_depth': 9, 'n_estimators': 400, 'random_state': 80822}\n",
      "0.849286 for {'max_depth': 10, 'n_estimators': 100, 'random_state': 80822}\n",
      "0.849590 for {'max_depth': 10, 'n_estimators': 200, 'random_state': 80822}\n",
      "0.850196 for {'max_depth': 10, 'n_estimators': 300, 'random_state': 80822}\n",
      "0.850328 for {'max_depth': 10, 'n_estimators': 400, 'random_state': 80822}\n",
      "0.845232 for {'max_depth': 11, 'n_estimators': 100, 'random_state': 80822}\n",
      "0.847081 for {'max_depth': 11, 'n_estimators': 200, 'random_state': 80822}\n",
      "0.847950 for {'max_depth': 11, 'n_estimators': 300, 'random_state': 80822}\n",
      "0.848093 for {'max_depth': 11, 'n_estimators': 400, 'random_state': 80822}\n",
      "0.845019 for {'max_depth': 12, 'n_estimators': 100, 'random_state': 80822}\n",
      "0.845444 for {'max_depth': 12, 'n_estimators': 200, 'random_state': 80822}\n",
      "0.846207 for {'max_depth': 12, 'n_estimators': 300, 'random_state': 80822}\n",
      "0.846579 for {'max_depth': 12, 'n_estimators': 400, 'random_state': 80822}\n",
      "0.842755 for {'max_depth': 13, 'n_estimators': 100, 'random_state': 80822}\n",
      "0.843870 for {'max_depth': 13, 'n_estimators': 200, 'random_state': 80822}\n",
      "0.844063 for {'max_depth': 13, 'n_estimators': 300, 'random_state': 80822}\n",
      "0.843978 for {'max_depth': 13, 'n_estimators': 400, 'random_state': 80822}\n",
      "0.839091 for {'max_depth': 14, 'n_estimators': 100, 'random_state': 80822}\n",
      "0.840350 for {'max_depth': 14, 'n_estimators': 200, 'random_state': 80822}\n",
      "0.842089 for {'max_depth': 14, 'n_estimators': 300, 'random_state': 80822}\n",
      "0.842548 for {'max_depth': 14, 'n_estimators': 400, 'random_state': 80822}\n",
      "0.839478 for {'max_depth': 15, 'n_estimators': 100, 'random_state': 80822}\n",
      "0.841479 for {'max_depth': 15, 'n_estimators': 200, 'random_state': 80822}\n",
      "0.842034 for {'max_depth': 15, 'n_estimators': 300, 'random_state': 80822}\n",
      "0.841366 for {'max_depth': 15, 'n_estimators': 400, 'random_state': 80822}\n",
      "0.836770 for {'max_depth': 16, 'n_estimators': 100, 'random_state': 80822}\n",
      "0.837889 for {'max_depth': 16, 'n_estimators': 200, 'random_state': 80822}\n",
      "0.838560 for {'max_depth': 16, 'n_estimators': 300, 'random_state': 80822}\n",
      "0.838330 for {'max_depth': 16, 'n_estimators': 400, 'random_state': 80822}\n",
      "0.835877 for {'max_depth': 17, 'n_estimators': 100, 'random_state': 80822}\n",
      "0.838098 for {'max_depth': 17, 'n_estimators': 200, 'random_state': 80822}\n",
      "0.838024 for {'max_depth': 17, 'n_estimators': 300, 'random_state': 80822}\n",
      "0.837561 for {'max_depth': 17, 'n_estimators': 400, 'random_state': 80822}\n",
      "0.831089 for {'max_depth': 18, 'n_estimators': 100, 'random_state': 80822}\n",
      "0.833848 for {'max_depth': 18, 'n_estimators': 200, 'random_state': 80822}\n",
      "0.834976 for {'max_depth': 18, 'n_estimators': 300, 'random_state': 80822}\n",
      "0.835300 for {'max_depth': 18, 'n_estimators': 400, 'random_state': 80822}\n",
      "0.832484 for {'max_depth': 19, 'n_estimators': 100, 'random_state': 80822}\n",
      "0.833905 for {'max_depth': 19, 'n_estimators': 200, 'random_state': 80822}\n",
      "0.835118 for {'max_depth': 19, 'n_estimators': 300, 'random_state': 80822}\n",
      "0.835212 for {'max_depth': 19, 'n_estimators': 400, 'random_state': 80822}\n",
      "0.832827 for {'max_depth': 20, 'n_estimators': 100, 'random_state': 80822}\n",
      "0.834253 for {'max_depth': 20, 'n_estimators': 200, 'random_state': 80822}\n",
      "0.834949 for {'max_depth': 20, 'n_estimators': 300, 'random_state': 80822}\n",
      "0.835076 for {'max_depth': 20, 'n_estimators': 400, 'random_state': 80822}\n"
     ]
    },
    {
     "data": {
      "text/plain": [
       "RandomForestClassifier(max_depth=9, n_estimators=400, random_state=80822)"
      ]
     },
     "execution_count": 125,
     "metadata": {},
     "output_type": "execute_result"
    }
   ],
   "source": [
    "MODEL_SETTINGS = {'max_depth':[x for x in range(2, 21)],\n",
    "                  'n_estimators': [x for x in range (100,500,100)],\n",
    "                  'random_state':[RANDOM_STATE]}\n",
    "best_hypers_for_model(RandomForestClassifier(),MODEL_SETTINGS, features_train, target_train)"
   ]
  },
  {
   "cell_type": "markdown",
   "metadata": {},
   "source": [
    "### GradientBoostingClassifier"
   ]
  },
  {
   "cell_type": "code",
   "execution_count": 133,
   "metadata": {
    "scrolled": true
   },
   "outputs": [
    {
     "name": "stdout",
     "output_type": "stream",
     "text": [
      "GradientBoostingClassifier Best parameters set found on development set:\n",
      "\n",
      "{'learning_rate': 0.5, 'max_depth': 2, 'n_estimators': 250, 'random_state': 80822}\n",
      "\n",
      "Grid scores on development set:\n",
      "\n",
      "0.886066 for {'learning_rate': 0.1, 'max_depth': 2, 'n_estimators': 250, 'random_state': 80822}\n",
      "0.867311 for {'learning_rate': 0.1, 'max_depth': 2, 'n_estimators': 100, 'random_state': 80822}\n",
      "0.879482 for {'learning_rate': 0.1, 'max_depth': 2, 'n_estimators': 200, 'random_state': 80822}\n",
      "0.897566 for {'learning_rate': 0.1, 'max_depth': 3, 'n_estimators': 250, 'random_state': 80822}\n",
      "0.879741 for {'learning_rate': 0.1, 'max_depth': 3, 'n_estimators': 100, 'random_state': 80822}\n",
      "0.893565 for {'learning_rate': 0.1, 'max_depth': 3, 'n_estimators': 200, 'random_state': 80822}\n",
      "0.907281 for {'learning_rate': 0.1, 'max_depth': 4, 'n_estimators': 250, 'random_state': 80822}\n",
      "0.889701 for {'learning_rate': 0.1, 'max_depth': 4, 'n_estimators': 100, 'random_state': 80822}\n",
      "0.903272 for {'learning_rate': 0.1, 'max_depth': 4, 'n_estimators': 200, 'random_state': 80822}\n",
      "0.906352 for {'learning_rate': 0.1, 'max_depth': 5, 'n_estimators': 250, 'random_state': 80822}\n",
      "0.894642 for {'learning_rate': 0.1, 'max_depth': 5, 'n_estimators': 100, 'random_state': 80822}\n",
      "0.903824 for {'learning_rate': 0.1, 'max_depth': 5, 'n_estimators': 200, 'random_state': 80822}\n",
      "0.906116 for {'learning_rate': 0.1, 'max_depth': 6, 'n_estimators': 250, 'random_state': 80822}\n",
      "0.895422 for {'learning_rate': 0.1, 'max_depth': 6, 'n_estimators': 100, 'random_state': 80822}\n",
      "0.904383 for {'learning_rate': 0.1, 'max_depth': 6, 'n_estimators': 200, 'random_state': 80822}\n",
      "0.902993 for {'learning_rate': 0.1, 'max_depth': 7, 'n_estimators': 250, 'random_state': 80822}\n",
      "0.894833 for {'learning_rate': 0.1, 'max_depth': 7, 'n_estimators': 100, 'random_state': 80822}\n",
      "0.901226 for {'learning_rate': 0.1, 'max_depth': 7, 'n_estimators': 200, 'random_state': 80822}\n",
      "0.900669 for {'learning_rate': 0.1, 'max_depth': 8, 'n_estimators': 250, 'random_state': 80822}\n",
      "0.891681 for {'learning_rate': 0.1, 'max_depth': 8, 'n_estimators': 100, 'random_state': 80822}\n",
      "0.898340 for {'learning_rate': 0.1, 'max_depth': 8, 'n_estimators': 200, 'random_state': 80822}\n",
      "0.895070 for {'learning_rate': 0.1, 'max_depth': 9, 'n_estimators': 250, 'random_state': 80822}\n",
      "0.888899 for {'learning_rate': 0.1, 'max_depth': 9, 'n_estimators': 100, 'random_state': 80822}\n",
      "0.893379 for {'learning_rate': 0.1, 'max_depth': 9, 'n_estimators': 200, 'random_state': 80822}\n",
      "0.887244 for {'learning_rate': 0.1, 'max_depth': 10, 'n_estimators': 250, 'random_state': 80822}\n",
      "0.882076 for {'learning_rate': 0.1, 'max_depth': 10, 'n_estimators': 100, 'random_state': 80822}\n",
      "0.885971 for {'learning_rate': 0.1, 'max_depth': 10, 'n_estimators': 200, 'random_state': 80822}\n",
      "0.886714 for {'learning_rate': 0.1, 'max_depth': 11, 'n_estimators': 250, 'random_state': 80822}\n",
      "0.877099 for {'learning_rate': 0.1, 'max_depth': 11, 'n_estimators': 100, 'random_state': 80822}\n",
      "0.883909 for {'learning_rate': 0.1, 'max_depth': 11, 'n_estimators': 200, 'random_state': 80822}\n",
      "0.884201 for {'learning_rate': 0.1, 'max_depth': 12, 'n_estimators': 250, 'random_state': 80822}\n",
      "0.874613 for {'learning_rate': 0.1, 'max_depth': 12, 'n_estimators': 100, 'random_state': 80822}\n",
      "0.883409 for {'learning_rate': 0.1, 'max_depth': 12, 'n_estimators': 200, 'random_state': 80822}\n",
      "0.881378 for {'learning_rate': 0.1, 'max_depth': 13, 'n_estimators': 250, 'random_state': 80822}\n",
      "0.871863 for {'learning_rate': 0.1, 'max_depth': 13, 'n_estimators': 100, 'random_state': 80822}\n",
      "0.879677 for {'learning_rate': 0.1, 'max_depth': 13, 'n_estimators': 200, 'random_state': 80822}\n",
      "0.880648 for {'learning_rate': 0.1, 'max_depth': 14, 'n_estimators': 250, 'random_state': 80822}\n",
      "0.866504 for {'learning_rate': 0.1, 'max_depth': 14, 'n_estimators': 100, 'random_state': 80822}\n",
      "0.877769 for {'learning_rate': 0.1, 'max_depth': 14, 'n_estimators': 200, 'random_state': 80822}\n",
      "0.872511 for {'learning_rate': 0.1, 'max_depth': 15, 'n_estimators': 250, 'random_state': 80822}\n",
      "0.860477 for {'learning_rate': 0.1, 'max_depth': 15, 'n_estimators': 100, 'random_state': 80822}\n",
      "0.869661 for {'learning_rate': 0.1, 'max_depth': 15, 'n_estimators': 200, 'random_state': 80822}\n",
      "0.918310 for {'learning_rate': 0.5, 'max_depth': 2, 'n_estimators': 250, 'random_state': 80822}\n",
      "0.900838 for {'learning_rate': 0.5, 'max_depth': 2, 'n_estimators': 100, 'random_state': 80822}\n",
      "0.917599 for {'learning_rate': 0.5, 'max_depth': 2, 'n_estimators': 200, 'random_state': 80822}\n",
      "0.910662 for {'learning_rate': 0.5, 'max_depth': 3, 'n_estimators': 250, 'random_state': 80822}\n",
      "0.898494 for {'learning_rate': 0.5, 'max_depth': 3, 'n_estimators': 100, 'random_state': 80822}\n",
      "0.909070 for {'learning_rate': 0.5, 'max_depth': 3, 'n_estimators': 200, 'random_state': 80822}\n",
      "0.907936 for {'learning_rate': 0.5, 'max_depth': 4, 'n_estimators': 250, 'random_state': 80822}\n",
      "0.903783 for {'learning_rate': 0.5, 'max_depth': 4, 'n_estimators': 100, 'random_state': 80822}\n",
      "0.906673 for {'learning_rate': 0.5, 'max_depth': 4, 'n_estimators': 200, 'random_state': 80822}\n",
      "0.901401 for {'learning_rate': 0.5, 'max_depth': 5, 'n_estimators': 250, 'random_state': 80822}\n",
      "0.897425 for {'learning_rate': 0.5, 'max_depth': 5, 'n_estimators': 100, 'random_state': 80822}\n",
      "0.900127 for {'learning_rate': 0.5, 'max_depth': 5, 'n_estimators': 200, 'random_state': 80822}\n",
      "0.895924 for {'learning_rate': 0.5, 'max_depth': 6, 'n_estimators': 250, 'random_state': 80822}\n",
      "0.891885 for {'learning_rate': 0.5, 'max_depth': 6, 'n_estimators': 100, 'random_state': 80822}\n",
      "0.896637 for {'learning_rate': 0.5, 'max_depth': 6, 'n_estimators': 200, 'random_state': 80822}\n",
      "0.890105 for {'learning_rate': 0.5, 'max_depth': 7, 'n_estimators': 250, 'random_state': 80822}\n",
      "0.887083 for {'learning_rate': 0.5, 'max_depth': 7, 'n_estimators': 100, 'random_state': 80822}\n",
      "0.890727 for {'learning_rate': 0.5, 'max_depth': 7, 'n_estimators': 200, 'random_state': 80822}\n",
      "0.890849 for {'learning_rate': 0.5, 'max_depth': 8, 'n_estimators': 250, 'random_state': 80822}\n",
      "0.886397 for {'learning_rate': 0.5, 'max_depth': 8, 'n_estimators': 100, 'random_state': 80822}\n",
      "0.891017 for {'learning_rate': 0.5, 'max_depth': 8, 'n_estimators': 200, 'random_state': 80822}\n",
      "0.891996 for {'learning_rate': 0.5, 'max_depth': 9, 'n_estimators': 250, 'random_state': 80822}\n",
      "0.890019 for {'learning_rate': 0.5, 'max_depth': 9, 'n_estimators': 100, 'random_state': 80822}\n",
      "0.892266 for {'learning_rate': 0.5, 'max_depth': 9, 'n_estimators': 200, 'random_state': 80822}\n",
      "0.884726 for {'learning_rate': 0.5, 'max_depth': 10, 'n_estimators': 250, 'random_state': 80822}\n",
      "0.885000 for {'learning_rate': 0.5, 'max_depth': 10, 'n_estimators': 100, 'random_state': 80822}\n",
      "0.884041 for {'learning_rate': 0.5, 'max_depth': 10, 'n_estimators': 200, 'random_state': 80822}\n",
      "0.884337 for {'learning_rate': 0.5, 'max_depth': 11, 'n_estimators': 250, 'random_state': 80822}\n",
      "0.879480 for {'learning_rate': 0.5, 'max_depth': 11, 'n_estimators': 100, 'random_state': 80822}\n",
      "0.883680 for {'learning_rate': 0.5, 'max_depth': 11, 'n_estimators': 200, 'random_state': 80822}\n",
      "0.884746 for {'learning_rate': 0.5, 'max_depth': 12, 'n_estimators': 250, 'random_state': 80822}\n",
      "0.881167 for {'learning_rate': 0.5, 'max_depth': 12, 'n_estimators': 100, 'random_state': 80822}\n",
      "0.884568 for {'learning_rate': 0.5, 'max_depth': 12, 'n_estimators': 200, 'random_state': 80822}\n",
      "0.884725 for {'learning_rate': 0.5, 'max_depth': 13, 'n_estimators': 250, 'random_state': 80822}\n",
      "0.881856 for {'learning_rate': 0.5, 'max_depth': 13, 'n_estimators': 100, 'random_state': 80822}\n",
      "0.885182 for {'learning_rate': 0.5, 'max_depth': 13, 'n_estimators': 200, 'random_state': 80822}\n",
      "0.878250 for {'learning_rate': 0.5, 'max_depth': 14, 'n_estimators': 250, 'random_state': 80822}\n",
      "0.875771 for {'learning_rate': 0.5, 'max_depth': 14, 'n_estimators': 100, 'random_state': 80822}\n",
      "0.878300 for {'learning_rate': 0.5, 'max_depth': 14, 'n_estimators': 200, 'random_state': 80822}\n",
      "0.878660 for {'learning_rate': 0.5, 'max_depth': 15, 'n_estimators': 250, 'random_state': 80822}\n",
      "0.875216 for {'learning_rate': 0.5, 'max_depth': 15, 'n_estimators': 100, 'random_state': 80822}\n",
      "0.877741 for {'learning_rate': 0.5, 'max_depth': 15, 'n_estimators': 200, 'random_state': 80822}\n",
      "0.853019 for {'learning_rate': 0.02, 'max_depth': 2, 'n_estimators': 250, 'random_state': 80822}\n",
      "0.834817 for {'learning_rate': 0.02, 'max_depth': 2, 'n_estimators': 100, 'random_state': 80822}\n",
      "0.849204 for {'learning_rate': 0.02, 'max_depth': 2, 'n_estimators': 200, 'random_state': 80822}\n",
      "0.863568 for {'learning_rate': 0.02, 'max_depth': 3, 'n_estimators': 250, 'random_state': 80822}\n",
      "0.846418 for {'learning_rate': 0.02, 'max_depth': 3, 'n_estimators': 100, 'random_state': 80822}\n",
      "0.859999 for {'learning_rate': 0.02, 'max_depth': 3, 'n_estimators': 200, 'random_state': 80822}\n",
      "0.875461 for {'learning_rate': 0.02, 'max_depth': 4, 'n_estimators': 250, 'random_state': 80822}\n",
      "0.859490 for {'learning_rate': 0.02, 'max_depth': 4, 'n_estimators': 100, 'random_state': 80822}\n",
      "0.871428 for {'learning_rate': 0.02, 'max_depth': 4, 'n_estimators': 200, 'random_state': 80822}\n",
      "0.880392 for {'learning_rate': 0.02, 'max_depth': 5, 'n_estimators': 250, 'random_state': 80822}\n",
      "0.866501 for {'learning_rate': 0.02, 'max_depth': 5, 'n_estimators': 100, 'random_state': 80822}\n",
      "0.876221 for {'learning_rate': 0.02, 'max_depth': 5, 'n_estimators': 200, 'random_state': 80822}\n",
      "0.884020 for {'learning_rate': 0.02, 'max_depth': 6, 'n_estimators': 250, 'random_state': 80822}\n",
      "0.872206 for {'learning_rate': 0.02, 'max_depth': 6, 'n_estimators': 100, 'random_state': 80822}\n",
      "0.880827 for {'learning_rate': 0.02, 'max_depth': 6, 'n_estimators': 200, 'random_state': 80822}\n",
      "0.885130 for {'learning_rate': 0.02, 'max_depth': 7, 'n_estimators': 250, 'random_state': 80822}\n",
      "0.873575 for {'learning_rate': 0.02, 'max_depth': 7, 'n_estimators': 100, 'random_state': 80822}\n",
      "0.881704 for {'learning_rate': 0.02, 'max_depth': 7, 'n_estimators': 200, 'random_state': 80822}\n",
      "0.882786 for {'learning_rate': 0.02, 'max_depth': 8, 'n_estimators': 250, 'random_state': 80822}\n",
      "0.869240 for {'learning_rate': 0.02, 'max_depth': 8, 'n_estimators': 100, 'random_state': 80822}\n",
      "0.879428 for {'learning_rate': 0.02, 'max_depth': 8, 'n_estimators': 200, 'random_state': 80822}\n",
      "0.880378 for {'learning_rate': 0.02, 'max_depth': 9, 'n_estimators': 250, 'random_state': 80822}\n",
      "0.867797 for {'learning_rate': 0.02, 'max_depth': 9, 'n_estimators': 100, 'random_state': 80822}\n",
      "0.877267 for {'learning_rate': 0.02, 'max_depth': 9, 'n_estimators': 200, 'random_state': 80822}\n",
      "0.874727 for {'learning_rate': 0.02, 'max_depth': 10, 'n_estimators': 250, 'random_state': 80822}\n",
      "0.858078 for {'learning_rate': 0.02, 'max_depth': 10, 'n_estimators': 100, 'random_state': 80822}\n",
      "0.870583 for {'learning_rate': 0.02, 'max_depth': 10, 'n_estimators': 200, 'random_state': 80822}\n",
      "0.869883 for {'learning_rate': 0.02, 'max_depth': 11, 'n_estimators': 250, 'random_state': 80822}\n",
      "0.849005 for {'learning_rate': 0.02, 'max_depth': 11, 'n_estimators': 100, 'random_state': 80822}\n",
      "0.865584 for {'learning_rate': 0.02, 'max_depth': 11, 'n_estimators': 200, 'random_state': 80822}\n",
      "0.865012 for {'learning_rate': 0.02, 'max_depth': 12, 'n_estimators': 250, 'random_state': 80822}\n",
      "0.845750 for {'learning_rate': 0.02, 'max_depth': 12, 'n_estimators': 100, 'random_state': 80822}\n",
      "0.861101 for {'learning_rate': 0.02, 'max_depth': 12, 'n_estimators': 200, 'random_state': 80822}\n",
      "0.858490 for {'learning_rate': 0.02, 'max_depth': 13, 'n_estimators': 250, 'random_state': 80822}\n",
      "0.836329 for {'learning_rate': 0.02, 'max_depth': 13, 'n_estimators': 100, 'random_state': 80822}\n",
      "0.853416 for {'learning_rate': 0.02, 'max_depth': 13, 'n_estimators': 200, 'random_state': 80822}\n",
      "0.852849 for {'learning_rate': 0.02, 'max_depth': 14, 'n_estimators': 250, 'random_state': 80822}\n",
      "0.827832 for {'learning_rate': 0.02, 'max_depth': 14, 'n_estimators': 100, 'random_state': 80822}\n",
      "0.846170 for {'learning_rate': 0.02, 'max_depth': 14, 'n_estimators': 200, 'random_state': 80822}\n",
      "0.843681 for {'learning_rate': 0.02, 'max_depth': 15, 'n_estimators': 250, 'random_state': 80822}\n",
      "0.815539 for {'learning_rate': 0.02, 'max_depth': 15, 'n_estimators': 100, 'random_state': 80822}\n",
      "0.836180 for {'learning_rate': 0.02, 'max_depth': 15, 'n_estimators': 200, 'random_state': 80822}\n"
     ]
    },
    {
     "data": {
      "text/plain": [
       "GradientBoostingClassifier(learning_rate=0.5, max_depth=2, n_estimators=250,\n",
       "                           random_state=80822)"
      ]
     },
     "execution_count": 133,
     "metadata": {},
     "output_type": "execute_result"
    }
   ],
   "source": [
    "MODEL_SETTINGS = {\n",
    "  'learning_rate': [0.1, 0.5, 0.02],\n",
    "  'n_estimators': [250, 100, 200],\n",
    "    'random_state':[RANDOM_STATE],\n",
    "  'max_depth': [x for x in range (2,16)]}\n",
    "                \n",
    "best_hypers_for_model(GradientBoostingClassifier(),MODEL_SETTINGS, features_train, target_train)"
   ]
  },
  {
   "cell_type": "markdown",
   "metadata": {},
   "source": []
  },
  {
   "cell_type": "code",
   "execution_count": null,
   "metadata": {
    "scrolled": false
   },
   "outputs": [],
   "source": [
    "best_hypers_for_model(GradientBoostingClassifier(),MODEL_SETTINGS, features_upsampled, target_upsampled)"
   ]
  },
  {
   "cell_type": "code",
   "execution_count": null,
   "metadata": {
    "scrolled": true
   },
   "outputs": [],
   "source": [
    "best_hypers_for_model(GradientBoostingClassifier(),MODEL_SETTINGS, features_downsampled, target_downsampled)"
   ]
  },
  {
   "cell_type": "markdown",
   "metadata": {},
   "source": [
    "### LGBMClassifier"
   ]
  },
  {
   "cell_type": "code",
   "execution_count": 122,
   "metadata": {
    "scrolled": true
   },
   "outputs": [
    {
     "name": "stdout",
     "output_type": "stream",
     "text": [
      "LGBMClassifier Best parameters set found on development set:\n",
      "\n",
      "{'learning_rate': 0.5, 'max_depth': 4, 'n_estimators': 150, 'random_state': 80822}\n",
      "\n",
      "Grid scores on development set:\n",
      "\n",
      "0.887453 for {'learning_rate': 0.5, 'max_depth': 4, 'n_estimators': 70, 'random_state': 80822}\n",
      "0.893544 for {'learning_rate': 0.5, 'max_depth': 4, 'n_estimators': 150, 'random_state': 80822}\n",
      "0.893211 for {'learning_rate': 0.5, 'max_depth': 4, 'n_estimators': 200, 'random_state': 80822}\n",
      "0.885603 for {'learning_rate': 0.5, 'max_depth': 5, 'n_estimators': 70, 'random_state': 80822}\n",
      "0.882966 for {'learning_rate': 0.5, 'max_depth': 5, 'n_estimators': 150, 'random_state': 80822}\n",
      "0.882758 for {'learning_rate': 0.5, 'max_depth': 5, 'n_estimators': 200, 'random_state': 80822}\n",
      "0.883555 for {'learning_rate': 0.5, 'max_depth': 6, 'n_estimators': 70, 'random_state': 80822}\n",
      "0.882087 for {'learning_rate': 0.5, 'max_depth': 6, 'n_estimators': 150, 'random_state': 80822}\n",
      "0.880220 for {'learning_rate': 0.5, 'max_depth': 6, 'n_estimators': 200, 'random_state': 80822}\n",
      "0.876960 for {'learning_rate': 0.5, 'max_depth': 12, 'n_estimators': 70, 'random_state': 80822}\n",
      "0.874923 for {'learning_rate': 0.5, 'max_depth': 12, 'n_estimators': 150, 'random_state': 80822}\n",
      "0.874275 for {'learning_rate': 0.5, 'max_depth': 12, 'n_estimators': 200, 'random_state': 80822}\n",
      "0.884269 for {'learning_rate': 0.6, 'max_depth': 4, 'n_estimators': 70, 'random_state': 80822}\n",
      "0.890097 for {'learning_rate': 0.6, 'max_depth': 4, 'n_estimators': 150, 'random_state': 80822}\n",
      "0.888854 for {'learning_rate': 0.6, 'max_depth': 4, 'n_estimators': 200, 'random_state': 80822}\n",
      "0.886369 for {'learning_rate': 0.6, 'max_depth': 5, 'n_estimators': 70, 'random_state': 80822}\n",
      "0.884436 for {'learning_rate': 0.6, 'max_depth': 5, 'n_estimators': 150, 'random_state': 80822}\n",
      "0.883017 for {'learning_rate': 0.6, 'max_depth': 5, 'n_estimators': 200, 'random_state': 80822}\n",
      "0.885174 for {'learning_rate': 0.6, 'max_depth': 6, 'n_estimators': 70, 'random_state': 80822}\n",
      "0.882694 for {'learning_rate': 0.6, 'max_depth': 6, 'n_estimators': 150, 'random_state': 80822}\n",
      "0.880691 for {'learning_rate': 0.6, 'max_depth': 6, 'n_estimators': 200, 'random_state': 80822}\n",
      "0.877276 for {'learning_rate': 0.6, 'max_depth': 12, 'n_estimators': 70, 'random_state': 80822}\n",
      "0.873179 for {'learning_rate': 0.6, 'max_depth': 12, 'n_estimators': 150, 'random_state': 80822}\n",
      "0.873558 for {'learning_rate': 0.6, 'max_depth': 12, 'n_estimators': 200, 'random_state': 80822}\n",
      "0.861752 for {'learning_rate': 0.05, 'max_depth': 4, 'n_estimators': 70, 'random_state': 80822}\n",
      "0.873438 for {'learning_rate': 0.05, 'max_depth': 4, 'n_estimators': 150, 'random_state': 80822}\n",
      "0.877022 for {'learning_rate': 0.05, 'max_depth': 4, 'n_estimators': 200, 'random_state': 80822}\n",
      "0.866952 for {'learning_rate': 0.05, 'max_depth': 5, 'n_estimators': 70, 'random_state': 80822}\n",
      "0.876637 for {'learning_rate': 0.05, 'max_depth': 5, 'n_estimators': 150, 'random_state': 80822}\n",
      "0.879565 for {'learning_rate': 0.05, 'max_depth': 5, 'n_estimators': 200, 'random_state': 80822}\n",
      "0.868866 for {'learning_rate': 0.05, 'max_depth': 6, 'n_estimators': 70, 'random_state': 80822}\n",
      "0.877932 for {'learning_rate': 0.05, 'max_depth': 6, 'n_estimators': 150, 'random_state': 80822}\n",
      "0.880761 for {'learning_rate': 0.05, 'max_depth': 6, 'n_estimators': 200, 'random_state': 80822}\n",
      "0.873570 for {'learning_rate': 0.05, 'max_depth': 12, 'n_estimators': 70, 'random_state': 80822}\n",
      "0.882155 for {'learning_rate': 0.05, 'max_depth': 12, 'n_estimators': 150, 'random_state': 80822}\n",
      "0.884837 for {'learning_rate': 0.05, 'max_depth': 12, 'n_estimators': 200, 'random_state': 80822}\n"
     ]
    },
    {
     "data": {
      "text/plain": [
       "LGBMClassifier(learning_rate=0.5, max_depth=4, n_estimators=150,\n",
       "               random_state=80822)"
      ]
     },
     "execution_count": 122,
     "metadata": {},
     "output_type": "execute_result"
    }
   ],
   "source": [
    "MODEL_SETTINGS = {\n",
    "  'learning_rate': [ 0.5, 0.6, 0.05],\n",
    "  'n_estimators': [ 70, 150, 200],\n",
    "    'random_state':[RANDOM_STATE],\n",
    "  'max_depth': [4,5, 6, 12 ]}\n",
    "lgbm = best_hypers_for_model(LGBMClassifier(),MODEL_SETTINGS,features_train, target_train)\n",
    "lgbm"
   ]
  },
  {
   "cell_type": "code",
   "execution_count": 130,
   "metadata": {
    "scrolled": true
   },
   "outputs": [
    {
     "name": "stdout",
     "output_type": "stream",
     "text": [
      "LGBMClassifier Best parameters set found on development set:\n",
      "\n",
      "{'learning_rate': 0.8, 'max_depth': 12, 'n_estimators': 200, 'random_state': 80822}\n",
      "\n",
      "Grid scores on development set:\n",
      "\n",
      "0.857794 for {'learning_rate': 0.1, 'max_depth': 2, 'n_estimators': 50, 'random_state': 80822}\n",
      "0.874382 for {'learning_rate': 0.1, 'max_depth': 2, 'n_estimators': 100, 'random_state': 80822}\n",
      "0.892650 for {'learning_rate': 0.1, 'max_depth': 2, 'n_estimators': 200, 'random_state': 80822}\n",
      "0.866856 for {'learning_rate': 0.1, 'max_depth': 3, 'n_estimators': 50, 'random_state': 80822}\n",
      "0.883787 for {'learning_rate': 0.1, 'max_depth': 3, 'n_estimators': 100, 'random_state': 80822}\n",
      "0.905621 for {'learning_rate': 0.1, 'max_depth': 3, 'n_estimators': 200, 'random_state': 80822}\n",
      "0.881558 for {'learning_rate': 0.1, 'max_depth': 4, 'n_estimators': 50, 'random_state': 80822}\n",
      "0.902934 for {'learning_rate': 0.1, 'max_depth': 4, 'n_estimators': 100, 'random_state': 80822}\n",
      "0.927967 for {'learning_rate': 0.1, 'max_depth': 4, 'n_estimators': 200, 'random_state': 80822}\n",
      "0.896016 for {'learning_rate': 0.1, 'max_depth': 5, 'n_estimators': 50, 'random_state': 80822}\n",
      "0.918036 for {'learning_rate': 0.1, 'max_depth': 5, 'n_estimators': 100, 'random_state': 80822}\n",
      "0.943557 for {'learning_rate': 0.1, 'max_depth': 5, 'n_estimators': 200, 'random_state': 80822}\n",
      "0.907144 for {'learning_rate': 0.1, 'max_depth': 6, 'n_estimators': 50, 'random_state': 80822}\n",
      "0.930567 for {'learning_rate': 0.1, 'max_depth': 6, 'n_estimators': 100, 'random_state': 80822}\n",
      "0.954490 for {'learning_rate': 0.1, 'max_depth': 6, 'n_estimators': 200, 'random_state': 80822}\n",
      "0.912755 for {'learning_rate': 0.1, 'max_depth': 7, 'n_estimators': 50, 'random_state': 80822}\n",
      "0.935793 for {'learning_rate': 0.1, 'max_depth': 7, 'n_estimators': 100, 'random_state': 80822}\n",
      "0.957885 for {'learning_rate': 0.1, 'max_depth': 7, 'n_estimators': 200, 'random_state': 80822}\n",
      "0.915030 for {'learning_rate': 0.1, 'max_depth': 8, 'n_estimators': 50, 'random_state': 80822}\n",
      "0.938580 for {'learning_rate': 0.1, 'max_depth': 8, 'n_estimators': 100, 'random_state': 80822}\n",
      "0.960667 for {'learning_rate': 0.1, 'max_depth': 8, 'n_estimators': 200, 'random_state': 80822}\n",
      "0.915334 for {'learning_rate': 0.1, 'max_depth': 9, 'n_estimators': 50, 'random_state': 80822}\n",
      "0.940164 for {'learning_rate': 0.1, 'max_depth': 9, 'n_estimators': 100, 'random_state': 80822}\n",
      "0.961686 for {'learning_rate': 0.1, 'max_depth': 9, 'n_estimators': 200, 'random_state': 80822}\n",
      "0.916998 for {'learning_rate': 0.1, 'max_depth': 10, 'n_estimators': 50, 'random_state': 80822}\n",
      "0.940792 for {'learning_rate': 0.1, 'max_depth': 10, 'n_estimators': 100, 'random_state': 80822}\n",
      "0.963781 for {'learning_rate': 0.1, 'max_depth': 10, 'n_estimators': 200, 'random_state': 80822}\n",
      "0.916095 for {'learning_rate': 0.1, 'max_depth': 11, 'n_estimators': 50, 'random_state': 80822}\n",
      "0.941668 for {'learning_rate': 0.1, 'max_depth': 11, 'n_estimators': 100, 'random_state': 80822}\n",
      "0.962888 for {'learning_rate': 0.1, 'max_depth': 11, 'n_estimators': 200, 'random_state': 80822}\n",
      "0.918189 for {'learning_rate': 0.1, 'max_depth': 12, 'n_estimators': 50, 'random_state': 80822}\n",
      "0.942781 for {'learning_rate': 0.1, 'max_depth': 12, 'n_estimators': 100, 'random_state': 80822}\n",
      "0.963745 for {'learning_rate': 0.1, 'max_depth': 12, 'n_estimators': 200, 'random_state': 80822}\n",
      "0.918107 for {'learning_rate': 0.1, 'max_depth': 13, 'n_estimators': 50, 'random_state': 80822}\n",
      "0.941899 for {'learning_rate': 0.1, 'max_depth': 13, 'n_estimators': 100, 'random_state': 80822}\n",
      "0.964522 for {'learning_rate': 0.1, 'max_depth': 13, 'n_estimators': 200, 'random_state': 80822}\n",
      "0.919116 for {'learning_rate': 0.1, 'max_depth': 14, 'n_estimators': 50, 'random_state': 80822}\n",
      "0.942471 for {'learning_rate': 0.1, 'max_depth': 14, 'n_estimators': 100, 'random_state': 80822}\n",
      "0.964161 for {'learning_rate': 0.1, 'max_depth': 14, 'n_estimators': 200, 'random_state': 80822}\n",
      "0.918758 for {'learning_rate': 0.1, 'max_depth': 15, 'n_estimators': 50, 'random_state': 80822}\n",
      "0.943597 for {'learning_rate': 0.1, 'max_depth': 15, 'n_estimators': 100, 'random_state': 80822}\n",
      "0.963749 for {'learning_rate': 0.1, 'max_depth': 15, 'n_estimators': 200, 'random_state': 80822}\n",
      "0.897256 for {'learning_rate': 0.5, 'max_depth': 2, 'n_estimators': 50, 'random_state': 80822}\n",
      "0.920692 for {'learning_rate': 0.5, 'max_depth': 2, 'n_estimators': 100, 'random_state': 80822}\n",
      "0.939965 for {'learning_rate': 0.5, 'max_depth': 2, 'n_estimators': 200, 'random_state': 80822}\n",
      "0.914402 for {'learning_rate': 0.5, 'max_depth': 3, 'n_estimators': 50, 'random_state': 80822}\n",
      "0.940337 for {'learning_rate': 0.5, 'max_depth': 3, 'n_estimators': 100, 'random_state': 80822}\n",
      "0.957922 for {'learning_rate': 0.5, 'max_depth': 3, 'n_estimators': 200, 'random_state': 80822}\n",
      "0.934380 for {'learning_rate': 0.5, 'max_depth': 4, 'n_estimators': 50, 'random_state': 80822}\n",
      "0.955038 for {'learning_rate': 0.5, 'max_depth': 4, 'n_estimators': 100, 'random_state': 80822}\n",
      "0.967533 for {'learning_rate': 0.5, 'max_depth': 4, 'n_estimators': 200, 'random_state': 80822}\n",
      "0.946654 for {'learning_rate': 0.5, 'max_depth': 5, 'n_estimators': 50, 'random_state': 80822}\n",
      "0.965676 for {'learning_rate': 0.5, 'max_depth': 5, 'n_estimators': 100, 'random_state': 80822}\n",
      "0.976858 for {'learning_rate': 0.5, 'max_depth': 5, 'n_estimators': 200, 'random_state': 80822}\n",
      "0.955810 for {'learning_rate': 0.5, 'max_depth': 6, 'n_estimators': 50, 'random_state': 80822}\n",
      "0.970869 for {'learning_rate': 0.5, 'max_depth': 6, 'n_estimators': 100, 'random_state': 80822}\n",
      "0.978860 for {'learning_rate': 0.5, 'max_depth': 6, 'n_estimators': 200, 'random_state': 80822}\n",
      "0.960604 for {'learning_rate': 0.5, 'max_depth': 7, 'n_estimators': 50, 'random_state': 80822}\n",
      "0.975078 for {'learning_rate': 0.5, 'max_depth': 7, 'n_estimators': 100, 'random_state': 80822}\n",
      "0.980757 for {'learning_rate': 0.5, 'max_depth': 7, 'n_estimators': 200, 'random_state': 80822}\n",
      "0.961857 for {'learning_rate': 0.5, 'max_depth': 8, 'n_estimators': 50, 'random_state': 80822}\n",
      "0.975456 for {'learning_rate': 0.5, 'max_depth': 8, 'n_estimators': 100, 'random_state': 80822}\n",
      "0.980908 for {'learning_rate': 0.5, 'max_depth': 8, 'n_estimators': 200, 'random_state': 80822}\n",
      "0.960771 for {'learning_rate': 0.5, 'max_depth': 9, 'n_estimators': 50, 'random_state': 80822}\n",
      "0.974786 for {'learning_rate': 0.5, 'max_depth': 9, 'n_estimators': 100, 'random_state': 80822}\n",
      "0.980379 for {'learning_rate': 0.5, 'max_depth': 9, 'n_estimators': 200, 'random_state': 80822}\n",
      "0.968713 for {'learning_rate': 0.5, 'max_depth': 10, 'n_estimators': 50, 'random_state': 80822}\n",
      "0.977848 for {'learning_rate': 0.5, 'max_depth': 10, 'n_estimators': 100, 'random_state': 80822}\n",
      "0.983537 for {'learning_rate': 0.5, 'max_depth': 10, 'n_estimators': 200, 'random_state': 80822}\n",
      "0.964339 for {'learning_rate': 0.5, 'max_depth': 11, 'n_estimators': 50, 'random_state': 80822}\n",
      "0.976236 for {'learning_rate': 0.5, 'max_depth': 11, 'n_estimators': 100, 'random_state': 80822}\n",
      "0.981271 for {'learning_rate': 0.5, 'max_depth': 11, 'n_estimators': 200, 'random_state': 80822}\n",
      "0.966169 for {'learning_rate': 0.5, 'max_depth': 12, 'n_estimators': 50, 'random_state': 80822}\n",
      "0.977163 for {'learning_rate': 0.5, 'max_depth': 12, 'n_estimators': 100, 'random_state': 80822}\n",
      "0.981732 for {'learning_rate': 0.5, 'max_depth': 12, 'n_estimators': 200, 'random_state': 80822}\n",
      "0.964444 for {'learning_rate': 0.5, 'max_depth': 13, 'n_estimators': 50, 'random_state': 80822}\n",
      "0.976385 for {'learning_rate': 0.5, 'max_depth': 13, 'n_estimators': 100, 'random_state': 80822}\n",
      "0.981756 for {'learning_rate': 0.5, 'max_depth': 13, 'n_estimators': 200, 'random_state': 80822}\n",
      "0.965869 for {'learning_rate': 0.5, 'max_depth': 14, 'n_estimators': 50, 'random_state': 80822}\n",
      "0.976280 for {'learning_rate': 0.5, 'max_depth': 14, 'n_estimators': 100, 'random_state': 80822}\n",
      "0.981015 for {'learning_rate': 0.5, 'max_depth': 14, 'n_estimators': 200, 'random_state': 80822}\n",
      "0.964617 for {'learning_rate': 0.5, 'max_depth': 15, 'n_estimators': 50, 'random_state': 80822}\n",
      "0.975203 for {'learning_rate': 0.5, 'max_depth': 15, 'n_estimators': 100, 'random_state': 80822}\n",
      "0.980500 for {'learning_rate': 0.5, 'max_depth': 15, 'n_estimators': 200, 'random_state': 80822}\n",
      "0.900298 for {'learning_rate': 0.8, 'max_depth': 2, 'n_estimators': 50, 'random_state': 80822}\n",
      "0.925539 for {'learning_rate': 0.8, 'max_depth': 2, 'n_estimators': 100, 'random_state': 80822}\n",
      "0.949695 for {'learning_rate': 0.8, 'max_depth': 2, 'n_estimators': 200, 'random_state': 80822}\n",
      "0.925267 for {'learning_rate': 0.8, 'max_depth': 3, 'n_estimators': 50, 'random_state': 80822}\n",
      "0.948155 for {'learning_rate': 0.8, 'max_depth': 3, 'n_estimators': 100, 'random_state': 80822}\n",
      "0.963683 for {'learning_rate': 0.8, 'max_depth': 3, 'n_estimators': 200, 'random_state': 80822}\n",
      "0.943362 for {'learning_rate': 0.8, 'max_depth': 4, 'n_estimators': 50, 'random_state': 80822}\n",
      "0.961120 for {'learning_rate': 0.8, 'max_depth': 4, 'n_estimators': 100, 'random_state': 80822}\n",
      "0.972517 for {'learning_rate': 0.8, 'max_depth': 4, 'n_estimators': 200, 'random_state': 80822}\n",
      "0.955348 for {'learning_rate': 0.8, 'max_depth': 5, 'n_estimators': 50, 'random_state': 80822}\n",
      "0.970506 for {'learning_rate': 0.8, 'max_depth': 5, 'n_estimators': 100, 'random_state': 80822}\n",
      "0.977460 for {'learning_rate': 0.8, 'max_depth': 5, 'n_estimators': 200, 'random_state': 80822}\n",
      "0.963742 for {'learning_rate': 0.8, 'max_depth': 6, 'n_estimators': 50, 'random_state': 80822}\n",
      "0.975934 for {'learning_rate': 0.8, 'max_depth': 6, 'n_estimators': 100, 'random_state': 80822}\n",
      "0.981064 for {'learning_rate': 0.8, 'max_depth': 6, 'n_estimators': 200, 'random_state': 80822}\n",
      "0.965396 for {'learning_rate': 0.8, 'max_depth': 7, 'n_estimators': 50, 'random_state': 80822}\n",
      "0.975607 for {'learning_rate': 0.8, 'max_depth': 7, 'n_estimators': 100, 'random_state': 80822}\n",
      "0.980393 for {'learning_rate': 0.8, 'max_depth': 7, 'n_estimators': 200, 'random_state': 80822}\n",
      "0.968990 for {'learning_rate': 0.8, 'max_depth': 8, 'n_estimators': 50, 'random_state': 80822}\n",
      "0.977249 for {'learning_rate': 0.8, 'max_depth': 8, 'n_estimators': 100, 'random_state': 80822}\n",
      "0.982899 for {'learning_rate': 0.8, 'max_depth': 8, 'n_estimators': 200, 'random_state': 80822}\n",
      "0.966110 for {'learning_rate': 0.8, 'max_depth': 9, 'n_estimators': 50, 'random_state': 80822}\n",
      "0.977895 for {'learning_rate': 0.8, 'max_depth': 9, 'n_estimators': 100, 'random_state': 80822}\n",
      "0.982184 for {'learning_rate': 0.8, 'max_depth': 9, 'n_estimators': 200, 'random_state': 80822}\n",
      "0.968622 for {'learning_rate': 0.8, 'max_depth': 10, 'n_estimators': 50, 'random_state': 80822}\n",
      "0.978269 for {'learning_rate': 0.8, 'max_depth': 10, 'n_estimators': 100, 'random_state': 80822}\n",
      "0.981903 for {'learning_rate': 0.8, 'max_depth': 10, 'n_estimators': 200, 'random_state': 80822}\n",
      "0.968775 for {'learning_rate': 0.8, 'max_depth': 11, 'n_estimators': 50, 'random_state': 80822}\n",
      "0.977203 for {'learning_rate': 0.8, 'max_depth': 11, 'n_estimators': 100, 'random_state': 80822}\n",
      "0.981788 for {'learning_rate': 0.8, 'max_depth': 11, 'n_estimators': 200, 'random_state': 80822}\n",
      "0.968284 for {'learning_rate': 0.8, 'max_depth': 12, 'n_estimators': 50, 'random_state': 80822}\n",
      "0.978462 for {'learning_rate': 0.8, 'max_depth': 12, 'n_estimators': 100, 'random_state': 80822}\n",
      "0.983633 for {'learning_rate': 0.8, 'max_depth': 12, 'n_estimators': 200, 'random_state': 80822}\n",
      "0.967606 for {'learning_rate': 0.8, 'max_depth': 13, 'n_estimators': 50, 'random_state': 80822}\n",
      "0.976096 for {'learning_rate': 0.8, 'max_depth': 13, 'n_estimators': 100, 'random_state': 80822}\n",
      "0.982026 for {'learning_rate': 0.8, 'max_depth': 13, 'n_estimators': 200, 'random_state': 80822}\n",
      "0.968428 for {'learning_rate': 0.8, 'max_depth': 14, 'n_estimators': 50, 'random_state': 80822}\n",
      "0.977985 for {'learning_rate': 0.8, 'max_depth': 14, 'n_estimators': 100, 'random_state': 80822}\n",
      "0.981398 for {'learning_rate': 0.8, 'max_depth': 14, 'n_estimators': 200, 'random_state': 80822}\n",
      "0.968292 for {'learning_rate': 0.8, 'max_depth': 15, 'n_estimators': 50, 'random_state': 80822}\n",
      "0.976740 for {'learning_rate': 0.8, 'max_depth': 15, 'n_estimators': 100, 'random_state': 80822}\n",
      "0.981065 for {'learning_rate': 0.8, 'max_depth': 15, 'n_estimators': 200, 'random_state': 80822}\n"
     ]
    }
   ],
   "source": [
    "lgbm_up =best_hypers_for_model(LGBMClassifier(),MODEL_SETTINGS,features_upsampled, target_upsampled)"
   ]
  },
  {
   "cell_type": "markdown",
   "metadata": {},
   "source": [
    "LGBMClassifier(learning_rate=0.4, max_depth=6, n_estimators=50,\n",
    "               random_state=80822)"
   ]
  },
  {
   "cell_type": "code",
   "execution_count": null,
   "metadata": {},
   "outputs": [],
   "source": [
    "best_hypers_for_model(LGBMClassifier(),MODEL_SETTINGS,features_downsampled, target_downsampled)"
   ]
  },
  {
   "cell_type": "markdown",
   "metadata": {},
   "source": [
    "<a id=\"test\"></a>\n",
    "### Тестирование"
   ]
  },
  {
   "cell_type": "code",
   "execution_count": 62,
   "metadata": {},
   "outputs": [],
   "source": [
    "def plot_roc(model, target, features):\n",
    "    model_name = str(model).split('(')[0]\n",
    "    roc_auc = roc_auc_score(target, model.predict(features))\n",
    "    fpr, tpr, thresholds = roc_curve(target, model.predict_proba(features)[:,1])\n",
    "    plt.figure()\n",
    "    plt.plot(fpr, tpr, label= model_name + '(area = %0.2f)' % roc_auc)\n",
    "    plt.plot([0, 1], [0, 1],'r--')\n",
    "    plt.xlim([0.0, 1.0])\n",
    "    plt.ylim([0.0, 1.05])\n",
    "    plt.xlabel('False Positive Rate')\n",
    "    plt.ylabel('True Positive Rate')\n",
    "    plt.title('Receiver operating characteristic')\n",
    "    plt.legend(loc=\"lower right\")\n",
    "    plt.show()\n",
    "    return round(roc_auc,2), accuracy_score(target, model.predict(features))"
   ]
  },
  {
   "cell_type": "code",
   "execution_count": 63,
   "metadata": {
    "scrolled": false
   },
   "outputs": [
    {
     "data": {
      "image/png": "[encoded data removed]",
      "text/plain": [
       "<Figure size 432x288 with 1 Axes>"
      ]
     },
     "metadata": {
      "needs_background": "light"
     },
     "output_type": "display_data"
    }
   ],
   "source": [
    "roc_auc, accuracy = plot_roc(CB, target_test, features_test)"
   ]
  },
  {
   "cell_type": "code",
   "execution_count": 60,
   "metadata": {},
   "outputs": [],
   "source": [
    "def plot_feature_importance(importance,names,model_type):\n",
    "\n",
    "    feature_importance = np.array(importance)\n",
    "    feature_names = np.array(names)\n",
    "\n",
    "    data={'feature_names':feature_names,'feature_importance':feature_importance}\n",
    "    fi_df = pd.DataFrame(data)\n",
    "\n",
    "    fi_df.sort_values(by=['feature_importance'], ascending=False,inplace=True)\n",
    "\n",
    "    plt.figure(figsize=(10,8))\n",
    "\n",
    "    sns.barplot(x=fi_df['feature_importance'], y=fi_df['feature_names'])\n",
    "    \n",
    "    plt.title(model_type + ' Feature importance')\n",
    "    plt.xlabel('Feature importance')\n",
    "    plt.ylabel('Feature names')"
   ]
  },
  {
   "cell_type": "code",
   "execution_count": 61,
   "metadata": {},
   "outputs": [
    {
     "data": {
      "image/png": "[encoded data removed]",
      "text/plain": [
       "<Figure size 720x576 with 1 Axes>"
      ]
     },
     "metadata": {
      "needs_background": "light"
     },
     "output_type": "display_data"
    }
   ],
   "source": [
    "plot_feature_importance(CB.get_feature_importance(),features_train.columns,'CatboostClassifier ')"
   ]
  },
  {
   "cell_type": "markdown",
   "metadata": {},
   "source": [
    "<div class=\"alert alert-success\" style=\"border-color: green; border-radius: 5px\">\n",
    "    <p><u><b>✅ Полезно запомнить</b></u></p>\n",
    "Важные моменты для момделирования:<br>   \n",
    "1) F1, Акураси и AUC - отличные метрики, но нужно держать в голове, что это лишь бобщённые характеристики. А в реальной практике бизнесу часто важно знать детали самой ошибки - из каких ошибок/успехов она складывается. И в этом случае очень кстати будут меры полноты и точности. Рассмотри возможность их использования для своих проектов. Только через них можно выйти на финансовые возможности модели. Ведь перед запуском её в бой, будет сравнение стоимости создания и поддержки модели со стомостью \"оставить как есть\" \n",
    "    \n",
    "2) При анализе факторов влияния (их зависиомть между собой и на целевую) происходит по одному из трёх алгоритмов, исходя из типа шкалы. Могут применять следующие графический и аналитический анализы:<br>\n",
    "- колличественная-колличественная: аналитически методод - корреляции, графический - скатерплот.<br>\n",
    "- колличественная-номинальная: аналитически методод - проверка гипотез (стьюдент, маннауитни), графический - боксплот.<br>\n",
    "- номинальная-номинальная: аналитически методод - Хи-квадрат, графический - круговая диаграмма<br>\n",
    "Это я к тому разделу, который посвящён анализу данных. Там ты сделал интересные предположения и чтобы их доказать, стои проверить аналитически. Вот как раз те методы проверки гипотез, что выше написал.<br>\n",
    "    \n",
    "3) Алгоритм нахождения модели может быть таким:<br>\n",
    "- изучаем проблематику бизнеса и самой темы (в данном случае отток). Пытаемся понять суть явления.<br>\n",
    "- генерируем разные факторы влияния - любые.<br>\n",
    "- дизайнируем (прикидываем модели) какие методы решения есть, чтобы решить проблему.<br>\n",
    "- Смотрим, какие данные и в какой шкале есть. Что нужно ещё, что применить выбранный метод.<br>\n",
    "- Оцениваем мультиколлинеарность.<br>\n",
    "- строим модели и анализируем те фактры, какие сгенерировали ранее.<br>\n",
    "- Думаем над тем, какие причины (факторы) могут ещё влиять на отток.<br>\n",
    "- если после нескольких итераций точность \"замирает\" - значит достигли потолка)<br>\n",
    " \n",
    "4) Проведение анализа важности факторов с помощью команды feature_importances_ (+графический анализ). Отличная вещь намечается: высока я метрика + график рейтинаг факторов по силе влияния на целевой признак). Важнейшая часть любого модельного финала. Если видно, что часть факторов - слабозначимые для модели. Т.е. не значительно влияют на целевую переменную, то их смело можно убирать из модели. Ну и для бизнеса доносить: так мол и так - на эти факторы надо обращать внимание, а эти не влияют на уход клиента.<br><br><br>\n",
    "\n",
    "При моделировании существует проблематика мультиколлинеарности.(когда количественные факторы модели имеют сильную корреляцию друг с другом - больше 0.9).Есть ли она у нас?  Если есть - надо  решать по понятиям:) (удалить лишнее) \n"
   ]
  },
  {
   "cell_type": "code",
   "execution_count": null,
   "metadata": {},
   "outputs": [],
   "source": []
  },
  {
   "cell_type": "code",
   "execution_count": null,
   "metadata": {},
   "outputs": [],
   "source": []
  },
  {
   "cell_type": "markdown",
   "metadata": {},
   "source": [
    "<a id=\"conclusion\"></a>\n",
    "## Вывод"
   ]
  },
  {
   "cell_type": "markdown",
   "metadata": {},
   "source": [
    "* Заполнены пропуски после объединения данных\n",
    "* Созданы дополнительные признаки use_internet, use_phone, duration - время жизни клиента\n",
    "* Сформирован целевой признак inactive\n",
    "* Закодированы категориальные признаки\n",
    "* Протестированы различные модели классификации: \n",
    "    * catboostClassifier,\n",
    "    * decisiontreeClassifier,\n",
    "    * LogisticRegressionClassifier,\n",
    "    * randomForestClassifier, \n",
    "    * GradientBoostingClassifier,\n",
    "    * LGBMClassifier\n",
    "* протестированы методы для балансирования классов \n",
    "    * upsampling - улучшает результаты на тренировочных данных, но не помогает улучшить roc_auc на тесте\n",
    "    * downsampling -  ухудшает качество\n",
    "    \n",
    "По итогу сравнения моделей наилучшей моделью оказалась catboostClassifier c показателями roc_auc: 0.85, accuracy: 0.9006246450880182"
   ]
  },
  {
   "cell_type": "code",
   "execution_count": 144,
   "metadata": {
    "scrolled": true
   },
   "outputs": [
    {
     "name": "stdout",
     "output_type": "stream",
     "text": [
      "Результаты модели\n",
      " {'nan_mode': 'Min', 'eval_metric': 'Logloss', 'iterations': 1000, 'sampling_frequency': 'PerTree', 'leaf_estimation_method': 'Newton', 'grow_policy': 'SymmetricTree', 'penalties_coefficient': 1, 'boosting_type': 'Plain', 'model_shrink_mode': 'Constant', 'feature_border_type': 'GreedyLogSum', 'bayesian_matrix_reg': 0.10000000149011612, 'force_unit_auto_pair_weights': False, 'l2_leaf_reg': 3, 'random_strength': 1, 'rsm': 1, 'boost_from_average': False, 'model_size_reg': 0.5, 'pool_metainfo_options': {'tags': {}}, 'subsample': 0.800000011920929, 'use_best_model': False, 'class_names': [0, 1], 'random_seed': 80822, 'depth': 2, 'posterior_sampling': False, 'border_count': 254, 'classes_count': 0, 'auto_class_weights': 'None', 'sparse_features_conflict_fraction': 0, 'leaf_estimation_backtracking': 'AnyImprovement', 'best_model_min_trees': 1, 'model_shrink_rate': 0, 'min_data_in_leaf': 1, 'loss_function': 'Logloss', 'learning_rate': 0.5, 'score_function': 'Cosine', 'task_type': 'CPU', 'leaf_estimation_iterations': 10, 'bootstrap_type': 'MVS', 'max_leaves': 4}:\n",
      "\n",
      " roc_auc: 0.85, accuracy: 0.9006246450880182\n"
     ]
    }
   ],
   "source": [
    "print(f'Результаты модели\\n {CB.get_all_params()}:\\n\\n roc_auc: {roc_auc}, accuracy: {accuracy}')"
   ]
  },
  {
   "cell_type": "markdown",
   "metadata": {},
   "source": [
    "Судя по графику важности признаков можно сделать вывод, что наибольшую пользу приносят лишь первые 5"
   ]
  },
  {
   "cell_type": "code",
   "execution_count": 75,
   "metadata": {},
   "outputs": [
    {
     "data": {
      "image/png": "[encoded data removed]",
      "text/plain": [
       "<Figure size 720x576 with 1 Axes>"
      ]
     },
     "metadata": {
      "needs_background": "light"
     },
     "output_type": "display_data"
    }
   ],
   "source": [
    "plot_feature_importance(CB.get_feature_importance(),features_train.columns,'CatboostClassifier ')"
   ]
  },
  {
   "cell_type": "markdown",
   "metadata": {},
   "source": [
    "<div class=\"alert alert-info\">\n",
    "<b>&#129504; Комментарий студента:</b>\n",
    "          Николай, добрый вечер! Спасибо за проверку!!! Спасибо за просвещение по поводу корр\n",
    "</div>\n"
   ]
  },
  {
   "cell_type": "markdown",
   "metadata": {},
   "source": [
    "<div class=\"alert alert-success\" style=\"border-color: green; border-radius: 5px\">\n",
    "    <p><u><b>✅ КОММЕНТАРИЙ РЕВЬЮЕРА 2</b></u></p>\n",
    "Привет, Максим!<br>\n",
    "ОК, увидел твои комментарии и изменения в проекте. ПРИНЯТО!!!!!!!!<br>\n",
    "СПАСИБО за отклик!, за этот труд и за совместную работу на других проектах)<br>\n",
    "Искренне желаю покорить ещё не один аналитический Эверест)<br>"
   ]
  },
  {
   "cell_type": "markdown",
   "metadata": {},
   "source": [
    "## Отчет\n",
    "1. В ходе работы были выполнены все пункты плана за исключением пункта \"Очистка от выбросов\". Во время проведения исследовательского анализа не было выявлено аномальных значений, поэтому указанный пункт оказался не релевантным\n",
    "2. Основные трудности возникли во время подбора гиперпараметров моделей для достижения приемлемого значения метрики AUC. Процесс занимал достаточно много времени, а метрика не спешила расти))) По итогу пришлось внести корректировку в процесс предобработки данных, эксперементировать с различными наборами признаков\n",
    "\n",
    "3. Поставленная задача была разбита на четыре основных пункта:\n",
    "    1. [Иследовательский анализ данных](#eda)\n",
    "    2. [Предобработка данных](#preprocessing)\n",
    "    3. [Моделирование](#ml)\n",
    "    4. [Выводы и рекомендации](#conclusion)\n",
    "4. По итогу сравнения моделей наилучшей моделью оказалась catboostClassifier с гиперпараметрами:\n",
    "\n",
    "{'nan_mode': 'Min', 'eval_metric': 'Logloss', 'iterations': 1000, 'sampling_frequency': 'PerTree', 'leaf_estimation_method': 'Newton', 'grow_policy': 'SymmetricTree', 'penalties_coefficient': 1, 'boosting_type': 'Plain', 'model_shrink_mode': 'Constant', 'feature_border_type': 'GreedyLogSum', 'bayesian_matrix_reg': 0.10000000149011612, 'force_unit_auto_pair_weights': False, 'l2_leaf_reg': 3, 'random_strength': 1, 'rsm': 1, 'boost_from_average': False, 'model_size_reg': 0.5, 'pool_metainfo_options': {'tags': {}}, 'subsample': 0.800000011920929, 'use_best_model': False, 'class_names': [0, 1], 'random_seed': 80822, 'depth': 2, 'posterior_sampling': False, 'border_count': 254, 'classes_count': 0, 'auto_class_weights': 'None', 'sparse_features_conflict_fraction': 0, 'leaf_estimation_backtracking': 'AnyImprovement', 'best_model_min_trees': 1, 'model_shrink_rate': 0, 'min_data_in_leaf': 1, 'loss_function': 'Logloss', 'learning_rate': 0.5, 'score_function': 'Cosine', 'task_type': 'CPU', 'leaf_estimation_iterations': 10, 'bootstrap_type': 'MVS', 'max_leaves': 4}:\n",
    "\n",
    "**Результаты модели:**\n",
    " **roc_auc:** 0.85, **accuracy:** 0.9006246450880182\n"
   ]
  },
  {
   "cell_type": "markdown",
   "metadata": {},
   "source": [
    "<div class='alert alert-success'> 👍\n",
    "Спасиб за отчет, проект принят!"
   ]
  },
  {
   "cell_type": "code",
   "execution_count": null,
   "metadata": {},
   "outputs": [],
   "source": []
  }
 ],
 "metadata": {
  "ExecuteTimeLog": [
   {
    "duration": 1278,
    "start_time": "2022-08-12T21:01:53.896Z"
   },
   {
    "duration": 3,
    "start_time": "2022-08-12T21:01:56.983Z"
   },
   {
    "duration": 343,
    "start_time": "2022-08-12T21:01:58.090Z"
   },
   {
    "duration": 5,
    "start_time": "2022-08-12T21:01:58.995Z"
   },
   {
    "duration": 74,
    "start_time": "2022-08-12T21:01:59.817Z"
   },
   {
    "duration": 206,
    "start_time": "2022-08-12T21:02:01.936Z"
   },
   {
    "duration": 3,
    "start_time": "2022-08-12T21:08:24.249Z"
   },
   {
    "duration": 14,
    "start_time": "2022-08-12T21:08:24.257Z"
   },
   {
    "duration": 134,
    "start_time": "2022-08-12T21:08:24.273Z"
   },
   {
    "duration": 5,
    "start_time": "2022-08-12T21:08:24.409Z"
   },
   {
    "duration": 72,
    "start_time": "2022-08-12T21:08:24.416Z"
   },
   {
    "duration": 315,
    "start_time": "2022-08-12T21:08:24.490Z"
   },
   {
    "duration": 384,
    "start_time": "2022-08-12T21:08:24.807Z"
   },
   {
    "duration": 324,
    "start_time": "2022-08-12T21:08:25.194Z"
   },
   {
    "duration": 62,
    "start_time": "2022-08-12T21:08:25.520Z"
   },
   {
    "duration": 111,
    "start_time": "2022-08-12T21:08:25.585Z"
   },
   {
    "duration": 217,
    "start_time": "2022-08-12T21:08:25.698Z"
   },
   {
    "duration": 89,
    "start_time": "2022-08-12T21:08:25.917Z"
   },
   {
    "duration": 388,
    "start_time": "2022-08-12T21:08:26.010Z"
   },
   {
    "duration": 91,
    "start_time": "2022-08-12T21:08:26.399Z"
   },
   {
    "duration": 529,
    "start_time": "2022-08-12T21:08:26.492Z"
   },
   {
    "duration": 64,
    "start_time": "2022-08-12T21:08:27.023Z"
   },
   {
    "duration": 169,
    "start_time": "2022-08-12T21:08:27.088Z"
   },
   {
    "duration": 7,
    "start_time": "2022-08-12T21:08:27.259Z"
   },
   {
    "duration": 20,
    "start_time": "2022-08-12T21:08:27.271Z"
   },
   {
    "duration": 120,
    "start_time": "2022-08-12T21:08:27.292Z"
   },
   {
    "duration": 4,
    "start_time": "2022-08-12T21:08:27.414Z"
   },
   {
    "duration": 83,
    "start_time": "2022-08-12T21:08:27.419Z"
   },
   {
    "duration": 201,
    "start_time": "2022-08-12T21:08:27.503Z"
   },
   {
    "duration": 403,
    "start_time": "2022-08-12T21:08:27.706Z"
   },
   {
    "duration": 264,
    "start_time": "2022-08-12T21:08:28.112Z"
   },
   {
    "duration": 49,
    "start_time": "2022-08-12T21:08:28.378Z"
   },
   {
    "duration": 182,
    "start_time": "2022-08-12T21:08:28.429Z"
   },
   {
    "duration": 225,
    "start_time": "2022-08-12T21:08:28.613Z"
   },
   {
    "duration": 69,
    "start_time": "2022-08-12T21:08:28.840Z"
   },
   {
    "duration": 312,
    "start_time": "2022-08-12T21:08:28.911Z"
   },
   {
    "duration": 90,
    "start_time": "2022-08-12T21:08:29.225Z"
   },
   {
    "duration": 500,
    "start_time": "2022-08-12T21:08:29.317Z"
   },
   {
    "duration": 67,
    "start_time": "2022-08-12T21:08:29.819Z"
   },
   {
    "duration": 162,
    "start_time": "2022-08-12T21:08:29.887Z"
   },
   {
    "duration": 47,
    "start_time": "2022-08-12T21:32:36.537Z"
   },
   {
    "duration": 40,
    "start_time": "2022-08-12T21:33:36.616Z"
   },
   {
    "duration": 109,
    "start_time": "2022-08-12T21:34:03.782Z"
   },
   {
    "duration": 6,
    "start_time": "2022-08-12T22:36:43.722Z"
   },
   {
    "duration": 900,
    "start_time": "2022-08-12T22:37:23.947Z"
   },
   {
    "duration": 1037,
    "start_time": "2022-08-12T22:37:54.892Z"
   },
   {
    "duration": 68,
    "start_time": "2022-08-12T22:38:45.341Z"
   },
   {
    "duration": 1332,
    "start_time": "2022-08-12T22:39:10.070Z"
   },
   {
    "duration": 5,
    "start_time": "2022-08-12T22:40:23.130Z"
   },
   {
    "duration": 661,
    "start_time": "2022-08-12T22:40:52.628Z"
   },
   {
    "duration": 723,
    "start_time": "2022-08-12T22:41:34.250Z"
   },
   {
    "duration": 99,
    "start_time": "2022-08-12T22:46:51.580Z"
   },
   {
    "duration": 16,
    "start_time": "2022-08-12T22:46:56.844Z"
   },
   {
    "duration": 13,
    "start_time": "2022-08-12T22:57:42.387Z"
   },
   {
    "duration": 5,
    "start_time": "2022-08-12T22:57:51.729Z"
   },
   {
    "duration": 22,
    "start_time": "2022-08-12T23:00:04.487Z"
   },
   {
    "duration": 1502,
    "start_time": "2022-08-12T23:05:13.290Z"
   },
   {
    "duration": 11,
    "start_time": "2022-08-12T23:09:36.478Z"
   },
   {
    "duration": 146,
    "start_time": "2022-08-12T23:09:49.774Z"
   },
   {
    "duration": 135,
    "start_time": "2022-08-12T23:09:56.181Z"
   },
   {
    "duration": 196,
    "start_time": "2022-08-12T23:10:02.137Z"
   },
   {
    "duration": 218,
    "start_time": "2022-08-12T23:10:31.211Z"
   },
   {
    "duration": 20,
    "start_time": "2022-08-12T23:19:43.177Z"
   },
   {
    "duration": 5,
    "start_time": "2022-08-12T23:20:02.603Z"
   },
   {
    "duration": 6,
    "start_time": "2022-08-12T23:20:14.265Z"
   },
   {
    "duration": 20,
    "start_time": "2022-08-12T23:20:39.874Z"
   },
   {
    "duration": 26,
    "start_time": "2022-08-12T23:21:14.642Z"
   },
   {
    "duration": 9,
    "start_time": "2022-08-12T23:24:35.233Z"
   },
   {
    "duration": 8,
    "start_time": "2022-08-12T23:29:41.777Z"
   },
   {
    "duration": 9,
    "start_time": "2022-08-12T23:32:06.830Z"
   },
   {
    "duration": 14,
    "start_time": "2022-08-12T23:32:24.169Z"
   },
   {
    "duration": 126,
    "start_time": "2022-08-12T23:32:30.481Z"
   },
   {
    "duration": 6,
    "start_time": "2022-08-12T23:33:36.470Z"
   },
   {
    "duration": 6,
    "start_time": "2022-08-12T23:34:28.997Z"
   },
   {
    "duration": 6,
    "start_time": "2022-08-12T23:36:03.327Z"
   },
   {
    "duration": 20,
    "start_time": "2022-08-12T23:37:00.980Z"
   },
   {
    "duration": 7,
    "start_time": "2022-08-12T23:37:34.388Z"
   },
   {
    "duration": 29,
    "start_time": "2022-08-12T23:37:35.445Z"
   },
   {
    "duration": 9,
    "start_time": "2022-08-12T23:38:00.058Z"
   },
   {
    "duration": 21,
    "start_time": "2022-08-12T23:38:07.757Z"
   },
   {
    "duration": 3,
    "start_time": "2022-08-12T23:38:29.299Z"
   },
   {
    "duration": 4,
    "start_time": "2022-08-12T23:38:29.305Z"
   },
   {
    "duration": 112,
    "start_time": "2022-08-12T23:38:29.312Z"
   },
   {
    "duration": 3,
    "start_time": "2022-08-12T23:38:29.426Z"
   },
   {
    "duration": 62,
    "start_time": "2022-08-12T23:38:29.431Z"
   },
   {
    "duration": 226,
    "start_time": "2022-08-12T23:38:29.495Z"
   },
   {
    "duration": 280,
    "start_time": "2022-08-12T23:38:29.723Z"
   },
   {
    "duration": 383,
    "start_time": "2022-08-12T23:38:30.004Z"
   },
   {
    "duration": 240,
    "start_time": "2022-08-12T23:38:30.388Z"
   },
   {
    "duration": 49,
    "start_time": "2022-08-12T23:38:30.630Z"
   },
   {
    "duration": 91,
    "start_time": "2022-08-12T23:38:30.681Z"
   },
   {
    "duration": 196,
    "start_time": "2022-08-12T23:38:30.775Z"
   },
   {
    "duration": 48,
    "start_time": "2022-08-12T23:38:30.973Z"
   },
   {
    "duration": 278,
    "start_time": "2022-08-12T23:38:31.023Z"
   },
   {
    "duration": 83,
    "start_time": "2022-08-12T23:38:31.303Z"
   },
   {
    "duration": 541,
    "start_time": "2022-08-12T23:38:31.388Z"
   },
   {
    "duration": 59,
    "start_time": "2022-08-12T23:38:31.931Z"
   },
   {
    "duration": 136,
    "start_time": "2022-08-12T23:38:31.992Z"
   },
   {
    "duration": 38,
    "start_time": "2022-08-12T23:38:32.129Z"
   },
   {
    "duration": 103,
    "start_time": "2022-08-12T23:38:32.169Z"
   },
   {
    "duration": 9,
    "start_time": "2022-08-12T23:38:32.274Z"
   },
   {
    "duration": 22,
    "start_time": "2022-08-12T23:38:32.284Z"
   },
   {
    "duration": 6,
    "start_time": "2022-08-12T23:38:32.308Z"
   },
   {
    "duration": 8,
    "start_time": "2022-08-12T23:39:52.679Z"
   },
   {
    "duration": 6,
    "start_time": "2022-08-12T23:40:05.470Z"
   },
   {
    "duration": 5,
    "start_time": "2022-08-12T23:42:32.534Z"
   },
   {
    "duration": 11,
    "start_time": "2022-08-12T23:42:38.670Z"
   },
   {
    "duration": 5,
    "start_time": "2022-08-12T23:42:54.291Z"
   },
   {
    "duration": 10,
    "start_time": "2022-08-12T23:44:14.457Z"
   },
   {
    "duration": 12,
    "start_time": "2022-08-12T23:44:28.010Z"
   },
   {
    "duration": 60,
    "start_time": "2022-08-12T23:44:33.718Z"
   },
   {
    "duration": 15,
    "start_time": "2022-08-12T23:44:38.315Z"
   },
   {
    "duration": 14,
    "start_time": "2022-08-13T00:22:29.386Z"
   },
   {
    "duration": 4,
    "start_time": "2022-08-13T00:23:44.132Z"
   },
   {
    "duration": 12,
    "start_time": "2022-08-13T00:23:47.011Z"
   },
   {
    "duration": 13,
    "start_time": "2022-08-13T00:30:14.396Z"
   },
   {
    "duration": 4,
    "start_time": "2022-08-13T00:30:29.550Z"
   },
   {
    "duration": 12,
    "start_time": "2022-08-13T00:30:30.514Z"
   },
   {
    "duration": 12,
    "start_time": "2022-08-13T00:31:16.436Z"
   },
   {
    "duration": 808,
    "start_time": "2022-08-13T00:32:34.233Z"
   },
   {
    "duration": 823,
    "start_time": "2022-08-13T00:32:40.570Z"
   },
   {
    "duration": 9,
    "start_time": "2022-08-13T00:32:54.111Z"
   },
   {
    "duration": 12,
    "start_time": "2022-08-13T00:32:58.496Z"
   },
   {
    "duration": 11,
    "start_time": "2022-08-13T00:33:37.110Z"
   },
   {
    "duration": 11,
    "start_time": "2022-08-13T00:33:42.855Z"
   },
   {
    "duration": 8,
    "start_time": "2022-08-13T00:33:44.325Z"
   },
   {
    "duration": 3,
    "start_time": "2022-08-13T00:34:02.540Z"
   },
   {
    "duration": 11,
    "start_time": "2022-08-13T00:34:02.544Z"
   },
   {
    "duration": 119,
    "start_time": "2022-08-13T00:34:02.556Z"
   },
   {
    "duration": 3,
    "start_time": "2022-08-13T00:34:02.677Z"
   },
   {
    "duration": 58,
    "start_time": "2022-08-13T00:34:02.681Z"
   },
   {
    "duration": 219,
    "start_time": "2022-08-13T00:34:02.741Z"
   },
   {
    "duration": 222,
    "start_time": "2022-08-13T00:34:02.961Z"
   },
   {
    "duration": 319,
    "start_time": "2022-08-13T00:34:03.185Z"
   },
   {
    "duration": 233,
    "start_time": "2022-08-13T00:34:03.506Z"
   },
   {
    "duration": 41,
    "start_time": "2022-08-13T00:34:03.741Z"
   },
   {
    "duration": 96,
    "start_time": "2022-08-13T00:34:03.783Z"
   },
   {
    "duration": 258,
    "start_time": "2022-08-13T00:34:03.881Z"
   },
   {
    "duration": 46,
    "start_time": "2022-08-13T00:34:04.141Z"
   },
   {
    "duration": 268,
    "start_time": "2022-08-13T00:34:04.189Z"
   },
   {
    "duration": 60,
    "start_time": "2022-08-13T00:34:04.459Z"
   },
   {
    "duration": 489,
    "start_time": "2022-08-13T00:34:04.520Z"
   },
   {
    "duration": 57,
    "start_time": "2022-08-13T00:34:05.010Z"
   },
   {
    "duration": 181,
    "start_time": "2022-08-13T00:34:05.069Z"
   },
   {
    "duration": 34,
    "start_time": "2022-08-13T00:34:05.252Z"
   },
   {
    "duration": 88,
    "start_time": "2022-08-13T00:34:05.288Z"
   },
   {
    "duration": 7,
    "start_time": "2022-08-13T00:34:05.378Z"
   },
   {
    "duration": 21,
    "start_time": "2022-08-13T00:34:05.387Z"
   },
   {
    "duration": 21,
    "start_time": "2022-08-13T00:34:08.709Z"
   },
   {
    "duration": 6,
    "start_time": "2022-08-13T00:34:15.136Z"
   },
   {
    "duration": 5,
    "start_time": "2022-08-13T00:34:18.597Z"
   },
   {
    "duration": 5,
    "start_time": "2022-08-13T00:34:20.168Z"
   },
   {
    "duration": 15,
    "start_time": "2022-08-13T00:34:20.953Z"
   },
   {
    "duration": 12,
    "start_time": "2022-08-13T00:34:26.565Z"
   },
   {
    "duration": 10,
    "start_time": "2022-08-13T00:35:16.554Z"
   },
   {
    "duration": 4,
    "start_time": "2022-08-13T00:35:23.466Z"
   },
   {
    "duration": 12,
    "start_time": "2022-08-13T00:35:25.509Z"
   },
   {
    "duration": 14,
    "start_time": "2022-08-13T00:35:35.385Z"
   },
   {
    "duration": 11,
    "start_time": "2022-08-13T00:35:36.779Z"
   },
   {
    "duration": 7,
    "start_time": "2022-08-13T00:35:37.050Z"
   },
   {
    "duration": 5,
    "start_time": "2022-08-13T00:35:37.555Z"
   },
   {
    "duration": 5,
    "start_time": "2022-08-13T00:35:37.822Z"
   },
   {
    "duration": 3,
    "start_time": "2022-08-13T00:35:38.359Z"
   },
   {
    "duration": 10,
    "start_time": "2022-08-13T00:35:38.617Z"
   },
   {
    "duration": 11,
    "start_time": "2022-08-13T00:35:39.780Z"
   },
   {
    "duration": 3,
    "start_time": "2022-08-13T00:35:57.564Z"
   },
   {
    "duration": 7,
    "start_time": "2022-08-13T00:35:57.570Z"
   },
   {
    "duration": 106,
    "start_time": "2022-08-13T00:35:57.579Z"
   },
   {
    "duration": 5,
    "start_time": "2022-08-13T00:35:57.687Z"
   },
   {
    "duration": 54,
    "start_time": "2022-08-13T00:35:57.693Z"
   },
   {
    "duration": 217,
    "start_time": "2022-08-13T00:35:57.756Z"
   },
   {
    "duration": 305,
    "start_time": "2022-08-13T00:35:57.975Z"
   },
   {
    "duration": 305,
    "start_time": "2022-08-13T00:35:58.281Z"
   },
   {
    "duration": 229,
    "start_time": "2022-08-13T00:35:58.588Z"
   },
   {
    "duration": 44,
    "start_time": "2022-08-13T00:35:58.819Z"
   },
   {
    "duration": 99,
    "start_time": "2022-08-13T00:35:58.864Z"
   },
   {
    "duration": 190,
    "start_time": "2022-08-13T00:35:58.965Z"
   },
   {
    "duration": 47,
    "start_time": "2022-08-13T00:35:59.157Z"
   },
   {
    "duration": 275,
    "start_time": "2022-08-13T00:35:59.205Z"
   },
   {
    "duration": 82,
    "start_time": "2022-08-13T00:35:59.483Z"
   },
   {
    "duration": 542,
    "start_time": "2022-08-13T00:35:59.567Z"
   },
   {
    "duration": 61,
    "start_time": "2022-08-13T00:36:00.110Z"
   },
   {
    "duration": 145,
    "start_time": "2022-08-13T00:36:00.173Z"
   },
   {
    "duration": 23,
    "start_time": "2022-08-13T00:36:00.320Z"
   },
   {
    "duration": 81,
    "start_time": "2022-08-13T00:36:00.344Z"
   },
   {
    "duration": 34,
    "start_time": "2022-08-13T00:36:00.427Z"
   },
   {
    "duration": 20,
    "start_time": "2022-08-13T00:36:00.463Z"
   },
   {
    "duration": 6,
    "start_time": "2022-08-13T00:36:00.484Z"
   },
   {
    "duration": 13,
    "start_time": "2022-08-13T00:36:00.492Z"
   },
   {
    "duration": 18,
    "start_time": "2022-08-13T00:36:00.506Z"
   },
   {
    "duration": 15,
    "start_time": "2022-08-13T00:36:00.525Z"
   },
   {
    "duration": 24,
    "start_time": "2022-08-13T00:36:00.541Z"
   },
   {
    "duration": 21,
    "start_time": "2022-08-13T00:36:14.478Z"
   },
   {
    "duration": 16,
    "start_time": "2022-08-13T00:36:19.515Z"
   },
   {
    "duration": 3,
    "start_time": "2022-08-13T00:36:28.892Z"
   },
   {
    "duration": 15,
    "start_time": "2022-08-13T00:36:28.897Z"
   },
   {
    "duration": 118,
    "start_time": "2022-08-13T00:36:28.913Z"
   },
   {
    "duration": 3,
    "start_time": "2022-08-13T00:36:29.033Z"
   },
   {
    "duration": 57,
    "start_time": "2022-08-13T00:36:29.038Z"
   },
   {
    "duration": 233,
    "start_time": "2022-08-13T00:36:29.097Z"
   },
   {
    "duration": 254,
    "start_time": "2022-08-13T00:36:29.331Z"
   },
   {
    "duration": 315,
    "start_time": "2022-08-13T00:36:29.587Z"
   },
   {
    "duration": 320,
    "start_time": "2022-08-13T00:36:29.904Z"
   },
   {
    "duration": 40,
    "start_time": "2022-08-13T00:36:30.225Z"
   },
   {
    "duration": 93,
    "start_time": "2022-08-13T00:36:30.267Z"
   },
   {
    "duration": 181,
    "start_time": "2022-08-13T00:36:30.361Z"
   },
   {
    "duration": 50,
    "start_time": "2022-08-13T00:36:30.543Z"
   },
   {
    "duration": 271,
    "start_time": "2022-08-13T00:36:30.594Z"
   },
   {
    "duration": 60,
    "start_time": "2022-08-13T00:36:30.867Z"
   },
   {
    "duration": 438,
    "start_time": "2022-08-13T00:36:30.958Z"
   },
   {
    "duration": 62,
    "start_time": "2022-08-13T00:36:31.397Z"
   },
   {
    "duration": 129,
    "start_time": "2022-08-13T00:36:31.461Z"
   },
   {
    "duration": 24,
    "start_time": "2022-08-13T00:36:31.591Z"
   },
   {
    "duration": 86,
    "start_time": "2022-08-13T00:36:31.616Z"
   },
   {
    "duration": 8,
    "start_time": "2022-08-13T00:36:31.703Z"
   },
   {
    "duration": 51,
    "start_time": "2022-08-13T00:36:31.713Z"
   },
   {
    "duration": 21,
    "start_time": "2022-08-13T00:36:31.766Z"
   },
   {
    "duration": 32,
    "start_time": "2022-08-13T00:36:31.789Z"
   },
   {
    "duration": 38,
    "start_time": "2022-08-13T00:36:31.822Z"
   },
   {
    "duration": 23,
    "start_time": "2022-08-13T00:36:31.862Z"
   },
   {
    "duration": 31,
    "start_time": "2022-08-13T00:36:31.886Z"
   },
   {
    "duration": 3,
    "start_time": "2022-08-13T00:37:41.829Z"
   },
   {
    "duration": 5,
    "start_time": "2022-08-13T00:37:41.834Z"
   },
   {
    "duration": 109,
    "start_time": "2022-08-13T00:37:41.840Z"
   },
   {
    "duration": 3,
    "start_time": "2022-08-13T00:37:41.951Z"
   },
   {
    "duration": 56,
    "start_time": "2022-08-13T00:37:41.956Z"
   },
   {
    "duration": 251,
    "start_time": "2022-08-13T00:37:42.014Z"
   },
   {
    "duration": 319,
    "start_time": "2022-08-13T00:37:42.267Z"
   },
   {
    "duration": 311,
    "start_time": "2022-08-13T00:37:42.588Z"
   },
   {
    "duration": 232,
    "start_time": "2022-08-13T00:37:42.900Z"
   },
   {
    "duration": 42,
    "start_time": "2022-08-13T00:37:43.134Z"
   },
   {
    "duration": 102,
    "start_time": "2022-08-13T00:37:43.177Z"
   },
   {
    "duration": 180,
    "start_time": "2022-08-13T00:37:43.281Z"
   },
   {
    "duration": 41,
    "start_time": "2022-08-13T00:37:43.464Z"
   },
   {
    "duration": 262,
    "start_time": "2022-08-13T00:37:43.506Z"
   },
   {
    "duration": 55,
    "start_time": "2022-08-13T00:37:43.770Z"
   },
   {
    "duration": 564,
    "start_time": "2022-08-13T00:37:43.826Z"
   },
   {
    "duration": 69,
    "start_time": "2022-08-13T00:37:44.392Z"
   },
   {
    "duration": 140,
    "start_time": "2022-08-13T00:37:44.463Z"
   },
   {
    "duration": 23,
    "start_time": "2022-08-13T00:37:44.605Z"
   },
   {
    "duration": 127,
    "start_time": "2022-08-13T00:37:44.630Z"
   },
   {
    "duration": 12,
    "start_time": "2022-08-13T00:37:44.759Z"
   },
   {
    "duration": 21,
    "start_time": "2022-08-13T00:37:44.772Z"
   },
   {
    "duration": 8,
    "start_time": "2022-08-13T00:37:44.794Z"
   },
   {
    "duration": 6,
    "start_time": "2022-08-13T00:37:44.803Z"
   },
   {
    "duration": 9,
    "start_time": "2022-08-13T00:37:44.811Z"
   },
   {
    "duration": 16,
    "start_time": "2022-08-13T00:37:44.821Z"
   },
   {
    "duration": 30,
    "start_time": "2022-08-13T00:37:44.838Z"
   },
   {
    "duration": 10,
    "start_time": "2022-08-13T00:37:56.244Z"
   },
   {
    "duration": 5,
    "start_time": "2022-08-13T00:38:03.065Z"
   },
   {
    "duration": 5,
    "start_time": "2022-08-13T00:38:17.412Z"
   },
   {
    "duration": 3,
    "start_time": "2022-08-13T00:47:31.641Z"
   },
   {
    "duration": 44,
    "start_time": "2022-08-13T00:47:31.646Z"
   },
   {
    "duration": 108,
    "start_time": "2022-08-13T00:47:31.691Z"
   },
   {
    "duration": 4,
    "start_time": "2022-08-13T00:47:31.801Z"
   },
   {
    "duration": 52,
    "start_time": "2022-08-13T00:47:31.806Z"
   },
   {
    "duration": 217,
    "start_time": "2022-08-13T00:47:31.860Z"
   },
   {
    "duration": 204,
    "start_time": "2022-08-13T00:47:32.080Z"
   },
   {
    "duration": 320,
    "start_time": "2022-08-13T00:47:32.286Z"
   },
   {
    "duration": 229,
    "start_time": "2022-08-13T00:47:32.609Z"
   },
   {
    "duration": 48,
    "start_time": "2022-08-13T00:47:32.840Z"
   },
   {
    "duration": 96,
    "start_time": "2022-08-13T00:47:32.889Z"
   },
   {
    "duration": 180,
    "start_time": "2022-08-13T00:47:32.987Z"
   },
   {
    "duration": 42,
    "start_time": "2022-08-13T00:47:33.169Z"
   },
   {
    "duration": 395,
    "start_time": "2022-08-13T00:47:33.213Z"
   },
   {
    "duration": 76,
    "start_time": "2022-08-13T00:47:33.610Z"
   },
   {
    "duration": 503,
    "start_time": "2022-08-13T00:47:33.688Z"
   },
   {
    "duration": 70,
    "start_time": "2022-08-13T00:47:34.193Z"
   },
   {
    "duration": 151,
    "start_time": "2022-08-13T00:47:34.264Z"
   },
   {
    "duration": 24,
    "start_time": "2022-08-13T00:47:34.417Z"
   },
   {
    "duration": 114,
    "start_time": "2022-08-13T00:47:34.443Z"
   },
   {
    "duration": 11,
    "start_time": "2022-08-13T00:47:34.559Z"
   },
   {
    "duration": 36,
    "start_time": "2022-08-13T00:47:34.572Z"
   },
   {
    "duration": 30,
    "start_time": "2022-08-13T00:47:34.610Z"
   },
   {
    "duration": 13,
    "start_time": "2022-08-13T00:47:34.642Z"
   },
   {
    "duration": 15,
    "start_time": "2022-08-13T00:47:34.657Z"
   },
   {
    "duration": 28,
    "start_time": "2022-08-13T00:47:34.674Z"
   },
   {
    "duration": 29,
    "start_time": "2022-08-13T00:47:34.703Z"
   },
   {
    "duration": 11,
    "start_time": "2022-08-13T00:47:36.544Z"
   },
   {
    "duration": 17,
    "start_time": "2022-08-13T00:47:38.029Z"
   },
   {
    "duration": 14,
    "start_time": "2022-08-13T00:48:58.154Z"
   },
   {
    "duration": 14,
    "start_time": "2022-08-13T00:49:07.310Z"
   },
   {
    "duration": 21,
    "start_time": "2022-08-13T00:49:57.212Z"
   },
   {
    "duration": 5,
    "start_time": "2022-08-13T00:50:55.495Z"
   },
   {
    "duration": 4,
    "start_time": "2022-08-13T00:53:42.479Z"
   },
   {
    "duration": 21,
    "start_time": "2022-08-13T00:54:02.868Z"
   },
   {
    "duration": 9,
    "start_time": "2022-08-13T00:54:29.772Z"
   },
   {
    "duration": 4,
    "start_time": "2022-08-13T00:54:55.048Z"
   },
   {
    "duration": 20,
    "start_time": "2022-08-13T00:54:59.145Z"
   },
   {
    "duration": 132,
    "start_time": "2022-08-13T01:01:14.755Z"
   },
   {
    "duration": 140,
    "start_time": "2022-08-13T01:02:19.365Z"
   },
   {
    "duration": 2,
    "start_time": "2022-08-13T01:06:01.540Z"
   },
   {
    "duration": 10,
    "start_time": "2022-08-13T01:06:01.544Z"
   },
   {
    "duration": 112,
    "start_time": "2022-08-13T01:06:01.556Z"
   },
   {
    "duration": 4,
    "start_time": "2022-08-13T01:06:01.669Z"
   },
   {
    "duration": 56,
    "start_time": "2022-08-13T01:06:01.674Z"
   },
   {
    "duration": 163,
    "start_time": "2022-08-13T01:06:01.731Z"
   },
   {
    "duration": 204,
    "start_time": "2022-08-13T01:06:11.477Z"
   },
   {
    "duration": 128,
    "start_time": "2022-08-13T01:06:28.154Z"
   },
   {
    "duration": 110,
    "start_time": "2022-08-13T01:07:18.670Z"
   },
   {
    "duration": 221,
    "start_time": "2022-08-13T01:07:28.282Z"
   },
   {
    "duration": 13,
    "start_time": "2022-08-13T01:10:31.262Z"
   },
   {
    "duration": 135,
    "start_time": "2022-08-13T01:10:54.791Z"
   },
   {
    "duration": 136,
    "start_time": "2022-08-13T01:11:28.863Z"
   },
   {
    "duration": 146,
    "start_time": "2022-08-13T01:12:32.905Z"
   },
   {
    "duration": 133,
    "start_time": "2022-08-13T01:12:41.699Z"
   },
   {
    "duration": 136,
    "start_time": "2022-08-13T01:13:02.362Z"
   },
   {
    "duration": 156,
    "start_time": "2022-08-13T01:13:33.071Z"
   },
   {
    "duration": 3,
    "start_time": "2022-08-13T01:14:50.345Z"
   },
   {
    "duration": 6,
    "start_time": "2022-08-13T01:14:50.349Z"
   },
   {
    "duration": 110,
    "start_time": "2022-08-13T01:14:50.356Z"
   },
   {
    "duration": 3,
    "start_time": "2022-08-13T01:14:50.468Z"
   },
   {
    "duration": 57,
    "start_time": "2022-08-13T01:14:50.473Z"
   },
   {
    "duration": 165,
    "start_time": "2022-08-13T01:14:50.556Z"
   },
   {
    "duration": 151,
    "start_time": "2022-08-13T01:14:50.722Z"
   },
   {
    "duration": 224,
    "start_time": "2022-08-13T01:14:50.874Z"
   },
   {
    "duration": 196,
    "start_time": "2022-08-13T01:14:51.101Z"
   },
   {
    "duration": 361,
    "start_time": "2022-08-13T01:14:51.299Z"
   },
   {
    "duration": 362,
    "start_time": "2022-08-13T01:14:51.662Z"
   },
   {
    "duration": 51,
    "start_time": "2022-08-13T01:14:52.025Z"
   },
   {
    "duration": 106,
    "start_time": "2022-08-13T01:14:52.077Z"
   },
   {
    "duration": 183,
    "start_time": "2022-08-13T01:14:52.185Z"
   },
   {
    "duration": 50,
    "start_time": "2022-08-13T01:14:52.370Z"
   },
   {
    "duration": 267,
    "start_time": "2022-08-13T01:14:52.458Z"
   },
   {
    "duration": 73,
    "start_time": "2022-08-13T01:14:52.727Z"
   },
   {
    "duration": 502,
    "start_time": "2022-08-13T01:14:52.802Z"
   },
   {
    "duration": 61,
    "start_time": "2022-08-13T01:14:53.306Z"
   },
   {
    "duration": 156,
    "start_time": "2022-08-13T01:14:53.369Z"
   },
   {
    "duration": 31,
    "start_time": "2022-08-13T01:14:53.527Z"
   },
   {
    "duration": 111,
    "start_time": "2022-08-13T01:14:53.560Z"
   },
   {
    "duration": 12,
    "start_time": "2022-08-13T01:14:53.672Z"
   },
   {
    "duration": 25,
    "start_time": "2022-08-13T01:14:53.687Z"
   },
   {
    "duration": 7,
    "start_time": "2022-08-13T01:14:53.714Z"
   },
   {
    "duration": 34,
    "start_time": "2022-08-13T01:14:53.723Z"
   },
   {
    "duration": 17,
    "start_time": "2022-08-13T01:14:53.759Z"
   },
   {
    "duration": 5,
    "start_time": "2022-08-13T01:14:53.778Z"
   },
   {
    "duration": 22,
    "start_time": "2022-08-13T01:14:53.785Z"
   },
   {
    "duration": 22,
    "start_time": "2022-08-13T01:14:53.809Z"
   },
   {
    "duration": 6,
    "start_time": "2022-08-13T01:14:53.832Z"
   },
   {
    "duration": 178,
    "start_time": "2022-08-13T01:17:32.065Z"
   },
   {
    "duration": 1344,
    "start_time": "2022-08-13T17:50:42.213Z"
   },
   {
    "duration": 3,
    "start_time": "2022-08-13T17:50:43.558Z"
   },
   {
    "duration": 356,
    "start_time": "2022-08-13T17:50:43.563Z"
   },
   {
    "duration": 3,
    "start_time": "2022-08-13T17:50:43.921Z"
   },
   {
    "duration": 96,
    "start_time": "2022-08-13T17:50:43.927Z"
   },
   {
    "duration": 200,
    "start_time": "2022-08-13T17:50:44.024Z"
   },
   {
    "duration": 165,
    "start_time": "2022-08-13T17:50:44.226Z"
   },
   {
    "duration": 244,
    "start_time": "2022-08-13T17:50:44.393Z"
   },
   {
    "duration": 217,
    "start_time": "2022-08-13T17:50:44.640Z"
   },
   {
    "duration": 395,
    "start_time": "2022-08-13T17:50:44.859Z"
   },
   {
    "duration": 523,
    "start_time": "2022-08-13T17:50:45.256Z"
   },
   {
    "duration": 55,
    "start_time": "2022-08-13T17:50:45.781Z"
   },
   {
    "duration": 148,
    "start_time": "2022-08-13T17:50:45.838Z"
   },
   {
    "duration": 296,
    "start_time": "2022-08-13T17:50:45.990Z"
   },
   {
    "duration": 84,
    "start_time": "2022-08-13T17:50:46.289Z"
   },
   {
    "duration": 310,
    "start_time": "2022-08-13T17:50:46.375Z"
   },
   {
    "duration": 75,
    "start_time": "2022-08-13T17:50:46.686Z"
   },
   {
    "duration": 587,
    "start_time": "2022-08-13T17:50:46.763Z"
   },
   {
    "duration": 64,
    "start_time": "2022-08-13T17:50:47.353Z"
   },
   {
    "duration": 225,
    "start_time": "2022-08-13T17:50:47.420Z"
   },
   {
    "duration": 27,
    "start_time": "2022-08-13T17:50:47.647Z"
   },
   {
    "duration": 134,
    "start_time": "2022-08-13T17:50:47.677Z"
   },
   {
    "duration": 20,
    "start_time": "2022-08-13T17:50:47.813Z"
   },
   {
    "duration": 35,
    "start_time": "2022-08-13T17:50:47.835Z"
   },
   {
    "duration": 9,
    "start_time": "2022-08-13T17:50:47.872Z"
   },
   {
    "duration": 30,
    "start_time": "2022-08-13T17:50:47.883Z"
   },
   {
    "duration": 7,
    "start_time": "2022-08-13T17:50:47.915Z"
   },
   {
    "duration": 5,
    "start_time": "2022-08-13T17:50:47.925Z"
   },
   {
    "duration": 14,
    "start_time": "2022-08-13T17:50:47.931Z"
   },
   {
    "duration": 28,
    "start_time": "2022-08-13T17:50:47.947Z"
   },
   {
    "duration": 9,
    "start_time": "2022-08-13T17:50:47.977Z"
   },
   {
    "duration": 8,
    "start_time": "2022-08-13T17:50:53.906Z"
   },
   {
    "duration": 9,
    "start_time": "2022-08-13T17:52:51.182Z"
   },
   {
    "duration": 9,
    "start_time": "2022-08-13T18:01:36.959Z"
   },
   {
    "duration": 10,
    "start_time": "2022-08-13T18:02:24.228Z"
   },
   {
    "duration": 6,
    "start_time": "2022-08-13T18:04:38.640Z"
   },
   {
    "duration": 9,
    "start_time": "2022-08-13T18:11:27.153Z"
   },
   {
    "duration": 24,
    "start_time": "2022-08-13T18:26:25.656Z"
   },
   {
    "duration": 22,
    "start_time": "2022-08-13T18:26:51.626Z"
   },
   {
    "duration": 22,
    "start_time": "2022-08-13T18:27:18.376Z"
   },
   {
    "duration": 1193,
    "start_time": "2022-08-14T03:55:25.564Z"
   },
   {
    "duration": 2,
    "start_time": "2022-08-14T03:55:26.759Z"
   },
   {
    "duration": 327,
    "start_time": "2022-08-14T03:55:26.762Z"
   },
   {
    "duration": 3,
    "start_time": "2022-08-14T03:55:27.091Z"
   },
   {
    "duration": 57,
    "start_time": "2022-08-14T03:55:27.096Z"
   },
   {
    "duration": 184,
    "start_time": "2022-08-14T03:55:27.154Z"
   },
   {
    "duration": 147,
    "start_time": "2022-08-14T03:55:27.340Z"
   },
   {
    "duration": 226,
    "start_time": "2022-08-14T03:55:27.488Z"
   },
   {
    "duration": 233,
    "start_time": "2022-08-14T03:55:27.715Z"
   },
   {
    "duration": 307,
    "start_time": "2022-08-14T03:55:27.951Z"
   },
   {
    "duration": 302,
    "start_time": "2022-08-14T03:55:28.259Z"
   },
   {
    "duration": 41,
    "start_time": "2022-08-14T03:55:28.562Z"
   },
   {
    "duration": 74,
    "start_time": "2022-08-14T03:55:28.605Z"
   },
   {
    "duration": 189,
    "start_time": "2022-08-14T03:55:28.681Z"
   },
   {
    "duration": 48,
    "start_time": "2022-08-14T03:55:28.871Z"
   },
   {
    "duration": 260,
    "start_time": "2022-08-14T03:55:28.920Z"
   },
   {
    "duration": 64,
    "start_time": "2022-08-14T03:55:29.182Z"
   },
   {
    "duration": 455,
    "start_time": "2022-08-14T03:55:29.247Z"
   },
   {
    "duration": 38,
    "start_time": "2022-08-14T03:55:29.704Z"
   },
   {
    "duration": 152,
    "start_time": "2022-08-14T03:55:29.743Z"
   },
   {
    "duration": 24,
    "start_time": "2022-08-14T03:55:29.896Z"
   },
   {
    "duration": 97,
    "start_time": "2022-08-14T03:55:29.922Z"
   },
   {
    "duration": 16,
    "start_time": "2022-08-14T03:55:30.021Z"
   },
   {
    "duration": 30,
    "start_time": "2022-08-14T03:55:30.039Z"
   },
   {
    "duration": 32,
    "start_time": "2022-08-14T03:55:30.070Z"
   },
   {
    "duration": 12,
    "start_time": "2022-08-14T03:55:30.104Z"
   },
   {
    "duration": 16,
    "start_time": "2022-08-14T03:55:30.118Z"
   },
   {
    "duration": 20,
    "start_time": "2022-08-14T03:55:30.137Z"
   },
   {
    "duration": 12,
    "start_time": "2022-08-14T03:55:30.159Z"
   },
   {
    "duration": 30,
    "start_time": "2022-08-14T03:55:30.173Z"
   },
   {
    "duration": 5,
    "start_time": "2022-08-14T03:55:30.204Z"
   },
   {
    "duration": 12,
    "start_time": "2022-08-14T03:55:30.210Z"
   },
   {
    "duration": 8,
    "start_time": "2022-08-14T03:55:30.224Z"
   },
   {
    "duration": 10,
    "start_time": "2022-08-14T03:55:30.234Z"
   },
   {
    "duration": 8,
    "start_time": "2022-08-14T03:55:30.245Z"
   },
   {
    "duration": 12,
    "start_time": "2022-08-14T03:55:30.254Z"
   },
   {
    "duration": 5,
    "start_time": "2022-08-14T03:55:39.039Z"
   },
   {
    "duration": 93,
    "start_time": "2022-08-14T03:55:43.155Z"
   },
   {
    "duration": 5,
    "start_time": "2022-08-14T03:55:56.606Z"
   },
   {
    "duration": 20,
    "start_time": "2022-08-14T03:55:58.944Z"
   },
   {
    "duration": 4,
    "start_time": "2022-08-14T05:11:14.698Z"
   },
   {
    "duration": 9,
    "start_time": "2022-08-14T05:12:26.709Z"
   },
   {
    "duration": 338,
    "start_time": "2022-08-14T05:12:38.028Z"
   },
   {
    "duration": 87,
    "start_time": "2022-08-14T05:12:51.499Z"
   },
   {
    "duration": 10,
    "start_time": "2022-08-14T05:16:07.333Z"
   },
   {
    "duration": 9,
    "start_time": "2022-08-14T05:16:38.872Z"
   },
   {
    "duration": 32,
    "start_time": "2022-08-14T05:16:43.252Z"
   },
   {
    "duration": 24,
    "start_time": "2022-08-14T05:16:57.991Z"
   },
   {
    "duration": 9,
    "start_time": "2022-08-14T05:19:33.447Z"
   },
   {
    "duration": 10,
    "start_time": "2022-08-14T05:19:41.267Z"
   },
   {
    "duration": 20,
    "start_time": "2022-08-14T05:19:42.532Z"
   },
   {
    "duration": 3,
    "start_time": "2022-08-14T05:20:59.448Z"
   },
   {
    "duration": 3,
    "start_time": "2022-08-14T05:53:37.433Z"
   },
   {
    "duration": 16,
    "start_time": "2022-08-14T05:53:37.438Z"
   },
   {
    "duration": 114,
    "start_time": "2022-08-14T05:53:37.456Z"
   },
   {
    "duration": 4,
    "start_time": "2022-08-14T05:53:37.571Z"
   },
   {
    "duration": 66,
    "start_time": "2022-08-14T05:53:37.578Z"
   },
   {
    "duration": 184,
    "start_time": "2022-08-14T05:53:37.646Z"
   },
   {
    "duration": 160,
    "start_time": "2022-08-14T05:53:37.832Z"
   },
   {
    "duration": 258,
    "start_time": "2022-08-14T05:53:38.000Z"
   },
   {
    "duration": 250,
    "start_time": "2022-08-14T05:53:38.260Z"
   },
   {
    "duration": 329,
    "start_time": "2022-08-14T05:53:38.512Z"
   },
   {
    "duration": 259,
    "start_time": "2022-08-14T05:53:38.842Z"
   },
   {
    "duration": 41,
    "start_time": "2022-08-14T05:53:39.103Z"
   },
   {
    "duration": 214,
    "start_time": "2022-08-14T05:53:39.146Z"
   },
   {
    "duration": 185,
    "start_time": "2022-08-14T05:53:39.364Z"
   },
   {
    "duration": 67,
    "start_time": "2022-08-14T05:53:39.551Z"
   },
   {
    "duration": 288,
    "start_time": "2022-08-14T05:53:39.620Z"
   },
   {
    "duration": 59,
    "start_time": "2022-08-14T05:53:39.910Z"
   },
   {
    "duration": 510,
    "start_time": "2022-08-14T05:53:39.999Z"
   },
   {
    "duration": 46,
    "start_time": "2022-08-14T05:53:40.511Z"
   },
   {
    "duration": 195,
    "start_time": "2022-08-14T05:53:40.559Z"
   },
   {
    "duration": 27,
    "start_time": "2022-08-14T05:53:40.756Z"
   },
   {
    "duration": 124,
    "start_time": "2022-08-14T05:53:40.784Z"
   },
   {
    "duration": 12,
    "start_time": "2022-08-14T05:53:40.910Z"
   },
   {
    "duration": 24,
    "start_time": "2022-08-14T05:53:40.924Z"
   },
   {
    "duration": 6,
    "start_time": "2022-08-14T05:53:40.949Z"
   },
   {
    "duration": 8,
    "start_time": "2022-08-14T05:53:40.957Z"
   },
   {
    "duration": 37,
    "start_time": "2022-08-14T05:53:40.966Z"
   },
   {
    "duration": 32,
    "start_time": "2022-08-14T05:53:41.005Z"
   },
   {
    "duration": 63,
    "start_time": "2022-08-14T05:53:41.039Z"
   },
   {
    "duration": 66,
    "start_time": "2022-08-14T05:53:41.104Z"
   },
   {
    "duration": 6,
    "start_time": "2022-08-14T05:53:41.172Z"
   },
   {
    "duration": 22,
    "start_time": "2022-08-14T05:53:41.180Z"
   },
   {
    "duration": 27,
    "start_time": "2022-08-14T05:53:41.204Z"
   },
   {
    "duration": 32,
    "start_time": "2022-08-14T05:53:41.233Z"
   },
   {
    "duration": 20,
    "start_time": "2022-08-14T05:53:41.267Z"
   },
   {
    "duration": 12,
    "start_time": "2022-08-14T05:53:41.289Z"
   },
   {
    "duration": 21,
    "start_time": "2022-08-14T05:53:41.302Z"
   },
   {
    "duration": 39,
    "start_time": "2022-08-14T05:53:41.325Z"
   },
   {
    "duration": 15,
    "start_time": "2022-08-14T05:53:41.366Z"
   },
   {
    "duration": 48,
    "start_time": "2022-08-14T05:53:41.383Z"
   },
   {
    "duration": 14,
    "start_time": "2022-08-14T05:53:41.436Z"
   },
   {
    "duration": 41,
    "start_time": "2022-08-14T05:53:41.452Z"
   },
   {
    "duration": 44,
    "start_time": "2022-08-14T05:53:41.497Z"
   },
   {
    "duration": 21,
    "start_time": "2022-08-14T05:54:00.759Z"
   },
   {
    "duration": 5,
    "start_time": "2022-08-14T05:56:37.528Z"
   },
   {
    "duration": 4,
    "start_time": "2022-08-14T05:56:49.168Z"
   },
   {
    "duration": 20,
    "start_time": "2022-08-14T05:57:02.628Z"
   },
   {
    "duration": 4,
    "start_time": "2022-08-14T05:57:43.849Z"
   },
   {
    "duration": 10,
    "start_time": "2022-08-14T05:59:15.149Z"
   },
   {
    "duration": 17,
    "start_time": "2022-08-14T05:59:49.850Z"
   },
   {
    "duration": 9,
    "start_time": "2022-08-14T05:59:59.549Z"
   },
   {
    "duration": 20,
    "start_time": "2022-08-14T06:40:18.219Z"
   },
   {
    "duration": 484,
    "start_time": "2022-08-14T06:41:35.739Z"
   },
   {
    "duration": 36,
    "start_time": "2022-08-14T06:46:06.357Z"
   },
   {
    "duration": 33,
    "start_time": "2022-08-14T06:54:53.581Z"
   },
   {
    "duration": 31,
    "start_time": "2022-08-14T07:03:37.623Z"
   },
   {
    "duration": 11,
    "start_time": "2022-08-14T07:04:56.391Z"
   },
   {
    "duration": 9,
    "start_time": "2022-08-14T07:05:01.181Z"
   },
   {
    "duration": 2810,
    "start_time": "2022-08-14T07:05:51.818Z"
   },
   {
    "duration": 106,
    "start_time": "2022-08-14T07:06:11.078Z"
   },
   {
    "duration": 3044,
    "start_time": "2022-08-14T07:06:53.748Z"
   },
   {
    "duration": 2984,
    "start_time": "2022-08-14T07:08:15.634Z"
   },
   {
    "duration": 6,
    "start_time": "2022-08-14T07:12:41.437Z"
   },
   {
    "duration": 3,
    "start_time": "2022-08-14T07:12:43.804Z"
   },
   {
    "duration": 2765,
    "start_time": "2022-08-14T07:13:08.436Z"
   },
   {
    "duration": 5,
    "start_time": "2022-08-14T07:13:45.246Z"
   },
   {
    "duration": 2381,
    "start_time": "2022-08-14T07:13:51.144Z"
   },
   {
    "duration": 1426,
    "start_time": "2022-08-14T20:52:00.123Z"
   },
   {
    "duration": 2,
    "start_time": "2022-08-14T20:52:01.551Z"
   },
   {
    "duration": 364,
    "start_time": "2022-08-14T20:52:01.554Z"
   },
   {
    "duration": 4,
    "start_time": "2022-08-14T20:52:01.920Z"
   },
   {
    "duration": 72,
    "start_time": "2022-08-14T20:52:01.925Z"
   },
   {
    "duration": 167,
    "start_time": "2022-08-14T20:52:01.998Z"
   },
   {
    "duration": 131,
    "start_time": "2022-08-14T20:52:02.167Z"
   },
   {
    "duration": 196,
    "start_time": "2022-08-14T20:52:02.299Z"
   },
   {
    "duration": 249,
    "start_time": "2022-08-14T20:52:02.505Z"
   },
   {
    "duration": 356,
    "start_time": "2022-08-14T20:52:02.757Z"
   },
   {
    "duration": 227,
    "start_time": "2022-08-14T20:52:03.115Z"
   },
   {
    "duration": 34,
    "start_time": "2022-08-14T20:52:03.344Z"
   },
   {
    "duration": 89,
    "start_time": "2022-08-14T20:52:03.379Z"
   },
   {
    "duration": 170,
    "start_time": "2022-08-14T20:52:03.469Z"
   },
   {
    "duration": 38,
    "start_time": "2022-08-14T20:52:03.640Z"
   },
   {
    "duration": 231,
    "start_time": "2022-08-14T20:52:03.705Z"
   },
   {
    "duration": 75,
    "start_time": "2022-08-14T20:52:03.937Z"
   },
   {
    "duration": 447,
    "start_time": "2022-08-14T20:52:04.013Z"
   },
   {
    "duration": 47,
    "start_time": "2022-08-14T20:52:04.462Z"
   },
   {
    "duration": 206,
    "start_time": "2022-08-14T20:52:04.511Z"
   },
   {
    "duration": 22,
    "start_time": "2022-08-14T20:52:04.718Z"
   },
   {
    "duration": 93,
    "start_time": "2022-08-14T20:52:04.741Z"
   },
   {
    "duration": 11,
    "start_time": "2022-08-14T20:52:04.836Z"
   },
   {
    "duration": 26,
    "start_time": "2022-08-14T20:52:04.849Z"
   },
   {
    "duration": 7,
    "start_time": "2022-08-14T20:52:04.876Z"
   },
   {
    "duration": 25,
    "start_time": "2022-08-14T20:52:04.884Z"
   },
   {
    "duration": 9,
    "start_time": "2022-08-14T20:52:04.911Z"
   },
   {
    "duration": 15,
    "start_time": "2022-08-14T20:52:04.923Z"
   },
   {
    "duration": 24,
    "start_time": "2022-08-14T20:52:04.940Z"
   },
   {
    "duration": 18,
    "start_time": "2022-08-14T20:52:04.965Z"
   },
   {
    "duration": 4,
    "start_time": "2022-08-14T20:52:04.984Z"
   },
   {
    "duration": 17,
    "start_time": "2022-08-14T20:52:04.990Z"
   },
   {
    "duration": 7,
    "start_time": "2022-08-14T20:52:05.009Z"
   },
   {
    "duration": 9,
    "start_time": "2022-08-14T20:52:05.018Z"
   },
   {
    "duration": 6,
    "start_time": "2022-08-14T20:52:05.028Z"
   },
   {
    "duration": 6,
    "start_time": "2022-08-14T20:52:05.036Z"
   },
   {
    "duration": 8,
    "start_time": "2022-08-14T20:52:05.043Z"
   },
   {
    "duration": 23,
    "start_time": "2022-08-14T20:52:05.052Z"
   },
   {
    "duration": 34,
    "start_time": "2022-08-14T20:52:05.076Z"
   },
   {
    "duration": 34,
    "start_time": "2022-08-14T20:52:05.112Z"
   },
   {
    "duration": 10,
    "start_time": "2022-08-14T20:52:05.148Z"
   },
   {
    "duration": 20,
    "start_time": "2022-08-14T20:52:05.160Z"
   },
   {
    "duration": 23,
    "start_time": "2022-08-14T20:52:05.207Z"
   },
   {
    "duration": 257,
    "start_time": "2022-08-14T20:52:05.232Z"
   },
   {
    "duration": 0,
    "start_time": "2022-08-14T20:52:05.491Z"
   },
   {
    "duration": 0,
    "start_time": "2022-08-14T20:52:05.493Z"
   },
   {
    "duration": 0,
    "start_time": "2022-08-14T20:52:05.505Z"
   },
   {
    "duration": 0,
    "start_time": "2022-08-14T20:52:05.507Z"
   },
   {
    "duration": 8,
    "start_time": "2022-08-14T20:52:46.809Z"
   },
   {
    "duration": 5,
    "start_time": "2022-08-14T20:54:04.259Z"
   },
   {
    "duration": 2601,
    "start_time": "2022-08-14T20:54:05.131Z"
   },
   {
    "duration": 2668,
    "start_time": "2022-08-14T20:54:07.734Z"
   },
   {
    "duration": 5,
    "start_time": "2022-08-14T20:54:10.404Z"
   },
   {
    "duration": 14,
    "start_time": "2022-08-14T20:54:10.411Z"
   },
   {
    "duration": 4,
    "start_time": "2022-08-14T20:54:51.283Z"
   },
   {
    "duration": 6,
    "start_time": "2022-08-14T20:54:51.289Z"
   },
   {
    "duration": 107,
    "start_time": "2022-08-14T20:54:51.297Z"
   },
   {
    "duration": 3,
    "start_time": "2022-08-14T20:54:51.407Z"
   },
   {
    "duration": 61,
    "start_time": "2022-08-14T20:54:51.412Z"
   },
   {
    "duration": 191,
    "start_time": "2022-08-14T20:54:51.475Z"
   },
   {
    "duration": 156,
    "start_time": "2022-08-14T20:54:51.668Z"
   },
   {
    "duration": 244,
    "start_time": "2022-08-14T20:54:51.826Z"
   },
   {
    "duration": 248,
    "start_time": "2022-08-14T20:54:52.073Z"
   },
   {
    "duration": 363,
    "start_time": "2022-08-14T20:54:52.322Z"
   },
   {
    "duration": 221,
    "start_time": "2022-08-14T20:54:52.686Z"
   },
   {
    "duration": 36,
    "start_time": "2022-08-14T20:54:52.908Z"
   },
   {
    "duration": 90,
    "start_time": "2022-08-14T20:54:52.946Z"
   },
   {
    "duration": 173,
    "start_time": "2022-08-14T20:54:53.037Z"
   },
   {
    "duration": 41,
    "start_time": "2022-08-14T20:54:53.211Z"
   },
   {
    "duration": 365,
    "start_time": "2022-08-14T20:54:53.253Z"
   },
   {
    "duration": 57,
    "start_time": "2022-08-14T20:54:53.619Z"
   },
   {
    "duration": 436,
    "start_time": "2022-08-14T20:54:53.677Z"
   },
   {
    "duration": 39,
    "start_time": "2022-08-14T20:54:54.114Z"
   },
   {
    "duration": 145,
    "start_time": "2022-08-14T20:54:54.154Z"
   },
   {
    "duration": 21,
    "start_time": "2022-08-14T20:54:54.306Z"
   },
   {
    "duration": 91,
    "start_time": "2022-08-14T20:54:54.328Z"
   },
   {
    "duration": 10,
    "start_time": "2022-08-14T20:54:54.420Z"
   },
   {
    "duration": 18,
    "start_time": "2022-08-14T20:54:54.433Z"
   },
   {
    "duration": 5,
    "start_time": "2022-08-14T20:54:54.453Z"
   },
   {
    "duration": 5,
    "start_time": "2022-08-14T20:54:54.459Z"
   },
   {
    "duration": 5,
    "start_time": "2022-08-14T20:54:54.465Z"
   },
   {
    "duration": 4,
    "start_time": "2022-08-14T20:54:54.506Z"
   },
   {
    "duration": 13,
    "start_time": "2022-08-14T20:54:54.511Z"
   },
   {
    "duration": 16,
    "start_time": "2022-08-14T20:54:54.525Z"
   },
   {
    "duration": 4,
    "start_time": "2022-08-14T20:54:54.542Z"
   },
   {
    "duration": 9,
    "start_time": "2022-08-14T20:54:54.548Z"
   },
   {
    "duration": 6,
    "start_time": "2022-08-14T20:54:54.559Z"
   },
   {
    "duration": 43,
    "start_time": "2022-08-14T20:54:54.567Z"
   },
   {
    "duration": 5,
    "start_time": "2022-08-14T20:54:54.612Z"
   },
   {
    "duration": 3,
    "start_time": "2022-08-14T20:54:54.619Z"
   },
   {
    "duration": 7,
    "start_time": "2022-08-14T20:54:54.623Z"
   },
   {
    "duration": 22,
    "start_time": "2022-08-14T20:54:54.631Z"
   },
   {
    "duration": 6,
    "start_time": "2022-08-14T20:54:54.654Z"
   },
   {
    "duration": 50,
    "start_time": "2022-08-14T20:54:54.661Z"
   },
   {
    "duration": 8,
    "start_time": "2022-08-14T20:54:54.713Z"
   },
   {
    "duration": 19,
    "start_time": "2022-08-14T20:54:54.722Z"
   },
   {
    "duration": 19,
    "start_time": "2022-08-14T20:54:54.742Z"
   },
   {
    "duration": 4,
    "start_time": "2022-08-14T20:54:59.962Z"
   },
   {
    "duration": 2384,
    "start_time": "2022-08-14T20:55:01.262Z"
   },
   {
    "duration": 19,
    "start_time": "2022-08-14T20:55:48.272Z"
   },
   {
    "duration": 2,
    "start_time": "2022-08-14T20:57:27.912Z"
   },
   {
    "duration": 16,
    "start_time": "2022-08-14T20:57:28.612Z"
   },
   {
    "duration": 15,
    "start_time": "2022-08-14T20:59:52.392Z"
   },
   {
    "duration": 10,
    "start_time": "2022-08-14T21:05:38.856Z"
   },
   {
    "duration": 17,
    "start_time": "2022-08-14T21:05:59.955Z"
   },
   {
    "duration": 17,
    "start_time": "2022-08-14T21:06:10.872Z"
   },
   {
    "duration": 9,
    "start_time": "2022-08-14T21:06:25.304Z"
   },
   {
    "duration": 3,
    "start_time": "2022-08-14T21:14:38.237Z"
   },
   {
    "duration": 16,
    "start_time": "2022-08-14T21:14:38.242Z"
   },
   {
    "duration": 107,
    "start_time": "2022-08-14T21:14:38.259Z"
   },
   {
    "duration": 4,
    "start_time": "2022-08-14T21:14:38.368Z"
   },
   {
    "duration": 68,
    "start_time": "2022-08-14T21:14:38.374Z"
   },
   {
    "duration": 176,
    "start_time": "2022-08-14T21:14:38.444Z"
   },
   {
    "duration": 142,
    "start_time": "2022-08-14T21:14:38.622Z"
   },
   {
    "duration": 331,
    "start_time": "2022-08-14T21:14:38.765Z"
   },
   {
    "duration": 226,
    "start_time": "2022-08-14T21:14:39.097Z"
   },
   {
    "duration": 332,
    "start_time": "2022-08-14T21:14:39.326Z"
   },
   {
    "duration": 237,
    "start_time": "2022-08-14T21:14:39.659Z"
   },
   {
    "duration": 43,
    "start_time": "2022-08-14T21:14:39.897Z"
   },
   {
    "duration": 90,
    "start_time": "2022-08-14T21:14:39.942Z"
   },
   {
    "duration": 172,
    "start_time": "2022-08-14T21:14:40.034Z"
   },
   {
    "duration": 47,
    "start_time": "2022-08-14T21:14:40.208Z"
   },
   {
    "duration": 280,
    "start_time": "2022-08-14T21:14:40.256Z"
   },
   {
    "duration": 81,
    "start_time": "2022-08-14T21:14:40.538Z"
   },
   {
    "duration": 436,
    "start_time": "2022-08-14T21:14:40.620Z"
   },
   {
    "duration": 55,
    "start_time": "2022-08-14T21:14:41.058Z"
   },
   {
    "duration": 130,
    "start_time": "2022-08-14T21:14:41.114Z"
   },
   {
    "duration": 22,
    "start_time": "2022-08-14T21:14:41.245Z"
   },
   {
    "duration": 93,
    "start_time": "2022-08-14T21:14:41.269Z"
   },
   {
    "duration": 11,
    "start_time": "2022-08-14T21:14:41.363Z"
   },
   {
    "duration": 46,
    "start_time": "2022-08-14T21:14:41.376Z"
   },
   {
    "duration": 7,
    "start_time": "2022-08-14T21:14:41.423Z"
   },
   {
    "duration": 6,
    "start_time": "2022-08-14T21:14:41.431Z"
   },
   {
    "duration": 5,
    "start_time": "2022-08-14T21:14:41.438Z"
   },
   {
    "duration": 3,
    "start_time": "2022-08-14T21:14:41.446Z"
   },
   {
    "duration": 11,
    "start_time": "2022-08-14T21:14:41.451Z"
   },
   {
    "duration": 43,
    "start_time": "2022-08-14T21:14:41.464Z"
   },
   {
    "duration": 4,
    "start_time": "2022-08-14T21:14:41.508Z"
   },
   {
    "duration": 9,
    "start_time": "2022-08-14T21:14:41.513Z"
   },
   {
    "duration": 6,
    "start_time": "2022-08-14T21:14:41.523Z"
   },
   {
    "duration": 9,
    "start_time": "2022-08-14T21:14:41.530Z"
   },
   {
    "duration": 6,
    "start_time": "2022-08-14T21:14:41.541Z"
   },
   {
    "duration": 4,
    "start_time": "2022-08-14T21:14:41.548Z"
   },
   {
    "duration": 171,
    "start_time": "2022-08-14T21:14:41.553Z"
   },
   {
    "duration": 25,
    "start_time": "2022-08-14T21:14:41.727Z"
   },
   {
    "duration": 10,
    "start_time": "2022-08-14T21:14:41.753Z"
   },
   {
    "duration": 37,
    "start_time": "2022-08-14T21:14:41.764Z"
   },
   {
    "duration": 9,
    "start_time": "2022-08-14T21:14:41.802Z"
   },
   {
    "duration": 19,
    "start_time": "2022-08-14T21:14:41.812Z"
   },
   {
    "duration": 22,
    "start_time": "2022-08-14T21:14:41.832Z"
   },
   {
    "duration": 4,
    "start_time": "2022-08-14T21:14:41.856Z"
   },
   {
    "duration": 2366,
    "start_time": "2022-08-14T21:14:41.862Z"
   },
   {
    "duration": 10,
    "start_time": "2022-08-14T21:14:44.230Z"
   },
   {
    "duration": 4,
    "start_time": "2022-08-14T21:14:44.242Z"
   },
   {
    "duration": 7,
    "start_time": "2022-08-14T21:14:44.247Z"
   },
   {
    "duration": 12,
    "start_time": "2022-08-14T21:14:44.256Z"
   },
   {
    "duration": 45,
    "start_time": "2022-08-14T21:14:44.269Z"
   },
   {
    "duration": 22,
    "start_time": "2022-08-14T21:15:14.037Z"
   },
   {
    "duration": 16,
    "start_time": "2022-08-14T21:15:24.006Z"
   },
   {
    "duration": 3,
    "start_time": "2022-08-14T21:16:03.809Z"
   },
   {
    "duration": 7,
    "start_time": "2022-08-14T21:16:03.813Z"
   },
   {
    "duration": 100,
    "start_time": "2022-08-14T21:16:03.822Z"
   },
   {
    "duration": 4,
    "start_time": "2022-08-14T21:16:03.924Z"
   },
   {
    "duration": 51,
    "start_time": "2022-08-14T21:16:03.929Z"
   },
   {
    "duration": 187,
    "start_time": "2022-08-14T21:16:03.982Z"
   },
   {
    "duration": 150,
    "start_time": "2022-08-14T21:16:04.170Z"
   },
   {
    "duration": 211,
    "start_time": "2022-08-14T21:16:04.323Z"
   },
   {
    "duration": 201,
    "start_time": "2022-08-14T21:16:04.536Z"
   },
   {
    "duration": 348,
    "start_time": "2022-08-14T21:16:04.739Z"
   },
   {
    "duration": 249,
    "start_time": "2022-08-14T21:16:05.089Z"
   },
   {
    "duration": 41,
    "start_time": "2022-08-14T21:16:05.339Z"
   },
   {
    "duration": 277,
    "start_time": "2022-08-14T21:16:05.381Z"
   },
   {
    "duration": 197,
    "start_time": "2022-08-14T21:16:05.660Z"
   },
   {
    "duration": 62,
    "start_time": "2022-08-14T21:16:05.858Z"
   },
   {
    "duration": 324,
    "start_time": "2022-08-14T21:16:05.922Z"
   },
   {
    "duration": 85,
    "start_time": "2022-08-14T21:16:06.248Z"
   },
   {
    "duration": 477,
    "start_time": "2022-08-14T21:16:06.335Z"
   },
   {
    "duration": 45,
    "start_time": "2022-08-14T21:16:06.814Z"
   },
   {
    "duration": 169,
    "start_time": "2022-08-14T21:16:06.860Z"
   },
   {
    "duration": 23,
    "start_time": "2022-08-14T21:16:07.031Z"
   },
   {
    "duration": 99,
    "start_time": "2022-08-14T21:16:07.056Z"
   },
   {
    "duration": 12,
    "start_time": "2022-08-14T21:16:07.156Z"
   },
   {
    "duration": 55,
    "start_time": "2022-08-14T21:16:07.170Z"
   },
   {
    "duration": 7,
    "start_time": "2022-08-14T21:16:07.228Z"
   },
   {
    "duration": 6,
    "start_time": "2022-08-14T21:16:07.237Z"
   },
   {
    "duration": 8,
    "start_time": "2022-08-14T21:16:07.244Z"
   },
   {
    "duration": 4,
    "start_time": "2022-08-14T21:16:07.253Z"
   },
   {
    "duration": 45,
    "start_time": "2022-08-14T21:16:07.262Z"
   },
   {
    "duration": 20,
    "start_time": "2022-08-14T21:16:07.309Z"
   },
   {
    "duration": 5,
    "start_time": "2022-08-14T21:16:07.331Z"
   },
   {
    "duration": 9,
    "start_time": "2022-08-14T21:16:07.337Z"
   },
   {
    "duration": 5,
    "start_time": "2022-08-14T21:16:07.348Z"
   },
   {
    "duration": 7,
    "start_time": "2022-08-14T21:16:07.355Z"
   },
   {
    "duration": 6,
    "start_time": "2022-08-14T21:16:07.364Z"
   },
   {
    "duration": 4,
    "start_time": "2022-08-14T21:16:07.406Z"
   },
   {
    "duration": 9,
    "start_time": "2022-08-14T21:16:07.412Z"
   },
   {
    "duration": 22,
    "start_time": "2022-08-14T21:16:07.422Z"
   },
   {
    "duration": 6,
    "start_time": "2022-08-14T21:16:07.446Z"
   },
   {
    "duration": 35,
    "start_time": "2022-08-14T21:16:07.453Z"
   },
   {
    "duration": 24,
    "start_time": "2022-08-14T21:16:07.490Z"
   },
   {
    "duration": 25,
    "start_time": "2022-08-14T21:16:07.515Z"
   },
   {
    "duration": 26,
    "start_time": "2022-08-14T21:16:07.541Z"
   },
   {
    "duration": 6,
    "start_time": "2022-08-14T21:16:07.569Z"
   },
   {
    "duration": 2813,
    "start_time": "2022-08-14T21:16:07.578Z"
   },
   {
    "duration": 15,
    "start_time": "2022-08-14T21:16:10.392Z"
   },
   {
    "duration": 4,
    "start_time": "2022-08-14T21:16:10.409Z"
   },
   {
    "duration": 18,
    "start_time": "2022-08-14T21:16:10.415Z"
   },
   {
    "duration": 19,
    "start_time": "2022-08-14T21:16:10.434Z"
   },
   {
    "duration": 33,
    "start_time": "2022-08-14T21:16:10.454Z"
   },
   {
    "duration": 14,
    "start_time": "2022-08-14T21:17:53.988Z"
   },
   {
    "duration": 17,
    "start_time": "2022-08-14T21:18:51.013Z"
   },
   {
    "duration": 12,
    "start_time": "2022-08-14T21:19:05.786Z"
   },
   {
    "duration": 3,
    "start_time": "2022-08-14T21:19:10.999Z"
   },
   {
    "duration": 15,
    "start_time": "2022-08-14T21:19:11.004Z"
   },
   {
    "duration": 100,
    "start_time": "2022-08-14T21:19:11.021Z"
   },
   {
    "duration": 3,
    "start_time": "2022-08-14T21:19:11.123Z"
   },
   {
    "duration": 47,
    "start_time": "2022-08-14T21:19:11.127Z"
   },
   {
    "duration": 167,
    "start_time": "2022-08-14T21:19:11.175Z"
   },
   {
    "duration": 138,
    "start_time": "2022-08-14T21:19:11.343Z"
   },
   {
    "duration": 370,
    "start_time": "2022-08-14T21:19:11.482Z"
   },
   {
    "duration": 184,
    "start_time": "2022-08-14T21:19:11.854Z"
   },
   {
    "duration": 340,
    "start_time": "2022-08-14T21:19:12.040Z"
   },
   {
    "duration": 213,
    "start_time": "2022-08-14T21:19:12.382Z"
   },
   {
    "duration": 41,
    "start_time": "2022-08-14T21:19:12.597Z"
   },
   {
    "duration": 97,
    "start_time": "2022-08-14T21:19:12.640Z"
   },
   {
    "duration": 173,
    "start_time": "2022-08-14T21:19:12.739Z"
   },
   {
    "duration": 40,
    "start_time": "2022-08-14T21:19:12.913Z"
   },
   {
    "duration": 256,
    "start_time": "2022-08-14T21:19:12.955Z"
   },
   {
    "duration": 55,
    "start_time": "2022-08-14T21:19:13.212Z"
   },
   {
    "duration": 437,
    "start_time": "2022-08-14T21:19:13.269Z"
   },
   {
    "duration": 39,
    "start_time": "2022-08-14T21:19:13.708Z"
   },
   {
    "duration": 154,
    "start_time": "2022-08-14T21:19:13.748Z"
   },
   {
    "duration": 22,
    "start_time": "2022-08-14T21:19:13.906Z"
   },
   {
    "duration": 85,
    "start_time": "2022-08-14T21:19:13.929Z"
   },
   {
    "duration": 11,
    "start_time": "2022-08-14T21:19:14.015Z"
   },
   {
    "duration": 20,
    "start_time": "2022-08-14T21:19:14.028Z"
   },
   {
    "duration": 6,
    "start_time": "2022-08-14T21:19:14.049Z"
   },
   {
    "duration": 7,
    "start_time": "2022-08-14T21:19:14.057Z"
   },
   {
    "duration": 41,
    "start_time": "2022-08-14T21:19:14.066Z"
   },
   {
    "duration": 4,
    "start_time": "2022-08-14T21:19:14.109Z"
   },
   {
    "duration": 10,
    "start_time": "2022-08-14T21:19:14.116Z"
   },
   {
    "duration": 16,
    "start_time": "2022-08-14T21:19:14.127Z"
   },
   {
    "duration": 4,
    "start_time": "2022-08-14T21:19:14.145Z"
   },
   {
    "duration": 10,
    "start_time": "2022-08-14T21:19:14.151Z"
   },
   {
    "duration": 5,
    "start_time": "2022-08-14T21:19:14.163Z"
   },
   {
    "duration": 40,
    "start_time": "2022-08-14T21:19:14.169Z"
   },
   {
    "duration": 6,
    "start_time": "2022-08-14T21:19:14.211Z"
   },
   {
    "duration": 9,
    "start_time": "2022-08-14T21:19:14.218Z"
   },
   {
    "duration": 6,
    "start_time": "2022-08-14T21:19:14.229Z"
   },
   {
    "duration": 21,
    "start_time": "2022-08-14T21:19:14.236Z"
   },
   {
    "duration": 6,
    "start_time": "2022-08-14T21:19:14.259Z"
   },
   {
    "duration": 40,
    "start_time": "2022-08-14T21:19:14.266Z"
   },
   {
    "duration": 8,
    "start_time": "2022-08-14T21:19:14.308Z"
   },
   {
    "duration": 18,
    "start_time": "2022-08-14T21:19:14.318Z"
   },
   {
    "duration": 22,
    "start_time": "2022-08-14T21:19:14.338Z"
   },
   {
    "duration": 5,
    "start_time": "2022-08-14T21:19:14.362Z"
   },
   {
    "duration": 2625,
    "start_time": "2022-08-14T21:19:14.368Z"
   },
   {
    "duration": 15,
    "start_time": "2022-08-14T21:19:16.995Z"
   },
   {
    "duration": 4,
    "start_time": "2022-08-14T21:19:17.012Z"
   },
   {
    "duration": 3,
    "start_time": "2022-08-14T21:19:17.017Z"
   },
   {
    "duration": 13,
    "start_time": "2022-08-14T21:19:17.022Z"
   },
   {
    "duration": 15,
    "start_time": "2022-08-14T21:19:17.036Z"
   },
   {
    "duration": 3,
    "start_time": "2022-08-14T21:19:52.903Z"
   },
   {
    "duration": 5,
    "start_time": "2022-08-14T21:19:52.911Z"
   },
   {
    "duration": 107,
    "start_time": "2022-08-14T21:19:52.918Z"
   },
   {
    "duration": 3,
    "start_time": "2022-08-14T21:19:53.027Z"
   },
   {
    "duration": 52,
    "start_time": "2022-08-14T21:19:53.032Z"
   },
   {
    "duration": 170,
    "start_time": "2022-08-14T21:19:53.086Z"
   },
   {
    "duration": 142,
    "start_time": "2022-08-14T21:19:53.258Z"
   },
   {
    "duration": 204,
    "start_time": "2022-08-14T21:19:53.405Z"
   },
   {
    "duration": 217,
    "start_time": "2022-08-14T21:19:53.610Z"
   },
   {
    "duration": 302,
    "start_time": "2022-08-14T21:19:53.829Z"
   },
   {
    "duration": 211,
    "start_time": "2022-08-14T21:19:54.133Z"
   },
   {
    "duration": 35,
    "start_time": "2022-08-14T21:19:54.346Z"
   },
   {
    "duration": 89,
    "start_time": "2022-08-14T21:19:54.382Z"
   },
   {
    "duration": 167,
    "start_time": "2022-08-14T21:19:54.474Z"
   },
   {
    "duration": 65,
    "start_time": "2022-08-14T21:19:54.642Z"
   },
   {
    "duration": 236,
    "start_time": "2022-08-14T21:19:54.708Z"
   },
   {
    "duration": 73,
    "start_time": "2022-08-14T21:19:54.947Z"
   },
   {
    "duration": 426,
    "start_time": "2022-08-14T21:19:55.021Z"
   },
   {
    "duration": 59,
    "start_time": "2022-08-14T21:19:55.449Z"
   },
   {
    "duration": 127,
    "start_time": "2022-08-14T21:19:55.510Z"
   },
   {
    "duration": 22,
    "start_time": "2022-08-14T21:19:55.638Z"
   },
   {
    "duration": 86,
    "start_time": "2022-08-14T21:19:55.661Z"
   },
   {
    "duration": 11,
    "start_time": "2022-08-14T21:19:55.748Z"
   },
   {
    "duration": 46,
    "start_time": "2022-08-14T21:19:55.760Z"
   },
   {
    "duration": 6,
    "start_time": "2022-08-14T21:19:55.808Z"
   },
   {
    "duration": 7,
    "start_time": "2022-08-14T21:19:55.815Z"
   },
   {
    "duration": 6,
    "start_time": "2022-08-14T21:19:55.823Z"
   },
   {
    "duration": 6,
    "start_time": "2022-08-14T21:19:55.830Z"
   },
   {
    "duration": 26,
    "start_time": "2022-08-14T21:19:55.837Z"
   },
   {
    "duration": 17,
    "start_time": "2022-08-14T21:19:55.864Z"
   },
   {
    "duration": 4,
    "start_time": "2022-08-14T21:19:55.882Z"
   },
   {
    "duration": 24,
    "start_time": "2022-08-14T21:19:55.887Z"
   },
   {
    "duration": 5,
    "start_time": "2022-08-14T21:19:55.913Z"
   },
   {
    "duration": 8,
    "start_time": "2022-08-14T21:19:55.919Z"
   },
   {
    "duration": 6,
    "start_time": "2022-08-14T21:19:55.928Z"
   },
   {
    "duration": 4,
    "start_time": "2022-08-14T21:19:55.936Z"
   },
   {
    "duration": 7,
    "start_time": "2022-08-14T21:19:55.942Z"
   },
   {
    "duration": 17,
    "start_time": "2022-08-14T21:19:55.953Z"
   },
   {
    "duration": 38,
    "start_time": "2022-08-14T21:19:55.972Z"
   },
   {
    "duration": 42,
    "start_time": "2022-08-14T21:19:56.012Z"
   },
   {
    "duration": 12,
    "start_time": "2022-08-14T21:19:56.056Z"
   },
   {
    "duration": 41,
    "start_time": "2022-08-14T21:19:56.072Z"
   },
   {
    "duration": 38,
    "start_time": "2022-08-14T21:19:56.115Z"
   },
   {
    "duration": 6,
    "start_time": "2022-08-14T21:19:56.156Z"
   },
   {
    "duration": 2612,
    "start_time": "2022-08-14T21:19:56.164Z"
   },
   {
    "duration": 7,
    "start_time": "2022-08-14T21:19:58.778Z"
   },
   {
    "duration": 5,
    "start_time": "2022-08-14T21:19:58.787Z"
   },
   {
    "duration": 14,
    "start_time": "2022-08-14T21:19:58.793Z"
   },
   {
    "duration": 13,
    "start_time": "2022-08-14T21:19:58.808Z"
   },
   {
    "duration": 0,
    "start_time": "2022-08-14T21:19:58.822Z"
   },
   {
    "duration": 3,
    "start_time": "2022-08-14T21:20:36.967Z"
   },
   {
    "duration": 6,
    "start_time": "2022-08-14T21:20:36.972Z"
   },
   {
    "duration": 104,
    "start_time": "2022-08-14T21:20:36.980Z"
   },
   {
    "duration": 3,
    "start_time": "2022-08-14T21:20:37.086Z"
   },
   {
    "duration": 55,
    "start_time": "2022-08-14T21:20:37.091Z"
   },
   {
    "duration": 166,
    "start_time": "2022-08-14T21:20:37.148Z"
   },
   {
    "duration": 146,
    "start_time": "2022-08-14T21:20:37.316Z"
   },
   {
    "duration": 211,
    "start_time": "2022-08-14T21:20:37.464Z"
   },
   {
    "duration": 242,
    "start_time": "2022-08-14T21:20:37.677Z"
   },
   {
    "duration": 308,
    "start_time": "2022-08-14T21:20:37.921Z"
   },
   {
    "duration": 211,
    "start_time": "2022-08-14T21:20:38.230Z"
   },
   {
    "duration": 35,
    "start_time": "2022-08-14T21:20:38.442Z"
   },
   {
    "duration": 92,
    "start_time": "2022-08-14T21:20:38.479Z"
   },
   {
    "duration": 164,
    "start_time": "2022-08-14T21:20:38.574Z"
   },
   {
    "duration": 38,
    "start_time": "2022-08-14T21:20:38.739Z"
   },
   {
    "duration": 255,
    "start_time": "2022-08-14T21:20:38.779Z"
   },
   {
    "duration": 77,
    "start_time": "2022-08-14T21:20:39.036Z"
   },
   {
    "duration": 451,
    "start_time": "2022-08-14T21:20:39.115Z"
   },
   {
    "duration": 52,
    "start_time": "2022-08-14T21:20:39.568Z"
   },
   {
    "duration": 149,
    "start_time": "2022-08-14T21:20:39.622Z"
   },
   {
    "duration": 34,
    "start_time": "2022-08-14T21:20:39.773Z"
   },
   {
    "duration": 99,
    "start_time": "2022-08-14T21:20:39.808Z"
   },
   {
    "duration": 11,
    "start_time": "2022-08-14T21:20:39.908Z"
   },
   {
    "duration": 19,
    "start_time": "2022-08-14T21:20:39.920Z"
   },
   {
    "duration": 6,
    "start_time": "2022-08-14T21:20:39.940Z"
   },
   {
    "duration": 9,
    "start_time": "2022-08-14T21:20:39.948Z"
   },
   {
    "duration": 12,
    "start_time": "2022-08-14T21:20:39.958Z"
   },
   {
    "duration": 11,
    "start_time": "2022-08-14T21:20:39.971Z"
   },
   {
    "duration": 23,
    "start_time": "2022-08-14T21:20:39.983Z"
   },
   {
    "duration": 16,
    "start_time": "2022-08-14T21:20:40.007Z"
   },
   {
    "duration": 4,
    "start_time": "2022-08-14T21:20:40.025Z"
   },
   {
    "duration": 11,
    "start_time": "2022-08-14T21:20:40.030Z"
   },
   {
    "duration": 8,
    "start_time": "2022-08-14T21:20:40.042Z"
   },
   {
    "duration": 10,
    "start_time": "2022-08-14T21:20:40.052Z"
   },
   {
    "duration": 7,
    "start_time": "2022-08-14T21:20:40.063Z"
   },
   {
    "duration": 35,
    "start_time": "2022-08-14T21:20:40.072Z"
   },
   {
    "duration": 6,
    "start_time": "2022-08-14T21:20:40.108Z"
   },
   {
    "duration": 18,
    "start_time": "2022-08-14T21:20:40.115Z"
   },
   {
    "duration": 5,
    "start_time": "2022-08-14T21:20:40.135Z"
   },
   {
    "duration": 34,
    "start_time": "2022-08-14T21:20:40.141Z"
   },
   {
    "duration": 28,
    "start_time": "2022-08-14T21:20:40.178Z"
   },
   {
    "duration": 23,
    "start_time": "2022-08-14T21:20:40.208Z"
   },
   {
    "duration": 23,
    "start_time": "2022-08-14T21:20:40.232Z"
   },
   {
    "duration": 5,
    "start_time": "2022-08-14T21:20:40.257Z"
   },
   {
    "duration": 2612,
    "start_time": "2022-08-14T21:20:40.264Z"
   },
   {
    "duration": 8,
    "start_time": "2022-08-14T21:20:42.878Z"
   },
   {
    "duration": 6,
    "start_time": "2022-08-14T21:20:42.887Z"
   },
   {
    "duration": 2,
    "start_time": "2022-08-14T21:20:42.906Z"
   },
   {
    "duration": 12,
    "start_time": "2022-08-14T21:20:42.909Z"
   },
   {
    "duration": 16,
    "start_time": "2022-08-14T21:20:42.923Z"
   },
   {
    "duration": 9,
    "start_time": "2022-08-14T21:22:00.915Z"
   },
   {
    "duration": 118,
    "start_time": "2022-08-14T21:22:10.252Z"
   },
   {
    "duration": 135,
    "start_time": "2022-08-14T21:22:30.606Z"
   },
   {
    "duration": 113,
    "start_time": "2022-08-14T21:26:40.212Z"
   },
   {
    "duration": 4,
    "start_time": "2022-08-14T21:32:44.352Z"
   },
   {
    "duration": 9,
    "start_time": "2022-08-14T21:32:44.358Z"
   },
   {
    "duration": 118,
    "start_time": "2022-08-14T21:32:44.368Z"
   },
   {
    "duration": 3,
    "start_time": "2022-08-14T21:32:44.488Z"
   },
   {
    "duration": 51,
    "start_time": "2022-08-14T21:32:44.493Z"
   },
   {
    "duration": 165,
    "start_time": "2022-08-14T21:32:44.546Z"
   },
   {
    "duration": 137,
    "start_time": "2022-08-14T21:32:44.713Z"
   },
   {
    "duration": 220,
    "start_time": "2022-08-14T21:32:44.852Z"
   },
   {
    "duration": 261,
    "start_time": "2022-08-14T21:32:45.073Z"
   },
   {
    "duration": 309,
    "start_time": "2022-08-14T21:32:45.336Z"
   },
   {
    "duration": 214,
    "start_time": "2022-08-14T21:32:45.646Z"
   },
   {
    "duration": 47,
    "start_time": "2022-08-14T21:32:45.861Z"
   },
   {
    "duration": 74,
    "start_time": "2022-08-14T21:32:45.911Z"
   },
   {
    "duration": 230,
    "start_time": "2022-08-14T21:32:45.987Z"
   },
   {
    "duration": 53,
    "start_time": "2022-08-14T21:32:46.219Z"
   },
   {
    "duration": 282,
    "start_time": "2022-08-14T21:32:46.273Z"
   },
   {
    "duration": 67,
    "start_time": "2022-08-14T21:32:46.557Z"
   },
   {
    "duration": 434,
    "start_time": "2022-08-14T21:32:46.626Z"
   },
   {
    "duration": 51,
    "start_time": "2022-08-14T21:32:47.062Z"
   },
   {
    "duration": 134,
    "start_time": "2022-08-14T21:32:47.114Z"
   },
   {
    "duration": 22,
    "start_time": "2022-08-14T21:32:47.249Z"
   },
   {
    "duration": 88,
    "start_time": "2022-08-14T21:32:47.272Z"
   },
   {
    "duration": 10,
    "start_time": "2022-08-14T21:32:47.361Z"
   },
   {
    "duration": 48,
    "start_time": "2022-08-14T21:32:47.373Z"
   },
   {
    "duration": 6,
    "start_time": "2022-08-14T21:32:47.423Z"
   },
   {
    "duration": 5,
    "start_time": "2022-08-14T21:32:47.430Z"
   },
   {
    "duration": 6,
    "start_time": "2022-08-14T21:32:47.436Z"
   },
   {
    "duration": 5,
    "start_time": "2022-08-14T21:32:47.443Z"
   },
   {
    "duration": 9,
    "start_time": "2022-08-14T21:32:47.450Z"
   },
   {
    "duration": 15,
    "start_time": "2022-08-14T21:32:47.461Z"
   },
   {
    "duration": 31,
    "start_time": "2022-08-14T21:32:47.477Z"
   },
   {
    "duration": 9,
    "start_time": "2022-08-14T21:32:47.510Z"
   },
   {
    "duration": 6,
    "start_time": "2022-08-14T21:32:47.520Z"
   },
   {
    "duration": 7,
    "start_time": "2022-08-14T21:32:47.527Z"
   },
   {
    "duration": 5,
    "start_time": "2022-08-14T21:32:47.536Z"
   },
   {
    "duration": 4,
    "start_time": "2022-08-14T21:32:47.542Z"
   },
   {
    "duration": 4,
    "start_time": "2022-08-14T21:32:47.549Z"
   },
   {
    "duration": 53,
    "start_time": "2022-08-14T21:32:47.554Z"
   },
   {
    "duration": 6,
    "start_time": "2022-08-14T21:32:47.608Z"
   },
   {
    "duration": 34,
    "start_time": "2022-08-14T21:32:47.615Z"
   },
   {
    "duration": 10,
    "start_time": "2022-08-14T21:32:47.650Z"
   },
   {
    "duration": 21,
    "start_time": "2022-08-14T21:32:47.661Z"
   },
   {
    "duration": 44,
    "start_time": "2022-08-14T21:32:47.683Z"
   },
   {
    "duration": 5,
    "start_time": "2022-08-14T21:32:47.728Z"
   },
   {
    "duration": 2576,
    "start_time": "2022-08-14T21:32:47.734Z"
   },
   {
    "duration": 9,
    "start_time": "2022-08-14T21:32:50.312Z"
   },
   {
    "duration": 4,
    "start_time": "2022-08-14T21:32:50.323Z"
   },
   {
    "duration": 4,
    "start_time": "2022-08-14T21:32:50.328Z"
   },
   {
    "duration": 13,
    "start_time": "2022-08-14T21:32:50.334Z"
   },
   {
    "duration": 16,
    "start_time": "2022-08-14T21:32:50.348Z"
   },
   {
    "duration": 129,
    "start_time": "2022-08-14T21:32:50.366Z"
   },
   {
    "duration": 25,
    "start_time": "2022-08-14T21:32:50.496Z"
   },
   {
    "duration": 0,
    "start_time": "2022-08-14T21:32:50.523Z"
   },
   {
    "duration": 0,
    "start_time": "2022-08-14T21:32:50.523Z"
   },
   {
    "duration": 20,
    "start_time": "2022-08-14T21:32:55.068Z"
   },
   {
    "duration": 3,
    "start_time": "2022-08-14T21:33:29.976Z"
   },
   {
    "duration": 3,
    "start_time": "2022-08-14T21:33:41.624Z"
   },
   {
    "duration": 3,
    "start_time": "2022-08-14T21:33:41.631Z"
   },
   {
    "duration": 105,
    "start_time": "2022-08-14T21:33:41.635Z"
   },
   {
    "duration": 3,
    "start_time": "2022-08-14T21:33:41.741Z"
   },
   {
    "duration": 49,
    "start_time": "2022-08-14T21:33:41.746Z"
   },
   {
    "duration": 156,
    "start_time": "2022-08-14T21:33:41.796Z"
   },
   {
    "duration": 154,
    "start_time": "2022-08-14T21:33:41.954Z"
   },
   {
    "duration": 217,
    "start_time": "2022-08-14T21:33:42.109Z"
   },
   {
    "duration": 209,
    "start_time": "2022-08-14T21:33:42.328Z"
   },
   {
    "duration": 292,
    "start_time": "2022-08-14T21:33:42.539Z"
   },
   {
    "duration": 212,
    "start_time": "2022-08-14T21:33:42.832Z"
   },
   {
    "duration": 34,
    "start_time": "2022-08-14T21:33:43.046Z"
   },
   {
    "duration": 87,
    "start_time": "2022-08-14T21:33:43.081Z"
   },
   {
    "duration": 172,
    "start_time": "2022-08-14T21:33:43.170Z"
   },
   {
    "duration": 68,
    "start_time": "2022-08-14T21:33:43.345Z"
   },
   {
    "duration": 231,
    "start_time": "2022-08-14T21:33:43.415Z"
   },
   {
    "duration": 71,
    "start_time": "2022-08-14T21:33:43.648Z"
   },
   {
    "duration": 432,
    "start_time": "2022-08-14T21:33:43.721Z"
   },
   {
    "duration": 56,
    "start_time": "2022-08-14T21:33:44.155Z"
   },
   {
    "duration": 130,
    "start_time": "2022-08-14T21:33:44.212Z"
   },
   {
    "duration": 22,
    "start_time": "2022-08-14T21:33:44.343Z"
   },
   {
    "duration": 82,
    "start_time": "2022-08-14T21:33:44.367Z"
   },
   {
    "duration": 10,
    "start_time": "2022-08-14T21:33:44.450Z"
   },
   {
    "duration": 22,
    "start_time": "2022-08-14T21:33:44.461Z"
   },
   {
    "duration": 5,
    "start_time": "2022-08-14T21:33:44.506Z"
   },
   {
    "duration": 9,
    "start_time": "2022-08-14T21:33:44.513Z"
   },
   {
    "duration": 6,
    "start_time": "2022-08-14T21:33:44.523Z"
   },
   {
    "duration": 6,
    "start_time": "2022-08-14T21:33:44.530Z"
   },
   {
    "duration": 11,
    "start_time": "2022-08-14T21:33:44.537Z"
   },
   {
    "duration": 15,
    "start_time": "2022-08-14T21:33:44.550Z"
   },
   {
    "duration": 4,
    "start_time": "2022-08-14T21:33:44.567Z"
   },
   {
    "duration": 36,
    "start_time": "2022-08-14T21:33:44.573Z"
   },
   {
    "duration": 6,
    "start_time": "2022-08-14T21:33:44.610Z"
   },
   {
    "duration": 8,
    "start_time": "2022-08-14T21:33:44.617Z"
   },
   {
    "duration": 5,
    "start_time": "2022-08-14T21:33:44.627Z"
   },
   {
    "duration": 7,
    "start_time": "2022-08-14T21:33:44.634Z"
   },
   {
    "duration": 7,
    "start_time": "2022-08-14T21:33:44.643Z"
   },
   {
    "duration": 18,
    "start_time": "2022-08-14T21:33:44.652Z"
   },
   {
    "duration": 6,
    "start_time": "2022-08-14T21:33:44.672Z"
   },
   {
    "duration": 54,
    "start_time": "2022-08-14T21:33:44.679Z"
   },
   {
    "duration": 8,
    "start_time": "2022-08-14T21:33:44.735Z"
   },
   {
    "duration": 20,
    "start_time": "2022-08-14T21:33:44.746Z"
   },
   {
    "duration": 40,
    "start_time": "2022-08-14T21:33:44.767Z"
   },
   {
    "duration": 5,
    "start_time": "2022-08-14T21:33:44.808Z"
   },
   {
    "duration": 2703,
    "start_time": "2022-08-14T21:33:44.814Z"
   },
   {
    "duration": 9,
    "start_time": "2022-08-14T21:33:47.518Z"
   },
   {
    "duration": 3,
    "start_time": "2022-08-14T21:33:47.529Z"
   },
   {
    "duration": 4,
    "start_time": "2022-08-14T21:33:47.534Z"
   },
   {
    "duration": 13,
    "start_time": "2022-08-14T21:33:47.539Z"
   },
   {
    "duration": 16,
    "start_time": "2022-08-14T21:33:47.554Z"
   },
   {
    "duration": 126,
    "start_time": "2022-08-14T21:33:47.571Z"
   },
   {
    "duration": 12,
    "start_time": "2022-08-14T21:33:47.705Z"
   },
   {
    "duration": 109,
    "start_time": "2022-08-14T21:33:47.719Z"
   },
   {
    "duration": 12,
    "start_time": "2022-08-14T21:33:47.829Z"
   },
   {
    "duration": 13,
    "start_time": "2022-08-14T21:37:58.207Z"
   },
   {
    "duration": 108,
    "start_time": "2022-08-14T21:38:04.974Z"
   },
   {
    "duration": 11,
    "start_time": "2022-08-14T21:38:18.276Z"
   },
   {
    "duration": 112,
    "start_time": "2022-08-14T21:38:19.695Z"
   },
   {
    "duration": 11,
    "start_time": "2022-08-14T21:38:42.427Z"
   },
   {
    "duration": 5,
    "start_time": "2022-08-14T21:50:47.563Z"
   },
   {
    "duration": 4,
    "start_time": "2022-08-14T21:50:47.992Z"
   },
   {
    "duration": 70,
    "start_time": "2022-08-14T21:50:49.078Z"
   },
   {
    "duration": 20,
    "start_time": "2022-08-14T21:51:32.988Z"
   },
   {
    "duration": 72,
    "start_time": "2022-08-14T21:51:40.221Z"
   },
   {
    "duration": 17,
    "start_time": "2022-08-14T21:51:58.664Z"
   },
   {
    "duration": 2,
    "start_time": "2022-08-14T21:52:50.227Z"
   },
   {
    "duration": 11989,
    "start_time": "2022-08-14T21:52:50.918Z"
   },
   {
    "duration": 8,
    "start_time": "2022-08-14T21:56:59.837Z"
   },
   {
    "duration": 1442,
    "start_time": "2022-08-15T04:44:08.002Z"
   },
   {
    "duration": 2,
    "start_time": "2022-08-15T04:44:09.446Z"
   },
   {
    "duration": 307,
    "start_time": "2022-08-15T04:44:09.449Z"
   },
   {
    "duration": 4,
    "start_time": "2022-08-15T04:44:09.757Z"
   },
   {
    "duration": 50,
    "start_time": "2022-08-15T04:44:09.762Z"
   },
   {
    "duration": 180,
    "start_time": "2022-08-15T04:44:09.813Z"
   },
   {
    "duration": 130,
    "start_time": "2022-08-15T04:44:09.998Z"
   },
   {
    "duration": 211,
    "start_time": "2022-08-15T04:44:10.130Z"
   },
   {
    "duration": 298,
    "start_time": "2022-08-15T04:44:10.342Z"
   },
   {
    "duration": 315,
    "start_time": "2022-08-15T04:44:10.641Z"
   },
   {
    "duration": 194,
    "start_time": "2022-08-15T04:44:10.958Z"
   },
   {
    "duration": 31,
    "start_time": "2022-08-15T04:44:11.153Z"
   },
   {
    "duration": 81,
    "start_time": "2022-08-15T04:44:11.185Z"
   },
   {
    "duration": 167,
    "start_time": "2022-08-15T04:44:11.268Z"
   },
   {
    "duration": 38,
    "start_time": "2022-08-15T04:44:11.436Z"
   },
   {
    "duration": 221,
    "start_time": "2022-08-15T04:44:11.498Z"
   },
   {
    "duration": 51,
    "start_time": "2022-08-15T04:44:11.721Z"
   },
   {
    "duration": 416,
    "start_time": "2022-08-15T04:44:11.798Z"
   },
   {
    "duration": 38,
    "start_time": "2022-08-15T04:44:12.215Z"
   },
   {
    "duration": 183,
    "start_time": "2022-08-15T04:44:12.254Z"
   },
   {
    "duration": 22,
    "start_time": "2022-08-15T04:44:12.438Z"
   },
   {
    "duration": 80,
    "start_time": "2022-08-15T04:44:12.461Z"
   },
   {
    "duration": 10,
    "start_time": "2022-08-15T04:44:12.542Z"
   },
   {
    "duration": 45,
    "start_time": "2022-08-15T04:44:12.553Z"
   },
   {
    "duration": 6,
    "start_time": "2022-08-15T04:44:12.599Z"
   },
   {
    "duration": 14,
    "start_time": "2022-08-15T04:44:12.606Z"
   },
   {
    "duration": 8,
    "start_time": "2022-08-15T04:44:12.621Z"
   },
   {
    "duration": 5,
    "start_time": "2022-08-15T04:44:12.630Z"
   },
   {
    "duration": 8,
    "start_time": "2022-08-15T04:44:12.636Z"
   },
   {
    "duration": 13,
    "start_time": "2022-08-15T04:44:12.646Z"
   },
   {
    "duration": 4,
    "start_time": "2022-08-15T04:44:12.661Z"
   },
   {
    "duration": 9,
    "start_time": "2022-08-15T04:44:12.666Z"
   },
   {
    "duration": 6,
    "start_time": "2022-08-15T04:44:12.698Z"
   },
   {
    "duration": 8,
    "start_time": "2022-08-15T04:44:12.706Z"
   },
   {
    "duration": 6,
    "start_time": "2022-08-15T04:44:12.715Z"
   },
   {
    "duration": 20,
    "start_time": "2022-08-15T04:44:12.723Z"
   },
   {
    "duration": 13,
    "start_time": "2022-08-15T04:44:12.745Z"
   },
   {
    "duration": 40,
    "start_time": "2022-08-15T04:44:12.759Z"
   },
   {
    "duration": 24,
    "start_time": "2022-08-15T04:44:12.801Z"
   },
   {
    "duration": 48,
    "start_time": "2022-08-15T04:44:12.827Z"
   },
   {
    "duration": 8,
    "start_time": "2022-08-15T04:44:12.879Z"
   },
   {
    "duration": 30,
    "start_time": "2022-08-15T04:44:12.888Z"
   },
   {
    "duration": 35,
    "start_time": "2022-08-15T04:44:12.920Z"
   },
   {
    "duration": 4,
    "start_time": "2022-08-15T04:44:12.956Z"
   },
   {
    "duration": 2218,
    "start_time": "2022-08-15T04:44:12.962Z"
   },
   {
    "duration": 16,
    "start_time": "2022-08-15T04:44:15.182Z"
   },
   {
    "duration": 10,
    "start_time": "2022-08-15T04:44:15.200Z"
   },
   {
    "duration": 21,
    "start_time": "2022-08-15T04:44:15.212Z"
   },
   {
    "duration": 30,
    "start_time": "2022-08-15T04:44:15.234Z"
   },
   {
    "duration": 18,
    "start_time": "2022-08-15T04:44:15.266Z"
   },
   {
    "duration": 102,
    "start_time": "2022-08-15T04:44:15.286Z"
   },
   {
    "duration": 13,
    "start_time": "2022-08-15T04:44:15.390Z"
   },
   {
    "duration": 102,
    "start_time": "2022-08-15T04:44:15.404Z"
   },
   {
    "duration": 9,
    "start_time": "2022-08-15T04:44:15.508Z"
   },
   {
    "duration": 108,
    "start_time": "2022-08-15T04:44:15.518Z"
   },
   {
    "duration": 4,
    "start_time": "2022-08-15T04:44:15.627Z"
   },
   {
    "duration": 4,
    "start_time": "2022-08-15T04:44:15.633Z"
   },
   {
    "duration": 36,
    "start_time": "2022-08-15T04:44:15.638Z"
   },
   {
    "duration": 10927,
    "start_time": "2022-08-15T04:44:15.675Z"
   },
   {
    "duration": 6,
    "start_time": "2022-08-15T04:44:26.604Z"
   },
   {
    "duration": 4,
    "start_time": "2022-08-15T04:47:46.141Z"
   },
   {
    "duration": 3,
    "start_time": "2022-08-15T04:47:46.446Z"
   },
   {
    "duration": 101,
    "start_time": "2022-08-15T04:47:46.991Z"
   },
   {
    "duration": 3,
    "start_time": "2022-08-15T04:48:06.632Z"
   },
   {
    "duration": 2,
    "start_time": "2022-08-15T04:48:06.836Z"
   },
   {
    "duration": 11055,
    "start_time": "2022-08-15T04:48:07.549Z"
   },
   {
    "duration": 4,
    "start_time": "2022-08-15T04:48:35.381Z"
   },
   {
    "duration": 2,
    "start_time": "2022-08-15T04:48:35.669Z"
   },
   {
    "duration": 18,
    "start_time": "2022-08-15T04:48:35.969Z"
   },
   {
    "duration": 4,
    "start_time": "2022-08-15T04:48:52.946Z"
   },
   {
    "duration": 2,
    "start_time": "2022-08-15T04:48:57.596Z"
   },
   {
    "duration": 15,
    "start_time": "2022-08-15T04:48:57.909Z"
   },
   {
    "duration": 3,
    "start_time": "2022-08-15T04:49:08.725Z"
   },
   {
    "duration": 2,
    "start_time": "2022-08-15T04:49:09.041Z"
   },
   {
    "duration": 11353,
    "start_time": "2022-08-15T04:49:09.449Z"
   },
   {
    "duration": 8,
    "start_time": "2022-08-15T04:53:11.880Z"
   },
   {
    "duration": 109,
    "start_time": "2022-08-15T04:53:32.789Z"
   },
   {
    "duration": 8,
    "start_time": "2022-08-15T04:57:14.150Z"
   },
   {
    "duration": 6,
    "start_time": "2022-08-15T04:59:05.621Z"
   },
   {
    "duration": 4,
    "start_time": "2022-08-15T04:59:08.145Z"
   },
   {
    "duration": 8,
    "start_time": "2022-08-15T05:00:16.273Z"
   },
   {
    "duration": 3,
    "start_time": "2022-08-15T05:00:20.919Z"
   },
   {
    "duration": 8,
    "start_time": "2022-08-15T05:00:23.946Z"
   },
   {
    "duration": 3,
    "start_time": "2022-08-15T05:01:53.674Z"
   },
   {
    "duration": 5,
    "start_time": "2022-08-15T05:01:53.679Z"
   },
   {
    "duration": 101,
    "start_time": "2022-08-15T05:01:53.686Z"
   },
   {
    "duration": 3,
    "start_time": "2022-08-15T05:01:53.789Z"
   },
   {
    "duration": 51,
    "start_time": "2022-08-15T05:01:53.793Z"
   },
   {
    "duration": 175,
    "start_time": "2022-08-15T05:01:53.845Z"
   },
   {
    "duration": 141,
    "start_time": "2022-08-15T05:01:54.021Z"
   },
   {
    "duration": 198,
    "start_time": "2022-08-15T05:01:54.163Z"
   },
   {
    "duration": 255,
    "start_time": "2022-08-15T05:01:54.363Z"
   },
   {
    "duration": 281,
    "start_time": "2022-08-15T05:01:54.620Z"
   },
   {
    "duration": 214,
    "start_time": "2022-08-15T05:01:54.902Z"
   },
   {
    "duration": 31,
    "start_time": "2022-08-15T05:01:55.117Z"
   },
   {
    "duration": 96,
    "start_time": "2022-08-15T05:01:55.150Z"
   },
   {
    "duration": 168,
    "start_time": "2022-08-15T05:01:55.248Z"
   },
   {
    "duration": 38,
    "start_time": "2022-08-15T05:01:55.417Z"
   },
   {
    "duration": 325,
    "start_time": "2022-08-15T05:01:55.456Z"
   },
   {
    "duration": 62,
    "start_time": "2022-08-15T05:01:55.783Z"
   },
   {
    "duration": 414,
    "start_time": "2022-08-15T05:01:55.846Z"
   },
   {
    "duration": 47,
    "start_time": "2022-08-15T05:01:56.262Z"
   },
   {
    "duration": 133,
    "start_time": "2022-08-15T05:01:56.310Z"
   },
   {
    "duration": 22,
    "start_time": "2022-08-15T05:01:56.445Z"
   },
   {
    "duration": 104,
    "start_time": "2022-08-15T05:01:56.469Z"
   },
   {
    "duration": 33,
    "start_time": "2022-08-15T05:01:56.574Z"
   },
   {
    "duration": 17,
    "start_time": "2022-08-15T05:01:56.611Z"
   },
   {
    "duration": 6,
    "start_time": "2022-08-15T05:01:56.630Z"
   },
   {
    "duration": 5,
    "start_time": "2022-08-15T05:01:56.637Z"
   },
   {
    "duration": 5,
    "start_time": "2022-08-15T05:01:56.644Z"
   },
   {
    "duration": 5,
    "start_time": "2022-08-15T05:01:56.651Z"
   },
   {
    "duration": 46,
    "start_time": "2022-08-15T05:01:56.657Z"
   },
   {
    "duration": 16,
    "start_time": "2022-08-15T05:01:56.704Z"
   },
   {
    "duration": 5,
    "start_time": "2022-08-15T05:01:56.722Z"
   },
   {
    "duration": 10,
    "start_time": "2022-08-15T05:01:56.728Z"
   },
   {
    "duration": 7,
    "start_time": "2022-08-15T05:01:56.739Z"
   },
   {
    "duration": 9,
    "start_time": "2022-08-15T05:01:56.747Z"
   },
   {
    "duration": 45,
    "start_time": "2022-08-15T05:01:56.757Z"
   },
   {
    "duration": 5,
    "start_time": "2022-08-15T05:01:56.803Z"
   },
   {
    "duration": 9,
    "start_time": "2022-08-15T05:01:56.810Z"
   },
   {
    "duration": 26,
    "start_time": "2022-08-15T05:01:56.821Z"
   },
   {
    "duration": 4,
    "start_time": "2022-08-15T05:01:56.849Z"
   },
   {
    "duration": 54,
    "start_time": "2022-08-15T05:01:56.855Z"
   },
   {
    "duration": 9,
    "start_time": "2022-08-15T05:01:56.910Z"
   },
   {
    "duration": 27,
    "start_time": "2022-08-15T05:01:56.920Z"
   },
   {
    "duration": 24,
    "start_time": "2022-08-15T05:01:56.948Z"
   },
   {
    "duration": 25,
    "start_time": "2022-08-15T05:01:56.973Z"
   },
   {
    "duration": 2223,
    "start_time": "2022-08-15T05:01:57.000Z"
   },
   {
    "duration": 8,
    "start_time": "2022-08-15T05:01:59.225Z"
   },
   {
    "duration": 3,
    "start_time": "2022-08-15T05:01:59.235Z"
   },
   {
    "duration": 3,
    "start_time": "2022-08-15T05:01:59.239Z"
   },
   {
    "duration": 4,
    "start_time": "2022-08-15T05:01:59.244Z"
   },
   {
    "duration": 18,
    "start_time": "2022-08-15T05:01:59.249Z"
   },
   {
    "duration": 129,
    "start_time": "2022-08-15T05:01:59.269Z"
   },
   {
    "duration": 117,
    "start_time": "2022-08-15T05:01:59.400Z"
   },
   {
    "duration": 108,
    "start_time": "2022-08-15T05:01:59.518Z"
   },
   {
    "duration": 9,
    "start_time": "2022-08-15T05:01:59.628Z"
   },
   {
    "duration": 113,
    "start_time": "2022-08-15T05:01:59.638Z"
   },
   {
    "duration": 4,
    "start_time": "2022-08-15T05:01:59.753Z"
   },
   {
    "duration": 8,
    "start_time": "2022-08-15T05:01:59.759Z"
   },
   {
    "duration": 4,
    "start_time": "2022-08-15T05:01:59.769Z"
   },
   {
    "duration": 96934,
    "start_time": "2022-08-15T05:01:59.775Z"
   },
   {
    "duration": 7,
    "start_time": "2022-08-15T05:03:36.710Z"
   },
   {
    "duration": 881,
    "start_time": "2022-08-15T05:03:36.719Z"
   },
   {
    "duration": 4,
    "start_time": "2022-08-15T05:03:37.601Z"
   },
   {
    "duration": 94,
    "start_time": "2022-08-15T05:03:37.608Z"
   },
   {
    "duration": 98,
    "start_time": "2022-08-15T05:03:37.703Z"
   },
   {
    "duration": 106,
    "start_time": "2022-08-15T05:03:37.804Z"
   },
   {
    "duration": 4,
    "start_time": "2022-08-15T06:26:05.952Z"
   },
   {
    "duration": 6,
    "start_time": "2022-08-15T06:26:06.256Z"
   },
   {
    "duration": 4,
    "start_time": "2022-08-15T06:26:06.740Z"
   },
   {
    "duration": 5,
    "start_time": "2022-08-15T06:26:07.735Z"
   },
   {
    "duration": 4,
    "start_time": "2022-08-15T06:32:27.576Z"
   },
   {
    "duration": 3,
    "start_time": "2022-08-15T07:30:41.521Z"
   },
   {
    "duration": 5,
    "start_time": "2022-08-15T07:30:41.526Z"
   },
   {
    "duration": 98,
    "start_time": "2022-08-15T07:30:41.598Z"
   },
   {
    "duration": 3,
    "start_time": "2022-08-15T07:30:41.698Z"
   },
   {
    "duration": 48,
    "start_time": "2022-08-15T07:30:41.702Z"
   },
   {
    "duration": 177,
    "start_time": "2022-08-15T07:30:41.751Z"
   },
   {
    "duration": 159,
    "start_time": "2022-08-15T07:30:41.930Z"
   },
   {
    "duration": 209,
    "start_time": "2022-08-15T07:30:42.091Z"
   },
   {
    "duration": 219,
    "start_time": "2022-08-15T07:30:42.301Z"
   },
   {
    "duration": 276,
    "start_time": "2022-08-15T07:30:42.522Z"
   },
   {
    "duration": 223,
    "start_time": "2022-08-15T07:30:42.799Z"
   },
   {
    "duration": 37,
    "start_time": "2022-08-15T07:30:43.024Z"
   },
   {
    "duration": 97,
    "start_time": "2022-08-15T07:30:43.063Z"
   },
   {
    "duration": 197,
    "start_time": "2022-08-15T07:30:43.162Z"
   },
   {
    "duration": 59,
    "start_time": "2022-08-15T07:30:43.361Z"
   },
   {
    "duration": 364,
    "start_time": "2022-08-15T07:30:43.424Z"
   },
   {
    "duration": 59,
    "start_time": "2022-08-15T07:30:43.790Z"
   },
   {
    "duration": 435,
    "start_time": "2022-08-15T07:30:43.850Z"
   },
   {
    "duration": 46,
    "start_time": "2022-08-15T07:30:44.287Z"
   },
   {
    "duration": 166,
    "start_time": "2022-08-15T07:30:44.334Z"
   },
   {
    "duration": 28,
    "start_time": "2022-08-15T07:30:44.502Z"
   },
   {
    "duration": 96,
    "start_time": "2022-08-15T07:30:44.532Z"
   },
   {
    "duration": 9,
    "start_time": "2022-08-15T07:30:44.630Z"
   },
   {
    "duration": 34,
    "start_time": "2022-08-15T07:30:44.640Z"
   },
   {
    "duration": 6,
    "start_time": "2022-08-15T07:30:44.675Z"
   },
   {
    "duration": 6,
    "start_time": "2022-08-15T07:30:44.698Z"
   },
   {
    "duration": 8,
    "start_time": "2022-08-15T07:30:44.705Z"
   },
   {
    "duration": 5,
    "start_time": "2022-08-15T07:30:44.714Z"
   },
   {
    "duration": 10,
    "start_time": "2022-08-15T07:30:44.720Z"
   },
   {
    "duration": 15,
    "start_time": "2022-08-15T07:30:44.732Z"
   },
   {
    "duration": 4,
    "start_time": "2022-08-15T07:30:44.748Z"
   },
   {
    "duration": 10,
    "start_time": "2022-08-15T07:30:44.753Z"
   },
   {
    "duration": 6,
    "start_time": "2022-08-15T07:30:44.764Z"
   },
   {
    "duration": 8,
    "start_time": "2022-08-15T07:30:44.799Z"
   },
   {
    "duration": 6,
    "start_time": "2022-08-15T07:30:44.808Z"
   },
   {
    "duration": 7,
    "start_time": "2022-08-15T07:30:44.815Z"
   },
   {
    "duration": 9,
    "start_time": "2022-08-15T07:30:44.823Z"
   },
   {
    "duration": 21,
    "start_time": "2022-08-15T07:30:44.833Z"
   },
   {
    "duration": 8,
    "start_time": "2022-08-15T07:30:44.855Z"
   },
   {
    "duration": 47,
    "start_time": "2022-08-15T07:30:44.864Z"
   },
   {
    "duration": 10,
    "start_time": "2022-08-15T07:30:44.912Z"
   },
   {
    "duration": 23,
    "start_time": "2022-08-15T07:30:44.924Z"
   },
   {
    "duration": 18,
    "start_time": "2022-08-15T07:30:44.951Z"
   },
   {
    "duration": 4,
    "start_time": "2022-08-15T07:30:44.970Z"
   },
   {
    "duration": 2037,
    "start_time": "2022-08-15T07:30:44.998Z"
   },
   {
    "duration": 8,
    "start_time": "2022-08-15T07:30:47.036Z"
   },
   {
    "duration": 3,
    "start_time": "2022-08-15T07:30:47.045Z"
   },
   {
    "duration": 5,
    "start_time": "2022-08-15T07:30:47.049Z"
   },
   {
    "duration": 10,
    "start_time": "2022-08-15T07:30:47.055Z"
   },
   {
    "duration": 36,
    "start_time": "2022-08-15T07:30:47.067Z"
   },
   {
    "duration": 99,
    "start_time": "2022-08-15T07:30:47.104Z"
   },
   {
    "duration": 10,
    "start_time": "2022-08-15T07:30:47.205Z"
   },
   {
    "duration": 105,
    "start_time": "2022-08-15T07:30:47.217Z"
   },
   {
    "duration": 10,
    "start_time": "2022-08-15T07:30:47.323Z"
   },
   {
    "duration": 120,
    "start_time": "2022-08-15T07:30:47.334Z"
   },
   {
    "duration": 4,
    "start_time": "2022-08-15T07:30:47.455Z"
   },
   {
    "duration": 5,
    "start_time": "2022-08-15T07:30:47.460Z"
   },
   {
    "duration": 3,
    "start_time": "2022-08-15T07:30:47.467Z"
   },
   {
    "duration": 10934,
    "start_time": "2022-08-15T07:30:47.471Z"
   },
   {
    "duration": 97,
    "start_time": "2022-08-15T07:30:58.406Z"
   },
   {
    "duration": 200,
    "start_time": "2022-08-15T07:30:58.505Z"
   },
   {
    "duration": 192,
    "start_time": "2022-08-15T07:30:58.707Z"
   },
   {
    "duration": 16,
    "start_time": "2022-08-15T07:30:58.901Z"
   },
   {
    "duration": 82,
    "start_time": "2022-08-15T07:30:58.919Z"
   },
   {
    "duration": 99,
    "start_time": "2022-08-15T07:30:59.003Z"
   },
   {
    "duration": 6,
    "start_time": "2022-08-15T07:30:59.103Z"
   },
   {
    "duration": 20956,
    "start_time": "2022-08-15T07:31:43.750Z"
   },
   {
    "duration": 8,
    "start_time": "2022-08-15T07:37:28.329Z"
   },
   {
    "duration": 31,
    "start_time": "2022-08-15T07:38:09.052Z"
   },
   {
    "duration": 21078,
    "start_time": "2022-08-15T07:38:14.729Z"
   },
   {
    "duration": 13,
    "start_time": "2022-08-15T07:38:35.899Z"
   },
   {
    "duration": 9,
    "start_time": "2022-08-15T07:39:02.136Z"
   },
   {
    "duration": 8,
    "start_time": "2022-08-15T07:39:18.249Z"
   },
   {
    "duration": 2,
    "start_time": "2022-08-15T07:39:42.284Z"
   },
   {
    "duration": 23116,
    "start_time": "2022-08-15T07:39:43.288Z"
   },
   {
    "duration": 1301,
    "start_time": "2022-08-15T07:40:06.405Z"
   },
   {
    "duration": 1955,
    "start_time": "2022-08-15T07:40:37.636Z"
   },
   {
    "duration": 2716,
    "start_time": "2022-08-15T07:41:17.410Z"
   },
   {
    "duration": 1191,
    "start_time": "2022-08-15T07:41:27.537Z"
   },
   {
    "duration": 3,
    "start_time": "2022-08-15T07:42:06.817Z"
   },
   {
    "duration": 16328,
    "start_time": "2022-08-15T07:45:46.931Z"
   },
   {
    "duration": 1233723,
    "start_time": "2022-08-15T07:47:35.725Z"
   },
   {
    "duration": 58,
    "start_time": "2022-08-15T08:08:09.449Z"
   },
   {
    "duration": 240303,
    "start_time": "2022-08-15T08:08:09.508Z"
   },
   {
    "duration": 322876,
    "start_time": "2022-08-15T08:25:16.151Z"
   },
   {
    "duration": 0,
    "start_time": "2022-08-15T08:30:39.028Z"
   },
   {
    "duration": 14,
    "start_time": "2022-08-15T08:30:54.175Z"
   },
   {
    "duration": 20454,
    "start_time": "2022-08-15T08:31:16.444Z"
   },
   {
    "duration": 21104,
    "start_time": "2022-08-15T08:32:13.604Z"
   },
   {
    "duration": 369878,
    "start_time": "2022-08-15T08:33:58.821Z"
   },
   {
    "duration": 3,
    "start_time": "2022-08-15T08:49:13.349Z"
   },
   {
    "duration": 6,
    "start_time": "2022-08-15T08:49:13.354Z"
   },
   {
    "duration": 99,
    "start_time": "2022-08-15T08:49:13.361Z"
   },
   {
    "duration": 3,
    "start_time": "2022-08-15T08:49:13.462Z"
   },
   {
    "duration": 52,
    "start_time": "2022-08-15T08:49:13.467Z"
   },
   {
    "duration": 169,
    "start_time": "2022-08-15T08:49:13.520Z"
   },
   {
    "duration": 148,
    "start_time": "2022-08-15T08:49:13.691Z"
   },
   {
    "duration": 221,
    "start_time": "2022-08-15T08:49:13.840Z"
   },
   {
    "duration": 240,
    "start_time": "2022-08-15T08:49:14.063Z"
   },
   {
    "duration": 337,
    "start_time": "2022-08-15T08:49:14.305Z"
   },
   {
    "duration": 200,
    "start_time": "2022-08-15T08:49:14.644Z"
   },
   {
    "duration": 33,
    "start_time": "2022-08-15T08:49:14.845Z"
   },
   {
    "duration": 92,
    "start_time": "2022-08-15T08:49:14.879Z"
   },
   {
    "duration": 163,
    "start_time": "2022-08-15T08:49:14.972Z"
   },
   {
    "duration": 66,
    "start_time": "2022-08-15T08:49:15.137Z"
   },
   {
    "duration": 240,
    "start_time": "2022-08-15T08:49:15.205Z"
   },
   {
    "duration": 65,
    "start_time": "2022-08-15T08:49:15.446Z"
   },
   {
    "duration": 405,
    "start_time": "2022-08-15T08:49:15.512Z"
   },
   {
    "duration": 48,
    "start_time": "2022-08-15T08:49:15.919Z"
   },
   {
    "duration": 250,
    "start_time": "2022-08-15T08:49:15.997Z"
   },
   {
    "duration": 21,
    "start_time": "2022-08-15T08:49:16.248Z"
   },
   {
    "duration": 81,
    "start_time": "2022-08-15T08:49:16.270Z"
   },
   {
    "duration": 9,
    "start_time": "2022-08-15T08:49:16.352Z"
   },
   {
    "duration": 42,
    "start_time": "2022-08-15T08:49:16.363Z"
   },
   {
    "duration": 8,
    "start_time": "2022-08-15T08:49:16.406Z"
   },
   {
    "duration": 5,
    "start_time": "2022-08-15T08:49:16.416Z"
   },
   {
    "duration": 4,
    "start_time": "2022-08-15T08:49:16.424Z"
   },
   {
    "duration": 4,
    "start_time": "2022-08-15T08:49:16.430Z"
   },
   {
    "duration": 10,
    "start_time": "2022-08-15T08:49:16.435Z"
   },
   {
    "duration": 16,
    "start_time": "2022-08-15T08:49:16.446Z"
   },
   {
    "duration": 4,
    "start_time": "2022-08-15T08:49:16.499Z"
   },
   {
    "duration": 9,
    "start_time": "2022-08-15T08:49:16.505Z"
   },
   {
    "duration": 6,
    "start_time": "2022-08-15T08:49:16.516Z"
   },
   {
    "duration": 9,
    "start_time": "2022-08-15T08:49:16.523Z"
   },
   {
    "duration": 7,
    "start_time": "2022-08-15T08:49:16.533Z"
   },
   {
    "duration": 5,
    "start_time": "2022-08-15T08:49:16.541Z"
   },
   {
    "duration": 22,
    "start_time": "2022-08-15T08:49:16.547Z"
   },
   {
    "duration": 41,
    "start_time": "2022-08-15T08:49:16.570Z"
   },
   {
    "duration": 3,
    "start_time": "2022-08-15T08:49:16.613Z"
   },
   {
    "duration": 34,
    "start_time": "2022-08-15T08:49:16.618Z"
   },
   {
    "duration": 8,
    "start_time": "2022-08-15T08:49:16.653Z"
   },
   {
    "duration": 41,
    "start_time": "2022-08-15T08:49:16.663Z"
   },
   {
    "duration": 26,
    "start_time": "2022-08-15T08:49:16.705Z"
   },
   {
    "duration": 4,
    "start_time": "2022-08-15T08:49:16.732Z"
   },
   {
    "duration": 2184,
    "start_time": "2022-08-15T08:49:16.737Z"
   },
   {
    "duration": 8,
    "start_time": "2022-08-15T08:49:18.922Z"
   },
   {
    "duration": 228084,
    "start_time": "2022-08-15T08:49:45.915Z"
   },
   {
    "duration": 118406,
    "start_time": "2022-08-15T08:54:19.895Z"
   },
   {
    "duration": 1292,
    "start_time": "2022-08-15T09:02:15.226Z"
   },
   {
    "duration": 3,
    "start_time": "2022-08-15T09:02:16.520Z"
   },
   {
    "duration": 105,
    "start_time": "2022-08-15T09:02:16.524Z"
   },
   {
    "duration": 3,
    "start_time": "2022-08-15T09:02:16.631Z"
   },
   {
    "duration": 55,
    "start_time": "2022-08-15T09:02:16.635Z"
   },
   {
    "duration": 164,
    "start_time": "2022-08-15T09:02:16.691Z"
   },
   {
    "duration": 142,
    "start_time": "2022-08-15T09:02:16.857Z"
   },
   {
    "duration": 207,
    "start_time": "2022-08-15T09:02:17.001Z"
   },
   {
    "duration": 209,
    "start_time": "2022-08-15T09:02:17.210Z"
   },
   {
    "duration": 333,
    "start_time": "2022-08-15T09:02:17.420Z"
   },
   {
    "duration": 217,
    "start_time": "2022-08-15T09:02:17.754Z"
   },
   {
    "duration": 41,
    "start_time": "2022-08-15T09:02:17.972Z"
   },
   {
    "duration": 85,
    "start_time": "2022-08-15T09:02:18.014Z"
   },
   {
    "duration": 158,
    "start_time": "2022-08-15T09:02:18.101Z"
   },
   {
    "duration": 52,
    "start_time": "2022-08-15T09:02:18.261Z"
   },
   {
    "duration": 243,
    "start_time": "2022-08-15T09:02:18.314Z"
   },
   {
    "duration": 64,
    "start_time": "2022-08-15T09:02:18.558Z"
   },
   {
    "duration": 429,
    "start_time": "2022-08-15T09:02:18.623Z"
   },
   {
    "duration": 52,
    "start_time": "2022-08-15T09:02:19.053Z"
   },
   {
    "duration": 193,
    "start_time": "2022-08-15T09:02:19.106Z"
   },
   {
    "duration": 21,
    "start_time": "2022-08-15T09:02:19.301Z"
   },
   {
    "duration": 92,
    "start_time": "2022-08-15T09:02:19.323Z"
   },
   {
    "duration": 12,
    "start_time": "2022-08-15T09:02:19.416Z"
   },
   {
    "duration": 21,
    "start_time": "2022-08-15T09:02:19.429Z"
   },
   {
    "duration": 7,
    "start_time": "2022-08-15T09:02:19.452Z"
   },
   {
    "duration": 41,
    "start_time": "2022-08-15T09:02:19.460Z"
   },
   {
    "duration": 7,
    "start_time": "2022-08-15T09:02:19.503Z"
   },
   {
    "duration": 5,
    "start_time": "2022-08-15T09:02:19.511Z"
   },
   {
    "duration": 10,
    "start_time": "2022-08-15T09:02:19.517Z"
   },
   {
    "duration": 18,
    "start_time": "2022-08-15T09:02:19.528Z"
   },
   {
    "duration": 4,
    "start_time": "2022-08-15T09:02:19.547Z"
   },
   {
    "duration": 9,
    "start_time": "2022-08-15T09:02:19.553Z"
   },
   {
    "duration": 7,
    "start_time": "2022-08-15T09:02:19.563Z"
   },
   {
    "duration": 34,
    "start_time": "2022-08-15T09:02:19.571Z"
   },
   {
    "duration": 6,
    "start_time": "2022-08-15T09:02:19.606Z"
   },
   {
    "duration": 3,
    "start_time": "2022-08-15T09:02:19.613Z"
   },
   {
    "duration": 7,
    "start_time": "2022-08-15T09:02:19.617Z"
   },
   {
    "duration": 20,
    "start_time": "2022-08-15T09:02:19.625Z"
   },
   {
    "duration": 3,
    "start_time": "2022-08-15T09:02:19.647Z"
   },
   {
    "duration": 55,
    "start_time": "2022-08-15T09:02:19.651Z"
   },
   {
    "duration": 8,
    "start_time": "2022-08-15T09:02:19.710Z"
   },
   {
    "duration": 19,
    "start_time": "2022-08-15T09:02:19.719Z"
   },
   {
    "duration": 19,
    "start_time": "2022-08-15T09:02:19.739Z"
   },
   {
    "duration": 5,
    "start_time": "2022-08-15T09:02:19.759Z"
   },
   {
    "duration": 2241,
    "start_time": "2022-08-15T09:02:19.765Z"
   },
   {
    "duration": 8,
    "start_time": "2022-08-15T09:02:22.007Z"
   },
   {
    "duration": 5,
    "start_time": "2022-08-15T09:02:22.016Z"
   },
   {
    "duration": 6,
    "start_time": "2022-08-15T09:02:22.022Z"
   },
   {
    "duration": 12,
    "start_time": "2022-08-15T09:02:22.029Z"
   },
   {
    "duration": 19,
    "start_time": "2022-08-15T09:02:22.042Z"
   },
   {
    "duration": 116,
    "start_time": "2022-08-15T09:02:22.063Z"
   },
   {
    "duration": 22,
    "start_time": "2022-08-15T09:02:22.181Z"
   },
   {
    "duration": 107,
    "start_time": "2022-08-15T09:02:22.204Z"
   },
   {
    "duration": 12,
    "start_time": "2022-08-15T09:02:22.313Z"
   },
   {
    "duration": 121,
    "start_time": "2022-08-15T09:02:22.326Z"
   },
   {
    "duration": 5,
    "start_time": "2022-08-15T09:02:22.449Z"
   },
   {
    "duration": 8,
    "start_time": "2022-08-15T09:02:22.456Z"
   },
   {
    "duration": 151,
    "start_time": "2022-08-15T09:02:22.465Z"
   },
   {
    "duration": 104782,
    "start_time": "2022-08-15T09:02:22.618Z"
   },
   {
    "duration": 3,
    "start_time": "2022-08-15T09:05:03.086Z"
   },
   {
    "duration": 8,
    "start_time": "2022-08-15T09:05:03.090Z"
   },
   {
    "duration": 111,
    "start_time": "2022-08-15T09:05:03.099Z"
   },
   {
    "duration": 3,
    "start_time": "2022-08-15T09:05:03.211Z"
   },
   {
    "duration": 48,
    "start_time": "2022-08-15T09:05:03.216Z"
   },
   {
    "duration": 157,
    "start_time": "2022-08-15T09:05:03.265Z"
   },
   {
    "duration": 137,
    "start_time": "2022-08-15T09:05:03.424Z"
   },
   {
    "duration": 204,
    "start_time": "2022-08-15T09:05:03.562Z"
   },
   {
    "duration": 248,
    "start_time": "2022-08-15T09:05:03.767Z"
   },
   {
    "duration": 289,
    "start_time": "2022-08-15T09:05:04.017Z"
   },
   {
    "duration": 257,
    "start_time": "2022-08-15T09:05:04.308Z"
   },
   {
    "duration": 52,
    "start_time": "2022-08-15T09:05:04.566Z"
   },
   {
    "duration": 102,
    "start_time": "2022-08-15T09:05:04.620Z"
   },
   {
    "duration": 176,
    "start_time": "2022-08-15T09:05:04.725Z"
   },
   {
    "duration": 42,
    "start_time": "2022-08-15T09:05:04.902Z"
   },
   {
    "duration": 347,
    "start_time": "2022-08-15T09:05:04.945Z"
   },
   {
    "duration": 56,
    "start_time": "2022-08-15T09:05:05.293Z"
   },
   {
    "duration": 423,
    "start_time": "2022-08-15T09:05:05.350Z"
   },
   {
    "duration": 44,
    "start_time": "2022-08-15T09:05:05.775Z"
   },
   {
    "duration": 136,
    "start_time": "2022-08-15T09:05:05.820Z"
   },
   {
    "duration": 20,
    "start_time": "2022-08-15T09:05:05.958Z"
   },
   {
    "duration": 86,
    "start_time": "2022-08-15T09:05:05.980Z"
   },
   {
    "duration": 33,
    "start_time": "2022-08-15T09:05:06.067Z"
   },
   {
    "duration": 18,
    "start_time": "2022-08-15T09:05:06.101Z"
   },
   {
    "duration": 5,
    "start_time": "2022-08-15T09:05:06.121Z"
   },
   {
    "duration": 8,
    "start_time": "2022-08-15T09:05:06.128Z"
   },
   {
    "duration": 7,
    "start_time": "2022-08-15T09:05:06.138Z"
   },
   {
    "duration": 5,
    "start_time": "2022-08-15T09:05:06.146Z"
   },
   {
    "duration": 10,
    "start_time": "2022-08-15T09:05:06.153Z"
   },
   {
    "duration": 40,
    "start_time": "2022-08-15T09:05:06.165Z"
   },
   {
    "duration": 6,
    "start_time": "2022-08-15T09:05:06.207Z"
   },
   {
    "duration": 10,
    "start_time": "2022-08-15T09:05:06.214Z"
   },
   {
    "duration": 5,
    "start_time": "2022-08-15T09:05:06.226Z"
   },
   {
    "duration": 7,
    "start_time": "2022-08-15T09:05:06.232Z"
   },
   {
    "duration": 5,
    "start_time": "2022-08-15T09:05:06.240Z"
   },
   {
    "duration": 3,
    "start_time": "2022-08-15T09:05:06.247Z"
   },
   {
    "duration": 6,
    "start_time": "2022-08-15T09:05:06.251Z"
   },
   {
    "duration": 51,
    "start_time": "2022-08-15T09:05:06.258Z"
   },
   {
    "duration": 10,
    "start_time": "2022-08-15T09:05:06.311Z"
   },
   {
    "duration": 33,
    "start_time": "2022-08-15T09:05:06.322Z"
   },
   {
    "duration": 7,
    "start_time": "2022-08-15T09:05:06.359Z"
   },
   {
    "duration": 30,
    "start_time": "2022-08-15T09:05:06.368Z"
   },
   {
    "duration": 18,
    "start_time": "2022-08-15T09:05:06.399Z"
   },
   {
    "duration": 128,
    "start_time": "2022-08-15T09:05:06.419Z"
   },
   {
    "duration": 0,
    "start_time": "2022-08-15T09:05:06.548Z"
   },
   {
    "duration": 0,
    "start_time": "2022-08-15T09:05:06.550Z"
   },
   {
    "duration": 0,
    "start_time": "2022-08-15T09:05:06.551Z"
   },
   {
    "duration": 2,
    "start_time": "2022-08-15T09:05:20.106Z"
   },
   {
    "duration": 16,
    "start_time": "2022-08-15T09:05:23.977Z"
   },
   {
    "duration": 5,
    "start_time": "2022-08-15T09:05:45.346Z"
   },
   {
    "duration": 2102,
    "start_time": "2022-08-15T09:05:47.765Z"
   },
   {
    "duration": 8,
    "start_time": "2022-08-15T09:05:53.885Z"
   },
   {
    "duration": 4,
    "start_time": "2022-08-15T09:05:57.117Z"
   },
   {
    "duration": 3,
    "start_time": "2022-08-15T09:06:02.844Z"
   },
   {
    "duration": 16,
    "start_time": "2022-08-15T09:06:08.925Z"
   },
   {
    "duration": 4,
    "start_time": "2022-08-15T09:07:00.585Z"
   },
   {
    "duration": 4,
    "start_time": "2022-08-15T09:07:06.926Z"
   },
   {
    "duration": 105484,
    "start_time": "2022-08-15T09:07:10.714Z"
   },
   {
    "duration": 25216,
    "start_time": "2022-08-15T09:10:12.191Z"
   },
   {
    "duration": 68640,
    "start_time": "2022-08-15T09:10:39.264Z"
   },
   {
    "duration": 1076,
    "start_time": "2022-08-15T09:13:28.151Z"
   },
   {
    "duration": 1783,
    "start_time": "2022-08-15T09:13:52.092Z"
   },
   {
    "duration": 1671,
    "start_time": "2022-08-15T09:14:09.017Z"
   },
   {
    "duration": 14,
    "start_time": "2022-08-15T09:15:03.985Z"
   },
   {
    "duration": 200973,
    "start_time": "2022-08-15T09:26:28.813Z"
   },
   {
    "duration": 0,
    "start_time": "2022-08-15T09:29:49.787Z"
   },
   {
    "duration": 3301,
    "start_time": "2022-08-15T09:30:18.040Z"
   },
   {
    "duration": 2959,
    "start_time": "2022-08-15T09:32:36.259Z"
   },
   {
    "duration": 29825,
    "start_time": "2022-08-15T09:42:15.058Z"
   },
   {
    "duration": 32173,
    "start_time": "2022-08-15T09:44:33.297Z"
   },
   {
    "duration": 1302,
    "start_time": "2022-08-15T09:47:05.974Z"
   },
   {
    "duration": 2,
    "start_time": "2022-08-15T09:47:07.278Z"
   },
   {
    "duration": 106,
    "start_time": "2022-08-15T09:47:07.281Z"
   },
   {
    "duration": 3,
    "start_time": "2022-08-15T09:47:07.388Z"
   },
   {
    "duration": 50,
    "start_time": "2022-08-15T09:47:07.393Z"
   },
   {
    "duration": 175,
    "start_time": "2022-08-15T09:47:07.444Z"
   },
   {
    "duration": 140,
    "start_time": "2022-08-15T09:47:07.620Z"
   },
   {
    "duration": 204,
    "start_time": "2022-08-15T09:47:07.762Z"
   },
   {
    "duration": 233,
    "start_time": "2022-08-15T09:47:07.967Z"
   },
   {
    "duration": 320,
    "start_time": "2022-08-15T09:47:08.201Z"
   },
   {
    "duration": 203,
    "start_time": "2022-08-15T09:47:08.522Z"
   },
   {
    "duration": 31,
    "start_time": "2022-08-15T09:47:08.727Z"
   },
   {
    "duration": 84,
    "start_time": "2022-08-15T09:47:08.759Z"
   },
   {
    "duration": 176,
    "start_time": "2022-08-15T09:47:08.846Z"
   },
   {
    "duration": 42,
    "start_time": "2022-08-15T09:47:09.024Z"
   },
   {
    "duration": 228,
    "start_time": "2022-08-15T09:47:09.098Z"
   },
   {
    "duration": 77,
    "start_time": "2022-08-15T09:47:09.328Z"
   },
   {
    "duration": 411,
    "start_time": "2022-08-15T09:47:09.406Z"
   },
   {
    "duration": 36,
    "start_time": "2022-08-15T09:47:09.818Z"
   },
   {
    "duration": 214,
    "start_time": "2022-08-15T09:47:09.856Z"
   },
   {
    "duration": 28,
    "start_time": "2022-08-15T09:47:10.071Z"
   },
   {
    "duration": 65,
    "start_time": "2022-08-15T09:47:10.100Z"
   },
   {
    "duration": 36,
    "start_time": "2022-08-15T09:47:10.167Z"
   },
   {
    "duration": 20,
    "start_time": "2022-08-15T09:47:10.204Z"
   },
   {
    "duration": 6,
    "start_time": "2022-08-15T09:47:10.225Z"
   },
   {
    "duration": 9,
    "start_time": "2022-08-15T09:47:10.232Z"
   },
   {
    "duration": 7,
    "start_time": "2022-08-15T09:47:10.242Z"
   },
   {
    "duration": 7,
    "start_time": "2022-08-15T09:47:10.250Z"
   },
   {
    "duration": 12,
    "start_time": "2022-08-15T09:47:10.258Z"
   },
   {
    "duration": 38,
    "start_time": "2022-08-15T09:47:10.271Z"
   },
   {
    "duration": 3,
    "start_time": "2022-08-15T09:47:10.311Z"
   },
   {
    "duration": 12,
    "start_time": "2022-08-15T09:47:10.316Z"
   },
   {
    "duration": 6,
    "start_time": "2022-08-15T09:47:10.329Z"
   },
   {
    "duration": 8,
    "start_time": "2022-08-15T09:47:10.336Z"
   },
   {
    "duration": 5,
    "start_time": "2022-08-15T09:47:10.346Z"
   },
   {
    "duration": 7,
    "start_time": "2022-08-15T09:47:10.353Z"
   },
   {
    "duration": 5,
    "start_time": "2022-08-15T09:47:10.362Z"
   },
   {
    "duration": 46,
    "start_time": "2022-08-15T09:47:10.368Z"
   },
   {
    "duration": 4,
    "start_time": "2022-08-15T09:47:10.416Z"
   },
   {
    "duration": 35,
    "start_time": "2022-08-15T09:47:10.421Z"
   },
   {
    "duration": 8,
    "start_time": "2022-08-15T09:47:10.460Z"
   },
   {
    "duration": 40,
    "start_time": "2022-08-15T09:47:10.469Z"
   },
   {
    "duration": 18,
    "start_time": "2022-08-15T09:47:10.511Z"
   },
   {
    "duration": 4,
    "start_time": "2022-08-15T09:47:10.530Z"
   },
   {
    "duration": 2040,
    "start_time": "2022-08-15T09:47:10.536Z"
   },
   {
    "duration": 8,
    "start_time": "2022-08-15T09:47:12.577Z"
   },
   {
    "duration": 37,
    "start_time": "2022-08-15T09:47:12.597Z"
   },
   {
    "duration": 4,
    "start_time": "2022-08-15T09:47:12.636Z"
   },
   {
    "duration": 18,
    "start_time": "2022-08-15T09:47:12.641Z"
   },
   {
    "duration": 96,
    "start_time": "2022-08-15T09:47:12.660Z"
   },
   {
    "duration": 11,
    "start_time": "2022-08-15T09:47:12.758Z"
   },
   {
    "duration": 99,
    "start_time": "2022-08-15T09:47:12.770Z"
   },
   {
    "duration": 11,
    "start_time": "2022-08-15T09:47:12.870Z"
   },
   {
    "duration": 112,
    "start_time": "2022-08-15T09:47:12.898Z"
   },
   {
    "duration": 4,
    "start_time": "2022-08-15T09:47:13.011Z"
   },
   {
    "duration": 117,
    "start_time": "2022-08-15T09:47:13.016Z"
   },
   {
    "duration": 425970,
    "start_time": "2022-08-15T09:47:33.215Z"
   },
   {
    "duration": 288647,
    "start_time": "2022-08-15T10:04:04.374Z"
   },
   {
    "duration": 1445391,
    "start_time": "2022-08-15T10:12:29.012Z"
   },
   {
    "duration": 14286,
    "start_time": "2022-08-15T10:38:34.370Z"
   },
   {
    "duration": 20768,
    "start_time": "2022-08-15T10:41:11.629Z"
   },
   {
    "duration": 20485,
    "start_time": "2022-08-15T10:42:18.484Z"
   },
   {
    "duration": 8356,
    "start_time": "2022-08-15T10:43:59.538Z"
   },
   {
    "duration": 3,
    "start_time": "2022-08-15T10:45:02.818Z"
   },
   {
    "duration": 115109,
    "start_time": "2022-08-15T10:45:06.536Z"
   },
   {
    "duration": 6738,
    "start_time": "2022-08-15T10:47:40.269Z"
   },
   {
    "duration": 9082,
    "start_time": "2022-08-15T10:48:06.079Z"
   },
   {
    "duration": 15685,
    "start_time": "2022-08-15T10:48:30.649Z"
   },
   {
    "duration": 14308,
    "start_time": "2022-08-15T10:49:26.895Z"
   },
   {
    "duration": 126351,
    "start_time": "2022-08-15T10:50:11.269Z"
   },
   {
    "duration": 116377,
    "start_time": "2022-08-15T10:52:17.622Z"
   },
   {
    "duration": 13541,
    "start_time": "2022-08-15T10:54:14.001Z"
   },
   {
    "duration": 15127,
    "start_time": "2022-08-15T10:54:52.603Z"
   },
   {
    "duration": 2462,
    "start_time": "2022-08-15T10:55:55.687Z"
   },
   {
    "duration": 54559,
    "start_time": "2022-08-15T10:56:19.712Z"
   },
   {
    "duration": 64292,
    "start_time": "2022-08-15T10:59:36.672Z"
   },
   {
    "duration": 4,
    "start_time": "2022-08-15T11:07:10.946Z"
   },
   {
    "duration": 79261,
    "start_time": "2022-08-15T11:07:14.549Z"
   },
   {
    "duration": 2555,
    "start_time": "2022-08-15T11:09:23.453Z"
   },
   {
    "duration": 59704,
    "start_time": "2022-08-15T11:10:09.446Z"
   },
   {
    "duration": 211326,
    "start_time": "2022-08-15T11:13:00.478Z"
   },
   {
    "duration": 11,
    "start_time": "2022-08-15T11:16:31.806Z"
   },
   {
    "duration": 146,
    "start_time": "2022-08-15T11:16:31.818Z"
   },
   {
    "duration": 43634,
    "start_time": "2022-08-15T11:17:52.339Z"
   },
   {
    "duration": 10,
    "start_time": "2022-08-15T11:24:16.991Z"
   },
   {
    "duration": 90,
    "start_time": "2022-08-15T11:24:18.389Z"
   },
   {
    "duration": 11,
    "start_time": "2022-08-15T11:24:22.190Z"
   },
   {
    "duration": 93,
    "start_time": "2022-08-15T11:24:22.595Z"
   },
   {
    "duration": 10,
    "start_time": "2022-08-15T11:24:27.310Z"
   },
   {
    "duration": 101,
    "start_time": "2022-08-15T11:24:27.550Z"
   },
   {
    "duration": 10,
    "start_time": "2022-08-15T11:24:37.695Z"
   },
   {
    "duration": 108,
    "start_time": "2022-08-15T11:24:37.707Z"
   },
   {
    "duration": 10,
    "start_time": "2022-08-15T11:24:42.766Z"
   },
   {
    "duration": 95,
    "start_time": "2022-08-15T11:24:43.072Z"
   },
   {
    "duration": 11,
    "start_time": "2022-08-15T11:24:48.851Z"
   },
   {
    "duration": 89,
    "start_time": "2022-08-15T11:24:49.309Z"
   },
   {
    "duration": 14,
    "start_time": "2022-08-15T11:24:53.430Z"
   },
   {
    "duration": 97,
    "start_time": "2022-08-15T11:24:53.910Z"
   },
   {
    "duration": 12,
    "start_time": "2022-08-15T11:25:00.719Z"
   },
   {
    "duration": 96,
    "start_time": "2022-08-15T11:25:01.807Z"
   },
   {
    "duration": 47003,
    "start_time": "2022-08-15T11:25:16.531Z"
   },
   {
    "duration": 2,
    "start_time": "2022-08-15T11:26:19.642Z"
   },
   {
    "duration": 5,
    "start_time": "2022-08-15T11:27:06.929Z"
   },
   {
    "duration": 31352,
    "start_time": "2022-08-15T11:27:37.051Z"
   },
   {
    "duration": 240785,
    "start_time": "2022-08-15T11:30:04.016Z"
   },
   {
    "duration": 2328,
    "start_time": "2022-08-15T11:34:04.804Z"
   },
   {
    "duration": 1262,
    "start_time": "2022-08-15T11:35:36.530Z"
   },
   {
    "duration": 1733,
    "start_time": "2022-08-15T11:36:53.369Z"
   },
   {
    "duration": 258205,
    "start_time": "2022-08-15T11:38:10.676Z"
   },
   {
    "duration": 223051,
    "start_time": "2022-08-15T11:44:59.153Z"
   },
   {
    "duration": 265701,
    "start_time": "2022-08-15T11:48:42.206Z"
   },
   {
    "duration": 135637,
    "start_time": "2022-08-15T11:53:07.911Z"
   },
   {
    "duration": 36968,
    "start_time": "2022-08-15T11:56:09.381Z"
   },
   {
    "duration": 38803,
    "start_time": "2022-08-15T11:56:46.351Z"
   },
   {
    "duration": 37976,
    "start_time": "2022-08-15T11:57:25.156Z"
   },
   {
    "duration": 116572,
    "start_time": "2022-08-15T11:58:03.135Z"
   },
   {
    "duration": 130093,
    "start_time": "2022-08-15T11:59:59.709Z"
   },
   {
    "duration": 98797,
    "start_time": "2022-08-15T12:02:09.803Z"
   },
   {
    "duration": 150580,
    "start_time": "2022-08-15T12:03:48.602Z"
   },
   {
    "duration": 147658,
    "start_time": "2022-08-15T12:06:19.184Z"
   },
   {
    "duration": 146847,
    "start_time": "2022-08-15T12:08:46.844Z"
   },
   {
    "duration": 4,
    "start_time": "2022-08-15T13:04:04.286Z"
   },
   {
    "duration": 6,
    "start_time": "2022-08-15T13:04:04.292Z"
   },
   {
    "duration": 106,
    "start_time": "2022-08-15T13:04:04.299Z"
   },
   {
    "duration": 5,
    "start_time": "2022-08-15T13:04:04.407Z"
   },
   {
    "duration": 97,
    "start_time": "2022-08-15T13:04:04.414Z"
   },
   {
    "duration": 202,
    "start_time": "2022-08-15T13:04:04.513Z"
   },
   {
    "duration": 139,
    "start_time": "2022-08-15T13:04:04.717Z"
   },
   {
    "duration": 219,
    "start_time": "2022-08-15T13:04:04.857Z"
   },
   {
    "duration": 233,
    "start_time": "2022-08-15T13:04:05.077Z"
   },
   {
    "duration": 289,
    "start_time": "2022-08-15T13:04:05.312Z"
   },
   {
    "duration": 310,
    "start_time": "2022-08-15T13:04:05.603Z"
   },
   {
    "duration": 36,
    "start_time": "2022-08-15T13:04:05.915Z"
   },
   {
    "duration": 96,
    "start_time": "2022-08-15T13:04:05.952Z"
   },
   {
    "duration": 165,
    "start_time": "2022-08-15T13:04:06.053Z"
   },
   {
    "duration": 43,
    "start_time": "2022-08-15T13:04:06.220Z"
   },
   {
    "duration": 237,
    "start_time": "2022-08-15T13:04:06.298Z"
   },
   {
    "duration": 68,
    "start_time": "2022-08-15T13:04:06.537Z"
   },
   {
    "duration": 425,
    "start_time": "2022-08-15T13:04:06.606Z"
   },
   {
    "duration": 37,
    "start_time": "2022-08-15T13:04:07.032Z"
   },
   {
    "duration": 146,
    "start_time": "2022-08-15T13:04:07.070Z"
   },
   {
    "duration": 22,
    "start_time": "2022-08-15T13:04:07.217Z"
   },
   {
    "duration": 85,
    "start_time": "2022-08-15T13:04:07.240Z"
   },
   {
    "duration": 11,
    "start_time": "2022-08-15T13:04:07.326Z"
   },
   {
    "duration": 34,
    "start_time": "2022-08-15T13:04:07.338Z"
   },
   {
    "duration": 27,
    "start_time": "2022-08-15T13:04:07.374Z"
   },
   {
    "duration": 11,
    "start_time": "2022-08-15T13:04:07.402Z"
   },
   {
    "duration": 19,
    "start_time": "2022-08-15T13:04:07.414Z"
   },
   {
    "duration": 7,
    "start_time": "2022-08-15T13:04:07.435Z"
   },
   {
    "duration": 32,
    "start_time": "2022-08-15T13:04:07.443Z"
   },
   {
    "duration": 31,
    "start_time": "2022-08-15T13:04:07.477Z"
   },
   {
    "duration": 4,
    "start_time": "2022-08-15T13:04:07.510Z"
   },
   {
    "duration": 8,
    "start_time": "2022-08-15T13:04:07.515Z"
   },
   {
    "duration": 6,
    "start_time": "2022-08-15T13:04:07.524Z"
   },
   {
    "duration": 6,
    "start_time": "2022-08-15T13:04:07.531Z"
   },
   {
    "duration": 5,
    "start_time": "2022-08-15T13:04:07.538Z"
   },
   {
    "duration": 3,
    "start_time": "2022-08-15T13:04:07.545Z"
   },
   {
    "duration": 6,
    "start_time": "2022-08-15T13:04:07.549Z"
   },
   {
    "duration": 47,
    "start_time": "2022-08-15T13:04:07.556Z"
   },
   {
    "duration": 7,
    "start_time": "2022-08-15T13:04:07.605Z"
   },
   {
    "duration": 34,
    "start_time": "2022-08-15T13:04:07.614Z"
   },
   {
    "duration": 7,
    "start_time": "2022-08-15T13:04:07.653Z"
   },
   {
    "duration": 18,
    "start_time": "2022-08-15T13:04:07.661Z"
   },
   {
    "duration": 22,
    "start_time": "2022-08-15T13:04:07.698Z"
   },
   {
    "duration": 5,
    "start_time": "2022-08-15T13:04:07.721Z"
   },
   {
    "duration": 1969,
    "start_time": "2022-08-15T13:04:07.727Z"
   },
   {
    "duration": 8,
    "start_time": "2022-08-15T13:04:09.697Z"
   },
   {
    "duration": 3,
    "start_time": "2022-08-15T13:04:09.706Z"
   },
   {
    "duration": 13,
    "start_time": "2022-08-15T13:04:09.710Z"
   },
   {
    "duration": 21,
    "start_time": "2022-08-15T13:04:09.724Z"
   },
   {
    "duration": 101,
    "start_time": "2022-08-15T13:04:09.746Z"
   },
   {
    "duration": 9,
    "start_time": "2022-08-15T13:04:09.849Z"
   },
   {
    "duration": 106,
    "start_time": "2022-08-15T13:04:09.859Z"
   },
   {
    "duration": 3,
    "start_time": "2022-08-15T13:04:09.967Z"
   },
   {
    "duration": 28,
    "start_time": "2022-08-15T13:04:09.971Z"
   },
   {
    "duration": 106,
    "start_time": "2022-08-15T13:04:10.000Z"
   },
   {
    "duration": 3,
    "start_time": "2022-08-15T13:04:10.108Z"
   },
   {
    "duration": 8,
    "start_time": "2022-08-15T13:04:10.112Z"
   },
   {
    "duration": 5,
    "start_time": "2022-08-15T13:04:10.121Z"
   },
   {
    "duration": 29481,
    "start_time": "2022-08-15T13:04:10.127Z"
   },
   {
    "duration": 118,
    "start_time": "2022-08-15T13:04:39.698Z"
   },
   {
    "duration": 0,
    "start_time": "2022-08-15T13:04:39.818Z"
   },
   {
    "duration": 0,
    "start_time": "2022-08-15T13:04:39.819Z"
   },
   {
    "duration": 0,
    "start_time": "2022-08-15T13:04:39.820Z"
   },
   {
    "duration": 0,
    "start_time": "2022-08-15T13:04:39.821Z"
   },
   {
    "duration": 0,
    "start_time": "2022-08-15T13:04:39.822Z"
   },
   {
    "duration": 0,
    "start_time": "2022-08-15T13:04:39.822Z"
   },
   {
    "duration": 0,
    "start_time": "2022-08-15T13:04:39.823Z"
   },
   {
    "duration": 0,
    "start_time": "2022-08-15T13:04:39.824Z"
   },
   {
    "duration": 0,
    "start_time": "2022-08-15T13:04:39.825Z"
   },
   {
    "duration": 0,
    "start_time": "2022-08-15T13:04:39.826Z"
   },
   {
    "duration": 0,
    "start_time": "2022-08-15T13:04:39.827Z"
   },
   {
    "duration": 0,
    "start_time": "2022-08-15T13:04:39.828Z"
   },
   {
    "duration": 1704,
    "start_time": "2022-08-15T13:10:16.747Z"
   },
   {
    "duration": 2263,
    "start_time": "2022-08-15T13:10:18.452Z"
   },
   {
    "duration": 2237,
    "start_time": "2022-08-15T13:10:29.280Z"
   },
   {
    "duration": 1198,
    "start_time": "2022-08-15T13:10:31.519Z"
   },
   {
    "duration": 154404,
    "start_time": "2022-08-15T13:12:33.010Z"
   },
   {
    "duration": 3,
    "start_time": "2022-08-15T13:29:36.048Z"
   },
   {
    "duration": 3106,
    "start_time": "2022-08-15T13:30:54.691Z"
   },
   {
    "duration": 8,
    "start_time": "2022-08-15T13:33:55.307Z"
   },
   {
    "duration": 4,
    "start_time": "2022-08-15T13:35:31.765Z"
   },
   {
    "duration": 7,
    "start_time": "2022-08-15T13:35:42.579Z"
   },
   {
    "duration": 4,
    "start_time": "2022-08-15T13:35:47.484Z"
   },
   {
    "duration": 118,
    "start_time": "2022-08-15T13:35:51.071Z"
   },
   {
    "duration": 131823,
    "start_time": "2022-08-15T13:36:47.877Z"
   },
   {
    "duration": 11,
    "start_time": "2022-08-15T17:51:07.114Z"
   },
   {
    "duration": 1402,
    "start_time": "2022-08-15T17:51:10.944Z"
   },
   {
    "duration": 150,
    "start_time": "2022-08-15T17:51:12.987Z"
   },
   {
    "duration": 402,
    "start_time": "2022-08-15T17:51:21.664Z"
   },
   {
    "duration": 3,
    "start_time": "2022-08-15T17:51:22.068Z"
   },
   {
    "duration": 488,
    "start_time": "2022-08-15T17:51:22.074Z"
   },
   {
    "duration": 5,
    "start_time": "2022-08-15T17:51:22.564Z"
   },
   {
    "duration": 103,
    "start_time": "2022-08-15T17:51:22.572Z"
   },
   {
    "duration": 253,
    "start_time": "2022-08-15T17:51:22.676Z"
   },
   {
    "duration": 164,
    "start_time": "2022-08-15T17:51:22.931Z"
   },
   {
    "duration": 301,
    "start_time": "2022-08-15T17:51:23.097Z"
   },
   {
    "duration": 259,
    "start_time": "2022-08-15T17:51:23.400Z"
   },
   {
    "duration": 310,
    "start_time": "2022-08-15T17:51:23.661Z"
   },
   {
    "duration": 231,
    "start_time": "2022-08-15T17:51:23.972Z"
   },
   {
    "duration": 54,
    "start_time": "2022-08-15T17:51:24.204Z"
   },
   {
    "duration": 89,
    "start_time": "2022-08-15T17:51:24.259Z"
   },
   {
    "duration": 194,
    "start_time": "2022-08-15T17:51:24.351Z"
   },
   {
    "duration": 43,
    "start_time": "2022-08-15T17:51:24.546Z"
   },
   {
    "duration": 274,
    "start_time": "2022-08-15T17:51:24.618Z"
   },
   {
    "duration": 79,
    "start_time": "2022-08-15T17:51:24.894Z"
   },
   {
    "duration": 584,
    "start_time": "2022-08-15T17:51:24.975Z"
   },
   {
    "duration": 45,
    "start_time": "2022-08-15T17:51:25.561Z"
   },
   {
    "duration": 147,
    "start_time": "2022-08-15T17:51:25.607Z"
   },
   {
    "duration": 21,
    "start_time": "2022-08-15T17:51:25.756Z"
   },
   {
    "duration": 103,
    "start_time": "2022-08-15T17:51:25.780Z"
   },
   {
    "duration": 45,
    "start_time": "2022-08-15T17:51:25.885Z"
   },
   {
    "duration": 40,
    "start_time": "2022-08-15T17:51:25.931Z"
   },
   {
    "duration": 8,
    "start_time": "2022-08-15T17:51:25.972Z"
   },
   {
    "duration": 5,
    "start_time": "2022-08-15T17:51:25.981Z"
   },
   {
    "duration": 5,
    "start_time": "2022-08-15T17:51:25.988Z"
   },
   {
    "duration": 5,
    "start_time": "2022-08-15T17:51:25.994Z"
   },
   {
    "duration": 16,
    "start_time": "2022-08-15T17:51:26.001Z"
   },
   {
    "duration": 42,
    "start_time": "2022-08-15T17:51:26.019Z"
   },
   {
    "duration": 5,
    "start_time": "2022-08-15T17:51:26.063Z"
   },
   {
    "duration": 10,
    "start_time": "2022-08-15T17:51:26.069Z"
   },
   {
    "duration": 6,
    "start_time": "2022-08-15T17:51:26.080Z"
   },
   {
    "duration": 8,
    "start_time": "2022-08-15T17:51:26.087Z"
   },
   {
    "duration": 5,
    "start_time": "2022-08-15T17:51:26.096Z"
   },
   {
    "duration": 21,
    "start_time": "2022-08-15T17:51:26.103Z"
   },
   {
    "duration": 13,
    "start_time": "2022-08-15T17:51:26.134Z"
   },
   {
    "duration": 23,
    "start_time": "2022-08-15T17:51:26.148Z"
   },
   {
    "duration": 5,
    "start_time": "2022-08-15T17:51:26.173Z"
   },
   {
    "duration": 41,
    "start_time": "2022-08-15T17:51:26.179Z"
   },
   {
    "duration": 11,
    "start_time": "2022-08-15T17:51:26.241Z"
   },
   {
    "duration": 25,
    "start_time": "2022-08-15T17:51:26.254Z"
   },
   {
    "duration": 20,
    "start_time": "2022-08-15T17:51:26.281Z"
   },
   {
    "duration": 5,
    "start_time": "2022-08-15T17:51:26.302Z"
   },
   {
    "duration": 2392,
    "start_time": "2022-08-15T17:51:26.308Z"
   },
   {
    "duration": 28,
    "start_time": "2022-08-15T17:51:28.701Z"
   },
   {
    "duration": 34,
    "start_time": "2022-08-15T17:51:28.731Z"
   },
   {
    "duration": 15,
    "start_time": "2022-08-15T17:51:28.767Z"
   },
   {
    "duration": 25,
    "start_time": "2022-08-15T17:51:28.784Z"
   },
   {
    "duration": 159,
    "start_time": "2022-08-15T17:51:28.811Z"
   },
   {
    "duration": 16,
    "start_time": "2022-08-15T17:51:28.972Z"
   },
   {
    "duration": 152,
    "start_time": "2022-08-15T17:51:28.990Z"
   },
   {
    "duration": 4,
    "start_time": "2022-08-15T17:51:29.144Z"
   },
   {
    "duration": 16,
    "start_time": "2022-08-15T17:51:29.149Z"
   },
   {
    "duration": 207,
    "start_time": "2022-08-15T17:51:29.166Z"
   },
   {
    "duration": 3,
    "start_time": "2022-08-15T17:51:29.375Z"
   },
   {
    "duration": 6,
    "start_time": "2022-08-15T17:51:29.379Z"
   },
   {
    "duration": 13,
    "start_time": "2022-08-15T17:51:29.387Z"
   },
   {
    "duration": 108817,
    "start_time": "2022-08-15T17:51:29.402Z"
   },
   {
    "duration": 14,
    "start_time": "2022-08-15T17:53:18.228Z"
   },
   {
    "duration": 109,
    "start_time": "2022-08-15T17:53:18.244Z"
   },
   {
    "duration": 2072,
    "start_time": "2022-08-15T17:53:31.033Z"
   },
   {
    "duration": 3,
    "start_time": "2022-08-15T17:53:33.107Z"
   },
   {
    "duration": 161,
    "start_time": "2022-08-15T17:53:33.121Z"
   },
   {
    "duration": 4,
    "start_time": "2022-08-15T17:53:33.283Z"
   },
   {
    "duration": 81,
    "start_time": "2022-08-15T17:53:33.289Z"
   },
   {
    "duration": 209,
    "start_time": "2022-08-15T17:53:33.371Z"
   },
   {
    "duration": 171,
    "start_time": "2022-08-15T17:53:33.582Z"
   },
   {
    "duration": 224,
    "start_time": "2022-08-15T17:53:33.754Z"
   },
   {
    "duration": 257,
    "start_time": "2022-08-15T17:53:33.979Z"
   },
   {
    "duration": 357,
    "start_time": "2022-08-15T17:53:34.237Z"
   },
   {
    "duration": 248,
    "start_time": "2022-08-15T17:53:34.596Z"
   },
   {
    "duration": 37,
    "start_time": "2022-08-15T17:53:34.845Z"
   },
   {
    "duration": 109,
    "start_time": "2022-08-15T17:53:34.884Z"
   },
   {
    "duration": 183,
    "start_time": "2022-08-15T17:53:34.996Z"
   },
   {
    "duration": 59,
    "start_time": "2022-08-15T17:53:35.181Z"
   },
   {
    "duration": 294,
    "start_time": "2022-08-15T17:53:35.247Z"
   },
   {
    "duration": 56,
    "start_time": "2022-08-15T17:53:35.543Z"
   },
   {
    "duration": 507,
    "start_time": "2022-08-15T17:53:35.600Z"
   },
   {
    "duration": 57,
    "start_time": "2022-08-15T17:53:36.108Z"
   },
   {
    "duration": 213,
    "start_time": "2022-08-15T17:53:36.166Z"
   },
   {
    "duration": 47,
    "start_time": "2022-08-15T17:53:36.381Z"
   },
   {
    "duration": 111,
    "start_time": "2022-08-15T17:53:36.429Z"
   },
   {
    "duration": 15,
    "start_time": "2022-08-15T17:53:36.542Z"
   },
   {
    "duration": 32,
    "start_time": "2022-08-15T17:53:36.559Z"
   },
   {
    "duration": 6,
    "start_time": "2022-08-15T17:53:36.592Z"
   },
   {
    "duration": 38,
    "start_time": "2022-08-15T17:53:36.600Z"
   },
   {
    "duration": 16,
    "start_time": "2022-08-15T17:53:36.639Z"
   },
   {
    "duration": 10,
    "start_time": "2022-08-15T17:53:36.656Z"
   },
   {
    "duration": 17,
    "start_time": "2022-08-15T17:53:36.668Z"
   },
   {
    "duration": 23,
    "start_time": "2022-08-15T17:53:36.686Z"
   },
   {
    "duration": 23,
    "start_time": "2022-08-15T17:53:36.718Z"
   },
   {
    "duration": 25,
    "start_time": "2022-08-15T17:53:36.743Z"
   },
   {
    "duration": 11,
    "start_time": "2022-08-15T17:53:36.769Z"
   },
   {
    "duration": 19,
    "start_time": "2022-08-15T17:53:36.782Z"
   },
   {
    "duration": 43,
    "start_time": "2022-08-15T17:53:36.802Z"
   },
   {
    "duration": 34,
    "start_time": "2022-08-15T17:53:36.846Z"
   },
   {
    "duration": 52,
    "start_time": "2022-08-15T17:53:36.881Z"
   },
   {
    "duration": 35,
    "start_time": "2022-08-15T17:53:36.935Z"
   },
   {
    "duration": 11,
    "start_time": "2022-08-15T17:53:36.971Z"
   },
   {
    "duration": 70,
    "start_time": "2022-08-15T17:53:36.983Z"
   },
   {
    "duration": 9,
    "start_time": "2022-08-15T17:53:37.057Z"
   },
   {
    "duration": 28,
    "start_time": "2022-08-15T17:53:37.067Z"
   },
   {
    "duration": 45,
    "start_time": "2022-08-15T17:53:37.097Z"
   },
   {
    "duration": 9,
    "start_time": "2022-08-15T17:53:37.144Z"
   },
   {
    "duration": 2360,
    "start_time": "2022-08-15T17:53:37.155Z"
   },
   {
    "duration": 24,
    "start_time": "2022-08-15T17:53:39.516Z"
   },
   {
    "duration": 9,
    "start_time": "2022-08-15T17:53:39.548Z"
   },
   {
    "duration": 9,
    "start_time": "2022-08-15T17:53:39.558Z"
   },
   {
    "duration": 24,
    "start_time": "2022-08-15T17:53:39.569Z"
   },
   {
    "duration": 166,
    "start_time": "2022-08-15T17:53:39.595Z"
   },
   {
    "duration": 12,
    "start_time": "2022-08-15T17:53:39.762Z"
   },
   {
    "duration": 134,
    "start_time": "2022-08-15T17:53:39.775Z"
   },
   {
    "duration": 17,
    "start_time": "2022-08-15T17:53:39.916Z"
   },
   {
    "duration": 31,
    "start_time": "2022-08-15T17:53:39.934Z"
   },
   {
    "duration": 120,
    "start_time": "2022-08-15T17:53:39.966Z"
   },
   {
    "duration": 8,
    "start_time": "2022-08-15T17:53:40.088Z"
   },
   {
    "duration": 12,
    "start_time": "2022-08-15T17:53:40.097Z"
   },
   {
    "duration": 4,
    "start_time": "2022-08-15T17:53:43.083Z"
   },
   {
    "duration": 183,
    "start_time": "2022-08-15T17:53:43.999Z"
   },
   {
    "duration": 153,
    "start_time": "2022-08-15T17:53:45.934Z"
   },
   {
    "duration": 5,
    "start_time": "2022-08-15T17:56:30.844Z"
   },
   {
    "duration": 3,
    "start_time": "2022-08-15T17:56:35.743Z"
   },
   {
    "duration": 4,
    "start_time": "2022-08-15T17:57:38.204Z"
   },
   {
    "duration": 4,
    "start_time": "2022-08-15T17:57:38.642Z"
   },
   {
    "duration": 69253,
    "start_time": "2022-08-15T17:57:40.458Z"
   },
   {
    "duration": 10,
    "start_time": "2022-08-15T17:59:54.010Z"
   },
   {
    "duration": 3,
    "start_time": "2022-08-15T17:59:54.936Z"
   },
   {
    "duration": 110953,
    "start_time": "2022-08-15T17:59:59.964Z"
   },
   {
    "duration": 98389,
    "start_time": "2022-08-15T18:01:50.921Z"
   },
   {
    "duration": 72224,
    "start_time": "2022-08-15T18:03:29.312Z"
   },
   {
    "duration": 1396,
    "start_time": "2022-08-15T18:04:41.538Z"
   },
   {
    "duration": 135289,
    "start_time": "2022-08-15T18:04:42.941Z"
   },
   {
    "duration": 100817,
    "start_time": "2022-08-15T18:06:58.242Z"
   },
   {
    "duration": 1717,
    "start_time": "2022-08-15T18:23:26.042Z"
   },
   {
    "duration": 3,
    "start_time": "2022-08-15T18:23:27.762Z"
   },
   {
    "duration": 122,
    "start_time": "2022-08-15T18:23:27.767Z"
   },
   {
    "duration": 5,
    "start_time": "2022-08-15T18:23:27.891Z"
   },
   {
    "duration": 88,
    "start_time": "2022-08-15T18:23:27.899Z"
   },
   {
    "duration": 281,
    "start_time": "2022-08-15T18:23:27.989Z"
   },
   {
    "duration": 175,
    "start_time": "2022-08-15T18:23:28.273Z"
   },
   {
    "duration": 312,
    "start_time": "2022-08-15T18:23:28.450Z"
   },
   {
    "duration": 272,
    "start_time": "2022-08-15T18:23:28.764Z"
   },
   {
    "duration": 331,
    "start_time": "2022-08-15T18:23:29.041Z"
   },
   {
    "duration": 258,
    "start_time": "2022-08-15T18:23:29.375Z"
   },
   {
    "duration": 43,
    "start_time": "2022-08-15T18:23:29.635Z"
   },
   {
    "duration": 92,
    "start_time": "2022-08-15T18:23:29.679Z"
   },
   {
    "duration": 266,
    "start_time": "2022-08-15T18:23:29.775Z"
   },
   {
    "duration": 47,
    "start_time": "2022-08-15T18:23:30.043Z"
   },
   {
    "duration": 278,
    "start_time": "2022-08-15T18:23:30.092Z"
   },
   {
    "duration": 113,
    "start_time": "2022-08-15T18:23:30.371Z"
   },
   {
    "duration": 609,
    "start_time": "2022-08-15T18:23:30.486Z"
   },
   {
    "duration": 47,
    "start_time": "2022-08-15T18:23:31.098Z"
   },
   {
    "duration": 205,
    "start_time": "2022-08-15T18:23:31.147Z"
   },
   {
    "duration": 23,
    "start_time": "2022-08-15T18:23:31.354Z"
   },
   {
    "duration": 116,
    "start_time": "2022-08-15T18:23:31.379Z"
   },
   {
    "duration": 47,
    "start_time": "2022-08-15T18:23:31.496Z"
   },
   {
    "duration": 53,
    "start_time": "2022-08-15T18:23:31.545Z"
   },
   {
    "duration": 54,
    "start_time": "2022-08-15T18:23:31.600Z"
   },
   {
    "duration": 22,
    "start_time": "2022-08-15T18:23:31.655Z"
   },
   {
    "duration": 18,
    "start_time": "2022-08-15T18:23:31.679Z"
   },
   {
    "duration": 46,
    "start_time": "2022-08-15T18:23:31.699Z"
   },
   {
    "duration": 28,
    "start_time": "2022-08-15T18:23:31.747Z"
   },
   {
    "duration": 49,
    "start_time": "2022-08-15T18:23:31.776Z"
   },
   {
    "duration": 27,
    "start_time": "2022-08-15T18:23:31.827Z"
   },
   {
    "duration": 30,
    "start_time": "2022-08-15T18:23:31.856Z"
   },
   {
    "duration": 15,
    "start_time": "2022-08-15T18:23:31.888Z"
   },
   {
    "duration": 65,
    "start_time": "2022-08-15T18:23:31.905Z"
   },
   {
    "duration": 27,
    "start_time": "2022-08-15T18:23:31.972Z"
   },
   {
    "duration": 59,
    "start_time": "2022-08-15T18:23:32.001Z"
   },
   {
    "duration": 42,
    "start_time": "2022-08-15T18:23:32.062Z"
   },
   {
    "duration": 41,
    "start_time": "2022-08-15T18:23:32.106Z"
   },
   {
    "duration": 48,
    "start_time": "2022-08-15T18:23:32.149Z"
   },
   {
    "duration": 8,
    "start_time": "2022-08-15T18:23:32.199Z"
   },
   {
    "duration": 72,
    "start_time": "2022-08-15T18:23:32.211Z"
   },
   {
    "duration": 54,
    "start_time": "2022-08-15T18:23:32.284Z"
   },
   {
    "duration": 309,
    "start_time": "2022-08-15T18:23:32.341Z"
   },
   {
    "duration": 0,
    "start_time": "2022-08-15T18:23:32.652Z"
   },
   {
    "duration": 0,
    "start_time": "2022-08-15T18:23:32.656Z"
   },
   {
    "duration": 0,
    "start_time": "2022-08-15T18:23:32.657Z"
   },
   {
    "duration": 0,
    "start_time": "2022-08-15T18:23:32.658Z"
   },
   {
    "duration": 0,
    "start_time": "2022-08-15T18:23:32.660Z"
   },
   {
    "duration": 0,
    "start_time": "2022-08-15T18:23:32.661Z"
   },
   {
    "duration": 0,
    "start_time": "2022-08-15T18:23:32.663Z"
   },
   {
    "duration": 0,
    "start_time": "2022-08-15T18:23:32.664Z"
   },
   {
    "duration": 0,
    "start_time": "2022-08-15T18:23:32.665Z"
   },
   {
    "duration": 0,
    "start_time": "2022-08-15T18:23:32.666Z"
   },
   {
    "duration": 0,
    "start_time": "2022-08-15T18:23:32.667Z"
   },
   {
    "duration": 0,
    "start_time": "2022-08-15T18:23:32.668Z"
   },
   {
    "duration": 6,
    "start_time": "2022-08-15T18:25:07.536Z"
   },
   {
    "duration": 3187,
    "start_time": "2022-08-15T18:25:08.574Z"
   },
   {
    "duration": 4,
    "start_time": "2022-08-15T18:25:54.768Z"
   },
   {
    "duration": 9,
    "start_time": "2022-08-15T18:25:55.773Z"
   },
   {
    "duration": 3,
    "start_time": "2022-08-15T18:25:59.901Z"
   },
   {
    "duration": 13,
    "start_time": "2022-08-15T18:26:00.457Z"
   },
   {
    "duration": 19,
    "start_time": "2022-08-15T18:26:03.078Z"
   },
   {
    "duration": 5,
    "start_time": "2022-08-15T18:26:31.279Z"
   },
   {
    "duration": 61,
    "start_time": "2022-08-15T18:26:31.288Z"
   },
   {
    "duration": 174,
    "start_time": "2022-08-15T18:26:31.351Z"
   },
   {
    "duration": 6,
    "start_time": "2022-08-15T18:26:31.527Z"
   },
   {
    "duration": 68,
    "start_time": "2022-08-15T18:26:31.535Z"
   },
   {
    "duration": 256,
    "start_time": "2022-08-15T18:26:31.606Z"
   },
   {
    "duration": 193,
    "start_time": "2022-08-15T18:26:31.864Z"
   },
   {
    "duration": 223,
    "start_time": "2022-08-15T18:26:32.059Z"
   },
   {
    "duration": 253,
    "start_time": "2022-08-15T18:26:32.283Z"
   },
   {
    "duration": 362,
    "start_time": "2022-08-15T18:26:32.541Z"
   },
   {
    "duration": 255,
    "start_time": "2022-08-15T18:26:32.905Z"
   },
   {
    "duration": 36,
    "start_time": "2022-08-15T18:26:33.162Z"
   },
   {
    "duration": 93,
    "start_time": "2022-08-15T18:26:33.211Z"
   },
   {
    "duration": 194,
    "start_time": "2022-08-15T18:26:33.306Z"
   },
   {
    "duration": 58,
    "start_time": "2022-08-15T18:26:33.503Z"
   },
   {
    "duration": 392,
    "start_time": "2022-08-15T18:26:33.563Z"
   },
   {
    "duration": 85,
    "start_time": "2022-08-15T18:26:33.956Z"
   },
   {
    "duration": 485,
    "start_time": "2022-08-15T18:26:34.043Z"
   },
   {
    "duration": 38,
    "start_time": "2022-08-15T18:26:34.539Z"
   },
   {
    "duration": 136,
    "start_time": "2022-08-15T18:26:34.578Z"
   },
   {
    "duration": 31,
    "start_time": "2022-08-15T18:26:34.716Z"
   },
   {
    "duration": 101,
    "start_time": "2022-08-15T18:26:34.748Z"
   },
   {
    "duration": 11,
    "start_time": "2022-08-15T18:26:34.850Z"
   },
   {
    "duration": 21,
    "start_time": "2022-08-15T18:26:34.863Z"
   },
   {
    "duration": 5,
    "start_time": "2022-08-15T18:26:34.886Z"
   },
   {
    "duration": 4,
    "start_time": "2022-08-15T18:26:34.893Z"
   },
   {
    "duration": 29,
    "start_time": "2022-08-15T18:26:34.899Z"
   },
   {
    "duration": 19,
    "start_time": "2022-08-15T18:26:34.930Z"
   },
   {
    "duration": 10,
    "start_time": "2022-08-15T18:26:34.951Z"
   },
   {
    "duration": 22,
    "start_time": "2022-08-15T18:26:34.963Z"
   },
   {
    "duration": 4,
    "start_time": "2022-08-15T18:26:34.987Z"
   },
   {
    "duration": 28,
    "start_time": "2022-08-15T18:26:34.993Z"
   },
   {
    "duration": 11,
    "start_time": "2022-08-15T18:26:35.034Z"
   },
   {
    "duration": 11,
    "start_time": "2022-08-15T18:26:35.047Z"
   },
   {
    "duration": 7,
    "start_time": "2022-08-15T18:26:35.059Z"
   },
   {
    "duration": 9,
    "start_time": "2022-08-15T18:26:35.067Z"
   },
   {
    "duration": 19,
    "start_time": "2022-08-15T18:26:35.078Z"
   },
   {
    "duration": 8,
    "start_time": "2022-08-15T18:26:35.098Z"
   },
   {
    "duration": 60,
    "start_time": "2022-08-15T18:26:35.108Z"
   },
   {
    "duration": 10,
    "start_time": "2022-08-15T18:26:35.170Z"
   },
   {
    "duration": 23,
    "start_time": "2022-08-15T18:26:35.182Z"
   },
   {
    "duration": 56,
    "start_time": "2022-08-15T18:26:35.208Z"
   },
   {
    "duration": 16,
    "start_time": "2022-08-15T18:26:35.266Z"
   },
   {
    "duration": 2919,
    "start_time": "2022-08-15T18:26:35.284Z"
   },
   {
    "duration": 6,
    "start_time": "2022-08-15T18:26:38.205Z"
   },
   {
    "duration": 3,
    "start_time": "2022-08-15T18:27:00.266Z"
   },
   {
    "duration": 14,
    "start_time": "2022-08-15T18:27:00.931Z"
   },
   {
    "duration": 19,
    "start_time": "2022-08-15T18:27:01.849Z"
   },
   {
    "duration": 4,
    "start_time": "2022-08-15T18:28:23.757Z"
   },
   {
    "duration": 11,
    "start_time": "2022-08-15T18:28:23.763Z"
   },
   {
    "duration": 126,
    "start_time": "2022-08-15T18:28:23.775Z"
   },
   {
    "duration": 3,
    "start_time": "2022-08-15T18:28:23.903Z"
   },
   {
    "duration": 84,
    "start_time": "2022-08-15T18:28:23.908Z"
   },
   {
    "duration": 336,
    "start_time": "2022-08-15T18:28:23.993Z"
   },
   {
    "duration": 165,
    "start_time": "2022-08-15T18:28:24.330Z"
   },
   {
    "duration": 268,
    "start_time": "2022-08-15T18:28:24.496Z"
   },
   {
    "duration": 217,
    "start_time": "2022-08-15T18:28:24.768Z"
   },
   {
    "duration": 386,
    "start_time": "2022-08-15T18:28:24.986Z"
   },
   {
    "duration": 264,
    "start_time": "2022-08-15T18:28:25.373Z"
   },
   {
    "duration": 41,
    "start_time": "2022-08-15T18:28:25.639Z"
   },
   {
    "duration": 128,
    "start_time": "2022-08-15T18:28:25.681Z"
   },
   {
    "duration": 226,
    "start_time": "2022-08-15T18:28:25.829Z"
   },
   {
    "duration": 43,
    "start_time": "2022-08-15T18:28:26.058Z"
   },
   {
    "duration": 302,
    "start_time": "2022-08-15T18:28:26.102Z"
   },
   {
    "duration": 82,
    "start_time": "2022-08-15T18:28:26.406Z"
   },
   {
    "duration": 738,
    "start_time": "2022-08-15T18:28:26.489Z"
   },
   {
    "duration": 56,
    "start_time": "2022-08-15T18:28:27.229Z"
   },
   {
    "duration": 181,
    "start_time": "2022-08-15T18:28:27.286Z"
   },
   {
    "duration": 24,
    "start_time": "2022-08-15T18:28:27.469Z"
   },
   {
    "duration": 124,
    "start_time": "2022-08-15T18:28:27.497Z"
   },
   {
    "duration": 20,
    "start_time": "2022-08-15T18:28:27.622Z"
   },
   {
    "duration": 52,
    "start_time": "2022-08-15T18:28:27.644Z"
   },
   {
    "duration": 7,
    "start_time": "2022-08-15T18:28:27.698Z"
   },
   {
    "duration": 22,
    "start_time": "2022-08-15T18:28:27.707Z"
   },
   {
    "duration": 23,
    "start_time": "2022-08-15T18:28:27.742Z"
   },
   {
    "duration": 6,
    "start_time": "2022-08-15T18:28:27.767Z"
   },
   {
    "duration": 13,
    "start_time": "2022-08-15T18:28:27.774Z"
   },
   {
    "duration": 17,
    "start_time": "2022-08-15T18:28:27.789Z"
   },
   {
    "duration": 11,
    "start_time": "2022-08-15T18:28:27.807Z"
   },
   {
    "duration": 49,
    "start_time": "2022-08-15T18:28:27.819Z"
   },
   {
    "duration": 5,
    "start_time": "2022-08-15T18:28:27.870Z"
   },
   {
    "duration": 8,
    "start_time": "2022-08-15T18:28:27.876Z"
   },
   {
    "duration": 4,
    "start_time": "2022-08-15T18:28:27.885Z"
   },
   {
    "duration": 7,
    "start_time": "2022-08-15T18:28:27.891Z"
   },
   {
    "duration": 35,
    "start_time": "2022-08-15T18:28:27.899Z"
   },
   {
    "duration": 22,
    "start_time": "2022-08-15T18:28:27.938Z"
   },
   {
    "duration": 35,
    "start_time": "2022-08-15T18:28:27.963Z"
   },
   {
    "duration": 9,
    "start_time": "2022-08-15T18:28:28.000Z"
   },
   {
    "duration": 53,
    "start_time": "2022-08-15T18:28:28.017Z"
   },
   {
    "duration": 26,
    "start_time": "2022-08-15T18:28:28.071Z"
   },
   {
    "duration": 6,
    "start_time": "2022-08-15T18:28:28.099Z"
   },
   {
    "duration": 3270,
    "start_time": "2022-08-15T18:28:28.107Z"
   },
   {
    "duration": 5,
    "start_time": "2022-08-15T18:28:31.379Z"
   },
   {
    "duration": 19,
    "start_time": "2022-08-15T18:28:39.138Z"
   },
   {
    "duration": 3773,
    "start_time": "2022-08-15T18:30:07.338Z"
   },
   {
    "duration": 14,
    "start_time": "2022-08-15T18:30:29.938Z"
   },
   {
    "duration": 4,
    "start_time": "2022-08-15T18:30:29.954Z"
   },
   {
    "duration": 134,
    "start_time": "2022-08-15T18:30:29.960Z"
   },
   {
    "duration": 4,
    "start_time": "2022-08-15T18:30:30.095Z"
   },
   {
    "duration": 62,
    "start_time": "2022-08-15T18:30:30.101Z"
   },
   {
    "duration": 208,
    "start_time": "2022-08-15T18:30:30.164Z"
   },
   {
    "duration": 170,
    "start_time": "2022-08-15T18:30:30.373Z"
   },
   {
    "duration": 239,
    "start_time": "2022-08-15T18:30:30.546Z"
   },
   {
    "duration": 227,
    "start_time": "2022-08-15T18:30:30.787Z"
   },
   {
    "duration": 363,
    "start_time": "2022-08-15T18:30:31.016Z"
   },
   {
    "duration": 284,
    "start_time": "2022-08-15T18:30:31.380Z"
   },
   {
    "duration": 36,
    "start_time": "2022-08-15T18:30:31.666Z"
   },
   {
    "duration": 105,
    "start_time": "2022-08-15T18:30:31.704Z"
   },
   {
    "duration": 227,
    "start_time": "2022-08-15T18:30:31.822Z"
   },
   {
    "duration": 61,
    "start_time": "2022-08-15T18:30:32.051Z"
   },
   {
    "duration": 292,
    "start_time": "2022-08-15T18:30:32.114Z"
   },
   {
    "duration": 86,
    "start_time": "2022-08-15T18:30:32.408Z"
   },
   {
    "duration": 800,
    "start_time": "2022-08-15T18:30:32.496Z"
   },
   {
    "duration": 53,
    "start_time": "2022-08-15T18:30:33.298Z"
   },
   {
    "duration": 191,
    "start_time": "2022-08-15T18:30:33.353Z"
   },
   {
    "duration": 24,
    "start_time": "2022-08-15T18:30:33.545Z"
   },
   {
    "duration": 96,
    "start_time": "2022-08-15T18:30:33.570Z"
   },
   {
    "duration": 11,
    "start_time": "2022-08-15T18:30:33.668Z"
   },
   {
    "duration": 61,
    "start_time": "2022-08-15T18:30:33.680Z"
   },
   {
    "duration": 9,
    "start_time": "2022-08-15T18:30:33.743Z"
   },
   {
    "duration": 8,
    "start_time": "2022-08-15T18:30:33.753Z"
   },
   {
    "duration": 10,
    "start_time": "2022-08-15T18:30:33.762Z"
   },
   {
    "duration": 5,
    "start_time": "2022-08-15T18:30:33.773Z"
   },
   {
    "duration": 14,
    "start_time": "2022-08-15T18:30:33.779Z"
   },
   {
    "duration": 28,
    "start_time": "2022-08-15T18:30:33.794Z"
   },
   {
    "duration": 4,
    "start_time": "2022-08-15T18:30:33.823Z"
   },
   {
    "duration": 34,
    "start_time": "2022-08-15T18:30:33.829Z"
   },
   {
    "duration": 6,
    "start_time": "2022-08-15T18:30:33.865Z"
   },
   {
    "duration": 11,
    "start_time": "2022-08-15T18:30:33.872Z"
   },
   {
    "duration": 4,
    "start_time": "2022-08-15T18:30:33.884Z"
   },
   {
    "duration": 10,
    "start_time": "2022-08-15T18:30:33.889Z"
   },
   {
    "duration": 26,
    "start_time": "2022-08-15T18:30:33.900Z"
   },
   {
    "duration": 26,
    "start_time": "2022-08-15T18:30:33.928Z"
   },
   {
    "duration": 37,
    "start_time": "2022-08-15T18:30:33.956Z"
   },
   {
    "duration": 8,
    "start_time": "2022-08-15T18:30:33.995Z"
   },
   {
    "duration": 26,
    "start_time": "2022-08-15T18:30:34.006Z"
   },
   {
    "duration": 42,
    "start_time": "2022-08-15T18:30:34.033Z"
   },
   {
    "duration": 3307,
    "start_time": "2022-08-15T18:30:34.076Z"
   },
   {
    "duration": 5,
    "start_time": "2022-08-15T18:30:37.385Z"
   },
   {
    "duration": 2459,
    "start_time": "2022-08-15T18:31:08.838Z"
   },
   {
    "duration": 10,
    "start_time": "2022-08-15T18:31:22.130Z"
   },
   {
    "duration": 3,
    "start_time": "2022-08-15T18:31:24.569Z"
   },
   {
    "duration": 13,
    "start_time": "2022-08-15T18:31:25.477Z"
   },
   {
    "duration": 16,
    "start_time": "2022-08-15T18:31:26.758Z"
   },
   {
    "duration": 129,
    "start_time": "2022-08-15T18:31:32.858Z"
   },
   {
    "duration": 13,
    "start_time": "2022-08-15T18:31:34.231Z"
   },
   {
    "duration": 111,
    "start_time": "2022-08-15T18:31:34.930Z"
   },
   {
    "duration": 4,
    "start_time": "2022-08-15T18:31:39.989Z"
   },
   {
    "duration": 13,
    "start_time": "2022-08-15T18:31:41.053Z"
   },
   {
    "duration": 261,
    "start_time": "2022-08-15T18:31:44.478Z"
   },
   {
    "duration": 7,
    "start_time": "2022-08-15T18:31:45.810Z"
   },
   {
    "duration": 4,
    "start_time": "2022-08-15T18:31:49.578Z"
   },
   {
    "duration": 11978,
    "start_time": "2022-08-15T18:31:50.643Z"
   },
   {
    "duration": 4,
    "start_time": "2022-08-15T18:32:07.138Z"
   },
   {
    "duration": 10,
    "start_time": "2022-08-15T18:32:07.143Z"
   },
   {
    "duration": 122,
    "start_time": "2022-08-15T18:32:07.154Z"
   },
   {
    "duration": 3,
    "start_time": "2022-08-15T18:32:07.277Z"
   },
   {
    "duration": 77,
    "start_time": "2022-08-15T18:32:07.282Z"
   },
   {
    "duration": 192,
    "start_time": "2022-08-15T18:32:07.361Z"
   },
   {
    "duration": 147,
    "start_time": "2022-08-15T18:32:07.554Z"
   },
   {
    "duration": 237,
    "start_time": "2022-08-15T18:32:07.703Z"
   },
   {
    "duration": 207,
    "start_time": "2022-08-15T18:32:07.941Z"
   },
   {
    "duration": 310,
    "start_time": "2022-08-15T18:32:08.149Z"
   },
   {
    "duration": 229,
    "start_time": "2022-08-15T18:32:08.460Z"
   },
   {
    "duration": 54,
    "start_time": "2022-08-15T18:32:08.690Z"
   },
   {
    "duration": 90,
    "start_time": "2022-08-15T18:32:08.747Z"
   },
   {
    "duration": 195,
    "start_time": "2022-08-15T18:32:08.839Z"
   },
   {
    "duration": 46,
    "start_time": "2022-08-15T18:32:09.036Z"
   },
   {
    "duration": 287,
    "start_time": "2022-08-15T18:32:09.084Z"
   },
   {
    "duration": 101,
    "start_time": "2022-08-15T18:32:09.373Z"
   },
   {
    "duration": 469,
    "start_time": "2022-08-15T18:32:09.475Z"
   },
   {
    "duration": 38,
    "start_time": "2022-08-15T18:32:09.946Z"
   },
   {
    "duration": 165,
    "start_time": "2022-08-15T18:32:09.986Z"
   },
   {
    "duration": 24,
    "start_time": "2022-08-15T18:32:10.153Z"
   },
   {
    "duration": 134,
    "start_time": "2022-08-15T18:32:10.179Z"
   },
   {
    "duration": 25,
    "start_time": "2022-08-15T18:32:10.315Z"
   },
   {
    "duration": 31,
    "start_time": "2022-08-15T18:32:10.342Z"
   },
   {
    "duration": 6,
    "start_time": "2022-08-15T18:32:10.375Z"
   },
   {
    "duration": 6,
    "start_time": "2022-08-15T18:32:10.383Z"
   },
   {
    "duration": 6,
    "start_time": "2022-08-15T18:32:10.391Z"
   },
   {
    "duration": 6,
    "start_time": "2022-08-15T18:32:10.399Z"
   },
   {
    "duration": 27,
    "start_time": "2022-08-15T18:32:10.418Z"
   },
   {
    "duration": 17,
    "start_time": "2022-08-15T18:32:10.447Z"
   },
   {
    "duration": 3,
    "start_time": "2022-08-15T18:32:10.466Z"
   },
   {
    "duration": 9,
    "start_time": "2022-08-15T18:32:10.471Z"
   },
   {
    "duration": 8,
    "start_time": "2022-08-15T18:32:10.481Z"
   },
   {
    "duration": 8,
    "start_time": "2022-08-15T18:32:10.491Z"
   },
   {
    "duration": 28,
    "start_time": "2022-08-15T18:32:10.501Z"
   },
   {
    "duration": 9,
    "start_time": "2022-08-15T18:32:10.535Z"
   },
   {
    "duration": 17,
    "start_time": "2022-08-15T18:32:10.548Z"
   },
   {
    "duration": 5,
    "start_time": "2022-08-15T18:32:10.566Z"
   },
   {
    "duration": 33,
    "start_time": "2022-08-15T18:32:10.573Z"
   },
   {
    "duration": 24,
    "start_time": "2022-08-15T18:32:10.608Z"
   },
   {
    "duration": 24,
    "start_time": "2022-08-15T18:32:10.634Z"
   },
   {
    "duration": 24,
    "start_time": "2022-08-15T18:32:10.660Z"
   },
   {
    "duration": 3573,
    "start_time": "2022-08-15T18:32:10.685Z"
   },
   {
    "duration": 7,
    "start_time": "2022-08-15T18:32:14.259Z"
   },
   {
    "duration": 2298,
    "start_time": "2022-08-15T18:32:14.267Z"
   },
   {
    "duration": 9,
    "start_time": "2022-08-15T18:32:16.566Z"
   },
   {
    "duration": 3,
    "start_time": "2022-08-15T18:32:16.576Z"
   },
   {
    "duration": 36,
    "start_time": "2022-08-15T18:32:16.581Z"
   },
   {
    "duration": 22,
    "start_time": "2022-08-15T18:32:16.618Z"
   },
   {
    "duration": 117,
    "start_time": "2022-08-15T18:32:16.642Z"
   },
   {
    "duration": 11,
    "start_time": "2022-08-15T18:32:16.760Z"
   },
   {
    "duration": 122,
    "start_time": "2022-08-15T18:32:16.773Z"
   },
   {
    "duration": 3,
    "start_time": "2022-08-15T18:32:16.897Z"
   },
   {
    "duration": 19,
    "start_time": "2022-08-15T18:32:16.902Z"
   },
   {
    "duration": 111,
    "start_time": "2022-08-15T18:32:16.932Z"
   },
   {
    "duration": 3,
    "start_time": "2022-08-15T18:32:17.045Z"
   },
   {
    "duration": 6,
    "start_time": "2022-08-15T18:32:17.049Z"
   },
   {
    "duration": 5,
    "start_time": "2022-08-15T18:32:42.786Z"
   },
   {
    "duration": 13457,
    "start_time": "2022-08-15T18:32:42.794Z"
   },
   {
    "duration": 11118,
    "start_time": "2022-08-15T18:32:56.252Z"
   },
   {
    "duration": 2363,
    "start_time": "2022-08-15T18:33:21.482Z"
   },
   {
    "duration": 2,
    "start_time": "2022-08-15T18:33:23.847Z"
   },
   {
    "duration": 127,
    "start_time": "2022-08-15T18:33:23.851Z"
   },
   {
    "duration": 4,
    "start_time": "2022-08-15T18:33:23.979Z"
   },
   {
    "duration": 82,
    "start_time": "2022-08-15T18:33:23.985Z"
   },
   {
    "duration": 205,
    "start_time": "2022-08-15T18:33:24.069Z"
   },
   {
    "duration": 158,
    "start_time": "2022-08-15T18:33:24.275Z"
   },
   {
    "duration": 304,
    "start_time": "2022-08-15T18:33:24.435Z"
   },
   {
    "duration": 216,
    "start_time": "2022-08-15T18:33:24.741Z"
   },
   {
    "duration": 305,
    "start_time": "2022-08-15T18:33:24.959Z"
   },
   {
    "duration": 242,
    "start_time": "2022-08-15T18:33:25.265Z"
   },
   {
    "duration": 41,
    "start_time": "2022-08-15T18:33:25.508Z"
   },
   {
    "duration": 101,
    "start_time": "2022-08-15T18:33:25.551Z"
   },
   {
    "duration": 194,
    "start_time": "2022-08-15T18:33:25.655Z"
   },
   {
    "duration": 71,
    "start_time": "2022-08-15T18:33:25.850Z"
   },
   {
    "duration": 254,
    "start_time": "2022-08-15T18:33:25.923Z"
   },
   {
    "duration": 84,
    "start_time": "2022-08-15T18:33:26.178Z"
   },
   {
    "duration": 599,
    "start_time": "2022-08-15T18:33:26.264Z"
   },
   {
    "duration": 42,
    "start_time": "2022-08-15T18:33:26.865Z"
   },
   {
    "duration": 145,
    "start_time": "2022-08-15T18:33:26.910Z"
   },
   {
    "duration": 22,
    "start_time": "2022-08-15T18:33:27.056Z"
   },
   {
    "duration": 93,
    "start_time": "2022-08-15T18:33:27.079Z"
   },
   {
    "duration": 11,
    "start_time": "2022-08-15T18:33:27.173Z"
   },
   {
    "duration": 59,
    "start_time": "2022-08-15T18:33:27.185Z"
   },
   {
    "duration": 7,
    "start_time": "2022-08-15T18:33:27.245Z"
   },
   {
    "duration": 10,
    "start_time": "2022-08-15T18:33:27.253Z"
   },
   {
    "duration": 5,
    "start_time": "2022-08-15T18:33:27.264Z"
   },
   {
    "duration": 6,
    "start_time": "2022-08-15T18:33:27.270Z"
   },
   {
    "duration": 11,
    "start_time": "2022-08-15T18:33:27.277Z"
   },
   {
    "duration": 50,
    "start_time": "2022-08-15T18:33:27.289Z"
   },
   {
    "duration": 6,
    "start_time": "2022-08-15T18:33:27.341Z"
   },
   {
    "duration": 12,
    "start_time": "2022-08-15T18:33:27.348Z"
   },
   {
    "duration": 5,
    "start_time": "2022-08-15T18:33:27.362Z"
   },
   {
    "duration": 7,
    "start_time": "2022-08-15T18:33:27.369Z"
   },
   {
    "duration": 4,
    "start_time": "2022-08-15T18:33:27.378Z"
   },
   {
    "duration": 5,
    "start_time": "2022-08-15T18:33:27.384Z"
   },
   {
    "duration": 47,
    "start_time": "2022-08-15T18:33:27.391Z"
   },
   {
    "duration": 6,
    "start_time": "2022-08-15T18:33:27.441Z"
   },
   {
    "duration": 37,
    "start_time": "2022-08-15T18:33:27.449Z"
   },
   {
    "duration": 10,
    "start_time": "2022-08-15T18:33:27.488Z"
   },
   {
    "duration": 27,
    "start_time": "2022-08-15T18:33:27.510Z"
   },
   {
    "duration": 24,
    "start_time": "2022-08-15T18:33:27.539Z"
   },
   {
    "duration": 3129,
    "start_time": "2022-08-15T18:33:27.565Z"
   },
   {
    "duration": 4,
    "start_time": "2022-08-15T18:33:30.696Z"
   },
   {
    "duration": 2498,
    "start_time": "2022-08-15T18:33:30.702Z"
   },
   {
    "duration": 23,
    "start_time": "2022-08-15T18:33:33.202Z"
   },
   {
    "duration": 37,
    "start_time": "2022-08-15T18:33:33.231Z"
   },
   {
    "duration": 34,
    "start_time": "2022-08-15T18:33:33.269Z"
   },
   {
    "duration": 56,
    "start_time": "2022-08-15T18:33:33.304Z"
   },
   {
    "duration": 138,
    "start_time": "2022-08-15T18:33:33.362Z"
   },
   {
    "duration": 27,
    "start_time": "2022-08-15T18:33:33.501Z"
   },
   {
    "duration": 117,
    "start_time": "2022-08-15T18:33:33.533Z"
   },
   {
    "duration": 3,
    "start_time": "2022-08-15T18:33:33.651Z"
   },
   {
    "duration": 29,
    "start_time": "2022-08-15T18:33:33.656Z"
   },
   {
    "duration": 110,
    "start_time": "2022-08-15T18:33:33.686Z"
   },
   {
    "duration": 4,
    "start_time": "2022-08-15T18:33:33.797Z"
   },
   {
    "duration": 35,
    "start_time": "2022-08-15T18:33:33.802Z"
   },
   {
    "duration": 12090,
    "start_time": "2022-08-15T18:33:33.839Z"
   },
   {
    "duration": 12639,
    "start_time": "2022-08-15T18:33:45.937Z"
   },
   {
    "duration": 12936,
    "start_time": "2022-08-15T18:33:58.578Z"
   },
   {
    "duration": 1288,
    "start_time": "2022-08-15T18:34:11.516Z"
   },
   {
    "duration": 1533,
    "start_time": "2022-08-15T18:34:12.806Z"
   },
   {
    "duration": 835,
    "start_time": "2022-08-15T18:34:14.341Z"
   },
   {
    "duration": 159501,
    "start_time": "2022-08-15T18:34:15.177Z"
   },
   {
    "duration": 133749,
    "start_time": "2022-08-15T18:36:54.680Z"
   },
   {
    "duration": 165088,
    "start_time": "2022-08-15T18:39:08.438Z"
   },
   {
    "duration": 80529,
    "start_time": "2022-08-15T18:41:53.528Z"
   },
   {
    "duration": 87692,
    "start_time": "2022-08-15T18:43:14.059Z"
   },
   {
    "duration": 99617,
    "start_time": "2022-08-15T18:44:41.752Z"
   },
   {
    "duration": 99479,
    "start_time": "2022-08-15T18:46:21.371Z"
   },
   {
    "duration": 1586197,
    "start_time": "2022-08-15T18:48:00.852Z"
   },
   {
    "duration": 0,
    "start_time": "2022-08-15T19:14:27.050Z"
   },
   {
    "duration": 0,
    "start_time": "2022-08-15T19:14:27.052Z"
   },
   {
    "duration": 0,
    "start_time": "2022-08-15T19:14:27.053Z"
   },
   {
    "duration": 0,
    "start_time": "2022-08-15T19:14:27.053Z"
   },
   {
    "duration": 0,
    "start_time": "2022-08-15T19:14:27.054Z"
   },
   {
    "duration": 5,
    "start_time": "2022-08-15T19:14:57.683Z"
   },
   {
    "duration": 3783,
    "start_time": "2022-08-15T19:14:59.101Z"
   },
   {
    "duration": 145,
    "start_time": "2022-08-15T19:15:06.828Z"
   },
   {
    "duration": 3182061,
    "start_time": "2022-08-15T19:15:27.268Z"
   },
   {
    "duration": 0,
    "start_time": "2022-08-15T20:08:29.332Z"
   },
   {
    "duration": 0,
    "start_time": "2022-08-15T20:08:29.333Z"
   },
   {
    "duration": 9,
    "start_time": "2022-08-15T20:12:10.634Z"
   },
   {
    "duration": 95,
    "start_time": "2022-08-15T20:12:22.301Z"
   },
   {
    "duration": 145,
    "start_time": "2022-08-15T20:12:35.334Z"
   },
   {
    "duration": 161,
    "start_time": "2022-08-15T20:15:11.982Z"
   },
   {
    "duration": 23,
    "start_time": "2022-08-15T20:15:54.452Z"
   },
   {
    "duration": 10,
    "start_time": "2022-08-15T20:16:57.133Z"
   },
   {
    "duration": 166,
    "start_time": "2022-08-15T20:17:23.569Z"
   },
   {
    "duration": 2754,
    "start_time": "2022-08-15T20:20:47.085Z"
   },
   {
    "duration": 134,
    "start_time": "2022-08-15T20:20:57.253Z"
   },
   {
    "duration": 142,
    "start_time": "2022-08-15T20:23:35.606Z"
   },
   {
    "duration": 4,
    "start_time": "2022-08-15T20:29:32.258Z"
   },
   {
    "duration": 1434,
    "start_time": "2022-08-15T20:46:12.553Z"
   },
   {
    "duration": 2,
    "start_time": "2022-08-15T20:46:13.989Z"
   },
   {
    "duration": 116,
    "start_time": "2022-08-15T20:46:13.993Z"
   },
   {
    "duration": 23,
    "start_time": "2022-08-15T20:46:14.111Z"
   },
   {
    "duration": 58,
    "start_time": "2022-08-15T20:46:14.136Z"
   },
   {
    "duration": 194,
    "start_time": "2022-08-15T20:46:14.195Z"
   },
   {
    "duration": 168,
    "start_time": "2022-08-15T20:46:14.391Z"
   },
   {
    "duration": 291,
    "start_time": "2022-08-15T20:46:14.561Z"
   },
   {
    "duration": 192,
    "start_time": "2022-08-15T20:46:14.854Z"
   },
   {
    "duration": 311,
    "start_time": "2022-08-15T20:46:15.049Z"
   },
   {
    "duration": 237,
    "start_time": "2022-08-15T20:46:15.361Z"
   },
   {
    "duration": 55,
    "start_time": "2022-08-15T20:46:15.600Z"
   },
   {
    "duration": 85,
    "start_time": "2022-08-15T20:46:15.656Z"
   },
   {
    "duration": 179,
    "start_time": "2022-08-15T20:46:15.742Z"
   },
   {
    "duration": 43,
    "start_time": "2022-08-15T20:46:15.922Z"
   },
   {
    "duration": 284,
    "start_time": "2022-08-15T20:46:15.967Z"
   },
   {
    "duration": 94,
    "start_time": "2022-08-15T20:46:16.252Z"
   },
   {
    "duration": 548,
    "start_time": "2022-08-15T20:46:16.347Z"
   },
   {
    "duration": 62,
    "start_time": "2022-08-15T20:46:16.896Z"
   },
   {
    "duration": 134,
    "start_time": "2022-08-15T20:46:16.960Z"
   },
   {
    "duration": 38,
    "start_time": "2022-08-15T20:46:17.096Z"
   },
   {
    "duration": 97,
    "start_time": "2022-08-15T20:46:17.136Z"
   },
   {
    "duration": 13,
    "start_time": "2022-08-15T20:46:17.235Z"
   },
   {
    "duration": 27,
    "start_time": "2022-08-15T20:46:17.249Z"
   },
   {
    "duration": 7,
    "start_time": "2022-08-15T20:46:17.278Z"
   },
   {
    "duration": 6,
    "start_time": "2022-08-15T20:46:17.286Z"
   },
   {
    "duration": 42,
    "start_time": "2022-08-15T20:46:17.293Z"
   },
   {
    "duration": 4,
    "start_time": "2022-08-15T20:46:17.339Z"
   },
   {
    "duration": 12,
    "start_time": "2022-08-15T20:46:17.344Z"
   },
   {
    "duration": 16,
    "start_time": "2022-08-15T20:46:17.357Z"
   },
   {
    "duration": 4,
    "start_time": "2022-08-15T20:46:17.374Z"
   },
   {
    "duration": 9,
    "start_time": "2022-08-15T20:46:17.380Z"
   },
   {
    "duration": 8,
    "start_time": "2022-08-15T20:46:17.390Z"
   },
   {
    "duration": 35,
    "start_time": "2022-08-15T20:46:17.399Z"
   },
   {
    "duration": 5,
    "start_time": "2022-08-15T20:46:17.436Z"
   },
   {
    "duration": 9,
    "start_time": "2022-08-15T20:46:17.443Z"
   },
   {
    "duration": 25,
    "start_time": "2022-08-15T20:46:17.454Z"
   },
   {
    "duration": 9,
    "start_time": "2022-08-15T20:46:17.481Z"
   },
   {
    "duration": 46,
    "start_time": "2022-08-15T20:46:17.491Z"
   },
   {
    "duration": 9,
    "start_time": "2022-08-15T20:46:17.538Z"
   },
   {
    "duration": 19,
    "start_time": "2022-08-15T20:46:17.548Z"
   },
   {
    "duration": 18,
    "start_time": "2022-08-15T20:46:17.569Z"
   },
   {
    "duration": 3080,
    "start_time": "2022-08-15T20:46:17.589Z"
   },
   {
    "duration": 5,
    "start_time": "2022-08-15T20:46:20.670Z"
   },
   {
    "duration": 2468,
    "start_time": "2022-08-15T20:46:20.676Z"
   },
   {
    "duration": 8,
    "start_time": "2022-08-15T20:46:23.146Z"
   },
   {
    "duration": 3,
    "start_time": "2022-08-15T20:46:23.155Z"
   },
   {
    "duration": 14,
    "start_time": "2022-08-15T20:46:23.159Z"
   },
   {
    "duration": 16,
    "start_time": "2022-08-15T20:46:23.174Z"
   },
   {
    "duration": 136,
    "start_time": "2022-08-15T20:46:23.211Z"
   },
   {
    "duration": 11,
    "start_time": "2022-08-15T20:46:23.348Z"
   },
   {
    "duration": 104,
    "start_time": "2022-08-15T20:46:23.361Z"
   },
   {
    "duration": 4,
    "start_time": "2022-08-15T20:46:23.467Z"
   },
   {
    "duration": 14,
    "start_time": "2022-08-15T20:46:23.472Z"
   },
   {
    "duration": 121,
    "start_time": "2022-08-15T20:46:23.488Z"
   },
   {
    "duration": 22,
    "start_time": "2022-08-15T20:46:23.611Z"
   },
   {
    "duration": 4,
    "start_time": "2022-08-15T20:46:23.637Z"
   },
   {
    "duration": 23930,
    "start_time": "2022-08-15T20:46:32.385Z"
   },
   {
    "duration": 2133,
    "start_time": "2022-08-15T20:47:31.273Z"
   },
   {
    "duration": 2722,
    "start_time": "2022-08-15T20:47:57.957Z"
   },
   {
    "duration": 166,
    "start_time": "2022-08-15T20:48:48.264Z"
   },
   {
    "duration": 11,
    "start_time": "2022-08-15T20:48:56.506Z"
   },
   {
    "duration": 4,
    "start_time": "2022-08-15T20:51:54.765Z"
   },
   {
    "duration": 22,
    "start_time": "2022-08-15T20:51:54.771Z"
   },
   {
    "duration": 145,
    "start_time": "2022-08-15T20:51:54.795Z"
   },
   {
    "duration": 4,
    "start_time": "2022-08-15T20:51:54.942Z"
   },
   {
    "duration": 81,
    "start_time": "2022-08-15T20:51:54.947Z"
   },
   {
    "duration": 168,
    "start_time": "2022-08-15T20:51:55.029Z"
   },
   {
    "duration": 184,
    "start_time": "2022-08-15T20:51:55.199Z"
   },
   {
    "duration": 248,
    "start_time": "2022-08-15T20:51:55.385Z"
   },
   {
    "duration": 315,
    "start_time": "2022-08-15T20:51:55.634Z"
   },
   {
    "duration": 302,
    "start_time": "2022-08-15T20:51:55.952Z"
   },
   {
    "duration": 253,
    "start_time": "2022-08-15T20:51:56.255Z"
   },
   {
    "duration": 48,
    "start_time": "2022-08-15T20:51:56.510Z"
   },
   {
    "duration": 98,
    "start_time": "2022-08-15T20:51:56.560Z"
   },
   {
    "duration": 180,
    "start_time": "2022-08-15T20:51:56.659Z"
   },
   {
    "duration": 43,
    "start_time": "2022-08-15T20:51:56.841Z"
   },
   {
    "duration": 261,
    "start_time": "2022-08-15T20:51:56.919Z"
   },
   {
    "duration": 76,
    "start_time": "2022-08-15T20:51:57.182Z"
   },
   {
    "duration": 478,
    "start_time": "2022-08-15T20:51:57.260Z"
   },
   {
    "duration": 36,
    "start_time": "2022-08-15T20:51:57.740Z"
   },
   {
    "duration": 161,
    "start_time": "2022-08-15T20:51:57.778Z"
   },
   {
    "duration": 22,
    "start_time": "2022-08-15T20:51:57.941Z"
   },
   {
    "duration": 102,
    "start_time": "2022-08-15T20:51:57.965Z"
   },
   {
    "duration": 11,
    "start_time": "2022-08-15T20:51:58.069Z"
   },
   {
    "duration": 48,
    "start_time": "2022-08-15T20:51:58.081Z"
   },
   {
    "duration": 6,
    "start_time": "2022-08-15T20:51:58.134Z"
   },
   {
    "duration": 7,
    "start_time": "2022-08-15T20:51:58.142Z"
   },
   {
    "duration": 6,
    "start_time": "2022-08-15T20:51:58.150Z"
   },
   {
    "duration": 6,
    "start_time": "2022-08-15T20:51:58.157Z"
   },
   {
    "duration": 15,
    "start_time": "2022-08-15T20:51:58.164Z"
   },
   {
    "duration": 24,
    "start_time": "2022-08-15T20:51:58.180Z"
   },
   {
    "duration": 4,
    "start_time": "2022-08-15T20:51:58.205Z"
   },
   {
    "duration": 34,
    "start_time": "2022-08-15T20:51:58.213Z"
   },
   {
    "duration": 6,
    "start_time": "2022-08-15T20:51:58.249Z"
   },
   {
    "duration": 9,
    "start_time": "2022-08-15T20:51:58.256Z"
   },
   {
    "duration": 3,
    "start_time": "2022-08-15T20:51:58.266Z"
   },
   {
    "duration": 6,
    "start_time": "2022-08-15T20:51:58.271Z"
   },
   {
    "duration": 160,
    "start_time": "2022-08-15T20:51:58.279Z"
   },
   {
    "duration": 9,
    "start_time": "2022-08-15T20:51:58.441Z"
   },
   {
    "duration": 34,
    "start_time": "2022-08-15T20:51:58.462Z"
   },
   {
    "duration": 10,
    "start_time": "2022-08-15T20:51:58.498Z"
   },
   {
    "duration": 32,
    "start_time": "2022-08-15T20:51:58.510Z"
   },
   {
    "duration": 4,
    "start_time": "2022-08-15T20:53:33.603Z"
   },
   {
    "duration": 32,
    "start_time": "2022-08-15T20:53:33.609Z"
   },
   {
    "duration": 117,
    "start_time": "2022-08-15T20:53:33.642Z"
   },
   {
    "duration": 3,
    "start_time": "2022-08-15T20:53:33.761Z"
   },
   {
    "duration": 73,
    "start_time": "2022-08-15T20:53:33.765Z"
   },
   {
    "duration": 155,
    "start_time": "2022-08-15T20:53:33.840Z"
   },
   {
    "duration": 162,
    "start_time": "2022-08-15T20:53:33.997Z"
   },
   {
    "duration": 226,
    "start_time": "2022-08-15T20:53:34.161Z"
   },
   {
    "duration": 244,
    "start_time": "2022-08-15T20:53:34.389Z"
   },
   {
    "duration": 307,
    "start_time": "2022-08-15T20:53:34.635Z"
   },
   {
    "duration": 229,
    "start_time": "2022-08-15T20:53:34.944Z"
   },
   {
    "duration": 67,
    "start_time": "2022-08-15T20:53:35.174Z"
   },
   {
    "duration": 95,
    "start_time": "2022-08-15T20:53:35.243Z"
   },
   {
    "duration": 197,
    "start_time": "2022-08-15T20:53:35.340Z"
   },
   {
    "duration": 40,
    "start_time": "2022-08-15T20:53:35.541Z"
   },
   {
    "duration": 269,
    "start_time": "2022-08-15T20:53:35.582Z"
   },
   {
    "duration": 93,
    "start_time": "2022-08-15T20:53:35.852Z"
   },
   {
    "duration": 561,
    "start_time": "2022-08-15T20:53:35.946Z"
   },
   {
    "duration": 63,
    "start_time": "2022-08-15T20:53:36.508Z"
   },
   {
    "duration": 176,
    "start_time": "2022-08-15T20:53:36.572Z"
   },
   {
    "duration": 24,
    "start_time": "2022-08-15T20:53:36.750Z"
   },
   {
    "duration": 100,
    "start_time": "2022-08-15T20:53:36.775Z"
   },
   {
    "duration": 12,
    "start_time": "2022-08-15T20:53:36.876Z"
   },
   {
    "duration": 48,
    "start_time": "2022-08-15T20:53:36.891Z"
   },
   {
    "duration": 8,
    "start_time": "2022-08-15T20:53:36.942Z"
   },
   {
    "duration": 5,
    "start_time": "2022-08-15T20:53:36.952Z"
   },
   {
    "duration": 5,
    "start_time": "2022-08-15T20:53:36.959Z"
   },
   {
    "duration": 6,
    "start_time": "2022-08-15T20:53:36.966Z"
   },
   {
    "duration": 11,
    "start_time": "2022-08-15T20:53:36.973Z"
   },
   {
    "duration": 47,
    "start_time": "2022-08-15T20:53:36.986Z"
   },
   {
    "duration": 5,
    "start_time": "2022-08-15T20:53:37.035Z"
   },
   {
    "duration": 10,
    "start_time": "2022-08-15T20:53:37.042Z"
   },
   {
    "duration": 7,
    "start_time": "2022-08-15T20:53:37.053Z"
   },
   {
    "duration": 8,
    "start_time": "2022-08-15T20:53:37.062Z"
   },
   {
    "duration": 4,
    "start_time": "2022-08-15T20:53:37.071Z"
   },
   {
    "duration": 8,
    "start_time": "2022-08-15T20:53:37.076Z"
   },
   {
    "duration": 48,
    "start_time": "2022-08-15T20:53:37.085Z"
   },
   {
    "duration": 6,
    "start_time": "2022-08-15T20:53:37.139Z"
   },
   {
    "duration": 36,
    "start_time": "2022-08-15T20:53:37.146Z"
   },
   {
    "duration": 8,
    "start_time": "2022-08-15T20:53:37.184Z"
   },
   {
    "duration": 42,
    "start_time": "2022-08-15T20:53:37.193Z"
   },
   {
    "duration": 22,
    "start_time": "2022-08-15T20:53:37.237Z"
   },
   {
    "duration": 3082,
    "start_time": "2022-08-15T20:53:37.260Z"
   },
   {
    "duration": 6,
    "start_time": "2022-08-15T20:53:40.344Z"
   },
   {
    "duration": 2481,
    "start_time": "2022-08-15T20:53:40.352Z"
   },
   {
    "duration": 14,
    "start_time": "2022-08-15T20:53:42.838Z"
   },
   {
    "duration": 3,
    "start_time": "2022-08-15T20:53:42.854Z"
   },
   {
    "duration": 19,
    "start_time": "2022-08-15T20:53:42.859Z"
   },
   {
    "duration": 26,
    "start_time": "2022-08-15T20:53:42.879Z"
   },
   {
    "duration": 4,
    "start_time": "2022-08-15T20:54:53.064Z"
   },
   {
    "duration": 7,
    "start_time": "2022-08-15T20:54:53.069Z"
   },
   {
    "duration": 126,
    "start_time": "2022-08-15T20:54:53.078Z"
   },
   {
    "duration": 4,
    "start_time": "2022-08-15T20:54:53.205Z"
   },
   {
    "duration": 79,
    "start_time": "2022-08-15T20:54:53.214Z"
   },
   {
    "duration": 185,
    "start_time": "2022-08-15T20:54:53.294Z"
   },
   {
    "duration": 167,
    "start_time": "2022-08-15T20:54:53.481Z"
   },
   {
    "duration": 219,
    "start_time": "2022-08-15T20:54:53.650Z"
   },
   {
    "duration": 186,
    "start_time": "2022-08-15T20:54:53.871Z"
   },
   {
    "duration": 311,
    "start_time": "2022-08-15T20:54:54.118Z"
   },
   {
    "duration": 230,
    "start_time": "2022-08-15T20:54:54.431Z"
   },
   {
    "duration": 35,
    "start_time": "2022-08-15T20:54:54.663Z"
   },
   {
    "duration": 103,
    "start_time": "2022-08-15T20:54:54.722Z"
   },
   {
    "duration": 181,
    "start_time": "2022-08-15T20:54:54.827Z"
   },
   {
    "duration": 46,
    "start_time": "2022-08-15T20:54:55.017Z"
   },
   {
    "duration": 295,
    "start_time": "2022-08-15T20:54:55.065Z"
   },
   {
    "duration": 83,
    "start_time": "2022-08-15T20:54:55.362Z"
   },
   {
    "duration": 459,
    "start_time": "2022-08-15T20:54:55.447Z"
   },
   {
    "duration": 53,
    "start_time": "2022-08-15T20:54:55.908Z"
   },
   {
    "duration": 174,
    "start_time": "2022-08-15T20:54:55.963Z"
   },
   {
    "duration": 24,
    "start_time": "2022-08-15T20:54:56.139Z"
   },
   {
    "duration": 115,
    "start_time": "2022-08-15T20:54:56.165Z"
   },
   {
    "duration": 15,
    "start_time": "2022-08-15T20:54:56.282Z"
   },
   {
    "duration": 24,
    "start_time": "2022-08-15T20:54:56.322Z"
   },
   {
    "duration": 5,
    "start_time": "2022-08-15T20:54:56.350Z"
   },
   {
    "duration": 6,
    "start_time": "2022-08-15T20:54:56.357Z"
   },
   {
    "duration": 5,
    "start_time": "2022-08-15T20:54:56.364Z"
   },
   {
    "duration": 5,
    "start_time": "2022-08-15T20:54:56.370Z"
   },
   {
    "duration": 21,
    "start_time": "2022-08-15T20:54:56.376Z"
   },
   {
    "duration": 29,
    "start_time": "2022-08-15T20:54:56.398Z"
   },
   {
    "duration": 18,
    "start_time": "2022-08-15T20:54:56.429Z"
   },
   {
    "duration": 14,
    "start_time": "2022-08-15T20:54:56.448Z"
   },
   {
    "duration": 6,
    "start_time": "2022-08-15T20:54:56.463Z"
   },
   {
    "duration": 12,
    "start_time": "2022-08-15T20:54:56.470Z"
   },
   {
    "duration": 4,
    "start_time": "2022-08-15T20:54:56.484Z"
   },
   {
    "duration": 5,
    "start_time": "2022-08-15T20:54:56.490Z"
   },
   {
    "duration": 47,
    "start_time": "2022-08-15T20:54:56.513Z"
   },
   {
    "duration": 5,
    "start_time": "2022-08-15T20:54:56.562Z"
   },
   {
    "duration": 37,
    "start_time": "2022-08-15T20:54:56.568Z"
   },
   {
    "duration": 23,
    "start_time": "2022-08-15T20:54:56.607Z"
   },
   {
    "duration": 29,
    "start_time": "2022-08-15T20:54:56.634Z"
   },
   {
    "duration": 22,
    "start_time": "2022-08-15T20:54:56.664Z"
   },
   {
    "duration": 3289,
    "start_time": "2022-08-15T20:54:56.688Z"
   },
   {
    "duration": 5,
    "start_time": "2022-08-15T20:54:59.979Z"
   },
   {
    "duration": 2253,
    "start_time": "2022-08-15T20:54:59.985Z"
   },
   {
    "duration": 9,
    "start_time": "2022-08-15T20:55:02.239Z"
   },
   {
    "duration": 3,
    "start_time": "2022-08-15T20:55:02.249Z"
   },
   {
    "duration": 14,
    "start_time": "2022-08-15T20:55:02.254Z"
   },
   {
    "duration": 23,
    "start_time": "2022-08-15T20:55:02.270Z"
   },
   {
    "duration": 130,
    "start_time": "2022-08-15T20:55:02.317Z"
   },
   {
    "duration": 12,
    "start_time": "2022-08-15T20:55:02.449Z"
   },
   {
    "duration": 116,
    "start_time": "2022-08-15T20:55:02.463Z"
   },
   {
    "duration": 4,
    "start_time": "2022-08-15T20:55:02.581Z"
   },
   {
    "duration": 42,
    "start_time": "2022-08-15T20:55:02.587Z"
   },
   {
    "duration": 138,
    "start_time": "2022-08-15T20:55:02.638Z"
   },
   {
    "duration": 3,
    "start_time": "2022-08-15T20:55:02.778Z"
   },
   {
    "duration": 4,
    "start_time": "2022-08-15T20:55:53.144Z"
   },
   {
    "duration": 25772,
    "start_time": "2022-08-15T20:55:57.750Z"
   },
   {
    "duration": 1442,
    "start_time": "2022-08-15T20:56:49.180Z"
   },
   {
    "duration": 2,
    "start_time": "2022-08-15T20:56:50.625Z"
   },
   {
    "duration": 119,
    "start_time": "2022-08-15T20:56:50.628Z"
   },
   {
    "duration": 4,
    "start_time": "2022-08-15T20:56:50.748Z"
   },
   {
    "duration": 63,
    "start_time": "2022-08-15T20:56:50.754Z"
   },
   {
    "duration": 175,
    "start_time": "2022-08-15T20:56:50.822Z"
   },
   {
    "duration": 158,
    "start_time": "2022-08-15T20:56:50.999Z"
   },
   {
    "duration": 281,
    "start_time": "2022-08-15T20:56:51.158Z"
   },
   {
    "duration": 204,
    "start_time": "2022-08-15T20:56:51.441Z"
   },
   {
    "duration": 317,
    "start_time": "2022-08-15T20:56:51.646Z"
   },
   {
    "duration": 228,
    "start_time": "2022-08-15T20:56:51.965Z"
   },
   {
    "duration": 72,
    "start_time": "2022-08-15T20:56:52.194Z"
   },
   {
    "duration": 89,
    "start_time": "2022-08-15T20:56:52.268Z"
   },
   {
    "duration": 192,
    "start_time": "2022-08-15T20:56:52.361Z"
   },
   {
    "duration": 87,
    "start_time": "2022-08-15T20:56:52.554Z"
   },
   {
    "duration": 303,
    "start_time": "2022-08-15T20:56:52.643Z"
   },
   {
    "duration": 73,
    "start_time": "2022-08-15T20:56:52.948Z"
   },
   {
    "duration": 562,
    "start_time": "2022-08-15T20:56:53.029Z"
   },
   {
    "duration": 50,
    "start_time": "2022-08-15T20:56:53.593Z"
   },
   {
    "duration": 137,
    "start_time": "2022-08-15T20:56:53.644Z"
   },
   {
    "duration": 39,
    "start_time": "2022-08-15T20:56:53.783Z"
   },
   {
    "duration": 93,
    "start_time": "2022-08-15T20:56:53.824Z"
   },
   {
    "duration": 15,
    "start_time": "2022-08-15T20:56:53.918Z"
   },
   {
    "duration": 28,
    "start_time": "2022-08-15T20:56:53.934Z"
   },
   {
    "duration": 6,
    "start_time": "2022-08-15T20:56:53.964Z"
   },
   {
    "duration": 5,
    "start_time": "2022-08-15T20:56:53.971Z"
   },
   {
    "duration": 5,
    "start_time": "2022-08-15T20:56:53.977Z"
   },
   {
    "duration": 4,
    "start_time": "2022-08-15T20:56:53.984Z"
   },
   {
    "duration": 34,
    "start_time": "2022-08-15T20:56:53.989Z"
   },
   {
    "duration": 20,
    "start_time": "2022-08-15T20:56:54.025Z"
   },
   {
    "duration": 4,
    "start_time": "2022-08-15T20:56:54.046Z"
   },
   {
    "duration": 14,
    "start_time": "2022-08-15T20:56:54.051Z"
   },
   {
    "duration": 7,
    "start_time": "2022-08-15T20:56:54.067Z"
   },
   {
    "duration": 8,
    "start_time": "2022-08-15T20:56:54.075Z"
   },
   {
    "duration": 3,
    "start_time": "2022-08-15T20:56:54.084Z"
   },
   {
    "duration": 33,
    "start_time": "2022-08-15T20:56:54.089Z"
   },
   {
    "duration": 19,
    "start_time": "2022-08-15T20:56:54.124Z"
   },
   {
    "duration": 4,
    "start_time": "2022-08-15T20:56:54.145Z"
   },
   {
    "duration": 42,
    "start_time": "2022-08-15T20:56:54.150Z"
   },
   {
    "duration": 28,
    "start_time": "2022-08-15T20:56:54.194Z"
   },
   {
    "duration": 20,
    "start_time": "2022-08-15T20:56:54.227Z"
   },
   {
    "duration": 21,
    "start_time": "2022-08-15T20:56:54.248Z"
   },
   {
    "duration": 3039,
    "start_time": "2022-08-15T20:56:54.270Z"
   },
   {
    "duration": 9,
    "start_time": "2022-08-15T20:56:57.314Z"
   },
   {
    "duration": 2325,
    "start_time": "2022-08-15T20:56:57.325Z"
   },
   {
    "duration": 8,
    "start_time": "2022-08-15T20:56:59.652Z"
   },
   {
    "duration": 2,
    "start_time": "2022-08-15T20:56:59.663Z"
   },
   {
    "duration": 12,
    "start_time": "2022-08-15T20:56:59.667Z"
   },
   {
    "duration": 45,
    "start_time": "2022-08-15T20:56:59.681Z"
   },
   {
    "duration": 115,
    "start_time": "2022-08-15T20:56:59.728Z"
   },
   {
    "duration": 11,
    "start_time": "2022-08-15T20:56:59.844Z"
   },
   {
    "duration": 120,
    "start_time": "2022-08-15T20:56:59.856Z"
   },
   {
    "duration": 3,
    "start_time": "2022-08-15T20:56:59.977Z"
   },
   {
    "duration": 11,
    "start_time": "2022-08-15T20:56:59.981Z"
   },
   {
    "duration": 112,
    "start_time": "2022-08-15T20:56:59.994Z"
   },
   {
    "duration": 22,
    "start_time": "2022-08-15T20:57:00.108Z"
   },
   {
    "duration": 8,
    "start_time": "2022-08-15T20:57:00.139Z"
   },
   {
    "duration": 23271,
    "start_time": "2022-08-15T20:57:00.149Z"
   },
   {
    "duration": 2051,
    "start_time": "2022-08-15T20:57:35.035Z"
   },
   {
    "duration": 176237,
    "start_time": "2022-08-15T20:58:10.354Z"
   },
   {
    "duration": 1428,
    "start_time": "2022-08-15T21:05:51.247Z"
   },
   {
    "duration": 3,
    "start_time": "2022-08-15T21:05:52.677Z"
   },
   {
    "duration": 169,
    "start_time": "2022-08-15T21:05:52.682Z"
   },
   {
    "duration": 3,
    "start_time": "2022-08-15T21:05:52.853Z"
   },
   {
    "duration": 65,
    "start_time": "2022-08-15T21:05:52.858Z"
   },
   {
    "duration": 182,
    "start_time": "2022-08-15T21:05:52.924Z"
   },
   {
    "duration": 154,
    "start_time": "2022-08-15T21:05:53.107Z"
   },
   {
    "duration": 298,
    "start_time": "2022-08-15T21:05:53.263Z"
   },
   {
    "duration": 184,
    "start_time": "2022-08-15T21:05:53.563Z"
   },
   {
    "duration": 324,
    "start_time": "2022-08-15T21:05:53.749Z"
   },
   {
    "duration": 219,
    "start_time": "2022-08-15T21:05:54.075Z"
   },
   {
    "duration": 51,
    "start_time": "2022-08-15T21:05:54.295Z"
   },
   {
    "duration": 93,
    "start_time": "2022-08-15T21:05:54.347Z"
   },
   {
    "duration": 194,
    "start_time": "2022-08-15T21:05:54.442Z"
   },
   {
    "duration": 46,
    "start_time": "2022-08-15T21:05:54.638Z"
   },
   {
    "duration": 282,
    "start_time": "2022-08-15T21:05:54.685Z"
   },
   {
    "duration": 71,
    "start_time": "2022-08-15T21:05:54.969Z"
   },
   {
    "duration": 583,
    "start_time": "2022-08-15T21:05:55.041Z"
   },
   {
    "duration": 40,
    "start_time": "2022-08-15T21:05:55.629Z"
   },
   {
    "duration": 138,
    "start_time": "2022-08-15T21:05:55.671Z"
   },
   {
    "duration": 30,
    "start_time": "2022-08-15T21:05:55.810Z"
   },
   {
    "duration": 114,
    "start_time": "2022-08-15T21:05:55.842Z"
   },
   {
    "duration": 11,
    "start_time": "2022-08-15T21:05:55.958Z"
   },
   {
    "duration": 18,
    "start_time": "2022-08-15T21:05:55.971Z"
   },
   {
    "duration": 38,
    "start_time": "2022-08-15T21:05:55.991Z"
   },
   {
    "duration": 6,
    "start_time": "2022-08-15T21:05:56.031Z"
   },
   {
    "duration": 6,
    "start_time": "2022-08-15T21:05:56.038Z"
   },
   {
    "duration": 4,
    "start_time": "2022-08-15T21:05:56.047Z"
   },
   {
    "duration": 11,
    "start_time": "2022-08-15T21:05:56.052Z"
   },
   {
    "duration": 16,
    "start_time": "2022-08-15T21:05:56.064Z"
   },
   {
    "duration": 4,
    "start_time": "2022-08-15T21:05:56.081Z"
   },
   {
    "duration": 11,
    "start_time": "2022-08-15T21:05:56.087Z"
   },
   {
    "duration": 21,
    "start_time": "2022-08-15T21:05:56.114Z"
   },
   {
    "duration": 15,
    "start_time": "2022-08-15T21:05:56.138Z"
   },
   {
    "duration": 3,
    "start_time": "2022-08-15T21:05:56.155Z"
   },
   {
    "duration": 7,
    "start_time": "2022-08-15T21:05:56.160Z"
   },
   {
    "duration": 21,
    "start_time": "2022-08-15T21:05:56.168Z"
   },
   {
    "duration": 3,
    "start_time": "2022-08-15T21:05:56.191Z"
   },
   {
    "duration": 48,
    "start_time": "2022-08-15T21:05:56.195Z"
   },
   {
    "duration": 9,
    "start_time": "2022-08-15T21:05:56.245Z"
   },
   {
    "duration": 19,
    "start_time": "2022-08-15T21:05:56.255Z"
   },
   {
    "duration": 19,
    "start_time": "2022-08-15T21:05:56.275Z"
   },
   {
    "duration": 3064,
    "start_time": "2022-08-15T21:05:56.295Z"
   },
   {
    "duration": 4,
    "start_time": "2022-08-15T21:05:59.361Z"
   },
   {
    "duration": 2534,
    "start_time": "2022-08-15T21:05:59.367Z"
   },
   {
    "duration": 27,
    "start_time": "2022-08-15T21:06:01.903Z"
   },
   {
    "duration": 14,
    "start_time": "2022-08-15T21:06:01.932Z"
   },
   {
    "duration": 20,
    "start_time": "2022-08-15T21:06:01.947Z"
   },
   {
    "duration": 17,
    "start_time": "2022-08-15T21:06:01.969Z"
   },
   {
    "duration": 115,
    "start_time": "2022-08-15T21:06:01.988Z"
   },
   {
    "duration": 27,
    "start_time": "2022-08-15T21:06:02.104Z"
   },
   {
    "duration": 107,
    "start_time": "2022-08-15T21:06:02.135Z"
   },
   {
    "duration": 6,
    "start_time": "2022-08-15T21:06:02.244Z"
   },
   {
    "duration": 17,
    "start_time": "2022-08-15T21:06:02.252Z"
   },
   {
    "duration": 126,
    "start_time": "2022-08-15T21:06:02.271Z"
   },
   {
    "duration": 4,
    "start_time": "2022-08-15T21:06:02.399Z"
   },
   {
    "duration": 47,
    "start_time": "2022-08-15T21:06:02.405Z"
   },
   {
    "duration": 214564,
    "start_time": "2022-08-15T21:06:12.439Z"
   },
   {
    "duration": 21297,
    "start_time": "2022-08-15T21:12:05.252Z"
   },
   {
    "duration": 3991,
    "start_time": "2022-08-15T21:12:55.010Z"
   },
   {
    "duration": 145,
    "start_time": "2022-08-15T21:13:19.306Z"
   },
   {
    "duration": 5,
    "start_time": "2022-08-15T21:13:27.091Z"
   },
   {
    "duration": 158,
    "start_time": "2022-08-15T21:13:29.106Z"
   },
   {
    "duration": 1459,
    "start_time": "2022-08-16T04:47:04.998Z"
   },
   {
    "duration": 3,
    "start_time": "2022-08-16T04:47:06.459Z"
   },
   {
    "duration": 327,
    "start_time": "2022-08-16T04:47:06.463Z"
   },
   {
    "duration": 3,
    "start_time": "2022-08-16T04:47:06.792Z"
   },
   {
    "duration": 64,
    "start_time": "2022-08-16T04:47:06.796Z"
   },
   {
    "duration": 177,
    "start_time": "2022-08-16T04:47:06.863Z"
   },
   {
    "duration": 142,
    "start_time": "2022-08-16T04:47:07.041Z"
   },
   {
    "duration": 275,
    "start_time": "2022-08-16T04:47:07.185Z"
   },
   {
    "duration": 282,
    "start_time": "2022-08-16T04:47:07.461Z"
   },
   {
    "duration": 293,
    "start_time": "2022-08-16T04:47:07.746Z"
   },
   {
    "duration": 219,
    "start_time": "2022-08-16T04:47:08.040Z"
   },
   {
    "duration": 37,
    "start_time": "2022-08-16T04:47:08.261Z"
   },
   {
    "duration": 95,
    "start_time": "2022-08-16T04:47:08.299Z"
   },
   {
    "duration": 176,
    "start_time": "2022-08-16T04:47:08.396Z"
   },
   {
    "duration": 70,
    "start_time": "2022-08-16T04:47:08.574Z"
   },
   {
    "duration": 263,
    "start_time": "2022-08-16T04:47:08.646Z"
   },
   {
    "duration": 89,
    "start_time": "2022-08-16T04:47:08.911Z"
   },
   {
    "duration": 568,
    "start_time": "2022-08-16T04:47:09.001Z"
   },
   {
    "duration": 40,
    "start_time": "2022-08-16T04:47:09.570Z"
   },
   {
    "duration": 132,
    "start_time": "2022-08-16T04:47:09.612Z"
   },
   {
    "duration": 21,
    "start_time": "2022-08-16T04:47:09.746Z"
   },
   {
    "duration": 97,
    "start_time": "2022-08-16T04:47:09.768Z"
   },
   {
    "duration": 11,
    "start_time": "2022-08-16T04:47:09.867Z"
   },
   {
    "duration": 25,
    "start_time": "2022-08-16T04:47:09.880Z"
   },
   {
    "duration": 31,
    "start_time": "2022-08-16T04:47:09.907Z"
   },
   {
    "duration": 5,
    "start_time": "2022-08-16T04:47:09.940Z"
   },
   {
    "duration": 6,
    "start_time": "2022-08-16T04:47:09.947Z"
   },
   {
    "duration": 3,
    "start_time": "2022-08-16T04:47:09.957Z"
   },
   {
    "duration": 12,
    "start_time": "2022-08-16T04:47:09.961Z"
   },
   {
    "duration": 19,
    "start_time": "2022-08-16T04:47:09.974Z"
   },
   {
    "duration": 4,
    "start_time": "2022-08-16T04:47:09.995Z"
   },
   {
    "duration": 14,
    "start_time": "2022-08-16T04:47:10.000Z"
   },
   {
    "duration": 6,
    "start_time": "2022-08-16T04:47:10.038Z"
   },
   {
    "duration": 13,
    "start_time": "2022-08-16T04:47:10.045Z"
   },
   {
    "duration": 4,
    "start_time": "2022-08-16T04:47:10.059Z"
   },
   {
    "duration": 6,
    "start_time": "2022-08-16T04:47:10.064Z"
   },
   {
    "duration": 21,
    "start_time": "2022-08-16T04:47:10.071Z"
   },
   {
    "duration": 7,
    "start_time": "2022-08-16T04:47:10.094Z"
   },
   {
    "duration": 6,
    "start_time": "2022-08-16T04:47:10.102Z"
   },
   {
    "duration": 29,
    "start_time": "2022-08-16T04:48:32.793Z"
   },
   {
    "duration": 10,
    "start_time": "2022-08-16T04:48:46.581Z"
   },
   {
    "duration": 20,
    "start_time": "2022-08-16T04:48:47.957Z"
   },
   {
    "duration": 21,
    "start_time": "2022-08-16T04:48:58.165Z"
   },
   {
    "duration": 2847,
    "start_time": "2022-08-16T04:49:02.807Z"
   },
   {
    "duration": 5,
    "start_time": "2022-08-16T04:49:25.142Z"
   },
   {
    "duration": 2623,
    "start_time": "2022-08-16T04:49:27.305Z"
   },
   {
    "duration": 4,
    "start_time": "2022-08-16T04:51:34.067Z"
   },
   {
    "duration": 2,
    "start_time": "2022-08-16T04:51:34.082Z"
   },
   {
    "duration": 109,
    "start_time": "2022-08-16T04:51:34.085Z"
   },
   {
    "duration": 4,
    "start_time": "2022-08-16T04:51:34.196Z"
   },
   {
    "duration": 53,
    "start_time": "2022-08-16T04:51:34.201Z"
   },
   {
    "duration": 182,
    "start_time": "2022-08-16T04:51:34.256Z"
   },
   {
    "duration": 147,
    "start_time": "2022-08-16T04:51:34.440Z"
   },
   {
    "duration": 219,
    "start_time": "2022-08-16T04:51:34.588Z"
   },
   {
    "duration": 253,
    "start_time": "2022-08-16T04:51:34.809Z"
   },
   {
    "duration": 323,
    "start_time": "2022-08-16T04:51:35.064Z"
   },
   {
    "duration": 328,
    "start_time": "2022-08-16T04:51:35.388Z"
   },
   {
    "duration": 43,
    "start_time": "2022-08-16T04:51:35.718Z"
   },
   {
    "duration": 85,
    "start_time": "2022-08-16T04:51:35.763Z"
   },
   {
    "duration": 169,
    "start_time": "2022-08-16T04:51:35.850Z"
   },
   {
    "duration": 50,
    "start_time": "2022-08-16T04:51:36.020Z"
   },
   {
    "duration": 273,
    "start_time": "2022-08-16T04:51:36.071Z"
   },
   {
    "duration": 92,
    "start_time": "2022-08-16T04:51:36.346Z"
   },
   {
    "duration": 423,
    "start_time": "2022-08-16T04:51:36.440Z"
   },
   {
    "duration": 39,
    "start_time": "2022-08-16T04:51:36.865Z"
   },
   {
    "duration": 152,
    "start_time": "2022-08-16T04:51:36.905Z"
   },
   {
    "duration": 21,
    "start_time": "2022-08-16T04:51:37.059Z"
   },
   {
    "duration": 85,
    "start_time": "2022-08-16T04:51:37.082Z"
   },
   {
    "duration": 10,
    "start_time": "2022-08-16T04:51:37.169Z"
   },
   {
    "duration": 30,
    "start_time": "2022-08-16T04:51:37.180Z"
   },
   {
    "duration": 29,
    "start_time": "2022-08-16T04:51:37.212Z"
   },
   {
    "duration": 6,
    "start_time": "2022-08-16T04:51:37.243Z"
   },
   {
    "duration": 5,
    "start_time": "2022-08-16T04:51:37.250Z"
   },
   {
    "duration": 5,
    "start_time": "2022-08-16T04:51:37.257Z"
   },
   {
    "duration": 12,
    "start_time": "2022-08-16T04:51:37.263Z"
   },
   {
    "duration": 16,
    "start_time": "2022-08-16T04:51:37.278Z"
   },
   {
    "duration": 4,
    "start_time": "2022-08-16T04:51:37.296Z"
   },
   {
    "duration": 43,
    "start_time": "2022-08-16T04:51:37.302Z"
   },
   {
    "duration": 6,
    "start_time": "2022-08-16T04:51:37.347Z"
   },
   {
    "duration": 9,
    "start_time": "2022-08-16T04:51:37.354Z"
   },
   {
    "duration": 5,
    "start_time": "2022-08-16T04:51:37.364Z"
   },
   {
    "duration": 8,
    "start_time": "2022-08-16T04:51:37.370Z"
   },
   {
    "duration": 21,
    "start_time": "2022-08-16T04:51:37.379Z"
   },
   {
    "duration": 5,
    "start_time": "2022-08-16T04:51:37.402Z"
   },
   {
    "duration": 4,
    "start_time": "2022-08-16T04:51:37.438Z"
   },
   {
    "duration": 38,
    "start_time": "2022-08-16T04:51:37.444Z"
   },
   {
    "duration": 9,
    "start_time": "2022-08-16T04:51:37.483Z"
   },
   {
    "duration": 21,
    "start_time": "2022-08-16T04:51:37.493Z"
   },
   {
    "duration": 38,
    "start_time": "2022-08-16T04:51:37.516Z"
   },
   {
    "duration": 3042,
    "start_time": "2022-08-16T04:51:37.556Z"
   },
   {
    "duration": 5,
    "start_time": "2022-08-16T04:51:40.600Z"
   },
   {
    "duration": 103,
    "start_time": "2022-08-16T04:53:25.952Z"
   },
   {
    "duration": 4,
    "start_time": "2022-08-16T04:53:36.079Z"
   },
   {
    "duration": 18,
    "start_time": "2022-08-16T04:53:36.085Z"
   },
   {
    "duration": 106,
    "start_time": "2022-08-16T04:53:36.104Z"
   },
   {
    "duration": 3,
    "start_time": "2022-08-16T04:53:36.212Z"
   },
   {
    "duration": 52,
    "start_time": "2022-08-16T04:53:36.217Z"
   },
   {
    "duration": 201,
    "start_time": "2022-08-16T04:53:36.270Z"
   },
   {
    "duration": 142,
    "start_time": "2022-08-16T04:53:36.473Z"
   },
   {
    "duration": 209,
    "start_time": "2022-08-16T04:53:36.617Z"
   },
   {
    "duration": 231,
    "start_time": "2022-08-16T04:53:36.828Z"
   },
   {
    "duration": 303,
    "start_time": "2022-08-16T04:53:37.062Z"
   },
   {
    "duration": 231,
    "start_time": "2022-08-16T04:53:37.367Z"
   },
   {
    "duration": 44,
    "start_time": "2022-08-16T04:53:37.599Z"
   },
   {
    "duration": 95,
    "start_time": "2022-08-16T04:53:37.645Z"
   },
   {
    "duration": 303,
    "start_time": "2022-08-16T04:53:37.742Z"
   },
   {
    "duration": 41,
    "start_time": "2022-08-16T04:53:38.047Z"
   },
   {
    "duration": 266,
    "start_time": "2022-08-16T04:53:38.089Z"
   },
   {
    "duration": 85,
    "start_time": "2022-08-16T04:53:38.356Z"
   },
   {
    "duration": 431,
    "start_time": "2022-08-16T04:53:38.442Z"
   },
   {
    "duration": 70,
    "start_time": "2022-08-16T04:53:38.875Z"
   },
   {
    "duration": 167,
    "start_time": "2022-08-16T04:53:38.947Z"
   },
   {
    "duration": 28,
    "start_time": "2022-08-16T04:53:39.115Z"
   },
   {
    "duration": 94,
    "start_time": "2022-08-16T04:53:39.144Z"
   },
   {
    "duration": 11,
    "start_time": "2022-08-16T04:53:39.240Z"
   },
   {
    "duration": 19,
    "start_time": "2022-08-16T04:53:39.253Z"
   },
   {
    "duration": 5,
    "start_time": "2022-08-16T04:53:39.275Z"
   },
   {
    "duration": 6,
    "start_time": "2022-08-16T04:53:39.282Z"
   },
   {
    "duration": 6,
    "start_time": "2022-08-16T04:53:39.289Z"
   },
   {
    "duration": 4,
    "start_time": "2022-08-16T04:53:39.296Z"
   },
   {
    "duration": 40,
    "start_time": "2022-08-16T04:53:39.302Z"
   },
   {
    "duration": 15,
    "start_time": "2022-08-16T04:53:39.344Z"
   },
   {
    "duration": 4,
    "start_time": "2022-08-16T04:53:39.361Z"
   },
   {
    "duration": 10,
    "start_time": "2022-08-16T04:53:39.366Z"
   },
   {
    "duration": 6,
    "start_time": "2022-08-16T04:53:39.377Z"
   },
   {
    "duration": 9,
    "start_time": "2022-08-16T04:53:39.385Z"
   },
   {
    "duration": 4,
    "start_time": "2022-08-16T04:53:39.395Z"
   },
   {
    "duration": 40,
    "start_time": "2022-08-16T04:53:39.401Z"
   },
   {
    "duration": 21,
    "start_time": "2022-08-16T04:53:39.443Z"
   },
   {
    "duration": 4,
    "start_time": "2022-08-16T04:53:39.466Z"
   },
   {
    "duration": 7,
    "start_time": "2022-08-16T04:53:39.471Z"
   },
   {
    "duration": 31,
    "start_time": "2022-08-16T04:53:39.479Z"
   },
   {
    "duration": 27,
    "start_time": "2022-08-16T04:53:39.511Z"
   },
   {
    "duration": 18,
    "start_time": "2022-08-16T04:53:39.540Z"
   },
   {
    "duration": 18,
    "start_time": "2022-08-16T04:53:39.560Z"
   },
   {
    "duration": 2889,
    "start_time": "2022-08-16T04:53:39.580Z"
   },
   {
    "duration": 5,
    "start_time": "2022-08-16T04:53:42.470Z"
   },
   {
    "duration": 2829,
    "start_time": "2022-08-16T04:53:42.476Z"
   },
   {
    "duration": 9,
    "start_time": "2022-08-16T04:53:45.307Z"
   },
   {
    "duration": 4,
    "start_time": "2022-08-16T04:53:45.317Z"
   },
   {
    "duration": 2,
    "start_time": "2022-08-16T04:53:47.860Z"
   },
   {
    "duration": 18,
    "start_time": "2022-08-16T04:53:48.472Z"
   },
   {
    "duration": 16,
    "start_time": "2022-08-16T04:54:20.618Z"
   },
   {
    "duration": 15,
    "start_time": "2022-08-16T04:55:36.604Z"
   },
   {
    "duration": 838,
    "start_time": "2022-08-16T05:03:13.941Z"
   },
   {
    "duration": 938,
    "start_time": "2022-08-16T05:03:59.654Z"
   },
   {
    "duration": 786,
    "start_time": "2022-08-16T05:04:19.407Z"
   },
   {
    "duration": 15,
    "start_time": "2022-08-16T05:04:50.295Z"
   },
   {
    "duration": 19,
    "start_time": "2022-08-16T05:05:01.798Z"
   },
   {
    "duration": 14,
    "start_time": "2022-08-16T05:05:14.354Z"
   },
   {
    "duration": 9,
    "start_time": "2022-08-16T05:05:58.124Z"
   },
   {
    "duration": 9,
    "start_time": "2022-08-16T05:06:10.079Z"
   },
   {
    "duration": 927,
    "start_time": "2022-08-16T05:08:40.219Z"
   },
   {
    "duration": 12,
    "start_time": "2022-08-16T05:08:52.115Z"
   },
   {
    "duration": 15,
    "start_time": "2022-08-16T05:09:17.510Z"
   },
   {
    "duration": 4,
    "start_time": "2022-08-16T05:09:50.590Z"
   },
   {
    "duration": 8,
    "start_time": "2022-08-16T05:09:50.596Z"
   },
   {
    "duration": 107,
    "start_time": "2022-08-16T05:09:50.606Z"
   },
   {
    "duration": 3,
    "start_time": "2022-08-16T05:09:50.715Z"
   },
   {
    "duration": 53,
    "start_time": "2022-08-16T05:09:50.720Z"
   },
   {
    "duration": 206,
    "start_time": "2022-08-16T05:09:50.775Z"
   },
   {
    "duration": 149,
    "start_time": "2022-08-16T05:09:50.982Z"
   },
   {
    "duration": 212,
    "start_time": "2022-08-16T05:09:51.138Z"
   },
   {
    "duration": 209,
    "start_time": "2022-08-16T05:09:51.352Z"
   },
   {
    "duration": 306,
    "start_time": "2022-08-16T05:09:51.562Z"
   },
   {
    "duration": 225,
    "start_time": "2022-08-16T05:09:51.870Z"
   },
   {
    "duration": 41,
    "start_time": "2022-08-16T05:09:52.098Z"
   },
   {
    "duration": 81,
    "start_time": "2022-08-16T05:09:52.140Z"
   },
   {
    "duration": 166,
    "start_time": "2022-08-16T05:09:52.238Z"
   },
   {
    "duration": 47,
    "start_time": "2022-08-16T05:09:52.405Z"
   },
   {
    "duration": 402,
    "start_time": "2022-08-16T05:09:52.453Z"
   },
   {
    "duration": 83,
    "start_time": "2022-08-16T05:09:52.857Z"
   },
   {
    "duration": 421,
    "start_time": "2022-08-16T05:09:52.941Z"
   },
   {
    "duration": 39,
    "start_time": "2022-08-16T05:09:53.363Z"
   },
   {
    "duration": 152,
    "start_time": "2022-08-16T05:09:53.403Z"
   },
   {
    "duration": 22,
    "start_time": "2022-08-16T05:09:53.556Z"
   },
   {
    "duration": 89,
    "start_time": "2022-08-16T05:09:53.580Z"
   },
   {
    "duration": 11,
    "start_time": "2022-08-16T05:09:53.671Z"
   },
   {
    "duration": 39,
    "start_time": "2022-08-16T05:09:53.683Z"
   },
   {
    "duration": 30,
    "start_time": "2022-08-16T05:09:53.724Z"
   },
   {
    "duration": 14,
    "start_time": "2022-08-16T05:09:53.756Z"
   },
   {
    "duration": 31,
    "start_time": "2022-08-16T05:09:53.771Z"
   },
   {
    "duration": 14,
    "start_time": "2022-08-16T05:09:53.804Z"
   },
   {
    "duration": 41,
    "start_time": "2022-08-16T05:09:53.819Z"
   },
   {
    "duration": 34,
    "start_time": "2022-08-16T05:09:53.863Z"
   },
   {
    "duration": 4,
    "start_time": "2022-08-16T05:09:53.899Z"
   },
   {
    "duration": 27,
    "start_time": "2022-08-16T05:09:53.904Z"
   },
   {
    "duration": 17,
    "start_time": "2022-08-16T05:09:53.932Z"
   },
   {
    "duration": 18,
    "start_time": "2022-08-16T05:09:53.950Z"
   },
   {
    "duration": 14,
    "start_time": "2022-08-16T05:09:53.969Z"
   },
   {
    "duration": 9,
    "start_time": "2022-08-16T05:09:53.985Z"
   },
   {
    "duration": 37,
    "start_time": "2022-08-16T05:09:53.995Z"
   },
   {
    "duration": 22,
    "start_time": "2022-08-16T05:09:54.034Z"
   },
   {
    "duration": 19,
    "start_time": "2022-08-16T05:09:54.057Z"
   },
   {
    "duration": 59,
    "start_time": "2022-08-16T05:09:54.078Z"
   },
   {
    "duration": 9,
    "start_time": "2022-08-16T05:09:54.138Z"
   },
   {
    "duration": 37,
    "start_time": "2022-08-16T05:09:54.148Z"
   },
   {
    "duration": 48,
    "start_time": "2022-08-16T05:09:54.187Z"
   },
   {
    "duration": 2877,
    "start_time": "2022-08-16T05:09:54.236Z"
   },
   {
    "duration": 5,
    "start_time": "2022-08-16T05:09:57.115Z"
   },
   {
    "duration": 2752,
    "start_time": "2022-08-16T05:09:57.121Z"
   },
   {
    "duration": 11,
    "start_time": "2022-08-16T05:09:59.875Z"
   },
   {
    "duration": 2,
    "start_time": "2022-08-16T05:09:59.888Z"
   },
   {
    "duration": 16,
    "start_time": "2022-08-16T05:09:59.892Z"
   },
   {
    "duration": 43,
    "start_time": "2022-08-16T05:09:59.909Z"
   },
   {
    "duration": 106,
    "start_time": "2022-08-16T05:09:59.954Z"
   },
   {
    "duration": 11,
    "start_time": "2022-08-16T05:10:00.061Z"
   },
   {
    "duration": 283,
    "start_time": "2022-08-16T05:10:00.073Z"
   },
   {
    "duration": 4,
    "start_time": "2022-08-16T05:10:00.357Z"
   },
   {
    "duration": 47,
    "start_time": "2022-08-16T05:10:00.362Z"
   },
   {
    "duration": 103,
    "start_time": "2022-08-16T05:10:00.410Z"
   },
   {
    "duration": 4,
    "start_time": "2022-08-16T05:10:00.514Z"
   },
   {
    "duration": 19,
    "start_time": "2022-08-16T05:10:00.519Z"
   },
   {
    "duration": 4,
    "start_time": "2022-08-16T05:10:09.464Z"
   },
   {
    "duration": 273572,
    "start_time": "2022-08-16T05:10:25.326Z"
   },
   {
    "duration": 263839,
    "start_time": "2022-08-16T05:14:58.900Z"
   },
   {
    "duration": 44716,
    "start_time": "2022-08-16T05:19:22.740Z"
   },
   {
    "duration": 63,
    "start_time": "2022-08-16T05:29:40.231Z"
   },
   {
    "duration": 4,
    "start_time": "2022-08-16T05:29:59.142Z"
   },
   {
    "duration": 7428,
    "start_time": "2022-08-16T05:30:21.212Z"
   },
   {
    "duration": 45,
    "start_time": "2022-08-16T05:31:43.606Z"
   },
   {
    "duration": 17,
    "start_time": "2022-08-16T05:31:50.603Z"
   },
   {
    "duration": 9945,
    "start_time": "2022-08-16T05:32:09.953Z"
   },
   {
    "duration": 402790,
    "start_time": "2022-08-16T05:36:11.671Z"
   },
   {
    "duration": 60989,
    "start_time": "2022-08-16T05:42:54.463Z"
   },
   {
    "duration": 127605,
    "start_time": "2022-08-16T05:44:56.849Z"
   },
   {
    "duration": 63887,
    "start_time": "2022-08-16T06:21:03.367Z"
   },
   {
    "duration": 20817,
    "start_time": "2022-08-16T06:23:34.595Z"
   },
   {
    "duration": 70557,
    "start_time": "2022-08-16T06:24:36.194Z"
   },
   {
    "duration": 4,
    "start_time": "2022-08-16T06:27:25.386Z"
   },
   {
    "duration": 12,
    "start_time": "2022-08-16T06:27:31.747Z"
   },
   {
    "duration": 182400,
    "start_time": "2022-08-16T06:30:43.636Z"
   },
   {
    "duration": 40402,
    "start_time": "2022-08-16T06:33:46.038Z"
   },
   {
    "duration": 5,
    "start_time": "2022-08-16T06:37:29.102Z"
   },
   {
    "duration": 14,
    "start_time": "2022-08-16T06:37:29.109Z"
   },
   {
    "duration": 112,
    "start_time": "2022-08-16T06:37:29.124Z"
   },
   {
    "duration": 4,
    "start_time": "2022-08-16T06:37:29.238Z"
   },
   {
    "duration": 53,
    "start_time": "2022-08-16T06:37:29.244Z"
   },
   {
    "duration": 187,
    "start_time": "2022-08-16T06:37:29.299Z"
   },
   {
    "duration": 141,
    "start_time": "2022-08-16T06:37:29.487Z"
   },
   {
    "duration": 219,
    "start_time": "2022-08-16T06:37:29.629Z"
   },
   {
    "duration": 216,
    "start_time": "2022-08-16T06:37:29.849Z"
   },
   {
    "duration": 305,
    "start_time": "2022-08-16T06:37:30.067Z"
   },
   {
    "duration": 228,
    "start_time": "2022-08-16T06:37:30.373Z"
   },
   {
    "duration": 44,
    "start_time": "2022-08-16T06:37:30.603Z"
   },
   {
    "duration": 90,
    "start_time": "2022-08-16T06:37:30.648Z"
   },
   {
    "duration": 173,
    "start_time": "2022-08-16T06:37:30.740Z"
   },
   {
    "duration": 48,
    "start_time": "2022-08-16T06:37:30.914Z"
   },
   {
    "duration": 260,
    "start_time": "2022-08-16T06:37:30.964Z"
   },
   {
    "duration": 73,
    "start_time": "2022-08-16T06:37:31.226Z"
   },
   {
    "duration": 440,
    "start_time": "2022-08-16T06:37:31.301Z"
   },
   {
    "duration": 39,
    "start_time": "2022-08-16T06:37:31.742Z"
   },
   {
    "duration": 150,
    "start_time": "2022-08-16T06:37:31.783Z"
   },
   {
    "duration": 22,
    "start_time": "2022-08-16T06:37:31.939Z"
   },
   {
    "duration": 93,
    "start_time": "2022-08-16T06:37:31.962Z"
   },
   {
    "duration": 10,
    "start_time": "2022-08-16T06:37:32.057Z"
   },
   {
    "duration": 20,
    "start_time": "2022-08-16T06:37:32.069Z"
   },
   {
    "duration": 7,
    "start_time": "2022-08-16T06:37:32.091Z"
   },
   {
    "duration": 40,
    "start_time": "2022-08-16T06:37:32.100Z"
   },
   {
    "duration": 7,
    "start_time": "2022-08-16T06:37:32.142Z"
   },
   {
    "duration": 3,
    "start_time": "2022-08-16T06:37:32.152Z"
   },
   {
    "duration": 12,
    "start_time": "2022-08-16T06:37:32.156Z"
   },
   {
    "duration": 23,
    "start_time": "2022-08-16T06:37:32.169Z"
   },
   {
    "duration": 5,
    "start_time": "2022-08-16T06:37:32.193Z"
   },
   {
    "duration": 9,
    "start_time": "2022-08-16T06:37:32.199Z"
   },
   {
    "duration": 34,
    "start_time": "2022-08-16T06:37:32.209Z"
   },
   {
    "duration": 9,
    "start_time": "2022-08-16T06:37:32.245Z"
   },
   {
    "duration": 4,
    "start_time": "2022-08-16T06:37:32.255Z"
   },
   {
    "duration": 7,
    "start_time": "2022-08-16T06:37:32.260Z"
   },
   {
    "duration": 19,
    "start_time": "2022-08-16T06:37:32.268Z"
   },
   {
    "duration": 5,
    "start_time": "2022-08-16T06:37:32.289Z"
   },
   {
    "duration": 6,
    "start_time": "2022-08-16T06:37:32.296Z"
   },
   {
    "duration": 61,
    "start_time": "2022-08-16T06:37:32.303Z"
   },
   {
    "duration": 9,
    "start_time": "2022-08-16T06:37:32.365Z"
   },
   {
    "duration": 19,
    "start_time": "2022-08-16T06:37:32.375Z"
   },
   {
    "duration": 20,
    "start_time": "2022-08-16T06:37:32.395Z"
   },
   {
    "duration": 3093,
    "start_time": "2022-08-16T06:37:32.416Z"
   },
   {
    "duration": 6,
    "start_time": "2022-08-16T06:37:35.511Z"
   },
   {
    "duration": 2255,
    "start_time": "2022-08-16T06:37:35.518Z"
   },
   {
    "duration": 8,
    "start_time": "2022-08-16T06:37:37.775Z"
   },
   {
    "duration": 2,
    "start_time": "2022-08-16T06:37:37.784Z"
   },
   {
    "duration": 16,
    "start_time": "2022-08-16T06:37:37.787Z"
   },
   {
    "duration": 0,
    "start_time": "2022-08-16T06:37:37.804Z"
   },
   {
    "duration": 15,
    "start_time": "2022-08-16T06:38:18.343Z"
   },
   {
    "duration": 12,
    "start_time": "2022-08-16T06:38:42.555Z"
   },
   {
    "duration": 17,
    "start_time": "2022-08-16T06:38:55.014Z"
   },
   {
    "duration": 581462,
    "start_time": "2022-08-16T06:40:05.256Z"
   },
   {
    "duration": 36930,
    "start_time": "2022-08-16T06:49:46.719Z"
   },
   {
    "duration": 9,
    "start_time": "2022-08-16T06:53:05.606Z"
   },
   {
    "duration": 4,
    "start_time": "2022-08-16T06:53:10.751Z"
   },
   {
    "duration": 129,
    "start_time": "2022-08-16T06:53:15.582Z"
   },
   {
    "duration": 405,
    "start_time": "2022-08-16T06:54:17.230Z"
   },
   {
    "duration": 130,
    "start_time": "2022-08-16T06:54:38.215Z"
   },
   {
    "duration": 15517,
    "start_time": "2022-08-16T06:56:12.969Z"
   },
   {
    "duration": 43522,
    "start_time": "2022-08-16T07:01:16.728Z"
   },
   {
    "duration": 531666,
    "start_time": "2022-08-16T07:02:00.251Z"
   },
   {
    "duration": 52333,
    "start_time": "2022-08-16T07:10:51.919Z"
   },
   {
    "duration": 170,
    "start_time": "2022-08-16T07:12:50.147Z"
   },
   {
    "duration": 125,
    "start_time": "2022-08-16T07:12:59.081Z"
   },
   {
    "duration": 1642,
    "start_time": "2022-08-16T14:12:17.499Z"
   },
   {
    "duration": 3,
    "start_time": "2022-08-16T14:12:19.143Z"
   },
   {
    "duration": 329,
    "start_time": "2022-08-16T14:12:19.148Z"
   },
   {
    "duration": 3,
    "start_time": "2022-08-16T14:12:19.479Z"
   },
   {
    "duration": 59,
    "start_time": "2022-08-16T14:12:19.483Z"
   },
   {
    "duration": 190,
    "start_time": "2022-08-16T14:12:19.543Z"
   },
   {
    "duration": 147,
    "start_time": "2022-08-16T14:12:19.734Z"
   },
   {
    "duration": 309,
    "start_time": "2022-08-16T14:12:19.882Z"
   },
   {
    "duration": 270,
    "start_time": "2022-08-16T14:12:20.192Z"
   },
   {
    "duration": 311,
    "start_time": "2022-08-16T14:12:20.464Z"
   },
   {
    "duration": 223,
    "start_time": "2022-08-16T14:12:20.776Z"
   },
   {
    "duration": 40,
    "start_time": "2022-08-16T14:12:21.000Z"
   },
   {
    "duration": 99,
    "start_time": "2022-08-16T14:12:21.041Z"
   },
   {
    "duration": 171,
    "start_time": "2022-08-16T14:12:21.141Z"
   },
   {
    "duration": 45,
    "start_time": "2022-08-16T14:12:21.314Z"
   },
   {
    "duration": 280,
    "start_time": "2022-08-16T14:12:21.360Z"
   },
   {
    "duration": 74,
    "start_time": "2022-08-16T14:12:21.642Z"
   },
   {
    "duration": 559,
    "start_time": "2022-08-16T14:12:21.717Z"
   },
   {
    "duration": 39,
    "start_time": "2022-08-16T14:12:22.278Z"
   },
   {
    "duration": 142,
    "start_time": "2022-08-16T14:12:22.318Z"
   },
   {
    "duration": 22,
    "start_time": "2022-08-16T14:12:22.461Z"
   },
   {
    "duration": 87,
    "start_time": "2022-08-16T14:12:22.485Z"
   },
   {
    "duration": 32,
    "start_time": "2022-08-16T14:12:22.574Z"
   },
   {
    "duration": 20,
    "start_time": "2022-08-16T14:12:22.607Z"
   },
   {
    "duration": 9,
    "start_time": "2022-08-16T14:12:22.629Z"
   },
   {
    "duration": 16,
    "start_time": "2022-08-16T14:12:22.639Z"
   },
   {
    "duration": 12,
    "start_time": "2022-08-16T14:12:22.656Z"
   },
   {
    "duration": 10,
    "start_time": "2022-08-16T14:12:22.672Z"
   },
   {
    "duration": 12,
    "start_time": "2022-08-16T14:12:22.683Z"
   },
   {
    "duration": 19,
    "start_time": "2022-08-16T14:12:22.696Z"
   },
   {
    "duration": 4,
    "start_time": "2022-08-16T14:12:22.717Z"
   },
   {
    "duration": 13,
    "start_time": "2022-08-16T14:12:22.722Z"
   },
   {
    "duration": 6,
    "start_time": "2022-08-16T14:12:22.737Z"
   },
   {
    "duration": 13,
    "start_time": "2022-08-16T14:12:22.744Z"
   },
   {
    "duration": 4,
    "start_time": "2022-08-16T14:12:22.759Z"
   },
   {
    "duration": 6,
    "start_time": "2022-08-16T14:12:22.765Z"
   },
   {
    "duration": 35,
    "start_time": "2022-08-16T14:12:22.773Z"
   },
   {
    "duration": 3,
    "start_time": "2022-08-16T14:12:22.810Z"
   },
   {
    "duration": 9,
    "start_time": "2022-08-16T14:12:22.814Z"
   },
   {
    "duration": 35,
    "start_time": "2022-08-16T14:12:22.824Z"
   },
   {
    "duration": 8,
    "start_time": "2022-08-16T14:12:22.861Z"
   },
   {
    "duration": 28,
    "start_time": "2022-08-16T14:12:22.870Z"
   },
   {
    "duration": 22,
    "start_time": "2022-08-16T14:12:22.906Z"
   },
   {
    "duration": 2898,
    "start_time": "2022-08-16T14:12:22.930Z"
   },
   {
    "duration": 5,
    "start_time": "2022-08-16T14:12:25.830Z"
   },
   {
    "duration": 2470,
    "start_time": "2022-08-16T14:12:25.836Z"
   },
   {
    "duration": 7,
    "start_time": "2022-08-16T14:12:28.307Z"
   },
   {
    "duration": 29,
    "start_time": "2022-08-16T14:12:28.316Z"
   },
   {
    "duration": 38,
    "start_time": "2022-08-16T14:12:28.346Z"
   },
   {
    "duration": 27,
    "start_time": "2022-08-16T14:12:28.385Z"
   },
   {
    "duration": 131,
    "start_time": "2022-08-16T14:12:28.413Z"
   },
   {
    "duration": 11,
    "start_time": "2022-08-16T14:12:28.545Z"
   },
   {
    "duration": 123,
    "start_time": "2022-08-16T14:12:28.558Z"
   },
   {
    "duration": 4,
    "start_time": "2022-08-16T14:12:28.683Z"
   },
   {
    "duration": 46,
    "start_time": "2022-08-16T14:12:28.689Z"
   },
   {
    "duration": 146,
    "start_time": "2022-08-16T14:12:28.736Z"
   },
   {
    "duration": 4,
    "start_time": "2022-08-16T14:12:28.884Z"
   },
   {
    "duration": 73,
    "start_time": "2022-08-16T14:12:28.890Z"
   },
   {
    "duration": 4,
    "start_time": "2022-08-16T14:13:22.831Z"
   },
   {
    "duration": 1115900,
    "start_time": "2022-08-16T14:13:54.885Z"
   },
   {
    "duration": 1455040,
    "start_time": "2022-08-16T14:32:30.787Z"
   },
   {
    "duration": 4,
    "start_time": "2022-08-16T15:23:38.781Z"
   },
   {
    "duration": 136,
    "start_time": "2022-08-16T15:23:57.716Z"
   },
   {
    "duration": 944488,
    "start_time": "2022-08-16T15:27:08.536Z"
   },
   {
    "duration": 125,
    "start_time": "2022-08-16T15:42:53.026Z"
   },
   {
    "duration": 16596,
    "start_time": "2022-08-16T15:49:32.118Z"
   },
   {
    "duration": 1083197,
    "start_time": "2022-08-16T15:50:43.425Z"
   },
   {
    "duration": 95493,
    "start_time": "2022-08-16T16:08:46.624Z"
   },
   {
    "duration": 4,
    "start_time": "2022-08-16T16:10:22.119Z"
   },
   {
    "duration": 9,
    "start_time": "2022-08-16T16:10:22.125Z"
   },
   {
    "duration": 97,
    "start_time": "2022-08-16T16:10:22.205Z"
   },
   {
    "duration": 4,
    "start_time": "2022-08-16T16:10:22.304Z"
   },
   {
    "duration": 51,
    "start_time": "2022-08-16T16:10:22.309Z"
   },
   {
    "duration": 177,
    "start_time": "2022-08-16T16:10:22.362Z"
   },
   {
    "duration": 142,
    "start_time": "2022-08-16T16:10:22.541Z"
   },
   {
    "duration": 221,
    "start_time": "2022-08-16T16:10:22.686Z"
   },
   {
    "duration": 228,
    "start_time": "2022-08-16T16:10:22.909Z"
   },
   {
    "duration": 407,
    "start_time": "2022-08-16T16:10:23.139Z"
   },
   {
    "duration": 224,
    "start_time": "2022-08-16T16:10:23.547Z"
   },
   {
    "duration": 42,
    "start_time": "2022-08-16T16:10:23.772Z"
   },
   {
    "duration": 75,
    "start_time": "2022-08-16T16:10:23.815Z"
   },
   {
    "duration": 190,
    "start_time": "2022-08-16T16:10:23.891Z"
   },
   {
    "duration": 47,
    "start_time": "2022-08-16T16:10:24.083Z"
   },
   {
    "duration": 256,
    "start_time": "2022-08-16T16:10:24.131Z"
   },
   {
    "duration": 59,
    "start_time": "2022-08-16T16:10:24.389Z"
   },
   {
    "duration": 433,
    "start_time": "2022-08-16T16:10:24.449Z"
   },
   {
    "duration": 50,
    "start_time": "2022-08-16T16:10:24.883Z"
   },
   {
    "duration": 154,
    "start_time": "2022-08-16T16:10:24.935Z"
   },
   {
    "duration": 26,
    "start_time": "2022-08-16T16:10:25.091Z"
   },
   {
    "duration": 91,
    "start_time": "2022-08-16T16:10:25.118Z"
   },
   {
    "duration": 11,
    "start_time": "2022-08-16T16:10:25.210Z"
   },
   {
    "duration": 20,
    "start_time": "2022-08-16T16:10:25.222Z"
   },
   {
    "duration": 6,
    "start_time": "2022-08-16T16:10:25.243Z"
   },
   {
    "duration": 10,
    "start_time": "2022-08-16T16:10:25.252Z"
   },
   {
    "duration": 5,
    "start_time": "2022-08-16T16:10:25.264Z"
   },
   {
    "duration": 11,
    "start_time": "2022-08-16T16:10:25.270Z"
   },
   {
    "duration": 32,
    "start_time": "2022-08-16T16:10:25.282Z"
   },
   {
    "duration": 18,
    "start_time": "2022-08-16T16:10:25.315Z"
   },
   {
    "duration": 4,
    "start_time": "2022-08-16T16:10:25.335Z"
   },
   {
    "duration": 9,
    "start_time": "2022-08-16T16:10:25.340Z"
   },
   {
    "duration": 6,
    "start_time": "2022-08-16T16:10:25.351Z"
   },
   {
    "duration": 8,
    "start_time": "2022-08-16T16:10:25.358Z"
   },
   {
    "duration": 3,
    "start_time": "2022-08-16T16:10:25.367Z"
   },
   {
    "duration": 5,
    "start_time": "2022-08-16T16:10:25.405Z"
   },
   {
    "duration": 20,
    "start_time": "2022-08-16T16:10:25.412Z"
   },
   {
    "duration": 7,
    "start_time": "2022-08-16T16:10:25.433Z"
   },
   {
    "duration": 9,
    "start_time": "2022-08-16T16:10:25.441Z"
   },
   {
    "duration": 33,
    "start_time": "2022-08-16T16:10:25.451Z"
   },
   {
    "duration": 8,
    "start_time": "2022-08-16T16:10:25.486Z"
   },
   {
    "duration": 21,
    "start_time": "2022-08-16T16:10:25.506Z"
   },
   {
    "duration": 21,
    "start_time": "2022-08-16T16:10:25.528Z"
   },
   {
    "duration": 3072,
    "start_time": "2022-08-16T16:10:25.550Z"
   },
   {
    "duration": 7,
    "start_time": "2022-08-16T16:10:28.623Z"
   },
   {
    "duration": 2390,
    "start_time": "2022-08-16T16:10:28.631Z"
   },
   {
    "duration": 12,
    "start_time": "2022-08-16T16:10:31.022Z"
   },
   {
    "duration": 3,
    "start_time": "2022-08-16T16:10:31.036Z"
   },
   {
    "duration": 20,
    "start_time": "2022-08-16T16:10:31.040Z"
   },
   {
    "duration": 18,
    "start_time": "2022-08-16T16:10:31.061Z"
   },
   {
    "duration": 131,
    "start_time": "2022-08-16T16:10:31.081Z"
   },
   {
    "duration": 12,
    "start_time": "2022-08-16T16:10:31.214Z"
   },
   {
    "duration": 134,
    "start_time": "2022-08-16T16:10:31.228Z"
   },
   {
    "duration": 4,
    "start_time": "2022-08-16T16:10:31.364Z"
   },
   {
    "duration": 13,
    "start_time": "2022-08-16T16:10:31.369Z"
   },
   {
    "duration": 253,
    "start_time": "2022-08-16T16:10:31.383Z"
   },
   {
    "duration": 3,
    "start_time": "2022-08-16T16:10:31.638Z"
   },
   {
    "duration": 224,
    "start_time": "2022-08-16T16:12:03.891Z"
   },
   {
    "duration": 134,
    "start_time": "2022-08-16T16:12:18.057Z"
   },
   {
    "duration": 3,
    "start_time": "2022-08-16T16:14:55.372Z"
   },
   {
    "duration": 1944,
    "start_time": "2022-08-16T17:54:02.275Z"
   },
   {
    "duration": 3,
    "start_time": "2022-08-16T17:54:04.221Z"
   },
   {
    "duration": 314,
    "start_time": "2022-08-16T17:54:04.226Z"
   },
   {
    "duration": 5,
    "start_time": "2022-08-16T17:54:04.543Z"
   },
   {
    "duration": 71,
    "start_time": "2022-08-16T17:54:04.550Z"
   },
   {
    "duration": 212,
    "start_time": "2022-08-16T17:54:04.622Z"
   },
   {
    "duration": 220,
    "start_time": "2022-08-16T17:54:04.835Z"
   },
   {
    "duration": 358,
    "start_time": "2022-08-16T17:54:05.057Z"
   },
   {
    "duration": 307,
    "start_time": "2022-08-16T17:54:05.417Z"
   },
   {
    "duration": 348,
    "start_time": "2022-08-16T17:54:05.727Z"
   },
   {
    "duration": 264,
    "start_time": "2022-08-16T17:54:06.077Z"
   },
   {
    "duration": 43,
    "start_time": "2022-08-16T17:54:06.343Z"
   },
   {
    "duration": 117,
    "start_time": "2022-08-16T17:54:06.387Z"
   },
   {
    "duration": 202,
    "start_time": "2022-08-16T17:54:06.506Z"
   },
   {
    "duration": 44,
    "start_time": "2022-08-16T17:54:06.710Z"
   },
   {
    "duration": 352,
    "start_time": "2022-08-16T17:54:06.756Z"
   },
   {
    "duration": 99,
    "start_time": "2022-08-16T17:54:07.109Z"
   },
   {
    "duration": 609,
    "start_time": "2022-08-16T17:54:07.210Z"
   },
   {
    "duration": 42,
    "start_time": "2022-08-16T17:54:07.821Z"
   },
   {
    "duration": 167,
    "start_time": "2022-08-16T17:54:07.864Z"
   },
   {
    "duration": 25,
    "start_time": "2022-08-16T17:54:08.033Z"
   },
   {
    "duration": 102,
    "start_time": "2022-08-16T17:54:08.060Z"
   },
   {
    "duration": 40,
    "start_time": "2022-08-16T17:54:08.164Z"
   },
   {
    "duration": 23,
    "start_time": "2022-08-16T17:54:08.206Z"
   },
   {
    "duration": 11,
    "start_time": "2022-08-16T17:54:08.230Z"
   },
   {
    "duration": 7,
    "start_time": "2022-08-16T17:54:08.242Z"
   },
   {
    "duration": 7,
    "start_time": "2022-08-16T17:54:08.251Z"
   },
   {
    "duration": 6,
    "start_time": "2022-08-16T17:54:08.262Z"
   },
   {
    "duration": 37,
    "start_time": "2022-08-16T17:54:08.270Z"
   },
   {
    "duration": 19,
    "start_time": "2022-08-16T17:54:08.308Z"
   },
   {
    "duration": 5,
    "start_time": "2022-08-16T17:54:08.329Z"
   },
   {
    "duration": 12,
    "start_time": "2022-08-16T17:54:08.335Z"
   },
   {
    "duration": 9,
    "start_time": "2022-08-16T17:54:08.349Z"
   },
   {
    "duration": 50,
    "start_time": "2022-08-16T17:54:08.360Z"
   },
   {
    "duration": 6,
    "start_time": "2022-08-16T17:54:08.413Z"
   },
   {
    "duration": 13,
    "start_time": "2022-08-16T17:54:08.421Z"
   },
   {
    "duration": 26,
    "start_time": "2022-08-16T17:54:08.437Z"
   },
   {
    "duration": 6,
    "start_time": "2022-08-16T17:54:08.465Z"
   },
   {
    "duration": 27,
    "start_time": "2022-08-16T17:54:08.473Z"
   },
   {
    "duration": 30,
    "start_time": "2022-08-16T17:54:08.501Z"
   },
   {
    "duration": 10,
    "start_time": "2022-08-16T17:54:08.532Z"
   },
   {
    "duration": 35,
    "start_time": "2022-08-16T17:54:08.544Z"
   },
   {
    "duration": 33,
    "start_time": "2022-08-16T17:54:08.580Z"
   },
   {
    "duration": 3109,
    "start_time": "2022-08-16T17:54:08.615Z"
   },
   {
    "duration": 9,
    "start_time": "2022-08-16T17:54:11.725Z"
   },
   {
    "duration": 2536,
    "start_time": "2022-08-16T17:54:11.735Z"
   },
   {
    "duration": 28,
    "start_time": "2022-08-16T17:54:14.273Z"
   },
   {
    "duration": 4,
    "start_time": "2022-08-16T17:54:14.302Z"
   },
   {
    "duration": 22,
    "start_time": "2022-08-16T17:54:14.307Z"
   },
   {
    "duration": 18,
    "start_time": "2022-08-16T17:54:14.331Z"
   },
   {
    "duration": 125,
    "start_time": "2022-08-16T17:54:14.351Z"
   },
   {
    "duration": 23,
    "start_time": "2022-08-16T17:54:14.478Z"
   },
   {
    "duration": 115,
    "start_time": "2022-08-16T17:54:14.503Z"
   },
   {
    "duration": 3,
    "start_time": "2022-08-16T17:54:14.620Z"
   },
   {
    "duration": 15,
    "start_time": "2022-08-16T17:54:14.625Z"
   },
   {
    "duration": 117,
    "start_time": "2022-08-16T17:54:14.641Z"
   },
   {
    "duration": 4,
    "start_time": "2022-08-16T17:54:14.760Z"
   },
   {
    "duration": 10,
    "start_time": "2022-08-16T17:54:14.766Z"
   },
   {
    "duration": 1060668,
    "start_time": "2022-08-16T17:55:52.128Z"
   },
   {
    "duration": 424,
    "start_time": "2022-08-16T18:13:32.798Z"
   },
   {
    "duration": 0,
    "start_time": "2022-08-16T18:13:33.224Z"
   },
   {
    "duration": 164119,
    "start_time": "2022-08-16T19:16:25.297Z"
   },
   {
    "duration": 4,
    "start_time": "2022-08-16T19:21:17.734Z"
   },
   {
    "duration": 11,
    "start_time": "2022-08-16T19:21:17.740Z"
   },
   {
    "duration": 107,
    "start_time": "2022-08-16T19:21:17.752Z"
   },
   {
    "duration": 3,
    "start_time": "2022-08-16T19:21:17.860Z"
   },
   {
    "duration": 72,
    "start_time": "2022-08-16T19:21:17.865Z"
   },
   {
    "duration": 182,
    "start_time": "2022-08-16T19:21:17.939Z"
   },
   {
    "duration": 150,
    "start_time": "2022-08-16T19:21:18.123Z"
   },
   {
    "duration": 212,
    "start_time": "2022-08-16T19:21:18.274Z"
   },
   {
    "duration": 229,
    "start_time": "2022-08-16T19:21:18.488Z"
   },
   {
    "duration": 468,
    "start_time": "2022-08-16T19:21:18.719Z"
   },
   {
    "duration": 242,
    "start_time": "2022-08-16T19:21:19.189Z"
   },
   {
    "duration": 37,
    "start_time": "2022-08-16T19:21:19.433Z"
   },
   {
    "duration": 102,
    "start_time": "2022-08-16T19:21:19.471Z"
   },
   {
    "duration": 183,
    "start_time": "2022-08-16T19:21:19.575Z"
   },
   {
    "duration": 59,
    "start_time": "2022-08-16T19:21:19.760Z"
   },
   {
    "duration": 277,
    "start_time": "2022-08-16T19:21:19.821Z"
   },
   {
    "duration": 64,
    "start_time": "2022-08-16T19:21:20.100Z"
   },
   {
    "duration": 474,
    "start_time": "2022-08-16T19:21:20.166Z"
   },
   {
    "duration": 64,
    "start_time": "2022-08-16T19:21:20.642Z"
   },
   {
    "duration": 145,
    "start_time": "2022-08-16T19:21:20.708Z"
   },
   {
    "duration": 24,
    "start_time": "2022-08-16T19:21:20.855Z"
   },
   {
    "duration": 91,
    "start_time": "2022-08-16T19:21:20.880Z"
   },
   {
    "duration": 37,
    "start_time": "2022-08-16T19:21:20.973Z"
   },
   {
    "duration": 31,
    "start_time": "2022-08-16T19:21:21.012Z"
   },
   {
    "duration": 7,
    "start_time": "2022-08-16T19:21:21.045Z"
   },
   {
    "duration": 11,
    "start_time": "2022-08-16T19:21:21.054Z"
   },
   {
    "duration": 17,
    "start_time": "2022-08-16T19:21:21.066Z"
   },
   {
    "duration": 14,
    "start_time": "2022-08-16T19:21:21.084Z"
   },
   {
    "duration": 19,
    "start_time": "2022-08-16T19:21:21.100Z"
   },
   {
    "duration": 24,
    "start_time": "2022-08-16T19:21:21.120Z"
   },
   {
    "duration": 4,
    "start_time": "2022-08-16T19:21:21.145Z"
   },
   {
    "duration": 19,
    "start_time": "2022-08-16T19:21:21.150Z"
   },
   {
    "duration": 9,
    "start_time": "2022-08-16T19:21:21.172Z"
   },
   {
    "duration": 27,
    "start_time": "2022-08-16T19:21:21.182Z"
   },
   {
    "duration": 12,
    "start_time": "2022-08-16T19:21:21.210Z"
   },
   {
    "duration": 23,
    "start_time": "2022-08-16T19:21:21.223Z"
   },
   {
    "duration": 38,
    "start_time": "2022-08-16T19:21:21.247Z"
   },
   {
    "duration": 22,
    "start_time": "2022-08-16T19:21:21.287Z"
   },
   {
    "duration": 20,
    "start_time": "2022-08-16T19:21:21.311Z"
   },
   {
    "duration": 43,
    "start_time": "2022-08-16T19:21:21.332Z"
   },
   {
    "duration": 11,
    "start_time": "2022-08-16T19:21:21.377Z"
   },
   {
    "duration": 14,
    "start_time": "2022-08-16T19:23:36.187Z"
   },
   {
    "duration": 23,
    "start_time": "2022-08-16T19:24:43.689Z"
   },
   {
    "duration": 10,
    "start_time": "2022-08-16T19:26:04.486Z"
   },
   {
    "duration": 9,
    "start_time": "2022-08-16T19:26:14.646Z"
   },
   {
    "duration": 22,
    "start_time": "2022-08-16T19:26:21.558Z"
   },
   {
    "duration": 4,
    "start_time": "2022-08-16T19:27:35.326Z"
   },
   {
    "duration": 9,
    "start_time": "2022-08-16T19:27:35.332Z"
   },
   {
    "duration": 104,
    "start_time": "2022-08-16T19:27:35.343Z"
   },
   {
    "duration": 4,
    "start_time": "2022-08-16T19:27:35.449Z"
   },
   {
    "duration": 57,
    "start_time": "2022-08-16T19:27:35.455Z"
   },
   {
    "duration": 191,
    "start_time": "2022-08-16T19:27:35.514Z"
   },
   {
    "duration": 154,
    "start_time": "2022-08-16T19:27:35.707Z"
   },
   {
    "duration": 406,
    "start_time": "2022-08-16T19:27:35.862Z"
   },
   {
    "duration": 255,
    "start_time": "2022-08-16T19:27:36.270Z"
   },
   {
    "duration": 312,
    "start_time": "2022-08-16T19:27:36.527Z"
   },
   {
    "duration": 249,
    "start_time": "2022-08-16T19:27:36.841Z"
   },
   {
    "duration": 50,
    "start_time": "2022-08-16T19:27:37.091Z"
   },
   {
    "duration": 96,
    "start_time": "2022-08-16T19:27:37.143Z"
   },
   {
    "duration": 177,
    "start_time": "2022-08-16T19:27:37.241Z"
   },
   {
    "duration": 43,
    "start_time": "2022-08-16T19:27:37.420Z"
   },
   {
    "duration": 271,
    "start_time": "2022-08-16T19:27:37.464Z"
   },
   {
    "duration": 73,
    "start_time": "2022-08-16T19:27:37.737Z"
   },
   {
    "duration": 457,
    "start_time": "2022-08-16T19:27:37.812Z"
   },
   {
    "duration": 47,
    "start_time": "2022-08-16T19:27:38.270Z"
   },
   {
    "duration": 148,
    "start_time": "2022-08-16T19:27:38.319Z"
   },
   {
    "duration": 32,
    "start_time": "2022-08-16T19:27:38.469Z"
   },
   {
    "duration": 102,
    "start_time": "2022-08-16T19:27:38.502Z"
   },
   {
    "duration": 12,
    "start_time": "2022-08-16T19:27:38.605Z"
   },
   {
    "duration": 22,
    "start_time": "2022-08-16T19:27:38.618Z"
   },
   {
    "duration": 7,
    "start_time": "2022-08-16T19:27:38.641Z"
   },
   {
    "duration": 8,
    "start_time": "2022-08-16T19:27:38.649Z"
   },
   {
    "duration": 9,
    "start_time": "2022-08-16T19:27:38.659Z"
   },
   {
    "duration": 31,
    "start_time": "2022-08-16T19:27:38.670Z"
   },
   {
    "duration": 11,
    "start_time": "2022-08-16T19:27:38.702Z"
   },
   {
    "duration": 17,
    "start_time": "2022-08-16T19:27:38.714Z"
   },
   {
    "duration": 4,
    "start_time": "2022-08-16T19:27:38.733Z"
   },
   {
    "duration": 11,
    "start_time": "2022-08-16T19:27:38.738Z"
   },
   {
    "duration": 6,
    "start_time": "2022-08-16T19:27:38.750Z"
   },
   {
    "duration": 7,
    "start_time": "2022-08-16T19:27:38.758Z"
   },
   {
    "duration": 4,
    "start_time": "2022-08-16T19:27:38.767Z"
   },
   {
    "duration": 5,
    "start_time": "2022-08-16T19:27:38.800Z"
   },
   {
    "duration": 26,
    "start_time": "2022-08-16T19:27:38.810Z"
   },
   {
    "duration": 8,
    "start_time": "2022-08-16T19:27:38.838Z"
   },
   {
    "duration": 12,
    "start_time": "2022-08-16T19:27:38.848Z"
   },
   {
    "duration": 50,
    "start_time": "2022-08-16T19:27:38.861Z"
   },
   {
    "duration": 14,
    "start_time": "2022-08-16T19:27:38.913Z"
   },
   {
    "duration": 20,
    "start_time": "2022-08-16T19:27:38.928Z"
   },
   {
    "duration": 26,
    "start_time": "2022-08-16T19:27:38.950Z"
   },
   {
    "duration": 3345,
    "start_time": "2022-08-16T19:27:38.978Z"
   },
   {
    "duration": 22,
    "start_time": "2022-08-16T19:27:42.324Z"
   },
   {
    "duration": 0,
    "start_time": "2022-08-16T19:27:42.348Z"
   },
   {
    "duration": 0,
    "start_time": "2022-08-16T19:27:42.350Z"
   },
   {
    "duration": 0,
    "start_time": "2022-08-16T19:27:42.351Z"
   },
   {
    "duration": 0,
    "start_time": "2022-08-16T19:27:42.353Z"
   },
   {
    "duration": 0,
    "start_time": "2022-08-16T19:27:42.354Z"
   },
   {
    "duration": 0,
    "start_time": "2022-08-16T19:27:42.356Z"
   },
   {
    "duration": 0,
    "start_time": "2022-08-16T19:27:42.357Z"
   },
   {
    "duration": 0,
    "start_time": "2022-08-16T19:27:42.358Z"
   },
   {
    "duration": 0,
    "start_time": "2022-08-16T19:27:42.359Z"
   },
   {
    "duration": 0,
    "start_time": "2022-08-16T19:27:42.361Z"
   },
   {
    "duration": 0,
    "start_time": "2022-08-16T19:27:42.362Z"
   },
   {
    "duration": 0,
    "start_time": "2022-08-16T19:27:42.363Z"
   },
   {
    "duration": 0,
    "start_time": "2022-08-16T19:27:42.364Z"
   },
   {
    "duration": 20,
    "start_time": "2022-08-16T19:27:47.109Z"
   },
   {
    "duration": 29,
    "start_time": "2022-08-16T19:28:31.344Z"
   },
   {
    "duration": 5,
    "start_time": "2022-08-16T19:28:42.050Z"
   },
   {
    "duration": 4,
    "start_time": "2022-08-16T19:28:42.057Z"
   },
   {
    "duration": 104,
    "start_time": "2022-08-16T19:28:42.066Z"
   },
   {
    "duration": 4,
    "start_time": "2022-08-16T19:28:42.172Z"
   },
   {
    "duration": 55,
    "start_time": "2022-08-16T19:28:42.178Z"
   },
   {
    "duration": 213,
    "start_time": "2022-08-16T19:28:42.236Z"
   },
   {
    "duration": 153,
    "start_time": "2022-08-16T19:28:42.451Z"
   },
   {
    "duration": 233,
    "start_time": "2022-08-16T19:28:42.606Z"
   },
   {
    "duration": 205,
    "start_time": "2022-08-16T19:28:42.841Z"
   },
   {
    "duration": 356,
    "start_time": "2022-08-16T19:28:43.047Z"
   },
   {
    "duration": 421,
    "start_time": "2022-08-16T19:28:43.405Z"
   },
   {
    "duration": 42,
    "start_time": "2022-08-16T19:28:43.829Z"
   },
   {
    "duration": 114,
    "start_time": "2022-08-16T19:28:43.873Z"
   },
   {
    "duration": 181,
    "start_time": "2022-08-16T19:28:43.989Z"
   },
   {
    "duration": 57,
    "start_time": "2022-08-16T19:28:44.171Z"
   },
   {
    "duration": 280,
    "start_time": "2022-08-16T19:28:44.229Z"
   },
   {
    "duration": 60,
    "start_time": "2022-08-16T19:28:44.511Z"
   },
   {
    "duration": 480,
    "start_time": "2022-08-16T19:28:44.601Z"
   },
   {
    "duration": 50,
    "start_time": "2022-08-16T19:28:45.082Z"
   },
   {
    "duration": 152,
    "start_time": "2022-08-16T19:28:45.134Z"
   },
   {
    "duration": 32,
    "start_time": "2022-08-16T19:28:45.288Z"
   },
   {
    "duration": 94,
    "start_time": "2022-08-16T19:28:45.322Z"
   },
   {
    "duration": 12,
    "start_time": "2022-08-16T19:28:45.417Z"
   },
   {
    "duration": 34,
    "start_time": "2022-08-16T19:28:45.431Z"
   },
   {
    "duration": 7,
    "start_time": "2022-08-16T19:28:45.466Z"
   },
   {
    "duration": 29,
    "start_time": "2022-08-16T19:28:45.475Z"
   },
   {
    "duration": 20,
    "start_time": "2022-08-16T19:28:45.506Z"
   },
   {
    "duration": 13,
    "start_time": "2022-08-16T19:28:45.527Z"
   },
   {
    "duration": 18,
    "start_time": "2022-08-16T19:28:45.541Z"
   },
   {
    "duration": 17,
    "start_time": "2022-08-16T19:28:45.563Z"
   },
   {
    "duration": 13,
    "start_time": "2022-08-16T19:28:45.582Z"
   },
   {
    "duration": 21,
    "start_time": "2022-08-16T19:28:45.597Z"
   },
   {
    "duration": 15,
    "start_time": "2022-08-16T19:28:45.620Z"
   },
   {
    "duration": 15,
    "start_time": "2022-08-16T19:28:45.637Z"
   },
   {
    "duration": 19,
    "start_time": "2022-08-16T19:28:45.654Z"
   },
   {
    "duration": 27,
    "start_time": "2022-08-16T19:28:45.674Z"
   },
   {
    "duration": 53,
    "start_time": "2022-08-16T19:28:45.702Z"
   },
   {
    "duration": 41,
    "start_time": "2022-08-16T19:28:45.756Z"
   },
   {
    "duration": 26,
    "start_time": "2022-08-16T19:28:45.799Z"
   },
   {
    "duration": 44,
    "start_time": "2022-08-16T19:28:45.826Z"
   },
   {
    "duration": 14,
    "start_time": "2022-08-16T19:28:45.873Z"
   },
   {
    "duration": 44,
    "start_time": "2022-08-16T19:28:45.889Z"
   },
   {
    "duration": 41,
    "start_time": "2022-08-16T19:28:45.935Z"
   },
   {
    "duration": 3105,
    "start_time": "2022-08-16T19:28:45.978Z"
   },
   {
    "duration": 24,
    "start_time": "2022-08-16T19:28:49.084Z"
   },
   {
    "duration": 0,
    "start_time": "2022-08-16T19:28:49.109Z"
   },
   {
    "duration": 0,
    "start_time": "2022-08-16T19:28:49.110Z"
   },
   {
    "duration": 19,
    "start_time": "2022-08-16T19:29:31.904Z"
   },
   {
    "duration": 17,
    "start_time": "2022-08-16T19:30:15.325Z"
   },
   {
    "duration": 4,
    "start_time": "2022-08-16T19:30:50.146Z"
   },
   {
    "duration": 6,
    "start_time": "2022-08-16T19:30:50.152Z"
   },
   {
    "duration": 110,
    "start_time": "2022-08-16T19:30:50.160Z"
   },
   {
    "duration": 3,
    "start_time": "2022-08-16T19:30:50.271Z"
   },
   {
    "duration": 57,
    "start_time": "2022-08-16T19:30:50.276Z"
   },
   {
    "duration": 206,
    "start_time": "2022-08-16T19:30:50.335Z"
   },
   {
    "duration": 348,
    "start_time": "2022-08-16T19:30:50.542Z"
   },
   {
    "duration": 231,
    "start_time": "2022-08-16T19:30:50.892Z"
   },
   {
    "duration": 210,
    "start_time": "2022-08-16T19:30:51.124Z"
   },
   {
    "duration": 397,
    "start_time": "2022-08-16T19:30:51.337Z"
   },
   {
    "duration": 279,
    "start_time": "2022-08-16T19:30:51.736Z"
   },
   {
    "duration": 39,
    "start_time": "2022-08-16T19:30:52.017Z"
   },
   {
    "duration": 102,
    "start_time": "2022-08-16T19:30:52.057Z"
   },
   {
    "duration": 178,
    "start_time": "2022-08-16T19:30:52.161Z"
   },
   {
    "duration": 65,
    "start_time": "2022-08-16T19:30:52.341Z"
   },
   {
    "duration": 248,
    "start_time": "2022-08-16T19:30:52.408Z"
   },
   {
    "duration": 69,
    "start_time": "2022-08-16T19:30:52.658Z"
   },
   {
    "duration": 477,
    "start_time": "2022-08-16T19:30:52.728Z"
   },
   {
    "duration": 39,
    "start_time": "2022-08-16T19:30:53.206Z"
   },
   {
    "duration": 158,
    "start_time": "2022-08-16T19:30:53.246Z"
   },
   {
    "duration": 23,
    "start_time": "2022-08-16T19:30:53.406Z"
   },
   {
    "duration": 97,
    "start_time": "2022-08-16T19:30:53.431Z"
   },
   {
    "duration": 10,
    "start_time": "2022-08-16T19:30:53.530Z"
   },
   {
    "duration": 36,
    "start_time": "2022-08-16T19:30:53.542Z"
   },
   {
    "duration": 20,
    "start_time": "2022-08-16T19:30:53.582Z"
   },
   {
    "duration": 22,
    "start_time": "2022-08-16T19:30:53.604Z"
   },
   {
    "duration": 22,
    "start_time": "2022-08-16T19:30:53.627Z"
   },
   {
    "duration": 17,
    "start_time": "2022-08-16T19:30:53.651Z"
   },
   {
    "duration": 28,
    "start_time": "2022-08-16T19:30:53.669Z"
   },
   {
    "duration": 31,
    "start_time": "2022-08-16T19:30:53.698Z"
   },
   {
    "duration": 17,
    "start_time": "2022-08-16T19:30:53.730Z"
   },
   {
    "duration": 23,
    "start_time": "2022-08-16T19:30:53.749Z"
   },
   {
    "duration": 28,
    "start_time": "2022-08-16T19:30:53.774Z"
   },
   {
    "duration": 14,
    "start_time": "2022-08-16T19:30:53.803Z"
   },
   {
    "duration": 26,
    "start_time": "2022-08-16T19:30:53.819Z"
   },
   {
    "duration": 43,
    "start_time": "2022-08-16T19:30:53.847Z"
   },
   {
    "duration": 24,
    "start_time": "2022-08-16T19:30:53.891Z"
   },
   {
    "duration": 30,
    "start_time": "2022-08-16T19:30:53.917Z"
   },
   {
    "duration": 23,
    "start_time": "2022-08-16T19:30:53.949Z"
   },
   {
    "duration": 46,
    "start_time": "2022-08-16T19:30:53.974Z"
   },
   {
    "duration": 9,
    "start_time": "2022-08-16T19:30:54.021Z"
   },
   {
    "duration": 28,
    "start_time": "2022-08-16T19:30:54.032Z"
   },
   {
    "duration": 35,
    "start_time": "2022-08-16T19:30:54.061Z"
   },
   {
    "duration": 3184,
    "start_time": "2022-08-16T19:30:54.098Z"
   },
   {
    "duration": 17,
    "start_time": "2022-08-16T19:31:18.187Z"
   },
   {
    "duration": 6,
    "start_time": "2022-08-16T19:31:42.989Z"
   },
   {
    "duration": 6,
    "start_time": "2022-08-16T19:32:11.964Z"
   },
   {
    "duration": 2407,
    "start_time": "2022-08-16T19:32:12.766Z"
   },
   {
    "duration": 25,
    "start_time": "2022-08-16T19:32:15.175Z"
   },
   {
    "duration": 18,
    "start_time": "2022-08-16T19:32:15.202Z"
   },
   {
    "duration": 3,
    "start_time": "2022-08-16T19:32:15.584Z"
   },
   {
    "duration": 24,
    "start_time": "2022-08-16T19:32:17.266Z"
   },
   {
    "duration": 24,
    "start_time": "2022-08-16T19:32:19.154Z"
   },
   {
    "duration": 111,
    "start_time": "2022-08-16T19:32:24.765Z"
   },
   {
    "duration": 12,
    "start_time": "2022-08-16T19:32:25.146Z"
   },
   {
    "duration": 108,
    "start_time": "2022-08-16T19:32:25.395Z"
   },
   {
    "duration": 3,
    "start_time": "2022-08-16T19:32:25.903Z"
   },
   {
    "duration": 11,
    "start_time": "2022-08-16T19:32:26.627Z"
   },
   {
    "duration": 102,
    "start_time": "2022-08-16T19:32:27.185Z"
   },
   {
    "duration": 4,
    "start_time": "2022-08-16T19:32:28.080Z"
   },
   {
    "duration": 4,
    "start_time": "2022-08-16T19:32:29.416Z"
   },
   {
    "duration": 18,
    "start_time": "2022-08-16T19:32:44.745Z"
   },
   {
    "duration": 15,
    "start_time": "2022-08-16T19:34:54.527Z"
   },
   {
    "duration": 5,
    "start_time": "2022-08-16T19:35:01.045Z"
   },
   {
    "duration": 9,
    "start_time": "2022-08-16T19:35:01.051Z"
   },
   {
    "duration": 107,
    "start_time": "2022-08-16T19:35:01.062Z"
   },
   {
    "duration": 5,
    "start_time": "2022-08-16T19:35:01.171Z"
   },
   {
    "duration": 91,
    "start_time": "2022-08-16T19:35:01.178Z"
   },
   {
    "duration": 242,
    "start_time": "2022-08-16T19:35:01.271Z"
   },
   {
    "duration": 196,
    "start_time": "2022-08-16T19:35:01.515Z"
   },
   {
    "duration": 247,
    "start_time": "2022-08-16T19:35:01.713Z"
   },
   {
    "duration": 268,
    "start_time": "2022-08-16T19:35:01.962Z"
   },
   {
    "duration": 344,
    "start_time": "2022-08-16T19:35:02.232Z"
   },
   {
    "duration": 475,
    "start_time": "2022-08-16T19:35:02.578Z"
   },
   {
    "duration": 47,
    "start_time": "2022-08-16T19:35:03.055Z"
   },
   {
    "duration": 100,
    "start_time": "2022-08-16T19:35:03.104Z"
   },
   {
    "duration": 195,
    "start_time": "2022-08-16T19:35:03.207Z"
   },
   {
    "duration": 46,
    "start_time": "2022-08-16T19:35:03.404Z"
   },
   {
    "duration": 278,
    "start_time": "2022-08-16T19:35:03.451Z"
   },
   {
    "duration": 80,
    "start_time": "2022-08-16T19:35:03.730Z"
   },
   {
    "duration": 485,
    "start_time": "2022-08-16T19:35:03.812Z"
   },
   {
    "duration": 43,
    "start_time": "2022-08-16T19:35:04.300Z"
   },
   {
    "duration": 180,
    "start_time": "2022-08-16T19:35:04.344Z"
   },
   {
    "duration": 29,
    "start_time": "2022-08-16T19:35:04.526Z"
   },
   {
    "duration": 103,
    "start_time": "2022-08-16T19:35:04.557Z"
   },
   {
    "duration": 44,
    "start_time": "2022-08-16T19:35:04.662Z"
   },
   {
    "duration": 33,
    "start_time": "2022-08-16T19:35:04.708Z"
   },
   {
    "duration": 21,
    "start_time": "2022-08-16T19:35:04.744Z"
   },
   {
    "duration": 41,
    "start_time": "2022-08-16T19:35:04.767Z"
   },
   {
    "duration": 35,
    "start_time": "2022-08-16T19:35:04.810Z"
   },
   {
    "duration": 26,
    "start_time": "2022-08-16T19:35:04.847Z"
   },
   {
    "duration": 26,
    "start_time": "2022-08-16T19:35:04.875Z"
   },
   {
    "duration": 27,
    "start_time": "2022-08-16T19:35:04.903Z"
   },
   {
    "duration": 12,
    "start_time": "2022-08-16T19:35:04.932Z"
   },
   {
    "duration": 33,
    "start_time": "2022-08-16T19:35:04.946Z"
   },
   {
    "duration": 23,
    "start_time": "2022-08-16T19:35:04.981Z"
   },
   {
    "duration": 32,
    "start_time": "2022-08-16T19:35:05.007Z"
   },
   {
    "duration": 28,
    "start_time": "2022-08-16T19:35:05.041Z"
   },
   {
    "duration": 23,
    "start_time": "2022-08-16T19:35:05.071Z"
   },
   {
    "duration": 53,
    "start_time": "2022-08-16T19:35:05.096Z"
   },
   {
    "duration": 24,
    "start_time": "2022-08-16T19:35:05.151Z"
   },
   {
    "duration": 27,
    "start_time": "2022-08-16T19:35:05.177Z"
   },
   {
    "duration": 50,
    "start_time": "2022-08-16T19:35:05.206Z"
   },
   {
    "duration": 11,
    "start_time": "2022-08-16T19:35:05.258Z"
   },
   {
    "duration": 40,
    "start_time": "2022-08-16T19:35:05.271Z"
   },
   {
    "duration": 48,
    "start_time": "2022-08-16T19:35:05.313Z"
   },
   {
    "duration": 3411,
    "start_time": "2022-08-16T19:35:05.363Z"
   },
   {
    "duration": 20,
    "start_time": "2022-08-16T19:35:26.624Z"
   },
   {
    "duration": 22,
    "start_time": "2022-08-16T19:36:28.861Z"
   },
   {
    "duration": 8,
    "start_time": "2022-08-16T19:37:16.324Z"
   },
   {
    "duration": 5,
    "start_time": "2022-08-16T19:37:30.685Z"
   },
   {
    "duration": 11,
    "start_time": "2022-08-16T19:37:30.692Z"
   },
   {
    "duration": 110,
    "start_time": "2022-08-16T19:37:30.706Z"
   },
   {
    "duration": 4,
    "start_time": "2022-08-16T19:37:30.818Z"
   },
   {
    "duration": 87,
    "start_time": "2022-08-16T19:37:30.824Z"
   },
   {
    "duration": 208,
    "start_time": "2022-08-16T19:37:30.912Z"
   },
   {
    "duration": 162,
    "start_time": "2022-08-16T19:37:31.122Z"
   },
   {
    "duration": 255,
    "start_time": "2022-08-16T19:37:31.285Z"
   },
   {
    "duration": 308,
    "start_time": "2022-08-16T19:37:31.542Z"
   },
   {
    "duration": 578,
    "start_time": "2022-08-16T19:37:31.852Z"
   },
   {
    "duration": 240,
    "start_time": "2022-08-16T19:37:32.432Z"
   },
   {
    "duration": 44,
    "start_time": "2022-08-16T19:37:32.674Z"
   },
   {
    "duration": 102,
    "start_time": "2022-08-16T19:37:32.720Z"
   },
   {
    "duration": 187,
    "start_time": "2022-08-16T19:37:32.824Z"
   },
   {
    "duration": 48,
    "start_time": "2022-08-16T19:37:33.013Z"
   },
   {
    "duration": 277,
    "start_time": "2022-08-16T19:37:33.063Z"
   },
   {
    "duration": 83,
    "start_time": "2022-08-16T19:37:33.342Z"
   },
   {
    "duration": 478,
    "start_time": "2022-08-16T19:37:33.426Z"
   },
   {
    "duration": 46,
    "start_time": "2022-08-16T19:37:33.906Z"
   },
   {
    "duration": 162,
    "start_time": "2022-08-16T19:37:33.954Z"
   },
   {
    "duration": 25,
    "start_time": "2022-08-16T19:37:34.117Z"
   },
   {
    "duration": 93,
    "start_time": "2022-08-16T19:37:34.144Z"
   },
   {
    "duration": 11,
    "start_time": "2022-08-16T19:37:34.239Z"
   },
   {
    "duration": 50,
    "start_time": "2022-08-16T19:37:34.251Z"
   },
   {
    "duration": 8,
    "start_time": "2022-08-16T19:37:34.305Z"
   },
   {
    "duration": 6,
    "start_time": "2022-08-16T19:37:34.314Z"
   },
   {
    "duration": 7,
    "start_time": "2022-08-16T19:37:34.322Z"
   },
   {
    "duration": 6,
    "start_time": "2022-08-16T19:37:34.330Z"
   },
   {
    "duration": 16,
    "start_time": "2022-08-16T19:37:34.338Z"
   },
   {
    "duration": 46,
    "start_time": "2022-08-16T19:37:34.355Z"
   },
   {
    "duration": 5,
    "start_time": "2022-08-16T19:37:34.402Z"
   },
   {
    "duration": 18,
    "start_time": "2022-08-16T19:37:34.409Z"
   },
   {
    "duration": 6,
    "start_time": "2022-08-16T19:37:34.429Z"
   },
   {
    "duration": 8,
    "start_time": "2022-08-16T19:37:34.437Z"
   },
   {
    "duration": 4,
    "start_time": "2022-08-16T19:37:34.446Z"
   },
   {
    "duration": 7,
    "start_time": "2022-08-16T19:37:34.451Z"
   },
   {
    "duration": 40,
    "start_time": "2022-08-16T19:37:34.460Z"
   },
   {
    "duration": 5,
    "start_time": "2022-08-16T19:37:34.502Z"
   },
   {
    "duration": 8,
    "start_time": "2022-08-16T19:37:34.508Z"
   },
   {
    "duration": 33,
    "start_time": "2022-08-16T19:37:34.517Z"
   },
   {
    "duration": 10,
    "start_time": "2022-08-16T19:37:34.552Z"
   },
   {
    "duration": 42,
    "start_time": "2022-08-16T19:37:34.563Z"
   },
   {
    "duration": 27,
    "start_time": "2022-08-16T19:37:34.606Z"
   },
   {
    "duration": 3127,
    "start_time": "2022-08-16T19:37:34.635Z"
   },
   {
    "duration": 9,
    "start_time": "2022-08-16T19:37:37.764Z"
   },
   {
    "duration": 2364,
    "start_time": "2022-08-16T19:37:37.775Z"
   },
   {
    "duration": 13,
    "start_time": "2022-08-16T19:37:40.141Z"
   },
   {
    "duration": 17,
    "start_time": "2022-08-16T19:37:40.156Z"
   },
   {
    "duration": 26,
    "start_time": "2022-08-16T19:37:40.175Z"
   },
   {
    "duration": 29,
    "start_time": "2022-08-16T19:37:40.203Z"
   },
   {
    "duration": 20,
    "start_time": "2022-08-16T19:37:40.234Z"
   },
   {
    "duration": 410,
    "start_time": "2022-08-16T19:37:40.256Z"
   },
   {
    "duration": 14,
    "start_time": "2022-08-16T19:37:40.668Z"
   },
   {
    "duration": 133,
    "start_time": "2022-08-16T19:37:40.683Z"
   },
   {
    "duration": 4,
    "start_time": "2022-08-16T19:37:40.818Z"
   },
   {
    "duration": 17,
    "start_time": "2022-08-16T19:37:40.823Z"
   },
   {
    "duration": 120,
    "start_time": "2022-08-16T19:37:40.841Z"
   },
   {
    "duration": 4,
    "start_time": "2022-08-16T19:37:40.962Z"
   },
   {
    "duration": 6,
    "start_time": "2022-08-16T19:37:40.967Z"
   },
   {
    "duration": 20,
    "start_time": "2022-08-16T19:38:13.336Z"
   },
   {
    "duration": 434505,
    "start_time": "2022-08-16T19:38:33.825Z"
   },
   {
    "duration": 1589052,
    "start_time": "2022-08-16T19:48:17.606Z"
   },
   {
    "duration": 8,
    "start_time": "2022-08-16T20:14:46.660Z"
   },
   {
    "duration": 4,
    "start_time": "2022-08-16T20:23:46.241Z"
   },
   {
    "duration": 770429,
    "start_time": "2022-08-16T20:24:13.027Z"
   },
   {
    "duration": 687691,
    "start_time": "2022-08-16T20:37:03.458Z"
   },
   {
    "duration": 0,
    "start_time": "2022-08-16T20:48:31.151Z"
   },
   {
    "duration": 975947,
    "start_time": "2022-08-16T20:48:49.191Z"
   },
   {
    "duration": 179073,
    "start_time": "2022-08-16T21:05:05.140Z"
   },
   {
    "duration": 1769,
    "start_time": "2022-08-17T03:28:43.913Z"
   },
   {
    "duration": 3,
    "start_time": "2022-08-17T03:28:45.684Z"
   },
   {
    "duration": 473,
    "start_time": "2022-08-17T03:28:45.689Z"
   },
   {
    "duration": 3,
    "start_time": "2022-08-17T03:28:46.164Z"
   },
   {
    "duration": 68,
    "start_time": "2022-08-17T03:28:46.170Z"
   },
   {
    "duration": 228,
    "start_time": "2022-08-17T03:28:46.240Z"
   },
   {
    "duration": 181,
    "start_time": "2022-08-17T03:28:46.469Z"
   },
   {
    "duration": 357,
    "start_time": "2022-08-17T03:28:46.652Z"
   },
   {
    "duration": 329,
    "start_time": "2022-08-17T03:28:47.011Z"
   },
   {
    "duration": 380,
    "start_time": "2022-08-17T03:28:47.342Z"
   },
   {
    "duration": 287,
    "start_time": "2022-08-17T03:28:47.723Z"
   },
   {
    "duration": 43,
    "start_time": "2022-08-17T03:28:48.012Z"
   },
   {
    "duration": 116,
    "start_time": "2022-08-17T03:28:48.057Z"
   },
   {
    "duration": 222,
    "start_time": "2022-08-17T03:28:48.177Z"
   },
   {
    "duration": 51,
    "start_time": "2022-08-17T03:28:48.401Z"
   },
   {
    "duration": 337,
    "start_time": "2022-08-17T03:28:48.454Z"
   },
   {
    "duration": 103,
    "start_time": "2022-08-17T03:28:48.794Z"
   },
   {
    "duration": 657,
    "start_time": "2022-08-17T03:28:48.899Z"
   },
   {
    "duration": 67,
    "start_time": "2022-08-17T03:28:49.558Z"
   },
   {
    "duration": 179,
    "start_time": "2022-08-17T03:28:49.626Z"
   },
   {
    "duration": 26,
    "start_time": "2022-08-17T03:28:49.806Z"
   },
   {
    "duration": 108,
    "start_time": "2022-08-17T03:28:49.833Z"
   },
   {
    "duration": 14,
    "start_time": "2022-08-17T03:28:49.943Z"
   },
   {
    "duration": 24,
    "start_time": "2022-08-17T03:28:49.991Z"
   },
   {
    "duration": 9,
    "start_time": "2022-08-17T03:28:50.017Z"
   },
   {
    "duration": 6,
    "start_time": "2022-08-17T03:28:50.029Z"
   },
   {
    "duration": 7,
    "start_time": "2022-08-17T03:28:50.037Z"
   },
   {
    "duration": 10,
    "start_time": "2022-08-17T03:28:50.046Z"
   },
   {
    "duration": 44,
    "start_time": "2022-08-17T03:28:50.058Z"
   },
   {
    "duration": 24,
    "start_time": "2022-08-17T03:28:50.104Z"
   },
   {
    "duration": 5,
    "start_time": "2022-08-17T03:28:50.130Z"
   },
   {
    "duration": 15,
    "start_time": "2022-08-17T03:28:50.137Z"
   },
   {
    "duration": 7,
    "start_time": "2022-08-17T03:28:50.154Z"
   },
   {
    "duration": 35,
    "start_time": "2022-08-17T03:28:50.163Z"
   },
   {
    "duration": 17,
    "start_time": "2022-08-17T03:28:50.201Z"
   },
   {
    "duration": 10,
    "start_time": "2022-08-17T03:28:50.220Z"
   },
   {
    "duration": 39,
    "start_time": "2022-08-17T03:28:50.232Z"
   },
   {
    "duration": 22,
    "start_time": "2022-08-17T03:28:50.274Z"
   },
   {
    "duration": 11,
    "start_time": "2022-08-17T03:28:50.298Z"
   },
   {
    "duration": 47,
    "start_time": "2022-08-17T03:28:50.311Z"
   },
   {
    "duration": 30,
    "start_time": "2022-08-17T03:28:50.362Z"
   },
   {
    "duration": 27,
    "start_time": "2022-08-17T03:28:50.393Z"
   },
   {
    "duration": 28,
    "start_time": "2022-08-17T03:28:50.421Z"
   },
   {
    "duration": 3611,
    "start_time": "2022-08-17T03:28:50.451Z"
   },
   {
    "duration": 6,
    "start_time": "2022-08-17T03:28:54.064Z"
   },
   {
    "duration": 3116,
    "start_time": "2022-08-17T03:28:54.073Z"
   },
   {
    "duration": 9,
    "start_time": "2022-08-17T03:28:57.192Z"
   },
   {
    "duration": 142,
    "start_time": "2022-08-17T03:28:57.203Z"
   },
   {
    "duration": 0,
    "start_time": "2022-08-17T03:28:57.347Z"
   },
   {
    "duration": 0,
    "start_time": "2022-08-17T03:28:57.349Z"
   },
   {
    "duration": 0,
    "start_time": "2022-08-17T03:28:57.350Z"
   },
   {
    "duration": 0,
    "start_time": "2022-08-17T03:28:57.352Z"
   },
   {
    "duration": 0,
    "start_time": "2022-08-17T03:28:57.353Z"
   },
   {
    "duration": 0,
    "start_time": "2022-08-17T03:28:57.354Z"
   },
   {
    "duration": 0,
    "start_time": "2022-08-17T03:28:57.355Z"
   },
   {
    "duration": 0,
    "start_time": "2022-08-17T03:28:57.356Z"
   },
   {
    "duration": 0,
    "start_time": "2022-08-17T03:28:57.358Z"
   },
   {
    "duration": 0,
    "start_time": "2022-08-17T03:28:57.359Z"
   },
   {
    "duration": 0,
    "start_time": "2022-08-17T03:28:57.360Z"
   },
   {
    "duration": 4,
    "start_time": "2022-08-17T03:29:18.845Z"
   },
   {
    "duration": 633,
    "start_time": "2022-08-17T03:29:19.490Z"
   },
   {
    "duration": 0,
    "start_time": "2022-08-17T03:29:20.125Z"
   },
   {
    "duration": 26,
    "start_time": "2022-08-17T03:29:37.590Z"
   },
   {
    "duration": 20,
    "start_time": "2022-08-17T03:29:41.552Z"
   },
   {
    "duration": 3,
    "start_time": "2022-08-17T03:30:12.774Z"
   },
   {
    "duration": 16,
    "start_time": "2022-08-17T03:30:14.529Z"
   },
   {
    "duration": 24,
    "start_time": "2022-08-17T03:30:17.362Z"
   },
   {
    "duration": 1596,
    "start_time": "2022-08-17T03:31:33.787Z"
   },
   {
    "duration": 2,
    "start_time": "2022-08-17T03:31:35.386Z"
   },
   {
    "duration": 111,
    "start_time": "2022-08-17T03:31:35.391Z"
   },
   {
    "duration": 4,
    "start_time": "2022-08-17T03:31:35.504Z"
   },
   {
    "duration": 85,
    "start_time": "2022-08-17T03:31:35.510Z"
   },
   {
    "duration": 197,
    "start_time": "2022-08-17T03:31:35.597Z"
   },
   {
    "duration": 170,
    "start_time": "2022-08-17T03:31:35.796Z"
   },
   {
    "duration": 371,
    "start_time": "2022-08-17T03:31:35.968Z"
   },
   {
    "duration": 295,
    "start_time": "2022-08-17T03:31:36.341Z"
   },
   {
    "duration": 399,
    "start_time": "2022-08-17T03:31:36.637Z"
   },
   {
    "duration": 281,
    "start_time": "2022-08-17T03:31:37.039Z"
   },
   {
    "duration": 45,
    "start_time": "2022-08-17T03:31:37.321Z"
   },
   {
    "duration": 123,
    "start_time": "2022-08-17T03:31:37.368Z"
   },
   {
    "duration": 199,
    "start_time": "2022-08-17T03:31:37.495Z"
   },
   {
    "duration": 54,
    "start_time": "2022-08-17T03:31:37.695Z"
   },
   {
    "duration": 322,
    "start_time": "2022-08-17T03:31:37.751Z"
   },
   {
    "duration": 72,
    "start_time": "2022-08-17T03:31:38.074Z"
   },
   {
    "duration": 627,
    "start_time": "2022-08-17T03:31:38.148Z"
   },
   {
    "duration": 42,
    "start_time": "2022-08-17T03:31:38.777Z"
   },
   {
    "duration": 163,
    "start_time": "2022-08-17T03:31:38.820Z"
   },
   {
    "duration": 30,
    "start_time": "2022-08-17T03:31:38.985Z"
   },
   {
    "duration": 104,
    "start_time": "2022-08-17T03:31:39.016Z"
   },
   {
    "duration": 12,
    "start_time": "2022-08-17T03:31:39.121Z"
   },
   {
    "duration": 22,
    "start_time": "2022-08-17T03:31:39.134Z"
   },
   {
    "duration": 37,
    "start_time": "2022-08-17T03:31:39.158Z"
   },
   {
    "duration": 11,
    "start_time": "2022-08-17T03:31:39.197Z"
   },
   {
    "duration": 8,
    "start_time": "2022-08-17T03:31:39.210Z"
   },
   {
    "duration": 12,
    "start_time": "2022-08-17T03:31:39.220Z"
   },
   {
    "duration": 15,
    "start_time": "2022-08-17T03:31:39.234Z"
   },
   {
    "duration": 23,
    "start_time": "2022-08-17T03:31:39.251Z"
   },
   {
    "duration": 6,
    "start_time": "2022-08-17T03:31:39.292Z"
   },
   {
    "duration": 20,
    "start_time": "2022-08-17T03:31:39.300Z"
   },
   {
    "duration": 7,
    "start_time": "2022-08-17T03:31:39.322Z"
   },
   {
    "duration": 11,
    "start_time": "2022-08-17T03:31:39.331Z"
   },
   {
    "duration": 6,
    "start_time": "2022-08-17T03:31:39.343Z"
   },
   {
    "duration": 6,
    "start_time": "2022-08-17T03:31:39.350Z"
   },
   {
    "duration": 51,
    "start_time": "2022-08-17T03:31:39.358Z"
   },
   {
    "duration": 6,
    "start_time": "2022-08-17T03:31:39.410Z"
   },
   {
    "duration": 6,
    "start_time": "2022-08-17T03:31:39.422Z"
   },
   {
    "duration": 36,
    "start_time": "2022-08-17T03:31:39.430Z"
   },
   {
    "duration": 12,
    "start_time": "2022-08-17T03:31:39.491Z"
   },
   {
    "duration": 23,
    "start_time": "2022-08-17T03:31:39.504Z"
   },
   {
    "duration": 23,
    "start_time": "2022-08-17T03:31:39.528Z"
   },
   {
    "duration": 3436,
    "start_time": "2022-08-17T03:31:39.552Z"
   },
   {
    "duration": 5,
    "start_time": "2022-08-17T03:31:42.991Z"
   },
   {
    "duration": 2959,
    "start_time": "2022-08-17T03:31:42.998Z"
   },
   {
    "duration": 10,
    "start_time": "2022-08-17T03:31:45.959Z"
   },
   {
    "duration": 3,
    "start_time": "2022-08-17T03:31:45.971Z"
   },
   {
    "duration": 17,
    "start_time": "2022-08-17T03:31:45.991Z"
   },
   {
    "duration": 19,
    "start_time": "2022-08-17T03:31:46.010Z"
   },
   {
    "duration": 137,
    "start_time": "2022-08-17T03:32:01.731Z"
   },
   {
    "duration": 13,
    "start_time": "2022-08-17T03:32:04.492Z"
   },
   {
    "duration": 115,
    "start_time": "2022-08-17T03:32:04.988Z"
   },
   {
    "duration": 4,
    "start_time": "2022-08-17T03:32:08.148Z"
   },
   {
    "duration": 12,
    "start_time": "2022-08-17T03:32:09.222Z"
   },
   {
    "duration": 131,
    "start_time": "2022-08-17T03:32:10.451Z"
   },
   {
    "duration": 4,
    "start_time": "2022-08-17T03:32:10.775Z"
   },
   {
    "duration": 4,
    "start_time": "2022-08-17T03:32:13.820Z"
   },
   {
    "duration": 4,
    "start_time": "2022-08-17T03:33:47.141Z"
   },
   {
    "duration": 177363,
    "start_time": "2022-08-17T03:33:59.147Z"
   },
   {
    "duration": 301314,
    "start_time": "2022-08-17T03:39:04.096Z"
   },
   {
    "duration": 4,
    "start_time": "2022-08-17T03:44:46.050Z"
   },
   {
    "duration": 846804,
    "start_time": "2022-08-17T03:44:58.418Z"
   },
   {
    "duration": 5,
    "start_time": "2022-08-17T04:02:03.936Z"
   },
   {
    "duration": 157,
    "start_time": "2022-08-17T04:02:09.200Z"
   },
   {
    "duration": 4,
    "start_time": "2022-08-17T04:03:05.670Z"
   },
   {
    "duration": 846846,
    "start_time": "2022-08-17T04:03:08.829Z"
   },
   {
    "duration": 3,
    "start_time": "2022-08-17T04:21:27.093Z"
   },
   {
    "duration": 154,
    "start_time": "2022-08-17T04:21:39.655Z"
   },
   {
    "duration": 4,
    "start_time": "2022-08-17T04:22:31.298Z"
   },
   {
    "duration": 871608,
    "start_time": "2022-08-17T04:22:31.803Z"
   },
   {
    "duration": 156,
    "start_time": "2022-08-17T04:43:57.302Z"
   },
   {
    "duration": 3,
    "start_time": "2022-08-17T04:45:32.331Z"
   },
   {
    "duration": 40552,
    "start_time": "2022-08-17T04:45:41.995Z"
   },
   {
    "duration": 1550,
    "start_time": "2022-08-17T04:48:44.573Z"
   },
   {
    "duration": 2,
    "start_time": "2022-08-17T04:48:46.126Z"
   },
   {
    "duration": 114,
    "start_time": "2022-08-17T04:48:46.130Z"
   },
   {
    "duration": 4,
    "start_time": "2022-08-17T04:48:46.246Z"
   },
   {
    "duration": 69,
    "start_time": "2022-08-17T04:48:46.251Z"
   },
   {
    "duration": 217,
    "start_time": "2022-08-17T04:48:46.322Z"
   },
   {
    "duration": 174,
    "start_time": "2022-08-17T04:48:46.540Z"
   },
   {
    "duration": 342,
    "start_time": "2022-08-17T04:48:46.715Z"
   },
   {
    "duration": 265,
    "start_time": "2022-08-17T04:48:47.058Z"
   },
   {
    "duration": 360,
    "start_time": "2022-08-17T04:48:47.325Z"
   },
   {
    "duration": 278,
    "start_time": "2022-08-17T04:48:47.687Z"
   },
   {
    "duration": 45,
    "start_time": "2022-08-17T04:48:47.968Z"
   },
   {
    "duration": 113,
    "start_time": "2022-08-17T04:48:48.015Z"
   },
   {
    "duration": 212,
    "start_time": "2022-08-17T04:48:48.130Z"
   },
   {
    "duration": 61,
    "start_time": "2022-08-17T04:48:48.344Z"
   },
   {
    "duration": 302,
    "start_time": "2022-08-17T04:48:48.406Z"
   },
   {
    "duration": 85,
    "start_time": "2022-08-17T04:48:48.710Z"
   },
   {
    "duration": 627,
    "start_time": "2022-08-17T04:48:48.796Z"
   },
   {
    "duration": 52,
    "start_time": "2022-08-17T04:48:49.425Z"
   },
   {
    "duration": 155,
    "start_time": "2022-08-17T04:48:49.492Z"
   },
   {
    "duration": 26,
    "start_time": "2022-08-17T04:48:49.650Z"
   },
   {
    "duration": 118,
    "start_time": "2022-08-17T04:48:49.691Z"
   },
   {
    "duration": 14,
    "start_time": "2022-08-17T04:48:49.811Z"
   },
   {
    "duration": 27,
    "start_time": "2022-08-17T04:48:49.827Z"
   },
   {
    "duration": 42,
    "start_time": "2022-08-17T04:48:49.855Z"
   },
   {
    "duration": 7,
    "start_time": "2022-08-17T04:48:49.899Z"
   },
   {
    "duration": 9,
    "start_time": "2022-08-17T04:48:49.907Z"
   },
   {
    "duration": 4,
    "start_time": "2022-08-17T04:48:49.920Z"
   },
   {
    "duration": 17,
    "start_time": "2022-08-17T04:48:49.926Z"
   },
   {
    "duration": 32,
    "start_time": "2022-08-17T04:48:49.944Z"
   },
   {
    "duration": 16,
    "start_time": "2022-08-17T04:48:49.978Z"
   },
   {
    "duration": 16,
    "start_time": "2022-08-17T04:48:49.996Z"
   },
   {
    "duration": 9,
    "start_time": "2022-08-17T04:48:50.014Z"
   },
   {
    "duration": 11,
    "start_time": "2022-08-17T04:48:50.025Z"
   },
   {
    "duration": 5,
    "start_time": "2022-08-17T04:48:50.037Z"
   },
   {
    "duration": 12,
    "start_time": "2022-08-17T04:48:50.044Z"
   },
   {
    "duration": 34,
    "start_time": "2022-08-17T04:48:50.092Z"
   },
   {
    "duration": 11,
    "start_time": "2022-08-17T04:48:50.128Z"
   },
   {
    "duration": 9,
    "start_time": "2022-08-17T04:48:50.141Z"
   },
   {
    "duration": 45,
    "start_time": "2022-08-17T04:48:50.151Z"
   },
   {
    "duration": 11,
    "start_time": "2022-08-17T04:48:50.198Z"
   },
   {
    "duration": 23,
    "start_time": "2022-08-17T04:48:50.211Z"
   },
   {
    "duration": 25,
    "start_time": "2022-08-17T04:48:50.236Z"
   },
   {
    "duration": 3497,
    "start_time": "2022-08-17T04:48:50.291Z"
   },
   {
    "duration": 6,
    "start_time": "2022-08-17T04:48:53.791Z"
   },
   {
    "duration": 2999,
    "start_time": "2022-08-17T04:48:53.798Z"
   },
   {
    "duration": 11,
    "start_time": "2022-08-17T04:48:56.799Z"
   },
   {
    "duration": 3,
    "start_time": "2022-08-17T04:48:56.812Z"
   },
   {
    "duration": 158,
    "start_time": "2022-08-17T04:48:56.817Z"
   },
   {
    "duration": 1,
    "start_time": "2022-08-17T04:48:56.976Z"
   },
   {
    "duration": 0,
    "start_time": "2022-08-17T04:48:56.978Z"
   },
   {
    "duration": 0,
    "start_time": "2022-08-17T04:48:56.979Z"
   },
   {
    "duration": 0,
    "start_time": "2022-08-17T04:48:56.980Z"
   },
   {
    "duration": 0,
    "start_time": "2022-08-17T04:48:56.981Z"
   },
   {
    "duration": 0,
    "start_time": "2022-08-17T04:48:56.992Z"
   },
   {
    "duration": 0,
    "start_time": "2022-08-17T04:48:56.993Z"
   },
   {
    "duration": 0,
    "start_time": "2022-08-17T04:48:56.994Z"
   },
   {
    "duration": 0,
    "start_time": "2022-08-17T04:48:56.995Z"
   },
   {
    "duration": 0,
    "start_time": "2022-08-17T04:48:56.996Z"
   },
   {
    "duration": 0,
    "start_time": "2022-08-17T04:48:56.997Z"
   },
   {
    "duration": 0,
    "start_time": "2022-08-17T04:48:56.998Z"
   },
   {
    "duration": 10,
    "start_time": "2022-08-17T04:48:57.207Z"
   },
   {
    "duration": 4,
    "start_time": "2022-08-17T04:49:45.932Z"
   },
   {
    "duration": 10,
    "start_time": "2022-08-17T04:49:45.938Z"
   },
   {
    "duration": 107,
    "start_time": "2022-08-17T04:49:45.949Z"
   },
   {
    "duration": 6,
    "start_time": "2022-08-17T04:49:46.057Z"
   },
   {
    "duration": 60,
    "start_time": "2022-08-17T04:49:46.066Z"
   },
   {
    "duration": 214,
    "start_time": "2022-08-17T04:49:46.128Z"
   },
   {
    "duration": 180,
    "start_time": "2022-08-17T04:49:46.343Z"
   },
   {
    "duration": 268,
    "start_time": "2022-08-17T04:49:46.525Z"
   },
   {
    "duration": 257,
    "start_time": "2022-08-17T04:49:46.795Z"
   },
   {
    "duration": 370,
    "start_time": "2022-08-17T04:49:47.054Z"
   },
   {
    "duration": 382,
    "start_time": "2022-08-17T04:49:47.426Z"
   },
   {
    "duration": 41,
    "start_time": "2022-08-17T04:49:47.809Z"
   },
   {
    "duration": 112,
    "start_time": "2022-08-17T04:49:47.853Z"
   },
   {
    "duration": 219,
    "start_time": "2022-08-17T04:49:47.968Z"
   },
   {
    "duration": 49,
    "start_time": "2022-08-17T04:49:48.191Z"
   },
   {
    "duration": 314,
    "start_time": "2022-08-17T04:49:48.241Z"
   },
   {
    "duration": 80,
    "start_time": "2022-08-17T04:49:48.556Z"
   },
   {
    "duration": 528,
    "start_time": "2022-08-17T04:49:48.637Z"
   },
   {
    "duration": 56,
    "start_time": "2022-08-17T04:49:49.166Z"
   },
   {
    "duration": 186,
    "start_time": "2022-08-17T04:49:49.224Z"
   },
   {
    "duration": 32,
    "start_time": "2022-08-17T04:49:49.412Z"
   },
   {
    "duration": 110,
    "start_time": "2022-08-17T04:49:49.446Z"
   },
   {
    "duration": 39,
    "start_time": "2022-08-17T04:49:49.558Z"
   },
   {
    "duration": 25,
    "start_time": "2022-08-17T04:49:49.599Z"
   },
   {
    "duration": 7,
    "start_time": "2022-08-17T04:49:49.626Z"
   },
   {
    "duration": 6,
    "start_time": "2022-08-17T04:49:49.635Z"
   },
   {
    "duration": 7,
    "start_time": "2022-08-17T04:49:49.642Z"
   },
   {
    "duration": 9,
    "start_time": "2022-08-17T04:49:49.650Z"
   },
   {
    "duration": 40,
    "start_time": "2022-08-17T04:49:49.661Z"
   },
   {
    "duration": 22,
    "start_time": "2022-08-17T04:49:49.703Z"
   },
   {
    "duration": 5,
    "start_time": "2022-08-17T04:49:49.726Z"
   },
   {
    "duration": 11,
    "start_time": "2022-08-17T04:49:49.733Z"
   },
   {
    "duration": 7,
    "start_time": "2022-08-17T04:49:49.746Z"
   },
   {
    "duration": 41,
    "start_time": "2022-08-17T04:49:49.754Z"
   },
   {
    "duration": 5,
    "start_time": "2022-08-17T04:49:49.796Z"
   },
   {
    "duration": 10,
    "start_time": "2022-08-17T04:49:49.802Z"
   },
   {
    "duration": 21,
    "start_time": "2022-08-17T04:49:49.814Z"
   },
   {
    "duration": 6,
    "start_time": "2022-08-17T04:49:49.837Z"
   },
   {
    "duration": 8,
    "start_time": "2022-08-17T04:49:49.844Z"
   },
   {
    "duration": 57,
    "start_time": "2022-08-17T04:49:49.854Z"
   },
   {
    "duration": 12,
    "start_time": "2022-08-17T04:49:49.915Z"
   },
   {
    "duration": 24,
    "start_time": "2022-08-17T04:49:49.928Z"
   },
   {
    "duration": 49,
    "start_time": "2022-08-17T04:49:49.954Z"
   },
   {
    "duration": 3657,
    "start_time": "2022-08-17T04:49:50.004Z"
   },
   {
    "duration": 6,
    "start_time": "2022-08-17T04:49:53.663Z"
   },
   {
    "duration": 2900,
    "start_time": "2022-08-17T04:49:53.670Z"
   },
   {
    "duration": 20,
    "start_time": "2022-08-17T04:49:56.572Z"
   },
   {
    "duration": 3,
    "start_time": "2022-08-17T04:49:56.593Z"
   },
   {
    "duration": 17,
    "start_time": "2022-08-17T04:49:56.598Z"
   },
   {
    "duration": 20,
    "start_time": "2022-08-17T04:49:56.617Z"
   },
   {
    "duration": 138,
    "start_time": "2022-08-17T04:49:56.638Z"
   },
   {
    "duration": 19,
    "start_time": "2022-08-17T04:49:56.777Z"
   },
   {
    "duration": 143,
    "start_time": "2022-08-17T04:49:56.797Z"
   },
   {
    "duration": 4,
    "start_time": "2022-08-17T04:49:56.942Z"
   },
   {
    "duration": 13,
    "start_time": "2022-08-17T04:49:56.947Z"
   },
   {
    "duration": 138,
    "start_time": "2022-08-17T04:49:56.962Z"
   },
   {
    "duration": 3,
    "start_time": "2022-08-17T04:49:57.102Z"
   },
   {
    "duration": 4,
    "start_time": "2022-08-17T04:49:57.107Z"
   },
   {
    "duration": 5,
    "start_time": "2022-08-17T04:49:57.113Z"
   },
   {
    "duration": 859528,
    "start_time": "2022-08-17T04:49:57.119Z"
   },
   {
    "duration": 5,
    "start_time": "2022-08-17T05:04:16.650Z"
   },
   {
    "duration": 195,
    "start_time": "2022-08-17T05:04:16.657Z"
   },
   {
    "duration": 5,
    "start_time": "2022-08-17T05:04:58.517Z"
   },
   {
    "duration": 291,
    "start_time": "2022-08-17T05:05:02.131Z"
   },
   {
    "duration": 5,
    "start_time": "2022-08-17T05:06:05.908Z"
   },
   {
    "duration": 156,
    "start_time": "2022-08-17T05:06:12.455Z"
   },
   {
    "duration": 15,
    "start_time": "2022-08-17T05:07:21.588Z"
   },
   {
    "duration": 13,
    "start_time": "2022-08-17T05:08:07.022Z"
   },
   {
    "duration": 6,
    "start_time": "2022-08-17T05:08:42.068Z"
   },
   {
    "duration": 154,
    "start_time": "2022-08-17T05:08:59.684Z"
   },
   {
    "duration": 157,
    "start_time": "2022-08-17T05:09:09.361Z"
   },
   {
    "duration": 212260,
    "start_time": "2022-08-17T05:09:36.532Z"
   },
   {
    "duration": 242406,
    "start_time": "2022-08-17T05:13:08.795Z"
   },
   {
    "duration": 303790,
    "start_time": "2022-08-17T05:17:11.203Z"
   },
   {
    "duration": 339842,
    "start_time": "2022-08-17T05:22:14.996Z"
   },
   {
    "duration": 3004,
    "start_time": "2022-08-17T05:27:54.839Z"
   },
   {
    "duration": 33387,
    "start_time": "2022-08-17T05:27:57.845Z"
   },
   {
    "duration": 11,
    "start_time": "2022-08-17T05:28:31.234Z"
   },
   {
    "duration": 0,
    "start_time": "2022-08-17T05:28:31.247Z"
   },
   {
    "duration": 1291989,
    "start_time": "2022-08-17T05:30:08.977Z"
   },
   {
    "duration": 722836,
    "start_time": "2022-08-17T05:51:40.968Z"
   },
   {
    "duration": 168,
    "start_time": "2022-08-17T06:03:43.806Z"
   },
   {
    "duration": 3,
    "start_time": "2022-08-17T06:03:43.976Z"
   },
   {
    "duration": 2160394,
    "start_time": "2022-08-17T06:13:20.136Z"
   },
   {
    "duration": 10,
    "start_time": "2022-08-17T06:49:20.532Z"
   },
   {
    "duration": 0,
    "start_time": "2022-08-17T06:49:20.543Z"
   },
   {
    "duration": 11,
    "start_time": "2022-08-17T06:51:18.916Z"
   },
   {
    "duration": 4,
    "start_time": "2022-08-17T06:53:04.469Z"
   },
   {
    "duration": 10,
    "start_time": "2022-08-17T06:53:12.062Z"
   },
   {
    "duration": 4,
    "start_time": "2022-08-17T06:53:32.295Z"
   },
   {
    "duration": 4,
    "start_time": "2022-08-17T06:53:44.894Z"
   },
   {
    "duration": 3,
    "start_time": "2022-08-17T06:54:00.147Z"
   },
   {
    "duration": 4,
    "start_time": "2022-08-17T06:54:13.159Z"
   },
   {
    "duration": 256,
    "start_time": "2022-08-17T06:54:26.740Z"
   },
   {
    "duration": 174,
    "start_time": "2022-08-17T07:06:05.712Z"
   },
   {
    "duration": 6,
    "start_time": "2022-08-17T07:11:03.793Z"
   },
   {
    "duration": 2605,
    "start_time": "2022-08-18T13:58:19.305Z"
   },
   {
    "duration": 3,
    "start_time": "2022-08-18T13:58:22.291Z"
   },
   {
    "duration": 112,
    "start_time": "2022-08-18T13:58:22.466Z"
   },
   {
    "duration": 4,
    "start_time": "2022-08-18T13:58:51.941Z"
   },
   {
    "duration": 75,
    "start_time": "2022-08-18T13:58:52.506Z"
   },
   {
    "duration": 177,
    "start_time": "2022-08-18T13:58:53.293Z"
   },
   {
    "duration": 138,
    "start_time": "2022-08-18T13:58:54.554Z"
   },
   {
    "duration": 265,
    "start_time": "2022-08-18T13:58:55.000Z"
   },
   {
    "duration": 182,
    "start_time": "2022-08-18T13:58:55.462Z"
   },
   {
    "duration": 285,
    "start_time": "2022-08-18T13:58:55.843Z"
   },
   {
    "duration": 221,
    "start_time": "2022-08-18T13:58:56.130Z"
   },
   {
    "duration": 35,
    "start_time": "2022-08-18T13:58:56.449Z"
   },
   {
    "duration": 77,
    "start_time": "2022-08-18T13:58:56.820Z"
   },
   {
    "duration": 168,
    "start_time": "2022-08-18T13:58:57.032Z"
   },
   {
    "duration": 43,
    "start_time": "2022-08-18T13:58:57.356Z"
   },
   {
    "duration": 235,
    "start_time": "2022-08-18T13:58:57.734Z"
   },
   {
    "duration": 61,
    "start_time": "2022-08-18T13:58:58.027Z"
   },
   {
    "duration": 506,
    "start_time": "2022-08-18T13:58:58.505Z"
   },
   {
    "duration": 55,
    "start_time": "2022-08-18T13:58:59.013Z"
   },
   {
    "duration": 153,
    "start_time": "2022-08-18T13:58:59.069Z"
   },
   {
    "duration": 45,
    "start_time": "2022-08-18T15:35:30.219Z"
   },
   {
    "duration": 1719,
    "start_time": "2022-08-18T15:37:39.396Z"
   },
   {
    "duration": 3,
    "start_time": "2022-08-18T15:37:41.117Z"
   },
   {
    "duration": 326,
    "start_time": "2022-08-18T15:37:41.122Z"
   },
   {
    "duration": 5,
    "start_time": "2022-08-18T15:37:41.452Z"
   },
   {
    "duration": 95,
    "start_time": "2022-08-18T15:37:41.459Z"
   },
   {
    "duration": 214,
    "start_time": "2022-08-18T15:37:41.555Z"
   },
   {
    "duration": 162,
    "start_time": "2022-08-18T15:37:41.771Z"
   },
   {
    "duration": 338,
    "start_time": "2022-08-18T15:37:41.935Z"
   },
   {
    "duration": 279,
    "start_time": "2022-08-18T15:37:42.275Z"
   },
   {
    "duration": 323,
    "start_time": "2022-08-18T15:37:42.556Z"
   },
   {
    "duration": 246,
    "start_time": "2022-08-18T15:37:42.882Z"
   },
   {
    "duration": 38,
    "start_time": "2022-08-18T15:37:43.130Z"
   },
   {
    "duration": 95,
    "start_time": "2022-08-18T15:37:43.169Z"
   },
   {
    "duration": 192,
    "start_time": "2022-08-18T15:37:43.266Z"
   },
   {
    "duration": 52,
    "start_time": "2022-08-18T15:37:43.460Z"
   },
   {
    "duration": 267,
    "start_time": "2022-08-18T15:37:43.514Z"
   },
   {
    "duration": 70,
    "start_time": "2022-08-18T15:37:43.783Z"
   },
   {
    "duration": 660,
    "start_time": "2022-08-18T15:37:43.855Z"
   },
   {
    "duration": 50,
    "start_time": "2022-08-18T15:37:44.517Z"
   },
   {
    "duration": 151,
    "start_time": "2022-08-18T15:37:44.569Z"
   },
   {
    "duration": 28,
    "start_time": "2022-08-18T15:37:44.722Z"
   },
   {
    "duration": 92,
    "start_time": "2022-08-18T15:37:44.751Z"
   },
   {
    "duration": 11,
    "start_time": "2022-08-18T15:37:44.845Z"
   },
   {
    "duration": 47,
    "start_time": "2022-08-18T15:37:44.858Z"
   },
   {
    "duration": 8,
    "start_time": "2022-08-18T15:37:44.907Z"
   },
   {
    "duration": 10,
    "start_time": "2022-08-18T15:37:44.916Z"
   },
   {
    "duration": 8,
    "start_time": "2022-08-18T15:37:44.928Z"
   },
   {
    "duration": 5,
    "start_time": "2022-08-18T15:37:44.940Z"
   },
   {
    "duration": 14,
    "start_time": "2022-08-18T15:37:44.946Z"
   },
   {
    "duration": 44,
    "start_time": "2022-08-18T15:37:44.962Z"
   },
   {
    "duration": 6,
    "start_time": "2022-08-18T15:37:45.008Z"
   },
   {
    "duration": 34,
    "start_time": "2022-08-18T15:37:45.015Z"
   },
   {
    "duration": 10,
    "start_time": "2022-08-18T15:37:45.052Z"
   },
   {
    "duration": 8,
    "start_time": "2022-08-18T15:37:45.064Z"
   },
   {
    "duration": 4,
    "start_time": "2022-08-18T15:37:45.074Z"
   },
   {
    "duration": 7,
    "start_time": "2022-08-18T15:37:45.080Z"
   },
   {
    "duration": 30,
    "start_time": "2022-08-18T15:37:45.088Z"
   },
   {
    "duration": 5,
    "start_time": "2022-08-18T15:37:45.120Z"
   },
   {
    "duration": 7,
    "start_time": "2022-08-18T15:37:45.126Z"
   },
   {
    "duration": 28,
    "start_time": "2022-08-18T15:37:45.135Z"
   },
   {
    "duration": 38,
    "start_time": "2022-08-18T15:37:45.165Z"
   },
   {
    "duration": 22,
    "start_time": "2022-08-18T15:37:45.205Z"
   },
   {
    "duration": 23,
    "start_time": "2022-08-18T15:37:45.229Z"
   },
   {
    "duration": 3125,
    "start_time": "2022-08-18T15:37:45.254Z"
   },
   {
    "duration": 7,
    "start_time": "2022-08-18T15:37:48.380Z"
   },
   {
    "duration": 2720,
    "start_time": "2022-08-18T15:37:48.388Z"
   },
   {
    "duration": 11,
    "start_time": "2022-08-18T15:37:51.110Z"
   },
   {
    "duration": 3,
    "start_time": "2022-08-18T15:37:51.123Z"
   },
   {
    "duration": 27,
    "start_time": "2022-08-18T15:37:51.127Z"
   },
   {
    "duration": 20,
    "start_time": "2022-08-18T15:37:51.156Z"
   },
   {
    "duration": 135,
    "start_time": "2022-08-18T15:37:51.177Z"
   },
   {
    "duration": 13,
    "start_time": "2022-08-18T15:37:51.314Z"
   },
   {
    "duration": 133,
    "start_time": "2022-08-18T15:37:51.329Z"
   },
   {
    "duration": 4,
    "start_time": "2022-08-18T15:37:51.464Z"
   },
   {
    "duration": 31,
    "start_time": "2022-08-18T15:37:51.470Z"
   },
   {
    "duration": 148,
    "start_time": "2022-08-18T15:37:51.503Z"
   },
   {
    "duration": 3,
    "start_time": "2022-08-18T15:37:51.654Z"
   },
   {
    "duration": 20,
    "start_time": "2022-08-18T15:37:51.660Z"
   },
   {
    "duration": 6,
    "start_time": "2022-08-18T15:37:51.682Z"
   },
   {
    "duration": 821709,
    "start_time": "2022-08-18T15:37:51.690Z"
   },
   {
    "duration": 4,
    "start_time": "2022-08-18T16:01:20.375Z"
   },
   {
    "duration": 6,
    "start_time": "2022-08-18T16:10:37.391Z"
   },
   {
    "duration": 73,
    "start_time": "2022-08-18T16:10:55.299Z"
   },
   {
    "duration": 61,
    "start_time": "2022-08-18T16:11:02.700Z"
   },
   {
    "duration": 11,
    "start_time": "2022-08-18T16:11:02.949Z"
   },
   {
    "duration": 5,
    "start_time": "2022-08-18T16:11:20.113Z"
   },
   {
    "duration": 11,
    "start_time": "2022-08-18T16:11:20.914Z"
   },
   {
    "duration": 5,
    "start_time": "2022-08-18T16:11:43.209Z"
   },
   {
    "duration": 282,
    "start_time": "2022-08-18T16:11:43.958Z"
   },
   {
    "duration": 5,
    "start_time": "2022-08-18T16:13:03.299Z"
   },
   {
    "duration": 273,
    "start_time": "2022-08-18T16:13:41.112Z"
   },
   {
    "duration": 282,
    "start_time": "2022-08-18T16:14:08.628Z"
   },
   {
    "duration": 4,
    "start_time": "2022-08-18T16:15:29.205Z"
   },
   {
    "duration": 413,
    "start_time": "2022-08-18T16:15:34.406Z"
   },
   {
    "duration": 1512,
    "start_time": "2022-08-18T16:22:51.506Z"
   },
   {
    "duration": 289,
    "start_time": "2022-08-18T16:23:02.305Z"
   },
   {
    "duration": 351,
    "start_time": "2022-08-18T16:23:17.275Z"
   },
   {
    "duration": 325,
    "start_time": "2022-08-18T16:23:28.994Z"
   },
   {
    "duration": 281,
    "start_time": "2022-08-18T16:23:35.037Z"
   },
   {
    "duration": 272,
    "start_time": "2022-08-18T16:23:40.721Z"
   },
   {
    "duration": 1825,
    "start_time": "2022-08-19T17:02:28.088Z"
   },
   {
    "duration": 1666,
    "start_time": "2022-08-22T16:56:08.099Z"
   },
   {
    "duration": 2,
    "start_time": "2022-08-22T16:56:09.767Z"
   },
   {
    "duration": 343,
    "start_time": "2022-08-22T16:56:09.771Z"
   },
   {
    "duration": 4,
    "start_time": "2022-08-22T16:56:10.116Z"
   },
   {
    "duration": 89,
    "start_time": "2022-08-22T16:56:10.121Z"
   },
   {
    "duration": 220,
    "start_time": "2022-08-22T16:56:10.212Z"
   },
   {
    "duration": 169,
    "start_time": "2022-08-22T16:56:10.434Z"
   },
   {
    "duration": 308,
    "start_time": "2022-08-22T16:56:10.605Z"
   },
   {
    "duration": 294,
    "start_time": "2022-08-22T16:56:10.915Z"
   },
   {
    "duration": 352,
    "start_time": "2022-08-22T16:56:11.212Z"
   },
   {
    "duration": 268,
    "start_time": "2022-08-22T16:56:11.565Z"
   },
   {
    "duration": 64,
    "start_time": "2022-08-22T16:56:11.834Z"
   },
   {
    "duration": 101,
    "start_time": "2022-08-22T16:56:11.901Z"
   },
   {
    "duration": 190,
    "start_time": "2022-08-22T16:56:12.003Z"
   },
   {
    "duration": 59,
    "start_time": "2022-08-22T16:56:12.195Z"
   },
   {
    "duration": 294,
    "start_time": "2022-08-22T16:56:12.256Z"
   },
   {
    "duration": 81,
    "start_time": "2022-08-22T16:56:12.551Z"
   },
   {
    "duration": 629,
    "start_time": "2022-08-22T16:56:12.634Z"
   },
   {
    "duration": 47,
    "start_time": "2022-08-22T16:56:13.265Z"
   },
   {
    "duration": 153,
    "start_time": "2022-08-22T16:56:13.313Z"
   },
   {
    "duration": 37,
    "start_time": "2022-08-22T16:56:13.467Z"
   },
   {
    "duration": 105,
    "start_time": "2022-08-22T16:56:13.505Z"
   },
   {
    "duration": 13,
    "start_time": "2022-08-22T16:56:13.612Z"
   },
   {
    "duration": 27,
    "start_time": "2022-08-22T16:56:13.628Z"
   },
   {
    "duration": 35,
    "start_time": "2022-08-22T16:56:13.657Z"
   },
   {
    "duration": 10,
    "start_time": "2022-08-22T16:56:13.699Z"
   },
   {
    "duration": 8,
    "start_time": "2022-08-22T16:56:13.711Z"
   },
   {
    "duration": 36,
    "start_time": "2022-08-22T16:56:13.725Z"
   },
   {
    "duration": 27,
    "start_time": "2022-08-22T16:56:13.763Z"
   },
   {
    "duration": 25,
    "start_time": "2022-08-22T16:56:13.801Z"
   },
   {
    "duration": 4,
    "start_time": "2022-08-22T16:56:13.828Z"
   },
   {
    "duration": 15,
    "start_time": "2022-08-22T16:56:13.834Z"
   },
   {
    "duration": 7,
    "start_time": "2022-08-22T16:56:13.851Z"
   },
   {
    "duration": 9,
    "start_time": "2022-08-22T16:56:13.860Z"
   },
   {
    "duration": 8,
    "start_time": "2022-08-22T16:56:13.870Z"
   },
   {
    "duration": 8,
    "start_time": "2022-08-22T16:56:13.879Z"
   },
   {
    "duration": 30,
    "start_time": "2022-08-22T16:56:13.888Z"
   },
   {
    "duration": 7,
    "start_time": "2022-08-22T16:56:13.920Z"
   },
   {
    "duration": 8,
    "start_time": "2022-08-22T16:56:13.928Z"
   },
   {
    "duration": 65,
    "start_time": "2022-08-22T16:56:13.938Z"
   },
   {
    "duration": 14,
    "start_time": "2022-08-22T16:56:14.006Z"
   },
   {
    "duration": 22,
    "start_time": "2022-08-22T16:56:14.021Z"
   },
   {
    "duration": 21,
    "start_time": "2022-08-22T16:56:14.044Z"
   },
   {
    "duration": 343,
    "start_time": "2022-08-22T16:56:14.084Z"
   },
   {
    "duration": 5,
    "start_time": "2022-08-22T16:56:14.429Z"
   },
   {
    "duration": 23,
    "start_time": "2022-08-22T16:56:14.436Z"
   },
   {
    "duration": 11,
    "start_time": "2022-08-22T16:56:14.461Z"
   },
   {
    "duration": 26,
    "start_time": "2022-08-22T16:56:14.474Z"
   },
   {
    "duration": 38,
    "start_time": "2022-08-22T16:56:14.504Z"
   },
   {
    "duration": 136,
    "start_time": "2022-08-22T16:56:14.544Z"
   },
   {
    "duration": 19,
    "start_time": "2022-08-22T16:56:14.687Z"
   },
   {
    "duration": 129,
    "start_time": "2022-08-22T16:56:14.708Z"
   },
   {
    "duration": 3,
    "start_time": "2022-08-22T16:56:14.839Z"
   },
   {
    "duration": 22,
    "start_time": "2022-08-22T16:56:14.844Z"
   },
   {
    "duration": 112,
    "start_time": "2022-08-22T16:56:14.868Z"
   },
   {
    "duration": 7,
    "start_time": "2022-08-22T16:56:14.984Z"
   },
   {
    "duration": 24,
    "start_time": "2022-08-22T16:56:14.996Z"
   },
   {
    "duration": 14,
    "start_time": "2022-08-22T16:56:15.022Z"
   },
   {
    "duration": 777542,
    "start_time": "2022-08-22T16:56:15.038Z"
   },
   {
    "duration": 6,
    "start_time": "2022-08-22T17:09:12.583Z"
   },
   {
    "duration": 306,
    "start_time": "2022-08-22T17:09:12.596Z"
   },
   {
    "duration": 4,
    "start_time": "2022-08-22T17:11:13.349Z"
   },
   {
    "duration": 146,
    "start_time": "2022-08-22T17:11:13.642Z"
   },
   {
    "duration": 4,
    "start_time": "2022-08-22T17:11:37.964Z"
   }
  ],
  "kernelspec": {
   "display_name": "Python 3 (ipykernel)",
   "language": "python",
   "name": "python3"
  },
  "language_info": {
   "codemirror_mode": {
    "name": "ipython",
    "version": 3
   },
   "file_extension": ".py",
   "mimetype": "text/x-python",
   "name": "python",
   "nbconvert_exporter": "python",
   "pygments_lexer": "ipython3",
   "version": "3.9.5"
  },
  "toc": {
   "base_numbering": 1,
   "nav_menu": {},
   "number_sections": true,
   "sideBar": true,
   "skip_h1_title": true,
   "title_cell": "Table of Contents",
   "title_sidebar": "Contents",
   "toc_cell": false,
   "toc_position": {},
   "toc_section_display": true,
   "toc_window_display": false
  }
 },
 "nbformat": 4,
 "nbformat_minor": 2
}
