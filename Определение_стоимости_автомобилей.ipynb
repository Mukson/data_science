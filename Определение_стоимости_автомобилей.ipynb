{
 "cells": [
  {
   "cell_type": "markdown",
   "metadata": {},
   "source": [
    "# Определение стоимости автомобилей"
   ]
  },
  {
   "cell_type": "markdown",
   "metadata": {},
   "source": [
    "Сервис по продаже автомобилей с пробегом «Не бит, не крашен» разрабатывает приложение для привлечения новых клиентов. В нём можно быстро узнать рыночную стоимость своего автомобиля. В вашем распоряжении исторические данные: технические характеристики, комплектации и цены автомобилей. Вам нужно построить модель для определения стоимости. \n",
    "\n",
    "Заказчику важны:\n",
    "\n",
    "- качество предсказания;\n",
    "- скорость предсказания;\n",
    "- время обучения."
   ]
  },
  {
   "cell_type": "markdown",
   "metadata": {},
   "source": [
    "Инструкция по выполнению проекта\n",
    "Чтобы усилить исследование, не ограничивайтесь градиентным бустингом. Попробуйте более простые модели — иногда они работают лучше. Это редкие случаи, которые легко пропустить, если всегда применять только бустинг. Поэкспериментируйте и сравните характеристики моделей: скорость работы, точность результата.\n",
    "\n",
    "Обучите разные модели. Для каждой попробуйте различные гиперпараметры.\n",
    "Проанализируйте скорость работы и качество моделей.\n",
    "\n",
    "Примечания:\n",
    "Для оценки качества моделей применяйте метрику RMSE.\n",
    "\n",
    "Самостоятельно освойте библиотеку LightGBM и её средствами постройте модели градиентного бустинга.\n",
    "\n",
    "Время выполнения ячейки кода Jupyter Notebook можно получить специальной командой. Найдите её.\n",
    "\n",
    "Поскольку модель градиентного бустинга может обучаться долго, измените у неё только два-три параметра.\n",
    "\n",
    "Если перестанет работать Jupyter Notebook, удалите лишние переменные оператором del:\n",
    "del features_train \n",
    "\n"
   ]
  },
  {
   "cell_type": "markdown",
   "metadata": {},
   "source": [
    "<h1>Содержание<span class=\"tocSkip\"></span></h1>\n",
    "<div class=\"toc\"><ul class=\"toc-item\"><li><span></span></li></ul></div>"
   ]
  },
  {
   "cell_type": "markdown",
   "metadata": {},
   "source": [
    "# Описание данных\n",
    "\n",
    "Признаки\n",
    "* DateCrawled — дата скачивания анкеты из базы\n",
    "* VehicleType — тип автомобильного кузова\n",
    "* RegistrationYear — год регистрации автомобиля\n",
    "* Gearbox — тип коробки передач\n",
    "* Power — мощность (л. с.)\n",
    "* Model — модель автомобиля\n",
    "* Kilometer — пробег (км)\n",
    "* RegistrationMonth — месяц регистрации автомобиля\n",
    "* FuelType — тип топлива\n",
    "* Brand — марка автомобиля\n",
    "* NotRepaired — была машина в ремонте или нет\n",
    "* DateCreated — дата создания анкеты\n",
    "* NumberOfPictures — количество фотографий автомобиля\n",
    "* PostalCode — почтовый индекс владельца анкеты (пользователя)\n",
    "* LastSeen — дата последней активности пользователя\n",
    "\n",
    "Целевой признак\n",
    "* Price — цена (евро)"
   ]
  },
  {
   "cell_type": "markdown",
   "metadata": {},
   "source": [
    "## Знакомство с данными"
   ]
  },
  {
   "cell_type": "code",
   "execution_count": 169,
   "metadata": {},
   "outputs": [],
   "source": [
    "import pandas as pd\n",
    "import seaborn as sns\n",
    "import numpy as np\n",
    "import matplotlib.pyplot as plt\n",
    "import time\n",
    "\n",
    "from tqdm import tqdm\n",
    "\n",
    "from sklearn.preprocessing import OrdinalEncoder, StandardScaler\n",
    "from sklearn.metrics import r2_score, mean_absolute_error, make_scorer, classification_report, accuracy_score, confusion_matrix, roc_auc_score, roc_curve, recall_score, precision_score,f1_score, mean_squared_error\n",
    "from sklearn.model_selection import train_test_split, cross_val_predict,cross_val_score, GridSearchCV\n",
    "from sklearn.linear_model import LinearRegression\n",
    "from sklearn.ensemble import RandomForestRegressor, GradientBoostingRegressor\n",
    "from sklearn.tree import DecisionTreeRegressor\n",
    "from catboost import CatBoostRegressor\n",
    "from lightgbm import LGBMRegressor\n",
    "\n",
    "import warnings\n",
    "warnings.filterwarnings('ignore')"
   ]
  },
  {
   "cell_type": "code",
   "execution_count": 170,
   "metadata": {},
   "outputs": [],
   "source": [
    "autos_df = pd.read_csv('/datasets/autos.csv')"
   ]
  },
  {
   "cell_type": "code",
   "execution_count": 171,
   "metadata": {},
   "outputs": [],
   "source": [
    "def explore_data(df):\n",
    "    display(\n",
    "        \"Сводная информация:\", df.info(),\n",
    "        \"10 строк:\", df.head(10),\n",
    "        \"Столбцы:\", df.columns,\n",
    "        \"Числовое описание:\", df.describe(),\n",
    "        \"Сумма пропусков:\", df.isna().sum(),\n",
    "        \"Доля пропусков:\", df.isna().mean(),\n",
    "        \"Явные дубликаты:\", df.duplicated().sum(),\n",
    "        \"Корреляция:\", df.corr(),\n",
    "        sns.heatmap(df.corr())\n",
    "    )"
   ]
  },
  {
   "cell_type": "code",
   "execution_count": 172,
   "metadata": {
    "scrolled": true
   },
   "outputs": [
    {
     "name": "stdout",
     "output_type": "stream",
     "text": [
      "<class 'pandas.core.frame.DataFrame'>\n",
      "RangeIndex: 354369 entries, 0 to 354368\n",
      "Data columns (total 16 columns):\n",
      " #   Column             Non-Null Count   Dtype \n",
      "---  ------             --------------   ----- \n",
      " 0   DateCrawled        354369 non-null  object\n",
      " 1   Price              354369 non-null  int64 \n",
      " 2   VehicleType        316879 non-null  object\n",
      " 3   RegistrationYear   354369 non-null  int64 \n",
      " 4   Gearbox            334536 non-null  object\n",
      " 5   Power              354369 non-null  int64 \n",
      " 6   Model              334664 non-null  object\n",
      " 7   Kilometer          354369 non-null  int64 \n",
      " 8   RegistrationMonth  354369 non-null  int64 \n",
      " 9   FuelType           321474 non-null  object\n",
      " 10  Brand              354369 non-null  object\n",
      " 11  NotRepaired        283215 non-null  object\n",
      " 12  DateCreated        354369 non-null  object\n",
      " 13  NumberOfPictures   354369 non-null  int64 \n",
      " 14  PostalCode         354369 non-null  int64 \n",
      " 15  LastSeen           354369 non-null  object\n",
      "dtypes: int64(7), object(9)\n",
      "memory usage: 43.3+ MB\n"
     ]
    },
    {
     "data": {
      "text/plain": [
       "'Сводная информация:'"
      ]
     },
     "metadata": {},
     "output_type": "display_data"
    },
    {
     "data": {
      "text/plain": [
       "None"
      ]
     },
     "metadata": {},
     "output_type": "display_data"
    },
    {
     "data": {
      "text/plain": [
       "'10 строк:'"
      ]
     },
     "metadata": {},
     "output_type": "display_data"
    },
    {
     "data": {
      "text/html": [
       "<div>\n",
       "<style scoped>\n",
       "    .dataframe tbody tr th:only-of-type {\n",
       "        vertical-align: middle;\n",
       "    }\n",
       "\n",
       "    .dataframe tbody tr th {\n",
       "        vertical-align: top;\n",
       "    }\n",
       "\n",
       "    .dataframe thead th {\n",
       "        text-align: right;\n",
       "    }\n",
       "</style>\n",
       "<table border=\"1\" class=\"dataframe\">\n",
       "  <thead>\n",
       "    <tr style=\"text-align: right;\">\n",
       "      <th></th>\n",
       "      <th>DateCrawled</th>\n",
       "      <th>Price</th>\n",
       "      <th>VehicleType</th>\n",
       "      <th>RegistrationYear</th>\n",
       "      <th>Gearbox</th>\n",
       "      <th>Power</th>\n",
       "      <th>Model</th>\n",
       "      <th>Kilometer</th>\n",
       "      <th>RegistrationMonth</th>\n",
       "      <th>FuelType</th>\n",
       "      <th>Brand</th>\n",
       "      <th>NotRepaired</th>\n",
       "      <th>DateCreated</th>\n",
       "      <th>NumberOfPictures</th>\n",
       "      <th>PostalCode</th>\n",
       "      <th>LastSeen</th>\n",
       "    </tr>\n",
       "  </thead>\n",
       "  <tbody>\n",
       "    <tr>\n",
       "      <th>0</th>\n",
       "      <td>2016-03-24 11:52:17</td>\n",
       "      <td>480</td>\n",
       "      <td>NaN</td>\n",
       "      <td>1993</td>\n",
       "      <td>manual</td>\n",
       "      <td>0</td>\n",
       "      <td>golf</td>\n",
       "      <td>150000</td>\n",
       "      <td>0</td>\n",
       "      <td>petrol</td>\n",
       "      <td>volkswagen</td>\n",
       "      <td>NaN</td>\n",
       "      <td>2016-03-24 00:00:00</td>\n",
       "      <td>0</td>\n",
       "      <td>70435</td>\n",
       "      <td>2016-04-07 03:16:57</td>\n",
       "    </tr>\n",
       "    <tr>\n",
       "      <th>1</th>\n",
       "      <td>2016-03-24 10:58:45</td>\n",
       "      <td>18300</td>\n",
       "      <td>coupe</td>\n",
       "      <td>2011</td>\n",
       "      <td>manual</td>\n",
       "      <td>190</td>\n",
       "      <td>NaN</td>\n",
       "      <td>125000</td>\n",
       "      <td>5</td>\n",
       "      <td>gasoline</td>\n",
       "      <td>audi</td>\n",
       "      <td>yes</td>\n",
       "      <td>2016-03-24 00:00:00</td>\n",
       "      <td>0</td>\n",
       "      <td>66954</td>\n",
       "      <td>2016-04-07 01:46:50</td>\n",
       "    </tr>\n",
       "    <tr>\n",
       "      <th>2</th>\n",
       "      <td>2016-03-14 12:52:21</td>\n",
       "      <td>9800</td>\n",
       "      <td>suv</td>\n",
       "      <td>2004</td>\n",
       "      <td>auto</td>\n",
       "      <td>163</td>\n",
       "      <td>grand</td>\n",
       "      <td>125000</td>\n",
       "      <td>8</td>\n",
       "      <td>gasoline</td>\n",
       "      <td>jeep</td>\n",
       "      <td>NaN</td>\n",
       "      <td>2016-03-14 00:00:00</td>\n",
       "      <td>0</td>\n",
       "      <td>90480</td>\n",
       "      <td>2016-04-05 12:47:46</td>\n",
       "    </tr>\n",
       "    <tr>\n",
       "      <th>3</th>\n",
       "      <td>2016-03-17 16:54:04</td>\n",
       "      <td>1500</td>\n",
       "      <td>small</td>\n",
       "      <td>2001</td>\n",
       "      <td>manual</td>\n",
       "      <td>75</td>\n",
       "      <td>golf</td>\n",
       "      <td>150000</td>\n",
       "      <td>6</td>\n",
       "      <td>petrol</td>\n",
       "      <td>volkswagen</td>\n",
       "      <td>no</td>\n",
       "      <td>2016-03-17 00:00:00</td>\n",
       "      <td>0</td>\n",
       "      <td>91074</td>\n",
       "      <td>2016-03-17 17:40:17</td>\n",
       "    </tr>\n",
       "    <tr>\n",
       "      <th>4</th>\n",
       "      <td>2016-03-31 17:25:20</td>\n",
       "      <td>3600</td>\n",
       "      <td>small</td>\n",
       "      <td>2008</td>\n",
       "      <td>manual</td>\n",
       "      <td>69</td>\n",
       "      <td>fabia</td>\n",
       "      <td>90000</td>\n",
       "      <td>7</td>\n",
       "      <td>gasoline</td>\n",
       "      <td>skoda</td>\n",
       "      <td>no</td>\n",
       "      <td>2016-03-31 00:00:00</td>\n",
       "      <td>0</td>\n",
       "      <td>60437</td>\n",
       "      <td>2016-04-06 10:17:21</td>\n",
       "    </tr>\n",
       "    <tr>\n",
       "      <th>5</th>\n",
       "      <td>2016-04-04 17:36:23</td>\n",
       "      <td>650</td>\n",
       "      <td>sedan</td>\n",
       "      <td>1995</td>\n",
       "      <td>manual</td>\n",
       "      <td>102</td>\n",
       "      <td>3er</td>\n",
       "      <td>150000</td>\n",
       "      <td>10</td>\n",
       "      <td>petrol</td>\n",
       "      <td>bmw</td>\n",
       "      <td>yes</td>\n",
       "      <td>2016-04-04 00:00:00</td>\n",
       "      <td>0</td>\n",
       "      <td>33775</td>\n",
       "      <td>2016-04-06 19:17:07</td>\n",
       "    </tr>\n",
       "    <tr>\n",
       "      <th>6</th>\n",
       "      <td>2016-04-01 20:48:51</td>\n",
       "      <td>2200</td>\n",
       "      <td>convertible</td>\n",
       "      <td>2004</td>\n",
       "      <td>manual</td>\n",
       "      <td>109</td>\n",
       "      <td>2_reihe</td>\n",
       "      <td>150000</td>\n",
       "      <td>8</td>\n",
       "      <td>petrol</td>\n",
       "      <td>peugeot</td>\n",
       "      <td>no</td>\n",
       "      <td>2016-04-01 00:00:00</td>\n",
       "      <td>0</td>\n",
       "      <td>67112</td>\n",
       "      <td>2016-04-05 18:18:39</td>\n",
       "    </tr>\n",
       "    <tr>\n",
       "      <th>7</th>\n",
       "      <td>2016-03-21 18:54:38</td>\n",
       "      <td>0</td>\n",
       "      <td>sedan</td>\n",
       "      <td>1980</td>\n",
       "      <td>manual</td>\n",
       "      <td>50</td>\n",
       "      <td>other</td>\n",
       "      <td>40000</td>\n",
       "      <td>7</td>\n",
       "      <td>petrol</td>\n",
       "      <td>volkswagen</td>\n",
       "      <td>no</td>\n",
       "      <td>2016-03-21 00:00:00</td>\n",
       "      <td>0</td>\n",
       "      <td>19348</td>\n",
       "      <td>2016-03-25 16:47:58</td>\n",
       "    </tr>\n",
       "    <tr>\n",
       "      <th>8</th>\n",
       "      <td>2016-04-04 23:42:13</td>\n",
       "      <td>14500</td>\n",
       "      <td>bus</td>\n",
       "      <td>2014</td>\n",
       "      <td>manual</td>\n",
       "      <td>125</td>\n",
       "      <td>c_max</td>\n",
       "      <td>30000</td>\n",
       "      <td>8</td>\n",
       "      <td>petrol</td>\n",
       "      <td>ford</td>\n",
       "      <td>NaN</td>\n",
       "      <td>2016-04-04 00:00:00</td>\n",
       "      <td>0</td>\n",
       "      <td>94505</td>\n",
       "      <td>2016-04-04 23:42:13</td>\n",
       "    </tr>\n",
       "    <tr>\n",
       "      <th>9</th>\n",
       "      <td>2016-03-17 10:53:50</td>\n",
       "      <td>999</td>\n",
       "      <td>small</td>\n",
       "      <td>1998</td>\n",
       "      <td>manual</td>\n",
       "      <td>101</td>\n",
       "      <td>golf</td>\n",
       "      <td>150000</td>\n",
       "      <td>0</td>\n",
       "      <td>NaN</td>\n",
       "      <td>volkswagen</td>\n",
       "      <td>NaN</td>\n",
       "      <td>2016-03-17 00:00:00</td>\n",
       "      <td>0</td>\n",
       "      <td>27472</td>\n",
       "      <td>2016-03-31 17:17:06</td>\n",
       "    </tr>\n",
       "  </tbody>\n",
       "</table>\n",
       "</div>"
      ],
      "text/plain": [
       "           DateCrawled  Price  VehicleType  RegistrationYear Gearbox  Power  \\\n",
       "0  2016-03-24 11:52:17    480          NaN              1993  manual      0   \n",
       "1  2016-03-24 10:58:45  18300        coupe              2011  manual    190   \n",
       "2  2016-03-14 12:52:21   9800          suv              2004    auto    163   \n",
       "3  2016-03-17 16:54:04   1500        small              2001  manual     75   \n",
       "4  2016-03-31 17:25:20   3600        small              2008  manual     69   \n",
       "5  2016-04-04 17:36:23    650        sedan              1995  manual    102   \n",
       "6  2016-04-01 20:48:51   2200  convertible              2004  manual    109   \n",
       "7  2016-03-21 18:54:38      0        sedan              1980  manual     50   \n",
       "8  2016-04-04 23:42:13  14500          bus              2014  manual    125   \n",
       "9  2016-03-17 10:53:50    999        small              1998  manual    101   \n",
       "\n",
       "     Model  Kilometer  RegistrationMonth  FuelType       Brand NotRepaired  \\\n",
       "0     golf     150000                  0    petrol  volkswagen         NaN   \n",
       "1      NaN     125000                  5  gasoline        audi         yes   \n",
       "2    grand     125000                  8  gasoline        jeep         NaN   \n",
       "3     golf     150000                  6    petrol  volkswagen          no   \n",
       "4    fabia      90000                  7  gasoline       skoda          no   \n",
       "5      3er     150000                 10    petrol         bmw         yes   \n",
       "6  2_reihe     150000                  8    petrol     peugeot          no   \n",
       "7    other      40000                  7    petrol  volkswagen          no   \n",
       "8    c_max      30000                  8    petrol        ford         NaN   \n",
       "9     golf     150000                  0       NaN  volkswagen         NaN   \n",
       "\n",
       "           DateCreated  NumberOfPictures  PostalCode             LastSeen  \n",
       "0  2016-03-24 00:00:00                 0       70435  2016-04-07 03:16:57  \n",
       "1  2016-03-24 00:00:00                 0       66954  2016-04-07 01:46:50  \n",
       "2  2016-03-14 00:00:00                 0       90480  2016-04-05 12:47:46  \n",
       "3  2016-03-17 00:00:00                 0       91074  2016-03-17 17:40:17  \n",
       "4  2016-03-31 00:00:00                 0       60437  2016-04-06 10:17:21  \n",
       "5  2016-04-04 00:00:00                 0       33775  2016-04-06 19:17:07  \n",
       "6  2016-04-01 00:00:00                 0       67112  2016-04-05 18:18:39  \n",
       "7  2016-03-21 00:00:00                 0       19348  2016-03-25 16:47:58  \n",
       "8  2016-04-04 00:00:00                 0       94505  2016-04-04 23:42:13  \n",
       "9  2016-03-17 00:00:00                 0       27472  2016-03-31 17:17:06  "
      ]
     },
     "metadata": {},
     "output_type": "display_data"
    },
    {
     "data": {
      "text/plain": [
       "'Столбцы:'"
      ]
     },
     "metadata": {},
     "output_type": "display_data"
    },
    {
     "data": {
      "text/plain": [
       "Index(['DateCrawled', 'Price', 'VehicleType', 'RegistrationYear', 'Gearbox',\n",
       "       'Power', 'Model', 'Kilometer', 'RegistrationMonth', 'FuelType', 'Brand',\n",
       "       'NotRepaired', 'DateCreated', 'NumberOfPictures', 'PostalCode',\n",
       "       'LastSeen'],\n",
       "      dtype='object')"
      ]
     },
     "metadata": {},
     "output_type": "display_data"
    },
    {
     "data": {
      "text/plain": [
       "'Числовое описание:'"
      ]
     },
     "metadata": {},
     "output_type": "display_data"
    },
    {
     "data": {
      "text/html": [
       "<div>\n",
       "<style scoped>\n",
       "    .dataframe tbody tr th:only-of-type {\n",
       "        vertical-align: middle;\n",
       "    }\n",
       "\n",
       "    .dataframe tbody tr th {\n",
       "        vertical-align: top;\n",
       "    }\n",
       "\n",
       "    .dataframe thead th {\n",
       "        text-align: right;\n",
       "    }\n",
       "</style>\n",
       "<table border=\"1\" class=\"dataframe\">\n",
       "  <thead>\n",
       "    <tr style=\"text-align: right;\">\n",
       "      <th></th>\n",
       "      <th>Price</th>\n",
       "      <th>RegistrationYear</th>\n",
       "      <th>Power</th>\n",
       "      <th>Kilometer</th>\n",
       "      <th>RegistrationMonth</th>\n",
       "      <th>NumberOfPictures</th>\n",
       "      <th>PostalCode</th>\n",
       "    </tr>\n",
       "  </thead>\n",
       "  <tbody>\n",
       "    <tr>\n",
       "      <th>count</th>\n",
       "      <td>354369.000000</td>\n",
       "      <td>354369.000000</td>\n",
       "      <td>354369.000000</td>\n",
       "      <td>354369.000000</td>\n",
       "      <td>354369.000000</td>\n",
       "      <td>354369.0</td>\n",
       "      <td>354369.000000</td>\n",
       "    </tr>\n",
       "    <tr>\n",
       "      <th>mean</th>\n",
       "      <td>4416.656776</td>\n",
       "      <td>2004.234448</td>\n",
       "      <td>110.094337</td>\n",
       "      <td>128211.172535</td>\n",
       "      <td>5.714645</td>\n",
       "      <td>0.0</td>\n",
       "      <td>50508.689087</td>\n",
       "    </tr>\n",
       "    <tr>\n",
       "      <th>std</th>\n",
       "      <td>4514.158514</td>\n",
       "      <td>90.227958</td>\n",
       "      <td>189.850405</td>\n",
       "      <td>37905.341530</td>\n",
       "      <td>3.726421</td>\n",
       "      <td>0.0</td>\n",
       "      <td>25783.096248</td>\n",
       "    </tr>\n",
       "    <tr>\n",
       "      <th>min</th>\n",
       "      <td>0.000000</td>\n",
       "      <td>1000.000000</td>\n",
       "      <td>0.000000</td>\n",
       "      <td>5000.000000</td>\n",
       "      <td>0.000000</td>\n",
       "      <td>0.0</td>\n",
       "      <td>1067.000000</td>\n",
       "    </tr>\n",
       "    <tr>\n",
       "      <th>25%</th>\n",
       "      <td>1050.000000</td>\n",
       "      <td>1999.000000</td>\n",
       "      <td>69.000000</td>\n",
       "      <td>125000.000000</td>\n",
       "      <td>3.000000</td>\n",
       "      <td>0.0</td>\n",
       "      <td>30165.000000</td>\n",
       "    </tr>\n",
       "    <tr>\n",
       "      <th>50%</th>\n",
       "      <td>2700.000000</td>\n",
       "      <td>2003.000000</td>\n",
       "      <td>105.000000</td>\n",
       "      <td>150000.000000</td>\n",
       "      <td>6.000000</td>\n",
       "      <td>0.0</td>\n",
       "      <td>49413.000000</td>\n",
       "    </tr>\n",
       "    <tr>\n",
       "      <th>75%</th>\n",
       "      <td>6400.000000</td>\n",
       "      <td>2008.000000</td>\n",
       "      <td>143.000000</td>\n",
       "      <td>150000.000000</td>\n",
       "      <td>9.000000</td>\n",
       "      <td>0.0</td>\n",
       "      <td>71083.000000</td>\n",
       "    </tr>\n",
       "    <tr>\n",
       "      <th>max</th>\n",
       "      <td>20000.000000</td>\n",
       "      <td>9999.000000</td>\n",
       "      <td>20000.000000</td>\n",
       "      <td>150000.000000</td>\n",
       "      <td>12.000000</td>\n",
       "      <td>0.0</td>\n",
       "      <td>99998.000000</td>\n",
       "    </tr>\n",
       "  </tbody>\n",
       "</table>\n",
       "</div>"
      ],
      "text/plain": [
       "               Price  RegistrationYear          Power      Kilometer  \\\n",
       "count  354369.000000     354369.000000  354369.000000  354369.000000   \n",
       "mean     4416.656776       2004.234448     110.094337  128211.172535   \n",
       "std      4514.158514         90.227958     189.850405   37905.341530   \n",
       "min         0.000000       1000.000000       0.000000    5000.000000   \n",
       "25%      1050.000000       1999.000000      69.000000  125000.000000   \n",
       "50%      2700.000000       2003.000000     105.000000  150000.000000   \n",
       "75%      6400.000000       2008.000000     143.000000  150000.000000   \n",
       "max     20000.000000       9999.000000   20000.000000  150000.000000   \n",
       "\n",
       "       RegistrationMonth  NumberOfPictures     PostalCode  \n",
       "count      354369.000000          354369.0  354369.000000  \n",
       "mean            5.714645               0.0   50508.689087  \n",
       "std             3.726421               0.0   25783.096248  \n",
       "min             0.000000               0.0    1067.000000  \n",
       "25%             3.000000               0.0   30165.000000  \n",
       "50%             6.000000               0.0   49413.000000  \n",
       "75%             9.000000               0.0   71083.000000  \n",
       "max            12.000000               0.0   99998.000000  "
      ]
     },
     "metadata": {},
     "output_type": "display_data"
    },
    {
     "data": {
      "text/plain": [
       "'Сумма пропусков:'"
      ]
     },
     "metadata": {},
     "output_type": "display_data"
    },
    {
     "data": {
      "text/plain": [
       "DateCrawled              0\n",
       "Price                    0\n",
       "VehicleType          37490\n",
       "RegistrationYear         0\n",
       "Gearbox              19833\n",
       "Power                    0\n",
       "Model                19705\n",
       "Kilometer                0\n",
       "RegistrationMonth        0\n",
       "FuelType             32895\n",
       "Brand                    0\n",
       "NotRepaired          71154\n",
       "DateCreated              0\n",
       "NumberOfPictures         0\n",
       "PostalCode               0\n",
       "LastSeen                 0\n",
       "dtype: int64"
      ]
     },
     "metadata": {},
     "output_type": "display_data"
    },
    {
     "data": {
      "text/plain": [
       "'Доля пропусков:'"
      ]
     },
     "metadata": {},
     "output_type": "display_data"
    },
    {
     "data": {
      "text/plain": [
       "DateCrawled          0.000000\n",
       "Price                0.000000\n",
       "VehicleType          0.105794\n",
       "RegistrationYear     0.000000\n",
       "Gearbox              0.055967\n",
       "Power                0.000000\n",
       "Model                0.055606\n",
       "Kilometer            0.000000\n",
       "RegistrationMonth    0.000000\n",
       "FuelType             0.092827\n",
       "Brand                0.000000\n",
       "NotRepaired          0.200791\n",
       "DateCreated          0.000000\n",
       "NumberOfPictures     0.000000\n",
       "PostalCode           0.000000\n",
       "LastSeen             0.000000\n",
       "dtype: float64"
      ]
     },
     "metadata": {},
     "output_type": "display_data"
    },
    {
     "data": {
      "text/plain": [
       "'Явные дубликаты:'"
      ]
     },
     "metadata": {},
     "output_type": "display_data"
    },
    {
     "data": {
      "text/plain": [
       "4"
      ]
     },
     "metadata": {},
     "output_type": "display_data"
    },
    {
     "data": {
      "text/plain": [
       "'Корреляция:'"
      ]
     },
     "metadata": {},
     "output_type": "display_data"
    },
    {
     "data": {
      "text/html": [
       "<div>\n",
       "<style scoped>\n",
       "    .dataframe tbody tr th:only-of-type {\n",
       "        vertical-align: middle;\n",
       "    }\n",
       "\n",
       "    .dataframe tbody tr th {\n",
       "        vertical-align: top;\n",
       "    }\n",
       "\n",
       "    .dataframe thead th {\n",
       "        text-align: right;\n",
       "    }\n",
       "</style>\n",
       "<table border=\"1\" class=\"dataframe\">\n",
       "  <thead>\n",
       "    <tr style=\"text-align: right;\">\n",
       "      <th></th>\n",
       "      <th>Price</th>\n",
       "      <th>RegistrationYear</th>\n",
       "      <th>Power</th>\n",
       "      <th>Kilometer</th>\n",
       "      <th>RegistrationMonth</th>\n",
       "      <th>NumberOfPictures</th>\n",
       "      <th>PostalCode</th>\n",
       "    </tr>\n",
       "  </thead>\n",
       "  <tbody>\n",
       "    <tr>\n",
       "      <th>Price</th>\n",
       "      <td>1.000000</td>\n",
       "      <td>0.026916</td>\n",
       "      <td>0.158872</td>\n",
       "      <td>-0.333199</td>\n",
       "      <td>0.110581</td>\n",
       "      <td>NaN</td>\n",
       "      <td>0.076055</td>\n",
       "    </tr>\n",
       "    <tr>\n",
       "      <th>RegistrationYear</th>\n",
       "      <td>0.026916</td>\n",
       "      <td>1.000000</td>\n",
       "      <td>-0.000828</td>\n",
       "      <td>-0.053447</td>\n",
       "      <td>-0.011619</td>\n",
       "      <td>NaN</td>\n",
       "      <td>-0.003459</td>\n",
       "    </tr>\n",
       "    <tr>\n",
       "      <th>Power</th>\n",
       "      <td>0.158872</td>\n",
       "      <td>-0.000828</td>\n",
       "      <td>1.000000</td>\n",
       "      <td>0.024002</td>\n",
       "      <td>0.043380</td>\n",
       "      <td>NaN</td>\n",
       "      <td>0.021665</td>\n",
       "    </tr>\n",
       "    <tr>\n",
       "      <th>Kilometer</th>\n",
       "      <td>-0.333199</td>\n",
       "      <td>-0.053447</td>\n",
       "      <td>0.024002</td>\n",
       "      <td>1.000000</td>\n",
       "      <td>0.009571</td>\n",
       "      <td>NaN</td>\n",
       "      <td>-0.007698</td>\n",
       "    </tr>\n",
       "    <tr>\n",
       "      <th>RegistrationMonth</th>\n",
       "      <td>0.110581</td>\n",
       "      <td>-0.011619</td>\n",
       "      <td>0.043380</td>\n",
       "      <td>0.009571</td>\n",
       "      <td>1.000000</td>\n",
       "      <td>NaN</td>\n",
       "      <td>0.013995</td>\n",
       "    </tr>\n",
       "    <tr>\n",
       "      <th>NumberOfPictures</th>\n",
       "      <td>NaN</td>\n",
       "      <td>NaN</td>\n",
       "      <td>NaN</td>\n",
       "      <td>NaN</td>\n",
       "      <td>NaN</td>\n",
       "      <td>NaN</td>\n",
       "      <td>NaN</td>\n",
       "    </tr>\n",
       "    <tr>\n",
       "      <th>PostalCode</th>\n",
       "      <td>0.076055</td>\n",
       "      <td>-0.003459</td>\n",
       "      <td>0.021665</td>\n",
       "      <td>-0.007698</td>\n",
       "      <td>0.013995</td>\n",
       "      <td>NaN</td>\n",
       "      <td>1.000000</td>\n",
       "    </tr>\n",
       "  </tbody>\n",
       "</table>\n",
       "</div>"
      ],
      "text/plain": [
       "                      Price  RegistrationYear     Power  Kilometer  \\\n",
       "Price              1.000000          0.026916  0.158872  -0.333199   \n",
       "RegistrationYear   0.026916          1.000000 -0.000828  -0.053447   \n",
       "Power              0.158872         -0.000828  1.000000   0.024002   \n",
       "Kilometer         -0.333199         -0.053447  0.024002   1.000000   \n",
       "RegistrationMonth  0.110581         -0.011619  0.043380   0.009571   \n",
       "NumberOfPictures        NaN               NaN       NaN        NaN   \n",
       "PostalCode         0.076055         -0.003459  0.021665  -0.007698   \n",
       "\n",
       "                   RegistrationMonth  NumberOfPictures  PostalCode  \n",
       "Price                       0.110581               NaN    0.076055  \n",
       "RegistrationYear           -0.011619               NaN   -0.003459  \n",
       "Power                       0.043380               NaN    0.021665  \n",
       "Kilometer                   0.009571               NaN   -0.007698  \n",
       "RegistrationMonth           1.000000               NaN    0.013995  \n",
       "NumberOfPictures                 NaN               NaN         NaN  \n",
       "PostalCode                  0.013995               NaN    1.000000  "
      ]
     },
     "metadata": {},
     "output_type": "display_data"
    },
    {
     "data": {
      "text/plain": [
       "<AxesSubplot:>"
      ]
     },
     "metadata": {},
     "output_type": "display_data"
    },
    {
     "data": {
      "image/png": "[encoded data removed]",
      "text/plain": [
       "<Figure size 432x288 with 2 Axes>"
      ]
     },
     "metadata": {
      "needs_background": "light"
     },
     "output_type": "display_data"
    }
   ],
   "source": [
    "explore_data(autos_df)"
   ]
  },
  {
   "cell_type": "markdown",
   "metadata": {},
   "source": [
    "### Вывод\n",
    "\n",
    "* колонки VehicleType, Gearbox, Model, FuelType, NotRepaired, Brand можно попробовать заполнить как unknown\n",
    "* FuelType — тип топлива, проверить уникальные значения, чем отличается petrol от gasoline -- одно и тоже\n",
    "* RegistrationYear надо отфильтровать данные по годам \n",
    "* Power отсечь выбросы \n",
    "* Kilometer странно что медиана совпадает с max, проверить, отсечь выбросы\n",
    "* RegistrationMonth >= 1, 0 быть не должно\n",
    "* NumberOfPictures везде 0. Отставим без изменений. \n",
    "* колонки DateCrawled,DateCreated,LastSeen можно перевести в тип данных date, для анализа,но при обучении модели не будут использованы \n",
    "* Выявлено 4 явных дубликата\n",
    "* сильных корреляция не выявлено"
   ]
  },
  {
   "cell_type": "markdown",
   "metadata": {},
   "source": [
    "## Подготовка данных"
   ]
  },
  {
   "cell_type": "markdown",
   "metadata": {},
   "source": [
    "Скорректируем названия столбцов в питонячем стиле)))"
   ]
  },
  {
   "cell_type": "code",
   "execution_count": 173,
   "metadata": {},
   "outputs": [],
   "source": [
    "autos_df.columns = ['date_crawled', 'price', 'vehicle_type', 'registration_year', 'gearbox',\n",
    "       'power', 'model', 'kilometer', 'registration_month', 'fuel_type', 'brand',\n",
    "       'not_repaired', 'date_created', 'number_of_pictures', 'postal_code',\n",
    "       'last_seen']"
   ]
  },
  {
   "cell_type": "markdown",
   "metadata": {},
   "source": [
    "Выделим категории данных: числовые, категориальные и даты"
   ]
  },
  {
   "cell_type": "code",
   "execution_count": 174,
   "metadata": {},
   "outputs": [],
   "source": [
    "numeric = ['price', 'registration_year', 'power', 'kilometer', 'registration_month',\n",
    "        'number_of_pictures', 'postal_code']\n",
    "categorial = ['vehicle_type','gearbox','not_repaired', 'model', 'fuel_type', 'brand']\n",
    "dates = ['date_crawled', 'date_created', 'last_seen']"
   ]
  },
  {
   "cell_type": "code",
   "execution_count": 175,
   "metadata": {
    "scrolled": false
   },
   "outputs": [],
   "source": [
    "autos_df[['date_crawled','date_created','last_seen']] = autos_df[dates].apply(pd.to_datetime)\n"
   ]
  },
  {
   "cell_type": "markdown",
   "metadata": {},
   "source": [
    "Определим последнюю дату скачивания анкеты из БД, чтобы отфильтровать даныые по году регистрации автомобиля"
   ]
  },
  {
   "cell_type": "code",
   "execution_count": 176,
   "metadata": {},
   "outputs": [
    {
     "data": {
      "text/plain": [
       "Timestamp('2016-04-07 14:36:58')"
      ]
     },
     "execution_count": 176,
     "metadata": {},
     "output_type": "execute_result"
    }
   ],
   "source": [
    "autos_df['date_crawled'].max()"
   ]
  },
  {
   "cell_type": "code",
   "execution_count": 177,
   "metadata": {},
   "outputs": [
    {
     "data": {
      "text/plain": [
       "9999"
      ]
     },
     "execution_count": 177,
     "metadata": {},
     "output_type": "execute_result"
    }
   ],
   "source": [
    "autos_df.registration_year.max()"
   ]
  },
  {
   "cell_type": "markdown",
   "metadata": {},
   "source": [
    "Год регистрации автомобиляотсечем не может превышать 2016"
   ]
  },
  {
   "cell_type": "code",
   "execution_count": 178,
   "metadata": {
    "scrolled": true
   },
   "outputs": [
    {
     "data": {
      "text/plain": [
       "<AxesSubplot:title={'center':'распределение по году регистрации'}, ylabel='Frequency'>"
      ]
     },
     "execution_count": 178,
     "metadata": {},
     "output_type": "execute_result"
    },
    {
     "data": {
      "image/png": "[encoded data removed]",
      "text/plain": [
       "<Figure size 432x288 with 1 Axes>"
      ]
     },
     "metadata": {
      "needs_background": "light"
     },
     "output_type": "display_data"
    }
   ],
   "source": [
    "autos_df[(1900<=autos_df['registration_year']) & (autos_df['registration_year']<=2016)]['registration_year'].plot(kind='hist',bins=55,title='распределение по году регистрации')"
   ]
  },
  {
   "cell_type": "markdown",
   "metadata": {},
   "source": [
    "Основная часть данных располагается в интервале 1990-2016, отфильтровываем"
   ]
  },
  {
   "cell_type": "code",
   "execution_count": 179,
   "metadata": {
    "scrolled": false
   },
   "outputs": [
    {
     "data": {
      "text/plain": [
       "<AxesSubplot:title={'center':'распределение отфильтрованных данных по году регистрации автомобиля'}, ylabel='Frequency'>"
      ]
     },
     "execution_count": 179,
     "metadata": {},
     "output_type": "execute_result"
    },
    {
     "data": {
      "image/png": "[encoded data removed]",
      "text/plain": [
       "<Figure size 432x288 with 1 Axes>"
      ]
     },
     "metadata": {
      "needs_background": "light"
     },
     "output_type": "display_data"
    }
   ],
   "source": [
    "filtered_autos = autos_df[(1990<=autos_df['registration_year']) & (autos_df['registration_year']<=2016)]\n",
    "filtered_autos.registration_year.plot(kind='hist',bins=25, title='распределение отфильтрованных данных по году регистрации автомобиля')"
   ]
  },
  {
   "cell_type": "markdown",
   "metadata": {},
   "source": [
    "Пробег автомобилей ограничен значением 150к, все что ниже 90к считается выбросом, Возможно это более новые автомобили, вполне логично, что их продают реже"
   ]
  },
  {
   "cell_type": "code",
   "execution_count": 180,
   "metadata": {
    "scrolled": false
   },
   "outputs": [
    {
     "data": {
      "text/plain": [
       "<AxesSubplot:xlabel='kilometer'>"
      ]
     },
     "execution_count": 180,
     "metadata": {},
     "output_type": "execute_result"
    },
    {
     "data": {
      "image/png": "[encoded data removed]",
      "text/plain": [
       "<Figure size 432x288 with 1 Axes>"
      ]
     },
     "metadata": {
      "needs_background": "light"
     },
     "output_type": "display_data"
    }
   ],
   "source": [
    "#sns.kdeplot(filtered_autos.kilometer)\n",
    "#filtered_autos.kilometer.value_counts().sort_values().plot(kind='bar')\n",
    "sns.boxplot(x=filtered_autos.kilometer)"
   ]
  },
  {
   "cell_type": "markdown",
   "metadata": {},
   "source": [
    "### Заполнение пропусков"
   ]
  },
  {
   "cell_type": "markdown",
   "metadata": {},
   "source": [
    "Необходимо заполнить пропуски в категориальных данных"
   ]
  },
  {
   "cell_type": "code",
   "execution_count": 181,
   "metadata": {
    "scrolled": false
   },
   "outputs": [
    {
     "data": {
      "text/plain": [
       "vehicle_type    0.066366\n",
       "gearbox         0.049880\n",
       "not_repaired    0.187058\n",
       "model           0.048560\n",
       "fuel_type       0.077575\n",
       "brand           0.000000\n",
       "dtype: float64"
      ]
     },
     "execution_count": 181,
     "metadata": {},
     "output_type": "execute_result"
    }
   ],
   "source": [
    "filtered_autos[categorial].isna().mean()"
   ]
  },
  {
   "cell_type": "markdown",
   "metadata": {},
   "source": [
    "В категориальных значениях заменим пропуски на 'unknown', думаю, другой способ только ухудшит качество"
   ]
  },
  {
   "cell_type": "code",
   "execution_count": 182,
   "metadata": {},
   "outputs": [],
   "source": [
    "filtered_autos[categorial] = filtered_autos[categorial].fillna('unknown')"
   ]
  },
  {
   "cell_type": "markdown",
   "metadata": {},
   "source": [
    "'gasoline' и 'petrol' есть одно и тоже, заменим значения на одинаковое"
   ]
  },
  {
   "cell_type": "code",
   "execution_count": 183,
   "metadata": {
    "scrolled": false
   },
   "outputs": [],
   "source": [
    "filtered_autos.fuel_type = filtered_autos.fuel_type.replace('gasoline', 'petrol')"
   ]
  },
  {
   "cell_type": "markdown",
   "metadata": {},
   "source": [
    "Месяц регистрации не может быть меньше 1. Все нулевые значения равномерно распределим по другим месяцам"
   ]
  },
  {
   "cell_type": "code",
   "execution_count": 184,
   "metadata": {},
   "outputs": [
    {
     "name": "stdout",
     "output_type": "stream",
     "text": [
      "31655 2637 11\n"
     ]
    }
   ],
   "source": [
    "idx = filtered_autos.query('registration_month == 0').index\n",
    "size = len(idx)//12\n",
    "delta = len(idx) - size*12\n",
    "print(len(idx), size,delta)"
   ]
  },
  {
   "cell_type": "code",
   "execution_count": 185,
   "metadata": {},
   "outputs": [
    {
     "data": {
      "text/plain": [
       "3     32304\n",
       "0     31655\n",
       "6     29578\n",
       "4     27421\n",
       "5     27400\n",
       "7     25320\n",
       "10    24802\n",
       "12    22990\n",
       "11    22972\n",
       "9     22582\n",
       "1     21694\n",
       "8     21387\n",
       "2     20065\n",
       "Name: registration_month, dtype: int64"
      ]
     },
     "execution_count": 185,
     "metadata": {},
     "output_type": "execute_result"
    }
   ],
   "source": [
    "filtered_autos.registration_month.value_counts()"
   ]
  },
  {
   "cell_type": "code",
   "execution_count": 186,
   "metadata": {
    "scrolled": true
   },
   "outputs": [],
   "source": [
    "\n",
    "for i in range(1,13):\n",
    "    if i <= delta:\n",
    "        rand_choice = np.random.choice(idx, size=size+1,replace=False)\n",
    "    else:\n",
    "         rand_choice = np.random.choice(idx, size=size,replace=False)\n",
    "    filtered_autos.loc[rand_choice,'registration_month'] = i\n",
    "    #display(i,filtered_autos.loc[rand_choice,'registration_month'],size)\n",
    "    idx = idx[~np.isin(idx, rand_choice)]\n",
    "  "
   ]
  },
  {
   "cell_type": "code",
   "execution_count": 187,
   "metadata": {
    "scrolled": true
   },
   "outputs": [
    {
     "data": {
      "text/plain": [
       "3     34942\n",
       "6     32216\n",
       "4     30059\n",
       "5     30038\n",
       "7     27958\n",
       "10    27440\n",
       "12    25627\n",
       "11    25610\n",
       "9     25220\n",
       "1     24332\n",
       "8     24025\n",
       "2     22703\n",
       "Name: registration_month, dtype: int64"
      ]
     },
     "execution_count": 187,
     "metadata": {},
     "output_type": "execute_result"
    }
   ],
   "source": [
    "filtered_autos.registration_month.value_counts()"
   ]
  },
  {
   "cell_type": "markdown",
   "metadata": {},
   "source": [
    "Нулевые значения пропали. Теперь можно оценить распределеня в данных по категориям"
   ]
  },
  {
   "cell_type": "code",
   "execution_count": 188,
   "metadata": {
    "scrolled": true
   },
   "outputs": [
    {
     "data": {
      "image/png": "[encoded data removed]",
      "text/plain": [
       "<Figure size 1440x288 with 1 Axes>"
      ]
     },
     "metadata": {
      "needs_background": "light"
     },
     "output_type": "display_data"
    },
    {
     "data": {
      "image/png": "[encoded data removed]",
      "text/plain": [
       "<Figure size 1440x288 with 1 Axes>"
      ]
     },
     "metadata": {
      "needs_background": "light"
     },
     "output_type": "display_data"
    },
    {
     "data": {
      "image/png": "[encoded data removed]",
      "text/plain": [
       "<Figure size 1440x288 with 1 Axes>"
      ]
     },
     "metadata": {
      "needs_background": "light"
     },
     "output_type": "display_data"
    },
    {
     "data": {
      "image/png": "[encoded data removed]",
      "text/plain": [
       "<Figure size 1440x288 with 1 Axes>"
      ]
     },
     "metadata": {
      "needs_background": "light"
     },
     "output_type": "display_data"
    },
    {
     "data": {
      "image/png": "[encoded data removed]",
      "text/plain": [
       "<Figure size 1440x288 with 1 Axes>"
      ]
     },
     "metadata": {
      "needs_background": "light"
     },
     "output_type": "display_data"
    },
    {
     "data": {
      "image/png": "[encoded data removed]",
      "text/plain": [
       "<Figure size 1440x288 with 1 Axes>"
      ]
     },
     "metadata": {
      "needs_background": "light"
     },
     "output_type": "display_data"
    }
   ],
   "source": [
    "for column in categorial:\n",
    "    filtered_autos[column].value_counts().plot(kind='bar', title=''+column, figsize=(20,4))\n",
    "    plt.show()"
   ]
  },
  {
   "cell_type": "markdown",
   "metadata": {},
   "source": [
    "В моделях получилось достаточно большое количество занчений `unknown`((( sad. `gearbox` и `no_repaired` можно закодировать с помощью OHE- количество категорий 3, сильно не повлияет на размерность. Для кодировки остальных можно воспользоваться labelencoder"
   ]
  },
  {
   "cell_type": "markdown",
   "metadata": {},
   "source": [
    "### Очистка от выбросов дубликатов"
   ]
  },
  {
   "cell_type": "markdown",
   "metadata": {},
   "source": [
    "Создадим функции, чтобы очистить данные от выбросов"
   ]
  },
  {
   "cell_type": "code",
   "execution_count": 189,
   "metadata": {},
   "outputs": [],
   "source": [
    "# вычисляем Q1-IQR*1.5 и Q3+IQR*1.5 для каждого столбца\n",
    "def count_moustache(descr):\n",
    "    res = {}\n",
    "    for column in descr.columns:\n",
    "        iqr = descr[column]['75%'] - descr[column]['25%']\n",
    "        floor_outlier_tail = descr[column]['25%'] - (iqr) * 1.5\n",
    "        ceiling_outlier_tail = descr[column]['75%'] + (iqr) * 1.5\n",
    "        if floor_outlier_tail < 0: # ни одна из выбранных характеристик набора не может быть < 0\n",
    "            floor_outlier_tail = 0 # поэтому Q1-IQR*1.5 установим в 0\n",
    "        res[column] = (floor_outlier_tail, ceiling_outlier_tail)\n",
    "    return res\n",
    "\n",
    "# отфильтровываем выбросы\n",
    "def filter_data(columns,moustache, data):\n",
    "    filtered_data = data.copy()\n",
    "    for column in columns:\n",
    "        filtered_data = filtered_data[(filtered_data[column] > moustache[column][0]) &\n",
    "                                      (filtered_data[column] < moustache[column][1])]\n",
    "    #display(filtered_data)\n",
    "    return  filtered_data "
   ]
  },
  {
   "cell_type": "code",
   "execution_count": 190,
   "metadata": {},
   "outputs": [],
   "source": [
    "def clean_data(eda_columns, data=autos_df):\n",
    "    describe = data[eda_columns].describe()\n",
    "    #display(data[eda_columns].corr())\n",
    "    #display(sns.heatmap(data[eda_columns].corr()))\n",
    "    moustache = count_moustache(describe) # усы для ящика каждого столбца\n",
    "    print(\"усы: \",moustache)\n",
    "    filtered_data = filter_data(eda_columns, moustache, data)\n",
    "    display(filtered_data.shape, data.shape) # не испортил ли исходный набор\n",
    "    #plot_hists(eda_columns, filtered_data)\n",
    "    display(\"Описание отфильтрованного набора\", filtered_data[eda_columns].describe())\n",
    "    return filtered_data\n",
    "\n"
   ]
  },
  {
   "cell_type": "code",
   "execution_count": 191,
   "metadata": {
    "scrolled": false
   },
   "outputs": [
    {
     "name": "stdout",
     "output_type": "stream",
     "text": [
      "усы:  {'kilometer': (87500.0, 187500.0), 'price': (0, 14601.5), 'power': (0, 251.0)}\n"
     ]
    },
    {
     "data": {
      "text/plain": [
       "(233706, 16)"
      ]
     },
     "metadata": {},
     "output_type": "display_data"
    },
    {
     "data": {
      "text/plain": [
       "(330170, 16)"
      ]
     },
     "metadata": {},
     "output_type": "display_data"
    },
    {
     "data": {
      "text/plain": [
       "'Описание отфильтрованного набора'"
      ]
     },
     "metadata": {},
     "output_type": "display_data"
    },
    {
     "data": {
      "text/html": [
       "<div>\n",
       "<style scoped>\n",
       "    .dataframe tbody tr th:only-of-type {\n",
       "        vertical-align: middle;\n",
       "    }\n",
       "\n",
       "    .dataframe tbody tr th {\n",
       "        vertical-align: top;\n",
       "    }\n",
       "\n",
       "    .dataframe thead th {\n",
       "        text-align: right;\n",
       "    }\n",
       "</style>\n",
       "<table border=\"1\" class=\"dataframe\">\n",
       "  <thead>\n",
       "    <tr style=\"text-align: right;\">\n",
       "      <th></th>\n",
       "      <th>kilometer</th>\n",
       "      <th>price</th>\n",
       "      <th>power</th>\n",
       "    </tr>\n",
       "  </thead>\n",
       "  <tbody>\n",
       "    <tr>\n",
       "      <th>count</th>\n",
       "      <td>233706.000000</td>\n",
       "      <td>233706.000000</td>\n",
       "      <td>233706.000000</td>\n",
       "    </tr>\n",
       "    <tr>\n",
       "      <th>mean</th>\n",
       "      <td>142250.969166</td>\n",
       "      <td>3615.828635</td>\n",
       "      <td>116.229344</td>\n",
       "    </tr>\n",
       "    <tr>\n",
       "      <th>std</th>\n",
       "      <td>16516.579878</td>\n",
       "      <td>3263.847569</td>\n",
       "      <td>44.763605</td>\n",
       "    </tr>\n",
       "    <tr>\n",
       "      <th>min</th>\n",
       "      <td>90000.000000</td>\n",
       "      <td>1.000000</td>\n",
       "      <td>1.000000</td>\n",
       "    </tr>\n",
       "    <tr>\n",
       "      <th>25%</th>\n",
       "      <td>150000.000000</td>\n",
       "      <td>1150.000000</td>\n",
       "      <td>75.000000</td>\n",
       "    </tr>\n",
       "    <tr>\n",
       "      <th>50%</th>\n",
       "      <td>150000.000000</td>\n",
       "      <td>2500.000000</td>\n",
       "      <td>110.000000</td>\n",
       "    </tr>\n",
       "    <tr>\n",
       "      <th>75%</th>\n",
       "      <td>150000.000000</td>\n",
       "      <td>5100.000000</td>\n",
       "      <td>143.000000</td>\n",
       "    </tr>\n",
       "    <tr>\n",
       "      <th>max</th>\n",
       "      <td>150000.000000</td>\n",
       "      <td>14600.000000</td>\n",
       "      <td>250.000000</td>\n",
       "    </tr>\n",
       "  </tbody>\n",
       "</table>\n",
       "</div>"
      ],
      "text/plain": [
       "           kilometer          price          power\n",
       "count  233706.000000  233706.000000  233706.000000\n",
       "mean   142250.969166    3615.828635     116.229344\n",
       "std     16516.579878    3263.847569      44.763605\n",
       "min     90000.000000       1.000000       1.000000\n",
       "25%    150000.000000    1150.000000      75.000000\n",
       "50%    150000.000000    2500.000000     110.000000\n",
       "75%    150000.000000    5100.000000     143.000000\n",
       "max    150000.000000   14600.000000     250.000000"
      ]
     },
     "metadata": {},
     "output_type": "display_data"
    }
   ],
   "source": [
    "outlier_filtered_autos = clean_data(['kilometer', 'price', 'power'], filtered_autos)    "
   ]
  },
  {
   "cell_type": "code",
   "execution_count": 192,
   "metadata": {
    "scrolled": true
   },
   "outputs": [
    {
     "data": {
      "text/plain": [
       "date_crawled          0\n",
       "price                 0\n",
       "vehicle_type          0\n",
       "registration_year     0\n",
       "gearbox               0\n",
       "power                 0\n",
       "model                 0\n",
       "kilometer             0\n",
       "registration_month    0\n",
       "fuel_type             0\n",
       "brand                 0\n",
       "not_repaired          0\n",
       "date_created          0\n",
       "number_of_pictures    0\n",
       "postal_code           0\n",
       "last_seen             0\n",
       "dtype: int64"
      ]
     },
     "execution_count": 192,
     "metadata": {},
     "output_type": "execute_result"
    }
   ],
   "source": [
    "outlier_filtered_autos.isna().sum()"
   ]
  },
  {
   "cell_type": "markdown",
   "metadata": {},
   "source": [
    "Пропусков в \"чистом\" наборе нет, проверим на наличи дубликатов и удалим"
   ]
  },
  {
   "cell_type": "code",
   "execution_count": 193,
   "metadata": {},
   "outputs": [
    {
     "data": {
      "text/plain": [
       "3"
      ]
     },
     "execution_count": 193,
     "metadata": {},
     "output_type": "execute_result"
    }
   ],
   "source": [
    "outlier_filtered_autos.duplicated().sum()"
   ]
  },
  {
   "cell_type": "code",
   "execution_count": 194,
   "metadata": {},
   "outputs": [],
   "source": [
    "outlier_filtered_autos = outlier_filtered_autos.drop_duplicates().reset_index(drop=True)"
   ]
  },
  {
   "cell_type": "code",
   "execution_count": 195,
   "metadata": {
    "scrolled": true
   },
   "outputs": [
    {
     "data": {
      "text/plain": [
       "0"
      ]
     },
     "execution_count": 195,
     "metadata": {},
     "output_type": "execute_result"
    }
   ],
   "source": [
    "outlier_filtered_autos.duplicated().sum()"
   ]
  },
  {
   "cell_type": "markdown",
   "metadata": {},
   "source": [
    "### Кодирование категорий"
   ]
  },
  {
   "cell_type": "markdown",
   "metadata": {},
   "source": [
    "`gearbox` и `no_repaired` можно закодировать с помощью OHE- количество категорий 3, сильно не повлияет на размерность. Для кодировки остальных можно воспользоваться labelencoder"
   ]
  },
  {
   "cell_type": "code",
   "execution_count": 196,
   "metadata": {
    "scrolled": true
   },
   "outputs": [
    {
     "name": "stdout",
     "output_type": "stream",
     "text": [
      "(233703, 16)\n",
      "(233703, 18)\n"
     ]
    }
   ],
   "source": [
    "print(outlier_filtered_autos.shape)\n",
    "outlier_filtered_autos = pd.get_dummies(outlier_filtered_autos, columns=['gearbox','not_repaired'], drop_first=True)\n",
    "print(outlier_filtered_autos.shape)"
   ]
  },
  {
   "cell_type": "code",
   "execution_count": 197,
   "metadata": {},
   "outputs": [],
   "source": [
    "\n",
    "encoder = OrdinalEncoder()\n",
    "outlier_filtered_autos[['vehicle_type', 'model', 'fuel_type', 'brand']] = encoder.fit_transform(outlier_filtered_autos[['vehicle_type', 'model', 'fuel_type', 'brand']])"
   ]
  },
  {
   "cell_type": "code",
   "execution_count": 198,
   "metadata": {
    "scrolled": false
   },
   "outputs": [
    {
     "name": "stdout",
     "output_type": "stream",
     "text": [
      "<class 'pandas.core.frame.DataFrame'>\n",
      "RangeIndex: 5 entries, 0 to 4\n",
      "Data columns (total 18 columns):\n",
      " #   Column                Non-Null Count  Dtype         \n",
      "---  ------                --------------  -----         \n",
      " 0   date_crawled          5 non-null      datetime64[ns]\n",
      " 1   price                 5 non-null      int64         \n",
      " 2   vehicle_type          5 non-null      float64       \n",
      " 3   registration_year     5 non-null      int64         \n",
      " 4   power                 5 non-null      int64         \n",
      " 5   model                 5 non-null      float64       \n",
      " 6   kilometer             5 non-null      int64         \n",
      " 7   registration_month    5 non-null      int64         \n",
      " 8   fuel_type             5 non-null      float64       \n",
      " 9   brand                 5 non-null      float64       \n",
      " 10  date_created          5 non-null      datetime64[ns]\n",
      " 11  number_of_pictures    5 non-null      int64         \n",
      " 12  postal_code           5 non-null      int64         \n",
      " 13  last_seen             5 non-null      datetime64[ns]\n",
      " 14  gearbox_manual        5 non-null      uint8         \n",
      " 15  gearbox_unknown       5 non-null      uint8         \n",
      " 16  not_repaired_unknown  5 non-null      uint8         \n",
      " 17  not_repaired_yes      5 non-null      uint8         \n",
      "dtypes: datetime64[ns](3), float64(4), int64(7), uint8(4)\n",
      "memory usage: 708.0 bytes\n"
     ]
    }
   ],
   "source": [
    "outlier_filtered_autos.head().info()"
   ]
  },
  {
   "cell_type": "markdown",
   "metadata": {},
   "source": [
    "### разделение набора"
   ]
  },
  {
   "cell_type": "code",
   "execution_count": 199,
   "metadata": {},
   "outputs": [],
   "source": [
    "features = outlier_filtered_autos.drop(dates+['price'], axis=1)\n",
    "target = outlier_filtered_autos['price']"
   ]
  },
  {
   "cell_type": "code",
   "execution_count": 200,
   "metadata": {},
   "outputs": [
    {
     "name": "stdout",
     "output_type": "stream",
     "text": [
      "<class 'pandas.core.frame.DataFrame'>\n",
      "RangeIndex: 233703 entries, 0 to 233702\n",
      "Data columns (total 14 columns):\n",
      " #   Column                Non-Null Count   Dtype  \n",
      "---  ------                --------------   -----  \n",
      " 0   vehicle_type          233703 non-null  float64\n",
      " 1   registration_year     233703 non-null  int64  \n",
      " 2   power                 233703 non-null  int64  \n",
      " 3   model                 233703 non-null  float64\n",
      " 4   kilometer             233703 non-null  int64  \n",
      " 5   registration_month    233703 non-null  int64  \n",
      " 6   fuel_type             233703 non-null  float64\n",
      " 7   brand                 233703 non-null  float64\n",
      " 8   number_of_pictures    233703 non-null  int64  \n",
      " 9   postal_code           233703 non-null  int64  \n",
      " 10  gearbox_manual        233703 non-null  uint8  \n",
      " 11  gearbox_unknown       233703 non-null  uint8  \n",
      " 12  not_repaired_unknown  233703 non-null  uint8  \n",
      " 13  not_repaired_yes      233703 non-null  uint8  \n",
      "dtypes: float64(4), int64(6), uint8(4)\n",
      "memory usage: 18.7 MB\n"
     ]
    }
   ],
   "source": [
    "features.info()"
   ]
  },
  {
   "cell_type": "code",
   "execution_count": 201,
   "metadata": {},
   "outputs": [],
   "source": [
    "features_train, features_test, target_train, target_test = train_test_split(features, target, test_size=0.25, random_state=12345)"
   ]
  },
  {
   "cell_type": "code",
   "execution_count": 202,
   "metadata": {
    "scrolled": false
   },
   "outputs": [
    {
     "data": {
      "text/html": [
       "<div>\n",
       "<style scoped>\n",
       "    .dataframe tbody tr th:only-of-type {\n",
       "        vertical-align: middle;\n",
       "    }\n",
       "\n",
       "    .dataframe tbody tr th {\n",
       "        vertical-align: top;\n",
       "    }\n",
       "\n",
       "    .dataframe thead th {\n",
       "        text-align: right;\n",
       "    }\n",
       "</style>\n",
       "<table border=\"1\" class=\"dataframe\">\n",
       "  <thead>\n",
       "    <tr style=\"text-align: right;\">\n",
       "      <th></th>\n",
       "      <th>vehicle_type</th>\n",
       "      <th>registration_year</th>\n",
       "      <th>power</th>\n",
       "      <th>model</th>\n",
       "      <th>kilometer</th>\n",
       "      <th>registration_month</th>\n",
       "      <th>fuel_type</th>\n",
       "      <th>brand</th>\n",
       "      <th>number_of_pictures</th>\n",
       "      <th>postal_code</th>\n",
       "      <th>gearbox_manual</th>\n",
       "      <th>gearbox_unknown</th>\n",
       "      <th>not_repaired_unknown</th>\n",
       "      <th>not_repaired_yes</th>\n",
       "    </tr>\n",
       "  </thead>\n",
       "  <tbody>\n",
       "    <tr>\n",
       "      <th>26158</th>\n",
       "      <td>5.0</td>\n",
       "      <td>2000</td>\n",
       "      <td>58</td>\n",
       "      <td>222.0</td>\n",
       "      <td>150000</td>\n",
       "      <td>6</td>\n",
       "      <td>5.0</td>\n",
       "      <td>27.0</td>\n",
       "      <td>0</td>\n",
       "      <td>47249</td>\n",
       "      <td>1</td>\n",
       "      <td>0</td>\n",
       "      <td>0</td>\n",
       "      <td>0</td>\n",
       "    </tr>\n",
       "    <tr>\n",
       "      <th>136927</th>\n",
       "      <td>7.0</td>\n",
       "      <td>2016</td>\n",
       "      <td>55</td>\n",
       "      <td>74.0</td>\n",
       "      <td>125000</td>\n",
       "      <td>9</td>\n",
       "      <td>5.0</td>\n",
       "      <td>27.0</td>\n",
       "      <td>0</td>\n",
       "      <td>3130</td>\n",
       "      <td>1</td>\n",
       "      <td>0</td>\n",
       "      <td>1</td>\n",
       "      <td>0</td>\n",
       "    </tr>\n",
       "    <tr>\n",
       "      <th>60095</th>\n",
       "      <td>8.0</td>\n",
       "      <td>2006</td>\n",
       "      <td>150</td>\n",
       "      <td>230.0</td>\n",
       "      <td>150000</td>\n",
       "      <td>7</td>\n",
       "      <td>5.0</td>\n",
       "      <td>24.0</td>\n",
       "      <td>0</td>\n",
       "      <td>88339</td>\n",
       "      <td>1</td>\n",
       "      <td>0</td>\n",
       "      <td>1</td>\n",
       "      <td>0</td>\n",
       "    </tr>\n",
       "    <tr>\n",
       "      <th>101955</th>\n",
       "      <td>4.0</td>\n",
       "      <td>2009</td>\n",
       "      <td>55</td>\n",
       "      <td>8.0</td>\n",
       "      <td>150000</td>\n",
       "      <td>8</td>\n",
       "      <td>5.0</td>\n",
       "      <td>25.0</td>\n",
       "      <td>0</td>\n",
       "      <td>45127</td>\n",
       "      <td>1</td>\n",
       "      <td>0</td>\n",
       "      <td>0</td>\n",
       "      <td>0</td>\n",
       "    </tr>\n",
       "    <tr>\n",
       "      <th>153891</th>\n",
       "      <td>6.0</td>\n",
       "      <td>2006</td>\n",
       "      <td>177</td>\n",
       "      <td>184.0</td>\n",
       "      <td>150000</td>\n",
       "      <td>10</td>\n",
       "      <td>5.0</td>\n",
       "      <td>36.0</td>\n",
       "      <td>0</td>\n",
       "      <td>83714</td>\n",
       "      <td>1</td>\n",
       "      <td>0</td>\n",
       "      <td>0</td>\n",
       "      <td>0</td>\n",
       "    </tr>\n",
       "  </tbody>\n",
       "</table>\n",
       "</div>"
      ],
      "text/plain": [
       "        vehicle_type  registration_year  power  model  kilometer  \\\n",
       "26158            5.0               2000     58  222.0     150000   \n",
       "136927           7.0               2016     55   74.0     125000   \n",
       "60095            8.0               2006    150  230.0     150000   \n",
       "101955           4.0               2009     55    8.0     150000   \n",
       "153891           6.0               2006    177  184.0     150000   \n",
       "\n",
       "        registration_month  fuel_type  brand  number_of_pictures  postal_code  \\\n",
       "26158                    6        5.0   27.0                   0        47249   \n",
       "136927                   9        5.0   27.0                   0         3130   \n",
       "60095                    7        5.0   24.0                   0        88339   \n",
       "101955                   8        5.0   25.0                   0        45127   \n",
       "153891                  10        5.0   36.0                   0        83714   \n",
       "\n",
       "        gearbox_manual  gearbox_unknown  not_repaired_unknown  \\\n",
       "26158                1                0                     0   \n",
       "136927               1                0                     1   \n",
       "60095                1                0                     1   \n",
       "101955               1                0                     0   \n",
       "153891               1                0                     0   \n",
       "\n",
       "        not_repaired_yes  \n",
       "26158                  0  \n",
       "136927                 0  \n",
       "60095                  0  \n",
       "101955                 0  \n",
       "153891                 0  "
      ]
     },
     "execution_count": 202,
     "metadata": {},
     "output_type": "execute_result"
    }
   ],
   "source": [
    "features_train.head()"
   ]
  },
  {
   "cell_type": "markdown",
   "metadata": {},
   "source": [
    "\n",
    "В данных присутствует константный признак, его надо удалить."
   ]
  },
  {
   "cell_type": "code",
   "execution_count": 203,
   "metadata": {},
   "outputs": [],
   "source": [
    "features_train = features_train.drop('number_of_pictures', axis=1)\n",
    "features_test = features_test.drop('number_of_pictures', axis=1)"
   ]
  },
  {
   "cell_type": "code",
   "execution_count": 204,
   "metadata": {},
   "outputs": [],
   "source": [
    "features_numeric = numeric\n",
    "features_numeric = list(set(numeric) - set(['number_of_pictures','price']))"
   ]
  },
  {
   "cell_type": "code",
   "execution_count": 205,
   "metadata": {},
   "outputs": [
    {
     "data": {
      "text/plain": [
       "['kilometer',\n",
       " 'registration_year',\n",
       " 'registration_month',\n",
       " 'postal_code',\n",
       " 'power']"
      ]
     },
     "execution_count": 205,
     "metadata": {},
     "output_type": "execute_result"
    }
   ],
   "source": [
    "features_numeric"
   ]
  },
  {
   "cell_type": "markdown",
   "metadata": {},
   "source": [
    "### Масштабирование"
   ]
  },
  {
   "cell_type": "code",
   "execution_count": 206,
   "metadata": {},
   "outputs": [],
   "source": [
    "scaler = StandardScaler()\n",
    "scaler.fit(features_train[features_numeric])\n",
    "features_train[features_numeric] = scaler.transform(features_train[features_numeric])\n",
    "features_test[features_numeric] = scaler.transform(features_test[features_numeric])"
   ]
  },
  {
   "cell_type": "code",
   "execution_count": 207,
   "metadata": {
    "scrolled": true
   },
   "outputs": [
    {
     "data": {
      "text/html": [
       "<div>\n",
       "<style scoped>\n",
       "    .dataframe tbody tr th:only-of-type {\n",
       "        vertical-align: middle;\n",
       "    }\n",
       "\n",
       "    .dataframe tbody tr th {\n",
       "        vertical-align: top;\n",
       "    }\n",
       "\n",
       "    .dataframe thead th {\n",
       "        text-align: right;\n",
       "    }\n",
       "</style>\n",
       "<table border=\"1\" class=\"dataframe\">\n",
       "  <thead>\n",
       "    <tr style=\"text-align: right;\">\n",
       "      <th></th>\n",
       "      <th>vehicle_type</th>\n",
       "      <th>registration_year</th>\n",
       "      <th>power</th>\n",
       "      <th>model</th>\n",
       "      <th>kilometer</th>\n",
       "      <th>registration_month</th>\n",
       "      <th>fuel_type</th>\n",
       "      <th>brand</th>\n",
       "      <th>postal_code</th>\n",
       "      <th>gearbox_manual</th>\n",
       "      <th>gearbox_unknown</th>\n",
       "      <th>not_repaired_unknown</th>\n",
       "      <th>not_repaired_yes</th>\n",
       "    </tr>\n",
       "  </thead>\n",
       "  <tbody>\n",
       "    <tr>\n",
       "      <th>26158</th>\n",
       "      <td>5.0</td>\n",
       "      <td>-0.450894</td>\n",
       "      <td>-1.300939</td>\n",
       "      <td>222.0</td>\n",
       "      <td>0.469445</td>\n",
       "      <td>-0.116633</td>\n",
       "      <td>5.0</td>\n",
       "      <td>27.0</td>\n",
       "      <td>-0.144027</td>\n",
       "      <td>1</td>\n",
       "      <td>0</td>\n",
       "      <td>0</td>\n",
       "      <td>0</td>\n",
       "    </tr>\n",
       "    <tr>\n",
       "      <th>136927</th>\n",
       "      <td>7.0</td>\n",
       "      <td>2.706785</td>\n",
       "      <td>-1.367949</td>\n",
       "      <td>74.0</td>\n",
       "      <td>-1.044305</td>\n",
       "      <td>0.775247</td>\n",
       "      <td>5.0</td>\n",
       "      <td>27.0</td>\n",
       "      <td>-1.861387</td>\n",
       "      <td>1</td>\n",
       "      <td>0</td>\n",
       "      <td>1</td>\n",
       "      <td>0</td>\n",
       "    </tr>\n",
       "    <tr>\n",
       "      <th>60095</th>\n",
       "      <td>8.0</td>\n",
       "      <td>0.733236</td>\n",
       "      <td>0.754033</td>\n",
       "      <td>230.0</td>\n",
       "      <td>0.469445</td>\n",
       "      <td>0.180660</td>\n",
       "      <td>5.0</td>\n",
       "      <td>24.0</td>\n",
       "      <td>1.455428</td>\n",
       "      <td>1</td>\n",
       "      <td>0</td>\n",
       "      <td>1</td>\n",
       "      <td>0</td>\n",
       "    </tr>\n",
       "    <tr>\n",
       "      <th>101955</th>\n",
       "      <td>4.0</td>\n",
       "      <td>1.325300</td>\n",
       "      <td>-1.367949</td>\n",
       "      <td>8.0</td>\n",
       "      <td>0.469445</td>\n",
       "      <td>0.477954</td>\n",
       "      <td>5.0</td>\n",
       "      <td>25.0</td>\n",
       "      <td>-0.226627</td>\n",
       "      <td>1</td>\n",
       "      <td>0</td>\n",
       "      <td>0</td>\n",
       "      <td>0</td>\n",
       "    </tr>\n",
       "    <tr>\n",
       "      <th>153891</th>\n",
       "      <td>6.0</td>\n",
       "      <td>0.733236</td>\n",
       "      <td>1.357123</td>\n",
       "      <td>184.0</td>\n",
       "      <td>0.469445</td>\n",
       "      <td>1.072541</td>\n",
       "      <td>5.0</td>\n",
       "      <td>36.0</td>\n",
       "      <td>1.275397</td>\n",
       "      <td>1</td>\n",
       "      <td>0</td>\n",
       "      <td>0</td>\n",
       "      <td>0</td>\n",
       "    </tr>\n",
       "    <tr>\n",
       "      <th>...</th>\n",
       "      <td>...</td>\n",
       "      <td>...</td>\n",
       "      <td>...</td>\n",
       "      <td>...</td>\n",
       "      <td>...</td>\n",
       "      <td>...</td>\n",
       "      <td>...</td>\n",
       "      <td>...</td>\n",
       "      <td>...</td>\n",
       "      <td>...</td>\n",
       "      <td>...</td>\n",
       "      <td>...</td>\n",
       "      <td>...</td>\n",
       "    </tr>\n",
       "    <tr>\n",
       "      <th>85412</th>\n",
       "      <td>5.0</td>\n",
       "      <td>-1.042959</td>\n",
       "      <td>-1.591315</td>\n",
       "      <td>82.0</td>\n",
       "      <td>0.469445</td>\n",
       "      <td>-0.116633</td>\n",
       "      <td>5.0</td>\n",
       "      <td>24.0</td>\n",
       "      <td>0.219733</td>\n",
       "      <td>1</td>\n",
       "      <td>0</td>\n",
       "      <td>0</td>\n",
       "      <td>0</td>\n",
       "    </tr>\n",
       "    <tr>\n",
       "      <th>133249</th>\n",
       "      <td>4.0</td>\n",
       "      <td>-1.240314</td>\n",
       "      <td>-0.318126</td>\n",
       "      <td>11.0</td>\n",
       "      <td>0.469445</td>\n",
       "      <td>-0.116633</td>\n",
       "      <td>5.0</td>\n",
       "      <td>2.0</td>\n",
       "      <td>1.538495</td>\n",
       "      <td>1</td>\n",
       "      <td>0</td>\n",
       "      <td>0</td>\n",
       "      <td>0</td>\n",
       "    </tr>\n",
       "    <tr>\n",
       "      <th>130333</th>\n",
       "      <td>7.0</td>\n",
       "      <td>2.706785</td>\n",
       "      <td>0.888053</td>\n",
       "      <td>223.0</td>\n",
       "      <td>0.469445</td>\n",
       "      <td>-1.305807</td>\n",
       "      <td>6.0</td>\n",
       "      <td>10.0</td>\n",
       "      <td>-1.491943</td>\n",
       "      <td>0</td>\n",
       "      <td>0</td>\n",
       "      <td>0</td>\n",
       "      <td>1</td>\n",
       "    </tr>\n",
       "    <tr>\n",
       "      <th>77285</th>\n",
       "      <td>4.0</td>\n",
       "      <td>-0.845604</td>\n",
       "      <td>0.128607</td>\n",
       "      <td>59.0</td>\n",
       "      <td>-2.558054</td>\n",
       "      <td>-1.008513</td>\n",
       "      <td>5.0</td>\n",
       "      <td>20.0</td>\n",
       "      <td>1.397273</td>\n",
       "      <td>1</td>\n",
       "      <td>0</td>\n",
       "      <td>0</td>\n",
       "      <td>0</td>\n",
       "    </tr>\n",
       "    <tr>\n",
       "      <th>217570</th>\n",
       "      <td>6.0</td>\n",
       "      <td>-0.253539</td>\n",
       "      <td>-0.742523</td>\n",
       "      <td>165.0</td>\n",
       "      <td>0.469445</td>\n",
       "      <td>-1.603100</td>\n",
       "      <td>5.0</td>\n",
       "      <td>15.0</td>\n",
       "      <td>-0.052551</td>\n",
       "      <td>1</td>\n",
       "      <td>0</td>\n",
       "      <td>0</td>\n",
       "      <td>1</td>\n",
       "    </tr>\n",
       "  </tbody>\n",
       "</table>\n",
       "<p>175277 rows × 13 columns</p>\n",
       "</div>"
      ],
      "text/plain": [
       "        vehicle_type  registration_year     power  model  kilometer  \\\n",
       "26158            5.0          -0.450894 -1.300939  222.0   0.469445   \n",
       "136927           7.0           2.706785 -1.367949   74.0  -1.044305   \n",
       "60095            8.0           0.733236  0.754033  230.0   0.469445   \n",
       "101955           4.0           1.325300 -1.367949    8.0   0.469445   \n",
       "153891           6.0           0.733236  1.357123  184.0   0.469445   \n",
       "...              ...                ...       ...    ...        ...   \n",
       "85412            5.0          -1.042959 -1.591315   82.0   0.469445   \n",
       "133249           4.0          -1.240314 -0.318126   11.0   0.469445   \n",
       "130333           7.0           2.706785  0.888053  223.0   0.469445   \n",
       "77285            4.0          -0.845604  0.128607   59.0  -2.558054   \n",
       "217570           6.0          -0.253539 -0.742523  165.0   0.469445   \n",
       "\n",
       "        registration_month  fuel_type  brand  postal_code  gearbox_manual  \\\n",
       "26158            -0.116633        5.0   27.0    -0.144027               1   \n",
       "136927            0.775247        5.0   27.0    -1.861387               1   \n",
       "60095             0.180660        5.0   24.0     1.455428               1   \n",
       "101955            0.477954        5.0   25.0    -0.226627               1   \n",
       "153891            1.072541        5.0   36.0     1.275397               1   \n",
       "...                    ...        ...    ...          ...             ...   \n",
       "85412            -0.116633        5.0   24.0     0.219733               1   \n",
       "133249           -0.116633        5.0    2.0     1.538495               1   \n",
       "130333           -1.305807        6.0   10.0    -1.491943               0   \n",
       "77285            -1.008513        5.0   20.0     1.397273               1   \n",
       "217570           -1.603100        5.0   15.0    -0.052551               1   \n",
       "\n",
       "        gearbox_unknown  not_repaired_unknown  not_repaired_yes  \n",
       "26158                 0                     0                 0  \n",
       "136927                0                     1                 0  \n",
       "60095                 0                     1                 0  \n",
       "101955                0                     0                 0  \n",
       "153891                0                     0                 0  \n",
       "...                 ...                   ...               ...  \n",
       "85412                 0                     0                 0  \n",
       "133249                0                     0                 0  \n",
       "130333                0                     0                 1  \n",
       "77285                 0                     0                 0  \n",
       "217570                0                     0                 1  \n",
       "\n",
       "[175277 rows x 13 columns]"
      ]
     },
     "execution_count": 207,
     "metadata": {},
     "output_type": "execute_result"
    }
   ],
   "source": [
    "# код ревьюера\n",
    "pd.DataFrame(features_train)"
   ]
  },
  {
   "cell_type": "markdown",
   "metadata": {},
   "source": [
    "Изменим тип данных на 'float16', чтобы ускорить их обработку"
   ]
  },
  {
   "cell_type": "code",
   "execution_count": 208,
   "metadata": {},
   "outputs": [],
   "source": [
    "features_train = features_train.astype('float16')"
   ]
  },
  {
   "cell_type": "code",
   "execution_count": 209,
   "metadata": {
    "scrolled": false
   },
   "outputs": [
    {
     "name": "stdout",
     "output_type": "stream",
     "text": [
      "<class 'pandas.core.frame.DataFrame'>\n",
      "Int64Index: 175277 entries, 26158 to 217570\n",
      "Data columns (total 13 columns):\n",
      " #   Column                Non-Null Count   Dtype  \n",
      "---  ------                --------------   -----  \n",
      " 0   vehicle_type          175277 non-null  float16\n",
      " 1   registration_year     175277 non-null  float16\n",
      " 2   power                 175277 non-null  float16\n",
      " 3   model                 175277 non-null  float16\n",
      " 4   kilometer             175277 non-null  float16\n",
      " 5   registration_month    175277 non-null  float16\n",
      " 6   fuel_type             175277 non-null  float16\n",
      " 7   brand                 175277 non-null  float16\n",
      " 8   postal_code           175277 non-null  float16\n",
      " 9   gearbox_manual        175277 non-null  float16\n",
      " 10  gearbox_unknown       175277 non-null  float16\n",
      " 11  not_repaired_unknown  175277 non-null  float16\n",
      " 12  not_repaired_yes      175277 non-null  float16\n",
      "dtypes: float16(13)\n",
      "memory usage: 5.7 MB\n"
     ]
    }
   ],
   "source": [
    "features_train.info()"
   ]
  },
  {
   "cell_type": "markdown",
   "metadata": {},
   "source": [
    "Было 20, стало 6))"
   ]
  },
  {
   "cell_type": "markdown",
   "metadata": {},
   "source": [
    "## Обучение моделей"
   ]
  },
  {
   "cell_type": "markdown",
   "metadata": {},
   "source": [
    "Изучим модели на стандартных параметрах, чтобы выявить лидеров для дальнейшего анализа с подбором гиперпараметров"
   ]
  },
  {
   "cell_type": "code",
   "execution_count": 210,
   "metadata": {},
   "outputs": [],
   "source": [
    "rmse_result = pd.DataFrame(columns=[\"LinearRegression\", \"RandomForestRegressor\",\"DecisionTreeRegressor\", \"CatBoostRegressor\"],\n",
    "                      index=[\"RMSE\", \"cross_val_time, s\"])"
   ]
  },
  {
   "cell_type": "code",
   "execution_count": 211,
   "metadata": {},
   "outputs": [],
   "source": [
    "def rmse(predictions, target):\n",
    "    return abs(mean_squared_error(predictions, target))**0.5\n",
    "rmse_scorer = make_scorer(rmse, greater_is_better=False)"
   ]
  },
  {
   "cell_type": "code",
   "execution_count": 212,
   "metadata": {},
   "outputs": [
    {
     "name": "stdout",
     "output_type": "stream",
     "text": [
      "CPU times: user 4 µs, sys: 1 µs, total: 5 µs\n",
      "Wall time: 9.06 µs\n"
     ]
    }
   ],
   "source": [
    "%%time\n",
    "def find_best_default_model(model_dict):\n",
    "    for model_name in tqdm(model_dict):\n",
    "        start = time.time()\n",
    "        model = model_dict[model_name]\n",
    "        rmse_result.loc[\"RMSE\", model_name] = abs(cross_val_score(model,features_train,target_train, cv=5,scoring=rmse_scorer).mean())\n",
    "        end = time.time()\n",
    "        rmse_result.loc[\"cross_val_time, s\", model_name] = end - start"
   ]
  },
  {
   "cell_type": "code",
   "execution_count": 213,
   "metadata": {},
   "outputs": [
    {
     "name": "stderr",
     "output_type": "stream",
     "text": [
      "100%|██████████| 6/6 [07:56<00:00, 79.44s/it] \n"
     ]
    }
   ],
   "source": [
    "find_best_default_model({'LinearRegression': LinearRegression(),'RandomForestRegressor': RandomForestRegressor(random_state=12345),\n",
    "                        'DecisionTreeRegressor': DecisionTreeRegressor(random_state=12345), 'CatBoostRegressor': CatBoostRegressor(verbose=False),\n",
    "                        'LGBMRegressor': LGBMRegressor(), 'GradientBoostingRegressor': GradientBoostingRegressor()})"
   ]
  },
  {
   "cell_type": "code",
   "execution_count": 214,
   "metadata": {
    "scrolled": false
   },
   "outputs": [
    {
     "data": {
      "text/html": [
       "<div>\n",
       "<style scoped>\n",
       "    .dataframe tbody tr th:only-of-type {\n",
       "        vertical-align: middle;\n",
       "    }\n",
       "\n",
       "    .dataframe tbody tr th {\n",
       "        vertical-align: top;\n",
       "    }\n",
       "\n",
       "    .dataframe thead th {\n",
       "        text-align: right;\n",
       "    }\n",
       "</style>\n",
       "<table border=\"1\" class=\"dataframe\">\n",
       "  <thead>\n",
       "    <tr style=\"text-align: right;\">\n",
       "      <th></th>\n",
       "      <th>LinearRegression</th>\n",
       "      <th>RandomForestRegressor</th>\n",
       "      <th>DecisionTreeRegressor</th>\n",
       "      <th>CatBoostRegressor</th>\n",
       "      <th>LGBMRegressor</th>\n",
       "      <th>GradientBoostingRegressor</th>\n",
       "    </tr>\n",
       "  </thead>\n",
       "  <tbody>\n",
       "    <tr>\n",
       "      <th>RMSE</th>\n",
       "      <td>2092.706302</td>\n",
       "      <td>1204.346803</td>\n",
       "      <td>1625.497806</td>\n",
       "      <td>1221.729588</td>\n",
       "      <td>1275.179225</td>\n",
       "      <td>1410.493679</td>\n",
       "    </tr>\n",
       "    <tr>\n",
       "      <th>cross_val_time, s</th>\n",
       "      <td>1.148388</td>\n",
       "      <td>277.342888</td>\n",
       "      <td>4.292807</td>\n",
       "      <td>103.44968</td>\n",
       "      <td>25.317177</td>\n",
       "      <td>65.051311</td>\n",
       "    </tr>\n",
       "  </tbody>\n",
       "</table>\n",
       "</div>"
      ],
      "text/plain": [
       "                  LinearRegression RandomForestRegressor  \\\n",
       "RMSE                   2092.706302           1204.346803   \n",
       "cross_val_time, s         1.148388            277.342888   \n",
       "\n",
       "                  DecisionTreeRegressor CatBoostRegressor  LGBMRegressor  \\\n",
       "RMSE                        1625.497806       1221.729588    1275.179225   \n",
       "cross_val_time, s              4.292807         103.44968      25.317177   \n",
       "\n",
       "                   GradientBoostingRegressor  \n",
       "RMSE                             1410.493679  \n",
       "cross_val_time, s                  65.051311  "
      ]
     },
     "execution_count": 214,
     "metadata": {},
     "output_type": "execute_result"
    }
   ],
   "source": [
    "rmse_result"
   ]
  },
  {
   "cell_type": "markdown",
   "metadata": {},
   "source": [
    "### Вывод"
   ]
  },
  {
   "cell_type": "markdown",
   "metadata": {},
   "source": [
    "После обучения моделей на стандартных параметрах установлено:\n",
    "* лидер по скорости - линейная регрессия (по качеству хуже всех)\n",
    "* лидер по качеству - случайный лес\n",
    "\n",
    "\n",
    "* рейтинг моделей по скорости:\n",
    "    1. LinearRegression\n",
    "    2. DecisionTreeRegressor\n",
    "    3. LGBMRegressor\n",
    "    3. GradientBoostingRegressor\n",
    "    4. CatBoostRegressor\n",
    "    5. RandomForestRegressor\n",
    "    \n",
    "    \n",
    "    \n",
    "* рейтинг моделей по качеству:\n",
    "    1. RandomForestRegressor\n",
    "    2. CatBoostRegressor\n",
    "    3. LGBMRegressor\n",
    "    4. GradientBoostingRegressor\n",
    "    5. DecisionTreeRegressor\n",
    "    6. LinearRegression\n",
    "\n",
    "Итоговый средний балл:\n",
    "\n",
    "    LinearRegression - 3.5\n",
    "    DecisionTreeRegressor - 3.5\n",
    "    GradientBoostingRegressor - 3.5\n",
    "    CatBoostRegressor - 3\n",
    "    RandomForestRegressor - 3\n",
    "    LGBMRegressor - 3\n",
    "    \n",
    "Итог: наиболее оптимальными моделями являются CatBoostRegressor и RandomForestRegressor"
   ]
  },
  {
   "cell_type": "code",
   "execution_count": 215,
   "metadata": {},
   "outputs": [
    {
     "data": {
      "text/plain": [
       "<AxesSubplot:title={'center':'RMSE моделей и время обучения с использованием кросс валидации'}>"
      ]
     },
     "execution_count": 215,
     "metadata": {},
     "output_type": "execute_result"
    },
    {
     "data": {
      "image/png": "[encoded data removed]",
      "text/plain": [
       "<Figure size 1440x360 with 1 Axes>"
      ]
     },
     "metadata": {
      "needs_background": "light"
     },
     "output_type": "display_data"
    }
   ],
   "source": [
    "rmse_result.plot(kind='bar', title='RMSE моделей и время обучения с использованием кросс валидации', figsize=(20,5))"
   ]
  },
  {
   "cell_type": "markdown",
   "metadata": {},
   "source": [
    "## Анализ моделей"
   ]
  },
  {
   "cell_type": "code",
   "execution_count": 216,
   "metadata": {},
   "outputs": [],
   "source": [
    "result = pd.DataFrame(index=[\"RandomForestRegressor\",\"DecisionTreeRegressor\", \"CatBoostRegressor\",'GradientBoostingRegressor'],\n",
    "                      columns=[\"RMSE\", \"learning_time\", \"predict_time\"])"
   ]
  },
  {
   "cell_type": "code",
   "execution_count": 217,
   "metadata": {},
   "outputs": [],
   "source": [
    "def best_hypers_for_model(model, hyperparams, scorer):\n",
    "\n",
    "    clf = GridSearchCV(model, hyperparams, scoring=scorer)\n",
    "    clf.fit(features_train, target_train)\n",
    "    print(str(model)[:-2],\"Best parameters set found on development set:\\n\")\n",
    "    print(clf.best_params_)\n",
    "    print(\"\\nGrid scores on development set:\\n\")\n",
    "    for mean, std, params in zip(clf.cv_results_['mean_test_score'], clf.cv_results_['std_test_score'], clf.cv_results_['params']):\n",
    "        print(\"%0.6f for %r\"% (abs(mean), params))"
   ]
  },
  {
   "cell_type": "code",
   "execution_count": null,
   "metadata": {},
   "outputs": [],
   "source": []
  },
  {
   "cell_type": "code",
   "execution_count": 218,
   "metadata": {},
   "outputs": [],
   "source": [
    "def best_model_result(model_dict):\n",
    "    \n",
    "    for model_name in tqdm(model_dict):\n",
    "        l_start = time.time()\n",
    "        model = model_dict[model_name]\n",
    "        model.fit(features_train, target_train)\n",
    "        l_end = time.time()\n",
    "        result.loc[model_name, \"learning_time\"] = l_end - l_start\n",
    "        p_start = time.time()\n",
    "        predictions = model.predict(features_test)\n",
    "        p_end = time.time()\n",
    "        result.loc[model_name, \"predict_time\"] = p_end - p_start\n",
    "        result.loc[model_name, \"RMSE\"] = rmse(predictions, target_test)"
   ]
  },
  {
   "cell_type": "code",
   "execution_count": 219,
   "metadata": {
    "scrolled": true
   },
   "outputs": [
    {
     "name": "stdout",
     "output_type": "stream",
     "text": [
      "DecisionTreeRegressor Best parameters set found on development set:\n",
      "\n",
      "{'max_depth': 13, 'random_state': 12345}\n",
      "\n",
      "Grid scores on development set:\n",
      "\n",
      "2261.490008 for {'max_depth': 2, 'random_state': 12345}\n",
      "2068.664001 for {'max_depth': 3, 'random_state': 12345}\n",
      "1883.910720 for {'max_depth': 4, 'random_state': 12345}\n",
      "1756.871555 for {'max_depth': 5, 'random_state': 12345}\n",
      "1670.899956 for {'max_depth': 6, 'random_state': 12345}\n",
      "1605.851489 for {'max_depth': 7, 'random_state': 12345}\n",
      "1552.878652 for {'max_depth': 8, 'random_state': 12345}\n",
      "1506.640837 for {'max_depth': 9, 'random_state': 12345}\n",
      "1465.442146 for {'max_depth': 10, 'random_state': 12345}\n",
      "1443.212665 for {'max_depth': 11, 'random_state': 12345}\n",
      "1426.792416 for {'max_depth': 12, 'random_state': 12345}\n",
      "1423.007700 for {'max_depth': 13, 'random_state': 12345}\n",
      "1430.847807 for {'max_depth': 14, 'random_state': 12345}\n",
      "1442.764781 for {'max_depth': 15, 'random_state': 12345}\n",
      "1469.476814 for {'max_depth': 16, 'random_state': 12345}\n",
      "1493.430301 for {'max_depth': 17, 'random_state': 12345}\n",
      "1512.751551 for {'max_depth': 18, 'random_state': 12345}\n",
      "1532.357812 for {'max_depth': 19, 'random_state': 12345}\n",
      "1551.687141 for {'max_depth': 20, 'random_state': 12345}\n"
     ]
    }
   ],
   "source": [
    "MODEL_SETTINGS = {'max_depth':[x for x in range(2, 21)],\n",
    "                  'random_state':[12345]}\n",
    "best_hypers_for_model(DecisionTreeRegressor(),MODEL_SETTINGS,rmse_scorer)"
   ]
  },
  {
   "cell_type": "code",
   "execution_count": 220,
   "metadata": {},
   "outputs": [
    {
     "name": "stdout",
     "output_type": "stream",
     "text": [
      "RandomForestRegressor Best parameters set found on development set:\n",
      "\n",
      "{'max_depth': 19, 'n_estimators': 9, 'random_state': 12345}\n",
      "\n",
      "Grid scores on development set:\n",
      "\n",
      "2237.735175 for {'max_depth': 2, 'n_estimators': 2, 'random_state': 12345}\n",
      "2239.370129 for {'max_depth': 2, 'n_estimators': 3, 'random_state': 12345}\n",
      "2238.514244 for {'max_depth': 2, 'n_estimators': 4, 'random_state': 12345}\n",
      "2229.653022 for {'max_depth': 2, 'n_estimators': 5, 'random_state': 12345}\n",
      "2230.658883 for {'max_depth': 2, 'n_estimators': 6, 'random_state': 12345}\n",
      "2232.281708 for {'max_depth': 2, 'n_estimators': 7, 'random_state': 12345}\n",
      "2234.135225 for {'max_depth': 2, 'n_estimators': 8, 'random_state': 12345}\n",
      "2235.584358 for {'max_depth': 2, 'n_estimators': 9, 'random_state': 12345}\n",
      "2045.247147 for {'max_depth': 3, 'n_estimators': 2, 'random_state': 12345}\n",
      "2047.671024 for {'max_depth': 3, 'n_estimators': 3, 'random_state': 12345}\n",
      "2047.065059 for {'max_depth': 3, 'n_estimators': 4, 'random_state': 12345}\n",
      "2037.658639 for {'max_depth': 3, 'n_estimators': 5, 'random_state': 12345}\n",
      "2038.383970 for {'max_depth': 3, 'n_estimators': 6, 'random_state': 12345}\n",
      "2039.754175 for {'max_depth': 3, 'n_estimators': 7, 'random_state': 12345}\n",
      "2041.447605 for {'max_depth': 3, 'n_estimators': 8, 'random_state': 12345}\n",
      "2042.995818 for {'max_depth': 3, 'n_estimators': 9, 'random_state': 12345}\n",
      "1860.928819 for {'max_depth': 4, 'n_estimators': 2, 'random_state': 12345}\n",
      "1865.520361 for {'max_depth': 4, 'n_estimators': 3, 'random_state': 12345}\n",
      "1864.214307 for {'max_depth': 4, 'n_estimators': 4, 'random_state': 12345}\n",
      "1855.171181 for {'max_depth': 4, 'n_estimators': 5, 'random_state': 12345}\n",
      "1855.448659 for {'max_depth': 4, 'n_estimators': 6, 'random_state': 12345}\n",
      "1856.816875 for {'max_depth': 4, 'n_estimators': 7, 'random_state': 12345}\n",
      "1857.674836 for {'max_depth': 4, 'n_estimators': 8, 'random_state': 12345}\n",
      "1857.524963 for {'max_depth': 4, 'n_estimators': 9, 'random_state': 12345}\n",
      "1732.174111 for {'max_depth': 5, 'n_estimators': 2, 'random_state': 12345}\n",
      "1731.885671 for {'max_depth': 5, 'n_estimators': 3, 'random_state': 12345}\n",
      "1730.797853 for {'max_depth': 5, 'n_estimators': 4, 'random_state': 12345}\n",
      "1723.131153 for {'max_depth': 5, 'n_estimators': 5, 'random_state': 12345}\n",
      "1722.213519 for {'max_depth': 5, 'n_estimators': 6, 'random_state': 12345}\n",
      "1723.001436 for {'max_depth': 5, 'n_estimators': 7, 'random_state': 12345}\n",
      "1723.583762 for {'max_depth': 5, 'n_estimators': 8, 'random_state': 12345}\n",
      "1723.443245 for {'max_depth': 5, 'n_estimators': 9, 'random_state': 12345}\n",
      "1650.364828 for {'max_depth': 6, 'n_estimators': 2, 'random_state': 12345}\n",
      "1646.983646 for {'max_depth': 6, 'n_estimators': 3, 'random_state': 12345}\n",
      "1646.140929 for {'max_depth': 6, 'n_estimators': 4, 'random_state': 12345}\n",
      "1639.270734 for {'max_depth': 6, 'n_estimators': 5, 'random_state': 12345}\n",
      "1638.259992 for {'max_depth': 6, 'n_estimators': 6, 'random_state': 12345}\n",
      "1639.046746 for {'max_depth': 6, 'n_estimators': 7, 'random_state': 12345}\n",
      "1639.924723 for {'max_depth': 6, 'n_estimators': 8, 'random_state': 12345}\n",
      "1640.027460 for {'max_depth': 6, 'n_estimators': 9, 'random_state': 12345}\n",
      "1580.000187 for {'max_depth': 7, 'n_estimators': 2, 'random_state': 12345}\n",
      "1575.404983 for {'max_depth': 7, 'n_estimators': 3, 'random_state': 12345}\n",
      "1573.094269 for {'max_depth': 7, 'n_estimators': 4, 'random_state': 12345}\n",
      "1566.758817 for {'max_depth': 7, 'n_estimators': 5, 'random_state': 12345}\n",
      "1565.225805 for {'max_depth': 7, 'n_estimators': 6, 'random_state': 12345}\n",
      "1566.006371 for {'max_depth': 7, 'n_estimators': 7, 'random_state': 12345}\n",
      "1566.419121 for {'max_depth': 7, 'n_estimators': 8, 'random_state': 12345}\n",
      "1566.313188 for {'max_depth': 7, 'n_estimators': 9, 'random_state': 12345}\n",
      "1526.757105 for {'max_depth': 8, 'n_estimators': 2, 'random_state': 12345}\n",
      "1518.823264 for {'max_depth': 8, 'n_estimators': 3, 'random_state': 12345}\n",
      "1514.623551 for {'max_depth': 8, 'n_estimators': 4, 'random_state': 12345}\n",
      "1508.577146 for {'max_depth': 8, 'n_estimators': 5, 'random_state': 12345}\n",
      "1506.389964 for {'max_depth': 8, 'n_estimators': 6, 'random_state': 12345}\n",
      "1506.398877 for {'max_depth': 8, 'n_estimators': 7, 'random_state': 12345}\n",
      "1506.260122 for {'max_depth': 8, 'n_estimators': 8, 'random_state': 12345}\n",
      "1505.613308 for {'max_depth': 8, 'n_estimators': 9, 'random_state': 12345}\n",
      "1479.740066 for {'max_depth': 9, 'n_estimators': 2, 'random_state': 12345}\n",
      "1468.560540 for {'max_depth': 9, 'n_estimators': 3, 'random_state': 12345}\n",
      "1463.800137 for {'max_depth': 9, 'n_estimators': 4, 'random_state': 12345}\n",
      "1457.920234 for {'max_depth': 9, 'n_estimators': 5, 'random_state': 12345}\n",
      "1455.572298 for {'max_depth': 9, 'n_estimators': 6, 'random_state': 12345}\n",
      "1454.894064 for {'max_depth': 9, 'n_estimators': 7, 'random_state': 12345}\n",
      "1454.222963 for {'max_depth': 9, 'n_estimators': 8, 'random_state': 12345}\n",
      "1452.801502 for {'max_depth': 9, 'n_estimators': 9, 'random_state': 12345}\n",
      "1442.155839 for {'max_depth': 10, 'n_estimators': 2, 'random_state': 12345}\n",
      "1425.246694 for {'max_depth': 10, 'n_estimators': 3, 'random_state': 12345}\n",
      "1418.418541 for {'max_depth': 10, 'n_estimators': 4, 'random_state': 12345}\n",
      "1411.289403 for {'max_depth': 10, 'n_estimators': 5, 'random_state': 12345}\n",
      "1407.977737 for {'max_depth': 10, 'n_estimators': 6, 'random_state': 12345}\n",
      "1406.319789 for {'max_depth': 10, 'n_estimators': 7, 'random_state': 12345}\n",
      "1405.487534 for {'max_depth': 10, 'n_estimators': 8, 'random_state': 12345}\n",
      "1403.697450 for {'max_depth': 10, 'n_estimators': 9, 'random_state': 12345}\n",
      "1414.220911 for {'max_depth': 11, 'n_estimators': 2, 'random_state': 12345}\n",
      "1391.582975 for {'max_depth': 11, 'n_estimators': 3, 'random_state': 12345}\n",
      "1382.443226 for {'max_depth': 11, 'n_estimators': 4, 'random_state': 12345}\n",
      "1373.682376 for {'max_depth': 11, 'n_estimators': 5, 'random_state': 12345}\n",
      "1369.457993 for {'max_depth': 11, 'n_estimators': 6, 'random_state': 12345}\n",
      "1366.976660 for {'max_depth': 11, 'n_estimators': 7, 'random_state': 12345}\n",
      "1364.791083 for {'max_depth': 11, 'n_estimators': 8, 'random_state': 12345}\n",
      "1362.754048 for {'max_depth': 11, 'n_estimators': 9, 'random_state': 12345}\n",
      "1398.689430 for {'max_depth': 12, 'n_estimators': 2, 'random_state': 12345}\n",
      "1367.580923 for {'max_depth': 12, 'n_estimators': 3, 'random_state': 12345}\n",
      "1354.443592 for {'max_depth': 12, 'n_estimators': 4, 'random_state': 12345}\n",
      "1342.648905 for {'max_depth': 12, 'n_estimators': 5, 'random_state': 12345}\n",
      "1336.684329 for {'max_depth': 12, 'n_estimators': 6, 'random_state': 12345}\n",
      "1332.852618 for {'max_depth': 12, 'n_estimators': 7, 'random_state': 12345}\n",
      "1329.974062 for {'max_depth': 12, 'n_estimators': 8, 'random_state': 12345}\n",
      "1327.301870 for {'max_depth': 12, 'n_estimators': 9, 'random_state': 12345}\n",
      "1388.313463 for {'max_depth': 13, 'n_estimators': 2, 'random_state': 12345}\n",
      "1353.167963 for {'max_depth': 13, 'n_estimators': 3, 'random_state': 12345}\n",
      "1337.037203 for {'max_depth': 13, 'n_estimators': 4, 'random_state': 12345}\n",
      "1322.956593 for {'max_depth': 13, 'n_estimators': 5, 'random_state': 12345}\n",
      "1315.093248 for {'max_depth': 13, 'n_estimators': 6, 'random_state': 12345}\n",
      "1310.437791 for {'max_depth': 13, 'n_estimators': 7, 'random_state': 12345}\n",
      "1306.514644 for {'max_depth': 13, 'n_estimators': 8, 'random_state': 12345}\n",
      "1302.965147 for {'max_depth': 13, 'n_estimators': 9, 'random_state': 12345}\n",
      "1385.171937 for {'max_depth': 14, 'n_estimators': 2, 'random_state': 12345}\n",
      "1343.691248 for {'max_depth': 14, 'n_estimators': 3, 'random_state': 12345}\n",
      "1323.610386 for {'max_depth': 14, 'n_estimators': 4, 'random_state': 12345}\n",
      "1308.184095 for {'max_depth': 14, 'n_estimators': 5, 'random_state': 12345}\n",
      "1298.978176 for {'max_depth': 14, 'n_estimators': 6, 'random_state': 12345}\n",
      "1293.165485 for {'max_depth': 14, 'n_estimators': 7, 'random_state': 12345}\n",
      "1288.547981 for {'max_depth': 14, 'n_estimators': 8, 'random_state': 12345}\n",
      "1284.163070 for {'max_depth': 14, 'n_estimators': 9, 'random_state': 12345}\n",
      "1391.583308 for {'max_depth': 15, 'n_estimators': 2, 'random_state': 12345}\n",
      "1341.655658 for {'max_depth': 15, 'n_estimators': 3, 'random_state': 12345}\n",
      "1316.746149 for {'max_depth': 15, 'n_estimators': 4, 'random_state': 12345}\n",
      "1299.230119 for {'max_depth': 15, 'n_estimators': 5, 'random_state': 12345}\n",
      "1288.615435 for {'max_depth': 15, 'n_estimators': 6, 'random_state': 12345}\n",
      "1281.964154 for {'max_depth': 15, 'n_estimators': 7, 'random_state': 12345}\n",
      "1276.519620 for {'max_depth': 15, 'n_estimators': 8, 'random_state': 12345}\n",
      "1272.061291 for {'max_depth': 15, 'n_estimators': 9, 'random_state': 12345}\n",
      "1399.474737 for {'max_depth': 16, 'n_estimators': 2, 'random_state': 12345}\n",
      "1343.175800 for {'max_depth': 16, 'n_estimators': 3, 'random_state': 12345}\n",
      "1316.090801 for {'max_depth': 16, 'n_estimators': 4, 'random_state': 12345}\n",
      "1296.190147 for {'max_depth': 16, 'n_estimators': 5, 'random_state': 12345}\n",
      "1283.874697 for {'max_depth': 16, 'n_estimators': 6, 'random_state': 12345}\n",
      "1276.090492 for {'max_depth': 16, 'n_estimators': 7, 'random_state': 12345}\n",
      "1269.588071 for {'max_depth': 16, 'n_estimators': 8, 'random_state': 12345}\n",
      "1264.552147 for {'max_depth': 16, 'n_estimators': 9, 'random_state': 12345}\n",
      "1409.732568 for {'max_depth': 17, 'n_estimators': 2, 'random_state': 12345}\n",
      "1346.888811 for {'max_depth': 17, 'n_estimators': 3, 'random_state': 12345}\n",
      "1315.596354 for {'max_depth': 17, 'n_estimators': 4, 'random_state': 12345}\n",
      "1293.940007 for {'max_depth': 17, 'n_estimators': 5, 'random_state': 12345}\n",
      "1280.217792 for {'max_depth': 17, 'n_estimators': 6, 'random_state': 12345}\n",
      "1271.720708 for {'max_depth': 17, 'n_estimators': 7, 'random_state': 12345}\n",
      "1264.576848 for {'max_depth': 17, 'n_estimators': 8, 'random_state': 12345}\n",
      "1258.590363 for {'max_depth': 17, 'n_estimators': 9, 'random_state': 12345}\n",
      "1422.429652 for {'max_depth': 18, 'n_estimators': 2, 'random_state': 12345}\n",
      "1354.481890 for {'max_depth': 18, 'n_estimators': 3, 'random_state': 12345}\n",
      "1319.895688 for {'max_depth': 18, 'n_estimators': 4, 'random_state': 12345}\n",
      "1297.203621 for {'max_depth': 18, 'n_estimators': 5, 'random_state': 12345}\n",
      "1282.491425 for {'max_depth': 18, 'n_estimators': 6, 'random_state': 12345}\n",
      "1272.273625 for {'max_depth': 18, 'n_estimators': 7, 'random_state': 12345}\n",
      "1264.125939 for {'max_depth': 18, 'n_estimators': 8, 'random_state': 12345}\n",
      "1257.472278 for {'max_depth': 18, 'n_estimators': 9, 'random_state': 12345}\n",
      "1432.716516 for {'max_depth': 19, 'n_estimators': 2, 'random_state': 12345}\n",
      "1359.567504 for {'max_depth': 19, 'n_estimators': 3, 'random_state': 12345}\n",
      "1323.393898 for {'max_depth': 19, 'n_estimators': 4, 'random_state': 12345}\n",
      "1300.142554 for {'max_depth': 19, 'n_estimators': 5, 'random_state': 12345}\n",
      "1283.658275 for {'max_depth': 19, 'n_estimators': 6, 'random_state': 12345}\n",
      "1272.914366 for {'max_depth': 19, 'n_estimators': 7, 'random_state': 12345}\n",
      "1264.284453 for {'max_depth': 19, 'n_estimators': 8, 'random_state': 12345}\n",
      "1257.370700 for {'max_depth': 19, 'n_estimators': 9, 'random_state': 12345}\n",
      "1444.093726 for {'max_depth': 20, 'n_estimators': 2, 'random_state': 12345}\n",
      "1367.685196 for {'max_depth': 20, 'n_estimators': 3, 'random_state': 12345}\n",
      "1328.361497 for {'max_depth': 20, 'n_estimators': 4, 'random_state': 12345}\n",
      "1303.381800 for {'max_depth': 20, 'n_estimators': 5, 'random_state': 12345}\n",
      "1287.014921 for {'max_depth': 20, 'n_estimators': 6, 'random_state': 12345}\n",
      "1274.745304 for {'max_depth': 20, 'n_estimators': 7, 'random_state': 12345}\n",
      "1266.222133 for {'max_depth': 20, 'n_estimators': 8, 'random_state': 12345}\n",
      "1258.974940 for {'max_depth': 20, 'n_estimators': 9, 'random_state': 12345}\n"
     ]
    }
   ],
   "source": [
    "MODEL_SETTINGS = {'max_depth':[x for x in range(2, 21)],\n",
    "                  'n_estimators': [x for x in range (2,10)],\n",
    "                  'random_state':[12345]}\n",
    "best_hypers_for_model(RandomForestRegressor(),MODEL_SETTINGS,rmse_scorer)\n"
   ]
  },
  {
   "cell_type": "code",
   "execution_count": 221,
   "metadata": {},
   "outputs": [
    {
     "name": "stdout",
     "output_type": "stream",
     "text": [
      "GradientBoostingRegressor Best parameters set found on development set:\n",
      "\n",
      "{'learning_rate': 0.5, 'max_depth': 11, 'n_estimators': 9}\n",
      "\n",
      "Grid scores on development set:\n",
      "\n",
      "2951.679244 for {'learning_rate': 0.1, 'max_depth': 2, 'n_estimators': 2}\n",
      "2826.407905 for {'learning_rate': 0.1, 'max_depth': 2, 'n_estimators': 3}\n",
      "2713.732516 for {'learning_rate': 0.1, 'max_depth': 2, 'n_estimators': 4}\n",
      "2618.312798 for {'learning_rate': 0.1, 'max_depth': 2, 'n_estimators': 5}\n",
      "2533.033753 for {'learning_rate': 0.1, 'max_depth': 2, 'n_estimators': 6}\n",
      "2456.718579 for {'learning_rate': 0.1, 'max_depth': 2, 'n_estimators': 7}\n",
      "2387.441666 for {'learning_rate': 0.1, 'max_depth': 2, 'n_estimators': 8}\n",
      "2319.438276 for {'learning_rate': 0.1, 'max_depth': 2, 'n_estimators': 9}\n",
      "2903.999408 for {'learning_rate': 0.1, 'max_depth': 3, 'n_estimators': 2}\n",
      "2761.020209 for {'learning_rate': 0.1, 'max_depth': 3, 'n_estimators': 3}\n",
      "2629.110600 for {'learning_rate': 0.1, 'max_depth': 3, 'n_estimators': 4}\n",
      "2517.904124 for {'learning_rate': 0.1, 'max_depth': 3, 'n_estimators': 5}\n",
      "2419.277829 for {'learning_rate': 0.1, 'max_depth': 3, 'n_estimators': 6}\n",
      "2332.663907 for {'learning_rate': 0.1, 'max_depth': 3, 'n_estimators': 7}\n",
      "2259.773652 for {'learning_rate': 0.1, 'max_depth': 3, 'n_estimators': 8}\n",
      "2193.934742 for {'learning_rate': 0.1, 'max_depth': 3, 'n_estimators': 9}\n",
      "2863.148092 for {'learning_rate': 0.1, 'max_depth': 4, 'n_estimators': 2}\n",
      "2702.431397 for {'learning_rate': 0.1, 'max_depth': 4, 'n_estimators': 3}\n",
      "2564.434875 for {'learning_rate': 0.1, 'max_depth': 4, 'n_estimators': 4}\n",
      "2438.898026 for {'learning_rate': 0.1, 'max_depth': 4, 'n_estimators': 5}\n",
      "2330.783289 for {'learning_rate': 0.1, 'max_depth': 4, 'n_estimators': 6}\n",
      "2235.217394 for {'learning_rate': 0.1, 'max_depth': 4, 'n_estimators': 7}\n",
      "2154.578507 for {'learning_rate': 0.1, 'max_depth': 4, 'n_estimators': 8}\n",
      "2081.237047 for {'learning_rate': 0.1, 'max_depth': 4, 'n_estimators': 9}\n",
      "2834.784539 for {'learning_rate': 0.1, 'max_depth': 5, 'n_estimators': 2}\n",
      "2661.285686 for {'learning_rate': 0.1, 'max_depth': 5, 'n_estimators': 3}\n",
      "2510.662496 for {'learning_rate': 0.1, 'max_depth': 5, 'n_estimators': 4}\n",
      "2379.082207 for {'learning_rate': 0.1, 'max_depth': 5, 'n_estimators': 5}\n",
      "2263.997678 for {'learning_rate': 0.1, 'max_depth': 5, 'n_estimators': 6}\n",
      "2164.108018 for {'learning_rate': 0.1, 'max_depth': 5, 'n_estimators': 7}\n",
      "2077.451089 for {'learning_rate': 0.1, 'max_depth': 5, 'n_estimators': 8}\n",
      "2002.185714 for {'learning_rate': 0.1, 'max_depth': 5, 'n_estimators': 9}\n",
      "2815.445880 for {'learning_rate': 0.1, 'max_depth': 6, 'n_estimators': 2}\n",
      "2633.691813 for {'learning_rate': 0.1, 'max_depth': 6, 'n_estimators': 3}\n",
      "2475.552840 for {'learning_rate': 0.1, 'max_depth': 6, 'n_estimators': 4}\n",
      "2337.435489 for {'learning_rate': 0.1, 'max_depth': 6, 'n_estimators': 5}\n",
      "2216.882474 for {'learning_rate': 0.1, 'max_depth': 6, 'n_estimators': 6}\n",
      "2112.617039 for {'learning_rate': 0.1, 'max_depth': 6, 'n_estimators': 7}\n",
      "2021.262636 for {'learning_rate': 0.1, 'max_depth': 6, 'n_estimators': 8}\n",
      "1941.763464 for {'learning_rate': 0.1, 'max_depth': 6, 'n_estimators': 9}\n",
      "2801.707561 for {'learning_rate': 0.1, 'max_depth': 7, 'n_estimators': 2}\n",
      "2613.710982 for {'learning_rate': 0.1, 'max_depth': 7, 'n_estimators': 3}\n",
      "2450.047590 for {'learning_rate': 0.1, 'max_depth': 7, 'n_estimators': 4}\n",
      "2307.040367 for {'learning_rate': 0.1, 'max_depth': 7, 'n_estimators': 5}\n",
      "2182.002944 for {'learning_rate': 0.1, 'max_depth': 7, 'n_estimators': 6}\n",
      "2073.536915 for {'learning_rate': 0.1, 'max_depth': 7, 'n_estimators': 7}\n",
      "1979.115516 for {'learning_rate': 0.1, 'max_depth': 7, 'n_estimators': 8}\n",
      "1897.345803 for {'learning_rate': 0.1, 'max_depth': 7, 'n_estimators': 9}\n",
      "2789.850847 for {'learning_rate': 0.1, 'max_depth': 8, 'n_estimators': 2}\n",
      "2597.532968 for {'learning_rate': 0.1, 'max_depth': 8, 'n_estimators': 3}\n",
      "2428.750750 for {'learning_rate': 0.1, 'max_depth': 8, 'n_estimators': 4}\n",
      "2282.001898 for {'learning_rate': 0.1, 'max_depth': 8, 'n_estimators': 5}\n",
      "2152.789276 for {'learning_rate': 0.1, 'max_depth': 8, 'n_estimators': 6}\n",
      "2040.781874 for {'learning_rate': 0.1, 'max_depth': 8, 'n_estimators': 7}\n",
      "1943.378735 for {'learning_rate': 0.1, 'max_depth': 8, 'n_estimators': 8}\n",
      "1859.130475 for {'learning_rate': 0.1, 'max_depth': 8, 'n_estimators': 9}\n",
      "2779.764274 for {'learning_rate': 0.1, 'max_depth': 9, 'n_estimators': 2}\n",
      "2582.392028 for {'learning_rate': 0.1, 'max_depth': 9, 'n_estimators': 3}\n",
      "2409.375513 for {'learning_rate': 0.1, 'max_depth': 9, 'n_estimators': 4}\n",
      "2258.010686 for {'learning_rate': 0.1, 'max_depth': 9, 'n_estimators': 5}\n",
      "2126.328822 for {'learning_rate': 0.1, 'max_depth': 9, 'n_estimators': 6}\n",
      "2011.029080 for {'learning_rate': 0.1, 'max_depth': 9, 'n_estimators': 7}\n",
      "1911.303970 for {'learning_rate': 0.1, 'max_depth': 9, 'n_estimators': 8}\n",
      "1825.022148 for {'learning_rate': 0.1, 'max_depth': 9, 'n_estimators': 9}\n",
      "2770.655044 for {'learning_rate': 0.1, 'max_depth': 10, 'n_estimators': 2}\n",
      "2569.225266 for {'learning_rate': 0.1, 'max_depth': 10, 'n_estimators': 3}\n",
      "2392.673317 for {'learning_rate': 0.1, 'max_depth': 10, 'n_estimators': 4}\n",
      "2238.141463 for {'learning_rate': 0.1, 'max_depth': 10, 'n_estimators': 5}\n",
      "2103.014413 for {'learning_rate': 0.1, 'max_depth': 10, 'n_estimators': 6}\n",
      "1985.665620 for {'learning_rate': 0.1, 'max_depth': 10, 'n_estimators': 7}\n",
      "1883.922640 for {'learning_rate': 0.1, 'max_depth': 10, 'n_estimators': 8}\n",
      "1795.534284 for {'learning_rate': 0.1, 'max_depth': 10, 'n_estimators': 9}\n",
      "2762.756582 for {'learning_rate': 0.1, 'max_depth': 11, 'n_estimators': 2}\n",
      "2558.238981 for {'learning_rate': 0.1, 'max_depth': 11, 'n_estimators': 3}\n",
      "2378.442242 for {'learning_rate': 0.1, 'max_depth': 11, 'n_estimators': 4}\n",
      "2221.556557 for {'learning_rate': 0.1, 'max_depth': 11, 'n_estimators': 5}\n",
      "2084.154202 for {'learning_rate': 0.1, 'max_depth': 11, 'n_estimators': 6}\n",
      "1964.788578 for {'learning_rate': 0.1, 'max_depth': 11, 'n_estimators': 7}\n",
      "1861.421223 for {'learning_rate': 0.1, 'max_depth': 11, 'n_estimators': 8}\n",
      "1771.206196 for {'learning_rate': 0.1, 'max_depth': 11, 'n_estimators': 9}\n",
      "2755.201340 for {'learning_rate': 0.1, 'max_depth': 12, 'n_estimators': 2}\n",
      "2547.888120 for {'learning_rate': 0.1, 'max_depth': 12, 'n_estimators': 3}\n",
      "2365.593898 for {'learning_rate': 0.1, 'max_depth': 12, 'n_estimators': 4}\n",
      "2205.986350 for {'learning_rate': 0.1, 'max_depth': 12, 'n_estimators': 5}\n",
      "2067.260650 for {'learning_rate': 0.1, 'max_depth': 12, 'n_estimators': 6}\n",
      "1946.263276 for {'learning_rate': 0.1, 'max_depth': 12, 'n_estimators': 7}\n",
      "1841.814016 for {'learning_rate': 0.1, 'max_depth': 12, 'n_estimators': 8}\n",
      "1751.300377 for {'learning_rate': 0.1, 'max_depth': 12, 'n_estimators': 9}\n",
      "2748.920048 for {'learning_rate': 0.1, 'max_depth': 13, 'n_estimators': 2}\n",
      "2538.963039 for {'learning_rate': 0.1, 'max_depth': 13, 'n_estimators': 3}\n",
      "2354.642432 for {'learning_rate': 0.1, 'max_depth': 13, 'n_estimators': 4}\n",
      "2193.571086 for {'learning_rate': 0.1, 'max_depth': 13, 'n_estimators': 5}\n",
      "2053.087849 for {'learning_rate': 0.1, 'max_depth': 13, 'n_estimators': 6}\n",
      "1931.530323 for {'learning_rate': 0.1, 'max_depth': 13, 'n_estimators': 7}\n",
      "1825.792371 for {'learning_rate': 0.1, 'max_depth': 13, 'n_estimators': 8}\n",
      "1735.143210 for {'learning_rate': 0.1, 'max_depth': 13, 'n_estimators': 9}\n",
      "2744.179399 for {'learning_rate': 0.1, 'max_depth': 14, 'n_estimators': 2}\n",
      "2532.311153 for {'learning_rate': 0.1, 'max_depth': 14, 'n_estimators': 3}\n",
      "2346.898978 for {'learning_rate': 0.1, 'max_depth': 14, 'n_estimators': 4}\n",
      "2183.706913 for {'learning_rate': 0.1, 'max_depth': 14, 'n_estimators': 5}\n",
      "2042.930160 for {'learning_rate': 0.1, 'max_depth': 14, 'n_estimators': 6}\n",
      "1920.288360 for {'learning_rate': 0.1, 'max_depth': 14, 'n_estimators': 7}\n",
      "1814.803306 for {'learning_rate': 0.1, 'max_depth': 14, 'n_estimators': 8}\n",
      "1724.213284 for {'learning_rate': 0.1, 'max_depth': 14, 'n_estimators': 9}\n",
      "2740.911704 for {'learning_rate': 0.1, 'max_depth': 15, 'n_estimators': 2}\n",
      "2527.275067 for {'learning_rate': 0.1, 'max_depth': 15, 'n_estimators': 3}\n",
      "2340.568497 for {'learning_rate': 0.1, 'max_depth': 15, 'n_estimators': 4}\n",
      "2177.882032 for {'learning_rate': 0.1, 'max_depth': 15, 'n_estimators': 5}\n",
      "2036.435853 for {'learning_rate': 0.1, 'max_depth': 15, 'n_estimators': 6}\n",
      "1914.419346 for {'learning_rate': 0.1, 'max_depth': 15, 'n_estimators': 7}\n",
      "1809.688066 for {'learning_rate': 0.1, 'max_depth': 15, 'n_estimators': 8}\n",
      "1719.145269 for {'learning_rate': 0.1, 'max_depth': 15, 'n_estimators': 9}\n",
      "2738.051365 for {'learning_rate': 0.1, 'max_depth': 16, 'n_estimators': 2}\n",
      "2523.577350 for {'learning_rate': 0.1, 'max_depth': 16, 'n_estimators': 3}\n",
      "2336.697915 for {'learning_rate': 0.1, 'max_depth': 16, 'n_estimators': 4}\n",
      "2174.070551 for {'learning_rate': 0.1, 'max_depth': 16, 'n_estimators': 5}\n",
      "2032.854515 for {'learning_rate': 0.1, 'max_depth': 16, 'n_estimators': 6}\n",
      "1911.220472 for {'learning_rate': 0.1, 'max_depth': 16, 'n_estimators': 7}\n",
      "1806.390355 for {'learning_rate': 0.1, 'max_depth': 16, 'n_estimators': 8}\n",
      "1718.182121 for {'learning_rate': 0.1, 'max_depth': 16, 'n_estimators': 9}\n",
      "2735.366806 for {'learning_rate': 0.1, 'max_depth': 17, 'n_estimators': 2}\n",
      "2520.957797 for {'learning_rate': 0.1, 'max_depth': 17, 'n_estimators': 3}\n",
      "2333.490269 for {'learning_rate': 0.1, 'max_depth': 17, 'n_estimators': 4}\n",
      "2171.008834 for {'learning_rate': 0.1, 'max_depth': 17, 'n_estimators': 5}\n",
      "2030.270723 for {'learning_rate': 0.1, 'max_depth': 17, 'n_estimators': 6}\n",
      "1908.914294 for {'learning_rate': 0.1, 'max_depth': 17, 'n_estimators': 7}\n",
      "1805.897468 for {'learning_rate': 0.1, 'max_depth': 17, 'n_estimators': 8}\n",
      "1718.267878 for {'learning_rate': 0.1, 'max_depth': 17, 'n_estimators': 9}\n",
      "2734.156503 for {'learning_rate': 0.1, 'max_depth': 18, 'n_estimators': 2}\n",
      "2519.044695 for {'learning_rate': 0.1, 'max_depth': 18, 'n_estimators': 3}\n",
      "2332.118232 for {'learning_rate': 0.1, 'max_depth': 18, 'n_estimators': 4}\n",
      "2170.471272 for {'learning_rate': 0.1, 'max_depth': 18, 'n_estimators': 5}\n",
      "2030.679574 for {'learning_rate': 0.1, 'max_depth': 18, 'n_estimators': 6}\n",
      "1910.669857 for {'learning_rate': 0.1, 'max_depth': 18, 'n_estimators': 7}\n",
      "1808.733453 for {'learning_rate': 0.1, 'max_depth': 18, 'n_estimators': 8}\n",
      "1722.024317 for {'learning_rate': 0.1, 'max_depth': 18, 'n_estimators': 9}\n",
      "2732.360127 for {'learning_rate': 0.1, 'max_depth': 19, 'n_estimators': 2}\n",
      "2517.541075 for {'learning_rate': 0.1, 'max_depth': 19, 'n_estimators': 3}\n",
      "2330.657643 for {'learning_rate': 0.1, 'max_depth': 19, 'n_estimators': 4}\n",
      "2169.105541 for {'learning_rate': 0.1, 'max_depth': 19, 'n_estimators': 5}\n",
      "2030.600332 for {'learning_rate': 0.1, 'max_depth': 19, 'n_estimators': 6}\n",
      "1912.076828 for {'learning_rate': 0.1, 'max_depth': 19, 'n_estimators': 7}\n",
      "1811.637434 for {'learning_rate': 0.1, 'max_depth': 19, 'n_estimators': 8}\n",
      "1727.519630 for {'learning_rate': 0.1, 'max_depth': 19, 'n_estimators': 9}\n",
      "2227.046096 for {'learning_rate': 0.5, 'max_depth': 2, 'n_estimators': 2}\n",
      "2002.752229 for {'learning_rate': 0.5, 'max_depth': 2, 'n_estimators': 3}\n",
      "1904.515669 for {'learning_rate': 0.5, 'max_depth': 2, 'n_estimators': 4}\n",
      "1836.854076 for {'learning_rate': 0.5, 'max_depth': 2, 'n_estimators': 5}\n",
      "1775.851003 for {'learning_rate': 0.5, 'max_depth': 2, 'n_estimators': 6}\n",
      "1733.692720 for {'learning_rate': 0.5, 'max_depth': 2, 'n_estimators': 7}\n",
      "1700.898362 for {'learning_rate': 0.5, 'max_depth': 2, 'n_estimators': 8}\n",
      "1682.394230 for {'learning_rate': 0.5, 'max_depth': 2, 'n_estimators': 9}\n",
      "2045.689210 for {'learning_rate': 0.5, 'max_depth': 3, 'n_estimators': 2}\n",
      "1884.191669 for {'learning_rate': 0.5, 'max_depth': 3, 'n_estimators': 3}\n",
      "1771.956387 for {'learning_rate': 0.5, 'max_depth': 3, 'n_estimators': 4}\n",
      "1710.337192 for {'learning_rate': 0.5, 'max_depth': 3, 'n_estimators': 5}\n",
      "1663.924029 for {'learning_rate': 0.5, 'max_depth': 3, 'n_estimators': 6}\n",
      "1628.241518 for {'learning_rate': 0.5, 'max_depth': 3, 'n_estimators': 7}\n",
      "1602.706318 for {'learning_rate': 0.5, 'max_depth': 3, 'n_estimators': 8}\n",
      "1582.247094 for {'learning_rate': 0.5, 'max_depth': 3, 'n_estimators': 9}\n",
      "1921.001699 for {'learning_rate': 0.5, 'max_depth': 4, 'n_estimators': 2}\n",
      "1733.809413 for {'learning_rate': 0.5, 'max_depth': 4, 'n_estimators': 3}\n",
      "1643.067793 for {'learning_rate': 0.5, 'max_depth': 4, 'n_estimators': 4}\n",
      "1582.385748 for {'learning_rate': 0.5, 'max_depth': 4, 'n_estimators': 5}\n",
      "1538.761000 for {'learning_rate': 0.5, 'max_depth': 4, 'n_estimators': 6}\n",
      "1510.879820 for {'learning_rate': 0.5, 'max_depth': 4, 'n_estimators': 7}\n",
      "1473.294695 for {'learning_rate': 0.5, 'max_depth': 4, 'n_estimators': 8}\n",
      "1457.365902 for {'learning_rate': 0.5, 'max_depth': 4, 'n_estimators': 9}\n",
      "1830.887908 for {'learning_rate': 0.5, 'max_depth': 5, 'n_estimators': 2}\n",
      "1656.219748 for {'learning_rate': 0.5, 'max_depth': 5, 'n_estimators': 3}\n",
      "1566.140163 for {'learning_rate': 0.5, 'max_depth': 5, 'n_estimators': 4}\n",
      "1502.263423 for {'learning_rate': 0.5, 'max_depth': 5, 'n_estimators': 5}\n",
      "1463.272651 for {'learning_rate': 0.5, 'max_depth': 5, 'n_estimators': 6}\n",
      "1442.136229 for {'learning_rate': 0.5, 'max_depth': 5, 'n_estimators': 7}\n",
      "1414.650944 for {'learning_rate': 0.5, 'max_depth': 5, 'n_estimators': 8}\n",
      "1399.899917 for {'learning_rate': 0.5, 'max_depth': 5, 'n_estimators': 9}\n",
      "1755.637468 for {'learning_rate': 0.5, 'max_depth': 6, 'n_estimators': 2}\n",
      "1583.028028 for {'learning_rate': 0.5, 'max_depth': 6, 'n_estimators': 3}\n",
      "1506.131562 for {'learning_rate': 0.5, 'max_depth': 6, 'n_estimators': 4}\n",
      "1456.806056 for {'learning_rate': 0.5, 'max_depth': 6, 'n_estimators': 5}\n",
      "1416.326263 for {'learning_rate': 0.5, 'max_depth': 6, 'n_estimators': 6}\n",
      "1397.402437 for {'learning_rate': 0.5, 'max_depth': 6, 'n_estimators': 7}\n",
      "1378.151506 for {'learning_rate': 0.5, 'max_depth': 6, 'n_estimators': 8}\n",
      "1368.764188 for {'learning_rate': 0.5, 'max_depth': 6, 'n_estimators': 9}\n",
      "1705.164255 for {'learning_rate': 0.5, 'max_depth': 7, 'n_estimators': 2}\n",
      "1528.377491 for {'learning_rate': 0.5, 'max_depth': 7, 'n_estimators': 3}\n",
      "1450.614762 for {'learning_rate': 0.5, 'max_depth': 7, 'n_estimators': 4}\n",
      "1409.093700 for {'learning_rate': 0.5, 'max_depth': 7, 'n_estimators': 5}\n",
      "1378.777256 for {'learning_rate': 0.5, 'max_depth': 7, 'n_estimators': 6}\n",
      "1357.987548 for {'learning_rate': 0.5, 'max_depth': 7, 'n_estimators': 7}\n",
      "1349.328962 for {'learning_rate': 0.5, 'max_depth': 7, 'n_estimators': 8}\n",
      "1338.340356 for {'learning_rate': 0.5, 'max_depth': 7, 'n_estimators': 9}\n",
      "1655.097393 for {'learning_rate': 0.5, 'max_depth': 8, 'n_estimators': 2}\n",
      "1476.995146 for {'learning_rate': 0.5, 'max_depth': 8, 'n_estimators': 3}\n",
      "1401.009902 for {'learning_rate': 0.5, 'max_depth': 8, 'n_estimators': 4}\n",
      "1367.697492 for {'learning_rate': 0.5, 'max_depth': 8, 'n_estimators': 5}\n",
      "1341.399501 for {'learning_rate': 0.5, 'max_depth': 8, 'n_estimators': 6}\n",
      "1328.488790 for {'learning_rate': 0.5, 'max_depth': 8, 'n_estimators': 7}\n",
      "1317.474349 for {'learning_rate': 0.5, 'max_depth': 8, 'n_estimators': 8}\n",
      "1309.720847 for {'learning_rate': 0.5, 'max_depth': 8, 'n_estimators': 9}\n",
      "1614.208990 for {'learning_rate': 0.5, 'max_depth': 9, 'n_estimators': 2}\n",
      "1439.960191 for {'learning_rate': 0.5, 'max_depth': 9, 'n_estimators': 3}\n",
      "1367.026057 for {'learning_rate': 0.5, 'max_depth': 9, 'n_estimators': 4}\n",
      "1338.929565 for {'learning_rate': 0.5, 'max_depth': 9, 'n_estimators': 5}\n",
      "1308.526591 for {'learning_rate': 0.5, 'max_depth': 9, 'n_estimators': 6}\n",
      "1299.085064 for {'learning_rate': 0.5, 'max_depth': 9, 'n_estimators': 7}\n",
      "1293.292329 for {'learning_rate': 0.5, 'max_depth': 9, 'n_estimators': 8}\n",
      "1288.445527 for {'learning_rate': 0.5, 'max_depth': 9, 'n_estimators': 9}\n",
      "1580.257870 for {'learning_rate': 0.5, 'max_depth': 10, 'n_estimators': 2}\n",
      "1406.914160 for {'learning_rate': 0.5, 'max_depth': 10, 'n_estimators': 3}\n",
      "1343.463223 for {'learning_rate': 0.5, 'max_depth': 10, 'n_estimators': 4}\n",
      "1315.200733 for {'learning_rate': 0.5, 'max_depth': 10, 'n_estimators': 5}\n",
      "1299.560585 for {'learning_rate': 0.5, 'max_depth': 10, 'n_estimators': 6}\n",
      "1290.825073 for {'learning_rate': 0.5, 'max_depth': 10, 'n_estimators': 7}\n",
      "1279.991756 for {'learning_rate': 0.5, 'max_depth': 10, 'n_estimators': 8}\n",
      "1272.851487 for {'learning_rate': 0.5, 'max_depth': 10, 'n_estimators': 9}\n",
      "1553.621212 for {'learning_rate': 0.5, 'max_depth': 11, 'n_estimators': 2}\n",
      "1381.238086 for {'learning_rate': 0.5, 'max_depth': 11, 'n_estimators': 3}\n",
      "1319.412590 for {'learning_rate': 0.5, 'max_depth': 11, 'n_estimators': 4}\n",
      "1296.099172 for {'learning_rate': 0.5, 'max_depth': 11, 'n_estimators': 5}\n",
      "1281.979877 for {'learning_rate': 0.5, 'max_depth': 11, 'n_estimators': 6}\n",
      "1275.944402 for {'learning_rate': 0.5, 'max_depth': 11, 'n_estimators': 7}\n",
      "1273.600614 for {'learning_rate': 0.5, 'max_depth': 11, 'n_estimators': 8}\n",
      "1264.451325 for {'learning_rate': 0.5, 'max_depth': 11, 'n_estimators': 9}\n",
      "1531.542177 for {'learning_rate': 0.5, 'max_depth': 12, 'n_estimators': 2}\n",
      "1362.795626 for {'learning_rate': 0.5, 'max_depth': 12, 'n_estimators': 3}\n",
      "1306.696255 for {'learning_rate': 0.5, 'max_depth': 12, 'n_estimators': 4}\n",
      "1288.521642 for {'learning_rate': 0.5, 'max_depth': 12, 'n_estimators': 5}\n",
      "1278.227076 for {'learning_rate': 0.5, 'max_depth': 12, 'n_estimators': 6}\n",
      "1273.005303 for {'learning_rate': 0.5, 'max_depth': 12, 'n_estimators': 7}\n",
      "1269.442713 for {'learning_rate': 0.5, 'max_depth': 12, 'n_estimators': 8}\n",
      "1268.200094 for {'learning_rate': 0.5, 'max_depth': 12, 'n_estimators': 9}\n",
      "1519.785415 for {'learning_rate': 0.5, 'max_depth': 13, 'n_estimators': 2}\n",
      "1358.611968 for {'learning_rate': 0.5, 'max_depth': 13, 'n_estimators': 3}\n",
      "1308.442289 for {'learning_rate': 0.5, 'max_depth': 13, 'n_estimators': 4}\n",
      "1292.998342 for {'learning_rate': 0.5, 'max_depth': 13, 'n_estimators': 5}\n",
      "1288.006418 for {'learning_rate': 0.5, 'max_depth': 13, 'n_estimators': 6}\n",
      "1287.276613 for {'learning_rate': 0.5, 'max_depth': 13, 'n_estimators': 7}\n",
      "1282.681356 for {'learning_rate': 0.5, 'max_depth': 13, 'n_estimators': 8}\n",
      "1284.794845 for {'learning_rate': 0.5, 'max_depth': 13, 'n_estimators': 9}\n",
      "1509.790173 for {'learning_rate': 0.5, 'max_depth': 14, 'n_estimators': 2}\n",
      "1354.377231 for {'learning_rate': 0.5, 'max_depth': 14, 'n_estimators': 3}\n",
      "1310.184979 for {'learning_rate': 0.5, 'max_depth': 14, 'n_estimators': 4}\n",
      "1296.657978 for {'learning_rate': 0.5, 'max_depth': 14, 'n_estimators': 5}\n",
      "1292.223093 for {'learning_rate': 0.5, 'max_depth': 14, 'n_estimators': 6}\n",
      "1292.299265 for {'learning_rate': 0.5, 'max_depth': 14, 'n_estimators': 7}\n",
      "1292.915080 for {'learning_rate': 0.5, 'max_depth': 14, 'n_estimators': 8}\n",
      "1289.876693 for {'learning_rate': 0.5, 'max_depth': 14, 'n_estimators': 9}\n",
      "1510.909250 for {'learning_rate': 0.5, 'max_depth': 15, 'n_estimators': 2}\n",
      "1362.602081 for {'learning_rate': 0.5, 'max_depth': 15, 'n_estimators': 3}\n",
      "1325.115025 for {'learning_rate': 0.5, 'max_depth': 15, 'n_estimators': 4}\n",
      "1313.082189 for {'learning_rate': 0.5, 'max_depth': 15, 'n_estimators': 5}\n",
      "1312.301316 for {'learning_rate': 0.5, 'max_depth': 15, 'n_estimators': 6}\n",
      "1310.807402 for {'learning_rate': 0.5, 'max_depth': 15, 'n_estimators': 7}\n",
      "1313.635775 for {'learning_rate': 0.5, 'max_depth': 15, 'n_estimators': 8}\n",
      "1314.671181 for {'learning_rate': 0.5, 'max_depth': 15, 'n_estimators': 9}\n",
      "1510.866337 for {'learning_rate': 0.5, 'max_depth': 16, 'n_estimators': 2}\n",
      "1371.376069 for {'learning_rate': 0.5, 'max_depth': 16, 'n_estimators': 3}\n",
      "1332.073615 for {'learning_rate': 0.5, 'max_depth': 16, 'n_estimators': 4}\n",
      "1326.675919 for {'learning_rate': 0.5, 'max_depth': 16, 'n_estimators': 5}\n",
      "1324.906817 for {'learning_rate': 0.5, 'max_depth': 16, 'n_estimators': 6}\n",
      "1327.947946 for {'learning_rate': 0.5, 'max_depth': 16, 'n_estimators': 7}\n",
      "1327.954516 for {'learning_rate': 0.5, 'max_depth': 16, 'n_estimators': 8}\n",
      "1331.583273 for {'learning_rate': 0.5, 'max_depth': 16, 'n_estimators': 9}\n",
      "1516.789550 for {'learning_rate': 0.5, 'max_depth': 17, 'n_estimators': 2}\n",
      "1383.286282 for {'learning_rate': 0.5, 'max_depth': 17, 'n_estimators': 3}\n",
      "1350.381703 for {'learning_rate': 0.5, 'max_depth': 17, 'n_estimators': 4}\n",
      "1344.602145 for {'learning_rate': 0.5, 'max_depth': 17, 'n_estimators': 5}\n",
      "1344.259394 for {'learning_rate': 0.5, 'max_depth': 17, 'n_estimators': 6}\n",
      "1348.436308 for {'learning_rate': 0.5, 'max_depth': 17, 'n_estimators': 7}\n",
      "1347.913481 for {'learning_rate': 0.5, 'max_depth': 17, 'n_estimators': 8}\n",
      "1348.789007 for {'learning_rate': 0.5, 'max_depth': 17, 'n_estimators': 9}\n",
      "1524.773456 for {'learning_rate': 0.5, 'max_depth': 18, 'n_estimators': 2}\n",
      "1397.864456 for {'learning_rate': 0.5, 'max_depth': 18, 'n_estimators': 3}\n",
      "1370.057868 for {'learning_rate': 0.5, 'max_depth': 18, 'n_estimators': 4}\n",
      "1366.296097 for {'learning_rate': 0.5, 'max_depth': 18, 'n_estimators': 5}\n",
      "1366.338734 for {'learning_rate': 0.5, 'max_depth': 18, 'n_estimators': 6}\n",
      "1366.365362 for {'learning_rate': 0.5, 'max_depth': 18, 'n_estimators': 7}\n",
      "1369.540204 for {'learning_rate': 0.5, 'max_depth': 18, 'n_estimators': 8}\n",
      "1368.112330 for {'learning_rate': 0.5, 'max_depth': 18, 'n_estimators': 9}\n",
      "1534.408640 for {'learning_rate': 0.5, 'max_depth': 19, 'n_estimators': 2}\n",
      "1414.513044 for {'learning_rate': 0.5, 'max_depth': 19, 'n_estimators': 3}\n",
      "1388.069677 for {'learning_rate': 0.5, 'max_depth': 19, 'n_estimators': 4}\n",
      "1385.547921 for {'learning_rate': 0.5, 'max_depth': 19, 'n_estimators': 5}\n",
      "1385.957477 for {'learning_rate': 0.5, 'max_depth': 19, 'n_estimators': 6}\n",
      "1388.676663 for {'learning_rate': 0.5, 'max_depth': 19, 'n_estimators': 7}\n",
      "1389.282446 for {'learning_rate': 0.5, 'max_depth': 19, 'n_estimators': 8}\n",
      "1390.778012 for {'learning_rate': 0.5, 'max_depth': 19, 'n_estimators': 9}\n",
      "2073.056558 for {'learning_rate': 0.8, 'max_depth': 2, 'n_estimators': 2}\n",
      "1957.964935 for {'learning_rate': 0.8, 'max_depth': 2, 'n_estimators': 3}\n",
      "1883.386634 for {'learning_rate': 0.8, 'max_depth': 2, 'n_estimators': 4}\n",
      "1821.285328 for {'learning_rate': 0.8, 'max_depth': 2, 'n_estimators': 5}\n",
      "1778.338530 for {'learning_rate': 0.8, 'max_depth': 2, 'n_estimators': 6}\n",
      "1751.747206 for {'learning_rate': 0.8, 'max_depth': 2, 'n_estimators': 7}\n",
      "1731.283606 for {'learning_rate': 0.8, 'max_depth': 2, 'n_estimators': 8}\n",
      "1714.246184 for {'learning_rate': 0.8, 'max_depth': 2, 'n_estimators': 9}\n",
      "1848.494218 for {'learning_rate': 0.8, 'max_depth': 3, 'n_estimators': 2}\n",
      "1736.635543 for {'learning_rate': 0.8, 'max_depth': 3, 'n_estimators': 3}\n",
      "1660.990229 for {'learning_rate': 0.8, 'max_depth': 3, 'n_estimators': 4}\n",
      "1618.477653 for {'learning_rate': 0.8, 'max_depth': 3, 'n_estimators': 5}\n",
      "1588.959587 for {'learning_rate': 0.8, 'max_depth': 3, 'n_estimators': 6}\n",
      "1571.012474 for {'learning_rate': 0.8, 'max_depth': 3, 'n_estimators': 7}\n",
      "1541.168460 for {'learning_rate': 0.8, 'max_depth': 3, 'n_estimators': 8}\n",
      "1512.753637 for {'learning_rate': 0.8, 'max_depth': 3, 'n_estimators': 9}\n",
      "1727.438550 for {'learning_rate': 0.8, 'max_depth': 4, 'n_estimators': 2}\n",
      "1617.528551 for {'learning_rate': 0.8, 'max_depth': 4, 'n_estimators': 3}\n",
      "1562.175717 for {'learning_rate': 0.8, 'max_depth': 4, 'n_estimators': 4}\n",
      "1531.740173 for {'learning_rate': 0.8, 'max_depth': 4, 'n_estimators': 5}\n",
      "1501.482060 for {'learning_rate': 0.8, 'max_depth': 4, 'n_estimators': 6}\n",
      "1479.882212 for {'learning_rate': 0.8, 'max_depth': 4, 'n_estimators': 7}\n",
      "1462.676643 for {'learning_rate': 0.8, 'max_depth': 4, 'n_estimators': 8}\n",
      "1445.346868 for {'learning_rate': 0.8, 'max_depth': 4, 'n_estimators': 9}\n",
      "1636.511613 for {'learning_rate': 0.8, 'max_depth': 5, 'n_estimators': 2}\n",
      "1544.166037 for {'learning_rate': 0.8, 'max_depth': 5, 'n_estimators': 3}\n",
      "1488.951795 for {'learning_rate': 0.8, 'max_depth': 5, 'n_estimators': 4}\n",
      "1453.634254 for {'learning_rate': 0.8, 'max_depth': 5, 'n_estimators': 5}\n",
      "1432.018088 for {'learning_rate': 0.8, 'max_depth': 5, 'n_estimators': 6}\n",
      "1419.083980 for {'learning_rate': 0.8, 'max_depth': 5, 'n_estimators': 7}\n",
      "1405.524220 for {'learning_rate': 0.8, 'max_depth': 5, 'n_estimators': 8}\n",
      "1392.522814 for {'learning_rate': 0.8, 'max_depth': 5, 'n_estimators': 9}\n",
      "1562.605048 for {'learning_rate': 0.8, 'max_depth': 6, 'n_estimators': 2}\n",
      "1472.393707 for {'learning_rate': 0.8, 'max_depth': 6, 'n_estimators': 3}\n",
      "1439.131363 for {'learning_rate': 0.8, 'max_depth': 6, 'n_estimators': 4}\n",
      "1413.598556 for {'learning_rate': 0.8, 'max_depth': 6, 'n_estimators': 5}\n",
      "1394.673160 for {'learning_rate': 0.8, 'max_depth': 6, 'n_estimators': 6}\n",
      "1377.697428 for {'learning_rate': 0.8, 'max_depth': 6, 'n_estimators': 7}\n",
      "1370.901751 for {'learning_rate': 0.8, 'max_depth': 6, 'n_estimators': 8}\n",
      "1360.816986 for {'learning_rate': 0.8, 'max_depth': 6, 'n_estimators': 9}\n",
      "1504.010183 for {'learning_rate': 0.8, 'max_depth': 7, 'n_estimators': 2}\n",
      "1438.086045 for {'learning_rate': 0.8, 'max_depth': 7, 'n_estimators': 3}\n",
      "1408.490520 for {'learning_rate': 0.8, 'max_depth': 7, 'n_estimators': 4}\n",
      "1389.702670 for {'learning_rate': 0.8, 'max_depth': 7, 'n_estimators': 5}\n",
      "1377.175477 for {'learning_rate': 0.8, 'max_depth': 7, 'n_estimators': 6}\n",
      "1365.201910 for {'learning_rate': 0.8, 'max_depth': 7, 'n_estimators': 7}\n",
      "1355.257338 for {'learning_rate': 0.8, 'max_depth': 7, 'n_estimators': 8}\n",
      "1348.997266 for {'learning_rate': 0.8, 'max_depth': 7, 'n_estimators': 9}\n",
      "1456.563951 for {'learning_rate': 0.8, 'max_depth': 8, 'n_estimators': 2}\n",
      "1395.487008 for {'learning_rate': 0.8, 'max_depth': 8, 'n_estimators': 3}\n",
      "1370.945430 for {'learning_rate': 0.8, 'max_depth': 8, 'n_estimators': 4}\n",
      "1358.468844 for {'learning_rate': 0.8, 'max_depth': 8, 'n_estimators': 5}\n",
      "1352.617675 for {'learning_rate': 0.8, 'max_depth': 8, 'n_estimators': 6}\n",
      "1341.454036 for {'learning_rate': 0.8, 'max_depth': 8, 'n_estimators': 7}\n",
      "1337.213483 for {'learning_rate': 0.8, 'max_depth': 8, 'n_estimators': 8}\n",
      "1334.412652 for {'learning_rate': 0.8, 'max_depth': 8, 'n_estimators': 9}\n",
      "1424.356352 for {'learning_rate': 0.8, 'max_depth': 9, 'n_estimators': 2}\n",
      "1378.154110 for {'learning_rate': 0.8, 'max_depth': 9, 'n_estimators': 3}\n",
      "1361.793458 for {'learning_rate': 0.8, 'max_depth': 9, 'n_estimators': 4}\n",
      "1351.088012 for {'learning_rate': 0.8, 'max_depth': 9, 'n_estimators': 5}\n",
      "1343.093708 for {'learning_rate': 0.8, 'max_depth': 9, 'n_estimators': 6}\n",
      "1340.124758 for {'learning_rate': 0.8, 'max_depth': 9, 'n_estimators': 7}\n",
      "1334.596318 for {'learning_rate': 0.8, 'max_depth': 9, 'n_estimators': 8}\n",
      "1335.355669 for {'learning_rate': 0.8, 'max_depth': 9, 'n_estimators': 9}\n",
      "1387.941559 for {'learning_rate': 0.8, 'max_depth': 10, 'n_estimators': 2}\n",
      "1351.768715 for {'learning_rate': 0.8, 'max_depth': 10, 'n_estimators': 3}\n",
      "1345.536068 for {'learning_rate': 0.8, 'max_depth': 10, 'n_estimators': 4}\n",
      "1339.764311 for {'learning_rate': 0.8, 'max_depth': 10, 'n_estimators': 5}\n",
      "1339.057273 for {'learning_rate': 0.8, 'max_depth': 10, 'n_estimators': 6}\n",
      "1337.810696 for {'learning_rate': 0.8, 'max_depth': 10, 'n_estimators': 7}\n",
      "1337.072288 for {'learning_rate': 0.8, 'max_depth': 10, 'n_estimators': 8}\n",
      "1337.643042 for {'learning_rate': 0.8, 'max_depth': 10, 'n_estimators': 9}\n",
      "1375.910633 for {'learning_rate': 0.8, 'max_depth': 11, 'n_estimators': 2}\n",
      "1359.412712 for {'learning_rate': 0.8, 'max_depth': 11, 'n_estimators': 3}\n",
      "1347.120347 for {'learning_rate': 0.8, 'max_depth': 11, 'n_estimators': 4}\n",
      "1345.142075 for {'learning_rate': 0.8, 'max_depth': 11, 'n_estimators': 5}\n",
      "1344.014315 for {'learning_rate': 0.8, 'max_depth': 11, 'n_estimators': 6}\n",
      "1350.962986 for {'learning_rate': 0.8, 'max_depth': 11, 'n_estimators': 7}\n",
      "1350.068141 for {'learning_rate': 0.8, 'max_depth': 11, 'n_estimators': 8}\n",
      "1349.866546 for {'learning_rate': 0.8, 'max_depth': 11, 'n_estimators': 9}\n",
      "1363.778428 for {'learning_rate': 0.8, 'max_depth': 12, 'n_estimators': 2}\n",
      "1357.802758 for {'learning_rate': 0.8, 'max_depth': 12, 'n_estimators': 3}\n",
      "1352.707246 for {'learning_rate': 0.8, 'max_depth': 12, 'n_estimators': 4}\n",
      "1357.184603 for {'learning_rate': 0.8, 'max_depth': 12, 'n_estimators': 5}\n",
      "1359.891935 for {'learning_rate': 0.8, 'max_depth': 12, 'n_estimators': 6}\n",
      "1365.708655 for {'learning_rate': 0.8, 'max_depth': 12, 'n_estimators': 7}\n",
      "1366.484441 for {'learning_rate': 0.8, 'max_depth': 12, 'n_estimators': 8}\n",
      "1371.145527 for {'learning_rate': 0.8, 'max_depth': 12, 'n_estimators': 9}\n",
      "1369.616012 for {'learning_rate': 0.8, 'max_depth': 13, 'n_estimators': 2}\n",
      "1367.043303 for {'learning_rate': 0.8, 'max_depth': 13, 'n_estimators': 3}\n",
      "1371.433193 for {'learning_rate': 0.8, 'max_depth': 13, 'n_estimators': 4}\n",
      "1378.093494 for {'learning_rate': 0.8, 'max_depth': 13, 'n_estimators': 5}\n",
      "1385.816596 for {'learning_rate': 0.8, 'max_depth': 13, 'n_estimators': 6}\n",
      "1384.686415 for {'learning_rate': 0.8, 'max_depth': 13, 'n_estimators': 7}\n",
      "1398.081746 for {'learning_rate': 0.8, 'max_depth': 13, 'n_estimators': 8}\n",
      "1395.662665 for {'learning_rate': 0.8, 'max_depth': 13, 'n_estimators': 9}\n",
      "1382.446877 for {'learning_rate': 0.8, 'max_depth': 14, 'n_estimators': 2}\n",
      "1388.438312 for {'learning_rate': 0.8, 'max_depth': 14, 'n_estimators': 3}\n",
      "1391.065644 for {'learning_rate': 0.8, 'max_depth': 14, 'n_estimators': 4}\n",
      "1398.546161 for {'learning_rate': 0.8, 'max_depth': 14, 'n_estimators': 5}\n",
      "1402.930415 for {'learning_rate': 0.8, 'max_depth': 14, 'n_estimators': 6}\n",
      "1408.800803 for {'learning_rate': 0.8, 'max_depth': 14, 'n_estimators': 7}\n",
      "1416.056809 for {'learning_rate': 0.8, 'max_depth': 14, 'n_estimators': 8}\n",
      "1423.968931 for {'learning_rate': 0.8, 'max_depth': 14, 'n_estimators': 9}\n",
      "1398.964514 for {'learning_rate': 0.8, 'max_depth': 15, 'n_estimators': 2}\n",
      "1407.442952 for {'learning_rate': 0.8, 'max_depth': 15, 'n_estimators': 3}\n",
      "1417.693778 for {'learning_rate': 0.8, 'max_depth': 15, 'n_estimators': 4}\n",
      "1425.593042 for {'learning_rate': 0.8, 'max_depth': 15, 'n_estimators': 5}\n",
      "1431.568466 for {'learning_rate': 0.8, 'max_depth': 15, 'n_estimators': 6}\n",
      "1433.440836 for {'learning_rate': 0.8, 'max_depth': 15, 'n_estimators': 7}\n",
      "1441.563827 for {'learning_rate': 0.8, 'max_depth': 15, 'n_estimators': 8}\n",
      "1442.635258 for {'learning_rate': 0.8, 'max_depth': 15, 'n_estimators': 9}\n",
      "1415.527096 for {'learning_rate': 0.8, 'max_depth': 16, 'n_estimators': 2}\n",
      "1430.191158 for {'learning_rate': 0.8, 'max_depth': 16, 'n_estimators': 3}\n",
      "1440.224888 for {'learning_rate': 0.8, 'max_depth': 16, 'n_estimators': 4}\n",
      "1448.407790 for {'learning_rate': 0.8, 'max_depth': 16, 'n_estimators': 5}\n",
      "1449.417485 for {'learning_rate': 0.8, 'max_depth': 16, 'n_estimators': 6}\n",
      "1457.435499 for {'learning_rate': 0.8, 'max_depth': 16, 'n_estimators': 7}\n",
      "1463.129818 for {'learning_rate': 0.8, 'max_depth': 16, 'n_estimators': 8}\n",
      "1468.360053 for {'learning_rate': 0.8, 'max_depth': 16, 'n_estimators': 9}\n",
      "1432.763283 for {'learning_rate': 0.8, 'max_depth': 17, 'n_estimators': 2}\n",
      "1444.966485 for {'learning_rate': 0.8, 'max_depth': 17, 'n_estimators': 3}\n",
      "1455.751257 for {'learning_rate': 0.8, 'max_depth': 17, 'n_estimators': 4}\n",
      "1460.830428 for {'learning_rate': 0.8, 'max_depth': 17, 'n_estimators': 5}\n",
      "1463.202012 for {'learning_rate': 0.8, 'max_depth': 17, 'n_estimators': 6}\n",
      "1467.680942 for {'learning_rate': 0.8, 'max_depth': 17, 'n_estimators': 7}\n",
      "1473.420467 for {'learning_rate': 0.8, 'max_depth': 17, 'n_estimators': 8}\n",
      "1476.802098 for {'learning_rate': 0.8, 'max_depth': 17, 'n_estimators': 9}\n",
      "1449.160623 for {'learning_rate': 0.8, 'max_depth': 18, 'n_estimators': 2}\n",
      "1464.488417 for {'learning_rate': 0.8, 'max_depth': 18, 'n_estimators': 3}\n",
      "1471.312209 for {'learning_rate': 0.8, 'max_depth': 18, 'n_estimators': 4}\n",
      "1475.102136 for {'learning_rate': 0.8, 'max_depth': 18, 'n_estimators': 5}\n",
      "1483.581447 for {'learning_rate': 0.8, 'max_depth': 18, 'n_estimators': 6}\n",
      "1481.758495 for {'learning_rate': 0.8, 'max_depth': 18, 'n_estimators': 7}\n",
      "1485.176082 for {'learning_rate': 0.8, 'max_depth': 18, 'n_estimators': 8}\n",
      "1490.461936 for {'learning_rate': 0.8, 'max_depth': 18, 'n_estimators': 9}\n",
      "1472.401680 for {'learning_rate': 0.8, 'max_depth': 19, 'n_estimators': 2}\n",
      "1483.322795 for {'learning_rate': 0.8, 'max_depth': 19, 'n_estimators': 3}\n",
      "1492.343244 for {'learning_rate': 0.8, 'max_depth': 19, 'n_estimators': 4}\n",
      "1495.243050 for {'learning_rate': 0.8, 'max_depth': 19, 'n_estimators': 5}\n",
      "1496.145905 for {'learning_rate': 0.8, 'max_depth': 19, 'n_estimators': 6}\n",
      "1497.291116 for {'learning_rate': 0.8, 'max_depth': 19, 'n_estimators': 7}\n",
      "1499.735353 for {'learning_rate': 0.8, 'max_depth': 19, 'n_estimators': 8}\n",
      "1502.300606 for {'learning_rate': 0.8, 'max_depth': 19, 'n_estimators': 9}\n"
     ]
    }
   ],
   "source": [
    "MODEL_SETTINGS = {\n",
    "  'learning_rate': [0.1, 0.5, 0.8],\n",
    "  'n_estimators': [x for x in range (2,10)],\n",
    "  'max_depth': [x for x in range (2,20)]}\n",
    "                \n",
    "best_hypers_for_model(GradientBoostingRegressor(),MODEL_SETTINGS,rmse_scorer)"
   ]
  },
  {
   "cell_type": "code",
   "execution_count": 222,
   "metadata": {
    "scrolled": true
   },
   "outputs": [
    {
     "name": "stdout",
     "output_type": "stream",
     "text": [
      "<catboost.core.CatBoostRegressor object at 0x7f8b09351e8 Best parameters set found on development set:\n",
      "\n",
      "{'iterations': 5, 'learning_rate': 0.8, 'max_depth': 16, 'verbose': False}\n",
      "\n",
      "Grid scores on development set:\n",
      "\n",
      "2954.133004 for {'iterations': 2, 'learning_rate': 0.1, 'max_depth': 2, 'verbose': False}\n",
      "2931.477694 for {'iterations': 2, 'learning_rate': 0.1, 'max_depth': 3, 'verbose': False}\n",
      "2902.735548 for {'iterations': 2, 'learning_rate': 0.1, 'max_depth': 4, 'verbose': False}\n",
      "2884.986579 for {'iterations': 2, 'learning_rate': 0.1, 'max_depth': 5, 'verbose': False}\n",
      "2872.516960 for {'iterations': 2, 'learning_rate': 0.1, 'max_depth': 6, 'verbose': False}\n",
      "2859.026786 for {'iterations': 2, 'learning_rate': 0.1, 'max_depth': 7, 'verbose': False}\n",
      "2845.802138 for {'iterations': 2, 'learning_rate': 0.1, 'max_depth': 8, 'verbose': False}\n",
      "2835.470602 for {'iterations': 2, 'learning_rate': 0.1, 'max_depth': 9, 'verbose': False}\n",
      "2827.555572 for {'iterations': 2, 'learning_rate': 0.1, 'max_depth': 10, 'verbose': False}\n",
      "2820.097643 for {'iterations': 2, 'learning_rate': 0.1, 'max_depth': 11, 'verbose': False}\n",
      "2815.175468 for {'iterations': 2, 'learning_rate': 0.1, 'max_depth': 12, 'verbose': False}\n",
      "2813.465121 for {'iterations': 2, 'learning_rate': 0.1, 'max_depth': 13, 'verbose': False}\n",
      "2810.862318 for {'iterations': 2, 'learning_rate': 0.1, 'max_depth': 14, 'verbose': False}\n",
      "2810.893151 for {'iterations': 2, 'learning_rate': 0.1, 'max_depth': 15, 'verbose': False}\n",
      "2811.565930 for {'iterations': 2, 'learning_rate': 0.1, 'max_depth': 16, 'verbose': False}\n",
      "nan for {'iterations': 2, 'learning_rate': 0.1, 'max_depth': 17, 'verbose': False}\n",
      "nan for {'iterations': 2, 'learning_rate': 0.1, 'max_depth': 18, 'verbose': False}\n",
      "nan for {'iterations': 2, 'learning_rate': 0.1, 'max_depth': 19, 'verbose': False}\n",
      "2237.746048 for {'iterations': 2, 'learning_rate': 0.5, 'max_depth': 2, 'verbose': False}\n",
      "2146.220271 for {'iterations': 2, 'learning_rate': 0.5, 'max_depth': 3, 'verbose': False}\n",
      "2018.560398 for {'iterations': 2, 'learning_rate': 0.5, 'max_depth': 4, 'verbose': False}\n",
      "1970.212880 for {'iterations': 2, 'learning_rate': 0.5, 'max_depth': 5, 'verbose': False}\n",
      "1914.594729 for {'iterations': 2, 'learning_rate': 0.5, 'max_depth': 6, 'verbose': False}\n",
      "1876.310022 for {'iterations': 2, 'learning_rate': 0.5, 'max_depth': 7, 'verbose': False}\n",
      "1837.139382 for {'iterations': 2, 'learning_rate': 0.5, 'max_depth': 8, 'verbose': False}\n",
      "1792.028817 for {'iterations': 2, 'learning_rate': 0.5, 'max_depth': 9, 'verbose': False}\n",
      "1758.686990 for {'iterations': 2, 'learning_rate': 0.5, 'max_depth': 10, 'verbose': False}\n",
      "1736.926771 for {'iterations': 2, 'learning_rate': 0.5, 'max_depth': 11, 'verbose': False}\n",
      "1723.145885 for {'iterations': 2, 'learning_rate': 0.5, 'max_depth': 12, 'verbose': False}\n",
      "1708.561906 for {'iterations': 2, 'learning_rate': 0.5, 'max_depth': 13, 'verbose': False}\n",
      "1702.420928 for {'iterations': 2, 'learning_rate': 0.5, 'max_depth': 14, 'verbose': False}\n",
      "1694.417042 for {'iterations': 2, 'learning_rate': 0.5, 'max_depth': 15, 'verbose': False}\n",
      "1680.168016 for {'iterations': 2, 'learning_rate': 0.5, 'max_depth': 16, 'verbose': False}\n",
      "nan for {'iterations': 2, 'learning_rate': 0.5, 'max_depth': 17, 'verbose': False}\n",
      "nan for {'iterations': 2, 'learning_rate': 0.5, 'max_depth': 18, 'verbose': False}\n",
      "nan for {'iterations': 2, 'learning_rate': 0.5, 'max_depth': 19, 'verbose': False}\n",
      "2113.428057 for {'iterations': 2, 'learning_rate': 0.8, 'max_depth': 2, 'verbose': False}\n",
      "1990.186770 for {'iterations': 2, 'learning_rate': 0.8, 'max_depth': 3, 'verbose': False}\n",
      "1879.525224 for {'iterations': 2, 'learning_rate': 0.8, 'max_depth': 4, 'verbose': False}\n",
      "1785.172261 for {'iterations': 2, 'learning_rate': 0.8, 'max_depth': 5, 'verbose': False}\n",
      "1718.672161 for {'iterations': 2, 'learning_rate': 0.8, 'max_depth': 6, 'verbose': False}\n",
      "1660.863991 for {'iterations': 2, 'learning_rate': 0.8, 'max_depth': 7, 'verbose': False}\n",
      "1602.649743 for {'iterations': 2, 'learning_rate': 0.8, 'max_depth': 8, 'verbose': False}\n",
      "1568.403399 for {'iterations': 2, 'learning_rate': 0.8, 'max_depth': 9, 'verbose': False}\n",
      "1551.339364 for {'iterations': 2, 'learning_rate': 0.8, 'max_depth': 10, 'verbose': False}\n",
      "1510.647194 for {'iterations': 2, 'learning_rate': 0.8, 'max_depth': 11, 'verbose': False}\n",
      "1485.350732 for {'iterations': 2, 'learning_rate': 0.8, 'max_depth': 12, 'verbose': False}\n",
      "1475.484188 for {'iterations': 2, 'learning_rate': 0.8, 'max_depth': 13, 'verbose': False}\n",
      "1467.197121 for {'iterations': 2, 'learning_rate': 0.8, 'max_depth': 14, 'verbose': False}\n",
      "1464.177381 for {'iterations': 2, 'learning_rate': 0.8, 'max_depth': 15, 'verbose': False}\n",
      "1453.691525 for {'iterations': 2, 'learning_rate': 0.8, 'max_depth': 16, 'verbose': False}\n",
      "nan for {'iterations': 2, 'learning_rate': 0.8, 'max_depth': 17, 'verbose': False}\n",
      "nan for {'iterations': 2, 'learning_rate': 0.8, 'max_depth': 18, 'verbose': False}\n",
      "nan for {'iterations': 2, 'learning_rate': 0.8, 'max_depth': 19, 'verbose': False}\n",
      "2831.705889 for {'iterations': 3, 'learning_rate': 0.1, 'max_depth': 2, 'verbose': False}\n",
      "2790.193832 for {'iterations': 3, 'learning_rate': 0.1, 'max_depth': 3, 'verbose': False}\n",
      "2755.631342 for {'iterations': 3, 'learning_rate': 0.1, 'max_depth': 4, 'verbose': False}\n",
      "2736.246934 for {'iterations': 3, 'learning_rate': 0.1, 'max_depth': 5, 'verbose': False}\n",
      "2711.977662 for {'iterations': 3, 'learning_rate': 0.1, 'max_depth': 6, 'verbose': False}\n",
      "2693.193424 for {'iterations': 3, 'learning_rate': 0.1, 'max_depth': 7, 'verbose': False}\n",
      "2674.654406 for {'iterations': 3, 'learning_rate': 0.1, 'max_depth': 8, 'verbose': False}\n",
      "2661.641494 for {'iterations': 3, 'learning_rate': 0.1, 'max_depth': 9, 'verbose': False}\n",
      "2651.684552 for {'iterations': 3, 'learning_rate': 0.1, 'max_depth': 10, 'verbose': False}\n",
      "2640.447727 for {'iterations': 3, 'learning_rate': 0.1, 'max_depth': 11, 'verbose': False}\n",
      "2631.165016 for {'iterations': 3, 'learning_rate': 0.1, 'max_depth': 12, 'verbose': False}\n",
      "2630.008236 for {'iterations': 3, 'learning_rate': 0.1, 'max_depth': 13, 'verbose': False}\n",
      "2626.058680 for {'iterations': 3, 'learning_rate': 0.1, 'max_depth': 14, 'verbose': False}\n",
      "2623.588094 for {'iterations': 3, 'learning_rate': 0.1, 'max_depth': 15, 'verbose': False}\n",
      "2623.482200 for {'iterations': 3, 'learning_rate': 0.1, 'max_depth': 16, 'verbose': False}\n",
      "nan for {'iterations': 3, 'learning_rate': 0.1, 'max_depth': 17, 'verbose': False}\n",
      "nan for {'iterations': 3, 'learning_rate': 0.1, 'max_depth': 18, 'verbose': False}\n",
      "nan for {'iterations': 3, 'learning_rate': 0.1, 'max_depth': 19, 'verbose': False}\n",
      "2061.560052 for {'iterations': 3, 'learning_rate': 0.5, 'max_depth': 2, 'verbose': False}\n",
      "1957.371895 for {'iterations': 3, 'learning_rate': 0.5, 'max_depth': 3, 'verbose': False}\n",
      "1840.601198 for {'iterations': 3, 'learning_rate': 0.5, 'max_depth': 4, 'verbose': False}\n",
      "1781.071408 for {'iterations': 3, 'learning_rate': 0.5, 'max_depth': 5, 'verbose': False}\n",
      "1717.134630 for {'iterations': 3, 'learning_rate': 0.5, 'max_depth': 6, 'verbose': False}\n",
      "1682.551879 for {'iterations': 3, 'learning_rate': 0.5, 'max_depth': 7, 'verbose': False}\n",
      "1643.661516 for {'iterations': 3, 'learning_rate': 0.5, 'max_depth': 8, 'verbose': False}\n",
      "1606.274135 for {'iterations': 3, 'learning_rate': 0.5, 'max_depth': 9, 'verbose': False}\n",
      "1578.348483 for {'iterations': 3, 'learning_rate': 0.5, 'max_depth': 10, 'verbose': False}\n",
      "1545.489670 for {'iterations': 3, 'learning_rate': 0.5, 'max_depth': 11, 'verbose': False}\n",
      "1537.604613 for {'iterations': 3, 'learning_rate': 0.5, 'max_depth': 12, 'verbose': False}\n",
      "1512.028129 for {'iterations': 3, 'learning_rate': 0.5, 'max_depth': 13, 'verbose': False}\n",
      "1495.714961 for {'iterations': 3, 'learning_rate': 0.5, 'max_depth': 14, 'verbose': False}\n",
      "1492.348630 for {'iterations': 3, 'learning_rate': 0.5, 'max_depth': 15, 'verbose': False}\n",
      "1476.810672 for {'iterations': 3, 'learning_rate': 0.5, 'max_depth': 16, 'verbose': False}\n",
      "nan for {'iterations': 3, 'learning_rate': 0.5, 'max_depth': 17, 'verbose': False}\n",
      "nan for {'iterations': 3, 'learning_rate': 0.5, 'max_depth': 18, 'verbose': False}\n",
      "nan for {'iterations': 3, 'learning_rate': 0.5, 'max_depth': 19, 'verbose': False}\n",
      "1973.146461 for {'iterations': 3, 'learning_rate': 0.8, 'max_depth': 2, 'verbose': False}\n",
      "1864.421114 for {'iterations': 3, 'learning_rate': 0.8, 'max_depth': 3, 'verbose': False}\n",
      "1750.468024 for {'iterations': 3, 'learning_rate': 0.8, 'max_depth': 4, 'verbose': False}\n",
      "1665.325245 for {'iterations': 3, 'learning_rate': 0.8, 'max_depth': 5, 'verbose': False}\n",
      "1616.195086 for {'iterations': 3, 'learning_rate': 0.8, 'max_depth': 6, 'verbose': False}\n",
      "1576.735558 for {'iterations': 3, 'learning_rate': 0.8, 'max_depth': 7, 'verbose': False}\n",
      "1523.081632 for {'iterations': 3, 'learning_rate': 0.8, 'max_depth': 8, 'verbose': False}\n",
      "1488.279896 for {'iterations': 3, 'learning_rate': 0.8, 'max_depth': 9, 'verbose': False}\n",
      "1459.856495 for {'iterations': 3, 'learning_rate': 0.8, 'max_depth': 10, 'verbose': False}\n",
      "1435.601894 for {'iterations': 3, 'learning_rate': 0.8, 'max_depth': 11, 'verbose': False}\n",
      "1415.283003 for {'iterations': 3, 'learning_rate': 0.8, 'max_depth': 12, 'verbose': False}\n",
      "1406.565749 for {'iterations': 3, 'learning_rate': 0.8, 'max_depth': 13, 'verbose': False}\n",
      "1400.804773 for {'iterations': 3, 'learning_rate': 0.8, 'max_depth': 14, 'verbose': False}\n",
      "1392.864956 for {'iterations': 3, 'learning_rate': 0.8, 'max_depth': 15, 'verbose': False}\n",
      "1386.746996 for {'iterations': 3, 'learning_rate': 0.8, 'max_depth': 16, 'verbose': False}\n",
      "nan for {'iterations': 3, 'learning_rate': 0.8, 'max_depth': 17, 'verbose': False}\n",
      "nan for {'iterations': 3, 'learning_rate': 0.8, 'max_depth': 18, 'verbose': False}\n",
      "nan for {'iterations': 3, 'learning_rate': 0.8, 'max_depth': 19, 'verbose': False}\n",
      "2626.509440 for {'iterations': 5, 'learning_rate': 0.1, 'max_depth': 2, 'verbose': False}\n",
      "2564.545286 for {'iterations': 5, 'learning_rate': 0.1, 'max_depth': 3, 'verbose': False}\n",
      "2510.293686 for {'iterations': 5, 'learning_rate': 0.1, 'max_depth': 4, 'verbose': False}\n",
      "2474.351039 for {'iterations': 5, 'learning_rate': 0.1, 'max_depth': 5, 'verbose': False}\n",
      "2447.823146 for {'iterations': 5, 'learning_rate': 0.1, 'max_depth': 6, 'verbose': False}\n",
      "2417.523562 for {'iterations': 5, 'learning_rate': 0.1, 'max_depth': 7, 'verbose': False}\n",
      "2391.824570 for {'iterations': 5, 'learning_rate': 0.1, 'max_depth': 8, 'verbose': False}\n",
      "2374.217751 for {'iterations': 5, 'learning_rate': 0.1, 'max_depth': 9, 'verbose': False}\n",
      "2357.821387 for {'iterations': 5, 'learning_rate': 0.1, 'max_depth': 10, 'verbose': False}\n",
      "2342.082149 for {'iterations': 5, 'learning_rate': 0.1, 'max_depth': 11, 'verbose': False}\n",
      "2330.575338 for {'iterations': 5, 'learning_rate': 0.1, 'max_depth': 12, 'verbose': False}\n",
      "2324.953872 for {'iterations': 5, 'learning_rate': 0.1, 'max_depth': 13, 'verbose': False}\n",
      "2319.783018 for {'iterations': 5, 'learning_rate': 0.1, 'max_depth': 14, 'verbose': False}\n",
      "2315.726434 for {'iterations': 5, 'learning_rate': 0.1, 'max_depth': 15, 'verbose': False}\n",
      "2310.279294 for {'iterations': 5, 'learning_rate': 0.1, 'max_depth': 16, 'verbose': False}\n",
      "nan for {'iterations': 5, 'learning_rate': 0.1, 'max_depth': 17, 'verbose': False}\n",
      "nan for {'iterations': 5, 'learning_rate': 0.1, 'max_depth': 18, 'verbose': False}\n",
      "nan for {'iterations': 5, 'learning_rate': 0.1, 'max_depth': 19, 'verbose': False}\n",
      "1883.635174 for {'iterations': 5, 'learning_rate': 0.5, 'max_depth': 2, 'verbose': False}\n",
      "1757.330775 for {'iterations': 5, 'learning_rate': 0.5, 'max_depth': 3, 'verbose': False}\n",
      "1668.547334 for {'iterations': 5, 'learning_rate': 0.5, 'max_depth': 4, 'verbose': False}\n",
      "1614.266669 for {'iterations': 5, 'learning_rate': 0.5, 'max_depth': 5, 'verbose': False}\n",
      "1567.669650 for {'iterations': 5, 'learning_rate': 0.5, 'max_depth': 6, 'verbose': False}\n",
      "1519.281477 for {'iterations': 5, 'learning_rate': 0.5, 'max_depth': 7, 'verbose': False}\n",
      "1479.594584 for {'iterations': 5, 'learning_rate': 0.5, 'max_depth': 8, 'verbose': False}\n",
      "1454.466767 for {'iterations': 5, 'learning_rate': 0.5, 'max_depth': 9, 'verbose': False}\n",
      "1422.409065 for {'iterations': 5, 'learning_rate': 0.5, 'max_depth': 10, 'verbose': False}\n",
      "1407.086578 for {'iterations': 5, 'learning_rate': 0.5, 'max_depth': 11, 'verbose': False}\n",
      "1388.722294 for {'iterations': 5, 'learning_rate': 0.5, 'max_depth': 12, 'verbose': False}\n",
      "1383.798522 for {'iterations': 5, 'learning_rate': 0.5, 'max_depth': 13, 'verbose': False}\n",
      "1368.436546 for {'iterations': 5, 'learning_rate': 0.5, 'max_depth': 14, 'verbose': False}\n",
      "1361.282225 for {'iterations': 5, 'learning_rate': 0.5, 'max_depth': 15, 'verbose': False}\n",
      "1357.741524 for {'iterations': 5, 'learning_rate': 0.5, 'max_depth': 16, 'verbose': False}\n",
      "nan for {'iterations': 5, 'learning_rate': 0.5, 'max_depth': 17, 'verbose': False}\n",
      "nan for {'iterations': 5, 'learning_rate': 0.5, 'max_depth': 18, 'verbose': False}\n",
      "nan for {'iterations': 5, 'learning_rate': 0.5, 'max_depth': 19, 'verbose': False}\n",
      "1842.089941 for {'iterations': 5, 'learning_rate': 0.8, 'max_depth': 2, 'verbose': False}\n",
      "1719.206715 for {'iterations': 5, 'learning_rate': 0.8, 'max_depth': 3, 'verbose': False}\n",
      "1635.581447 for {'iterations': 5, 'learning_rate': 0.8, 'max_depth': 4, 'verbose': False}\n",
      "1569.270544 for {'iterations': 5, 'learning_rate': 0.8, 'max_depth': 5, 'verbose': False}\n",
      "1514.349279 for {'iterations': 5, 'learning_rate': 0.8, 'max_depth': 6, 'verbose': False}\n",
      "1464.924069 for {'iterations': 5, 'learning_rate': 0.8, 'max_depth': 7, 'verbose': False}\n",
      "1421.139825 for {'iterations': 5, 'learning_rate': 0.8, 'max_depth': 8, 'verbose': False}\n",
      "1406.121370 for {'iterations': 5, 'learning_rate': 0.8, 'max_depth': 9, 'verbose': False}\n",
      "1391.869795 for {'iterations': 5, 'learning_rate': 0.8, 'max_depth': 10, 'verbose': False}\n",
      "1369.919959 for {'iterations': 5, 'learning_rate': 0.8, 'max_depth': 11, 'verbose': False}\n",
      "1355.569418 for {'iterations': 5, 'learning_rate': 0.8, 'max_depth': 12, 'verbose': False}\n",
      "1350.261029 for {'iterations': 5, 'learning_rate': 0.8, 'max_depth': 13, 'verbose': False}\n",
      "1342.385582 for {'iterations': 5, 'learning_rate': 0.8, 'max_depth': 14, 'verbose': False}\n",
      "1342.268506 for {'iterations': 5, 'learning_rate': 0.8, 'max_depth': 15, 'verbose': False}\n",
      "1332.129533 for {'iterations': 5, 'learning_rate': 0.8, 'max_depth': 16, 'verbose': False}\n",
      "nan for {'iterations': 5, 'learning_rate': 0.8, 'max_depth': 17, 'verbose': False}\n",
      "nan for {'iterations': 5, 'learning_rate': 0.8, 'max_depth': 18, 'verbose': False}\n",
      "nan for {'iterations': 5, 'learning_rate': 0.8, 'max_depth': 19, 'verbose': False}\n"
     ]
    }
   ],
   "source": [
    "MODEL_SETTINGS = {\n",
    "  'verbose':[False],\n",
    "  'learning_rate': [0.1, 0.5, 0.8],\n",
    "  'iterations': [2,3,5],\n",
    "  'max_depth': [x for x in range (2,20)]}\n",
    "best_hypers_for_model(CatBoostRegressor(),MODEL_SETTINGS,rmse_scorer)\n"
   ]
  },
  {
   "cell_type": "code",
   "execution_count": 223,
   "metadata": {},
   "outputs": [
    {
     "name": "stdout",
     "output_type": "stream",
     "text": [
      "LGBMRegressor Best parameters set found on development set:\n",
      "\n",
      "{'learning_rate': 0.8, 'max_depth': 9, 'n_estimators': 9, 'random_state': 12345}\n",
      "\n",
      "Grid scores on development set:\n",
      "\n",
      "2951.679244 for {'learning_rate': 0.1, 'max_depth': 2, 'n_estimators': 2, 'random_state': 12345}\n",
      "2826.407905 for {'learning_rate': 0.1, 'max_depth': 2, 'n_estimators': 3, 'random_state': 12345}\n",
      "2713.732516 for {'learning_rate': 0.1, 'max_depth': 2, 'n_estimators': 4, 'random_state': 12345}\n",
      "2618.312798 for {'learning_rate': 0.1, 'max_depth': 2, 'n_estimators': 5, 'random_state': 12345}\n",
      "2533.033752 for {'learning_rate': 0.1, 'max_depth': 2, 'n_estimators': 6, 'random_state': 12345}\n",
      "2456.718578 for {'learning_rate': 0.1, 'max_depth': 2, 'n_estimators': 7, 'random_state': 12345}\n",
      "2387.441665 for {'learning_rate': 0.1, 'max_depth': 2, 'n_estimators': 8, 'random_state': 12345}\n",
      "2319.438276 for {'learning_rate': 0.1, 'max_depth': 2, 'n_estimators': 9, 'random_state': 12345}\n",
      "2903.999410 for {'learning_rate': 0.1, 'max_depth': 3, 'n_estimators': 2, 'random_state': 12345}\n",
      "2761.020210 for {'learning_rate': 0.1, 'max_depth': 3, 'n_estimators': 3, 'random_state': 12345}\n",
      "2629.110600 for {'learning_rate': 0.1, 'max_depth': 3, 'n_estimators': 4, 'random_state': 12345}\n",
      "2517.904124 for {'learning_rate': 0.1, 'max_depth': 3, 'n_estimators': 5, 'random_state': 12345}\n",
      "2419.277830 for {'learning_rate': 0.1, 'max_depth': 3, 'n_estimators': 6, 'random_state': 12345}\n",
      "2332.663907 for {'learning_rate': 0.1, 'max_depth': 3, 'n_estimators': 7, 'random_state': 12345}\n",
      "2259.773016 for {'learning_rate': 0.1, 'max_depth': 3, 'n_estimators': 8, 'random_state': 12345}\n",
      "2193.932787 for {'learning_rate': 0.1, 'max_depth': 3, 'n_estimators': 9, 'random_state': 12345}\n",
      "2863.148092 for {'learning_rate': 0.1, 'max_depth': 4, 'n_estimators': 2, 'random_state': 12345}\n",
      "2702.431396 for {'learning_rate': 0.1, 'max_depth': 4, 'n_estimators': 3, 'random_state': 12345}\n",
      "2564.431239 for {'learning_rate': 0.1, 'max_depth': 4, 'n_estimators': 4, 'random_state': 12345}\n",
      "2438.893965 for {'learning_rate': 0.1, 'max_depth': 4, 'n_estimators': 5, 'random_state': 12345}\n",
      "2330.778451 for {'learning_rate': 0.1, 'max_depth': 4, 'n_estimators': 6, 'random_state': 12345}\n",
      "2235.209522 for {'learning_rate': 0.1, 'max_depth': 4, 'n_estimators': 7, 'random_state': 12345}\n",
      "2154.570369 for {'learning_rate': 0.1, 'max_depth': 4, 'n_estimators': 8, 'random_state': 12345}\n",
      "2081.227629 for {'learning_rate': 0.1, 'max_depth': 4, 'n_estimators': 9, 'random_state': 12345}\n",
      "2834.872468 for {'learning_rate': 0.1, 'max_depth': 5, 'n_estimators': 2, 'random_state': 12345}\n",
      "2661.586272 for {'learning_rate': 0.1, 'max_depth': 5, 'n_estimators': 3, 'random_state': 12345}\n",
      "2510.598258 for {'learning_rate': 0.1, 'max_depth': 5, 'n_estimators': 4, 'random_state': 12345}\n",
      "2379.166393 for {'learning_rate': 0.1, 'max_depth': 5, 'n_estimators': 5, 'random_state': 12345}\n",
      "2264.566424 for {'learning_rate': 0.1, 'max_depth': 5, 'n_estimators': 6, 'random_state': 12345}\n",
      "2163.866178 for {'learning_rate': 0.1, 'max_depth': 5, 'n_estimators': 7, 'random_state': 12345}\n",
      "2077.801550 for {'learning_rate': 0.1, 'max_depth': 5, 'n_estimators': 8, 'random_state': 12345}\n",
      "2002.727528 for {'learning_rate': 0.1, 'max_depth': 5, 'n_estimators': 9, 'random_state': 12345}\n",
      "2827.740094 for {'learning_rate': 0.1, 'max_depth': 6, 'n_estimators': 2, 'random_state': 12345}\n",
      "2652.295041 for {'learning_rate': 0.1, 'max_depth': 6, 'n_estimators': 3, 'random_state': 12345}\n",
      "2499.214382 for {'learning_rate': 0.1, 'max_depth': 6, 'n_estimators': 4, 'random_state': 12345}\n",
      "2365.929176 for {'learning_rate': 0.1, 'max_depth': 6, 'n_estimators': 5, 'random_state': 12345}\n",
      "2250.707339 for {'learning_rate': 0.1, 'max_depth': 6, 'n_estimators': 6, 'random_state': 12345}\n",
      "2148.129689 for {'learning_rate': 0.1, 'max_depth': 6, 'n_estimators': 7, 'random_state': 12345}\n",
      "2059.018051 for {'learning_rate': 0.1, 'max_depth': 6, 'n_estimators': 8, 'random_state': 12345}\n",
      "1981.082471 for {'learning_rate': 0.1, 'max_depth': 6, 'n_estimators': 9, 'random_state': 12345}\n",
      "2827.659418 for {'learning_rate': 0.1, 'max_depth': 7, 'n_estimators': 2, 'random_state': 12345}\n",
      "2652.196552 for {'learning_rate': 0.1, 'max_depth': 7, 'n_estimators': 3, 'random_state': 12345}\n",
      "2498.192947 for {'learning_rate': 0.1, 'max_depth': 7, 'n_estimators': 4, 'random_state': 12345}\n",
      "2364.076511 for {'learning_rate': 0.1, 'max_depth': 7, 'n_estimators': 5, 'random_state': 12345}\n",
      "2248.556821 for {'learning_rate': 0.1, 'max_depth': 7, 'n_estimators': 6, 'random_state': 12345}\n",
      "2145.510820 for {'learning_rate': 0.1, 'max_depth': 7, 'n_estimators': 7, 'random_state': 12345}\n",
      "2056.271290 for {'learning_rate': 0.1, 'max_depth': 7, 'n_estimators': 8, 'random_state': 12345}\n",
      "1978.029031 for {'learning_rate': 0.1, 'max_depth': 7, 'n_estimators': 9, 'random_state': 12345}\n",
      "2827.659418 for {'learning_rate': 0.1, 'max_depth': 8, 'n_estimators': 2, 'random_state': 12345}\n",
      "2652.196552 for {'learning_rate': 0.1, 'max_depth': 8, 'n_estimators': 3, 'random_state': 12345}\n",
      "2498.192947 for {'learning_rate': 0.1, 'max_depth': 8, 'n_estimators': 4, 'random_state': 12345}\n",
      "2364.046642 for {'learning_rate': 0.1, 'max_depth': 8, 'n_estimators': 5, 'random_state': 12345}\n",
      "2248.547429 for {'learning_rate': 0.1, 'max_depth': 8, 'n_estimators': 6, 'random_state': 12345}\n",
      "2145.446953 for {'learning_rate': 0.1, 'max_depth': 8, 'n_estimators': 7, 'random_state': 12345}\n",
      "2055.804266 for {'learning_rate': 0.1, 'max_depth': 8, 'n_estimators': 8, 'random_state': 12345}\n",
      "1977.705328 for {'learning_rate': 0.1, 'max_depth': 8, 'n_estimators': 9, 'random_state': 12345}\n",
      "2827.659418 for {'learning_rate': 0.1, 'max_depth': 9, 'n_estimators': 2, 'random_state': 12345}\n",
      "2652.196552 for {'learning_rate': 0.1, 'max_depth': 9, 'n_estimators': 3, 'random_state': 12345}\n",
      "2498.192947 for {'learning_rate': 0.1, 'max_depth': 9, 'n_estimators': 4, 'random_state': 12345}\n",
      "2364.046642 for {'learning_rate': 0.1, 'max_depth': 9, 'n_estimators': 5, 'random_state': 12345}\n",
      "2248.547429 for {'learning_rate': 0.1, 'max_depth': 9, 'n_estimators': 6, 'random_state': 12345}\n",
      "2145.446953 for {'learning_rate': 0.1, 'max_depth': 9, 'n_estimators': 7, 'random_state': 12345}\n",
      "2055.804266 for {'learning_rate': 0.1, 'max_depth': 9, 'n_estimators': 8, 'random_state': 12345}\n",
      "1977.705328 for {'learning_rate': 0.1, 'max_depth': 9, 'n_estimators': 9, 'random_state': 12345}\n",
      "2827.659418 for {'learning_rate': 0.1, 'max_depth': 10, 'n_estimators': 2, 'random_state': 12345}\n",
      "2652.196552 for {'learning_rate': 0.1, 'max_depth': 10, 'n_estimators': 3, 'random_state': 12345}\n",
      "2498.192947 for {'learning_rate': 0.1, 'max_depth': 10, 'n_estimators': 4, 'random_state': 12345}\n",
      "2364.046642 for {'learning_rate': 0.1, 'max_depth': 10, 'n_estimators': 5, 'random_state': 12345}\n",
      "2248.547429 for {'learning_rate': 0.1, 'max_depth': 10, 'n_estimators': 6, 'random_state': 12345}\n",
      "2145.446953 for {'learning_rate': 0.1, 'max_depth': 10, 'n_estimators': 7, 'random_state': 12345}\n",
      "2055.804266 for {'learning_rate': 0.1, 'max_depth': 10, 'n_estimators': 8, 'random_state': 12345}\n",
      "1977.705328 for {'learning_rate': 0.1, 'max_depth': 10, 'n_estimators': 9, 'random_state': 12345}\n",
      "2827.659418 for {'learning_rate': 0.1, 'max_depth': 11, 'n_estimators': 2, 'random_state': 12345}\n",
      "2652.196552 for {'learning_rate': 0.1, 'max_depth': 11, 'n_estimators': 3, 'random_state': 12345}\n",
      "2498.192947 for {'learning_rate': 0.1, 'max_depth': 11, 'n_estimators': 4, 'random_state': 12345}\n",
      "2364.046642 for {'learning_rate': 0.1, 'max_depth': 11, 'n_estimators': 5, 'random_state': 12345}\n",
      "2248.547429 for {'learning_rate': 0.1, 'max_depth': 11, 'n_estimators': 6, 'random_state': 12345}\n",
      "2145.446953 for {'learning_rate': 0.1, 'max_depth': 11, 'n_estimators': 7, 'random_state': 12345}\n",
      "2055.804266 for {'learning_rate': 0.1, 'max_depth': 11, 'n_estimators': 8, 'random_state': 12345}\n",
      "1977.705328 for {'learning_rate': 0.1, 'max_depth': 11, 'n_estimators': 9, 'random_state': 12345}\n",
      "2827.659418 for {'learning_rate': 0.1, 'max_depth': 12, 'n_estimators': 2, 'random_state': 12345}\n",
      "2652.196552 for {'learning_rate': 0.1, 'max_depth': 12, 'n_estimators': 3, 'random_state': 12345}\n",
      "2498.192947 for {'learning_rate': 0.1, 'max_depth': 12, 'n_estimators': 4, 'random_state': 12345}\n",
      "2364.046642 for {'learning_rate': 0.1, 'max_depth': 12, 'n_estimators': 5, 'random_state': 12345}\n",
      "2248.547429 for {'learning_rate': 0.1, 'max_depth': 12, 'n_estimators': 6, 'random_state': 12345}\n",
      "2145.446953 for {'learning_rate': 0.1, 'max_depth': 12, 'n_estimators': 7, 'random_state': 12345}\n",
      "2055.804266 for {'learning_rate': 0.1, 'max_depth': 12, 'n_estimators': 8, 'random_state': 12345}\n",
      "1977.705328 for {'learning_rate': 0.1, 'max_depth': 12, 'n_estimators': 9, 'random_state': 12345}\n",
      "2827.659418 for {'learning_rate': 0.1, 'max_depth': 13, 'n_estimators': 2, 'random_state': 12345}\n",
      "2652.196552 for {'learning_rate': 0.1, 'max_depth': 13, 'n_estimators': 3, 'random_state': 12345}\n",
      "2498.192947 for {'learning_rate': 0.1, 'max_depth': 13, 'n_estimators': 4, 'random_state': 12345}\n",
      "2364.046642 for {'learning_rate': 0.1, 'max_depth': 13, 'n_estimators': 5, 'random_state': 12345}\n",
      "2248.547429 for {'learning_rate': 0.1, 'max_depth': 13, 'n_estimators': 6, 'random_state': 12345}\n",
      "2145.446953 for {'learning_rate': 0.1, 'max_depth': 13, 'n_estimators': 7, 'random_state': 12345}\n",
      "2055.804266 for {'learning_rate': 0.1, 'max_depth': 13, 'n_estimators': 8, 'random_state': 12345}\n",
      "1977.705328 for {'learning_rate': 0.1, 'max_depth': 13, 'n_estimators': 9, 'random_state': 12345}\n",
      "2827.659418 for {'learning_rate': 0.1, 'max_depth': 14, 'n_estimators': 2, 'random_state': 12345}\n",
      "2652.196552 for {'learning_rate': 0.1, 'max_depth': 14, 'n_estimators': 3, 'random_state': 12345}\n",
      "2498.192947 for {'learning_rate': 0.1, 'max_depth': 14, 'n_estimators': 4, 'random_state': 12345}\n",
      "2364.046642 for {'learning_rate': 0.1, 'max_depth': 14, 'n_estimators': 5, 'random_state': 12345}\n",
      "2248.547429 for {'learning_rate': 0.1, 'max_depth': 14, 'n_estimators': 6, 'random_state': 12345}\n",
      "2145.446953 for {'learning_rate': 0.1, 'max_depth': 14, 'n_estimators': 7, 'random_state': 12345}\n",
      "2055.804266 for {'learning_rate': 0.1, 'max_depth': 14, 'n_estimators': 8, 'random_state': 12345}\n",
      "1977.705328 for {'learning_rate': 0.1, 'max_depth': 14, 'n_estimators': 9, 'random_state': 12345}\n",
      "2827.659418 for {'learning_rate': 0.1, 'max_depth': 15, 'n_estimators': 2, 'random_state': 12345}\n",
      "2652.196552 for {'learning_rate': 0.1, 'max_depth': 15, 'n_estimators': 3, 'random_state': 12345}\n",
      "2498.192947 for {'learning_rate': 0.1, 'max_depth': 15, 'n_estimators': 4, 'random_state': 12345}\n",
      "2364.046642 for {'learning_rate': 0.1, 'max_depth': 15, 'n_estimators': 5, 'random_state': 12345}\n",
      "2248.547429 for {'learning_rate': 0.1, 'max_depth': 15, 'n_estimators': 6, 'random_state': 12345}\n",
      "2145.446953 for {'learning_rate': 0.1, 'max_depth': 15, 'n_estimators': 7, 'random_state': 12345}\n",
      "2055.804266 for {'learning_rate': 0.1, 'max_depth': 15, 'n_estimators': 8, 'random_state': 12345}\n",
      "1977.705328 for {'learning_rate': 0.1, 'max_depth': 15, 'n_estimators': 9, 'random_state': 12345}\n",
      "2827.659418 for {'learning_rate': 0.1, 'max_depth': 16, 'n_estimators': 2, 'random_state': 12345}\n",
      "2652.196552 for {'learning_rate': 0.1, 'max_depth': 16, 'n_estimators': 3, 'random_state': 12345}\n",
      "2498.192947 for {'learning_rate': 0.1, 'max_depth': 16, 'n_estimators': 4, 'random_state': 12345}\n",
      "2364.046642 for {'learning_rate': 0.1, 'max_depth': 16, 'n_estimators': 5, 'random_state': 12345}\n",
      "2248.547429 for {'learning_rate': 0.1, 'max_depth': 16, 'n_estimators': 6, 'random_state': 12345}\n",
      "2145.446953 for {'learning_rate': 0.1, 'max_depth': 16, 'n_estimators': 7, 'random_state': 12345}\n",
      "2055.804266 for {'learning_rate': 0.1, 'max_depth': 16, 'n_estimators': 8, 'random_state': 12345}\n",
      "1977.705328 for {'learning_rate': 0.1, 'max_depth': 16, 'n_estimators': 9, 'random_state': 12345}\n",
      "2827.659418 for {'learning_rate': 0.1, 'max_depth': 17, 'n_estimators': 2, 'random_state': 12345}\n",
      "2652.196552 for {'learning_rate': 0.1, 'max_depth': 17, 'n_estimators': 3, 'random_state': 12345}\n",
      "2498.192947 for {'learning_rate': 0.1, 'max_depth': 17, 'n_estimators': 4, 'random_state': 12345}\n",
      "2364.046642 for {'learning_rate': 0.1, 'max_depth': 17, 'n_estimators': 5, 'random_state': 12345}\n",
      "2248.547429 for {'learning_rate': 0.1, 'max_depth': 17, 'n_estimators': 6, 'random_state': 12345}\n",
      "2145.446953 for {'learning_rate': 0.1, 'max_depth': 17, 'n_estimators': 7, 'random_state': 12345}\n",
      "2055.804266 for {'learning_rate': 0.1, 'max_depth': 17, 'n_estimators': 8, 'random_state': 12345}\n",
      "1977.705328 for {'learning_rate': 0.1, 'max_depth': 17, 'n_estimators': 9, 'random_state': 12345}\n",
      "2827.659418 for {'learning_rate': 0.1, 'max_depth': 18, 'n_estimators': 2, 'random_state': 12345}\n",
      "2652.196552 for {'learning_rate': 0.1, 'max_depth': 18, 'n_estimators': 3, 'random_state': 12345}\n",
      "2498.192947 for {'learning_rate': 0.1, 'max_depth': 18, 'n_estimators': 4, 'random_state': 12345}\n",
      "2364.046642 for {'learning_rate': 0.1, 'max_depth': 18, 'n_estimators': 5, 'random_state': 12345}\n",
      "2248.547429 for {'learning_rate': 0.1, 'max_depth': 18, 'n_estimators': 6, 'random_state': 12345}\n",
      "2145.446953 for {'learning_rate': 0.1, 'max_depth': 18, 'n_estimators': 7, 'random_state': 12345}\n",
      "2055.804266 for {'learning_rate': 0.1, 'max_depth': 18, 'n_estimators': 8, 'random_state': 12345}\n",
      "1977.705328 for {'learning_rate': 0.1, 'max_depth': 18, 'n_estimators': 9, 'random_state': 12345}\n",
      "2827.659418 for {'learning_rate': 0.1, 'max_depth': 19, 'n_estimators': 2, 'random_state': 12345}\n",
      "2652.196552 for {'learning_rate': 0.1, 'max_depth': 19, 'n_estimators': 3, 'random_state': 12345}\n",
      "2498.192947 for {'learning_rate': 0.1, 'max_depth': 19, 'n_estimators': 4, 'random_state': 12345}\n",
      "2364.046642 for {'learning_rate': 0.1, 'max_depth': 19, 'n_estimators': 5, 'random_state': 12345}\n",
      "2248.547429 for {'learning_rate': 0.1, 'max_depth': 19, 'n_estimators': 6, 'random_state': 12345}\n",
      "2145.446953 for {'learning_rate': 0.1, 'max_depth': 19, 'n_estimators': 7, 'random_state': 12345}\n",
      "2055.804266 for {'learning_rate': 0.1, 'max_depth': 19, 'n_estimators': 8, 'random_state': 12345}\n",
      "1977.705328 for {'learning_rate': 0.1, 'max_depth': 19, 'n_estimators': 9, 'random_state': 12345}\n",
      "2227.046097 for {'learning_rate': 0.5, 'max_depth': 2, 'n_estimators': 2, 'random_state': 12345}\n",
      "2002.731033 for {'learning_rate': 0.5, 'max_depth': 2, 'n_estimators': 3, 'random_state': 12345}\n",
      "1904.497126 for {'learning_rate': 0.5, 'max_depth': 2, 'n_estimators': 4, 'random_state': 12345}\n",
      "1836.836074 for {'learning_rate': 0.5, 'max_depth': 2, 'n_estimators': 5, 'random_state': 12345}\n",
      "1775.832490 for {'learning_rate': 0.5, 'max_depth': 2, 'n_estimators': 6, 'random_state': 12345}\n",
      "1733.676387 for {'learning_rate': 0.5, 'max_depth': 2, 'n_estimators': 7, 'random_state': 12345}\n",
      "1700.880648 for {'learning_rate': 0.5, 'max_depth': 2, 'n_estimators': 8, 'random_state': 12345}\n",
      "1682.378154 for {'learning_rate': 0.5, 'max_depth': 2, 'n_estimators': 9, 'random_state': 12345}\n",
      "2045.681036 for {'learning_rate': 0.5, 'max_depth': 3, 'n_estimators': 2, 'random_state': 12345}\n",
      "1884.187301 for {'learning_rate': 0.5, 'max_depth': 3, 'n_estimators': 3, 'random_state': 12345}\n",
      "1771.950264 for {'learning_rate': 0.5, 'max_depth': 3, 'n_estimators': 4, 'random_state': 12345}\n",
      "1710.333405 for {'learning_rate': 0.5, 'max_depth': 3, 'n_estimators': 5, 'random_state': 12345}\n",
      "1663.920025 for {'learning_rate': 0.5, 'max_depth': 3, 'n_estimators': 6, 'random_state': 12345}\n",
      "1628.236157 for {'learning_rate': 0.5, 'max_depth': 3, 'n_estimators': 7, 'random_state': 12345}\n",
      "1602.699993 for {'learning_rate': 0.5, 'max_depth': 3, 'n_estimators': 8, 'random_state': 12345}\n",
      "1582.241879 for {'learning_rate': 0.5, 'max_depth': 3, 'n_estimators': 9, 'random_state': 12345}\n",
      "1920.979080 for {'learning_rate': 0.5, 'max_depth': 4, 'n_estimators': 2, 'random_state': 12345}\n",
      "1733.786218 for {'learning_rate': 0.5, 'max_depth': 4, 'n_estimators': 3, 'random_state': 12345}\n",
      "1643.047067 for {'learning_rate': 0.5, 'max_depth': 4, 'n_estimators': 4, 'random_state': 12345}\n",
      "1582.367455 for {'learning_rate': 0.5, 'max_depth': 4, 'n_estimators': 5, 'random_state': 12345}\n",
      "1538.748949 for {'learning_rate': 0.5, 'max_depth': 4, 'n_estimators': 6, 'random_state': 12345}\n",
      "1510.851441 for {'learning_rate': 0.5, 'max_depth': 4, 'n_estimators': 7, 'random_state': 12345}\n",
      "1473.250508 for {'learning_rate': 0.5, 'max_depth': 4, 'n_estimators': 8, 'random_state': 12345}\n",
      "1457.232446 for {'learning_rate': 0.5, 'max_depth': 4, 'n_estimators': 9, 'random_state': 12345}\n",
      "1830.791140 for {'learning_rate': 0.5, 'max_depth': 5, 'n_estimators': 2, 'random_state': 12345}\n",
      "1657.410066 for {'learning_rate': 0.5, 'max_depth': 5, 'n_estimators': 3, 'random_state': 12345}\n",
      "1569.127714 for {'learning_rate': 0.5, 'max_depth': 5, 'n_estimators': 4, 'random_state': 12345}\n",
      "1504.517261 for {'learning_rate': 0.5, 'max_depth': 5, 'n_estimators': 5, 'random_state': 12345}\n",
      "1463.375580 for {'learning_rate': 0.5, 'max_depth': 5, 'n_estimators': 6, 'random_state': 12345}\n",
      "1443.375239 for {'learning_rate': 0.5, 'max_depth': 5, 'n_estimators': 7, 'random_state': 12345}\n",
      "1419.724795 for {'learning_rate': 0.5, 'max_depth': 5, 'n_estimators': 8, 'random_state': 12345}\n",
      "1402.126579 for {'learning_rate': 0.5, 'max_depth': 5, 'n_estimators': 9, 'random_state': 12345}\n",
      "1802.256635 for {'learning_rate': 0.5, 'max_depth': 6, 'n_estimators': 2, 'random_state': 12345}\n",
      "1614.800772 for {'learning_rate': 0.5, 'max_depth': 6, 'n_estimators': 3, 'random_state': 12345}\n",
      "1525.880547 for {'learning_rate': 0.5, 'max_depth': 6, 'n_estimators': 4, 'random_state': 12345}\n",
      "1469.642510 for {'learning_rate': 0.5, 'max_depth': 6, 'n_estimators': 5, 'random_state': 12345}\n",
      "1442.226622 for {'learning_rate': 0.5, 'max_depth': 6, 'n_estimators': 6, 'random_state': 12345}\n",
      "1410.574593 for {'learning_rate': 0.5, 'max_depth': 6, 'n_estimators': 7, 'random_state': 12345}\n",
      "1392.036393 for {'learning_rate': 0.5, 'max_depth': 6, 'n_estimators': 8, 'random_state': 12345}\n",
      "1382.749022 for {'learning_rate': 0.5, 'max_depth': 6, 'n_estimators': 9, 'random_state': 12345}\n",
      "1799.499733 for {'learning_rate': 0.5, 'max_depth': 7, 'n_estimators': 2, 'random_state': 12345}\n",
      "1604.080090 for {'learning_rate': 0.5, 'max_depth': 7, 'n_estimators': 3, 'random_state': 12345}\n",
      "1507.120518 for {'learning_rate': 0.5, 'max_depth': 7, 'n_estimators': 4, 'random_state': 12345}\n",
      "1448.999538 for {'learning_rate': 0.5, 'max_depth': 7, 'n_estimators': 5, 'random_state': 12345}\n",
      "1421.371941 for {'learning_rate': 0.5, 'max_depth': 7, 'n_estimators': 6, 'random_state': 12345}\n",
      "1399.182091 for {'learning_rate': 0.5, 'max_depth': 7, 'n_estimators': 7, 'random_state': 12345}\n",
      "1384.378412 for {'learning_rate': 0.5, 'max_depth': 7, 'n_estimators': 8, 'random_state': 12345}\n",
      "1368.876894 for {'learning_rate': 0.5, 'max_depth': 7, 'n_estimators': 9, 'random_state': 12345}\n",
      "1799.118412 for {'learning_rate': 0.5, 'max_depth': 8, 'n_estimators': 2, 'random_state': 12345}\n",
      "1602.318597 for {'learning_rate': 0.5, 'max_depth': 8, 'n_estimators': 3, 'random_state': 12345}\n",
      "1498.279915 for {'learning_rate': 0.5, 'max_depth': 8, 'n_estimators': 4, 'random_state': 12345}\n",
      "1442.938268 for {'learning_rate': 0.5, 'max_depth': 8, 'n_estimators': 5, 'random_state': 12345}\n",
      "1416.035486 for {'learning_rate': 0.5, 'max_depth': 8, 'n_estimators': 6, 'random_state': 12345}\n",
      "1395.624784 for {'learning_rate': 0.5, 'max_depth': 8, 'n_estimators': 7, 'random_state': 12345}\n",
      "1381.052320 for {'learning_rate': 0.5, 'max_depth': 8, 'n_estimators': 8, 'random_state': 12345}\n",
      "1371.534129 for {'learning_rate': 0.5, 'max_depth': 8, 'n_estimators': 9, 'random_state': 12345}\n",
      "1799.323626 for {'learning_rate': 0.5, 'max_depth': 9, 'n_estimators': 2, 'random_state': 12345}\n",
      "1602.110175 for {'learning_rate': 0.5, 'max_depth': 9, 'n_estimators': 3, 'random_state': 12345}\n",
      "1496.532281 for {'learning_rate': 0.5, 'max_depth': 9, 'n_estimators': 4, 'random_state': 12345}\n",
      "1444.718845 for {'learning_rate': 0.5, 'max_depth': 9, 'n_estimators': 5, 'random_state': 12345}\n",
      "1415.798112 for {'learning_rate': 0.5, 'max_depth': 9, 'n_estimators': 6, 'random_state': 12345}\n",
      "1390.514649 for {'learning_rate': 0.5, 'max_depth': 9, 'n_estimators': 7, 'random_state': 12345}\n",
      "1376.553835 for {'learning_rate': 0.5, 'max_depth': 9, 'n_estimators': 8, 'random_state': 12345}\n",
      "1366.765697 for {'learning_rate': 0.5, 'max_depth': 9, 'n_estimators': 9, 'random_state': 12345}\n",
      "1799.323626 for {'learning_rate': 0.5, 'max_depth': 10, 'n_estimators': 2, 'random_state': 12345}\n",
      "1602.110175 for {'learning_rate': 0.5, 'max_depth': 10, 'n_estimators': 3, 'random_state': 12345}\n",
      "1496.459238 for {'learning_rate': 0.5, 'max_depth': 10, 'n_estimators': 4, 'random_state': 12345}\n",
      "1444.293380 for {'learning_rate': 0.5, 'max_depth': 10, 'n_estimators': 5, 'random_state': 12345}\n",
      "1414.717805 for {'learning_rate': 0.5, 'max_depth': 10, 'n_estimators': 6, 'random_state': 12345}\n",
      "1390.388477 for {'learning_rate': 0.5, 'max_depth': 10, 'n_estimators': 7, 'random_state': 12345}\n",
      "1376.709454 for {'learning_rate': 0.5, 'max_depth': 10, 'n_estimators': 8, 'random_state': 12345}\n",
      "1366.666470 for {'learning_rate': 0.5, 'max_depth': 10, 'n_estimators': 9, 'random_state': 12345}\n",
      "1799.323626 for {'learning_rate': 0.5, 'max_depth': 11, 'n_estimators': 2, 'random_state': 12345}\n",
      "1602.110175 for {'learning_rate': 0.5, 'max_depth': 11, 'n_estimators': 3, 'random_state': 12345}\n",
      "1496.459238 for {'learning_rate': 0.5, 'max_depth': 11, 'n_estimators': 4, 'random_state': 12345}\n",
      "1443.963390 for {'learning_rate': 0.5, 'max_depth': 11, 'n_estimators': 5, 'random_state': 12345}\n",
      "1414.355134 for {'learning_rate': 0.5, 'max_depth': 11, 'n_estimators': 6, 'random_state': 12345}\n",
      "1390.926407 for {'learning_rate': 0.5, 'max_depth': 11, 'n_estimators': 7, 'random_state': 12345}\n",
      "1375.241786 for {'learning_rate': 0.5, 'max_depth': 11, 'n_estimators': 8, 'random_state': 12345}\n",
      "1366.614510 for {'learning_rate': 0.5, 'max_depth': 11, 'n_estimators': 9, 'random_state': 12345}\n",
      "1799.323626 for {'learning_rate': 0.5, 'max_depth': 12, 'n_estimators': 2, 'random_state': 12345}\n",
      "1602.110175 for {'learning_rate': 0.5, 'max_depth': 12, 'n_estimators': 3, 'random_state': 12345}\n",
      "1496.459238 for {'learning_rate': 0.5, 'max_depth': 12, 'n_estimators': 4, 'random_state': 12345}\n",
      "1443.940693 for {'learning_rate': 0.5, 'max_depth': 12, 'n_estimators': 5, 'random_state': 12345}\n",
      "1413.837048 for {'learning_rate': 0.5, 'max_depth': 12, 'n_estimators': 6, 'random_state': 12345}\n",
      "1388.953228 for {'learning_rate': 0.5, 'max_depth': 12, 'n_estimators': 7, 'random_state': 12345}\n",
      "1375.757738 for {'learning_rate': 0.5, 'max_depth': 12, 'n_estimators': 8, 'random_state': 12345}\n",
      "1365.768433 for {'learning_rate': 0.5, 'max_depth': 12, 'n_estimators': 9, 'random_state': 12345}\n",
      "1799.323626 for {'learning_rate': 0.5, 'max_depth': 13, 'n_estimators': 2, 'random_state': 12345}\n",
      "1602.110175 for {'learning_rate': 0.5, 'max_depth': 13, 'n_estimators': 3, 'random_state': 12345}\n",
      "1496.459238 for {'learning_rate': 0.5, 'max_depth': 13, 'n_estimators': 4, 'random_state': 12345}\n",
      "1443.940693 for {'learning_rate': 0.5, 'max_depth': 13, 'n_estimators': 5, 'random_state': 12345}\n",
      "1414.002472 for {'learning_rate': 0.5, 'max_depth': 13, 'n_estimators': 6, 'random_state': 12345}\n",
      "1388.997156 for {'learning_rate': 0.5, 'max_depth': 13, 'n_estimators': 7, 'random_state': 12345}\n",
      "1375.187986 for {'learning_rate': 0.5, 'max_depth': 13, 'n_estimators': 8, 'random_state': 12345}\n",
      "1366.277724 for {'learning_rate': 0.5, 'max_depth': 13, 'n_estimators': 9, 'random_state': 12345}\n",
      "1799.323626 for {'learning_rate': 0.5, 'max_depth': 14, 'n_estimators': 2, 'random_state': 12345}\n",
      "1602.110175 for {'learning_rate': 0.5, 'max_depth': 14, 'n_estimators': 3, 'random_state': 12345}\n",
      "1496.459238 for {'learning_rate': 0.5, 'max_depth': 14, 'n_estimators': 4, 'random_state': 12345}\n",
      "1443.940693 for {'learning_rate': 0.5, 'max_depth': 14, 'n_estimators': 5, 'random_state': 12345}\n",
      "1414.097275 for {'learning_rate': 0.5, 'max_depth': 14, 'n_estimators': 6, 'random_state': 12345}\n",
      "1389.494899 for {'learning_rate': 0.5, 'max_depth': 14, 'n_estimators': 7, 'random_state': 12345}\n",
      "1375.651727 for {'learning_rate': 0.5, 'max_depth': 14, 'n_estimators': 8, 'random_state': 12345}\n",
      "1365.423687 for {'learning_rate': 0.5, 'max_depth': 14, 'n_estimators': 9, 'random_state': 12345}\n",
      "1799.323626 for {'learning_rate': 0.5, 'max_depth': 15, 'n_estimators': 2, 'random_state': 12345}\n",
      "1602.110175 for {'learning_rate': 0.5, 'max_depth': 15, 'n_estimators': 3, 'random_state': 12345}\n",
      "1496.459238 for {'learning_rate': 0.5, 'max_depth': 15, 'n_estimators': 4, 'random_state': 12345}\n",
      "1443.940693 for {'learning_rate': 0.5, 'max_depth': 15, 'n_estimators': 5, 'random_state': 12345}\n",
      "1414.097275 for {'learning_rate': 0.5, 'max_depth': 15, 'n_estimators': 6, 'random_state': 12345}\n",
      "1389.494899 for {'learning_rate': 0.5, 'max_depth': 15, 'n_estimators': 7, 'random_state': 12345}\n",
      "1375.651727 for {'learning_rate': 0.5, 'max_depth': 15, 'n_estimators': 8, 'random_state': 12345}\n",
      "1365.396979 for {'learning_rate': 0.5, 'max_depth': 15, 'n_estimators': 9, 'random_state': 12345}\n",
      "1799.323626 for {'learning_rate': 0.5, 'max_depth': 16, 'n_estimators': 2, 'random_state': 12345}\n",
      "1602.110175 for {'learning_rate': 0.5, 'max_depth': 16, 'n_estimators': 3, 'random_state': 12345}\n",
      "1496.459238 for {'learning_rate': 0.5, 'max_depth': 16, 'n_estimators': 4, 'random_state': 12345}\n",
      "1443.940693 for {'learning_rate': 0.5, 'max_depth': 16, 'n_estimators': 5, 'random_state': 12345}\n",
      "1414.097275 for {'learning_rate': 0.5, 'max_depth': 16, 'n_estimators': 6, 'random_state': 12345}\n",
      "1389.494899 for {'learning_rate': 0.5, 'max_depth': 16, 'n_estimators': 7, 'random_state': 12345}\n",
      "1375.651727 for {'learning_rate': 0.5, 'max_depth': 16, 'n_estimators': 8, 'random_state': 12345}\n",
      "1365.374171 for {'learning_rate': 0.5, 'max_depth': 16, 'n_estimators': 9, 'random_state': 12345}\n",
      "1799.323626 for {'learning_rate': 0.5, 'max_depth': 17, 'n_estimators': 2, 'random_state': 12345}\n",
      "1602.110175 for {'learning_rate': 0.5, 'max_depth': 17, 'n_estimators': 3, 'random_state': 12345}\n",
      "1496.459238 for {'learning_rate': 0.5, 'max_depth': 17, 'n_estimators': 4, 'random_state': 12345}\n",
      "1443.940693 for {'learning_rate': 0.5, 'max_depth': 17, 'n_estimators': 5, 'random_state': 12345}\n",
      "1414.097275 for {'learning_rate': 0.5, 'max_depth': 17, 'n_estimators': 6, 'random_state': 12345}\n",
      "1389.494899 for {'learning_rate': 0.5, 'max_depth': 17, 'n_estimators': 7, 'random_state': 12345}\n",
      "1375.651727 for {'learning_rate': 0.5, 'max_depth': 17, 'n_estimators': 8, 'random_state': 12345}\n",
      "1365.374171 for {'learning_rate': 0.5, 'max_depth': 17, 'n_estimators': 9, 'random_state': 12345}\n",
      "1799.323626 for {'learning_rate': 0.5, 'max_depth': 18, 'n_estimators': 2, 'random_state': 12345}\n",
      "1602.110175 for {'learning_rate': 0.5, 'max_depth': 18, 'n_estimators': 3, 'random_state': 12345}\n",
      "1496.459238 for {'learning_rate': 0.5, 'max_depth': 18, 'n_estimators': 4, 'random_state': 12345}\n",
      "1443.940693 for {'learning_rate': 0.5, 'max_depth': 18, 'n_estimators': 5, 'random_state': 12345}\n",
      "1414.097275 for {'learning_rate': 0.5, 'max_depth': 18, 'n_estimators': 6, 'random_state': 12345}\n",
      "1389.494899 for {'learning_rate': 0.5, 'max_depth': 18, 'n_estimators': 7, 'random_state': 12345}\n",
      "1375.651727 for {'learning_rate': 0.5, 'max_depth': 18, 'n_estimators': 8, 'random_state': 12345}\n",
      "1365.374171 for {'learning_rate': 0.5, 'max_depth': 18, 'n_estimators': 9, 'random_state': 12345}\n",
      "1799.323626 for {'learning_rate': 0.5, 'max_depth': 19, 'n_estimators': 2, 'random_state': 12345}\n",
      "1602.110175 for {'learning_rate': 0.5, 'max_depth': 19, 'n_estimators': 3, 'random_state': 12345}\n",
      "1496.459238 for {'learning_rate': 0.5, 'max_depth': 19, 'n_estimators': 4, 'random_state': 12345}\n",
      "1443.940693 for {'learning_rate': 0.5, 'max_depth': 19, 'n_estimators': 5, 'random_state': 12345}\n",
      "1414.097275 for {'learning_rate': 0.5, 'max_depth': 19, 'n_estimators': 6, 'random_state': 12345}\n",
      "1389.494899 for {'learning_rate': 0.5, 'max_depth': 19, 'n_estimators': 7, 'random_state': 12345}\n",
      "1375.651727 for {'learning_rate': 0.5, 'max_depth': 19, 'n_estimators': 8, 'random_state': 12345}\n",
      "1365.374171 for {'learning_rate': 0.5, 'max_depth': 19, 'n_estimators': 9, 'random_state': 12345}\n",
      "2073.056558 for {'learning_rate': 0.8, 'max_depth': 2, 'n_estimators': 2, 'random_state': 12345}\n",
      "1957.964934 for {'learning_rate': 0.8, 'max_depth': 2, 'n_estimators': 3, 'random_state': 12345}\n",
      "1883.381052 for {'learning_rate': 0.8, 'max_depth': 2, 'n_estimators': 4, 'random_state': 12345}\n",
      "1821.279729 for {'learning_rate': 0.8, 'max_depth': 2, 'n_estimators': 5, 'random_state': 12345}\n",
      "1778.335467 for {'learning_rate': 0.8, 'max_depth': 2, 'n_estimators': 6, 'random_state': 12345}\n",
      "1751.742614 for {'learning_rate': 0.8, 'max_depth': 2, 'n_estimators': 7, 'random_state': 12345}\n",
      "1731.279264 for {'learning_rate': 0.8, 'max_depth': 2, 'n_estimators': 8, 'random_state': 12345}\n",
      "1714.240789 for {'learning_rate': 0.8, 'max_depth': 2, 'n_estimators': 9, 'random_state': 12345}\n",
      "1848.460356 for {'learning_rate': 0.8, 'max_depth': 3, 'n_estimators': 2, 'random_state': 12345}\n",
      "1736.590692 for {'learning_rate': 0.8, 'max_depth': 3, 'n_estimators': 3, 'random_state': 12345}\n",
      "1660.950625 for {'learning_rate': 0.8, 'max_depth': 3, 'n_estimators': 4, 'random_state': 12345}\n",
      "1618.439307 for {'learning_rate': 0.8, 'max_depth': 3, 'n_estimators': 5, 'random_state': 12345}\n",
      "1588.918774 for {'learning_rate': 0.8, 'max_depth': 3, 'n_estimators': 6, 'random_state': 12345}\n",
      "1570.960679 for {'learning_rate': 0.8, 'max_depth': 3, 'n_estimators': 7, 'random_state': 12345}\n",
      "1541.186608 for {'learning_rate': 0.8, 'max_depth': 3, 'n_estimators': 8, 'random_state': 12345}\n",
      "1512.774910 for {'learning_rate': 0.8, 'max_depth': 3, 'n_estimators': 9, 'random_state': 12345}\n",
      "1727.438550 for {'learning_rate': 0.8, 'max_depth': 4, 'n_estimators': 2, 'random_state': 12345}\n",
      "1617.528551 for {'learning_rate': 0.8, 'max_depth': 4, 'n_estimators': 3, 'random_state': 12345}\n",
      "1562.175716 for {'learning_rate': 0.8, 'max_depth': 4, 'n_estimators': 4, 'random_state': 12345}\n",
      "1531.740172 for {'learning_rate': 0.8, 'max_depth': 4, 'n_estimators': 5, 'random_state': 12345}\n",
      "1501.442743 for {'learning_rate': 0.8, 'max_depth': 4, 'n_estimators': 6, 'random_state': 12345}\n",
      "1479.970342 for {'learning_rate': 0.8, 'max_depth': 4, 'n_estimators': 7, 'random_state': 12345}\n",
      "1461.927463 for {'learning_rate': 0.8, 'max_depth': 4, 'n_estimators': 8, 'random_state': 12345}\n",
      "1447.316849 for {'learning_rate': 0.8, 'max_depth': 4, 'n_estimators': 9, 'random_state': 12345}\n",
      "1636.163179 for {'learning_rate': 0.8, 'max_depth': 5, 'n_estimators': 2, 'random_state': 12345}\n",
      "1543.457942 for {'learning_rate': 0.8, 'max_depth': 5, 'n_estimators': 3, 'random_state': 12345}\n",
      "1485.372227 for {'learning_rate': 0.8, 'max_depth': 5, 'n_estimators': 4, 'random_state': 12345}\n",
      "1457.838892 for {'learning_rate': 0.8, 'max_depth': 5, 'n_estimators': 5, 'random_state': 12345}\n",
      "1435.466112 for {'learning_rate': 0.8, 'max_depth': 5, 'n_estimators': 6, 'random_state': 12345}\n",
      "1418.270192 for {'learning_rate': 0.8, 'max_depth': 5, 'n_estimators': 7, 'random_state': 12345}\n",
      "1402.130584 for {'learning_rate': 0.8, 'max_depth': 5, 'n_estimators': 8, 'random_state': 12345}\n",
      "1393.351304 for {'learning_rate': 0.8, 'max_depth': 5, 'n_estimators': 9, 'random_state': 12345}\n",
      "1591.766061 for {'learning_rate': 0.8, 'max_depth': 6, 'n_estimators': 2, 'random_state': 12345}\n",
      "1538.875091 for {'learning_rate': 0.8, 'max_depth': 6, 'n_estimators': 3, 'random_state': 12345}\n",
      "1460.808794 for {'learning_rate': 0.8, 'max_depth': 6, 'n_estimators': 4, 'random_state': 12345}\n",
      "1434.414089 for {'learning_rate': 0.8, 'max_depth': 6, 'n_estimators': 5, 'random_state': 12345}\n",
      "1414.232471 for {'learning_rate': 0.8, 'max_depth': 6, 'n_estimators': 6, 'random_state': 12345}\n",
      "1398.147385 for {'learning_rate': 0.8, 'max_depth': 6, 'n_estimators': 7, 'random_state': 12345}\n",
      "1381.752243 for {'learning_rate': 0.8, 'max_depth': 6, 'n_estimators': 8, 'random_state': 12345}\n",
      "1373.214118 for {'learning_rate': 0.8, 'max_depth': 6, 'n_estimators': 9, 'random_state': 12345}\n",
      "1584.787313 for {'learning_rate': 0.8, 'max_depth': 7, 'n_estimators': 2, 'random_state': 12345}\n",
      "1528.745436 for {'learning_rate': 0.8, 'max_depth': 7, 'n_estimators': 3, 'random_state': 12345}\n",
      "1468.433959 for {'learning_rate': 0.8, 'max_depth': 7, 'n_estimators': 4, 'random_state': 12345}\n",
      "1438.498008 for {'learning_rate': 0.8, 'max_depth': 7, 'n_estimators': 5, 'random_state': 12345}\n",
      "1414.482771 for {'learning_rate': 0.8, 'max_depth': 7, 'n_estimators': 6, 'random_state': 12345}\n",
      "1396.161644 for {'learning_rate': 0.8, 'max_depth': 7, 'n_estimators': 7, 'random_state': 12345}\n",
      "1381.046611 for {'learning_rate': 0.8, 'max_depth': 7, 'n_estimators': 8, 'random_state': 12345}\n",
      "1371.136780 for {'learning_rate': 0.8, 'max_depth': 7, 'n_estimators': 9, 'random_state': 12345}\n",
      "1584.610722 for {'learning_rate': 0.8, 'max_depth': 8, 'n_estimators': 2, 'random_state': 12345}\n",
      "1516.830907 for {'learning_rate': 0.8, 'max_depth': 8, 'n_estimators': 3, 'random_state': 12345}\n",
      "1457.426419 for {'learning_rate': 0.8, 'max_depth': 8, 'n_estimators': 4, 'random_state': 12345}\n",
      "1428.856082 for {'learning_rate': 0.8, 'max_depth': 8, 'n_estimators': 5, 'random_state': 12345}\n",
      "1405.875592 for {'learning_rate': 0.8, 'max_depth': 8, 'n_estimators': 6, 'random_state': 12345}\n",
      "1391.407705 for {'learning_rate': 0.8, 'max_depth': 8, 'n_estimators': 7, 'random_state': 12345}\n",
      "1380.756120 for {'learning_rate': 0.8, 'max_depth': 8, 'n_estimators': 8, 'random_state': 12345}\n",
      "1371.699689 for {'learning_rate': 0.8, 'max_depth': 8, 'n_estimators': 9, 'random_state': 12345}\n",
      "1582.287180 for {'learning_rate': 0.8, 'max_depth': 9, 'n_estimators': 2, 'random_state': 12345}\n",
      "1503.746253 for {'learning_rate': 0.8, 'max_depth': 9, 'n_estimators': 3, 'random_state': 12345}\n",
      "1450.077078 for {'learning_rate': 0.8, 'max_depth': 9, 'n_estimators': 4, 'random_state': 12345}\n",
      "1423.551481 for {'learning_rate': 0.8, 'max_depth': 9, 'n_estimators': 5, 'random_state': 12345}\n",
      "1400.059660 for {'learning_rate': 0.8, 'max_depth': 9, 'n_estimators': 6, 'random_state': 12345}\n",
      "1384.063519 for {'learning_rate': 0.8, 'max_depth': 9, 'n_estimators': 7, 'random_state': 12345}\n",
      "1371.503042 for {'learning_rate': 0.8, 'max_depth': 9, 'n_estimators': 8, 'random_state': 12345}\n",
      "1363.370964 for {'learning_rate': 0.8, 'max_depth': 9, 'n_estimators': 9, 'random_state': 12345}\n",
      "1582.287180 for {'learning_rate': 0.8, 'max_depth': 10, 'n_estimators': 2, 'random_state': 12345}\n",
      "1501.901966 for {'learning_rate': 0.8, 'max_depth': 10, 'n_estimators': 3, 'random_state': 12345}\n",
      "1451.780953 for {'learning_rate': 0.8, 'max_depth': 10, 'n_estimators': 4, 'random_state': 12345}\n",
      "1422.194517 for {'learning_rate': 0.8, 'max_depth': 10, 'n_estimators': 5, 'random_state': 12345}\n",
      "1399.682685 for {'learning_rate': 0.8, 'max_depth': 10, 'n_estimators': 6, 'random_state': 12345}\n",
      "1384.485338 for {'learning_rate': 0.8, 'max_depth': 10, 'n_estimators': 7, 'random_state': 12345}\n",
      "1375.036455 for {'learning_rate': 0.8, 'max_depth': 10, 'n_estimators': 8, 'random_state': 12345}\n",
      "1366.486267 for {'learning_rate': 0.8, 'max_depth': 10, 'n_estimators': 9, 'random_state': 12345}\n",
      "1582.287180 for {'learning_rate': 0.8, 'max_depth': 11, 'n_estimators': 2, 'random_state': 12345}\n",
      "1500.570267 for {'learning_rate': 0.8, 'max_depth': 11, 'n_estimators': 3, 'random_state': 12345}\n",
      "1450.251861 for {'learning_rate': 0.8, 'max_depth': 11, 'n_estimators': 4, 'random_state': 12345}\n",
      "1419.009012 for {'learning_rate': 0.8, 'max_depth': 11, 'n_estimators': 5, 'random_state': 12345}\n",
      "1398.879322 for {'learning_rate': 0.8, 'max_depth': 11, 'n_estimators': 6, 'random_state': 12345}\n",
      "1383.684032 for {'learning_rate': 0.8, 'max_depth': 11, 'n_estimators': 7, 'random_state': 12345}\n",
      "1373.152746 for {'learning_rate': 0.8, 'max_depth': 11, 'n_estimators': 8, 'random_state': 12345}\n",
      "1366.579406 for {'learning_rate': 0.8, 'max_depth': 11, 'n_estimators': 9, 'random_state': 12345}\n",
      "1582.287180 for {'learning_rate': 0.8, 'max_depth': 12, 'n_estimators': 2, 'random_state': 12345}\n",
      "1500.879074 for {'learning_rate': 0.8, 'max_depth': 12, 'n_estimators': 3, 'random_state': 12345}\n",
      "1450.833905 for {'learning_rate': 0.8, 'max_depth': 12, 'n_estimators': 4, 'random_state': 12345}\n",
      "1419.275835 for {'learning_rate': 0.8, 'max_depth': 12, 'n_estimators': 5, 'random_state': 12345}\n",
      "1403.258860 for {'learning_rate': 0.8, 'max_depth': 12, 'n_estimators': 6, 'random_state': 12345}\n",
      "1386.332192 for {'learning_rate': 0.8, 'max_depth': 12, 'n_estimators': 7, 'random_state': 12345}\n",
      "1371.917014 for {'learning_rate': 0.8, 'max_depth': 12, 'n_estimators': 8, 'random_state': 12345}\n",
      "1365.922596 for {'learning_rate': 0.8, 'max_depth': 12, 'n_estimators': 9, 'random_state': 12345}\n",
      "1582.287180 for {'learning_rate': 0.8, 'max_depth': 13, 'n_estimators': 2, 'random_state': 12345}\n",
      "1501.082643 for {'learning_rate': 0.8, 'max_depth': 13, 'n_estimators': 3, 'random_state': 12345}\n",
      "1451.385859 for {'learning_rate': 0.8, 'max_depth': 13, 'n_estimators': 4, 'random_state': 12345}\n",
      "1418.845575 for {'learning_rate': 0.8, 'max_depth': 13, 'n_estimators': 5, 'random_state': 12345}\n",
      "1400.470671 for {'learning_rate': 0.8, 'max_depth': 13, 'n_estimators': 6, 'random_state': 12345}\n",
      "1385.553568 for {'learning_rate': 0.8, 'max_depth': 13, 'n_estimators': 7, 'random_state': 12345}\n",
      "1373.740622 for {'learning_rate': 0.8, 'max_depth': 13, 'n_estimators': 8, 'random_state': 12345}\n",
      "1365.357066 for {'learning_rate': 0.8, 'max_depth': 13, 'n_estimators': 9, 'random_state': 12345}\n",
      "1582.287180 for {'learning_rate': 0.8, 'max_depth': 14, 'n_estimators': 2, 'random_state': 12345}\n",
      "1501.082643 for {'learning_rate': 0.8, 'max_depth': 14, 'n_estimators': 3, 'random_state': 12345}\n",
      "1451.385859 for {'learning_rate': 0.8, 'max_depth': 14, 'n_estimators': 4, 'random_state': 12345}\n",
      "1418.845575 for {'learning_rate': 0.8, 'max_depth': 14, 'n_estimators': 5, 'random_state': 12345}\n",
      "1400.470671 for {'learning_rate': 0.8, 'max_depth': 14, 'n_estimators': 6, 'random_state': 12345}\n",
      "1385.553568 for {'learning_rate': 0.8, 'max_depth': 14, 'n_estimators': 7, 'random_state': 12345}\n",
      "1373.740622 for {'learning_rate': 0.8, 'max_depth': 14, 'n_estimators': 8, 'random_state': 12345}\n",
      "1365.357066 for {'learning_rate': 0.8, 'max_depth': 14, 'n_estimators': 9, 'random_state': 12345}\n",
      "1582.287180 for {'learning_rate': 0.8, 'max_depth': 15, 'n_estimators': 2, 'random_state': 12345}\n",
      "1501.082643 for {'learning_rate': 0.8, 'max_depth': 15, 'n_estimators': 3, 'random_state': 12345}\n",
      "1451.385859 for {'learning_rate': 0.8, 'max_depth': 15, 'n_estimators': 4, 'random_state': 12345}\n",
      "1418.845575 for {'learning_rate': 0.8, 'max_depth': 15, 'n_estimators': 5, 'random_state': 12345}\n",
      "1400.470671 for {'learning_rate': 0.8, 'max_depth': 15, 'n_estimators': 6, 'random_state': 12345}\n",
      "1385.553568 for {'learning_rate': 0.8, 'max_depth': 15, 'n_estimators': 7, 'random_state': 12345}\n",
      "1373.740622 for {'learning_rate': 0.8, 'max_depth': 15, 'n_estimators': 8, 'random_state': 12345}\n",
      "1365.357066 for {'learning_rate': 0.8, 'max_depth': 15, 'n_estimators': 9, 'random_state': 12345}\n",
      "1582.287180 for {'learning_rate': 0.8, 'max_depth': 16, 'n_estimators': 2, 'random_state': 12345}\n",
      "1501.082643 for {'learning_rate': 0.8, 'max_depth': 16, 'n_estimators': 3, 'random_state': 12345}\n",
      "1451.385859 for {'learning_rate': 0.8, 'max_depth': 16, 'n_estimators': 4, 'random_state': 12345}\n",
      "1418.845575 for {'learning_rate': 0.8, 'max_depth': 16, 'n_estimators': 5, 'random_state': 12345}\n",
      "1400.470671 for {'learning_rate': 0.8, 'max_depth': 16, 'n_estimators': 6, 'random_state': 12345}\n",
      "1385.553568 for {'learning_rate': 0.8, 'max_depth': 16, 'n_estimators': 7, 'random_state': 12345}\n",
      "1373.740622 for {'learning_rate': 0.8, 'max_depth': 16, 'n_estimators': 8, 'random_state': 12345}\n",
      "1365.357066 for {'learning_rate': 0.8, 'max_depth': 16, 'n_estimators': 9, 'random_state': 12345}\n",
      "1582.287180 for {'learning_rate': 0.8, 'max_depth': 17, 'n_estimators': 2, 'random_state': 12345}\n",
      "1501.082643 for {'learning_rate': 0.8, 'max_depth': 17, 'n_estimators': 3, 'random_state': 12345}\n",
      "1451.385859 for {'learning_rate': 0.8, 'max_depth': 17, 'n_estimators': 4, 'random_state': 12345}\n",
      "1418.845575 for {'learning_rate': 0.8, 'max_depth': 17, 'n_estimators': 5, 'random_state': 12345}\n",
      "1400.470671 for {'learning_rate': 0.8, 'max_depth': 17, 'n_estimators': 6, 'random_state': 12345}\n",
      "1385.553568 for {'learning_rate': 0.8, 'max_depth': 17, 'n_estimators': 7, 'random_state': 12345}\n",
      "1373.740622 for {'learning_rate': 0.8, 'max_depth': 17, 'n_estimators': 8, 'random_state': 12345}\n",
      "1365.357066 for {'learning_rate': 0.8, 'max_depth': 17, 'n_estimators': 9, 'random_state': 12345}\n",
      "1582.287180 for {'learning_rate': 0.8, 'max_depth': 18, 'n_estimators': 2, 'random_state': 12345}\n",
      "1501.082643 for {'learning_rate': 0.8, 'max_depth': 18, 'n_estimators': 3, 'random_state': 12345}\n",
      "1451.385859 for {'learning_rate': 0.8, 'max_depth': 18, 'n_estimators': 4, 'random_state': 12345}\n",
      "1418.845575 for {'learning_rate': 0.8, 'max_depth': 18, 'n_estimators': 5, 'random_state': 12345}\n",
      "1400.470671 for {'learning_rate': 0.8, 'max_depth': 18, 'n_estimators': 6, 'random_state': 12345}\n",
      "1385.553568 for {'learning_rate': 0.8, 'max_depth': 18, 'n_estimators': 7, 'random_state': 12345}\n",
      "1373.740622 for {'learning_rate': 0.8, 'max_depth': 18, 'n_estimators': 8, 'random_state': 12345}\n",
      "1365.357066 for {'learning_rate': 0.8, 'max_depth': 18, 'n_estimators': 9, 'random_state': 12345}\n",
      "1582.287180 for {'learning_rate': 0.8, 'max_depth': 19, 'n_estimators': 2, 'random_state': 12345}\n",
      "1501.082643 for {'learning_rate': 0.8, 'max_depth': 19, 'n_estimators': 3, 'random_state': 12345}\n",
      "1451.385859 for {'learning_rate': 0.8, 'max_depth': 19, 'n_estimators': 4, 'random_state': 12345}\n",
      "1418.845575 for {'learning_rate': 0.8, 'max_depth': 19, 'n_estimators': 5, 'random_state': 12345}\n",
      "1400.470671 for {'learning_rate': 0.8, 'max_depth': 19, 'n_estimators': 6, 'random_state': 12345}\n",
      "1385.553568 for {'learning_rate': 0.8, 'max_depth': 19, 'n_estimators': 7, 'random_state': 12345}\n",
      "1373.740622 for {'learning_rate': 0.8, 'max_depth': 19, 'n_estimators': 8, 'random_state': 12345}\n",
      "1365.357066 for {'learning_rate': 0.8, 'max_depth': 19, 'n_estimators': 9, 'random_state': 12345}\n"
     ]
    }
   ],
   "source": [
    "MODEL_SETTINGS = {\n",
    "  'learning_rate': [0.1, 0.5, 0.8],\n",
    "  'n_estimators': [x for x in range (2,10)],\n",
    "    'random_state':[12345],\n",
    "  'max_depth': [x for x in range (2,20)]}\n",
    "best_hypers_for_model(LGBMRegressor(),MODEL_SETTINGS,rmse_scorer)"
   ]
  },
  {
   "cell_type": "markdown",
   "metadata": {},
   "source": [
    "### Обучение лучших моделей"
   ]
  },
  {
   "cell_type": "code",
   "execution_count": 224,
   "metadata": {
    "scrolled": false
   },
   "outputs": [
    {
     "name": "stderr",
     "output_type": "stream",
     "text": [
      "100%|██████████| 5/5 [00:23<00:00,  4.63s/it]\n"
     ]
    }
   ],
   "source": [
    "best_model_result({'DecisionTreeRegressor': DecisionTreeRegressor(max_depth=13, random_state=12345),\n",
    "                   'RandomForestRegressor': RandomForestRegressor(max_depth=19, n_estimators=9, random_state=12345),\n",
    "                   'CatBoostRegressor': CatBoostRegressor(iterations=5, learning_rate=0.8, max_depth=16, verbose=False),\n",
    "                    'GradientBoostingRegressor': GradientBoostingRegressor(learning_rate=0.5, max_depth=11, n_estimators=9),\n",
    "                  'LGBMRegressor': LGBMRegressor(learning_rate=0.8, max_depth=9, n_estimators=9, random_state=12345)})\n"
   ]
  },
  {
   "cell_type": "markdown",
   "metadata": {},
   "source": [
    "### Вывод\n",
    "* рейтинг моделей по скорости обучения:\n",
    "    1. DecisionTreeRegressor\n",
    "    2. LGBMRegressor\n",
    "    3. RandomForestRegressor\n",
    "    4. GradientBoostingRegressor\n",
    "    5. CatBoostRegressor\n",
    "\n",
    "* рейтинг моделей по скорости предсказания:\n",
    "    1. CatBoostRegressor\n",
    "    2. DecisionTreeRegressor\n",
    "    3. LGBMRegressor\n",
    "    4. GradientBoostingRegressor\n",
    "    5. RandomForestRegressor\n",
    "       \n",
    "* рейтинг моделей по качеству:\n",
    "    1. RandomForestRegressor \n",
    "    2. GradientBoostingRegressor\n",
    "    3. CatBoostRegressor\n",
    "    4. LGBMRegressor\n",
    "    5. DecisionTreeRegressor\n",
    "    \n",
    "\n",
    "Итоговый средний балл:\n",
    "\n",
    "    DecisionTreeRegressor - 2.666\n",
    "    CatBoostRegressor - 3\n",
    "    RandomForestRegressor - 3\n",
    "    LGBMRegressor - 3\n",
    "    GradientBoostingRegressor - 3.333\n",
    "    \n",
    "Чтобы рекомендовать заказчику какую-либо модель, необходимо определить, какие показатели для него наиболее важны. Сортировка по показателям представлена ниже"
   ]
  },
  {
   "cell_type": "code",
   "execution_count": 235,
   "metadata": {},
   "outputs": [
    {
     "data": {
      "text/html": [
       "<div>\n",
       "<style scoped>\n",
       "    .dataframe tbody tr th:only-of-type {\n",
       "        vertical-align: middle;\n",
       "    }\n",
       "\n",
       "    .dataframe tbody tr th {\n",
       "        vertical-align: top;\n",
       "    }\n",
       "\n",
       "    .dataframe thead th {\n",
       "        text-align: right;\n",
       "    }\n",
       "</style>\n",
       "<table border=\"1\" class=\"dataframe\">\n",
       "  <thead>\n",
       "    <tr style=\"text-align: right;\">\n",
       "      <th></th>\n",
       "      <th>RMSE</th>\n",
       "      <th>learning_time</th>\n",
       "      <th>predict_time</th>\n",
       "    </tr>\n",
       "  </thead>\n",
       "  <tbody>\n",
       "    <tr>\n",
       "      <th>RandomForestRegressor</th>\n",
       "      <td>1239.846363</td>\n",
       "      <td>5.192082</td>\n",
       "      <td>0.158919</td>\n",
       "    </tr>\n",
       "    <tr>\n",
       "      <th>DecisionTreeRegressor</th>\n",
       "      <td>1401.511995</td>\n",
       "      <td>0.619559</td>\n",
       "      <td>0.013168</td>\n",
       "    </tr>\n",
       "    <tr>\n",
       "      <th>CatBoostRegressor</th>\n",
       "      <td>1332.704473</td>\n",
       "      <td>7.516913</td>\n",
       "      <td>0.007571</td>\n",
       "    </tr>\n",
       "    <tr>\n",
       "      <th>GradientBoostingRegressor</th>\n",
       "      <td>1261.267411</td>\n",
       "      <td>5.234272</td>\n",
       "      <td>0.044043</td>\n",
       "    </tr>\n",
       "    <tr>\n",
       "      <th>LGBMRegressor</th>\n",
       "      <td>1363.070496</td>\n",
       "      <td>4.268816</td>\n",
       "      <td>0.023631</td>\n",
       "    </tr>\n",
       "  </tbody>\n",
       "</table>\n",
       "</div>"
      ],
      "text/plain": [
       "                                  RMSE learning_time predict_time\n",
       "RandomForestRegressor      1239.846363      5.192082     0.158919\n",
       "DecisionTreeRegressor      1401.511995      0.619559     0.013168\n",
       "CatBoostRegressor          1332.704473      7.516913     0.007571\n",
       "GradientBoostingRegressor  1261.267411      5.234272     0.044043\n",
       "LGBMRegressor              1363.070496      4.268816     0.023631"
      ]
     },
     "execution_count": 235,
     "metadata": {},
     "output_type": "execute_result"
    }
   ],
   "source": [
    "result"
   ]
  },
  {
   "cell_type": "code",
   "execution_count": 231,
   "metadata": {
    "scrolled": false
   },
   "outputs": [
    {
     "data": {
      "image/png": "[encoded data removed]",
      "text/plain": [
       "<Figure size 432x288 with 1 Axes>"
      ]
     },
     "metadata": {
      "needs_background": "light"
     },
     "output_type": "display_data"
    },
    {
     "data": {
      "image/png": "[encoded data removed]",
      "text/plain": [
       "<Figure size 432x288 with 1 Axes>"
      ]
     },
     "metadata": {
      "needs_background": "light"
     },
     "output_type": "display_data"
    },
    {
     "data": {
      "image/png": "[encoded data removed]",
      "text/plain": [
       "<Figure size 432x288 with 1 Axes>"
      ]
     },
     "metadata": {
      "needs_background": "light"
     },
     "output_type": "display_data"
    }
   ],
   "source": [
    "for column in result.columns:\n",
    "    result[column].sort_values(ascending=False).plot(kind='bar', title=column+\" rating\")\n",
    "    plt.show()\n"
   ]
  }
 ],
 "metadata": {
  "ExecuteTimeLog": [
   {
    "duration": 1585,
    "start_time": "2022-05-28T21:02:50.422Z"
   },
   {
    "duration": 1010,
    "start_time": "2022-05-28T21:02:52.009Z"
   },
   {
    "duration": 5,
    "start_time": "2022-05-28T21:02:53.021Z"
   },
   {
    "duration": 1404,
    "start_time": "2022-05-28T21:03:13.855Z"
   },
   {
    "duration": 3,
    "start_time": "2022-05-28T21:16:43.280Z"
   },
   {
    "duration": 1665,
    "start_time": "2022-05-30T17:14:08.037Z"
   },
   {
    "duration": 1206,
    "start_time": "2022-05-30T17:17:21.842Z"
   },
   {
    "duration": 3,
    "start_time": "2022-05-30T17:17:23.050Z"
   },
   {
    "duration": 1603,
    "start_time": "2022-05-30T17:17:23.069Z"
   },
   {
    "duration": 1550,
    "start_time": "2022-06-01T18:33:48.918Z"
   },
   {
    "duration": 1329,
    "start_time": "2022-06-01T18:33:50.477Z"
   },
   {
    "duration": 5,
    "start_time": "2022-06-01T18:33:51.807Z"
   },
   {
    "duration": 1727,
    "start_time": "2022-06-01T18:33:51.814Z"
   },
   {
    "duration": 1459,
    "start_time": "2022-06-01T18:33:57.241Z"
   },
   {
    "duration": 5,
    "start_time": "2022-06-01T18:33:59.406Z"
   },
   {
    "duration": 6,
    "start_time": "2022-06-01T18:36:55.226Z"
   },
   {
    "duration": 130,
    "start_time": "2022-06-01T18:41:10.787Z"
   },
   {
    "duration": 6,
    "start_time": "2022-06-01T18:41:25.678Z"
   },
   {
    "duration": 5,
    "start_time": "2022-06-01T18:41:26.594Z"
   },
   {
    "duration": 47,
    "start_time": "2022-06-01T18:41:42.941Z"
   },
   {
    "duration": 35,
    "start_time": "2022-06-01T18:41:47.182Z"
   },
   {
    "duration": 10,
    "start_time": "2022-06-01T18:45:41.421Z"
   },
   {
    "duration": 8,
    "start_time": "2022-06-01T18:45:50.679Z"
   },
   {
    "duration": 7,
    "start_time": "2022-06-01T18:46:43.875Z"
   },
   {
    "duration": 31,
    "start_time": "2022-06-01T18:47:03.313Z"
   },
   {
    "duration": 41,
    "start_time": "2022-06-01T18:47:15.334Z"
   },
   {
    "duration": 48,
    "start_time": "2022-06-01T18:47:56.535Z"
   },
   {
    "duration": 45,
    "start_time": "2022-06-01T18:48:14.425Z"
   },
   {
    "duration": 31,
    "start_time": "2022-06-01T19:39:10.913Z"
   },
   {
    "duration": 25,
    "start_time": "2022-06-01T19:39:59.603Z"
   },
   {
    "duration": 37,
    "start_time": "2022-06-01T19:40:15.441Z"
   },
   {
    "duration": 27,
    "start_time": "2022-06-01T19:40:19.469Z"
   },
   {
    "duration": 24,
    "start_time": "2022-06-01T19:40:34.271Z"
   },
   {
    "duration": 43,
    "start_time": "2022-06-01T19:41:00.404Z"
   },
   {
    "duration": 247,
    "start_time": "2022-06-01T19:42:17.427Z"
   },
   {
    "duration": 446,
    "start_time": "2022-06-01T19:42:22.466Z"
   },
   {
    "duration": 21,
    "start_time": "2022-06-01T19:43:44.020Z"
   },
   {
    "duration": 92,
    "start_time": "2022-06-01T19:44:05.989Z"
   },
   {
    "duration": 231,
    "start_time": "2022-06-01T19:50:14.047Z"
   },
   {
    "duration": 14,
    "start_time": "2022-06-01T19:50:21.167Z"
   },
   {
    "duration": 12,
    "start_time": "2022-06-01T19:50:28.315Z"
   },
   {
    "duration": 576,
    "start_time": "2022-06-01T19:53:18.121Z"
   },
   {
    "duration": 3890,
    "start_time": "2022-06-01T20:06:10.739Z"
   },
   {
    "duration": 1253,
    "start_time": "2022-06-01T20:06:14.631Z"
   },
   {
    "duration": 4,
    "start_time": "2022-06-01T20:06:15.885Z"
   },
   {
    "duration": 1519,
    "start_time": "2022-06-01T20:06:15.891Z"
   },
   {
    "duration": 4,
    "start_time": "2022-06-01T20:06:17.412Z"
   },
   {
    "duration": 329,
    "start_time": "2022-06-01T20:06:17.417Z"
   },
   {
    "duration": 53,
    "start_time": "2022-06-01T20:08:42.283Z"
   },
   {
    "duration": 1285,
    "start_time": "2022-06-01T20:08:48.691Z"
   },
   {
    "duration": 908,
    "start_time": "2022-06-01T20:08:49.978Z"
   },
   {
    "duration": 4,
    "start_time": "2022-06-01T20:08:50.888Z"
   },
   {
    "duration": 1521,
    "start_time": "2022-06-01T20:08:50.893Z"
   },
   {
    "duration": 4,
    "start_time": "2022-06-01T20:08:52.416Z"
   },
   {
    "duration": 387,
    "start_time": "2022-06-01T20:08:52.421Z"
   },
   {
    "duration": 164,
    "start_time": "2022-06-01T20:08:54.713Z"
   },
   {
    "duration": 169,
    "start_time": "2022-06-01T20:09:16.544Z"
   },
   {
    "duration": 239,
    "start_time": "2022-06-01T20:09:31.888Z"
   },
   {
    "duration": 30,
    "start_time": "2022-06-01T20:10:50.788Z"
   },
   {
    "duration": 1947,
    "start_time": "2022-06-01T20:11:01.470Z"
   },
   {
    "duration": 227,
    "start_time": "2022-06-01T20:11:38.410Z"
   },
   {
    "duration": 86,
    "start_time": "2022-06-01T20:12:04.707Z"
   },
   {
    "duration": 12,
    "start_time": "2022-06-01T20:13:17.382Z"
   },
   {
    "duration": 31,
    "start_time": "2022-06-01T20:13:29.291Z"
   },
   {
    "duration": 238,
    "start_time": "2022-06-01T20:13:39.234Z"
   },
   {
    "duration": 278,
    "start_time": "2022-06-01T20:13:49.691Z"
   },
   {
    "duration": 1736,
    "start_time": "2022-06-03T18:46:18.522Z"
   },
   {
    "duration": 1680,
    "start_time": "2022-06-03T18:46:20.264Z"
   },
   {
    "duration": 19,
    "start_time": "2022-06-03T18:46:21.950Z"
   },
   {
    "duration": 1882,
    "start_time": "2022-06-03T18:46:21.971Z"
   },
   {
    "duration": 6,
    "start_time": "2022-06-03T18:46:23.858Z"
   },
   {
    "duration": 370,
    "start_time": "2022-06-03T18:46:26.171Z"
   },
   {
    "duration": 20,
    "start_time": "2022-06-03T18:46:52.956Z"
   },
   {
    "duration": 8,
    "start_time": "2022-06-03T18:49:18.842Z"
   },
   {
    "duration": 4,
    "start_time": "2022-06-03T18:49:36.511Z"
   },
   {
    "duration": 307,
    "start_time": "2022-06-03T18:50:10.888Z"
   },
   {
    "duration": 8,
    "start_time": "2022-06-03T18:51:38.779Z"
   },
   {
    "duration": 4,
    "start_time": "2022-06-03T18:52:57.570Z"
   },
   {
    "duration": 295,
    "start_time": "2022-06-03T18:55:31.863Z"
   },
   {
    "duration": 268,
    "start_time": "2022-06-03T18:57:20.278Z"
   },
   {
    "duration": 256,
    "start_time": "2022-06-03T18:57:39.714Z"
   },
   {
    "duration": 241,
    "start_time": "2022-06-03T18:58:01.251Z"
   },
   {
    "duration": 256,
    "start_time": "2022-06-03T18:58:28.685Z"
   },
   {
    "duration": 236,
    "start_time": "2022-06-03T18:58:37.342Z"
   },
   {
    "duration": 210,
    "start_time": "2022-06-03T18:58:46.295Z"
   },
   {
    "duration": 304,
    "start_time": "2022-06-03T18:59:00.475Z"
   },
   {
    "duration": 213,
    "start_time": "2022-06-03T18:59:06.906Z"
   },
   {
    "duration": 204,
    "start_time": "2022-06-03T18:59:12.255Z"
   },
   {
    "duration": 272,
    "start_time": "2022-06-03T19:00:06.324Z"
   },
   {
    "duration": 236,
    "start_time": "2022-06-03T19:00:33.847Z"
   },
   {
    "duration": 253,
    "start_time": "2022-06-03T19:00:49.467Z"
   },
   {
    "duration": 228,
    "start_time": "2022-06-03T19:00:57.178Z"
   },
   {
    "duration": 10,
    "start_time": "2022-06-03T19:03:47.888Z"
   },
   {
    "duration": 2,
    "start_time": "2022-06-03T19:45:14.019Z"
   },
   {
    "duration": 40,
    "start_time": "2022-06-03T19:45:14.382Z"
   },
   {
    "duration": 8,
    "start_time": "2022-06-03T19:45:16.159Z"
   },
   {
    "duration": 1349,
    "start_time": "2022-06-05T16:03:26.639Z"
   },
   {
    "duration": 1035,
    "start_time": "2022-06-05T16:03:27.990Z"
   },
   {
    "duration": 4,
    "start_time": "2022-06-05T16:03:29.027Z"
   },
   {
    "duration": 1394,
    "start_time": "2022-06-05T16:03:29.033Z"
   },
   {
    "duration": 4,
    "start_time": "2022-06-05T16:03:30.428Z"
   },
   {
    "duration": 25,
    "start_time": "2022-06-05T16:03:30.433Z"
   },
   {
    "duration": 335,
    "start_time": "2022-06-05T16:03:30.460Z"
   },
   {
    "duration": 5,
    "start_time": "2022-06-05T16:03:30.797Z"
   },
   {
    "duration": 15,
    "start_time": "2022-06-05T16:03:30.803Z"
   },
   {
    "duration": 231,
    "start_time": "2022-06-05T16:03:30.820Z"
   },
   {
    "duration": 198,
    "start_time": "2022-06-05T16:03:31.052Z"
   },
   {
    "duration": 10,
    "start_time": "2022-06-05T16:03:31.252Z"
   },
   {
    "duration": 16,
    "start_time": "2022-06-05T16:03:31.263Z"
   },
   {
    "duration": 5,
    "start_time": "2022-06-05T16:03:45.799Z"
   },
   {
    "duration": 3,
    "start_time": "2022-06-05T16:04:05.936Z"
   },
   {
    "duration": 156,
    "start_time": "2022-06-05T16:05:15.479Z"
   },
   {
    "duration": 48,
    "start_time": "2022-06-05T16:06:19.521Z"
   },
   {
    "duration": 9,
    "start_time": "2022-06-05T16:07:50.425Z"
   },
   {
    "duration": 3,
    "start_time": "2022-06-05T16:07:56.534Z"
   },
   {
    "duration": 56,
    "start_time": "2022-06-05T16:07:56.892Z"
   },
   {
    "duration": 4,
    "start_time": "2022-06-05T16:09:13.980Z"
   },
   {
    "duration": 52,
    "start_time": "2022-06-05T16:09:14.397Z"
   },
   {
    "duration": 5,
    "start_time": "2022-06-05T16:10:56.043Z"
   },
   {
    "duration": 4,
    "start_time": "2022-06-05T16:10:57.173Z"
   },
   {
    "duration": 160,
    "start_time": "2022-06-05T16:10:58.778Z"
   },
   {
    "duration": 227,
    "start_time": "2022-06-05T16:19:21.981Z"
   },
   {
    "duration": 9,
    "start_time": "2022-06-05T16:20:04.432Z"
   },
   {
    "duration": 92,
    "start_time": "2022-06-05T16:20:14.038Z"
   },
   {
    "duration": 8,
    "start_time": "2022-06-05T16:24:23.432Z"
   },
   {
    "duration": 623,
    "start_time": "2022-06-05T17:09:06.253Z"
   },
   {
    "duration": 76,
    "start_time": "2022-06-05T17:09:35.449Z"
   },
   {
    "duration": 1236,
    "start_time": "2022-06-05T17:12:53.009Z"
   },
   {
    "duration": 712,
    "start_time": "2022-06-05T17:12:54.247Z"
   },
   {
    "duration": 4,
    "start_time": "2022-06-05T17:12:54.961Z"
   },
   {
    "duration": 1294,
    "start_time": "2022-06-05T17:12:54.967Z"
   },
   {
    "duration": 4,
    "start_time": "2022-06-05T17:12:56.263Z"
   },
   {
    "duration": 15,
    "start_time": "2022-06-05T17:12:56.268Z"
   },
   {
    "duration": 342,
    "start_time": "2022-06-05T17:12:56.285Z"
   },
   {
    "duration": 6,
    "start_time": "2022-06-05T17:12:56.628Z"
   },
   {
    "duration": 5,
    "start_time": "2022-06-05T17:12:56.635Z"
   },
   {
    "duration": 237,
    "start_time": "2022-06-05T17:12:56.642Z"
   },
   {
    "duration": 204,
    "start_time": "2022-06-05T17:12:56.881Z"
   },
   {
    "duration": 9,
    "start_time": "2022-06-05T17:12:57.087Z"
   },
   {
    "duration": 151,
    "start_time": "2022-06-05T17:12:57.097Z"
   },
   {
    "duration": 5,
    "start_time": "2022-06-05T17:12:57.250Z"
   },
   {
    "duration": 14,
    "start_time": "2022-06-05T17:12:57.256Z"
   },
   {
    "duration": 184,
    "start_time": "2022-06-05T17:12:57.272Z"
   },
   {
    "duration": 1004,
    "start_time": "2022-06-05T17:16:42.379Z"
   },
   {
    "duration": 914,
    "start_time": "2022-06-05T17:17:21.344Z"
   },
   {
    "duration": 3750,
    "start_time": "2022-06-05T17:17:28.156Z"
   },
   {
    "duration": 3933,
    "start_time": "2022-06-05T17:19:12.181Z"
   },
   {
    "duration": 4058,
    "start_time": "2022-06-05T17:19:19.260Z"
   },
   {
    "duration": 3834,
    "start_time": "2022-06-05T17:19:29.750Z"
   },
   {
    "duration": 3892,
    "start_time": "2022-06-05T17:19:40.841Z"
   },
   {
    "duration": 3983,
    "start_time": "2022-06-05T17:20:13.297Z"
   },
   {
    "duration": 57,
    "start_time": "2022-06-05T17:34:40.895Z"
   },
   {
    "duration": 69,
    "start_time": "2022-06-05T17:53:29.653Z"
   },
   {
    "duration": 71,
    "start_time": "2022-06-05T17:54:10.809Z"
   },
   {
    "duration": 3956,
    "start_time": "2022-06-05T17:54:13.871Z"
   },
   {
    "duration": 16,
    "start_time": "2022-06-05T18:01:51.171Z"
   },
   {
    "duration": 11,
    "start_time": "2022-06-05T18:02:12.147Z"
   },
   {
    "duration": 4,
    "start_time": "2022-06-05T18:03:20.900Z"
   },
   {
    "duration": 6,
    "start_time": "2022-06-05T18:03:43.268Z"
   },
   {
    "duration": 9,
    "start_time": "2022-06-05T18:03:56.868Z"
   },
   {
    "duration": 7,
    "start_time": "2022-06-05T18:04:22.239Z"
   },
   {
    "duration": 112,
    "start_time": "2022-06-05T18:15:31.222Z"
   },
   {
    "duration": 30,
    "start_time": "2022-06-05T18:15:42.060Z"
   },
   {
    "duration": 15,
    "start_time": "2022-06-05T18:15:54.806Z"
   },
   {
    "duration": 13,
    "start_time": "2022-06-05T18:23:29.793Z"
   },
   {
    "duration": 17,
    "start_time": "2022-06-05T18:23:51.042Z"
   },
   {
    "duration": 14,
    "start_time": "2022-06-05T18:23:58.143Z"
   },
   {
    "duration": 17,
    "start_time": "2022-06-05T18:26:34.744Z"
   },
   {
    "duration": 14,
    "start_time": "2022-06-05T18:26:44.518Z"
   },
   {
    "duration": 48,
    "start_time": "2022-06-05T18:34:02.613Z"
   },
   {
    "duration": 39,
    "start_time": "2022-06-05T18:34:20.255Z"
   },
   {
    "duration": 11,
    "start_time": "2022-06-05T18:34:34.289Z"
   },
   {
    "duration": 11,
    "start_time": "2022-06-05T18:35:32.543Z"
   },
   {
    "duration": 10,
    "start_time": "2022-06-05T18:35:39.589Z"
   },
   {
    "duration": 15,
    "start_time": "2022-06-05T19:31:01.689Z"
   },
   {
    "duration": 19,
    "start_time": "2022-06-05T19:32:05.231Z"
   },
   {
    "duration": 97,
    "start_time": "2022-06-05T19:36:56.315Z"
   },
   {
    "duration": 35,
    "start_time": "2022-06-05T19:56:08.341Z"
   },
   {
    "duration": 23,
    "start_time": "2022-06-05T19:56:25.027Z"
   },
   {
    "duration": 90,
    "start_time": "2022-06-05T19:58:18.609Z"
   },
   {
    "duration": 6,
    "start_time": "2022-06-05T19:58:41.515Z"
   },
   {
    "duration": 138,
    "start_time": "2022-06-05T19:59:42.247Z"
   },
   {
    "duration": 161,
    "start_time": "2022-06-05T20:01:03.932Z"
   },
   {
    "duration": 102,
    "start_time": "2022-06-05T20:06:24.573Z"
   },
   {
    "duration": 9,
    "start_time": "2022-06-05T20:06:47.934Z"
   },
   {
    "duration": 3,
    "start_time": "2022-06-05T20:07:42.763Z"
   },
   {
    "duration": 728,
    "start_time": "2022-06-05T20:07:42.769Z"
   },
   {
    "duration": 4,
    "start_time": "2022-06-05T20:07:43.499Z"
   },
   {
    "duration": 1285,
    "start_time": "2022-06-05T20:07:43.505Z"
   },
   {
    "duration": 4,
    "start_time": "2022-06-05T20:07:44.792Z"
   },
   {
    "duration": 18,
    "start_time": "2022-06-05T20:07:44.798Z"
   },
   {
    "duration": 242,
    "start_time": "2022-06-05T20:07:44.818Z"
   },
   {
    "duration": 6,
    "start_time": "2022-06-05T20:07:45.061Z"
   },
   {
    "duration": 12,
    "start_time": "2022-06-05T20:07:45.068Z"
   },
   {
    "duration": 342,
    "start_time": "2022-06-05T20:07:45.081Z"
   },
   {
    "duration": 201,
    "start_time": "2022-06-05T20:07:45.426Z"
   },
   {
    "duration": 77,
    "start_time": "2022-06-05T20:07:45.629Z"
   },
   {
    "duration": 110,
    "start_time": "2022-06-05T20:07:45.708Z"
   },
   {
    "duration": 19,
    "start_time": "2022-06-05T20:07:45.820Z"
   },
   {
    "duration": 114,
    "start_time": "2022-06-05T20:08:05.182Z"
   },
   {
    "duration": 11,
    "start_time": "2022-06-05T20:08:06.056Z"
   },
   {
    "duration": 198,
    "start_time": "2022-06-05T20:09:02.693Z"
   },
   {
    "duration": 8,
    "start_time": "2022-06-05T20:09:08.727Z"
   },
   {
    "duration": 207,
    "start_time": "2022-06-05T20:11:04.108Z"
   },
   {
    "duration": 7,
    "start_time": "2022-06-05T20:11:11.659Z"
   },
   {
    "duration": 5,
    "start_time": "2022-06-05T20:11:23.863Z"
   },
   {
    "duration": 679,
    "start_time": "2022-06-05T20:11:23.870Z"
   },
   {
    "duration": 5,
    "start_time": "2022-06-05T20:11:24.550Z"
   },
   {
    "duration": 1239,
    "start_time": "2022-06-05T20:11:24.557Z"
   },
   {
    "duration": 4,
    "start_time": "2022-06-05T20:11:25.798Z"
   },
   {
    "duration": 10,
    "start_time": "2022-06-05T20:11:25.803Z"
   },
   {
    "duration": 259,
    "start_time": "2022-06-05T20:11:25.815Z"
   },
   {
    "duration": 5,
    "start_time": "2022-06-05T20:11:26.076Z"
   },
   {
    "duration": 9,
    "start_time": "2022-06-05T20:11:26.083Z"
   },
   {
    "duration": 278,
    "start_time": "2022-06-05T20:11:26.093Z"
   },
   {
    "duration": 206,
    "start_time": "2022-06-05T20:11:26.373Z"
   },
   {
    "duration": 90,
    "start_time": "2022-06-05T20:11:26.580Z"
   },
   {
    "duration": 105,
    "start_time": "2022-06-05T20:11:26.672Z"
   },
   {
    "duration": 13,
    "start_time": "2022-06-05T20:11:26.779Z"
   },
   {
    "duration": 243,
    "start_time": "2022-06-05T20:11:59.031Z"
   },
   {
    "duration": 4,
    "start_time": "2022-06-05T20:13:52.567Z"
   },
   {
    "duration": 666,
    "start_time": "2022-06-05T20:13:52.573Z"
   },
   {
    "duration": 4,
    "start_time": "2022-06-05T20:13:53.240Z"
   },
   {
    "duration": 1254,
    "start_time": "2022-06-05T20:13:53.246Z"
   },
   {
    "duration": 3,
    "start_time": "2022-06-05T20:13:54.502Z"
   },
   {
    "duration": 11,
    "start_time": "2022-06-05T20:13:54.506Z"
   },
   {
    "duration": 231,
    "start_time": "2022-06-05T20:13:54.519Z"
   },
   {
    "duration": 5,
    "start_time": "2022-06-05T20:13:54.752Z"
   },
   {
    "duration": 7,
    "start_time": "2022-06-05T20:13:54.758Z"
   },
   {
    "duration": 247,
    "start_time": "2022-06-05T20:13:54.767Z"
   },
   {
    "duration": 193,
    "start_time": "2022-06-05T20:13:55.016Z"
   },
   {
    "duration": 91,
    "start_time": "2022-06-05T20:13:55.211Z"
   },
   {
    "duration": 110,
    "start_time": "2022-06-05T20:13:55.304Z"
   },
   {
    "duration": 22,
    "start_time": "2022-06-05T20:13:55.415Z"
   },
   {
    "duration": 14,
    "start_time": "2022-06-05T20:13:59.574Z"
   },
   {
    "duration": 11,
    "start_time": "2022-06-05T20:15:03.285Z"
   },
   {
    "duration": 4,
    "start_time": "2022-06-05T20:17:38.688Z"
   },
   {
    "duration": 994,
    "start_time": "2022-06-05T20:17:39.516Z"
   },
   {
    "duration": 3,
    "start_time": "2022-06-05T20:17:42.837Z"
   },
   {
    "duration": 3,
    "start_time": "2022-06-05T20:17:43.484Z"
   },
   {
    "duration": 124,
    "start_time": "2022-06-05T20:17:44.554Z"
   },
   {
    "duration": 6,
    "start_time": "2022-06-05T20:17:45.536Z"
   },
   {
    "duration": 6,
    "start_time": "2022-06-05T20:17:46.424Z"
   },
   {
    "duration": 206,
    "start_time": "2022-06-05T20:17:48.903Z"
   },
   {
    "duration": 185,
    "start_time": "2022-06-05T20:17:50.388Z"
   },
   {
    "duration": 80,
    "start_time": "2022-06-05T20:17:53.679Z"
   },
   {
    "duration": 94,
    "start_time": "2022-06-05T20:17:55.411Z"
   },
   {
    "duration": 17,
    "start_time": "2022-06-05T20:17:57.897Z"
   },
   {
    "duration": 14,
    "start_time": "2022-06-05T20:18:00.060Z"
   },
   {
    "duration": 4,
    "start_time": "2022-06-05T20:19:05.379Z"
   },
   {
    "duration": 690,
    "start_time": "2022-06-05T20:19:05.385Z"
   },
   {
    "duration": 4,
    "start_time": "2022-06-05T20:19:06.077Z"
   },
   {
    "duration": 1354,
    "start_time": "2022-06-05T20:19:06.084Z"
   },
   {
    "duration": 4,
    "start_time": "2022-06-05T20:19:07.439Z"
   },
   {
    "duration": 9,
    "start_time": "2022-06-05T20:19:07.444Z"
   },
   {
    "duration": 234,
    "start_time": "2022-06-05T20:19:07.454Z"
   },
   {
    "duration": 4,
    "start_time": "2022-06-05T20:19:07.690Z"
   },
   {
    "duration": 7,
    "start_time": "2022-06-05T20:19:07.696Z"
   },
   {
    "duration": 229,
    "start_time": "2022-06-05T20:19:07.704Z"
   },
   {
    "duration": 219,
    "start_time": "2022-06-05T20:19:07.934Z"
   },
   {
    "duration": 89,
    "start_time": "2022-06-05T20:19:08.154Z"
   },
   {
    "duration": 79,
    "start_time": "2022-06-05T20:19:13.457Z"
   },
   {
    "duration": 8,
    "start_time": "2022-06-05T20:19:15.441Z"
   },
   {
    "duration": 10,
    "start_time": "2022-06-05T20:30:27.840Z"
   },
   {
    "duration": 15,
    "start_time": "2022-06-05T20:35:19.306Z"
   },
   {
    "duration": 3,
    "start_time": "2022-06-05T20:35:26.560Z"
   },
   {
    "duration": 694,
    "start_time": "2022-06-05T20:35:26.565Z"
   },
   {
    "duration": 5,
    "start_time": "2022-06-05T20:35:27.262Z"
   },
   {
    "duration": 1244,
    "start_time": "2022-06-05T20:35:27.268Z"
   },
   {
    "duration": 3,
    "start_time": "2022-06-05T20:35:28.514Z"
   },
   {
    "duration": 9,
    "start_time": "2022-06-05T20:35:28.519Z"
   },
   {
    "duration": 254,
    "start_time": "2022-06-05T20:35:28.530Z"
   },
   {
    "duration": 5,
    "start_time": "2022-06-05T20:35:28.785Z"
   },
   {
    "duration": 14,
    "start_time": "2022-06-05T20:35:28.792Z"
   },
   {
    "duration": 225,
    "start_time": "2022-06-05T20:35:28.807Z"
   },
   {
    "duration": 201,
    "start_time": "2022-06-05T20:35:29.034Z"
   },
   {
    "duration": 92,
    "start_time": "2022-06-05T20:35:29.236Z"
   },
   {
    "duration": 7,
    "start_time": "2022-06-05T20:35:29.329Z"
   },
   {
    "duration": 116,
    "start_time": "2022-06-05T20:35:29.337Z"
   },
   {
    "duration": 17,
    "start_time": "2022-06-05T20:35:29.455Z"
   },
   {
    "duration": 93,
    "start_time": "2022-06-05T20:35:43.650Z"
   },
   {
    "duration": 10,
    "start_time": "2022-06-05T20:35:44.054Z"
   },
   {
    "duration": 14,
    "start_time": "2022-06-05T20:35:47.330Z"
   },
   {
    "duration": 13,
    "start_time": "2022-06-05T20:36:14.051Z"
   },
   {
    "duration": 7,
    "start_time": "2022-06-05T20:36:24.346Z"
   },
   {
    "duration": 190,
    "start_time": "2022-06-05T20:36:56.571Z"
   },
   {
    "duration": 9,
    "start_time": "2022-06-05T20:38:10.173Z"
   },
   {
    "duration": 94,
    "start_time": "2022-06-05T20:39:01.058Z"
   },
   {
    "duration": 0,
    "start_time": "2022-06-05T20:39:01.154Z"
   },
   {
    "duration": 0,
    "start_time": "2022-06-05T20:39:01.156Z"
   },
   {
    "duration": 0,
    "start_time": "2022-06-05T20:39:01.158Z"
   },
   {
    "duration": 0,
    "start_time": "2022-06-05T20:39:01.160Z"
   },
   {
    "duration": 0,
    "start_time": "2022-06-05T20:39:01.161Z"
   },
   {
    "duration": 10,
    "start_time": "2022-06-05T20:45:39.091Z"
   },
   {
    "duration": 9,
    "start_time": "2022-06-05T20:45:51.927Z"
   },
   {
    "duration": 4,
    "start_time": "2022-06-05T20:46:00.052Z"
   },
   {
    "duration": 711,
    "start_time": "2022-06-05T20:46:00.058Z"
   },
   {
    "duration": 4,
    "start_time": "2022-06-05T20:46:00.771Z"
   },
   {
    "duration": 1338,
    "start_time": "2022-06-05T20:46:00.776Z"
   },
   {
    "duration": 4,
    "start_time": "2022-06-05T20:46:02.116Z"
   },
   {
    "duration": 37,
    "start_time": "2022-06-05T20:46:02.130Z"
   },
   {
    "duration": 246,
    "start_time": "2022-06-05T20:46:02.169Z"
   },
   {
    "duration": 13,
    "start_time": "2022-06-05T20:46:02.417Z"
   },
   {
    "duration": 27,
    "start_time": "2022-06-05T20:46:02.431Z"
   },
   {
    "duration": 349,
    "start_time": "2022-06-05T20:46:02.460Z"
   },
   {
    "duration": 204,
    "start_time": "2022-06-05T20:46:02.811Z"
   },
   {
    "duration": 83,
    "start_time": "2022-06-05T20:46:03.017Z"
   },
   {
    "duration": 7,
    "start_time": "2022-06-05T20:46:03.102Z"
   },
   {
    "duration": 111,
    "start_time": "2022-06-05T20:46:03.110Z"
   },
   {
    "duration": 15,
    "start_time": "2022-06-05T20:46:03.228Z"
   },
   {
    "duration": 13,
    "start_time": "2022-06-05T20:46:09.878Z"
   },
   {
    "duration": 13,
    "start_time": "2022-06-05T20:48:42.257Z"
   },
   {
    "duration": 9,
    "start_time": "2022-06-05T20:48:44.142Z"
   },
   {
    "duration": 96,
    "start_time": "2022-06-05T20:48:45.680Z"
   },
   {
    "duration": 7,
    "start_time": "2022-06-05T20:48:49.102Z"
   },
   {
    "duration": 4043,
    "start_time": "2022-06-05T20:48:54.838Z"
   },
   {
    "duration": 4,
    "start_time": "2022-06-05T20:49:38.267Z"
   },
   {
    "duration": 658,
    "start_time": "2022-06-05T20:49:38.273Z"
   },
   {
    "duration": 4,
    "start_time": "2022-06-05T20:49:38.933Z"
   },
   {
    "duration": 1240,
    "start_time": "2022-06-05T20:49:38.939Z"
   },
   {
    "duration": 3,
    "start_time": "2022-06-05T20:49:40.181Z"
   },
   {
    "duration": 13,
    "start_time": "2022-06-05T20:49:40.185Z"
   },
   {
    "duration": 231,
    "start_time": "2022-06-05T20:49:40.199Z"
   },
   {
    "duration": 5,
    "start_time": "2022-06-05T20:49:40.432Z"
   },
   {
    "duration": 8,
    "start_time": "2022-06-05T20:49:40.439Z"
   },
   {
    "duration": 223,
    "start_time": "2022-06-05T20:49:40.448Z"
   },
   {
    "duration": 194,
    "start_time": "2022-06-05T20:49:40.673Z"
   },
   {
    "duration": 88,
    "start_time": "2022-06-05T20:49:40.868Z"
   },
   {
    "duration": 9,
    "start_time": "2022-06-05T20:49:40.958Z"
   },
   {
    "duration": 109,
    "start_time": "2022-06-05T20:49:40.968Z"
   },
   {
    "duration": 13,
    "start_time": "2022-06-05T20:49:41.079Z"
   },
   {
    "duration": 29,
    "start_time": "2022-06-05T20:49:41.094Z"
   },
   {
    "duration": 12,
    "start_time": "2022-06-05T20:49:41.125Z"
   },
   {
    "duration": 134,
    "start_time": "2022-06-05T20:49:51.618Z"
   },
   {
    "duration": 11,
    "start_time": "2022-06-05T20:49:52.843Z"
   },
   {
    "duration": 4126,
    "start_time": "2022-06-05T20:49:54.364Z"
   },
   {
    "duration": 11,
    "start_time": "2022-06-05T21:06:37.088Z"
   },
   {
    "duration": 3,
    "start_time": "2022-06-05T21:06:48.058Z"
   },
   {
    "duration": 748,
    "start_time": "2022-06-05T21:06:48.063Z"
   },
   {
    "duration": 4,
    "start_time": "2022-06-05T21:06:48.813Z"
   },
   {
    "duration": 1338,
    "start_time": "2022-06-05T21:06:48.819Z"
   },
   {
    "duration": 3,
    "start_time": "2022-06-05T21:06:50.159Z"
   },
   {
    "duration": 8,
    "start_time": "2022-06-05T21:06:50.163Z"
   },
   {
    "duration": 247,
    "start_time": "2022-06-05T21:06:50.173Z"
   },
   {
    "duration": 8,
    "start_time": "2022-06-05T21:06:50.422Z"
   },
   {
    "duration": 8,
    "start_time": "2022-06-05T21:06:50.433Z"
   },
   {
    "duration": 250,
    "start_time": "2022-06-05T21:06:50.444Z"
   },
   {
    "duration": 201,
    "start_time": "2022-06-05T21:06:50.696Z"
   },
   {
    "duration": 88,
    "start_time": "2022-06-05T21:06:50.899Z"
   },
   {
    "duration": 6,
    "start_time": "2022-06-05T21:06:50.988Z"
   },
   {
    "duration": 118,
    "start_time": "2022-06-05T21:06:50.996Z"
   },
   {
    "duration": 15,
    "start_time": "2022-06-05T21:06:51.115Z"
   },
   {
    "duration": 14,
    "start_time": "2022-06-05T21:06:54.843Z"
   },
   {
    "duration": 44,
    "start_time": "2022-06-05T21:11:53.870Z"
   },
   {
    "duration": 9,
    "start_time": "2022-06-05T21:11:56.927Z"
   },
   {
    "duration": 4342,
    "start_time": "2022-06-05T21:12:14.889Z"
   },
   {
    "duration": 5,
    "start_time": "2022-06-05T21:12:31.643Z"
   },
   {
    "duration": 6,
    "start_time": "2022-06-05T21:12:32.725Z"
   },
   {
    "duration": 145,
    "start_time": "2022-06-05T21:12:33.722Z"
   },
   {
    "duration": 7,
    "start_time": "2022-06-05T21:15:53.803Z"
   },
   {
    "duration": 4,
    "start_time": "2022-06-05T21:15:54.824Z"
   },
   {
    "duration": 59,
    "start_time": "2022-06-05T21:15:57.598Z"
   },
   {
    "duration": 6,
    "start_time": "2022-06-05T21:16:23.908Z"
   },
   {
    "duration": 4,
    "start_time": "2022-06-05T21:16:24.237Z"
   },
   {
    "duration": 30,
    "start_time": "2022-06-05T21:16:24.755Z"
   },
   {
    "duration": 4,
    "start_time": "2022-06-05T21:16:57.379Z"
   },
   {
    "duration": 685,
    "start_time": "2022-06-05T21:16:57.385Z"
   },
   {
    "duration": 3,
    "start_time": "2022-06-05T21:16:58.072Z"
   },
   {
    "duration": 1299,
    "start_time": "2022-06-05T21:16:58.076Z"
   },
   {
    "duration": 4,
    "start_time": "2022-06-05T21:16:59.377Z"
   },
   {
    "duration": 6,
    "start_time": "2022-06-05T21:16:59.382Z"
   },
   {
    "duration": 246,
    "start_time": "2022-06-05T21:16:59.390Z"
   },
   {
    "duration": 5,
    "start_time": "2022-06-05T21:16:59.638Z"
   },
   {
    "duration": 5,
    "start_time": "2022-06-05T21:16:59.645Z"
   },
   {
    "duration": 232,
    "start_time": "2022-06-05T21:16:59.652Z"
   },
   {
    "duration": 195,
    "start_time": "2022-06-05T21:16:59.886Z"
   },
   {
    "duration": 88,
    "start_time": "2022-06-05T21:17:00.082Z"
   },
   {
    "duration": 7,
    "start_time": "2022-06-05T21:17:00.172Z"
   },
   {
    "duration": 126,
    "start_time": "2022-06-05T21:17:00.180Z"
   },
   {
    "duration": 20,
    "start_time": "2022-06-05T21:17:00.307Z"
   },
   {
    "duration": 26,
    "start_time": "2022-06-05T21:17:00.329Z"
   },
   {
    "duration": 13,
    "start_time": "2022-06-05T21:17:00.357Z"
   },
   {
    "duration": 55,
    "start_time": "2022-06-05T21:17:00.372Z"
   },
   {
    "duration": 7,
    "start_time": "2022-06-05T21:17:00.429Z"
   },
   {
    "duration": 4478,
    "start_time": "2022-06-05T21:17:00.438Z"
   },
   {
    "duration": 5,
    "start_time": "2022-06-05T21:17:04.926Z"
   },
   {
    "duration": 19,
    "start_time": "2022-06-05T21:17:04.933Z"
   },
   {
    "duration": 165,
    "start_time": "2022-06-05T21:17:09.917Z"
   },
   {
    "duration": 4,
    "start_time": "2022-06-05T21:28:55.213Z"
   },
   {
    "duration": 72,
    "start_time": "2022-06-05T21:28:57.311Z"
   },
   {
    "duration": 3,
    "start_time": "2022-06-05T21:29:25.786Z"
   },
   {
    "duration": 753,
    "start_time": "2022-06-05T21:29:25.791Z"
   },
   {
    "duration": 4,
    "start_time": "2022-06-05T21:29:26.545Z"
   },
   {
    "duration": 1295,
    "start_time": "2022-06-05T21:29:26.551Z"
   },
   {
    "duration": 3,
    "start_time": "2022-06-05T21:29:27.848Z"
   },
   {
    "duration": 9,
    "start_time": "2022-06-05T21:29:27.852Z"
   },
   {
    "duration": 246,
    "start_time": "2022-06-05T21:29:27.862Z"
   },
   {
    "duration": 5,
    "start_time": "2022-06-05T21:29:28.110Z"
   },
   {
    "duration": 11,
    "start_time": "2022-06-05T21:29:28.118Z"
   },
   {
    "duration": 243,
    "start_time": "2022-06-05T21:29:28.131Z"
   },
   {
    "duration": 349,
    "start_time": "2022-06-05T21:29:28.375Z"
   },
   {
    "duration": 79,
    "start_time": "2022-06-05T21:29:28.727Z"
   },
   {
    "duration": 20,
    "start_time": "2022-06-05T21:29:28.808Z"
   },
   {
    "duration": 126,
    "start_time": "2022-06-05T21:29:28.829Z"
   },
   {
    "duration": 14,
    "start_time": "2022-06-05T21:29:28.957Z"
   },
   {
    "duration": 13,
    "start_time": "2022-06-05T21:29:28.973Z"
   },
   {
    "duration": 6,
    "start_time": "2022-06-05T21:29:28.988Z"
   },
   {
    "duration": 61,
    "start_time": "2022-06-05T21:29:28.996Z"
   },
   {
    "duration": 7,
    "start_time": "2022-06-05T21:29:29.058Z"
   },
   {
    "duration": 4098,
    "start_time": "2022-06-05T21:29:29.066Z"
   },
   {
    "duration": 5,
    "start_time": "2022-06-05T21:29:33.165Z"
   },
   {
    "duration": 6,
    "start_time": "2022-06-05T21:29:47.848Z"
   },
   {
    "duration": 6,
    "start_time": "2022-06-05T21:29:48.180Z"
   },
   {
    "duration": 149,
    "start_time": "2022-06-05T21:29:49.388Z"
   },
   {
    "duration": 45,
    "start_time": "2022-06-08T18:50:30.077Z"
   },
   {
    "duration": 1405,
    "start_time": "2022-06-08T18:50:38.688Z"
   },
   {
    "duration": 1019,
    "start_time": "2022-06-08T18:50:40.095Z"
   },
   {
    "duration": 3,
    "start_time": "2022-06-08T18:50:41.116Z"
   },
   {
    "duration": 1360,
    "start_time": "2022-06-08T18:50:41.121Z"
   },
   {
    "duration": 3,
    "start_time": "2022-06-08T18:50:42.484Z"
   },
   {
    "duration": 7,
    "start_time": "2022-06-08T18:50:42.489Z"
   },
   {
    "duration": 302,
    "start_time": "2022-06-08T18:50:42.498Z"
   },
   {
    "duration": 5,
    "start_time": "2022-06-08T18:50:42.801Z"
   },
   {
    "duration": 24,
    "start_time": "2022-06-08T18:50:42.807Z"
   },
   {
    "duration": 296,
    "start_time": "2022-06-08T18:50:42.833Z"
   },
   {
    "duration": 210,
    "start_time": "2022-06-08T18:50:43.130Z"
   },
   {
    "duration": 87,
    "start_time": "2022-06-08T18:50:43.342Z"
   },
   {
    "duration": 132,
    "start_time": "2022-06-08T18:50:49.081Z"
   },
   {
    "duration": 233,
    "start_time": "2022-06-08T18:50:59.887Z"
   },
   {
    "duration": 142,
    "start_time": "2022-06-08T18:51:04.480Z"
   },
   {
    "duration": 138,
    "start_time": "2022-06-08T18:51:08.456Z"
   },
   {
    "duration": 125,
    "start_time": "2022-06-08T18:51:15.844Z"
   },
   {
    "duration": 147,
    "start_time": "2022-06-08T18:51:54.281Z"
   },
   {
    "duration": 369,
    "start_time": "2022-06-08T18:52:43.356Z"
   },
   {
    "duration": 1422,
    "start_time": "2022-06-08T18:53:29.664Z"
   },
   {
    "duration": 111,
    "start_time": "2022-06-08T18:55:47.971Z"
   },
   {
    "duration": 115,
    "start_time": "2022-06-08T18:55:58.701Z"
   },
   {
    "duration": 150,
    "start_time": "2022-06-08T18:56:27.159Z"
   },
   {
    "duration": 141,
    "start_time": "2022-06-08T18:56:41.924Z"
   },
   {
    "duration": 113,
    "start_time": "2022-06-08T18:57:02.721Z"
   },
   {
    "duration": 191,
    "start_time": "2022-06-08T18:57:14.786Z"
   },
   {
    "duration": 118,
    "start_time": "2022-06-08T18:57:24.949Z"
   },
   {
    "duration": 39,
    "start_time": "2022-06-08T18:57:28.986Z"
   },
   {
    "duration": 139,
    "start_time": "2022-06-08T18:57:31.899Z"
   },
   {
    "duration": 124,
    "start_time": "2022-06-08T18:57:37.705Z"
   },
   {
    "duration": 140,
    "start_time": "2022-06-08T18:57:43.981Z"
   },
   {
    "duration": 141,
    "start_time": "2022-06-08T18:58:13.739Z"
   },
   {
    "duration": 140,
    "start_time": "2022-06-08T18:58:24.727Z"
   },
   {
    "duration": 166,
    "start_time": "2022-06-08T18:59:45.694Z"
   },
   {
    "duration": 137,
    "start_time": "2022-06-08T19:01:03.517Z"
   },
   {
    "duration": 171,
    "start_time": "2022-06-08T19:01:23.590Z"
   },
   {
    "duration": 396,
    "start_time": "2022-06-08T19:02:23.020Z"
   },
   {
    "duration": 173,
    "start_time": "2022-06-08T19:03:10.153Z"
   },
   {
    "duration": 1313,
    "start_time": "2022-06-08T21:00:35.434Z"
   },
   {
    "duration": 2913,
    "start_time": "2022-06-08T21:00:36.749Z"
   },
   {
    "duration": 3,
    "start_time": "2022-06-08T21:00:39.663Z"
   },
   {
    "duration": 1225,
    "start_time": "2022-06-08T21:00:39.668Z"
   },
   {
    "duration": 3,
    "start_time": "2022-06-08T21:00:40.896Z"
   },
   {
    "duration": 8,
    "start_time": "2022-06-08T21:00:40.902Z"
   },
   {
    "duration": 277,
    "start_time": "2022-06-08T21:00:40.912Z"
   },
   {
    "duration": 5,
    "start_time": "2022-06-08T21:00:41.191Z"
   },
   {
    "duration": 14,
    "start_time": "2022-06-08T21:00:41.198Z"
   },
   {
    "duration": 244,
    "start_time": "2022-06-08T21:00:41.213Z"
   },
   {
    "duration": 202,
    "start_time": "2022-06-08T21:00:41.458Z"
   },
   {
    "duration": 75,
    "start_time": "2022-06-08T21:00:41.661Z"
   },
   {
    "duration": 177,
    "start_time": "2022-06-08T21:00:41.737Z"
   },
   {
    "duration": 114,
    "start_time": "2022-06-08T21:00:41.916Z"
   },
   {
    "duration": 13,
    "start_time": "2022-06-08T21:00:42.031Z"
   },
   {
    "duration": 83,
    "start_time": "2022-06-08T21:00:42.046Z"
   },
   {
    "duration": 5,
    "start_time": "2022-06-08T21:00:42.131Z"
   },
   {
    "duration": 51,
    "start_time": "2022-06-08T21:00:42.137Z"
   },
   {
    "duration": 11,
    "start_time": "2022-06-08T21:00:42.190Z"
   },
   {
    "duration": 4039,
    "start_time": "2022-06-08T21:00:42.202Z"
   },
   {
    "duration": 5,
    "start_time": "2022-06-08T21:00:46.242Z"
   },
   {
    "duration": 11,
    "start_time": "2022-06-08T21:00:46.248Z"
   },
   {
    "duration": 111,
    "start_time": "2022-06-08T21:01:42.357Z"
   },
   {
    "duration": 144,
    "start_time": "2022-06-08T21:01:52.397Z"
   },
   {
    "duration": 14,
    "start_time": "2022-06-08T21:01:52.716Z"
   },
   {
    "duration": 17,
    "start_time": "2022-06-08T21:22:50.433Z"
   },
   {
    "duration": 14,
    "start_time": "2022-06-08T21:22:57.277Z"
   },
   {
    "duration": 92,
    "start_time": "2022-06-08T21:23:19.092Z"
   },
   {
    "duration": 100,
    "start_time": "2022-06-08T21:35:45.036Z"
   },
   {
    "duration": 3,
    "start_time": "2022-06-08T21:36:06.644Z"
   },
   {
    "duration": 620,
    "start_time": "2022-06-08T21:36:06.649Z"
   },
   {
    "duration": 7,
    "start_time": "2022-06-08T21:36:07.271Z"
   },
   {
    "duration": 1149,
    "start_time": "2022-06-08T21:36:07.280Z"
   },
   {
    "duration": 4,
    "start_time": "2022-06-08T21:36:08.430Z"
   },
   {
    "duration": 9,
    "start_time": "2022-06-08T21:36:08.435Z"
   },
   {
    "duration": 219,
    "start_time": "2022-06-08T21:36:08.445Z"
   },
   {
    "duration": 4,
    "start_time": "2022-06-08T21:36:08.666Z"
   },
   {
    "duration": 11,
    "start_time": "2022-06-08T21:36:08.672Z"
   },
   {
    "duration": 200,
    "start_time": "2022-06-08T21:36:08.684Z"
   },
   {
    "duration": 176,
    "start_time": "2022-06-08T21:36:08.885Z"
   },
   {
    "duration": 72,
    "start_time": "2022-06-08T21:36:09.063Z"
   },
   {
    "duration": 102,
    "start_time": "2022-06-08T21:38:01.812Z"
   },
   {
    "duration": 4,
    "start_time": "2022-06-08T22:22:45.492Z"
   },
   {
    "duration": 2,
    "start_time": "2022-06-08T22:22:48.543Z"
   },
   {
    "duration": 3,
    "start_time": "2022-06-08T22:22:49.485Z"
   },
   {
    "duration": 8,
    "start_time": "2022-06-08T22:23:11.582Z"
   },
   {
    "duration": 3,
    "start_time": "2022-06-08T22:23:27.492Z"
   },
   {
    "duration": 17,
    "start_time": "2022-06-08T22:23:27.499Z"
   },
   {
    "duration": 8,
    "start_time": "2022-06-08T22:23:27.518Z"
   },
   {
    "duration": 0,
    "start_time": "2022-06-08T22:23:27.527Z"
   },
   {
    "duration": 0,
    "start_time": "2022-06-08T22:23:27.528Z"
   },
   {
    "duration": 11,
    "start_time": "2022-06-08T22:24:45.111Z"
   },
   {
    "duration": 8,
    "start_time": "2022-06-08T22:24:46.084Z"
   },
   {
    "duration": 2,
    "start_time": "2022-06-08T22:26:09.769Z"
   },
   {
    "duration": 9,
    "start_time": "2022-06-08T22:26:10.415Z"
   },
   {
    "duration": 2,
    "start_time": "2022-06-08T22:26:23.960Z"
   },
   {
    "duration": 9,
    "start_time": "2022-06-08T22:26:24.400Z"
   },
   {
    "duration": 3,
    "start_time": "2022-06-08T22:26:42.443Z"
   },
   {
    "duration": 644,
    "start_time": "2022-06-08T22:26:42.448Z"
   },
   {
    "duration": 4,
    "start_time": "2022-06-08T22:26:43.094Z"
   },
   {
    "duration": 1130,
    "start_time": "2022-06-08T22:26:43.100Z"
   },
   {
    "duration": 3,
    "start_time": "2022-06-08T22:26:44.232Z"
   },
   {
    "duration": 8,
    "start_time": "2022-06-08T22:26:44.236Z"
   },
   {
    "duration": 218,
    "start_time": "2022-06-08T22:26:44.245Z"
   },
   {
    "duration": 15,
    "start_time": "2022-06-08T22:26:44.464Z"
   },
   {
    "duration": 3,
    "start_time": "2022-06-08T22:26:44.480Z"
   },
   {
    "duration": 202,
    "start_time": "2022-06-08T22:26:44.484Z"
   },
   {
    "duration": 182,
    "start_time": "2022-06-08T22:26:44.688Z"
   },
   {
    "duration": 65,
    "start_time": "2022-06-08T22:26:44.877Z"
   },
   {
    "duration": 166,
    "start_time": "2022-06-08T22:26:44.943Z"
   },
   {
    "duration": 91,
    "start_time": "2022-06-08T22:26:45.110Z"
   },
   {
    "duration": 12,
    "start_time": "2022-06-08T22:26:45.202Z"
   },
   {
    "duration": 13,
    "start_time": "2022-06-08T22:26:45.215Z"
   },
   {
    "duration": 6,
    "start_time": "2022-06-08T22:26:45.229Z"
   },
   {
    "duration": 57,
    "start_time": "2022-06-08T22:26:45.236Z"
   },
   {
    "duration": 6,
    "start_time": "2022-06-08T22:26:45.294Z"
   },
   {
    "duration": 3574,
    "start_time": "2022-06-08T22:26:45.301Z"
   },
   {
    "duration": 5,
    "start_time": "2022-06-08T22:26:48.876Z"
   },
   {
    "duration": 12,
    "start_time": "2022-06-08T22:26:48.882Z"
   },
   {
    "duration": 131,
    "start_time": "2022-06-08T22:26:48.895Z"
   },
   {
    "duration": 3,
    "start_time": "2022-06-08T22:26:49.028Z"
   },
   {
    "duration": 15,
    "start_time": "2022-06-08T22:26:49.033Z"
   },
   {
    "duration": 7,
    "start_time": "2022-06-08T22:26:49.049Z"
   },
   {
    "duration": 0,
    "start_time": "2022-06-08T22:26:49.058Z"
   },
   {
    "duration": 3,
    "start_time": "2022-06-08T22:26:59.888Z"
   },
   {
    "duration": 2,
    "start_time": "2022-06-08T22:27:08.638Z"
   },
   {
    "duration": 7,
    "start_time": "2022-06-08T22:27:11.908Z"
   },
   {
    "duration": 7,
    "start_time": "2022-06-08T22:27:19.083Z"
   },
   {
    "duration": 2107,
    "start_time": "2022-06-09T18:59:35.219Z"
   },
   {
    "duration": 3191,
    "start_time": "2022-06-09T18:59:37.329Z"
   },
   {
    "duration": 4,
    "start_time": "2022-06-09T18:59:40.522Z"
   },
   {
    "duration": 1670,
    "start_time": "2022-06-09T18:59:40.528Z"
   },
   {
    "duration": 3,
    "start_time": "2022-06-09T18:59:42.201Z"
   },
   {
    "duration": 10,
    "start_time": "2022-06-09T18:59:42.206Z"
   },
   {
    "duration": 294,
    "start_time": "2022-06-09T18:59:42.217Z"
   },
   {
    "duration": 5,
    "start_time": "2022-06-09T18:59:42.513Z"
   },
   {
    "duration": 5,
    "start_time": "2022-06-09T18:59:42.522Z"
   },
   {
    "duration": 246,
    "start_time": "2022-06-09T18:59:42.528Z"
   },
   {
    "duration": 219,
    "start_time": "2022-06-09T18:59:42.777Z"
   },
   {
    "duration": 71,
    "start_time": "2022-06-09T18:59:42.998Z"
   },
   {
    "duration": 180,
    "start_time": "2022-06-09T18:59:43.079Z"
   },
   {
    "duration": 125,
    "start_time": "2022-06-09T18:59:43.262Z"
   },
   {
    "duration": 17,
    "start_time": "2022-06-09T18:59:43.388Z"
   },
   {
    "duration": 108,
    "start_time": "2022-06-09T18:59:43.406Z"
   },
   {
    "duration": 6,
    "start_time": "2022-06-09T18:59:43.516Z"
   },
   {
    "duration": 62,
    "start_time": "2022-06-09T18:59:43.523Z"
   },
   {
    "duration": 11,
    "start_time": "2022-06-09T18:59:43.588Z"
   },
   {
    "duration": 4260,
    "start_time": "2022-06-09T18:59:43.601Z"
   },
   {
    "duration": 5,
    "start_time": "2022-06-09T18:59:47.864Z"
   },
   {
    "duration": 41,
    "start_time": "2022-06-09T18:59:47.871Z"
   },
   {
    "duration": 197,
    "start_time": "2022-06-09T18:59:47.914Z"
   },
   {
    "duration": 77,
    "start_time": "2022-06-09T18:59:53.633Z"
   },
   {
    "duration": 143,
    "start_time": "2022-06-09T19:05:37.110Z"
   },
   {
    "duration": 201,
    "start_time": "2022-06-09T19:07:53.902Z"
   },
   {
    "duration": 161,
    "start_time": "2022-06-09T19:07:54.236Z"
   },
   {
    "duration": 192,
    "start_time": "2022-06-09T19:08:13.279Z"
   },
   {
    "duration": 142,
    "start_time": "2022-06-09T19:08:13.813Z"
   },
   {
    "duration": 419,
    "start_time": "2022-06-09T19:27:21.151Z"
   },
   {
    "duration": 11,
    "start_time": "2022-06-09T19:28:56.176Z"
   },
   {
    "duration": 4,
    "start_time": "2022-06-09T19:29:07.624Z"
   },
   {
    "duration": 11,
    "start_time": "2022-06-09T19:29:53.533Z"
   },
   {
    "duration": 93,
    "start_time": "2022-06-09T19:45:37.141Z"
   },
   {
    "duration": 116,
    "start_time": "2022-06-09T19:45:59.894Z"
   },
   {
    "duration": 155,
    "start_time": "2022-06-09T19:46:41.099Z"
   },
   {
    "duration": 10,
    "start_time": "2022-06-09T19:50:02.936Z"
   },
   {
    "duration": 12,
    "start_time": "2022-06-09T19:50:14.270Z"
   },
   {
    "duration": 61,
    "start_time": "2022-06-09T19:51:53.230Z"
   },
   {
    "duration": 31,
    "start_time": "2022-06-09T19:52:33.266Z"
   },
   {
    "duration": 5,
    "start_time": "2022-06-09T19:53:02.437Z"
   },
   {
    "duration": 3043,
    "start_time": "2022-06-09T19:53:02.444Z"
   },
   {
    "duration": 7,
    "start_time": "2022-06-09T19:53:05.498Z"
   },
   {
    "duration": 1239,
    "start_time": "2022-06-09T19:53:05.510Z"
   },
   {
    "duration": 2,
    "start_time": "2022-06-09T19:53:06.751Z"
   },
   {
    "duration": 7,
    "start_time": "2022-06-09T19:53:06.755Z"
   },
   {
    "duration": 271,
    "start_time": "2022-06-09T19:53:06.763Z"
   },
   {
    "duration": 5,
    "start_time": "2022-06-09T19:53:07.036Z"
   },
   {
    "duration": 4,
    "start_time": "2022-06-09T19:53:07.044Z"
   },
   {
    "duration": 258,
    "start_time": "2022-06-09T19:53:07.050Z"
   },
   {
    "duration": 208,
    "start_time": "2022-06-09T19:53:07.310Z"
   },
   {
    "duration": 91,
    "start_time": "2022-06-09T19:53:07.520Z"
   },
   {
    "duration": 202,
    "start_time": "2022-06-09T19:53:07.613Z"
   },
   {
    "duration": 115,
    "start_time": "2022-06-09T19:53:07.817Z"
   },
   {
    "duration": 15,
    "start_time": "2022-06-09T19:53:07.934Z"
   },
   {
    "duration": 23,
    "start_time": "2022-06-09T19:53:07.951Z"
   },
   {
    "duration": 10,
    "start_time": "2022-06-09T19:53:07.978Z"
   },
   {
    "duration": 69,
    "start_time": "2022-06-09T19:53:07.989Z"
   },
   {
    "duration": 7,
    "start_time": "2022-06-09T19:53:08.060Z"
   },
   {
    "duration": 4135,
    "start_time": "2022-06-09T19:53:08.068Z"
   },
   {
    "duration": 6,
    "start_time": "2022-06-09T19:53:12.206Z"
   },
   {
    "duration": 12,
    "start_time": "2022-06-09T19:53:12.214Z"
   },
   {
    "duration": 139,
    "start_time": "2022-06-09T19:53:12.228Z"
   },
   {
    "duration": 53,
    "start_time": "2022-06-09T19:53:12.383Z"
   },
   {
    "duration": 147,
    "start_time": "2022-06-09T19:53:12.438Z"
   },
   {
    "duration": 166,
    "start_time": "2022-06-09T19:53:12.586Z"
   },
   {
    "duration": 162,
    "start_time": "2022-06-09T19:53:12.753Z"
   },
   {
    "duration": 58,
    "start_time": "2022-06-09T19:53:17.302Z"
   },
   {
    "duration": 3,
    "start_time": "2022-06-09T19:53:48.627Z"
   },
   {
    "duration": 669,
    "start_time": "2022-06-09T19:53:48.632Z"
   },
   {
    "duration": 5,
    "start_time": "2022-06-09T19:53:49.302Z"
   },
   {
    "duration": 1235,
    "start_time": "2022-06-09T19:53:49.309Z"
   },
   {
    "duration": 3,
    "start_time": "2022-06-09T19:53:50.545Z"
   },
   {
    "duration": 7,
    "start_time": "2022-06-09T19:53:50.549Z"
   },
   {
    "duration": 255,
    "start_time": "2022-06-09T19:53:50.558Z"
   },
   {
    "duration": 5,
    "start_time": "2022-06-09T19:53:50.815Z"
   },
   {
    "duration": 4,
    "start_time": "2022-06-09T19:53:50.822Z"
   },
   {
    "duration": 223,
    "start_time": "2022-06-09T19:53:50.827Z"
   },
   {
    "duration": 195,
    "start_time": "2022-06-09T19:53:51.052Z"
   },
   {
    "duration": 87,
    "start_time": "2022-06-09T19:53:51.248Z"
   },
   {
    "duration": 289,
    "start_time": "2022-06-09T19:53:51.337Z"
   },
   {
    "duration": 108,
    "start_time": "2022-06-09T19:53:51.628Z"
   },
   {
    "duration": 13,
    "start_time": "2022-06-09T19:53:51.739Z"
   },
   {
    "duration": 13,
    "start_time": "2022-06-09T19:53:51.754Z"
   },
   {
    "duration": 17,
    "start_time": "2022-06-09T19:53:51.768Z"
   },
   {
    "duration": 55,
    "start_time": "2022-06-09T19:53:51.786Z"
   },
   {
    "duration": 6,
    "start_time": "2022-06-09T19:53:51.843Z"
   },
   {
    "duration": 4068,
    "start_time": "2022-06-09T19:53:51.850Z"
   },
   {
    "duration": 5,
    "start_time": "2022-06-09T19:53:55.919Z"
   },
   {
    "duration": 15,
    "start_time": "2022-06-09T19:53:55.925Z"
   },
   {
    "duration": 156,
    "start_time": "2022-06-09T19:53:55.941Z"
   },
   {
    "duration": 46,
    "start_time": "2022-06-09T19:53:56.099Z"
   },
   {
    "duration": 157,
    "start_time": "2022-06-09T19:53:56.147Z"
   },
   {
    "duration": 180,
    "start_time": "2022-06-09T19:53:56.307Z"
   },
   {
    "duration": 143,
    "start_time": "2022-06-09T19:53:56.497Z"
   },
   {
    "duration": 65,
    "start_time": "2022-06-09T19:54:06.542Z"
   },
   {
    "duration": 75,
    "start_time": "2022-06-09T19:54:41.035Z"
   },
   {
    "duration": 45,
    "start_time": "2022-06-09T19:54:58.442Z"
   },
   {
    "duration": 61,
    "start_time": "2022-06-09T19:55:51.943Z"
   },
   {
    "duration": 8,
    "start_time": "2022-06-09T20:05:46.465Z"
   },
   {
    "duration": 23,
    "start_time": "2022-06-09T20:06:04.769Z"
   },
   {
    "duration": 115,
    "start_time": "2022-06-09T20:08:02.891Z"
   },
   {
    "duration": 21,
    "start_time": "2022-06-09T20:12:01.320Z"
   },
   {
    "duration": 49,
    "start_time": "2022-06-09T20:12:32.123Z"
   },
   {
    "duration": 40,
    "start_time": "2022-06-09T20:12:48.743Z"
   },
   {
    "duration": 38,
    "start_time": "2022-06-09T20:13:03.108Z"
   },
   {
    "duration": 9,
    "start_time": "2022-06-09T21:00:09.265Z"
   },
   {
    "duration": 8,
    "start_time": "2022-06-09T21:00:33.868Z"
   },
   {
    "duration": 8,
    "start_time": "2022-06-09T21:00:42.808Z"
   },
   {
    "duration": 4,
    "start_time": "2022-06-09T21:00:58.224Z"
   },
   {
    "duration": 216,
    "start_time": "2022-06-09T21:03:05.733Z"
   },
   {
    "duration": 218,
    "start_time": "2022-06-09T21:03:32.781Z"
   },
   {
    "duration": 22,
    "start_time": "2022-06-09T21:04:01.773Z"
   },
   {
    "duration": 31,
    "start_time": "2022-06-09T21:08:29.097Z"
   },
   {
    "duration": 402,
    "start_time": "2022-06-09T21:08:39.052Z"
   },
   {
    "duration": 16,
    "start_time": "2022-06-09T21:09:17.201Z"
   },
   {
    "duration": 46,
    "start_time": "2022-06-09T21:17:45.434Z"
   },
   {
    "duration": 82,
    "start_time": "2022-06-09T21:18:03.718Z"
   },
   {
    "duration": 53,
    "start_time": "2022-06-09T21:19:21.040Z"
   },
   {
    "duration": 20,
    "start_time": "2022-06-09T21:19:45.182Z"
   },
   {
    "duration": 3,
    "start_time": "2022-06-09T21:20:06.116Z"
   },
   {
    "duration": 2981,
    "start_time": "2022-06-09T21:20:06.120Z"
   },
   {
    "duration": 5,
    "start_time": "2022-06-09T21:20:09.103Z"
   },
   {
    "duration": 1286,
    "start_time": "2022-06-09T21:20:09.110Z"
   },
   {
    "duration": 7,
    "start_time": "2022-06-09T21:20:10.398Z"
   },
   {
    "duration": 23,
    "start_time": "2022-06-09T21:20:10.406Z"
   },
   {
    "duration": 290,
    "start_time": "2022-06-09T21:20:10.430Z"
   },
   {
    "duration": 7,
    "start_time": "2022-06-09T21:20:10.722Z"
   },
   {
    "duration": 13,
    "start_time": "2022-06-09T21:20:10.731Z"
   },
   {
    "duration": 229,
    "start_time": "2022-06-09T21:20:10.746Z"
   },
   {
    "duration": 218,
    "start_time": "2022-06-09T21:20:10.978Z"
   },
   {
    "duration": 69,
    "start_time": "2022-06-09T21:20:11.198Z"
   },
   {
    "duration": 200,
    "start_time": "2022-06-09T21:20:11.278Z"
   },
   {
    "duration": 99,
    "start_time": "2022-06-09T21:20:11.479Z"
   },
   {
    "duration": 14,
    "start_time": "2022-06-09T21:20:11.580Z"
   },
   {
    "duration": 18,
    "start_time": "2022-06-09T21:20:11.596Z"
   },
   {
    "duration": 7,
    "start_time": "2022-06-09T21:20:11.616Z"
   },
   {
    "duration": 69,
    "start_time": "2022-06-09T21:20:11.624Z"
   },
   {
    "duration": 10,
    "start_time": "2022-06-09T21:20:11.696Z"
   },
   {
    "duration": 4204,
    "start_time": "2022-06-09T21:20:11.708Z"
   },
   {
    "duration": 5,
    "start_time": "2022-06-09T21:20:15.915Z"
   },
   {
    "duration": 14,
    "start_time": "2022-06-09T21:20:15.921Z"
   },
   {
    "duration": 170,
    "start_time": "2022-06-09T21:20:15.937Z"
   },
   {
    "duration": 43,
    "start_time": "2022-06-09T21:20:16.109Z"
   },
   {
    "duration": 180,
    "start_time": "2022-06-09T21:20:16.153Z"
   },
   {
    "duration": 167,
    "start_time": "2022-06-09T21:20:16.335Z"
   },
   {
    "duration": 157,
    "start_time": "2022-06-09T21:20:16.503Z"
   },
   {
    "duration": 63,
    "start_time": "2022-06-09T21:20:16.662Z"
   },
   {
    "duration": 429,
    "start_time": "2022-06-09T21:20:16.726Z"
   },
   {
    "duration": 11,
    "start_time": "2022-06-09T21:20:17.156Z"
   },
   {
    "duration": 11,
    "start_time": "2022-06-09T21:20:41.514Z"
   },
   {
    "duration": 12,
    "start_time": "2022-06-09T21:21:56.252Z"
   },
   {
    "duration": 19,
    "start_time": "2022-06-09T21:21:57.658Z"
   },
   {
    "duration": 42,
    "start_time": "2022-06-09T21:22:10.477Z"
   },
   {
    "duration": 38,
    "start_time": "2022-06-09T21:22:15.519Z"
   },
   {
    "duration": 55,
    "start_time": "2022-06-09T21:23:43.941Z"
   },
   {
    "duration": 9,
    "start_time": "2022-06-09T21:24:01.455Z"
   },
   {
    "duration": 5,
    "start_time": "2022-06-09T21:24:15.046Z"
   },
   {
    "duration": 47,
    "start_time": "2022-06-09T21:25:11.467Z"
   },
   {
    "duration": 4,
    "start_time": "2022-06-09T21:25:12.458Z"
   },
   {
    "duration": 8,
    "start_time": "2022-06-09T21:25:54.704Z"
   },
   {
    "duration": 3,
    "start_time": "2022-06-09T21:26:01.074Z"
   },
   {
    "duration": 630,
    "start_time": "2022-06-09T21:26:01.079Z"
   },
   {
    "duration": 3,
    "start_time": "2022-06-09T21:26:01.711Z"
   },
   {
    "duration": 1207,
    "start_time": "2022-06-09T21:26:01.716Z"
   },
   {
    "duration": 3,
    "start_time": "2022-06-09T21:26:02.925Z"
   },
   {
    "duration": 6,
    "start_time": "2022-06-09T21:26:02.930Z"
   },
   {
    "duration": 234,
    "start_time": "2022-06-09T21:26:02.937Z"
   },
   {
    "duration": 7,
    "start_time": "2022-06-09T21:26:03.172Z"
   },
   {
    "duration": 5,
    "start_time": "2022-06-09T21:26:03.181Z"
   },
   {
    "duration": 223,
    "start_time": "2022-06-09T21:26:03.187Z"
   },
   {
    "duration": 303,
    "start_time": "2022-06-09T21:26:03.411Z"
   },
   {
    "duration": 82,
    "start_time": "2022-06-09T21:26:03.715Z"
   },
   {
    "duration": 183,
    "start_time": "2022-06-09T21:26:03.799Z"
   },
   {
    "duration": 103,
    "start_time": "2022-06-09T21:26:03.983Z"
   },
   {
    "duration": 12,
    "start_time": "2022-06-09T21:26:04.087Z"
   },
   {
    "duration": 14,
    "start_time": "2022-06-09T21:26:04.101Z"
   },
   {
    "duration": 7,
    "start_time": "2022-06-09T21:26:04.116Z"
   },
   {
    "duration": 65,
    "start_time": "2022-06-09T21:26:04.125Z"
   },
   {
    "duration": 6,
    "start_time": "2022-06-09T21:26:04.191Z"
   },
   {
    "duration": 3815,
    "start_time": "2022-06-09T21:26:04.199Z"
   },
   {
    "duration": 5,
    "start_time": "2022-06-09T21:26:08.016Z"
   },
   {
    "duration": 10,
    "start_time": "2022-06-09T21:26:08.022Z"
   },
   {
    "duration": 162,
    "start_time": "2022-06-09T21:26:08.034Z"
   },
   {
    "duration": 56,
    "start_time": "2022-06-09T21:26:08.199Z"
   },
   {
    "duration": 158,
    "start_time": "2022-06-09T21:26:08.256Z"
   },
   {
    "duration": 160,
    "start_time": "2022-06-09T21:26:08.415Z"
   },
   {
    "duration": 137,
    "start_time": "2022-06-09T21:26:08.578Z"
   },
   {
    "duration": 53,
    "start_time": "2022-06-09T21:26:08.716Z"
   },
   {
    "duration": 381,
    "start_time": "2022-06-09T21:26:08.778Z"
   },
   {
    "duration": 10,
    "start_time": "2022-06-09T21:26:09.161Z"
   },
   {
    "duration": 18,
    "start_time": "2022-06-09T21:26:09.172Z"
   },
   {
    "duration": 13,
    "start_time": "2022-06-09T21:26:09.191Z"
   },
   {
    "duration": 31,
    "start_time": "2022-06-09T21:26:09.206Z"
   },
   {
    "duration": 12,
    "start_time": "2022-06-09T21:26:16.532Z"
   },
   {
    "duration": 327,
    "start_time": "2022-06-09T21:26:28.718Z"
   },
   {
    "duration": 18,
    "start_time": "2022-06-09T21:26:29.242Z"
   },
   {
    "duration": 4,
    "start_time": "2022-06-09T21:27:08.610Z"
   },
   {
    "duration": 58,
    "start_time": "2022-06-09T21:27:28.948Z"
   },
   {
    "duration": 4,
    "start_time": "2022-06-09T21:27:29.309Z"
   },
   {
    "duration": 3,
    "start_time": "2022-06-09T21:27:35.953Z"
   },
   {
    "duration": 684,
    "start_time": "2022-06-09T21:27:35.958Z"
   },
   {
    "duration": 4,
    "start_time": "2022-06-09T21:27:36.644Z"
   },
   {
    "duration": 1195,
    "start_time": "2022-06-09T21:27:36.649Z"
   },
   {
    "duration": 7,
    "start_time": "2022-06-09T21:27:37.846Z"
   },
   {
    "duration": 17,
    "start_time": "2022-06-09T21:27:37.854Z"
   },
   {
    "duration": 285,
    "start_time": "2022-06-09T21:27:37.872Z"
   },
   {
    "duration": 7,
    "start_time": "2022-06-09T21:27:38.159Z"
   },
   {
    "duration": 20,
    "start_time": "2022-06-09T21:27:38.167Z"
   },
   {
    "duration": 247,
    "start_time": "2022-06-09T21:27:38.189Z"
   },
   {
    "duration": 191,
    "start_time": "2022-06-09T21:27:38.439Z"
   },
   {
    "duration": 76,
    "start_time": "2022-06-09T21:27:38.632Z"
   },
   {
    "duration": 176,
    "start_time": "2022-06-09T21:27:38.710Z"
   },
   {
    "duration": 94,
    "start_time": "2022-06-09T21:27:38.887Z"
   },
   {
    "duration": 13,
    "start_time": "2022-06-09T21:27:38.983Z"
   },
   {
    "duration": 14,
    "start_time": "2022-06-09T21:27:38.998Z"
   },
   {
    "duration": 7,
    "start_time": "2022-06-09T21:27:39.014Z"
   },
   {
    "duration": 64,
    "start_time": "2022-06-09T21:27:39.022Z"
   },
   {
    "duration": 6,
    "start_time": "2022-06-09T21:27:39.088Z"
   },
   {
    "duration": 3745,
    "start_time": "2022-06-09T21:27:39.095Z"
   },
   {
    "duration": 5,
    "start_time": "2022-06-09T21:27:42.841Z"
   },
   {
    "duration": 14,
    "start_time": "2022-06-09T21:27:42.847Z"
   },
   {
    "duration": 143,
    "start_time": "2022-06-09T21:27:42.862Z"
   },
   {
    "duration": 44,
    "start_time": "2022-06-09T21:27:43.006Z"
   },
   {
    "duration": 166,
    "start_time": "2022-06-09T21:27:43.052Z"
   },
   {
    "duration": 175,
    "start_time": "2022-06-09T21:27:43.220Z"
   },
   {
    "duration": 149,
    "start_time": "2022-06-09T21:27:43.397Z"
   },
   {
    "duration": 64,
    "start_time": "2022-06-09T21:27:43.547Z"
   },
   {
    "duration": 391,
    "start_time": "2022-06-09T21:27:43.615Z"
   },
   {
    "duration": 12,
    "start_time": "2022-06-09T21:27:44.008Z"
   },
   {
    "duration": 14,
    "start_time": "2022-06-09T21:27:44.022Z"
   },
   {
    "duration": 15,
    "start_time": "2022-06-09T21:27:44.038Z"
   },
   {
    "duration": 55,
    "start_time": "2022-06-09T21:27:44.054Z"
   },
   {
    "duration": 12,
    "start_time": "2022-06-09T21:27:44.110Z"
   },
   {
    "duration": 70,
    "start_time": "2022-06-09T21:27:44.124Z"
   },
   {
    "duration": 51,
    "start_time": "2022-06-09T21:27:55.428Z"
   },
   {
    "duration": 4,
    "start_time": "2022-06-09T21:27:56.273Z"
   },
   {
    "duration": 4,
    "start_time": "2022-06-09T21:28:21.702Z"
   },
   {
    "duration": 725,
    "start_time": "2022-06-09T21:28:21.708Z"
   },
   {
    "duration": 4,
    "start_time": "2022-06-09T21:28:22.434Z"
   },
   {
    "duration": 1280,
    "start_time": "2022-06-09T21:28:22.440Z"
   },
   {
    "duration": 3,
    "start_time": "2022-06-09T21:28:23.722Z"
   },
   {
    "duration": 9,
    "start_time": "2022-06-09T21:28:23.727Z"
   },
   {
    "duration": 242,
    "start_time": "2022-06-09T21:28:23.737Z"
   },
   {
    "duration": 5,
    "start_time": "2022-06-09T21:28:23.980Z"
   },
   {
    "duration": 5,
    "start_time": "2022-06-09T21:28:23.987Z"
   },
   {
    "duration": 226,
    "start_time": "2022-06-09T21:28:23.994Z"
   },
   {
    "duration": 192,
    "start_time": "2022-06-09T21:28:24.222Z"
   },
   {
    "duration": 73,
    "start_time": "2022-06-09T21:28:24.415Z"
   },
   {
    "duration": 296,
    "start_time": "2022-06-09T21:28:24.490Z"
   },
   {
    "duration": 97,
    "start_time": "2022-06-09T21:28:24.788Z"
   },
   {
    "duration": 12,
    "start_time": "2022-06-09T21:28:24.886Z"
   },
   {
    "duration": 13,
    "start_time": "2022-06-09T21:28:24.900Z"
   },
   {
    "duration": 6,
    "start_time": "2022-06-09T21:28:24.915Z"
   },
   {
    "duration": 61,
    "start_time": "2022-06-09T21:28:24.922Z"
   },
   {
    "duration": 6,
    "start_time": "2022-06-09T21:28:24.985Z"
   },
   {
    "duration": 4007,
    "start_time": "2022-06-09T21:28:24.992Z"
   },
   {
    "duration": 5,
    "start_time": "2022-06-09T21:28:29.000Z"
   },
   {
    "duration": 12,
    "start_time": "2022-06-09T21:28:29.006Z"
   },
   {
    "duration": 140,
    "start_time": "2022-06-09T21:28:29.019Z"
   },
   {
    "duration": 55,
    "start_time": "2022-06-09T21:28:29.161Z"
   },
   {
    "duration": 165,
    "start_time": "2022-06-09T21:28:29.218Z"
   },
   {
    "duration": 168,
    "start_time": "2022-06-09T21:28:29.384Z"
   },
   {
    "duration": 138,
    "start_time": "2022-06-09T21:28:29.554Z"
   },
   {
    "duration": 54,
    "start_time": "2022-06-09T21:28:29.693Z"
   },
   {
    "duration": 389,
    "start_time": "2022-06-09T21:28:29.749Z"
   },
   {
    "duration": 11,
    "start_time": "2022-06-09T21:28:30.139Z"
   },
   {
    "duration": 29,
    "start_time": "2022-06-09T21:28:30.152Z"
   },
   {
    "duration": 20,
    "start_time": "2022-06-09T21:28:30.183Z"
   },
   {
    "duration": 51,
    "start_time": "2022-06-09T21:28:30.204Z"
   },
   {
    "duration": 11,
    "start_time": "2022-06-09T21:28:30.257Z"
   },
   {
    "duration": 11,
    "start_time": "2022-06-09T21:28:44.542Z"
   },
   {
    "duration": 398,
    "start_time": "2022-06-09T21:28:45.633Z"
   },
   {
    "duration": 18,
    "start_time": "2022-06-09T21:28:47.209Z"
   },
   {
    "duration": 21,
    "start_time": "2022-06-09T21:28:56.392Z"
   },
   {
    "duration": 19,
    "start_time": "2022-06-09T21:33:57.715Z"
   },
   {
    "duration": 6,
    "start_time": "2022-06-09T21:38:51.989Z"
   },
   {
    "duration": 15,
    "start_time": "2022-06-09T21:39:05.471Z"
   },
   {
    "duration": 17,
    "start_time": "2022-06-09T21:39:20.053Z"
   },
   {
    "duration": 11,
    "start_time": "2022-06-09T21:39:24.939Z"
   },
   {
    "duration": 17,
    "start_time": "2022-06-09T21:39:26.043Z"
   },
   {
    "duration": 9,
    "start_time": "2022-06-09T21:39:44.600Z"
   },
   {
    "duration": 17,
    "start_time": "2022-06-09T21:39:44.939Z"
   },
   {
    "duration": 12,
    "start_time": "2022-06-09T21:39:54.518Z"
   },
   {
    "duration": 18,
    "start_time": "2022-06-09T21:39:58.564Z"
   },
   {
    "duration": 3,
    "start_time": "2022-06-09T21:55:28.739Z"
   },
   {
    "duration": 8,
    "start_time": "2022-06-09T21:55:34.376Z"
   },
   {
    "duration": 8,
    "start_time": "2022-06-09T21:56:12.413Z"
   },
   {
    "duration": 4,
    "start_time": "2022-06-09T21:57:18.831Z"
   },
   {
    "duration": 8,
    "start_time": "2022-06-09T21:57:27.532Z"
   },
   {
    "duration": 9,
    "start_time": "2022-06-09T21:57:42.521Z"
   },
   {
    "duration": 4,
    "start_time": "2022-06-09T21:58:28.609Z"
   },
   {
    "duration": 1203,
    "start_time": "2022-06-09T21:58:34.776Z"
   },
   {
    "duration": 1100,
    "start_time": "2022-06-09T21:59:34.285Z"
   },
   {
    "duration": 1038,
    "start_time": "2022-06-09T21:59:47.941Z"
   },
   {
    "duration": 984,
    "start_time": "2022-06-09T22:00:14.397Z"
   },
   {
    "duration": 1291,
    "start_time": "2022-06-09T22:00:36.991Z"
   },
   {
    "duration": 4,
    "start_time": "2022-06-09T22:01:07.312Z"
   },
   {
    "duration": 1364,
    "start_time": "2022-06-09T22:01:07.614Z"
   },
   {
    "duration": 1063,
    "start_time": "2022-06-09T22:03:08.216Z"
   },
   {
    "duration": 3,
    "start_time": "2022-06-09T22:13:01.305Z"
   },
   {
    "duration": 1144,
    "start_time": "2022-06-09T22:13:11.835Z"
   },
   {
    "duration": 34,
    "start_time": "2022-06-09T22:13:34.698Z"
   },
   {
    "duration": 1042,
    "start_time": "2022-06-09T22:13:40.838Z"
   },
   {
    "duration": 988,
    "start_time": "2022-06-09T22:13:51.294Z"
   },
   {
    "duration": 30,
    "start_time": "2022-06-09T22:15:27.387Z"
   },
   {
    "duration": 4,
    "start_time": "2022-06-09T22:19:44.003Z"
   },
   {
    "duration": 929,
    "start_time": "2022-06-09T22:21:32.053Z"
   },
   {
    "duration": 243280,
    "start_time": "2022-06-09T22:21:35.636Z"
   },
   {
    "duration": 7,
    "start_time": "2022-06-09T22:27:04.530Z"
   },
   {
    "duration": 93,
    "start_time": "2022-06-10T20:25:35.837Z"
   },
   {
    "duration": 24,
    "start_time": "2022-06-10T20:25:35.932Z"
   },
   {
    "duration": 8,
    "start_time": "2022-06-10T20:25:35.957Z"
   },
   {
    "duration": 1890,
    "start_time": "2022-06-10T20:26:09.555Z"
   },
   {
    "duration": 1497,
    "start_time": "2022-06-10T20:26:11.447Z"
   },
   {
    "duration": 4,
    "start_time": "2022-06-10T20:26:12.946Z"
   },
   {
    "duration": 1955,
    "start_time": "2022-06-10T20:26:12.952Z"
   },
   {
    "duration": 16,
    "start_time": "2022-06-10T20:26:14.915Z"
   },
   {
    "duration": 7,
    "start_time": "2022-06-10T20:26:14.940Z"
   },
   {
    "duration": 464,
    "start_time": "2022-06-10T20:26:14.949Z"
   },
   {
    "duration": 14,
    "start_time": "2022-06-10T20:26:15.418Z"
   },
   {
    "duration": 19,
    "start_time": "2022-06-10T20:26:15.436Z"
   },
   {
    "duration": 329,
    "start_time": "2022-06-10T20:26:15.457Z"
   },
   {
    "duration": 275,
    "start_time": "2022-06-10T20:26:15.789Z"
   },
   {
    "duration": 175,
    "start_time": "2022-06-10T20:26:16.067Z"
   },
   {
    "duration": 316,
    "start_time": "2022-06-10T20:26:16.246Z"
   },
   {
    "duration": 222,
    "start_time": "2022-06-10T20:26:16.569Z"
   },
   {
    "duration": 33,
    "start_time": "2022-06-10T20:26:16.794Z"
   },
   {
    "duration": 53,
    "start_time": "2022-06-10T20:26:16.836Z"
   },
   {
    "duration": 19,
    "start_time": "2022-06-10T20:26:16.892Z"
   },
   {
    "duration": 116,
    "start_time": "2022-06-10T20:26:16.913Z"
   },
   {
    "duration": 11,
    "start_time": "2022-06-10T20:26:17.036Z"
   },
   {
    "duration": 5545,
    "start_time": "2022-06-10T20:26:17.049Z"
   },
   {
    "duration": 9,
    "start_time": "2022-06-10T20:26:22.599Z"
   },
   {
    "duration": 41,
    "start_time": "2022-06-10T20:26:22.613Z"
   },
   {
    "duration": 182,
    "start_time": "2022-06-10T20:26:22.656Z"
   },
   {
    "duration": 102,
    "start_time": "2022-06-10T20:26:22.843Z"
   },
   {
    "duration": 282,
    "start_time": "2022-06-10T20:26:22.947Z"
   },
   {
    "duration": 290,
    "start_time": "2022-06-10T20:26:23.233Z"
   },
   {
    "duration": 228,
    "start_time": "2022-06-10T20:26:23.525Z"
   },
   {
    "duration": 99,
    "start_time": "2022-06-10T20:26:23.755Z"
   },
   {
    "duration": 686,
    "start_time": "2022-06-10T20:26:23.857Z"
   },
   {
    "duration": 14,
    "start_time": "2022-06-10T20:26:24.545Z"
   },
   {
    "duration": 18,
    "start_time": "2022-06-10T20:26:24.561Z"
   },
   {
    "duration": 22,
    "start_time": "2022-06-10T20:26:24.594Z"
   },
   {
    "duration": 62,
    "start_time": "2022-06-10T20:26:24.618Z"
   },
   {
    "duration": 22,
    "start_time": "2022-06-10T20:26:24.682Z"
   },
   {
    "duration": 704,
    "start_time": "2022-06-10T20:26:24.706Z"
   },
   {
    "duration": 32,
    "start_time": "2022-06-10T20:26:25.416Z"
   },
   {
    "duration": 24,
    "start_time": "2022-06-10T20:26:25.449Z"
   },
   {
    "duration": 5,
    "start_time": "2022-06-10T20:26:25.476Z"
   },
   {
    "duration": 14,
    "start_time": "2022-06-10T20:26:25.483Z"
   },
   {
    "duration": 5,
    "start_time": "2022-06-10T20:26:33.043Z"
   },
   {
    "duration": 4,
    "start_time": "2022-06-10T20:26:33.488Z"
   },
   {
    "duration": 1801,
    "start_time": "2022-06-10T20:26:35.105Z"
   },
   {
    "duration": 8,
    "start_time": "2022-06-10T20:26:48.074Z"
   },
   {
    "duration": 4,
    "start_time": "2022-06-10T20:27:57.028Z"
   },
   {
    "duration": 873,
    "start_time": "2022-06-10T20:27:57.034Z"
   },
   {
    "duration": 9,
    "start_time": "2022-06-10T20:27:57.910Z"
   },
   {
    "duration": 1700,
    "start_time": "2022-06-10T20:27:57.921Z"
   },
   {
    "duration": 6,
    "start_time": "2022-06-10T20:27:59.623Z"
   },
   {
    "duration": 8,
    "start_time": "2022-06-10T20:27:59.631Z"
   },
   {
    "duration": 404,
    "start_time": "2022-06-10T20:27:59.641Z"
   },
   {
    "duration": 7,
    "start_time": "2022-06-10T20:28:00.047Z"
   },
   {
    "duration": 31,
    "start_time": "2022-06-10T20:28:00.058Z"
   },
   {
    "duration": 355,
    "start_time": "2022-06-10T20:28:00.092Z"
   },
   {
    "duration": 254,
    "start_time": "2022-06-10T20:28:00.450Z"
   },
   {
    "duration": 137,
    "start_time": "2022-06-10T20:28:00.710Z"
   },
   {
    "duration": 231,
    "start_time": "2022-06-10T20:28:00.849Z"
   },
   {
    "duration": 175,
    "start_time": "2022-06-10T20:28:01.082Z"
   },
   {
    "duration": 18,
    "start_time": "2022-06-10T20:28:01.259Z"
   },
   {
    "duration": 66,
    "start_time": "2022-06-10T20:28:01.279Z"
   },
   {
    "duration": 27,
    "start_time": "2022-06-10T20:28:01.347Z"
   },
   {
    "duration": 143,
    "start_time": "2022-06-10T20:28:01.376Z"
   },
   {
    "duration": 11,
    "start_time": "2022-06-10T20:28:01.525Z"
   },
   {
    "duration": 5281,
    "start_time": "2022-06-10T20:28:01.538Z"
   },
   {
    "duration": 6,
    "start_time": "2022-06-10T20:28:06.822Z"
   },
   {
    "duration": 56,
    "start_time": "2022-06-10T20:28:06.830Z"
   },
   {
    "duration": 196,
    "start_time": "2022-06-10T20:28:06.888Z"
   },
   {
    "duration": 78,
    "start_time": "2022-06-10T20:28:07.094Z"
   },
   {
    "duration": 200,
    "start_time": "2022-06-10T20:28:07.174Z"
   },
   {
    "duration": 229,
    "start_time": "2022-06-10T20:28:07.376Z"
   },
   {
    "duration": 193,
    "start_time": "2022-06-10T20:28:07.609Z"
   },
   {
    "duration": 66,
    "start_time": "2022-06-10T20:28:07.804Z"
   },
   {
    "duration": 537,
    "start_time": "2022-06-10T20:28:07.872Z"
   },
   {
    "duration": 16,
    "start_time": "2022-06-10T20:28:08.415Z"
   },
   {
    "duration": 16,
    "start_time": "2022-06-10T20:28:08.433Z"
   },
   {
    "duration": 22,
    "start_time": "2022-06-10T20:28:08.451Z"
   },
   {
    "duration": 65,
    "start_time": "2022-06-10T20:28:08.475Z"
   },
   {
    "duration": 15,
    "start_time": "2022-06-10T20:28:08.542Z"
   },
   {
    "duration": 678,
    "start_time": "2022-06-10T20:28:08.559Z"
   },
   {
    "duration": 26,
    "start_time": "2022-06-10T20:28:09.239Z"
   },
   {
    "duration": 52,
    "start_time": "2022-06-10T20:28:09.268Z"
   },
   {
    "duration": 7,
    "start_time": "2022-06-10T20:28:09.323Z"
   },
   {
    "duration": 23,
    "start_time": "2022-06-10T20:28:09.332Z"
   },
   {
    "duration": 1438,
    "start_time": "2022-06-10T20:28:09.357Z"
   },
   {
    "duration": 328401,
    "start_time": "2022-06-10T20:28:10.798Z"
   },
   {
    "duration": 18,
    "start_time": "2022-06-10T20:33:39.208Z"
   },
   {
    "duration": 5,
    "start_time": "2022-06-10T20:34:34.157Z"
   },
   {
    "duration": 121,
    "start_time": "2022-06-10T20:34:41.942Z"
   },
   {
    "duration": 4,
    "start_time": "2022-06-10T20:35:55.034Z"
   },
   {
    "duration": 5009,
    "start_time": "2022-06-10T20:36:01.319Z"
   },
   {
    "duration": 8,
    "start_time": "2022-06-10T20:36:10.181Z"
   },
   {
    "duration": 1350,
    "start_time": "2022-06-10T20:36:19.964Z"
   },
   {
    "duration": 10,
    "start_time": "2022-06-10T20:36:25.519Z"
   },
   {
    "duration": 67,
    "start_time": "2022-06-10T20:37:16.252Z"
   },
   {
    "duration": 140741,
    "start_time": "2022-06-10T20:39:27.716Z"
   },
   {
    "duration": 14,
    "start_time": "2022-06-10T20:42:25.786Z"
   },
   {
    "duration": 58,
    "start_time": "2022-06-10T20:53:44.711Z"
   },
   {
    "duration": 72,
    "start_time": "2022-06-10T20:55:02.911Z"
   },
   {
    "duration": 1341273,
    "start_time": "2022-06-10T20:55:09.042Z"
   },
   {
    "duration": 5,
    "start_time": "2022-06-10T21:56:50.234Z"
   },
   {
    "duration": 10,
    "start_time": "2022-06-10T22:01:51.337Z"
   },
   {
    "duration": 5,
    "start_time": "2022-06-10T22:02:40.263Z"
   },
   {
    "duration": 4,
    "start_time": "2022-06-10T22:02:41.445Z"
   },
   {
    "duration": 5,
    "start_time": "2022-06-10T22:02:41.884Z"
   },
   {
    "duration": 17,
    "start_time": "2022-06-10T22:03:16.908Z"
   },
   {
    "duration": 4,
    "start_time": "2022-06-10T22:04:06.309Z"
   },
   {
    "duration": 2,
    "start_time": "2022-06-10T22:06:41.485Z"
   },
   {
    "duration": 21,
    "start_time": "2022-06-10T22:09:47.488Z"
   },
   {
    "duration": 4,
    "start_time": "2022-06-10T22:17:49.084Z"
   },
   {
    "duration": 15,
    "start_time": "2022-06-10T22:17:49.998Z"
   },
   {
    "duration": 4,
    "start_time": "2022-06-10T22:18:15.479Z"
   },
   {
    "duration": 12,
    "start_time": "2022-06-10T22:18:15.938Z"
   },
   {
    "duration": 4,
    "start_time": "2022-06-10T22:18:28.245Z"
   },
   {
    "duration": 1761,
    "start_time": "2022-06-10T22:18:28.735Z"
   },
   {
    "duration": 398,
    "start_time": "2022-06-10T22:19:31.308Z"
   },
   {
    "duration": 360,
    "start_time": "2022-06-10T22:19:40.311Z"
   },
   {
    "duration": 3,
    "start_time": "2022-06-10T22:20:00.215Z"
   },
   {
    "duration": 11,
    "start_time": "2022-06-10T22:20:17.002Z"
   },
   {
    "duration": 370,
    "start_time": "2022-06-10T22:20:41.040Z"
   },
   {
    "duration": 9,
    "start_time": "2022-06-10T22:21:17.329Z"
   },
   {
    "duration": 15,
    "start_time": "2022-06-10T22:21:21.909Z"
   },
   {
    "duration": 5,
    "start_time": "2022-06-10T22:22:18.129Z"
   },
   {
    "duration": 4,
    "start_time": "2022-06-10T22:22:27.360Z"
   },
   {
    "duration": 4,
    "start_time": "2022-06-10T22:22:28.898Z"
   },
   {
    "duration": 4,
    "start_time": "2022-06-10T22:22:29.709Z"
   },
   {
    "duration": 1393,
    "start_time": "2022-06-10T22:22:30.409Z"
   },
   {
    "duration": 8,
    "start_time": "2022-06-10T22:22:35.252Z"
   },
   {
    "duration": 5,
    "start_time": "2022-06-10T22:23:15.538Z"
   },
   {
    "duration": 3,
    "start_time": "2022-06-10T22:23:15.821Z"
   },
   {
    "duration": 4,
    "start_time": "2022-06-10T22:23:17.445Z"
   },
   {
    "duration": 1409,
    "start_time": "2022-06-10T22:23:18.793Z"
   },
   {
    "duration": 10,
    "start_time": "2022-06-10T22:23:21.158Z"
   },
   {
    "duration": 1607,
    "start_time": "2022-06-11T12:00:14.700Z"
   },
   {
    "duration": 1249,
    "start_time": "2022-06-11T12:00:16.312Z"
   },
   {
    "duration": 4,
    "start_time": "2022-06-11T12:00:17.562Z"
   },
   {
    "duration": 1700,
    "start_time": "2022-06-11T12:00:17.569Z"
   },
   {
    "duration": 5,
    "start_time": "2022-06-11T12:00:19.271Z"
   },
   {
    "duration": 18,
    "start_time": "2022-06-11T12:00:19.279Z"
   },
   {
    "duration": 446,
    "start_time": "2022-06-11T12:00:19.301Z"
   },
   {
    "duration": 6,
    "start_time": "2022-06-11T12:00:19.749Z"
   },
   {
    "duration": 16,
    "start_time": "2022-06-11T12:00:19.757Z"
   },
   {
    "duration": 338,
    "start_time": "2022-06-11T12:00:19.776Z"
   },
   {
    "duration": 339,
    "start_time": "2022-06-11T12:00:20.126Z"
   },
   {
    "duration": 203,
    "start_time": "2022-06-11T12:00:20.468Z"
   },
   {
    "duration": 114,
    "start_time": "2022-06-11T12:00:20.672Z"
   },
   {
    "duration": 185,
    "start_time": "2022-06-11T12:00:20.787Z"
   },
   {
    "duration": 27,
    "start_time": "2022-06-11T12:00:20.974Z"
   },
   {
    "duration": 32,
    "start_time": "2022-06-11T12:00:21.003Z"
   },
   {
    "duration": 9,
    "start_time": "2022-06-11T12:00:21.036Z"
   },
   {
    "duration": 77,
    "start_time": "2022-06-11T12:00:21.047Z"
   },
   {
    "duration": 10,
    "start_time": "2022-06-11T12:00:21.127Z"
   },
   {
    "duration": 4555,
    "start_time": "2022-06-11T12:00:21.139Z"
   },
   {
    "duration": 6,
    "start_time": "2022-06-11T12:00:25.699Z"
   },
   {
    "duration": 12,
    "start_time": "2022-06-11T12:00:25.711Z"
   },
   {
    "duration": 200,
    "start_time": "2022-06-11T12:00:25.725Z"
   },
   {
    "duration": 79,
    "start_time": "2022-06-11T12:00:25.927Z"
   },
   {
    "duration": 176,
    "start_time": "2022-06-11T12:00:26.010Z"
   },
   {
    "duration": 223,
    "start_time": "2022-06-11T12:00:26.188Z"
   },
   {
    "duration": 167,
    "start_time": "2022-06-11T12:00:26.413Z"
   },
   {
    "duration": 71,
    "start_time": "2022-06-11T12:00:26.584Z"
   },
   {
    "duration": 503,
    "start_time": "2022-06-11T12:00:26.657Z"
   },
   {
    "duration": 13,
    "start_time": "2022-06-11T12:00:27.162Z"
   },
   {
    "duration": 25,
    "start_time": "2022-06-11T12:00:27.176Z"
   },
   {
    "duration": 20,
    "start_time": "2022-06-11T12:00:27.203Z"
   },
   {
    "duration": 48,
    "start_time": "2022-06-11T12:00:27.225Z"
   },
   {
    "duration": 34,
    "start_time": "2022-06-11T12:00:27.275Z"
   },
   {
    "duration": 571,
    "start_time": "2022-06-11T12:00:27.313Z"
   },
   {
    "duration": 26,
    "start_time": "2022-06-11T12:00:27.885Z"
   },
   {
    "duration": 29,
    "start_time": "2022-06-11T12:00:27.913Z"
   },
   {
    "duration": 5,
    "start_time": "2022-06-11T12:00:27.944Z"
   },
   {
    "duration": 9,
    "start_time": "2022-06-11T12:00:27.950Z"
   },
   {
    "duration": 5,
    "start_time": "2022-06-11T12:00:27.961Z"
   },
   {
    "duration": 2213147,
    "start_time": "2022-06-11T12:00:27.967Z"
   },
   {
    "duration": 11,
    "start_time": "2022-06-11T12:37:21.115Z"
   },
   {
    "duration": 14,
    "start_time": "2022-06-11T12:40:16.229Z"
   },
   {
    "duration": 121310,
    "start_time": "2022-06-11T12:48:56.272Z"
   },
   {
    "duration": 125,
    "start_time": "2022-06-11T12:54:48.309Z"
   },
   {
    "duration": 189,
    "start_time": "2022-06-11T12:55:04.586Z"
   },
   {
    "duration": 178,
    "start_time": "2022-06-11T12:55:27.628Z"
   },
   {
    "duration": 193,
    "start_time": "2022-06-11T12:55:32.260Z"
   },
   {
    "duration": 49,
    "start_time": "2022-06-11T13:04:31.274Z"
   },
   {
    "duration": 71038,
    "start_time": "2022-06-11T13:05:33.272Z"
   },
   {
    "duration": 18,
    "start_time": "2022-06-11T13:10:16.789Z"
   },
   {
    "duration": 166,
    "start_time": "2022-06-11T13:15:07.647Z"
   },
   {
    "duration": 294,
    "start_time": "2022-06-11T13:15:30.973Z"
   },
   {
    "duration": 305,
    "start_time": "2022-06-11T13:22:07.809Z"
   },
   {
    "duration": 4,
    "start_time": "2022-06-11T13:47:13.662Z"
   },
   {
    "duration": 835,
    "start_time": "2022-06-11T13:47:13.668Z"
   },
   {
    "duration": 7,
    "start_time": "2022-06-11T13:47:14.505Z"
   },
   {
    "duration": 1426,
    "start_time": "2022-06-11T13:47:14.515Z"
   },
   {
    "duration": 3,
    "start_time": "2022-06-11T13:47:15.942Z"
   },
   {
    "duration": 7,
    "start_time": "2022-06-11T13:47:15.947Z"
   },
   {
    "duration": 282,
    "start_time": "2022-06-11T13:47:15.955Z"
   },
   {
    "duration": 5,
    "start_time": "2022-06-11T13:47:16.239Z"
   },
   {
    "duration": 6,
    "start_time": "2022-06-11T13:47:16.247Z"
   },
   {
    "duration": 379,
    "start_time": "2022-06-11T13:47:16.255Z"
   },
   {
    "duration": 215,
    "start_time": "2022-06-11T13:47:16.635Z"
   },
   {
    "duration": 195,
    "start_time": "2022-06-11T13:47:16.852Z"
   },
   {
    "duration": 103,
    "start_time": "2022-06-11T13:47:17.049Z"
   },
   {
    "duration": 128,
    "start_time": "2022-06-11T13:47:17.154Z"
   },
   {
    "duration": 26,
    "start_time": "2022-06-11T13:47:17.284Z"
   },
   {
    "duration": 18,
    "start_time": "2022-06-11T13:47:17.312Z"
   },
   {
    "duration": 7,
    "start_time": "2022-06-11T13:47:17.331Z"
   },
   {
    "duration": 67,
    "start_time": "2022-06-11T13:47:17.340Z"
   },
   {
    "duration": 7,
    "start_time": "2022-06-11T13:47:17.409Z"
   },
   {
    "duration": 4558,
    "start_time": "2022-06-11T13:47:17.418Z"
   },
   {
    "duration": 6,
    "start_time": "2022-06-11T13:47:21.978Z"
   },
   {
    "duration": 34,
    "start_time": "2022-06-11T13:47:21.985Z"
   },
   {
    "duration": 176,
    "start_time": "2022-06-11T13:47:22.021Z"
   },
   {
    "duration": 58,
    "start_time": "2022-06-11T13:47:22.208Z"
   },
   {
    "duration": 181,
    "start_time": "2022-06-11T13:47:22.268Z"
   },
   {
    "duration": 207,
    "start_time": "2022-06-11T13:47:22.451Z"
   },
   {
    "duration": 214,
    "start_time": "2022-06-11T13:47:22.659Z"
   },
   {
    "duration": 80,
    "start_time": "2022-06-11T13:47:22.874Z"
   },
   {
    "duration": 528,
    "start_time": "2022-06-11T13:47:22.956Z"
   },
   {
    "duration": 28,
    "start_time": "2022-06-11T13:47:23.486Z"
   },
   {
    "duration": 15,
    "start_time": "2022-06-11T13:47:23.517Z"
   },
   {
    "duration": 16,
    "start_time": "2022-06-11T13:47:23.533Z"
   },
   {
    "duration": 63,
    "start_time": "2022-06-11T13:47:23.550Z"
   },
   {
    "duration": 13,
    "start_time": "2022-06-11T13:47:23.615Z"
   },
   {
    "duration": 601,
    "start_time": "2022-06-11T13:47:23.630Z"
   },
   {
    "duration": 18,
    "start_time": "2022-06-11T13:47:24.233Z"
   },
   {
    "duration": 53,
    "start_time": "2022-06-11T13:47:24.253Z"
   },
   {
    "duration": 12,
    "start_time": "2022-06-11T13:47:24.310Z"
   },
   {
    "duration": 9,
    "start_time": "2022-06-11T13:47:24.324Z"
   },
   {
    "duration": 5020,
    "start_time": "2022-06-11T13:47:24.334Z"
   },
   {
    "duration": 4,
    "start_time": "2022-06-11T13:47:29.355Z"
   },
   {
    "duration": 2381077,
    "start_time": "2022-06-11T13:47:29.361Z"
   },
   {
    "duration": 9,
    "start_time": "2022-06-11T14:27:10.440Z"
   },
   {
    "duration": 336,
    "start_time": "2022-06-11T14:27:10.451Z"
   },
   {
    "duration": 427,
    "start_time": "2022-06-11T14:40:19.368Z"
   },
   {
    "duration": 21,
    "start_time": "2022-06-11T14:40:34.272Z"
   },
   {
    "duration": 197,
    "start_time": "2022-06-11T14:40:37.939Z"
   },
   {
    "duration": 209,
    "start_time": "2022-06-11T14:41:00.514Z"
   },
   {
    "duration": 199,
    "start_time": "2022-06-11T14:42:17.125Z"
   },
   {
    "duration": 234,
    "start_time": "2022-06-11T14:42:49.309Z"
   },
   {
    "duration": 217,
    "start_time": "2022-06-11T14:42:58.662Z"
   },
   {
    "duration": 368,
    "start_time": "2022-06-11T14:43:08.200Z"
   },
   {
    "duration": 226,
    "start_time": "2022-06-11T14:43:16.762Z"
   },
   {
    "duration": 228,
    "start_time": "2022-06-11T14:43:24.995Z"
   },
   {
    "duration": 259,
    "start_time": "2022-06-11T14:43:32.273Z"
   },
   {
    "duration": 257,
    "start_time": "2022-06-11T14:43:44.389Z"
   },
   {
    "duration": 232,
    "start_time": "2022-06-11T14:43:50.660Z"
   },
   {
    "duration": 222,
    "start_time": "2022-06-11T14:43:58.443Z"
   },
   {
    "duration": 19,
    "start_time": "2022-06-11T16:05:31.809Z"
   },
   {
    "duration": 3,
    "start_time": "2022-06-11T16:06:04.277Z"
   },
   {
    "duration": 414910,
    "start_time": "2022-06-11T16:06:04.645Z"
   },
   {
    "duration": 88677,
    "start_time": "2022-06-11T16:21:24.847Z"
   },
   {
    "duration": 89822,
    "start_time": "2022-06-11T16:25:32.542Z"
   },
   {
    "duration": 95006,
    "start_time": "2022-06-11T16:28:08.659Z"
   },
   {
    "duration": 92248,
    "start_time": "2022-06-11T16:31:08.704Z"
   },
   {
    "duration": 4,
    "start_time": "2022-06-11T16:42:06.772Z"
   },
   {
    "duration": 4,
    "start_time": "2022-06-11T16:43:03.964Z"
   },
   {
    "duration": 1366,
    "start_time": "2022-06-11T16:43:04.951Z"
   },
   {
    "duration": 11,
    "start_time": "2022-06-11T16:43:37.123Z"
   },
   {
    "duration": 20,
    "start_time": "2022-06-11T16:45:48.525Z"
   },
   {
    "duration": 27,
    "start_time": "2022-06-11T16:48:41.941Z"
   },
   {
    "duration": 26,
    "start_time": "2022-06-11T16:49:19.958Z"
   },
   {
    "duration": 87032,
    "start_time": "2022-06-11T16:50:18.327Z"
   },
   {
    "duration": 5,
    "start_time": "2022-06-11T16:53:26.059Z"
   },
   {
    "duration": 4,
    "start_time": "2022-06-11T16:55:01.709Z"
   },
   {
    "duration": 23,
    "start_time": "2022-06-11T16:55:04.991Z"
   },
   {
    "duration": 4,
    "start_time": "2022-06-11T16:55:27.119Z"
   },
   {
    "duration": 15,
    "start_time": "2022-06-11T16:55:28.184Z"
   },
   {
    "duration": 5,
    "start_time": "2022-06-11T16:55:49.127Z"
   },
   {
    "duration": 14,
    "start_time": "2022-06-11T16:55:50.209Z"
   },
   {
    "duration": 5,
    "start_time": "2022-06-11T16:56:51.551Z"
   },
   {
    "duration": 10,
    "start_time": "2022-06-11T16:57:02.506Z"
   },
   {
    "duration": 18,
    "start_time": "2022-06-11T16:57:13.390Z"
   },
   {
    "duration": 5,
    "start_time": "2022-06-11T16:57:21.605Z"
   },
   {
    "duration": 4,
    "start_time": "2022-06-11T16:57:33.410Z"
   },
   {
    "duration": 5,
    "start_time": "2022-06-11T16:57:33.827Z"
   },
   {
    "duration": 23,
    "start_time": "2022-06-11T16:57:34.987Z"
   },
   {
    "duration": 11,
    "start_time": "2022-06-11T16:57:57.543Z"
   },
   {
    "duration": 4,
    "start_time": "2022-06-11T16:58:26.156Z"
   },
   {
    "duration": 5,
    "start_time": "2022-06-11T16:58:26.830Z"
   },
   {
    "duration": 24,
    "start_time": "2022-06-11T16:58:30.606Z"
   },
   {
    "duration": 87188,
    "start_time": "2022-06-11T16:58:53.383Z"
   },
   {
    "duration": 4,
    "start_time": "2022-06-11T17:01:21.132Z"
   },
   {
    "duration": 4,
    "start_time": "2022-06-11T17:02:10.770Z"
   },
   {
    "duration": 87839,
    "start_time": "2022-06-11T17:03:02.351Z"
   },
   {
    "duration": 8,
    "start_time": "2022-06-11T17:04:30.198Z"
   },
   {
    "duration": 4,
    "start_time": "2022-06-11T17:04:57.415Z"
   },
   {
    "duration": 88481,
    "start_time": "2022-06-11T17:06:16.653Z"
   },
   {
    "duration": 1832,
    "start_time": "2022-06-12T05:20:55.689Z"
   },
   {
    "duration": 987,
    "start_time": "2022-06-12T05:20:57.523Z"
   },
   {
    "duration": 3,
    "start_time": "2022-06-12T05:20:58.512Z"
   },
   {
    "duration": 1339,
    "start_time": "2022-06-12T05:20:58.517Z"
   },
   {
    "duration": 3,
    "start_time": "2022-06-12T05:20:59.859Z"
   },
   {
    "duration": 7,
    "start_time": "2022-06-12T05:20:59.864Z"
   },
   {
    "duration": 290,
    "start_time": "2022-06-12T05:20:59.873Z"
   },
   {
    "duration": 6,
    "start_time": "2022-06-12T05:21:00.164Z"
   },
   {
    "duration": 26,
    "start_time": "2022-06-12T05:21:00.171Z"
   },
   {
    "duration": 252,
    "start_time": "2022-06-12T05:21:00.198Z"
   },
   {
    "duration": 269,
    "start_time": "2022-06-12T05:21:00.451Z"
   },
   {
    "duration": 167,
    "start_time": "2022-06-12T05:21:00.722Z"
   },
   {
    "duration": 87,
    "start_time": "2022-06-12T05:21:00.891Z"
   },
   {
    "duration": 120,
    "start_time": "2022-06-12T05:21:00.980Z"
   },
   {
    "duration": 13,
    "start_time": "2022-06-12T05:21:01.102Z"
   },
   {
    "duration": 23,
    "start_time": "2022-06-12T05:21:01.117Z"
   },
   {
    "duration": 7,
    "start_time": "2022-06-12T05:21:01.142Z"
   },
   {
    "duration": 43,
    "start_time": "2022-06-12T05:21:01.151Z"
   },
   {
    "duration": 7,
    "start_time": "2022-06-12T05:21:01.195Z"
   },
   {
    "duration": 3854,
    "start_time": "2022-06-12T05:21:01.203Z"
   },
   {
    "duration": 4,
    "start_time": "2022-06-12T05:21:05.059Z"
   },
   {
    "duration": 34,
    "start_time": "2022-06-12T05:21:05.065Z"
   },
   {
    "duration": 174,
    "start_time": "2022-06-12T05:21:05.101Z"
   },
   {
    "duration": 67,
    "start_time": "2022-06-12T05:21:05.276Z"
   },
   {
    "duration": 148,
    "start_time": "2022-06-12T05:21:05.345Z"
   },
   {
    "duration": 180,
    "start_time": "2022-06-12T05:21:05.494Z"
   },
   {
    "duration": 144,
    "start_time": "2022-06-12T05:21:05.675Z"
   },
   {
    "duration": 57,
    "start_time": "2022-06-12T05:21:05.821Z"
   },
   {
    "duration": 420,
    "start_time": "2022-06-12T05:21:05.880Z"
   },
   {
    "duration": 16,
    "start_time": "2022-06-12T05:21:06.303Z"
   },
   {
    "duration": 19,
    "start_time": "2022-06-12T05:21:06.327Z"
   },
   {
    "duration": 14,
    "start_time": "2022-06-12T05:21:06.347Z"
   },
   {
    "duration": 38,
    "start_time": "2022-06-12T05:21:06.363Z"
   },
   {
    "duration": 12,
    "start_time": "2022-06-12T05:21:06.403Z"
   },
   {
    "duration": 444,
    "start_time": "2022-06-12T05:21:06.426Z"
   },
   {
    "duration": 18,
    "start_time": "2022-06-12T05:21:06.872Z"
   },
   {
    "duration": 1635,
    "start_time": "2022-06-12T10:31:17.838Z"
   },
   {
    "duration": 1128,
    "start_time": "2022-06-12T10:31:19.475Z"
   },
   {
    "duration": 4,
    "start_time": "2022-06-12T10:31:20.604Z"
   },
   {
    "duration": 1490,
    "start_time": "2022-06-12T10:31:20.610Z"
   },
   {
    "duration": 4,
    "start_time": "2022-06-12T10:31:22.102Z"
   },
   {
    "duration": 16,
    "start_time": "2022-06-12T10:31:22.107Z"
   },
   {
    "duration": 321,
    "start_time": "2022-06-12T10:31:22.125Z"
   },
   {
    "duration": 5,
    "start_time": "2022-06-12T10:31:22.448Z"
   },
   {
    "duration": 5,
    "start_time": "2022-06-12T10:31:22.455Z"
   },
   {
    "duration": 339,
    "start_time": "2022-06-12T10:31:22.462Z"
   },
   {
    "duration": 289,
    "start_time": "2022-06-12T10:31:22.802Z"
   },
   {
    "duration": 182,
    "start_time": "2022-06-12T10:31:23.092Z"
   },
   {
    "duration": 94,
    "start_time": "2022-06-12T10:31:23.276Z"
   },
   {
    "duration": 132,
    "start_time": "2022-06-12T10:31:23.371Z"
   },
   {
    "duration": 18,
    "start_time": "2022-06-12T10:31:23.505Z"
   },
   {
    "duration": 14,
    "start_time": "2022-06-12T10:31:23.525Z"
   },
   {
    "duration": 8,
    "start_time": "2022-06-12T10:31:23.541Z"
   },
   {
    "duration": 72,
    "start_time": "2022-06-12T10:31:23.551Z"
   },
   {
    "duration": 9,
    "start_time": "2022-06-12T10:31:23.625Z"
   },
   {
    "duration": 4193,
    "start_time": "2022-06-12T10:31:23.636Z"
   },
   {
    "duration": 5,
    "start_time": "2022-06-12T10:31:27.830Z"
   },
   {
    "duration": 7,
    "start_time": "2022-06-12T10:31:27.837Z"
   },
   {
    "duration": 192,
    "start_time": "2022-06-12T10:31:27.845Z"
   },
   {
    "duration": 64,
    "start_time": "2022-06-12T10:31:28.038Z"
   },
   {
    "duration": 177,
    "start_time": "2022-06-12T10:31:28.104Z"
   },
   {
    "duration": 197,
    "start_time": "2022-06-12T10:31:28.283Z"
   },
   {
    "duration": 157,
    "start_time": "2022-06-12T10:31:28.482Z"
   },
   {
    "duration": 60,
    "start_time": "2022-06-12T10:31:28.643Z"
   },
   {
    "duration": 457,
    "start_time": "2022-06-12T10:31:28.704Z"
   },
   {
    "duration": 12,
    "start_time": "2022-06-12T10:31:29.163Z"
   },
   {
    "duration": 21,
    "start_time": "2022-06-12T10:31:29.177Z"
   },
   {
    "duration": 28,
    "start_time": "2022-06-12T10:31:29.200Z"
   },
   {
    "duration": 38,
    "start_time": "2022-06-12T10:31:29.231Z"
   },
   {
    "duration": 15,
    "start_time": "2022-06-12T10:31:29.272Z"
   },
   {
    "duration": 35,
    "start_time": "2022-06-12T10:31:29.289Z"
   },
   {
    "duration": 4,
    "start_time": "2022-06-12T10:31:29.326Z"
   },
   {
    "duration": 134,
    "start_time": "2022-06-12T10:31:29.331Z"
   },
   {
    "duration": 0,
    "start_time": "2022-06-12T10:31:29.467Z"
   },
   {
    "duration": 5,
    "start_time": "2022-06-12T10:32:08.046Z"
   },
   {
    "duration": 3,
    "start_time": "2022-06-12T10:32:09.344Z"
   },
   {
    "duration": 5,
    "start_time": "2022-06-12T10:32:10.506Z"
   },
   {
    "duration": 5,
    "start_time": "2022-06-12T10:32:17.491Z"
   },
   {
    "duration": 14,
    "start_time": "2022-06-12T10:33:49.067Z"
   },
   {
    "duration": 12,
    "start_time": "2022-06-12T10:34:01.189Z"
   },
   {
    "duration": 7,
    "start_time": "2022-06-12T10:38:35.027Z"
   },
   {
    "duration": 811,
    "start_time": "2022-06-12T10:38:35.036Z"
   },
   {
    "duration": 5,
    "start_time": "2022-06-12T10:38:35.849Z"
   },
   {
    "duration": 1500,
    "start_time": "2022-06-12T10:38:35.856Z"
   },
   {
    "duration": 4,
    "start_time": "2022-06-12T10:38:37.358Z"
   },
   {
    "duration": 9,
    "start_time": "2022-06-12T10:38:37.364Z"
   },
   {
    "duration": 274,
    "start_time": "2022-06-12T10:38:37.375Z"
   },
   {
    "duration": 7,
    "start_time": "2022-06-12T10:38:37.651Z"
   },
   {
    "duration": 5,
    "start_time": "2022-06-12T10:38:37.661Z"
   },
   {
    "duration": 304,
    "start_time": "2022-06-12T10:38:37.668Z"
   },
   {
    "duration": 236,
    "start_time": "2022-06-12T10:38:37.975Z"
   },
   {
    "duration": 192,
    "start_time": "2022-06-12T10:38:38.213Z"
   },
   {
    "duration": 98,
    "start_time": "2022-06-12T10:38:38.407Z"
   },
   {
    "duration": 128,
    "start_time": "2022-06-12T10:38:38.508Z"
   },
   {
    "duration": 14,
    "start_time": "2022-06-12T10:38:38.639Z"
   },
   {
    "duration": 19,
    "start_time": "2022-06-12T10:38:38.655Z"
   },
   {
    "duration": 8,
    "start_time": "2022-06-12T10:38:38.676Z"
   },
   {
    "duration": 76,
    "start_time": "2022-06-12T10:38:38.685Z"
   },
   {
    "duration": 7,
    "start_time": "2022-06-12T10:38:38.763Z"
   },
   {
    "duration": 4540,
    "start_time": "2022-06-12T10:38:38.773Z"
   },
   {
    "duration": 7,
    "start_time": "2022-06-12T10:38:43.322Z"
   },
   {
    "duration": 14,
    "start_time": "2022-06-12T10:38:43.331Z"
   },
   {
    "duration": 176,
    "start_time": "2022-06-12T10:38:43.348Z"
   },
   {
    "duration": 59,
    "start_time": "2022-06-12T10:38:43.527Z"
   },
   {
    "duration": 199,
    "start_time": "2022-06-12T10:38:43.588Z"
   },
   {
    "duration": 200,
    "start_time": "2022-06-12T10:38:43.789Z"
   },
   {
    "duration": 186,
    "start_time": "2022-06-12T10:38:43.991Z"
   },
   {
    "duration": 80,
    "start_time": "2022-06-12T10:38:44.179Z"
   },
   {
    "duration": 466,
    "start_time": "2022-06-12T10:38:44.261Z"
   },
   {
    "duration": 13,
    "start_time": "2022-06-12T10:38:44.728Z"
   },
   {
    "duration": 17,
    "start_time": "2022-06-12T10:38:44.743Z"
   },
   {
    "duration": 23,
    "start_time": "2022-06-12T10:38:44.763Z"
   },
   {
    "duration": 71,
    "start_time": "2022-06-12T10:38:44.788Z"
   },
   {
    "duration": 14,
    "start_time": "2022-06-12T10:38:44.861Z"
   },
   {
    "duration": 14,
    "start_time": "2022-06-12T10:38:44.877Z"
   },
   {
    "duration": 41,
    "start_time": "2022-06-12T10:38:44.893Z"
   },
   {
    "duration": 0,
    "start_time": "2022-06-12T10:38:44.936Z"
   },
   {
    "duration": 6,
    "start_time": "2022-06-12T10:38:59.215Z"
   },
   {
    "duration": 5,
    "start_time": "2022-06-12T10:39:19.730Z"
   },
   {
    "duration": 16,
    "start_time": "2022-06-12T10:42:48.752Z"
   },
   {
    "duration": 11,
    "start_time": "2022-06-12T10:43:05.294Z"
   },
   {
    "duration": 4,
    "start_time": "2022-06-12T10:43:57.740Z"
   },
   {
    "duration": 5,
    "start_time": "2022-06-12T10:43:59.580Z"
   },
   {
    "duration": 5,
    "start_time": "2022-06-12T10:44:00.426Z"
   },
   {
    "duration": 276,
    "start_time": "2022-06-12T10:44:37.844Z"
   },
   {
    "duration": 22,
    "start_time": "2022-06-12T10:44:41.521Z"
   },
   {
    "duration": 4,
    "start_time": "2022-06-12T10:54:34.375Z"
   },
   {
    "duration": 5,
    "start_time": "2022-06-12T11:08:28.066Z"
   },
   {
    "duration": 6,
    "start_time": "2022-06-12T11:11:30.979Z"
   },
   {
    "duration": 4,
    "start_time": "2022-06-12T11:11:31.397Z"
   },
   {
    "duration": 5,
    "start_time": "2022-06-12T11:11:34.306Z"
   },
   {
    "duration": 708,
    "start_time": "2022-06-12T11:11:36.565Z"
   },
   {
    "duration": 4,
    "start_time": "2022-06-12T11:12:01.726Z"
   },
   {
    "duration": 720,
    "start_time": "2022-06-12T11:12:08.363Z"
   },
   {
    "duration": 4,
    "start_time": "2022-06-12T11:13:25.973Z"
   },
   {
    "duration": 725,
    "start_time": "2022-06-12T11:13:27.613Z"
   },
   {
    "duration": 4,
    "start_time": "2022-06-12T11:13:50.287Z"
   },
   {
    "duration": 657,
    "start_time": "2022-06-12T11:13:51.151Z"
   },
   {
    "duration": 4,
    "start_time": "2022-06-12T11:15:31.061Z"
   },
   {
    "duration": 793,
    "start_time": "2022-06-12T11:15:31.538Z"
   },
   {
    "duration": 5,
    "start_time": "2022-06-12T11:16:06.314Z"
   },
   {
    "duration": 935,
    "start_time": "2022-06-12T11:16:06.321Z"
   },
   {
    "duration": 6,
    "start_time": "2022-06-12T11:16:07.259Z"
   },
   {
    "duration": 1609,
    "start_time": "2022-06-12T11:16:07.266Z"
   },
   {
    "duration": 4,
    "start_time": "2022-06-12T11:16:08.877Z"
   },
   {
    "duration": 11,
    "start_time": "2022-06-12T11:16:08.883Z"
   },
   {
    "duration": 309,
    "start_time": "2022-06-12T11:16:08.896Z"
   },
   {
    "duration": 18,
    "start_time": "2022-06-12T11:16:09.208Z"
   },
   {
    "duration": 5,
    "start_time": "2022-06-12T11:16:09.229Z"
   },
   {
    "duration": 294,
    "start_time": "2022-06-12T11:16:09.236Z"
   },
   {
    "duration": 365,
    "start_time": "2022-06-12T11:16:09.534Z"
   },
   {
    "duration": 202,
    "start_time": "2022-06-12T11:16:09.901Z"
   },
   {
    "duration": 99,
    "start_time": "2022-06-12T11:16:10.105Z"
   },
   {
    "duration": 126,
    "start_time": "2022-06-12T11:16:10.206Z"
   },
   {
    "duration": 14,
    "start_time": "2022-06-12T11:16:10.335Z"
   },
   {
    "duration": 17,
    "start_time": "2022-06-12T11:16:10.351Z"
   },
   {
    "duration": 7,
    "start_time": "2022-06-12T11:16:10.370Z"
   },
   {
    "duration": 75,
    "start_time": "2022-06-12T11:16:10.378Z"
   },
   {
    "duration": 7,
    "start_time": "2022-06-12T11:16:10.455Z"
   },
   {
    "duration": 4553,
    "start_time": "2022-06-12T11:16:10.464Z"
   },
   {
    "duration": 5,
    "start_time": "2022-06-12T11:16:15.023Z"
   },
   {
    "duration": 20,
    "start_time": "2022-06-12T11:16:15.031Z"
   },
   {
    "duration": 170,
    "start_time": "2022-06-12T11:16:15.053Z"
   },
   {
    "duration": 61,
    "start_time": "2022-06-12T11:16:15.225Z"
   },
   {
    "duration": 185,
    "start_time": "2022-06-12T11:16:15.288Z"
   },
   {
    "duration": 191,
    "start_time": "2022-06-12T11:16:15.475Z"
   },
   {
    "duration": 162,
    "start_time": "2022-06-12T11:16:15.667Z"
   },
   {
    "duration": 56,
    "start_time": "2022-06-12T11:16:15.831Z"
   },
   {
    "duration": 472,
    "start_time": "2022-06-12T11:16:15.891Z"
   },
   {
    "duration": 13,
    "start_time": "2022-06-12T11:16:16.364Z"
   },
   {
    "duration": 20,
    "start_time": "2022-06-12T11:16:16.379Z"
   },
   {
    "duration": 32,
    "start_time": "2022-06-12T11:16:16.401Z"
   },
   {
    "duration": 37,
    "start_time": "2022-06-12T11:16:16.435Z"
   },
   {
    "duration": 20,
    "start_time": "2022-06-12T11:16:16.474Z"
   },
   {
    "duration": 34,
    "start_time": "2022-06-12T11:16:16.496Z"
   },
   {
    "duration": 4,
    "start_time": "2022-06-12T11:16:16.532Z"
   },
   {
    "duration": 18,
    "start_time": "2022-06-12T11:16:16.538Z"
   },
   {
    "duration": 197,
    "start_time": "2022-06-12T11:16:16.558Z"
   },
   {
    "duration": 19,
    "start_time": "2022-06-12T11:16:16.757Z"
   },
   {
    "duration": 18,
    "start_time": "2022-06-12T11:16:16.779Z"
   },
   {
    "duration": 38,
    "start_time": "2022-06-12T11:16:16.799Z"
   },
   {
    "duration": 4,
    "start_time": "2022-06-12T11:16:16.840Z"
   },
   {
    "duration": 5,
    "start_time": "2022-06-12T11:16:16.846Z"
   },
   {
    "duration": 5,
    "start_time": "2022-06-12T11:16:24.602Z"
   },
   {
    "duration": 5,
    "start_time": "2022-06-12T11:16:25.072Z"
   },
   {
    "duration": 6,
    "start_time": "2022-06-12T11:16:25.591Z"
   },
   {
    "duration": 674,
    "start_time": "2022-06-12T11:16:26.457Z"
   },
   {
    "duration": 5,
    "start_time": "2022-06-12T11:17:03.541Z"
   },
   {
    "duration": 715,
    "start_time": "2022-06-12T11:17:03.983Z"
   },
   {
    "duration": 8,
    "start_time": "2022-06-12T11:17:17.132Z"
   },
   {
    "duration": 4,
    "start_time": "2022-06-12T11:19:23.020Z"
   },
   {
    "duration": 657,
    "start_time": "2022-06-12T11:19:23.510Z"
   },
   {
    "duration": 27,
    "start_time": "2022-06-12T11:19:32.326Z"
   },
   {
    "duration": 5,
    "start_time": "2022-06-12T11:19:39.288Z"
   },
   {
    "duration": 661,
    "start_time": "2022-06-12T11:19:44.166Z"
   },
   {
    "duration": 6,
    "start_time": "2022-06-12T11:20:07.339Z"
   },
   {
    "duration": 4,
    "start_time": "2022-06-12T11:20:24.330Z"
   },
   {
    "duration": 681,
    "start_time": "2022-06-12T11:20:25.452Z"
   },
   {
    "duration": 5,
    "start_time": "2022-06-12T11:20:48.045Z"
   },
   {
    "duration": 650,
    "start_time": "2022-06-12T11:20:49.805Z"
   },
   {
    "duration": 10,
    "start_time": "2022-06-12T11:21:34.367Z"
   },
   {
    "duration": 11,
    "start_time": "2022-06-12T11:22:14.438Z"
   },
   {
    "duration": 5,
    "start_time": "2022-06-12T11:23:08.560Z"
   },
   {
    "duration": 667,
    "start_time": "2022-06-12T11:23:17.457Z"
   },
   {
    "duration": 8,
    "start_time": "2022-06-12T11:23:20.378Z"
   },
   {
    "duration": 4,
    "start_time": "2022-06-12T11:27:57.393Z"
   },
   {
    "duration": 757,
    "start_time": "2022-06-12T11:27:57.399Z"
   },
   {
    "duration": 4,
    "start_time": "2022-06-12T11:27:58.158Z"
   },
   {
    "duration": 1365,
    "start_time": "2022-06-12T11:27:58.164Z"
   },
   {
    "duration": 3,
    "start_time": "2022-06-12T11:27:59.531Z"
   },
   {
    "duration": 5,
    "start_time": "2022-06-12T11:27:59.535Z"
   },
   {
    "duration": 265,
    "start_time": "2022-06-12T11:27:59.542Z"
   },
   {
    "duration": 6,
    "start_time": "2022-06-12T11:27:59.808Z"
   },
   {
    "duration": 4,
    "start_time": "2022-06-12T11:27:59.823Z"
   },
   {
    "duration": 264,
    "start_time": "2022-06-12T11:27:59.828Z"
   },
   {
    "duration": 216,
    "start_time": "2022-06-12T11:28:00.095Z"
   },
   {
    "duration": 196,
    "start_time": "2022-06-12T11:28:00.312Z"
   },
   {
    "duration": 95,
    "start_time": "2022-06-12T11:28:00.510Z"
   },
   {
    "duration": 118,
    "start_time": "2022-06-12T11:28:00.606Z"
   },
   {
    "duration": 14,
    "start_time": "2022-06-12T11:28:00.726Z"
   },
   {
    "duration": 15,
    "start_time": "2022-06-12T11:28:00.742Z"
   },
   {
    "duration": 7,
    "start_time": "2022-06-12T11:28:00.759Z"
   },
   {
    "duration": 71,
    "start_time": "2022-06-12T11:28:00.767Z"
   },
   {
    "duration": 9,
    "start_time": "2022-06-12T11:28:00.840Z"
   },
   {
    "duration": 4635,
    "start_time": "2022-06-12T11:28:00.851Z"
   },
   {
    "duration": 6,
    "start_time": "2022-06-12T11:28:05.487Z"
   },
   {
    "duration": 23,
    "start_time": "2022-06-12T11:28:05.494Z"
   },
   {
    "duration": 158,
    "start_time": "2022-06-12T11:28:05.518Z"
   },
   {
    "duration": 77,
    "start_time": "2022-06-12T11:28:05.678Z"
   },
   {
    "duration": 168,
    "start_time": "2022-06-12T11:28:05.756Z"
   },
   {
    "duration": 198,
    "start_time": "2022-06-12T11:28:05.926Z"
   },
   {
    "duration": 169,
    "start_time": "2022-06-12T11:28:06.125Z"
   },
   {
    "duration": 68,
    "start_time": "2022-06-12T11:28:06.296Z"
   },
   {
    "duration": 448,
    "start_time": "2022-06-12T11:28:06.367Z"
   },
   {
    "duration": 21,
    "start_time": "2022-06-12T11:28:06.817Z"
   },
   {
    "duration": 13,
    "start_time": "2022-06-12T11:28:06.840Z"
   },
   {
    "duration": 21,
    "start_time": "2022-06-12T11:28:06.854Z"
   },
   {
    "duration": 66,
    "start_time": "2022-06-12T11:28:06.877Z"
   },
   {
    "duration": 13,
    "start_time": "2022-06-12T11:28:06.945Z"
   },
   {
    "duration": 10,
    "start_time": "2022-06-12T11:28:06.960Z"
   },
   {
    "duration": 5,
    "start_time": "2022-06-12T11:28:06.972Z"
   },
   {
    "duration": 11,
    "start_time": "2022-06-12T11:28:06.979Z"
   },
   {
    "duration": 201,
    "start_time": "2022-06-12T11:28:06.992Z"
   },
   {
    "duration": 29,
    "start_time": "2022-06-12T11:28:07.195Z"
   },
   {
    "duration": 15,
    "start_time": "2022-06-12T11:28:07.226Z"
   },
   {
    "duration": 21,
    "start_time": "2022-06-12T11:28:07.243Z"
   },
   {
    "duration": 4,
    "start_time": "2022-06-12T11:28:07.266Z"
   },
   {
    "duration": 6,
    "start_time": "2022-06-12T11:28:07.272Z"
   },
   {
    "duration": 46,
    "start_time": "2022-06-12T11:28:07.279Z"
   },
   {
    "duration": 476659,
    "start_time": "2022-06-12T11:28:07.326Z"
   },
   {
    "duration": 10,
    "start_time": "2022-06-12T11:36:03.987Z"
   },
   {
    "duration": 266,
    "start_time": "2022-06-12T11:36:03.999Z"
   },
   {
    "duration": 5,
    "start_time": "2022-06-12T11:36:04.267Z"
   },
   {
    "duration": 15,
    "start_time": "2022-06-12T11:36:04.273Z"
   },
   {
    "duration": 13,
    "start_time": "2022-06-12T11:36:04.289Z"
   },
   {
    "duration": 41188,
    "start_time": "2022-06-12T11:36:04.303Z"
   },
   {
    "duration": 1238846,
    "start_time": "2022-06-12T11:36:45.493Z"
   },
   {
    "duration": 5474728,
    "start_time": "2022-06-12T11:57:24.341Z"
   },
   {
    "duration": 1058518,
    "start_time": "2022-06-12T13:28:39.071Z"
   },
   {
    "duration": 5246915,
    "start_time": "2022-06-12T20:46:14.329Z"
   },
   {
    "duration": 23178,
    "start_time": "2022-06-12T22:27:15.152Z"
   },
   {
    "duration": 13,
    "start_time": "2022-06-12T22:27:54.421Z"
   },
   {
    "duration": 28,
    "start_time": "2022-06-12T22:43:10.960Z"
   },
   {
    "duration": 14,
    "start_time": "2022-06-12T22:43:15.126Z"
   },
   {
    "duration": 157,
    "start_time": "2022-06-12T22:43:37.592Z"
   },
   {
    "duration": 156,
    "start_time": "2022-06-12T22:43:45.156Z"
   },
   {
    "duration": 385,
    "start_time": "2022-06-12T22:44:34.892Z"
   },
   {
    "duration": 390,
    "start_time": "2022-06-12T22:44:56.164Z"
   },
   {
    "duration": 8,
    "start_time": "2022-06-12T22:47:06.007Z"
   },
   {
    "duration": 10,
    "start_time": "2022-06-12T23:03:00.820Z"
   },
   {
    "duration": 12,
    "start_time": "2022-06-12T23:03:06.147Z"
   },
   {
    "duration": 8,
    "start_time": "2022-06-12T23:04:08.127Z"
   }
  ],
  "kernelspec": {
   "display_name": "Python 3 (ipykernel)",
   "language": "python",
   "name": "python3"
  },
  "language_info": {
   "codemirror_mode": {
    "name": "ipython",
    "version": 3
   },
   "file_extension": ".py",
   "mimetype": "text/x-python",
   "name": "python",
   "nbconvert_exporter": "python",
   "pygments_lexer": "ipython3",
   "version": "3.9.5"
  },
  "toc": {
   "base_numbering": 1,
   "nav_menu": {},
   "number_sections": true,
   "sideBar": true,
   "skip_h1_title": true,
   "title_cell": "Table of Contents",
   "title_sidebar": "Contents",
   "toc_cell": false,
   "toc_position": {
    "height": "calc(100% - 180px)",
    "left": "10px",
    "top": "150px",
    "width": "357px"
   },
   "toc_section_display": true,
   "toc_window_display": true
  }
 },
 "nbformat": 4,
 "nbformat_minor": 2
}
