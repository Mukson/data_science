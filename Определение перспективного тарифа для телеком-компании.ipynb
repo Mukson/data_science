{
 "cells": [
  {
   "cell_type": "markdown",
   "metadata": {},
   "source": [
    "# Описание проекта\n",
    "Вы аналитик компании «Мегалайн» — федерального оператора сотовой связи. Клиентам предлагают два тарифных плана: **«Смарт»** и **«Ультра»**. Чтобы скорректировать рекламный бюджет, коммерческий департамент хочет понять, какой тариф приносит больше денег.\n",
    "Вам предстоит сделать предварительный анализ тарифов на небольшой выборке клиентов. В вашем распоряжении данные 500 пользователей «Мегалайна»: кто они, откуда, каким тарифом пользуются, сколько звонков и сообщений каждый отправил за 2018 год. Нужно проанализировать поведение клиентов и сделать вывод — какой тариф лучше.\n",
    "Описание тарифов\n",
    "\n",
    "**Тариф «Смарт»**\n",
    "\n",
    "    Ежемесячная плата: 550 рублей\n",
    "    Включено 500 минут разговора, 50 сообщений и 15 Гб интернет-трафика\n",
    "    Стоимость услуг сверх тарифного пакета:\n",
    "        минута разговора: 3 рубля\n",
    "        сообщение: 3 рубля\n",
    "        1 Гб интернет-трафика: 200 рублей\n",
    "\n",
    "**Тариф «Ультра»**\n",
    "\n",
    "    Ежемесячная плата: 1950 рублей\n",
    "    Включено 3000 минут разговора, 1000 сообщений и 30 Гб интернет-трафика\n",
    "    Стоимость услуг сверх тарифного пакета:\n",
    "        минута разговора: 1 рубль\n",
    "        сообщение: 1 рубль\n",
    "        1 Гб интернет-трафика: 150 рублей\n",
    "\n",
    "**Примечание:**\n",
    "«Мегалайн» всегда округляет секунды до минут, а мегабайты — до гигабайт. Каждый звонок округляется отдельно: даже если он длился всего 1 секунду, будет засчитан как 1 минута.\n",
    "Для веб-трафика отдельные сессии не считаются. Вместо этого общая сумма за месяц округляется в бо́льшую сторону. Если абонент использует 1025 мегабайт в этом месяце, с него возьмут плату за 2 гигабайта."
   ]
  },
  {
   "cell_type": "markdown",
   "metadata": {},
   "source": [
    "Путь к файлам:\n",
    "\n",
    "* /datasets/calls.csv.\n",
    "* /datasets/internet.csv.\n",
    "* /datasets/messages.csv.\n",
    "* /datasets/tariffs.csv. \n",
    "* /datasets/users.csv.\n"
   ]
  },
  {
   "cell_type": "markdown",
   "metadata": {},
   "source": [
    "1. [Обзор данных](#start)\n",
    "    * [Описание данных](#description)\n",
    "    * [Вывод](#conclution1)\n",
    "2. [Предобработка данных](#preprocessing)\n",
    "    * [Обработка пропусков](#missed)\n",
    "    * [Дополнительные расчеты](#adds)\n",
    "    * [Вывод](#conclution2)\n",
    "3. [Анализ данных](#analitics)\n",
    "    * [Проверка гипотез](#hypoteses)\n",
    "    * [Вывод](#conclution3)\n",
    "4. [Общий вывод](#conclusion)\n"
   ]
  },
  {
   "cell_type": "markdown",
   "metadata": {},
   "source": [
    "<a id=\"start\"></a>\n",
    "## Обзор данных"
   ]
  },
  {
   "cell_type": "markdown",
   "metadata": {},
   "source": [
    "<a id=\"description\"></a>\n",
    "### Описание данных\n",
    "Таблица `users` (информация о пользователях):\n",
    "* `user_id` — уникальный идентификатор пользователя\n",
    "* `first_name` — имя пользователя\n",
    "* `last_name` — фамилия пользователя\n",
    "* `age` — возраст пользователя (годы)\n",
    "* `reg_date` — дата подключения тарифа (день, месяц, год)\n",
    "* `churn_date` — дата прекращения пользования тарифом (если значение пропущено, то тариф ещё действовал на момент выгрузки данных)\n",
    "* `city` — город проживания пользователя\n",
    "* `tarif` — название тарифного плана\n",
    "\n",
    "Таблица `calls` (информация о звонках):\n",
    "* `id` — уникальный номер звонка\n",
    "* `call_date` — дата звонка\n",
    "* `duration` — длительность звонка в минутах\n",
    "* `user_id` — идентификатор пользователя, сделавшего звонок\n",
    "\n",
    "Таблица `messages` (информация о сообщениях):\n",
    "* `id` — уникальный номер сообщения\n",
    "* `message_date` — дата сообщения\n",
    "* `user_id` — идентификатор пользователя, отправившего сообщение\n",
    "\n",
    "Таблица `internet` (информация об интернет-сессиях):\n",
    "* `id` — уникальный номер сессии\n",
    "* `mb_used` — объём потраченного за сессию интернет-трафика (в мегабайтах)\n",
    "* `session_date` — дата интернет-сессии\n",
    "* `user_id` — идентификатор пользователя\n",
    "\n",
    "Таблица `tariffs` (информация о тарифах):\n",
    "* `tariff_name` — название тарифа\n",
    "* `rub_monthly_fee` — ежемесячная абонентская плата в рублях\n",
    "* `minutes_included` — количество минут разговора в месяц, включённых в абонентскую плату\n",
    "* `messages_included` — количество сообщений в месяц, включённых в абонентскую плату\n",
    "* `mb_per_month_included` — объём интернет-трафика, включённого в абонентскую плату (в мегабайтах)\n",
    "* `rub_per_minute` — стоимость минуты разговора сверх тарифного пакета (например, если в тарифе 100 минут разговора в месяц, то со 101 минуты будет взиматься плата)\n",
    "* `rub_per_message` — стоимость отправки сообщения сверх тарифного пакета\n",
    "* `rub_per_gb` — стоимость дополнительного гигабайта интернет-трафика сверх тарифного пакета (1 гигабайт = 1024 мегабайта)"
   ]
  },
  {
   "cell_type": "code",
   "execution_count": 89,
   "metadata": {},
   "outputs": [],
   "source": [
    "import pandas as pd\n",
    "import seaborn as sns\n",
    "import numpy as np\n",
    "import matplotlib.pyplot as plt\n",
    "from scipy import stats as st"
   ]
  },
  {
   "cell_type": "code",
   "execution_count": 90,
   "metadata": {},
   "outputs": [],
   "source": [
    "calls_df = pd.read_csv('/datasets/calls.csv')\n",
    "internet_df = pd.read_csv('/datasets/internet.csv')\n",
    "messages_df = pd.read_csv('/datasets/messages.csv')\n",
    "tariffs_df = pd.read_csv('/datasets/tariffs.csv')\n",
    "users_df = pd.read_csv('/datasets/users.csv')\n"
   ]
  },
  {
   "cell_type": "code",
   "execution_count": 91,
   "metadata": {},
   "outputs": [],
   "source": [
    "def explore_data(df):\n",
    "    display(\n",
    "        \"Сводная информация:\", df.info(),\n",
    "        \"10 строк:\", df.head(10),\n",
    "        \"Столбцы:\", df.columns,\n",
    "        \"Числовое описание:\", df.describe(),\n",
    "        \"Сумма пропусков:\", df.isna().sum(),\n",
    "        \"Доля пропусков:\", df.isna().mean(),\n",
    "        \"Явные дубликаты:\", df.duplicated().sum(),\n",
    "       # \"Корреляция:\", ads_df.corr(),\n",
    "        #sns.heatmap(ads_df.corr())\n",
    "    )\n",
    "    "
   ]
  },
  {
   "cell_type": "code",
   "execution_count": 92,
   "metadata": {
    "scrolled": false
   },
   "outputs": [
    {
     "name": "stdout",
     "output_type": "stream",
     "text": [
      "calls: \n",
      "<class 'pandas.core.frame.DataFrame'>\n",
      "RangeIndex: 202607 entries, 0 to 202606\n",
      "Data columns (total 4 columns):\n",
      " #   Column     Non-Null Count   Dtype  \n",
      "---  ------     --------------   -----  \n",
      " 0   id         202607 non-null  object \n",
      " 1   call_date  202607 non-null  object \n",
      " 2   duration   202607 non-null  float64\n",
      " 3   user_id    202607 non-null  int64  \n",
      "dtypes: float64(1), int64(1), object(2)\n",
      "memory usage: 6.2+ MB\n"
     ]
    },
    {
     "data": {
      "text/plain": [
       "'Сводная информация:'"
      ]
     },
     "metadata": {},
     "output_type": "display_data"
    },
    {
     "data": {
      "text/plain": [
       "None"
      ]
     },
     "metadata": {},
     "output_type": "display_data"
    },
    {
     "data": {
      "text/plain": [
       "'10 строк:'"
      ]
     },
     "metadata": {},
     "output_type": "display_data"
    },
    {
     "data": {
      "text/html": [
       "<div>\n",
       "<style scoped>\n",
       "    .dataframe tbody tr th:only-of-type {\n",
       "        vertical-align: middle;\n",
       "    }\n",
       "\n",
       "    .dataframe tbody tr th {\n",
       "        vertical-align: top;\n",
       "    }\n",
       "\n",
       "    .dataframe thead th {\n",
       "        text-align: right;\n",
       "    }\n",
       "</style>\n",
       "<table border=\"1\" class=\"dataframe\">\n",
       "  <thead>\n",
       "    <tr style=\"text-align: right;\">\n",
       "      <th></th>\n",
       "      <th>id</th>\n",
       "      <th>call_date</th>\n",
       "      <th>duration</th>\n",
       "      <th>user_id</th>\n",
       "    </tr>\n",
       "  </thead>\n",
       "  <tbody>\n",
       "    <tr>\n",
       "      <th>0</th>\n",
       "      <td>1000_0</td>\n",
       "      <td>2018-07-25</td>\n",
       "      <td>0.00</td>\n",
       "      <td>1000</td>\n",
       "    </tr>\n",
       "    <tr>\n",
       "      <th>1</th>\n",
       "      <td>1000_1</td>\n",
       "      <td>2018-08-17</td>\n",
       "      <td>0.00</td>\n",
       "      <td>1000</td>\n",
       "    </tr>\n",
       "    <tr>\n",
       "      <th>2</th>\n",
       "      <td>1000_2</td>\n",
       "      <td>2018-06-11</td>\n",
       "      <td>2.85</td>\n",
       "      <td>1000</td>\n",
       "    </tr>\n",
       "    <tr>\n",
       "      <th>3</th>\n",
       "      <td>1000_3</td>\n",
       "      <td>2018-09-21</td>\n",
       "      <td>13.80</td>\n",
       "      <td>1000</td>\n",
       "    </tr>\n",
       "    <tr>\n",
       "      <th>4</th>\n",
       "      <td>1000_4</td>\n",
       "      <td>2018-12-15</td>\n",
       "      <td>5.18</td>\n",
       "      <td>1000</td>\n",
       "    </tr>\n",
       "    <tr>\n",
       "      <th>5</th>\n",
       "      <td>1000_5</td>\n",
       "      <td>2018-11-02</td>\n",
       "      <td>0.00</td>\n",
       "      <td>1000</td>\n",
       "    </tr>\n",
       "    <tr>\n",
       "      <th>6</th>\n",
       "      <td>1000_6</td>\n",
       "      <td>2018-10-18</td>\n",
       "      <td>0.00</td>\n",
       "      <td>1000</td>\n",
       "    </tr>\n",
       "    <tr>\n",
       "      <th>7</th>\n",
       "      <td>1000_7</td>\n",
       "      <td>2018-08-22</td>\n",
       "      <td>18.31</td>\n",
       "      <td>1000</td>\n",
       "    </tr>\n",
       "    <tr>\n",
       "      <th>8</th>\n",
       "      <td>1000_8</td>\n",
       "      <td>2018-09-15</td>\n",
       "      <td>18.44</td>\n",
       "      <td>1000</td>\n",
       "    </tr>\n",
       "    <tr>\n",
       "      <th>9</th>\n",
       "      <td>1000_9</td>\n",
       "      <td>2018-08-15</td>\n",
       "      <td>0.00</td>\n",
       "      <td>1000</td>\n",
       "    </tr>\n",
       "  </tbody>\n",
       "</table>\n",
       "</div>"
      ],
      "text/plain": [
       "       id   call_date  duration  user_id\n",
       "0  1000_0  2018-07-25      0.00     1000\n",
       "1  1000_1  2018-08-17      0.00     1000\n",
       "2  1000_2  2018-06-11      2.85     1000\n",
       "3  1000_3  2018-09-21     13.80     1000\n",
       "4  1000_4  2018-12-15      5.18     1000\n",
       "5  1000_5  2018-11-02      0.00     1000\n",
       "6  1000_6  2018-10-18      0.00     1000\n",
       "7  1000_7  2018-08-22     18.31     1000\n",
       "8  1000_8  2018-09-15     18.44     1000\n",
       "9  1000_9  2018-08-15      0.00     1000"
      ]
     },
     "metadata": {},
     "output_type": "display_data"
    },
    {
     "data": {
      "text/plain": [
       "'Столбцы:'"
      ]
     },
     "metadata": {},
     "output_type": "display_data"
    },
    {
     "data": {
      "text/plain": [
       "Index(['id', 'call_date', 'duration', 'user_id'], dtype='object')"
      ]
     },
     "metadata": {},
     "output_type": "display_data"
    },
    {
     "data": {
      "text/plain": [
       "'Числовое описание:'"
      ]
     },
     "metadata": {},
     "output_type": "display_data"
    },
    {
     "data": {
      "text/html": [
       "<div>\n",
       "<style scoped>\n",
       "    .dataframe tbody tr th:only-of-type {\n",
       "        vertical-align: middle;\n",
       "    }\n",
       "\n",
       "    .dataframe tbody tr th {\n",
       "        vertical-align: top;\n",
       "    }\n",
       "\n",
       "    .dataframe thead th {\n",
       "        text-align: right;\n",
       "    }\n",
       "</style>\n",
       "<table border=\"1\" class=\"dataframe\">\n",
       "  <thead>\n",
       "    <tr style=\"text-align: right;\">\n",
       "      <th></th>\n",
       "      <th>duration</th>\n",
       "      <th>user_id</th>\n",
       "    </tr>\n",
       "  </thead>\n",
       "  <tbody>\n",
       "    <tr>\n",
       "      <th>count</th>\n",
       "      <td>202607.000000</td>\n",
       "      <td>202607.000000</td>\n",
       "    </tr>\n",
       "    <tr>\n",
       "      <th>mean</th>\n",
       "      <td>6.755887</td>\n",
       "      <td>1253.940619</td>\n",
       "    </tr>\n",
       "    <tr>\n",
       "      <th>std</th>\n",
       "      <td>5.843365</td>\n",
       "      <td>144.722751</td>\n",
       "    </tr>\n",
       "    <tr>\n",
       "      <th>min</th>\n",
       "      <td>0.000000</td>\n",
       "      <td>1000.000000</td>\n",
       "    </tr>\n",
       "    <tr>\n",
       "      <th>25%</th>\n",
       "      <td>1.300000</td>\n",
       "      <td>1126.000000</td>\n",
       "    </tr>\n",
       "    <tr>\n",
       "      <th>50%</th>\n",
       "      <td>6.000000</td>\n",
       "      <td>1260.000000</td>\n",
       "    </tr>\n",
       "    <tr>\n",
       "      <th>75%</th>\n",
       "      <td>10.700000</td>\n",
       "      <td>1379.000000</td>\n",
       "    </tr>\n",
       "    <tr>\n",
       "      <th>max</th>\n",
       "      <td>38.000000</td>\n",
       "      <td>1499.000000</td>\n",
       "    </tr>\n",
       "  </tbody>\n",
       "</table>\n",
       "</div>"
      ],
      "text/plain": [
       "            duration        user_id\n",
       "count  202607.000000  202607.000000\n",
       "mean        6.755887    1253.940619\n",
       "std         5.843365     144.722751\n",
       "min         0.000000    1000.000000\n",
       "25%         1.300000    1126.000000\n",
       "50%         6.000000    1260.000000\n",
       "75%        10.700000    1379.000000\n",
       "max        38.000000    1499.000000"
      ]
     },
     "metadata": {},
     "output_type": "display_data"
    },
    {
     "data": {
      "text/plain": [
       "'Сумма пропусков:'"
      ]
     },
     "metadata": {},
     "output_type": "display_data"
    },
    {
     "data": {
      "text/plain": [
       "id           0\n",
       "call_date    0\n",
       "duration     0\n",
       "user_id      0\n",
       "dtype: int64"
      ]
     },
     "metadata": {},
     "output_type": "display_data"
    },
    {
     "data": {
      "text/plain": [
       "'Доля пропусков:'"
      ]
     },
     "metadata": {},
     "output_type": "display_data"
    },
    {
     "data": {
      "text/plain": [
       "id           0.0\n",
       "call_date    0.0\n",
       "duration     0.0\n",
       "user_id      0.0\n",
       "dtype: float64"
      ]
     },
     "metadata": {},
     "output_type": "display_data"
    },
    {
     "data": {
      "text/plain": [
       "'Явные дубликаты:'"
      ]
     },
     "metadata": {},
     "output_type": "display_data"
    },
    {
     "data": {
      "text/plain": [
       "0"
      ]
     },
     "metadata": {},
     "output_type": "display_data"
    },
    {
     "name": "stdout",
     "output_type": "stream",
     "text": [
      "internet: \n",
      "<class 'pandas.core.frame.DataFrame'>\n",
      "RangeIndex: 149396 entries, 0 to 149395\n",
      "Data columns (total 5 columns):\n",
      " #   Column        Non-Null Count   Dtype  \n",
      "---  ------        --------------   -----  \n",
      " 0   Unnamed: 0    149396 non-null  int64  \n",
      " 1   id            149396 non-null  object \n",
      " 2   mb_used       149396 non-null  float64\n",
      " 3   session_date  149396 non-null  object \n",
      " 4   user_id       149396 non-null  int64  \n",
      "dtypes: float64(1), int64(2), object(2)\n",
      "memory usage: 5.7+ MB\n"
     ]
    },
    {
     "data": {
      "text/plain": [
       "'Сводная информация:'"
      ]
     },
     "metadata": {},
     "output_type": "display_data"
    },
    {
     "data": {
      "text/plain": [
       "None"
      ]
     },
     "metadata": {},
     "output_type": "display_data"
    },
    {
     "data": {
      "text/plain": [
       "'10 строк:'"
      ]
     },
     "metadata": {},
     "output_type": "display_data"
    },
    {
     "data": {
      "text/html": [
       "<div>\n",
       "<style scoped>\n",
       "    .dataframe tbody tr th:only-of-type {\n",
       "        vertical-align: middle;\n",
       "    }\n",
       "\n",
       "    .dataframe tbody tr th {\n",
       "        vertical-align: top;\n",
       "    }\n",
       "\n",
       "    .dataframe thead th {\n",
       "        text-align: right;\n",
       "    }\n",
       "</style>\n",
       "<table border=\"1\" class=\"dataframe\">\n",
       "  <thead>\n",
       "    <tr style=\"text-align: right;\">\n",
       "      <th></th>\n",
       "      <th>Unnamed: 0</th>\n",
       "      <th>id</th>\n",
       "      <th>mb_used</th>\n",
       "      <th>session_date</th>\n",
       "      <th>user_id</th>\n",
       "    </tr>\n",
       "  </thead>\n",
       "  <tbody>\n",
       "    <tr>\n",
       "      <th>0</th>\n",
       "      <td>0</td>\n",
       "      <td>1000_0</td>\n",
       "      <td>112.95</td>\n",
       "      <td>2018-11-25</td>\n",
       "      <td>1000</td>\n",
       "    </tr>\n",
       "    <tr>\n",
       "      <th>1</th>\n",
       "      <td>1</td>\n",
       "      <td>1000_1</td>\n",
       "      <td>1052.81</td>\n",
       "      <td>2018-09-07</td>\n",
       "      <td>1000</td>\n",
       "    </tr>\n",
       "    <tr>\n",
       "      <th>2</th>\n",
       "      <td>2</td>\n",
       "      <td>1000_2</td>\n",
       "      <td>1197.26</td>\n",
       "      <td>2018-06-25</td>\n",
       "      <td>1000</td>\n",
       "    </tr>\n",
       "    <tr>\n",
       "      <th>3</th>\n",
       "      <td>3</td>\n",
       "      <td>1000_3</td>\n",
       "      <td>550.27</td>\n",
       "      <td>2018-08-22</td>\n",
       "      <td>1000</td>\n",
       "    </tr>\n",
       "    <tr>\n",
       "      <th>4</th>\n",
       "      <td>4</td>\n",
       "      <td>1000_4</td>\n",
       "      <td>302.56</td>\n",
       "      <td>2018-09-24</td>\n",
       "      <td>1000</td>\n",
       "    </tr>\n",
       "    <tr>\n",
       "      <th>5</th>\n",
       "      <td>5</td>\n",
       "      <td>1000_5</td>\n",
       "      <td>399.97</td>\n",
       "      <td>2018-10-02</td>\n",
       "      <td>1000</td>\n",
       "    </tr>\n",
       "    <tr>\n",
       "      <th>6</th>\n",
       "      <td>6</td>\n",
       "      <td>1000_6</td>\n",
       "      <td>540.08</td>\n",
       "      <td>2018-09-07</td>\n",
       "      <td>1000</td>\n",
       "    </tr>\n",
       "    <tr>\n",
       "      <th>7</th>\n",
       "      <td>7</td>\n",
       "      <td>1000_7</td>\n",
       "      <td>415.70</td>\n",
       "      <td>2018-07-11</td>\n",
       "      <td>1000</td>\n",
       "    </tr>\n",
       "    <tr>\n",
       "      <th>8</th>\n",
       "      <td>8</td>\n",
       "      <td>1000_8</td>\n",
       "      <td>505.40</td>\n",
       "      <td>2018-10-08</td>\n",
       "      <td>1000</td>\n",
       "    </tr>\n",
       "    <tr>\n",
       "      <th>9</th>\n",
       "      <td>9</td>\n",
       "      <td>1000_9</td>\n",
       "      <td>345.54</td>\n",
       "      <td>2018-09-03</td>\n",
       "      <td>1000</td>\n",
       "    </tr>\n",
       "  </tbody>\n",
       "</table>\n",
       "</div>"
      ],
      "text/plain": [
       "   Unnamed: 0      id  mb_used session_date  user_id\n",
       "0           0  1000_0   112.95   2018-11-25     1000\n",
       "1           1  1000_1  1052.81   2018-09-07     1000\n",
       "2           2  1000_2  1197.26   2018-06-25     1000\n",
       "3           3  1000_3   550.27   2018-08-22     1000\n",
       "4           4  1000_4   302.56   2018-09-24     1000\n",
       "5           5  1000_5   399.97   2018-10-02     1000\n",
       "6           6  1000_6   540.08   2018-09-07     1000\n",
       "7           7  1000_7   415.70   2018-07-11     1000\n",
       "8           8  1000_8   505.40   2018-10-08     1000\n",
       "9           9  1000_9   345.54   2018-09-03     1000"
      ]
     },
     "metadata": {},
     "output_type": "display_data"
    },
    {
     "data": {
      "text/plain": [
       "'Столбцы:'"
      ]
     },
     "metadata": {},
     "output_type": "display_data"
    },
    {
     "data": {
      "text/plain": [
       "Index(['Unnamed: 0', 'id', 'mb_used', 'session_date', 'user_id'], dtype='object')"
      ]
     },
     "metadata": {},
     "output_type": "display_data"
    },
    {
     "data": {
      "text/plain": [
       "'Числовое описание:'"
      ]
     },
     "metadata": {},
     "output_type": "display_data"
    },
    {
     "data": {
      "text/html": [
       "<div>\n",
       "<style scoped>\n",
       "    .dataframe tbody tr th:only-of-type {\n",
       "        vertical-align: middle;\n",
       "    }\n",
       "\n",
       "    .dataframe tbody tr th {\n",
       "        vertical-align: top;\n",
       "    }\n",
       "\n",
       "    .dataframe thead th {\n",
       "        text-align: right;\n",
       "    }\n",
       "</style>\n",
       "<table border=\"1\" class=\"dataframe\">\n",
       "  <thead>\n",
       "    <tr style=\"text-align: right;\">\n",
       "      <th></th>\n",
       "      <th>Unnamed: 0</th>\n",
       "      <th>mb_used</th>\n",
       "      <th>user_id</th>\n",
       "    </tr>\n",
       "  </thead>\n",
       "  <tbody>\n",
       "    <tr>\n",
       "      <th>count</th>\n",
       "      <td>149396.000000</td>\n",
       "      <td>149396.000000</td>\n",
       "      <td>149396.000000</td>\n",
       "    </tr>\n",
       "    <tr>\n",
       "      <th>mean</th>\n",
       "      <td>74697.500000</td>\n",
       "      <td>370.192426</td>\n",
       "      <td>1252.099842</td>\n",
       "    </tr>\n",
       "    <tr>\n",
       "      <th>std</th>\n",
       "      <td>43127.054745</td>\n",
       "      <td>278.300951</td>\n",
       "      <td>144.050823</td>\n",
       "    </tr>\n",
       "    <tr>\n",
       "      <th>min</th>\n",
       "      <td>0.000000</td>\n",
       "      <td>0.000000</td>\n",
       "      <td>1000.000000</td>\n",
       "    </tr>\n",
       "    <tr>\n",
       "      <th>25%</th>\n",
       "      <td>37348.750000</td>\n",
       "      <td>138.187500</td>\n",
       "      <td>1130.000000</td>\n",
       "    </tr>\n",
       "    <tr>\n",
       "      <th>50%</th>\n",
       "      <td>74697.500000</td>\n",
       "      <td>348.015000</td>\n",
       "      <td>1251.000000</td>\n",
       "    </tr>\n",
       "    <tr>\n",
       "      <th>75%</th>\n",
       "      <td>112046.250000</td>\n",
       "      <td>559.552500</td>\n",
       "      <td>1380.000000</td>\n",
       "    </tr>\n",
       "    <tr>\n",
       "      <th>max</th>\n",
       "      <td>149395.000000</td>\n",
       "      <td>1724.830000</td>\n",
       "      <td>1499.000000</td>\n",
       "    </tr>\n",
       "  </tbody>\n",
       "</table>\n",
       "</div>"
      ],
      "text/plain": [
       "          Unnamed: 0        mb_used        user_id\n",
       "count  149396.000000  149396.000000  149396.000000\n",
       "mean    74697.500000     370.192426    1252.099842\n",
       "std     43127.054745     278.300951     144.050823\n",
       "min         0.000000       0.000000    1000.000000\n",
       "25%     37348.750000     138.187500    1130.000000\n",
       "50%     74697.500000     348.015000    1251.000000\n",
       "75%    112046.250000     559.552500    1380.000000\n",
       "max    149395.000000    1724.830000    1499.000000"
      ]
     },
     "metadata": {},
     "output_type": "display_data"
    },
    {
     "data": {
      "text/plain": [
       "'Сумма пропусков:'"
      ]
     },
     "metadata": {},
     "output_type": "display_data"
    },
    {
     "data": {
      "text/plain": [
       "Unnamed: 0      0\n",
       "id              0\n",
       "mb_used         0\n",
       "session_date    0\n",
       "user_id         0\n",
       "dtype: int64"
      ]
     },
     "metadata": {},
     "output_type": "display_data"
    },
    {
     "data": {
      "text/plain": [
       "'Доля пропусков:'"
      ]
     },
     "metadata": {},
     "output_type": "display_data"
    },
    {
     "data": {
      "text/plain": [
       "Unnamed: 0      0.0\n",
       "id              0.0\n",
       "mb_used         0.0\n",
       "session_date    0.0\n",
       "user_id         0.0\n",
       "dtype: float64"
      ]
     },
     "metadata": {},
     "output_type": "display_data"
    },
    {
     "data": {
      "text/plain": [
       "'Явные дубликаты:'"
      ]
     },
     "metadata": {},
     "output_type": "display_data"
    },
    {
     "data": {
      "text/plain": [
       "0"
      ]
     },
     "metadata": {},
     "output_type": "display_data"
    },
    {
     "name": "stdout",
     "output_type": "stream",
     "text": [
      "messages: \n",
      "<class 'pandas.core.frame.DataFrame'>\n",
      "RangeIndex: 123036 entries, 0 to 123035\n",
      "Data columns (total 3 columns):\n",
      " #   Column        Non-Null Count   Dtype \n",
      "---  ------        --------------   ----- \n",
      " 0   id            123036 non-null  object\n",
      " 1   message_date  123036 non-null  object\n",
      " 2   user_id       123036 non-null  int64 \n",
      "dtypes: int64(1), object(2)\n",
      "memory usage: 2.8+ MB\n"
     ]
    },
    {
     "data": {
      "text/plain": [
       "'Сводная информация:'"
      ]
     },
     "metadata": {},
     "output_type": "display_data"
    },
    {
     "data": {
      "text/plain": [
       "None"
      ]
     },
     "metadata": {},
     "output_type": "display_data"
    },
    {
     "data": {
      "text/plain": [
       "'10 строк:'"
      ]
     },
     "metadata": {},
     "output_type": "display_data"
    },
    {
     "data": {
      "text/html": [
       "<div>\n",
       "<style scoped>\n",
       "    .dataframe tbody tr th:only-of-type {\n",
       "        vertical-align: middle;\n",
       "    }\n",
       "\n",
       "    .dataframe tbody tr th {\n",
       "        vertical-align: top;\n",
       "    }\n",
       "\n",
       "    .dataframe thead th {\n",
       "        text-align: right;\n",
       "    }\n",
       "</style>\n",
       "<table border=\"1\" class=\"dataframe\">\n",
       "  <thead>\n",
       "    <tr style=\"text-align: right;\">\n",
       "      <th></th>\n",
       "      <th>id</th>\n",
       "      <th>message_date</th>\n",
       "      <th>user_id</th>\n",
       "    </tr>\n",
       "  </thead>\n",
       "  <tbody>\n",
       "    <tr>\n",
       "      <th>0</th>\n",
       "      <td>1000_0</td>\n",
       "      <td>2018-06-27</td>\n",
       "      <td>1000</td>\n",
       "    </tr>\n",
       "    <tr>\n",
       "      <th>1</th>\n",
       "      <td>1000_1</td>\n",
       "      <td>2018-10-08</td>\n",
       "      <td>1000</td>\n",
       "    </tr>\n",
       "    <tr>\n",
       "      <th>2</th>\n",
       "      <td>1000_2</td>\n",
       "      <td>2018-08-04</td>\n",
       "      <td>1000</td>\n",
       "    </tr>\n",
       "    <tr>\n",
       "      <th>3</th>\n",
       "      <td>1000_3</td>\n",
       "      <td>2018-06-16</td>\n",
       "      <td>1000</td>\n",
       "    </tr>\n",
       "    <tr>\n",
       "      <th>4</th>\n",
       "      <td>1000_4</td>\n",
       "      <td>2018-12-05</td>\n",
       "      <td>1000</td>\n",
       "    </tr>\n",
       "    <tr>\n",
       "      <th>5</th>\n",
       "      <td>1000_5</td>\n",
       "      <td>2018-06-20</td>\n",
       "      <td>1000</td>\n",
       "    </tr>\n",
       "    <tr>\n",
       "      <th>6</th>\n",
       "      <td>1000_6</td>\n",
       "      <td>2018-11-19</td>\n",
       "      <td>1000</td>\n",
       "    </tr>\n",
       "    <tr>\n",
       "      <th>7</th>\n",
       "      <td>1000_7</td>\n",
       "      <td>2018-10-29</td>\n",
       "      <td>1000</td>\n",
       "    </tr>\n",
       "    <tr>\n",
       "      <th>8</th>\n",
       "      <td>1000_8</td>\n",
       "      <td>2018-06-25</td>\n",
       "      <td>1000</td>\n",
       "    </tr>\n",
       "    <tr>\n",
       "      <th>9</th>\n",
       "      <td>1000_9</td>\n",
       "      <td>2018-12-18</td>\n",
       "      <td>1000</td>\n",
       "    </tr>\n",
       "  </tbody>\n",
       "</table>\n",
       "</div>"
      ],
      "text/plain": [
       "       id message_date  user_id\n",
       "0  1000_0   2018-06-27     1000\n",
       "1  1000_1   2018-10-08     1000\n",
       "2  1000_2   2018-08-04     1000\n",
       "3  1000_3   2018-06-16     1000\n",
       "4  1000_4   2018-12-05     1000\n",
       "5  1000_5   2018-06-20     1000\n",
       "6  1000_6   2018-11-19     1000\n",
       "7  1000_7   2018-10-29     1000\n",
       "8  1000_8   2018-06-25     1000\n",
       "9  1000_9   2018-12-18     1000"
      ]
     },
     "metadata": {},
     "output_type": "display_data"
    },
    {
     "data": {
      "text/plain": [
       "'Столбцы:'"
      ]
     },
     "metadata": {},
     "output_type": "display_data"
    },
    {
     "data": {
      "text/plain": [
       "Index(['id', 'message_date', 'user_id'], dtype='object')"
      ]
     },
     "metadata": {},
     "output_type": "display_data"
    },
    {
     "data": {
      "text/plain": [
       "'Числовое описание:'"
      ]
     },
     "metadata": {},
     "output_type": "display_data"
    },
    {
     "data": {
      "text/html": [
       "<div>\n",
       "<style scoped>\n",
       "    .dataframe tbody tr th:only-of-type {\n",
       "        vertical-align: middle;\n",
       "    }\n",
       "\n",
       "    .dataframe tbody tr th {\n",
       "        vertical-align: top;\n",
       "    }\n",
       "\n",
       "    .dataframe thead th {\n",
       "        text-align: right;\n",
       "    }\n",
       "</style>\n",
       "<table border=\"1\" class=\"dataframe\">\n",
       "  <thead>\n",
       "    <tr style=\"text-align: right;\">\n",
       "      <th></th>\n",
       "      <th>user_id</th>\n",
       "    </tr>\n",
       "  </thead>\n",
       "  <tbody>\n",
       "    <tr>\n",
       "      <th>count</th>\n",
       "      <td>123036.000000</td>\n",
       "    </tr>\n",
       "    <tr>\n",
       "      <th>mean</th>\n",
       "      <td>1256.989410</td>\n",
       "    </tr>\n",
       "    <tr>\n",
       "      <th>std</th>\n",
       "      <td>143.523967</td>\n",
       "    </tr>\n",
       "    <tr>\n",
       "      <th>min</th>\n",
       "      <td>1000.000000</td>\n",
       "    </tr>\n",
       "    <tr>\n",
       "      <th>25%</th>\n",
       "      <td>1134.000000</td>\n",
       "    </tr>\n",
       "    <tr>\n",
       "      <th>50%</th>\n",
       "      <td>1271.000000</td>\n",
       "    </tr>\n",
       "    <tr>\n",
       "      <th>75%</th>\n",
       "      <td>1381.000000</td>\n",
       "    </tr>\n",
       "    <tr>\n",
       "      <th>max</th>\n",
       "      <td>1499.000000</td>\n",
       "    </tr>\n",
       "  </tbody>\n",
       "</table>\n",
       "</div>"
      ],
      "text/plain": [
       "             user_id\n",
       "count  123036.000000\n",
       "mean     1256.989410\n",
       "std       143.523967\n",
       "min      1000.000000\n",
       "25%      1134.000000\n",
       "50%      1271.000000\n",
       "75%      1381.000000\n",
       "max      1499.000000"
      ]
     },
     "metadata": {},
     "output_type": "display_data"
    },
    {
     "data": {
      "text/plain": [
       "'Сумма пропусков:'"
      ]
     },
     "metadata": {},
     "output_type": "display_data"
    },
    {
     "data": {
      "text/plain": [
       "id              0\n",
       "message_date    0\n",
       "user_id         0\n",
       "dtype: int64"
      ]
     },
     "metadata": {},
     "output_type": "display_data"
    },
    {
     "data": {
      "text/plain": [
       "'Доля пропусков:'"
      ]
     },
     "metadata": {},
     "output_type": "display_data"
    },
    {
     "data": {
      "text/plain": [
       "id              0.0\n",
       "message_date    0.0\n",
       "user_id         0.0\n",
       "dtype: float64"
      ]
     },
     "metadata": {},
     "output_type": "display_data"
    },
    {
     "data": {
      "text/plain": [
       "'Явные дубликаты:'"
      ]
     },
     "metadata": {},
     "output_type": "display_data"
    },
    {
     "data": {
      "text/plain": [
       "0"
      ]
     },
     "metadata": {},
     "output_type": "display_data"
    },
    {
     "name": "stdout",
     "output_type": "stream",
     "text": [
      "tariffs: \n",
      "<class 'pandas.core.frame.DataFrame'>\n",
      "RangeIndex: 2 entries, 0 to 1\n",
      "Data columns (total 8 columns):\n",
      " #   Column                 Non-Null Count  Dtype \n",
      "---  ------                 --------------  ----- \n",
      " 0   messages_included      2 non-null      int64 \n",
      " 1   mb_per_month_included  2 non-null      int64 \n",
      " 2   minutes_included       2 non-null      int64 \n",
      " 3   rub_monthly_fee        2 non-null      int64 \n",
      " 4   rub_per_gb             2 non-null      int64 \n",
      " 5   rub_per_message        2 non-null      int64 \n",
      " 6   rub_per_minute         2 non-null      int64 \n",
      " 7   tariff_name            2 non-null      object\n",
      "dtypes: int64(7), object(1)\n",
      "memory usage: 256.0+ bytes\n"
     ]
    },
    {
     "data": {
      "text/plain": [
       "'Сводная информация:'"
      ]
     },
     "metadata": {},
     "output_type": "display_data"
    },
    {
     "data": {
      "text/plain": [
       "None"
      ]
     },
     "metadata": {},
     "output_type": "display_data"
    },
    {
     "data": {
      "text/plain": [
       "'10 строк:'"
      ]
     },
     "metadata": {},
     "output_type": "display_data"
    },
    {
     "data": {
      "text/html": [
       "<div>\n",
       "<style scoped>\n",
       "    .dataframe tbody tr th:only-of-type {\n",
       "        vertical-align: middle;\n",
       "    }\n",
       "\n",
       "    .dataframe tbody tr th {\n",
       "        vertical-align: top;\n",
       "    }\n",
       "\n",
       "    .dataframe thead th {\n",
       "        text-align: right;\n",
       "    }\n",
       "</style>\n",
       "<table border=\"1\" class=\"dataframe\">\n",
       "  <thead>\n",
       "    <tr style=\"text-align: right;\">\n",
       "      <th></th>\n",
       "      <th>messages_included</th>\n",
       "      <th>mb_per_month_included</th>\n",
       "      <th>minutes_included</th>\n",
       "      <th>rub_monthly_fee</th>\n",
       "      <th>rub_per_gb</th>\n",
       "      <th>rub_per_message</th>\n",
       "      <th>rub_per_minute</th>\n",
       "      <th>tariff_name</th>\n",
       "    </tr>\n",
       "  </thead>\n",
       "  <tbody>\n",
       "    <tr>\n",
       "      <th>0</th>\n",
       "      <td>50</td>\n",
       "      <td>15360</td>\n",
       "      <td>500</td>\n",
       "      <td>550</td>\n",
       "      <td>200</td>\n",
       "      <td>3</td>\n",
       "      <td>3</td>\n",
       "      <td>smart</td>\n",
       "    </tr>\n",
       "    <tr>\n",
       "      <th>1</th>\n",
       "      <td>1000</td>\n",
       "      <td>30720</td>\n",
       "      <td>3000</td>\n",
       "      <td>1950</td>\n",
       "      <td>150</td>\n",
       "      <td>1</td>\n",
       "      <td>1</td>\n",
       "      <td>ultra</td>\n",
       "    </tr>\n",
       "  </tbody>\n",
       "</table>\n",
       "</div>"
      ],
      "text/plain": [
       "   messages_included  mb_per_month_included  minutes_included  \\\n",
       "0                 50                  15360               500   \n",
       "1               1000                  30720              3000   \n",
       "\n",
       "   rub_monthly_fee  rub_per_gb  rub_per_message  rub_per_minute tariff_name  \n",
       "0              550         200                3               3       smart  \n",
       "1             1950         150                1               1       ultra  "
      ]
     },
     "metadata": {},
     "output_type": "display_data"
    },
    {
     "data": {
      "text/plain": [
       "'Столбцы:'"
      ]
     },
     "metadata": {},
     "output_type": "display_data"
    },
    {
     "data": {
      "text/plain": [
       "Index(['messages_included', 'mb_per_month_included', 'minutes_included',\n",
       "       'rub_monthly_fee', 'rub_per_gb', 'rub_per_message', 'rub_per_minute',\n",
       "       'tariff_name'],\n",
       "      dtype='object')"
      ]
     },
     "metadata": {},
     "output_type": "display_data"
    },
    {
     "data": {
      "text/plain": [
       "'Числовое описание:'"
      ]
     },
     "metadata": {},
     "output_type": "display_data"
    },
    {
     "data": {
      "text/html": [
       "<div>\n",
       "<style scoped>\n",
       "    .dataframe tbody tr th:only-of-type {\n",
       "        vertical-align: middle;\n",
       "    }\n",
       "\n",
       "    .dataframe tbody tr th {\n",
       "        vertical-align: top;\n",
       "    }\n",
       "\n",
       "    .dataframe thead th {\n",
       "        text-align: right;\n",
       "    }\n",
       "</style>\n",
       "<table border=\"1\" class=\"dataframe\">\n",
       "  <thead>\n",
       "    <tr style=\"text-align: right;\">\n",
       "      <th></th>\n",
       "      <th>messages_included</th>\n",
       "      <th>mb_per_month_included</th>\n",
       "      <th>minutes_included</th>\n",
       "      <th>rub_monthly_fee</th>\n",
       "      <th>rub_per_gb</th>\n",
       "      <th>rub_per_message</th>\n",
       "      <th>rub_per_minute</th>\n",
       "    </tr>\n",
       "  </thead>\n",
       "  <tbody>\n",
       "    <tr>\n",
       "      <th>count</th>\n",
       "      <td>2.000000</td>\n",
       "      <td>2.000000</td>\n",
       "      <td>2.000000</td>\n",
       "      <td>2.000000</td>\n",
       "      <td>2.000000</td>\n",
       "      <td>2.000000</td>\n",
       "      <td>2.000000</td>\n",
       "    </tr>\n",
       "    <tr>\n",
       "      <th>mean</th>\n",
       "      <td>525.000000</td>\n",
       "      <td>23040.000000</td>\n",
       "      <td>1750.000000</td>\n",
       "      <td>1250.000000</td>\n",
       "      <td>175.000000</td>\n",
       "      <td>2.000000</td>\n",
       "      <td>2.000000</td>\n",
       "    </tr>\n",
       "    <tr>\n",
       "      <th>std</th>\n",
       "      <td>671.751442</td>\n",
       "      <td>10861.160159</td>\n",
       "      <td>1767.766953</td>\n",
       "      <td>989.949494</td>\n",
       "      <td>35.355339</td>\n",
       "      <td>1.414214</td>\n",
       "      <td>1.414214</td>\n",
       "    </tr>\n",
       "    <tr>\n",
       "      <th>min</th>\n",
       "      <td>50.000000</td>\n",
       "      <td>15360.000000</td>\n",
       "      <td>500.000000</td>\n",
       "      <td>550.000000</td>\n",
       "      <td>150.000000</td>\n",
       "      <td>1.000000</td>\n",
       "      <td>1.000000</td>\n",
       "    </tr>\n",
       "    <tr>\n",
       "      <th>25%</th>\n",
       "      <td>287.500000</td>\n",
       "      <td>19200.000000</td>\n",
       "      <td>1125.000000</td>\n",
       "      <td>900.000000</td>\n",
       "      <td>162.500000</td>\n",
       "      <td>1.500000</td>\n",
       "      <td>1.500000</td>\n",
       "    </tr>\n",
       "    <tr>\n",
       "      <th>50%</th>\n",
       "      <td>525.000000</td>\n",
       "      <td>23040.000000</td>\n",
       "      <td>1750.000000</td>\n",
       "      <td>1250.000000</td>\n",
       "      <td>175.000000</td>\n",
       "      <td>2.000000</td>\n",
       "      <td>2.000000</td>\n",
       "    </tr>\n",
       "    <tr>\n",
       "      <th>75%</th>\n",
       "      <td>762.500000</td>\n",
       "      <td>26880.000000</td>\n",
       "      <td>2375.000000</td>\n",
       "      <td>1600.000000</td>\n",
       "      <td>187.500000</td>\n",
       "      <td>2.500000</td>\n",
       "      <td>2.500000</td>\n",
       "    </tr>\n",
       "    <tr>\n",
       "      <th>max</th>\n",
       "      <td>1000.000000</td>\n",
       "      <td>30720.000000</td>\n",
       "      <td>3000.000000</td>\n",
       "      <td>1950.000000</td>\n",
       "      <td>200.000000</td>\n",
       "      <td>3.000000</td>\n",
       "      <td>3.000000</td>\n",
       "    </tr>\n",
       "  </tbody>\n",
       "</table>\n",
       "</div>"
      ],
      "text/plain": [
       "       messages_included  mb_per_month_included  minutes_included  \\\n",
       "count           2.000000               2.000000          2.000000   \n",
       "mean          525.000000           23040.000000       1750.000000   \n",
       "std           671.751442           10861.160159       1767.766953   \n",
       "min            50.000000           15360.000000        500.000000   \n",
       "25%           287.500000           19200.000000       1125.000000   \n",
       "50%           525.000000           23040.000000       1750.000000   \n",
       "75%           762.500000           26880.000000       2375.000000   \n",
       "max          1000.000000           30720.000000       3000.000000   \n",
       "\n",
       "       rub_monthly_fee  rub_per_gb  rub_per_message  rub_per_minute  \n",
       "count         2.000000    2.000000         2.000000        2.000000  \n",
       "mean       1250.000000  175.000000         2.000000        2.000000  \n",
       "std         989.949494   35.355339         1.414214        1.414214  \n",
       "min         550.000000  150.000000         1.000000        1.000000  \n",
       "25%         900.000000  162.500000         1.500000        1.500000  \n",
       "50%        1250.000000  175.000000         2.000000        2.000000  \n",
       "75%        1600.000000  187.500000         2.500000        2.500000  \n",
       "max        1950.000000  200.000000         3.000000        3.000000  "
      ]
     },
     "metadata": {},
     "output_type": "display_data"
    },
    {
     "data": {
      "text/plain": [
       "'Сумма пропусков:'"
      ]
     },
     "metadata": {},
     "output_type": "display_data"
    },
    {
     "data": {
      "text/plain": [
       "messages_included        0\n",
       "mb_per_month_included    0\n",
       "minutes_included         0\n",
       "rub_monthly_fee          0\n",
       "rub_per_gb               0\n",
       "rub_per_message          0\n",
       "rub_per_minute           0\n",
       "tariff_name              0\n",
       "dtype: int64"
      ]
     },
     "metadata": {},
     "output_type": "display_data"
    },
    {
     "data": {
      "text/plain": [
       "'Доля пропусков:'"
      ]
     },
     "metadata": {},
     "output_type": "display_data"
    },
    {
     "data": {
      "text/plain": [
       "messages_included        0.0\n",
       "mb_per_month_included    0.0\n",
       "minutes_included         0.0\n",
       "rub_monthly_fee          0.0\n",
       "rub_per_gb               0.0\n",
       "rub_per_message          0.0\n",
       "rub_per_minute           0.0\n",
       "tariff_name              0.0\n",
       "dtype: float64"
      ]
     },
     "metadata": {},
     "output_type": "display_data"
    },
    {
     "data": {
      "text/plain": [
       "'Явные дубликаты:'"
      ]
     },
     "metadata": {},
     "output_type": "display_data"
    },
    {
     "data": {
      "text/plain": [
       "0"
      ]
     },
     "metadata": {},
     "output_type": "display_data"
    },
    {
     "name": "stdout",
     "output_type": "stream",
     "text": [
      "users: \n",
      "<class 'pandas.core.frame.DataFrame'>\n",
      "RangeIndex: 500 entries, 0 to 499\n",
      "Data columns (total 8 columns):\n",
      " #   Column      Non-Null Count  Dtype \n",
      "---  ------      --------------  ----- \n",
      " 0   user_id     500 non-null    int64 \n",
      " 1   age         500 non-null    int64 \n",
      " 2   churn_date  38 non-null     object\n",
      " 3   city        500 non-null    object\n",
      " 4   first_name  500 non-null    object\n",
      " 5   last_name   500 non-null    object\n",
      " 6   reg_date    500 non-null    object\n",
      " 7   tariff      500 non-null    object\n",
      "dtypes: int64(2), object(6)\n",
      "memory usage: 31.4+ KB\n"
     ]
    },
    {
     "data": {
      "text/plain": [
       "'Сводная информация:'"
      ]
     },
     "metadata": {},
     "output_type": "display_data"
    },
    {
     "data": {
      "text/plain": [
       "None"
      ]
     },
     "metadata": {},
     "output_type": "display_data"
    },
    {
     "data": {
      "text/plain": [
       "'10 строк:'"
      ]
     },
     "metadata": {},
     "output_type": "display_data"
    },
    {
     "data": {
      "text/html": [
       "<div>\n",
       "<style scoped>\n",
       "    .dataframe tbody tr th:only-of-type {\n",
       "        vertical-align: middle;\n",
       "    }\n",
       "\n",
       "    .dataframe tbody tr th {\n",
       "        vertical-align: top;\n",
       "    }\n",
       "\n",
       "    .dataframe thead th {\n",
       "        text-align: right;\n",
       "    }\n",
       "</style>\n",
       "<table border=\"1\" class=\"dataframe\">\n",
       "  <thead>\n",
       "    <tr style=\"text-align: right;\">\n",
       "      <th></th>\n",
       "      <th>user_id</th>\n",
       "      <th>age</th>\n",
       "      <th>churn_date</th>\n",
       "      <th>city</th>\n",
       "      <th>first_name</th>\n",
       "      <th>last_name</th>\n",
       "      <th>reg_date</th>\n",
       "      <th>tariff</th>\n",
       "    </tr>\n",
       "  </thead>\n",
       "  <tbody>\n",
       "    <tr>\n",
       "      <th>0</th>\n",
       "      <td>1000</td>\n",
       "      <td>52</td>\n",
       "      <td>NaN</td>\n",
       "      <td>Краснодар</td>\n",
       "      <td>Рафаил</td>\n",
       "      <td>Верещагин</td>\n",
       "      <td>2018-05-25</td>\n",
       "      <td>ultra</td>\n",
       "    </tr>\n",
       "    <tr>\n",
       "      <th>1</th>\n",
       "      <td>1001</td>\n",
       "      <td>41</td>\n",
       "      <td>NaN</td>\n",
       "      <td>Москва</td>\n",
       "      <td>Иван</td>\n",
       "      <td>Ежов</td>\n",
       "      <td>2018-11-01</td>\n",
       "      <td>smart</td>\n",
       "    </tr>\n",
       "    <tr>\n",
       "      <th>2</th>\n",
       "      <td>1002</td>\n",
       "      <td>59</td>\n",
       "      <td>NaN</td>\n",
       "      <td>Стерлитамак</td>\n",
       "      <td>Евгений</td>\n",
       "      <td>Абрамович</td>\n",
       "      <td>2018-06-17</td>\n",
       "      <td>smart</td>\n",
       "    </tr>\n",
       "    <tr>\n",
       "      <th>3</th>\n",
       "      <td>1003</td>\n",
       "      <td>23</td>\n",
       "      <td>NaN</td>\n",
       "      <td>Москва</td>\n",
       "      <td>Белла</td>\n",
       "      <td>Белякова</td>\n",
       "      <td>2018-08-17</td>\n",
       "      <td>ultra</td>\n",
       "    </tr>\n",
       "    <tr>\n",
       "      <th>4</th>\n",
       "      <td>1004</td>\n",
       "      <td>68</td>\n",
       "      <td>NaN</td>\n",
       "      <td>Новокузнецк</td>\n",
       "      <td>Татьяна</td>\n",
       "      <td>Авдеенко</td>\n",
       "      <td>2018-05-14</td>\n",
       "      <td>ultra</td>\n",
       "    </tr>\n",
       "    <tr>\n",
       "      <th>5</th>\n",
       "      <td>1005</td>\n",
       "      <td>67</td>\n",
       "      <td>NaN</td>\n",
       "      <td>Набережные Челны</td>\n",
       "      <td>Афанасий</td>\n",
       "      <td>Горлов</td>\n",
       "      <td>2018-01-25</td>\n",
       "      <td>smart</td>\n",
       "    </tr>\n",
       "    <tr>\n",
       "      <th>6</th>\n",
       "      <td>1006</td>\n",
       "      <td>21</td>\n",
       "      <td>NaN</td>\n",
       "      <td>Ульяновск</td>\n",
       "      <td>Леонид</td>\n",
       "      <td>Ермолаев</td>\n",
       "      <td>2018-02-26</td>\n",
       "      <td>smart</td>\n",
       "    </tr>\n",
       "    <tr>\n",
       "      <th>7</th>\n",
       "      <td>1007</td>\n",
       "      <td>65</td>\n",
       "      <td>NaN</td>\n",
       "      <td>Москва</td>\n",
       "      <td>Юна</td>\n",
       "      <td>Березина</td>\n",
       "      <td>2018-04-19</td>\n",
       "      <td>smart</td>\n",
       "    </tr>\n",
       "    <tr>\n",
       "      <th>8</th>\n",
       "      <td>1008</td>\n",
       "      <td>63</td>\n",
       "      <td>NaN</td>\n",
       "      <td>Челябинск</td>\n",
       "      <td>Рустэм</td>\n",
       "      <td>Пономарёв</td>\n",
       "      <td>2018-12-19</td>\n",
       "      <td>smart</td>\n",
       "    </tr>\n",
       "    <tr>\n",
       "      <th>9</th>\n",
       "      <td>1009</td>\n",
       "      <td>24</td>\n",
       "      <td>NaN</td>\n",
       "      <td>Пермь</td>\n",
       "      <td>Василиса</td>\n",
       "      <td>Блинова</td>\n",
       "      <td>2018-03-22</td>\n",
       "      <td>smart</td>\n",
       "    </tr>\n",
       "  </tbody>\n",
       "</table>\n",
       "</div>"
      ],
      "text/plain": [
       "   user_id  age churn_date              city first_name  last_name  \\\n",
       "0     1000   52        NaN         Краснодар     Рафаил  Верещагин   \n",
       "1     1001   41        NaN            Москва       Иван       Ежов   \n",
       "2     1002   59        NaN       Стерлитамак    Евгений  Абрамович   \n",
       "3     1003   23        NaN            Москва      Белла   Белякова   \n",
       "4     1004   68        NaN       Новокузнецк    Татьяна   Авдеенко   \n",
       "5     1005   67        NaN  Набережные Челны   Афанасий     Горлов   \n",
       "6     1006   21        NaN         Ульяновск     Леонид   Ермолаев   \n",
       "7     1007   65        NaN            Москва        Юна   Березина   \n",
       "8     1008   63        NaN         Челябинск     Рустэм  Пономарёв   \n",
       "9     1009   24        NaN             Пермь   Василиса    Блинова   \n",
       "\n",
       "     reg_date tariff  \n",
       "0  2018-05-25  ultra  \n",
       "1  2018-11-01  smart  \n",
       "2  2018-06-17  smart  \n",
       "3  2018-08-17  ultra  \n",
       "4  2018-05-14  ultra  \n",
       "5  2018-01-25  smart  \n",
       "6  2018-02-26  smart  \n",
       "7  2018-04-19  smart  \n",
       "8  2018-12-19  smart  \n",
       "9  2018-03-22  smart  "
      ]
     },
     "metadata": {},
     "output_type": "display_data"
    },
    {
     "data": {
      "text/plain": [
       "'Столбцы:'"
      ]
     },
     "metadata": {},
     "output_type": "display_data"
    },
    {
     "data": {
      "text/plain": [
       "Index(['user_id', 'age', 'churn_date', 'city', 'first_name', 'last_name',\n",
       "       'reg_date', 'tariff'],\n",
       "      dtype='object')"
      ]
     },
     "metadata": {},
     "output_type": "display_data"
    },
    {
     "data": {
      "text/plain": [
       "'Числовое описание:'"
      ]
     },
     "metadata": {},
     "output_type": "display_data"
    },
    {
     "data": {
      "text/html": [
       "<div>\n",
       "<style scoped>\n",
       "    .dataframe tbody tr th:only-of-type {\n",
       "        vertical-align: middle;\n",
       "    }\n",
       "\n",
       "    .dataframe tbody tr th {\n",
       "        vertical-align: top;\n",
       "    }\n",
       "\n",
       "    .dataframe thead th {\n",
       "        text-align: right;\n",
       "    }\n",
       "</style>\n",
       "<table border=\"1\" class=\"dataframe\">\n",
       "  <thead>\n",
       "    <tr style=\"text-align: right;\">\n",
       "      <th></th>\n",
       "      <th>user_id</th>\n",
       "      <th>age</th>\n",
       "    </tr>\n",
       "  </thead>\n",
       "  <tbody>\n",
       "    <tr>\n",
       "      <th>count</th>\n",
       "      <td>500.000000</td>\n",
       "      <td>500.00000</td>\n",
       "    </tr>\n",
       "    <tr>\n",
       "      <th>mean</th>\n",
       "      <td>1249.500000</td>\n",
       "      <td>46.58800</td>\n",
       "    </tr>\n",
       "    <tr>\n",
       "      <th>std</th>\n",
       "      <td>144.481833</td>\n",
       "      <td>16.66763</td>\n",
       "    </tr>\n",
       "    <tr>\n",
       "      <th>min</th>\n",
       "      <td>1000.000000</td>\n",
       "      <td>18.00000</td>\n",
       "    </tr>\n",
       "    <tr>\n",
       "      <th>25%</th>\n",
       "      <td>1124.750000</td>\n",
       "      <td>32.00000</td>\n",
       "    </tr>\n",
       "    <tr>\n",
       "      <th>50%</th>\n",
       "      <td>1249.500000</td>\n",
       "      <td>46.00000</td>\n",
       "    </tr>\n",
       "    <tr>\n",
       "      <th>75%</th>\n",
       "      <td>1374.250000</td>\n",
       "      <td>62.00000</td>\n",
       "    </tr>\n",
       "    <tr>\n",
       "      <th>max</th>\n",
       "      <td>1499.000000</td>\n",
       "      <td>75.00000</td>\n",
       "    </tr>\n",
       "  </tbody>\n",
       "</table>\n",
       "</div>"
      ],
      "text/plain": [
       "           user_id        age\n",
       "count   500.000000  500.00000\n",
       "mean   1249.500000   46.58800\n",
       "std     144.481833   16.66763\n",
       "min    1000.000000   18.00000\n",
       "25%    1124.750000   32.00000\n",
       "50%    1249.500000   46.00000\n",
       "75%    1374.250000   62.00000\n",
       "max    1499.000000   75.00000"
      ]
     },
     "metadata": {},
     "output_type": "display_data"
    },
    {
     "data": {
      "text/plain": [
       "'Сумма пропусков:'"
      ]
     },
     "metadata": {},
     "output_type": "display_data"
    },
    {
     "data": {
      "text/plain": [
       "user_id         0\n",
       "age             0\n",
       "churn_date    462\n",
       "city            0\n",
       "first_name      0\n",
       "last_name       0\n",
       "reg_date        0\n",
       "tariff          0\n",
       "dtype: int64"
      ]
     },
     "metadata": {},
     "output_type": "display_data"
    },
    {
     "data": {
      "text/plain": [
       "'Доля пропусков:'"
      ]
     },
     "metadata": {},
     "output_type": "display_data"
    },
    {
     "data": {
      "text/plain": [
       "user_id       0.000\n",
       "age           0.000\n",
       "churn_date    0.924\n",
       "city          0.000\n",
       "first_name    0.000\n",
       "last_name     0.000\n",
       "reg_date      0.000\n",
       "tariff        0.000\n",
       "dtype: float64"
      ]
     },
     "metadata": {},
     "output_type": "display_data"
    },
    {
     "data": {
      "text/plain": [
       "'Явные дубликаты:'"
      ]
     },
     "metadata": {},
     "output_type": "display_data"
    },
    {
     "data": {
      "text/plain": [
       "0"
      ]
     },
     "metadata": {},
     "output_type": "display_data"
    }
   ],
   "source": [
    "data_dict = {'calls': calls_df, 'internet': internet_df, 'messages': messages_df, 'tariffs': tariffs_df, 'users': users_df}\n",
    "for df_name in data_dict:\n",
    "    print(f'{df_name}: ')\n",
    "    explore_data(data_dict[df_name])"
   ]
  },
  {
   "cell_type": "markdown",
   "metadata": {},
   "source": [
    "<a id=\"conclution1\"></a>\n",
    "### Вывод\n",
    "В этом разделе провели знакомство с каждым набором данных, были обнаружены пропуски в столбце`churn_date`.\n",
    "Необходимо выполнить преобразование типов для дат.\n",
    "Дубликаты не обнаружены\n"
   ]
  },
  {
   "cell_type": "code",
   "execution_count": 93,
   "metadata": {
    "scrolled": true
   },
   "outputs": [
    {
     "data": {
      "text/plain": [
       "Text(0, 0.5, 'Frequency')"
      ]
     },
     "execution_count": 93,
     "metadata": {},
     "output_type": "execute_result"
    },
    {
     "data": {
      "image/png": "[encoded data removed]",
      "text/plain": [
       "<Figure size 432x288 with 1 Axes>"
      ]
     },
     "metadata": {
      "needs_background": "light"
     },
     "output_type": "display_data"
    }
   ],
   "source": [
    "internet_df['mb_used'].hist(bins=25)\n",
    "plt.xlabel('Mb')\n",
    "plt.ylabel('Frequency')"
   ]
  },
  {
   "cell_type": "code",
   "execution_count": 94,
   "metadata": {
    "scrolled": false
   },
   "outputs": [
    {
     "data": {
      "text/plain": [
       "Text(0, 0.5, 'Frequency')"
      ]
     },
     "execution_count": 94,
     "metadata": {},
     "output_type": "execute_result"
    },
    {
     "data": {
      "image/png": "[encoded data removed]",
      "text/plain": [
       "<Figure size 432x288 with 1 Axes>"
      ]
     },
     "metadata": {
      "needs_background": "light"
     },
     "output_type": "display_data"
    }
   ],
   "source": [
    "calls_df['duration'].hist(bins=12)\n",
    "plt.xlabel('Duration')\n",
    "plt.ylabel('Frequency')"
   ]
  },
  {
   "cell_type": "code",
   "execution_count": 95,
   "metadata": {
    "scrolled": true
   },
   "outputs": [
    {
     "data": {
      "text/plain": [
       "<AxesSubplot:>"
      ]
     },
     "execution_count": 95,
     "metadata": {},
     "output_type": "execute_result"
    },
    {
     "data": {
      "image/png": "[encoded data removed]",
      "text/plain": [
       "<Figure size 432x288 with 1 Axes>"
      ]
     },
     "metadata": {
      "needs_background": "light"
     },
     "output_type": "display_data"
    }
   ],
   "source": [
    "#internet_df[internet_df['mb_used']==0].head(10)\n",
    "internet_df.boxplot(column='mb_used')"
   ]
  },
  {
   "cell_type": "markdown",
   "metadata": {},
   "source": [
    "<a id=\"preprocessing\"></a>\n",
    "## Подготовка данных"
   ]
  },
  {
   "cell_type": "markdown",
   "metadata": {},
   "source": [
    "В этом разделе соберем данные в единую таблицу, заполним обнаруженные пропуски, выполним преобразования типов данных, а также выполним дополнительные расчеты и добавление новых данных в таблицу\n",
    "\n",
    "Переименуем столбец `'tariff_name'` в `'tariff'`, чтобы по нему можно было объединить таблицы `tariffs_df` и `clients`"
   ]
  },
  {
   "cell_type": "code",
   "execution_count": 96,
   "metadata": {},
   "outputs": [
    {
     "data": {
      "text/html": [
       "<div>\n",
       "<style scoped>\n",
       "    .dataframe tbody tr th:only-of-type {\n",
       "        vertical-align: middle;\n",
       "    }\n",
       "\n",
       "    .dataframe tbody tr th {\n",
       "        vertical-align: top;\n",
       "    }\n",
       "\n",
       "    .dataframe thead th {\n",
       "        text-align: right;\n",
       "    }\n",
       "</style>\n",
       "<table border=\"1\" class=\"dataframe\">\n",
       "  <thead>\n",
       "    <tr style=\"text-align: right;\">\n",
       "      <th></th>\n",
       "      <th>user_id</th>\n",
       "      <th>age</th>\n",
       "      <th>churn_date</th>\n",
       "      <th>city</th>\n",
       "      <th>first_name</th>\n",
       "      <th>last_name</th>\n",
       "      <th>reg_date</th>\n",
       "      <th>tariff</th>\n",
       "      <th>messages_included</th>\n",
       "      <th>mb_per_month_included</th>\n",
       "      <th>minutes_included</th>\n",
       "      <th>rub_monthly_fee</th>\n",
       "      <th>rub_per_gb</th>\n",
       "      <th>rub_per_message</th>\n",
       "      <th>rub_per_minute</th>\n",
       "    </tr>\n",
       "  </thead>\n",
       "  <tbody>\n",
       "    <tr>\n",
       "      <th>0</th>\n",
       "      <td>1000</td>\n",
       "      <td>52</td>\n",
       "      <td>NaN</td>\n",
       "      <td>Краснодар</td>\n",
       "      <td>Рафаил</td>\n",
       "      <td>Верещагин</td>\n",
       "      <td>2018-05-25</td>\n",
       "      <td>ultra</td>\n",
       "      <td>1000</td>\n",
       "      <td>30720</td>\n",
       "      <td>3000</td>\n",
       "      <td>1950</td>\n",
       "      <td>150</td>\n",
       "      <td>1</td>\n",
       "      <td>1</td>\n",
       "    </tr>\n",
       "    <tr>\n",
       "      <th>1</th>\n",
       "      <td>1003</td>\n",
       "      <td>23</td>\n",
       "      <td>NaN</td>\n",
       "      <td>Москва</td>\n",
       "      <td>Белла</td>\n",
       "      <td>Белякова</td>\n",
       "      <td>2018-08-17</td>\n",
       "      <td>ultra</td>\n",
       "      <td>1000</td>\n",
       "      <td>30720</td>\n",
       "      <td>3000</td>\n",
       "      <td>1950</td>\n",
       "      <td>150</td>\n",
       "      <td>1</td>\n",
       "      <td>1</td>\n",
       "    </tr>\n",
       "    <tr>\n",
       "      <th>2</th>\n",
       "      <td>1004</td>\n",
       "      <td>68</td>\n",
       "      <td>NaN</td>\n",
       "      <td>Новокузнецк</td>\n",
       "      <td>Татьяна</td>\n",
       "      <td>Авдеенко</td>\n",
       "      <td>2018-05-14</td>\n",
       "      <td>ultra</td>\n",
       "      <td>1000</td>\n",
       "      <td>30720</td>\n",
       "      <td>3000</td>\n",
       "      <td>1950</td>\n",
       "      <td>150</td>\n",
       "      <td>1</td>\n",
       "      <td>1</td>\n",
       "    </tr>\n",
       "    <tr>\n",
       "      <th>3</th>\n",
       "      <td>1013</td>\n",
       "      <td>36</td>\n",
       "      <td>NaN</td>\n",
       "      <td>Иваново</td>\n",
       "      <td>Борис</td>\n",
       "      <td>Андреенко</td>\n",
       "      <td>2018-11-14</td>\n",
       "      <td>ultra</td>\n",
       "      <td>1000</td>\n",
       "      <td>30720</td>\n",
       "      <td>3000</td>\n",
       "      <td>1950</td>\n",
       "      <td>150</td>\n",
       "      <td>1</td>\n",
       "      <td>1</td>\n",
       "    </tr>\n",
       "    <tr>\n",
       "      <th>4</th>\n",
       "      <td>1016</td>\n",
       "      <td>58</td>\n",
       "      <td>NaN</td>\n",
       "      <td>Омск</td>\n",
       "      <td>Марица</td>\n",
       "      <td>Сазонова</td>\n",
       "      <td>2018-11-21</td>\n",
       "      <td>ultra</td>\n",
       "      <td>1000</td>\n",
       "      <td>30720</td>\n",
       "      <td>3000</td>\n",
       "      <td>1950</td>\n",
       "      <td>150</td>\n",
       "      <td>1</td>\n",
       "      <td>1</td>\n",
       "    </tr>\n",
       "  </tbody>\n",
       "</table>\n",
       "</div>"
      ],
      "text/plain": [
       "   user_id  age churn_date         city first_name  last_name    reg_date  \\\n",
       "0     1000   52        NaN    Краснодар     Рафаил  Верещагин  2018-05-25   \n",
       "1     1003   23        NaN       Москва      Белла   Белякова  2018-08-17   \n",
       "2     1004   68        NaN  Новокузнецк    Татьяна   Авдеенко  2018-05-14   \n",
       "3     1013   36        NaN      Иваново      Борис  Андреенко  2018-11-14   \n",
       "4     1016   58        NaN         Омск     Марица   Сазонова  2018-11-21   \n",
       "\n",
       "  tariff  messages_included  mb_per_month_included  minutes_included  \\\n",
       "0  ultra               1000                  30720              3000   \n",
       "1  ultra               1000                  30720              3000   \n",
       "2  ultra               1000                  30720              3000   \n",
       "3  ultra               1000                  30720              3000   \n",
       "4  ultra               1000                  30720              3000   \n",
       "\n",
       "   rub_monthly_fee  rub_per_gb  rub_per_message  rub_per_minute  \n",
       "0             1950         150                1               1  \n",
       "1             1950         150                1               1  \n",
       "2             1950         150                1               1  \n",
       "3             1950         150                1               1  \n",
       "4             1950         150                1               1  "
      ]
     },
     "execution_count": 96,
     "metadata": {},
     "output_type": "execute_result"
    }
   ],
   "source": [
    "tariffs_df = tariffs_df.rename(columns={'tariff_name' : 'tariff'})\n",
    "clients = users_df.merge(tariffs_df, on='tariff')\n",
    "clients.head()"
   ]
  },
  {
   "cell_type": "markdown",
   "metadata": {},
   "source": [
    "Напишем функцию, которая преобразует типы столбцов 'session_date', 'call_date', 'message_date' в даты и добавит новый столбец 'month', который соответствует месяцу оказанной услуги"
   ]
  },
  {
   "cell_type": "code",
   "execution_count": 97,
   "metadata": {},
   "outputs": [],
   "source": [
    "def service_date_to_datetime(service_dataset_dict, f_format='%Y-%m-%d'): # {'call_date': calls_df}\n",
    "    for service in service_dataset_dict:\n",
    "        service_dataset_dict[service][service] = pd.to_datetime(service_dataset_dict[service][service], format=f_format)\n",
    "        service_dataset_dict[service]['month'] = service_dataset_dict[service][service].dt.month_name()\n",
    "        #display(service_dataset_dict[service].head())"
   ]
  },
  {
   "cell_type": "code",
   "execution_count": 98,
   "metadata": {},
   "outputs": [],
   "source": [
    "service_date_to_datetime({'session_date': internet_df, 'call_date' : calls_df, 'message_date': messages_df})"
   ]
  },
  {
   "cell_type": "markdown",
   "metadata": {},
   "source": [
    "определим количество отправленных сообщений по месяцам"
   ]
  },
  {
   "cell_type": "code",
   "execution_count": 99,
   "metadata": {},
   "outputs": [
    {
     "data": {
      "text/plain": [
       "(2717, 3)"
      ]
     },
     "execution_count": 99,
     "metadata": {},
     "output_type": "execute_result"
    }
   ],
   "source": [
    "messages_grouped =(messages_df.pivot_table(index=['user_id', 'month'], values='id', aggfunc='count')\n",
    "                   .reset_index()\n",
    "                   .rename(columns={'id': 'messages_per_month'}))#messages_df.groupby(by=['user_id', 'month']).agg('count').reset_index().head()\n",
    "messages_grouped.shape"
   ]
  },
  {
   "cell_type": "markdown",
   "metadata": {},
   "source": [
    "Каждый звонок округляется отдельно: даже если он длился всего 1 секунду, будет засчитан как 1 минута."
   ]
  },
  {
   "cell_type": "code",
   "execution_count": 100,
   "metadata": {},
   "outputs": [],
   "source": [
    "calls_df['duration'] = np.ceil(calls_df['duration'])"
   ]
  },
  {
   "cell_type": "markdown",
   "metadata": {},
   "source": [
    "Определим количество израсходованных минут разговора по месяцам"
   ]
  },
  {
   "cell_type": "code",
   "execution_count": 101,
   "metadata": {
    "scrolled": false
   },
   "outputs": [],
   "source": [
    "calls_grouped = calls_df.pivot_table(index=['user_id', 'month'], values='duration', aggfunc='sum').reset_index()"
   ]
  },
  {
   "cell_type": "code",
   "execution_count": 102,
   "metadata": {
    "scrolled": true
   },
   "outputs": [],
   "source": [
    "#internet_df.pop('Unnamed: 0')\n"
   ]
  },
  {
   "cell_type": "markdown",
   "metadata": {},
   "source": [
    "Определим объем израсходованного интернет-трафика по месяцам;"
   ]
  },
  {
   "cell_type": "code",
   "execution_count": 103,
   "metadata": {},
   "outputs": [],
   "source": [
    "internet_grouped = internet_df.pivot_table(index=['user_id', 'month'], values='mb_used', aggfunc='sum').reset_index()"
   ]
  },
  {
   "cell_type": "markdown",
   "metadata": {},
   "source": [
    "Объединим услуги в общую таблицу"
   ]
  },
  {
   "cell_type": "code",
   "execution_count": 104,
   "metadata": {},
   "outputs": [],
   "source": [
    "services = (internet_grouped.merge(calls_grouped, on=['user_id','month'], how='outer')\n",
    "            .merge(messages_grouped, on=['user_id','month'], how='outer'))"
   ]
  },
  {
   "cell_type": "markdown",
   "metadata": {},
   "source": [
    "Наконец, соберем все данные пользователей в единую таблицу"
   ]
  },
  {
   "cell_type": "code",
   "execution_count": 105,
   "metadata": {},
   "outputs": [],
   "source": [
    "megaline_info = services.merge(clients, on='user_id', how='left')"
   ]
  },
  {
   "cell_type": "markdown",
   "metadata": {},
   "source": []
  },
  {
   "cell_type": "code",
   "execution_count": 106,
   "metadata": {},
   "outputs": [
    {
     "data": {
      "text/plain": [
       "Index(['user_id', 'month', 'mb_used', 'duration', 'messages_per_month', 'age',\n",
       "       'churn_date', 'city', 'first_name', 'last_name', 'reg_date', 'tariff',\n",
       "       'messages_included', 'mb_per_month_included', 'minutes_included',\n",
       "       'rub_monthly_fee', 'rub_per_gb', 'rub_per_message', 'rub_per_minute'],\n",
       "      dtype='object')"
      ]
     },
     "execution_count": 106,
     "metadata": {},
     "output_type": "execute_result"
    }
   ],
   "source": [
    "megaline_info[megaline_info['mb_used']==0].head(10).columns"
   ]
  },
  {
   "cell_type": "markdown",
   "metadata": {},
   "source": [
    "<a id=\"missed\"></a>\n",
    "### Заполнение пропусков"
   ]
  },
  {
   "cell_type": "code",
   "execution_count": 107,
   "metadata": {},
   "outputs": [
    {
     "data": {
      "text/plain": [
       "user_id                     0\n",
       "month                       0\n",
       "mb_used                    11\n",
       "duration                   40\n",
       "messages_per_month        497\n",
       "age                         0\n",
       "churn_date               3027\n",
       "city                        0\n",
       "first_name                  0\n",
       "last_name                   0\n",
       "reg_date                    0\n",
       "tariff                      0\n",
       "messages_included           0\n",
       "mb_per_month_included       0\n",
       "minutes_included            0\n",
       "rub_monthly_fee             0\n",
       "rub_per_gb                  0\n",
       "rub_per_message             0\n",
       "rub_per_minute              0\n",
       "dtype: int64"
      ]
     },
     "execution_count": 107,
     "metadata": {},
     "output_type": "execute_result"
    }
   ],
   "source": [
    "megaline_info.isna().sum()"
   ]
  },
  {
   "cell_type": "markdown",
   "metadata": {},
   "source": [
    "В столбцах `'mb_used', 'duration', 'messages_per_month'` пропуски означают, что услуга не использовалась, поэтому заменим их на 0"
   ]
  },
  {
   "cell_type": "code",
   "execution_count": 108,
   "metadata": {},
   "outputs": [],
   "source": [
    "megaline_info[['mb_used', 'duration', 'messages_per_month']] = megaline_info[['mb_used', 'duration', 'messages_per_month']].fillna(0)"
   ]
  },
  {
   "cell_type": "code",
   "execution_count": 109,
   "metadata": {
    "scrolled": true
   },
   "outputs": [
    {
     "data": {
      "text/plain": [
       "user_id                     0\n",
       "month                       0\n",
       "mb_used                     0\n",
       "duration                    0\n",
       "messages_per_month          0\n",
       "age                         0\n",
       "churn_date               3027\n",
       "city                        0\n",
       "first_name                  0\n",
       "last_name                   0\n",
       "reg_date                    0\n",
       "tariff                      0\n",
       "messages_included           0\n",
       "mb_per_month_included       0\n",
       "minutes_included            0\n",
       "rub_monthly_fee             0\n",
       "rub_per_gb                  0\n",
       "rub_per_message             0\n",
       "rub_per_minute              0\n",
       "dtype: int64"
      ]
     },
     "execution_count": 109,
     "metadata": {},
     "output_type": "execute_result"
    }
   ],
   "source": [
    "megaline_info.isna().sum()"
   ]
  },
  {
   "cell_type": "markdown",
   "metadata": {},
   "source": [
    "<a id=\"adds\"></a>\n",
    "### Дополнительные расчеты"
   ]
  },
  {
   "cell_type": "markdown",
   "metadata": {},
   "source": [
    "«Мегалайн» всегда округляет секунды до минут, а мегабайты — до гигабайт. Для веб-трафика отдельные сессии не считаются. Вместо этого общая сумма за месяц округляется в бо́льшую сторону. Если абонент использует 1025 мегабайт в этом месяце, с него возьмут плату за 2 гигабайта."
   ]
  },
  {
   "cell_type": "code",
   "execution_count": 110,
   "metadata": {},
   "outputs": [],
   "source": [
    "megaline_info['gb_used'] = (megaline_info['mb_used'] / 1024).apply(np.ceil).astype('Int64')\n",
    "megaline_info['gb_per_month_included'] = np.ceil(megaline_info['mb_per_month_included'] / 1024).astype('Int64')"
   ]
  },
  {
   "cell_type": "code",
   "execution_count": 111,
   "metadata": {},
   "outputs": [],
   "source": [
    "megaline_info['messages_per_month'] = megaline_info['messages_per_month'].astype('Int64')\n",
    "megaline_info['duration'] = megaline_info['duration'].astype('Int64')"
   ]
  },
  {
   "cell_type": "code",
   "execution_count": 112,
   "metadata": {},
   "outputs": [],
   "source": [
    "megaline_info['churn_date'] = pd.to_datetime(megaline_info['churn_date'], format='%Y-%m-%d')\n",
    "megaline_info['reg_date'] = pd.to_datetime(megaline_info['reg_date'], format='%Y-%m-%d')"
   ]
  },
  {
   "cell_type": "code",
   "execution_count": 113,
   "metadata": {
    "scrolled": true
   },
   "outputs": [
    {
     "data": {
      "text/html": [
       "<div>\n",
       "<style scoped>\n",
       "    .dataframe tbody tr th:only-of-type {\n",
       "        vertical-align: middle;\n",
       "    }\n",
       "\n",
       "    .dataframe tbody tr th {\n",
       "        vertical-align: top;\n",
       "    }\n",
       "\n",
       "    .dataframe thead th {\n",
       "        text-align: right;\n",
       "    }\n",
       "</style>\n",
       "<table border=\"1\" class=\"dataframe\">\n",
       "  <thead>\n",
       "    <tr style=\"text-align: right;\">\n",
       "      <th></th>\n",
       "      <th>user_id</th>\n",
       "      <th>month</th>\n",
       "      <th>mb_used</th>\n",
       "      <th>duration</th>\n",
       "      <th>messages_per_month</th>\n",
       "      <th>age</th>\n",
       "      <th>churn_date</th>\n",
       "      <th>city</th>\n",
       "      <th>first_name</th>\n",
       "      <th>last_name</th>\n",
       "      <th>...</th>\n",
       "      <th>tariff</th>\n",
       "      <th>messages_included</th>\n",
       "      <th>mb_per_month_included</th>\n",
       "      <th>minutes_included</th>\n",
       "      <th>rub_monthly_fee</th>\n",
       "      <th>rub_per_gb</th>\n",
       "      <th>rub_per_message</th>\n",
       "      <th>rub_per_minute</th>\n",
       "      <th>gb_used</th>\n",
       "      <th>gb_per_month_included</th>\n",
       "    </tr>\n",
       "  </thead>\n",
       "  <tbody>\n",
       "    <tr>\n",
       "      <th>0</th>\n",
       "      <td>1000</td>\n",
       "      <td>August</td>\n",
       "      <td>14055.93</td>\n",
       "      <td>408</td>\n",
       "      <td>81</td>\n",
       "      <td>52</td>\n",
       "      <td>NaT</td>\n",
       "      <td>Краснодар</td>\n",
       "      <td>Рафаил</td>\n",
       "      <td>Верещагин</td>\n",
       "      <td>...</td>\n",
       "      <td>ultra</td>\n",
       "      <td>1000</td>\n",
       "      <td>30720</td>\n",
       "      <td>3000</td>\n",
       "      <td>1950</td>\n",
       "      <td>150</td>\n",
       "      <td>1</td>\n",
       "      <td>1</td>\n",
       "      <td>14</td>\n",
       "      <td>30</td>\n",
       "    </tr>\n",
       "    <tr>\n",
       "      <th>1</th>\n",
       "      <td>1000</td>\n",
       "      <td>December</td>\n",
       "      <td>9817.61</td>\n",
       "      <td>333</td>\n",
       "      <td>70</td>\n",
       "      <td>52</td>\n",
       "      <td>NaT</td>\n",
       "      <td>Краснодар</td>\n",
       "      <td>Рафаил</td>\n",
       "      <td>Верещагин</td>\n",
       "      <td>...</td>\n",
       "      <td>ultra</td>\n",
       "      <td>1000</td>\n",
       "      <td>30720</td>\n",
       "      <td>3000</td>\n",
       "      <td>1950</td>\n",
       "      <td>150</td>\n",
       "      <td>1</td>\n",
       "      <td>1</td>\n",
       "      <td>10</td>\n",
       "      <td>30</td>\n",
       "    </tr>\n",
       "    <tr>\n",
       "      <th>2</th>\n",
       "      <td>1000</td>\n",
       "      <td>July</td>\n",
       "      <td>14003.64</td>\n",
       "      <td>340</td>\n",
       "      <td>75</td>\n",
       "      <td>52</td>\n",
       "      <td>NaT</td>\n",
       "      <td>Краснодар</td>\n",
       "      <td>Рафаил</td>\n",
       "      <td>Верещагин</td>\n",
       "      <td>...</td>\n",
       "      <td>ultra</td>\n",
       "      <td>1000</td>\n",
       "      <td>30720</td>\n",
       "      <td>3000</td>\n",
       "      <td>1950</td>\n",
       "      <td>150</td>\n",
       "      <td>1</td>\n",
       "      <td>1</td>\n",
       "      <td>14</td>\n",
       "      <td>30</td>\n",
       "    </tr>\n",
       "    <tr>\n",
       "      <th>3</th>\n",
       "      <td>1000</td>\n",
       "      <td>June</td>\n",
       "      <td>23233.77</td>\n",
       "      <td>172</td>\n",
       "      <td>60</td>\n",
       "      <td>52</td>\n",
       "      <td>NaT</td>\n",
       "      <td>Краснодар</td>\n",
       "      <td>Рафаил</td>\n",
       "      <td>Верещагин</td>\n",
       "      <td>...</td>\n",
       "      <td>ultra</td>\n",
       "      <td>1000</td>\n",
       "      <td>30720</td>\n",
       "      <td>3000</td>\n",
       "      <td>1950</td>\n",
       "      <td>150</td>\n",
       "      <td>1</td>\n",
       "      <td>1</td>\n",
       "      <td>23</td>\n",
       "      <td>30</td>\n",
       "    </tr>\n",
       "    <tr>\n",
       "      <th>4</th>\n",
       "      <td>1000</td>\n",
       "      <td>May</td>\n",
       "      <td>2253.49</td>\n",
       "      <td>159</td>\n",
       "      <td>22</td>\n",
       "      <td>52</td>\n",
       "      <td>NaT</td>\n",
       "      <td>Краснодар</td>\n",
       "      <td>Рафаил</td>\n",
       "      <td>Верещагин</td>\n",
       "      <td>...</td>\n",
       "      <td>ultra</td>\n",
       "      <td>1000</td>\n",
       "      <td>30720</td>\n",
       "      <td>3000</td>\n",
       "      <td>1950</td>\n",
       "      <td>150</td>\n",
       "      <td>1</td>\n",
       "      <td>1</td>\n",
       "      <td>3</td>\n",
       "      <td>30</td>\n",
       "    </tr>\n",
       "    <tr>\n",
       "      <th>5</th>\n",
       "      <td>1000</td>\n",
       "      <td>November</td>\n",
       "      <td>14756.47</td>\n",
       "      <td>338</td>\n",
       "      <td>58</td>\n",
       "      <td>52</td>\n",
       "      <td>NaT</td>\n",
       "      <td>Краснодар</td>\n",
       "      <td>Рафаил</td>\n",
       "      <td>Верещагин</td>\n",
       "      <td>...</td>\n",
       "      <td>ultra</td>\n",
       "      <td>1000</td>\n",
       "      <td>30720</td>\n",
       "      <td>3000</td>\n",
       "      <td>1950</td>\n",
       "      <td>150</td>\n",
       "      <td>1</td>\n",
       "      <td>1</td>\n",
       "      <td>15</td>\n",
       "      <td>30</td>\n",
       "    </tr>\n",
       "    <tr>\n",
       "      <th>6</th>\n",
       "      <td>1000</td>\n",
       "      <td>October</td>\n",
       "      <td>14702.49</td>\n",
       "      <td>350</td>\n",
       "      <td>73</td>\n",
       "      <td>52</td>\n",
       "      <td>NaT</td>\n",
       "      <td>Краснодар</td>\n",
       "      <td>Рафаил</td>\n",
       "      <td>Верещагин</td>\n",
       "      <td>...</td>\n",
       "      <td>ultra</td>\n",
       "      <td>1000</td>\n",
       "      <td>30720</td>\n",
       "      <td>3000</td>\n",
       "      <td>1950</td>\n",
       "      <td>150</td>\n",
       "      <td>1</td>\n",
       "      <td>1</td>\n",
       "      <td>15</td>\n",
       "      <td>30</td>\n",
       "    </tr>\n",
       "    <tr>\n",
       "      <th>7</th>\n",
       "      <td>1000</td>\n",
       "      <td>September</td>\n",
       "      <td>14568.91</td>\n",
       "      <td>466</td>\n",
       "      <td>57</td>\n",
       "      <td>52</td>\n",
       "      <td>NaT</td>\n",
       "      <td>Краснодар</td>\n",
       "      <td>Рафаил</td>\n",
       "      <td>Верещагин</td>\n",
       "      <td>...</td>\n",
       "      <td>ultra</td>\n",
       "      <td>1000</td>\n",
       "      <td>30720</td>\n",
       "      <td>3000</td>\n",
       "      <td>1950</td>\n",
       "      <td>150</td>\n",
       "      <td>1</td>\n",
       "      <td>1</td>\n",
       "      <td>15</td>\n",
       "      <td>30</td>\n",
       "    </tr>\n",
       "    <tr>\n",
       "      <th>8</th>\n",
       "      <td>1001</td>\n",
       "      <td>December</td>\n",
       "      <td>14036.66</td>\n",
       "      <td>414</td>\n",
       "      <td>0</td>\n",
       "      <td>41</td>\n",
       "      <td>NaT</td>\n",
       "      <td>Москва</td>\n",
       "      <td>Иван</td>\n",
       "      <td>Ежов</td>\n",
       "      <td>...</td>\n",
       "      <td>smart</td>\n",
       "      <td>50</td>\n",
       "      <td>15360</td>\n",
       "      <td>500</td>\n",
       "      <td>550</td>\n",
       "      <td>200</td>\n",
       "      <td>3</td>\n",
       "      <td>3</td>\n",
       "      <td>14</td>\n",
       "      <td>15</td>\n",
       "    </tr>\n",
       "    <tr>\n",
       "      <th>9</th>\n",
       "      <td>1001</td>\n",
       "      <td>November</td>\n",
       "      <td>18429.34</td>\n",
       "      <td>430</td>\n",
       "      <td>0</td>\n",
       "      <td>41</td>\n",
       "      <td>NaT</td>\n",
       "      <td>Москва</td>\n",
       "      <td>Иван</td>\n",
       "      <td>Ежов</td>\n",
       "      <td>...</td>\n",
       "      <td>smart</td>\n",
       "      <td>50</td>\n",
       "      <td>15360</td>\n",
       "      <td>500</td>\n",
       "      <td>550</td>\n",
       "      <td>200</td>\n",
       "      <td>3</td>\n",
       "      <td>3</td>\n",
       "      <td>18</td>\n",
       "      <td>15</td>\n",
       "    </tr>\n",
       "  </tbody>\n",
       "</table>\n",
       "<p>10 rows × 21 columns</p>\n",
       "</div>"
      ],
      "text/plain": [
       "   user_id      month   mb_used  duration  messages_per_month  age churn_date  \\\n",
       "0     1000     August  14055.93       408                  81   52        NaT   \n",
       "1     1000   December   9817.61       333                  70   52        NaT   \n",
       "2     1000       July  14003.64       340                  75   52        NaT   \n",
       "3     1000       June  23233.77       172                  60   52        NaT   \n",
       "4     1000        May   2253.49       159                  22   52        NaT   \n",
       "5     1000   November  14756.47       338                  58   52        NaT   \n",
       "6     1000    October  14702.49       350                  73   52        NaT   \n",
       "7     1000  September  14568.91       466                  57   52        NaT   \n",
       "8     1001   December  14036.66       414                   0   41        NaT   \n",
       "9     1001   November  18429.34       430                   0   41        NaT   \n",
       "\n",
       "        city first_name  last_name  ... tariff messages_included  \\\n",
       "0  Краснодар     Рафаил  Верещагин  ...  ultra              1000   \n",
       "1  Краснодар     Рафаил  Верещагин  ...  ultra              1000   \n",
       "2  Краснодар     Рафаил  Верещагин  ...  ultra              1000   \n",
       "3  Краснодар     Рафаил  Верещагин  ...  ultra              1000   \n",
       "4  Краснодар     Рафаил  Верещагин  ...  ultra              1000   \n",
       "5  Краснодар     Рафаил  Верещагин  ...  ultra              1000   \n",
       "6  Краснодар     Рафаил  Верещагин  ...  ultra              1000   \n",
       "7  Краснодар     Рафаил  Верещагин  ...  ultra              1000   \n",
       "8     Москва       Иван       Ежов  ...  smart                50   \n",
       "9     Москва       Иван       Ежов  ...  smart                50   \n",
       "\n",
       "   mb_per_month_included  minutes_included  rub_monthly_fee  rub_per_gb  \\\n",
       "0                  30720              3000             1950         150   \n",
       "1                  30720              3000             1950         150   \n",
       "2                  30720              3000             1950         150   \n",
       "3                  30720              3000             1950         150   \n",
       "4                  30720              3000             1950         150   \n",
       "5                  30720              3000             1950         150   \n",
       "6                  30720              3000             1950         150   \n",
       "7                  30720              3000             1950         150   \n",
       "8                  15360               500              550         200   \n",
       "9                  15360               500              550         200   \n",
       "\n",
       "   rub_per_message  rub_per_minute  gb_used  gb_per_month_included  \n",
       "0                1               1       14                     30  \n",
       "1                1               1       10                     30  \n",
       "2                1               1       14                     30  \n",
       "3                1               1       23                     30  \n",
       "4                1               1        3                     30  \n",
       "5                1               1       15                     30  \n",
       "6                1               1       15                     30  \n",
       "7                1               1       15                     30  \n",
       "8                3               3       14                     15  \n",
       "9                3               3       18                     15  \n",
       "\n",
       "[10 rows x 21 columns]"
      ]
     },
     "execution_count": 113,
     "metadata": {},
     "output_type": "execute_result"
    }
   ],
   "source": [
    "megaline_info.head(10)"
   ]
  },
  {
   "cell_type": "code",
   "execution_count": 114,
   "metadata": {},
   "outputs": [
    {
     "data": {
      "text/plain": [
       "(498,)"
      ]
     },
     "execution_count": 114,
     "metadata": {},
     "output_type": "execute_result"
    }
   ],
   "source": [
    "megaline_info.user_id.unique().shape"
   ]
  },
  {
   "cell_type": "code",
   "execution_count": 115,
   "metadata": {
    "scrolled": true
   },
   "outputs": [
    {
     "data": {
      "text/plain": [
       "{1128, 1371}"
      ]
     },
     "execution_count": 115,
     "metadata": {},
     "output_type": "execute_result"
    }
   ],
   "source": [
    "set(users_df.user_id.unique()) - set(megaline_info.user_id.unique() )"
   ]
  },
  {
   "cell_type": "code",
   "execution_count": 116,
   "metadata": {},
   "outputs": [
    {
     "data": {
      "text/html": [
       "<div>\n",
       "<style scoped>\n",
       "    .dataframe tbody tr th:only-of-type {\n",
       "        vertical-align: middle;\n",
       "    }\n",
       "\n",
       "    .dataframe tbody tr th {\n",
       "        vertical-align: top;\n",
       "    }\n",
       "\n",
       "    .dataframe thead th {\n",
       "        text-align: right;\n",
       "    }\n",
       "</style>\n",
       "<table border=\"1\" class=\"dataframe\">\n",
       "  <thead>\n",
       "    <tr style=\"text-align: right;\">\n",
       "      <th></th>\n",
       "      <th>user_id</th>\n",
       "      <th>age</th>\n",
       "      <th>churn_date</th>\n",
       "      <th>city</th>\n",
       "      <th>first_name</th>\n",
       "      <th>last_name</th>\n",
       "      <th>reg_date</th>\n",
       "      <th>tariff</th>\n",
       "    </tr>\n",
       "  </thead>\n",
       "  <tbody>\n",
       "    <tr>\n",
       "      <th>128</th>\n",
       "      <td>1128</td>\n",
       "      <td>51</td>\n",
       "      <td>2018-12-23</td>\n",
       "      <td>Волжский</td>\n",
       "      <td>Ксения</td>\n",
       "      <td>Агаева</td>\n",
       "      <td>2018-12-15</td>\n",
       "      <td>ultra</td>\n",
       "    </tr>\n",
       "    <tr>\n",
       "      <th>371</th>\n",
       "      <td>1371</td>\n",
       "      <td>50</td>\n",
       "      <td>2018-12-30</td>\n",
       "      <td>Омск</td>\n",
       "      <td>Ириней</td>\n",
       "      <td>Трофимов</td>\n",
       "      <td>2018-12-25</td>\n",
       "      <td>smart</td>\n",
       "    </tr>\n",
       "  </tbody>\n",
       "</table>\n",
       "</div>"
      ],
      "text/plain": [
       "     user_id  age  churn_date      city first_name last_name    reg_date  \\\n",
       "128     1128   51  2018-12-23  Волжский     Ксения    Агаева  2018-12-15   \n",
       "371     1371   50  2018-12-30      Омск     Ириней  Трофимов  2018-12-25   \n",
       "\n",
       "    tariff  \n",
       "128  ultra  \n",
       "371  smart  "
      ]
     },
     "metadata": {},
     "output_type": "display_data"
    },
    {
     "data": {
      "text/html": [
       "<div>\n",
       "<style scoped>\n",
       "    .dataframe tbody tr th:only-of-type {\n",
       "        vertical-align: middle;\n",
       "    }\n",
       "\n",
       "    .dataframe tbody tr th {\n",
       "        vertical-align: top;\n",
       "    }\n",
       "\n",
       "    .dataframe thead th {\n",
       "        text-align: right;\n",
       "    }\n",
       "</style>\n",
       "<table border=\"1\" class=\"dataframe\">\n",
       "  <thead>\n",
       "    <tr style=\"text-align: right;\">\n",
       "      <th></th>\n",
       "      <th>user_id</th>\n",
       "      <th>month</th>\n",
       "      <th>mb_used</th>\n",
       "      <th>duration</th>\n",
       "      <th>messages_per_month</th>\n",
       "    </tr>\n",
       "  </thead>\n",
       "  <tbody>\n",
       "  </tbody>\n",
       "</table>\n",
       "</div>"
      ],
      "text/plain": [
       "Empty DataFrame\n",
       "Columns: [user_id, month, mb_used, duration, messages_per_month]\n",
       "Index: []"
      ]
     },
     "metadata": {},
     "output_type": "display_data"
    }
   ],
   "source": [
    "display(users_df.query('user_id == 1371 or user_id==1128'))\n",
    "display(services.query('user_id == 1371 or user_id==1128'))"
   ]
  },
  {
   "cell_type": "markdown",
   "metadata": {},
   "source": [
    "\n",
    " Вот эти два разгильдяя чуть больше, чем через неделю расторгли договор. Их надо удалить из таблицы пользователей."
   ]
  },
  {
   "cell_type": "markdown",
   "metadata": {},
   "source": [
    "Расчитаем помесячную выручку с каждого пользователя: \n",
    "* вычтем бесплатный лимит из суммарного количества звонков, сообщений и интернет-трафика;\n",
    "* остаток умножем на значение из тарифного плана; \n",
    "* прибавим абонентскую плату, соответствующую тарифному плану"
   ]
  },
  {
   "cell_type": "code",
   "execution_count": 117,
   "metadata": {},
   "outputs": [],
   "source": [
    "def count_profit(row):\n",
    "    msg_out_of_limit = minutes_out_of_limit = mb_out_of_limit = 0\n",
    "    \n",
    "    if row['messages_per_month'] > row['messages_included']:\n",
    "        msg_out_of_limit = row['messages_per_month'] - row['messages_included']\n",
    "    if row['duration'] > row['minutes_included']:\n",
    "        minutes_out_of_limit = row['duration'] - row['minutes_included']\n",
    "    if row['gb_used'] > row['gb_per_month_included']:\n",
    "        mb_out_of_limit = row['gb_used'] - row['gb_per_month_included']\n",
    "    \n",
    "    return (msg_out_of_limit * row['rub_per_message'] + \n",
    "                     minutes_out_of_limit * row['rub_per_minute'] +\n",
    "                     mb_out_of_limit * row['rub_per_gb'] +\n",
    "                     row['rub_monthly_fee'])"
   ]
  },
  {
   "cell_type": "code",
   "execution_count": 118,
   "metadata": {
    "scrolled": true
   },
   "outputs": [
    {
     "data": {
      "text/html": [
       "<div>\n",
       "<style scoped>\n",
       "    .dataframe tbody tr th:only-of-type {\n",
       "        vertical-align: middle;\n",
       "    }\n",
       "\n",
       "    .dataframe tbody tr th {\n",
       "        vertical-align: top;\n",
       "    }\n",
       "\n",
       "    .dataframe thead th {\n",
       "        text-align: right;\n",
       "    }\n",
       "</style>\n",
       "<table border=\"1\" class=\"dataframe\">\n",
       "  <thead>\n",
       "    <tr style=\"text-align: right;\">\n",
       "      <th></th>\n",
       "      <th>user_id</th>\n",
       "      <th>month</th>\n",
       "      <th>mb_used</th>\n",
       "      <th>duration</th>\n",
       "      <th>messages_per_month</th>\n",
       "      <th>age</th>\n",
       "      <th>churn_date</th>\n",
       "      <th>city</th>\n",
       "      <th>first_name</th>\n",
       "      <th>last_name</th>\n",
       "      <th>...</th>\n",
       "      <th>messages_included</th>\n",
       "      <th>mb_per_month_included</th>\n",
       "      <th>minutes_included</th>\n",
       "      <th>rub_monthly_fee</th>\n",
       "      <th>rub_per_gb</th>\n",
       "      <th>rub_per_message</th>\n",
       "      <th>rub_per_minute</th>\n",
       "      <th>gb_used</th>\n",
       "      <th>gb_per_month_included</th>\n",
       "      <th>profit_per_month</th>\n",
       "    </tr>\n",
       "  </thead>\n",
       "  <tbody>\n",
       "    <tr>\n",
       "      <th>0</th>\n",
       "      <td>1000</td>\n",
       "      <td>August</td>\n",
       "      <td>14055.93</td>\n",
       "      <td>408</td>\n",
       "      <td>81</td>\n",
       "      <td>52</td>\n",
       "      <td>NaT</td>\n",
       "      <td>Краснодар</td>\n",
       "      <td>Рафаил</td>\n",
       "      <td>Верещагин</td>\n",
       "      <td>...</td>\n",
       "      <td>1000</td>\n",
       "      <td>30720</td>\n",
       "      <td>3000</td>\n",
       "      <td>1950</td>\n",
       "      <td>150</td>\n",
       "      <td>1</td>\n",
       "      <td>1</td>\n",
       "      <td>14</td>\n",
       "      <td>30</td>\n",
       "      <td>1950</td>\n",
       "    </tr>\n",
       "    <tr>\n",
       "      <th>1</th>\n",
       "      <td>1000</td>\n",
       "      <td>December</td>\n",
       "      <td>9817.61</td>\n",
       "      <td>333</td>\n",
       "      <td>70</td>\n",
       "      <td>52</td>\n",
       "      <td>NaT</td>\n",
       "      <td>Краснодар</td>\n",
       "      <td>Рафаил</td>\n",
       "      <td>Верещагин</td>\n",
       "      <td>...</td>\n",
       "      <td>1000</td>\n",
       "      <td>30720</td>\n",
       "      <td>3000</td>\n",
       "      <td>1950</td>\n",
       "      <td>150</td>\n",
       "      <td>1</td>\n",
       "      <td>1</td>\n",
       "      <td>10</td>\n",
       "      <td>30</td>\n",
       "      <td>1950</td>\n",
       "    </tr>\n",
       "    <tr>\n",
       "      <th>2</th>\n",
       "      <td>1000</td>\n",
       "      <td>July</td>\n",
       "      <td>14003.64</td>\n",
       "      <td>340</td>\n",
       "      <td>75</td>\n",
       "      <td>52</td>\n",
       "      <td>NaT</td>\n",
       "      <td>Краснодар</td>\n",
       "      <td>Рафаил</td>\n",
       "      <td>Верещагин</td>\n",
       "      <td>...</td>\n",
       "      <td>1000</td>\n",
       "      <td>30720</td>\n",
       "      <td>3000</td>\n",
       "      <td>1950</td>\n",
       "      <td>150</td>\n",
       "      <td>1</td>\n",
       "      <td>1</td>\n",
       "      <td>14</td>\n",
       "      <td>30</td>\n",
       "      <td>1950</td>\n",
       "    </tr>\n",
       "    <tr>\n",
       "      <th>3</th>\n",
       "      <td>1000</td>\n",
       "      <td>June</td>\n",
       "      <td>23233.77</td>\n",
       "      <td>172</td>\n",
       "      <td>60</td>\n",
       "      <td>52</td>\n",
       "      <td>NaT</td>\n",
       "      <td>Краснодар</td>\n",
       "      <td>Рафаил</td>\n",
       "      <td>Верещагин</td>\n",
       "      <td>...</td>\n",
       "      <td>1000</td>\n",
       "      <td>30720</td>\n",
       "      <td>3000</td>\n",
       "      <td>1950</td>\n",
       "      <td>150</td>\n",
       "      <td>1</td>\n",
       "      <td>1</td>\n",
       "      <td>23</td>\n",
       "      <td>30</td>\n",
       "      <td>1950</td>\n",
       "    </tr>\n",
       "    <tr>\n",
       "      <th>4</th>\n",
       "      <td>1000</td>\n",
       "      <td>May</td>\n",
       "      <td>2253.49</td>\n",
       "      <td>159</td>\n",
       "      <td>22</td>\n",
       "      <td>52</td>\n",
       "      <td>NaT</td>\n",
       "      <td>Краснодар</td>\n",
       "      <td>Рафаил</td>\n",
       "      <td>Верещагин</td>\n",
       "      <td>...</td>\n",
       "      <td>1000</td>\n",
       "      <td>30720</td>\n",
       "      <td>3000</td>\n",
       "      <td>1950</td>\n",
       "      <td>150</td>\n",
       "      <td>1</td>\n",
       "      <td>1</td>\n",
       "      <td>3</td>\n",
       "      <td>30</td>\n",
       "      <td>1950</td>\n",
       "    </tr>\n",
       "  </tbody>\n",
       "</table>\n",
       "<p>5 rows × 22 columns</p>\n",
       "</div>"
      ],
      "text/plain": [
       "   user_id     month   mb_used  duration  messages_per_month  age churn_date  \\\n",
       "0     1000    August  14055.93       408                  81   52        NaT   \n",
       "1     1000  December   9817.61       333                  70   52        NaT   \n",
       "2     1000      July  14003.64       340                  75   52        NaT   \n",
       "3     1000      June  23233.77       172                  60   52        NaT   \n",
       "4     1000       May   2253.49       159                  22   52        NaT   \n",
       "\n",
       "        city first_name  last_name  ... messages_included  \\\n",
       "0  Краснодар     Рафаил  Верещагин  ...              1000   \n",
       "1  Краснодар     Рафаил  Верещагин  ...              1000   \n",
       "2  Краснодар     Рафаил  Верещагин  ...              1000   \n",
       "3  Краснодар     Рафаил  Верещагин  ...              1000   \n",
       "4  Краснодар     Рафаил  Верещагин  ...              1000   \n",
       "\n",
       "  mb_per_month_included  minutes_included  rub_monthly_fee  rub_per_gb  \\\n",
       "0                 30720              3000             1950         150   \n",
       "1                 30720              3000             1950         150   \n",
       "2                 30720              3000             1950         150   \n",
       "3                 30720              3000             1950         150   \n",
       "4                 30720              3000             1950         150   \n",
       "\n",
       "   rub_per_message  rub_per_minute  gb_used  gb_per_month_included  \\\n",
       "0                1               1       14                     30   \n",
       "1                1               1       10                     30   \n",
       "2                1               1       14                     30   \n",
       "3                1               1       23                     30   \n",
       "4                1               1        3                     30   \n",
       "\n",
       "   profit_per_month  \n",
       "0              1950  \n",
       "1              1950  \n",
       "2              1950  \n",
       "3              1950  \n",
       "4              1950  \n",
       "\n",
       "[5 rows x 22 columns]"
      ]
     },
     "execution_count": 118,
     "metadata": {},
     "output_type": "execute_result"
    }
   ],
   "source": [
    "megaline_info['profit_per_month'] = megaline_info.apply(count_profit, axis=1)\n",
    "megaline_info.head(5)"
   ]
  },
  {
   "cell_type": "markdown",
   "metadata": {},
   "source": [
    "<a id=\"conclution2\"></a>\n",
    "### Вывод\n",
    "В этом разделе объединили данные в единую таблицу megaline_info , заполнили обнаруженные пропуски в столбцах `'mb_used', 'duration', 'messages_per_month'`\n",
    "Расчитали количество израсходованных минут разговора, отправленных сообщений, объем израсходованного интернет-трафика по месяцам\n",
    "На каждого пользователя расчитали помесячную выручку "
   ]
  },
  {
   "cell_type": "markdown",
   "metadata": {},
   "source": [
    "<a id=\"analitics\"></a>\n",
    "## Анализ данных \n",
    "Выясним сколько минут разговора, сколько сообщений и какой объём интернет-трафика требуется пользователям каждого тарифа в месяц? "
   ]
  },
  {
   "cell_type": "markdown",
   "metadata": {},
   "source": [
    "Посчитаем среднее количество, дисперсию и стандартное отклонение"
   ]
  },
  {
   "cell_type": "code",
   "execution_count": 119,
   "metadata": {
    "scrolled": true
   },
   "outputs": [
    {
     "data": {
      "text/html": [
       "<div>\n",
       "<style scoped>\n",
       "    .dataframe tbody tr th:only-of-type {\n",
       "        vertical-align: middle;\n",
       "    }\n",
       "\n",
       "    .dataframe tbody tr th {\n",
       "        vertical-align: top;\n",
       "    }\n",
       "\n",
       "    .dataframe thead tr th {\n",
       "        text-align: left;\n",
       "    }\n",
       "\n",
       "    .dataframe thead tr:last-of-type th {\n",
       "        text-align: right;\n",
       "    }\n",
       "</style>\n",
       "<table border=\"1\" class=\"dataframe\">\n",
       "  <thead>\n",
       "    <tr>\n",
       "      <th></th>\n",
       "      <th colspan=\"3\" halign=\"left\">duration</th>\n",
       "      <th colspan=\"3\" halign=\"left\">gb_used</th>\n",
       "      <th colspan=\"3\" halign=\"left\">messages_per_month</th>\n",
       "      <th colspan=\"3\" halign=\"left\">profit_per_month</th>\n",
       "    </tr>\n",
       "    <tr>\n",
       "      <th></th>\n",
       "      <th>mean</th>\n",
       "      <th>var</th>\n",
       "      <th>std</th>\n",
       "      <th>mean</th>\n",
       "      <th>var</th>\n",
       "      <th>std</th>\n",
       "      <th>mean</th>\n",
       "      <th>var</th>\n",
       "      <th>std</th>\n",
       "      <th>mean</th>\n",
       "      <th>var</th>\n",
       "      <th>std</th>\n",
       "    </tr>\n",
       "    <tr>\n",
       "      <th>tariff</th>\n",
       "      <th></th>\n",
       "      <th></th>\n",
       "      <th></th>\n",
       "      <th></th>\n",
       "      <th></th>\n",
       "      <th></th>\n",
       "      <th></th>\n",
       "      <th></th>\n",
       "      <th></th>\n",
       "      <th></th>\n",
       "      <th></th>\n",
       "      <th></th>\n",
       "    </tr>\n",
       "  </thead>\n",
       "  <tbody>\n",
       "    <tr>\n",
       "      <th>smart</th>\n",
       "      <td>417.934948</td>\n",
       "      <td>36219.315784</td>\n",
       "      <td>190.313730</td>\n",
       "      <td>16.328847</td>\n",
       "      <td>33.028705</td>\n",
       "      <td>5.747061</td>\n",
       "      <td>33.384029</td>\n",
       "      <td>796.812958</td>\n",
       "      <td>28.227876</td>\n",
       "      <td>1289.973531</td>\n",
       "      <td>669785.708006</td>\n",
       "      <td>818.404367</td>\n",
       "    </tr>\n",
       "    <tr>\n",
       "      <th>ultra</th>\n",
       "      <td>526.62335</td>\n",
       "      <td>100873.633397</td>\n",
       "      <td>317.606098</td>\n",
       "      <td>19.494416</td>\n",
       "      <td>97.091686</td>\n",
       "      <td>9.853511</td>\n",
       "      <td>49.363452</td>\n",
       "      <td>2285.266143</td>\n",
       "      <td>47.804457</td>\n",
       "      <td>2070.152284</td>\n",
       "      <td>141516.745079</td>\n",
       "      <td>376.187114</td>\n",
       "    </tr>\n",
       "  </tbody>\n",
       "</table>\n",
       "</div>"
      ],
      "text/plain": [
       "          duration                               gb_used                       \\\n",
       "              mean            var         std       mean        var       std   \n",
       "tariff                                                                          \n",
       "smart   417.934948   36219.315784  190.313730  16.328847  33.028705  5.747061   \n",
       "ultra    526.62335  100873.633397  317.606098  19.494416  97.091686  9.853511   \n",
       "\n",
       "       messages_per_month                         profit_per_month  \\\n",
       "                     mean          var        std             mean   \n",
       "tariff                                                               \n",
       "smart           33.384029   796.812958  28.227876      1289.973531   \n",
       "ultra           49.363452  2285.266143  47.804457      2070.152284   \n",
       "\n",
       "                                   \n",
       "                  var         std  \n",
       "tariff                             \n",
       "smart   669785.708006  818.404367  \n",
       "ultra   141516.745079  376.187114  "
      ]
     },
     "execution_count": 119,
     "metadata": {},
     "output_type": "execute_result"
    }
   ],
   "source": [
    "mean_var_std = megaline_info.groupby(by='tariff')[['duration', 'gb_used', 'messages_per_month', 'profit_per_month']].agg(['mean', 'var','std'])\n",
    "mean_var_std"
   ]
  },
  {
   "cell_type": "code",
   "execution_count": 120,
   "metadata": {
    "scrolled": false
   },
   "outputs": [
    {
     "name": "stdout",
     "output_type": "stream",
     "text": [
      "duration\n"
     ]
    },
    {
     "data": {
      "image/png": "[encoded data removed]",
      "text/plain": [
       "<Figure size 432x288 with 1 Axes>"
      ]
     },
     "metadata": {
      "needs_background": "light"
     },
     "output_type": "display_data"
    },
    {
     "name": "stdout",
     "output_type": "stream",
     "text": [
      "messages_per_month\n"
     ]
    },
    {
     "data": {
      "image/png": "[encoded data removed]",
      "text/plain": [
       "<Figure size 432x288 with 1 Axes>"
      ]
     },
     "metadata": {
      "needs_background": "light"
     },
     "output_type": "display_data"
    },
    {
     "name": "stdout",
     "output_type": "stream",
     "text": [
      "gb_used\n"
     ]
    },
    {
     "data": {
      "image/png": "[encoded data removed]",
      "text/plain": [
       "<Figure size 432x288 with 1 Axes>"
      ]
     },
     "metadata": {
      "needs_background": "light"
     },
     "output_type": "display_data"
    },
    {
     "name": "stdout",
     "output_type": "stream",
     "text": [
      "profit_per_month\n"
     ]
    },
    {
     "data": {
      "image/png": "[encoded data removed]",
      "text/plain": [
       "<Figure size 432x288 with 1 Axes>"
      ]
     },
     "metadata": {
      "needs_background": "light"
     },
     "output_type": "display_data"
    }
   ],
   "source": [
    "for column in ['duration', 'messages_per_month', 'gb_used', 'profit_per_month']:\n",
    "    print(column)\n",
    "    #fig, ax = plt.subplots()\n",
    "    megaline_info.query('tariff == \"smart\"')[column].hist( bins=12,  label='smart')\n",
    "    megaline_info.query('tariff == \"ultra\"')[column].hist( bins=12, alpha=0.8,color='yellow', label='ultra')\n",
    "    plt.legend(['smart', 'ultra'])\n",
    "    plt.xlabel(column)\n",
    "    plt.ylabel('Frequency')\n",
    "    plt.show()"
   ]
  },
  {
   "cell_type": "markdown",
   "metadata": {},
   "source": [
    "Все распределения близки к нормальному за исключением распределения колличества сообщений по месяцам. Большая часть потребителей перестает использовать сообщения как средство коммуникации.\n",
    "\n",
    "Среднемесячная выручка от пользователей тарифа smart  выше, да и аудитория шире"
   ]
  },
  {
   "cell_type": "code",
   "execution_count": 121,
   "metadata": {
    "scrolled": true
   },
   "outputs": [
    {
     "data": {
      "image/png": "[encoded data removed]",
      "text/plain": [
       "<Figure size 432x288 with 1 Axes>"
      ]
     },
     "metadata": {
      "needs_background": "light"
     },
     "output_type": "display_data"
    }
   ],
   "source": [
    "df = pd.DataFrame({'smart': megaline_info.query('tariff == \"smart\"')['profit_per_month'].sum()/1000000,\n",
    "                   'ultra': megaline_info.query('tariff == \"ultra\"')['profit_per_month'].sum()/1000000}, index=['Тариф'])\n",
    "df.plot.bar(rot=0)\n",
    "plt.ylabel('Выручка (млн)')\n",
    "plt.show()"
   ]
  },
  {
   "cell_type": "code",
   "execution_count": 122,
   "metadata": {},
   "outputs": [
    {
     "data": {
      "image/png": "[encoded data removed]",
      "text/plain": [
       "<Figure size 432x288 with 1 Axes>"
      ]
     },
     "metadata": {},
     "output_type": "display_data"
    }
   ],
   "source": [
    "df = pd.DataFrame({'Количество пользователей': [megaline_info.query('tariff == \"smart\"').user_id.unique().shape[0],\n",
    "                   megaline_info.query('tariff == \"ultra\"').user_id.unique().shape[0]]}, index=['smart','ultra'])\n",
    "df.plot.pie(y='Количество пользователей')\n",
    "plt.show()"
   ]
  },
  {
   "cell_type": "markdown",
   "metadata": {},
   "source": [
    "<a id=\"hypoteses\"></a>\n",
    "### Проверка гипотез"
   ]
  },
  {
   "cell_type": "markdown",
   "metadata": {},
   "source": [
    "Чтобы проверить гипотезу о равенстве среднего двух\n",
    "генеральных совокупностей по взятым из них выборкам, применим\n",
    "метод scipy.stats.ttest_ind()"
   ]
  },
  {
   "cell_type": "markdown",
   "metadata": {},
   "source": [
    "Нулевая гипотеза **H₀** - средняя выручка пользователей тарифов «Ультра» и «Смарт» равны .\n",
    "\n",
    "Альтернативная гипотеза **H₁** - средняя выручка пользователей тарифов «Ультра» и «Смарт» **не** равны"
   ]
  },
  {
   "cell_type": "code",
   "execution_count": 123,
   "metadata": {},
   "outputs": [
    {
     "name": "stdout",
     "output_type": "stream",
     "text": [
      "p-value:  4.2606313931076085e-250\n",
      "Отвергаем нулевую гипотезу\n"
     ]
    }
   ],
   "source": [
    "alpha = 0.01\n",
    "result = st.ttest_ind(megaline_info.query('tariff == \"smart\"')['profit_per_month'],\n",
    "                     megaline_info.query('tariff == \"ultra\"')['profit_per_month'],\n",
    "                     equal_var=False)\n",
    "# p-value - это вероятность получить наблюдаемый результат при условии, что нулевая гипотеза верна\n",
    "print('p-value: ', result.pvalue)\n",
    "if result.pvalue < alpha:\n",
    "    print('Отвергаем нулевую гипотезу')\n",
    "else:\n",
    "    print('Нулевая гипотеза верна')"
   ]
  },
  {
   "cell_type": "code",
   "execution_count": 124,
   "metadata": {},
   "outputs": [
    {
     "data": {
      "image/png": "[encoded data removed]",
      "text/plain": [
       "<Figure size 432x288 with 1 Axes>"
      ]
     },
     "metadata": {
      "needs_background": "light"
     },
     "output_type": "display_data"
    }
   ],
   "source": [
    "df = pd.DataFrame({'smart': megaline_info.query('tariff == \"smart\"')['profit_per_month'].mean(),\n",
    "                   'ultra': megaline_info.query('tariff == \"ultra\"')['profit_per_month'].mean()}, index=['Тариф'])\n",
    "df.plot.bar(rot=0)\n",
    "plt.ylabel('Средняя выручка')\n",
    "plt.show()"
   ]
  },
  {
   "cell_type": "markdown",
   "metadata": {},
   "source": [
    "Нулевая гипотеза H₀ - средняя выручка пользователей из Москвы равна средней выручке пользователей из других регионов.\n",
    "\n",
    "Альтернативная гипотеза H₁ - средняя выручка пользователей из Москвы отличается от выручки пользователей из других регионов.\n"
   ]
  },
  {
   "cell_type": "code",
   "execution_count": 125,
   "metadata": {},
   "outputs": [
    {
     "name": "stdout",
     "output_type": "stream",
     "text": [
      "p-value:  0.5257376663729298\n",
      "Нулевая гипотеза верна\n"
     ]
    }
   ],
   "source": [
    "alpha = 0.0\n",
    "result = st.ttest_ind(megaline_info.query('city == \"Москва\"')['profit_per_month'],\n",
    "                     megaline_info.query('city != \"Москва\"')['profit_per_month'],\n",
    "                     equal_var=False)\n",
    "# p-value - это вероятность получить наблюдаемый результат при условии, что нулевая гипотеза верна\n",
    "print('p-value: ', result.pvalue)\n",
    "if result.pvalue < alpha:\n",
    "    print('Отвергаем нулевую гипотезу')\n",
    "else:\n",
    "    print('Нулевая гипотеза верна')"
   ]
  },
  {
   "cell_type": "code",
   "execution_count": 126,
   "metadata": {},
   "outputs": [
    {
     "data": {
      "image/png": "[encoded data removed]",
      "text/plain": [
       "<Figure size 432x288 with 1 Axes>"
      ]
     },
     "metadata": {
      "needs_background": "light"
     },
     "output_type": "display_data"
    }
   ],
   "source": [
    "df = pd.DataFrame({'Москва': megaline_info.query('city == \"Москва\"')['profit_per_month'].mean(),\n",
    "                   'Другой': megaline_info.query('city != \"Москва\"')['profit_per_month'].mean()}, index=['Город'])\n",
    "df.plot.bar(rot=0)\n",
    "plt.ylabel('Средняя выручка')\n",
    "plt.show()"
   ]
  },
  {
   "cell_type": "markdown",
   "metadata": {},
   "source": [
    "<a id=\"conclution3\"></a>\n",
    "### Вывод\n",
    "В этом разделе удалось установить, что :\n",
    "* средняя выручка пользователей тарифов «Ультра» и «Смарт» не равны\n",
    "* средняя выручка пользователей из Москвы равна средней выручке пользователей из других регионов."
   ]
  },
  {
   "cell_type": "markdown",
   "metadata": {},
   "source": [
    "<a id=\"conclution\"></a>\n",
    "## Вывод\n",
    " Итак, в этом проекте удалось провести предварительный анализ тарифов на небольшой выборке клиентов.\n",
    " Установили среднемесячное потребление услуг для каждого доступного тарифа, Большая часть потребителей перестает использовать сообщения как средство коммуникации\n",
    " Среднемесячная выручка от пользователей тарифа ultra выше\n",
    " Проверили гипотезы и установили, что:\n",
    "* средняя выручка пользователей тарифов «Ультра» и «Смарт» не равны\n",
    "* средняя выручка пользователей из Москвы равна средней выручке пользователей из других регионов.\n",
    "\n",
    "График ниже показывает, что тариф `smart` приносит больше дохода (кажется пора менять условия для `ultra` 💰💰💰)"
   ]
  },
  {
   "cell_type": "code",
   "execution_count": 129,
   "metadata": {
    "scrolled": true
   },
   "outputs": [
    {
     "data": {
      "image/png": "[encoded data removed]",
      "text/plain": [
       "<Figure size 432x288 with 1 Axes>"
      ]
     },
     "metadata": {
      "needs_background": "light"
     },
     "output_type": "display_data"
    }
   ],
   "source": [
    "fig, ax = plt.subplots()\n",
    "megaline_info.query('tariff==\"smart\"')[['month','profit_per_month']].groupby(by='month').agg('sum').plot.bar(label='smart', ax = ax)\n",
    "megaline_info.query('tariff==\"ultra\"')[['month','profit_per_month']].groupby(by='month').agg('sum').plot.bar(label='ultra',alpha=0.8, color='yellow', ax=ax)\n",
    "plt.legend(['smart', 'ultra'])\n",
    "plt.xlabel('month')\n",
    "plt.ylabel('profit')\n",
    "plt.show()"
   ]
  }
 ],
 "metadata": {
  "ExecuteTimeLog": [
   {
    "duration": 292,
    "start_time": "2022-02-22T20:44:26.274Z"
   },
   {
    "duration": 1110,
    "start_time": "2022-02-22T20:44:30.335Z"
   },
   {
    "duration": 1832,
    "start_time": "2022-02-22T20:44:32.480Z"
   },
   {
    "duration": 159,
    "start_time": "2022-02-22T20:45:06.099Z"
   },
   {
    "duration": 136,
    "start_time": "2022-02-22T20:45:15.183Z"
   },
   {
    "duration": 135,
    "start_time": "2022-02-22T20:45:31.871Z"
   },
   {
    "duration": 151,
    "start_time": "2022-02-22T20:45:44.268Z"
   },
   {
    "duration": 142,
    "start_time": "2022-02-22T20:46:17.031Z"
   },
   {
    "duration": 147,
    "start_time": "2022-02-22T20:46:46.032Z"
   },
   {
    "duration": 413,
    "start_time": "2022-02-22T20:49:17.369Z"
   },
   {
    "duration": 243,
    "start_time": "2022-02-22T20:53:07.682Z"
   },
   {
    "duration": 3,
    "start_time": "2022-02-22T20:53:12.882Z"
   },
   {
    "duration": 265,
    "start_time": "2022-02-22T20:53:15.358Z"
   },
   {
    "duration": 536,
    "start_time": "2022-02-22T20:53:23.734Z"
   },
   {
    "duration": 570,
    "start_time": "2022-02-22T21:12:36.865Z"
   },
   {
    "duration": 543,
    "start_time": "2022-02-22T21:13:23.393Z"
   },
   {
    "duration": 505,
    "start_time": "2022-02-22T21:13:31.445Z"
   },
   {
    "duration": 545,
    "start_time": "2022-02-22T21:17:48.787Z"
   },
   {
    "duration": 5,
    "start_time": "2022-02-22T21:43:11.774Z"
   },
   {
    "duration": 28,
    "start_time": "2022-02-22T21:43:26.425Z"
   },
   {
    "duration": 263,
    "start_time": "2022-02-22T22:32:53.083Z"
   },
   {
    "duration": 268,
    "start_time": "2022-02-22T22:32:57.975Z"
   },
   {
    "duration": 264,
    "start_time": "2022-02-22T22:34:16.652Z"
   },
   {
    "duration": 318,
    "start_time": "2022-02-22T22:35:55.769Z"
   },
   {
    "duration": 9,
    "start_time": "2022-02-22T22:36:21.161Z"
   },
   {
    "duration": 8,
    "start_time": "2022-02-22T22:38:36.942Z"
   },
   {
    "duration": 9,
    "start_time": "2022-02-22T22:39:02.726Z"
   },
   {
    "duration": 23,
    "start_time": "2022-02-22T22:39:49.110Z"
   },
   {
    "duration": 18,
    "start_time": "2022-02-22T22:40:00.287Z"
   },
   {
    "duration": 17,
    "start_time": "2022-02-22T22:40:36.358Z"
   },
   {
    "duration": 18,
    "start_time": "2022-02-22T22:41:20.251Z"
   },
   {
    "duration": 17,
    "start_time": "2022-02-22T22:41:39.294Z"
   },
   {
    "duration": 16,
    "start_time": "2022-02-22T22:41:56.395Z"
   },
   {
    "duration": 17,
    "start_time": "2022-02-22T22:42:13.907Z"
   },
   {
    "duration": 19,
    "start_time": "2022-02-22T22:42:22.711Z"
   },
   {
    "duration": 20,
    "start_time": "2022-02-22T22:42:28.959Z"
   },
   {
    "duration": 17,
    "start_time": "2022-02-22T22:42:42.271Z"
   },
   {
    "duration": 344,
    "start_time": "2022-02-23T09:09:00.970Z"
   },
   {
    "duration": 1538,
    "start_time": "2022-02-23T09:09:09.964Z"
   },
   {
    "duration": 517,
    "start_time": "2022-02-23T09:09:11.505Z"
   },
   {
    "duration": 5,
    "start_time": "2022-02-23T09:09:12.025Z"
   },
   {
    "duration": 939,
    "start_time": "2022-02-23T09:09:12.033Z"
   },
   {
    "duration": 90,
    "start_time": "2022-02-23T09:09:12.974Z"
   },
   {
    "duration": 64,
    "start_time": "2022-02-23T09:09:13.066Z"
   },
   {
    "duration": 420,
    "start_time": "2022-02-23T09:09:13.133Z"
   },
   {
    "duration": 492,
    "start_time": "2022-02-23T09:09:29.870Z"
   },
   {
    "duration": 311,
    "start_time": "2022-02-23T09:12:50.841Z"
   },
   {
    "duration": 8032,
    "start_time": "2022-02-23T09:12:58.628Z"
   },
   {
    "duration": 8,
    "start_time": "2022-02-23T09:14:16.548Z"
   },
   {
    "duration": 6908,
    "start_time": "2022-02-23T09:14:39.385Z"
   },
   {
    "duration": 12,
    "start_time": "2022-02-23T09:15:02.220Z"
   },
   {
    "duration": 8681,
    "start_time": "2022-02-23T09:45:18.391Z"
   },
   {
    "duration": 344,
    "start_time": "2022-02-23T09:46:23.057Z"
   },
   {
    "duration": 1667,
    "start_time": "2022-02-23T09:46:30.894Z"
   },
   {
    "duration": 600,
    "start_time": "2022-02-23T09:46:32.563Z"
   },
   {
    "duration": 5,
    "start_time": "2022-02-23T09:46:33.166Z"
   },
   {
    "duration": 981,
    "start_time": "2022-02-23T09:46:33.174Z"
   },
   {
    "duration": 93,
    "start_time": "2022-02-23T09:46:34.158Z"
   },
   {
    "duration": 28,
    "start_time": "2022-02-23T09:46:34.254Z"
   },
   {
    "duration": 43,
    "start_time": "2022-02-23T09:46:34.284Z"
   },
   {
    "duration": 12,
    "start_time": "2022-02-23T09:46:34.331Z"
   },
   {
    "duration": 9685,
    "start_time": "2022-02-23T09:46:38.095Z"
   },
   {
    "duration": 1514,
    "start_time": "2022-02-23T20:50:16.647Z"
   },
   {
    "duration": 628,
    "start_time": "2022-02-23T20:50:18.164Z"
   },
   {
    "duration": 6,
    "start_time": "2022-02-23T20:50:18.795Z"
   },
   {
    "duration": 962,
    "start_time": "2022-02-23T20:50:18.804Z"
   },
   {
    "duration": 90,
    "start_time": "2022-02-23T20:50:19.769Z"
   },
   {
    "duration": 65,
    "start_time": "2022-02-23T20:50:19.862Z"
   },
   {
    "duration": 8,
    "start_time": "2022-02-23T20:50:19.929Z"
   },
   {
    "duration": 13,
    "start_time": "2022-02-23T20:50:19.940Z"
   },
   {
    "duration": 11273,
    "start_time": "2022-02-23T20:50:19.956Z"
   },
   {
    "duration": 1592,
    "start_time": "2022-02-23T20:51:25.054Z"
   },
   {
    "duration": 607,
    "start_time": "2022-02-23T20:51:26.649Z"
   },
   {
    "duration": 5,
    "start_time": "2022-02-23T20:51:27.263Z"
   },
   {
    "duration": 969,
    "start_time": "2022-02-23T20:51:27.270Z"
   },
   {
    "duration": 106,
    "start_time": "2022-02-23T20:51:28.242Z"
   },
   {
    "duration": 31,
    "start_time": "2022-02-23T20:51:28.352Z"
   },
   {
    "duration": 47,
    "start_time": "2022-02-23T20:51:28.387Z"
   },
   {
    "duration": 13,
    "start_time": "2022-02-23T20:51:28.438Z"
   },
   {
    "duration": 1635,
    "start_time": "2022-02-23T20:51:53.816Z"
   },
   {
    "duration": 605,
    "start_time": "2022-02-23T20:51:55.455Z"
   },
   {
    "duration": 5,
    "start_time": "2022-02-23T20:51:56.063Z"
   },
   {
    "duration": 975,
    "start_time": "2022-02-23T20:51:56.071Z"
   },
   {
    "duration": 96,
    "start_time": "2022-02-23T20:51:57.048Z"
   },
   {
    "duration": 30,
    "start_time": "2022-02-23T20:51:57.147Z"
   },
   {
    "duration": 50,
    "start_time": "2022-02-23T20:51:57.180Z"
   },
   {
    "duration": 13,
    "start_time": "2022-02-23T20:51:57.232Z"
   },
   {
    "duration": 347,
    "start_time": "2022-02-23T20:52:16.553Z"
   },
   {
    "duration": 1655,
    "start_time": "2022-02-23T20:52:23.102Z"
   },
   {
    "duration": 627,
    "start_time": "2022-02-23T20:52:24.759Z"
   },
   {
    "duration": 7,
    "start_time": "2022-02-23T20:52:25.390Z"
   },
   {
    "duration": 967,
    "start_time": "2022-02-23T20:52:25.401Z"
   },
   {
    "duration": 93,
    "start_time": "2022-02-23T20:52:26.370Z"
   },
   {
    "duration": 29,
    "start_time": "2022-02-23T20:52:26.465Z"
   },
   {
    "duration": 9,
    "start_time": "2022-02-23T20:52:26.527Z"
   },
   {
    "duration": 15,
    "start_time": "2022-02-23T20:52:26.539Z"
   },
   {
    "duration": 450,
    "start_time": "2022-02-23T21:03:36.921Z"
   },
   {
    "duration": 1616,
    "start_time": "2022-02-23T21:03:43.139Z"
   },
   {
    "duration": 647,
    "start_time": "2022-02-23T21:03:44.757Z"
   },
   {
    "duration": 6,
    "start_time": "2022-02-23T21:03:45.408Z"
   },
   {
    "duration": 954,
    "start_time": "2022-02-23T21:03:45.417Z"
   },
   {
    "duration": 94,
    "start_time": "2022-02-23T21:03:46.373Z"
   },
   {
    "duration": 65,
    "start_time": "2022-02-23T21:03:46.470Z"
   },
   {
    "duration": 8,
    "start_time": "2022-02-23T21:03:46.538Z"
   },
   {
    "duration": 12,
    "start_time": "2022-02-23T21:03:46.548Z"
   },
   {
    "duration": 4,
    "start_time": "2022-02-27T18:02:04.552Z"
   },
   {
    "duration": 328,
    "start_time": "2022-02-27T18:03:23.952Z"
   },
   {
    "duration": 1287,
    "start_time": "2022-02-27T18:03:29.575Z"
   },
   {
    "duration": 447,
    "start_time": "2022-02-27T18:03:30.864Z"
   },
   {
    "duration": 4,
    "start_time": "2022-02-27T18:03:31.314Z"
   },
   {
    "duration": 718,
    "start_time": "2022-02-27T18:03:31.320Z"
   },
   {
    "duration": 38,
    "start_time": "2022-02-27T18:03:32.079Z"
   },
   {
    "duration": 20,
    "start_time": "2022-02-27T18:03:32.118Z"
   },
   {
    "duration": 42,
    "start_time": "2022-02-27T18:03:32.140Z"
   },
   {
    "duration": 14,
    "start_time": "2022-02-27T18:03:32.185Z"
   },
   {
    "duration": 6,
    "start_time": "2022-02-27T18:03:36.483Z"
   },
   {
    "duration": 169,
    "start_time": "2022-02-27T18:03:57.122Z"
   },
   {
    "duration": 161,
    "start_time": "2022-02-27T18:04:22.733Z"
   },
   {
    "duration": 153,
    "start_time": "2022-02-27T18:04:28.953Z"
   },
   {
    "duration": 146,
    "start_time": "2022-02-27T18:06:20.392Z"
   },
   {
    "duration": 158,
    "start_time": "2022-02-27T18:06:36.262Z"
   },
   {
    "duration": 277,
    "start_time": "2022-02-27T18:12:08.562Z"
   },
   {
    "duration": 5627,
    "start_time": "2022-02-27T18:41:43.420Z"
   },
   {
    "duration": 255,
    "start_time": "2022-02-27T19:06:50.810Z"
   },
   {
    "duration": 84,
    "start_time": "2022-02-27T19:08:47.953Z"
   },
   {
    "duration": 215,
    "start_time": "2022-02-27T19:08:56.159Z"
   },
   {
    "duration": 214,
    "start_time": "2022-02-27T19:09:04.701Z"
   },
   {
    "duration": 250,
    "start_time": "2022-02-27T19:09:29.639Z"
   },
   {
    "duration": 214,
    "start_time": "2022-02-27T19:10:08.201Z"
   },
   {
    "duration": 322,
    "start_time": "2022-02-27T19:10:15.169Z"
   },
   {
    "duration": 216,
    "start_time": "2022-02-27T19:12:16.039Z"
   },
   {
    "duration": 221,
    "start_time": "2022-02-27T19:12:43.700Z"
   },
   {
    "duration": 247,
    "start_time": "2022-02-27T19:16:00.870Z"
   },
   {
    "duration": 223,
    "start_time": "2022-02-27T19:16:20.820Z"
   },
   {
    "duration": 6,
    "start_time": "2022-02-27T19:16:26.949Z"
   },
   {
    "duration": 10,
    "start_time": "2022-02-27T19:16:35.909Z"
   },
   {
    "duration": 22,
    "start_time": "2022-02-27T19:18:06.360Z"
   },
   {
    "duration": 10,
    "start_time": "2022-02-27T19:18:10.210Z"
   },
   {
    "duration": 8,
    "start_time": "2022-02-27T19:18:29.719Z"
   },
   {
    "duration": 17,
    "start_time": "2022-02-27T19:18:31.968Z"
   },
   {
    "duration": 238,
    "start_time": "2022-02-27T19:19:46.447Z"
   },
   {
    "duration": 9,
    "start_time": "2022-02-27T19:19:51.070Z"
   },
   {
    "duration": 10,
    "start_time": "2022-02-27T19:19:53.088Z"
   },
   {
    "duration": 285,
    "start_time": "2022-02-27T19:24:14.278Z"
   },
   {
    "duration": 22,
    "start_time": "2022-02-27T19:24:54.609Z"
   },
   {
    "duration": 10,
    "start_time": "2022-02-27T19:24:57.958Z"
   },
   {
    "duration": 13,
    "start_time": "2022-02-27T19:34:48.738Z"
   },
   {
    "duration": 9,
    "start_time": "2022-02-27T19:34:50.728Z"
   },
   {
    "duration": 23,
    "start_time": "2022-02-27T19:35:44.206Z"
   },
   {
    "duration": 1150,
    "start_time": "2022-02-27T19:36:13.204Z"
   },
   {
    "duration": 421,
    "start_time": "2022-02-27T19:36:14.356Z"
   },
   {
    "duration": 4,
    "start_time": "2022-02-27T19:36:14.779Z"
   },
   {
    "duration": 640,
    "start_time": "2022-02-27T19:36:14.784Z"
   },
   {
    "duration": 71,
    "start_time": "2022-02-27T19:36:15.425Z"
   },
   {
    "duration": 25,
    "start_time": "2022-02-27T19:36:15.498Z"
   },
   {
    "duration": 10,
    "start_time": "2022-02-27T19:36:15.526Z"
   },
   {
    "duration": 77,
    "start_time": "2022-02-27T19:36:15.539Z"
   },
   {
    "duration": 10,
    "start_time": "2022-02-27T19:36:15.618Z"
   },
   {
    "duration": 50,
    "start_time": "2022-02-27T19:36:15.630Z"
   },
   {
    "duration": 352,
    "start_time": "2022-02-27T19:40:45.714Z"
   },
   {
    "duration": 5742,
    "start_time": "2022-02-27T19:41:21.934Z"
   },
   {
    "duration": 283,
    "start_time": "2022-02-27T19:41:45.854Z"
   },
   {
    "duration": 396,
    "start_time": "2022-02-27T19:43:00.864Z"
   },
   {
    "duration": 17,
    "start_time": "2022-02-27T19:43:09.074Z"
   },
   {
    "duration": 258,
    "start_time": "2022-02-27T19:43:20.093Z"
   },
   {
    "duration": 3,
    "start_time": "2022-02-27T19:44:59.164Z"
   },
   {
    "duration": 411,
    "start_time": "2022-02-27T19:44:59.169Z"
   },
   {
    "duration": 4,
    "start_time": "2022-02-27T19:44:59.582Z"
   },
   {
    "duration": 638,
    "start_time": "2022-02-27T19:44:59.588Z"
   },
   {
    "duration": 77,
    "start_time": "2022-02-27T19:45:00.227Z"
   },
   {
    "duration": 19,
    "start_time": "2022-02-27T19:45:00.305Z"
   },
   {
    "duration": 7,
    "start_time": "2022-02-27T19:45:00.326Z"
   },
   {
    "duration": 90,
    "start_time": "2022-02-27T19:45:00.335Z"
   },
   {
    "duration": 10,
    "start_time": "2022-02-27T19:45:00.427Z"
   },
   {
    "duration": 233,
    "start_time": "2022-02-27T19:45:08.064Z"
   },
   {
    "duration": 26,
    "start_time": "2022-02-27T19:45:20.923Z"
   },
   {
    "duration": 290,
    "start_time": "2022-02-27T20:58:38.692Z"
   },
   {
    "duration": 2,
    "start_time": "2022-02-27T20:59:12.822Z"
   },
   {
    "duration": 412,
    "start_time": "2022-02-27T20:59:12.826Z"
   },
   {
    "duration": 4,
    "start_time": "2022-02-27T20:59:13.240Z"
   },
   {
    "duration": 574,
    "start_time": "2022-02-27T20:59:13.246Z"
   },
   {
    "duration": 72,
    "start_time": "2022-02-27T20:59:13.821Z"
   },
   {
    "duration": 18,
    "start_time": "2022-02-27T20:59:13.895Z"
   },
   {
    "duration": 5,
    "start_time": "2022-02-27T20:59:13.914Z"
   },
   {
    "duration": 72,
    "start_time": "2022-02-27T20:59:13.921Z"
   },
   {
    "duration": 10,
    "start_time": "2022-02-27T20:59:13.995Z"
   },
   {
    "duration": 39,
    "start_time": "2022-02-27T21:00:49.490Z"
   },
   {
    "duration": 8,
    "start_time": "2022-02-27T21:02:44.577Z"
   },
   {
    "duration": 63,
    "start_time": "2022-02-27T21:03:30.840Z"
   },
   {
    "duration": 32,
    "start_time": "2022-02-27T21:23:50.310Z"
   },
   {
    "duration": 72,
    "start_time": "2022-02-27T21:24:13.189Z"
   },
   {
    "duration": 31,
    "start_time": "2022-02-27T21:24:19.519Z"
   },
   {
    "duration": 27,
    "start_time": "2022-02-27T21:38:03.230Z"
   },
   {
    "duration": 34,
    "start_time": "2022-02-27T21:38:14.227Z"
   },
   {
    "duration": 1445,
    "start_time": "2022-03-04T18:24:55.911Z"
   },
   {
    "duration": 493,
    "start_time": "2022-03-04T18:24:57.359Z"
   },
   {
    "duration": 5,
    "start_time": "2022-03-04T18:24:57.855Z"
   },
   {
    "duration": 865,
    "start_time": "2022-03-04T18:24:57.864Z"
   },
   {
    "duration": 103,
    "start_time": "2022-03-04T18:24:58.732Z"
   },
   {
    "duration": 68,
    "start_time": "2022-03-04T18:24:58.838Z"
   },
   {
    "duration": 14,
    "start_time": "2022-03-04T18:24:58.908Z"
   },
   {
    "duration": 74,
    "start_time": "2022-03-04T18:24:58.926Z"
   },
   {
    "duration": 12,
    "start_time": "2022-03-04T18:24:59.003Z"
   },
   {
    "duration": 78,
    "start_time": "2022-03-04T18:24:59.017Z"
   },
   {
    "duration": 88,
    "start_time": "2022-03-04T18:24:59.098Z"
   },
   {
    "duration": 70,
    "start_time": "2022-03-04T18:25:20.769Z"
   },
   {
    "duration": 44,
    "start_time": "2022-03-04T18:25:28.041Z"
   },
   {
    "duration": 38,
    "start_time": "2022-03-04T18:26:37.058Z"
   },
   {
    "duration": 40,
    "start_time": "2022-03-04T18:27:20.886Z"
   },
   {
    "duration": 35,
    "start_time": "2022-03-04T18:42:09.011Z"
   },
   {
    "duration": 34,
    "start_time": "2022-03-04T18:42:21.087Z"
   },
   {
    "duration": 34,
    "start_time": "2022-03-04T18:42:28.768Z"
   },
   {
    "duration": 39,
    "start_time": "2022-03-04T18:42:34.934Z"
   },
   {
    "duration": 4,
    "start_time": "2022-03-04T19:02:36.272Z"
   },
   {
    "duration": 526,
    "start_time": "2022-03-04T19:03:06.996Z"
   },
   {
    "duration": 5,
    "start_time": "2022-03-04T19:03:26.468Z"
   },
   {
    "duration": 423,
    "start_time": "2022-03-04T19:03:28.396Z"
   },
   {
    "duration": 5,
    "start_time": "2022-03-04T19:03:44.292Z"
   },
   {
    "duration": 36,
    "start_time": "2022-03-04T19:03:46.224Z"
   },
   {
    "duration": 5,
    "start_time": "2022-03-04T19:05:28.101Z"
   },
   {
    "duration": 45,
    "start_time": "2022-03-04T19:05:31.597Z"
   },
   {
    "duration": 33,
    "start_time": "2022-03-04T19:06:30.461Z"
   },
   {
    "duration": 40,
    "start_time": "2022-03-04T19:07:20.857Z"
   },
   {
    "duration": 43,
    "start_time": "2022-03-04T19:09:22.191Z"
   },
   {
    "duration": 1394,
    "start_time": "2022-03-04T19:09:41.867Z"
   },
   {
    "duration": 460,
    "start_time": "2022-03-04T19:09:43.264Z"
   },
   {
    "duration": 5,
    "start_time": "2022-03-04T19:09:43.727Z"
   },
   {
    "duration": 949,
    "start_time": "2022-03-04T19:09:43.735Z"
   },
   {
    "duration": 46,
    "start_time": "2022-03-04T19:09:44.687Z"
   },
   {
    "duration": 69,
    "start_time": "2022-03-04T19:09:44.735Z"
   },
   {
    "duration": 11,
    "start_time": "2022-03-04T19:09:44.807Z"
   },
   {
    "duration": 72,
    "start_time": "2022-03-04T19:09:44.822Z"
   },
   {
    "duration": 12,
    "start_time": "2022-03-04T19:09:44.897Z"
   },
   {
    "duration": 71,
    "start_time": "2022-03-04T19:09:44.911Z"
   },
   {
    "duration": 82,
    "start_time": "2022-03-04T19:09:44.984Z"
   },
   {
    "duration": 17,
    "start_time": "2022-03-04T19:09:45.069Z"
   },
   {
    "duration": 49,
    "start_time": "2022-03-04T19:09:45.088Z"
   },
   {
    "duration": 62,
    "start_time": "2022-03-04T19:09:45.139Z"
   },
   {
    "duration": 41,
    "start_time": "2022-03-04T19:09:45.203Z"
   },
   {
    "duration": 44,
    "start_time": "2022-03-04T19:17:01.873Z"
   },
   {
    "duration": 35,
    "start_time": "2022-03-04T19:17:19.169Z"
   },
   {
    "duration": 4,
    "start_time": "2022-03-04T19:33:02.173Z"
   },
   {
    "duration": 521,
    "start_time": "2022-03-04T19:33:02.179Z"
   },
   {
    "duration": 5,
    "start_time": "2022-03-04T19:33:02.702Z"
   },
   {
    "duration": 914,
    "start_time": "2022-03-04T19:33:02.710Z"
   },
   {
    "duration": 93,
    "start_time": "2022-03-04T19:33:03.626Z"
   },
   {
    "duration": 61,
    "start_time": "2022-03-04T19:33:03.722Z"
   },
   {
    "duration": 11,
    "start_time": "2022-03-04T19:33:03.786Z"
   },
   {
    "duration": 8,
    "start_time": "2022-03-04T19:33:03.800Z"
   },
   {
    "duration": 5557,
    "start_time": "2022-03-04T19:33:03.812Z"
   },
   {
    "duration": -38,
    "start_time": "2022-03-04T19:33:09.411Z"
   },
   {
    "duration": -39,
    "start_time": "2022-03-04T19:33:09.414Z"
   },
   {
    "duration": 137,
    "start_time": "2022-03-04T19:34:45.903Z"
   },
   {
    "duration": 1458,
    "start_time": "2022-03-04T19:37:19.824Z"
   },
   {
    "duration": 537,
    "start_time": "2022-03-04T19:37:21.285Z"
   },
   {
    "duration": 8,
    "start_time": "2022-03-04T19:37:21.826Z"
   },
   {
    "duration": 997,
    "start_time": "2022-03-04T19:37:21.837Z"
   },
   {
    "duration": 98,
    "start_time": "2022-03-04T19:37:22.837Z"
   },
   {
    "duration": 79,
    "start_time": "2022-03-04T19:37:22.938Z"
   },
   {
    "duration": 9,
    "start_time": "2022-03-04T19:37:23.020Z"
   },
   {
    "duration": 8,
    "start_time": "2022-03-04T19:37:23.032Z"
   },
   {
    "duration": 251,
    "start_time": "2022-03-04T19:37:23.043Z"
   },
   {
    "duration": 55,
    "start_time": "2022-03-04T19:37:23.297Z"
   },
   {
    "duration": 84,
    "start_time": "2022-03-04T19:37:23.355Z"
   },
   {
    "duration": 5,
    "start_time": "2022-03-04T20:00:57.263Z"
   },
   {
    "duration": 86,
    "start_time": "2022-03-04T20:01:03.708Z"
   },
   {
    "duration": 93,
    "start_time": "2022-03-04T20:01:22.547Z"
   },
   {
    "duration": 38,
    "start_time": "2022-03-04T20:02:49.163Z"
   },
   {
    "duration": 87,
    "start_time": "2022-03-04T20:05:42.832Z"
   },
   {
    "duration": 21,
    "start_time": "2022-03-04T20:06:18.880Z"
   },
   {
    "duration": 18,
    "start_time": "2022-03-04T20:09:01.466Z"
   },
   {
    "duration": 997,
    "start_time": "2022-03-04T20:12:40.328Z"
   },
   {
    "duration": 32,
    "start_time": "2022-03-04T20:13:12.509Z"
   },
   {
    "duration": 37,
    "start_time": "2022-03-04T20:13:28.692Z"
   },
   {
    "duration": 27,
    "start_time": "2022-03-04T20:13:57.531Z"
   },
   {
    "duration": 317,
    "start_time": "2022-03-04T20:18:20.309Z"
   },
   {
    "duration": 44,
    "start_time": "2022-03-04T20:18:29.219Z"
   },
   {
    "duration": 42,
    "start_time": "2022-03-04T20:18:35.361Z"
   },
   {
    "duration": 44,
    "start_time": "2022-03-04T20:18:54.105Z"
   },
   {
    "duration": 203,
    "start_time": "2022-03-04T20:19:41.108Z"
   },
   {
    "duration": 51,
    "start_time": "2022-03-04T20:20:03.002Z"
   },
   {
    "duration": 237,
    "start_time": "2022-03-04T20:20:29.418Z"
   },
   {
    "duration": 39,
    "start_time": "2022-03-04T20:21:41.422Z"
   },
   {
    "duration": 38,
    "start_time": "2022-03-04T20:23:27.606Z"
   },
   {
    "duration": 42,
    "start_time": "2022-03-04T20:23:45.447Z"
   },
   {
    "duration": 13,
    "start_time": "2022-03-04T20:25:12.859Z"
   },
   {
    "duration": 37,
    "start_time": "2022-03-04T20:27:18.636Z"
   },
   {
    "duration": 40,
    "start_time": "2022-03-04T20:28:10.628Z"
   },
   {
    "duration": 44,
    "start_time": "2022-03-04T20:28:27.829Z"
   },
   {
    "duration": 4,
    "start_time": "2022-03-04T20:28:34.899Z"
   },
   {
    "duration": 33,
    "start_time": "2022-03-04T20:28:53.945Z"
   },
   {
    "duration": 231,
    "start_time": "2022-03-04T20:36:14.160Z"
   },
   {
    "duration": 31,
    "start_time": "2022-03-04T20:36:39.556Z"
   },
   {
    "duration": 32,
    "start_time": "2022-03-04T20:37:11.608Z"
   },
   {
    "duration": 27,
    "start_time": "2022-03-04T20:40:28.318Z"
   },
   {
    "duration": 35,
    "start_time": "2022-03-04T20:40:45.623Z"
   },
   {
    "duration": 35,
    "start_time": "2022-03-04T20:41:22.925Z"
   },
   {
    "duration": 13,
    "start_time": "2022-03-04T20:54:25.543Z"
   },
   {
    "duration": 13,
    "start_time": "2022-03-04T20:54:39.927Z"
   },
   {
    "duration": 225,
    "start_time": "2022-03-04T20:55:16.351Z"
   },
   {
    "duration": 17,
    "start_time": "2022-03-04T20:55:38.659Z"
   },
   {
    "duration": 23,
    "start_time": "2022-03-04T20:56:35.931Z"
   },
   {
    "duration": 22,
    "start_time": "2022-03-04T20:57:23.624Z"
   },
   {
    "duration": 34,
    "start_time": "2022-03-04T20:59:21.487Z"
   },
   {
    "duration": 28,
    "start_time": "2022-03-04T21:00:38.649Z"
   },
   {
    "duration": 23,
    "start_time": "2022-03-04T21:01:00.809Z"
   },
   {
    "duration": 20,
    "start_time": "2022-03-04T21:01:13.917Z"
   },
   {
    "duration": 29,
    "start_time": "2022-03-04T21:02:01.038Z"
   },
   {
    "duration": 12,
    "start_time": "2022-03-04T21:03:02.122Z"
   },
   {
    "duration": 14,
    "start_time": "2022-03-04T21:03:44.854Z"
   },
   {
    "duration": 24,
    "start_time": "2022-03-04T21:05:24.047Z"
   },
   {
    "duration": 31,
    "start_time": "2022-03-04T21:05:27.675Z"
   },
   {
    "duration": 227,
    "start_time": "2022-03-04T21:08:47.165Z"
   },
   {
    "duration": 5,
    "start_time": "2022-03-04T21:09:00.708Z"
   },
   {
    "duration": 367,
    "start_time": "2022-03-06T19:31:27.436Z"
   },
   {
    "duration": 1454,
    "start_time": "2022-03-06T19:31:39.167Z"
   },
   {
    "duration": 462,
    "start_time": "2022-03-06T19:31:40.623Z"
   },
   {
    "duration": 5,
    "start_time": "2022-03-06T19:31:41.088Z"
   },
   {
    "duration": 888,
    "start_time": "2022-03-06T19:31:41.096Z"
   },
   {
    "duration": 95,
    "start_time": "2022-03-06T19:31:41.986Z"
   },
   {
    "duration": 67,
    "start_time": "2022-03-06T19:31:42.084Z"
   },
   {
    "duration": 5,
    "start_time": "2022-03-06T19:31:42.154Z"
   },
   {
    "duration": 177,
    "start_time": "2022-03-06T19:31:42.162Z"
   },
   {
    "duration": 12,
    "start_time": "2022-03-06T19:31:42.342Z"
   },
   {
    "duration": 41,
    "start_time": "2022-03-06T19:31:42.357Z"
   },
   {
    "duration": 12,
    "start_time": "2022-03-06T19:31:42.400Z"
   },
   {
    "duration": 74,
    "start_time": "2022-03-06T19:31:42.415Z"
   },
   {
    "duration": 3,
    "start_time": "2022-03-06T19:31:42.491Z"
   },
   {
    "duration": 14,
    "start_time": "2022-03-06T19:31:42.496Z"
   },
   {
    "duration": 61,
    "start_time": "2022-03-06T19:31:42.512Z"
   },
   {
    "duration": 28,
    "start_time": "2022-03-06T19:31:42.576Z"
   },
   {
    "duration": 4,
    "start_time": "2022-03-06T19:31:42.606Z"
   },
   {
    "duration": 34,
    "start_time": "2022-03-06T19:32:04.347Z"
   },
   {
    "duration": 10,
    "start_time": "2022-03-06T19:33:47.486Z"
   },
   {
    "duration": 10,
    "start_time": "2022-03-06T19:33:57.056Z"
   },
   {
    "duration": 11,
    "start_time": "2022-03-06T19:34:54.285Z"
   },
   {
    "duration": 28,
    "start_time": "2022-03-06T20:32:48.127Z"
   },
   {
    "duration": 31,
    "start_time": "2022-03-06T20:32:56.265Z"
   },
   {
    "duration": 23,
    "start_time": "2022-03-06T20:37:50.101Z"
   },
   {
    "duration": 7334,
    "start_time": "2022-03-06T20:47:05.534Z"
   },
   {
    "duration": 28,
    "start_time": "2022-03-06T20:47:16.687Z"
   },
   {
    "duration": 21,
    "start_time": "2022-03-06T20:47:30.694Z"
   },
   {
    "duration": 26,
    "start_time": "2022-03-06T20:47:41.965Z"
   },
   {
    "duration": 27,
    "start_time": "2022-03-06T20:47:50.113Z"
   },
   {
    "duration": 25,
    "start_time": "2022-03-06T20:48:23.377Z"
   },
   {
    "duration": 27,
    "start_time": "2022-03-06T20:48:32.869Z"
   },
   {
    "duration": 35,
    "start_time": "2022-03-06T20:50:32.846Z"
   },
   {
    "duration": 29,
    "start_time": "2022-03-06T20:51:29.104Z"
   },
   {
    "duration": 29,
    "start_time": "2022-03-06T20:55:30.894Z"
   },
   {
    "duration": 14,
    "start_time": "2022-03-06T20:59:01.676Z"
   },
   {
    "duration": 16,
    "start_time": "2022-03-06T20:59:06.996Z"
   },
   {
    "duration": 14,
    "start_time": "2022-03-06T20:59:12.876Z"
   },
   {
    "duration": 16,
    "start_time": "2022-03-06T20:59:38.234Z"
   },
   {
    "duration": 333,
    "start_time": "2022-03-06T21:14:02.526Z"
   },
   {
    "duration": 32,
    "start_time": "2022-03-06T21:14:07.566Z"
   },
   {
    "duration": 12,
    "start_time": "2022-03-06T21:19:35.767Z"
   },
   {
    "duration": 24,
    "start_time": "2022-03-06T21:20:11.875Z"
   },
   {
    "duration": 20,
    "start_time": "2022-03-06T21:20:22.904Z"
   },
   {
    "duration": 10,
    "start_time": "2022-03-06T21:21:34.818Z"
   },
   {
    "duration": 24,
    "start_time": "2022-03-06T21:23:13.166Z"
   },
   {
    "duration": 8,
    "start_time": "2022-03-06T21:23:28.854Z"
   },
   {
    "duration": 9,
    "start_time": "2022-03-06T21:23:40.056Z"
   },
   {
    "duration": 10,
    "start_time": "2022-03-06T21:25:10.265Z"
   },
   {
    "duration": 8,
    "start_time": "2022-03-06T21:25:14.606Z"
   },
   {
    "duration": 10,
    "start_time": "2022-03-06T21:25:17.395Z"
   },
   {
    "duration": 2219,
    "start_time": "2022-03-07T11:43:24.257Z"
   },
   {
    "duration": 1005,
    "start_time": "2022-03-07T11:43:26.478Z"
   },
   {
    "duration": 4,
    "start_time": "2022-03-07T11:43:27.485Z"
   },
   {
    "duration": 659,
    "start_time": "2022-03-07T11:43:27.491Z"
   },
   {
    "duration": 30,
    "start_time": "2022-03-07T11:43:28.152Z"
   },
   {
    "duration": 57,
    "start_time": "2022-03-07T11:43:28.183Z"
   },
   {
    "duration": 6,
    "start_time": "2022-03-07T11:43:28.241Z"
   },
   {
    "duration": 125,
    "start_time": "2022-03-07T11:43:28.248Z"
   },
   {
    "duration": 8,
    "start_time": "2022-03-07T11:43:28.375Z"
   },
   {
    "duration": 35,
    "start_time": "2022-03-07T11:43:28.385Z"
   },
   {
    "duration": 24,
    "start_time": "2022-03-07T11:43:28.421Z"
   },
   {
    "duration": 28,
    "start_time": "2022-03-07T11:43:28.447Z"
   },
   {
    "duration": 2,
    "start_time": "2022-03-07T11:43:28.477Z"
   },
   {
    "duration": 12,
    "start_time": "2022-03-07T11:43:28.480Z"
   },
   {
    "duration": 45,
    "start_time": "2022-03-07T11:43:28.494Z"
   },
   {
    "duration": 14,
    "start_time": "2022-03-07T11:43:28.541Z"
   },
   {
    "duration": 4,
    "start_time": "2022-03-07T11:43:28.556Z"
   },
   {
    "duration": 11,
    "start_time": "2022-03-07T11:43:28.561Z"
   },
   {
    "duration": 7,
    "start_time": "2022-03-07T11:43:28.574Z"
   },
   {
    "duration": 5,
    "start_time": "2022-03-07T11:43:28.583Z"
   },
   {
    "duration": 48,
    "start_time": "2022-03-07T11:43:28.590Z"
   },
   {
    "duration": 4,
    "start_time": "2022-03-07T11:46:41.138Z"
   },
   {
    "duration": 2,
    "start_time": "2022-03-07T11:46:47.649Z"
   },
   {
    "duration": 377,
    "start_time": "2022-03-07T11:46:47.653Z"
   },
   {
    "duration": 3,
    "start_time": "2022-03-07T11:46:48.032Z"
   },
   {
    "duration": 608,
    "start_time": "2022-03-07T11:46:48.037Z"
   },
   {
    "duration": 29,
    "start_time": "2022-03-07T11:46:48.647Z"
   },
   {
    "duration": 16,
    "start_time": "2022-03-07T11:46:48.677Z"
   },
   {
    "duration": 45,
    "start_time": "2022-03-07T11:46:48.694Z"
   },
   {
    "duration": 116,
    "start_time": "2022-03-07T11:46:48.741Z"
   },
   {
    "duration": 8,
    "start_time": "2022-03-07T11:46:48.860Z"
   },
   {
    "duration": 35,
    "start_time": "2022-03-07T11:46:48.870Z"
   },
   {
    "duration": 11,
    "start_time": "2022-03-07T11:46:48.906Z"
   },
   {
    "duration": 42,
    "start_time": "2022-03-07T11:46:48.919Z"
   },
   {
    "duration": 2,
    "start_time": "2022-03-07T11:46:48.962Z"
   },
   {
    "duration": 14,
    "start_time": "2022-03-07T11:46:48.966Z"
   },
   {
    "duration": 33,
    "start_time": "2022-03-07T11:46:48.982Z"
   },
   {
    "duration": 29,
    "start_time": "2022-03-07T11:46:49.017Z"
   },
   {
    "duration": 5,
    "start_time": "2022-03-07T11:46:49.048Z"
   },
   {
    "duration": 14,
    "start_time": "2022-03-07T11:46:49.055Z"
   },
   {
    "duration": 11,
    "start_time": "2022-03-07T11:46:49.072Z"
   },
   {
    "duration": 12,
    "start_time": "2022-03-07T11:46:49.085Z"
   },
   {
    "duration": 10,
    "start_time": "2022-03-07T11:46:49.099Z"
   },
   {
    "duration": 22,
    "start_time": "2022-03-07T11:48:17.038Z"
   },
   {
    "duration": 18,
    "start_time": "2022-03-07T11:48:39.847Z"
   },
   {
    "duration": 19,
    "start_time": "2022-03-07T11:48:42.908Z"
   },
   {
    "duration": 12,
    "start_time": "2022-03-07T11:48:49.019Z"
   },
   {
    "duration": 8,
    "start_time": "2022-03-07T11:48:59.554Z"
   },
   {
    "duration": 8,
    "start_time": "2022-03-07T11:57:05.060Z"
   },
   {
    "duration": 17,
    "start_time": "2022-03-07T11:59:15.411Z"
   },
   {
    "duration": 11,
    "start_time": "2022-03-07T12:41:10.553Z"
   },
   {
    "duration": 10,
    "start_time": "2022-03-07T12:41:17.380Z"
   },
   {
    "duration": 10,
    "start_time": "2022-03-07T12:41:24.822Z"
   },
   {
    "duration": 214,
    "start_time": "2022-03-07T12:42:49.791Z"
   },
   {
    "duration": 135,
    "start_time": "2022-03-07T12:43:59.809Z"
   },
   {
    "duration": 3,
    "start_time": "2022-03-07T12:44:15.157Z"
   },
   {
    "duration": 7,
    "start_time": "2022-03-07T12:44:20.591Z"
   },
   {
    "duration": 5,
    "start_time": "2022-03-07T12:44:43.070Z"
   },
   {
    "duration": 15,
    "start_time": "2022-03-07T12:45:34.860Z"
   },
   {
    "duration": 8,
    "start_time": "2022-03-07T12:46:03.439Z"
   },
   {
    "duration": 6,
    "start_time": "2022-03-07T12:47:00.242Z"
   },
   {
    "duration": 5,
    "start_time": "2022-03-07T12:48:02.844Z"
   },
   {
    "duration": 6,
    "start_time": "2022-03-07T12:48:12.994Z"
   },
   {
    "duration": 10,
    "start_time": "2022-03-07T12:48:15.727Z"
   },
   {
    "duration": 16,
    "start_time": "2022-03-07T12:48:22.192Z"
   },
   {
    "duration": 4,
    "start_time": "2022-03-07T12:49:31.523Z"
   },
   {
    "duration": 16,
    "start_time": "2022-03-07T12:49:45.937Z"
   },
   {
    "duration": 5,
    "start_time": "2022-03-07T12:51:42.244Z"
   },
   {
    "duration": 19,
    "start_time": "2022-03-07T12:51:45.615Z"
   },
   {
    "duration": 5,
    "start_time": "2022-03-07T12:53:49.753Z"
   },
   {
    "duration": 17,
    "start_time": "2022-03-07T12:53:52.357Z"
   },
   {
    "duration": 137,
    "start_time": "2022-03-07T13:15:05.238Z"
   },
   {
    "duration": 17,
    "start_time": "2022-03-07T13:15:11.100Z"
   },
   {
    "duration": 9,
    "start_time": "2022-03-07T13:19:14.180Z"
   },
   {
    "duration": 9,
    "start_time": "2022-03-07T13:19:52.001Z"
   },
   {
    "duration": 143,
    "start_time": "2022-03-07T13:20:12.983Z"
   },
   {
    "duration": 6,
    "start_time": "2022-03-07T13:20:42.021Z"
   },
   {
    "duration": 5,
    "start_time": "2022-03-07T13:21:02.387Z"
   },
   {
    "duration": 5,
    "start_time": "2022-03-07T13:21:13.708Z"
   },
   {
    "duration": 4,
    "start_time": "2022-03-07T13:21:48.859Z"
   },
   {
    "duration": 11,
    "start_time": "2022-03-07T13:22:17.920Z"
   },
   {
    "duration": 4,
    "start_time": "2022-03-07T13:22:43.745Z"
   },
   {
    "duration": 1180,
    "start_time": "2022-03-15T19:05:53.510Z"
   },
   {
    "duration": 351,
    "start_time": "2022-03-15T19:05:54.692Z"
   },
   {
    "duration": 4,
    "start_time": "2022-03-15T19:05:55.046Z"
   },
   {
    "duration": 600,
    "start_time": "2022-03-15T19:05:55.052Z"
   },
   {
    "duration": 73,
    "start_time": "2022-03-15T19:05:55.653Z"
   },
   {
    "duration": 78,
    "start_time": "2022-03-15T19:05:55.727Z"
   },
   {
    "duration": 129,
    "start_time": "2022-03-15T19:05:55.806Z"
   },
   {
    "duration": 172,
    "start_time": "2022-03-15T19:05:55.937Z"
   },
   {
    "duration": 27,
    "start_time": "2022-03-15T19:05:56.112Z"
   },
   {
    "duration": 4,
    "start_time": "2022-03-15T19:05:56.140Z"
   },
   {
    "duration": 34,
    "start_time": "2022-03-15T19:05:56.145Z"
   },
   {
    "duration": 2,
    "start_time": "2022-03-15T19:05:56.180Z"
   },
   {
    "duration": 36,
    "start_time": "2022-03-15T19:05:56.184Z"
   },
   {
    "duration": 10,
    "start_time": "2022-03-15T19:05:56.222Z"
   },
   {
    "duration": 18,
    "start_time": "2022-03-15T19:05:56.233Z"
   },
   {
    "duration": 27,
    "start_time": "2022-03-15T19:05:56.252Z"
   },
   {
    "duration": 26,
    "start_time": "2022-03-15T19:05:56.280Z"
   },
   {
    "duration": 54,
    "start_time": "2022-03-15T19:05:56.307Z"
   },
   {
    "duration": 46,
    "start_time": "2022-03-15T19:05:56.363Z"
   },
   {
    "duration": 75,
    "start_time": "2022-03-15T19:05:56.411Z"
   },
   {
    "duration": 10,
    "start_time": "2022-03-15T19:14:50.521Z"
   },
   {
    "duration": 4,
    "start_time": "2022-03-15T19:15:28.270Z"
   },
   {
    "duration": 6473,
    "start_time": "2022-03-15T19:15:41.081Z"
   },
   {
    "duration": 6495,
    "start_time": "2022-03-15T19:15:50.901Z"
   },
   {
    "duration": 7,
    "start_time": "2022-03-15T19:17:12.348Z"
   },
   {
    "duration": 3,
    "start_time": "2022-03-15T19:25:24.649Z"
   },
   {
    "duration": 16,
    "start_time": "2022-03-15T19:25:28.169Z"
   },
   {
    "duration": 8,
    "start_time": "2022-03-15T19:28:22.870Z"
   },
   {
    "duration": 16,
    "start_time": "2022-03-15T19:28:25.306Z"
   },
   {
    "duration": 271,
    "start_time": "2022-03-15T19:28:49.393Z"
   },
   {
    "duration": 4,
    "start_time": "2022-03-15T19:29:02.671Z"
   },
   {
    "duration": 16,
    "start_time": "2022-03-15T19:29:06.041Z"
   },
   {
    "duration": 4,
    "start_time": "2022-03-15T19:29:26.423Z"
   },
   {
    "duration": 15,
    "start_time": "2022-03-15T19:29:28.669Z"
   },
   {
    "duration": 5,
    "start_time": "2022-03-15T19:30:10.040Z"
   },
   {
    "duration": 22,
    "start_time": "2022-03-15T19:30:11.985Z"
   },
   {
    "duration": 4,
    "start_time": "2022-03-15T19:30:36.495Z"
   },
   {
    "duration": 504,
    "start_time": "2022-03-15T19:30:36.501Z"
   },
   {
    "duration": 4,
    "start_time": "2022-03-15T19:30:37.007Z"
   },
   {
    "duration": 591,
    "start_time": "2022-03-15T19:30:37.013Z"
   },
   {
    "duration": 30,
    "start_time": "2022-03-15T19:30:37.606Z"
   },
   {
    "duration": 21,
    "start_time": "2022-03-15T19:30:37.638Z"
   },
   {
    "duration": 40,
    "start_time": "2022-03-15T19:30:37.662Z"
   },
   {
    "duration": 102,
    "start_time": "2022-03-15T19:30:37.705Z"
   },
   {
    "duration": 24,
    "start_time": "2022-03-15T19:30:37.808Z"
   },
   {
    "duration": 3,
    "start_time": "2022-03-15T19:30:37.834Z"
   },
   {
    "duration": 21,
    "start_time": "2022-03-15T19:30:37.839Z"
   },
   {
    "duration": 3,
    "start_time": "2022-03-15T19:30:37.861Z"
   },
   {
    "duration": 40,
    "start_time": "2022-03-15T19:30:37.865Z"
   },
   {
    "duration": 10,
    "start_time": "2022-03-15T19:30:37.906Z"
   },
   {
    "duration": 7,
    "start_time": "2022-03-15T19:30:37.918Z"
   },
   {
    "duration": 7,
    "start_time": "2022-03-15T19:30:37.926Z"
   },
   {
    "duration": 4,
    "start_time": "2022-03-15T19:30:37.935Z"
   },
   {
    "duration": 7,
    "start_time": "2022-03-15T19:30:37.940Z"
   },
   {
    "duration": 5,
    "start_time": "2022-03-15T19:30:52.537Z"
   },
   {
    "duration": 14,
    "start_time": "2022-03-15T19:30:54.922Z"
   },
   {
    "duration": 4,
    "start_time": "2022-03-15T19:31:17.842Z"
   },
   {
    "duration": 380,
    "start_time": "2022-03-15T19:31:17.848Z"
   },
   {
    "duration": 3,
    "start_time": "2022-03-15T19:31:18.230Z"
   },
   {
    "duration": 499,
    "start_time": "2022-03-15T19:31:18.235Z"
   },
   {
    "duration": 66,
    "start_time": "2022-03-15T19:31:18.736Z"
   },
   {
    "duration": 14,
    "start_time": "2022-03-15T19:31:18.804Z"
   },
   {
    "duration": 8,
    "start_time": "2022-03-15T19:31:18.819Z"
   },
   {
    "duration": 109,
    "start_time": "2022-03-15T19:31:18.829Z"
   },
   {
    "duration": 24,
    "start_time": "2022-03-15T19:31:18.940Z"
   },
   {
    "duration": 3,
    "start_time": "2022-03-15T19:31:18.966Z"
   },
   {
    "duration": 35,
    "start_time": "2022-03-15T19:31:18.970Z"
   },
   {
    "duration": 2,
    "start_time": "2022-03-15T19:31:19.007Z"
   },
   {
    "duration": 20,
    "start_time": "2022-03-15T19:31:19.010Z"
   },
   {
    "duration": 11,
    "start_time": "2022-03-15T19:31:19.031Z"
   },
   {
    "duration": 6,
    "start_time": "2022-03-15T19:31:19.043Z"
   },
   {
    "duration": 6,
    "start_time": "2022-03-15T19:31:19.051Z"
   },
   {
    "duration": 6,
    "start_time": "2022-03-15T19:31:19.058Z"
   },
   {
    "duration": 38,
    "start_time": "2022-03-15T19:31:19.066Z"
   },
   {
    "duration": 5,
    "start_time": "2022-03-15T19:31:42.320Z"
   },
   {
    "duration": 5,
    "start_time": "2022-03-15T19:31:44.556Z"
   },
   {
    "duration": 22,
    "start_time": "2022-03-15T19:31:47.116Z"
   },
   {
    "duration": 6,
    "start_time": "2022-03-15T19:38:16.756Z"
   },
   {
    "duration": 22,
    "start_time": "2022-03-15T19:38:38.277Z"
   },
   {
    "duration": 4,
    "start_time": "2022-03-15T19:40:16.251Z"
   },
   {
    "duration": 3,
    "start_time": "2022-03-15T19:40:22.088Z"
   },
   {
    "duration": 12238,
    "start_time": "2022-03-15T19:40:22.093Z"
   },
   {
    "duration": -4110,
    "start_time": "2022-03-15T19:40:38.444Z"
   },
   {
    "duration": -4119,
    "start_time": "2022-03-15T19:40:38.454Z"
   },
   {
    "duration": -4125,
    "start_time": "2022-03-15T19:40:38.462Z"
   },
   {
    "duration": -4126,
    "start_time": "2022-03-15T19:40:38.465Z"
   },
   {
    "duration": -4127,
    "start_time": "2022-03-15T19:40:38.467Z"
   },
   {
    "duration": -4197,
    "start_time": "2022-03-15T19:40:38.539Z"
   },
   {
    "duration": -4203,
    "start_time": "2022-03-15T19:40:38.546Z"
   },
   {
    "duration": -4220,
    "start_time": "2022-03-15T19:40:38.564Z"
   },
   {
    "duration": -4223,
    "start_time": "2022-03-15T19:40:38.568Z"
   },
   {
    "duration": -4297,
    "start_time": "2022-03-15T19:40:38.643Z"
   },
   {
    "duration": -4304,
    "start_time": "2022-03-15T19:40:38.651Z"
   },
   {
    "duration": -4309,
    "start_time": "2022-03-15T19:40:38.657Z"
   },
   {
    "duration": -4311,
    "start_time": "2022-03-15T19:40:38.660Z"
   },
   {
    "duration": 3,
    "start_time": "2022-03-15T19:41:05.736Z"
   },
   {
    "duration": 54,
    "start_time": "2022-03-15T19:41:10.840Z"
   },
   {
    "duration": 1846,
    "start_time": "2022-03-15T19:41:10.895Z"
   },
   {
    "duration": 1709,
    "start_time": "2022-03-15T19:41:12.743Z"
   },
   {
    "duration": 1540,
    "start_time": "2022-03-15T19:41:14.454Z"
   },
   {
    "duration": 1607,
    "start_time": "2022-03-15T19:41:15.996Z"
   },
   {
    "duration": 612,
    "start_time": "2022-03-15T19:41:17.604Z"
   },
   {
    "duration": 484,
    "start_time": "2022-03-15T19:41:18.217Z"
   },
   {
    "duration": 299,
    "start_time": "2022-03-15T19:41:18.703Z"
   },
   {
    "duration": 199,
    "start_time": "2022-03-15T19:41:19.004Z"
   },
   {
    "duration": 170,
    "start_time": "2022-03-15T19:41:19.205Z"
   },
   {
    "duration": 281,
    "start_time": "2022-03-15T19:41:19.377Z"
   },
   {
    "duration": 285,
    "start_time": "2022-03-15T19:41:19.660Z"
   },
   {
    "duration": 93,
    "start_time": "2022-03-15T19:41:19.946Z"
   },
   {
    "duration": 211,
    "start_time": "2022-03-15T19:41:20.041Z"
   },
   {
    "duration": 5,
    "start_time": "2022-03-15T19:44:39.538Z"
   },
   {
    "duration": 18,
    "start_time": "2022-03-15T19:44:42.388Z"
   },
   {
    "duration": 10,
    "start_time": "2022-03-15T19:45:06.249Z"
   },
   {
    "duration": 14,
    "start_time": "2022-03-15T19:45:23.050Z"
   },
   {
    "duration": 9,
    "start_time": "2022-03-15T19:45:30.421Z"
   },
   {
    "duration": 15,
    "start_time": "2022-03-15T19:46:08.099Z"
   },
   {
    "duration": 254,
    "start_time": "2022-03-15T19:49:10.693Z"
   },
   {
    "duration": 5,
    "start_time": "2022-03-15T19:50:08.842Z"
   },
   {
    "duration": 14,
    "start_time": "2022-03-15T19:50:10.892Z"
   },
   {
    "duration": 7,
    "start_time": "2022-03-15T19:50:34.237Z"
   },
   {
    "duration": 14,
    "start_time": "2022-03-15T19:50:37.002Z"
   },
   {
    "duration": 7,
    "start_time": "2022-03-15T19:50:50.517Z"
   },
   {
    "duration": 15,
    "start_time": "2022-03-15T19:51:14.591Z"
   },
   {
    "duration": 4,
    "start_time": "2022-03-15T19:53:40.504Z"
   },
   {
    "duration": 7,
    "start_time": "2022-03-15T19:53:43.174Z"
   },
   {
    "duration": 16,
    "start_time": "2022-03-15T19:53:45.539Z"
   },
   {
    "duration": 15,
    "start_time": "2022-03-15T20:03:09.544Z"
   },
   {
    "duration": 5,
    "start_time": "2022-03-15T20:29:19.034Z"
   },
   {
    "duration": 3,
    "start_time": "2022-03-15T20:29:21.594Z"
   },
   {
    "duration": 3566,
    "start_time": "2022-03-15T20:29:22.207Z"
   },
   {
    "duration": 2772,
    "start_time": "2022-03-15T20:29:25.774Z"
   },
   {
    "duration": 20,
    "start_time": "2022-03-15T20:30:04.802Z"
   },
   {
    "duration": 2,
    "start_time": "2022-03-15T20:30:24.570Z"
   },
   {
    "duration": 4880,
    "start_time": "2022-03-15T20:30:24.574Z"
   },
   {
    "duration": 4478,
    "start_time": "2022-03-15T20:30:29.456Z"
   },
   {
    "duration": 4822,
    "start_time": "2022-03-15T20:30:33.935Z"
   },
   {
    "duration": 5435,
    "start_time": "2022-03-15T20:30:38.758Z"
   },
   {
    "duration": 4521,
    "start_time": "2022-03-15T20:30:44.194Z"
   },
   {
    "duration": 4691,
    "start_time": "2022-03-15T20:30:48.717Z"
   },
   {
    "duration": 5379,
    "start_time": "2022-03-15T20:30:53.410Z"
   },
   {
    "duration": 3926,
    "start_time": "2022-03-15T20:30:58.792Z"
   },
   {
    "duration": 4111,
    "start_time": "2022-03-15T20:31:02.721Z"
   },
   {
    "duration": 2989,
    "start_time": "2022-03-15T20:31:06.834Z"
   },
   {
    "duration": 5697,
    "start_time": "2022-03-15T20:31:09.825Z"
   },
   {
    "duration": 5661,
    "start_time": "2022-03-15T20:31:15.524Z"
   },
   {
    "duration": 6604,
    "start_time": "2022-03-15T20:31:21.186Z"
   },
   {
    "duration": 5086,
    "start_time": "2022-03-15T20:31:27.791Z"
   },
   {
    "duration": 4146,
    "start_time": "2022-03-15T20:31:32.879Z"
   },
   {
    "duration": 5028,
    "start_time": "2022-03-15T20:31:37.027Z"
   },
   {
    "duration": 6234,
    "start_time": "2022-03-15T20:31:42.057Z"
   },
   {
    "duration": 6455,
    "start_time": "2022-03-15T20:31:48.292Z"
   },
   {
    "duration": 15100,
    "start_time": "2022-03-15T20:31:54.748Z"
   },
   {
    "duration": 6316,
    "start_time": "2022-03-15T20:32:18.472Z"
   },
   {
    "duration": 87,
    "start_time": "2022-03-15T20:33:51.025Z"
   },
   {
    "duration": 3,
    "start_time": "2022-03-15T20:55:07.041Z"
   },
   {
    "duration": 385,
    "start_time": "2022-03-15T20:55:07.046Z"
   },
   {
    "duration": 3,
    "start_time": "2022-03-15T20:55:07.433Z"
   },
   {
    "duration": 505,
    "start_time": "2022-03-15T20:55:07.438Z"
   },
   {
    "duration": 16,
    "start_time": "2022-03-15T20:55:07.944Z"
   },
   {
    "duration": 76,
    "start_time": "2022-03-15T20:55:08.002Z"
   },
   {
    "duration": 163,
    "start_time": "2022-03-15T20:55:08.080Z"
   },
   {
    "duration": 50,
    "start_time": "2022-03-15T20:55:08.244Z"
   },
   {
    "duration": 44,
    "start_time": "2022-03-15T20:55:08.297Z"
   },
   {
    "duration": 118,
    "start_time": "2022-03-15T20:55:08.342Z"
   },
   {
    "duration": 59,
    "start_time": "2022-03-15T20:55:08.462Z"
   },
   {
    "duration": 124,
    "start_time": "2022-03-15T20:55:08.522Z"
   },
   {
    "duration": 69,
    "start_time": "2022-03-15T20:55:08.648Z"
   },
   {
    "duration": 39,
    "start_time": "2022-03-15T20:55:08.719Z"
   },
   {
    "duration": 74,
    "start_time": "2022-03-15T20:55:08.760Z"
   },
   {
    "duration": 53,
    "start_time": "2022-03-15T20:55:08.836Z"
   },
   {
    "duration": 68,
    "start_time": "2022-03-15T20:55:08.890Z"
   },
   {
    "duration": 92,
    "start_time": "2022-03-15T20:55:08.959Z"
   },
   {
    "duration": 95,
    "start_time": "2022-03-15T20:55:09.053Z"
   },
   {
    "duration": 82,
    "start_time": "2022-03-15T20:55:09.150Z"
   },
   {
    "duration": 119,
    "start_time": "2022-03-15T20:55:09.233Z"
   },
   {
    "duration": 92,
    "start_time": "2022-03-15T20:55:09.354Z"
   },
   {
    "duration": 545,
    "start_time": "2022-03-15T21:02:15.371Z"
   },
   {
    "duration": 5,
    "start_time": "2022-03-15T21:02:48.042Z"
   },
   {
    "duration": 243,
    "start_time": "2022-03-15T21:02:53.932Z"
   },
   {
    "duration": 6,
    "start_time": "2022-03-15T21:04:46.800Z"
   },
   {
    "duration": 4,
    "start_time": "2022-03-15T21:04:49.568Z"
   },
   {
    "duration": 6,
    "start_time": "2022-03-15T21:04:53.968Z"
   },
   {
    "duration": 19,
    "start_time": "2022-03-15T21:04:56.223Z"
   },
   {
    "duration": 6,
    "start_time": "2022-03-15T21:05:28.712Z"
   },
   {
    "duration": 4,
    "start_time": "2022-03-15T21:05:29.324Z"
   },
   {
    "duration": 6,
    "start_time": "2022-03-15T21:05:29.914Z"
   },
   {
    "duration": 20,
    "start_time": "2022-03-15T21:05:31.140Z"
   },
   {
    "duration": 3,
    "start_time": "2022-03-15T21:07:12.335Z"
   },
   {
    "duration": 360,
    "start_time": "2022-03-15T21:07:12.340Z"
   },
   {
    "duration": 4,
    "start_time": "2022-03-15T21:07:12.702Z"
   },
   {
    "duration": 531,
    "start_time": "2022-03-15T21:07:12.708Z"
   },
   {
    "duration": 14,
    "start_time": "2022-03-15T21:07:13.240Z"
   },
   {
    "duration": 3,
    "start_time": "2022-03-15T21:07:13.255Z"
   },
   {
    "duration": 141,
    "start_time": "2022-03-15T21:07:13.260Z"
   },
   {
    "duration": 23,
    "start_time": "2022-03-15T21:07:13.403Z"
   },
   {
    "duration": 3,
    "start_time": "2022-03-15T21:07:13.427Z"
   },
   {
    "duration": 19,
    "start_time": "2022-03-15T21:07:13.432Z"
   },
   {
    "duration": 2,
    "start_time": "2022-03-15T21:07:13.452Z"
   },
   {
    "duration": 18,
    "start_time": "2022-03-15T21:07:13.456Z"
   },
   {
    "duration": 33,
    "start_time": "2022-03-15T21:07:13.476Z"
   },
   {
    "duration": 6,
    "start_time": "2022-03-15T21:07:13.510Z"
   },
   {
    "duration": 6,
    "start_time": "2022-03-15T21:07:13.518Z"
   },
   {
    "duration": 4,
    "start_time": "2022-03-15T21:07:13.525Z"
   },
   {
    "duration": 7,
    "start_time": "2022-03-15T21:07:13.530Z"
   },
   {
    "duration": 7,
    "start_time": "2022-03-15T21:07:13.539Z"
   },
   {
    "duration": 11,
    "start_time": "2022-03-15T21:07:13.549Z"
   },
   {
    "duration": 10,
    "start_time": "2022-03-15T21:07:13.561Z"
   },
   {
    "duration": 39,
    "start_time": "2022-03-15T21:07:13.573Z"
   },
   {
    "duration": 3,
    "start_time": "2022-03-15T21:07:13.613Z"
   },
   {
    "duration": 266,
    "start_time": "2022-03-15T21:07:13.618Z"
   },
   {
    "duration": 248,
    "start_time": "2022-03-15T21:09:59.532Z"
   },
   {
    "duration": 2084,
    "start_time": "2022-03-16T17:49:40.710Z"
   },
   {
    "duration": 633,
    "start_time": "2022-03-16T17:49:42.797Z"
   },
   {
    "duration": 7,
    "start_time": "2022-03-16T17:49:43.434Z"
   },
   {
    "duration": 1152,
    "start_time": "2022-03-16T17:49:43.445Z"
   },
   {
    "duration": 86,
    "start_time": "2022-03-16T17:49:44.601Z"
   },
   {
    "duration": 32,
    "start_time": "2022-03-16T17:49:44.691Z"
   },
   {
    "duration": 239,
    "start_time": "2022-03-16T17:49:44.726Z"
   },
   {
    "duration": 59,
    "start_time": "2022-03-16T17:49:44.970Z"
   },
   {
    "duration": 22,
    "start_time": "2022-03-16T17:49:45.032Z"
   },
   {
    "duration": 65,
    "start_time": "2022-03-16T17:49:45.057Z"
   },
   {
    "duration": 4,
    "start_time": "2022-03-16T17:49:45.125Z"
   },
   {
    "duration": 57,
    "start_time": "2022-03-16T17:49:45.131Z"
   },
   {
    "duration": 26,
    "start_time": "2022-03-16T17:49:45.191Z"
   },
   {
    "duration": 46,
    "start_time": "2022-03-16T17:49:45.220Z"
   },
   {
    "duration": 27,
    "start_time": "2022-03-16T17:49:45.269Z"
   },
   {
    "duration": 9,
    "start_time": "2022-03-16T17:49:45.299Z"
   },
   {
    "duration": 23,
    "start_time": "2022-03-16T17:49:45.311Z"
   },
   {
    "duration": 28,
    "start_time": "2022-03-16T17:49:45.337Z"
   },
   {
    "duration": 11,
    "start_time": "2022-03-16T17:49:45.368Z"
   },
   {
    "duration": 26,
    "start_time": "2022-03-16T17:49:45.382Z"
   },
   {
    "duration": 60,
    "start_time": "2022-03-16T17:49:45.410Z"
   },
   {
    "duration": 8,
    "start_time": "2022-03-16T17:49:45.473Z"
   },
   {
    "duration": 690,
    "start_time": "2022-03-16T17:49:53.382Z"
   },
   {
    "duration": 508,
    "start_time": "2022-03-16T17:50:37.312Z"
   },
   {
    "duration": 239,
    "start_time": "2022-03-16T17:52:08.961Z"
   },
   {
    "duration": 45,
    "start_time": "2022-03-16T17:52:52.890Z"
   },
   {
    "duration": 14,
    "start_time": "2022-03-16T17:53:05.281Z"
   },
   {
    "duration": 315,
    "start_time": "2022-03-16T17:58:50.369Z"
   },
   {
    "duration": 699,
    "start_time": "2022-03-16T18:08:44.498Z"
   },
   {
    "duration": 452,
    "start_time": "2022-03-16T18:08:57.705Z"
   },
   {
    "duration": 478,
    "start_time": "2022-03-16T18:09:05.918Z"
   },
   {
    "duration": 581,
    "start_time": "2022-03-16T18:09:18.730Z"
   },
   {
    "duration": 414,
    "start_time": "2022-03-16T18:09:27.199Z"
   },
   {
    "duration": 479,
    "start_time": "2022-03-16T18:09:33.958Z"
   },
   {
    "duration": 309,
    "start_time": "2022-03-16T18:09:41.125Z"
   },
   {
    "duration": 532,
    "start_time": "2022-03-16T18:09:52.593Z"
   },
   {
    "duration": 347,
    "start_time": "2022-03-16T18:10:08.377Z"
   },
   {
    "duration": 129,
    "start_time": "2022-03-16T18:20:55.124Z"
   },
   {
    "duration": 89,
    "start_time": "2022-03-16T18:21:53.111Z"
   },
   {
    "duration": 62,
    "start_time": "2022-03-16T18:22:25.850Z"
   },
   {
    "duration": 223,
    "start_time": "2022-03-16T18:24:06.448Z"
   },
   {
    "duration": 25,
    "start_time": "2022-03-16T18:24:19.640Z"
   },
   {
    "duration": 68,
    "start_time": "2022-03-16T18:24:58.631Z"
   },
   {
    "duration": 54,
    "start_time": "2022-03-16T18:25:41.029Z"
   },
   {
    "duration": 355,
    "start_time": "2022-03-16T18:51:18.361Z"
   },
   {
    "duration": 589,
    "start_time": "2022-03-16T19:16:07.781Z"
   },
   {
    "duration": 520,
    "start_time": "2022-03-16T19:17:21.194Z"
   },
   {
    "duration": 515,
    "start_time": "2022-03-16T19:23:13.588Z"
   },
   {
    "duration": 489,
    "start_time": "2022-03-16T19:26:38.866Z"
   },
   {
    "duration": 665,
    "start_time": "2022-03-16T19:27:28.874Z"
   },
   {
    "duration": 300,
    "start_time": "2022-03-16T19:29:25.602Z"
   },
   {
    "duration": 819,
    "start_time": "2022-03-16T19:30:06.022Z"
   },
   {
    "duration": 701,
    "start_time": "2022-03-16T19:31:37.980Z"
   },
   {
    "duration": 629,
    "start_time": "2022-03-16T19:32:09.625Z"
   },
   {
    "duration": 373,
    "start_time": "2022-03-16T19:32:32.252Z"
   },
   {
    "duration": 362,
    "start_time": "2022-03-16T19:32:49.885Z"
   },
   {
    "duration": 796,
    "start_time": "2022-03-16T19:33:51.947Z"
   },
   {
    "duration": 669,
    "start_time": "2022-03-16T19:34:11.809Z"
   },
   {
    "duration": 596,
    "start_time": "2022-03-16T19:35:17.321Z"
   },
   {
    "duration": 857,
    "start_time": "2022-03-16T19:35:35.453Z"
   },
   {
    "duration": 634,
    "start_time": "2022-03-16T19:37:20.302Z"
   },
   {
    "duration": 672,
    "start_time": "2022-03-16T19:37:28.018Z"
   },
   {
    "duration": 677,
    "start_time": "2022-03-16T19:37:53.993Z"
   },
   {
    "duration": 860,
    "start_time": "2022-03-16T19:39:48.067Z"
   },
   {
    "duration": 614,
    "start_time": "2022-03-16T19:42:21.768Z"
   },
   {
    "duration": 348,
    "start_time": "2022-03-16T19:42:34.890Z"
   },
   {
    "duration": 346,
    "start_time": "2022-03-16T19:42:48.201Z"
   },
   {
    "duration": 350,
    "start_time": "2022-03-16T19:43:03.140Z"
   },
   {
    "duration": 605,
    "start_time": "2022-03-16T19:43:21.468Z"
   },
   {
    "duration": 539,
    "start_time": "2022-03-16T19:43:25.299Z"
   },
   {
    "duration": 546,
    "start_time": "2022-03-16T19:44:23.320Z"
   },
   {
    "duration": 342,
    "start_time": "2022-03-16T19:44:41.749Z"
   },
   {
    "duration": 351,
    "start_time": "2022-03-16T19:44:49.853Z"
   },
   {
    "duration": 566,
    "start_time": "2022-03-16T19:45:11.149Z"
   },
   {
    "duration": 431,
    "start_time": "2022-03-16T19:45:43.921Z"
   },
   {
    "duration": 409,
    "start_time": "2022-03-16T19:45:55.785Z"
   },
   {
    "duration": 88,
    "start_time": "2022-03-16T19:46:39.962Z"
   },
   {
    "duration": 418,
    "start_time": "2022-03-16T19:47:01.015Z"
   },
   {
    "duration": 428,
    "start_time": "2022-03-16T19:47:11.154Z"
   },
   {
    "duration": 405,
    "start_time": "2022-03-16T19:47:17.234Z"
   },
   {
    "duration": 404,
    "start_time": "2022-03-16T19:47:51.626Z"
   },
   {
    "duration": 431,
    "start_time": "2022-03-16T19:48:16.214Z"
   },
   {
    "duration": 413,
    "start_time": "2022-03-16T19:48:22.851Z"
   },
   {
    "duration": 438,
    "start_time": "2022-03-16T19:48:28.873Z"
   },
   {
    "duration": 1400,
    "start_time": "2022-03-16T20:28:03.848Z"
   },
   {
    "duration": 1354,
    "start_time": "2022-03-16T20:29:40.214Z"
   },
   {
    "duration": 1465,
    "start_time": "2022-03-16T20:29:58.329Z"
   },
   {
    "duration": 1174,
    "start_time": "2022-03-16T20:30:23.214Z"
   },
   {
    "duration": 2083,
    "start_time": "2022-03-16T20:30:49.427Z"
   },
   {
    "duration": 48,
    "start_time": "2022-03-20T12:18:06.081Z"
   },
   {
    "duration": 1243,
    "start_time": "2022-03-20T12:18:11.226Z"
   },
   {
    "duration": 402,
    "start_time": "2022-03-20T12:18:12.471Z"
   },
   {
    "duration": 4,
    "start_time": "2022-03-20T12:18:12.874Z"
   },
   {
    "duration": 626,
    "start_time": "2022-03-20T12:18:12.880Z"
   },
   {
    "duration": 16,
    "start_time": "2022-03-20T12:18:13.508Z"
   },
   {
    "duration": 4,
    "start_time": "2022-03-20T12:18:13.525Z"
   },
   {
    "duration": 137,
    "start_time": "2022-03-20T12:18:13.531Z"
   },
   {
    "duration": 41,
    "start_time": "2022-03-20T12:18:13.669Z"
   },
   {
    "duration": 4,
    "start_time": "2022-03-20T12:18:13.712Z"
   },
   {
    "duration": 26,
    "start_time": "2022-03-20T12:18:13.717Z"
   },
   {
    "duration": 3,
    "start_time": "2022-03-20T12:18:13.744Z"
   },
   {
    "duration": 20,
    "start_time": "2022-03-20T12:18:13.748Z"
   },
   {
    "duration": 36,
    "start_time": "2022-03-20T12:18:13.770Z"
   },
   {
    "duration": 7,
    "start_time": "2022-03-20T12:18:13.809Z"
   },
   {
    "duration": 8,
    "start_time": "2022-03-20T12:18:13.817Z"
   },
   {
    "duration": 5,
    "start_time": "2022-03-20T12:18:13.827Z"
   },
   {
    "duration": 7,
    "start_time": "2022-03-20T12:18:13.833Z"
   },
   {
    "duration": 9,
    "start_time": "2022-03-20T12:18:13.841Z"
   },
   {
    "duration": 8,
    "start_time": "2022-03-20T12:18:13.852Z"
   },
   {
    "duration": 13,
    "start_time": "2022-03-20T12:18:13.861Z"
   },
   {
    "duration": 41,
    "start_time": "2022-03-20T12:18:13.875Z"
   },
   {
    "duration": 4,
    "start_time": "2022-03-20T12:18:13.918Z"
   },
   {
    "duration": 151,
    "start_time": "2022-03-20T12:18:13.923Z"
   },
   {
    "duration": 80,
    "start_time": "2022-03-20T12:18:14.076Z"
   },
   {
    "duration": 0,
    "start_time": "2022-03-20T12:18:14.157Z"
   },
   {
    "duration": 22,
    "start_time": "2022-03-20T12:19:01.684Z"
   },
   {
    "duration": 420,
    "start_time": "2022-03-20T12:19:18.171Z"
   },
   {
    "duration": 404,
    "start_time": "2022-03-20T12:19:32.207Z"
   },
   {
    "duration": 13,
    "start_time": "2022-03-20T14:36:26.558Z"
   },
   {
    "duration": 27,
    "start_time": "2022-03-20T14:36:46.014Z"
   },
   {
    "duration": 23,
    "start_time": "2022-03-20T14:37:28.302Z"
   },
   {
    "duration": 26,
    "start_time": "2022-03-20T14:37:50.318Z"
   },
   {
    "duration": 142,
    "start_time": "2022-03-20T15:08:08.347Z"
   },
   {
    "duration": 538,
    "start_time": "2022-03-20T15:08:18.063Z"
   },
   {
    "duration": 497,
    "start_time": "2022-03-20T15:08:36.290Z"
   },
   {
    "duration": 384,
    "start_time": "2022-03-20T15:08:54.340Z"
   },
   {
    "duration": 18,
    "start_time": "2022-03-20T15:09:44.615Z"
   },
   {
    "duration": 140,
    "start_time": "2022-03-20T15:10:04.397Z"
   },
   {
    "duration": 559,
    "start_time": "2022-03-20T15:10:12.895Z"
   },
   {
    "duration": 497,
    "start_time": "2022-03-20T15:10:20.883Z"
   },
   {
    "duration": 487,
    "start_time": "2022-03-20T15:10:56.783Z"
   },
   {
    "duration": 462,
    "start_time": "2022-03-20T15:12:25.359Z"
   },
   {
    "duration": 544,
    "start_time": "2022-03-20T15:12:46.372Z"
   },
   {
    "duration": 12,
    "start_time": "2022-03-20T15:21:51.537Z"
   },
   {
    "duration": 3,
    "start_time": "2022-03-20T15:22:27.375Z"
   },
   {
    "duration": 16,
    "start_time": "2022-03-20T15:22:33.926Z"
   },
   {
    "duration": 12,
    "start_time": "2022-03-20T15:23:08.547Z"
   },
   {
    "duration": 7,
    "start_time": "2022-03-20T15:33:50.688Z"
   },
   {
    "duration": 9,
    "start_time": "2022-03-20T15:34:44.658Z"
   },
   {
    "duration": 3,
    "start_time": "2022-03-20T15:34:53.185Z"
   },
   {
    "duration": 5,
    "start_time": "2022-03-20T15:35:04.152Z"
   },
   {
    "duration": 12,
    "start_time": "2022-03-20T15:36:01.966Z"
   },
   {
    "duration": 12,
    "start_time": "2022-03-20T15:36:24.818Z"
   },
   {
    "duration": 13,
    "start_time": "2022-03-20T15:36:28.490Z"
   },
   {
    "duration": 11,
    "start_time": "2022-03-20T15:36:42.518Z"
   },
   {
    "duration": 11,
    "start_time": "2022-03-20T15:36:49.177Z"
   },
   {
    "duration": 12,
    "start_time": "2022-03-20T18:31:41.651Z"
   },
   {
    "duration": 3,
    "start_time": "2022-03-20T19:38:55.076Z"
   },
   {
    "duration": 384,
    "start_time": "2022-03-20T19:38:55.081Z"
   },
   {
    "duration": 4,
    "start_time": "2022-03-20T19:38:55.466Z"
   },
   {
    "duration": 577,
    "start_time": "2022-03-20T19:38:55.471Z"
   },
   {
    "duration": 52,
    "start_time": "2022-03-20T19:38:56.050Z"
   },
   {
    "duration": 3,
    "start_time": "2022-03-20T19:38:56.104Z"
   },
   {
    "duration": 116,
    "start_time": "2022-03-20T19:38:56.109Z"
   },
   {
    "duration": 26,
    "start_time": "2022-03-20T19:38:56.227Z"
   },
   {
    "duration": 4,
    "start_time": "2022-03-20T19:38:56.254Z"
   },
   {
    "duration": 43,
    "start_time": "2022-03-20T19:38:56.260Z"
   },
   {
    "duration": 2,
    "start_time": "2022-03-20T19:38:56.306Z"
   },
   {
    "duration": 19,
    "start_time": "2022-03-20T19:38:56.310Z"
   },
   {
    "duration": 12,
    "start_time": "2022-03-20T19:38:56.330Z"
   },
   {
    "duration": 8,
    "start_time": "2022-03-20T19:38:56.343Z"
   },
   {
    "duration": 7,
    "start_time": "2022-03-20T19:38:56.353Z"
   },
   {
    "duration": 6,
    "start_time": "2022-03-20T19:38:56.361Z"
   },
   {
    "duration": 7,
    "start_time": "2022-03-20T19:38:56.402Z"
   },
   {
    "duration": 6,
    "start_time": "2022-03-20T19:38:56.410Z"
   },
   {
    "duration": 5,
    "start_time": "2022-03-20T19:38:56.417Z"
   },
   {
    "duration": 9,
    "start_time": "2022-03-20T19:38:56.423Z"
   },
   {
    "duration": 24,
    "start_time": "2022-03-20T19:38:56.433Z"
   },
   {
    "duration": 4,
    "start_time": "2022-03-20T19:38:56.458Z"
   },
   {
    "duration": 157,
    "start_time": "2022-03-20T19:38:56.463Z"
   },
   {
    "duration": 24,
    "start_time": "2022-03-20T19:38:56.622Z"
   },
   {
    "duration": 455,
    "start_time": "2022-03-20T19:38:56.648Z"
   },
   {
    "duration": 11,
    "start_time": "2022-03-20T19:38:57.104Z"
   },
   {
    "duration": 11,
    "start_time": "2022-03-20T19:38:57.116Z"
   },
   {
    "duration": 1428,
    "start_time": "2022-03-31T15:10:49.977Z"
   },
   {
    "duration": 495,
    "start_time": "2022-03-31T15:10:51.408Z"
   },
   {
    "duration": 5,
    "start_time": "2022-03-31T15:10:51.905Z"
   },
   {
    "duration": 882,
    "start_time": "2022-03-31T15:10:51.913Z"
   },
   {
    "duration": 60,
    "start_time": "2022-03-31T15:10:52.797Z"
   },
   {
    "duration": 6,
    "start_time": "2022-03-31T15:10:52.860Z"
   },
   {
    "duration": 183,
    "start_time": "2022-03-31T15:10:52.868Z"
   },
   {
    "duration": 45,
    "start_time": "2022-03-31T15:10:53.053Z"
   },
   {
    "duration": 5,
    "start_time": "2022-03-31T15:10:53.101Z"
   },
   {
    "duration": 60,
    "start_time": "2022-03-31T15:10:53.110Z"
   },
   {
    "duration": 4,
    "start_time": "2022-03-31T15:10:53.172Z"
   },
   {
    "duration": 30,
    "start_time": "2022-03-31T15:10:53.178Z"
   },
   {
    "duration": 36,
    "start_time": "2022-03-31T15:10:53.210Z"
   },
   {
    "duration": 11,
    "start_time": "2022-03-31T15:10:53.248Z"
   },
   {
    "duration": 11,
    "start_time": "2022-03-31T15:10:53.262Z"
   },
   {
    "duration": 7,
    "start_time": "2022-03-31T15:10:53.275Z"
   },
   {
    "duration": 9,
    "start_time": "2022-03-31T15:10:53.284Z"
   },
   {
    "duration": 50,
    "start_time": "2022-03-31T15:10:53.295Z"
   },
   {
    "duration": 9,
    "start_time": "2022-03-31T15:10:53.347Z"
   },
   {
    "duration": 10,
    "start_time": "2022-03-31T15:10:53.358Z"
   },
   {
    "duration": 32,
    "start_time": "2022-03-31T15:10:53.369Z"
   },
   {
    "duration": 5,
    "start_time": "2022-03-31T15:10:53.404Z"
   },
   {
    "duration": 227,
    "start_time": "2022-03-31T15:10:53.443Z"
   },
   {
    "duration": 41,
    "start_time": "2022-03-31T15:10:53.672Z"
   },
   {
    "duration": 801,
    "start_time": "2022-03-31T15:10:53.715Z"
   },
   {
    "duration": 32,
    "start_time": "2022-03-31T15:10:54.519Z"
   },
   {
    "duration": 15,
    "start_time": "2022-03-31T15:10:54.553Z"
   },
   {
    "duration": 6,
    "start_time": "2022-03-31T15:38:08.055Z"
   },
   {
    "duration": 47,
    "start_time": "2022-04-01T18:56:51.789Z"
   },
   {
    "duration": 6,
    "start_time": "2022-04-01T18:57:00.173Z"
   },
   {
    "duration": 0,
    "start_time": "2022-04-01T18:57:00.182Z"
   },
   {
    "duration": 0,
    "start_time": "2022-04-01T18:57:00.183Z"
   },
   {
    "duration": 0,
    "start_time": "2022-04-01T18:57:00.184Z"
   },
   {
    "duration": 0,
    "start_time": "2022-04-01T18:57:00.185Z"
   },
   {
    "duration": 0,
    "start_time": "2022-04-01T18:57:00.187Z"
   },
   {
    "duration": 0,
    "start_time": "2022-04-01T18:57:00.188Z"
   },
   {
    "duration": 0,
    "start_time": "2022-04-01T18:57:00.189Z"
   },
   {
    "duration": 0,
    "start_time": "2022-04-01T18:57:00.190Z"
   },
   {
    "duration": 0,
    "start_time": "2022-04-01T18:57:00.192Z"
   },
   {
    "duration": 0,
    "start_time": "2022-04-01T18:57:00.192Z"
   },
   {
    "duration": 0,
    "start_time": "2022-04-01T18:57:00.193Z"
   },
   {
    "duration": 0,
    "start_time": "2022-04-01T18:57:00.194Z"
   },
   {
    "duration": 0,
    "start_time": "2022-04-01T18:57:00.195Z"
   },
   {
    "duration": 0,
    "start_time": "2022-04-01T18:57:00.196Z"
   },
   {
    "duration": 0,
    "start_time": "2022-04-01T18:57:00.197Z"
   },
   {
    "duration": 0,
    "start_time": "2022-04-01T18:57:00.198Z"
   },
   {
    "duration": 0,
    "start_time": "2022-04-01T18:57:00.199Z"
   },
   {
    "duration": 0,
    "start_time": "2022-04-01T18:57:00.200Z"
   },
   {
    "duration": 0,
    "start_time": "2022-04-01T18:57:00.201Z"
   },
   {
    "duration": 0,
    "start_time": "2022-04-01T18:57:00.202Z"
   },
   {
    "duration": 0,
    "start_time": "2022-04-01T18:57:00.203Z"
   },
   {
    "duration": 0,
    "start_time": "2022-04-01T18:57:00.238Z"
   },
   {
    "duration": 0,
    "start_time": "2022-04-01T18:57:00.239Z"
   },
   {
    "duration": 6,
    "start_time": "2022-04-01T18:57:18.910Z"
   },
   {
    "duration": 1287,
    "start_time": "2022-04-01T18:57:28.733Z"
   },
   {
    "duration": 421,
    "start_time": "2022-04-01T18:57:30.022Z"
   },
   {
    "duration": 4,
    "start_time": "2022-04-01T18:57:30.445Z"
   },
   {
    "duration": 635,
    "start_time": "2022-04-01T18:57:30.451Z"
   },
   {
    "duration": 309,
    "start_time": "2022-04-01T18:57:36.309Z"
   },
   {
    "duration": 146,
    "start_time": "2022-04-01T18:57:54.336Z"
   },
   {
    "duration": 141,
    "start_time": "2022-04-01T18:58:13.301Z"
   },
   {
    "duration": 146,
    "start_time": "2022-04-01T18:58:41.542Z"
   },
   {
    "duration": 155,
    "start_time": "2022-04-01T18:58:46.871Z"
   },
   {
    "duration": 159,
    "start_time": "2022-04-01T18:58:59.155Z"
   },
   {
    "duration": 170,
    "start_time": "2022-04-01T18:59:04.377Z"
   },
   {
    "duration": 286,
    "start_time": "2022-04-01T18:59:49.845Z"
   },
   {
    "duration": 901,
    "start_time": "2022-04-01T18:59:58.386Z"
   },
   {
    "duration": 320,
    "start_time": "2022-04-01T19:00:07.703Z"
   },
   {
    "duration": 214,
    "start_time": "2022-04-01T19:00:12.103Z"
   },
   {
    "duration": 167,
    "start_time": "2022-04-01T19:00:22.103Z"
   },
   {
    "duration": 158,
    "start_time": "2022-04-01T19:00:28.452Z"
   },
   {
    "duration": 179,
    "start_time": "2022-04-01T19:00:33.060Z"
   },
   {
    "duration": 165,
    "start_time": "2022-04-01T19:00:39.920Z"
   },
   {
    "duration": 418,
    "start_time": "2022-04-01T19:02:29.289Z"
   },
   {
    "duration": 302,
    "start_time": "2022-04-01T19:02:50.506Z"
   },
   {
    "duration": 185,
    "start_time": "2022-04-01T19:08:50.048Z"
   },
   {
    "duration": 182,
    "start_time": "2022-04-01T19:09:12.895Z"
   },
   {
    "duration": 185,
    "start_time": "2022-04-01T19:09:44.017Z"
   },
   {
    "duration": 184,
    "start_time": "2022-04-01T19:09:54.130Z"
   },
   {
    "duration": 172,
    "start_time": "2022-04-01T19:10:11.027Z"
   },
   {
    "duration": 159,
    "start_time": "2022-04-01T19:10:27.411Z"
   },
   {
    "duration": 142,
    "start_time": "2022-04-01T19:10:30.588Z"
   },
   {
    "duration": 152,
    "start_time": "2022-04-01T19:10:37.447Z"
   },
   {
    "duration": 152,
    "start_time": "2022-04-01T19:10:45.844Z"
   },
   {
    "duration": 5,
    "start_time": "2022-04-01T19:11:41.039Z"
   },
   {
    "duration": 6,
    "start_time": "2022-04-01T19:11:48.926Z"
   },
   {
    "duration": 64,
    "start_time": "2022-04-01T19:45:01.523Z"
   },
   {
    "duration": 3,
    "start_time": "2022-04-01T19:45:06.950Z"
   },
   {
    "duration": 383,
    "start_time": "2022-04-01T19:45:06.955Z"
   },
   {
    "duration": 3,
    "start_time": "2022-04-01T19:45:07.340Z"
   },
   {
    "duration": 641,
    "start_time": "2022-04-01T19:45:07.345Z"
   },
   {
    "duration": 189,
    "start_time": "2022-04-01T19:45:07.989Z"
   },
   {
    "duration": 16,
    "start_time": "2022-04-01T19:45:08.180Z"
   },
   {
    "duration": 8,
    "start_time": "2022-04-01T19:45:08.198Z"
   },
   {
    "duration": 130,
    "start_time": "2022-04-01T19:45:08.207Z"
   },
   {
    "duration": 32,
    "start_time": "2022-04-01T19:45:08.339Z"
   },
   {
    "duration": 5,
    "start_time": "2022-04-01T19:45:08.372Z"
   },
   {
    "duration": 35,
    "start_time": "2022-04-01T19:45:08.379Z"
   },
   {
    "duration": 2,
    "start_time": "2022-04-01T19:45:08.416Z"
   },
   {
    "duration": 42,
    "start_time": "2022-04-01T19:45:08.420Z"
   },
   {
    "duration": 11,
    "start_time": "2022-04-01T19:45:08.465Z"
   },
   {
    "duration": 7,
    "start_time": "2022-04-01T19:45:08.478Z"
   },
   {
    "duration": 7,
    "start_time": "2022-04-01T19:45:08.487Z"
   },
   {
    "duration": 5,
    "start_time": "2022-04-01T19:45:08.496Z"
   },
   {
    "duration": 36,
    "start_time": "2022-04-01T19:45:08.503Z"
   },
   {
    "duration": 8,
    "start_time": "2022-04-01T19:45:08.541Z"
   },
   {
    "duration": 7,
    "start_time": "2022-04-01T19:45:08.550Z"
   },
   {
    "duration": 9,
    "start_time": "2022-04-01T19:45:08.559Z"
   },
   {
    "duration": 21,
    "start_time": "2022-04-01T19:45:08.570Z"
   },
   {
    "duration": 4,
    "start_time": "2022-04-01T19:45:08.593Z"
   },
   {
    "duration": 14,
    "start_time": "2022-04-01T19:45:59.788Z"
   },
   {
    "duration": 5,
    "start_time": "2022-04-01T19:47:17.918Z"
   },
   {
    "duration": 6,
    "start_time": "2022-04-01T19:47:58.063Z"
   },
   {
    "duration": 9,
    "start_time": "2022-04-01T19:56:35.015Z"
   },
   {
    "duration": 6,
    "start_time": "2022-04-01T19:56:44.845Z"
   },
   {
    "duration": 5,
    "start_time": "2022-04-01T19:57:01.641Z"
   },
   {
    "duration": 5,
    "start_time": "2022-04-01T19:57:17.943Z"
   },
   {
    "duration": 11,
    "start_time": "2022-04-01T19:57:41.168Z"
   },
   {
    "duration": 5,
    "start_time": "2022-04-01T19:58:06.058Z"
   },
   {
    "duration": 10,
    "start_time": "2022-04-01T19:59:15.597Z"
   },
   {
    "duration": 8,
    "start_time": "2022-04-01T19:59:32.730Z"
   },
   {
    "duration": 9,
    "start_time": "2022-04-01T20:00:03.000Z"
   },
   {
    "duration": 13,
    "start_time": "2022-04-01T20:00:20.214Z"
   },
   {
    "duration": 5,
    "start_time": "2022-04-01T20:00:31.980Z"
   },
   {
    "duration": 9,
    "start_time": "2022-04-01T20:01:03.658Z"
   },
   {
    "duration": 10,
    "start_time": "2022-04-01T20:01:09.886Z"
   },
   {
    "duration": 5,
    "start_time": "2022-04-01T20:01:22.186Z"
   },
   {
    "duration": 5,
    "start_time": "2022-04-01T20:01:44.488Z"
   },
   {
    "duration": 5,
    "start_time": "2022-04-01T20:02:15.636Z"
   },
   {
    "duration": 5,
    "start_time": "2022-04-01T20:02:29.744Z"
   },
   {
    "duration": 17,
    "start_time": "2022-04-01T20:05:41.768Z"
   },
   {
    "duration": 16,
    "start_time": "2022-04-01T20:06:09.808Z"
   },
   {
    "duration": 10,
    "start_time": "2022-04-01T20:06:23.223Z"
   },
   {
    "duration": 9,
    "start_time": "2022-04-01T20:06:40.837Z"
   },
   {
    "duration": 10,
    "start_time": "2022-04-01T20:07:03.877Z"
   },
   {
    "duration": 10,
    "start_time": "2022-04-01T20:07:20.774Z"
   },
   {
    "duration": 9,
    "start_time": "2022-04-01T20:07:28.691Z"
   },
   {
    "duration": 12,
    "start_time": "2022-04-01T20:08:04.236Z"
   },
   {
    "duration": 587,
    "start_time": "2022-04-01T20:41:53.089Z"
   },
   {
    "duration": 450,
    "start_time": "2022-04-01T20:42:32.206Z"
   },
   {
    "duration": 144,
    "start_time": "2022-04-01T20:42:48.590Z"
   },
   {
    "duration": 140,
    "start_time": "2022-04-01T20:43:10.300Z"
   },
   {
    "duration": 153,
    "start_time": "2022-04-01T20:43:16.377Z"
   },
   {
    "duration": 142,
    "start_time": "2022-04-01T20:43:21.497Z"
   },
   {
    "duration": 134,
    "start_time": "2022-04-01T20:43:26.889Z"
   },
   {
    "duration": 143,
    "start_time": "2022-04-01T20:43:30.679Z"
   },
   {
    "duration": 21,
    "start_time": "2022-04-01T20:44:42.974Z"
   },
   {
    "duration": 397,
    "start_time": "2022-04-01T20:44:53.422Z"
   },
   {
    "duration": 159,
    "start_time": "2022-04-01T20:45:18.447Z"
   },
   {
    "duration": 82,
    "start_time": "2022-04-01T20:46:20.057Z"
   },
   {
    "duration": 87,
    "start_time": "2022-04-01T20:46:28.177Z"
   },
   {
    "duration": 146,
    "start_time": "2022-04-01T20:46:51.200Z"
   },
   {
    "duration": 152,
    "start_time": "2022-04-01T20:47:01.146Z"
   },
   {
    "duration": 147,
    "start_time": "2022-04-01T20:47:06.250Z"
   },
   {
    "duration": 152,
    "start_time": "2022-04-01T20:47:10.125Z"
   },
   {
    "duration": 153,
    "start_time": "2022-04-01T20:47:24.973Z"
   },
   {
    "duration": 156,
    "start_time": "2022-04-01T20:47:31.430Z"
   },
   {
    "duration": 363,
    "start_time": "2022-04-01T20:47:37.774Z"
   },
   {
    "duration": 156,
    "start_time": "2022-04-01T20:47:42.525Z"
   },
   {
    "duration": 154,
    "start_time": "2022-04-01T20:49:45.060Z"
   },
   {
    "duration": 141,
    "start_time": "2022-04-01T20:50:10.382Z"
   },
   {
    "duration": 132,
    "start_time": "2022-04-01T22:02:30.850Z"
   },
   {
    "duration": 136,
    "start_time": "2022-04-01T22:02:35.854Z"
   },
   {
    "duration": 139,
    "start_time": "2022-04-01T22:02:43.430Z"
   },
   {
    "duration": 151,
    "start_time": "2022-04-01T22:03:03.193Z"
   },
   {
    "duration": 158,
    "start_time": "2022-04-01T22:03:21.430Z"
   },
   {
    "duration": 162,
    "start_time": "2022-04-01T22:03:25.342Z"
   },
   {
    "duration": 147,
    "start_time": "2022-04-01T22:03:31.148Z"
   },
   {
    "duration": 151,
    "start_time": "2022-04-01T22:03:40.481Z"
   },
   {
    "duration": 155,
    "start_time": "2022-04-01T22:03:45.794Z"
   },
   {
    "duration": 148,
    "start_time": "2022-04-01T22:09:57.032Z"
   },
   {
    "duration": 149,
    "start_time": "2022-04-01T22:10:13.172Z"
   },
   {
    "duration": 3,
    "start_time": "2022-04-01T22:36:56.966Z"
   },
   {
    "duration": 391,
    "start_time": "2022-04-01T22:36:56.971Z"
   },
   {
    "duration": 4,
    "start_time": "2022-04-01T22:36:57.363Z"
   },
   {
    "duration": 620,
    "start_time": "2022-04-01T22:36:57.369Z"
   },
   {
    "duration": 194,
    "start_time": "2022-04-01T22:36:57.991Z"
   },
   {
    "duration": 164,
    "start_time": "2022-04-01T22:36:58.186Z"
   },
   {
    "duration": 16,
    "start_time": "2022-04-01T22:36:58.352Z"
   },
   {
    "duration": 7,
    "start_time": "2022-04-01T22:36:58.370Z"
   },
   {
    "duration": 134,
    "start_time": "2022-04-01T22:36:58.378Z"
   },
   {
    "duration": 34,
    "start_time": "2022-04-01T22:36:58.514Z"
   },
   {
    "duration": 5,
    "start_time": "2022-04-01T22:36:58.549Z"
   },
   {
    "duration": 26,
    "start_time": "2022-04-01T22:36:58.555Z"
   },
   {
    "duration": 2,
    "start_time": "2022-04-01T22:36:58.583Z"
   },
   {
    "duration": 23,
    "start_time": "2022-04-01T22:36:58.588Z"
   },
   {
    "duration": 35,
    "start_time": "2022-04-01T22:36:58.612Z"
   },
   {
    "duration": 8,
    "start_time": "2022-04-01T22:36:58.648Z"
   },
   {
    "duration": 11,
    "start_time": "2022-04-01T22:36:58.657Z"
   },
   {
    "duration": 5,
    "start_time": "2022-04-01T22:36:58.670Z"
   },
   {
    "duration": 9,
    "start_time": "2022-04-01T22:36:58.676Z"
   },
   {
    "duration": 6,
    "start_time": "2022-04-01T22:36:58.687Z"
   },
   {
    "duration": 7,
    "start_time": "2022-04-01T22:36:58.694Z"
   },
   {
    "duration": 41,
    "start_time": "2022-04-01T22:36:58.703Z"
   },
   {
    "duration": 25,
    "start_time": "2022-04-01T22:36:58.746Z"
   },
   {
    "duration": 4,
    "start_time": "2022-04-01T22:36:58.773Z"
   },
   {
    "duration": 7,
    "start_time": "2022-04-01T22:36:58.779Z"
   },
   {
    "duration": 16,
    "start_time": "2022-04-01T22:36:58.787Z"
   },
   {
    "duration": 15,
    "start_time": "2022-04-01T22:36:58.804Z"
   },
   {
    "duration": 156,
    "start_time": "2022-04-01T22:36:58.821Z"
   },
   {
    "duration": 28,
    "start_time": "2022-04-01T22:36:58.979Z"
   },
   {
    "duration": 499,
    "start_time": "2022-04-01T22:37:07.109Z"
   },
   {
    "duration": 546,
    "start_time": "2022-04-01T22:39:01.185Z"
   },
   {
    "duration": 204,
    "start_time": "2022-04-01T22:39:44.630Z"
   },
   {
    "duration": 805,
    "start_time": "2022-04-01T22:39:57.638Z"
   },
   {
    "duration": 138,
    "start_time": "2022-04-01T22:41:52.288Z"
   },
   {
    "duration": 103,
    "start_time": "2022-04-01T22:42:11.744Z"
   },
   {
    "duration": 529,
    "start_time": "2022-04-01T22:42:19.424Z"
   },
   {
    "duration": 706,
    "start_time": "2022-04-01T22:51:43.857Z"
   },
   {
    "duration": 176,
    "start_time": "2022-04-01T22:53:55.727Z"
   },
   {
    "duration": 177,
    "start_time": "2022-04-01T22:54:12.955Z"
   },
   {
    "duration": 175,
    "start_time": "2022-04-01T22:55:33.451Z"
   },
   {
    "duration": 341,
    "start_time": "2022-04-01T22:55:43.580Z"
   },
   {
    "duration": 171,
    "start_time": "2022-04-01T22:56:06.626Z"
   },
   {
    "duration": 170,
    "start_time": "2022-04-01T22:56:36.828Z"
   },
   {
    "duration": 170,
    "start_time": "2022-04-01T22:56:41.848Z"
   },
   {
    "duration": 182,
    "start_time": "2022-04-01T22:56:48.912Z"
   },
   {
    "duration": 702,
    "start_time": "2022-04-01T22:57:26.392Z"
   },
   {
    "duration": 14,
    "start_time": "2022-04-01T23:01:17.710Z"
   },
   {
    "duration": 15,
    "start_time": "2022-04-01T23:01:39.834Z"
   },
   {
    "duration": 14,
    "start_time": "2022-04-01T23:02:01.742Z"
   },
   {
    "duration": 114,
    "start_time": "2022-04-01T23:02:52.942Z"
   },
   {
    "duration": 12,
    "start_time": "2022-04-01T23:03:08.959Z"
   },
   {
    "duration": 17,
    "start_time": "2022-04-01T23:03:58.786Z"
   },
   {
    "duration": 19,
    "start_time": "2022-04-01T23:04:11.519Z"
   },
   {
    "duration": 18,
    "start_time": "2022-04-01T23:04:38.517Z"
   },
   {
    "duration": 18,
    "start_time": "2022-04-01T23:04:45.816Z"
   },
   {
    "duration": 114,
    "start_time": "2022-04-01T23:05:07.632Z"
   },
   {
    "duration": 84,
    "start_time": "2022-04-01T23:05:28.403Z"
   },
   {
    "duration": 110,
    "start_time": "2022-04-01T23:05:42.836Z"
   },
   {
    "duration": 17,
    "start_time": "2022-04-01T23:06:10.273Z"
   },
   {
    "duration": 105,
    "start_time": "2022-04-01T23:06:20.320Z"
   },
   {
    "duration": 108,
    "start_time": "2022-04-01T23:06:30.646Z"
   },
   {
    "duration": 23,
    "start_time": "2022-04-01T23:12:46.183Z"
   },
   {
    "duration": 127,
    "start_time": "2022-04-01T23:14:31.825Z"
   },
   {
    "duration": 519,
    "start_time": "2022-04-01T23:14:53.979Z"
   },
   {
    "duration": 161,
    "start_time": "2022-04-01T23:15:20.303Z"
   },
   {
    "duration": 139,
    "start_time": "2022-04-01T23:15:32.446Z"
   },
   {
    "duration": 137,
    "start_time": "2022-04-01T23:16:35.832Z"
   },
   {
    "duration": 133,
    "start_time": "2022-04-01T23:17:27.133Z"
   },
   {
    "duration": 29,
    "start_time": "2022-04-01T23:19:26.986Z"
   },
   {
    "duration": 97,
    "start_time": "2022-04-01T23:19:57.663Z"
   },
   {
    "duration": 28,
    "start_time": "2022-04-01T23:20:02.476Z"
   },
   {
    "duration": 98,
    "start_time": "2022-04-01T23:20:28.280Z"
   },
   {
    "duration": 28,
    "start_time": "2022-04-01T23:20:34.526Z"
   },
   {
    "duration": 123,
    "start_time": "2022-04-01T23:20:57.602Z"
   },
   {
    "duration": 134,
    "start_time": "2022-04-01T23:22:30.342Z"
   },
   {
    "duration": 127,
    "start_time": "2022-04-01T23:22:39.250Z"
   },
   {
    "duration": 128,
    "start_time": "2022-04-01T23:22:51.971Z"
   },
   {
    "duration": 118,
    "start_time": "2022-04-01T23:33:50.427Z"
   },
   {
    "duration": 123,
    "start_time": "2022-04-01T23:34:23.467Z"
   },
   {
    "duration": 126,
    "start_time": "2022-04-01T23:35:23.191Z"
   },
   {
    "duration": 87,
    "start_time": "2022-04-01T23:35:55.439Z"
   },
   {
    "duration": 134,
    "start_time": "2022-04-01T23:36:00.123Z"
   },
   {
    "duration": 122,
    "start_time": "2022-04-01T23:36:37.414Z"
   },
   {
    "duration": 130,
    "start_time": "2022-04-01T23:46:02.955Z"
   },
   {
    "duration": 98,
    "start_time": "2022-04-01T23:46:18.929Z"
   },
   {
    "duration": 14,
    "start_time": "2022-04-01T23:46:27.020Z"
   },
   {
    "duration": 120,
    "start_time": "2022-04-01T23:46:54.667Z"
   },
   {
    "duration": 101,
    "start_time": "2022-04-01T23:47:41.157Z"
   },
   {
    "duration": 83,
    "start_time": "2022-04-01T23:52:06.171Z"
   },
   {
    "duration": 138,
    "start_time": "2022-04-01T23:53:37.738Z"
   },
   {
    "duration": 123,
    "start_time": "2022-04-01T23:54:35.922Z"
   },
   {
    "duration": 1387,
    "start_time": "2022-04-01T23:56:41.019Z"
   },
   {
    "duration": 126,
    "start_time": "2022-04-01T23:57:10.520Z"
   },
   {
    "duration": 114,
    "start_time": "2022-04-02T00:01:22.326Z"
   },
   {
    "duration": 119,
    "start_time": "2022-04-02T00:01:37.059Z"
   },
   {
    "duration": 18,
    "start_time": "2022-04-02T00:01:52.108Z"
   },
   {
    "duration": 115,
    "start_time": "2022-04-02T00:01:55.531Z"
   },
   {
    "duration": 30,
    "start_time": "2022-04-02T00:03:13.127Z"
   },
   {
    "duration": 27,
    "start_time": "2022-04-02T00:03:25.124Z"
   },
   {
    "duration": 29,
    "start_time": "2022-04-02T00:03:56.035Z"
   },
   {
    "duration": 4,
    "start_time": "2022-04-02T00:04:23.680Z"
   },
   {
    "duration": 6,
    "start_time": "2022-04-02T00:04:49.773Z"
   },
   {
    "duration": 9,
    "start_time": "2022-04-02T00:04:56.440Z"
   },
   {
    "duration": 8,
    "start_time": "2022-04-02T00:05:07.283Z"
   },
   {
    "duration": 5,
    "start_time": "2022-04-02T00:05:14.457Z"
   },
   {
    "duration": 6,
    "start_time": "2022-04-02T00:05:24.497Z"
   },
   {
    "duration": 126,
    "start_time": "2022-04-02T00:06:14.561Z"
   },
   {
    "duration": 113,
    "start_time": "2022-04-02T00:06:47.129Z"
   },
   {
    "duration": 108,
    "start_time": "2022-04-02T00:06:58.820Z"
   },
   {
    "duration": 101,
    "start_time": "2022-04-02T00:07:07.202Z"
   },
   {
    "duration": 109,
    "start_time": "2022-04-02T00:08:53.523Z"
   },
   {
    "duration": 113,
    "start_time": "2022-04-02T00:09:13.455Z"
   },
   {
    "duration": 30,
    "start_time": "2022-04-02T00:10:06.522Z"
   },
   {
    "duration": 12,
    "start_time": "2022-04-02T00:11:43.062Z"
   },
   {
    "duration": 13,
    "start_time": "2022-04-02T00:14:21.001Z"
   },
   {
    "duration": 8,
    "start_time": "2022-04-02T00:14:34.890Z"
   },
   {
    "duration": 12,
    "start_time": "2022-04-02T00:15:01.741Z"
   },
   {
    "duration": 128,
    "start_time": "2022-04-02T00:18:27.447Z"
   },
   {
    "duration": 121,
    "start_time": "2022-04-02T00:27:09.810Z"
   },
   {
    "duration": 117,
    "start_time": "2022-04-02T00:27:41.530Z"
   },
   {
    "duration": 10,
    "start_time": "2022-04-02T00:35:07.995Z"
   },
   {
    "duration": 19,
    "start_time": "2022-04-02T00:45:15.161Z"
   },
   {
    "duration": 19,
    "start_time": "2022-04-02T00:45:20.585Z"
   },
   {
    "duration": 22,
    "start_time": "2022-04-02T00:45:31.110Z"
   },
   {
    "duration": 4,
    "start_time": "2022-04-02T00:47:27.646Z"
   },
   {
    "duration": 9,
    "start_time": "2022-04-02T00:47:41.474Z"
   },
   {
    "duration": 48,
    "start_time": "2022-04-02T00:47:47.601Z"
   },
   {
    "duration": 47,
    "start_time": "2022-04-02T00:47:57.438Z"
   },
   {
    "duration": 4,
    "start_time": "2022-04-02T00:48:18.426Z"
   },
   {
    "duration": 3,
    "start_time": "2022-04-02T00:48:24.671Z"
   },
   {
    "duration": 392,
    "start_time": "2022-04-02T00:48:24.676Z"
   },
   {
    "duration": 5,
    "start_time": "2022-04-02T00:48:25.070Z"
   },
   {
    "duration": 667,
    "start_time": "2022-04-02T00:48:25.077Z"
   },
   {
    "duration": 169,
    "start_time": "2022-04-02T00:48:25.745Z"
   },
   {
    "duration": 154,
    "start_time": "2022-04-02T00:48:25.916Z"
   },
   {
    "duration": 15,
    "start_time": "2022-04-02T00:48:26.071Z"
   },
   {
    "duration": 8,
    "start_time": "2022-04-02T00:48:26.088Z"
   },
   {
    "duration": 124,
    "start_time": "2022-04-02T00:49:21.506Z"
   },
   {
    "duration": 6,
    "start_time": "2022-04-02T00:49:57.382Z"
   },
   {
    "duration": 3,
    "start_time": "2022-04-02T00:50:16.800Z"
   },
   {
    "duration": 404,
    "start_time": "2022-04-02T00:50:16.804Z"
   },
   {
    "duration": 3,
    "start_time": "2022-04-02T00:50:17.210Z"
   },
   {
    "duration": 639,
    "start_time": "2022-04-02T00:50:17.215Z"
   },
   {
    "duration": 174,
    "start_time": "2022-04-02T00:50:17.856Z"
   },
   {
    "duration": 158,
    "start_time": "2022-04-02T00:50:18.031Z"
   },
   {
    "duration": 15,
    "start_time": "2022-04-02T00:50:18.190Z"
   },
   {
    "duration": 6,
    "start_time": "2022-04-02T00:50:18.206Z"
   },
   {
    "duration": 214,
    "start_time": "2022-04-02T00:50:18.213Z"
   },
   {
    "duration": 44,
    "start_time": "2022-04-02T00:50:18.429Z"
   },
   {
    "duration": 4,
    "start_time": "2022-04-02T00:50:18.475Z"
   },
   {
    "duration": 75,
    "start_time": "2022-04-02T00:50:18.481Z"
   },
   {
    "duration": 2,
    "start_time": "2022-04-02T00:50:18.558Z"
   },
   {
    "duration": 47,
    "start_time": "2022-04-02T00:50:18.564Z"
   },
   {
    "duration": 24,
    "start_time": "2022-04-02T00:50:18.613Z"
   },
   {
    "duration": 9,
    "start_time": "2022-04-02T00:50:18.639Z"
   },
   {
    "duration": 8,
    "start_time": "2022-04-02T00:50:18.650Z"
   },
   {
    "duration": 5,
    "start_time": "2022-04-02T00:50:18.660Z"
   },
   {
    "duration": 7,
    "start_time": "2022-04-02T00:50:18.667Z"
   },
   {
    "duration": 6,
    "start_time": "2022-04-02T00:50:18.676Z"
   },
   {
    "duration": 5,
    "start_time": "2022-04-02T00:50:18.683Z"
   },
   {
    "duration": 7,
    "start_time": "2022-04-02T00:50:18.689Z"
   },
   {
    "duration": 41,
    "start_time": "2022-04-02T00:50:18.698Z"
   },
   {
    "duration": 9,
    "start_time": "2022-04-02T00:50:18.741Z"
   },
   {
    "duration": 10,
    "start_time": "2022-04-02T00:50:18.752Z"
   },
   {
    "duration": 19,
    "start_time": "2022-04-02T00:50:18.763Z"
   },
   {
    "duration": 5,
    "start_time": "2022-04-02T00:50:18.784Z"
   },
   {
    "duration": 153,
    "start_time": "2022-04-02T00:50:18.790Z"
   },
   {
    "duration": 28,
    "start_time": "2022-04-02T00:50:18.945Z"
   },
   {
    "duration": 731,
    "start_time": "2022-04-02T00:50:18.975Z"
   },
   {
    "duration": 450,
    "start_time": "2022-04-02T00:50:19.708Z"
   },
   {
    "duration": 125,
    "start_time": "2022-04-02T00:50:20.159Z"
   },
   {
    "duration": 11,
    "start_time": "2022-04-02T00:50:20.286Z"
   },
   {
    "duration": 139,
    "start_time": "2022-04-02T00:50:20.299Z"
   },
   {
    "duration": 11,
    "start_time": "2022-04-02T00:50:20.440Z"
   },
   {
    "duration": 138,
    "start_time": "2022-04-02T00:50:20.453Z"
   },
   {
    "duration": 9,
    "start_time": "2022-04-02T00:50:20.593Z"
   },
   {
    "duration": 23,
    "start_time": "2022-04-02T00:50:53.151Z"
   },
   {
    "duration": 69,
    "start_time": "2022-04-02T10:05:34.084Z"
   },
   {
    "duration": 1594,
    "start_time": "2022-04-02T10:05:46.577Z"
   },
   {
    "duration": 425,
    "start_time": "2022-04-02T10:05:48.174Z"
   },
   {
    "duration": 5,
    "start_time": "2022-04-02T10:05:48.601Z"
   },
   {
    "duration": 879,
    "start_time": "2022-04-02T10:05:48.608Z"
   },
   {
    "duration": 281,
    "start_time": "2022-04-02T10:05:49.490Z"
   },
   {
    "duration": 246,
    "start_time": "2022-04-02T10:05:49.773Z"
   },
   {
    "duration": 19,
    "start_time": "2022-04-02T10:05:50.021Z"
   },
   {
    "duration": 44,
    "start_time": "2022-04-02T10:05:50.042Z"
   },
   {
    "duration": 7,
    "start_time": "2022-04-02T10:05:50.088Z"
   },
   {
    "duration": 297,
    "start_time": "2022-04-02T10:05:50.097Z"
   },
   {
    "duration": 58,
    "start_time": "2022-04-02T10:05:50.396Z"
   },
   {
    "duration": 5,
    "start_time": "2022-04-02T10:05:50.456Z"
   },
   {
    "duration": 72,
    "start_time": "2022-04-02T10:05:50.481Z"
   },
   {
    "duration": 3,
    "start_time": "2022-04-02T10:05:50.558Z"
   },
   {
    "duration": 57,
    "start_time": "2022-04-02T10:05:50.582Z"
   },
   {
    "duration": 17,
    "start_time": "2022-04-02T10:05:50.641Z"
   },
   {
    "duration": 11,
    "start_time": "2022-04-02T10:05:50.682Z"
   },
   {
    "duration": 11,
    "start_time": "2022-04-02T10:05:50.695Z"
   },
   {
    "duration": 7,
    "start_time": "2022-04-02T10:05:50.709Z"
   },
   {
    "duration": 9,
    "start_time": "2022-04-02T10:05:50.718Z"
   },
   {
    "duration": 12,
    "start_time": "2022-04-02T10:05:50.729Z"
   },
   {
    "duration": 43,
    "start_time": "2022-04-02T10:05:50.743Z"
   },
   {
    "duration": 12,
    "start_time": "2022-04-02T10:05:50.789Z"
   },
   {
    "duration": 31,
    "start_time": "2022-04-02T10:05:50.803Z"
   },
   {
    "duration": 5,
    "start_time": "2022-04-02T10:05:50.836Z"
   },
   {
    "duration": 42,
    "start_time": "2022-04-02T10:05:50.843Z"
   },
   {
    "duration": 20,
    "start_time": "2022-04-02T10:05:50.887Z"
   },
   {
    "duration": 8,
    "start_time": "2022-04-02T10:05:50.909Z"
   },
   {
    "duration": 241,
    "start_time": "2022-04-02T10:05:50.920Z"
   },
   {
    "duration": 54,
    "start_time": "2022-04-02T10:05:51.164Z"
   },
   {
    "duration": 1069,
    "start_time": "2022-04-02T10:05:51.221Z"
   },
   {
    "duration": 206,
    "start_time": "2022-04-02T10:05:52.294Z"
   },
   {
    "duration": 181,
    "start_time": "2022-04-02T10:05:52.503Z"
   },
   {
    "duration": 16,
    "start_time": "2022-04-02T10:05:52.686Z"
   },
   {
    "duration": 259,
    "start_time": "2022-04-02T10:05:52.704Z"
   },
   {
    "duration": 24,
    "start_time": "2022-04-02T10:05:52.965Z"
   },
   {
    "duration": 197,
    "start_time": "2022-04-02T10:05:52.991Z"
   },
   {
    "duration": 14,
    "start_time": "2022-04-02T10:05:53.190Z"
   },
   {
    "duration": 37,
    "start_time": "2022-04-02T10:07:42.905Z"
   },
   {
    "duration": 10,
    "start_time": "2022-04-02T10:08:00.110Z"
   },
   {
    "duration": 147,
    "start_time": "2022-04-02T10:11:27.482Z"
   },
   {
    "duration": 420,
    "start_time": "2022-04-02T10:12:26.780Z"
   },
   {
    "duration": 278,
    "start_time": "2022-04-02T10:35:01.107Z"
   },
   {
    "duration": 38,
    "start_time": "2022-04-02T10:42:34.534Z"
   },
   {
    "duration": 26,
    "start_time": "2022-04-02T10:42:54.192Z"
   },
   {
    "duration": 237,
    "start_time": "2022-04-02T10:50:55.064Z"
   },
   {
    "duration": 15,
    "start_time": "2022-04-02T10:51:10.533Z"
   },
   {
    "duration": 18,
    "start_time": "2022-04-02T10:51:23.945Z"
   },
   {
    "duration": 13,
    "start_time": "2022-04-02T10:51:29.682Z"
   },
   {
    "duration": 236,
    "start_time": "2022-04-02T10:56:02.991Z"
   },
   {
    "duration": 223,
    "start_time": "2022-04-02T10:56:20.807Z"
   },
   {
    "duration": 295,
    "start_time": "2022-04-02T10:57:57.689Z"
   },
   {
    "duration": 316,
    "start_time": "2022-04-02T10:58:10.600Z"
   },
   {
    "duration": 78,
    "start_time": "2022-04-03T07:17:35.639Z"
   },
   {
    "duration": 1821,
    "start_time": "2022-04-03T07:17:41.464Z"
   },
   {
    "duration": 525,
    "start_time": "2022-04-03T07:17:43.288Z"
   },
   {
    "duration": 5,
    "start_time": "2022-04-03T07:17:43.816Z"
   },
   {
    "duration": 975,
    "start_time": "2022-04-03T07:17:43.823Z"
   },
   {
    "duration": 315,
    "start_time": "2022-04-03T07:17:44.801Z"
   },
   {
    "duration": 267,
    "start_time": "2022-04-03T07:17:45.118Z"
   },
   {
    "duration": 335,
    "start_time": "2022-04-03T07:17:45.387Z"
   },
   {
    "duration": 25,
    "start_time": "2022-04-03T07:17:45.724Z"
   },
   {
    "duration": 28,
    "start_time": "2022-04-03T07:17:45.751Z"
   },
   {
    "duration": 333,
    "start_time": "2022-04-03T07:17:45.781Z"
   },
   {
    "duration": 81,
    "start_time": "2022-04-03T07:17:46.116Z"
   },
   {
    "duration": 5,
    "start_time": "2022-04-03T07:17:46.199Z"
   },
   {
    "duration": 88,
    "start_time": "2022-04-03T07:17:46.207Z"
   },
   {
    "duration": 4,
    "start_time": "2022-04-03T07:17:46.299Z"
   },
   {
    "duration": 78,
    "start_time": "2022-04-03T07:17:46.305Z"
   },
   {
    "duration": 19,
    "start_time": "2022-04-03T07:17:46.386Z"
   },
   {
    "duration": 11,
    "start_time": "2022-04-03T07:17:46.407Z"
   },
   {
    "duration": 7,
    "start_time": "2022-04-03T07:17:46.421Z"
   },
   {
    "duration": 9,
    "start_time": "2022-04-03T07:17:46.430Z"
   },
   {
    "duration": 16,
    "start_time": "2022-04-03T07:17:46.474Z"
   },
   {
    "duration": 12,
    "start_time": "2022-04-03T07:17:46.492Z"
   },
   {
    "duration": 8,
    "start_time": "2022-04-03T07:17:46.506Z"
   },
   {
    "duration": 10,
    "start_time": "2022-04-03T07:17:46.517Z"
   },
   {
    "duration": 14,
    "start_time": "2022-04-03T07:17:46.529Z"
   },
   {
    "duration": 61,
    "start_time": "2022-04-03T07:17:46.545Z"
   },
   {
    "duration": 8,
    "start_time": "2022-04-03T07:17:46.608Z"
   },
   {
    "duration": 7,
    "start_time": "2022-04-03T07:17:46.618Z"
   },
   {
    "duration": 65,
    "start_time": "2022-04-03T07:17:46.627Z"
   },
   {
    "duration": 6,
    "start_time": "2022-04-03T07:17:46.694Z"
   },
   {
    "duration": 255,
    "start_time": "2022-04-03T07:17:46.702Z"
   },
   {
    "duration": 53,
    "start_time": "2022-04-03T07:17:46.959Z"
   },
   {
    "duration": 1272,
    "start_time": "2022-04-03T07:17:47.014Z"
   },
   {
    "duration": 189,
    "start_time": "2022-04-03T07:17:48.289Z"
   },
   {
    "duration": 271,
    "start_time": "2022-04-03T07:17:48.480Z"
   },
   {
    "duration": 29,
    "start_time": "2022-04-03T07:17:48.753Z"
   },
   {
    "duration": 206,
    "start_time": "2022-04-03T07:17:48.784Z"
   },
   {
    "duration": 16,
    "start_time": "2022-04-03T07:17:48.992Z"
   },
   {
    "duration": 228,
    "start_time": "2022-04-03T07:17:49.011Z"
   },
   {
    "duration": 148,
    "start_time": "2022-04-03T07:17:49.241Z"
   },
   {
    "duration": 278,
    "start_time": "2022-04-03T07:17:58.914Z"
   },
   {
    "duration": 576,
    "start_time": "2022-04-03T07:18:32.971Z"
   },
   {
    "duration": 393,
    "start_time": "2022-04-03T07:18:49.457Z"
   },
   {
    "duration": 582,
    "start_time": "2022-04-03T07:18:58.162Z"
   },
   {
    "duration": 298,
    "start_time": "2022-04-03T07:19:04.844Z"
   },
   {
    "duration": 663,
    "start_time": "2022-04-03T07:19:10.391Z"
   },
   {
    "duration": 652,
    "start_time": "2022-04-03T07:19:26.971Z"
   },
   {
    "duration": 27,
    "start_time": "2022-04-03T07:21:01.969Z"
   },
   {
    "duration": 571,
    "start_time": "2022-04-03T07:22:38.939Z"
   },
   {
    "duration": 744,
    "start_time": "2022-04-03T07:24:43.258Z"
   },
   {
    "duration": 568,
    "start_time": "2022-04-03T07:25:26.000Z"
   },
   {
    "duration": 289,
    "start_time": "2022-04-03T07:25:55.357Z"
   },
   {
    "duration": 663,
    "start_time": "2022-04-03T07:28:58.378Z"
   },
   {
    "duration": 165,
    "start_time": "2022-04-03T07:29:54.601Z"
   },
   {
    "duration": 348,
    "start_time": "2022-04-03T07:30:23.042Z"
   },
   {
    "duration": 339,
    "start_time": "2022-04-03T07:31:10.545Z"
   },
   {
    "duration": 352,
    "start_time": "2022-04-03T07:31:16.995Z"
   },
   {
    "duration": 347,
    "start_time": "2022-04-03T07:31:37.101Z"
   },
   {
    "duration": 335,
    "start_time": "2022-04-03T07:31:58.790Z"
   },
   {
    "duration": 333,
    "start_time": "2022-04-03T07:32:17.514Z"
   },
   {
    "duration": 277,
    "start_time": "2022-04-03T07:32:25.220Z"
   },
   {
    "duration": 290,
    "start_time": "2022-04-03T07:32:32.087Z"
   },
   {
    "duration": 350,
    "start_time": "2022-04-03T07:32:41.270Z"
   },
   {
    "duration": 498,
    "start_time": "2022-04-03T07:37:57.197Z"
   },
   {
    "duration": 371,
    "start_time": "2022-04-03T07:38:08.021Z"
   },
   {
    "duration": 372,
    "start_time": "2022-04-03T07:38:20.725Z"
   },
   {
    "duration": 5,
    "start_time": "2022-04-03T07:47:08.997Z"
   },
   {
    "duration": 4,
    "start_time": "2022-04-03T07:47:14.731Z"
   },
   {
    "duration": 572,
    "start_time": "2022-04-03T07:47:14.738Z"
   },
   {
    "duration": 5,
    "start_time": "2022-04-03T07:47:15.312Z"
   },
   {
    "duration": 1081,
    "start_time": "2022-04-03T07:47:15.320Z"
   },
   {
    "duration": 292,
    "start_time": "2022-04-03T07:47:16.404Z"
   },
   {
    "duration": 267,
    "start_time": "2022-04-03T07:47:16.699Z"
   },
   {
    "duration": 336,
    "start_time": "2022-04-03T07:47:16.969Z"
   },
   {
    "duration": 25,
    "start_time": "2022-04-03T07:47:17.307Z"
   },
   {
    "duration": 7,
    "start_time": "2022-04-03T07:47:17.335Z"
   },
   {
    "duration": 81,
    "start_time": "2022-04-03T07:47:17.344Z"
   },
   {
    "duration": 0,
    "start_time": "2022-04-03T07:47:17.429Z"
   },
   {
    "duration": 1,
    "start_time": "2022-04-03T07:47:17.430Z"
   },
   {
    "duration": 0,
    "start_time": "2022-04-03T07:47:17.433Z"
   },
   {
    "duration": 0,
    "start_time": "2022-04-03T07:47:17.434Z"
   },
   {
    "duration": 0,
    "start_time": "2022-04-03T07:47:17.435Z"
   },
   {
    "duration": 0,
    "start_time": "2022-04-03T07:47:17.437Z"
   },
   {
    "duration": 0,
    "start_time": "2022-04-03T07:47:17.438Z"
   },
   {
    "duration": 0,
    "start_time": "2022-04-03T07:47:17.440Z"
   },
   {
    "duration": 0,
    "start_time": "2022-04-03T07:47:17.442Z"
   },
   {
    "duration": 0,
    "start_time": "2022-04-03T07:47:17.478Z"
   },
   {
    "duration": 0,
    "start_time": "2022-04-03T07:47:17.479Z"
   },
   {
    "duration": 0,
    "start_time": "2022-04-03T07:47:17.480Z"
   },
   {
    "duration": 0,
    "start_time": "2022-04-03T07:47:17.482Z"
   },
   {
    "duration": 0,
    "start_time": "2022-04-03T07:47:17.487Z"
   },
   {
    "duration": 0,
    "start_time": "2022-04-03T07:47:17.489Z"
   },
   {
    "duration": 0,
    "start_time": "2022-04-03T07:47:17.493Z"
   },
   {
    "duration": 0,
    "start_time": "2022-04-03T07:47:17.494Z"
   },
   {
    "duration": 0,
    "start_time": "2022-04-03T07:47:17.496Z"
   },
   {
    "duration": 0,
    "start_time": "2022-04-03T07:47:17.498Z"
   },
   {
    "duration": 0,
    "start_time": "2022-04-03T07:47:17.499Z"
   },
   {
    "duration": 0,
    "start_time": "2022-04-03T07:47:17.501Z"
   },
   {
    "duration": 0,
    "start_time": "2022-04-03T07:47:17.503Z"
   },
   {
    "duration": 0,
    "start_time": "2022-04-03T07:47:17.504Z"
   },
   {
    "duration": 0,
    "start_time": "2022-04-03T07:47:17.506Z"
   },
   {
    "duration": 0,
    "start_time": "2022-04-03T07:47:17.507Z"
   },
   {
    "duration": 0,
    "start_time": "2022-04-03T07:47:17.508Z"
   },
   {
    "duration": 0,
    "start_time": "2022-04-03T07:47:17.509Z"
   },
   {
    "duration": 0,
    "start_time": "2022-04-03T07:47:17.511Z"
   },
   {
    "duration": 0,
    "start_time": "2022-04-03T07:47:17.512Z"
   },
   {
    "duration": 4,
    "start_time": "2022-04-03T07:47:55.318Z"
   },
   {
    "duration": 498,
    "start_time": "2022-04-03T07:47:55.324Z"
   },
   {
    "duration": 5,
    "start_time": "2022-04-03T07:47:55.824Z"
   },
   {
    "duration": 990,
    "start_time": "2022-04-03T07:47:55.832Z"
   },
   {
    "duration": 405,
    "start_time": "2022-04-03T07:47:56.824Z"
   },
   {
    "duration": 254,
    "start_time": "2022-04-03T07:47:57.231Z"
   },
   {
    "duration": 326,
    "start_time": "2022-04-03T07:47:57.488Z"
   },
   {
    "duration": 24,
    "start_time": "2022-04-03T07:47:57.816Z"
   },
   {
    "duration": 6,
    "start_time": "2022-04-03T07:47:57.845Z"
   },
   {
    "duration": 56,
    "start_time": "2022-04-03T07:47:57.874Z"
   },
   {
    "duration": 0,
    "start_time": "2022-04-03T07:47:57.934Z"
   },
   {
    "duration": 0,
    "start_time": "2022-04-03T07:47:57.936Z"
   },
   {
    "duration": 0,
    "start_time": "2022-04-03T07:47:57.938Z"
   },
   {
    "duration": 0,
    "start_time": "2022-04-03T07:47:57.940Z"
   },
   {
    "duration": 0,
    "start_time": "2022-04-03T07:47:57.943Z"
   },
   {
    "duration": 0,
    "start_time": "2022-04-03T07:47:57.945Z"
   },
   {
    "duration": 0,
    "start_time": "2022-04-03T07:47:57.974Z"
   },
   {
    "duration": 0,
    "start_time": "2022-04-03T07:47:57.979Z"
   },
   {
    "duration": 0,
    "start_time": "2022-04-03T07:47:57.981Z"
   },
   {
    "duration": 0,
    "start_time": "2022-04-03T07:47:57.986Z"
   },
   {
    "duration": 0,
    "start_time": "2022-04-03T07:47:57.987Z"
   },
   {
    "duration": 0,
    "start_time": "2022-04-03T07:47:57.989Z"
   },
   {
    "duration": 0,
    "start_time": "2022-04-03T07:47:57.992Z"
   },
   {
    "duration": 0,
    "start_time": "2022-04-03T07:47:57.994Z"
   },
   {
    "duration": 0,
    "start_time": "2022-04-03T07:47:57.996Z"
   },
   {
    "duration": 0,
    "start_time": "2022-04-03T07:47:57.998Z"
   },
   {
    "duration": 0,
    "start_time": "2022-04-03T07:47:57.999Z"
   },
   {
    "duration": 0,
    "start_time": "2022-04-03T07:47:58.001Z"
   },
   {
    "duration": 0,
    "start_time": "2022-04-03T07:47:58.002Z"
   },
   {
    "duration": 0,
    "start_time": "2022-04-03T07:47:58.003Z"
   },
   {
    "duration": 0,
    "start_time": "2022-04-03T07:47:58.005Z"
   },
   {
    "duration": 0,
    "start_time": "2022-04-03T07:47:58.006Z"
   },
   {
    "duration": 0,
    "start_time": "2022-04-03T07:47:58.007Z"
   },
   {
    "duration": 0,
    "start_time": "2022-04-03T07:47:58.008Z"
   },
   {
    "duration": 0,
    "start_time": "2022-04-03T07:47:58.010Z"
   },
   {
    "duration": 0,
    "start_time": "2022-04-03T07:47:58.011Z"
   },
   {
    "duration": 0,
    "start_time": "2022-04-03T07:47:58.013Z"
   },
   {
    "duration": 0,
    "start_time": "2022-04-03T07:47:58.014Z"
   },
   {
    "duration": 0,
    "start_time": "2022-04-03T07:47:58.015Z"
   },
   {
    "duration": 502,
    "start_time": "2022-04-03T07:48:04.309Z"
   },
   {
    "duration": 4,
    "start_time": "2022-04-03T07:49:09.830Z"
   },
   {
    "duration": 535,
    "start_time": "2022-04-03T07:49:09.837Z"
   },
   {
    "duration": 5,
    "start_time": "2022-04-03T07:49:10.380Z"
   },
   {
    "duration": 1027,
    "start_time": "2022-04-03T07:49:10.388Z"
   },
   {
    "duration": 304,
    "start_time": "2022-04-03T07:49:11.419Z"
   },
   {
    "duration": 388,
    "start_time": "2022-04-03T07:49:11.726Z"
   },
   {
    "duration": 332,
    "start_time": "2022-04-03T07:49:12.116Z"
   },
   {
    "duration": 38,
    "start_time": "2022-04-03T07:49:12.450Z"
   },
   {
    "duration": 13,
    "start_time": "2022-04-03T07:49:12.491Z"
   },
   {
    "duration": 345,
    "start_time": "2022-04-03T07:49:12.506Z"
   },
   {
    "duration": 67,
    "start_time": "2022-04-03T07:49:12.854Z"
   },
   {
    "duration": 6,
    "start_time": "2022-04-03T07:49:12.923Z"
   },
   {
    "duration": 112,
    "start_time": "2022-04-03T07:49:12.931Z"
   },
   {
    "duration": 4,
    "start_time": "2022-04-03T07:49:13.050Z"
   },
   {
    "duration": 74,
    "start_time": "2022-04-03T07:49:13.056Z"
   },
   {
    "duration": 18,
    "start_time": "2022-04-03T07:49:13.133Z"
   },
   {
    "duration": 35,
    "start_time": "2022-04-03T07:49:13.153Z"
   },
   {
    "duration": 13,
    "start_time": "2022-04-03T07:49:13.190Z"
   },
   {
    "duration": 10,
    "start_time": "2022-04-03T07:49:13.205Z"
   },
   {
    "duration": 7,
    "start_time": "2022-04-03T07:49:13.217Z"
   },
   {
    "duration": 13,
    "start_time": "2022-04-03T07:49:13.226Z"
   },
   {
    "duration": 48,
    "start_time": "2022-04-03T07:49:13.241Z"
   },
   {
    "duration": 10,
    "start_time": "2022-04-03T07:49:13.292Z"
   },
   {
    "duration": 14,
    "start_time": "2022-04-03T07:49:13.305Z"
   },
   {
    "duration": 76,
    "start_time": "2022-04-03T07:49:13.322Z"
   },
   {
    "duration": 6,
    "start_time": "2022-04-03T07:49:13.400Z"
   },
   {
    "duration": 7,
    "start_time": "2022-04-03T07:49:13.408Z"
   },
   {
    "duration": 64,
    "start_time": "2022-04-03T07:49:13.417Z"
   },
   {
    "duration": 9,
    "start_time": "2022-04-03T07:49:13.483Z"
   },
   {
    "duration": 363,
    "start_time": "2022-04-03T07:49:13.495Z"
   },
   {
    "duration": 55,
    "start_time": "2022-04-03T07:49:13.860Z"
   },
   {
    "duration": 1214,
    "start_time": "2022-04-03T07:49:13.918Z"
   },
   {
    "duration": 285,
    "start_time": "2022-04-03T07:49:15.134Z"
   },
   {
    "duration": 220,
    "start_time": "2022-04-03T07:49:15.422Z"
   },
   {
    "duration": 33,
    "start_time": "2022-04-03T07:49:15.644Z"
   },
   {
    "duration": 222,
    "start_time": "2022-04-03T07:49:15.680Z"
   },
   {
    "duration": 18,
    "start_time": "2022-04-03T07:49:15.905Z"
   },
   {
    "duration": 238,
    "start_time": "2022-04-03T07:49:15.926Z"
   },
   {
    "duration": 353,
    "start_time": "2022-04-03T07:49:16.167Z"
   },
   {
    "duration": 373,
    "start_time": "2022-04-03T07:51:36.465Z"
   },
   {
    "duration": 468,
    "start_time": "2022-04-03T07:51:50.494Z"
   },
   {
    "duration": 4,
    "start_time": "2022-04-03T07:52:08.619Z"
   }
  ],
  "kernelspec": {
   "display_name": "Python 3 (ipykernel)",
   "language": "python",
   "name": "python3"
  },
  "language_info": {
   "codemirror_mode": {
    "name": "ipython",
    "version": 3
   },
   "file_extension": ".py",
   "mimetype": "text/x-python",
   "name": "python",
   "nbconvert_exporter": "python",
   "pygments_lexer": "ipython3",
   "version": "3.9.5"
  },
  "toc": {
   "base_numbering": 1,
   "nav_menu": {},
   "number_sections": true,
   "sideBar": true,
   "skip_h1_title": true,
   "title_cell": "Table of Contents",
   "title_sidebar": "Contents",
   "toc_cell": false,
   "toc_position": {
    "height": "calc(100% - 180px)",
    "left": "10px",
    "top": "150px",
    "width": "217.682px"
   },
   "toc_section_display": true,
   "toc_window_display": true
  }
 },
 "nbformat": 4,
 "nbformat_minor": 2
}
